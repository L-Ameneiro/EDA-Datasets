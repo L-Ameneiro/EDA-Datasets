{
 "cells": [
  {
   "cell_type": "code",
   "execution_count": 2,
   "metadata": {},
   "outputs": [
    {
     "ename": "OptionError",
     "evalue": "No such keys(s): 'display.maX_scal_seq_items'",
     "output_type": "error",
     "traceback": [
      "\u001b[1;31m---------------------------------------------------------------------------\u001b[0m",
      "\u001b[1;31mOptionError\u001b[0m                               Traceback (most recent call last)",
      "\u001b[1;32mc:\\Users\\Usuario\\Desktop\\data science\\EDA-datasets\\notebooks\\consumo_energetico_mundial.ipynb Celda 1\u001b[0m line \u001b[0;36m6\n\u001b[0;32m      <a href='vscode-notebook-cell:/c%3A/Users/Usuario/Desktop/data%20science/EDA-datasets/notebooks/consumo_energetico_mundial.ipynb#W0sZmlsZQ%3D%3D?line=3'>4</a>\u001b[0m pd\u001b[39m.\u001b[39mset_option(\u001b[39m'\u001b[39m\u001b[39mdisplay.max_columns\u001b[39m\u001b[39m'\u001b[39m, \u001b[39m500\u001b[39m)\n\u001b[0;32m      <a href='vscode-notebook-cell:/c%3A/Users/Usuario/Desktop/data%20science/EDA-datasets/notebooks/consumo_energetico_mundial.ipynb#W0sZmlsZQ%3D%3D?line=4'>5</a>\u001b[0m pd\u001b[39m.\u001b[39mset_option(\u001b[39m'\u001b[39m\u001b[39mdisplay.width\u001b[39m\u001b[39m'\u001b[39m, \u001b[39m150\u001b[39m)\n\u001b[1;32m----> <a href='vscode-notebook-cell:/c%3A/Users/Usuario/Desktop/data%20science/EDA-datasets/notebooks/consumo_energetico_mundial.ipynb#W0sZmlsZQ%3D%3D?line=5'>6</a>\u001b[0m pd\u001b[39m.\u001b[39mset_option(\u001b[39m'\u001b[39m\u001b[39mdisplay.maX_scal_seq_items\u001b[39m\u001b[39m'\u001b[39m, \u001b[39mNone\u001b[39;00m)\n\u001b[0;32m      <a href='vscode-notebook-cell:/c%3A/Users/Usuario/Desktop/data%20science/EDA-datasets/notebooks/consumo_energetico_mundial.ipynb#W0sZmlsZQ%3D%3D?line=6'>7</a>\u001b[0m \u001b[39mimport\u001b[39;00m \u001b[39mmatplotlib\u001b[39;00m\u001b[39m.\u001b[39;00m\u001b[39mpyplot\u001b[39;00m \u001b[39mas\u001b[39;00m \u001b[39mplt\u001b[39;00m\n\u001b[0;32m      <a href='vscode-notebook-cell:/c%3A/Users/Usuario/Desktop/data%20science/EDA-datasets/notebooks/consumo_energetico_mundial.ipynb#W0sZmlsZQ%3D%3D?line=7'>8</a>\u001b[0m \u001b[39mimport\u001b[39;00m \u001b[39mseaborn\u001b[39;00m \u001b[39mas\u001b[39;00m \u001b[39msns\u001b[39;00m\n",
      "File \u001b[1;32mc:\\ProgramData\\anaconda3\\Lib\\site-packages\\pandas\\_config\\config.py:263\u001b[0m, in \u001b[0;36mCallableDynamicDoc.__call__\u001b[1;34m(self, *args, **kwds)\u001b[0m\n\u001b[0;32m    262\u001b[0m \u001b[39mdef\u001b[39;00m \u001b[39m__call__\u001b[39m(\u001b[39mself\u001b[39m, \u001b[39m*\u001b[39margs, \u001b[39m*\u001b[39m\u001b[39m*\u001b[39mkwds) \u001b[39m-\u001b[39m\u001b[39m>\u001b[39m T:\n\u001b[1;32m--> 263\u001b[0m     \u001b[39mreturn\u001b[39;00m \u001b[39mself\u001b[39m\u001b[39m.\u001b[39m\u001b[39m__func__\u001b[39m(\u001b[39m*\u001b[39margs, \u001b[39m*\u001b[39m\u001b[39m*\u001b[39mkwds)\n",
      "File \u001b[1;32mc:\\ProgramData\\anaconda3\\Lib\\site-packages\\pandas\\_config\\config.py:156\u001b[0m, in \u001b[0;36m_set_option\u001b[1;34m(*args, **kwargs)\u001b[0m\n\u001b[0;32m    153\u001b[0m     \u001b[39mraise\u001b[39;00m \u001b[39mTypeError\u001b[39;00m(\u001b[39mf\u001b[39m\u001b[39m'\u001b[39m\u001b[39m_set_option() got an unexpected keyword argument \u001b[39m\u001b[39m\"\u001b[39m\u001b[39m{\u001b[39;00mkwarg\u001b[39m}\u001b[39;00m\u001b[39m\"\u001b[39m\u001b[39m'\u001b[39m)\n\u001b[0;32m    155\u001b[0m \u001b[39mfor\u001b[39;00m k, v \u001b[39min\u001b[39;00m \u001b[39mzip\u001b[39m(args[::\u001b[39m2\u001b[39m], args[\u001b[39m1\u001b[39m::\u001b[39m2\u001b[39m]):\n\u001b[1;32m--> 156\u001b[0m     key \u001b[39m=\u001b[39m _get_single_key(k, silent)\n\u001b[0;32m    158\u001b[0m     o \u001b[39m=\u001b[39m _get_registered_option(key)\n\u001b[0;32m    159\u001b[0m     \u001b[39mif\u001b[39;00m o \u001b[39mand\u001b[39;00m o\u001b[39m.\u001b[39mvalidator:\n",
      "File \u001b[1;32mc:\\ProgramData\\anaconda3\\Lib\\site-packages\\pandas\\_config\\config.py:121\u001b[0m, in \u001b[0;36m_get_single_key\u001b[1;34m(pat, silent)\u001b[0m\n\u001b[0;32m    119\u001b[0m     \u001b[39mif\u001b[39;00m \u001b[39mnot\u001b[39;00m silent:\n\u001b[0;32m    120\u001b[0m         _warn_if_deprecated(pat)\n\u001b[1;32m--> 121\u001b[0m     \u001b[39mraise\u001b[39;00m OptionError(\u001b[39mf\u001b[39m\u001b[39m\"\u001b[39m\u001b[39mNo such keys(s): \u001b[39m\u001b[39m{\u001b[39;00m\u001b[39mrepr\u001b[39m(pat)\u001b[39m}\u001b[39;00m\u001b[39m\"\u001b[39m)\n\u001b[0;32m    122\u001b[0m \u001b[39mif\u001b[39;00m \u001b[39mlen\u001b[39m(keys) \u001b[39m>\u001b[39m \u001b[39m1\u001b[39m:\n\u001b[0;32m    123\u001b[0m     \u001b[39mraise\u001b[39;00m OptionError(\u001b[39m\"\u001b[39m\u001b[39mPattern matched multiple keys\u001b[39m\u001b[39m\"\u001b[39m)\n",
      "\u001b[1;31mOptionError\u001b[0m: No such keys(s): 'display.maX_scal_seq_items'"
     ]
    }
   ],
   "source": [
    "import pandas as pd\n",
    "import numpy as np\n",
    "pd.set_option('display.max_rows', 500)\n",
    "pd.set_option('display.max_columns', 500)\n",
    "pd.set_option('display.width', 150)\n",
    "pd.set_option('display.maX_scal_seq_items', None)\n",
    "import matplotlib.pyplot as plt\n",
    "import seaborn as sns\n"
   ]
  },
  {
   "cell_type": "code",
   "execution_count": null,
   "metadata": {},
   "outputs": [],
   "source": [
    "wec = pd.read_csv(r'..\\\\datasets\\\\World_Energy_Consumption.csv')  "
   ]
  },
  {
   "cell_type": "code",
   "execution_count": null,
   "metadata": {},
   "outputs": [],
   "source": [
    "forma = wec.shape\n",
    "f\"El dataset tiene {forma[0]} filas y {forma[1]} columnas\""
   ]
  },
  {
   "cell_type": "code",
   "execution_count": null,
   "metadata": {},
   "outputs": [],
   "source": [
    "dupl = wec.duplicated()\n",
    "print(dupl.value_counts())"
   ]
  },
  {
   "cell_type": "code",
   "execution_count": null,
   "metadata": {},
   "outputs": [],
   "source": [
    "print(wec.columns)"
   ]
  },
  {
   "cell_type": "code",
   "execution_count": null,
   "metadata": {},
   "outputs": [],
   "source": [
    "# Se observan cuántos valores faltantes tiene cada columna:\n",
    "missing_values = wec.isnull().sum().sort_values(ascending = False) \n",
    "        # datos faltantes ordenados de mayor a menor\n",
    "        # según la columna\n",
    "missing_values"
   ]
  },
  {
   "cell_type": "code",
   "execution_count": null,
   "metadata": {},
   "outputs": [],
   "source": [
    "# visualización de valores faltantes\n",
    "plt.figure(figsize=(10, 6))\n",
    "sns.heatmap(wec.isnull(), cmap='viridis', cbar=False)\n",
    "plt.title('Valores Faltantes en el DataFrame')\n",
    "plt.show()"
   ]
  },
  {
   "cell_type": "code",
   "execution_count": null,
   "metadata": {},
   "outputs": [],
   "source": [
    "# Creamos un nuevo dataframe solo con países de sudamerica\n",
    "suram = wec[(wec['iso_code'] == \"ARG\") | (wec['iso_code'] == \"ECU\") | (wec['iso_code'] == \"GUY\") | (wec['iso_code'] == \"PER\") | (wec['iso_code'] == \"GUF\") |(wec['iso_code'] == \"URY\") | (wec['iso_code'] == \"PRY\") | (wec['iso_code'] == \"BOL\")  | (wec['iso_code'] == \"SUR\")  | (wec['iso_code'] == \"TTO\") | (wec['iso_code'] == \"BRA\")| (wec['iso_code'] == \"CHL\") | (wec['iso_code'] == \"COL\") | (wec['iso_code'] == \"VEN\")]"
   ]
  },
  {
   "cell_type": "code",
   "execution_count": null,
   "metadata": {},
   "outputs": [],
   "source": [
    "suram.shape ## Se verifica la cantidad de fila"
   ]
  },
  {
   "cell_type": "code",
   "execution_count": null,
   "metadata": {},
   "outputs": [],
   "source": [
    "suram.select_dtypes(include=np.number)"
   ]
  },
  {
   "cell_type": "code",
   "execution_count": null,
   "metadata": {},
   "outputs": [],
   "source": [
    "n_suram = suram.select_dtypes(include=np.number)"
   ]
  },
  {
   "cell_type": "code",
   "execution_count": null,
   "metadata": {},
   "outputs": [],
   "source": [
    "a = n_suram.groupby([\"iso_code\"]).mean()\n",
    "a"
   ]
  },
  {
   "cell_type": "code",
   "execution_count": null,
   "metadata": {},
   "outputs": [],
   "source": [
    "# Se observan cuántos valores faltantes tiene cada columna:\n",
    "missing_values_suram = suram.isnull().sum().sort_values(ascending = False) \n",
    "        # datos faltantes ordenados de mayor a menor\n",
    "        # según la columna\n",
    "missing_values_suram.groupby([\"iso_code\"])"
   ]
  },
  {
   "cell_type": "code",
   "execution_count": null,
   "metadata": {},
   "outputs": [],
   "source": [
    "# visualización de valores faltantes\n",
    "plt.figure(figsize=(10, 6))\n",
    "sns.heatmap(suram.isnull(), cmap='viridis', cbar=False)\n",
    "plt.title('Valores Faltantes en el DataFrame')\n",
    "plt.show()"
   ]
  },
  {
   "cell_type": "markdown",
   "metadata": {},
   "source": [
    "## Columns and their description\n",
    "column \tdescription\n",
    "iso_code \tISO 3166-1 alpha-3 three-letter country codes\n",
    "country \tGeographic location\n",
    "year \tYear of observation\n",
    "coal_prod_change_pct \tAnnual percentage change in coal production\n",
    "coal_prod_change_twh \tAnnual change in coal production, measured in terawatt-hours\n",
    "gas_prod_change_pct \tAnnual percentage change in gas production\n",
    "gas_prod_change_twh \tAnnual change in gas production, measured in terawatt-hours\n",
    "oil_prod_change_pct \tAnnual percentage change in oil production\n",
    "oil_prod_change_twh \tAnnual change in oil production, measured in terawatt-hours\n",
    "energy_cons_change_pct \tAnnual percentage change in primary energy consumption\n",
    "energy_cons_change_twh \tAnnual change in primary energy consumption, measured in terawatt-hours\n",
    "biofuel_share_elec \tShare of electricity consumption that comes from biofuels\n",
    "biofuel_cons_change_pct \tAnnual percentage change in biofuel consumption\n",
    "biofuel_share_energy \tShare of primary energy consumption that comes from biofuels\n",
    "biofuel_cons_change_twh \tAnnual change in biofuel consumption, measured in terawatt-hours\n",
    "biofuel_consumption \tPrimary energy consumption from biofuels, measured in terawatt-hours\n",
    "biofuel_elec_per_capita \tPer capita electricity consumption from biofuels, measured in kilowatt-hours\n",
    "biofuel_cons_per_capita \tPer capita primary energy consumption from biofuels, measured in kilowatt-hours\n",
    "carbon_intensity_elec \tCarbon intensity of electricity production, measured in grams of carbon dioxide emitted per kilowatt-hour\n",
    "coal_share_elec \tShare of electricity consumption that comes from coal\n",
    "coal_cons_change_pct \tAnnual percentage change in coal consumption\n",
    "coal_share_energy \tShare of primary energy consumption that comes from coal\n",
    "coal_cons_change_twh \tAnnual change in coal consumption, measured in terawatt-hours\n",
    "coal_consumption \tPrimary energy consumption from coal, measured in terawatt-hours\n",
    "coal_elec_per_capita \tPer capita electricity consumption from coal, measured in kilowatt-hours\n",
    "coal_cons_per_capita \tPer capita primary energy consumption from coal, measured in kilowatt-hours\n",
    "coal_production \tCoal production, measured in terawatt-hours\n",
    "coal_prod_per_capita \tPer capita coal production, measured in kilowatt-hours\n",
    "electricity_generation \tElectricity generation, measured in terawatt-hours\n",
    "biofuel_electricity \tElectricity generation from biofuels, measured in terawatt-hours\n",
    "coal_electricity \tElectricity generation from coal, measured in terawatt-hours\n",
    "fossil_electricity \tElectricity generation from fossil fuels, measured in terawatt-hours. This is the sum of electricity generation from coal, oil and gas.\n",
    "gas_electricity \tElectricity generation from gas, measured in terawatt-hours\n",
    "hydro_electricity \tElectricity generation from hydropower, measured in terawatt-hours\n",
    "nuclear_electricity \tElectricity generation from nuclear power, measured in terawatt-hours\n",
    "oil_electricity \tElectricity generation from oil, measured in terawatt-hours\n",
    "other_renewable_electricity \tElectricity generation from other renewable sources, measured in terawatt-hours\n",
    "other_renewable_exc_biofuel_electricity \tElectricity generation from other renewable sources excluding biofuels, measured in terawatt-hours\n",
    "renewables_electricity \tElectricity generation from renewables, measured in terawatt-hours\n",
    "solar_electricity \tElectricity generation from solar, measured in terawatt-hours\n",
    "wind_electricity \tElectricity generation from wind, measured in terawatt-hours\n",
    "energy_per_gdp \tEnergy consumption per unit of GDP. This is measured in kilowatt-hours per 2011 international-$.\n",
    "energy_per_capita \tPrimary energy consumption per capita, measured in kilowatt-hours per year\n",
    "fossil_cons_change_pct \tAnnual percentage change in fossil fuel consumption\n",
    "fossil_share_energy \tShare of primary energy consumption that comes from fossil fuels\n",
    "fossil_cons_change_twh \tAnnual change in fossil fuel consumption, measured in terawatt-hours\n",
    "fossil_fuel_consumption \tFossil fuel consumption, measured in terawatt-hours. This is the sum of primary energy from coal, oil and gas.\n",
    "fossil_energy_per_capita \tPer capita fossil fuel consumption, measured in kilowatt-hours. This is the sum of primary energy from coal, oil and gas.\n",
    "fossil_cons_per_capita \tPer capita fossil fuel consumption, measured in kilowatt-hours. This is the sum of primary energy from coal, oil and gas.\n",
    "fossil_share_elec \tShare of electricity consumption that comes from fossil fuels (coal, oil and gas combined)\n",
    "gas_share_elec \tShare of electricity consumption that comes from gas\n",
    "gas_cons_change_pct \tAnnual percentage change in gas consumption\n",
    "gas_share_energy \tShare of primary energy consumption that comes from gas\n",
    "gas_cons_change_twh \tAnnual change in gas consumption, measured in terawatt-hours\n",
    "gas_consumption \tPrimary energy consumption from gas, measured in terawatt-hours\n",
    "gas_elec_per_capita \tPer capita electricity consumption from gas, measured in kilowatt-hours\n",
    "gas_energy_per_capita \tPer capita primary energy consumption from gas, measured in kilowatt-hours\n",
    "gas_production \tGas production, measured in terawatt-hours\n",
    "gas_prod_per_capita \tPer capita gas production, measured in kilowatt-hours\n",
    "hydro_share_elec \tShare of electricity consumption that comes from hydropower\n",
    "hydro_cons_change_pct \tAnnual percentage change in hydropower consumption\n",
    "hydro_share_energy \tShare of primary energy consumption that comes from hydropower\n",
    "hydro_cons_change_twh \tAnnual change in hydropower consumption, measured in terawatt-hours\n",
    "hydro_consumption \tPrimary energy consumption from hydropower, measured in terawatt-hours\n",
    "hydro_elec_per_capita \tPer capita electricity consumption from hydropower, measured in kilowatt-hours\n",
    "hydro_energy_per_capita \tPer capita primary energy consumption from hydropower, measured in kilowatt-hours\n",
    "low_carbon_share_elec \tShare of electricity consumption that comes from low-carbon sources. This is the sum of electricity from renewables and nuclear\n",
    "low_carbon_electricity \tElectricity generation from low-carbon sources, measured in terawatt-hours. This is the sum of electricity generation from renewables and nuclear power\n",
    "low_carbon_elec_per_capita \tPer capita electricity consumption from low-carbon sources, measured in kilowatt-hours\n",
    "low_carbon_cons_change_pct \tAnnual percentage change in low-carbon energy consumption\n",
    "low_carbon_share_energy \tShare of primary energy consumption that comes from low-carbon sources. This is the sum of primary energy from renewables and nuclear\n",
    "low_carbon_cons_change_twh \tAnnual change in low-carbon energy consumption, measured in terawatt-hours\n",
    "low_carbon_consumption \tPrimary energy consumption from low-carbon sources, measured in terawatt-hours\n",
    "low_carbon_energy_per_capita \tPer capita primary energy consumption from low-carbon sources, measured in kilowatt-hours\n",
    "nuclear_share_elec \tShare of electricity consumption that comes from nuclear power\n",
    "nuclear_cons_change_pct \tAnnual percentage change in nuclear consumption\n",
    "nuclear_share_energy \tShare of primary energy consumption that comes from nuclear power\n",
    "nuclear_cons_change_twh \tAnnual change in nuclear consumption, measured in terawatt-hours\n",
    "nuclear_consumption \tPrimary energy consumption from nuclear power, measured in terawatt-hours\n",
    "nuclear_elec_per_capita \tPer capita electricity consumption from nuclear power, measured in kilowatt-hours\n",
    "nuclear_energy_per_capita \tPer capita primary energy consumption from nuclear, measured in kilowatt-hours\n",
    "oil_share_elec \tShare of electricity consumption that comes from oil\n",
    "oil_cons_change_pct \tAnnual percentage change in oil consumption\n",
    "oil_share_energy \tShare of primary energy consumption that comes from oil\n",
    "oil_cons_change_twh \tAnnual change in oil consumption, measured in terawatt-hours\n",
    "oil_consumption \tPrimary energy consumption from oil, measured in terawatt-hours\n",
    "oil_elec_per_capita \tPrimary energy consumption from oil, measured in terawatt-hours\n",
    "oil_energy_per_capita \tPer capita primary energy consumption from oil, measured in kilowatt-hours\n",
    "oil_production \tOil production, measured in terawatt-hours\n",
    "oil_prod_per_capita \tPer capita oil production, measured in kilowatt-hours\n",
    "other_renewables_elec_per_capita \tPer capita electricity consumption from other renewables, measured in kilowatt-hours\n",
    "other_renewables_share_elec \tShare of electricity consumption that comes from other renewables\n",
    "other_renewables_cons_change_pct \tAnnual percentage change in energy consumption from other renewables\n",
    "other_renewables_share_energy \tShare of primary energy consumption that comes from other renewables\n",
    "other_renewables_cons_change_twh \tAnnual change in other renewable consumption, measured in terawatt-hours\n",
    "other_renewable_consumption \tPrimary energy consumption from other renewables, measured in terawatt-hours\n",
    "other_renewables_energy_per_capita \tPer capita primary energy consumption from other renewables, measured in kilowatt-hours\n",
    "per_capita_electricity \tElectricity consumption per capita, measured in kilowatt-hours\n",
    "population \tTotal population\n",
    "primary_energy_consumption \tPrimary energy consumption, measured in terawatt-hours\n",
    "renewables_elec_per_capita \tPer capita primary energy consumption from renewables, measured in kilowatt-hours\n",
    "renewables_share_elec \tShare of electricity consumption that comes from renewables\n",
    "renewables_cons_change_pct \tAnnual percentage change in renewable energy consumption\n",
    "renewables_share_energy \tShare of primary energy consumption that comes from renewables\n",
    "renewables_cons_change_twh \tAnnual change in renewable energy consumption, measured in terawatt-hours\n",
    "renewables_consumption \tPrimary energy consumption from renewables, measured in terawatt-hours\n",
    "renewables_energy_per_capita \tPer capita electricity consumption from renewables, measured in kilowatt-hours\n",
    "solar_share_elec \tShare of electricity consumption that comes from solar\n",
    "solar_cons_change_pct \tAnnual percentage change in solar consumption\n",
    "solar_share_energy \tShare of primary energy consumption that comes from solar\n",
    "solar_cons_change_twh \tAnnual change in solar consumption, measured in terawatt-hours\n",
    "solar_consumption \tPrimary energy consumption from solar, measured in terawatt-hours\n",
    "solar_elec_per_capita \tPer capita electricity consumption from solar, measured in kilowatt-hours\n",
    "solar_energy_per_capita \tPer capita primary energy consumption from solar, measured in kilowatt-hours\n",
    "gdp \tTotal real gross domestic product, inflation-adjusted\n",
    "wind_share_elec \tShare of electricity consumption that comes from wind\n",
    "wind_cons_change_pct \tAnnual percentage change in wind consumption\n",
    "wind_share_energy \tShare of primary energy consumption that comes from wind\n",
    "wind_cons_change_twh \tAnnual change in wind consumption, measured in terawatt-hours\n",
    "wind_consumption \tPrimary energy consumption from wind, measured in terawatt-hours\n",
    "wind_elec_per_capita \tPer capita electricity consumption from wind, measured in kilowatt-hours\n",
    "wind_energy_per_capita \tPer capita primary energy consumption from wind, measured in kilowatt-hours"
   ]
  },
  {
   "cell_type": "code",
   "execution_count": null,
   "metadata": {},
   "outputs": [],
   "source": [
    "graf = suram.groupby(\"country\")[\"energy_per_capita\"].mean().reset_index().sort_values(\"energy_per_capita\", ascending=False)\n"
   ]
  },
  {
   "cell_type": "code",
   "execution_count": null,
   "metadata": {},
   "outputs": [],
   "source": [
    "sns.barplot(x='country', y=\"energy_per_capita\", data=graf, palette=\"viridis\")\n",
    "plt.suptitle('Consumo energético per cápita')\n",
    "plt.xticks(rotation=70, fontsize=8)\n",
    "plt.show()"
   ]
  },
  {
   "cell_type": "code",
   "execution_count": null,
   "metadata": {},
   "outputs": [],
   "source": [
    "# filtro de paises\n",
    "paises = ['Egypt','Saudi Arabia','United Kingdom','France','Germany','United States','Japan','India', \"Argentina\", \"Brazil\", \"Chile\", \"Bolivia\"]\n",
    "#filter columns\n",
    "seleccion =wec.loc[wec['country'].isin(paises)]"
   ]
  },
  {
   "cell_type": "code",
   "execution_count": null,
   "metadata": {},
   "outputs": [],
   "source": [
    "seleccion.shape"
   ]
  },
  {
   "cell_type": "code",
   "execution_count": null,
   "metadata": {},
   "outputs": [],
   "source": [
    "# visualización de valores faltantes\n",
    "plt.figure(figsize=(10, 6))\n",
    "sns.heatmap(seleccion.isnull(), cmap='viridis', cbar=False)\n",
    "plt.title('Valores Faltantes en el DataFrame')\n",
    "plt.show()"
   ]
  },
  {
   "cell_type": "code",
   "execution_count": null,
   "metadata": {},
   "outputs": [],
   "source": [
    "graf2 = seleccion.groupby(\"country\")[\"energy_per_capita\"].mean().reset_index().sort_values(\"energy_per_capita\", ascending=False)\n",
    "\n"
   ]
  },
  {
   "cell_type": "code",
   "execution_count": null,
   "metadata": {},
   "outputs": [],
   "source": [
    "sns.barplot(x='country', y=\"energy_per_capita\", data=graf2, palette=\"viridis\")\n",
    "plt.suptitle('Consumo energético per cápita')\n",
    "plt.xticks(rotation=70, fontsize=8)\n",
    "plt.show()"
   ]
  },
  {
   "cell_type": "code",
   "execution_count": null,
   "metadata": {},
   "outputs": [],
   "source": [
    "nulls=suram.isna().sum()\n",
    "for i in nulls.index:\n",
    "    if nulls[i]>0:\n",
    "        suram[i].ffill(inplace=True)\n",
    "        suram[i].bfill(inplace=True)\n",
    "suram.isna().sum()\n"
   ]
  },
  {
   "cell_type": "code",
   "execution_count": null,
   "metadata": {},
   "outputs": [],
   "source": [
    "nulls2=wec.isna().sum()\n",
    "for i in nulls2.index:\n",
    "    if nulls2[i]>0:\n",
    "        wec[i].ffill(inplace=True)\n",
    "        wec[i].bfill(inplace=True)\n",
    "wec.isna().sum()"
   ]
  },
  {
   "cell_type": "code",
   "execution_count": null,
   "metadata": {},
   "outputs": [],
   "source": [
    "nulls2=wec.isna().sum()\n",
    "for i in nulls2.index:\n",
    "    if nulls2[i]>0:\n",
    "        wec[i].ffill(inplace=True)\n",
    "        wec[i].bfill(inplace=True)\n",
    "wec.isna().sum()\n"
   ]
  },
  {
   "cell_type": "code",
   "execution_count": null,
   "metadata": {},
   "outputs": [],
   "source": [
    "graf3 = suram.groupby(\"country\")[\"energy_per_capita\"].mean().reset_index().sort_values(\"energy_per_capita\", ascending=False)\n"
   ]
  },
  {
   "cell_type": "code",
   "execution_count": null,
   "metadata": {},
   "outputs": [],
   "source": [
    "graf"
   ]
  },
  {
   "cell_type": "code",
   "execution_count": null,
   "metadata": {},
   "outputs": [],
   "source": [
    "graf3"
   ]
  },
  {
   "cell_type": "markdown",
   "metadata": {},
   "source": [
    "Recursos:\n",
    "https://www.gem.wiki/Energy_profile:_Trinidad_and_Tobago\n",
    "https://ourworldindata.org/energy/country/trinidad-and-tobago#per-capita-what-is-the-average-energy-consumption-per-person"
   ]
  },
  {
   "cell_type": "markdown",
   "metadata": {},
   "source": [
    "# Consumo de energia per cápita y PBI (todos los países)"
   ]
  },
  {
   "cell_type": "code",
   "execution_count": null,
   "metadata": {},
   "outputs": [],
   "source": [
    "# Calcula la media de 'energy_per_capita' y 'gdp' por país\n",
    "mean_values = wec.groupby('country').agg({'energy_per_capita': 'mean', 'gdp': 'mean'}).reset_index()\n",
    "\n",
    "# Crea un nuevo DataFrame con las medias por país\n",
    "df = pd.DataFrame({'country': mean_values['country'],\n",
    "                          'mean_epc': mean_values['energy_per_capita'],\n",
    "                          'mean_gdp': mean_values['gdp']})"
   ]
  },
  {
   "cell_type": "code",
   "execution_count": null,
   "metadata": {},
   "outputs": [],
   "source": [
    "g1 = mean_values.sort_values(\"energy_per_capita\", ascending=False)"
   ]
  },
  {
   "cell_type": "code",
   "execution_count": null,
   "metadata": {},
   "outputs": [],
   "source": [
    "g1.head(20)"
   ]
  },
  {
   "cell_type": "code",
   "execution_count": null,
   "metadata": {},
   "outputs": [],
   "source": [
    "sns.barplot(x='country', y=\"energy_per_capita\", data=g1, palette=\"viridis\")\n",
    "plt.suptitle('Consumo energético per cápita')\n",
    "plt.xticks(rotation=70, fontsize=8)\n",
    "plt.show()"
   ]
  },
  {
   "cell_type": "markdown",
   "metadata": {},
   "source": [
    "Filtramos los países con población menor a dos desviaciones estándar"
   ]
  },
  {
   "cell_type": "code",
   "execution_count": null,
   "metadata": {},
   "outputs": [],
   "source": [
    "wec.shape"
   ]
  },
  {
   "cell_type": "code",
   "execution_count": null,
   "metadata": {},
   "outputs": [],
   "source": [
    "\n",
    "# Calcular la media y la desviación estándar de la población\n",
    "mean_population = wec['population'].mean()\n",
    "std_population = wec['population'].std()\n",
    "\n",
    "# Filtrar el DataFrame original\n",
    "wec_filtrado = wec[wec['population'] >= (mean_population -  std_population)]\n",
    "wec_filtrado.shape"
   ]
  },
  {
   "cell_type": "code",
   "execution_count": null,
   "metadata": {},
   "outputs": [],
   "source": [
    "# Ordenar el DataFrame por población de forma ascendente\n",
    "wec_sorted = wec.sort_values(by='population')"
   ]
  },
  {
   "cell_type": "code",
   "execution_count": null,
   "metadata": {},
   "outputs": [],
   "source": [
    "wec_sorted"
   ]
  },
  {
   "cell_type": "code",
   "execution_count": null,
   "metadata": {},
   "outputs": [],
   "source": [
    "# Calcula la media de 'energy_per_capita' y 'gdp' por país\n",
    "mean_values3 = wec.groupby('country').agg({'population': 'mean', 'gdp': 'mean'}).reset_index()\n",
    "\n",
    "# Crea un nuevo DataFrame con las medias por país\n",
    "pop = pd.DataFrame({'country': mean_values3['country'],\n",
    "                          'mean_pop': mean_values3['population'],\n",
    "                          'mean_gdp': mean_values3['gdp']})"
   ]
  },
  {
   "cell_type": "code",
   "execution_count": null,
   "metadata": {},
   "outputs": [],
   "source": [
    "pop1 = mean_values3.sort_values(\"population\", ascending=False)\n",
    "pop1.head(20)"
   ]
  },
  {
   "cell_type": "code",
   "execution_count": null,
   "metadata": {},
   "outputs": [],
   "source": [
    "pop1.tail(20)"
   ]
  },
  {
   "cell_type": "code",
   "execution_count": null,
   "metadata": {},
   "outputs": [],
   "source": [
    "sns.barplot(x='country', y=\"population\", data=mean_values3, palette=\"viridis\")\n",
    "plt.suptitle('Población')\n",
    "plt.xticks(rotation=70, fontsize=8)\n",
    "plt.show()"
   ]
  },
  {
   "cell_type": "code",
   "execution_count": null,
   "metadata": {},
   "outputs": [],
   "source": [
    "\n",
    "\n",
    "# Seleccionar las filas correspondientes a los 20 países con menor población\n",
    "countries_to_remove = wec_sorted.head(20)\n",
    "\n",
    "# Eliminar esas filas del DataFrame original\n",
    "wec_filtered = wec[~wec['country'].isin(countries_to_remove['country'])]\n",
    "\n",
    "# Muestra el DataFrame resultante\n",
    "print(wec_filtered)\n"
   ]
  },
  {
   "cell_type": "code",
   "execution_count": null,
   "metadata": {},
   "outputs": [],
   "source": [
    "# Calcula la media de 'energy_per_capita' y 'gdp' por país\n",
    "mean_values2 = wec.groupby('country').agg({'energy_per_capita': 'mean', 'gdp': 'mean'}).reset_index()\n",
    "\n",
    "# Crea un nuevo DataFrame con las medias por país\n",
    "df = pd.DataFrame({'country': mean_values['country'],\n",
    "                          'mean_epc': mean_values['energy_per_capita'],\n",
    "                          'mean_gdp': mean_values['gdp']})"
   ]
  },
  {
   "cell_type": "code",
   "execution_count": null,
   "metadata": {},
   "outputs": [],
   "source": [
    "g1 = mean_values.sort_values(\"energy_per_capita\", ascending=False)"
   ]
  },
  {
   "cell_type": "code",
   "execution_count": null,
   "metadata": {},
   "outputs": [],
   "source": [
    "g1.head(20)"
   ]
  },
  {
   "cell_type": "code",
   "execution_count": null,
   "metadata": {},
   "outputs": [],
   "source": [
    "sns.barplot(x='country', y=\"energy_per_capita\", data=g1, palette=\"viridis\")\n",
    "plt.suptitle('Consumo energético per cápita')\n",
    "plt.xticks(rotation=70, fontsize=8)\n",
    "plt.show()"
   ]
  },
  {
   "cell_type": "markdown",
   "metadata": {},
   "source": [
    "# MODELO NO SUPERVISADO"
   ]
  },
  {
   "cell_type": "code",
   "execution_count": null,
   "metadata": {},
   "outputs": [],
   "source": [
    "# Se importan las librerías que se utilizarán: \n",
    "# import pandas as pd\n",
    "# import numpy as np\n",
    "import sklearn\n",
    "# import matplotlib.pyplot as plt\n",
    "# import seaborn as sns\n",
    "from sklearn.cluster import KMeans\n",
    "# import re\n",
    "# import array\n",
    "import warnings\n",
    "from sklearn.metrics import silhouette_score\n",
    "warnings.filterwarnings('ignore')"
   ]
  },
  {
   "cell_type": "code",
   "execution_count": null,
   "metadata": {},
   "outputs": [],
   "source": [
    "# features = [\"energy_per_capita\", \"renewables_electricity\", \"energy_per_gdp\", \"gdp\", \"population\"]\n",
    "features = [\"mean_epc\", \"gdp\"]\n",
    "X = wec[features]\n",
    "# X = suram[features]\n",
    "X.head(5)"
   ]
  },
  {
   "cell_type": "code",
   "execution_count": null,
   "metadata": {},
   "outputs": [],
   "source": [
    "X.head(5)"
   ]
  },
  {
   "cell_type": "code",
   "execution_count": null,
   "metadata": {},
   "outputs": [],
   "source": [
    "df.shape"
   ]
  },
  {
   "cell_type": "code",
   "execution_count": null,
   "metadata": {},
   "outputs": [],
   "source": [
    "X = df[[\"mean_epc\", \"mean_gdp\"]]"
   ]
  },
  {
   "cell_type": "code",
   "execution_count": null,
   "metadata": {},
   "outputs": [],
   "source": [
    "sns.scatterplot(data=X, x=\"mean_epc\", y=\"mean_gdp\")"
   ]
  },
  {
   "cell_type": "code",
   "execution_count": null,
   "metadata": {},
   "outputs": [],
   "source": [
    "from sklearn.preprocessing import StandardScaler\n",
    "scale = StandardScaler()\n",
    "\n",
    "X_scal = scale.fit_transform(X)\n",
    "\n",
    "print(X_scal)"
   ]
  },
  {
   "cell_type": "code",
   "execution_count": null,
   "metadata": {},
   "outputs": [],
   "source": [
    "pd.DataFrame(X_scal).head(5)"
   ]
  },
  {
   "cell_type": "code",
   "execution_count": null,
   "metadata": {},
   "outputs": [],
   "source": [
    "pd.DataFrame(X_scal).shape"
   ]
  },
  {
   "cell_type": "code",
   "execution_count": null,
   "metadata": {},
   "outputs": [],
   "source": [
    "#Se realiza el método del codo para determinar la cantidad de clusters\n",
    "k=np.arange(1,11)\n",
    "lista_inercias = []\n",
    "for i in k:\n",
    "    kmeans = KMeans(n_clusters=i, random_state=0) \n",
    "# Instancia la clase KMeans\n",
    "    kmeans.fit(X_scal)  \n",
    "# Ajusta el modelo KMeans a tus datos x\n",
    "    lista_inercias.append(kmeans.inertia_)"
   ]
  },
  {
   "cell_type": "code",
   "execution_count": null,
   "metadata": {},
   "outputs": [],
   "source": [
    "# Se grafica el método del codo\n",
    "plt.figure(figsize=(7, 4))\n",
    "plt.plot(k, lista_inercias, color='c')\n",
    "plt.scatter(k, lista_inercias, c='r')\n",
    "plt.xlabel('Cantidad de clusters (k)')\n",
    "plt.ylabel('inercia media')\n",
    "plt.title('The Elbow Method')\n",
    "plt.show()"
   ]
  },
  {
   "cell_type": "code",
   "execution_count": null,
   "metadata": {},
   "outputs": [],
   "source": [
    "# Se realiza la evaluación con silhoutte\n",
    "sil = []\n",
    "kmax = 11\n",
    "\n",
    "# dissimilarity would not be defined for a single cluster, thus, minimum number of clusters should be 3\n",
    "for k in range(2, kmax+1):\n",
    "    kmeans = KMeans(n_clusters=k).fit(X_scal)\n",
    "    labels = kmeans.labels_\n",
    "    sil.append(silhouette_score(X_scal, labels, metric='euclidean'))"
   ]
  },
  {
   "cell_type": "code",
   "execution_count": null,
   "metadata": {},
   "outputs": [],
   "source": [
    "# Se grafica\n",
    "plt.plot(range(2,12),sil, c=\"#c51b7d\")\n",
    "plt.gca().spines[\"top\"].set_visible(False)\n",
    "plt.gca().spines[\"right\"].set_visible(False)\n",
    "plt.title('Metodo Silhouette', size=14)\n",
    "plt.xlabel('Numero de clusters', size=12)\n",
    "plt.ylabel('Puntaje de Silhouette', size=14)\n",
    "plt.show()"
   ]
  },
  {
   "cell_type": "code",
   "execution_count": null,
   "metadata": {},
   "outputs": [],
   "source": [
    "# Se instancia el modelo con el numero de clusters \n",
    "kmeansmodel2 = KMeans(n_clusters=3, random_state=0)\n",
    "kmeansmodel2.fit(X_scal)\n",
    "# Etiquetas de los clusters\n",
    "etiquetas_2 = kmeansmodel2.labels_\n",
    "np.unique(etiquetas_2)\n",
    "# Se hace la predicción:\n",
    "y_means2=kmeansmodel2.fit_predict(X_scal)"
   ]
  },
  {
   "cell_type": "code",
   "execution_count": null,
   "metadata": {},
   "outputs": [],
   "source": [
    "#Se verifica la cantidad de observaciones\n",
    "cluster_counts = np.bincount(y_means2)\n",
    "cluster_labels = list(range(len(cluster_counts)))\n",
    "colors = ['lightcoral', 'mediumturquoise', 'plum']\n",
    "plt.bar(cluster_labels, cluster_counts, color=colors)\n",
    "plt.title('Cantidad de muestras por cluster')\n",
    "plt.xlabel('Grupo')\n",
    "plt.ylabel('Cantidad de Observaciones')\n",
    "plt.show()\n"
   ]
  },
  {
   "cell_type": "code",
   "execution_count": null,
   "metadata": {},
   "outputs": [],
   "source": [
    "# Se observan las coordenandas de los centroides\n",
    "centroids2 =kmeansmodel2.cluster_centers_\n",
    "print(centroids2)"
   ]
  },
  {
   "cell_type": "code",
   "execution_count": null,
   "metadata": {},
   "outputs": [],
   "source": [
    "plt.scatter(X_scal[y_means2 == 0, 0], X_scal[y_means2 == 0, 1], s = 15, c = 'lightcoral', label = 'Cluster 1')\n",
    "plt.scatter(X_scal[y_means2 == 1, 0], X_scal[y_means2 == 1, 1], s = 15, c = 'plum', label = 'Cluster 2')\n",
    "plt.scatter(X_scal[y_means2 == 2, 0], X_scal[y_means2 == 2, 1], s = 15, c = 'blue', label = 'Cluster 3')\n",
    "plt.scatter(kmeansmodel2.cluster_centers_[:, 0], kmeansmodel2.cluster_centers_[:, 1], s = 20, c = 'black', label = 'Centroids')\n",
    "plt.title('Clusters')\n",
    "plt.xlabel('mean_epc')\n",
    "plt.ylabel('mean_gdp')\n",
    "plt.legend()\n",
    "plt.show()"
   ]
  },
  {
   "cell_type": "code",
   "execution_count": null,
   "metadata": {},
   "outputs": [],
   "source": [
    "plt.scatter(X_scal[y_means2 == 0, 0], X_scal[y_means2 == 0, 1], s = 15, c = 'lightcoral', label = 'Cluster 1')\n",
    "plt.scatter(X_scal[y_means2 == 1, 0], X_scal[y_means2 == 1, 1], s = 15, c = 'plum', label = 'Cluster 2')\n",
    "plt.scatter(X_scal[y_means2 == 2, 0], X_scal[y_means2 == 2, 1], s = 15, c = 'red', label = 'Cluster 3')\n",
    "plt.scatter(X_scal[y_means2 == 3, 0], X_scal[y_means2 == 3, 1], s = 15, c = 'blue', label = 'Cluster 4')\n",
    "plt.scatter(X_scal[y_means2 == 4, 0], X_scal[y_means2 == 4, 1], s = 15, c = 'yellow', label = 'Cluster 5')\n",
    "plt.scatter(kmeansmodel2.cluster_centers_[:, 0], kmeansmodel2.cluster_centers_[:, 1], s = 20, c = 'black', label = 'Centroids')\n",
    "plt.title('Clusters')\n",
    "plt.xlabel('Consumo energetico per capita')\n",
    "plt.ylabel('GDP')\n",
    "plt.legend()\n",
    "plt.show()"
   ]
  }
 ],
 "metadata": {
  "kernelspec": {
   "display_name": "base",
   "language": "python",
   "name": "python3"
  },
  "language_info": {
   "codemirror_mode": {
    "name": "ipython",
    "version": 3
   },
   "file_extension": ".py",
   "mimetype": "text/x-python",
   "name": "python",
   "nbconvert_exporter": "python",
   "pygments_lexer": "ipython3",
   "version": "3.11.3"
  },
  "orig_nbformat": 4
 },
 "nbformat": 4,
 "nbformat_minor": 2
}
