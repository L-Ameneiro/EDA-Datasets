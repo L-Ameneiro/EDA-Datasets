{
 "cells": [
  {
   "cell_type": "markdown",
   "id": "165fa68d",
   "metadata": {},
   "source": [
    "# MODELO SUPERVISADO "
   ]
  },
  {
   "cell_type": "markdown",
   "metadata": {},
   "source": [
    "##### OBJETIVO: Predecir cuanta energía eólica producirán los países de America del sur en los proximos 5 años "
   ]
  },
  {
   "cell_type": "code",
   "execution_count": 1,
   "id": "5ff491dd",
   "metadata": {},
   "outputs": [],
   "source": [
    "# Se importan las librerías que se utilizarán: \n",
    "import numpy as np\n",
    "import pandas as pd\n",
    "import matplotlib.pyplot as plt\n",
    "import seaborn as sns \n",
    "import matplotlib.cm as cm\n",
    "from sklearn.model_selection import train_test_split\n",
    "from sklearn.linear_model import LinearRegression \n",
    "from sklearn.metrics import r2_score\n",
    "import matplotlib.pyplot as plt \n",
    "from sklearn.ensemble import RandomForestRegressor\n",
    "from sklearn.metrics import mean_absolute_error\n",
    "from sklearn.svm import SVR\n",
    "from sklearn.neighbors import KNeighborsClassifier   #ver porque si no se usa hay que sacarlo\n",
    "from sklearn.model_selection import GridSearchCV\n",
    "import plotly.express as px\n",
    "pd.set_option('display.max_rows', 500)\n",
    "pd.set_option('display.max_columns', 500)\n",
    "pd.set_option('display.width', 150)"
   ]
  },
  {
   "cell_type": "code",
   "execution_count": 2,
   "id": "c0f3f7b5",
   "metadata": {},
   "outputs": [],
   "source": [
    "wec = pd.read_csv(r'../datasets/wec_reg_lineal')  "
   ]
  },
  {
   "cell_type": "code",
   "execution_count": 3,
   "id": "97a32c7b",
   "metadata": {},
   "outputs": [
    {
     "data": {
      "text/html": [
       "<div>\n",
       "<style scoped>\n",
       "    .dataframe tbody tr th:only-of-type {\n",
       "        vertical-align: middle;\n",
       "    }\n",
       "\n",
       "    .dataframe tbody tr th {\n",
       "        vertical-align: top;\n",
       "    }\n",
       "\n",
       "    .dataframe thead th {\n",
       "        text-align: right;\n",
       "    }\n",
       "</style>\n",
       "<table border=\"1\" class=\"dataframe\">\n",
       "  <thead>\n",
       "    <tr style=\"text-align: right;\">\n",
       "      <th></th>\n",
       "      <th>country</th>\n",
       "      <th>continente</th>\n",
       "      <th>year</th>\n",
       "      <th>renewables_share_elec</th>\n",
       "      <th>fossil_share_elec</th>\n",
       "      <th>nuclear_share_elec</th>\n",
       "      <th>renewables_electricity</th>\n",
       "      <th>nuclear_electricity</th>\n",
       "      <th>cluster</th>\n",
       "    </tr>\n",
       "  </thead>\n",
       "  <tbody>\n",
       "    <tr>\n",
       "      <th>0</th>\n",
       "      <td>Afghanistan</td>\n",
       "      <td>Asia</td>\n",
       "      <td>2011</td>\n",
       "      <td>70.258</td>\n",
       "      <td>29.742</td>\n",
       "      <td>0.0</td>\n",
       "      <td>0.595</td>\n",
       "      <td>0.0</td>\n",
       "      <td>4.0</td>\n",
       "    </tr>\n",
       "    <tr>\n",
       "      <th>1</th>\n",
       "      <td>Afghanistan</td>\n",
       "      <td>Asia</td>\n",
       "      <td>2012</td>\n",
       "      <td>80.921</td>\n",
       "      <td>19.079</td>\n",
       "      <td>0.0</td>\n",
       "      <td>0.738</td>\n",
       "      <td>0.0</td>\n",
       "      <td>4.0</td>\n",
       "    </tr>\n",
       "    <tr>\n",
       "      <th>2</th>\n",
       "      <td>Afghanistan</td>\n",
       "      <td>Asia</td>\n",
       "      <td>2013</td>\n",
       "      <td>80.236</td>\n",
       "      <td>19.764</td>\n",
       "      <td>0.0</td>\n",
       "      <td>0.885</td>\n",
       "      <td>0.0</td>\n",
       "      <td>4.0</td>\n",
       "    </tr>\n",
       "    <tr>\n",
       "      <th>3</th>\n",
       "      <td>Afghanistan</td>\n",
       "      <td>Asia</td>\n",
       "      <td>2014</td>\n",
       "      <td>86.655</td>\n",
       "      <td>13.345</td>\n",
       "      <td>0.0</td>\n",
       "      <td>1.000</td>\n",
       "      <td>0.0</td>\n",
       "      <td>4.0</td>\n",
       "    </tr>\n",
       "    <tr>\n",
       "      <th>4</th>\n",
       "      <td>Afghanistan</td>\n",
       "      <td>Asia</td>\n",
       "      <td>2015</td>\n",
       "      <td>87.776</td>\n",
       "      <td>12.224</td>\n",
       "      <td>0.0</td>\n",
       "      <td>1.034</td>\n",
       "      <td>0.0</td>\n",
       "      <td>4.0</td>\n",
       "    </tr>\n",
       "  </tbody>\n",
       "</table>\n",
       "</div>"
      ],
      "text/plain": [
       "       country continente  year  renewables_share_elec  fossil_share_elec  nuclear_share_elec  renewables_electricity  nuclear_electricity  cluster\n",
       "0  Afghanistan       Asia  2011                 70.258             29.742                 0.0                   0.595                  0.0      4.0\n",
       "1  Afghanistan       Asia  2012                 80.921             19.079                 0.0                   0.738                  0.0      4.0\n",
       "2  Afghanistan       Asia  2013                 80.236             19.764                 0.0                   0.885                  0.0      4.0\n",
       "3  Afghanistan       Asia  2014                 86.655             13.345                 0.0                   1.000                  0.0      4.0\n",
       "4  Afghanistan       Asia  2015                 87.776             12.224                 0.0                   1.034                  0.0      4.0"
      ]
     },
     "execution_count": 3,
     "metadata": {},
     "output_type": "execute_result"
    }
   ],
   "source": [
    "wec.head(5)"
   ]
  },
  {
   "cell_type": "code",
   "execution_count": 4,
   "id": "e7e60838",
   "metadata": {},
   "outputs": [],
   "source": [
    "wec = wec.drop(['renewables_share_elec', 'fossil_share_elec', 'nuclear_share_elec', 'nuclear_electricity', 'fossil_share_elec', \"continente\"],\n",
    "                  axis=1)"
   ]
  },
  {
   "cell_type": "code",
   "execution_count": 5,
   "id": "db688862",
   "metadata": {},
   "outputs": [
    {
     "data": {
      "text/html": [
       "<div>\n",
       "<style scoped>\n",
       "    .dataframe tbody tr th:only-of-type {\n",
       "        vertical-align: middle;\n",
       "    }\n",
       "\n",
       "    .dataframe tbody tr th {\n",
       "        vertical-align: top;\n",
       "    }\n",
       "\n",
       "    .dataframe thead th {\n",
       "        text-align: right;\n",
       "    }\n",
       "</style>\n",
       "<table border=\"1\" class=\"dataframe\">\n",
       "  <thead>\n",
       "    <tr style=\"text-align: right;\">\n",
       "      <th></th>\n",
       "      <th>country</th>\n",
       "      <th>year</th>\n",
       "      <th>renewables_electricity</th>\n",
       "      <th>cluster</th>\n",
       "    </tr>\n",
       "  </thead>\n",
       "  <tbody>\n",
       "    <tr>\n",
       "      <th>0</th>\n",
       "      <td>Afghanistan</td>\n",
       "      <td>2011</td>\n",
       "      <td>0.595</td>\n",
       "      <td>4.0</td>\n",
       "    </tr>\n",
       "    <tr>\n",
       "      <th>1</th>\n",
       "      <td>Afghanistan</td>\n",
       "      <td>2012</td>\n",
       "      <td>0.738</td>\n",
       "      <td>4.0</td>\n",
       "    </tr>\n",
       "    <tr>\n",
       "      <th>2</th>\n",
       "      <td>Afghanistan</td>\n",
       "      <td>2013</td>\n",
       "      <td>0.885</td>\n",
       "      <td>4.0</td>\n",
       "    </tr>\n",
       "    <tr>\n",
       "      <th>3</th>\n",
       "      <td>Afghanistan</td>\n",
       "      <td>2014</td>\n",
       "      <td>1.000</td>\n",
       "      <td>4.0</td>\n",
       "    </tr>\n",
       "    <tr>\n",
       "      <th>4</th>\n",
       "      <td>Afghanistan</td>\n",
       "      <td>2015</td>\n",
       "      <td>1.034</td>\n",
       "      <td>4.0</td>\n",
       "    </tr>\n",
       "  </tbody>\n",
       "</table>\n",
       "</div>"
      ],
      "text/plain": [
       "       country  year  renewables_electricity  cluster\n",
       "0  Afghanistan  2011                   0.595      4.0\n",
       "1  Afghanistan  2012                   0.738      4.0\n",
       "2  Afghanistan  2013                   0.885      4.0\n",
       "3  Afghanistan  2014                   1.000      4.0\n",
       "4  Afghanistan  2015                   1.034      4.0"
      ]
     },
     "execution_count": 5,
     "metadata": {},
     "output_type": "execute_result"
    }
   ],
   "source": [
    "wec.head(5)"
   ]
  },
  {
   "cell_type": "code",
   "execution_count": 6,
   "id": "58905802",
   "metadata": {},
   "outputs": [
    {
     "data": {
      "text/plain": [
       "203"
      ]
     },
     "execution_count": 6,
     "metadata": {},
     "output_type": "execute_result"
    }
   ],
   "source": [
    "# Se consultan los datos únicos que integran la columna country \n",
    "len(wec['country'].unique())"
   ]
  },
  {
   "cell_type": "code",
   "execution_count": 7,
   "id": "747d0c6a",
   "metadata": {},
   "outputs": [
    {
     "data": {
      "application/vnd.plotly.v1+json": {
       "config": {
        "plotlyServerURL": "https://plot.ly"
       },
       "data": [
        {
         "hovertemplate": "color=Afghanistan<br>x=%{x}<br>y=%{y}<extra></extra>",
         "legendgroup": "Afghanistan",
         "marker": {
          "color": "#636efa",
          "symbol": "circle"
         },
         "mode": "markers",
         "name": "Afghanistan",
         "showlegend": true,
         "type": "scattergl",
         "x": [
          2011,
          2012,
          2013,
          2014,
          2015,
          2016,
          2017,
          2018,
          2019
         ],
         "xaxis": "x",
         "y": [
          0.595,
          0.738,
          0.885,
          1,
          1.034,
          1.06,
          1.088,
          0.965,
          0.88
         ],
         "yaxis": "y"
        },
        {
         "hovertemplate": "color=Albania<br>x=%{x}<br>y=%{y}<extra></extra>",
         "legendgroup": "Albania",
         "marker": {
          "color": "#EF553B",
          "symbol": "circle"
         },
         "mode": "markers",
         "name": "Albania",
         "showlegend": true,
         "type": "scattergl",
         "x": [
          2011,
          2012,
          2013,
          2014,
          2015,
          2016,
          2017,
          2018,
          2019
         ],
         "xaxis": "x",
         "y": [
          4.091,
          4.679,
          6.89,
          4.678,
          5.837,
          7.706,
          4.481,
          8.467,
          5.176
         ],
         "yaxis": "y"
        },
        {
         "hovertemplate": "color=Algeria<br>x=%{x}<br>y=%{y}<extra></extra>",
         "legendgroup": "Algeria",
         "marker": {
          "color": "#00cc96",
          "symbol": "circle"
         },
         "mode": "markers",
         "name": "Algeria",
         "showlegend": true,
         "type": "scattergl",
         "x": [
          2011,
          2012,
          2013,
          2014,
          2015,
          2016,
          2017,
          2018,
          2019
         ],
         "xaxis": "x",
         "y": [
          0.497,
          0.616,
          0.327,
          0.252,
          0.221,
          0.332,
          0.635,
          0.73,
          0.732
         ],
         "yaxis": "y"
        },
        {
         "hovertemplate": "color=American Samoa<br>x=%{x}<br>y=%{y}<extra></extra>",
         "legendgroup": "American Samoa",
         "marker": {
          "color": "#ab63fa",
          "symbol": "circle"
         },
         "mode": "markers",
         "name": "American Samoa",
         "showlegend": true,
         "type": "scattergl",
         "x": [
          2011,
          2012,
          2013,
          2014,
          2015,
          2016,
          2017,
          2018,
          2019
         ],
         "xaxis": "x",
         "y": [
          0,
          0,
          0,
          0,
          0,
          0,
          0,
          0,
          0
         ],
         "yaxis": "y"
        },
        {
         "hovertemplate": "color=Angola<br>x=%{x}<br>y=%{y}<extra></extra>",
         "legendgroup": "Angola",
         "marker": {
          "color": "#FFA15A",
          "symbol": "circle"
         },
         "mode": "markers",
         "name": "Angola",
         "showlegend": true,
         "type": "scattergl",
         "x": [
          2011,
          2012,
          2013,
          2014,
          2015,
          2016,
          2017,
          2018,
          2019
         ],
         "xaxis": "x",
         "y": [
          3.978,
          3.748,
          4.734,
          5.044,
          5.097,
          5.93,
          7.794,
          8.865,
          10.121
         ],
         "yaxis": "y"
        },
        {
         "hovertemplate": "color=Antigua and Barbuda<br>x=%{x}<br>y=%{y}<extra></extra>",
         "legendgroup": "Antigua and Barbuda",
         "marker": {
          "color": "#19d3f3",
          "symbol": "circle"
         },
         "mode": "markers",
         "name": "Antigua and Barbuda",
         "showlegend": true,
         "type": "scattergl",
         "x": [
          2011,
          2012,
          2013,
          2014,
          2015,
          2016,
          2017,
          2018,
          2019
         ],
         "xaxis": "x",
         "y": [
          0,
          0,
          0.001,
          0.001,
          0.005,
          0.006,
          0.006,
          0.013,
          0.015
         ],
         "yaxis": "y"
        },
        {
         "hovertemplate": "color=Argentina<br>x=%{x}<br>y=%{y}<extra></extra>",
         "legendgroup": "Argentina",
         "marker": {
          "color": "#FF6692",
          "symbol": "circle"
         },
         "mode": "markers",
         "name": "Argentina",
         "showlegend": true,
         "type": "scattergl",
         "x": [
          2011,
          2012,
          2013,
          2014,
          2015,
          2016,
          2017,
          2018,
          2019,
          2020
         ],
         "xaxis": "x",
         "y": [
          32.257,
          30.914,
          34.849,
          33.955,
          33.741,
          31.181,
          33.476,
          34.843,
          34.856,
          33.511
         ],
         "yaxis": "y"
        },
        {
         "hovertemplate": "color=Armenia<br>x=%{x}<br>y=%{y}<extra></extra>",
         "legendgroup": "Armenia",
         "marker": {
          "color": "#B6E880",
          "symbol": "circle"
         },
         "mode": "markers",
         "name": "Armenia",
         "showlegend": true,
         "type": "scattergl",
         "x": [
          2011,
          2012,
          2013,
          2014,
          2015,
          2016,
          2017,
          2018,
          2019
         ],
         "xaxis": "x",
         "y": [
          2.467,
          2.303,
          2.155,
          1.976,
          2.188,
          2.33,
          2.251,
          2.316,
          2.363
         ],
         "yaxis": "y"
        },
        {
         "hovertemplate": "color=Aruba<br>x=%{x}<br>y=%{y}<extra></extra>",
         "legendgroup": "Aruba",
         "marker": {
          "color": "#FF97FF",
          "symbol": "circle"
         },
         "mode": "markers",
         "name": "Aruba",
         "showlegend": true,
         "type": "scattergl",
         "x": [
          2011,
          2012,
          2013,
          2014,
          2015,
          2016,
          2017,
          2018,
          2019
         ],
         "xaxis": "x",
         "y": [
          0.114,
          0.137,
          0.153,
          0.162,
          0.176,
          0.15,
          0.144,
          0.147,
          0.147
         ],
         "yaxis": "y"
        },
        {
         "hovertemplate": "color=Australia<br>x=%{x}<br>y=%{y}<extra></extra>",
         "legendgroup": "Australia",
         "marker": {
          "color": "#FECB52",
          "symbol": "circle"
         },
         "mode": "markers",
         "name": "Australia",
         "showlegend": true,
         "type": "scattergl",
         "x": [
          2011,
          2012,
          2013,
          2014,
          2015,
          2016,
          2017,
          2018,
          2019,
          2020
         ],
         "xaxis": "x",
         "y": [
          26.273,
          26.318,
          32.705,
          36.112,
          33.423,
          37.152,
          40.206,
          44.443,
          54.4,
          62.504
         ],
         "yaxis": "y"
        },
        {
         "hovertemplate": "color=Austria<br>x=%{x}<br>y=%{y}<extra></extra>",
         "legendgroup": "Austria",
         "marker": {
          "color": "#636efa",
          "symbol": "circle"
         },
         "mode": "markers",
         "name": "Austria",
         "showlegend": true,
         "type": "scattergl",
         "x": [
          2011,
          2012,
          2013,
          2014,
          2015,
          2016,
          2017,
          2018,
          2019,
          2020
         ],
         "xaxis": "x",
         "y": [
          40.908,
          51.328,
          50.491,
          50.186,
          47.582,
          51.083,
          51.055,
          50.036,
          55.128,
          55.085
         ],
         "yaxis": "y"
        },
        {
         "hovertemplate": "color=Azerbaijan<br>x=%{x}<br>y=%{y}<extra></extra>",
         "legendgroup": "Azerbaijan",
         "marker": {
          "color": "#EF553B",
          "symbol": "circle"
         },
         "mode": "markers",
         "name": "Azerbaijan",
         "showlegend": true,
         "type": "scattergl",
         "x": [
          2011,
          2012,
          2013,
          2014,
          2015,
          2016,
          2017,
          2018,
          2019,
          2020
         ],
         "xaxis": "x",
         "y": [
          2.649,
          1.803,
          1.61,
          1.466,
          1.813,
          2.171,
          1.958,
          2.033,
          1.884,
          1.884
         ],
         "yaxis": "y"
        },
        {
         "hovertemplate": "color=Bahamas<br>x=%{x}<br>y=%{y}<extra></extra>",
         "legendgroup": "Bahamas",
         "marker": {
          "color": "#00cc96",
          "symbol": "circle"
         },
         "mode": "markers",
         "name": "Bahamas",
         "showlegend": true,
         "type": "scattergl",
         "x": [
          2011,
          2012,
          2013,
          2014,
          2015,
          2016,
          2017,
          2018,
          2019
         ],
         "xaxis": "x",
         "y": [
          0.001,
          0.001,
          0.001,
          0.002,
          0.002,
          0.002,
          0.002,
          0.003,
          0.003
         ],
         "yaxis": "y"
        },
        {
         "hovertemplate": "color=Bahrain<br>x=%{x}<br>y=%{y}<extra></extra>",
         "legendgroup": "Bahrain",
         "marker": {
          "color": "#ab63fa",
          "symbol": "circle"
         },
         "mode": "markers",
         "name": "Bahrain",
         "showlegend": true,
         "type": "scattergl",
         "x": [
          2011,
          2012,
          2013,
          2014,
          2015,
          2016,
          2017,
          2018,
          2019
         ],
         "xaxis": "x",
         "y": [
          0.002,
          0.002,
          0.002,
          0.009,
          0.009,
          0.009,
          0.009,
          0.009,
          0.009
         ],
         "yaxis": "y"
        },
        {
         "hovertemplate": "color=Bangladesh<br>x=%{x}<br>y=%{y}<extra></extra>",
         "legendgroup": "Bangladesh",
         "marker": {
          "color": "#FFA15A",
          "symbol": "circle"
         },
         "mode": "markers",
         "name": "Bangladesh",
         "showlegend": true,
         "type": "scattergl",
         "x": [
          2011,
          2012,
          2013,
          2014,
          2015,
          2016,
          2017,
          2018,
          2019,
          2020
         ],
         "xaxis": "x",
         "y": [
          0.98,
          0.817,
          1.08,
          0.796,
          0.813,
          1.252,
          1.308,
          1.375,
          1.249,
          1.124
         ],
         "yaxis": "y"
        },
        {
         "hovertemplate": "color=Barbados<br>x=%{x}<br>y=%{y}<extra></extra>",
         "legendgroup": "Barbados",
         "marker": {
          "color": "#19d3f3",
          "symbol": "circle"
         },
         "mode": "markers",
         "name": "Barbados",
         "showlegend": true,
         "type": "scattergl",
         "x": [
          2011,
          2012,
          2013,
          2014,
          2015,
          2016,
          2017,
          2018,
          2019
         ],
         "xaxis": "x",
         "y": [
          0.003,
          0.003,
          0.004,
          0.01,
          0.014,
          0.03,
          0.03,
          0.037,
          0.04
         ],
         "yaxis": "y"
        },
        {
         "hovertemplate": "color=Belarus<br>x=%{x}<br>y=%{y}<extra></extra>",
         "legendgroup": "Belarus",
         "marker": {
          "color": "#FF6692",
          "symbol": "circle"
         },
         "mode": "markers",
         "name": "Belarus",
         "showlegend": true,
         "type": "scattergl",
         "x": [
          2011,
          2012,
          2013,
          2014,
          2015,
          2016,
          2017,
          2018,
          2019,
          2020
         ],
         "xaxis": "x",
         "y": [
          0.148,
          0.202,
          0.297,
          0.287,
          0.326,
          0.42,
          0.782,
          0.803,
          1.04,
          1.04
         ],
         "yaxis": "y"
        },
        {
         "hovertemplate": "color=Belgium<br>x=%{x}<br>y=%{y}<extra></extra>",
         "legendgroup": "Belgium",
         "marker": {
          "color": "#B6E880",
          "symbol": "circle"
         },
         "mode": "markers",
         "name": "Belgium",
         "showlegend": true,
         "type": "scattergl",
         "x": [
          2011,
          2012,
          2013,
          2014,
          2015,
          2016,
          2017,
          2018,
          2019,
          2020
         ],
         "xaxis": "x",
         "y": [
          8.353,
          10.438,
          11.657,
          12.254,
          14.499,
          14.339,
          15.857,
          17.139,
          18.765,
          22.442
         ],
         "yaxis": "y"
        },
        {
         "hovertemplate": "color=Belize<br>x=%{x}<br>y=%{y}<extra></extra>",
         "legendgroup": "Belize",
         "marker": {
          "color": "#FF97FF",
          "symbol": "circle"
         },
         "mode": "markers",
         "name": "Belize",
         "showlegend": true,
         "type": "scattergl",
         "x": [
          2011,
          2012,
          2013,
          2014,
          2015,
          2016,
          2017,
          2018,
          2019
         ],
         "xaxis": "x",
         "y": [
          0.339,
          0.302,
          0.336,
          0.354,
          0.358,
          0.377,
          0.389,
          0.386,
          0.438
         ],
         "yaxis": "y"
        },
        {
         "hovertemplate": "color=Benin<br>x=%{x}<br>y=%{y}<extra></extra>",
         "legendgroup": "Benin",
         "marker": {
          "color": "#FECB52",
          "symbol": "circle"
         },
         "mode": "markers",
         "name": "Benin",
         "showlegend": true,
         "type": "scattergl",
         "x": [
          2011,
          2012,
          2013,
          2014,
          2015,
          2016,
          2017,
          2018,
          2019
         ],
         "xaxis": "x",
         "y": [
          0.002,
          0.002,
          0.003,
          0.003,
          0.007,
          0.01,
          0.006,
          0.005,
          0.005
         ],
         "yaxis": "y"
        },
        {
         "hovertemplate": "color=Bermuda<br>x=%{x}<br>y=%{y}<extra></extra>",
         "legendgroup": "Bermuda",
         "marker": {
          "color": "#636efa",
          "symbol": "circle"
         },
         "mode": "markers",
         "name": "Bermuda",
         "showlegend": true,
         "type": "scattergl",
         "x": [
          2011,
          2012,
          2013,
          2014,
          2015,
          2016,
          2017,
          2018,
          2019
         ],
         "xaxis": "x",
         "y": [
          0,
          0,
          0,
          0,
          0,
          0,
          0,
          0,
          0
         ],
         "yaxis": "y"
        },
        {
         "hovertemplate": "color=Bhutan<br>x=%{x}<br>y=%{y}<extra></extra>",
         "legendgroup": "Bhutan",
         "marker": {
          "color": "#EF553B",
          "symbol": "circle"
         },
         "mode": "markers",
         "name": "Bhutan",
         "showlegend": true,
         "type": "scattergl",
         "x": [
          2011,
          2012,
          2013,
          2014,
          2015,
          2016,
          2017,
          2018,
          2019
         ],
         "xaxis": "x",
         "y": [
          6.976,
          6.746,
          7.532,
          7.151,
          7.733,
          7.881,
          7.652,
          6.891,
          6.61
         ],
         "yaxis": "y"
        },
        {
         "hovertemplate": "color=Bolivia<br>x=%{x}<br>y=%{y}<extra></extra>",
         "legendgroup": "Bolivia",
         "marker": {
          "color": "#00cc96",
          "symbol": "circle"
         },
         "mode": "markers",
         "name": "Bolivia",
         "showlegend": true,
         "type": "scattergl",
         "x": [
          2011,
          2012,
          2013,
          2014,
          2015,
          2016,
          2017,
          2018,
          2019,
          2020
         ],
         "xaxis": "x",
         "y": [
          2.412,
          2.413,
          2.604,
          2.33,
          2.659,
          1.926,
          2.421,
          2.968,
          3.748,
          3.5
         ],
         "yaxis": "y"
        },
        {
         "hovertemplate": "color=Bosnia and Herzegovina<br>x=%{x}<br>y=%{y}<extra></extra>",
         "legendgroup": "Bosnia and Herzegovina",
         "marker": {
          "color": "#ab63fa",
          "symbol": "circle"
         },
         "mode": "markers",
         "name": "Bosnia and Herzegovina",
         "showlegend": true,
         "type": "scattergl",
         "x": [
          2011,
          2012,
          2013,
          2014,
          2015,
          2016,
          2017,
          2018,
          2019,
          2020
         ],
         "xaxis": "x",
         "y": [
          4.344,
          4.174,
          7.165,
          5.877,
          5.496,
          5.611,
          3.78,
          6.486,
          6.315,
          5.129
         ],
         "yaxis": "y"
        },
        {
         "hovertemplate": "color=Botswana<br>x=%{x}<br>y=%{y}<extra></extra>",
         "legendgroup": "Botswana",
         "marker": {
          "color": "#FFA15A",
          "symbol": "circle"
         },
         "mode": "markers",
         "name": "Botswana",
         "showlegend": true,
         "type": "scattergl",
         "x": [
          2011,
          2012,
          2013,
          2014,
          2015,
          2016,
          2017,
          2018,
          2019
         ],
         "xaxis": "x",
         "y": [
          0,
          0.001,
          0.002,
          0.003,
          0.003,
          0.005,
          0.005,
          0.005,
          0.005
         ],
         "yaxis": "y"
        },
        {
         "hovertemplate": "color=Brazil<br>x=%{x}<br>y=%{y}<extra></extra>",
         "legendgroup": "Brazil",
         "marker": {
          "color": "#19d3f3",
          "symbol": "circle"
         },
         "mode": "markers",
         "name": "Brazil",
         "showlegend": true,
         "type": "scattergl",
         "x": [
          2011,
          2012,
          2013,
          2014,
          2015,
          2016,
          2017,
          2018,
          2019,
          2020
         ],
         "xaxis": "x",
         "y": [
          459.191,
          451.891,
          434.429,
          428.619,
          427.281,
          461.613,
          462.938,
          490.928,
          511.053,
          510.211
         ],
         "yaxis": "y"
        },
        {
         "hovertemplate": "color=British Virgin Islands<br>x=%{x}<br>y=%{y}<extra></extra>",
         "legendgroup": "British Virgin Islands",
         "marker": {
          "color": "#FF6692",
          "symbol": "circle"
         },
         "mode": "markers",
         "name": "British Virgin Islands",
         "showlegend": true,
         "type": "scattergl",
         "x": [
          2011,
          2012,
          2013,
          2014,
          2015,
          2016,
          2017,
          2018,
          2019
         ],
         "xaxis": "x",
         "y": [
          0.001,
          0.001,
          0.001,
          0.001,
          0.002,
          0.002,
          0.002,
          0.002,
          0.002
         ],
         "yaxis": "y"
        },
        {
         "hovertemplate": "color=Brunei<br>x=%{x}<br>y=%{y}<extra></extra>",
         "legendgroup": "Brunei",
         "marker": {
          "color": "#B6E880",
          "symbol": "circle"
         },
         "mode": "markers",
         "name": "Brunei",
         "showlegend": true,
         "type": "scattergl",
         "x": [
          2011,
          2012,
          2013,
          2014,
          2015,
          2016,
          2017,
          2018,
          2019
         ],
         "xaxis": "x",
         "y": [
          0,
          0.002,
          0.002,
          0.002,
          0.002,
          0.001,
          0.002,
          0.002,
          0.002
         ],
         "yaxis": "y"
        },
        {
         "hovertemplate": "color=Bulgaria<br>x=%{x}<br>y=%{y}<extra></extra>",
         "legendgroup": "Bulgaria",
         "marker": {
          "color": "#FF97FF",
          "symbol": "circle"
         },
         "mode": "markers",
         "name": "Bulgaria",
         "showlegend": true,
         "type": "scattergl",
         "x": [
          2011,
          2012,
          2013,
          2014,
          2015,
          2016,
          2017,
          2018,
          2019,
          2020
         ],
         "xaxis": "x",
         "y": [
          3.889,
          5.278,
          6.882,
          7.385,
          8.76,
          7.045,
          6.131,
          9.3,
          7.173,
          7.497
         ],
         "yaxis": "y"
        },
        {
         "hovertemplate": "color=Burkina Faso<br>x=%{x}<br>y=%{y}<extra></extra>",
         "legendgroup": "Burkina Faso",
         "marker": {
          "color": "#FECB52",
          "symbol": "circle"
         },
         "mode": "markers",
         "name": "Burkina Faso",
         "showlegend": true,
         "type": "scattergl",
         "x": [
          2011,
          2012,
          2013,
          2014,
          2015,
          2016,
          2017,
          2018,
          2019
         ],
         "xaxis": "x",
         "y": [
          0.09,
          0.106,
          0.116,
          0.101,
          0.106,
          0.155,
          0.158,
          0.182,
          0.194
         ],
         "yaxis": "y"
        },
        {
         "hovertemplate": "color=Burundi<br>x=%{x}<br>y=%{y}<extra></extra>",
         "legendgroup": "Burundi",
         "marker": {
          "color": "#636efa",
          "symbol": "circle"
         },
         "mode": "markers",
         "name": "Burundi",
         "showlegend": true,
         "type": "scattergl",
         "x": [
          2011,
          2012,
          2013,
          2014,
          2015,
          2016,
          2017,
          2018,
          2019
         ],
         "xaxis": "x",
         "y": [
          0.135,
          0.147,
          0.148,
          0.15,
          0.147,
          0.155,
          0.2,
          0.164,
          0.234
         ],
         "yaxis": "y"
        },
        {
         "hovertemplate": "color=Cambodia<br>x=%{x}<br>y=%{y}<extra></extra>",
         "legendgroup": "Cambodia",
         "marker": {
          "color": "#EF553B",
          "symbol": "circle"
         },
         "mode": "markers",
         "name": "Cambodia",
         "showlegend": true,
         "type": "scattergl",
         "x": [
          2011,
          2012,
          2013,
          2014,
          2015,
          2016,
          2017,
          2018,
          2019
         ],
         "xaxis": "x",
         "y": [
          0.074,
          0.535,
          1.02,
          1.853,
          2.021,
          2.638,
          2.763,
          4.77,
          4.119
         ],
         "yaxis": "y"
        },
        {
         "hovertemplate": "color=Cameroon<br>x=%{x}<br>y=%{y}<extra></extra>",
         "legendgroup": "Cameroon",
         "marker": {
          "color": "#00cc96",
          "symbol": "circle"
         },
         "mode": "markers",
         "name": "Cameroon",
         "showlegend": true,
         "type": "scattergl",
         "x": [
          2011,
          2012,
          2013,
          2014,
          2015,
          2016,
          2017,
          2018,
          2019
         ],
         "xaxis": "x",
         "y": [
          4.417,
          4.281,
          4.402,
          4.408,
          4.36,
          4.378,
          5.093,
          5.032,
          5.401
         ],
         "yaxis": "y"
        },
        {
         "hovertemplate": "color=Canada<br>x=%{x}<br>y=%{y}<extra></extra>",
         "legendgroup": "Canada",
         "marker": {
          "color": "#ab63fa",
          "symbol": "circle"
         },
         "mode": "markers",
         "name": "Canada",
         "showlegend": true,
         "type": "scattergl",
         "x": [
          2011,
          2012,
          2013,
          2014,
          2015,
          2016,
          2017,
          2018,
          2019,
          2020
         ],
         "xaxis": "x",
         "y": [
          394.433,
          401.106,
          419.705,
          414.21,
          417.339,
          426.154,
          437.096,
          429.615,
          423.82,
          430.52
         ],
         "yaxis": "y"
        },
        {
         "hovertemplate": "color=Cayman Islands<br>x=%{x}<br>y=%{y}<extra></extra>",
         "legendgroup": "Cayman Islands",
         "marker": {
          "color": "#FFA15A",
          "symbol": "circle"
         },
         "mode": "markers",
         "name": "Cayman Islands",
         "showlegend": true,
         "type": "scattergl",
         "x": [
          2011,
          2012,
          2013,
          2014,
          2015,
          2016,
          2017,
          2018,
          2019
         ],
         "xaxis": "x",
         "y": [
          0,
          0,
          0,
          0,
          0,
          0.004,
          0.014,
          0.016,
          0.016
         ],
         "yaxis": "y"
        },
        {
         "hovertemplate": "color=Central African Republic<br>x=%{x}<br>y=%{y}<extra></extra>",
         "legendgroup": "Central African Republic",
         "marker": {
          "color": "#19d3f3",
          "symbol": "circle"
         },
         "mode": "markers",
         "name": "Central African Republic",
         "showlegend": true,
         "type": "scattergl",
         "x": [
          2011,
          2012,
          2013,
          2014,
          2015,
          2016,
          2017,
          2018,
          2019
         ],
         "xaxis": "x",
         "y": [
          0.146,
          0.149,
          0.137,
          0.168,
          0.168,
          0.169,
          0.15,
          0.15,
          0.15
         ],
         "yaxis": "y"
        },
        {
         "hovertemplate": "color=Chad<br>x=%{x}<br>y=%{y}<extra></extra>",
         "legendgroup": "Chad",
         "marker": {
          "color": "#FF6692",
          "symbol": "circle"
         },
         "mode": "markers",
         "name": "Chad",
         "showlegend": true,
         "type": "scattergl",
         "x": [
          2011,
          2012,
          2013,
          2014,
          2015,
          2016,
          2017,
          2018,
          2019
         ],
         "xaxis": "x",
         "y": [
          0,
          0,
          0,
          0,
          0,
          0.009,
          0.009,
          0.009,
          0.009
         ],
         "yaxis": "y"
        },
        {
         "hovertemplate": "color=Chile<br>x=%{x}<br>y=%{y}<extra></extra>",
         "legendgroup": "Chile",
         "marker": {
          "color": "#B6E880",
          "symbol": "circle"
         },
         "mode": "markers",
         "name": "Chile",
         "showlegend": true,
         "type": "scattergl",
         "x": [
          2011,
          2012,
          2013,
          2014,
          2015,
          2016,
          2017,
          2018,
          2019,
          2020
         ],
         "xaxis": "x",
         "y": [
          25.948,
          25.24,
          26,
          30.062,
          32.368,
          33.801,
          34.374,
          37.507,
          36.44,
          38.352
         ],
         "yaxis": "y"
        },
        {
         "hovertemplate": "color=China<br>x=%{x}<br>y=%{y}<extra></extra>",
         "legendgroup": "China",
         "marker": {
          "color": "#FF97FF",
          "symbol": "circle"
         },
         "mode": "markers",
         "name": "China",
         "showlegend": true,
         "type": "scattergl",
         "x": [
          2011,
          2012,
          2013,
          2014,
          2015,
          2016,
          2017,
          2018,
          2019,
          2020
         ],
         "xaxis": "x",
         "y": [
          766.2,
          994.28,
          1077.38,
          1290,
          1391.8,
          1547.7,
          1694.2,
          1870.5,
          2043.258,
          2212.54
         ],
         "yaxis": "y"
        },
        {
         "hovertemplate": "color=Colombia<br>x=%{x}<br>y=%{y}<extra></extra>",
         "legendgroup": "Colombia",
         "marker": {
          "color": "#FECB52",
          "symbol": "circle"
         },
         "mode": "markers",
         "name": "Colombia",
         "showlegend": true,
         "type": "scattergl",
         "x": [
          2011,
          2012,
          2013,
          2014,
          2015,
          2016,
          2017,
          2018,
          2019,
          2020
         ],
         "xaxis": "x",
         "y": [
          50.436,
          49.122,
          50.873,
          48.817,
          49.53,
          50.126,
          62.264,
          60.855,
          55.496,
          50.926
         ],
         "yaxis": "y"
        },
        {
         "hovertemplate": "color=Comoros<br>x=%{x}<br>y=%{y}<extra></extra>",
         "legendgroup": "Comoros",
         "marker": {
          "color": "#636efa",
          "symbol": "circle"
         },
         "mode": "markers",
         "name": "Comoros",
         "showlegend": true,
         "type": "scattergl",
         "x": [
          2011,
          2012,
          2013,
          2014,
          2015,
          2016,
          2017,
          2018,
          2019
         ],
         "xaxis": "x",
         "y": [
          0.005,
          0.003,
          0.002,
          0.002,
          0.002,
          0.002,
          0,
          0,
          0
         ],
         "yaxis": "y"
        },
        {
         "hovertemplate": "color=Congo<br>x=%{x}<br>y=%{y}<extra></extra>",
         "legendgroup": "Congo",
         "marker": {
          "color": "#EF553B",
          "symbol": "circle"
         },
         "mode": "markers",
         "name": "Congo",
         "showlegend": true,
         "type": "scattergl",
         "x": [
          2011,
          2012,
          2013,
          2014,
          2015,
          2016,
          2017,
          2018,
          2019
         ],
         "xaxis": "x",
         "y": [
          0.783,
          0.977,
          0.961,
          0.942,
          1.088,
          1.117,
          1.192,
          1.228,
          1.274
         ],
         "yaxis": "y"
        },
        {
         "hovertemplate": "color=Cook Islands<br>x=%{x}<br>y=%{y}<extra></extra>",
         "legendgroup": "Cook Islands",
         "marker": {
          "color": "#00cc96",
          "symbol": "circle"
         },
         "mode": "markers",
         "name": "Cook Islands",
         "showlegend": true,
         "type": "scattergl",
         "x": [
          2011,
          2012,
          2013,
          2014,
          2015,
          2016,
          2017,
          2018,
          2019
         ],
         "xaxis": "x",
         "y": [
          0,
          0,
          0.001,
          0.001,
          0.003,
          0.005,
          0.006,
          0.011,
          0.011
         ],
         "yaxis": "y"
        },
        {
         "hovertemplate": "color=Costa Rica<br>x=%{x}<br>y=%{y}<extra></extra>",
         "legendgroup": "Costa Rica",
         "marker": {
          "color": "#ab63fa",
          "symbol": "circle"
         },
         "mode": "markers",
         "name": "Costa Rica",
         "showlegend": true,
         "type": "scattergl",
         "x": [
          2011,
          2012,
          2013,
          2014,
          2015,
          2016,
          2017,
          2018,
          2019,
          2020
         ],
         "xaxis": "x",
         "y": [
          8.894,
          9.273,
          8.97,
          9.107,
          10.623,
          10.611,
          11.184,
          11.258,
          11.296,
          11.542
         ],
         "yaxis": "y"
        },
        {
         "hovertemplate": "color=Croatia<br>x=%{x}<br>y=%{y}<extra></extra>",
         "legendgroup": "Croatia",
         "marker": {
          "color": "#FFA15A",
          "symbol": "circle"
         },
         "mode": "markers",
         "name": "Croatia",
         "showlegend": true,
         "type": "scattergl",
         "x": [
          2011,
          2012,
          2013,
          2014,
          2015,
          2016,
          2017,
          2018,
          2019,
          2020
         ],
         "xaxis": "x",
         "y": [
          5.287,
          5.262,
          9.276,
          9.936,
          7.509,
          8.363,
          7.116,
          9.781,
          8.298,
          8.152
         ],
         "yaxis": "y"
        },
        {
         "hovertemplate": "color=Cuba<br>x=%{x}<br>y=%{y}<extra></extra>",
         "legendgroup": "Cuba",
         "marker": {
          "color": "#19d3f3",
          "symbol": "circle"
         },
         "mode": "markers",
         "name": "Cuba",
         "showlegend": true,
         "type": "scattergl",
         "x": [
          2011,
          2012,
          2013,
          2014,
          2015,
          2016,
          2017,
          2018,
          2019
         ],
         "xaxis": "x",
         "y": [
          0.574,
          0.683,
          0.832,
          0.777,
          0.801,
          0.809,
          0.785,
          0.757,
          0.706
         ],
         "yaxis": "y"
        },
        {
         "hovertemplate": "color=Cyprus<br>x=%{x}<br>y=%{y}<extra></extra>",
         "legendgroup": "Cyprus",
         "marker": {
          "color": "#FF6692",
          "symbol": "circle"
         },
         "mode": "markers",
         "name": "Cyprus",
         "showlegend": true,
         "type": "scattergl",
         "x": [
          2011,
          2012,
          2013,
          2014,
          2015,
          2016,
          2017,
          2018,
          2019,
          2020
         ],
         "xaxis": "x",
         "y": [
          0.178,
          0.257,
          0.327,
          0.317,
          0.4,
          0.425,
          0.435,
          0.477,
          0.496,
          0.514
         ],
         "yaxis": "y"
        },
        {
         "hovertemplate": "color=Czechia<br>x=%{x}<br>y=%{y}<extra></extra>",
         "legendgroup": "Czechia",
         "marker": {
          "color": "#B6E880",
          "symbol": "circle"
         },
         "mode": "markers",
         "name": "Czechia",
         "showlegend": true,
         "type": "scattergl",
         "x": [
          2011,
          2012,
          2013,
          2014,
          2015,
          2016,
          2017,
          2018,
          2019,
          2020
         ],
         "xaxis": "x",
         "y": [
          7.246,
          8.065,
          9.308,
          9.172,
          9.42,
          9.384,
          9.621,
          9.425,
          9.298,
          9.755
         ],
         "yaxis": "y"
        },
        {
         "hovertemplate": "color=Democratic Republic of Congo<br>x=%{x}<br>y=%{y}<extra></extra>",
         "legendgroup": "Democratic Republic of Congo",
         "marker": {
          "color": "#FF97FF",
          "symbol": "circle"
         },
         "mode": "markers",
         "name": "Democratic Republic of Congo",
         "showlegend": true,
         "type": "scattergl",
         "x": [
          2011,
          2012,
          2013,
          2014,
          2015,
          2016,
          2017,
          2018,
          2019
         ],
         "xaxis": "x",
         "y": [
          7.733,
          7.527,
          8.166,
          8.752,
          8.849,
          9.035,
          9.414,
          10.47,
          11.007
         ],
         "yaxis": "y"
        },
        {
         "hovertemplate": "color=Denmark<br>x=%{x}<br>y=%{y}<extra></extra>",
         "legendgroup": "Denmark",
         "marker": {
          "color": "#FECB52",
          "symbol": "circle"
         },
         "mode": "markers",
         "name": "Denmark",
         "showlegend": true,
         "type": "scattergl",
         "x": [
          2011,
          2012,
          2013,
          2014,
          2015,
          2016,
          2017,
          2018,
          2019,
          2020
         ],
         "xaxis": "x",
         "y": [
          14.181,
          14.837,
          15.968,
          17.984,
          18.937,
          18.39,
          21.813,
          20.766,
          22.613,
          22.719
         ],
         "yaxis": "y"
        },
        {
         "hovertemplate": "color=Djibouti<br>x=%{x}<br>y=%{y}<extra></extra>",
         "legendgroup": "Djibouti",
         "marker": {
          "color": "#636efa",
          "symbol": "circle"
         },
         "mode": "markers",
         "name": "Djibouti",
         "showlegend": true,
         "type": "scattergl",
         "x": [
          2011,
          2012,
          2013,
          2014,
          2015,
          2016,
          2017,
          2018,
          2019
         ],
         "xaxis": "x",
         "y": [
          0,
          0,
          0,
          0,
          0,
          0,
          0,
          0.001,
          0.001
         ],
         "yaxis": "y"
        },
        {
         "hovertemplate": "color=Dominica<br>x=%{x}<br>y=%{y}<extra></extra>",
         "legendgroup": "Dominica",
         "marker": {
          "color": "#EF553B",
          "symbol": "circle"
         },
         "mode": "markers",
         "name": "Dominica",
         "showlegend": true,
         "type": "scattergl",
         "x": [
          2011,
          2012,
          2013,
          2014,
          2015,
          2016,
          2017,
          2018,
          2019
         ],
         "xaxis": "x",
         "y": [
          0.036,
          0.027,
          0.037,
          0.031,
          0.025,
          0.037,
          0.028,
          0.025,
          0.021
         ],
         "yaxis": "y"
        },
        {
         "hovertemplate": "color=Dominican Republic<br>x=%{x}<br>y=%{y}<extra></extra>",
         "legendgroup": "Dominican Republic",
         "marker": {
          "color": "#00cc96",
          "symbol": "circle"
         },
         "mode": "markers",
         "name": "Dominican Republic",
         "showlegend": true,
         "type": "scattergl",
         "x": [
          2011,
          2012,
          2013,
          2014,
          2015,
          2016,
          2017,
          2018,
          2019
         ],
         "xaxis": "x",
         "y": [
          1.62,
          1.959,
          2.21,
          1.654,
          1.33,
          1.973,
          2.856,
          2.698,
          2.487
         ],
         "yaxis": "y"
        },
        {
         "hovertemplate": "color=Ecuador<br>x=%{x}<br>y=%{y}<extra></extra>",
         "legendgroup": "Ecuador",
         "marker": {
          "color": "#ab63fa",
          "symbol": "circle"
         },
         "mode": "markers",
         "name": "Ecuador",
         "showlegend": true,
         "type": "scattergl",
         "x": [
          2011,
          2012,
          2013,
          2014,
          2015,
          2016,
          2017,
          2018,
          2019
         ],
         "xaxis": "x",
         "y": [
          11.303,
          12.414,
          11.289,
          11.838,
          13.509,
          16.288,
          20.456,
          21.017,
          24.997
         ],
         "yaxis": "y"
        },
        {
         "hovertemplate": "color=Egypt<br>x=%{x}<br>y=%{y}<extra></extra>",
         "legendgroup": "Egypt",
         "marker": {
          "color": "#FFA15A",
          "symbol": "circle"
         },
         "mode": "markers",
         "name": "Egypt",
         "showlegend": true,
         "type": "scattergl",
         "x": [
          2011,
          2012,
          2013,
          2014,
          2015,
          2016,
          2017,
          2018,
          2019
         ],
         "xaxis": "x",
         "y": [
          14.863,
          14.661,
          15.08,
          15.693,
          15.954,
          15.813,
          15.84,
          16.945,
          19.329
         ],
         "yaxis": "y"
        },
        {
         "hovertemplate": "color=El Salvador<br>x=%{x}<br>y=%{y}<extra></extra>",
         "legendgroup": "El Salvador",
         "marker": {
          "color": "#19d3f3",
          "symbol": "circle"
         },
         "mode": "markers",
         "name": "El Salvador",
         "showlegend": true,
         "type": "scattergl",
         "x": [
          2011,
          2012,
          2013,
          2014,
          2015,
          2016,
          2017,
          2018,
          2019
         ],
         "xaxis": "x",
         "y": [
          3.719,
          3.637,
          3.69,
          3.618,
          3.154,
          3.164,
          3.603,
          3.6,
          3.578
         ],
         "yaxis": "y"
        },
        {
         "hovertemplate": "color=Equatorial Guinea<br>x=%{x}<br>y=%{y}<extra></extra>",
         "legendgroup": "Equatorial Guinea",
         "marker": {
          "color": "#FF6692",
          "symbol": "circle"
         },
         "mode": "markers",
         "name": "Equatorial Guinea",
         "showlegend": true,
         "type": "scattergl",
         "x": [
          2011,
          2012,
          2013,
          2014,
          2015,
          2016,
          2017,
          2018,
          2019
         ],
         "xaxis": "x",
         "y": [
          0.028,
          0.08,
          0.251,
          0.379,
          0.561,
          0.565,
          0.434,
          0.58,
          0.586
         ],
         "yaxis": "y"
        },
        {
         "hovertemplate": "color=Eritrea<br>x=%{x}<br>y=%{y}<extra></extra>",
         "legendgroup": "Eritrea",
         "marker": {
          "color": "#B6E880",
          "symbol": "circle"
         },
         "mode": "markers",
         "name": "Eritrea",
         "showlegend": true,
         "type": "scattergl",
         "x": [
          2011,
          2012,
          2013,
          2014,
          2015,
          2016,
          2017,
          2018,
          2019
         ],
         "xaxis": "x",
         "y": [
          0.004,
          0.004,
          0.004,
          0.004,
          0.004,
          0.004,
          0.013,
          0.045,
          0.062
         ],
         "yaxis": "y"
        },
        {
         "hovertemplate": "color=Estonia<br>x=%{x}<br>y=%{y}<extra></extra>",
         "legendgroup": "Estonia",
         "marker": {
          "color": "#FF97FF",
          "symbol": "circle"
         },
         "mode": "markers",
         "name": "Estonia",
         "showlegend": true,
         "type": "scattergl",
         "x": [
          2011,
          2012,
          2013,
          2014,
          2015,
          2016,
          2017,
          2018,
          2019,
          2020
         ],
         "xaxis": "x",
         "y": [
          1.18,
          1.476,
          1.22,
          1.389,
          1.502,
          1.524,
          1.801,
          1.989,
          2.077,
          2.249
         ],
         "yaxis": "y"
        },
        {
         "hovertemplate": "color=Ethiopia<br>x=%{x}<br>y=%{y}<extra></extra>",
         "legendgroup": "Ethiopia",
         "marker": {
          "color": "#FECB52",
          "symbol": "circle"
         },
         "mode": "markers",
         "name": "Ethiopia",
         "showlegend": true,
         "type": "scattergl",
         "x": [
          2011,
          2012,
          2013,
          2014,
          2015,
          2016,
          2017,
          2018,
          2019
         ],
         "xaxis": "x",
         "y": [
          6.283,
          7.546,
          8.653,
          9.47,
          10.385,
          12.464,
          13.137,
          13.47,
          14.574
         ],
         "yaxis": "y"
        },
        {
         "hovertemplate": "color=Fiji<br>x=%{x}<br>y=%{y}<extra></extra>",
         "legendgroup": "Fiji",
         "marker": {
          "color": "#636efa",
          "symbol": "circle"
         },
         "mode": "markers",
         "name": "Fiji",
         "showlegend": true,
         "type": "scattergl",
         "x": [
          2011,
          2012,
          2013,
          2014,
          2015,
          2016,
          2017,
          2018,
          2019
         ],
         "xaxis": "x",
         "y": [
          0.529,
          0.59,
          0.587,
          0.484,
          0.478,
          0.554,
          0.559,
          0.636,
          0.642
         ],
         "yaxis": "y"
        },
        {
         "hovertemplate": "color=Finland<br>x=%{x}<br>y=%{y}<extra></extra>",
         "legendgroup": "Finland",
         "marker": {
          "color": "#EF553B",
          "symbol": "circle"
         },
         "mode": "markers",
         "name": "Finland",
         "showlegend": true,
         "type": "scattergl",
         "x": [
          2011,
          2012,
          2013,
          2014,
          2015,
          2016,
          2017,
          2018,
          2019,
          2020
         ],
         "xaxis": "x",
         "y": [
          24.177,
          28.559,
          25.63,
          26.271,
          30.527,
          30.412,
          31.477,
          32.14,
          31.18,
          33.686
         ],
         "yaxis": "y"
        },
        {
         "hovertemplate": "color=France<br>x=%{x}<br>y=%{y}<extra></extra>",
         "legendgroup": "France",
         "marker": {
          "color": "#00cc96",
          "symbol": "circle"
         },
         "mode": "markers",
         "name": "France",
         "showlegend": true,
         "type": "scattergl",
         "x": [
          2011,
          2012,
          2013,
          2014,
          2015,
          2016,
          2017,
          2018,
          2019,
          2020
         ],
         "xaxis": "x",
         "y": [
          66.026,
          85.208,
          99.283,
          93.961,
          91.832,
          99.013,
          92.617,
          113.397,
          112.397,
          123.274
         ],
         "yaxis": "y"
        },
        {
         "hovertemplate": "color=French Guiana<br>x=%{x}<br>y=%{y}<extra></extra>",
         "legendgroup": "French Guiana",
         "marker": {
          "color": "#ab63fa",
          "symbol": "circle"
         },
         "mode": "markers",
         "name": "French Guiana",
         "showlegend": true,
         "type": "scattergl",
         "x": [
          2011,
          2012,
          2013,
          2014,
          2015,
          2016,
          2017,
          2018,
          2019
         ],
         "xaxis": "x",
         "y": [
          0.699,
          0.62,
          0.547,
          0.564,
          0.559,
          0.499,
          0.626,
          0.6,
          0.613
         ],
         "yaxis": "y"
        },
        {
         "hovertemplate": "color=French Polynesia<br>x=%{x}<br>y=%{y}<extra></extra>",
         "legendgroup": "French Polynesia",
         "marker": {
          "color": "#FFA15A",
          "symbol": "circle"
         },
         "mode": "markers",
         "name": "French Polynesia",
         "showlegend": true,
         "type": "scattergl",
         "x": [
          2011,
          2012,
          2013,
          2014,
          2015,
          2016,
          2017,
          2018,
          2019
         ],
         "xaxis": "x",
         "y": [
          0.23,
          0.216,
          0.175,
          0.195,
          0.199,
          0.217,
          0.212,
          0.203,
          0.22
         ],
         "yaxis": "y"
        },
        {
         "hovertemplate": "color=Gabon<br>x=%{x}<br>y=%{y}<extra></extra>",
         "legendgroup": "Gabon",
         "marker": {
          "color": "#19d3f3",
          "symbol": "circle"
         },
         "mode": "markers",
         "name": "Gabon",
         "showlegend": true,
         "type": "scattergl",
         "x": [
          2011,
          2012,
          2013,
          2014,
          2015,
          2016,
          2017,
          2018,
          2019
         ],
         "xaxis": "x",
         "y": [
          0.842,
          0.912,
          0.939,
          0.798,
          0.921,
          0.956,
          0.933,
          0.905,
          0.9
         ],
         "yaxis": "y"
        },
        {
         "hovertemplate": "color=Gambia<br>x=%{x}<br>y=%{y}<extra></extra>",
         "legendgroup": "Gambia",
         "marker": {
          "color": "#FF6692",
          "symbol": "circle"
         },
         "mode": "markers",
         "name": "Gambia",
         "showlegend": true,
         "type": "scattergl",
         "x": [
          2011,
          2012,
          2013,
          2014,
          2015,
          2016,
          2017,
          2018,
          2019
         ],
         "xaxis": "x",
         "y": [
          0.004,
          0.003,
          0.003,
          0.003,
          0.003,
          0.003,
          0.003,
          0.003,
          0.003
         ],
         "yaxis": "y"
        },
        {
         "hovertemplate": "color=Georgia<br>x=%{x}<br>y=%{y}<extra></extra>",
         "legendgroup": "Georgia",
         "marker": {
          "color": "#B6E880",
          "symbol": "circle"
         },
         "mode": "markers",
         "name": "Georgia",
         "showlegend": true,
         "type": "scattergl",
         "x": [
          2011,
          2012,
          2013,
          2014,
          2015,
          2016,
          2017,
          2018,
          2019
         ],
         "xaxis": "x",
         "y": [
          7.811,
          7.151,
          8.188,
          8.252,
          8.369,
          9.245,
          9.206,
          9.934,
          8.928
         ],
         "yaxis": "y"
        },
        {
         "hovertemplate": "color=Germany<br>x=%{x}<br>y=%{y}<extra></extra>",
         "legendgroup": "Germany",
         "marker": {
          "color": "#FF97FF",
          "symbol": "circle"
         },
         "mode": "markers",
         "name": "Germany",
         "showlegend": true,
         "type": "scattergl",
         "x": [
          2011,
          2012,
          2013,
          2014,
          2015,
          2016,
          2017,
          2018,
          2019,
          2020
         ],
         "xaxis": "x",
         "y": [
          124.1,
          143.1,
          152.3,
          162.6,
          188.8,
          189.7,
          216.5,
          224.9,
          242.4,
          254.7
         ],
         "yaxis": "y"
        },
        {
         "hovertemplate": "color=Ghana<br>x=%{x}<br>y=%{y}<extra></extra>",
         "legendgroup": "Ghana",
         "marker": {
          "color": "#FECB52",
          "symbol": "circle"
         },
         "mode": "markers",
         "name": "Ghana",
         "showlegend": true,
         "type": "scattergl",
         "x": [
          2011,
          2012,
          2013,
          2014,
          2015,
          2016,
          2017,
          2018,
          2019
         ],
         "xaxis": "x",
         "y": [
          7.501,
          8.006,
          8.17,
          8.326,
          5.809,
          5.551,
          5.605,
          6.007,
          6.063
         ],
         "yaxis": "y"
        },
        {
         "hovertemplate": "color=Gibraltar<br>x=%{x}<br>y=%{y}<extra></extra>",
         "legendgroup": "Gibraltar",
         "marker": {
          "color": "#636efa",
          "symbol": "circle"
         },
         "mode": "markers",
         "name": "Gibraltar",
         "showlegend": true,
         "type": "scattergl",
         "x": [
          2011,
          2012,
          2013,
          2014,
          2015,
          2016,
          2017,
          2018,
          2019
         ],
         "xaxis": "x",
         "y": [
          0,
          0,
          0,
          0,
          0,
          0,
          0,
          0,
          0
         ],
         "yaxis": "y"
        },
        {
         "hovertemplate": "color=Greece<br>x=%{x}<br>y=%{y}<extra></extra>",
         "legendgroup": "Greece",
         "marker": {
          "color": "#EF553B",
          "symbol": "circle"
         },
         "mode": "markers",
         "name": "Greece",
         "showlegend": true,
         "type": "scattergl",
         "x": [
          2011,
          2012,
          2013,
          2014,
          2015,
          2016,
          2017,
          2018,
          2019,
          2020
         ],
         "xaxis": "x",
         "y": [
          8.144,
          10.151,
          14.35,
          12.176,
          14.85,
          14.893,
          13.801,
          16.148,
          15.807,
          17.356
         ],
         "yaxis": "y"
        },
        {
         "hovertemplate": "color=Greenland<br>x=%{x}<br>y=%{y}<extra></extra>",
         "legendgroup": "Greenland",
         "marker": {
          "color": "#00cc96",
          "symbol": "circle"
         },
         "mode": "markers",
         "name": "Greenland",
         "showlegend": true,
         "type": "scattergl",
         "x": [
          2011,
          2012,
          2013,
          2014,
          2015,
          2016,
          2017,
          2018,
          2019
         ],
         "xaxis": "x",
         "y": [
          0.335,
          0.342,
          0.374,
          0.392,
          0.419,
          0.397,
          0.384,
          0.414,
          0.412
         ],
         "yaxis": "y"
        },
        {
         "hovertemplate": "color=Grenada<br>x=%{x}<br>y=%{y}<extra></extra>",
         "legendgroup": "Grenada",
         "marker": {
          "color": "#ab63fa",
          "symbol": "circle"
         },
         "mode": "markers",
         "name": "Grenada",
         "showlegend": true,
         "type": "scattergl",
         "x": [
          2011,
          2012,
          2013,
          2014,
          2015,
          2016,
          2017,
          2018,
          2019
         ],
         "xaxis": "x",
         "y": [
          0.003,
          0.003,
          0.003,
          0.007,
          0.002,
          0.003,
          0.003,
          0.003,
          0.003
         ],
         "yaxis": "y"
        },
        {
         "hovertemplate": "color=Guadeloupe<br>x=%{x}<br>y=%{y}<extra></extra>",
         "legendgroup": "Guadeloupe",
         "marker": {
          "color": "#FFA15A",
          "symbol": "circle"
         },
         "mode": "markers",
         "name": "Guadeloupe",
         "showlegend": true,
         "type": "scattergl",
         "x": [
          2011,
          2012,
          2013,
          2014,
          2015,
          2016,
          2017,
          2018,
          2019
         ],
         "xaxis": "x",
         "y": [
          0.233,
          0.204,
          0.202,
          0.218,
          0.209,
          0.197,
          0.209,
          0.215,
          0.224
         ],
         "yaxis": "y"
        },
        {
         "hovertemplate": "color=Guam<br>x=%{x}<br>y=%{y}<extra></extra>",
         "legendgroup": "Guam",
         "marker": {
          "color": "#19d3f3",
          "symbol": "circle"
         },
         "mode": "markers",
         "name": "Guam",
         "showlegend": true,
         "type": "scattergl",
         "x": [
          2011,
          2012,
          2013,
          2014,
          2015,
          2016,
          2017,
          2018,
          2019
         ],
         "xaxis": "x",
         "y": [
          0,
          0.001,
          0.002,
          0.003,
          0.031,
          0.066,
          0.06,
          0.068,
          0.068
         ],
         "yaxis": "y"
        },
        {
         "hovertemplate": "color=Guatemala<br>x=%{x}<br>y=%{y}<extra></extra>",
         "legendgroup": "Guatemala",
         "marker": {
          "color": "#FF6692",
          "symbol": "circle"
         },
         "mode": "markers",
         "name": "Guatemala",
         "showlegend": true,
         "type": "scattergl",
         "x": [
          2011,
          2012,
          2013,
          2014,
          2015,
          2016,
          2017,
          2018,
          2019
         ],
         "xaxis": "x",
         "y": [
          5.864,
          6.424,
          6.994,
          7.392,
          6.719,
          7.354,
          8.984,
          8.659,
          8.064
         ],
         "yaxis": "y"
        },
        {
         "hovertemplate": "color=Guinea<br>x=%{x}<br>y=%{y}<extra></extra>",
         "legendgroup": "Guinea",
         "marker": {
          "color": "#B6E880",
          "symbol": "circle"
         },
         "mode": "markers",
         "name": "Guinea",
         "showlegend": true,
         "type": "scattergl",
         "x": [
          2011,
          2012,
          2013,
          2014,
          2015,
          2016,
          2017,
          2018,
          2019
         ],
         "xaxis": "x",
         "y": [
          0.414,
          0.487,
          0.482,
          0.427,
          0.902,
          1.105,
          1.233,
          0.762,
          0.715
         ],
         "yaxis": "y"
        },
        {
         "hovertemplate": "color=Guinea-Bissau<br>x=%{x}<br>y=%{y}<extra></extra>",
         "legendgroup": "Guinea-Bissau",
         "marker": {
          "color": "#FF97FF",
          "symbol": "circle"
         },
         "mode": "markers",
         "name": "Guinea-Bissau",
         "showlegend": true,
         "type": "scattergl",
         "x": [
          2011,
          2012,
          2013,
          2014,
          2015,
          2016,
          2017,
          2018,
          2019
         ],
         "xaxis": "x",
         "y": [
          0,
          0,
          0,
          0,
          0.001,
          0.001,
          0.001,
          0.002,
          0.002
         ],
         "yaxis": "y"
        },
        {
         "hovertemplate": "color=Guyana<br>x=%{x}<br>y=%{y}<extra></extra>",
         "legendgroup": "Guyana",
         "marker": {
          "color": "#FECB52",
          "symbol": "circle"
         },
         "mode": "markers",
         "name": "Guyana",
         "showlegend": true,
         "type": "scattergl",
         "x": [
          2011,
          2012,
          2013,
          2014,
          2015,
          2016,
          2017,
          2018,
          2019
         ],
         "xaxis": "x",
         "y": [
          0.013,
          0.019,
          0.022,
          0.022,
          0.029,
          0.022,
          0.019,
          0.019,
          0.014
         ],
         "yaxis": "y"
        },
        {
         "hovertemplate": "color=Haiti<br>x=%{x}<br>y=%{y}<extra></extra>",
         "legendgroup": "Haiti",
         "marker": {
          "color": "#636efa",
          "symbol": "circle"
         },
         "mode": "markers",
         "name": "Haiti",
         "showlegend": true,
         "type": "scattergl",
         "x": [
          2011,
          2012,
          2013,
          2014,
          2015,
          2016,
          2017,
          2018,
          2019
         ],
         "xaxis": "x",
         "y": [
          0.121,
          0.221,
          0.142,
          0.091,
          0.085,
          0.071,
          0.127,
          0.196,
          0.234
         ],
         "yaxis": "y"
        },
        {
         "hovertemplate": "color=Honduras<br>x=%{x}<br>y=%{y}<extra></extra>",
         "legendgroup": "Honduras",
         "marker": {
          "color": "#EF553B",
          "symbol": "circle"
         },
         "mode": "markers",
         "name": "Honduras",
         "showlegend": true,
         "type": "scattergl",
         "x": [
          2011,
          2012,
          2013,
          2014,
          2015,
          2016,
          2017,
          2018,
          2019
         ],
         "xaxis": "x",
         "y": [
          3.441,
          3.638,
          3.623,
          3.358,
          3.923,
          4.579,
          5.557,
          6.365,
          6.808
         ],
         "yaxis": "y"
        },
        {
         "hovertemplate": "color=Hong Kong<br>x=%{x}<br>y=%{y}<extra></extra>",
         "legendgroup": "Hong Kong",
         "marker": {
          "color": "#00cc96",
          "symbol": "circle"
         },
         "mode": "markers",
         "name": "Hong Kong",
         "showlegend": true,
         "type": "scattergl",
         "x": [
          2011,
          2012,
          2013,
          2014,
          2015,
          2016,
          2017,
          2018,
          2019
         ],
         "xaxis": "x",
         "y": [
          0.045,
          0.042,
          0.038,
          0.045,
          0.073,
          0.092,
          0.091,
          0.093,
          0.1
         ],
         "yaxis": "y"
        },
        {
         "hovertemplate": "color=Hungary<br>x=%{x}<br>y=%{y}<extra></extra>",
         "legendgroup": "Hungary",
         "marker": {
          "color": "#ab63fa",
          "symbol": "circle"
         },
         "mode": "markers",
         "name": "Hungary",
         "showlegend": true,
         "type": "scattergl",
         "x": [
          2011,
          2012,
          2013,
          2014,
          2015,
          2016,
          2017,
          2018,
          2019,
          2020
         ],
         "xaxis": "x",
         "y": [
          2.708,
          2.646,
          2.787,
          3.151,
          3.229,
          3.258,
          3.482,
          3.753,
          4.73,
          4.953
         ],
         "yaxis": "y"
        },
        {
         "hovertemplate": "color=Iceland<br>x=%{x}<br>y=%{y}<extra></extra>",
         "legendgroup": "Iceland",
         "marker": {
          "color": "#FFA15A",
          "symbol": "circle"
         },
         "mode": "markers",
         "name": "Iceland",
         "showlegend": true,
         "type": "scattergl",
         "x": [
          2011,
          2012,
          2013,
          2014,
          2015,
          2016,
          2017,
          2018,
          2019
         ],
         "xaxis": "x",
         "y": [
          16.849,
          17.293,
          17.995,
          17.8,
          18.554,
          18.169,
          18.844,
          19.43,
          19.262
         ],
         "yaxis": "y"
        },
        {
         "hovertemplate": "color=India<br>x=%{x}<br>y=%{y}<extra></extra>",
         "legendgroup": "India",
         "marker": {
          "color": "#19d3f3",
          "symbol": "circle"
         },
         "mode": "markers",
         "name": "India",
         "showlegend": true,
         "type": "scattergl",
         "x": [
          2011,
          2012,
          2013,
          2014,
          2015,
          2016,
          2017,
          2018,
          2019,
          2020
         ],
         "xaxis": "x",
         "y": [
          174.621,
          168.598,
          192.275,
          199.063,
          188.587,
          199.483,
          223.857,
          254.535,
          286.385,
          298.242
         ],
         "yaxis": "y"
        },
        {
         "hovertemplate": "color=Indonesia<br>x=%{x}<br>y=%{y}<extra></extra>",
         "legendgroup": "Indonesia",
         "marker": {
          "color": "#FF6692",
          "symbol": "circle"
         },
         "mode": "markers",
         "name": "Indonesia",
         "showlegend": true,
         "type": "scattergl",
         "x": [
          2011,
          2012,
          2013,
          2014,
          2015,
          2016,
          2017,
          2018,
          2019
         ],
         "xaxis": "x",
         "y": [
          21.888,
          22.367,
          26.354,
          26.018,
          24.797,
          30.972,
          32.074,
          49.134,
          47.663
         ],
         "yaxis": "y"
        },
        {
         "hovertemplate": "color=Iran<br>x=%{x}<br>y=%{y}<extra></extra>",
         "legendgroup": "Iran",
         "marker": {
          "color": "#B6E880",
          "symbol": "circle"
         },
         "mode": "markers",
         "name": "Iran",
         "showlegend": true,
         "type": "scattergl",
         "x": [
          2011,
          2012,
          2013,
          2014,
          2015,
          2016,
          2017,
          2018,
          2019,
          2020
         ],
         "xaxis": "x",
         "y": [
          12.176,
          12.553,
          14.837,
          14.13,
          14.184,
          16.535,
          15.315,
          16.221,
          30.737,
          22.618
         ],
         "yaxis": "y"
        },
        {
         "hovertemplate": "color=Iraq<br>x=%{x}<br>y=%{y}<extra></extra>",
         "legendgroup": "Iraq",
         "marker": {
          "color": "#FF97FF",
          "symbol": "circle"
         },
         "mode": "markers",
         "name": "Iraq",
         "showlegend": true,
         "type": "scattergl",
         "x": [
          2011,
          2012,
          2013,
          2014,
          2015,
          2016,
          2017,
          2018,
          2019
         ],
         "xaxis": "x",
         "y": [
          3.363,
          4.348,
          4.755,
          2.959,
          2.578,
          3.394,
          2.211,
          1.857,
          2.51
         ],
         "yaxis": "y"
        },
        {
         "hovertemplate": "color=Ireland<br>x=%{x}<br>y=%{y}<extra></extra>",
         "legendgroup": "Ireland",
         "marker": {
          "color": "#FECB52",
          "symbol": "circle"
         },
         "mode": "markers",
         "name": "Ireland",
         "showlegend": true,
         "type": "scattergl",
         "x": [
          2011,
          2012,
          2013,
          2014,
          2015,
          2016,
          2017,
          2018,
          2019,
          2020
         ],
         "xaxis": "x",
         "y": [
          5.424,
          5.256,
          5.628,
          6.392,
          7.861,
          7.513,
          8.879,
          10.195,
          11.209,
          12.89
         ],
         "yaxis": "y"
        },
        {
         "hovertemplate": "color=Israel<br>x=%{x}<br>y=%{y}<extra></extra>",
         "legendgroup": "Israel",
         "marker": {
          "color": "#636efa",
          "symbol": "circle"
         },
         "mode": "markers",
         "name": "Israel",
         "showlegend": true,
         "type": "scattergl",
         "x": [
          2011,
          2012,
          2013,
          2014,
          2015,
          2016,
          2017,
          2018,
          2019
         ],
         "xaxis": "x",
         "y": [
          0.281,
          0.461,
          0.607,
          0.957,
          1.317,
          1.761,
          1.729,
          1.809,
          2.832
         ],
         "yaxis": "y"
        },
        {
         "hovertemplate": "color=Italy<br>x=%{x}<br>y=%{y}<extra></extra>",
         "legendgroup": "Italy",
         "marker": {
          "color": "#EF553B",
          "symbol": "circle"
         },
         "mode": "markers",
         "name": "Italy",
         "showlegend": true,
         "type": "scattergl",
         "x": [
          2011,
          2012,
          2013,
          2014,
          2015,
          2016,
          2017,
          2018,
          2019,
          2020
         ],
         "xaxis": "x",
         "y": [
          82.96,
          92.221,
          112.001,
          120.67,
          108.894,
          108.011,
          103.886,
          114.402,
          117.079,
          118.854
         ],
         "yaxis": "y"
        },
        {
         "hovertemplate": "color=Jamaica<br>x=%{x}<br>y=%{y}<extra></extra>",
         "legendgroup": "Jamaica",
         "marker": {
          "color": "#00cc96",
          "symbol": "circle"
         },
         "mode": "markers",
         "name": "Jamaica",
         "showlegend": true,
         "type": "scattergl",
         "x": [
          2011,
          2012,
          2013,
          2014,
          2015,
          2016,
          2017,
          2018,
          2019
         ],
         "xaxis": "x",
         "y": [
          0.269,
          0.284,
          0.26,
          0.287,
          0.283,
          0.345,
          0.51,
          0.544,
          0.561
         ],
         "yaxis": "y"
        },
        {
         "hovertemplate": "color=Japan<br>x=%{x}<br>y=%{y}<extra></extra>",
         "legendgroup": "Japan",
         "marker": {
          "color": "#ab63fa",
          "symbol": "circle"
         },
         "mode": "markers",
         "name": "Japan",
         "showlegend": true,
         "type": "scattergl",
         "x": [
          2011,
          2012,
          2013,
          2014,
          2015,
          2016,
          2017,
          2018,
          2019,
          2020
         ],
         "xaxis": "x",
         "y": [
          146.116,
          140.574,
          152.118,
          166.545,
          183.412,
          188.028,
          208.35,
          216.343,
          225.538,
          247.598
         ],
         "yaxis": "y"
        },
        {
         "hovertemplate": "color=Jordan<br>x=%{x}<br>y=%{y}<extra></extra>",
         "legendgroup": "Jordan",
         "marker": {
          "color": "#FFA15A",
          "symbol": "circle"
         },
         "mode": "markers",
         "name": "Jordan",
         "showlegend": true,
         "type": "scattergl",
         "x": [
          2011,
          2012,
          2013,
          2014,
          2015,
          2016,
          2017,
          2018,
          2019
         ],
         "xaxis": "x",
         "y": [
          0.065,
          0.069,
          0.061,
          0.063,
          0.179,
          0.858,
          1.398,
          2.188,
          2.717
         ],
         "yaxis": "y"
        },
        {
         "hovertemplate": "color=Kazakhstan<br>x=%{x}<br>y=%{y}<extra></extra>",
         "legendgroup": "Kazakhstan",
         "marker": {
          "color": "#19d3f3",
          "symbol": "circle"
         },
         "mode": "markers",
         "name": "Kazakhstan",
         "showlegend": true,
         "type": "scattergl",
         "x": [
          2011,
          2012,
          2013,
          2014,
          2015,
          2016,
          2017,
          2018,
          2019,
          2020
         ],
         "xaxis": "x",
         "y": [
          7.805,
          7.564,
          7.661,
          8.291,
          9.429,
          11.92,
          11.6,
          11.137,
          10.629,
          11.425
         ],
         "yaxis": "y"
        },
        {
         "hovertemplate": "color=Kenya<br>x=%{x}<br>y=%{y}<extra></extra>",
         "legendgroup": "Kenya",
         "marker": {
          "color": "#FF6692",
          "symbol": "circle"
         },
         "mode": "markers",
         "name": "Kenya",
         "showlegend": true,
         "type": "scattergl",
         "x": [
          2011,
          2012,
          2013,
          2014,
          2015,
          2016,
          2017,
          2018,
          2019
         ],
         "xaxis": "x",
         "y": [
          5.12,
          6.008,
          5.915,
          6.404,
          8.489,
          8.011,
          8.175,
          9.652,
          10.192
         ],
         "yaxis": "y"
        },
        {
         "hovertemplate": "color=Kiribati<br>x=%{x}<br>y=%{y}<extra></extra>",
         "legendgroup": "Kiribati",
         "marker": {
          "color": "#B6E880",
          "symbol": "circle"
         },
         "mode": "markers",
         "name": "Kiribati",
         "showlegend": true,
         "type": "scattergl",
         "x": [
          2011,
          2012,
          2013,
          2014,
          2015,
          2016,
          2017,
          2018,
          2019
         ],
         "xaxis": "x",
         "y": [
          0.001,
          0.001,
          0.001,
          0.001,
          0.004,
          0.005,
          0.005,
          0.005,
          0.005
         ],
         "yaxis": "y"
        },
        {
         "hovertemplate": "color=Kuwait<br>x=%{x}<br>y=%{y}<extra></extra>",
         "legendgroup": "Kuwait",
         "marker": {
          "color": "#FF97FF",
          "symbol": "circle"
         },
         "mode": "markers",
         "name": "Kuwait",
         "showlegend": true,
         "type": "scattergl",
         "x": [
          2011,
          2012,
          2013,
          2014,
          2015,
          2016,
          2017,
          2018,
          2019
         ],
         "xaxis": "x",
         "y": [
          0,
          0,
          0.004,
          0.007,
          0.009,
          0.053,
          0.067,
          0.084,
          0.158
         ],
         "yaxis": "y"
        },
        {
         "hovertemplate": "color=Kyrgyzstan<br>x=%{x}<br>y=%{y}<extra></extra>",
         "legendgroup": "Kyrgyzstan",
         "marker": {
          "color": "#FECB52",
          "symbol": "circle"
         },
         "mode": "markers",
         "name": "Kyrgyzstan",
         "showlegend": true,
         "type": "scattergl",
         "x": [
          2011,
          2012,
          2013,
          2014,
          2015,
          2016,
          2017,
          2018,
          2019
         ],
         "xaxis": "x",
         "y": [
          13.998,
          14.037,
          12.996,
          13.165,
          10.989,
          11.379,
          14.061,
          14.175,
          13.706
         ],
         "yaxis": "y"
        },
        {
         "hovertemplate": "color=Laos<br>x=%{x}<br>y=%{y}<extra></extra>",
         "legendgroup": "Laos",
         "marker": {
          "color": "#636efa",
          "symbol": "circle"
         },
         "mode": "markers",
         "name": "Laos",
         "showlegend": true,
         "type": "scattergl",
         "x": [
          2011,
          2012,
          2013,
          2014,
          2015,
          2016,
          2017,
          2018,
          2019
         ],
         "xaxis": "x",
         "y": [
          12.839,
          12.926,
          15.356,
          15.126,
          13.908,
          17.536,
          19.93,
          22.167,
          19.409
         ],
         "yaxis": "y"
        },
        {
         "hovertemplate": "color=Latvia<br>x=%{x}<br>y=%{y}<extra></extra>",
         "legendgroup": "Latvia",
         "marker": {
          "color": "#EF553B",
          "symbol": "circle"
         },
         "mode": "markers",
         "name": "Latvia",
         "showlegend": true,
         "type": "scattergl",
         "x": [
          2011,
          2012,
          2013,
          2014,
          2015,
          2016,
          2017,
          2018,
          2019,
          2020
         ],
         "xaxis": "x",
         "y": [
          3.076,
          4.109,
          3.533,
          2.802,
          2.777,
          3.482,
          5.462,
          3.499,
          3.135,
          3.563
         ],
         "yaxis": "y"
        },
        {
         "hovertemplate": "color=Lebanon<br>x=%{x}<br>y=%{y}<extra></extra>",
         "legendgroup": "Lebanon",
         "marker": {
          "color": "#00cc96",
          "symbol": "circle"
         },
         "mode": "markers",
         "name": "Lebanon",
         "showlegend": true,
         "type": "scattergl",
         "x": [
          2011,
          2012,
          2013,
          2014,
          2015,
          2016,
          2017,
          2018,
          2019
         ],
         "xaxis": "x",
         "y": [
          0.798,
          0.999,
          1.263,
          0.204,
          0.495,
          0.412,
          0.458,
          0.419,
          0.387
         ],
         "yaxis": "y"
        },
        {
         "hovertemplate": "color=Lesotho<br>x=%{x}<br>y=%{y}<extra></extra>",
         "legendgroup": "Lesotho",
         "marker": {
          "color": "#ab63fa",
          "symbol": "circle"
         },
         "mode": "markers",
         "name": "Lesotho",
         "showlegend": true,
         "type": "scattergl",
         "x": [
          2011,
          2012,
          2013,
          2014,
          2015,
          2016,
          2017,
          2018,
          2019
         ],
         "xaxis": "x",
         "y": [
          0.49,
          0.486,
          0.515,
          0.521,
          0.533,
          0.523,
          0.54,
          0.54,
          0.542
         ],
         "yaxis": "y"
        },
        {
         "hovertemplate": "color=Liberia<br>x=%{x}<br>y=%{y}<extra></extra>",
         "legendgroup": "Liberia",
         "marker": {
          "color": "#FFA15A",
          "symbol": "circle"
         },
         "mode": "markers",
         "name": "Liberia",
         "showlegend": true,
         "type": "scattergl",
         "x": [
          2011,
          2012,
          2013,
          2014,
          2015,
          2016,
          2017,
          2018,
          2019
         ],
         "xaxis": "x",
         "y": [
          0,
          0,
          0,
          0,
          0,
          0,
          0.003,
          0.004,
          0.004
         ],
         "yaxis": "y"
        },
        {
         "hovertemplate": "color=Libya<br>x=%{x}<br>y=%{y}<extra></extra>",
         "legendgroup": "Libya",
         "marker": {
          "color": "#19d3f3",
          "symbol": "circle"
         },
         "mode": "markers",
         "name": "Libya",
         "showlegend": true,
         "type": "scattergl",
         "x": [
          2011,
          2012,
          2013,
          2014,
          2015,
          2016,
          2017,
          2018,
          2019
         ],
         "xaxis": "x",
         "y": [
          0.006,
          0.007,
          0.008,
          0.008,
          0.008,
          0.008,
          0.008,
          0.008,
          0.008
         ],
         "yaxis": "y"
        },
        {
         "hovertemplate": "color=Lithuania<br>x=%{x}<br>y=%{y}<extra></extra>",
         "legendgroup": "Lithuania",
         "marker": {
          "color": "#FF6692",
          "symbol": "circle"
         },
         "mode": "markers",
         "name": "Lithuania",
         "showlegend": true,
         "type": "scattergl",
         "x": [
          2011,
          2012,
          2013,
          2014,
          2015,
          2016,
          2017,
          2018,
          2019,
          2020
         ],
         "xaxis": "x",
         "y": [
          1.113,
          1.183,
          1.525,
          1.511,
          1.679,
          2.095,
          2.538,
          2.205,
          2.439,
          2.412
         ],
         "yaxis": "y"
        },
        {
         "hovertemplate": "color=Luxembourg<br>x=%{x}<br>y=%{y}<extra></extra>",
         "legendgroup": "Luxembourg",
         "marker": {
          "color": "#B6E880",
          "symbol": "circle"
         },
         "mode": "markers",
         "name": "Luxembourg",
         "showlegend": true,
         "type": "scattergl",
         "x": [
          2011,
          2012,
          2013,
          2014,
          2015,
          2016,
          2017,
          2018,
          2019,
          2020
         ],
         "xaxis": "x",
         "y": [
          0.246,
          0.308,
          0.37,
          0.398,
          0.431,
          0.457,
          0.6,
          0.684,
          0.684,
          0.684
         ],
         "yaxis": "y"
        },
        {
         "hovertemplate": "color=Madagascar<br>x=%{x}<br>y=%{y}<extra></extra>",
         "legendgroup": "Madagascar",
         "marker": {
          "color": "#FF97FF",
          "symbol": "circle"
         },
         "mode": "markers",
         "name": "Madagascar",
         "showlegend": true,
         "type": "scattergl",
         "x": [
          2011,
          2012,
          2013,
          2014,
          2015,
          2016,
          2017,
          2018,
          2019
         ],
         "xaxis": "x",
         "y": [
          0.702,
          0.768,
          0.827,
          0.908,
          0.958,
          0.921,
          0.831,
          1.008,
          1.022
         ],
         "yaxis": "y"
        },
        {
         "hovertemplate": "color=Malawi<br>x=%{x}<br>y=%{y}<extra></extra>",
         "legendgroup": "Malawi",
         "marker": {
          "color": "#FECB52",
          "symbol": "circle"
         },
         "mode": "markers",
         "name": "Malawi",
         "showlegend": true,
         "type": "scattergl",
         "x": [
          2011,
          2012,
          2013,
          2014,
          2015,
          2016,
          2017,
          2018,
          2019
         ],
         "xaxis": "x",
         "y": [
          1.839,
          1.916,
          1.924,
          2.034,
          2.032,
          2.021,
          1.915,
          1.457,
          1.262
         ],
         "yaxis": "y"
        },
        {
         "hovertemplate": "color=Malaysia<br>x=%{x}<br>y=%{y}<extra></extra>",
         "legendgroup": "Malaysia",
         "marker": {
          "color": "#636efa",
          "symbol": "circle"
         },
         "mode": "markers",
         "name": "Malaysia",
         "showlegend": true,
         "type": "scattergl",
         "x": [
          2011,
          2012,
          2013,
          2014,
          2015,
          2016,
          2017,
          2018,
          2019
         ],
         "xaxis": "x",
         "y": [
          8.631,
          9.839,
          12.97,
          14.336,
          16.39,
          21.223,
          27.618,
          27.957,
          29.082
         ],
         "yaxis": "y"
        },
        {
         "hovertemplate": "color=Maldives<br>x=%{x}<br>y=%{y}<extra></extra>",
         "legendgroup": "Maldives",
         "marker": {
          "color": "#EF553B",
          "symbol": "circle"
         },
         "mode": "markers",
         "name": "Maldives",
         "showlegend": true,
         "type": "scattergl",
         "x": [
          2011,
          2012,
          2013,
          2014,
          2015,
          2016,
          2017,
          2018,
          2019
         ],
         "xaxis": "x",
         "y": [
          0.002,
          0.002,
          0.002,
          0.002,
          0.002,
          0.002,
          0.002,
          0.002,
          0.002
         ],
         "yaxis": "y"
        },
        {
         "hovertemplate": "color=Mali<br>x=%{x}<br>y=%{y}<extra></extra>",
         "legendgroup": "Mali",
         "marker": {
          "color": "#00cc96",
          "symbol": "circle"
         },
         "mode": "markers",
         "name": "Mali",
         "showlegend": true,
         "type": "scattergl",
         "x": [
          2011,
          2012,
          2013,
          2014,
          2015,
          2016,
          2017,
          2018,
          2019
         ],
         "xaxis": "x",
         "y": [
          1.213,
          1.317,
          1.192,
          1.46,
          1.204,
          1.563,
          1.569,
          1.447,
          1.527
         ],
         "yaxis": "y"
        },
        {
         "hovertemplate": "color=Malta<br>x=%{x}<br>y=%{y}<extra></extra>",
         "legendgroup": "Malta",
         "marker": {
          "color": "#ab63fa",
          "symbol": "circle"
         },
         "mode": "markers",
         "name": "Malta",
         "showlegend": true,
         "type": "scattergl",
         "x": [
          2011,
          2012,
          2013,
          2014,
          2015,
          2016,
          2017,
          2018,
          2019,
          2020
         ],
         "xaxis": "x",
         "y": [
          0.01,
          0.026,
          0.035,
          0.075,
          0.102,
          0.136,
          0.172,
          0.199,
          0.199,
          0.199
         ],
         "yaxis": "y"
        },
        {
         "hovertemplate": "color=Martinique<br>x=%{x}<br>y=%{y}<extra></extra>",
         "legendgroup": "Martinique",
         "marker": {
          "color": "#FFA15A",
          "symbol": "circle"
         },
         "mode": "markers",
         "name": "Martinique",
         "showlegend": true,
         "type": "scattergl",
         "x": [
          2011,
          2012,
          2013,
          2014,
          2015,
          2016,
          2017,
          2018,
          2019
         ],
         "xaxis": "x",
         "y": [
          0.016,
          0.021,
          0.018,
          0.025,
          0.029,
          0.03,
          0.026,
          0.096,
          0.117
         ],
         "yaxis": "y"
        },
        {
         "hovertemplate": "color=Mauritania<br>x=%{x}<br>y=%{y}<extra></extra>",
         "legendgroup": "Mauritania",
         "marker": {
          "color": "#19d3f3",
          "symbol": "circle"
         },
         "mode": "markers",
         "name": "Mauritania",
         "showlegend": true,
         "type": "scattergl",
         "x": [
          2011,
          2012,
          2013,
          2014,
          2015,
          2016,
          2017,
          2018,
          2019
         ],
         "xaxis": "x",
         "y": [
          0.13,
          0.136,
          0.209,
          0.223,
          0.32,
          0.291,
          0.335,
          0.438,
          0.448
         ],
         "yaxis": "y"
        },
        {
         "hovertemplate": "color=Mauritius<br>x=%{x}<br>y=%{y}<extra></extra>",
         "legendgroup": "Mauritius",
         "marker": {
          "color": "#FF6692",
          "symbol": "circle"
         },
         "mode": "markers",
         "name": "Mauritius",
         "showlegend": true,
         "type": "scattergl",
         "x": [
          2011,
          2012,
          2013,
          2014,
          2015,
          2016,
          2017,
          2018,
          2019
         ],
         "xaxis": "x",
         "y": [
          0.551,
          0.578,
          0.594,
          0.595,
          0.68,
          0.663,
          0.623,
          0.648,
          0.636
         ],
         "yaxis": "y"
        },
        {
         "hovertemplate": "color=Mexico<br>x=%{x}<br>y=%{y}<extra></extra>",
         "legendgroup": "Mexico",
         "marker": {
          "color": "#B6E880",
          "symbol": "circle"
         },
         "mode": "markers",
         "name": "Mexico",
         "showlegend": true,
         "type": "scattergl",
         "x": [
          2011,
          2012,
          2013,
          2014,
          2015,
          2016,
          2017,
          2018,
          2019,
          2020
         ],
         "xaxis": "x",
         "y": [
          44.526,
          42.004,
          39.08,
          52.253,
          46.67,
          47.499,
          50.543,
          54.007,
          55.36,
          63.708
         ],
         "yaxis": "y"
        },
        {
         "hovertemplate": "color=Moldova<br>x=%{x}<br>y=%{y}<extra></extra>",
         "legendgroup": "Moldova",
         "marker": {
          "color": "#FF97FF",
          "symbol": "circle"
         },
         "mode": "markers",
         "name": "Moldova",
         "showlegend": true,
         "type": "scattergl",
         "x": [
          2011,
          2012,
          2013,
          2014,
          2015,
          2016,
          2017,
          2018,
          2019
         ],
         "xaxis": "x",
         "y": [
          0.348,
          0.266,
          0.314,
          0.332,
          0.284,
          0.247,
          0.314,
          0.329,
          0.375
         ],
         "yaxis": "y"
        },
        {
         "hovertemplate": "color=Mongolia<br>x=%{x}<br>y=%{y}<extra></extra>",
         "legendgroup": "Mongolia",
         "marker": {
          "color": "#FECB52",
          "symbol": "circle"
         },
         "mode": "markers",
         "name": "Mongolia",
         "showlegend": true,
         "type": "scattergl",
         "x": [
          2011,
          2012,
          2013,
          2014,
          2015,
          2016,
          2017,
          2018,
          2019,
          2020
         ],
         "xaxis": "x",
         "y": [
          0.061,
          0.06,
          0.122,
          0.2,
          0.221,
          0.247,
          0.416,
          0.457,
          0.513,
          0.509
         ],
         "yaxis": "y"
        },
        {
         "hovertemplate": "color=Montenegro<br>x=%{x}<br>y=%{y}<extra></extra>",
         "legendgroup": "Montenegro",
         "marker": {
          "color": "#636efa",
          "symbol": "circle"
         },
         "mode": "markers",
         "name": "Montenegro",
         "showlegend": true,
         "type": "scattergl",
         "x": [
          2011,
          2012,
          2013,
          2014,
          2015,
          2016,
          2017,
          2018,
          2019
         ],
         "xaxis": "x",
         "y": [
          1.192,
          1.462,
          2.479,
          1.734,
          1.476,
          1.825,
          1.111,
          2.235,
          2.507
         ],
         "yaxis": "y"
        },
        {
         "hovertemplate": "color=Montserrat<br>x=%{x}<br>y=%{y}<extra></extra>",
         "legendgroup": "Montserrat",
         "marker": {
          "color": "#EF553B",
          "symbol": "circle"
         },
         "mode": "markers",
         "name": "Montserrat",
         "showlegend": true,
         "type": "scattergl",
         "x": [
          2011,
          2012,
          2013,
          2014,
          2015,
          2016,
          2017,
          2018,
          2019
         ],
         "xaxis": "x",
         "y": [
          0,
          0,
          0,
          0,
          0,
          0,
          0,
          0,
          0
         ],
         "yaxis": "y"
        },
        {
         "hovertemplate": "color=Morocco<br>x=%{x}<br>y=%{y}<extra></extra>",
         "legendgroup": "Morocco",
         "marker": {
          "color": "#00cc96",
          "symbol": "circle"
         },
         "mode": "markers",
         "name": "Morocco",
         "showlegend": true,
         "type": "scattergl",
         "x": [
          2011,
          2012,
          2013,
          2014,
          2015,
          2016,
          2017,
          2018,
          2019
         ],
         "xaxis": "x",
         "y": [
          2.676,
          2.348,
          4.118,
          3.546,
          4.396,
          4.655,
          4.636,
          6.481,
          7.933
         ],
         "yaxis": "y"
        },
        {
         "hovertemplate": "color=Mozambique<br>x=%{x}<br>y=%{y}<extra></extra>",
         "legendgroup": "Mozambique",
         "marker": {
          "color": "#ab63fa",
          "symbol": "circle"
         },
         "mode": "markers",
         "name": "Mozambique",
         "showlegend": true,
         "type": "scattergl",
         "x": [
          2011,
          2012,
          2013,
          2014,
          2015,
          2016,
          2017,
          2018,
          2019
         ],
         "xaxis": "x",
         "y": [
          16.71,
          15.062,
          14.464,
          16.086,
          17.099,
          15.51,
          13.98,
          13.845,
          12.761
         ],
         "yaxis": "y"
        },
        {
         "hovertemplate": "color=Namibia<br>x=%{x}<br>y=%{y}<extra></extra>",
         "legendgroup": "Namibia",
         "marker": {
          "color": "#FFA15A",
          "symbol": "circle"
         },
         "mode": "markers",
         "name": "Namibia",
         "showlegend": true,
         "type": "scattergl",
         "x": [
          2011,
          2012,
          2013,
          2014,
          2015,
          2016,
          2017,
          2018,
          2019
         ],
         "xaxis": "x",
         "y": [
          1.399,
          1.606,
          1.282,
          1.5,
          1.527,
          1.403,
          1.608,
          1.164,
          1.045
         ],
         "yaxis": "y"
        },
        {
         "hovertemplate": "color=Nauru<br>x=%{x}<br>y=%{y}<extra></extra>",
         "legendgroup": "Nauru",
         "marker": {
          "color": "#19d3f3",
          "symbol": "circle"
         },
         "mode": "markers",
         "name": "Nauru",
         "showlegend": true,
         "type": "scattergl",
         "x": [
          2011,
          2012,
          2013,
          2014,
          2015,
          2016,
          2017,
          2018,
          2019
         ],
         "xaxis": "x",
         "y": [
          0,
          0,
          0,
          0,
          0,
          0,
          0,
          0,
          0
         ],
         "yaxis": "y"
        },
        {
         "hovertemplate": "color=Nepal<br>x=%{x}<br>y=%{y}<extra></extra>",
         "legendgroup": "Nepal",
         "marker": {
          "color": "#FF6692",
          "symbol": "circle"
         },
         "mode": "markers",
         "name": "Nepal",
         "showlegend": true,
         "type": "scattergl",
         "x": [
          2011,
          2012,
          2013,
          2014,
          2015,
          2016,
          2017,
          2018,
          2019
         ],
         "xaxis": "x",
         "y": [
          3.466,
          3.511,
          3.487,
          3.774,
          3.443,
          4.22,
          4.67,
          4.941,
          5.42
         ],
         "yaxis": "y"
        },
        {
         "hovertemplate": "color=Netherlands<br>x=%{x}<br>y=%{y}<extra></extra>",
         "legendgroup": "Netherlands",
         "marker": {
          "color": "#B6E880",
          "symbol": "circle"
         },
         "mode": "markers",
         "name": "Netherlands",
         "showlegend": true,
         "type": "scattergl",
         "x": [
          2011,
          2012,
          2013,
          2014,
          2015,
          2016,
          2017,
          2018,
          2019,
          2020
         ],
         "xaxis": "x",
         "y": [
          12.32,
          12.481,
          12.106,
          11.648,
          13.685,
          14.777,
          17.437,
          18.884,
          22.715,
          31.383
         ],
         "yaxis": "y"
        },
        {
         "hovertemplate": "color=New Caledonia<br>x=%{x}<br>y=%{y}<extra></extra>",
         "legendgroup": "New Caledonia",
         "marker": {
          "color": "#FF97FF",
          "symbol": "circle"
         },
         "mode": "markers",
         "name": "New Caledonia",
         "showlegend": true,
         "type": "scattergl",
         "x": [
          2011,
          2012,
          2013,
          2014,
          2015,
          2016,
          2017,
          2018,
          2019
         ],
         "xaxis": "x",
         "y": [
          0.417,
          0.452,
          0.508,
          0.346,
          0.402,
          0.277,
          0.406,
          0.362,
          0.355
         ],
         "yaxis": "y"
        },
        {
         "hovertemplate": "color=New Zealand<br>x=%{x}<br>y=%{y}<extra></extra>",
         "legendgroup": "New Zealand",
         "marker": {
          "color": "#FECB52",
          "symbol": "circle"
         },
         "mode": "markers",
         "name": "New Zealand",
         "showlegend": true,
         "type": "scattergl",
         "x": [
          2011,
          2012,
          2013,
          2014,
          2015,
          2016,
          2017,
          2018,
          2019,
          2020
         ],
         "xaxis": "x",
         "y": [
          33.233,
          31.223,
          31.53,
          33.827,
          34.754,
          36.135,
          35.176,
          36.319,
          35.769,
          34.736
         ],
         "yaxis": "y"
        },
        {
         "hovertemplate": "color=Nicaragua<br>x=%{x}<br>y=%{y}<extra></extra>",
         "legendgroup": "Nicaragua",
         "marker": {
          "color": "#636efa",
          "symbol": "circle"
         },
         "mode": "markers",
         "name": "Nicaragua",
         "showlegend": true,
         "type": "scattergl",
         "x": [
          2011,
          2012,
          2013,
          2014,
          2015,
          2016,
          2017,
          2018,
          2019
         ],
         "xaxis": "x",
         "y": [
          1.301,
          1.731,
          2.176,
          2.394,
          2.293,
          2.392,
          2.529,
          2.731,
          2.832
         ],
         "yaxis": "y"
        },
        {
         "hovertemplate": "color=Niger<br>x=%{x}<br>y=%{y}<extra></extra>",
         "legendgroup": "Niger",
         "marker": {
          "color": "#EF553B",
          "symbol": "circle"
         },
         "mode": "markers",
         "name": "Niger",
         "showlegend": true,
         "type": "scattergl",
         "x": [
          2011,
          2012,
          2013,
          2014,
          2015,
          2016,
          2017,
          2018,
          2019
         ],
         "xaxis": "x",
         "y": [
          0,
          0,
          0.004,
          0.004,
          0.004,
          0.005,
          0.006,
          0.024,
          0.024
         ],
         "yaxis": "y"
        },
        {
         "hovertemplate": "color=Nigeria<br>x=%{x}<br>y=%{y}<extra></extra>",
         "legendgroup": "Nigeria",
         "marker": {
          "color": "#00cc96",
          "symbol": "circle"
         },
         "mode": "markers",
         "name": "Nigeria",
         "showlegend": true,
         "type": "scattergl",
         "x": [
          2011,
          2012,
          2013,
          2014,
          2015,
          2016,
          2017,
          2018,
          2019,
          2020
         ],
         "xaxis": "x",
         "y": [
          5.841,
          5.64,
          5.316,
          5.34,
          5.713,
          8.124,
          7.726,
          6.45,
          6.696,
          7.211
         ],
         "yaxis": "y"
        },
        {
         "hovertemplate": "color=Niue<br>x=%{x}<br>y=%{y}<extra></extra>",
         "legendgroup": "Niue",
         "marker": {
          "color": "#ab63fa",
          "symbol": "circle"
         },
         "mode": "markers",
         "name": "Niue",
         "showlegend": true,
         "type": "scattergl",
         "x": [
          2011,
          2012,
          2013,
          2014,
          2015,
          2016,
          2017,
          2018,
          2019
         ],
         "xaxis": "x",
         "y": [
          0,
          0,
          0,
          0,
          0,
          0,
          0,
          0,
          0
         ],
         "yaxis": "y"
        },
        {
         "hovertemplate": "color=North Korea<br>x=%{x}<br>y=%{y}<extra></extra>",
         "legendgroup": "North Korea",
         "marker": {
          "color": "#FFA15A",
          "symbol": "circle"
         },
         "mode": "markers",
         "name": "North Korea",
         "showlegend": true,
         "type": "scattergl",
         "x": [
          2011,
          2012,
          2013,
          2014,
          2015,
          2016,
          2017,
          2018,
          2019
         ],
         "xaxis": "x",
         "y": [
          13.071,
          13.369,
          13.766,
          12.877,
          9.911,
          12.685,
          11.796,
          12.688,
          13.666
         ],
         "yaxis": "y"
        },
        {
         "hovertemplate": "color=Norway<br>x=%{x}<br>y=%{y}<extra></extra>",
         "legendgroup": "Norway",
         "marker": {
          "color": "#19d3f3",
          "symbol": "circle"
         },
         "mode": "markers",
         "name": "Norway",
         "showlegend": true,
         "type": "scattergl",
         "x": [
          2011,
          2012,
          2013,
          2014,
          2015,
          2016,
          2017,
          2018,
          2019,
          2020
         ],
         "xaxis": "x",
         "y": [
          121.502,
          143.177,
          130.032,
          137.527,
          139.649,
          144.785,
          144.958,
          142.455,
          129.655,
          141.878
         ],
         "yaxis": "y"
        },
        {
         "hovertemplate": "color=Oman<br>x=%{x}<br>y=%{y}<extra></extra>",
         "legendgroup": "Oman",
         "marker": {
          "color": "#FF6692",
          "symbol": "circle"
         },
         "mode": "markers",
         "name": "Oman",
         "showlegend": true,
         "type": "scattergl",
         "x": [
          2011,
          2012,
          2013,
          2014,
          2015,
          2016,
          2017,
          2018,
          2019
         ],
         "xaxis": "x",
         "y": [
          0,
          0,
          0.001,
          0.001,
          0.004,
          0.004,
          0.004,
          0.004,
          0.004
         ],
         "yaxis": "y"
        },
        {
         "hovertemplate": "color=Pakistan<br>x=%{x}<br>y=%{y}<extra></extra>",
         "legendgroup": "Pakistan",
         "marker": {
          "color": "#B6E880",
          "symbol": "circle"
         },
         "mode": "markers",
         "name": "Pakistan",
         "showlegend": true,
         "type": "scattergl",
         "x": [
          2011,
          2012,
          2013,
          2014,
          2015,
          2016,
          2017,
          2018,
          2019,
          2020
         ],
         "xaxis": "x",
         "y": [
          29.678,
          31.103,
          33.825,
          34.84,
          37.468,
          36.865,
          33.953,
          44.208,
          50.446,
          54.193
         ],
         "yaxis": "y"
        },
        {
         "hovertemplate": "color=Palestine<br>x=%{x}<br>y=%{y}<extra></extra>",
         "legendgroup": "Palestine",
         "marker": {
          "color": "#FF97FF",
          "symbol": "circle"
         },
         "mode": "markers",
         "name": "Palestine",
         "showlegend": true,
         "type": "scattergl",
         "x": [
          2011,
          2012,
          2013,
          2014,
          2015,
          2016,
          2017,
          2018,
          2019
         ],
         "xaxis": "x",
         "y": [
          0,
          0,
          0,
          0,
          0,
          0,
          0.001,
          0,
          0
         ],
         "yaxis": "y"
        },
        {
         "hovertemplate": "color=Panama<br>x=%{x}<br>y=%{y}<extra></extra>",
         "legendgroup": "Panama",
         "marker": {
          "color": "#FECB52",
          "symbol": "circle"
         },
         "mode": "markers",
         "name": "Panama",
         "showlegend": true,
         "type": "scattergl",
         "x": [
          2011,
          2012,
          2013,
          2014,
          2015,
          2016,
          2017,
          2018,
          2019
         ],
         "xaxis": "x",
         "y": [
          4.08,
          5.36,
          5.137,
          5.132,
          6.664,
          7.187,
          7.859,
          8.63,
          9.311
         ],
         "yaxis": "y"
        },
        {
         "hovertemplate": "color=Papua New Guinea<br>x=%{x}<br>y=%{y}<extra></extra>",
         "legendgroup": "Papua New Guinea",
         "marker": {
          "color": "#636efa",
          "symbol": "circle"
         },
         "mode": "markers",
         "name": "Papua New Guinea",
         "showlegend": true,
         "type": "scattergl",
         "x": [
          2011,
          2012,
          2013,
          2014,
          2015,
          2016,
          2017,
          2018,
          2019
         ],
         "xaxis": "x",
         "y": [
          1.384,
          1.001,
          1.019,
          1.045,
          1.04,
          1.035,
          0.831,
          0.822,
          0.843
         ],
         "yaxis": "y"
        },
        {
         "hovertemplate": "color=Paraguay<br>x=%{x}<br>y=%{y}<extra></extra>",
         "legendgroup": "Paraguay",
         "marker": {
          "color": "#EF553B",
          "symbol": "circle"
         },
         "mode": "markers",
         "name": "Paraguay",
         "showlegend": true,
         "type": "scattergl",
         "x": [
          2011,
          2012,
          2013,
          2014,
          2015,
          2016,
          2017,
          2018,
          2019
         ],
         "xaxis": "x",
         "y": [
          57.049,
          59.63,
          59.9,
          54.862,
          55.332,
          64.027,
          59.769,
          59.32,
          49.821
         ],
         "yaxis": "y"
        },
        {
         "hovertemplate": "color=Peru<br>x=%{x}<br>y=%{y}<extra></extra>",
         "legendgroup": "Peru",
         "marker": {
          "color": "#00cc96",
          "symbol": "circle"
         },
         "mode": "markers",
         "name": "Peru",
         "showlegend": true,
         "type": "scattergl",
         "x": [
          2011,
          2012,
          2013,
          2014,
          2015,
          2016,
          2017,
          2018,
          2019,
          2020
         ],
         "xaxis": "x",
         "y": [
          22.047,
          21.869,
          23.247,
          23.728,
          25.206,
          25.776,
          30.6,
          33.086,
          34.207,
          33.582
         ],
         "yaxis": "y"
        },
        {
         "hovertemplate": "color=Philippines<br>x=%{x}<br>y=%{y}<extra></extra>",
         "legendgroup": "Philippines",
         "marker": {
          "color": "#ab63fa",
          "symbol": "circle"
         },
         "mode": "markers",
         "name": "Philippines",
         "showlegend": true,
         "type": "scattergl",
         "x": [
          2011,
          2012,
          2013,
          2014,
          2015,
          2016,
          2017,
          2018,
          2019,
          2020
         ],
         "xaxis": "x",
         "y": [
          19.75,
          20.657,
          19.803,
          19.719,
          20.874,
          21.898,
          23.092,
          22.66,
          21.425,
          21.484
         ],
         "yaxis": "y"
        },
        {
         "hovertemplate": "color=Poland<br>x=%{x}<br>y=%{y}<extra></extra>",
         "legendgroup": "Poland",
         "marker": {
          "color": "#FFA15A",
          "symbol": "circle"
         },
         "mode": "markers",
         "name": "Poland",
         "showlegend": true,
         "type": "scattergl",
         "x": [
          2011,
          2012,
          2013,
          2014,
          2015,
          2016,
          2017,
          2018,
          2019,
          2020
         ],
         "xaxis": "x",
         "y": [
          13.137,
          16.879,
          17.066,
          19.842,
          22.684,
          22.807,
          24.122,
          21.617,
          24.505,
          26.617
         ],
         "yaxis": "y"
        },
        {
         "hovertemplate": "color=Portugal<br>x=%{x}<br>y=%{y}<extra></extra>",
         "legendgroup": "Portugal",
         "marker": {
          "color": "#19d3f3",
          "symbol": "circle"
         },
         "mode": "markers",
         "name": "Portugal",
         "showlegend": true,
         "type": "scattergl",
         "x": [
          2011,
          2012,
          2013,
          2014,
          2015,
          2016,
          2017,
          2018,
          2019,
          2020
         ],
         "xaxis": "x",
         "y": [
          24.115,
          19.372,
          29.472,
          31.561,
          24.372,
          32.31,
          22.573,
          29.402,
          27.792,
          30.593
         ],
         "yaxis": "y"
        },
        {
         "hovertemplate": "color=Puerto Rico<br>x=%{x}<br>y=%{y}<extra></extra>",
         "legendgroup": "Puerto Rico",
         "marker": {
          "color": "#FF6692",
          "symbol": "circle"
         },
         "mode": "markers",
         "name": "Puerto Rico",
         "showlegend": true,
         "type": "scattergl",
         "x": [
          2011,
          2012,
          2013,
          2014,
          2015,
          2016,
          2017,
          2018,
          2019
         ],
         "xaxis": "x",
         "y": [
          0.152,
          0.123,
          0.16,
          0.177,
          0.243,
          0.314,
          0.345,
          1.215,
          4.887
         ],
         "yaxis": "y"
        },
        {
         "hovertemplate": "color=Qatar<br>x=%{x}<br>y=%{y}<extra></extra>",
         "legendgroup": "Qatar",
         "marker": {
          "color": "#B6E880",
          "symbol": "circle"
         },
         "mode": "markers",
         "name": "Qatar",
         "showlegend": true,
         "type": "scattergl",
         "x": [
          2011,
          2012,
          2013,
          2014,
          2015,
          2016,
          2017,
          2018,
          2019
         ],
         "xaxis": "x",
         "y": [
          0.116,
          0.116,
          0.119,
          0.122,
          0.122,
          0.123,
          0.123,
          0.123,
          0.123
         ],
         "yaxis": "y"
        },
        {
         "hovertemplate": "color=Romania<br>x=%{x}<br>y=%{y}<extra></extra>",
         "legendgroup": "Romania",
         "marker": {
          "color": "#FF97FF",
          "symbol": "circle"
         },
         "mode": "markers",
         "name": "Romania",
         "showlegend": true,
         "type": "scattergl",
         "x": [
          2011,
          2012,
          2013,
          2014,
          2015,
          2016,
          2017,
          2018,
          2019,
          2020
         ],
         "xaxis": "x",
         "y": [
          16.313,
          14.926,
          20.148,
          27.126,
          26.2,
          26.969,
          24.282,
          26.195,
          24.737,
          24.657
         ],
         "yaxis": "y"
        },
        {
         "hovertemplate": "color=Russia<br>x=%{x}<br>y=%{y}<extra></extra>",
         "legendgroup": "Russia",
         "marker": {
          "color": "#FECB52",
          "symbol": "circle"
         },
         "mode": "markers",
         "name": "Russia",
         "showlegend": true,
         "type": "scattergl",
         "x": [
          2011,
          2012,
          2013,
          2014,
          2015,
          2016,
          2017,
          2018,
          2019,
          2020
         ],
         "xaxis": "x",
         "y": [
          167.49,
          167.758,
          182.71,
          177.332,
          170.077,
          186.29,
          186.976,
          193.222,
          197.462,
          216.292
         ],
         "yaxis": "y"
        },
        {
         "hovertemplate": "color=Rwanda<br>x=%{x}<br>y=%{y}<extra></extra>",
         "legendgroup": "Rwanda",
         "marker": {
          "color": "#636efa",
          "symbol": "circle"
         },
         "mode": "markers",
         "name": "Rwanda",
         "showlegend": true,
         "type": "scattergl",
         "x": [
          2011,
          2012,
          2013,
          2014,
          2015,
          2016,
          2017,
          2018,
          2019
         ],
         "xaxis": "x",
         "y": [
          0.132,
          0.138,
          0.15,
          0.212,
          0.305,
          0.364,
          0.421,
          0.387,
          0.403
         ],
         "yaxis": "y"
        },
        {
         "hovertemplate": "color=Saint Helena<br>x=%{x}<br>y=%{y}<extra></extra>",
         "legendgroup": "Saint Helena",
         "marker": {
          "color": "#EF553B",
          "symbol": "circle"
         },
         "mode": "markers",
         "name": "Saint Helena",
         "showlegend": true,
         "type": "scattergl",
         "x": [
          2011,
          2012,
          2013,
          2014,
          2015,
          2016,
          2017,
          2018,
          2019
         ],
         "xaxis": "x",
         "y": [
          0,
          0,
          0,
          0,
          0,
          0,
          0,
          0,
          0
         ],
         "yaxis": "y"
        },
        {
         "hovertemplate": "color=Saint Kitts and Nevis<br>x=%{x}<br>y=%{y}<extra></extra>",
         "legendgroup": "Saint Kitts and Nevis",
         "marker": {
          "color": "#00cc96",
          "symbol": "circle"
         },
         "mode": "markers",
         "name": "Saint Kitts and Nevis",
         "showlegend": true,
         "type": "scattergl",
         "x": [
          2011,
          2012,
          2013,
          2014,
          2015,
          2016,
          2017,
          2018,
          2019
         ],
         "xaxis": "x",
         "y": [
          0.005,
          0.008,
          0.008,
          0.008,
          0.008,
          0.008,
          0.008,
          0.008,
          0.008
         ],
         "yaxis": "y"
        },
        {
         "hovertemplate": "color=Saint Lucia<br>x=%{x}<br>y=%{y}<extra></extra>",
         "legendgroup": "Saint Lucia",
         "marker": {
          "color": "#ab63fa",
          "symbol": "circle"
         },
         "mode": "markers",
         "name": "Saint Lucia",
         "showlegend": true,
         "type": "scattergl",
         "x": [
          2011,
          2012,
          2013,
          2014,
          2015,
          2016,
          2017,
          2018,
          2019
         ],
         "xaxis": "x",
         "y": [
          0,
          0,
          0,
          0,
          0.001,
          0.001,
          0.001,
          0.003,
          0.003
         ],
         "yaxis": "y"
        },
        {
         "hovertemplate": "color=Saint Pierre and Miquelon<br>x=%{x}<br>y=%{y}<extra></extra>",
         "legendgroup": "Saint Pierre and Miquelon",
         "marker": {
          "color": "#FFA15A",
          "symbol": "circle"
         },
         "mode": "markers",
         "name": "Saint Pierre and Miquelon",
         "showlegend": true,
         "type": "scattergl",
         "x": [
          2011,
          2012,
          2013,
          2014,
          2015,
          2016,
          2017,
          2018,
          2019
         ],
         "xaxis": "x",
         "y": [
          0.002,
          0.002,
          0.002,
          0,
          0,
          0,
          0,
          0,
          0
         ],
         "yaxis": "y"
        },
        {
         "hovertemplate": "color=Saint Vincent and the Grenadines<br>x=%{x}<br>y=%{y}<extra></extra>",
         "legendgroup": "Saint Vincent and the Grenadines",
         "marker": {
          "color": "#19d3f3",
          "symbol": "circle"
         },
         "mode": "markers",
         "name": "Saint Vincent and the Grenadines",
         "showlegend": true,
         "type": "scattergl",
         "x": [
          2011,
          2012,
          2013,
          2014,
          2015,
          2016,
          2017,
          2018,
          2019
         ],
         "xaxis": "x",
         "y": [
          0.025,
          0.025,
          0.023,
          0.012,
          0.018,
          0.017,
          0.021,
          0.025,
          0.025
         ],
         "yaxis": "y"
        },
        {
         "hovertemplate": "color=Samoa<br>x=%{x}<br>y=%{y}<extra></extra>",
         "legendgroup": "Samoa",
         "marker": {
          "color": "#FF6692",
          "symbol": "circle"
         },
         "mode": "markers",
         "name": "Samoa",
         "showlegend": true,
         "type": "scattergl",
         "x": [
          2011,
          2012,
          2013,
          2014,
          2015,
          2016,
          2017,
          2018,
          2019
         ],
         "xaxis": "x",
         "y": [
          0.055,
          0.037,
          0.032,
          0.03,
          0.031,
          0.031,
          0.035,
          0.043,
          0.047
         ],
         "yaxis": "y"
        },
        {
         "hovertemplate": "color=Sao Tome and Principe<br>x=%{x}<br>y=%{y}<extra></extra>",
         "legendgroup": "Sao Tome and Principe",
         "marker": {
          "color": "#B6E880",
          "symbol": "circle"
         },
         "mode": "markers",
         "name": "Sao Tome and Principe",
         "showlegend": true,
         "type": "scattergl",
         "x": [
          2011,
          2012,
          2013,
          2014,
          2015,
          2016,
          2017,
          2018,
          2019
         ],
         "xaxis": "x",
         "y": [
          0.006,
          0.006,
          0.006,
          0.006,
          0.008,
          0.007,
          0.007,
          0.007,
          0.007
         ],
         "yaxis": "y"
        },
        {
         "hovertemplate": "color=Saudi Arabia<br>x=%{x}<br>y=%{y}<extra></extra>",
         "legendgroup": "Saudi Arabia",
         "marker": {
          "color": "#FF97FF",
          "symbol": "circle"
         },
         "mode": "markers",
         "name": "Saudi Arabia",
         "showlegend": true,
         "type": "scattergl",
         "x": [
          2011,
          2012,
          2013,
          2014,
          2015,
          2016,
          2017,
          2018,
          2019
         ],
         "xaxis": "x",
         "y": [
          0,
          0.024,
          0.039,
          0.042,
          0.129,
          0.129,
          0.16,
          0.16,
          0.16
         ],
         "yaxis": "y"
        },
        {
         "hovertemplate": "color=Senegal<br>x=%{x}<br>y=%{y}<extra></extra>",
         "legendgroup": "Senegal",
         "marker": {
          "color": "#FECB52",
          "symbol": "circle"
         },
         "mode": "markers",
         "name": "Senegal",
         "showlegend": true,
         "type": "scattergl",
         "x": [
          2011,
          2012,
          2013,
          2014,
          2015,
          2016,
          2017,
          2018,
          2019
         ],
         "xaxis": "x",
         "y": [
          0.334,
          0.336,
          0.368,
          0.387,
          0.407,
          0.425,
          0.532,
          0.525,
          0.54
         ],
         "yaxis": "y"
        },
        {
         "hovertemplate": "color=Serbia<br>x=%{x}<br>y=%{y}<extra></extra>",
         "legendgroup": "Serbia",
         "marker": {
          "color": "#636efa",
          "symbol": "circle"
         },
         "mode": "markers",
         "name": "Serbia",
         "showlegend": true,
         "type": "scattergl",
         "x": [
          2011,
          2012,
          2013,
          2014,
          2015,
          2016,
          2017,
          2018,
          2019,
          2020
         ],
         "xaxis": "x",
         "y": [
          8.58,
          9.2,
          10.125,
          10.925,
          10.018,
          10.76,
          9.201,
          10.803,
          11.048,
          10.66
         ],
         "yaxis": "y"
        },
        {
         "hovertemplate": "color=Seychelles<br>x=%{x}<br>y=%{y}<extra></extra>",
         "legendgroup": "Seychelles",
         "marker": {
          "color": "#EF553B",
          "symbol": "circle"
         },
         "mode": "markers",
         "name": "Seychelles",
         "showlegend": true,
         "type": "scattergl",
         "x": [
          2011,
          2012,
          2013,
          2014,
          2015,
          2016,
          2017,
          2018,
          2019
         ],
         "xaxis": "x",
         "y": [
          0,
          0,
          0.007,
          0.008,
          0.009,
          0.002,
          0.003,
          0.005,
          0.005
         ],
         "yaxis": "y"
        },
        {
         "hovertemplate": "color=Sierra Leone<br>x=%{x}<br>y=%{y}<extra></extra>",
         "legendgroup": "Sierra Leone",
         "marker": {
          "color": "#00cc96",
          "symbol": "circle"
         },
         "mode": "markers",
         "name": "Sierra Leone",
         "showlegend": true,
         "type": "scattergl",
         "x": [
          2011,
          2012,
          2013,
          2014,
          2015,
          2016,
          2017,
          2018,
          2019
         ],
         "xaxis": "x",
         "y": [
          0.15,
          0.116,
          0.105,
          0.123,
          0.129,
          0.131,
          0.14,
          0.18,
          0.19
         ],
         "yaxis": "y"
        },
        {
         "hovertemplate": "color=Singapore<br>x=%{x}<br>y=%{y}<extra></extra>",
         "legendgroup": "Singapore",
         "marker": {
          "color": "#ab63fa",
          "symbol": "circle"
         },
         "mode": "markers",
         "name": "Singapore",
         "showlegend": true,
         "type": "scattergl",
         "x": [
          2011,
          2012,
          2013,
          2014,
          2015,
          2016,
          2017,
          2018,
          2019,
          2020
         ],
         "xaxis": "x",
         "y": [
          1.213,
          1.263,
          1.374,
          1.453,
          1.556,
          1.588,
          1.629,
          1.668,
          1.673,
          1.652
         ],
         "yaxis": "y"
        },
        {
         "hovertemplate": "color=Slovakia<br>x=%{x}<br>y=%{y}<extra></extra>",
         "legendgroup": "Slovakia",
         "marker": {
          "color": "#FFA15A",
          "symbol": "circle"
         },
         "mode": "markers",
         "name": "Slovakia",
         "showlegend": true,
         "type": "scattergl",
         "x": [
          2011,
          2012,
          2013,
          2014,
          2015,
          2016,
          2017,
          2018,
          2019,
          2020
         ],
         "xaxis": "x",
         "y": [
          4.999,
          5.474,
          6.353,
          6.229,
          6.04,
          6.629,
          6.532,
          5.806,
          7.211,
          7.435
         ],
         "yaxis": "y"
        },
        {
         "hovertemplate": "color=Slovenia<br>x=%{x}<br>y=%{y}<extra></extra>",
         "legendgroup": "Slovenia",
         "marker": {
          "color": "#19d3f3",
          "symbol": "circle"
         },
         "mode": "markers",
         "name": "Slovenia",
         "showlegend": true,
         "type": "scattergl",
         "x": [
          2011,
          2012,
          2013,
          2014,
          2015,
          2016,
          2017,
          2018,
          2019,
          2020
         ],
         "xaxis": "x",
         "y": [
          3.879,
          4.329,
          5.108,
          6.607,
          4.351,
          5.055,
          4.443,
          5.23,
          5.158,
          5.648
         ],
         "yaxis": "y"
        },
        {
         "hovertemplate": "color=Solomon Islands<br>x=%{x}<br>y=%{y}<extra></extra>",
         "legendgroup": "Solomon Islands",
         "marker": {
          "color": "#FF6692",
          "symbol": "circle"
         },
         "mode": "markers",
         "name": "Solomon Islands",
         "showlegend": true,
         "type": "scattergl",
         "x": [
          2011,
          2012,
          2013,
          2014,
          2015,
          2016,
          2017,
          2018,
          2019
         ],
         "xaxis": "x",
         "y": [
          0.004,
          0.004,
          0.004,
          0.005,
          0.006,
          0.006,
          0.007,
          0.006,
          0.005
         ],
         "yaxis": "y"
        },
        {
         "hovertemplate": "color=Somalia<br>x=%{x}<br>y=%{y}<extra></extra>",
         "legendgroup": "Somalia",
         "marker": {
          "color": "#B6E880",
          "symbol": "circle"
         },
         "mode": "markers",
         "name": "Somalia",
         "showlegend": true,
         "type": "scattergl",
         "x": [
          2011,
          2012,
          2013,
          2014,
          2015,
          2016,
          2017,
          2018,
          2019
         ],
         "xaxis": "x",
         "y": [
          0,
          0.004,
          0.004,
          0.004,
          0.005,
          0.012,
          0.017,
          0.017,
          0.017
         ],
         "yaxis": "y"
        },
        {
         "hovertemplate": "color=South Africa<br>x=%{x}<br>y=%{y}<extra></extra>",
         "legendgroup": "South Africa",
         "marker": {
          "color": "#FF97FF",
          "symbol": "circle"
         },
         "mode": "markers",
         "name": "South Africa",
         "showlegend": true,
         "type": "scattergl",
         "x": [
          2011,
          2012,
          2013,
          2014,
          2015,
          2016,
          2017,
          2018,
          2019,
          2020
         ],
         "xaxis": "x",
         "y": [
          2.44,
          1.614,
          1.527,
          3.379,
          5.81,
          7.755,
          10.079,
          12.244,
          12.952,
          13.929
         ],
         "yaxis": "y"
        },
        {
         "hovertemplate": "color=South Korea<br>x=%{x}<br>y=%{y}<extra></extra>",
         "legendgroup": "South Korea",
         "marker": {
          "color": "#FECB52",
          "symbol": "circle"
         },
         "mode": "markers",
         "name": "South Korea",
         "showlegend": true,
         "type": "scattergl",
         "x": [
          2011,
          2012,
          2013,
          2014,
          2015,
          2016,
          2017,
          2018,
          2019,
          2020
         ],
         "xaxis": "x",
         "y": [
          8.252,
          7.932,
          9.795,
          10.002,
          12.076,
          17.522,
          20.906,
          25.676,
          31.209,
          30.349
         ],
         "yaxis": "y"
        },
        {
         "hovertemplate": "color=South Sudan<br>x=%{x}<br>y=%{y}<extra></extra>",
         "legendgroup": "South Sudan",
         "marker": {
          "color": "#636efa",
          "symbol": "circle"
         },
         "mode": "markers",
         "name": "South Sudan",
         "showlegend": true,
         "type": "scattergl",
         "x": [
          2011,
          2012,
          2013,
          2014,
          2015,
          2016,
          2017,
          2018,
          2019
         ],
         "xaxis": "x",
         "y": [
          0,
          0.002,
          0.002,
          0.002,
          0.002,
          0.002,
          0.003,
          0.003,
          0.003
         ],
         "yaxis": "y"
        },
        {
         "hovertemplate": "color=Spain<br>x=%{x}<br>y=%{y}<extra></extra>",
         "legendgroup": "Spain",
         "marker": {
          "color": "#EF553B",
          "symbol": "circle"
         },
         "mode": "markers",
         "name": "Spain",
         "showlegend": true,
         "type": "scattergl",
         "x": [
          2011,
          2012,
          2013,
          2014,
          2015,
          2016,
          2017,
          2018,
          2019,
          2020
         ],
         "xaxis": "x",
         "y": [
          87.522,
          86.962,
          111.406,
          110.268,
          97.088,
          104.633,
          87.924,
          103.885,
          100.308,
          114.625
         ],
         "yaxis": "y"
        },
        {
         "hovertemplate": "color=Sri Lanka<br>x=%{x}<br>y=%{y}<extra></extra>",
         "legendgroup": "Sri Lanka",
         "marker": {
          "color": "#00cc96",
          "symbol": "circle"
         },
         "mode": "markers",
         "name": "Sri Lanka",
         "showlegend": true,
         "type": "scattergl",
         "x": [
          2011,
          2012,
          2013,
          2014,
          2015,
          2016,
          2017,
          2018,
          2019
         ],
         "xaxis": "x",
         "y": [
          4.714,
          3.444,
          7.13,
          4.837,
          6.33,
          4.619,
          4.554,
          6.866,
          7.314
         ],
         "yaxis": "y"
        },
        {
         "hovertemplate": "color=Sudan<br>x=%{x}<br>y=%{y}<extra></extra>",
         "legendgroup": "Sudan",
         "marker": {
          "color": "#ab63fa",
          "symbol": "circle"
         },
         "mode": "markers",
         "name": "Sudan",
         "showlegend": true,
         "type": "scattergl",
         "x": [
          2011,
          2012,
          2013,
          2014,
          2015,
          2016,
          2017,
          2018,
          2019
         ],
         "xaxis": "x",
         "y": [
          6.527,
          6.682,
          8.381,
          8.953,
          8.46,
          8.099,
          9.391,
          9.698,
          10.109
         ],
         "yaxis": "y"
        },
        {
         "hovertemplate": "color=Suriname<br>x=%{x}<br>y=%{y}<extra></extra>",
         "legendgroup": "Suriname",
         "marker": {
          "color": "#FFA15A",
          "symbol": "circle"
         },
         "mode": "markers",
         "name": "Suriname",
         "showlegend": true,
         "type": "scattergl",
         "x": [
          2011,
          2012,
          2013,
          2014,
          2015,
          2016,
          2017,
          2018,
          2019
         ],
         "xaxis": "x",
         "y": [
          1.031,
          0.825,
          0.83,
          0.562,
          0.483,
          0.791,
          0.932,
          1.006,
          1.181
         ],
         "yaxis": "y"
        },
        {
         "hovertemplate": "color=Sweden<br>x=%{x}<br>y=%{y}<extra></extra>",
         "legendgroup": "Sweden",
         "marker": {
          "color": "#19d3f3",
          "symbol": "circle"
         },
         "mode": "markers",
         "name": "Sweden",
         "showlegend": true,
         "type": "scattergl",
         "x": [
          2011,
          2012,
          2013,
          2014,
          2015,
          2016,
          2017,
          2018,
          2019,
          2020
         ],
         "xaxis": "x",
         "y": [
          84.088,
          98.309,
          82.688,
          85.741,
          102.496,
          89.127,
          95.058,
          91.153,
          99.768,
          112.533
         ],
         "yaxis": "y"
        },
        {
         "hovertemplate": "color=Switzerland<br>x=%{x}<br>y=%{y}<extra></extra>",
         "legendgroup": "Switzerland",
         "marker": {
          "color": "#FF6692",
          "symbol": "circle"
         },
         "mode": "markers",
         "name": "Switzerland",
         "showlegend": true,
         "type": "scattergl",
         "x": [
          2011,
          2012,
          2013,
          2014,
          2015,
          2016,
          2017,
          2018,
          2019,
          2020
         ],
         "xaxis": "x",
         "y": [
          34.837,
          41.347,
          41.536,
          41.607,
          41.926,
          38.716,
          38.676,
          39.785,
          43.22,
          44.728
         ],
         "yaxis": "y"
        },
        {
         "hovertemplate": "color=Syria<br>x=%{x}<br>y=%{y}<extra></extra>",
         "legendgroup": "Syria",
         "marker": {
          "color": "#B6E880",
          "symbol": "circle"
         },
         "mode": "markers",
         "name": "Syria",
         "showlegend": true,
         "type": "scattergl",
         "x": [
          2011,
          2012,
          2013,
          2014,
          2015,
          2016,
          2017,
          2018,
          2019
         ],
         "xaxis": "x",
         "y": [
          3.283,
          3.238,
          3.003,
          2.35,
          0.442,
          0.953,
          0.779,
          0.779,
          0.892
         ],
         "yaxis": "y"
        },
        {
         "hovertemplate": "color=Taiwan<br>x=%{x}<br>y=%{y}<extra></extra>",
         "legendgroup": "Taiwan",
         "marker": {
          "color": "#FF97FF",
          "symbol": "circle"
         },
         "mode": "markers",
         "name": "Taiwan",
         "showlegend": true,
         "type": "scattergl",
         "x": [
          2011,
          2012,
          2013,
          2014,
          2015,
          2016,
          2017,
          2018,
          2019,
          2020
         ],
         "xaxis": "x",
         "y": [
          9.153,
          10.715,
          10.87,
          10.053,
          10.661,
          12.753,
          12.389,
          12.656,
          15.355,
          15.2
         ],
         "yaxis": "y"
        },
        {
         "hovertemplate": "color=Tajikistan<br>x=%{x}<br>y=%{y}<extra></extra>",
         "legendgroup": "Tajikistan",
         "marker": {
          "color": "#FECB52",
          "symbol": "circle"
         },
         "mode": "markers",
         "name": "Tajikistan",
         "showlegend": true,
         "type": "scattergl",
         "x": [
          2011,
          2012,
          2013,
          2014,
          2015,
          2016,
          2017,
          2018,
          2019,
          2020
         ],
         "xaxis": "x",
         "y": [
          16.038,
          16.731,
          16.9,
          15.84,
          16.83,
          16.466,
          16.962,
          18.21,
          18.977,
          18.489
         ],
         "yaxis": "y"
        },
        {
         "hovertemplate": "color=Tanzania<br>x=%{x}<br>y=%{y}<extra></extra>",
         "legendgroup": "Tanzania",
         "marker": {
          "color": "#636efa",
          "symbol": "circle"
         },
         "mode": "markers",
         "name": "Tanzania",
         "showlegend": true,
         "type": "scattergl",
         "x": [
          2011,
          2012,
          2013,
          2014,
          2015,
          2016,
          2017,
          2018,
          2019
         ],
         "xaxis": "x",
         "y": [
          2.05,
          1.82,
          1.783,
          2.643,
          2.166,
          2.444,
          2.438,
          2.372,
          2.416
         ],
         "yaxis": "y"
        },
        {
         "hovertemplate": "color=Thailand<br>x=%{x}<br>y=%{y}<extra></extra>",
         "legendgroup": "Thailand",
         "marker": {
          "color": "#EF553B",
          "symbol": "circle"
         },
         "mode": "markers",
         "name": "Thailand",
         "showlegend": true,
         "type": "scattergl",
         "x": [
          2011,
          2012,
          2013,
          2014,
          2015,
          2016,
          2017,
          2018,
          2019,
          2020
         ],
         "xaxis": "x",
         "y": [
          12.473,
          13.706,
          13.781,
          14.344,
          13.871,
          25.272,
          25.743,
          29.996,
          33.893,
          31.22
         ],
         "yaxis": "y"
        },
        {
         "hovertemplate": "color=Togo<br>x=%{x}<br>y=%{y}<extra></extra>",
         "legendgroup": "Togo",
         "marker": {
          "color": "#00cc96",
          "symbol": "circle"
         },
         "mode": "markers",
         "name": "Togo",
         "showlegend": true,
         "type": "scattergl",
         "x": [
          2011,
          2012,
          2013,
          2014,
          2015,
          2016,
          2017,
          2018,
          2019
         ],
         "xaxis": "x",
         "y": [
          0.111,
          0.094,
          0.04,
          0.12,
          0.059,
          0.207,
          0.105,
          0.007,
          0.003
         ],
         "yaxis": "y"
        },
        {
         "hovertemplate": "color=Tonga<br>x=%{x}<br>y=%{y}<extra></extra>",
         "legendgroup": "Tonga",
         "marker": {
          "color": "#ab63fa",
          "symbol": "circle"
         },
         "mode": "markers",
         "name": "Tonga",
         "showlegend": true,
         "type": "scattergl",
         "x": [
          2011,
          2012,
          2013,
          2014,
          2015,
          2016,
          2017,
          2018,
          2019
         ],
         "xaxis": "x",
         "y": [
          0,
          0,
          0,
          0,
          0,
          0,
          0,
          0,
          0
         ],
         "yaxis": "y"
        },
        {
         "hovertemplate": "color=Trinidad and Tobago<br>x=%{x}<br>y=%{y}<extra></extra>",
         "legendgroup": "Trinidad and Tobago",
         "marker": {
          "color": "#FFA15A",
          "symbol": "circle"
         },
         "mode": "markers",
         "name": "Trinidad and Tobago",
         "showlegend": true,
         "type": "scattergl",
         "x": [
          2011,
          2012,
          2013,
          2014,
          2015,
          2016,
          2017,
          2018,
          2019
         ],
         "xaxis": "x",
         "y": [
          0.004,
          0.004,
          0.004,
          0.004,
          0.005,
          0.005,
          0.005,
          0.005,
          0.005
         ],
         "yaxis": "y"
        },
        {
         "hovertemplate": "color=Tunisia<br>x=%{x}<br>y=%{y}<extra></extra>",
         "legendgroup": "Tunisia",
         "marker": {
          "color": "#19d3f3",
          "symbol": "circle"
         },
         "mode": "markers",
         "name": "Tunisia",
         "showlegend": true,
         "type": "scattergl",
         "x": [
          2011,
          2012,
          2013,
          2014,
          2015,
          2016,
          2017,
          2018,
          2019,
          2020
         ],
         "xaxis": "x",
         "y": [
          0.166,
          0.31,
          0.433,
          0.599,
          0.583,
          0.628,
          0.599,
          0.644,
          0.739,
          0.739
         ],
         "yaxis": "y"
        },
        {
         "hovertemplate": "color=Turkey<br>x=%{x}<br>y=%{y}<extra></extra>",
         "legendgroup": "Turkey",
         "marker": {
          "color": "#FF6692",
          "symbol": "circle"
         },
         "mode": "markers",
         "name": "Turkey",
         "showlegend": true,
         "type": "scattergl",
         "x": [
          2011,
          2012,
          2013,
          2014,
          2015,
          2016,
          2017,
          2018,
          2019,
          2020
         ],
         "xaxis": "x",
         "y": [
          56.927,
          63.993,
          68.087,
          51.707,
          82.293,
          89.43,
          86.471,
          96.69,
          130.206,
          125.96
         ],
         "yaxis": "y"
        },
        {
         "hovertemplate": "color=Turkmenistan<br>x=%{x}<br>y=%{y}<extra></extra>",
         "legendgroup": "Turkmenistan",
         "marker": {
          "color": "#B6E880",
          "symbol": "circle"
         },
         "mode": "markers",
         "name": "Turkmenistan",
         "showlegend": true,
         "type": "scattergl",
         "x": [
          2011,
          2012,
          2013,
          2014,
          2015,
          2016,
          2017,
          2018,
          2019
         ],
         "xaxis": "x",
         "y": [
          0.003,
          0.003,
          0.003,
          0.003,
          0.003,
          0.003,
          0.003,
          0.003,
          0
         ],
         "yaxis": "y"
        },
        {
         "hovertemplate": "color=Turks and Caicos Islands<br>x=%{x}<br>y=%{y}<extra></extra>",
         "legendgroup": "Turks and Caicos Islands",
         "marker": {
          "color": "#FF97FF",
          "symbol": "circle"
         },
         "mode": "markers",
         "name": "Turks and Caicos Islands",
         "showlegend": true,
         "type": "scattergl",
         "x": [
          2011,
          2012,
          2013,
          2014,
          2015,
          2016,
          2017,
          2018,
          2019
         ],
         "xaxis": "x",
         "y": [
          0,
          0,
          0,
          0,
          0,
          0,
          0,
          0,
          0
         ],
         "yaxis": "y"
        },
        {
         "hovertemplate": "color=Uganda<br>x=%{x}<br>y=%{y}<extra></extra>",
         "legendgroup": "Uganda",
         "marker": {
          "color": "#FECB52",
          "symbol": "circle"
         },
         "mode": "markers",
         "name": "Uganda",
         "showlegend": true,
         "type": "scattergl",
         "x": [
          2011,
          2012,
          2013,
          2014,
          2015,
          2016,
          2017,
          2018,
          2019
         ],
         "xaxis": "x",
         "y": [
          1.772,
          1.844,
          2.78,
          3.042,
          2.935,
          3.816,
          3.972,
          4.179,
          4.58
         ],
         "yaxis": "y"
        },
        {
         "hovertemplate": "color=Ukraine<br>x=%{x}<br>y=%{y}<extra></extra>",
         "legendgroup": "Ukraine",
         "marker": {
          "color": "#636efa",
          "symbol": "circle"
         },
         "mode": "markers",
         "name": "Ukraine",
         "showlegend": true,
         "type": "scattergl",
         "x": [
          2011,
          2012,
          2013,
          2014,
          2015,
          2016,
          2017,
          2018,
          2019,
          2020
         ],
         "xaxis": "x",
         "y": [
          11.091,
          11.126,
          14.974,
          10.083,
          7.048,
          9.175,
          10.789,
          12.921,
          10.432,
          13.325
         ],
         "yaxis": "y"
        },
        {
         "hovertemplate": "color=United Arab Emirates<br>x=%{x}<br>y=%{y}<extra></extra>",
         "legendgroup": "United Arab Emirates",
         "marker": {
          "color": "#EF553B",
          "symbol": "circle"
         },
         "mode": "markers",
         "name": "United Arab Emirates",
         "showlegend": true,
         "type": "scattergl",
         "x": [
          2011,
          2012,
          2013,
          2014,
          2015,
          2016,
          2017,
          2018,
          2019
         ],
         "xaxis": "x",
         "y": [
          0.034,
          0.035,
          0.101,
          0.309,
          0.304,
          0.316,
          0.741,
          1.31,
          4.177
         ],
         "yaxis": "y"
        },
        {
         "hovertemplate": "color=United Kingdom<br>x=%{x}<br>y=%{y}<extra></extra>",
         "legendgroup": "United Kingdom",
         "marker": {
          "color": "#00cc96",
          "symbol": "circle"
         },
         "mode": "markers",
         "name": "United Kingdom",
         "showlegend": true,
         "type": "scattergl",
         "x": [
          2011,
          2012,
          2013,
          2014,
          2015,
          2016,
          2017,
          2018,
          2019,
          2020
         ],
         "xaxis": "x",
         "y": [
          35.213,
          41.249,
          53.214,
          64.523,
          82.576,
          81.608,
          97.038,
          108.131,
          117.333,
          129.203
         ],
         "yaxis": "y"
        },
        {
         "hovertemplate": "color=United States<br>x=%{x}<br>y=%{y}<extra></extra>",
         "legendgroup": "United States",
         "marker": {
          "color": "#ab63fa",
          "symbol": "circle"
         },
         "mode": "markers",
         "name": "United States",
         "showlegend": true,
         "type": "scattergl",
         "x": [
          2011,
          2012,
          2013,
          2014,
          2015,
          2016,
          2017,
          2018,
          2019,
          2020
         ],
         "xaxis": "x",
         "y": [
          506.916,
          489.623,
          517.392,
          543.638,
          553.289,
          621.571,
          704.106,
          730.502,
          757.393,
          827.938
         ],
         "yaxis": "y"
        },
        {
         "hovertemplate": "color=United States Virgin Islands<br>x=%{x}<br>y=%{y}<extra></extra>",
         "legendgroup": "United States Virgin Islands",
         "marker": {
          "color": "#FFA15A",
          "symbol": "circle"
         },
         "mode": "markers",
         "name": "United States Virgin Islands",
         "showlegend": true,
         "type": "scattergl",
         "x": [
          2011,
          2012,
          2013,
          2014,
          2015,
          2016,
          2017,
          2018,
          2019
         ],
         "xaxis": "x",
         "y": [
          0.001,
          0.001,
          0.001,
          0.007,
          0.013,
          0.013,
          0.007,
          0.007,
          0.007
         ],
         "yaxis": "y"
        },
        {
         "hovertemplate": "color=Uruguay<br>x=%{x}<br>y=%{y}<extra></extra>",
         "legendgroup": "Uruguay",
         "marker": {
          "color": "#19d3f3",
          "symbol": "circle"
         },
         "mode": "markers",
         "name": "Uruguay",
         "showlegend": true,
         "type": "scattergl",
         "x": [
          2011,
          2012,
          2013,
          2014,
          2015,
          2016,
          2017,
          2018,
          2019,
          2020
         ],
         "xaxis": "x",
         "y": [
          7.655,
          6.798,
          9.728,
          12.213,
          12.704,
          13.362,
          14.054,
          14.193,
          15.718,
          12.681
         ],
         "yaxis": "y"
        },
        {
         "hovertemplate": "color=Uzbekistan<br>x=%{x}<br>y=%{y}<extra></extra>",
         "legendgroup": "Uzbekistan",
         "marker": {
          "color": "#FF6692",
          "symbol": "circle"
         },
         "mode": "markers",
         "name": "Uzbekistan",
         "showlegend": true,
         "type": "scattergl",
         "x": [
          2011,
          2012,
          2013,
          2014,
          2015,
          2016,
          2017,
          2018,
          2019
         ],
         "xaxis": "x",
         "y": [
          5.646,
          6.586,
          5.649,
          6.016,
          7,
          7.259,
          8.349,
          5.845,
          5.458
         ],
         "yaxis": "y"
        },
        {
         "hovertemplate": "color=Vanuatu<br>x=%{x}<br>y=%{y}<extra></extra>",
         "legendgroup": "Vanuatu",
         "marker": {
          "color": "#B6E880",
          "symbol": "circle"
         },
         "mode": "markers",
         "name": "Vanuatu",
         "showlegend": true,
         "type": "scattergl",
         "x": [
          2011,
          2012,
          2013,
          2014,
          2015,
          2016,
          2017,
          2018,
          2019
         ],
         "xaxis": "x",
         "y": [
          0.005,
          0.008,
          0.009,
          0.01,
          0.013,
          0.01,
          0.009,
          0.01,
          0.01
         ],
         "yaxis": "y"
        },
        {
         "hovertemplate": "color=Venezuela<br>x=%{x}<br>y=%{y}<extra></extra>",
         "legendgroup": "Venezuela",
         "marker": {
          "color": "#FF97FF",
          "symbol": "circle"
         },
         "mode": "markers",
         "name": "Venezuela",
         "showlegend": true,
         "type": "scattergl",
         "x": [
          2011,
          2012,
          2013,
          2014,
          2015,
          2016,
          2017,
          2018,
          2019
         ],
         "xaxis": "x",
         "y": [
          82.835,
          81.222,
          82.785,
          63.721,
          74.228,
          62.407,
          59.98,
          57.646,
          52.118
         ],
         "yaxis": "y"
        },
        {
         "hovertemplate": "color=Vietnam<br>x=%{x}<br>y=%{y}<extra></extra>",
         "legendgroup": "Vietnam",
         "marker": {
          "color": "#FECB52",
          "symbol": "circle"
         },
         "mode": "markers",
         "name": "Vietnam",
         "showlegend": true,
         "type": "scattergl",
         "x": [
          2011,
          2012,
          2013,
          2014,
          2015,
          2016,
          2017,
          2018,
          2019,
          2020
         ],
         "xaxis": "x",
         "y": [
          40.664,
          52.417,
          51.586,
          59.396,
          56.803,
          65.358,
          88.5,
          83.93,
          74.189,
          82.789
         ],
         "yaxis": "y"
        },
        {
         "hovertemplate": "color=Yemen<br>x=%{x}<br>y=%{y}<extra></extra>",
         "legendgroup": "Yemen",
         "marker": {
          "color": "#636efa",
          "symbol": "circle"
         },
         "mode": "markers",
         "name": "Yemen",
         "showlegend": true,
         "type": "scattergl",
         "x": [
          2011,
          2012,
          2013,
          2014,
          2015,
          2016,
          2017,
          2018,
          2019
         ],
         "xaxis": "x",
         "y": [
          0.002,
          0.003,
          0.004,
          0.009,
          0.11,
          0.147,
          0.183,
          0.458,
          0.5
         ],
         "yaxis": "y"
        },
        {
         "hovertemplate": "color=Zambia<br>x=%{x}<br>y=%{y}<extra></extra>",
         "legendgroup": "Zambia",
         "marker": {
          "color": "#EF553B",
          "symbol": "circle"
         },
         "mode": "markers",
         "name": "Zambia",
         "showlegend": true,
         "type": "scattergl",
         "x": [
          2011,
          2012,
          2013,
          2014,
          2015,
          2016,
          2017,
          2018,
          2019
         ],
         "xaxis": "x",
         "y": [
          11.433,
          12.294,
          13.214,
          13.973,
          12.98,
          10.991,
          12.444,
          13.635,
          13.853
         ],
         "yaxis": "y"
        },
        {
         "hovertemplate": "color=Zimbabwe<br>x=%{x}<br>y=%{y}<extra></extra>",
         "legendgroup": "Zimbabwe",
         "marker": {
          "color": "#00cc96",
          "symbol": "circle"
         },
         "mode": "markers",
         "name": "Zimbabwe",
         "showlegend": true,
         "type": "scattergl",
         "x": [
          2011,
          2012,
          2013,
          2014,
          2015,
          2016,
          2017,
          2018,
          2019
         ],
         "xaxis": "x",
         "y": [
          5.28,
          5.506,
          5.115,
          5.526,
          5.076,
          3.111,
          4.091,
          5.201,
          5.241
         ],
         "yaxis": "y"
        }
       ],
       "layout": {
        "legend": {
         "title": {
          "text": "color"
         },
         "tracegroupgap": 0
        },
        "margin": {
         "t": 60
        },
        "template": {
         "data": {
          "bar": [
           {
            "error_x": {
             "color": "#2a3f5f"
            },
            "error_y": {
             "color": "#2a3f5f"
            },
            "marker": {
             "line": {
              "color": "#E5ECF6",
              "width": 0.5
             },
             "pattern": {
              "fillmode": "overlay",
              "size": 10,
              "solidity": 0.2
             }
            },
            "type": "bar"
           }
          ],
          "barpolar": [
           {
            "marker": {
             "line": {
              "color": "#E5ECF6",
              "width": 0.5
             },
             "pattern": {
              "fillmode": "overlay",
              "size": 10,
              "solidity": 0.2
             }
            },
            "type": "barpolar"
           }
          ],
          "carpet": [
           {
            "aaxis": {
             "endlinecolor": "#2a3f5f",
             "gridcolor": "white",
             "linecolor": "white",
             "minorgridcolor": "white",
             "startlinecolor": "#2a3f5f"
            },
            "baxis": {
             "endlinecolor": "#2a3f5f",
             "gridcolor": "white",
             "linecolor": "white",
             "minorgridcolor": "white",
             "startlinecolor": "#2a3f5f"
            },
            "type": "carpet"
           }
          ],
          "choropleth": [
           {
            "colorbar": {
             "outlinewidth": 0,
             "ticks": ""
            },
            "type": "choropleth"
           }
          ],
          "contour": [
           {
            "colorbar": {
             "outlinewidth": 0,
             "ticks": ""
            },
            "colorscale": [
             [
              0,
              "#0d0887"
             ],
             [
              0.1111111111111111,
              "#46039f"
             ],
             [
              0.2222222222222222,
              "#7201a8"
             ],
             [
              0.3333333333333333,
              "#9c179e"
             ],
             [
              0.4444444444444444,
              "#bd3786"
             ],
             [
              0.5555555555555556,
              "#d8576b"
             ],
             [
              0.6666666666666666,
              "#ed7953"
             ],
             [
              0.7777777777777778,
              "#fb9f3a"
             ],
             [
              0.8888888888888888,
              "#fdca26"
             ],
             [
              1,
              "#f0f921"
             ]
            ],
            "type": "contour"
           }
          ],
          "contourcarpet": [
           {
            "colorbar": {
             "outlinewidth": 0,
             "ticks": ""
            },
            "type": "contourcarpet"
           }
          ],
          "heatmap": [
           {
            "colorbar": {
             "outlinewidth": 0,
             "ticks": ""
            },
            "colorscale": [
             [
              0,
              "#0d0887"
             ],
             [
              0.1111111111111111,
              "#46039f"
             ],
             [
              0.2222222222222222,
              "#7201a8"
             ],
             [
              0.3333333333333333,
              "#9c179e"
             ],
             [
              0.4444444444444444,
              "#bd3786"
             ],
             [
              0.5555555555555556,
              "#d8576b"
             ],
             [
              0.6666666666666666,
              "#ed7953"
             ],
             [
              0.7777777777777778,
              "#fb9f3a"
             ],
             [
              0.8888888888888888,
              "#fdca26"
             ],
             [
              1,
              "#f0f921"
             ]
            ],
            "type": "heatmap"
           }
          ],
          "heatmapgl": [
           {
            "colorbar": {
             "outlinewidth": 0,
             "ticks": ""
            },
            "colorscale": [
             [
              0,
              "#0d0887"
             ],
             [
              0.1111111111111111,
              "#46039f"
             ],
             [
              0.2222222222222222,
              "#7201a8"
             ],
             [
              0.3333333333333333,
              "#9c179e"
             ],
             [
              0.4444444444444444,
              "#bd3786"
             ],
             [
              0.5555555555555556,
              "#d8576b"
             ],
             [
              0.6666666666666666,
              "#ed7953"
             ],
             [
              0.7777777777777778,
              "#fb9f3a"
             ],
             [
              0.8888888888888888,
              "#fdca26"
             ],
             [
              1,
              "#f0f921"
             ]
            ],
            "type": "heatmapgl"
           }
          ],
          "histogram": [
           {
            "marker": {
             "pattern": {
              "fillmode": "overlay",
              "size": 10,
              "solidity": 0.2
             }
            },
            "type": "histogram"
           }
          ],
          "histogram2d": [
           {
            "colorbar": {
             "outlinewidth": 0,
             "ticks": ""
            },
            "colorscale": [
             [
              0,
              "#0d0887"
             ],
             [
              0.1111111111111111,
              "#46039f"
             ],
             [
              0.2222222222222222,
              "#7201a8"
             ],
             [
              0.3333333333333333,
              "#9c179e"
             ],
             [
              0.4444444444444444,
              "#bd3786"
             ],
             [
              0.5555555555555556,
              "#d8576b"
             ],
             [
              0.6666666666666666,
              "#ed7953"
             ],
             [
              0.7777777777777778,
              "#fb9f3a"
             ],
             [
              0.8888888888888888,
              "#fdca26"
             ],
             [
              1,
              "#f0f921"
             ]
            ],
            "type": "histogram2d"
           }
          ],
          "histogram2dcontour": [
           {
            "colorbar": {
             "outlinewidth": 0,
             "ticks": ""
            },
            "colorscale": [
             [
              0,
              "#0d0887"
             ],
             [
              0.1111111111111111,
              "#46039f"
             ],
             [
              0.2222222222222222,
              "#7201a8"
             ],
             [
              0.3333333333333333,
              "#9c179e"
             ],
             [
              0.4444444444444444,
              "#bd3786"
             ],
             [
              0.5555555555555556,
              "#d8576b"
             ],
             [
              0.6666666666666666,
              "#ed7953"
             ],
             [
              0.7777777777777778,
              "#fb9f3a"
             ],
             [
              0.8888888888888888,
              "#fdca26"
             ],
             [
              1,
              "#f0f921"
             ]
            ],
            "type": "histogram2dcontour"
           }
          ],
          "mesh3d": [
           {
            "colorbar": {
             "outlinewidth": 0,
             "ticks": ""
            },
            "type": "mesh3d"
           }
          ],
          "parcoords": [
           {
            "line": {
             "colorbar": {
              "outlinewidth": 0,
              "ticks": ""
             }
            },
            "type": "parcoords"
           }
          ],
          "pie": [
           {
            "automargin": true,
            "type": "pie"
           }
          ],
          "scatter": [
           {
            "fillpattern": {
             "fillmode": "overlay",
             "size": 10,
             "solidity": 0.2
            },
            "type": "scatter"
           }
          ],
          "scatter3d": [
           {
            "line": {
             "colorbar": {
              "outlinewidth": 0,
              "ticks": ""
             }
            },
            "marker": {
             "colorbar": {
              "outlinewidth": 0,
              "ticks": ""
             }
            },
            "type": "scatter3d"
           }
          ],
          "scattercarpet": [
           {
            "marker": {
             "colorbar": {
              "outlinewidth": 0,
              "ticks": ""
             }
            },
            "type": "scattercarpet"
           }
          ],
          "scattergeo": [
           {
            "marker": {
             "colorbar": {
              "outlinewidth": 0,
              "ticks": ""
             }
            },
            "type": "scattergeo"
           }
          ],
          "scattergl": [
           {
            "marker": {
             "colorbar": {
              "outlinewidth": 0,
              "ticks": ""
             }
            },
            "type": "scattergl"
           }
          ],
          "scattermapbox": [
           {
            "marker": {
             "colorbar": {
              "outlinewidth": 0,
              "ticks": ""
             }
            },
            "type": "scattermapbox"
           }
          ],
          "scatterpolar": [
           {
            "marker": {
             "colorbar": {
              "outlinewidth": 0,
              "ticks": ""
             }
            },
            "type": "scatterpolar"
           }
          ],
          "scatterpolargl": [
           {
            "marker": {
             "colorbar": {
              "outlinewidth": 0,
              "ticks": ""
             }
            },
            "type": "scatterpolargl"
           }
          ],
          "scatterternary": [
           {
            "marker": {
             "colorbar": {
              "outlinewidth": 0,
              "ticks": ""
             }
            },
            "type": "scatterternary"
           }
          ],
          "surface": [
           {
            "colorbar": {
             "outlinewidth": 0,
             "ticks": ""
            },
            "colorscale": [
             [
              0,
              "#0d0887"
             ],
             [
              0.1111111111111111,
              "#46039f"
             ],
             [
              0.2222222222222222,
              "#7201a8"
             ],
             [
              0.3333333333333333,
              "#9c179e"
             ],
             [
              0.4444444444444444,
              "#bd3786"
             ],
             [
              0.5555555555555556,
              "#d8576b"
             ],
             [
              0.6666666666666666,
              "#ed7953"
             ],
             [
              0.7777777777777778,
              "#fb9f3a"
             ],
             [
              0.8888888888888888,
              "#fdca26"
             ],
             [
              1,
              "#f0f921"
             ]
            ],
            "type": "surface"
           }
          ],
          "table": [
           {
            "cells": {
             "fill": {
              "color": "#EBF0F8"
             },
             "line": {
              "color": "white"
             }
            },
            "header": {
             "fill": {
              "color": "#C8D4E3"
             },
             "line": {
              "color": "white"
             }
            },
            "type": "table"
           }
          ]
         },
         "layout": {
          "annotationdefaults": {
           "arrowcolor": "#2a3f5f",
           "arrowhead": 0,
           "arrowwidth": 1
          },
          "autotypenumbers": "strict",
          "coloraxis": {
           "colorbar": {
            "outlinewidth": 0,
            "ticks": ""
           }
          },
          "colorscale": {
           "diverging": [
            [
             0,
             "#8e0152"
            ],
            [
             0.1,
             "#c51b7d"
            ],
            [
             0.2,
             "#de77ae"
            ],
            [
             0.3,
             "#f1b6da"
            ],
            [
             0.4,
             "#fde0ef"
            ],
            [
             0.5,
             "#f7f7f7"
            ],
            [
             0.6,
             "#e6f5d0"
            ],
            [
             0.7,
             "#b8e186"
            ],
            [
             0.8,
             "#7fbc41"
            ],
            [
             0.9,
             "#4d9221"
            ],
            [
             1,
             "#276419"
            ]
           ],
           "sequential": [
            [
             0,
             "#0d0887"
            ],
            [
             0.1111111111111111,
             "#46039f"
            ],
            [
             0.2222222222222222,
             "#7201a8"
            ],
            [
             0.3333333333333333,
             "#9c179e"
            ],
            [
             0.4444444444444444,
             "#bd3786"
            ],
            [
             0.5555555555555556,
             "#d8576b"
            ],
            [
             0.6666666666666666,
             "#ed7953"
            ],
            [
             0.7777777777777778,
             "#fb9f3a"
            ],
            [
             0.8888888888888888,
             "#fdca26"
            ],
            [
             1,
             "#f0f921"
            ]
           ],
           "sequentialminus": [
            [
             0,
             "#0d0887"
            ],
            [
             0.1111111111111111,
             "#46039f"
            ],
            [
             0.2222222222222222,
             "#7201a8"
            ],
            [
             0.3333333333333333,
             "#9c179e"
            ],
            [
             0.4444444444444444,
             "#bd3786"
            ],
            [
             0.5555555555555556,
             "#d8576b"
            ],
            [
             0.6666666666666666,
             "#ed7953"
            ],
            [
             0.7777777777777778,
             "#fb9f3a"
            ],
            [
             0.8888888888888888,
             "#fdca26"
            ],
            [
             1,
             "#f0f921"
            ]
           ]
          },
          "colorway": [
           "#636efa",
           "#EF553B",
           "#00cc96",
           "#ab63fa",
           "#FFA15A",
           "#19d3f3",
           "#FF6692",
           "#B6E880",
           "#FF97FF",
           "#FECB52"
          ],
          "font": {
           "color": "#2a3f5f"
          },
          "geo": {
           "bgcolor": "white",
           "lakecolor": "white",
           "landcolor": "#E5ECF6",
           "showlakes": true,
           "showland": true,
           "subunitcolor": "white"
          },
          "hoverlabel": {
           "align": "left"
          },
          "hovermode": "closest",
          "mapbox": {
           "style": "light"
          },
          "paper_bgcolor": "white",
          "plot_bgcolor": "#E5ECF6",
          "polar": {
           "angularaxis": {
            "gridcolor": "white",
            "linecolor": "white",
            "ticks": ""
           },
           "bgcolor": "#E5ECF6",
           "radialaxis": {
            "gridcolor": "white",
            "linecolor": "white",
            "ticks": ""
           }
          },
          "scene": {
           "xaxis": {
            "backgroundcolor": "#E5ECF6",
            "gridcolor": "white",
            "gridwidth": 2,
            "linecolor": "white",
            "showbackground": true,
            "ticks": "",
            "zerolinecolor": "white"
           },
           "yaxis": {
            "backgroundcolor": "#E5ECF6",
            "gridcolor": "white",
            "gridwidth": 2,
            "linecolor": "white",
            "showbackground": true,
            "ticks": "",
            "zerolinecolor": "white"
           },
           "zaxis": {
            "backgroundcolor": "#E5ECF6",
            "gridcolor": "white",
            "gridwidth": 2,
            "linecolor": "white",
            "showbackground": true,
            "ticks": "",
            "zerolinecolor": "white"
           }
          },
          "shapedefaults": {
           "line": {
            "color": "#2a3f5f"
           }
          },
          "ternary": {
           "aaxis": {
            "gridcolor": "white",
            "linecolor": "white",
            "ticks": ""
           },
           "baxis": {
            "gridcolor": "white",
            "linecolor": "white",
            "ticks": ""
           },
           "bgcolor": "#E5ECF6",
           "caxis": {
            "gridcolor": "white",
            "linecolor": "white",
            "ticks": ""
           }
          },
          "title": {
           "x": 0.05
          },
          "xaxis": {
           "automargin": true,
           "gridcolor": "white",
           "linecolor": "white",
           "ticks": "",
           "title": {
            "standoff": 15
           },
           "zerolinecolor": "white",
           "zerolinewidth": 2
          },
          "yaxis": {
           "automargin": true,
           "gridcolor": "white",
           "linecolor": "white",
           "ticks": "",
           "title": {
            "standoff": 15
           },
           "zerolinecolor": "white",
           "zerolinewidth": 2
          }
         }
        },
        "xaxis": {
         "anchor": "y",
         "domain": [
          0,
          1
         ],
         "title": {
          "text": "x"
         }
        },
        "yaxis": {
         "anchor": "x",
         "domain": [
          0,
          1
         ],
         "title": {
          "text": "y"
         }
        }
       }
      }
     },
     "metadata": {},
     "output_type": "display_data"
    }
   ],
   "source": [
    "fig = px.scatter(x=wec[\"year\"], y=wec[\"renewables_electricity\"], color=wec['country'])\n",
    "fig.show()"
   ]
  },
  {
   "cell_type": "markdown",
   "id": "eec5e5f4",
   "metadata": {},
   "source": [
    "Realizamos encoding de la columna categorica \"country\" dado que el modelo no acepta variables de tipo stirng. "
   ]
  },
  {
   "cell_type": "code",
   "execution_count": 64,
   "id": "3dfdb5fe",
   "metadata": {},
   "outputs": [
    {
     "name": "stderr",
     "output_type": "stream",
     "text": [
      "c:\\Users\\Luna\\anaconda3\\envs\\ds-python\\Lib\\site-packages\\sklearn\\utils\\validation.py:605: FutureWarning:\n",
      "\n",
      "is_sparse is deprecated and will be removed in a future version. Check `isinstance(dtype, pd.SparseDtype)` instead.\n",
      "\n",
      "c:\\Users\\Luna\\anaconda3\\envs\\ds-python\\Lib\\site-packages\\sklearn\\utils\\validation.py:614: FutureWarning:\n",
      "\n",
      "is_sparse is deprecated and will be removed in a future version. Check `isinstance(dtype, pd.SparseDtype)` instead.\n",
      "\n"
     ]
    }
   ],
   "source": [
    "\"\"\"\n",
    "from sklearn.preprocessing import LabelEncoder\n",
    "\n",
    "labelencoder = LabelEncoder()\n",
    "wec[\"country\"] = labelencoder.fit_transform(wec[\"country\"])\n",
    "\"\"\""
   ]
  },
  {
   "cell_type": "code",
   "execution_count": 9,
   "id": "082cfc09",
   "metadata": {},
   "outputs": [],
   "source": [
    "wec = pd.get_dummies(wec, columns=['country'], drop_first=True)"
   ]
  },
  {
   "cell_type": "code",
   "execution_count": 74,
   "id": "d2f65917",
   "metadata": {},
   "outputs": [],
   "source": [
    "\"\"\"\n",
    "var_predictoras = [\"country\", \"year\", \"cluster\"]\n",
    "var_respuesta = [\"renewables_electricity\"]\n",
    "x = wec[var_predictoras]\n",
    "y = wec[var_respuesta]\n",
    "\"\"\" "
   ]
  },
  {
   "cell_type": "code",
   "execution_count": 10,
   "id": "bf4beda5",
   "metadata": {},
   "outputs": [
    {
     "data": {
      "text/html": [
       "<div>\n",
       "<style scoped>\n",
       "    .dataframe tbody tr th:only-of-type {\n",
       "        vertical-align: middle;\n",
       "    }\n",
       "\n",
       "    .dataframe tbody tr th {\n",
       "        vertical-align: top;\n",
       "    }\n",
       "\n",
       "    .dataframe thead th {\n",
       "        text-align: right;\n",
       "    }\n",
       "</style>\n",
       "<table border=\"1\" class=\"dataframe\">\n",
       "  <thead>\n",
       "    <tr style=\"text-align: right;\">\n",
       "      <th></th>\n",
       "      <th>year</th>\n",
       "      <th>renewables_electricity</th>\n",
       "      <th>cluster</th>\n",
       "      <th>country_Albania</th>\n",
       "      <th>country_Algeria</th>\n",
       "      <th>country_American Samoa</th>\n",
       "      <th>country_Angola</th>\n",
       "      <th>country_Antigua and Barbuda</th>\n",
       "      <th>country_Argentina</th>\n",
       "      <th>country_Armenia</th>\n",
       "      <th>country_Aruba</th>\n",
       "      <th>country_Australia</th>\n",
       "      <th>country_Austria</th>\n",
       "      <th>country_Azerbaijan</th>\n",
       "      <th>country_Bahamas</th>\n",
       "      <th>country_Bahrain</th>\n",
       "      <th>country_Bangladesh</th>\n",
       "      <th>country_Barbados</th>\n",
       "      <th>country_Belarus</th>\n",
       "      <th>country_Belgium</th>\n",
       "      <th>country_Belize</th>\n",
       "      <th>country_Benin</th>\n",
       "      <th>country_Bermuda</th>\n",
       "      <th>country_Bhutan</th>\n",
       "      <th>country_Bolivia</th>\n",
       "      <th>country_Bosnia and Herzegovina</th>\n",
       "      <th>country_Botswana</th>\n",
       "      <th>country_Brazil</th>\n",
       "      <th>country_British Virgin Islands</th>\n",
       "      <th>country_Brunei</th>\n",
       "      <th>country_Bulgaria</th>\n",
       "      <th>country_Burkina Faso</th>\n",
       "      <th>country_Burundi</th>\n",
       "      <th>country_Cambodia</th>\n",
       "      <th>country_Cameroon</th>\n",
       "      <th>country_Canada</th>\n",
       "      <th>country_Cayman Islands</th>\n",
       "      <th>country_Central African Republic</th>\n",
       "      <th>country_Chad</th>\n",
       "      <th>country_Chile</th>\n",
       "      <th>country_China</th>\n",
       "      <th>country_Colombia</th>\n",
       "      <th>country_Comoros</th>\n",
       "      <th>country_Congo</th>\n",
       "      <th>country_Cook Islands</th>\n",
       "      <th>country_Costa Rica</th>\n",
       "      <th>country_Croatia</th>\n",
       "      <th>country_Cuba</th>\n",
       "      <th>country_Cyprus</th>\n",
       "      <th>country_Czechia</th>\n",
       "      <th>country_Democratic Republic of Congo</th>\n",
       "      <th>country_Denmark</th>\n",
       "      <th>country_Djibouti</th>\n",
       "      <th>country_Dominica</th>\n",
       "      <th>country_Dominican Republic</th>\n",
       "      <th>country_Ecuador</th>\n",
       "      <th>country_Egypt</th>\n",
       "      <th>country_El Salvador</th>\n",
       "      <th>country_Equatorial Guinea</th>\n",
       "      <th>country_Eritrea</th>\n",
       "      <th>country_Estonia</th>\n",
       "      <th>country_Ethiopia</th>\n",
       "      <th>country_Fiji</th>\n",
       "      <th>country_Finland</th>\n",
       "      <th>country_France</th>\n",
       "      <th>country_French Guiana</th>\n",
       "      <th>country_French Polynesia</th>\n",
       "      <th>country_Gabon</th>\n",
       "      <th>country_Gambia</th>\n",
       "      <th>country_Georgia</th>\n",
       "      <th>country_Germany</th>\n",
       "      <th>country_Ghana</th>\n",
       "      <th>country_Gibraltar</th>\n",
       "      <th>country_Greece</th>\n",
       "      <th>country_Greenland</th>\n",
       "      <th>country_Grenada</th>\n",
       "      <th>country_Guadeloupe</th>\n",
       "      <th>country_Guam</th>\n",
       "      <th>country_Guatemala</th>\n",
       "      <th>country_Guinea</th>\n",
       "      <th>country_Guinea-Bissau</th>\n",
       "      <th>country_Guyana</th>\n",
       "      <th>country_Haiti</th>\n",
       "      <th>country_Honduras</th>\n",
       "      <th>country_Hong Kong</th>\n",
       "      <th>country_Hungary</th>\n",
       "      <th>country_Iceland</th>\n",
       "      <th>country_India</th>\n",
       "      <th>country_Indonesia</th>\n",
       "      <th>country_Iran</th>\n",
       "      <th>country_Iraq</th>\n",
       "      <th>country_Ireland</th>\n",
       "      <th>country_Israel</th>\n",
       "      <th>country_Italy</th>\n",
       "      <th>country_Jamaica</th>\n",
       "      <th>country_Japan</th>\n",
       "      <th>country_Jordan</th>\n",
       "      <th>country_Kazakhstan</th>\n",
       "      <th>country_Kenya</th>\n",
       "      <th>country_Kiribati</th>\n",
       "      <th>country_Kuwait</th>\n",
       "      <th>country_Kyrgyzstan</th>\n",
       "      <th>country_Laos</th>\n",
       "      <th>country_Latvia</th>\n",
       "      <th>country_Lebanon</th>\n",
       "      <th>country_Lesotho</th>\n",
       "      <th>country_Liberia</th>\n",
       "      <th>country_Libya</th>\n",
       "      <th>country_Lithuania</th>\n",
       "      <th>country_Luxembourg</th>\n",
       "      <th>country_Madagascar</th>\n",
       "      <th>country_Malawi</th>\n",
       "      <th>country_Malaysia</th>\n",
       "      <th>country_Maldives</th>\n",
       "      <th>country_Mali</th>\n",
       "      <th>country_Malta</th>\n",
       "      <th>country_Martinique</th>\n",
       "      <th>country_Mauritania</th>\n",
       "      <th>country_Mauritius</th>\n",
       "      <th>country_Mexico</th>\n",
       "      <th>country_Moldova</th>\n",
       "      <th>country_Mongolia</th>\n",
       "      <th>country_Montenegro</th>\n",
       "      <th>country_Montserrat</th>\n",
       "      <th>country_Morocco</th>\n",
       "      <th>country_Mozambique</th>\n",
       "      <th>country_Namibia</th>\n",
       "      <th>country_Nauru</th>\n",
       "      <th>country_Nepal</th>\n",
       "      <th>country_Netherlands</th>\n",
       "      <th>country_New Caledonia</th>\n",
       "      <th>country_New Zealand</th>\n",
       "      <th>country_Nicaragua</th>\n",
       "      <th>country_Niger</th>\n",
       "      <th>country_Nigeria</th>\n",
       "      <th>country_Niue</th>\n",
       "      <th>country_North Korea</th>\n",
       "      <th>country_Norway</th>\n",
       "      <th>country_Oman</th>\n",
       "      <th>country_Pakistan</th>\n",
       "      <th>country_Palestine</th>\n",
       "      <th>country_Panama</th>\n",
       "      <th>country_Papua New Guinea</th>\n",
       "      <th>country_Paraguay</th>\n",
       "      <th>country_Peru</th>\n",
       "      <th>country_Philippines</th>\n",
       "      <th>country_Poland</th>\n",
       "      <th>country_Portugal</th>\n",
       "      <th>country_Puerto Rico</th>\n",
       "      <th>country_Qatar</th>\n",
       "      <th>country_Romania</th>\n",
       "      <th>country_Russia</th>\n",
       "      <th>country_Rwanda</th>\n",
       "      <th>country_Saint Helena</th>\n",
       "      <th>country_Saint Kitts and Nevis</th>\n",
       "      <th>country_Saint Lucia</th>\n",
       "      <th>country_Saint Pierre and Miquelon</th>\n",
       "      <th>country_Saint Vincent and the Grenadines</th>\n",
       "      <th>country_Samoa</th>\n",
       "      <th>country_Sao Tome and Principe</th>\n",
       "      <th>country_Saudi Arabia</th>\n",
       "      <th>country_Senegal</th>\n",
       "      <th>country_Serbia</th>\n",
       "      <th>country_Seychelles</th>\n",
       "      <th>country_Sierra Leone</th>\n",
       "      <th>country_Singapore</th>\n",
       "      <th>country_Slovakia</th>\n",
       "      <th>country_Slovenia</th>\n",
       "      <th>country_Solomon Islands</th>\n",
       "      <th>country_Somalia</th>\n",
       "      <th>country_South Africa</th>\n",
       "      <th>country_South Korea</th>\n",
       "      <th>country_South Sudan</th>\n",
       "      <th>country_Spain</th>\n",
       "      <th>country_Sri Lanka</th>\n",
       "      <th>country_Sudan</th>\n",
       "      <th>country_Suriname</th>\n",
       "      <th>country_Sweden</th>\n",
       "      <th>country_Switzerland</th>\n",
       "      <th>country_Syria</th>\n",
       "      <th>country_Taiwan</th>\n",
       "      <th>country_Tajikistan</th>\n",
       "      <th>country_Tanzania</th>\n",
       "      <th>country_Thailand</th>\n",
       "      <th>country_Togo</th>\n",
       "      <th>country_Tonga</th>\n",
       "      <th>country_Trinidad and Tobago</th>\n",
       "      <th>country_Tunisia</th>\n",
       "      <th>country_Turkey</th>\n",
       "      <th>country_Turkmenistan</th>\n",
       "      <th>country_Turks and Caicos Islands</th>\n",
       "      <th>country_Uganda</th>\n",
       "      <th>country_Ukraine</th>\n",
       "      <th>country_United Arab Emirates</th>\n",
       "      <th>country_United Kingdom</th>\n",
       "      <th>country_United States</th>\n",
       "      <th>country_United States Virgin Islands</th>\n",
       "      <th>country_Uruguay</th>\n",
       "      <th>country_Uzbekistan</th>\n",
       "      <th>country_Vanuatu</th>\n",
       "      <th>country_Venezuela</th>\n",
       "      <th>country_Vietnam</th>\n",
       "      <th>country_Yemen</th>\n",
       "      <th>country_Zambia</th>\n",
       "      <th>country_Zimbabwe</th>\n",
       "    </tr>\n",
       "  </thead>\n",
       "  <tbody>\n",
       "    <tr>\n",
       "      <th>0</th>\n",
       "      <td>2011</td>\n",
       "      <td>0.595</td>\n",
       "      <td>4.0</td>\n",
       "      <td>False</td>\n",
       "      <td>False</td>\n",
       "      <td>False</td>\n",
       "      <td>False</td>\n",
       "      <td>False</td>\n",
       "      <td>False</td>\n",
       "      <td>False</td>\n",
       "      <td>False</td>\n",
       "      <td>False</td>\n",
       "      <td>False</td>\n",
       "      <td>False</td>\n",
       "      <td>False</td>\n",
       "      <td>False</td>\n",
       "      <td>False</td>\n",
       "      <td>False</td>\n",
       "      <td>False</td>\n",
       "      <td>False</td>\n",
       "      <td>False</td>\n",
       "      <td>False</td>\n",
       "      <td>False</td>\n",
       "      <td>False</td>\n",
       "      <td>False</td>\n",
       "      <td>False</td>\n",
       "      <td>False</td>\n",
       "      <td>False</td>\n",
       "      <td>False</td>\n",
       "      <td>False</td>\n",
       "      <td>False</td>\n",
       "      <td>False</td>\n",
       "      <td>False</td>\n",
       "      <td>False</td>\n",
       "      <td>False</td>\n",
       "      <td>False</td>\n",
       "      <td>False</td>\n",
       "      <td>False</td>\n",
       "      <td>False</td>\n",
       "      <td>False</td>\n",
       "      <td>False</td>\n",
       "      <td>False</td>\n",
       "      <td>False</td>\n",
       "      <td>False</td>\n",
       "      <td>False</td>\n",
       "      <td>False</td>\n",
       "      <td>False</td>\n",
       "      <td>False</td>\n",
       "      <td>False</td>\n",
       "      <td>False</td>\n",
       "      <td>False</td>\n",
       "      <td>False</td>\n",
       "      <td>False</td>\n",
       "      <td>False</td>\n",
       "      <td>False</td>\n",
       "      <td>False</td>\n",
       "      <td>False</td>\n",
       "      <td>False</td>\n",
       "      <td>False</td>\n",
       "      <td>False</td>\n",
       "      <td>False</td>\n",
       "      <td>False</td>\n",
       "      <td>False</td>\n",
       "      <td>False</td>\n",
       "      <td>False</td>\n",
       "      <td>False</td>\n",
       "      <td>False</td>\n",
       "      <td>False</td>\n",
       "      <td>False</td>\n",
       "      <td>False</td>\n",
       "      <td>False</td>\n",
       "      <td>False</td>\n",
       "      <td>False</td>\n",
       "      <td>False</td>\n",
       "      <td>False</td>\n",
       "      <td>False</td>\n",
       "      <td>False</td>\n",
       "      <td>False</td>\n",
       "      <td>False</td>\n",
       "      <td>False</td>\n",
       "      <td>False</td>\n",
       "      <td>False</td>\n",
       "      <td>False</td>\n",
       "      <td>False</td>\n",
       "      <td>False</td>\n",
       "      <td>False</td>\n",
       "      <td>False</td>\n",
       "      <td>False</td>\n",
       "      <td>False</td>\n",
       "      <td>False</td>\n",
       "      <td>False</td>\n",
       "      <td>False</td>\n",
       "      <td>False</td>\n",
       "      <td>False</td>\n",
       "      <td>False</td>\n",
       "      <td>False</td>\n",
       "      <td>False</td>\n",
       "      <td>False</td>\n",
       "      <td>False</td>\n",
       "      <td>False</td>\n",
       "      <td>False</td>\n",
       "      <td>False</td>\n",
       "      <td>False</td>\n",
       "      <td>False</td>\n",
       "      <td>False</td>\n",
       "      <td>False</td>\n",
       "      <td>False</td>\n",
       "      <td>False</td>\n",
       "      <td>False</td>\n",
       "      <td>False</td>\n",
       "      <td>False</td>\n",
       "      <td>False</td>\n",
       "      <td>False</td>\n",
       "      <td>False</td>\n",
       "      <td>False</td>\n",
       "      <td>False</td>\n",
       "      <td>False</td>\n",
       "      <td>False</td>\n",
       "      <td>False</td>\n",
       "      <td>False</td>\n",
       "      <td>False</td>\n",
       "      <td>False</td>\n",
       "      <td>False</td>\n",
       "      <td>False</td>\n",
       "      <td>False</td>\n",
       "      <td>False</td>\n",
       "      <td>False</td>\n",
       "      <td>False</td>\n",
       "      <td>False</td>\n",
       "      <td>False</td>\n",
       "      <td>False</td>\n",
       "      <td>False</td>\n",
       "      <td>False</td>\n",
       "      <td>False</td>\n",
       "      <td>False</td>\n",
       "      <td>False</td>\n",
       "      <td>False</td>\n",
       "      <td>False</td>\n",
       "      <td>False</td>\n",
       "      <td>False</td>\n",
       "      <td>False</td>\n",
       "      <td>False</td>\n",
       "      <td>False</td>\n",
       "      <td>False</td>\n",
       "      <td>False</td>\n",
       "      <td>False</td>\n",
       "      <td>False</td>\n",
       "      <td>False</td>\n",
       "      <td>False</td>\n",
       "      <td>False</td>\n",
       "      <td>False</td>\n",
       "      <td>False</td>\n",
       "      <td>False</td>\n",
       "      <td>False</td>\n",
       "      <td>False</td>\n",
       "      <td>False</td>\n",
       "      <td>False</td>\n",
       "      <td>False</td>\n",
       "      <td>False</td>\n",
       "      <td>False</td>\n",
       "      <td>False</td>\n",
       "      <td>False</td>\n",
       "      <td>False</td>\n",
       "      <td>False</td>\n",
       "      <td>False</td>\n",
       "      <td>False</td>\n",
       "      <td>False</td>\n",
       "      <td>False</td>\n",
       "      <td>False</td>\n",
       "      <td>False</td>\n",
       "      <td>False</td>\n",
       "      <td>False</td>\n",
       "      <td>False</td>\n",
       "      <td>False</td>\n",
       "      <td>False</td>\n",
       "      <td>False</td>\n",
       "      <td>False</td>\n",
       "      <td>False</td>\n",
       "      <td>False</td>\n",
       "      <td>False</td>\n",
       "      <td>False</td>\n",
       "      <td>False</td>\n",
       "      <td>False</td>\n",
       "      <td>False</td>\n",
       "      <td>False</td>\n",
       "      <td>False</td>\n",
       "      <td>False</td>\n",
       "      <td>False</td>\n",
       "      <td>False</td>\n",
       "      <td>False</td>\n",
       "      <td>False</td>\n",
       "      <td>False</td>\n",
       "      <td>False</td>\n",
       "      <td>False</td>\n",
       "      <td>False</td>\n",
       "      <td>False</td>\n",
       "      <td>False</td>\n",
       "      <td>False</td>\n",
       "      <td>False</td>\n",
       "      <td>False</td>\n",
       "      <td>False</td>\n",
       "      <td>False</td>\n",
       "      <td>False</td>\n",
       "      <td>False</td>\n",
       "      <td>False</td>\n",
       "    </tr>\n",
       "    <tr>\n",
       "      <th>1</th>\n",
       "      <td>2012</td>\n",
       "      <td>0.738</td>\n",
       "      <td>4.0</td>\n",
       "      <td>False</td>\n",
       "      <td>False</td>\n",
       "      <td>False</td>\n",
       "      <td>False</td>\n",
       "      <td>False</td>\n",
       "      <td>False</td>\n",
       "      <td>False</td>\n",
       "      <td>False</td>\n",
       "      <td>False</td>\n",
       "      <td>False</td>\n",
       "      <td>False</td>\n",
       "      <td>False</td>\n",
       "      <td>False</td>\n",
       "      <td>False</td>\n",
       "      <td>False</td>\n",
       "      <td>False</td>\n",
       "      <td>False</td>\n",
       "      <td>False</td>\n",
       "      <td>False</td>\n",
       "      <td>False</td>\n",
       "      <td>False</td>\n",
       "      <td>False</td>\n",
       "      <td>False</td>\n",
       "      <td>False</td>\n",
       "      <td>False</td>\n",
       "      <td>False</td>\n",
       "      <td>False</td>\n",
       "      <td>False</td>\n",
       "      <td>False</td>\n",
       "      <td>False</td>\n",
       "      <td>False</td>\n",
       "      <td>False</td>\n",
       "      <td>False</td>\n",
       "      <td>False</td>\n",
       "      <td>False</td>\n",
       "      <td>False</td>\n",
       "      <td>False</td>\n",
       "      <td>False</td>\n",
       "      <td>False</td>\n",
       "      <td>False</td>\n",
       "      <td>False</td>\n",
       "      <td>False</td>\n",
       "      <td>False</td>\n",
       "      <td>False</td>\n",
       "      <td>False</td>\n",
       "      <td>False</td>\n",
       "      <td>False</td>\n",
       "      <td>False</td>\n",
       "      <td>False</td>\n",
       "      <td>False</td>\n",
       "      <td>False</td>\n",
       "      <td>False</td>\n",
       "      <td>False</td>\n",
       "      <td>False</td>\n",
       "      <td>False</td>\n",
       "      <td>False</td>\n",
       "      <td>False</td>\n",
       "      <td>False</td>\n",
       "      <td>False</td>\n",
       "      <td>False</td>\n",
       "      <td>False</td>\n",
       "      <td>False</td>\n",
       "      <td>False</td>\n",
       "      <td>False</td>\n",
       "      <td>False</td>\n",
       "      <td>False</td>\n",
       "      <td>False</td>\n",
       "      <td>False</td>\n",
       "      <td>False</td>\n",
       "      <td>False</td>\n",
       "      <td>False</td>\n",
       "      <td>False</td>\n",
       "      <td>False</td>\n",
       "      <td>False</td>\n",
       "      <td>False</td>\n",
       "      <td>False</td>\n",
       "      <td>False</td>\n",
       "      <td>False</td>\n",
       "      <td>False</td>\n",
       "      <td>False</td>\n",
       "      <td>False</td>\n",
       "      <td>False</td>\n",
       "      <td>False</td>\n",
       "      <td>False</td>\n",
       "      <td>False</td>\n",
       "      <td>False</td>\n",
       "      <td>False</td>\n",
       "      <td>False</td>\n",
       "      <td>False</td>\n",
       "      <td>False</td>\n",
       "      <td>False</td>\n",
       "      <td>False</td>\n",
       "      <td>False</td>\n",
       "      <td>False</td>\n",
       "      <td>False</td>\n",
       "      <td>False</td>\n",
       "      <td>False</td>\n",
       "      <td>False</td>\n",
       "      <td>False</td>\n",
       "      <td>False</td>\n",
       "      <td>False</td>\n",
       "      <td>False</td>\n",
       "      <td>False</td>\n",
       "      <td>False</td>\n",
       "      <td>False</td>\n",
       "      <td>False</td>\n",
       "      <td>False</td>\n",
       "      <td>False</td>\n",
       "      <td>False</td>\n",
       "      <td>False</td>\n",
       "      <td>False</td>\n",
       "      <td>False</td>\n",
       "      <td>False</td>\n",
       "      <td>False</td>\n",
       "      <td>False</td>\n",
       "      <td>False</td>\n",
       "      <td>False</td>\n",
       "      <td>False</td>\n",
       "      <td>False</td>\n",
       "      <td>False</td>\n",
       "      <td>False</td>\n",
       "      <td>False</td>\n",
       "      <td>False</td>\n",
       "      <td>False</td>\n",
       "      <td>False</td>\n",
       "      <td>False</td>\n",
       "      <td>False</td>\n",
       "      <td>False</td>\n",
       "      <td>False</td>\n",
       "      <td>False</td>\n",
       "      <td>False</td>\n",
       "      <td>False</td>\n",
       "      <td>False</td>\n",
       "      <td>False</td>\n",
       "      <td>False</td>\n",
       "      <td>False</td>\n",
       "      <td>False</td>\n",
       "      <td>False</td>\n",
       "      <td>False</td>\n",
       "      <td>False</td>\n",
       "      <td>False</td>\n",
       "      <td>False</td>\n",
       "      <td>False</td>\n",
       "      <td>False</td>\n",
       "      <td>False</td>\n",
       "      <td>False</td>\n",
       "      <td>False</td>\n",
       "      <td>False</td>\n",
       "      <td>False</td>\n",
       "      <td>False</td>\n",
       "      <td>False</td>\n",
       "      <td>False</td>\n",
       "      <td>False</td>\n",
       "      <td>False</td>\n",
       "      <td>False</td>\n",
       "      <td>False</td>\n",
       "      <td>False</td>\n",
       "      <td>False</td>\n",
       "      <td>False</td>\n",
       "      <td>False</td>\n",
       "      <td>False</td>\n",
       "      <td>False</td>\n",
       "      <td>False</td>\n",
       "      <td>False</td>\n",
       "      <td>False</td>\n",
       "      <td>False</td>\n",
       "      <td>False</td>\n",
       "      <td>False</td>\n",
       "      <td>False</td>\n",
       "      <td>False</td>\n",
       "      <td>False</td>\n",
       "      <td>False</td>\n",
       "      <td>False</td>\n",
       "      <td>False</td>\n",
       "      <td>False</td>\n",
       "      <td>False</td>\n",
       "      <td>False</td>\n",
       "      <td>False</td>\n",
       "      <td>False</td>\n",
       "      <td>False</td>\n",
       "      <td>False</td>\n",
       "      <td>False</td>\n",
       "      <td>False</td>\n",
       "      <td>False</td>\n",
       "      <td>False</td>\n",
       "      <td>False</td>\n",
       "      <td>False</td>\n",
       "      <td>False</td>\n",
       "      <td>False</td>\n",
       "      <td>False</td>\n",
       "      <td>False</td>\n",
       "      <td>False</td>\n",
       "      <td>False</td>\n",
       "      <td>False</td>\n",
       "      <td>False</td>\n",
       "      <td>False</td>\n",
       "      <td>False</td>\n",
       "      <td>False</td>\n",
       "      <td>False</td>\n",
       "      <td>False</td>\n",
       "      <td>False</td>\n",
       "      <td>False</td>\n",
       "    </tr>\n",
       "    <tr>\n",
       "      <th>2</th>\n",
       "      <td>2013</td>\n",
       "      <td>0.885</td>\n",
       "      <td>4.0</td>\n",
       "      <td>False</td>\n",
       "      <td>False</td>\n",
       "      <td>False</td>\n",
       "      <td>False</td>\n",
       "      <td>False</td>\n",
       "      <td>False</td>\n",
       "      <td>False</td>\n",
       "      <td>False</td>\n",
       "      <td>False</td>\n",
       "      <td>False</td>\n",
       "      <td>False</td>\n",
       "      <td>False</td>\n",
       "      <td>False</td>\n",
       "      <td>False</td>\n",
       "      <td>False</td>\n",
       "      <td>False</td>\n",
       "      <td>False</td>\n",
       "      <td>False</td>\n",
       "      <td>False</td>\n",
       "      <td>False</td>\n",
       "      <td>False</td>\n",
       "      <td>False</td>\n",
       "      <td>False</td>\n",
       "      <td>False</td>\n",
       "      <td>False</td>\n",
       "      <td>False</td>\n",
       "      <td>False</td>\n",
       "      <td>False</td>\n",
       "      <td>False</td>\n",
       "      <td>False</td>\n",
       "      <td>False</td>\n",
       "      <td>False</td>\n",
       "      <td>False</td>\n",
       "      <td>False</td>\n",
       "      <td>False</td>\n",
       "      <td>False</td>\n",
       "      <td>False</td>\n",
       "      <td>False</td>\n",
       "      <td>False</td>\n",
       "      <td>False</td>\n",
       "      <td>False</td>\n",
       "      <td>False</td>\n",
       "      <td>False</td>\n",
       "      <td>False</td>\n",
       "      <td>False</td>\n",
       "      <td>False</td>\n",
       "      <td>False</td>\n",
       "      <td>False</td>\n",
       "      <td>False</td>\n",
       "      <td>False</td>\n",
       "      <td>False</td>\n",
       "      <td>False</td>\n",
       "      <td>False</td>\n",
       "      <td>False</td>\n",
       "      <td>False</td>\n",
       "      <td>False</td>\n",
       "      <td>False</td>\n",
       "      <td>False</td>\n",
       "      <td>False</td>\n",
       "      <td>False</td>\n",
       "      <td>False</td>\n",
       "      <td>False</td>\n",
       "      <td>False</td>\n",
       "      <td>False</td>\n",
       "      <td>False</td>\n",
       "      <td>False</td>\n",
       "      <td>False</td>\n",
       "      <td>False</td>\n",
       "      <td>False</td>\n",
       "      <td>False</td>\n",
       "      <td>False</td>\n",
       "      <td>False</td>\n",
       "      <td>False</td>\n",
       "      <td>False</td>\n",
       "      <td>False</td>\n",
       "      <td>False</td>\n",
       "      <td>False</td>\n",
       "      <td>False</td>\n",
       "      <td>False</td>\n",
       "      <td>False</td>\n",
       "      <td>False</td>\n",
       "      <td>False</td>\n",
       "      <td>False</td>\n",
       "      <td>False</td>\n",
       "      <td>False</td>\n",
       "      <td>False</td>\n",
       "      <td>False</td>\n",
       "      <td>False</td>\n",
       "      <td>False</td>\n",
       "      <td>False</td>\n",
       "      <td>False</td>\n",
       "      <td>False</td>\n",
       "      <td>False</td>\n",
       "      <td>False</td>\n",
       "      <td>False</td>\n",
       "      <td>False</td>\n",
       "      <td>False</td>\n",
       "      <td>False</td>\n",
       "      <td>False</td>\n",
       "      <td>False</td>\n",
       "      <td>False</td>\n",
       "      <td>False</td>\n",
       "      <td>False</td>\n",
       "      <td>False</td>\n",
       "      <td>False</td>\n",
       "      <td>False</td>\n",
       "      <td>False</td>\n",
       "      <td>False</td>\n",
       "      <td>False</td>\n",
       "      <td>False</td>\n",
       "      <td>False</td>\n",
       "      <td>False</td>\n",
       "      <td>False</td>\n",
       "      <td>False</td>\n",
       "      <td>False</td>\n",
       "      <td>False</td>\n",
       "      <td>False</td>\n",
       "      <td>False</td>\n",
       "      <td>False</td>\n",
       "      <td>False</td>\n",
       "      <td>False</td>\n",
       "      <td>False</td>\n",
       "      <td>False</td>\n",
       "      <td>False</td>\n",
       "      <td>False</td>\n",
       "      <td>False</td>\n",
       "      <td>False</td>\n",
       "      <td>False</td>\n",
       "      <td>False</td>\n",
       "      <td>False</td>\n",
       "      <td>False</td>\n",
       "      <td>False</td>\n",
       "      <td>False</td>\n",
       "      <td>False</td>\n",
       "      <td>False</td>\n",
       "      <td>False</td>\n",
       "      <td>False</td>\n",
       "      <td>False</td>\n",
       "      <td>False</td>\n",
       "      <td>False</td>\n",
       "      <td>False</td>\n",
       "      <td>False</td>\n",
       "      <td>False</td>\n",
       "      <td>False</td>\n",
       "      <td>False</td>\n",
       "      <td>False</td>\n",
       "      <td>False</td>\n",
       "      <td>False</td>\n",
       "      <td>False</td>\n",
       "      <td>False</td>\n",
       "      <td>False</td>\n",
       "      <td>False</td>\n",
       "      <td>False</td>\n",
       "      <td>False</td>\n",
       "      <td>False</td>\n",
       "      <td>False</td>\n",
       "      <td>False</td>\n",
       "      <td>False</td>\n",
       "      <td>False</td>\n",
       "      <td>False</td>\n",
       "      <td>False</td>\n",
       "      <td>False</td>\n",
       "      <td>False</td>\n",
       "      <td>False</td>\n",
       "      <td>False</td>\n",
       "      <td>False</td>\n",
       "      <td>False</td>\n",
       "      <td>False</td>\n",
       "      <td>False</td>\n",
       "      <td>False</td>\n",
       "      <td>False</td>\n",
       "      <td>False</td>\n",
       "      <td>False</td>\n",
       "      <td>False</td>\n",
       "      <td>False</td>\n",
       "      <td>False</td>\n",
       "      <td>False</td>\n",
       "      <td>False</td>\n",
       "      <td>False</td>\n",
       "      <td>False</td>\n",
       "      <td>False</td>\n",
       "      <td>False</td>\n",
       "      <td>False</td>\n",
       "      <td>False</td>\n",
       "      <td>False</td>\n",
       "      <td>False</td>\n",
       "      <td>False</td>\n",
       "      <td>False</td>\n",
       "      <td>False</td>\n",
       "      <td>False</td>\n",
       "      <td>False</td>\n",
       "      <td>False</td>\n",
       "      <td>False</td>\n",
       "      <td>False</td>\n",
       "      <td>False</td>\n",
       "      <td>False</td>\n",
       "      <td>False</td>\n",
       "      <td>False</td>\n",
       "      <td>False</td>\n",
       "      <td>False</td>\n",
       "      <td>False</td>\n",
       "      <td>False</td>\n",
       "    </tr>\n",
       "    <tr>\n",
       "      <th>3</th>\n",
       "      <td>2014</td>\n",
       "      <td>1.000</td>\n",
       "      <td>4.0</td>\n",
       "      <td>False</td>\n",
       "      <td>False</td>\n",
       "      <td>False</td>\n",
       "      <td>False</td>\n",
       "      <td>False</td>\n",
       "      <td>False</td>\n",
       "      <td>False</td>\n",
       "      <td>False</td>\n",
       "      <td>False</td>\n",
       "      <td>False</td>\n",
       "      <td>False</td>\n",
       "      <td>False</td>\n",
       "      <td>False</td>\n",
       "      <td>False</td>\n",
       "      <td>False</td>\n",
       "      <td>False</td>\n",
       "      <td>False</td>\n",
       "      <td>False</td>\n",
       "      <td>False</td>\n",
       "      <td>False</td>\n",
       "      <td>False</td>\n",
       "      <td>False</td>\n",
       "      <td>False</td>\n",
       "      <td>False</td>\n",
       "      <td>False</td>\n",
       "      <td>False</td>\n",
       "      <td>False</td>\n",
       "      <td>False</td>\n",
       "      <td>False</td>\n",
       "      <td>False</td>\n",
       "      <td>False</td>\n",
       "      <td>False</td>\n",
       "      <td>False</td>\n",
       "      <td>False</td>\n",
       "      <td>False</td>\n",
       "      <td>False</td>\n",
       "      <td>False</td>\n",
       "      <td>False</td>\n",
       "      <td>False</td>\n",
       "      <td>False</td>\n",
       "      <td>False</td>\n",
       "      <td>False</td>\n",
       "      <td>False</td>\n",
       "      <td>False</td>\n",
       "      <td>False</td>\n",
       "      <td>False</td>\n",
       "      <td>False</td>\n",
       "      <td>False</td>\n",
       "      <td>False</td>\n",
       "      <td>False</td>\n",
       "      <td>False</td>\n",
       "      <td>False</td>\n",
       "      <td>False</td>\n",
       "      <td>False</td>\n",
       "      <td>False</td>\n",
       "      <td>False</td>\n",
       "      <td>False</td>\n",
       "      <td>False</td>\n",
       "      <td>False</td>\n",
       "      <td>False</td>\n",
       "      <td>False</td>\n",
       "      <td>False</td>\n",
       "      <td>False</td>\n",
       "      <td>False</td>\n",
       "      <td>False</td>\n",
       "      <td>False</td>\n",
       "      <td>False</td>\n",
       "      <td>False</td>\n",
       "      <td>False</td>\n",
       "      <td>False</td>\n",
       "      <td>False</td>\n",
       "      <td>False</td>\n",
       "      <td>False</td>\n",
       "      <td>False</td>\n",
       "      <td>False</td>\n",
       "      <td>False</td>\n",
       "      <td>False</td>\n",
       "      <td>False</td>\n",
       "      <td>False</td>\n",
       "      <td>False</td>\n",
       "      <td>False</td>\n",
       "      <td>False</td>\n",
       "      <td>False</td>\n",
       "      <td>False</td>\n",
       "      <td>False</td>\n",
       "      <td>False</td>\n",
       "      <td>False</td>\n",
       "      <td>False</td>\n",
       "      <td>False</td>\n",
       "      <td>False</td>\n",
       "      <td>False</td>\n",
       "      <td>False</td>\n",
       "      <td>False</td>\n",
       "      <td>False</td>\n",
       "      <td>False</td>\n",
       "      <td>False</td>\n",
       "      <td>False</td>\n",
       "      <td>False</td>\n",
       "      <td>False</td>\n",
       "      <td>False</td>\n",
       "      <td>False</td>\n",
       "      <td>False</td>\n",
       "      <td>False</td>\n",
       "      <td>False</td>\n",
       "      <td>False</td>\n",
       "      <td>False</td>\n",
       "      <td>False</td>\n",
       "      <td>False</td>\n",
       "      <td>False</td>\n",
       "      <td>False</td>\n",
       "      <td>False</td>\n",
       "      <td>False</td>\n",
       "      <td>False</td>\n",
       "      <td>False</td>\n",
       "      <td>False</td>\n",
       "      <td>False</td>\n",
       "      <td>False</td>\n",
       "      <td>False</td>\n",
       "      <td>False</td>\n",
       "      <td>False</td>\n",
       "      <td>False</td>\n",
       "      <td>False</td>\n",
       "      <td>False</td>\n",
       "      <td>False</td>\n",
       "      <td>False</td>\n",
       "      <td>False</td>\n",
       "      <td>False</td>\n",
       "      <td>False</td>\n",
       "      <td>False</td>\n",
       "      <td>False</td>\n",
       "      <td>False</td>\n",
       "      <td>False</td>\n",
       "      <td>False</td>\n",
       "      <td>False</td>\n",
       "      <td>False</td>\n",
       "      <td>False</td>\n",
       "      <td>False</td>\n",
       "      <td>False</td>\n",
       "      <td>False</td>\n",
       "      <td>False</td>\n",
       "      <td>False</td>\n",
       "      <td>False</td>\n",
       "      <td>False</td>\n",
       "      <td>False</td>\n",
       "      <td>False</td>\n",
       "      <td>False</td>\n",
       "      <td>False</td>\n",
       "      <td>False</td>\n",
       "      <td>False</td>\n",
       "      <td>False</td>\n",
       "      <td>False</td>\n",
       "      <td>False</td>\n",
       "      <td>False</td>\n",
       "      <td>False</td>\n",
       "      <td>False</td>\n",
       "      <td>False</td>\n",
       "      <td>False</td>\n",
       "      <td>False</td>\n",
       "      <td>False</td>\n",
       "      <td>False</td>\n",
       "      <td>False</td>\n",
       "      <td>False</td>\n",
       "      <td>False</td>\n",
       "      <td>False</td>\n",
       "      <td>False</td>\n",
       "      <td>False</td>\n",
       "      <td>False</td>\n",
       "      <td>False</td>\n",
       "      <td>False</td>\n",
       "      <td>False</td>\n",
       "      <td>False</td>\n",
       "      <td>False</td>\n",
       "      <td>False</td>\n",
       "      <td>False</td>\n",
       "      <td>False</td>\n",
       "      <td>False</td>\n",
       "      <td>False</td>\n",
       "      <td>False</td>\n",
       "      <td>False</td>\n",
       "      <td>False</td>\n",
       "      <td>False</td>\n",
       "      <td>False</td>\n",
       "      <td>False</td>\n",
       "      <td>False</td>\n",
       "      <td>False</td>\n",
       "      <td>False</td>\n",
       "      <td>False</td>\n",
       "      <td>False</td>\n",
       "      <td>False</td>\n",
       "      <td>False</td>\n",
       "      <td>False</td>\n",
       "      <td>False</td>\n",
       "      <td>False</td>\n",
       "      <td>False</td>\n",
       "      <td>False</td>\n",
       "      <td>False</td>\n",
       "      <td>False</td>\n",
       "      <td>False</td>\n",
       "      <td>False</td>\n",
       "      <td>False</td>\n",
       "      <td>False</td>\n",
       "      <td>False</td>\n",
       "    </tr>\n",
       "  </tbody>\n",
       "</table>\n",
       "</div>"
      ],
      "text/plain": [
       "   year  renewables_electricity  cluster  country_Albania  country_Algeria  country_American Samoa  country_Angola  country_Antigua and Barbuda  \\\n",
       "0  2011                   0.595      4.0            False            False                   False           False                        False   \n",
       "1  2012                   0.738      4.0            False            False                   False           False                        False   \n",
       "2  2013                   0.885      4.0            False            False                   False           False                        False   \n",
       "3  2014                   1.000      4.0            False            False                   False           False                        False   \n",
       "\n",
       "   country_Argentina  country_Armenia  country_Aruba  country_Australia  country_Austria  country_Azerbaijan  country_Bahamas  country_Bahrain  \\\n",
       "0              False            False          False              False            False               False            False            False   \n",
       "1              False            False          False              False            False               False            False            False   \n",
       "2              False            False          False              False            False               False            False            False   \n",
       "3              False            False          False              False            False               False            False            False   \n",
       "\n",
       "   country_Bangladesh  country_Barbados  country_Belarus  country_Belgium  country_Belize  country_Benin  country_Bermuda  country_Bhutan  \\\n",
       "0               False             False            False            False           False          False            False           False   \n",
       "1               False             False            False            False           False          False            False           False   \n",
       "2               False             False            False            False           False          False            False           False   \n",
       "3               False             False            False            False           False          False            False           False   \n",
       "\n",
       "   country_Bolivia  country_Bosnia and Herzegovina  country_Botswana  country_Brazil  country_British Virgin Islands  country_Brunei  \\\n",
       "0            False                           False             False           False                           False           False   \n",
       "1            False                           False             False           False                           False           False   \n",
       "2            False                           False             False           False                           False           False   \n",
       "3            False                           False             False           False                           False           False   \n",
       "\n",
       "   country_Bulgaria  country_Burkina Faso  country_Burundi  country_Cambodia  country_Cameroon  country_Canada  country_Cayman Islands  \\\n",
       "0             False                 False            False             False             False           False                   False   \n",
       "1             False                 False            False             False             False           False                   False   \n",
       "2             False                 False            False             False             False           False                   False   \n",
       "3             False                 False            False             False             False           False                   False   \n",
       "\n",
       "   country_Central African Republic  country_Chad  country_Chile  country_China  country_Colombia  country_Comoros  country_Congo  \\\n",
       "0                             False         False          False          False             False            False          False   \n",
       "1                             False         False          False          False             False            False          False   \n",
       "2                             False         False          False          False             False            False          False   \n",
       "3                             False         False          False          False             False            False          False   \n",
       "\n",
       "   country_Cook Islands  country_Costa Rica  country_Croatia  country_Cuba  country_Cyprus  country_Czechia  country_Democratic Republic of Congo  \\\n",
       "0                 False               False            False         False           False            False                                 False   \n",
       "1                 False               False            False         False           False            False                                 False   \n",
       "2                 False               False            False         False           False            False                                 False   \n",
       "3                 False               False            False         False           False            False                                 False   \n",
       "\n",
       "   country_Denmark  country_Djibouti  country_Dominica  country_Dominican Republic  country_Ecuador  country_Egypt  country_El Salvador  \\\n",
       "0            False             False             False                       False            False          False                False   \n",
       "1            False             False             False                       False            False          False                False   \n",
       "2            False             False             False                       False            False          False                False   \n",
       "3            False             False             False                       False            False          False                False   \n",
       "\n",
       "   country_Equatorial Guinea  country_Eritrea  country_Estonia  country_Ethiopia  country_Fiji  country_Finland  country_France  \\\n",
       "0                      False            False            False             False         False            False           False   \n",
       "1                      False            False            False             False         False            False           False   \n",
       "2                      False            False            False             False         False            False           False   \n",
       "3                      False            False            False             False         False            False           False   \n",
       "\n",
       "   country_French Guiana  country_French Polynesia  country_Gabon  country_Gambia  country_Georgia  country_Germany  country_Ghana  \\\n",
       "0                  False                     False          False           False            False            False          False   \n",
       "1                  False                     False          False           False            False            False          False   \n",
       "2                  False                     False          False           False            False            False          False   \n",
       "3                  False                     False          False           False            False            False          False   \n",
       "\n",
       "   country_Gibraltar  country_Greece  country_Greenland  country_Grenada  country_Guadeloupe  country_Guam  country_Guatemala  country_Guinea  \\\n",
       "0              False           False              False            False               False         False              False           False   \n",
       "1              False           False              False            False               False         False              False           False   \n",
       "2              False           False              False            False               False         False              False           False   \n",
       "3              False           False              False            False               False         False              False           False   \n",
       "\n",
       "   country_Guinea-Bissau  country_Guyana  country_Haiti  country_Honduras  country_Hong Kong  country_Hungary  country_Iceland  country_India  \\\n",
       "0                  False           False          False             False              False            False            False          False   \n",
       "1                  False           False          False             False              False            False            False          False   \n",
       "2                  False           False          False             False              False            False            False          False   \n",
       "3                  False           False          False             False              False            False            False          False   \n",
       "\n",
       "   country_Indonesia  country_Iran  country_Iraq  country_Ireland  country_Israel  country_Italy  country_Jamaica  country_Japan  country_Jordan  \\\n",
       "0              False         False         False            False           False          False            False          False           False   \n",
       "1              False         False         False            False           False          False            False          False           False   \n",
       "2              False         False         False            False           False          False            False          False           False   \n",
       "3              False         False         False            False           False          False            False          False           False   \n",
       "\n",
       "   country_Kazakhstan  country_Kenya  country_Kiribati  country_Kuwait  country_Kyrgyzstan  country_Laos  country_Latvia  country_Lebanon  \\\n",
       "0               False          False             False           False               False         False           False            False   \n",
       "1               False          False             False           False               False         False           False            False   \n",
       "2               False          False             False           False               False         False           False            False   \n",
       "3               False          False             False           False               False         False           False            False   \n",
       "\n",
       "   country_Lesotho  country_Liberia  country_Libya  country_Lithuania  country_Luxembourg  country_Madagascar  country_Malawi  country_Malaysia  \\\n",
       "0            False            False          False              False               False               False           False             False   \n",
       "1            False            False          False              False               False               False           False             False   \n",
       "2            False            False          False              False               False               False           False             False   \n",
       "3            False            False          False              False               False               False           False             False   \n",
       "\n",
       "   country_Maldives  country_Mali  country_Malta  country_Martinique  country_Mauritania  country_Mauritius  country_Mexico  country_Moldova  \\\n",
       "0             False         False          False               False               False              False           False            False   \n",
       "1             False         False          False               False               False              False           False            False   \n",
       "2             False         False          False               False               False              False           False            False   \n",
       "3             False         False          False               False               False              False           False            False   \n",
       "\n",
       "   country_Mongolia  country_Montenegro  country_Montserrat  country_Morocco  country_Mozambique  country_Namibia  country_Nauru  country_Nepal  \\\n",
       "0             False               False               False            False               False            False          False          False   \n",
       "1             False               False               False            False               False            False          False          False   \n",
       "2             False               False               False            False               False            False          False          False   \n",
       "3             False               False               False            False               False            False          False          False   \n",
       "\n",
       "   country_Netherlands  country_New Caledonia  country_New Zealand  country_Nicaragua  country_Niger  country_Nigeria  country_Niue  \\\n",
       "0                False                  False                False              False          False            False         False   \n",
       "1                False                  False                False              False          False            False         False   \n",
       "2                False                  False                False              False          False            False         False   \n",
       "3                False                  False                False              False          False            False         False   \n",
       "\n",
       "   country_North Korea  country_Norway  country_Oman  country_Pakistan  country_Palestine  country_Panama  country_Papua New Guinea  \\\n",
       "0                False           False         False             False              False           False                     False   \n",
       "1                False           False         False             False              False           False                     False   \n",
       "2                False           False         False             False              False           False                     False   \n",
       "3                False           False         False             False              False           False                     False   \n",
       "\n",
       "   country_Paraguay  country_Peru  country_Philippines  country_Poland  country_Portugal  country_Puerto Rico  country_Qatar  country_Romania  \\\n",
       "0             False         False                False           False             False                False          False            False   \n",
       "1             False         False                False           False             False                False          False            False   \n",
       "2             False         False                False           False             False                False          False            False   \n",
       "3             False         False                False           False             False                False          False            False   \n",
       "\n",
       "   country_Russia  country_Rwanda  country_Saint Helena  country_Saint Kitts and Nevis  country_Saint Lucia  country_Saint Pierre and Miquelon  \\\n",
       "0           False           False                 False                          False                False                              False   \n",
       "1           False           False                 False                          False                False                              False   \n",
       "2           False           False                 False                          False                False                              False   \n",
       "3           False           False                 False                          False                False                              False   \n",
       "\n",
       "   country_Saint Vincent and the Grenadines  country_Samoa  country_Sao Tome and Principe  country_Saudi Arabia  country_Senegal  country_Serbia  \\\n",
       "0                                     False          False                          False                 False            False           False   \n",
       "1                                     False          False                          False                 False            False           False   \n",
       "2                                     False          False                          False                 False            False           False   \n",
       "3                                     False          False                          False                 False            False           False   \n",
       "\n",
       "   country_Seychelles  country_Sierra Leone  country_Singapore  country_Slovakia  country_Slovenia  country_Solomon Islands  country_Somalia  \\\n",
       "0               False                 False              False             False             False                    False            False   \n",
       "1               False                 False              False             False             False                    False            False   \n",
       "2               False                 False              False             False             False                    False            False   \n",
       "3               False                 False              False             False             False                    False            False   \n",
       "\n",
       "   country_South Africa  country_South Korea  country_South Sudan  country_Spain  country_Sri Lanka  country_Sudan  country_Suriname  \\\n",
       "0                 False                False                False          False              False          False             False   \n",
       "1                 False                False                False          False              False          False             False   \n",
       "2                 False                False                False          False              False          False             False   \n",
       "3                 False                False                False          False              False          False             False   \n",
       "\n",
       "   country_Sweden  country_Switzerland  country_Syria  country_Taiwan  country_Tajikistan  country_Tanzania  country_Thailand  country_Togo  \\\n",
       "0           False                False          False           False               False             False             False         False   \n",
       "1           False                False          False           False               False             False             False         False   \n",
       "2           False                False          False           False               False             False             False         False   \n",
       "3           False                False          False           False               False             False             False         False   \n",
       "\n",
       "   country_Tonga  country_Trinidad and Tobago  country_Tunisia  country_Turkey  country_Turkmenistan  country_Turks and Caicos Islands  \\\n",
       "0          False                        False            False           False                 False                             False   \n",
       "1          False                        False            False           False                 False                             False   \n",
       "2          False                        False            False           False                 False                             False   \n",
       "3          False                        False            False           False                 False                             False   \n",
       "\n",
       "   country_Uganda  country_Ukraine  country_United Arab Emirates  country_United Kingdom  country_United States  \\\n",
       "0           False            False                         False                   False                  False   \n",
       "1           False            False                         False                   False                  False   \n",
       "2           False            False                         False                   False                  False   \n",
       "3           False            False                         False                   False                  False   \n",
       "\n",
       "   country_United States Virgin Islands  country_Uruguay  country_Uzbekistan  country_Vanuatu  country_Venezuela  country_Vietnam  country_Yemen  \\\n",
       "0                                 False            False               False            False              False            False          False   \n",
       "1                                 False            False               False            False              False            False          False   \n",
       "2                                 False            False               False            False              False            False          False   \n",
       "3                                 False            False               False            False              False            False          False   \n",
       "\n",
       "   country_Zambia  country_Zimbabwe  \n",
       "0           False             False  \n",
       "1           False             False  \n",
       "2           False             False  \n",
       "3           False             False  "
      ]
     },
     "execution_count": 10,
     "metadata": {},
     "output_type": "execute_result"
    }
   ],
   "source": [
    "wec.head(4)"
   ]
  },
  {
   "cell_type": "markdown",
   "id": "cceb6da9",
   "metadata": {},
   "source": [
    "Seleccionamos nuestras variables predictoras o explicativas (var_predict) y nuestra variable respuesta que queremos proyectar (var_respuesta)."
   ]
  },
  {
   "cell_type": "code",
   "execution_count": 42,
   "id": "ba23f590",
   "metadata": {},
   "outputs": [],
   "source": [
    "X = wec.drop([\"renewables_electricity\"],\n",
    "                  axis=1)\n",
    "var_respuesta = [\"renewables_electricity\"]\n",
    "y = wec[var_respuesta]"
   ]
  },
  {
   "cell_type": "code",
   "execution_count": 12,
   "id": "5a80e802",
   "metadata": {},
   "outputs": [],
   "source": [
    "x, y = np.array(x), np.array(y)"
   ]
  },
  {
   "cell_type": "markdown",
   "id": "5943d51d",
   "metadata": {},
   "source": [
    "Separamos dataset en datos de training y de testing. <br>\n",
    "Se entrenará con 80% de los datos y se testeará con el 20% de los datos."
   ]
  },
  {
   "cell_type": "code",
   "execution_count": 13,
   "id": "0a0c7976",
   "metadata": {},
   "outputs": [],
   "source": [
    "# Importamos la librearia para separar el dataset.\n",
    "from sklearn.model_selection import train_test_split"
   ]
  },
  {
   "cell_type": "code",
   "execution_count": 14,
   "id": "7889e5a0",
   "metadata": {},
   "outputs": [],
   "source": [
    "X_train, X_test, y_train, y_test = train_test_split(x, y, test_size=0.2,\n",
    "                                                    random_state=42)"
   ]
  },
  {
   "cell_type": "code",
   "execution_count": 15,
   "id": "ec0d6913",
   "metadata": {},
   "outputs": [
    {
     "data": {
      "text/plain": [
       "(1516, 204)"
      ]
     },
     "execution_count": 15,
     "metadata": {},
     "output_type": "execute_result"
    }
   ],
   "source": [
    "X_train.shape"
   ]
  },
  {
   "cell_type": "code",
   "execution_count": 16,
   "id": "845bfe33",
   "metadata": {},
   "outputs": [
    {
     "data": {
      "text/plain": [
       "(379, 204)"
      ]
     },
     "execution_count": 16,
     "metadata": {},
     "output_type": "execute_result"
    }
   ],
   "source": [
    "X_test.shape"
   ]
  },
  {
   "cell_type": "markdown",
   "id": "b0d2109f",
   "metadata": {},
   "source": [
    "## Modelos"
   ]
  },
  {
   "cell_type": "markdown",
   "id": "95d36a6b",
   "metadata": {},
   "source": [
    "### Modelo 1"
   ]
  },
  {
   "cell_type": "code",
   "execution_count": 18,
   "id": "9735494f",
   "metadata": {},
   "outputs": [
    {
     "data": {
      "text/html": [
       "<style>#sk-container-id-2 {color: black;background-color: white;}#sk-container-id-2 pre{padding: 0;}#sk-container-id-2 div.sk-toggleable {background-color: white;}#sk-container-id-2 label.sk-toggleable__label {cursor: pointer;display: block;width: 100%;margin-bottom: 0;padding: 0.3em;box-sizing: border-box;text-align: center;}#sk-container-id-2 label.sk-toggleable__label-arrow:before {content: \"▸\";float: left;margin-right: 0.25em;color: #696969;}#sk-container-id-2 label.sk-toggleable__label-arrow:hover:before {color: black;}#sk-container-id-2 div.sk-estimator:hover label.sk-toggleable__label-arrow:before {color: black;}#sk-container-id-2 div.sk-toggleable__content {max-height: 0;max-width: 0;overflow: hidden;text-align: left;background-color: #f0f8ff;}#sk-container-id-2 div.sk-toggleable__content pre {margin: 0.2em;color: black;border-radius: 0.25em;background-color: #f0f8ff;}#sk-container-id-2 input.sk-toggleable__control:checked~div.sk-toggleable__content {max-height: 200px;max-width: 100%;overflow: auto;}#sk-container-id-2 input.sk-toggleable__control:checked~label.sk-toggleable__label-arrow:before {content: \"▾\";}#sk-container-id-2 div.sk-estimator input.sk-toggleable__control:checked~label.sk-toggleable__label {background-color: #d4ebff;}#sk-container-id-2 div.sk-label input.sk-toggleable__control:checked~label.sk-toggleable__label {background-color: #d4ebff;}#sk-container-id-2 input.sk-hidden--visually {border: 0;clip: rect(1px 1px 1px 1px);clip: rect(1px, 1px, 1px, 1px);height: 1px;margin: -1px;overflow: hidden;padding: 0;position: absolute;width: 1px;}#sk-container-id-2 div.sk-estimator {font-family: monospace;background-color: #f0f8ff;border: 1px dotted black;border-radius: 0.25em;box-sizing: border-box;margin-bottom: 0.5em;}#sk-container-id-2 div.sk-estimator:hover {background-color: #d4ebff;}#sk-container-id-2 div.sk-parallel-item::after {content: \"\";width: 100%;border-bottom: 1px solid gray;flex-grow: 1;}#sk-container-id-2 div.sk-label:hover label.sk-toggleable__label {background-color: #d4ebff;}#sk-container-id-2 div.sk-serial::before {content: \"\";position: absolute;border-left: 1px solid gray;box-sizing: border-box;top: 0;bottom: 0;left: 50%;z-index: 0;}#sk-container-id-2 div.sk-serial {display: flex;flex-direction: column;align-items: center;background-color: white;padding-right: 0.2em;padding-left: 0.2em;position: relative;}#sk-container-id-2 div.sk-item {position: relative;z-index: 1;}#sk-container-id-2 div.sk-parallel {display: flex;align-items: stretch;justify-content: center;background-color: white;position: relative;}#sk-container-id-2 div.sk-item::before, #sk-container-id-2 div.sk-parallel-item::before {content: \"\";position: absolute;border-left: 1px solid gray;box-sizing: border-box;top: 0;bottom: 0;left: 50%;z-index: -1;}#sk-container-id-2 div.sk-parallel-item {display: flex;flex-direction: column;z-index: 1;position: relative;background-color: white;}#sk-container-id-2 div.sk-parallel-item:first-child::after {align-self: flex-end;width: 50%;}#sk-container-id-2 div.sk-parallel-item:last-child::after {align-self: flex-start;width: 50%;}#sk-container-id-2 div.sk-parallel-item:only-child::after {width: 0;}#sk-container-id-2 div.sk-dashed-wrapped {border: 1px dashed gray;margin: 0 0.4em 0.5em 0.4em;box-sizing: border-box;padding-bottom: 0.4em;background-color: white;}#sk-container-id-2 div.sk-label label {font-family: monospace;font-weight: bold;display: inline-block;line-height: 1.2em;}#sk-container-id-2 div.sk-label-container {text-align: center;}#sk-container-id-2 div.sk-container {/* jupyter's `normalize.less` sets `[hidden] { display: none; }` but bootstrap.min.css set `[hidden] { display: none !important; }` so we also need the `!important` here to be able to override the default hidden behavior on the sphinx rendered scikit-learn.org. See: https://github.com/scikit-learn/scikit-learn/issues/21755 */display: inline-block !important;position: relative;}#sk-container-id-2 div.sk-text-repr-fallback {display: none;}</style><div id=\"sk-container-id-2\" class=\"sk-top-container\"><div class=\"sk-text-repr-fallback\"><pre>LinearRegression()</pre><b>In a Jupyter environment, please rerun this cell to show the HTML representation or trust the notebook. <br />On GitHub, the HTML representation is unable to render, please try loading this page with nbviewer.org.</b></div><div class=\"sk-container\" hidden><div class=\"sk-item\"><div class=\"sk-estimator sk-toggleable\"><input class=\"sk-toggleable__control sk-hidden--visually\" id=\"sk-estimator-id-2\" type=\"checkbox\" checked><label for=\"sk-estimator-id-2\" class=\"sk-toggleable__label sk-toggleable__label-arrow\">LinearRegression</label><div class=\"sk-toggleable__content\"><pre>LinearRegression()</pre></div></div></div></div></div>"
      ],
      "text/plain": [
       "LinearRegression()"
      ]
     },
     "execution_count": 18,
     "metadata": {},
     "output_type": "execute_result"
    }
   ],
   "source": [
    "from sklearn.linear_model import LinearRegression\n",
    "regressor1 = LinearRegression()\n",
    "regressor1.fit(X_train, y_train)"
   ]
  },
  {
   "cell_type": "code",
   "execution_count": 19,
   "id": "9666285b",
   "metadata": {},
   "outputs": [
    {
     "name": "stdout",
     "output_type": "stream",
     "text": [
      "[[ 6.98614905e+01]\n",
      " [-2.19632237e+00]\n",
      " [ 4.00292516e+00]\n",
      " [ 6.28711401e+01]\n",
      " [ 9.70364467e+01]\n",
      " [ 3.60842516e+00]\n",
      " [ 2.43935766e+01]\n",
      " [-7.86684374e+00]\n",
      " [ 4.79402796e+00]\n",
      " [-1.52049342e+00]\n",
      " [ 1.06974234e+02]\n",
      " [ 3.07463394e+01]\n",
      " [ 9.78339411e+00]\n",
      " [ 6.70890507e-01]\n",
      " [ 1.78918773e+01]\n",
      " [ 1.23912319e+01]\n",
      " [ 6.15279193e-01]\n",
      " [ 8.66315871e+00]\n",
      " [ 8.11854193e+00]\n",
      " [ 5.24476274e+00]\n",
      " [-4.08561019e+00]\n",
      " [ 1.07940673e+00]\n",
      " [ 3.40032335e+01]\n",
      " [ 1.12697311e+01]\n",
      " [ 1.04644117e+02]\n",
      " [ 1.24525778e+01]\n",
      " [-9.11803852e+00]\n",
      " [-5.79012527e+00]\n",
      " [ 1.13202815e+01]\n",
      " [-3.05901911e+00]\n",
      " [ 5.76237226e+00]\n",
      " [ 3.80512481e+01]\n",
      " [ 2.60916505e+01]\n",
      " [-6.65747650e-01]\n",
      " [ 2.08747564e+01]\n",
      " [ 2.87049398e+00]\n",
      " [ 8.33189605e+01]\n",
      " [ 2.06438061e+01]\n",
      " [ 1.46984553e+03]\n",
      " [ 1.39867622e+01]\n",
      " [ 9.99464332e+00]\n",
      " [ 2.46155265e+01]\n",
      " [-9.64548378e+00]\n",
      " [ 8.44397368e+00]\n",
      " [ 3.37920980e+01]\n",
      " [ 1.09344781e+01]\n",
      " [ 4.85823616e+01]\n",
      " [ 1.16528696e+01]\n",
      " [-2.32405521e+00]\n",
      " [-3.38192516e+00]\n",
      " [-4.89319078e+00]\n",
      " [ 1.61893941e+01]\n",
      " [-6.37507113e+00]\n",
      " [-1.06147006e+00]\n",
      " [ 9.07152258e-01]\n",
      " [ 1.36520948e+01]\n",
      " [ 4.16990244e+01]\n",
      " [ 8.01651699e+00]\n",
      " [ 9.34132424e+00]\n",
      " [ 2.32733616e+01]\n",
      " [ 1.57050775e+01]\n",
      " [-9.47819427e+00]\n",
      " [ 6.33304193e+00]\n",
      " [ 3.17462500e+00]\n",
      " [ 4.55686129e-01]\n",
      " [ 5.33112405e+00]\n",
      " [ 2.04562253e+01]\n",
      " [ 7.60562952e+00]\n",
      " [ 2.20634598e+01]\n",
      " [-9.30996710e+00]\n",
      " [-1.71433758e+00]\n",
      " [-3.53204193e+00]\n",
      " [-8.02131335e-01]\n",
      " [-9.35104495e+00]\n",
      " [ 1.44436277e+01]\n",
      " [-5.43693914e+00]\n",
      " [ 7.05490507e+00]\n",
      " [ 7.65766940e+00]\n",
      " [ 2.05441557e+01]\n",
      " [-9.98621475e+00]\n",
      " [ 1.22131095e+01]\n",
      " [-2.94392516e+00]\n",
      " [ 6.15779193e-01]\n",
      " [ 4.33237006e+01]\n",
      " [-1.04225255e+01]\n",
      " [ 3.22630216e-01]\n",
      " [-5.32598120e+00]\n",
      " [ 6.11385690e+00]\n",
      " [ 2.44716309e+01]\n",
      " [ 1.23733877e+01]\n",
      " [-4.98883935e+00]\n",
      " [-8.70468790e+00]\n",
      " [-8.65157659e+00]\n",
      " [ 6.66004793e+00]\n",
      " [ 1.96061595e+01]\n",
      " [ 7.86676911e+00]\n",
      " [ 5.46222753e+00]\n",
      " [ 5.26401274e+00]\n",
      " [ 3.15625000e-01]\n",
      " [-5.23338774e+00]\n",
      " [ 1.06412755e+01]\n",
      " [ 9.55725637e+00]\n",
      " [ 1.43844291e+02]\n",
      " [ 4.90634183e+00]\n",
      " [-5.82379193e+00]\n",
      " [ 1.46844890e+01]\n",
      " [ 3.81046194e+00]\n",
      " [ 4.62965570e+00]\n",
      " [ 6.60949753e+00]\n",
      " [ 4.04642516e+00]\n",
      " [ 8.00064411e+00]\n",
      " [ 2.22626398e+00]\n",
      " [ 8.04636129e+00]\n",
      " [ 1.33680644e+01]\n",
      " [ 2.66456203e+00]\n",
      " [ 1.13204243e+01]\n",
      " [-2.05345011e+00]\n",
      " [-6.60199753e+00]\n",
      " [-7.86301911e+00]\n",
      " [ 5.24276274e+00]\n",
      " [-1.03852796e-01]\n",
      " [ 2.25848152e+02]\n",
      " [ 2.35473154e+00]\n",
      " [ 1.03208029e+01]\n",
      " [ 1.17889521e+01]\n",
      " [ 1.08781814e+01]\n",
      " [ 8.57141019e+00]\n",
      " [ 1.16714410e+01]\n",
      " [ 6.66019078e+00]\n",
      " [ 5.27601274e+00]\n",
      " [ 1.41514174e+02]\n",
      " [ 1.33233923e+01]\n",
      " [ 2.25595996e+01]\n",
      " [ 1.55617605e+01]\n",
      " [ 2.38381219e+01]\n",
      " [ 2.17856950e+01]\n",
      " [ 3.86634671e+01]\n",
      " [ 1.05601097e+00]\n",
      " [ 3.27966083e+01]\n",
      " [ 6.93382599e+01]\n",
      " [-6.65733364e+00]\n",
      " [ 9.05870276e+00]\n",
      " [ 4.50250637e+00]\n",
      " [ 9.23762132e+01]\n",
      " [ 1.48504524e+02]\n",
      " [ 1.76107311e+01]\n",
      " [ 4.65954690e+02]\n",
      " [-6.97985032e+00]\n",
      " [ 7.53072753e+00]\n",
      " [ 5.73964028e+00]\n",
      " [ 1.06203808e+01]\n",
      " [ 9.45996073e+00]\n",
      " [ 3.12263137e+00]\n",
      " [-9.55342433e+00]\n",
      " [ 4.55532235e+01]\n",
      " [-6.53466419e+00]\n",
      " [ 1.32082982e+01]\n",
      " [ 9.98621475e-01]\n",
      " [-3.80852796e-01]\n",
      " [ 9.53236497e+01]\n",
      " [ 3.10698903e+00]\n",
      " [ 1.94476398e+00]\n",
      " [ 7.23413774e+00]\n",
      " [-4.76408634e+00]\n",
      " [ 4.82873825e-01]\n",
      " [ 8.29026398e+00]\n",
      " [ 2.34761412e+01]\n",
      " [ 3.34445253e-01]\n",
      " [ 9.00460964e+01]\n",
      " [ 5.50641685e+00]\n",
      " [-7.16105806e-01]\n",
      " [ 1.81261085e+01]\n",
      " [-4.38356688e+00]\n",
      " [ 1.52950594e+01]\n",
      " [-1.32978101e+00]\n",
      " [ 8.92408351e+00]\n",
      " [ 1.10213871e+00]\n",
      " [ 3.74568418e+01]\n",
      " [ 2.11867452e+02]\n",
      " [ 2.65274699e+00]\n",
      " [-1.66279770e+00]\n",
      " [ 1.71748054e+00]\n",
      " [ 6.20345860e+00]\n",
      " [-2.00748656e+00]\n",
      " [ 1.57468524e+00]\n",
      " [ 3.65125000e-01]\n",
      " [ 9.56646710e+00]\n",
      " [ 7.55287595e+00]\n",
      " [-5.88821161e+00]\n",
      " [ 6.34564402e+02]\n",
      " [-3.60422258e+00]\n",
      " [-9.98621475e+00]\n",
      " [ 1.04855255e+01]\n",
      " [ 1.55341118e+00]\n",
      " [-7.77070276e+00]\n",
      " [ 1.84916787e+02]\n",
      " [-3.39158684e+00]\n",
      " [-3.32173825e+00]\n",
      " [ 7.37268366e+00]\n",
      " [ 1.34596976e+01]\n",
      " [ 1.12236886e+01]\n",
      " [ 1.93139343e+02]\n",
      " [ 1.68477716e+01]\n",
      " [ 1.06636184e+00]\n",
      " [-7.70705591e-01]\n",
      " [ 1.93447226e+01]\n",
      " [ 3.14974348e+01]\n",
      " [ 1.18965839e+01]\n",
      " [-4.99067880e+00]\n",
      " [ 2.66488137e+00]\n",
      " [-3.85352796e-01]\n",
      " [-9.32018138e+00]\n",
      " [ 4.23333828e+00]\n",
      " [ 4.70614924e+02]\n",
      " [ 9.06634161e+01]\n",
      " [-1.16502982e+01]\n",
      " [ 1.04026797e+02]\n",
      " [ 1.78047089e+01]\n",
      " [ 9.77615322e+00]\n",
      " [ 6.06436756e+01]\n",
      " [-4.13310737e+00]\n",
      " [ 9.27372258e-01]\n",
      " [ 3.62327564e+01]\n",
      " [ 7.79997368e+00]\n",
      " [ 3.85810221e+00]\n",
      " [-2.61463137e+00]\n",
      " [-1.07232116e+01]\n",
      " [ 3.63333503e+01]\n",
      " [ 3.30764561e+01]\n",
      " [ 4.79972718e+00]\n",
      " [ 5.78842516e+00]\n",
      " [ 1.11295808e+01]\n",
      " [-6.60801699e+00]\n",
      " [ 4.21170754e+01]\n",
      " [ 6.66533364e+00]\n",
      " [ 6.05410234e+01]\n",
      " [ 6.15412500e+00]\n",
      " [ 7.69413871e+00]\n",
      " [ 1.83336943e+01]\n",
      " [-1.71483758e+00]\n",
      " [ 1.67280839e+00]\n",
      " [ 1.05891138e+01]\n",
      " [ 1.26158092e+01]\n",
      " [-1.00911727e+01]\n",
      " [-6.18072697e+00]\n",
      " [-8.25410525e+00]\n",
      " [ 6.20999788e+00]\n",
      " [ 9.73201911e+00]\n",
      " [ 2.03154588e+00]\n",
      " [ 6.23491879e+00]\n",
      " [-3.73286129e+00]\n",
      " [-7.85714411e+00]\n",
      " [ 8.09888437e+01]\n",
      " [ 5.67887688e+01]\n",
      " [-1.10348047e+01]\n",
      " [ 4.39846922e+00]\n",
      " [ 1.45362335e+00]\n",
      " [ 6.26700754e+01]\n",
      " [ 1.00973394e+01]\n",
      " [ 2.14011377e+01]\n",
      " [-3.10682237e+00]\n",
      " [ 2.80997695e+01]\n",
      " [-7.60415871e+00]\n",
      " [ 6.56345505e+00]\n",
      " [ 5.55837641e+00]\n",
      " [ 5.27551274e+00]\n",
      " [ 1.00213244e+01]\n",
      " [-1.10759605e+01]\n",
      " [ 1.17151386e+01]\n",
      " [ 4.63592580e+01]\n",
      " [ 1.13567315e+01]\n",
      " [ 1.61342755e+01]\n",
      " [ 4.27970232e+02]\n",
      " [ 2.51102815e+01]\n",
      " [-2.48300637e+00]\n",
      " [ 1.02616667e+00]\n",
      " [ 7.03788388e-01]\n",
      " [ 1.41990565e+01]\n",
      " [ 8.70665871e+00]\n",
      " [ 1.13647658e+02]\n",
      " [ 3.54065729e+01]\n",
      " [ 1.78993661e+01]\n",
      " [ 3.99448590e+00]\n",
      " [-7.74705591e-01]\n",
      " [ 2.62588137e+00]\n",
      " [ 7.86889411e+00]\n",
      " [ 2.95499500e+01]\n",
      " [ 1.74807083e+02]\n",
      " [ 9.65348378e+00]\n",
      " [ 5.74623355e-01]\n",
      " [-9.93427548e+00]\n",
      " [-4.78460267e+00]\n",
      " [-3.98605733e+00]\n",
      " [ 3.84523315e+01]\n",
      " [-4.64973355e+00]\n",
      " [ 8.53357538e+00]\n",
      " [ 9.52289567e+00]\n",
      " [ 8.70783086e+00]\n",
      " [-5.65185502e+00]\n",
      " [ 1.32316437e+01]\n",
      " [-4.69081140e+00]\n",
      " [ 1.72760428e+01]\n",
      " [-1.27526423e+01]\n",
      " [ 4.13435459e+01]\n",
      " [-3.28605806e-01]\n",
      " [ 3.57211313e+01]\n",
      " [ 7.37870312e+00]\n",
      " [ 1.15262147e+01]\n",
      " [ 7.26701699e+00]\n",
      " [ 2.85724295e+00]\n",
      " [ 7.98897180e+00]\n",
      " [ 6.38461040e+00]\n",
      " [-7.77724204e+00]\n",
      " [ 1.12819161e+00]\n",
      " [ 2.46108280e-01]\n",
      " [-6.85655591e+00]\n",
      " [ 1.66908341e+00]\n",
      " [-7.65138369e+00]\n",
      " [ 2.60861058e+01]\n",
      " [ 9.32275281e+00]\n",
      " [ 5.46985690e+00]\n",
      " [ 3.63918877e+01]\n",
      " [ 7.79234430e+00]\n",
      " [ 6.60813774e+00]\n",
      " [ 7.16683766e+01]\n",
      " [ 3.33359539e+00]\n",
      " [-1.04503588e+01]\n",
      " [ 6.20583702e+02]\n",
      " [ 9.35921255e+00]\n",
      " [ 3.33910146e+01]\n",
      " [ 1.54976433e+00]\n",
      " [ 1.15467311e+01]\n",
      " [-5.04558634e+00]\n",
      " [-3.93742968e+00]\n",
      " [ 5.86045860e+00]\n",
      " [ 1.04870255e+01]\n",
      " [-5.96418366e+00]\n",
      " [ 4.72945041e+02]\n",
      " [ 5.97459235e+00]\n",
      " [-1.75549342e+00]\n",
      " [ 3.23726903e+00]\n",
      " [-3.04622258e+00]\n",
      " [ 1.94379351e+01]\n",
      " [-8.09240871e+00]\n",
      " [ 3.59876348e+00]\n",
      " [ 9.02144936e+01]\n",
      " [ 3.99448590e+00]\n",
      " [ 1.04486587e+01]\n",
      " [ 9.56657538e+00]\n",
      " [ 5.82679193e+00]\n",
      " [ 3.88952796e+00]\n",
      " [-1.69150637e+00]\n",
      " [ 1.99967152e+00]\n",
      " [ 9.47063299e+01]\n",
      " [ 2.81299060e+00]\n",
      " [-6.21347806e+00]\n",
      " [-7.84664411e+00]\n",
      " [ 4.40291412e+01]\n",
      " [ 1.50601074e+01]\n",
      " [ 1.04195194e+02]\n",
      " [ 5.75264240e+00]\n",
      " [-1.47588111e-01]\n",
      " [ 2.15114282e+01]\n",
      " [-5.44712527e+00]\n",
      " [ 6.21564473e+00]\n",
      " [-7.11471945e+00]\n",
      " [-2.47770488e+00]\n",
      " [-3.76209069e+00]\n",
      " [ 8.54576150e+00]\n",
      " [ 2.71846957e+00]\n",
      " [ 4.87858944e+00]\n",
      " [ 1.43033309e+01]\n",
      " [ 5.66371217e+00]\n",
      " [ 7.21916072e+01]\n",
      " [-6.32145981e+00]\n",
      " [-7.84314411e+00]\n",
      " [-8.55556523e+00]\n",
      " [ 3.82333333e-01]\n",
      " [ 8.47069548e+00]]\n"
     ]
    }
   ],
   "source": [
    "y_pred1 = regressor1.predict(X_test)\n",
    "print(y_pred1)"
   ]
  },
  {
   "cell_type": "code",
   "execution_count": 20,
   "id": "7cd2b3f8",
   "metadata": {},
   "outputs": [
    {
     "name": "stdout",
     "output_type": "stream",
     "text": [
      "[-4646.89024979]\n"
     ]
    }
   ],
   "source": [
    "print(regressor1.intercept_)"
   ]
  },
  {
   "cell_type": "code",
   "execution_count": 21,
   "id": "3a4de7e8",
   "metadata": {},
   "outputs": [
    {
     "name": "stdout",
     "output_type": "stream",
     "text": [
      "[[ 2.33011677e+00 -1.18447346e+01 -4.25167163e+01 -3.56578004e+01\n",
      "  -3.72270206e+01 -1.77917720e+01 -3.72210206e+01 -2.62371447e+01\n",
      "  -5.66814759e+01 -3.78530596e+01  1.73822657e+00  4.88823074e+01\n",
      "  -3.36572712e+01 -3.54499793e+01 -3.74419365e+01 -3.64257003e+01\n",
      "  -3.73031088e+01 -3.70808734e+01 -4.66800867e+01 -4.79299247e+01\n",
      "  -3.55717712e+01 -3.60619622e+01 -4.12986378e+01 -1.02912354e+01\n",
      "  -8.85604374e+00 -3.44503578e+01  4.08145023e+02 -3.57829960e+01\n",
      "  -3.52837567e+01 -5.37551739e+01 -3.66032046e+01  4.04697276e-01\n",
      "  -8.87301469e+00 -1.60341702e+01  3.58509980e+02 -3.57794245e+01\n",
      "  -4.78121759e+01 -3.44505007e+01  1.89122710e+01  1.40504551e+03\n",
      "   5.01033804e+01 -3.41179125e+01 -1.16984013e+01 -3.71113484e+01\n",
      "  -3.81599386e+01 -1.96227166e+01 -3.43819626e+01 -3.72372068e+01\n",
      "  -5.11465621e+01 -3.93002719e+01 -7.32953763e+00 -3.61172984e+01\n",
      "  -1.21455666e+01 -3.38764108e+01 -8.70435817e+00 -1.96791317e+01\n",
      "  -2.13683114e+01 -1.14921990e+01 -3.73066088e+01 -3.56041317e+01\n",
      "  -3.81725886e+01 -2.40434693e+01 -3.29199511e+01  3.45665456e+01\n",
      "  -2.52193888e+01 -1.25584172e+01 -1.26270513e+01 -3.81115413e+01\n",
      "   7.64877778e+00  1.23679092e+02 -1.73784408e+01 -3.64503150e+01\n",
      "   7.05029247e-01 -5.33777778e-01 -3.64469817e+01 -3.62379817e+01\n",
      "  -3.81646526e+01 -1.84173614e+01 -2.38803582e+01 -3.64495373e+01\n",
      "  -3.40993411e+01 -3.54400212e+01 -2.11733249e+01 -3.59946289e+01\n",
      "  -5.70690195e+01 -2.97504101e+01  1.58718018e+02 -4.71866084e+00\n",
      "  -2.13772055e+01 -3.32756900e+01 -5.55213954e+00 -3.64808929e+01\n",
      "   9.38964616e+01 -3.56406917e+01  1.29437236e+02 -3.56060928e+01\n",
      "  -2.83805580e+01  6.63566667e+00 -3.68356678e+01 -3.98824902e+01\n",
      "  -3.61040886e+01  1.58247931e+01 -2.15746063e+01 -3.58464261e+01\n",
      "  -4.42921245e+01 -3.61158698e+01 -3.67753317e+01 -2.47633076e+01\n",
      "  -1.43260607e+01 -1.18627029e+01 -4.55533809e+01 -1.76710126e+01\n",
      "  -3.48949039e+01 -2.26576762e+01 -3.75021234e+01 -3.61155504e+01\n",
      "  -1.24841791e+01 -5.95211177e+01 -1.18058881e+01 -3.61346900e+01\n",
      "  -3.65541678e+01 -2.48385376e+01 -3.54516936e+01 -3.25189838e+01\n",
      "  -3.32376052e+01 -4.57188246e+01 -3.71160627e+01 -4.49089219e+01\n",
      "  -4.48447249e+01 -3.60586484e+01  3.18804972e+01 -2.35392186e+01\n",
      "  -3.87699318e+01 -5.48991427e+01 -3.71160627e+01  1.12969984e+01\n",
      "   8.85588909e+01 -3.67807603e+01 -2.32080065e+01 -3.56734428e+01\n",
      "  -1.80100248e+01 -1.17346791e+01  1.45760904e+01  2.19616725e+00\n",
      "   1.09951433e+01 -1.70123799e+01  4.12520062e+00 -3.58117046e+01\n",
      "  -3.63295373e+01 -3.81495427e+01  1.23987766e+02 -2.20294636e+01\n",
      "  -3.58677858e+01 -3.45010511e+01 -3.73229838e+01 -3.87801461e+01\n",
      "  -3.58465358e+01 -1.38907375e+01 -3.67348296e+01 -3.82058085e+01\n",
      "  -3.40556435e+01 -3.73423099e+00 -3.64459817e+01 -2.44651360e+01\n",
      "  -3.65746842e+01 -5.39856593e+01 -5.58759344e+01 -3.54468364e+01\n",
      "  -3.57761388e+01 -5.47567469e+01 -4.37902215e+01 -3.58657858e+01\n",
      "   3.98440989e+01 -8.42921801e+00 -1.54065366e+01 -1.22337196e+01\n",
      "   3.24048261e+01 -2.16519992e+01 -3.47037595e+01 -4.85170065e+01\n",
      "  -3.47412443e+01 -8.71324844e+00 -1.57865040e+01 -1.26779569e+01\n",
      "  -3.52852567e+01 -3.61545504e+01 -3.72306675e+01  7.12504959e+01\n",
      "  -3.55738962e+01 -3.71160627e+01 -4.44845877e+01 -5.11178881e+01\n",
      "  -3.49966917e+01  1.97039573e+01  5.67434268e+02 -3.73171088e+01\n",
      "  -3.82707942e+01 -2.81600511e+01 -3.70234692e+01  4.93929130e+01\n",
      "   5.25430634e+01 -3.65979031e+01 -3.37773948e+01 -2.06614527e+01]]\n"
     ]
    }
   ],
   "source": [
    "print(regressor1.coef_)"
   ]
  },
  {
   "cell_type": "markdown",
   "id": "74c23117",
   "metadata": {},
   "source": [
    "Evaluamos metricas de evaluacion del modelo"
   ]
  },
  {
   "cell_type": "code",
   "execution_count": 22,
   "id": "7e031117",
   "metadata": {},
   "outputs": [
    {
     "data": {
      "text/plain": [
       "0.9779097675602455"
      ]
     },
     "execution_count": 22,
     "metadata": {},
     "output_type": "execute_result"
    }
   ],
   "source": [
    "from sklearn.metrics import r2_score\n",
    "r2_score(y_test, y_pred1)"
   ]
  },
  {
   "cell_type": "markdown",
   "id": "bc913ab9",
   "metadata": {},
   "source": [
    "### Modelo 2: Random Forest"
   ]
  },
  {
   "cell_type": "code",
   "execution_count": 24,
   "id": "b4d35da1",
   "metadata": {},
   "outputs": [],
   "source": [
    "# Se inicia el modelo\n",
    "regresor_rf2 = RandomForestRegressor(criterion='absolute_error', random_state=42)"
   ]
  },
  {
   "cell_type": "code",
   "execution_count": 26,
   "id": "feca95f2",
   "metadata": {},
   "outputs": [
    {
     "name": "stderr",
     "output_type": "stream",
     "text": [
      "C:\\Users\\Luna\\AppData\\Local\\Temp\\ipykernel_3860\\2473120682.py:2: DataConversionWarning:\n",
      "\n",
      "A column-vector y was passed when a 1d array was expected. Please change the shape of y to (n_samples,), for example using ravel().\n",
      "\n"
     ]
    }
   ],
   "source": [
    "# Se entrena el modelo\n",
    "regresor_rf2.fit(X_train, y_train);"
   ]
  },
  {
   "cell_type": "code",
   "execution_count": 27,
   "id": "d9579458",
   "metadata": {},
   "outputs": [
    {
     "data": {
      "text/plain": [
       "{'bootstrap': True,\n",
       " 'ccp_alpha': 0.0,\n",
       " 'criterion': 'absolute_error',\n",
       " 'max_depth': None,\n",
       " 'max_features': 1.0,\n",
       " 'max_leaf_nodes': None,\n",
       " 'max_samples': None,\n",
       " 'min_impurity_decrease': 0.0,\n",
       " 'min_samples_leaf': 1,\n",
       " 'min_samples_split': 2,\n",
       " 'min_weight_fraction_leaf': 0.0,\n",
       " 'n_estimators': 100,\n",
       " 'n_jobs': None,\n",
       " 'oob_score': False,\n",
       " 'random_state': 42,\n",
       " 'verbose': 0,\n",
       " 'warm_start': False}"
      ]
     },
     "execution_count": 27,
     "metadata": {},
     "output_type": "execute_result"
    }
   ],
   "source": [
    "regresor_rf2.get_params()"
   ]
  },
  {
   "cell_type": "code",
   "execution_count": 28,
   "id": "beaf1041",
   "metadata": {},
   "outputs": [],
   "source": [
    "# Se predicen los valores para el set de testeo\n",
    "y_pred_rf2 = regresor_rf2.predict(X_test)"
   ]
  },
  {
   "cell_type": "code",
   "execution_count": 29,
   "id": "98434f81",
   "metadata": {},
   "outputs": [
    {
     "data": {
      "text/plain": [
       "1.5438673746701774"
      ]
     },
     "execution_count": 29,
     "metadata": {},
     "output_type": "execute_result"
    }
   ],
   "source": [
    "# Se calcula el error medio absoluto\n",
    "mean_absolute_error(y_test, y_pred_rf2)"
   ]
  },
  {
   "cell_type": "markdown",
   "id": "ad6653fb",
   "metadata": {},
   "source": [
    "### Modelo 3: Support Vector Machine"
   ]
  },
  {
   "cell_type": "code",
   "execution_count": 30,
   "id": "cb18b05e",
   "metadata": {},
   "outputs": [],
   "source": [
    "# Se inicia el modelo\n",
    "regresor_svr = SVR(C=1.0, epsilon=0.2)"
   ]
  },
  {
   "cell_type": "code",
   "execution_count": 31,
   "id": "5a5ff44f",
   "metadata": {},
   "outputs": [
    {
     "name": "stderr",
     "output_type": "stream",
     "text": [
      "c:\\Users\\Luna\\anaconda3\\envs\\ds-python\\Lib\\site-packages\\sklearn\\utils\\validation.py:1143: DataConversionWarning:\n",
      "\n",
      "A column-vector y was passed when a 1d array was expected. Please change the shape of y to (n_samples, ), for example using ravel().\n",
      "\n"
     ]
    },
    {
     "data": {
      "text/html": [
       "<style>#sk-container-id-3 {color: black;background-color: white;}#sk-container-id-3 pre{padding: 0;}#sk-container-id-3 div.sk-toggleable {background-color: white;}#sk-container-id-3 label.sk-toggleable__label {cursor: pointer;display: block;width: 100%;margin-bottom: 0;padding: 0.3em;box-sizing: border-box;text-align: center;}#sk-container-id-3 label.sk-toggleable__label-arrow:before {content: \"▸\";float: left;margin-right: 0.25em;color: #696969;}#sk-container-id-3 label.sk-toggleable__label-arrow:hover:before {color: black;}#sk-container-id-3 div.sk-estimator:hover label.sk-toggleable__label-arrow:before {color: black;}#sk-container-id-3 div.sk-toggleable__content {max-height: 0;max-width: 0;overflow: hidden;text-align: left;background-color: #f0f8ff;}#sk-container-id-3 div.sk-toggleable__content pre {margin: 0.2em;color: black;border-radius: 0.25em;background-color: #f0f8ff;}#sk-container-id-3 input.sk-toggleable__control:checked~div.sk-toggleable__content {max-height: 200px;max-width: 100%;overflow: auto;}#sk-container-id-3 input.sk-toggleable__control:checked~label.sk-toggleable__label-arrow:before {content: \"▾\";}#sk-container-id-3 div.sk-estimator input.sk-toggleable__control:checked~label.sk-toggleable__label {background-color: #d4ebff;}#sk-container-id-3 div.sk-label input.sk-toggleable__control:checked~label.sk-toggleable__label {background-color: #d4ebff;}#sk-container-id-3 input.sk-hidden--visually {border: 0;clip: rect(1px 1px 1px 1px);clip: rect(1px, 1px, 1px, 1px);height: 1px;margin: -1px;overflow: hidden;padding: 0;position: absolute;width: 1px;}#sk-container-id-3 div.sk-estimator {font-family: monospace;background-color: #f0f8ff;border: 1px dotted black;border-radius: 0.25em;box-sizing: border-box;margin-bottom: 0.5em;}#sk-container-id-3 div.sk-estimator:hover {background-color: #d4ebff;}#sk-container-id-3 div.sk-parallel-item::after {content: \"\";width: 100%;border-bottom: 1px solid gray;flex-grow: 1;}#sk-container-id-3 div.sk-label:hover label.sk-toggleable__label {background-color: #d4ebff;}#sk-container-id-3 div.sk-serial::before {content: \"\";position: absolute;border-left: 1px solid gray;box-sizing: border-box;top: 0;bottom: 0;left: 50%;z-index: 0;}#sk-container-id-3 div.sk-serial {display: flex;flex-direction: column;align-items: center;background-color: white;padding-right: 0.2em;padding-left: 0.2em;position: relative;}#sk-container-id-3 div.sk-item {position: relative;z-index: 1;}#sk-container-id-3 div.sk-parallel {display: flex;align-items: stretch;justify-content: center;background-color: white;position: relative;}#sk-container-id-3 div.sk-item::before, #sk-container-id-3 div.sk-parallel-item::before {content: \"\";position: absolute;border-left: 1px solid gray;box-sizing: border-box;top: 0;bottom: 0;left: 50%;z-index: -1;}#sk-container-id-3 div.sk-parallel-item {display: flex;flex-direction: column;z-index: 1;position: relative;background-color: white;}#sk-container-id-3 div.sk-parallel-item:first-child::after {align-self: flex-end;width: 50%;}#sk-container-id-3 div.sk-parallel-item:last-child::after {align-self: flex-start;width: 50%;}#sk-container-id-3 div.sk-parallel-item:only-child::after {width: 0;}#sk-container-id-3 div.sk-dashed-wrapped {border: 1px dashed gray;margin: 0 0.4em 0.5em 0.4em;box-sizing: border-box;padding-bottom: 0.4em;background-color: white;}#sk-container-id-3 div.sk-label label {font-family: monospace;font-weight: bold;display: inline-block;line-height: 1.2em;}#sk-container-id-3 div.sk-label-container {text-align: center;}#sk-container-id-3 div.sk-container {/* jupyter's `normalize.less` sets `[hidden] { display: none; }` but bootstrap.min.css set `[hidden] { display: none !important; }` so we also need the `!important` here to be able to override the default hidden behavior on the sphinx rendered scikit-learn.org. See: https://github.com/scikit-learn/scikit-learn/issues/21755 */display: inline-block !important;position: relative;}#sk-container-id-3 div.sk-text-repr-fallback {display: none;}</style><div id=\"sk-container-id-3\" class=\"sk-top-container\"><div class=\"sk-text-repr-fallback\"><pre>SVR(epsilon=0.2)</pre><b>In a Jupyter environment, please rerun this cell to show the HTML representation or trust the notebook. <br />On GitHub, the HTML representation is unable to render, please try loading this page with nbviewer.org.</b></div><div class=\"sk-container\" hidden><div class=\"sk-item\"><div class=\"sk-estimator sk-toggleable\"><input class=\"sk-toggleable__control sk-hidden--visually\" id=\"sk-estimator-id-3\" type=\"checkbox\" checked><label for=\"sk-estimator-id-3\" class=\"sk-toggleable__label sk-toggleable__label-arrow\">SVR</label><div class=\"sk-toggleable__content\"><pre>SVR(epsilon=0.2)</pre></div></div></div></div></div>"
      ],
      "text/plain": [
       "SVR(epsilon=0.2)"
      ]
     },
     "execution_count": 31,
     "metadata": {},
     "output_type": "execute_result"
    }
   ],
   "source": [
    "# Se entrena el modelo\n",
    "regresor_svr.fit(X_train, y_train)"
   ]
  },
  {
   "cell_type": "code",
   "execution_count": 32,
   "id": "8e7b624b",
   "metadata": {},
   "outputs": [
    {
     "data": {
      "text/plain": [
       "{'C': 1.0,\n",
       " 'cache_size': 200,\n",
       " 'coef0': 0.0,\n",
       " 'degree': 3,\n",
       " 'epsilon': 0.2,\n",
       " 'gamma': 'scale',\n",
       " 'kernel': 'rbf',\n",
       " 'max_iter': -1,\n",
       " 'shrinking': True,\n",
       " 'tol': 0.001,\n",
       " 'verbose': False}"
      ]
     },
     "execution_count": 32,
     "metadata": {},
     "output_type": "execute_result"
    }
   ],
   "source": [
    "regresor_svr.get_params()"
   ]
  },
  {
   "cell_type": "code",
   "execution_count": 33,
   "id": "5ae7dbb1",
   "metadata": {},
   "outputs": [],
   "source": [
    "#Se predicen los valores para el set de testeo\n",
    "y_pred_svr = regresor_svr.predict(X_test)"
   ]
  },
  {
   "cell_type": "code",
   "execution_count": 34,
   "id": "7618d189",
   "metadata": {},
   "outputs": [
    {
     "data": {
      "text/plain": [
       "26.235664630941635"
      ]
     },
     "execution_count": 34,
     "metadata": {},
     "output_type": "execute_result"
    }
   ],
   "source": [
    "# Se calcula el error medio absoluto\n",
    "mean_absolute_error(y_test, y_pred_svr)"
   ]
  },
  {
   "cell_type": "markdown",
   "metadata": {},
   "source": [
    "## ANÁLISIS Y EVALUACIÓN DEL MODELO MÁS ACORDE PARA LA REGRESIÓN"
   ]
  },
  {
   "cell_type": "code",
   "execution_count": 35,
   "id": "af82358d",
   "metadata": {},
   "outputs": [],
   "source": [
    "# Se calculan los errores \n",
    "def evaluation(y_test, predictions):\n",
    "    \"\"\"\n",
    "    Funcion que devuelve el error absoluto medio y el error porcentual absoluto medio.\n",
    "\n",
    "    :param y_test: valores reales\n",
    "    :param predictions: valores predichos\n",
    "\n",
    "    :return: Devuelve el error absoluto medio y el error porcentual absoluto medio.\n",
    "    \"\"\"\n",
    "    # Calcula mae\n",
    "    mae = mean_absolute_error(y_test, predictions)\n",
    "    #calculate mape\n",
    "    mape = np.mean((np.abs(y_test - predictions)/y_test)*100)\n",
    "    #print calculated values\n",
    "    print(f\"El error absoluto medio para el modelo es {round(mae, 2)}\")\n",
    "    print(f\"El error porcentual absoluto medio para el modelo es {round(mape, 2)}\")"
   ]
  },
  {
   "cell_type": "code",
   "execution_count": 36,
   "id": "cf43c616",
   "metadata": {},
   "outputs": [],
   "source": [
    "def graph_real_pred(y_test, predictions, color):\n",
    "    \"\"\"\n",
    "    Funcion que grafica los valores reales vs. predichos\n",
    "    :param y_test: valores reales\n",
    "    :param predictions: valores predichos\n",
    "    :param color: color para el plot.\n",
    "\n",
    "    :return: Scatterplot mostrando la relacion entre el valor real y el predicho\n",
    "    \"\"\"\n",
    "    plt.scatter(y_test, predictions, c=color, s=10)\n",
    "    plt.gca().spines['top'].set_visible(False)\n",
    "    plt.gca().spines['bottom'].set_visible(False)\n",
    "    plt.gca().spines['left'].set_visible(False)\n",
    "    plt.gca().spines['right'].set_visible(False)\n",
    "    plt.xlabel('Real', size=15, labelpad=1)\n",
    "    plt.ylabel('Predicted', size=15, labelpad=1)\n",
    "    plt.show()"
   ]
  },
  {
   "cell_type": "code",
   "execution_count": 47,
   "id": "5ef95460",
   "metadata": {},
   "outputs": [],
   "source": [
    "# Se consultan los hiperparámetros más importantes\n",
    "def feature_importance(model, feature_list):\n",
    "    \"\"\"\n",
    "    Function that gets and plots the feature importance\n",
    "    for the given model\n",
    "    :param model: the model to evaluaate\n",
    "    :param feature_list: a list of features contained in the model\n",
    "\n",
    "    :returns a plot with feature importance\n",
    "    \"\"\"\n",
    "    # Obtiene la lista de importancias\n",
    "    importances = list(model.feature_importances_)\n",
    "    # Junta los nombres de los atributos y las importancias\n",
    "    feature_importances = [(feature, round(importance, 2)) for feature, importance in zip(feature_list, importances)]\n",
    "    # Ordena por orden de importancia\n",
    "    feature_importances = sorted(feature_importances, key = lambda x: x[1], reverse = True)\n",
    "    # Print la lista de importancias\n",
    "    [print('Variable: {} Importance: {}'.format(*pair)) for pair in feature_importances];\n",
    "    # Colores\n",
    "    colors = cm.rainbow(np.linspace(0, 1, len(feature_list)))\n",
    "\n",
    "    # Caracteristicas en orden de importancia\n",
    "    characteristics = [x[0] for x in feature_importances]\n",
    "    # Obtiene las importancias\n",
    "    importances_plot = [x[1] for x in feature_importances]\n",
    "    # Grafica un bar plot\n",
    "    plt.figure(figsize=(25,6))\n",
    "    plt.bar(characteristics, importances_plot, color=colors)\n",
    "    # Personalizamos el grafico\n",
    "    plt.xticks(list(range(len(characteristics))), characteristics, rotation = 90)\n",
    "    plt.gca().spines['top'].set_visible(False)\n",
    "    plt.gca().spines['bottom'].set_visible(False)\n",
    "    plt.gca().spines['left'].set_visible(False)\n",
    "    plt.gca().spines['right'].set_visible(False)\n",
    "    plt.gcf().subplots_adjust(bottom=0.3);"
   ]
  },
  {
   "cell_type": "code",
   "execution_count": 48,
   "id": "d1933d86",
   "metadata": {},
   "outputs": [
    {
     "name": "stdout",
     "output_type": "stream",
     "text": [
      "Variable: country_China Importance: 0.22\n",
      "Variable: year Importance: 0.14\n",
      "Variable: country_United States Importance: 0.09\n",
      "Variable: country_Canada Importance: 0.08\n",
      "Variable: country_Brazil Importance: 0.07\n",
      "Variable: cluster Importance: 0.05\n",
      "Variable: country_Germany Importance: 0.03\n",
      "Variable: country_India Importance: 0.03\n",
      "Variable: country_Japan Importance: 0.03\n",
      "Variable: country_Russia Importance: 0.03\n",
      "Variable: country_Italy Importance: 0.02\n",
      "Variable: country_Norway Importance: 0.02\n",
      "Variable: country_Australia Importance: 0.01\n",
      "Variable: country_Austria Importance: 0.01\n",
      "Variable: country_Colombia Importance: 0.01\n",
      "Variable: country_France Importance: 0.01\n",
      "Variable: country_Mexico Importance: 0.01\n",
      "Variable: country_Paraguay Importance: 0.01\n",
      "Variable: country_Spain Importance: 0.01\n",
      "Variable: country_Sweden Importance: 0.01\n",
      "Variable: country_Switzerland Importance: 0.01\n",
      "Variable: country_Turkey Importance: 0.01\n",
      "Variable: country_United Kingdom Importance: 0.01\n",
      "Variable: country_Venezuela Importance: 0.01\n",
      "Variable: country_Vietnam Importance: 0.01\n",
      "Variable: country_Albania Importance: 0.0\n",
      "Variable: country_Algeria Importance: 0.0\n",
      "Variable: country_American Samoa Importance: 0.0\n",
      "Variable: country_Angola Importance: 0.0\n",
      "Variable: country_Antigua and Barbuda Importance: 0.0\n",
      "Variable: country_Argentina Importance: 0.0\n",
      "Variable: country_Armenia Importance: 0.0\n",
      "Variable: country_Aruba Importance: 0.0\n",
      "Variable: country_Azerbaijan Importance: 0.0\n",
      "Variable: country_Bahamas Importance: 0.0\n",
      "Variable: country_Bahrain Importance: 0.0\n",
      "Variable: country_Bangladesh Importance: 0.0\n",
      "Variable: country_Barbados Importance: 0.0\n",
      "Variable: country_Belarus Importance: 0.0\n",
      "Variable: country_Belgium Importance: 0.0\n",
      "Variable: country_Belize Importance: 0.0\n",
      "Variable: country_Benin Importance: 0.0\n",
      "Variable: country_Bermuda Importance: 0.0\n",
      "Variable: country_Bhutan Importance: 0.0\n",
      "Variable: country_Bolivia Importance: 0.0\n",
      "Variable: country_Bosnia and Herzegovina Importance: 0.0\n",
      "Variable: country_Botswana Importance: 0.0\n",
      "Variable: country_British Virgin Islands Importance: 0.0\n",
      "Variable: country_Brunei Importance: 0.0\n",
      "Variable: country_Bulgaria Importance: 0.0\n",
      "Variable: country_Burkina Faso Importance: 0.0\n",
      "Variable: country_Burundi Importance: 0.0\n",
      "Variable: country_Cambodia Importance: 0.0\n",
      "Variable: country_Cameroon Importance: 0.0\n",
      "Variable: country_Cayman Islands Importance: 0.0\n",
      "Variable: country_Central African Republic Importance: 0.0\n",
      "Variable: country_Chad Importance: 0.0\n",
      "Variable: country_Chile Importance: 0.0\n",
      "Variable: country_Comoros Importance: 0.0\n",
      "Variable: country_Congo Importance: 0.0\n",
      "Variable: country_Cook Islands Importance: 0.0\n",
      "Variable: country_Costa Rica Importance: 0.0\n",
      "Variable: country_Croatia Importance: 0.0\n",
      "Variable: country_Cuba Importance: 0.0\n",
      "Variable: country_Cyprus Importance: 0.0\n",
      "Variable: country_Czechia Importance: 0.0\n",
      "Variable: country_Democratic Republic of Congo Importance: 0.0\n",
      "Variable: country_Denmark Importance: 0.0\n",
      "Variable: country_Djibouti Importance: 0.0\n",
      "Variable: country_Dominica Importance: 0.0\n",
      "Variable: country_Dominican Republic Importance: 0.0\n",
      "Variable: country_Ecuador Importance: 0.0\n",
      "Variable: country_Egypt Importance: 0.0\n",
      "Variable: country_El Salvador Importance: 0.0\n",
      "Variable: country_Equatorial Guinea Importance: 0.0\n",
      "Variable: country_Eritrea Importance: 0.0\n",
      "Variable: country_Estonia Importance: 0.0\n",
      "Variable: country_Ethiopia Importance: 0.0\n",
      "Variable: country_Fiji Importance: 0.0\n",
      "Variable: country_Finland Importance: 0.0\n",
      "Variable: country_French Guiana Importance: 0.0\n",
      "Variable: country_French Polynesia Importance: 0.0\n",
      "Variable: country_Gabon Importance: 0.0\n",
      "Variable: country_Gambia Importance: 0.0\n",
      "Variable: country_Georgia Importance: 0.0\n",
      "Variable: country_Ghana Importance: 0.0\n",
      "Variable: country_Gibraltar Importance: 0.0\n",
      "Variable: country_Greece Importance: 0.0\n",
      "Variable: country_Greenland Importance: 0.0\n",
      "Variable: country_Grenada Importance: 0.0\n",
      "Variable: country_Guadeloupe Importance: 0.0\n",
      "Variable: country_Guam Importance: 0.0\n",
      "Variable: country_Guatemala Importance: 0.0\n",
      "Variable: country_Guinea Importance: 0.0\n",
      "Variable: country_Guinea-Bissau Importance: 0.0\n",
      "Variable: country_Guyana Importance: 0.0\n",
      "Variable: country_Haiti Importance: 0.0\n",
      "Variable: country_Honduras Importance: 0.0\n",
      "Variable: country_Hong Kong Importance: 0.0\n",
      "Variable: country_Hungary Importance: 0.0\n",
      "Variable: country_Iceland Importance: 0.0\n",
      "Variable: country_Indonesia Importance: 0.0\n",
      "Variable: country_Iran Importance: 0.0\n",
      "Variable: country_Iraq Importance: 0.0\n",
      "Variable: country_Ireland Importance: 0.0\n",
      "Variable: country_Israel Importance: 0.0\n",
      "Variable: country_Jamaica Importance: 0.0\n",
      "Variable: country_Jordan Importance: 0.0\n",
      "Variable: country_Kazakhstan Importance: 0.0\n",
      "Variable: country_Kenya Importance: 0.0\n",
      "Variable: country_Kiribati Importance: 0.0\n",
      "Variable: country_Kuwait Importance: 0.0\n",
      "Variable: country_Kyrgyzstan Importance: 0.0\n",
      "Variable: country_Laos Importance: 0.0\n",
      "Variable: country_Latvia Importance: 0.0\n",
      "Variable: country_Lebanon Importance: 0.0\n",
      "Variable: country_Lesotho Importance: 0.0\n",
      "Variable: country_Liberia Importance: 0.0\n",
      "Variable: country_Libya Importance: 0.0\n",
      "Variable: country_Lithuania Importance: 0.0\n",
      "Variable: country_Luxembourg Importance: 0.0\n",
      "Variable: country_Madagascar Importance: 0.0\n",
      "Variable: country_Malawi Importance: 0.0\n",
      "Variable: country_Malaysia Importance: 0.0\n",
      "Variable: country_Maldives Importance: 0.0\n",
      "Variable: country_Mali Importance: 0.0\n",
      "Variable: country_Malta Importance: 0.0\n",
      "Variable: country_Martinique Importance: 0.0\n",
      "Variable: country_Mauritania Importance: 0.0\n",
      "Variable: country_Mauritius Importance: 0.0\n",
      "Variable: country_Moldova Importance: 0.0\n",
      "Variable: country_Mongolia Importance: 0.0\n",
      "Variable: country_Montenegro Importance: 0.0\n",
      "Variable: country_Montserrat Importance: 0.0\n",
      "Variable: country_Morocco Importance: 0.0\n",
      "Variable: country_Mozambique Importance: 0.0\n",
      "Variable: country_Namibia Importance: 0.0\n",
      "Variable: country_Nauru Importance: 0.0\n",
      "Variable: country_Nepal Importance: 0.0\n",
      "Variable: country_Netherlands Importance: 0.0\n",
      "Variable: country_New Caledonia Importance: 0.0\n",
      "Variable: country_New Zealand Importance: 0.0\n",
      "Variable: country_Nicaragua Importance: 0.0\n",
      "Variable: country_Niger Importance: 0.0\n",
      "Variable: country_Nigeria Importance: 0.0\n",
      "Variable: country_Niue Importance: 0.0\n",
      "Variable: country_North Korea Importance: 0.0\n",
      "Variable: country_Oman Importance: 0.0\n",
      "Variable: country_Pakistan Importance: 0.0\n",
      "Variable: country_Palestine Importance: 0.0\n",
      "Variable: country_Panama Importance: 0.0\n",
      "Variable: country_Papua New Guinea Importance: 0.0\n",
      "Variable: country_Peru Importance: 0.0\n",
      "Variable: country_Philippines Importance: 0.0\n",
      "Variable: country_Poland Importance: 0.0\n",
      "Variable: country_Portugal Importance: 0.0\n",
      "Variable: country_Puerto Rico Importance: 0.0\n",
      "Variable: country_Qatar Importance: 0.0\n",
      "Variable: country_Romania Importance: 0.0\n",
      "Variable: country_Rwanda Importance: 0.0\n",
      "Variable: country_Saint Helena Importance: 0.0\n",
      "Variable: country_Saint Kitts and Nevis Importance: 0.0\n",
      "Variable: country_Saint Lucia Importance: 0.0\n",
      "Variable: country_Saint Pierre and Miquelon Importance: 0.0\n",
      "Variable: country_Saint Vincent and the Grenadines Importance: 0.0\n",
      "Variable: country_Samoa Importance: 0.0\n",
      "Variable: country_Sao Tome and Principe Importance: 0.0\n",
      "Variable: country_Saudi Arabia Importance: 0.0\n",
      "Variable: country_Senegal Importance: 0.0\n",
      "Variable: country_Serbia Importance: 0.0\n",
      "Variable: country_Seychelles Importance: 0.0\n",
      "Variable: country_Sierra Leone Importance: 0.0\n",
      "Variable: country_Singapore Importance: 0.0\n",
      "Variable: country_Slovakia Importance: 0.0\n",
      "Variable: country_Slovenia Importance: 0.0\n",
      "Variable: country_Solomon Islands Importance: 0.0\n",
      "Variable: country_Somalia Importance: 0.0\n",
      "Variable: country_South Africa Importance: 0.0\n",
      "Variable: country_South Korea Importance: 0.0\n",
      "Variable: country_South Sudan Importance: 0.0\n",
      "Variable: country_Sri Lanka Importance: 0.0\n",
      "Variable: country_Sudan Importance: 0.0\n",
      "Variable: country_Suriname Importance: 0.0\n",
      "Variable: country_Syria Importance: 0.0\n",
      "Variable: country_Taiwan Importance: 0.0\n",
      "Variable: country_Tajikistan Importance: 0.0\n",
      "Variable: country_Tanzania Importance: 0.0\n",
      "Variable: country_Thailand Importance: 0.0\n",
      "Variable: country_Togo Importance: 0.0\n",
      "Variable: country_Tonga Importance: 0.0\n",
      "Variable: country_Trinidad and Tobago Importance: 0.0\n",
      "Variable: country_Tunisia Importance: 0.0\n",
      "Variable: country_Turkmenistan Importance: 0.0\n",
      "Variable: country_Turks and Caicos Islands Importance: 0.0\n",
      "Variable: country_Uganda Importance: 0.0\n",
      "Variable: country_Ukraine Importance: 0.0\n",
      "Variable: country_United Arab Emirates Importance: 0.0\n",
      "Variable: country_United States Virgin Islands Importance: 0.0\n",
      "Variable: country_Uruguay Importance: 0.0\n",
      "Variable: country_Uzbekistan Importance: 0.0\n",
      "Variable: country_Vanuatu Importance: 0.0\n",
      "Variable: country_Yemen Importance: 0.0\n",
      "Variable: country_Zambia Importance: 0.0\n",
      "Variable: country_Zimbabwe Importance: 0.0\n"
     ]
    },
    {
     "data": {
      "image/png": "[encoded data removed]",
      "text/plain": [
       "<Figure size 2500x600 with 1 Axes>"
      ]
     },
     "metadata": {},
     "output_type": "display_data"
    }
   ],
   "source": [
    "feature_importance(regresor_rf2, X.columns)"
   ]
  },
  {
   "cell_type": "code",
   "execution_count": 38,
   "id": "c6b6e78e",
   "metadata": {},
   "outputs": [],
   "source": [
    "# Valores para los parametros a optimizar\n",
    "param_grid_rf = {\n",
    "    'criterion': ['absolute_error'],\n",
    "    'n_estimators': [70, 80, 90, 100, 120],\n",
    "    'max_features': ['log2','sqrt'],\n",
    "    'max_depth': [1, 3, 5, 10, 20, 50],\n",
    "    'min_samples_leaf': [1, 3, 5, 10, 20, 50]\n",
    "}"
   ]
  },
  {
   "cell_type": "code",
   "execution_count": 39,
   "id": "27564bbc",
   "metadata": {},
   "outputs": [
    {
     "name": "stdout",
     "output_type": "stream",
     "text": [
      "El error absoluto medio para el modelo es 7.38\n",
      "El error porcentual absoluto medio para el modelo es inf\n"
     ]
    },
    {
     "name": "stderr",
     "output_type": "stream",
     "text": [
      "C:\\Users\\Luna\\AppData\\Local\\Temp\\ipykernel_3860\\476445176.py:14: RuntimeWarning:\n",
      "\n",
      "divide by zero encountered in divide\n",
      "\n"
     ]
    }
   ],
   "source": [
    "evaluation(y_test, y_pred1)"
   ]
  },
  {
   "cell_type": "code",
   "execution_count": 40,
   "id": "549fc47c",
   "metadata": {},
   "outputs": [
    {
     "name": "stdout",
     "output_type": "stream",
     "text": [
      "El error absoluto medio para el modelo es 1.54\n",
      "El error porcentual absoluto medio para el modelo es inf\n"
     ]
    },
    {
     "name": "stderr",
     "output_type": "stream",
     "text": [
      "C:\\Users\\Luna\\AppData\\Local\\Temp\\ipykernel_3860\\476445176.py:14: RuntimeWarning:\n",
      "\n",
      "divide by zero encountered in divide\n",
      "\n"
     ]
    }
   ],
   "source": [
    "evaluation(y_test, y_pred_rf2)"
   ]
  },
  {
   "cell_type": "code",
   "execution_count": 41,
   "id": "9371dc9c",
   "metadata": {},
   "outputs": [
    {
     "name": "stdout",
     "output_type": "stream",
     "text": [
      "El error absoluto medio para el modelo es 26.24\n",
      "El error porcentual absoluto medio para el modelo es inf\n"
     ]
    },
    {
     "name": "stderr",
     "output_type": "stream",
     "text": [
      "C:\\Users\\Luna\\AppData\\Local\\Temp\\ipykernel_3860\\476445176.py:14: RuntimeWarning:\n",
      "\n",
      "divide by zero encountered in divide\n",
      "\n"
     ]
    }
   ],
   "source": [
    "evaluation(y_test, y_pred_svr)"
   ]
  },
  {
   "cell_type": "code",
   "execution_count": 273,
   "id": "1b3ddc39",
   "metadata": {},
   "outputs": [],
   "source": [
    "# Inicializamos un modelo\n",
    "grid_regresor = RandomForestRegressor(random_state=42)"
   ]
  },
  {
   "cell_type": "code",
   "execution_count": 274,
   "id": "46c2d228",
   "metadata": {},
   "outputs": [],
   "source": [
    "# Creamos la busqueda\n",
    "rf_search = GridSearchCV(estimator=grid_regresor, param_grid=param_grid_rf,\n",
    "                         cv=5, scoring='neg_mean_absolute_error', verbose=2, n_jobs=-1)"
   ]
  },
  {
   "cell_type": "code",
   "execution_count": 275,
   "id": "11eed71d",
   "metadata": {},
   "outputs": [
    {
     "name": "stdout",
     "output_type": "stream",
     "text": [
      "Fitting 5 folds for each of 360 candidates, totalling 1800 fits\n"
     ]
    },
    {
     "data": {
      "text/html": [
       "<style>#sk-container-id-5 {color: black;background-color: white;}#sk-container-id-5 pre{padding: 0;}#sk-container-id-5 div.sk-toggleable {background-color: white;}#sk-container-id-5 label.sk-toggleable__label {cursor: pointer;display: block;width: 100%;margin-bottom: 0;padding: 0.3em;box-sizing: border-box;text-align: center;}#sk-container-id-5 label.sk-toggleable__label-arrow:before {content: \"▸\";float: left;margin-right: 0.25em;color: #696969;}#sk-container-id-5 label.sk-toggleable__label-arrow:hover:before {color: black;}#sk-container-id-5 div.sk-estimator:hover label.sk-toggleable__label-arrow:before {color: black;}#sk-container-id-5 div.sk-toggleable__content {max-height: 0;max-width: 0;overflow: hidden;text-align: left;background-color: #f0f8ff;}#sk-container-id-5 div.sk-toggleable__content pre {margin: 0.2em;color: black;border-radius: 0.25em;background-color: #f0f8ff;}#sk-container-id-5 input.sk-toggleable__control:checked~div.sk-toggleable__content {max-height: 200px;max-width: 100%;overflow: auto;}#sk-container-id-5 input.sk-toggleable__control:checked~label.sk-toggleable__label-arrow:before {content: \"▾\";}#sk-container-id-5 div.sk-estimator input.sk-toggleable__control:checked~label.sk-toggleable__label {background-color: #d4ebff;}#sk-container-id-5 div.sk-label input.sk-toggleable__control:checked~label.sk-toggleable__label {background-color: #d4ebff;}#sk-container-id-5 input.sk-hidden--visually {border: 0;clip: rect(1px 1px 1px 1px);clip: rect(1px, 1px, 1px, 1px);height: 1px;margin: -1px;overflow: hidden;padding: 0;position: absolute;width: 1px;}#sk-container-id-5 div.sk-estimator {font-family: monospace;background-color: #f0f8ff;border: 1px dotted black;border-radius: 0.25em;box-sizing: border-box;margin-bottom: 0.5em;}#sk-container-id-5 div.sk-estimator:hover {background-color: #d4ebff;}#sk-container-id-5 div.sk-parallel-item::after {content: \"\";width: 100%;border-bottom: 1px solid gray;flex-grow: 1;}#sk-container-id-5 div.sk-label:hover label.sk-toggleable__label {background-color: #d4ebff;}#sk-container-id-5 div.sk-serial::before {content: \"\";position: absolute;border-left: 1px solid gray;box-sizing: border-box;top: 0;bottom: 0;left: 50%;z-index: 0;}#sk-container-id-5 div.sk-serial {display: flex;flex-direction: column;align-items: center;background-color: white;padding-right: 0.2em;padding-left: 0.2em;position: relative;}#sk-container-id-5 div.sk-item {position: relative;z-index: 1;}#sk-container-id-5 div.sk-parallel {display: flex;align-items: stretch;justify-content: center;background-color: white;position: relative;}#sk-container-id-5 div.sk-item::before, #sk-container-id-5 div.sk-parallel-item::before {content: \"\";position: absolute;border-left: 1px solid gray;box-sizing: border-box;top: 0;bottom: 0;left: 50%;z-index: -1;}#sk-container-id-5 div.sk-parallel-item {display: flex;flex-direction: column;z-index: 1;position: relative;background-color: white;}#sk-container-id-5 div.sk-parallel-item:first-child::after {align-self: flex-end;width: 50%;}#sk-container-id-5 div.sk-parallel-item:last-child::after {align-self: flex-start;width: 50%;}#sk-container-id-5 div.sk-parallel-item:only-child::after {width: 0;}#sk-container-id-5 div.sk-dashed-wrapped {border: 1px dashed gray;margin: 0 0.4em 0.5em 0.4em;box-sizing: border-box;padding-bottom: 0.4em;background-color: white;}#sk-container-id-5 div.sk-label label {font-family: monospace;font-weight: bold;display: inline-block;line-height: 1.2em;}#sk-container-id-5 div.sk-label-container {text-align: center;}#sk-container-id-5 div.sk-container {/* jupyter's `normalize.less` sets `[hidden] { display: none; }` but bootstrap.min.css set `[hidden] { display: none !important; }` so we also need the `!important` here to be able to override the default hidden behavior on the sphinx rendered scikit-learn.org. See: https://github.com/scikit-learn/scikit-learn/issues/21755 */display: inline-block !important;position: relative;}#sk-container-id-5 div.sk-text-repr-fallback {display: none;}</style><div id=\"sk-container-id-5\" class=\"sk-top-container\"><div class=\"sk-text-repr-fallback\"><pre>GridSearchCV(cv=5, estimator=RandomForestRegressor(random_state=42), n_jobs=-1,\n",
       "             param_grid={&#x27;criterion&#x27;: [&#x27;absolute_error&#x27;],\n",
       "                         &#x27;max_depth&#x27;: [1, 3, 5, 10, 20, 50],\n",
       "                         &#x27;max_features&#x27;: [&#x27;log2&#x27;, &#x27;sqrt&#x27;],\n",
       "                         &#x27;min_samples_leaf&#x27;: [1, 3, 5, 10, 20, 50],\n",
       "                         &#x27;n_estimators&#x27;: [70, 80, 90, 100, 120]},\n",
       "             scoring=&#x27;neg_mean_absolute_error&#x27;, verbose=2)</pre><b>In a Jupyter environment, please rerun this cell to show the HTML representation or trust the notebook. <br />On GitHub, the HTML representation is unable to render, please try loading this page with nbviewer.org.</b></div><div class=\"sk-container\" hidden><div class=\"sk-item sk-dashed-wrapped\"><div class=\"sk-label-container\"><div class=\"sk-label sk-toggleable\"><input class=\"sk-toggleable__control sk-hidden--visually\" id=\"sk-estimator-id-7\" type=\"checkbox\" ><label for=\"sk-estimator-id-7\" class=\"sk-toggleable__label sk-toggleable__label-arrow\">GridSearchCV</label><div class=\"sk-toggleable__content\"><pre>GridSearchCV(cv=5, estimator=RandomForestRegressor(random_state=42), n_jobs=-1,\n",
       "             param_grid={&#x27;criterion&#x27;: [&#x27;absolute_error&#x27;],\n",
       "                         &#x27;max_depth&#x27;: [1, 3, 5, 10, 20, 50],\n",
       "                         &#x27;max_features&#x27;: [&#x27;log2&#x27;, &#x27;sqrt&#x27;],\n",
       "                         &#x27;min_samples_leaf&#x27;: [1, 3, 5, 10, 20, 50],\n",
       "                         &#x27;n_estimators&#x27;: [70, 80, 90, 100, 120]},\n",
       "             scoring=&#x27;neg_mean_absolute_error&#x27;, verbose=2)</pre></div></div></div><div class=\"sk-parallel\"><div class=\"sk-parallel-item\"><div class=\"sk-item\"><div class=\"sk-label-container\"><div class=\"sk-label sk-toggleable\"><input class=\"sk-toggleable__control sk-hidden--visually\" id=\"sk-estimator-id-8\" type=\"checkbox\" ><label for=\"sk-estimator-id-8\" class=\"sk-toggleable__label sk-toggleable__label-arrow\">estimator: RandomForestRegressor</label><div class=\"sk-toggleable__content\"><pre>RandomForestRegressor(random_state=42)</pre></div></div></div><div class=\"sk-serial\"><div class=\"sk-item\"><div class=\"sk-estimator sk-toggleable\"><input class=\"sk-toggleable__control sk-hidden--visually\" id=\"sk-estimator-id-9\" type=\"checkbox\" ><label for=\"sk-estimator-id-9\" class=\"sk-toggleable__label sk-toggleable__label-arrow\">RandomForestRegressor</label><div class=\"sk-toggleable__content\"><pre>RandomForestRegressor(random_state=42)</pre></div></div></div></div></div></div></div></div></div></div>"
      ],
      "text/plain": [
       "GridSearchCV(cv=5, estimator=RandomForestRegressor(random_state=42), n_jobs=-1,\n",
       "             param_grid={'criterion': ['absolute_error'],\n",
       "                         'max_depth': [1, 3, 5, 10, 20, 50],\n",
       "                         'max_features': ['log2', 'sqrt'],\n",
       "                         'min_samples_leaf': [1, 3, 5, 10, 20, 50],\n",
       "                         'n_estimators': [70, 80, 90, 100, 120]},\n",
       "             scoring='neg_mean_absolute_error', verbose=2)"
      ]
     },
     "execution_count": 275,
     "metadata": {},
     "output_type": "execute_result"
    }
   ],
   "source": [
    "# Corremos el gridsearch con una validación usando 3 folds.\n",
    "rf_search.fit(X_train, y_train)"
   ]
  },
  {
   "cell_type": "markdown",
   "metadata": {},
   "source": [
    "## ¿cuál es el mejor estimador?"
   ]
  },
  {
   "cell_type": "code",
   "execution_count": 285,
   "id": "257801d8",
   "metadata": {},
   "outputs": [
    {
     "data": {
      "text/html": [
       "<style>#sk-container-id-8 {color: black;background-color: white;}#sk-container-id-8 pre{padding: 0;}#sk-container-id-8 div.sk-toggleable {background-color: white;}#sk-container-id-8 label.sk-toggleable__label {cursor: pointer;display: block;width: 100%;margin-bottom: 0;padding: 0.3em;box-sizing: border-box;text-align: center;}#sk-container-id-8 label.sk-toggleable__label-arrow:before {content: \"▸\";float: left;margin-right: 0.25em;color: #696969;}#sk-container-id-8 label.sk-toggleable__label-arrow:hover:before {color: black;}#sk-container-id-8 div.sk-estimator:hover label.sk-toggleable__label-arrow:before {color: black;}#sk-container-id-8 div.sk-toggleable__content {max-height: 0;max-width: 0;overflow: hidden;text-align: left;background-color: #f0f8ff;}#sk-container-id-8 div.sk-toggleable__content pre {margin: 0.2em;color: black;border-radius: 0.25em;background-color: #f0f8ff;}#sk-container-id-8 input.sk-toggleable__control:checked~div.sk-toggleable__content {max-height: 200px;max-width: 100%;overflow: auto;}#sk-container-id-8 input.sk-toggleable__control:checked~label.sk-toggleable__label-arrow:before {content: \"▾\";}#sk-container-id-8 div.sk-estimator input.sk-toggleable__control:checked~label.sk-toggleable__label {background-color: #d4ebff;}#sk-container-id-8 div.sk-label input.sk-toggleable__control:checked~label.sk-toggleable__label {background-color: #d4ebff;}#sk-container-id-8 input.sk-hidden--visually {border: 0;clip: rect(1px 1px 1px 1px);clip: rect(1px, 1px, 1px, 1px);height: 1px;margin: -1px;overflow: hidden;padding: 0;position: absolute;width: 1px;}#sk-container-id-8 div.sk-estimator {font-family: monospace;background-color: #f0f8ff;border: 1px dotted black;border-radius: 0.25em;box-sizing: border-box;margin-bottom: 0.5em;}#sk-container-id-8 div.sk-estimator:hover {background-color: #d4ebff;}#sk-container-id-8 div.sk-parallel-item::after {content: \"\";width: 100%;border-bottom: 1px solid gray;flex-grow: 1;}#sk-container-id-8 div.sk-label:hover label.sk-toggleable__label {background-color: #d4ebff;}#sk-container-id-8 div.sk-serial::before {content: \"\";position: absolute;border-left: 1px solid gray;box-sizing: border-box;top: 0;bottom: 0;left: 50%;z-index: 0;}#sk-container-id-8 div.sk-serial {display: flex;flex-direction: column;align-items: center;background-color: white;padding-right: 0.2em;padding-left: 0.2em;position: relative;}#sk-container-id-8 div.sk-item {position: relative;z-index: 1;}#sk-container-id-8 div.sk-parallel {display: flex;align-items: stretch;justify-content: center;background-color: white;position: relative;}#sk-container-id-8 div.sk-item::before, #sk-container-id-8 div.sk-parallel-item::before {content: \"\";position: absolute;border-left: 1px solid gray;box-sizing: border-box;top: 0;bottom: 0;left: 50%;z-index: -1;}#sk-container-id-8 div.sk-parallel-item {display: flex;flex-direction: column;z-index: 1;position: relative;background-color: white;}#sk-container-id-8 div.sk-parallel-item:first-child::after {align-self: flex-end;width: 50%;}#sk-container-id-8 div.sk-parallel-item:last-child::after {align-self: flex-start;width: 50%;}#sk-container-id-8 div.sk-parallel-item:only-child::after {width: 0;}#sk-container-id-8 div.sk-dashed-wrapped {border: 1px dashed gray;margin: 0 0.4em 0.5em 0.4em;box-sizing: border-box;padding-bottom: 0.4em;background-color: white;}#sk-container-id-8 div.sk-label label {font-family: monospace;font-weight: bold;display: inline-block;line-height: 1.2em;}#sk-container-id-8 div.sk-label-container {text-align: center;}#sk-container-id-8 div.sk-container {/* jupyter's `normalize.less` sets `[hidden] { display: none; }` but bootstrap.min.css set `[hidden] { display: none !important; }` so we also need the `!important` here to be able to override the default hidden behavior on the sphinx rendered scikit-learn.org. See: https://github.com/scikit-learn/scikit-learn/issues/21755 */display: inline-block !important;position: relative;}#sk-container-id-8 div.sk-text-repr-fallback {display: none;}</style><div id=\"sk-container-id-8\" class=\"sk-top-container\"><div class=\"sk-text-repr-fallback\"><pre>RandomForestRegressor(criterion=&#x27;absolute_error&#x27;, max_depth=5,\n",
       "                      max_features=&#x27;sqrt&#x27;, random_state=42)</pre><b>In a Jupyter environment, please rerun this cell to show the HTML representation or trust the notebook. <br />On GitHub, the HTML representation is unable to render, please try loading this page with nbviewer.org.</b></div><div class=\"sk-container\" hidden><div class=\"sk-item\"><div class=\"sk-estimator sk-toggleable\"><input class=\"sk-toggleable__control sk-hidden--visually\" id=\"sk-estimator-id-12\" type=\"checkbox\" checked><label for=\"sk-estimator-id-12\" class=\"sk-toggleable__label sk-toggleable__label-arrow\">RandomForestRegressor</label><div class=\"sk-toggleable__content\"><pre>RandomForestRegressor(criterion=&#x27;absolute_error&#x27;, max_depth=5,\n",
       "                      max_features=&#x27;sqrt&#x27;, random_state=42)</pre></div></div></div></div></div>"
      ],
      "text/plain": [
       "RandomForestRegressor(criterion='absolute_error', max_depth=5,\n",
       "                      max_features='sqrt', random_state=42)"
      ]
     },
     "execution_count": 285,
     "metadata": {},
     "output_type": "execute_result"
    }
   ],
   "source": [
    "rf_search.best_estimator_"
   ]
  },
  {
   "cell_type": "code",
   "execution_count": 286,
   "id": "60cd5f2b",
   "metadata": {},
   "outputs": [
    {
     "data": {
      "text/plain": [
       "{'criterion': 'absolute_error',\n",
       " 'max_depth': 5,\n",
       " 'max_features': 'sqrt',\n",
       " 'min_samples_leaf': 1,\n",
       " 'n_estimators': 100}"
      ]
     },
     "execution_count": 286,
     "metadata": {},
     "output_type": "execute_result"
    }
   ],
   "source": [
    "rf_search.best_params_"
   ]
  },
  {
   "cell_type": "code",
   "execution_count": 287,
   "id": "019cd835",
   "metadata": {},
   "outputs": [
    {
     "data": {
      "text/plain": [
       "-0.40161094078431414"
      ]
     },
     "execution_count": 287,
     "metadata": {},
     "output_type": "execute_result"
    }
   ],
   "source": [
    "rf_search.best_score_"
   ]
  },
  {
   "cell_type": "code",
   "execution_count": 288,
   "id": "7cde70f7",
   "metadata": {},
   "outputs": [],
   "source": [
    "# Asignamos el mejor estimador a mejor_regresor\n",
    "mejor_regresor = RandomForestRegressor(criterion='absolute_error', n_estimators=70, max_depth=5, max_features='sqrt', min_samples_leaf=10)"
   ]
  },
  {
   "cell_type": "code",
   "execution_count": 289,
   "id": "62736f68",
   "metadata": {},
   "outputs": [
    {
     "data": {
      "text/html": [
       "<style>#sk-container-id-9 {color: black;background-color: white;}#sk-container-id-9 pre{padding: 0;}#sk-container-id-9 div.sk-toggleable {background-color: white;}#sk-container-id-9 label.sk-toggleable__label {cursor: pointer;display: block;width: 100%;margin-bottom: 0;padding: 0.3em;box-sizing: border-box;text-align: center;}#sk-container-id-9 label.sk-toggleable__label-arrow:before {content: \"▸\";float: left;margin-right: 0.25em;color: #696969;}#sk-container-id-9 label.sk-toggleable__label-arrow:hover:before {color: black;}#sk-container-id-9 div.sk-estimator:hover label.sk-toggleable__label-arrow:before {color: black;}#sk-container-id-9 div.sk-toggleable__content {max-height: 0;max-width: 0;overflow: hidden;text-align: left;background-color: #f0f8ff;}#sk-container-id-9 div.sk-toggleable__content pre {margin: 0.2em;color: black;border-radius: 0.25em;background-color: #f0f8ff;}#sk-container-id-9 input.sk-toggleable__control:checked~div.sk-toggleable__content {max-height: 200px;max-width: 100%;overflow: auto;}#sk-container-id-9 input.sk-toggleable__control:checked~label.sk-toggleable__label-arrow:before {content: \"▾\";}#sk-container-id-9 div.sk-estimator input.sk-toggleable__control:checked~label.sk-toggleable__label {background-color: #d4ebff;}#sk-container-id-9 div.sk-label input.sk-toggleable__control:checked~label.sk-toggleable__label {background-color: #d4ebff;}#sk-container-id-9 input.sk-hidden--visually {border: 0;clip: rect(1px 1px 1px 1px);clip: rect(1px, 1px, 1px, 1px);height: 1px;margin: -1px;overflow: hidden;padding: 0;position: absolute;width: 1px;}#sk-container-id-9 div.sk-estimator {font-family: monospace;background-color: #f0f8ff;border: 1px dotted black;border-radius: 0.25em;box-sizing: border-box;margin-bottom: 0.5em;}#sk-container-id-9 div.sk-estimator:hover {background-color: #d4ebff;}#sk-container-id-9 div.sk-parallel-item::after {content: \"\";width: 100%;border-bottom: 1px solid gray;flex-grow: 1;}#sk-container-id-9 div.sk-label:hover label.sk-toggleable__label {background-color: #d4ebff;}#sk-container-id-9 div.sk-serial::before {content: \"\";position: absolute;border-left: 1px solid gray;box-sizing: border-box;top: 0;bottom: 0;left: 50%;z-index: 0;}#sk-container-id-9 div.sk-serial {display: flex;flex-direction: column;align-items: center;background-color: white;padding-right: 0.2em;padding-left: 0.2em;position: relative;}#sk-container-id-9 div.sk-item {position: relative;z-index: 1;}#sk-container-id-9 div.sk-parallel {display: flex;align-items: stretch;justify-content: center;background-color: white;position: relative;}#sk-container-id-9 div.sk-item::before, #sk-container-id-9 div.sk-parallel-item::before {content: \"\";position: absolute;border-left: 1px solid gray;box-sizing: border-box;top: 0;bottom: 0;left: 50%;z-index: -1;}#sk-container-id-9 div.sk-parallel-item {display: flex;flex-direction: column;z-index: 1;position: relative;background-color: white;}#sk-container-id-9 div.sk-parallel-item:first-child::after {align-self: flex-end;width: 50%;}#sk-container-id-9 div.sk-parallel-item:last-child::after {align-self: flex-start;width: 50%;}#sk-container-id-9 div.sk-parallel-item:only-child::after {width: 0;}#sk-container-id-9 div.sk-dashed-wrapped {border: 1px dashed gray;margin: 0 0.4em 0.5em 0.4em;box-sizing: border-box;padding-bottom: 0.4em;background-color: white;}#sk-container-id-9 div.sk-label label {font-family: monospace;font-weight: bold;display: inline-block;line-height: 1.2em;}#sk-container-id-9 div.sk-label-container {text-align: center;}#sk-container-id-9 div.sk-container {/* jupyter's `normalize.less` sets `[hidden] { display: none; }` but bootstrap.min.css set `[hidden] { display: none !important; }` so we also need the `!important` here to be able to override the default hidden behavior on the sphinx rendered scikit-learn.org. See: https://github.com/scikit-learn/scikit-learn/issues/21755 */display: inline-block !important;position: relative;}#sk-container-id-9 div.sk-text-repr-fallback {display: none;}</style><div id=\"sk-container-id-9\" class=\"sk-top-container\"><div class=\"sk-text-repr-fallback\"><pre>RandomForestRegressor(criterion=&#x27;absolute_error&#x27;, max_depth=5,\n",
       "                      max_features=&#x27;sqrt&#x27;, min_samples_leaf=10,\n",
       "                      n_estimators=70)</pre><b>In a Jupyter environment, please rerun this cell to show the HTML representation or trust the notebook. <br />On GitHub, the HTML representation is unable to render, please try loading this page with nbviewer.org.</b></div><div class=\"sk-container\" hidden><div class=\"sk-item\"><div class=\"sk-estimator sk-toggleable\"><input class=\"sk-toggleable__control sk-hidden--visually\" id=\"sk-estimator-id-13\" type=\"checkbox\" checked><label for=\"sk-estimator-id-13\" class=\"sk-toggleable__label sk-toggleable__label-arrow\">RandomForestRegressor</label><div class=\"sk-toggleable__content\"><pre>RandomForestRegressor(criterion=&#x27;absolute_error&#x27;, max_depth=5,\n",
       "                      max_features=&#x27;sqrt&#x27;, min_samples_leaf=10,\n",
       "                      n_estimators=70)</pre></div></div></div></div></div>"
      ],
      "text/plain": [
       "RandomForestRegressor(criterion='absolute_error', max_depth=5,\n",
       "                      max_features='sqrt', min_samples_leaf=10,\n",
       "                      n_estimators=70)"
      ]
     },
     "execution_count": 289,
     "metadata": {},
     "output_type": "execute_result"
    }
   ],
   "source": [
    "# Entrenamos el modelo\n",
    "mejor_regresor.fit(X_train, y_train)"
   ]
  },
  {
   "cell_type": "code",
   "execution_count": 290,
   "id": "42990c1a",
   "metadata": {},
   "outputs": [],
   "source": [
    "# Hacemos la prediccion para el test de evaluación\n",
    "predicciones = mejor_regresor.predict(X_test)"
   ]
  },
  {
   "cell_type": "code",
   "execution_count": 291,
   "id": "e01310cf",
   "metadata": {},
   "outputs": [
    {
     "name": "stdout",
     "output_type": "stream",
     "text": [
      "El error absoluto medio para el modelo es 0.47\n",
      "El error porcentual absoluto medio para el modelo es nan\n"
     ]
    },
    {
     "name": "stderr",
     "output_type": "stream",
     "text": [
      "C:\\Users\\Usuario\\AppData\\Local\\Temp\\ipykernel_16216\\476445176.py:14: RuntimeWarning: divide by zero encountered in divide\n",
      "  mape = np.mean((np.abs(y_test - predictions)/y_test)*100)\n",
      "C:\\Users\\Usuario\\AppData\\Local\\Temp\\ipykernel_16216\\476445176.py:14: RuntimeWarning: invalid value encountered in divide\n",
      "  mape = np.mean((np.abs(y_test - predictions)/y_test)*100)\n"
     ]
    }
   ],
   "source": [
    "# Error\n",
    "evaluation(y_test, predicciones)"
   ]
  },
  {
   "cell_type": "code",
   "execution_count": 292,
   "id": "6d1b78d0",
   "metadata": {},
   "outputs": [
    {
     "data": {
      "image/png": "[encoded data removed]",
      "text/plain": [
       "<Figure size 640x480 with 1 Axes>"
      ]
     },
     "metadata": {},
     "output_type": "display_data"
    }
   ],
   "source": [
    "# Correlacion\n",
    "graph_real_pred(y_test, predicciones, color='#E67E22')"
   ]
  },
  {
   "cell_type": "code",
   "execution_count": 294,
   "id": "b38e1563",
   "metadata": {},
   "outputs": [
    {
     "name": "stdout",
     "output_type": "stream",
     "text": [
      "Variable: wind_share_elec Importance: 0.26\n",
      "Variable: wind_elec_per_capita Importance: 0.19\n",
      "Variable: solar_electricity Importance: 0.11\n",
      "Variable: other_renewables_share_elec Importance: 0.07\n",
      "Variable: coal_electricity Importance: 0.04\n",
      "Variable: nuclear_electricity Importance: 0.04\n",
      "Variable: other_renewables_elec_per_capita Importance: 0.04\n",
      "Variable: solar_share_elec Importance: 0.04\n",
      "Variable: gas_electricity Importance: 0.03\n",
      "Variable: primary_energy_consumption Importance: 0.03\n",
      "Variable: electricity_generation Importance: 0.02\n",
      "Variable: fossil_electricity Importance: 0.02\n",
      "Variable: Brazil Importance: 0.02\n",
      "Variable: coal_share_elec Importance: 0.01\n",
      "Variable: coal_elec_per_capita Importance: 0.01\n",
      "Variable: other_renewable_electricity Importance: 0.01\n",
      "Variable: renewables_electricity Importance: 0.01\n",
      "Variable: hydro_elec_per_capita Importance: 0.01\n",
      "Variable: low_carbon_elec_per_capita Importance: 0.01\n",
      "Variable: solar_elec_per_capita Importance: 0.01\n",
      "Variable: biofuel_electricity Importance: 0.0\n",
      "Variable: hydro_electricity Importance: 0.0\n",
      "Variable: oil_electricity Importance: 0.0\n",
      "Variable: other_renewable_exc_biofuel_electricity Importance: 0.0\n",
      "Variable: energy_per_capita Importance: 0.0\n",
      "Variable: fossil_cons_per_capita Importance: 0.0\n",
      "Variable: fossil_share_elec Importance: 0.0\n",
      "Variable: gas_share_elec Importance: 0.0\n",
      "Variable: gas_elec_per_capita Importance: 0.0\n",
      "Variable: hydro_share_elec Importance: 0.0\n",
      "Variable: low_carbon_share_elec Importance: 0.0\n",
      "Variable: low_carbon_electricity Importance: 0.0\n",
      "Variable: oil_share_elec Importance: 0.0\n",
      "Variable: oil_elec_per_capita Importance: 0.0\n",
      "Variable: per_capita_electricity Importance: 0.0\n",
      "Variable: population Importance: 0.0\n",
      "Variable: renewables_elec_per_capita Importance: 0.0\n",
      "Variable: renewables_share_elec Importance: 0.0\n",
      "Variable: Argentina Importance: 0.0\n",
      "Variable: Bolivia Importance: 0.0\n",
      "Variable: Chile Importance: 0.0\n",
      "Variable: Colombia Importance: 0.0\n",
      "Variable: Ecuador Importance: 0.0\n",
      "Variable: French Guiana Importance: 0.0\n",
      "Variable: Guyana Importance: 0.0\n",
      "Variable: Paraguay Importance: 0.0\n",
      "Variable: Peru Importance: 0.0\n",
      "Variable: Suriname Importance: 0.0\n",
      "Variable: Trinidad and Tobago Importance: 0.0\n",
      "Variable: Uruguay Importance: 0.0\n",
      "Variable: Venezuela Importance: 0.0\n"
     ]
    },
    {
     "data": {
      "image/png": "[encoded data removed]",
      "text/plain": [
       "<Figure size 640x480 with 1 Axes>"
      ]
     },
     "metadata": {},
     "output_type": "display_data"
    }
   ],
   "source": [
    "# Importancia de cada feature\n",
    "feature_importance(mejor_regresor, lista_atributos)"
   ]
  },
  {
   "cell_type": "code",
   "execution_count": null,
   "id": "5ff626b3",
   "metadata": {},
   "outputs": [],
   "source": []
  },
  {
   "cell_type": "code",
   "execution_count": null,
   "id": "4f437d5a",
   "metadata": {},
   "outputs": [],
   "source": []
  },
  {
   "cell_type": "code",
   "execution_count": null,
   "id": "5bd4f8f9",
   "metadata": {},
   "outputs": [],
   "source": []
  },
  {
   "cell_type": "code",
   "execution_count": null,
   "id": "09f30d94",
   "metadata": {},
   "outputs": [],
   "source": []
  },
  {
   "cell_type": "code",
   "execution_count": null,
   "id": "376560ad",
   "metadata": {},
   "outputs": [],
   "source": []
  },
  {
   "cell_type": "code",
   "execution_count": null,
   "id": "80721759",
   "metadata": {},
   "outputs": [],
   "source": []
  },
  {
   "cell_type": "code",
   "execution_count": null,
   "id": "ff29d8a5",
   "metadata": {},
   "outputs": [],
   "source": []
  },
  {
   "cell_type": "code",
   "execution_count": null,
   "id": "d1e635c7",
   "metadata": {},
   "outputs": [],
   "source": []
  },
  {
   "cell_type": "code",
   "execution_count": null,
   "id": "0771957d",
   "metadata": {},
   "outputs": [],
   "source": []
  },
  {
   "cell_type": "code",
   "execution_count": null,
   "id": "8400d74c",
   "metadata": {},
   "outputs": [],
   "source": []
  },
  {
   "cell_type": "code",
   "execution_count": null,
   "id": "1f14a743",
   "metadata": {},
   "outputs": [],
   "source": []
  },
  {
   "cell_type": "code",
   "execution_count": null,
   "id": "efe83a78",
   "metadata": {},
   "outputs": [],
   "source": []
  },
  {
   "cell_type": "code",
   "execution_count": null,
   "id": "e6923561",
   "metadata": {},
   "outputs": [],
   "source": []
  },
  {
   "cell_type": "code",
   "execution_count": null,
   "id": "21ecd798",
   "metadata": {},
   "outputs": [],
   "source": []
  },
  {
   "cell_type": "code",
   "execution_count": null,
   "id": "8a4e6993",
   "metadata": {},
   "outputs": [],
   "source": []
  },
  {
   "cell_type": "code",
   "execution_count": null,
   "id": "0695d0ae",
   "metadata": {},
   "outputs": [],
   "source": []
  },
  {
   "cell_type": "code",
   "execution_count": null,
   "id": "78b0b7b6",
   "metadata": {},
   "outputs": [],
   "source": []
  },
  {
   "cell_type": "code",
   "execution_count": null,
   "id": "8cb25386",
   "metadata": {},
   "outputs": [],
   "source": []
  },
  {
   "cell_type": "code",
   "execution_count": null,
   "id": "9cd44035",
   "metadata": {},
   "outputs": [],
   "source": []
  },
  {
   "cell_type": "code",
   "execution_count": null,
   "id": "90832422",
   "metadata": {},
   "outputs": [],
   "source": []
  }
 ],
 "metadata": {
  "kernelspec": {
   "display_name": "Python 3 (ipykernel)",
   "language": "python",
   "name": "python3"
  },
  "language_info": {
   "codemirror_mode": {
    "name": "ipython",
    "version": 3
   },
   "file_extension": ".py",
   "mimetype": "text/x-python",
   "name": "python",
   "nbconvert_exporter": "python",
   "pygments_lexer": "ipython3",
   "version": "3.11.5"
  }
 },
 "nbformat": 4,
 "nbformat_minor": 5
}
