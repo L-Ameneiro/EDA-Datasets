{
 "cells": [
  {
   "cell_type": "code",
   "execution_count": 6,
   "metadata": {},
   "outputs": [],
   "source": [
    "import pandas as pd\n",
    "import numpy as np\n",
    "pd.set_option('display.max_rows', 500)\n",
    "pd.set_option('display.max_columns', 500)\n",
    "pd.set_option('display.width', 150)\n",
    "import matplotlib.pyplot as plt\n",
    "import seaborn as sns\n",
    "import plotly.express as px\n",
    "import warnings\n",
    "warnings.filterwarnings(\"ignore\")\n",
    "from sklearn.preprocessing import StandardScaler\n",
    "from sklearn.cluster import DBSCAN\n",
    "from sklearn.metrics import silhouette_score as ss\n",
    "import itertools\n"
   ]
  },
  {
   "cell_type": "markdown",
   "metadata": {},
   "source": [
    "# Función de optimización de DBSCAN"
   ]
  },
  {
   "cell_type": "code",
   "execution_count": 7,
   "metadata": {},
   "outputs": [
    {
     "data": {
      "text/plain": [
       "array([0.01      , 0.06210526, 0.11421053, 0.16631579, 0.21842105,\n",
       "       0.27052632, 0.32263158, 0.37473684, 0.42684211, 0.47894737,\n",
       "       0.53105263, 0.58315789, 0.63526316, 0.68736842, 0.73947368,\n",
       "       0.79157895, 0.84368421, 0.89578947, 0.94789474, 1.        ])"
      ]
     },
     "execution_count": 7,
     "metadata": {},
     "output_type": "execute_result"
    }
   ],
   "source": [
    "epsilons = np.linspace(0.01, 1, num=20)\n",
    "epsilons"
   ]
  },
  {
   "cell_type": "code",
   "execution_count": 8,
   "metadata": {},
   "outputs": [
    {
     "data": {
      "text/plain": [
       "array([ 2,  4,  6,  8, 10, 12, 14, 16, 18])"
      ]
     },
     "execution_count": 8,
     "metadata": {},
     "output_type": "execute_result"
    }
   ],
   "source": [
    "min_samples = np.arange(2, 20, step=2)\n",
    "min_samples"
   ]
  },
  {
   "cell_type": "code",
   "execution_count": null,
   "metadata": {},
   "outputs": [],
   "source": [
    "\n",
    "combinations = list(itertools.product(epsilons, min_samples))\n",
    "combinations"
   ]
  },
  {
   "cell_type": "code",
   "execution_count": 10,
   "metadata": {},
   "outputs": [
    {
     "data": {
      "text/plain": [
       "180"
      ]
     },
     "execution_count": 10,
     "metadata": {},
     "output_type": "execute_result"
    }
   ],
   "source": [
    "N = len(combinations)\n",
    "N"
   ]
  },
  {
   "cell_type": "code",
   "execution_count": 11,
   "metadata": {},
   "outputs": [],
   "source": [
    "def get_scores_and_labels(combinations, X):\n",
    "  scores = []\n",
    "  all_labels_list = []\n",
    "\n",
    "  for i, (eps, num_samples) in enumerate(combinations):\n",
    "    dbscan_cluster_model = DBSCAN(eps=eps, min_samples=num_samples).fit(X)\n",
    "    labels = dbscan_cluster_model.labels_\n",
    "    labels_set = set(labels)\n",
    "    num_clusters = len(labels_set)\n",
    "    if -1 in labels_set:\n",
    "      num_clusters -= 1\n",
    "\n",
    "    if (num_clusters < 2) or (num_clusters > 50):\n",
    "      scores.append(-10)\n",
    "      all_labels_list.append('bad')\n",
    "      c = (eps, num_samples)\n",
    "      print(f\"Combination {c} on iteration {i+1} of {N} has {num_clusters} clusters. Moving on\")\n",
    "      continue\n",
    "\n",
    "    scores.append(ss(X, labels))\n",
    "    all_labels_list.append(labels)\n",
    "    print(f\"Index: {i}, Score: {scores[-1]}, Labels: {all_labels_list[-1]}, NumClusters: {num_clusters}\")\n",
    "\n",
    "  best_index = np.argmax(scores)\n",
    "  best_parameters = combinations[best_index]\n",
    "  best_labels = all_labels_list[best_index]\n",
    "  best_score = scores[best_index]\n",
    "\n",
    "  return {'best_epsilon': best_parameters[0],\n",
    "          'best_min_samples': best_parameters[1],\n",
    "          'best_labels': best_labels,\n",
    "          'best_score': best_score}\n",
    "\n"
   ]
  },
  {
   "cell_type": "markdown",
   "metadata": {},
   "source": [
    "# MODELO 1: Proporciones de electricidad, Población"
   ]
  },
  {
   "cell_type": "code",
   "execution_count": 13,
   "metadata": {},
   "outputs": [
    {
     "data": {
      "text/html": [
       "<div>\n",
       "<style scoped>\n",
       "    .dataframe tbody tr th:only-of-type {\n",
       "        vertical-align: middle;\n",
       "    }\n",
       "\n",
       "    .dataframe tbody tr th {\n",
       "        vertical-align: top;\n",
       "    }\n",
       "\n",
       "    .dataframe thead th {\n",
       "        text-align: right;\n",
       "    }\n",
       "</style>\n",
       "<table border=\"1\" class=\"dataframe\">\n",
       "  <thead>\n",
       "    <tr style=\"text-align: right;\">\n",
       "      <th></th>\n",
       "      <th>country</th>\n",
       "      <th>population</th>\n",
       "      <th>low_carbon_share_elec</th>\n",
       "      <th>fossil_share_elec</th>\n",
       "      <th>renewables_share_elec</th>\n",
       "      <th>nuclear_share_elec</th>\n",
       "      <th>fossil_cons_per_capita</th>\n",
       "      <th>per_capita_electricity</th>\n",
       "      <th>acceso_elec</th>\n",
       "    </tr>\n",
       "  </thead>\n",
       "  <tbody>\n",
       "    <tr>\n",
       "      <th>0</th>\n",
       "      <td>Afghanistan</td>\n",
       "      <td>3.424733e+07</td>\n",
       "      <td>83.543444</td>\n",
       "      <td>16.456556</td>\n",
       "      <td>83.543444</td>\n",
       "      <td>0.0</td>\n",
       "      <td>5.156111</td>\n",
       "      <td>31.813000</td>\n",
       "      <td>97.70000</td>\n",
       "    </tr>\n",
       "    <tr>\n",
       "      <th>1</th>\n",
       "      <td>Albania</td>\n",
       "      <td>2.896444e+06</td>\n",
       "      <td>99.851444</td>\n",
       "      <td>0.148556</td>\n",
       "      <td>99.851444</td>\n",
       "      <td>0.0</td>\n",
       "      <td>2.103889</td>\n",
       "      <td>1998.432000</td>\n",
       "      <td>100.00000</td>\n",
       "    </tr>\n",
       "    <tr>\n",
       "      <th>2</th>\n",
       "      <td>Algeria</td>\n",
       "      <td>3.978422e+07</td>\n",
       "      <td>0.766333</td>\n",
       "      <td>99.233667</td>\n",
       "      <td>0.766333</td>\n",
       "      <td>0.0</td>\n",
       "      <td>1568.103333</td>\n",
       "      <td>1580.157222</td>\n",
       "      <td>99.80413</td>\n",
       "    </tr>\n",
       "    <tr>\n",
       "      <th>3</th>\n",
       "      <td>Angola</td>\n",
       "      <td>2.794056e+07</td>\n",
       "      <td>65.673556</td>\n",
       "      <td>34.326444</td>\n",
       "      <td>65.673556</td>\n",
       "      <td>0.0</td>\n",
       "      <td>110.650000</td>\n",
       "      <td>326.007889</td>\n",
       "      <td>46.89061</td>\n",
       "    </tr>\n",
       "    <tr>\n",
       "      <th>4</th>\n",
       "      <td>Antigua and Barbuda</td>\n",
       "      <td>9.344444e+04</td>\n",
       "      <td>1.572000</td>\n",
       "      <td>98.428000</td>\n",
       "      <td>1.572000</td>\n",
       "      <td>0.0</td>\n",
       "      <td>3415.806889</td>\n",
       "      <td>3470.763111</td>\n",
       "      <td>100.00000</td>\n",
       "    </tr>\n",
       "  </tbody>\n",
       "</table>\n",
       "</div>"
      ],
      "text/plain": [
       "               country    population  low_carbon_share_elec  fossil_share_elec  renewables_share_elec  nuclear_share_elec  fossil_cons_per_capita  \\\n",
       "0          Afghanistan  3.424733e+07              83.543444          16.456556              83.543444                 0.0                5.156111   \n",
       "1              Albania  2.896444e+06              99.851444           0.148556              99.851444                 0.0                2.103889   \n",
       "2              Algeria  3.978422e+07               0.766333          99.233667               0.766333                 0.0             1568.103333   \n",
       "3               Angola  2.794056e+07              65.673556          34.326444              65.673556                 0.0              110.650000   \n",
       "4  Antigua and Barbuda  9.344444e+04               1.572000          98.428000               1.572000                 0.0             3415.806889   \n",
       "\n",
       "   per_capita_electricity  acceso_elec  \n",
       "0               31.813000     97.70000  \n",
       "1             1998.432000    100.00000  \n",
       "2             1580.157222     99.80413  \n",
       "3              326.007889     46.89061  \n",
       "4             3470.763111    100.00000  "
      ]
     },
     "execution_count": 13,
     "metadata": {},
     "output_type": "execute_result"
    }
   ],
   "source": [
    "df = pd.read_csv(r\"../datasets/no_supervisado/wec_ns.csv\")\n",
    "df.head(5)"
   ]
  },
  {
   "cell_type": "code",
   "execution_count": 15,
   "metadata": {},
   "outputs": [
    {
     "data": {
      "text/html": [
       "<div>\n",
       "<style scoped>\n",
       "    .dataframe tbody tr th:only-of-type {\n",
       "        vertical-align: middle;\n",
       "    }\n",
       "\n",
       "    .dataframe tbody tr th {\n",
       "        vertical-align: top;\n",
       "    }\n",
       "\n",
       "    .dataframe thead th {\n",
       "        text-align: right;\n",
       "    }\n",
       "</style>\n",
       "<table border=\"1\" class=\"dataframe\">\n",
       "  <thead>\n",
       "    <tr style=\"text-align: right;\">\n",
       "      <th></th>\n",
       "      <th>population</th>\n",
       "      <th>fossil_share_elec</th>\n",
       "      <th>renewables_share_elec</th>\n",
       "      <th>nuclear_share_elec</th>\n",
       "    </tr>\n",
       "  </thead>\n",
       "  <tbody>\n",
       "    <tr>\n",
       "      <th>0</th>\n",
       "      <td>3.424733e+07</td>\n",
       "      <td>16.456556</td>\n",
       "      <td>83.543444</td>\n",
       "      <td>0.0</td>\n",
       "    </tr>\n",
       "    <tr>\n",
       "      <th>1</th>\n",
       "      <td>2.896444e+06</td>\n",
       "      <td>0.148556</td>\n",
       "      <td>99.851444</td>\n",
       "      <td>0.0</td>\n",
       "    </tr>\n",
       "    <tr>\n",
       "      <th>2</th>\n",
       "      <td>3.978422e+07</td>\n",
       "      <td>99.233667</td>\n",
       "      <td>0.766333</td>\n",
       "      <td>0.0</td>\n",
       "    </tr>\n",
       "    <tr>\n",
       "      <th>3</th>\n",
       "      <td>2.794056e+07</td>\n",
       "      <td>34.326444</td>\n",
       "      <td>65.673556</td>\n",
       "      <td>0.0</td>\n",
       "    </tr>\n",
       "    <tr>\n",
       "      <th>4</th>\n",
       "      <td>9.344444e+04</td>\n",
       "      <td>98.428000</td>\n",
       "      <td>1.572000</td>\n",
       "      <td>0.0</td>\n",
       "    </tr>\n",
       "  </tbody>\n",
       "</table>\n",
       "</div>"
      ],
      "text/plain": [
       "     population  fossil_share_elec  renewables_share_elec  nuclear_share_elec\n",
       "0  3.424733e+07          16.456556              83.543444                 0.0\n",
       "1  2.896444e+06           0.148556              99.851444                 0.0\n",
       "2  3.978422e+07          99.233667               0.766333                 0.0\n",
       "3  2.794056e+07          34.326444              65.673556                 0.0\n",
       "4  9.344444e+04          98.428000               1.572000                 0.0"
      ]
     },
     "execution_count": 15,
     "metadata": {},
     "output_type": "execute_result"
    }
   ],
   "source": [
    "features1 = [\"population\", \"fossil_share_elec\", \"renewables_share_elec\",\"nuclear_share_elec\"]\n",
    "X1 = df[features1]\n",
    "X1.head(5)"
   ]
  },
  {
   "cell_type": "code",
   "execution_count": 17,
   "metadata": {},
   "outputs": [
    {
     "data": {
      "text/html": [
       "<div>\n",
       "<style scoped>\n",
       "    .dataframe tbody tr th:only-of-type {\n",
       "        vertical-align: middle;\n",
       "    }\n",
       "\n",
       "    .dataframe tbody tr th {\n",
       "        vertical-align: top;\n",
       "    }\n",
       "\n",
       "    .dataframe thead th {\n",
       "        text-align: right;\n",
       "    }\n",
       "</style>\n",
       "<table border=\"1\" class=\"dataframe\">\n",
       "  <thead>\n",
       "    <tr style=\"text-align: right;\">\n",
       "      <th></th>\n",
       "      <th>population</th>\n",
       "      <th>fossil_share_elec</th>\n",
       "      <th>renewables_share_elec</th>\n",
       "      <th>nuclear_share_elec</th>\n",
       "    </tr>\n",
       "  </thead>\n",
       "  <tbody>\n",
       "    <tr>\n",
       "      <th>0</th>\n",
       "      <td>3.424733e+07</td>\n",
       "      <td>16.456556</td>\n",
       "      <td>83.543444</td>\n",
       "      <td>0.0</td>\n",
       "    </tr>\n",
       "    <tr>\n",
       "      <th>1</th>\n",
       "      <td>2.896444e+06</td>\n",
       "      <td>0.148556</td>\n",
       "      <td>99.851444</td>\n",
       "      <td>0.0</td>\n",
       "    </tr>\n",
       "    <tr>\n",
       "      <th>2</th>\n",
       "      <td>3.978422e+07</td>\n",
       "      <td>99.233667</td>\n",
       "      <td>0.766333</td>\n",
       "      <td>0.0</td>\n",
       "    </tr>\n",
       "    <tr>\n",
       "      <th>3</th>\n",
       "      <td>2.794056e+07</td>\n",
       "      <td>34.326444</td>\n",
       "      <td>65.673556</td>\n",
       "      <td>0.0</td>\n",
       "    </tr>\n",
       "    <tr>\n",
       "      <th>4</th>\n",
       "      <td>9.344444e+04</td>\n",
       "      <td>98.428000</td>\n",
       "      <td>1.572000</td>\n",
       "      <td>0.0</td>\n",
       "    </tr>\n",
       "  </tbody>\n",
       "</table>\n",
       "</div>"
      ],
      "text/plain": [
       "     population  fossil_share_elec  renewables_share_elec  nuclear_share_elec\n",
       "0  3.424733e+07          16.456556              83.543444                 0.0\n",
       "1  2.896444e+06           0.148556              99.851444                 0.0\n",
       "2  3.978422e+07          99.233667               0.766333                 0.0\n",
       "3  2.794056e+07          34.326444              65.673556                 0.0\n",
       "4  9.344444e+04          98.428000               1.572000                 0.0"
      ]
     },
     "execution_count": 17,
     "metadata": {},
     "output_type": "execute_result"
    }
   ],
   "source": [
    "pd.DataFrame(X1).head(5)"
   ]
  },
  {
   "cell_type": "code",
   "execution_count": 19,
   "metadata": {},
   "outputs": [
    {
     "data": {
      "text/plain": [
       "<matplotlib.collections.PathCollection at 0x12f911271d0>"
      ]
     },
     "execution_count": 19,
     "metadata": {},
     "output_type": "execute_result"
    },
    {
     "data": {
      "image/png": "[encoded data removed]",
      "text/plain": [
       "<Figure size 640x480 with 1 Axes>"
      ]
     },
     "metadata": {},
     "output_type": "display_data"
    }
   ],
   "source": [
    "X1_scaled = StandardScaler().fit_transform(X1)\n",
    "\n",
    "plt.scatter(X1_scaled[:, 0], X1_scaled[:, 1])"
   ]
  },
  {
   "cell_type": "code",
   "execution_count": 20,
   "metadata": {},
   "outputs": [
    {
     "name": "stdout",
     "output_type": "stream",
     "text": [
      "Index: 0, Score: -0.31678237515320046, Labels: [-1  0 -1 -1  1 -1 -1  2 -1 -1 -1  3  3 -1  1 -1 -1 -1  4  3  0 -1 -1  3\n",
      " -1  5  3 -1 -1 -1 -1 -1 -1  5 -1 -1 -1 -1 -1 -1 -1 -1 -1 -1 -1 -1 -1 -1\n",
      "  5 -1 -1 -1 -1 -1 -1 -1  2 -1 -1 -1 -1 -1 -1 -1 -1  6 -1 -1 -1 -1  1 -1\n",
      "  1 -1 -1  1  1 -1 -1  7 -1  0 -1 -1 -1 -1 -1 -1 -1 -1 -1 -1 -1 -1 -1  7\n",
      " -1 -1 -1 -1  0 -1  7 -1 -1 -1 -1  3 -1 -1 -1 -1 -1 -1 -1 -1  3 -1 -1 -1\n",
      "  3 -1 -1  6 -1 -1  3 -1 -1  7 -1  7 -1 -1 -1 -1 -1 -1  3 -1 -1 -1  3 -1\n",
      "  3  1 -1 -1 -1 -1 -1 -1  5 -1 -1 -1 -1 -1 -1 -1 -1 -1 -1 -1 -1 -1 -1 -1\n",
      " -1 -1 -1 -1 -1  3  3  4 -1  7  3 -1 -1 -1], NumClusters: 8\n",
      "Index: 1, Score: -0.07975863203510383, Labels: [-1 -1 -1 -1  1 -1 -1 -1 -1 -1 -1  0  0 -1  1 -1 -1 -1 -1  0 -1 -1 -1  0\n",
      " -1  2  0 -1 -1 -1 -1 -1 -1  2 -1 -1 -1 -1 -1 -1 -1 -1 -1 -1 -1 -1 -1 -1\n",
      "  2 -1 -1 -1 -1 -1 -1 -1 -1 -1 -1 -1 -1 -1 -1 -1 -1 -1 -1 -1 -1 -1  1 -1\n",
      "  1 -1 -1  1  1 -1 -1 -1 -1 -1 -1 -1 -1 -1 -1 -1 -1 -1 -1 -1 -1 -1 -1  3\n",
      " -1 -1 -1 -1 -1 -1  3 -1 -1 -1 -1 -1 -1 -1 -1 -1 -1 -1 -1 -1  0 -1 -1 -1\n",
      "  0 -1 -1 -1 -1 -1  0 -1 -1  3 -1  3 -1 -1 -1 -1 -1 -1  0 -1 -1 -1  0 -1\n",
      "  0  1 -1 -1 -1 -1 -1 -1  2 -1 -1 -1 -1 -1 -1 -1 -1 -1 -1 -1 -1 -1 -1 -1\n",
      " -1 -1 -1 -1 -1  0  0 -1 -1  3  0 -1 -1 -1], NumClusters: 4\n",
      "Combination (0.01, 6) on iteration 3 of 180 has 1 clusters. Moving on\n",
      "Combination (0.01, 8) on iteration 4 of 180 has 1 clusters. Moving on\n",
      "Combination (0.01, 10) on iteration 5 of 180 has 1 clusters. Moving on\n",
      "Combination (0.01, 12) on iteration 6 of 180 has 1 clusters. Moving on\n",
      "Combination (0.01, 14) on iteration 7 of 180 has 0 clusters. Moving on\n",
      "Combination (0.01, 16) on iteration 8 of 180 has 0 clusters. Moving on\n",
      "Combination (0.01, 18) on iteration 9 of 180 has 0 clusters. Moving on\n",
      "Index: 9, Score: 0.12862197703327388, Labels: [-1  0 -1  1  2 -1 -1  3  4 -1  2  2  2 -1  2  2 -1  5  2  2  0 -1  6  2\n",
      " -1  2  2 -1  4  7 -1  1 -1  2  5  2 -1 -1 -1  2  2  5  8  2  2 -1 -1  9\n",
      "  2 -1 10 -1 -1  8 11  2  3 -1 -1 -1 -1  9  6 12  2  7 -1 13 -1  7  2 -1\n",
      "  2 -1 14  2  2  4 14  2 -1  0 -1 -1 -1 -1 11  2 -1  2 -1  2 10 -1  2  2\n",
      " -1 -1 15  2  0  2  2 14 12 -1 -1  2 14  2  2 -1 -1  2  2 15  2 -1 -1  5\n",
      "  2 -1  3  7 14  2  2 -1  5  2 -1  2 -1 11 13 -1 -1  2  2 -1 -1 -1  2  2\n",
      "  2  2  3 -1  2 -1 10 11  2 -1  2 -1 -1  2  2 -1  2 -1 -1 -1 -1 -1 -1 -1\n",
      " -1  5 -1 -1 -1  2  2  2 -1  2  2 -1 -1  2], NumClusters: 16\n",
      "Index: 10, Score: 0.02417805902343434, Labels: [-1  0 -1 -1  1 -1 -1  2 -1 -1  4  1  1 -1  1  1 -1  3  1  1  0 -1 -1  1\n",
      " -1  1  1 -1 -1  5 -1 -1 -1  1  3  1 -1 -1 -1  1  4  3 -1  1  4 -1 -1 -1\n",
      "  1 -1 -1 -1 -1 -1  7  1  2 -1 -1 -1 -1 -1 -1 -1  1  5 -1 -1 -1  5  1 -1\n",
      "  1 -1  6  1  1 -1  6  1 -1  0 -1 -1 -1 -1  7  1 -1  4 -1  1 -1 -1  4  1\n",
      " -1 -1 -1  1  0  1  1  6 -1 -1 -1  1  6  1  1 -1 -1  1  1 -1  1 -1 -1  3\n",
      "  1 -1  2  5  6  1  1 -1  3  1 -1  1 -1  7 -1 -1 -1  1  1 -1 -1 -1  1  1\n",
      "  1  1  2 -1  4 -1 -1  7  1 -1  1 -1 -1  1  1 -1  1 -1 -1 -1 -1 -1 -1 -1\n",
      " -1  3 -1 -1 -1  1  1  1 -1  1  1 -1 -1  1], NumClusters: 8\n",
      "Index: 11, Score: 0.08234836207473419, Labels: [-1 -1 -1 -1  0 -1 -1 -1 -1 -1 -1  0  0 -1  0  0 -1  1  0  0 -1 -1 -1  0\n",
      " -1  0  0 -1 -1 -1 -1 -1 -1  0  1  0 -1 -1 -1  0 -1  1 -1  0 -1 -1 -1 -1\n",
      "  0 -1 -1 -1 -1 -1 -1  0 -1 -1 -1 -1 -1 -1 -1 -1  0 -1 -1 -1 -1 -1  0 -1\n",
      "  0 -1 -1  0  0 -1 -1  0 -1 -1 -1 -1 -1 -1 -1  0 -1 -1 -1  0 -1 -1 -1  0\n",
      " -1 -1 -1  0 -1  0  0 -1 -1 -1 -1  0 -1 -1  0 -1 -1  0  0 -1  0 -1 -1  1\n",
      "  0 -1 -1 -1 -1  0  0 -1  1  0 -1  0 -1 -1 -1 -1 -1  0  0 -1 -1 -1  0  0\n",
      "  0  0 -1 -1 -1 -1 -1 -1  0 -1  0 -1 -1  0  0 -1  0 -1 -1 -1 -1 -1 -1 -1\n",
      " -1  1 -1 -1 -1  0  0  0 -1  0  0 -1 -1  0], NumClusters: 2\n",
      "Combination (0.06210526315789474, 8) on iteration 13 of 180 has 1 clusters. Moving on\n",
      "Combination (0.06210526315789474, 10) on iteration 14 of 180 has 1 clusters. Moving on\n",
      "Combination (0.06210526315789474, 12) on iteration 15 of 180 has 1 clusters. Moving on\n",
      "Combination (0.06210526315789474, 14) on iteration 16 of 180 has 1 clusters. Moving on\n",
      "Combination (0.06210526315789474, 16) on iteration 17 of 180 has 1 clusters. Moving on\n",
      "Combination (0.06210526315789474, 18) on iteration 18 of 180 has 1 clusters. Moving on\n",
      "Index: 18, Score: 0.326399364436509, Labels: [-1  0  1  2  1 -1 -1  1  1 -1  1  1  1 -1  1  1 -1  0  1  1  0  3  3  1\n",
      " -1  1  1 -1  1  4  2  2 -1  1  0  1  5 -1 -1  1  1  0  2  1  1 -1 -1  2\n",
      "  1  3  1  2 -1  2  3  1  1 -1  2 -1 -1  2  3  6  1  4 -1  7  3  4  1  1\n",
      "  1  2  2  1  1  1  2  1 -1  0 -1 -1 -1 -1  3  1  8  1  9  1  1 -1  1  1\n",
      " 10  4  2  1  0  1  1  2  6 10 -1  1  2  1  1 -1  9  1  1  2  1  1 10  0\n",
      "  1 -1  1  4  2  1  1 -1  0  1 -1  1 11  3  7 -1  2  1  1 -1 -1  2  1  1\n",
      "  1  1  1  3  1  1  1  3  1 11  1 -1 -1  1  1 -1  1 -1  5 -1  6 -1 -1  1\n",
      " -1  0  8 -1 -1  1  1  1 -1  1  1 10 -1  1], NumClusters: 12\n",
      "Index: 19, Score: 0.29538762682178393, Labels: [-1  0 -1  3  1 -1 -1  1  1 -1  1  1  1 -1  1  1 -1  0  1  1  0  4  4  1\n",
      " -1  1  1 -1  1  2 -1  3 -1  1  0  1 -1 -1 -1  1  1  0  3  1  1 -1 -1  3\n",
      "  1  4  1  3 -1  3  4  1  1 -1  3 -1 -1  3  4 -1  1  2 -1 -1  4  2  1  1\n",
      "  1  3  5  1  1  1  5  1 -1  0 -1 -1 -1 -1  4  1 -1  1 -1  1  1 -1  1  1\n",
      " -1  2  3  1  0  1  1  5 -1 -1 -1  1  5  1  1 -1 -1  1  1  5  1  1 -1  0\n",
      "  1 -1  1  2  5  1  1 -1  0  1 -1  1 -1  4 -1 -1  5  1  1 -1 -1  5  1  1\n",
      "  1  1  1  4  1  1  1  4  1 -1  1 -1 -1  1  1 -1  1 -1 -1 -1 -1 -1 -1  1\n",
      " -1  0 -1 -1 -1  1  1  1 -1  1  1 -1 -1  1], NumClusters: 6\n",
      "Index: 20, Score: 0.20168595309694984, Labels: [-1  0 -1 -1  1 -1 -1  1  1 -1  1  1  1 -1  1  1 -1  0  1  1  0 -1 -1  1\n",
      " -1  1  1 -1  1 -1 -1 -1 -1  1  0  1 -1 -1 -1  1  1  0 -1  1  1 -1 -1 -1\n",
      "  1 -1  1 -1 -1 -1 -1  1  1 -1 -1 -1 -1 -1 -1 -1  1 -1 -1 -1 -1 -1  1  1\n",
      "  1 -1  2  1  1  1  2  1 -1  0 -1 -1 -1 -1 -1  1 -1  1 -1  1  1 -1  1  1\n",
      " -1 -1 -1  1  0  1  1  2 -1 -1 -1  1  2  1  1 -1 -1  1  1  2  1 -1 -1  0\n",
      "  1 -1  1 -1  2  1  1 -1  0  1 -1  1 -1 -1 -1 -1  2  1  1 -1 -1  2  1  1\n",
      "  1  1  1 -1  1  1  1 -1  1 -1  1 -1 -1  1  1 -1  1 -1 -1 -1 -1 -1 -1  1\n",
      " -1  0 -1 -1 -1  1  1  1 -1  1  1 -1 -1  1], NumClusters: 3\n",
      "Index: 21, Score: 0.11963289234058733, Labels: [-1  2 -1 -1  0 -1 -1  1  1 -1  0  0  0 -1  0  0 -1  2  0  0  2 -1 -1  0\n",
      " -1  0  0 -1  1 -1 -1 -1 -1  0  2  0 -1 -1 -1  0  0  2 -1  0  0 -1 -1 -1\n",
      "  0 -1  0 -1 -1 -1 -1  0  1 -1 -1 -1 -1 -1 -1 -1  0 -1 -1 -1 -1 -1  0  0\n",
      "  0 -1 -1  0  0  1 -1  0 -1  2 -1 -1 -1 -1 -1  0 -1  0 -1  0  0 -1  0  0\n",
      " -1 -1 -1  0  2  0  0 -1 -1 -1 -1  0 -1  0  0 -1 -1  0  0 -1  0 -1 -1  2\n",
      "  0 -1  1 -1 -1  0  0 -1  2  0 -1  0 -1 -1 -1 -1 -1  0  0 -1 -1 -1  0  0\n",
      "  0  0  1 -1  0  0  0 -1  0 -1  0 -1 -1  0  0 -1  0 -1 -1 -1 -1 -1 -1  0\n",
      " -1  2 -1 -1 -1  0  0  0 -1  0  0 -1 -1  0], NumClusters: 3\n",
      "Index: 22, Score: 0.17777837507584235, Labels: [-1  1 -1 -1  0 -1 -1 -1 -1 -1  0  0  0 -1  0  0 -1  1  0  0  1 -1 -1  0\n",
      " -1  0  0 -1 -1 -1 -1 -1 -1  0  1  0 -1 -1 -1  0 -1  1 -1  0  0 -1 -1 -1\n",
      "  0 -1 -1 -1 -1 -1 -1  0 -1 -1 -1 -1 -1 -1 -1 -1  0 -1 -1 -1 -1 -1  0 -1\n",
      "  0 -1 -1  0  0 -1 -1  0 -1  1 -1 -1 -1 -1 -1  0 -1 -1 -1  0 -1 -1 -1  0\n",
      " -1 -1 -1  0  1  0  0 -1 -1 -1 -1  0 -1  0  0 -1 -1  0  0 -1  0 -1 -1  1\n",
      "  0 -1 -1 -1 -1  0  0 -1  1  0 -1  0 -1 -1 -1 -1 -1  0  0 -1 -1 -1  0  0\n",
      "  0  0 -1 -1 -1  0 -1 -1  0 -1  0 -1 -1  0  0 -1  0 -1 -1 -1 -1 -1 -1  0\n",
      " -1  1 -1 -1 -1  0  0  0 -1  0  0 -1 -1  0], NumClusters: 2\n",
      "Combination (0.11421052631578947, 12) on iteration 24 of 180 has 1 clusters. Moving on\n",
      "Combination (0.11421052631578947, 14) on iteration 25 of 180 has 1 clusters. Moving on\n",
      "Combination (0.11421052631578947, 16) on iteration 26 of 180 has 1 clusters. Moving on\n",
      "Combination (0.11421052631578947, 18) on iteration 27 of 180 has 1 clusters. Moving on\n",
      "Index: 27, Score: 0.4038321865677772, Labels: [-1  0  1  2  1 -1 -1  1  1  3  1  1  1 -1  1  1 -1  0  1  1  0  4  4  1\n",
      " -1  1  1 -1  1  3  2  2 -1  1  0  1  2 -1 -1  1  1  0  2  1  1 -1 -1  2\n",
      "  1  4  1  2 -1  2  4  1  1 -1  2 -1 -1  2  4  2  1  3 -1  2  4  3  1  1\n",
      "  1  2  2  1  1  1  2  1 -1  0 -1 -1 -1  1  4  1  5  1  6  1  1 -1  1  1\n",
      "  7  3  2  1  0  1  1  2  2  7  1  1  2  1  1 -1  6  1  1  2  1  1  7  0\n",
      "  1 -1  1  3  2  1  1  3  0  1 -1  1  2  4  2 -1  2  1  1 -1 -1  2  1  1\n",
      "  1  1  1  4  1  1  1  4  1  2  1 -1 -1  1  1 -1  1 -1  2  2  2 -1 -1  1\n",
      " -1  0  5 -1  2  1  1  1 -1  1  1  7 -1  1], NumClusters: 8\n",
      "Index: 28, Score: 0.4094289248014847, Labels: [-1  0  2  1  2 -1 -1  2  2  3  2  2  2 -1  2  2 -1  0  2  2  0  4  4  2\n",
      " -1  2  2 -1  2  3  5  1 -1  2  0  2  5 -1 -1  2  2  0  1  2  2 -1 -1  1\n",
      "  2  4  2  1 -1  1  4  2  2 -1  1 -1 -1  1  4  5  2  3 -1  1  4  3  2  2\n",
      "  2  1  1  2  2  2  1  2 -1  0 -1 -1 -1  2  4  2 -1  2 -1  2  2 -1  2  2\n",
      "  6  3  1  2  0  2  2  1  5  6  2  2  1  2  2 -1 -1  2  2  1  2  2  6  0\n",
      "  2 -1  2  3  1  2  2  3  0  2 -1  2  1  4 -1 -1  1  2  2 -1 -1  1  2  2\n",
      "  2  2  2  4  2  2  2  4  2  1  2 -1 -1  2  2 -1  2 -1  5  1  5 -1 -1  2\n",
      " -1  0 -1 -1  5  2  2  2 -1  2  2  6 -1  2], NumClusters: 7\n",
      "Index: 29, Score: 0.37955031300988357, Labels: [-1  0  1  3  1 -1 -1  1  1  5  1  1  1 -1  1  1 -1  0  1  1  0  2  2  1\n",
      " -1  1  1 -1  1  5  4  3 -1  1  0  1  4 -1 -1  1  1  0  3  1  1 -1 -1  3\n",
      "  1  2  1  3 -1  3  2  1  1 -1  3 -1 -1  3  2  4  1  5 -1  3  2  5  1  1\n",
      "  1  3  3  1  1  1  3  1 -1  0 -1 -1 -1  1  2  1 -1  1 -1  1  1 -1  1  1\n",
      " -1  5  3  1  0  1  1  3  4 -1  1  1  3  1  1 -1 -1  1  1  3  1  1 -1  0\n",
      "  1 -1  1  5  3  1  1 -1  0  1 -1  1  3  2 -1 -1  3  1  1 -1 -1  3  1  1\n",
      "  1  1  1  2  1  1  1  2  1  3  1 -1 -1  1  1 -1  1 -1  4  3  4 -1 -1  1\n",
      " -1  0 -1 -1  4  1  1  1 -1  1  1 -1 -1  1], NumClusters: 6\n",
      "Index: 30, Score: 0.2840589104867428, Labels: [-1  0  1  2  1 -1 -1  1  1 -1  1  1  1 -1  1  1 -1  0  1  1  0  4  4  1\n",
      " -1  1  1 -1  1 -1 -1  2 -1  1  0  1 -1 -1 -1  1  1  0  2  1  1 -1 -1  2\n",
      "  1  4  1  2 -1  2  4  1  1 -1 -1 -1 -1  2  4 -1  1 -1 -1 -1  4 -1  1  1\n",
      "  1  2  3  1  1  1  3  1 -1  0 -1 -1 -1  1  4  1 -1  1 -1  1  1 -1  1  1\n",
      " -1 -1  3  1  0  1  1  3 -1 -1  1  1  3  1  1 -1 -1  1  1  3  1  1 -1  0\n",
      "  1 -1  1 -1  3  1  1 -1  0  1 -1  1  2  4 -1 -1  3  1  1 -1 -1 -1  1  1\n",
      "  1  1  1  4  1  1  1  4  1 -1  1 -1 -1  1  1 -1  1 -1 -1 -1 -1 -1 -1  1\n",
      " -1  0 -1 -1 -1  1  1  1 -1  1  1 -1 -1  1], NumClusters: 5\n",
      "Index: 31, Score: 0.32305891777255213, Labels: [-1  1  0 -1  0 -1 -1  0  0 -1  0  0  0 -1  0  0 -1  1  0  0  1 -1 -1  0\n",
      " -1  0  0 -1  0 -1 -1 -1 -1  0  1  0 -1 -1 -1  0  0  1 -1  0  0 -1 -1 -1\n",
      "  0 -1  0 -1 -1 -1 -1  0  0 -1 -1 -1 -1 -1 -1 -1  0 -1 -1 -1 -1 -1  0  0\n",
      "  0 -1 -1  0  0  0 -1  0 -1  1 -1 -1 -1  0 -1  0 -1  0 -1  0  0 -1  0  0\n",
      " -1 -1 -1  0  1  0  0 -1 -1 -1  0  0 -1  0  0 -1 -1  0  0 -1  0  0 -1  1\n",
      "  0 -1  0 -1 -1  0  0 -1  1  0 -1  0 -1 -1 -1 -1 -1  0  0 -1 -1 -1  0  0\n",
      "  0  0  0 -1  0  0  0 -1  0 -1  0 -1 -1  0  0 -1  0 -1 -1 -1 -1 -1 -1  0\n",
      " -1  1 -1 -1 -1  0  0  0 -1  0  0 -1 -1  0], NumClusters: 2\n",
      "Combination (0.16631578947368422, 12) on iteration 33 of 180 has 1 clusters. Moving on\n",
      "Combination (0.16631578947368422, 14) on iteration 34 of 180 has 1 clusters. Moving on\n",
      "Combination (0.16631578947368422, 16) on iteration 35 of 180 has 1 clusters. Moving on\n",
      "Combination (0.16631578947368422, 18) on iteration 36 of 180 has 1 clusters. Moving on\n",
      "Index: 36, Score: 0.39673163092262226, Labels: [ 0  1  2  3  2 -1 -1  2  2  0  2  2  2 -1  2  2 -1  1  2  2  1  4  4  2\n",
      " -1  2  2 -1  2  0  3  3 -1  2  1  2  3 -1  0  2  2  1  3  2  2 -1  5  3\n",
      "  2  4  2  3  6  3  4  2  2  5  3 -1 -1  3  4  3  2  0 -1  3  4  0  2  2\n",
      "  2  3  3  2  2  2  3  2 -1  1 -1 -1  6  2  4  2  7  2  8  2  2  0  2  2\n",
      "  1  0  3  2  1  2  2  3  3  1  2  2  3  2  2  4  8  2  2  3  2  2  1  1\n",
      "  2 -1  2  0  3  2  2  0  1  2 -1  2  3  4  3 -1  3  2  2 -1 -1  3  2  2\n",
      "  2  2  2  4  2  2  2  4  2  3  2 -1 -1  2  2 -1  2 -1  3  3  3 -1 -1  2\n",
      " -1  1  7  6  3  2  2  2 -1  2  2  1 -1  2], NumClusters: 9\n",
      "Index: 37, Score: 0.435623317045788, Labels: [ 0  1  2  3  2 -1 -1  2  2  0  2  2  2 -1  2  2 -1  1  2  2  1  4  4  2\n",
      " -1  2  2 -1  2  0  3  3 -1  2  1  2  3 -1  0  2  2  1  3  2  2 -1 -1  3\n",
      "  2  4  2  3 -1  3  4  2  2 -1  3 -1 -1  3  4  3  2  0 -1  3  4  0  2  2\n",
      "  2  3  3  2  2  2  3  2 -1  1 -1 -1 -1  2  4  2 -1  2 -1  2  2  0  2  2\n",
      "  1  0  3  2  1  2  2  3  3  1  2  2  3  2  2  4 -1  2  2  3  2  2  1  1\n",
      "  2 -1  2  0  3  2  2  0  1  2 -1  2  3  4  3 -1  3  2  2 -1 -1  3  2  2\n",
      "  2  2  2  4  2  2  2  4  2  3  2 -1 -1  2  2 -1  2 -1  3  3  3 -1 -1  2\n",
      " -1  1 -1 -1  3  2  2  2 -1  2  2  1 -1  2], NumClusters: 5\n",
      "Index: 38, Score: 0.42538411366844364, Labels: [ 3  0  1  2  1 -1 -1  1  1  3  1  1  1 -1  1  1 -1  0  1  1  0  4  4  1\n",
      " -1  1  1 -1  1  3  2  2 -1  1  0  1  2 -1  3  1  1  0  2  1  1 -1 -1  2\n",
      "  1  4  1  2 -1  2  4  1  1 -1  2 -1 -1  2  4  2  1  3 -1  2  4  3  1  1\n",
      "  1  2  2  1  1  1  2  1 -1  0 -1 -1 -1  1  4  1 -1  1 -1  1  1  3  1  1\n",
      "  0  3  2  1  0  1  1  2  2  0  1  1  2  1  1  4 -1  1  1  2  1  1 -1  0\n",
      "  1 -1  1  3  2  1  1  3  0  1 -1  1  2  4  2 -1  2  1  1 -1 -1  2  1  1\n",
      "  1  1  1  4  1  1  1  4  1  2  1 -1 -1  1  1 -1  1 -1  2  2  2 -1 -1  1\n",
      " -1  0 -1 -1  2  1  1  1 -1  1  1 -1 -1  1], NumClusters: 5\n",
      "Index: 39, Score: 0.40735246882924825, Labels: [ 4  0  1  2  1 -1 -1  1  1  4  1  1  1 -1  1  1 -1  0  1  1  0  3  3  1\n",
      " -1  1  1 -1  1  4  2  2 -1  1  0  1  2 -1 -1  1  1  0  2  1  1 -1 -1  2\n",
      "  1  3  1  2 -1  2  3  1  1 -1  2 -1 -1  2  3  2  1  4 -1  2  3  4  1  1\n",
      "  1  2  2  1  1  1  2  1 -1  0 -1 -1 -1  1  3  1 -1  1 -1  1  1 -1  1  1\n",
      "  0  4  2  1  0  1  1  2  2  0  1  1  2  1  1 -1 -1  1  1  2  1  1 -1  0\n",
      "  1 -1  1  4  2  1  1  4  0  1 -1  1  2  3  2 -1  2  1  1 -1 -1  2  1  1\n",
      "  1  1  1  3  1  1  1  3  1  2  1 -1 -1  1  1 -1  1 -1  2  2  2 -1 -1  1\n",
      " -1  0 -1 -1 -1  1  1  1 -1  1  1 -1 -1  1], NumClusters: 5\n",
      "Index: 40, Score: 0.3184290282363453, Labels: [-1  0  1  2  1 -1 -1  1  1 -1  1  1  1 -1  1  1 -1  0  1  1  0 -1 -1  1\n",
      " -1  1  1 -1  1 -1 -1  2 -1  1  0  1 -1 -1 -1  1  1  0  2  1  1 -1 -1  2\n",
      "  1 -1  1  2 -1  2 -1  1  1 -1  2 -1 -1  2 -1 -1  1 -1 -1  2 -1 -1  1  1\n",
      "  1  2  3  1  1  1  3  1 -1  0 -1 -1 -1  1 -1  1 -1  1 -1  1  1 -1  1  1\n",
      "  0 -1  3  1  0  1  1  3 -1  0  1  1  3  1  1 -1 -1  1  1  3  1  1 -1  0\n",
      "  1 -1  1 -1  3  1  1 -1  0  1 -1  1  2 -1  2 -1  3  1  1 -1 -1 -1  1  1\n",
      "  1  1  1 -1  1  1  1 -1  1  2  1 -1 -1  1  1 -1  1 -1 -1 -1 -1 -1 -1  1\n",
      " -1  0 -1 -1 -1  1  1  1 -1  1  1 -1 -1  1], NumClusters: 4\n",
      "Index: 41, Score: 0.29219658804790355, Labels: [-1  1  0 -1  0 -1 -1  0  0 -1  0  0  0 -1  0  0 -1  1  0  0  1 -1 -1  0\n",
      " -1  0  0 -1  0 -1 -1 -1 -1  0  1  0 -1 -1 -1  0  0  1 -1  0  0 -1 -1  2\n",
      "  0 -1  0 -1 -1 -1 -1  0  0 -1  2 -1 -1  2 -1 -1  0 -1 -1  2 -1 -1  0  0\n",
      "  0 -1  2  0  0  0  2  0 -1  1 -1 -1 -1  0 -1  0 -1  0 -1  0  0 -1  0  0\n",
      "  1 -1  2  0  1  0  0  2 -1  1  0  0  2  0  0 -1 -1  0  0  2  0  0 -1  1\n",
      "  0 -1  0 -1  2  0  0 -1  1  0 -1  0 -1 -1  2 -1 -1  0  0 -1 -1 -1  0  0\n",
      "  0  0  0 -1  0  0  0 -1  0 -1  0 -1 -1  0  0 -1  0 -1 -1 -1 -1 -1 -1  0\n",
      " -1  1 -1 -1 -1  0  0  0 -1  0  0 -1 -1  0], NumClusters: 3\n",
      "Combination (0.21842105263157896, 14) on iteration 43 of 180 has 1 clusters. Moving on\n",
      "Combination (0.21842105263157896, 16) on iteration 44 of 180 has 1 clusters. Moving on\n",
      "Combination (0.21842105263157896, 18) on iteration 45 of 180 has 1 clusters. Moving on\n",
      "Index: 45, Score: -0.30630443690394216, Labels: [ 0  0  0  0  0 -1 -1  0  0  0  0  0  0 -1  0  0 -1  0  0  0  0  0  0  0\n",
      " -1  0  0  1  0  0  0  0 -1  0  0  0  0 -1  0  0  0  0  0  0  0  1  2  0\n",
      "  0  0  0  0  0  0  0  0  0  2  0 -1 -1  0  0  0  0  0 -1  0  0  0  0  0\n",
      "  0  0  0  0  0  0  0  0 -1  0 -1 -1  0  0  0  0  3  0  4  0  0  0  0  0\n",
      "  0  0  0  0  0  0  0  0  0  0  0  0  0  0  0  0  4  0  0  0  0  0  0  0\n",
      "  0 -1  0  0  0  0  0  0  0  0 -1  0  0  0  0 -1  0  0  0 -1 -1  0  0  0\n",
      "  0  0  0  0  0  0  0  0  0  0  0 -1 -1  0  0 -1  0 -1  0  0  0 -1 -1  0\n",
      " -1  0  3  0  0  0  0  0  3  0  0  0 -1  0], NumClusters: 5\n",
      "Combination (0.2705263157894737, 4) on iteration 47 of 180 has 1 clusters. Moving on\n",
      "Index: 47, Score: 0.33893439590828756, Labels: [ 0  1  2  2  2 -1 -1  2  2  0  2  2  2 -1  2  2 -1  1  2  2  1  2  2  2\n",
      " -1  2  2 -1  2  0  2  2 -1  2  1  2  2 -1  0  2  2  1  2  2  2 -1 -1  2\n",
      "  2  2  2  2 -1  2  2  2  2 -1  2 -1 -1  2  2  2  2  0 -1  2  2  0  2  2\n",
      "  2  2  2  2  2  2  2  2 -1  1 -1 -1 -1  2  2  2 -1  2 -1  2  2  0  2  2\n",
      "  1  0  2  2  1  2  2  2  2  1  2  2  2  2  2  2 -1  2  2  2  2  2  1  1\n",
      "  2 -1  2  0  2  2  2  0  1  2 -1  2  2  2  2 -1  2  2  2 -1 -1  2  2  2\n",
      "  2  2  2  2  2  2  2  2  2  2  2 -1 -1  2  2 -1  2 -1  2  2  2 -1 -1  2\n",
      " -1  1 -1  2  2  2  2  2 -1  2  2  0 -1  2], NumClusters: 3\n",
      "Index: 48, Score: 0.40932851276957155, Labels: [ 0  1  2  3  2 -1 -1  2  2  0  2  2  2 -1  2  2 -1  1  2  2  1  4  3  2\n",
      " -1  2  2 -1  2  0  3  3 -1  2  1  2  3 -1  0  2  2  1  3  2  2 -1 -1  3\n",
      "  2  4  2  3 -1  3  4  2  2 -1  3 -1 -1  3  3  3  2  0 -1  3  4  0  2  2\n",
      "  2  3  3  2  2  2  3  2 -1  1 -1 -1 -1  2  4  2 -1  2 -1  2  2  0  2  2\n",
      "  1  0  3  2  1  2  2  3  3  1  2  2  3  2  2  2 -1  2  2  3  2  2  1  1\n",
      "  2 -1  2  0  3  2  2  0  1  2 -1  2  3  4  3 -1  3  2  2 -1 -1  3  2  2\n",
      "  2  2  2  4  2  2  2  4  2  3  2 -1 -1  2  2 -1  2 -1  3  3  3 -1 -1  2\n",
      " -1  1 -1  2  3  2  2  2 -1  2  2  0 -1  2], NumClusters: 5\n",
      "Index: 49, Score: 0.37883184595056346, Labels: [-1  0  1  2  1 -1 -1  1  1 -1  1  1  1 -1  1  1 -1  0  1  1  0  3  3  1\n",
      " -1  1  1 -1  1 -1  2  2 -1  1  0  1  2 -1 -1  1  1  0  2  1  1 -1 -1  2\n",
      "  1  3  1  2 -1  2  3  1  1 -1  2 -1 -1  2  3  2  1 -1 -1  2  3 -1  1  1\n",
      "  1  2  2  1  1  1  2  1 -1  0 -1 -1 -1  1  3  1 -1  1 -1  1  1 -1  1  1\n",
      "  0 -1  2  1  0  1  1  2  2  0  1  1  2  1  1  1 -1  1  1  2  1  1 -1  0\n",
      "  1 -1  1 -1  2  1  1 -1  0  1 -1  1  2  3  2 -1  2  1  1 -1 -1  2  1  1\n",
      "  1  1  1  3  1  1  1  3  1  2  1 -1 -1  1  1 -1  1 -1 -1  2  2 -1 -1  1\n",
      " -1  0 -1  1 -1  1  1  1 -1  1  1 -1 -1  1], NumClusters: 4\n",
      "Index: 50, Score: 0.4108900198658941, Labels: [-1  1  0  2  0 -1 -1  0  0 -1  0  0  0 -1  0  0 -1  1  0  0  1 -1 -1  0\n",
      " -1  0  0 -1  0 -1  2  2 -1  0  1  0  2 -1 -1  0  0  1  2  0  0 -1 -1  2\n",
      "  0 -1  0  2 -1  2 -1  0  0 -1  2 -1 -1  2 -1  2  0 -1 -1  2 -1 -1  0  0\n",
      "  0  2  2  0  0  0  2  0 -1  1 -1 -1 -1  0 -1  0 -1  0 -1  0  0 -1  0  0\n",
      "  1 -1  2  0  1  0  0  2  2  1  0  0  2  0  0  0 -1  0  0  2  0  0 -1  1\n",
      "  0 -1  0 -1  2  0  0 -1  1  0 -1  0  2 -1  2 -1  2  0  0 -1 -1  2  0  0\n",
      "  0  0  0 -1  0  0  0 -1  0  2  0 -1 -1  0  0 -1  0 -1 -1 -1  2 -1 -1  0\n",
      " -1  1 -1  0 -1  0  0  0 -1  0  0 -1 -1  0], NumClusters: 3\n",
      "Index: 51, Score: 0.2734393736420793, Labels: [-1 -1  0 -1  0 -1 -1  0  0 -1  0  0  0 -1  0  0 -1 -1  0  0 -1 -1 -1  0\n",
      " -1  0  0 -1  0 -1 -1 -1 -1  0 -1  0 -1 -1 -1  0  0 -1  1  0  0 -1 -1  1\n",
      "  0 -1  0  1 -1  1 -1  0  0 -1  1 -1 -1  1 -1 -1  0 -1 -1  1 -1 -1  0  0\n",
      "  0 -1  1  0  0  0  1  0 -1 -1 -1 -1 -1  0 -1  0 -1  0 -1  0  0 -1  0  0\n",
      " -1 -1  1  0 -1  0  0  1 -1 -1  0  0  1  0  0  0 -1  0  0  1  0  0 -1 -1\n",
      "  0 -1  0 -1  1  0  0 -1 -1  0 -1  0 -1 -1  1 -1  1  0  0 -1 -1 -1  0  0\n",
      "  0  0  0 -1  0  0  0 -1  0 -1  0 -1 -1  0  0 -1  0 -1 -1 -1 -1 -1 -1  0\n",
      " -1 -1 -1  0 -1  0  0  0 -1  0  0 -1 -1  0], NumClusters: 2\n",
      "Combination (0.2705263157894737, 16) on iteration 53 of 180 has 1 clusters. Moving on\n",
      "Combination (0.2705263157894737, 18) on iteration 54 of 180 has 1 clusters. Moving on\n",
      "Index: 54, Score: -0.2705196856560734, Labels: [ 0  0  0  0  0 -1 -1  0  0  0  0  0  0 -1  0  0 -1  0  0  0  0  0  0  0\n",
      " -1  0  0  1  0  0  0  0 -1  0  0  0  0 -1  0  0  0  0  0  0  0  1  2  0\n",
      "  0  0  0  0  0  0  0  0  0  2  0 -1 -1  0  0  0  0  0 -1  0  0  0  0  0\n",
      "  0  0  0  0  0  0  0  0  3  0 -1 -1  0  0  0  0  4  0  5  0  0  0  0  0\n",
      "  0  0  0  0  0  0  0  0  0  0  0  0  0  0  0  0  5  0  0  0  0  0  0  0\n",
      "  0  0  0  0  0  0  0  0  0  0 -1  0  0  0  0 -1  0  0  0  6 -1  0  0  0\n",
      "  0  0  0  0  0  0  0  0  0  0  0 -1 -1  0  0 -1  0  6  0  0  0  7  7  0\n",
      " -1  0  4  0  0  0  0  0  4  0  0  0  3  0], NumClusters: 8\n",
      "Combination (0.32263157894736844, 4) on iteration 56 of 180 has 1 clusters. Moving on\n",
      "Index: 56, Score: 0.4105647905313856, Labels: [ 0  0  1  1  1 -1 -1  1  1  0  1  1  1 -1  1  1 -1  0  1  1  0  1  1  1\n",
      " -1  1  1 -1  1  0  1  1 -1  1  0  1  1 -1  0  1  1  0  1  1  1 -1 -1  1\n",
      "  1  1  1  1 -1  1  1  1  1 -1  1 -1 -1  1  1  1  1  0 -1  1  1  0  1  1\n",
      "  1  1  1  1  1  1  1  1 -1  0 -1 -1 -1  1  1  1 -1  1 -1  1  1  0  1  1\n",
      "  0  0  1  1  0  1  1  1  1  0  1  1  1  1  1  1 -1  1  1  1  1  1  0  0\n",
      "  1  1  1  0  1  1  1  0  0  1 -1  1  1  1  1 -1  1  1  1 -1 -1  1  1  1\n",
      "  1  1  1  1  1  1  1  1  1  1  1 -1 -1  1  1 -1  1 -1  1  1  1 -1 -1  1\n",
      " -1  0 -1  1  1  1  1  1 -1  1  1  0 -1  1], NumClusters: 2\n",
      "Index: 57, Score: 0.4105647905313856, Labels: [ 0  0  1  1  1 -1 -1  1  1  0  1  1  1 -1  1  1 -1  0  1  1  0  1  1  1\n",
      " -1  1  1 -1  1  0  1  1 -1  1  0  1  1 -1  0  1  1  0  1  1  1 -1 -1  1\n",
      "  1  1  1  1 -1  1  1  1  1 -1  1 -1 -1  1  1  1  1  0 -1  1  1  0  1  1\n",
      "  1  1  1  1  1  1  1  1 -1  0 -1 -1 -1  1  1  1 -1  1 -1  1  1  0  1  1\n",
      "  0  0  1  1  0  1  1  1  1  0  1  1  1  1  1  1 -1  1  1  1  1  1  0  0\n",
      "  1  1  1  0  1  1  1  0  0  1 -1  1  1  1  1 -1  1  1  1 -1 -1  1  1  1\n",
      "  1  1  1  1  1  1  1  1  1  1  1 -1 -1  1  1 -1  1 -1  1  1  1 -1 -1  1\n",
      " -1  0 -1  1  1  1  1  1 -1  1  1  0 -1  1], NumClusters: 2\n",
      "Index: 58, Score: 0.34953229486136556, Labels: [ 0  1  2  2  2 -1 -1  2  2  0  2  2  2 -1  2  2 -1  1  2  2  1  2  2  2\n",
      " -1  2  2 -1  2  0  2  2 -1  2  1  2  2 -1  0  2  2  1  2  2  2 -1 -1  2\n",
      "  2  2  2  2 -1  2  2  2  2 -1  2 -1 -1  2  2  2  2  0 -1  2  2  0  2  2\n",
      "  2  2  2  2  2  2  2  2 -1  1 -1 -1 -1  2  2  2 -1  2 -1  2  2  0  2  2\n",
      "  1  0  2  2  1  2  2  2  2  1  2  2  2  2  2  2 -1  2  2  2  2  2  0  1\n",
      "  2  2  2  0  2  2  2  0  1  2 -1  2  2  2  2 -1  2  2  2 -1 -1  2  2  2\n",
      "  2  2  2  2  2  2  2  2  2  2  2 -1 -1  2  2 -1  2 -1  2  2  2 -1 -1  2\n",
      " -1  1 -1  2  2  2  2  2 -1  2  2  0 -1  2], NumClusters: 3\n",
      "Index: 59, Score: 0.4504004954480737, Labels: [-1  2  0  1  0 -1 -1  0  0 -1  0  0  0 -1  0  0 -1  2  0  0  2 -1 -1  0\n",
      " -1  0  0 -1  0 -1  1  1 -1  0  2  0  1 -1 -1  0  0  2  1  0  0 -1 -1  1\n",
      "  0 -1  0  1 -1  1  0  0  0 -1  1 -1 -1  1 -1  1  0 -1 -1  1  0 -1  0  0\n",
      "  0  1  1  0  0  0  1  0 -1  2 -1 -1 -1  0  0  0 -1  0 -1  0  0 -1  0  0\n",
      "  2 -1  1  0  2  0  0  1  1  2  0  0  1  0  0  0 -1  0  0  1  0  0  2  2\n",
      "  0  0  0 -1  1  0  0 -1  2  0 -1  0  1  0  1 -1  1  0  0 -1 -1  1  0  0\n",
      "  0  0  0 -1  0  0  0  0  0  1  0 -1 -1  0  0 -1  0 -1  1  1  1 -1 -1  0\n",
      " -1  2 -1  0  1  0  0  0 -1  0  0 -1 -1  0], NumClusters: 3\n",
      "Index: 60, Score: 0.3767931438159184, Labels: [-1 -1  0  1  0 -1 -1  0  0 -1  0  0  0 -1  0  0 -1 -1  0  0 -1 -1 -1  0\n",
      " -1  0  0 -1  0 -1  1  1 -1  0 -1  0  1 -1 -1  0  0 -1  1  0  0 -1 -1  1\n",
      "  0 -1  0  1 -1  1 -1  0  0 -1  1 -1 -1  1 -1  1  0 -1 -1  1 -1 -1  0  0\n",
      "  0  1  1  0  0  0  1  0 -1 -1 -1 -1 -1  0 -1  0 -1  0 -1  0  0 -1  0  0\n",
      " -1 -1  1  0 -1  0  0  1  1 -1  0  0  1  0  0  0 -1  0  0  1  0  0 -1 -1\n",
      "  0  0  0 -1  1  0  0 -1 -1  0 -1  0  1 -1  1 -1  1  0  0 -1 -1  1  0  0\n",
      "  0  0  0 -1  0  0  0 -1  0  1  0 -1 -1  0  0 -1  0 -1  1  1  1 -1 -1  0\n",
      " -1 -1 -1  0  1  0  0  0 -1  0  0 -1 -1  0], NumClusters: 2\n",
      "Index: 61, Score: 0.31129149374211423, Labels: [-1 -1  0  1  0 -1 -1  0  0 -1  0  0  0 -1  0  0 -1 -1  0  0 -1 -1 -1  0\n",
      " -1  0  0 -1  0 -1 -1  1 -1  0 -1  0 -1 -1 -1  0  0 -1  1  0  0 -1 -1  1\n",
      "  0 -1  0  1 -1  1 -1  0  0 -1  1 -1 -1  1 -1 -1  0 -1 -1  1 -1 -1  0  0\n",
      "  0  1  1  0  0  0  1  0 -1 -1 -1 -1 -1  0 -1  0 -1  0 -1  0  0 -1  0  0\n",
      " -1 -1  1  0 -1  0  0  1 -1 -1  0  0  1  0  0  0 -1  0  0  1  0  0 -1 -1\n",
      "  0  0  0 -1  1  0  0 -1 -1  0 -1  0  1 -1  1 -1  1  0  0 -1 -1 -1  0  0\n",
      "  0  0  0 -1  0  0  0 -1  0 -1  0 -1 -1  0  0 -1  0 -1 -1 -1 -1 -1 -1  0\n",
      " -1 -1 -1  0 -1  0  0  0 -1  0  0 -1 -1  0], NumClusters: 2\n",
      "Combination (0.32263157894736844, 18) on iteration 63 of 180 has 1 clusters. Moving on\n",
      "Index: 63, Score: -0.1903259182522603, Labels: [ 0  0  0  0  0 -1 -1  0  0  0  0  0  0 -1  0  0  1  0  0  0  0  0  0  0\n",
      " -1  0  0  2  0  0  0  0 -1  0  0  0  0 -1  0  0  0  0  0  0  0  2  3  0\n",
      "  0  0  0  0  0  0  0  0  0  3  0 -1 -1  0  0  0  0  0 -1  0  0  0  0  0\n",
      "  0  0  0  0  0  0  0  0  1  0 -1 -1  0  0  0  0  0  0  4  0  0  0  0  0\n",
      "  0  0  0  0  0  0  0  0  0  0  0  0  0  0  0  0  4  0  0  0  0  0  0  0\n",
      "  0  0  0  0  0  0  0  0  0  0 -1  0  0  0  0  0  0  0  0  5 -1  0  0  0\n",
      "  0  0  0  0  0  0  0  0  0  0  0 -1 -1  0  0 -1  0  5  0  0  0  6  6  0\n",
      " -1  0  0  0  0  0  0  0  0  0  0  0  1  0], NumClusters: 7\n",
      "Combination (0.37473684210526315, 4) on iteration 65 of 180 has 1 clusters. Moving on\n",
      "Combination (0.37473684210526315, 6) on iteration 66 of 180 has 1 clusters. Moving on\n",
      "Combination (0.37473684210526315, 8) on iteration 67 of 180 has 1 clusters. Moving on\n",
      "Combination (0.37473684210526315, 10) on iteration 68 of 180 has 1 clusters. Moving on\n",
      "Index: 68, Score: 0.5282943638793979, Labels: [ 0  0  1  2  1 -1 -1  1  1  0  1  1  1 -1  1  1 -1  0  1  1  0  2  2  1\n",
      " -1  1  1 -1  1  0  2  2 -1  1  0  1  2 -1  2  1  1  0  2  1  1 -1 -1  2\n",
      "  1  2  1  2 -1  2  1  1  1 -1  2 -1 -1  2  2  2  1  0 -1  2  1  0  1  1\n",
      "  1  2  2  1  1  1  2  1 -1  0 -1 -1  1  1  1  1  2  1 -1  1  1  0  1  1\n",
      "  0  0  2  1  0  1  1  2  2  0  1  1  2  1  1  1 -1  1  1  2  1  1  0  0\n",
      "  1  1  1  0  2  1  1  0  0  1 -1  1  2  1  2 -1  2  1  1 -1 -1  2  1  1\n",
      "  1  1  1  2  1  1  1  1  1  2  1 -1 -1  1  1 -1  1 -1  2  2  2 -1 -1  1\n",
      " -1  0  2  1  2  1  1  1 -1  1  1  0 -1  1], NumClusters: 3\n",
      "Index: 69, Score: 0.47455727489785826, Labels: [-1  2  0  1  0 -1 -1  0  0 -1  0  0  0 -1  0  0 -1  2  0  0  2 -1 -1  0\n",
      " -1  0  0 -1  0 -1  1  1 -1  0  2  0  1 -1  1  0  0  2  1  0  0 -1 -1  1\n",
      "  0 -1  0  1 -1  1  0  0  0 -1  1 -1 -1  1 -1  1  0 -1 -1  1  0 -1  0  0\n",
      "  0  1  1  0  0  0  1  0 -1  2 -1 -1  0  0  0  0 -1  0 -1  0  0 -1  0  0\n",
      "  2  2  1  0  2  0  0  1  1  2  0  0  1  0  0  0 -1  0  0  1  0  0  2  2\n",
      "  0  0  0 -1  1  0  0 -1  2  0 -1  0  1  0  1 -1  1  0  0 -1 -1  1  0  0\n",
      "  0  0  0 -1  0  0  0  0  0  1  0 -1 -1  0  0 -1  0 -1  1  1  1 -1 -1  0\n",
      " -1  2 -1  0  1  0  0  0 -1  0  0  2 -1  0], NumClusters: 3\n",
      "Index: 70, Score: 0.3728512650287362, Labels: [-1 -1  0  1  0 -1 -1  0  0 -1  0  0  0 -1  0  0 -1 -1  0  0 -1 -1 -1  0\n",
      " -1  0  0 -1  0 -1  1  1 -1  0 -1  0  1 -1 -1  0  0 -1  1  0  0 -1 -1  1\n",
      "  0 -1  0  1 -1  1 -1  0  0 -1  1 -1 -1  1 -1  1  0 -1 -1  1 -1 -1  0  0\n",
      "  0  1  1  0  0  0  1  0 -1 -1 -1 -1  0  0 -1  0 -1  0 -1  0  0 -1  0  0\n",
      " -1 -1  1  0 -1  0  0  1  1 -1  0  0  1  0  0  0 -1  0  0  1  0  0 -1 -1\n",
      "  0  0  0 -1  1  0  0 -1 -1  0 -1  0  1 -1  1 -1  1  0  0 -1 -1  1  0  0\n",
      "  0  0  0 -1  0  0  0 -1  0  1  0 -1 -1  0  0 -1  0 -1 -1  1  1 -1 -1  0\n",
      " -1 -1 -1  0 -1  0  0  0 -1  0  0 -1 -1  0], NumClusters: 2\n",
      "Index: 71, Score: 0.33414700394847713, Labels: [-1 -1  0  1  0 -1 -1  0  0 -1  0  0  0 -1  0  0 -1 -1  0  0 -1 -1 -1  0\n",
      " -1  0  0 -1  0 -1 -1  1 -1  0 -1  0 -1 -1 -1  0  0 -1  1  0  0 -1 -1  1\n",
      "  0 -1  0  1 -1  1 -1  0  0 -1  1 -1 -1  1 -1 -1  0 -1 -1  1 -1 -1  0  0\n",
      "  0  1  1  0  0  0  1  0 -1 -1 -1 -1  0  0 -1  0 -1  0 -1  0  0 -1  0  0\n",
      " -1 -1  1  0 -1  0  0  1 -1 -1  0  0  1  0  0  0 -1  0  0  1  0  0 -1 -1\n",
      "  0  0  0 -1  1  0  0 -1 -1  0 -1  0  1 -1  1 -1  1  0  0 -1 -1  1  0  0\n",
      "  0  0  0 -1  0  0  0 -1  0  1  0 -1 -1  0  0 -1  0 -1 -1 -1 -1 -1 -1  0\n",
      " -1 -1 -1  0 -1  0  0  0 -1  0  0 -1 -1  0], NumClusters: 2\n",
      "Index: 72, Score: -0.1903259182522603, Labels: [ 0  0  0  0  0 -1 -1  0  0  0  0  0  0 -1  0  0  1  0  0  0  0  0  0  0\n",
      " -1  0  0  2  0  0  0  0 -1  0  0  0  0 -1  0  0  0  0  0  0  0  2  3  0\n",
      "  0  0  0  0  0  0  0  0  0  3  0 -1 -1  0  0  0  0  0 -1  0  0  0  0  0\n",
      "  0  0  0  0  0  0  0  0  1  0 -1 -1  0  0  0  0  0  0  4  0  0  0  0  0\n",
      "  0  0  0  0  0  0  0  0  0  0  0  0  0  0  0  0  4  0  0  0  0  0  0  0\n",
      "  0  0  0  0  0  0  0  0  0  0 -1  0  0  0  0  0  0  0  0  5 -1  0  0  0\n",
      "  0  0  0  0  0  0  0  0  0  0  0 -1 -1  0  0 -1  0  5  0  0  0  6  6  0\n",
      " -1  0  0  0  0  0  0  0  0  0  0  0  1  0], NumClusters: 7\n",
      "Combination (0.4268421052631579, 4) on iteration 74 of 180 has 1 clusters. Moving on\n",
      "Combination (0.4268421052631579, 6) on iteration 75 of 180 has 1 clusters. Moving on\n",
      "Combination (0.4268421052631579, 8) on iteration 76 of 180 has 1 clusters. Moving on\n",
      "Combination (0.4268421052631579, 10) on iteration 77 of 180 has 1 clusters. Moving on\n",
      "Combination (0.4268421052631579, 12) on iteration 78 of 180 has 1 clusters. Moving on\n",
      "Index: 78, Score: 0.495492520468885, Labels: [ 2  2  0  1  0 -1 -1  0  0  1  0  0  0 -1  0  0 -1  2  0  0  2  1  1  0\n",
      " -1  0  0 -1  0 -1  1  1 -1  0  2  0  1 -1  1  0  0  2  1  0  0 -1 -1  1\n",
      "  0  1  0  1 -1  1  0  0  0 -1  1 -1 -1  1  1  1  0 -1 -1  1  0 -1  0  0\n",
      "  0  1  1  0  0  0  1  0 -1  2 -1 -1  0  0  0  0  1  0 -1  0  0 -1  0  0\n",
      "  2  2  1  0  2  0  0  1  1  2  0  0  1  0  0  0 -1  0  0  1  0  0  2  2\n",
      "  0  0  0 -1  1  0  0  1  2  0 -1  0  1  0  1 -1  1  0  0 -1 -1  1  0  0\n",
      "  0  0  0  0  0  0  0  0  0  1  0 -1 -1  0  0 -1  0 -1  1  1  1 -1 -1  0\n",
      " -1  2  1  0  1  0  0  0 -1  0  0  2 -1  0], NumClusters: 3\n",
      "Index: 79, Score: 0.4863299744527775, Labels: [ 2  2  0  1  0 -1 -1  0  0 -1  0  0  0 -1  0  0 -1  2  0  0  2  1  1  0\n",
      " -1  0  0 -1  0 -1  1  1 -1  0  2  0  1 -1 -1  0  0  2  1  0  0 -1 -1  1\n",
      "  0  1  0  1 -1  1  0  0  0 -1  1 -1 -1  1  1  1  0 -1 -1  1  0 -1  0  0\n",
      "  0  1  1  0  0  0  1  0 -1  2 -1 -1  0  0  0  0  1  0 -1  0  0 -1  0  0\n",
      "  2  2  1  0  2  0  0  1  1  2  0  0  1  0  0  0 -1  0  0  1  0  0  2  2\n",
      "  0  0  0 -1  1  0  0 -1  2  0 -1  0  1  0  1 -1  1  0  0 -1 -1  1  0  0\n",
      "  0  0  0  0  0  0  0  0  0  1  0 -1 -1  0  0 -1  0 -1  1  1  1 -1 -1  0\n",
      " -1  2  1  0  1  0  0  0 -1  0  0  2 -1  0], NumClusters: 3\n",
      "Index: 80, Score: 0.3935928442864309, Labels: [-1 -1  0  1  0 -1 -1  0  0 -1  0  0  0 -1  0  0 -1 -1  0  0 -1 -1 -1  0\n",
      " -1  0  0 -1  0 -1  1  1 -1  0 -1  0  1 -1 -1  0  0 -1  1  0  0 -1 -1  1\n",
      "  0 -1  0  1 -1  1  0  0  0 -1  1 -1 -1  1 -1  1  0 -1 -1  1  0 -1  0  0\n",
      "  0  1  1  0  0  0  1  0 -1 -1 -1 -1  0  0  0  0 -1  0 -1  0  0 -1  0  0\n",
      " -1 -1  1  0 -1  0  0  1  1 -1  0  0  1  0  0  0 -1  0  0  1  0  0 -1 -1\n",
      "  0  0  0 -1  1  0  0 -1 -1  0 -1  0  1  0  1 -1  1  0  0 -1 -1  1  0  0\n",
      "  0  0  0  0  0  0  0  0  0  1  0 -1 -1  0  0 -1  0 -1  1  1  1 -1 -1  0\n",
      " -1 -1 -1  0 -1  0  0  0 -1  0  0 -1 -1  0], NumClusters: 2\n",
      "Index: 81, Score: 0.16772756637381483, Labels: [ 0  0  0  0  0 -1 -1  0  0  0  0  0  0 -1  0  0  1  0  0  0  0  0  0  0\n",
      " -1  0  0  2  0  0  0  0 -1  0  0  0  0 -1  0  0  0  0  0  0  0  2  3  0\n",
      "  0  0  0  0  0  0  0  0  0  3  0 -1 -1  0  0  0  0  0 -1  0  0  0  0  0\n",
      "  0  0  0  0  0  0  0  0  1  0 -1 -1  0  0  0  0  0  0  0  0  0  0  0  0\n",
      "  0  0  0  0  0  0  0  0  0  0  0  0  0  0  0  0  0  0  0  0  0  0  0  0\n",
      "  0  0  0  0  0  0  0  0  0  0 -1  0  0  0  0  0  0  0  0  4 -1  0  0  0\n",
      "  0  0  0  0  0  0  0  0  0  0  0 -1 -1  0  0 -1  0  4  0  0  0  5  5  0\n",
      " -1  0  0  0  0  0  0  0  0  0  0  0  1  0], NumClusters: 6\n",
      "Combination (0.4789473684210527, 4) on iteration 83 of 180 has 1 clusters. Moving on\n",
      "Combination (0.4789473684210527, 6) on iteration 84 of 180 has 1 clusters. Moving on\n",
      "Combination (0.4789473684210527, 8) on iteration 85 of 180 has 1 clusters. Moving on\n",
      "Combination (0.4789473684210527, 10) on iteration 86 of 180 has 1 clusters. Moving on\n",
      "Combination (0.4789473684210527, 12) on iteration 87 of 180 has 1 clusters. Moving on\n",
      "Combination (0.4789473684210527, 14) on iteration 88 of 180 has 1 clusters. Moving on\n",
      "Index: 88, Score: 0.43063400223876075, Labels: [ 1  1  0  0  0 -1 -1  0  0  0  0  0  0 -1  0  0 -1  1  0  0  1  0  0  0\n",
      " -1  0  0 -1  0  1  0  0 -1  0  1  0  0 -1  0  0  0  1  0  0  0 -1 -1  0\n",
      "  0  0  0  0  0  0  0  0  0 -1  0 -1 -1  0  0  0  0  1 -1  0  0  1  0  0\n",
      "  0  0  0  0  0  0  0  0 -1  1 -1 -1  0  0  0  0  0  0 -1  0  0  1  0  0\n",
      "  1  1  0  0  1  0  0  0  0  1  0  0  0  0  0  0 -1  0  0  0  0  0  1  1\n",
      "  0  0  0  1  0  0  0  0  1  0 -1  0  0  0  0 -1  0  0  0 -1 -1  0  0  0\n",
      "  0  0  0  0  0  0  0  0  0  0  0 -1 -1  0  0 -1  0 -1  0  0  0 -1 -1  0\n",
      " -1  1  0  0  0  0  0  0  0  0  0  1 -1  0], NumClusters: 2\n",
      "Index: 89, Score: 0.4225398061525047, Labels: [ 1  1  0  0  0 -1 -1  0  0  0  0  0  0 -1  0  0 -1  1  0  0  1  0  0  0\n",
      " -1  0  0 -1  0  1  0  0 -1  0  1  0  0 -1  0  0  0  1  0  0  0 -1 -1  0\n",
      "  0  0  0  0  0  0  0  0  0 -1  0 -1 -1  0  0  0  0  1 -1  0  0  1  0  0\n",
      "  0  0  0  0  0  0  0  0 -1  1 -1 -1  0  0  0  0  0  0 -1  0  0  1  0  0\n",
      "  1  1  0  0  1  0  0  0  0  1  0  0  0  0  0  0 -1  0  0  0  0  0  1  1\n",
      "  0  0  0  1  0  0  0  0  1  0 -1  0  0  0  0 -1  0  0  0 -1 -1  0  0  0\n",
      "  0  0  0  0  0  0  0  0  0  0  0 -1 -1  0  0 -1  0 -1  0  0  0 -1 -1  0\n",
      " -1  1  0  0  0  0  0  0 -1  0  0  1 -1  0], NumClusters: 2\n",
      "Index: 90, Score: 0.2644951392173945, Labels: [ 0  0  0  0  0  0 -1  0  0  0  0  0  0 -1  0  0  1  0  0  0  0  0  0  0\n",
      " -1  0  0  2  0  0  0  0 -1  0  0  0  0 -1  0  0  0  0  0  0  0  2  0  0\n",
      "  0  0  0  0  0  0  0  0  0  0  0  3 -1  0  0  0  0  0 -1  0  0  0  0  0\n",
      "  0  0  0  0  0  0  0  0  1  0 -1 -1  0  0  0  0  0  0  0  0  0  0  0  0\n",
      "  0  0  0  0  0  0  0  0  0  0  0  0  0  0  0  0  0  0  0  0  0  0  0  0\n",
      "  0  0  0  0  0  0  0  0  0  0 -1  0  0  0  0  0  0  0  0  4 -1  0  0  0\n",
      "  0  0  0  0  0  0  0  0  0  0  0 -1  3  0  0 -1  0  4  0  0  0  5  5  0\n",
      " -1  0  0  0  0  0  0  0  0  0  0  0  1  0], NumClusters: 6\n",
      "Combination (0.5310526315789474, 4) on iteration 92 of 180 has 1 clusters. Moving on\n",
      "Combination (0.5310526315789474, 6) on iteration 93 of 180 has 1 clusters. Moving on\n",
      "Combination (0.5310526315789474, 8) on iteration 94 of 180 has 1 clusters. Moving on\n",
      "Combination (0.5310526315789474, 10) on iteration 95 of 180 has 1 clusters. Moving on\n",
      "Combination (0.5310526315789474, 12) on iteration 96 of 180 has 1 clusters. Moving on\n",
      "Combination (0.5310526315789474, 14) on iteration 97 of 180 has 1 clusters. Moving on\n",
      "Index: 97, Score: 0.40042108415975647, Labels: [ 0  1  0  0  0  0 -1  0  0  0  0  0  0 -1  0  0 -1  1  0  0  1  0  0  0\n",
      " -1  0  0 -1  0  0  0  0 -1  0  1  0  0 -1  0  0  0  1  0  0  0 -1  1  0\n",
      "  0  0  0  0  0  0  0  0  0 -1  0 -1 -1  0  0  0  0  0 -1  0  0  0  0  0\n",
      "  0  0  0  0  0  0  0  0 -1  1 -1 -1  0  0  0  0  0  0 -1  0  0  0  0  0\n",
      "  1  0  0  0  1  0  0  0  0  1  0  0  0  0  0  0 -1  0  0  0  0  0  1  1\n",
      "  0  0  0  0  0  0  0  0  1  0 -1  0  0  0  0 -1  0  0  0 -1 -1  0  0  0\n",
      "  0  0  0  0  0  0  0  0  0  0  0 -1 -1  0  0 -1  0 -1  0  0  0 -1 -1  0\n",
      " -1  1  0  0  0  0  0  0  0  0  0  1 -1  0], NumClusters: 2\n",
      "Index: 98, Score: 0.4137711755682553, Labels: [ 1  1  0  0  0  0 -1  0  0  0  0  0  0 -1  0  0 -1  1  0  0  1  0  0  0\n",
      " -1  0  0 -1  0  0  0  0 -1  0  1  0  0 -1  0  0  0  1  0  0  0 -1  1  0\n",
      "  0  0  0  0  0  0  0  0  0 -1  0 -1 -1  0  0  0  0  0 -1  0  0  0  0  0\n",
      "  0  0  0  0  0  0  0  0 -1  1 -1 -1  0  0  0  0  0  0 -1  0  0  0  0  0\n",
      "  1  1  0  0  1  0  0  0  0  1  0  0  0  0  0  0 -1  0  0  0  0  0  1  1\n",
      "  0  0  0  0  0  0  0  0  1  0 -1  0  0  0  0 -1  0  0  0 -1 -1  0  0  0\n",
      "  0  0  0  0  0  0  0  0  0  0  0 -1 -1  0  0 -1  0 -1  0  0  0 -1 -1  0\n",
      " -1  1  0  0  0  0  0  0  0  0  0  1 -1  0], NumClusters: 2\n",
      "Index: 99, Score: 0.27259921499640805, Labels: [ 0  0  0  0  0  0  1  0  0  0  0  0  0  0  0  0  2  0  0  0  0  0  0  0\n",
      " -1  0  0  3  0  0  0  0 -1  0  0  0  0 -1  0  0  0  0  0  0  0  3  0  0\n",
      "  0  0  0  0  0  0  0  0  0  0  0  1 -1  0  0  0  0  0 -1  0  0  0  0  0\n",
      "  0  0  0  0  0  0  0  0  2  0 -1 -1  0  0  0  0  0  0  0  0  0  0  0  0\n",
      "  0  0  0  0  0  0  0  0  0  0  0  0  0  0  0  0  0  0  0  0  0  0  0  0\n",
      "  0  0  0  0  0  0  0  0  0  0 -1  0  0  0  0  0  0  0  0  4 -1  0  0  0\n",
      "  0  0  0  0  0  0  0  0  0  0  0 -1  1  0  0 -1  0  4  0  0  0  5  5  0\n",
      " -1  0  0  0  0  0  0  0  0  0  0  0  2  0], NumClusters: 6\n",
      "Combination (0.5831578947368421, 4) on iteration 101 of 180 has 1 clusters. Moving on\n",
      "Combination (0.5831578947368421, 6) on iteration 102 of 180 has 1 clusters. Moving on\n",
      "Combination (0.5831578947368421, 8) on iteration 103 of 180 has 1 clusters. Moving on\n",
      "Combination (0.5831578947368421, 10) on iteration 104 of 180 has 1 clusters. Moving on\n",
      "Combination (0.5831578947368421, 12) on iteration 105 of 180 has 1 clusters. Moving on\n",
      "Combination (0.5831578947368421, 14) on iteration 106 of 180 has 1 clusters. Moving on\n",
      "Combination (0.5831578947368421, 16) on iteration 107 of 180 has 1 clusters. Moving on\n",
      "Combination (0.5831578947368421, 18) on iteration 108 of 180 has 1 clusters. Moving on\n",
      "Index: 108, Score: 0.27259921499640805, Labels: [ 0  0  0  0  0  0  1  0  0  0  0  0  0  0  0  0  2  0  0  0  0  0  0  0\n",
      " -1  0  0  3  0  0  0  0 -1  0  0  0  0 -1  0  0  0  0  0  0  0  3  0  0\n",
      "  0  0  0  0  0  0  0  0  0  0  0  1 -1  0  0  0  0  0 -1  0  0  0  0  0\n",
      "  0  0  0  0  0  0  0  0  2  0 -1 -1  0  0  0  0  0  0  0  0  0  0  0  0\n",
      "  0  0  0  0  0  0  0  0  0  0  0  0  0  0  0  0  0  0  0  0  0  0  0  0\n",
      "  0  0  0  0  0  0  0  0  0  0 -1  0  0  0  0  0  0  0  0  4 -1  0  0  0\n",
      "  0  0  0  0  0  0  0  0  0  0  0 -1  1  0  0 -1  0  4  0  0  0  5  5  0\n",
      " -1  0  0  0  0  0  0  0  0  0  0  0  2  0], NumClusters: 6\n",
      "Combination (0.6352631578947369, 4) on iteration 110 of 180 has 1 clusters. Moving on\n",
      "Combination (0.6352631578947369, 6) on iteration 111 of 180 has 1 clusters. Moving on\n",
      "Combination (0.6352631578947369, 8) on iteration 112 of 180 has 1 clusters. Moving on\n",
      "Combination (0.6352631578947369, 10) on iteration 113 of 180 has 1 clusters. Moving on\n",
      "Combination (0.6352631578947369, 12) on iteration 114 of 180 has 1 clusters. Moving on\n",
      "Combination (0.6352631578947369, 14) on iteration 115 of 180 has 1 clusters. Moving on\n",
      "Combination (0.6352631578947369, 16) on iteration 116 of 180 has 1 clusters. Moving on\n",
      "Combination (0.6352631578947369, 18) on iteration 117 of 180 has 1 clusters. Moving on\n",
      "Index: 117, Score: 0.27259921499640805, Labels: [ 0  0  0  0  0  0  1  0  0  0  0  0  0  0  0  0  2  0  0  0  0  0  0  0\n",
      " -1  0  0  3  0  0  0  0 -1  0  0  0  0 -1  0  0  0  0  0  0  0  3  0  0\n",
      "  0  0  0  0  0  0  0  0  0  0  0  1 -1  0  0  0  0  0 -1  0  0  0  0  0\n",
      "  0  0  0  0  0  0  0  0  2  0 -1 -1  0  0  0  0  0  0  0  0  0  0  0  0\n",
      "  0  0  0  0  0  0  0  0  0  0  0  0  0  0  0  0  0  0  0  0  0  0  0  0\n",
      "  0  0  0  0  0  0  0  0  0  0 -1  0  0  0  0  0  0  0  0  4 -1  0  0  0\n",
      "  0  0  0  0  0  0  0  0  0  0  0 -1  1  0  0 -1  0  4  0  0  0  5  5  0\n",
      " -1  0  0  0  0  0  0  0  0  0  0  0  2  0], NumClusters: 6\n",
      "Combination (0.6873684210526316, 4) on iteration 119 of 180 has 1 clusters. Moving on\n",
      "Combination (0.6873684210526316, 6) on iteration 120 of 180 has 1 clusters. Moving on\n",
      "Combination (0.6873684210526316, 8) on iteration 121 of 180 has 1 clusters. Moving on\n",
      "Combination (0.6873684210526316, 10) on iteration 122 of 180 has 1 clusters. Moving on\n",
      "Combination (0.6873684210526316, 12) on iteration 123 of 180 has 1 clusters. Moving on\n",
      "Combination (0.6873684210526316, 14) on iteration 124 of 180 has 1 clusters. Moving on\n",
      "Combination (0.6873684210526316, 16) on iteration 125 of 180 has 1 clusters. Moving on\n",
      "Combination (0.6873684210526316, 18) on iteration 126 of 180 has 1 clusters. Moving on\n",
      "Index: 126, Score: 0.2679724319689813, Labels: [ 0  0  0  0  0  0  1  0  0  0  0  0  0  0  0  0  2  0  0  0  0  0  0  0\n",
      " -1  0  0  1  0  0  0  0 -1  0  0  0  0  3  0  0  0  0  0  0  0  1  0  0\n",
      "  0  0  0  0  0  0  0  0  0  0  0  1 -1  0  0  0  0  0  4  0  0  0  0  0\n",
      "  0  0  0  0  0  0  0  0  2  0  3 -1  0  0  0  0  0  0  0  0  0  0  0  0\n",
      "  0  0  0  0  0  0  0  0  0  0  0  0  0  0  0  0  0  0  0  0  0  0  0  0\n",
      "  0  0  0  0  0  0  0  0  0  0 -1  0  0  0  0  0  0  0  0  4  4  0  0  0\n",
      "  0  0  0  0  0  0  0  0  0  0  0 -1  1  0  0 -1  0  4  0  0  0  5  5  0\n",
      " -1  0  0  0  0  0  0  0  0  0  0  0  2  0], NumClusters: 6\n",
      "Index: 127, Score: 0.4363986368990757, Labels: [ 0  0  0  0  0  0  1  0  0  0  0  0  0  0  0  0 -1  0  0  0  0  0  0  0\n",
      " -1  0  0  1  0  0  0  0 -1  0  0  0  0 -1  0  0  0  0  0  0  0  1  0  0\n",
      "  0  0  0  0  0  0  0  0  0  0  0  1 -1  0  0  0  0  0 -1  0  0  0  0  0\n",
      "  0  0  0  0  0  0  0  0 -1  0 -1 -1  0  0  0  0  0  0  0  0  0  0  0  0\n",
      "  0  0  0  0  0  0  0  0  0  0  0  0  0  0  0  0  0  0  0  0  0  0  0  0\n",
      "  0  0  0  0  0  0  0  0  0  0 -1  0  0  0  0  0  0  0  0 -1 -1  0  0  0\n",
      "  0  0  0  0  0  0  0  0  0  0  0 -1  1  0  0 -1  0 -1  0  0  0 -1 -1  0\n",
      " -1  0  0  0  0  0  0  0  0  0  0  0 -1  0], NumClusters: 2\n",
      "Combination (0.7394736842105263, 6) on iteration 129 of 180 has 1 clusters. Moving on\n",
      "Combination (0.7394736842105263, 8) on iteration 130 of 180 has 1 clusters. Moving on\n",
      "Combination (0.7394736842105263, 10) on iteration 131 of 180 has 1 clusters. Moving on\n",
      "Combination (0.7394736842105263, 12) on iteration 132 of 180 has 1 clusters. Moving on\n",
      "Combination (0.7394736842105263, 14) on iteration 133 of 180 has 1 clusters. Moving on\n",
      "Combination (0.7394736842105263, 16) on iteration 134 of 180 has 1 clusters. Moving on\n",
      "Combination (0.7394736842105263, 18) on iteration 135 of 180 has 1 clusters. Moving on\n",
      "Index: 135, Score: 0.26850705341241804, Labels: [ 0  0  0  0  0  0  1  0  0  0  0  0  0  0  0  0  2  0  0  0  0  0  0  0\n",
      " -1  0  0  1  0  0  0  0 -1  0  0  0  0  3  0  0  0  0  0  0  0  1  0  0\n",
      "  0  0  0  0  0  0  0  0  0  0  0  1 -1  0  0  0  0  0  4  0  0  0  0  0\n",
      "  0  0  0  0  0  0  0  0  2  0  3 -1  0  0  0  0  0  0  0  0  0  0  0  0\n",
      "  0  0  0  0  0  0  0  0  0  0  0  0  0  0  0  0  0  0  0  0  0  0  0  0\n",
      "  0  0  0  0  0  0  0  0  0  0 -1  0  0  0  0  0  0  0  0  4  4  0  0  0\n",
      "  0  0  0  0  0  0  0  0  0  0  0 -1  1  0  0  1  0  4  0  0  0  5  5  0\n",
      " -1  0  0  0  0  0  0  0  0  0  0  0  2  0], NumClusters: 6\n",
      "Index: 136, Score: 0.2245745549911733, Labels: [ 0  0  0  0  0  0  1  0  0  0  0  0  0  0  0  0 -1  0  0  0  0  0  0  0\n",
      " -1  0  0  1  0  0  0  0 -1  0  0  0  0 -1  0  0  0  0  0  0  0  1  0  0\n",
      "  0  0  0  0  0  0  0  0  0  0  0  1 -1  0  0  0  0  0  2  0  0  0  0  0\n",
      "  0  0  0  0  0  0  0  0 -1  0 -1 -1  0  0  0  0  0  0  0  0  0  0  0  0\n",
      "  0  0  0  0  0  0  0  0  0  0  0  0  0  0  0  0  0  0  0  0  0  0  0  0\n",
      "  0  0  0  0  0  0  0  0  0  0 -1  0  0  0  0  0  0  0  0  2  2  0  0  0\n",
      "  0  0  0  0  0  0  0  0  0  0  0 -1  1  0  0 -1  0  2  0  0  0 -1 -1  0\n",
      " -1  0  0  0  0  0  0  0  0  0  0  0 -1  0], NumClusters: 3\n",
      "Combination (0.791578947368421, 6) on iteration 138 of 180 has 1 clusters. Moving on\n",
      "Combination (0.791578947368421, 8) on iteration 139 of 180 has 1 clusters. Moving on\n",
      "Combination (0.791578947368421, 10) on iteration 140 of 180 has 1 clusters. Moving on\n",
      "Combination (0.791578947368421, 12) on iteration 141 of 180 has 1 clusters. Moving on\n",
      "Combination (0.791578947368421, 14) on iteration 142 of 180 has 1 clusters. Moving on\n",
      "Combination (0.791578947368421, 16) on iteration 143 of 180 has 1 clusters. Moving on\n",
      "Combination (0.791578947368421, 18) on iteration 144 of 180 has 1 clusters. Moving on\n",
      "Index: 144, Score: 0.26824911939260426, Labels: [ 0  0  0  0  0  0  1  0  0  0  0  0  0  0  0  0  2  0  0  0  0  0  0  0\n",
      " -1  0  0  1  0  0  0  0 -1  0  0  0  0  3  0  0  0  0  0  0  0  1  0  0\n",
      "  0  0  0  0  0  0  0  0  0  0  0  1 -1  0  0  0  0  0  4  0  0  0  0  0\n",
      "  0  0  0  0  0  0  0  0  2  0  3 -1  0  0  0  0  0  0  0  0  0  0  0  0\n",
      "  0  0  0  0  0  0  0  0  0  0  0  0  0  0  0  0  0  0  0  0  0  0  0  0\n",
      "  0  0  0  0  0  0  0  0  0  0  0  0  0  0  0  0  0  0  0  4  4  0  0  0\n",
      "  0  0  0  0  0  0  0  0  0  0  0 -1  1  0  0  1  0  4  0  0  0  5  5  0\n",
      " -1  0  0  0  0  0  0  0  0  0  0  0  2  0], NumClusters: 6\n",
      "Index: 145, Score: 0.22554436309595718, Labels: [ 0  0  0  0  0  0  1  0  0  0  0  0  0  0  0  0 -1  0  0  0  0  0  0  0\n",
      " -1  0  0  1  0  0  0  0 -1  0  0  0  0 -1  0  0  0  0  0  0  0  1  0  0\n",
      "  0  0  0  0  0  0  0  0  0  0  0  1 -1  0  0  0  0  0  2  0  0  0  0  0\n",
      "  0  0  0  0  0  0  0  0 -1  0 -1 -1  0  0  0  0  0  0  0  0  0  0  0  0\n",
      "  0  0  0  0  0  0  0  0  0  0  0  0  0  0  0  0  0  0  0  0  0  0  0  0\n",
      "  0  0  0  0  0  0  0  0  0  0  0  0  0  0  0  0  0  0  0  2  2  0  0  0\n",
      "  0  0  0  0  0  0  0  0  0  0  0 -1  1  0  0 -1  0  2  0  0  0 -1 -1  0\n",
      " -1  0  0  0  0  0  0  0  0  0  0  0 -1  0], NumClusters: 3\n",
      "Combination (0.8436842105263158, 6) on iteration 147 of 180 has 1 clusters. Moving on\n",
      "Combination (0.8436842105263158, 8) on iteration 148 of 180 has 1 clusters. Moving on\n",
      "Combination (0.8436842105263158, 10) on iteration 149 of 180 has 1 clusters. Moving on\n",
      "Combination (0.8436842105263158, 12) on iteration 150 of 180 has 1 clusters. Moving on\n",
      "Combination (0.8436842105263158, 14) on iteration 151 of 180 has 1 clusters. Moving on\n",
      "Combination (0.8436842105263158, 16) on iteration 152 of 180 has 1 clusters. Moving on\n",
      "Combination (0.8436842105263158, 18) on iteration 153 of 180 has 1 clusters. Moving on\n",
      "Index: 153, Score: 0.27587004670864196, Labels: [ 0  0  0  0  0  0  1  0  0  0  0  0  0  0  0  0  2  0  0  0  0  0  0  0\n",
      " -1  0  0  1  0  0  0  0 -1  0  0  0  0  3  0  0  0  0  0  0  0  1  0  0\n",
      "  0  0  0  0  0  0  0  0  0  0  0  1 -1  0  0  0  0  0  4  0  0  0  0  0\n",
      "  0  0  0  0  0  0  0  0  2  0  3  0  0  0  0  0  0  0  0  0  0  0  0  0\n",
      "  0  0  0  0  0  0  0  0  0  0  0  0  0  0  0  0  0  0  0  0  0  0  0  0\n",
      "  0  0  0  0  0  0  0  0  0  0  0  0  0  0  0  0  0  0  0  4  4  0  0  0\n",
      "  0  0  0  0  0  0  0  0  0  0  0  2  1  0  0  1  0  4  0  0  0  5  5  0\n",
      " -1  0  0  0  0  0  0  0  0  0  0  0  2  0], NumClusters: 6\n",
      "Index: 154, Score: 0.25095706273026425, Labels: [ 0  0  0  0  0  0  1  0  0  0  0  0  0  0  0  0  2  0  0  0  0  0  0  0\n",
      " -1  0  0  1  0  0  0  0 -1  0  0  0  0 -1  0  0  0  0  0  0  0  1  0  0\n",
      "  0  0  0  0  0  0  0  0  0  0  0  1 -1  0  0  0  0  0  3  0  0  0  0  0\n",
      "  0  0  0  0  0  0  0  0  2  0 -1  0  0  0  0  0  0  0  0  0  0  0  0  0\n",
      "  0  0  0  0  0  0  0  0  0  0  0  0  0  0  0  0  0  0  0  0  0  0  0  0\n",
      "  0  0  0  0  0  0  0  0  0  0  0  0  0  0  0  0  0  0  0  3  3  0  0  0\n",
      "  0  0  0  0  0  0  0  0  0  0  0  2  1  0  0  1  0  3  0  0  0 -1 -1  0\n",
      " -1  0  0  0  0  0  0  0  0  0  0  0  2  0], NumClusters: 4\n",
      "Combination (0.8957894736842106, 6) on iteration 156 of 180 has 1 clusters. Moving on\n",
      "Combination (0.8957894736842106, 8) on iteration 157 of 180 has 1 clusters. Moving on\n",
      "Combination (0.8957894736842106, 10) on iteration 158 of 180 has 1 clusters. Moving on\n",
      "Combination (0.8957894736842106, 12) on iteration 159 of 180 has 1 clusters. Moving on\n",
      "Combination (0.8957894736842106, 14) on iteration 160 of 180 has 1 clusters. Moving on\n",
      "Combination (0.8957894736842106, 16) on iteration 161 of 180 has 1 clusters. Moving on\n",
      "Combination (0.8957894736842106, 18) on iteration 162 of 180 has 1 clusters. Moving on\n",
      "Index: 162, Score: 0.4442344294010523, Labels: [ 0  0  0  0  0  0  1  0  0  0  0  0  0  0  0  0  2  0  0  0  0  0  0  0\n",
      " -1  0  0  1  0  0  0  0 -1  0  0  0  0  3  0  0  0  0  0  0  0  1  0  0\n",
      "  0  0  0  0  0  0  0  0  0  0  0  1 -1  0  0  0  0  0  1  0  0  0  0  0\n",
      "  0  0  0  0  0  0  0  0  2  0  3  0  0  0  0  0  0  0  0  0  0  0  0  0\n",
      "  0  0  0  0  0  0  0  0  0  0  0  0  0  0  0  0  0  0  0  0  0  0  0  0\n",
      "  0  0  0  0  0  0  0  0  0  0  0  0  0  0  0  0  0  0  0  1  1  0  0  0\n",
      "  0  0  0  0  0  0  0  0  0  0  0  2  1  0  0  1  0  1  0  0  0  1  1  0\n",
      "  0  0  0  0  0  0  0  0  0  0  0  0  2  0], NumClusters: 4\n",
      "Index: 163, Score: 0.4229603246768188, Labels: [ 0  0  0  0  0  0  1  0  0  0  0  0  0  0  0  0  2  0  0  0  0  0  0  0\n",
      " -1  0  0  1  0  0  0  0 -1  0  0  0  0 -1  0  0  0  0  0  0  0  1  0  0\n",
      "  0  0  0  0  0  0  0  0  0  0  0  1 -1  0  0  0  0  0  1  0  0  0  0  0\n",
      "  0  0  0  0  0  0  0  0  2  0 -1  0  0  0  0  0  0  0  0  0  0  0  0  0\n",
      "  0  0  0  0  0  0  0  0  0  0  0  0  0  0  0  0  0  0  0  0  0  0  0  0\n",
      "  0  0  0  0  0  0  0  0  0  0  0  0  0  0  0  0  0  0  0  1  1  0  0  0\n",
      "  0  0  0  0  0  0  0  0  0  0  0  2  1  0  0  1  0  1  0  0  0  1 -1  0\n",
      "  0  0  0  0  0  0  0  0  0  0  0  0  2  0], NumClusters: 3\n",
      "Index: 164, Score: 0.42875134576416674, Labels: [ 0  0  0  0  0  0  1  0  0  0  0  0  0  0  0  0 -1  0  0  0  0  0  0  0\n",
      " -1  0  0  1  0  0  0  0 -1  0  0  0  0 -1  0  0  0  0  0  0  0  1  0  0\n",
      "  0  0  0  0  0  0  0  0  0  0  0  1 -1  0  0  0  0  0 -1  0  0  0  0  0\n",
      "  0  0  0  0  0  0  0  0 -1  0 -1  0  0  0  0  0  0  0  0  0  0  0  0  0\n",
      "  0  0  0  0  0  0  0  0  0  0  0  0  0  0  0  0  0  0  0  0  0  0  0  0\n",
      "  0  0  0  0  0  0  0  0  0  0  0  0  0  0  0  0  0  0  0 -1 -1  0  0  0\n",
      "  0  0  0  0  0  0  0  0  0  0  0 -1  1  0  0 -1  0  1  0  0  0 -1 -1  0\n",
      "  0  0  0  0  0  0  0  0  0  0  0  0 -1  0], NumClusters: 2\n",
      "Combination (0.9478947368421053, 8) on iteration 166 of 180 has 1 clusters. Moving on\n",
      "Combination (0.9478947368421053, 10) on iteration 167 of 180 has 1 clusters. Moving on\n",
      "Combination (0.9478947368421053, 12) on iteration 168 of 180 has 1 clusters. Moving on\n",
      "Combination (0.9478947368421053, 14) on iteration 169 of 180 has 1 clusters. Moving on\n",
      "Combination (0.9478947368421053, 16) on iteration 170 of 180 has 1 clusters. Moving on\n",
      "Combination (0.9478947368421053, 18) on iteration 171 of 180 has 1 clusters. Moving on\n",
      "Index: 171, Score: 0.47550382618705755, Labels: [ 0  0  0  0  0  0  0  0  0  0  0  0  0  0  0  0  0  0  0  0  0  0  0  0\n",
      " -1  0  0  0  0  0  0  0 -1  0  0  0  0  1  0  0  0  0  0  0  0  0  0  0\n",
      "  0  0  0  0  0  0  0  0  0  0  0  0 -1  0  0  0  0  0  0  0  0  0  0  0\n",
      "  0  0  0  0  0  0  0  0  0  0  1  0  0  0  0  0  0  0  0  0  0  0  0  0\n",
      "  0  0  0  0  0  0  0  0  0  0  0  0  0  0  0  0  0  0  0  0  0  0  0  0\n",
      "  0  0  0  0  0  0  0  0  0  0  0  0  0  0  0  0  0  0  0  0  0  0  0  0\n",
      "  0  0  0  0  0  0  0  0  0  0  0  0  0  0  0  0  0  0  0  0  0  0  0  0\n",
      "  0  0  0  0  0  0  0  0  0  0  0  0  0  0], NumClusters: 2\n",
      "Combination (1.0, 4) on iteration 173 of 180 has 1 clusters. Moving on\n",
      "Index: 173, Score: 0.4571831795905222, Labels: [ 0  0  0  0  0  0  1  0  0  0  0  0  0  0  0  0  1  0  0  0  0  0  0  0\n",
      " -1  0  0  1  0  0  0  0 -1  0  0  0  0 -1  0  0  0  0  0  0  0  1  0  0\n",
      "  0  0  0  0  0  0  0  0  0  0  0  1 -1  0  0  0  0  0  0  0  0  0  0  0\n",
      "  0  0  0  0  0  0  0  0 -1  0 -1  0  0  0  0  0  0  0  0  0  0  0  0  0\n",
      "  0  0  0  0  0  0  0  0  0  0  0  0  0  0  0  0  0  0  0  0  0  0  0  0\n",
      "  0  0  0  0  0  0  0  0  0  0  0  0  0  0  0  0  0  0  0 -1 -1  0  0  0\n",
      "  0  0  0  0  0  0  0  0  0  0  0 -1  1  0  0 -1  0  1  0  0  0 -1 -1  0\n",
      "  0  0  0  0  0  0  0  0  0  0  0  0 -1  0], NumClusters: 2\n",
      "Combination (1.0, 8) on iteration 175 of 180 has 1 clusters. Moving on\n",
      "Combination (1.0, 10) on iteration 176 of 180 has 1 clusters. Moving on\n",
      "Combination (1.0, 12) on iteration 177 of 180 has 1 clusters. Moving on\n",
      "Combination (1.0, 14) on iteration 178 of 180 has 1 clusters. Moving on\n",
      "Combination (1.0, 16) on iteration 179 of 180 has 1 clusters. Moving on\n",
      "Combination (1.0, 18) on iteration 180 of 180 has 1 clusters. Moving on\n"
     ]
    }
   ],
   "source": [
    "best_dict1 = get_scores_and_labels(combinations, X1_scaled)"
   ]
  },
  {
   "cell_type": "code",
   "execution_count": 21,
   "metadata": {},
   "outputs": [
    {
     "data": {
      "text/plain": [
       "{'best_epsilon': 0.37473684210526315,\n",
       " 'best_min_samples': 12,\n",
       " 'best_labels': array([ 0,  0,  1,  2,  1, -1, -1,  1,  1,  0,  1,  1,  1, -1,  1,  1, -1,\n",
       "         0,  1,  1,  0,  2,  2,  1, -1,  1,  1, -1,  1,  0,  2,  2, -1,  1,\n",
       "         0,  1,  2, -1,  2,  1,  1,  0,  2,  1,  1, -1, -1,  2,  1,  2,  1,\n",
       "         2, -1,  2,  1,  1,  1, -1,  2, -1, -1,  2,  2,  2,  1,  0, -1,  2,\n",
       "         1,  0,  1,  1,  1,  2,  2,  1,  1,  1,  2,  1, -1,  0, -1, -1,  1,\n",
       "         1,  1,  1,  2,  1, -1,  1,  1,  0,  1,  1,  0,  0,  2,  1,  0,  1,\n",
       "         1,  2,  2,  0,  1,  1,  2,  1,  1,  1, -1,  1,  1,  2,  1,  1,  0,\n",
       "         0,  1,  1,  1,  0,  2,  1,  1,  0,  0,  1, -1,  1,  2,  1,  2, -1,\n",
       "         2,  1,  1, -1, -1,  2,  1,  1,  1,  1,  1,  2,  1,  1,  1,  1,  1,\n",
       "         2,  1, -1, -1,  1,  1, -1,  1, -1,  2,  2,  2, -1, -1,  1, -1,  0,\n",
       "         2,  1,  2,  1,  1,  1, -1,  1,  1,  0, -1,  1], dtype=int64),\n",
       " 'best_score': 0.5282943638793979}"
      ]
     },
     "execution_count": 21,
     "metadata": {},
     "output_type": "execute_result"
    }
   ],
   "source": [
    "best_dict1"
   ]
  },
  {
   "cell_type": "code",
   "execution_count": 23,
   "metadata": {},
   "outputs": [
    {
     "data": {
      "text/plain": [
       "cluster1\n",
       " 1    88\n",
       " 2    38\n",
       "-1    33\n",
       " 0    23\n",
       "Name: count, dtype: int64"
      ]
     },
     "execution_count": 23,
     "metadata": {},
     "output_type": "execute_result"
    }
   ],
   "source": [
    "df['cluster1'] = best_dict1['best_labels']\n",
    "\n",
    "df['cluster1'].value_counts()"
   ]
  },
  {
   "cell_type": "code",
   "execution_count": 24,
   "metadata": {},
   "outputs": [
    {
     "data": {
      "application/vnd.plotly.v1+json": {
       "config": {
        "plotlyServerURL": "https://plot.ly"
       },
       "data": [
        {
         "hovertemplate": "x=%{x}<br>y=%{y}<br>color=%{marker.color}<extra></extra>",
         "legendgroup": "",
         "marker": {
          "color": [
           0,
           0,
           1,
           2,
           1,
           -1,
           -1,
           1,
           1,
           0,
           1,
           1,
           1,
           -1,
           1,
           1,
           -1,
           0,
           1,
           1,
           0,
           2,
           2,
           1,
           -1,
           1,
           1,
           -1,
           1,
           0,
           2,
           2,
           -1,
           1,
           0,
           1,
           2,
           -1,
           2,
           1,
           1,
           0,
           2,
           1,
           1,
           -1,
           -1,
           2,
           1,
           2,
           1,
           2,
           -1,
           2,
           1,
           1,
           1,
           -1,
           2,
           -1,
           -1,
           2,
           2,
           2,
           1,
           0,
           -1,
           2,
           1,
           0,
           1,
           1,
           1,
           2,
           2,
           1,
           1,
           1,
           2,
           1,
           -1,
           0,
           -1,
           -1,
           1,
           1,
           1,
           1,
           2,
           1,
           -1,
           1,
           1,
           0,
           1,
           1,
           0,
           0,
           2,
           1,
           0,
           1,
           1,
           2,
           2,
           0,
           1,
           1,
           2,
           1,
           1,
           1,
           -1,
           1,
           1,
           2,
           1,
           1,
           0,
           0,
           1,
           1,
           1,
           0,
           2,
           1,
           1,
           0,
           0,
           1,
           -1,
           1,
           2,
           1,
           2,
           -1,
           2,
           1,
           1,
           -1,
           -1,
           2,
           1,
           1,
           1,
           1,
           1,
           2,
           1,
           1,
           1,
           1,
           1,
           2,
           1,
           -1,
           -1,
           1,
           1,
           -1,
           1,
           -1,
           2,
           2,
           2,
           -1,
           -1,
           1,
           -1,
           0,
           2,
           1,
           2,
           1,
           1,
           1,
           -1,
           1,
           1,
           0,
           -1,
           1
          ],
          "coloraxis": "coloraxis",
          "symbol": "circle"
         },
         "mode": "markers",
         "name": "",
         "orientation": "v",
         "showlegend": false,
         "type": "scatter",
         "x": [
          34247333.333333336,
          2896444.4444444445,
          39784222.222222224,
          27940555.55555556,
          93444.44444444444,
          43063444.44444445,
          2920888.888888889,
          104222.22222222222,
          23908222.222222224,
          8691000,
          9611555.555555556,
          374555.5555555556,
          1414555.5555555555,
          156210883.55555555,
          285222.22222222225,
          9436444.444444444,
          11284111.111111112,
          360555.5555555556,
          10599000,
          63777.77777777778,
          728000,
          10866777.777777778,
          3453666.6666666665,
          2139000,
          204398890.66666663,
          29222.222222222223,
          414222.2222222223,
          7195000,
          18148222.222222224,
          10196555.555555556,
          15517222.222222222,
          23337000,
          36005555.55555555,
          61666.66666666666,
          4533888.888888889,
          14127222.222222222,
          18032666.666666668,
          1406154666.6666667,
          47756444.44444445,
          778000,
          18000,
          4844666.666666667,
          4228111.111111111,
          11306000,
          1161666.6666666667,
          10615777.777777778,
          76466000,
          5683555.555555556,
          913777.7777777778,
          71222.22222222222,
          10279555.555555556,
          16258111.111111112,
          92436222.22222222,
          6328222.222222222,
          1169666.6666666667,
          3348777.777777778,
          1320666.6666666667,
          100943111.1111111,
          872333.3333333334,
          5472222.222222222,
          64328777.777777776,
          262666.6666666667,
          273333.3333333333,
          1938777.7777777775,
          2090888.888888889,
          4030777.777777778,
          81970333.33333333,
          27872555.55555556,
          10654555.555555556,
          56333.333333333336,
          109444.44444444444,
          401555.5555555556,
          162555.55555555556,
          16257555.555555556,
          11504333.333333334,
          1738888.888888889,
          767111.1111111111,
          10689444.444444444,
          9113777.777777778,
          7202444.444444444,
          9783666.666666666,
          330777.7777777777,
          1309435221.3333333,
          258154222.2222222,
          78618555.55555555,
          35296000,
          4693666.666666667,
          7991444.444444444,
          60348555.55555555,
          2889222.222222222,
          127857666.66666669,
          9096111.111111112,
          17547333.333333332,
          47873222.222222224,
          111111.11111111112,
          3769666.6666666665,
          5962111.111111111,
          6749333.333333333,
          1998555.5555555555,
          6299444.444444444,
          2061111.111111111,
          4475333.333333333,
          6462444.444444444,
          2926333.333333333,
          567333.3333333334,
          16764333.333333334,
          30288222.222222224,
          455777.77777777775,
          17503333.333333332,
          431444.4444444445,
          381000,
          1259777.7777777778,
          121765111.1111111,
          4066111.111111111,
          2997777.777777778,
          626888.8888888889,
          5000,
          34644888.88888889,
          27142333.33333333,
          2319777.777777778,
          10333.333333333334,
          16929333.333333332,
          270555.5555555556,
          4608444.444444444,
          6223888.888888889,
          20089000,
          2000,
          25177777.777777776,
          5183000,
          4195222.222222222,
          199660332.44444445,
          4545666.666666667,
          3972000,
          8115333.333333333,
          30663888.888888888,
          101987333.33333331,
          10383444.444444444,
          3317444.4444444445,
          2509666.6666666665,
          19886555.55555556,
          144898110.2222222,
          11409666.666666666,
          5777.777777777777,
          51111.11111111111,
          179333.33333333334,
          6000,
          109222.22222222222,
          192888.88888888888,
          199555.5555555556,
          31514000,
          14614888.888888888,
          8873000,
          94888.88888888888,
          7178777.777777778,
          5569888.888888889,
          5434555.555555556,
          2068555.5555555555,
          604111.1111111111,
          13844666.666666666,
          50677777.777777776,
          10594777.777777778,
          46804333.333333336,
          20888111.111111112,
          38974777.777777776,
          558666.6666666666,
          9759333.333333334,
          8275555.555555556,
          18487111.111111112,
          23542222.222222224,
          8478444.444444444,
          51631222.222222224,
          68654222.22222222,
          7329444.444444444,
          102333.33333333331,
          1368222.2222222222,
          11198000,
          78499000,
          5561333.333333333,
          35888.88888888889,
          38520333.333333336,
          44870777.777777776,
          9334888.888888888
         ],
         "xaxis": "x",
         "y": [
          16.456555555555557,
          0.1485555555555555,
          99.23366666666666,
          34.32644444444444,
          98.428,
          70.0337,
          38.47766666666666,
          83.923,
          83.8751,
          23.5791,
          91.5288,
          99.89611111111113,
          99.97422222222222,
          98.2078,
          98.11766666666666,
          98.4342,
          35.095600000000005,
          3.486,
          97.20155555555556,
          100,
          0.0053333333333333,
          68.279,
          65.77000000000001,
          99.835,
          16.4672,
          98.95644444444444,
          99.95833333333331,
          49.8054,
          84.74611111111112,
          19.567666666666668,
          53.31588888888889,
          33.528,
          18.9445,
          99.16322222222225,
          3.711555555555556,
          98.18711111111112,
          56.2971,
          72.8477,
          26.2103,
          96.693,
          88.74122222222223,
          4.2176,
          36.699,
          95.98866666666667,
          91.9099,
          55.1664,
          0.2092222222222222,
          39.1135,
          99.17055555555557,
          67.6861111111111,
          87.84455555555556,
          38.18088888888889,
          90.07766666666666,
          35.99322222222222,
          72.59733333333332,
          96.385,
          84.0197,
          0.1095555555555555,
          41.18055555555556,
          23.7291,
          9.3107,
          39.60566666666667,
          65.50555555555555,
          56.95822222222223,
          98.86644444444444,
          20.00411111111111,
          55.4245,
          41.055,
          74.1346,
          19.374,
          98.34211111111112,
          87.07044444444445,
          98.07744444444444,
          35.10355555555556,
          47.098,
          97.94722222222222,
          97.984,
          85.04488888888889,
          46.40266666666667,
          99.80655555555556,
          40.2919,
          0.0155555555555555,
          78.1647,
          86.41511111111112,
          92.3822,
          94.83922222222222,
          72.1935,
          97.924,
          62.3597,
          90.85177777777776,
          77.60979999999999,
          95.61366666666667,
          89.6234,
          20.162222222222223,
          89.66966666666667,
          99.93866666666666,
          8.576,
          17.049777777777777,
          43.2924,
          96.52544444444445,
          0,
          99.68144444444444,
          99.97566666666664,
          46.7314,
          56.6742,
          8.765444444444446,
          87.36988888888888,
          99.54444444444444,
          47.44844444444445,
          92.9048,
          97.20222222222222,
          78.19788888888888,
          79.8644,
          93.91355555555556,
          95.1462,
          44.25055555555556,
          100,
          84.65977777777778,
          9.87388888888889,
          2.4036666666666666,
          100,
          81.9447,
          84.97566666666665,
          20.002,
          47.19566666666666,
          98.537,
          100,
          23.00711111111111,
          1.889,
          99.99255555555555,
          61.846900000000005,
          99.96222222222222,
          33.107,
          72.76366666666667,
          42.2506,
          74.151,
          48.7857,
          95.7427777777778,
          99.67888888888888,
          44.0267,
          64.4186,
          51.29911111111111,
          100,
          96.2431111111111,
          99.68933333333332,
          98.50744444444445,
          84.62644444444445,
          69.15344444444445,
          91.07566666666668,
          99.97277777777778,
          88.92477777777778,
          71.2041,
          98.97966666666667,
          31.326,
          96.8428,
          21.8467,
          32.3678,
          94.55577777777778,
          97.37977777777778,
          69.0626,
          99.513625,
          42.6884,
          57.666777777777774,
          31.48133333333333,
          55.224222222222224,
          2.3696,
          1.1187,
          92.811,
          81.49170000000001,
          3.1754,
          64.15833333333333,
          87.4165,
          60.49455555555556,
          100,
          99.94877777777778,
          97.0688,
          67.535,
          99.9858888888889,
          100,
          10.60288888888889,
          42.8171,
          99.35711111111112
         ],
         "yaxis": "y"
        }
       ],
       "layout": {
        "coloraxis": {
         "colorbar": {
          "title": {
           "text": "color"
          }
         },
         "colorscale": [
          [
           0,
           "#0d0887"
          ],
          [
           0.1111111111111111,
           "#46039f"
          ],
          [
           0.2222222222222222,
           "#7201a8"
          ],
          [
           0.3333333333333333,
           "#9c179e"
          ],
          [
           0.4444444444444444,
           "#bd3786"
          ],
          [
           0.5555555555555556,
           "#d8576b"
          ],
          [
           0.6666666666666666,
           "#ed7953"
          ],
          [
           0.7777777777777778,
           "#fb9f3a"
          ],
          [
           0.8888888888888888,
           "#fdca26"
          ],
          [
           1,
           "#f0f921"
          ]
         ]
        },
        "legend": {
         "tracegroupgap": 0
        },
        "margin": {
         "t": 60
        },
        "template": {
         "data": {
          "bar": [
           {
            "error_x": {
             "color": "#2a3f5f"
            },
            "error_y": {
             "color": "#2a3f5f"
            },
            "marker": {
             "line": {
              "color": "#E5ECF6",
              "width": 0.5
             },
             "pattern": {
              "fillmode": "overlay",
              "size": 10,
              "solidity": 0.2
             }
            },
            "type": "bar"
           }
          ],
          "barpolar": [
           {
            "marker": {
             "line": {
              "color": "#E5ECF6",
              "width": 0.5
             },
             "pattern": {
              "fillmode": "overlay",
              "size": 10,
              "solidity": 0.2
             }
            },
            "type": "barpolar"
           }
          ],
          "carpet": [
           {
            "aaxis": {
             "endlinecolor": "#2a3f5f",
             "gridcolor": "white",
             "linecolor": "white",
             "minorgridcolor": "white",
             "startlinecolor": "#2a3f5f"
            },
            "baxis": {
             "endlinecolor": "#2a3f5f",
             "gridcolor": "white",
             "linecolor": "white",
             "minorgridcolor": "white",
             "startlinecolor": "#2a3f5f"
            },
            "type": "carpet"
           }
          ],
          "choropleth": [
           {
            "colorbar": {
             "outlinewidth": 0,
             "ticks": ""
            },
            "type": "choropleth"
           }
          ],
          "contour": [
           {
            "colorbar": {
             "outlinewidth": 0,
             "ticks": ""
            },
            "colorscale": [
             [
              0,
              "#0d0887"
             ],
             [
              0.1111111111111111,
              "#46039f"
             ],
             [
              0.2222222222222222,
              "#7201a8"
             ],
             [
              0.3333333333333333,
              "#9c179e"
             ],
             [
              0.4444444444444444,
              "#bd3786"
             ],
             [
              0.5555555555555556,
              "#d8576b"
             ],
             [
              0.6666666666666666,
              "#ed7953"
             ],
             [
              0.7777777777777778,
              "#fb9f3a"
             ],
             [
              0.8888888888888888,
              "#fdca26"
             ],
             [
              1,
              "#f0f921"
             ]
            ],
            "type": "contour"
           }
          ],
          "contourcarpet": [
           {
            "colorbar": {
             "outlinewidth": 0,
             "ticks": ""
            },
            "type": "contourcarpet"
           }
          ],
          "heatmap": [
           {
            "colorbar": {
             "outlinewidth": 0,
             "ticks": ""
            },
            "colorscale": [
             [
              0,
              "#0d0887"
             ],
             [
              0.1111111111111111,
              "#46039f"
             ],
             [
              0.2222222222222222,
              "#7201a8"
             ],
             [
              0.3333333333333333,
              "#9c179e"
             ],
             [
              0.4444444444444444,
              "#bd3786"
             ],
             [
              0.5555555555555556,
              "#d8576b"
             ],
             [
              0.6666666666666666,
              "#ed7953"
             ],
             [
              0.7777777777777778,
              "#fb9f3a"
             ],
             [
              0.8888888888888888,
              "#fdca26"
             ],
             [
              1,
              "#f0f921"
             ]
            ],
            "type": "heatmap"
           }
          ],
          "heatmapgl": [
           {
            "colorbar": {
             "outlinewidth": 0,
             "ticks": ""
            },
            "colorscale": [
             [
              0,
              "#0d0887"
             ],
             [
              0.1111111111111111,
              "#46039f"
             ],
             [
              0.2222222222222222,
              "#7201a8"
             ],
             [
              0.3333333333333333,
              "#9c179e"
             ],
             [
              0.4444444444444444,
              "#bd3786"
             ],
             [
              0.5555555555555556,
              "#d8576b"
             ],
             [
              0.6666666666666666,
              "#ed7953"
             ],
             [
              0.7777777777777778,
              "#fb9f3a"
             ],
             [
              0.8888888888888888,
              "#fdca26"
             ],
             [
              1,
              "#f0f921"
             ]
            ],
            "type": "heatmapgl"
           }
          ],
          "histogram": [
           {
            "marker": {
             "pattern": {
              "fillmode": "overlay",
              "size": 10,
              "solidity": 0.2
             }
            },
            "type": "histogram"
           }
          ],
          "histogram2d": [
           {
            "colorbar": {
             "outlinewidth": 0,
             "ticks": ""
            },
            "colorscale": [
             [
              0,
              "#0d0887"
             ],
             [
              0.1111111111111111,
              "#46039f"
             ],
             [
              0.2222222222222222,
              "#7201a8"
             ],
             [
              0.3333333333333333,
              "#9c179e"
             ],
             [
              0.4444444444444444,
              "#bd3786"
             ],
             [
              0.5555555555555556,
              "#d8576b"
             ],
             [
              0.6666666666666666,
              "#ed7953"
             ],
             [
              0.7777777777777778,
              "#fb9f3a"
             ],
             [
              0.8888888888888888,
              "#fdca26"
             ],
             [
              1,
              "#f0f921"
             ]
            ],
            "type": "histogram2d"
           }
          ],
          "histogram2dcontour": [
           {
            "colorbar": {
             "outlinewidth": 0,
             "ticks": ""
            },
            "colorscale": [
             [
              0,
              "#0d0887"
             ],
             [
              0.1111111111111111,
              "#46039f"
             ],
             [
              0.2222222222222222,
              "#7201a8"
             ],
             [
              0.3333333333333333,
              "#9c179e"
             ],
             [
              0.4444444444444444,
              "#bd3786"
             ],
             [
              0.5555555555555556,
              "#d8576b"
             ],
             [
              0.6666666666666666,
              "#ed7953"
             ],
             [
              0.7777777777777778,
              "#fb9f3a"
             ],
             [
              0.8888888888888888,
              "#fdca26"
             ],
             [
              1,
              "#f0f921"
             ]
            ],
            "type": "histogram2dcontour"
           }
          ],
          "mesh3d": [
           {
            "colorbar": {
             "outlinewidth": 0,
             "ticks": ""
            },
            "type": "mesh3d"
           }
          ],
          "parcoords": [
           {
            "line": {
             "colorbar": {
              "outlinewidth": 0,
              "ticks": ""
             }
            },
            "type": "parcoords"
           }
          ],
          "pie": [
           {
            "automargin": true,
            "type": "pie"
           }
          ],
          "scatter": [
           {
            "fillpattern": {
             "fillmode": "overlay",
             "size": 10,
             "solidity": 0.2
            },
            "type": "scatter"
           }
          ],
          "scatter3d": [
           {
            "line": {
             "colorbar": {
              "outlinewidth": 0,
              "ticks": ""
             }
            },
            "marker": {
             "colorbar": {
              "outlinewidth": 0,
              "ticks": ""
             }
            },
            "type": "scatter3d"
           }
          ],
          "scattercarpet": [
           {
            "marker": {
             "colorbar": {
              "outlinewidth": 0,
              "ticks": ""
             }
            },
            "type": "scattercarpet"
           }
          ],
          "scattergeo": [
           {
            "marker": {
             "colorbar": {
              "outlinewidth": 0,
              "ticks": ""
             }
            },
            "type": "scattergeo"
           }
          ],
          "scattergl": [
           {
            "marker": {
             "colorbar": {
              "outlinewidth": 0,
              "ticks": ""
             }
            },
            "type": "scattergl"
           }
          ],
          "scattermapbox": [
           {
            "marker": {
             "colorbar": {
              "outlinewidth": 0,
              "ticks": ""
             }
            },
            "type": "scattermapbox"
           }
          ],
          "scatterpolar": [
           {
            "marker": {
             "colorbar": {
              "outlinewidth": 0,
              "ticks": ""
             }
            },
            "type": "scatterpolar"
           }
          ],
          "scatterpolargl": [
           {
            "marker": {
             "colorbar": {
              "outlinewidth": 0,
              "ticks": ""
             }
            },
            "type": "scatterpolargl"
           }
          ],
          "scatterternary": [
           {
            "marker": {
             "colorbar": {
              "outlinewidth": 0,
              "ticks": ""
             }
            },
            "type": "scatterternary"
           }
          ],
          "surface": [
           {
            "colorbar": {
             "outlinewidth": 0,
             "ticks": ""
            },
            "colorscale": [
             [
              0,
              "#0d0887"
             ],
             [
              0.1111111111111111,
              "#46039f"
             ],
             [
              0.2222222222222222,
              "#7201a8"
             ],
             [
              0.3333333333333333,
              "#9c179e"
             ],
             [
              0.4444444444444444,
              "#bd3786"
             ],
             [
              0.5555555555555556,
              "#d8576b"
             ],
             [
              0.6666666666666666,
              "#ed7953"
             ],
             [
              0.7777777777777778,
              "#fb9f3a"
             ],
             [
              0.8888888888888888,
              "#fdca26"
             ],
             [
              1,
              "#f0f921"
             ]
            ],
            "type": "surface"
           }
          ],
          "table": [
           {
            "cells": {
             "fill": {
              "color": "#EBF0F8"
             },
             "line": {
              "color": "white"
             }
            },
            "header": {
             "fill": {
              "color": "#C8D4E3"
             },
             "line": {
              "color": "white"
             }
            },
            "type": "table"
           }
          ]
         },
         "layout": {
          "annotationdefaults": {
           "arrowcolor": "#2a3f5f",
           "arrowhead": 0,
           "arrowwidth": 1
          },
          "autotypenumbers": "strict",
          "coloraxis": {
           "colorbar": {
            "outlinewidth": 0,
            "ticks": ""
           }
          },
          "colorscale": {
           "diverging": [
            [
             0,
             "#8e0152"
            ],
            [
             0.1,
             "#c51b7d"
            ],
            [
             0.2,
             "#de77ae"
            ],
            [
             0.3,
             "#f1b6da"
            ],
            [
             0.4,
             "#fde0ef"
            ],
            [
             0.5,
             "#f7f7f7"
            ],
            [
             0.6,
             "#e6f5d0"
            ],
            [
             0.7,
             "#b8e186"
            ],
            [
             0.8,
             "#7fbc41"
            ],
            [
             0.9,
             "#4d9221"
            ],
            [
             1,
             "#276419"
            ]
           ],
           "sequential": [
            [
             0,
             "#0d0887"
            ],
            [
             0.1111111111111111,
             "#46039f"
            ],
            [
             0.2222222222222222,
             "#7201a8"
            ],
            [
             0.3333333333333333,
             "#9c179e"
            ],
            [
             0.4444444444444444,
             "#bd3786"
            ],
            [
             0.5555555555555556,
             "#d8576b"
            ],
            [
             0.6666666666666666,
             "#ed7953"
            ],
            [
             0.7777777777777778,
             "#fb9f3a"
            ],
            [
             0.8888888888888888,
             "#fdca26"
            ],
            [
             1,
             "#f0f921"
            ]
           ],
           "sequentialminus": [
            [
             0,
             "#0d0887"
            ],
            [
             0.1111111111111111,
             "#46039f"
            ],
            [
             0.2222222222222222,
             "#7201a8"
            ],
            [
             0.3333333333333333,
             "#9c179e"
            ],
            [
             0.4444444444444444,
             "#bd3786"
            ],
            [
             0.5555555555555556,
             "#d8576b"
            ],
            [
             0.6666666666666666,
             "#ed7953"
            ],
            [
             0.7777777777777778,
             "#fb9f3a"
            ],
            [
             0.8888888888888888,
             "#fdca26"
            ],
            [
             1,
             "#f0f921"
            ]
           ]
          },
          "colorway": [
           "#636efa",
           "#EF553B",
           "#00cc96",
           "#ab63fa",
           "#FFA15A",
           "#19d3f3",
           "#FF6692",
           "#B6E880",
           "#FF97FF",
           "#FECB52"
          ],
          "font": {
           "color": "#2a3f5f"
          },
          "geo": {
           "bgcolor": "white",
           "lakecolor": "white",
           "landcolor": "#E5ECF6",
           "showlakes": true,
           "showland": true,
           "subunitcolor": "white"
          },
          "hoverlabel": {
           "align": "left"
          },
          "hovermode": "closest",
          "mapbox": {
           "style": "light"
          },
          "paper_bgcolor": "white",
          "plot_bgcolor": "#E5ECF6",
          "polar": {
           "angularaxis": {
            "gridcolor": "white",
            "linecolor": "white",
            "ticks": ""
           },
           "bgcolor": "#E5ECF6",
           "radialaxis": {
            "gridcolor": "white",
            "linecolor": "white",
            "ticks": ""
           }
          },
          "scene": {
           "xaxis": {
            "backgroundcolor": "#E5ECF6",
            "gridcolor": "white",
            "gridwidth": 2,
            "linecolor": "white",
            "showbackground": true,
            "ticks": "",
            "zerolinecolor": "white"
           },
           "yaxis": {
            "backgroundcolor": "#E5ECF6",
            "gridcolor": "white",
            "gridwidth": 2,
            "linecolor": "white",
            "showbackground": true,
            "ticks": "",
            "zerolinecolor": "white"
           },
           "zaxis": {
            "backgroundcolor": "#E5ECF6",
            "gridcolor": "white",
            "gridwidth": 2,
            "linecolor": "white",
            "showbackground": true,
            "ticks": "",
            "zerolinecolor": "white"
           }
          },
          "shapedefaults": {
           "line": {
            "color": "#2a3f5f"
           }
          },
          "ternary": {
           "aaxis": {
            "gridcolor": "white",
            "linecolor": "white",
            "ticks": ""
           },
           "baxis": {
            "gridcolor": "white",
            "linecolor": "white",
            "ticks": ""
           },
           "bgcolor": "#E5ECF6",
           "caxis": {
            "gridcolor": "white",
            "linecolor": "white",
            "ticks": ""
           }
          },
          "title": {
           "x": 0.05
          },
          "xaxis": {
           "automargin": true,
           "gridcolor": "white",
           "linecolor": "white",
           "ticks": "",
           "title": {
            "standoff": 15
           },
           "zerolinecolor": "white",
           "zerolinewidth": 2
          },
          "yaxis": {
           "automargin": true,
           "gridcolor": "white",
           "linecolor": "white",
           "ticks": "",
           "title": {
            "standoff": 15
           },
           "zerolinecolor": "white",
           "zerolinewidth": 2
          }
         }
        },
        "xaxis": {
         "anchor": "y",
         "domain": [
          0,
          1
         ],
         "title": {
          "text": "x"
         }
        },
        "yaxis": {
         "anchor": "x",
         "domain": [
          0,
          1
         ],
         "title": {
          "text": "y"
         }
        }
       }
      }
     },
     "metadata": {},
     "output_type": "display_data"
    }
   ],
   "source": [
    "fig = px.scatter(x=df[\"population\"], y=df[\"fossil_share_elec\"], color=df['cluster1'])\n",
    "fig.show()"
   ]
  },
  {
   "cell_type": "code",
   "execution_count": 25,
   "metadata": {},
   "outputs": [
    {
     "data": {
      "application/vnd.plotly.v1+json": {
       "config": {
        "plotlyServerURL": "https://plot.ly"
       },
       "data": [
        {
         "hovertemplate": "x=%{x}<br>y=%{y}<br>color=%{marker.color}<extra></extra>",
         "legendgroup": "",
         "marker": {
          "color": [
           0,
           0,
           1,
           2,
           1,
           -1,
           -1,
           1,
           1,
           0,
           1,
           1,
           1,
           -1,
           1,
           1,
           -1,
           0,
           1,
           1,
           0,
           2,
           2,
           1,
           -1,
           1,
           1,
           -1,
           1,
           0,
           2,
           2,
           -1,
           1,
           0,
           1,
           2,
           -1,
           2,
           1,
           1,
           0,
           2,
           1,
           1,
           -1,
           -1,
           2,
           1,
           2,
           1,
           2,
           -1,
           2,
           1,
           1,
           1,
           -1,
           2,
           -1,
           -1,
           2,
           2,
           2,
           1,
           0,
           -1,
           2,
           1,
           0,
           1,
           1,
           1,
           2,
           2,
           1,
           1,
           1,
           2,
           1,
           -1,
           0,
           -1,
           -1,
           1,
           1,
           1,
           1,
           2,
           1,
           -1,
           1,
           1,
           0,
           1,
           1,
           0,
           0,
           2,
           1,
           0,
           1,
           1,
           2,
           2,
           0,
           1,
           1,
           2,
           1,
           1,
           1,
           -1,
           1,
           1,
           2,
           1,
           1,
           0,
           0,
           1,
           1,
           1,
           0,
           2,
           1,
           1,
           0,
           0,
           1,
           -1,
           1,
           2,
           1,
           2,
           -1,
           2,
           1,
           1,
           -1,
           -1,
           2,
           1,
           1,
           1,
           1,
           1,
           2,
           1,
           1,
           1,
           1,
           1,
           2,
           1,
           -1,
           -1,
           1,
           1,
           -1,
           1,
           -1,
           2,
           2,
           2,
           -1,
           -1,
           1,
           -1,
           0,
           2,
           1,
           2,
           1,
           1,
           1,
           -1,
           1,
           1,
           0,
           -1,
           1
          ],
          "coloraxis": "coloraxis",
          "symbol": "circle"
         },
         "mode": "markers",
         "name": "",
         "orientation": "v",
         "showlegend": false,
         "type": "scatter",
         "x": [
          34247333.333333336,
          2896444.4444444445,
          39784222.222222224,
          27940555.55555556,
          93444.44444444444,
          43063444.44444445,
          2920888.888888889,
          104222.22222222222,
          23908222.222222224,
          8691000,
          9611555.555555556,
          374555.5555555556,
          1414555.5555555555,
          156210883.55555555,
          285222.22222222225,
          9436444.444444444,
          11284111.111111112,
          360555.5555555556,
          10599000,
          63777.77777777778,
          728000,
          10866777.777777778,
          3453666.6666666665,
          2139000,
          204398890.66666663,
          29222.222222222223,
          414222.2222222223,
          7195000,
          18148222.222222224,
          10196555.555555556,
          15517222.222222222,
          23337000,
          36005555.55555555,
          61666.66666666666,
          4533888.888888889,
          14127222.222222222,
          18032666.666666668,
          1406154666.6666667,
          47756444.44444445,
          778000,
          18000,
          4844666.666666667,
          4228111.111111111,
          11306000,
          1161666.6666666667,
          10615777.777777778,
          76466000,
          5683555.555555556,
          913777.7777777778,
          71222.22222222222,
          10279555.555555556,
          16258111.111111112,
          92436222.22222222,
          6328222.222222222,
          1169666.6666666667,
          3348777.777777778,
          1320666.6666666667,
          100943111.1111111,
          872333.3333333334,
          5472222.222222222,
          64328777.777777776,
          262666.6666666667,
          273333.3333333333,
          1938777.7777777775,
          2090888.888888889,
          4030777.777777778,
          81970333.33333333,
          27872555.55555556,
          10654555.555555556,
          56333.333333333336,
          109444.44444444444,
          401555.5555555556,
          162555.55555555556,
          16257555.555555556,
          11504333.333333334,
          1738888.888888889,
          767111.1111111111,
          10689444.444444444,
          9113777.777777778,
          7202444.444444444,
          9783666.666666666,
          330777.7777777777,
          1309435221.3333333,
          258154222.2222222,
          78618555.55555555,
          35296000,
          4693666.666666667,
          7991444.444444444,
          60348555.55555555,
          2889222.222222222,
          127857666.66666669,
          9096111.111111112,
          17547333.333333332,
          47873222.222222224,
          111111.11111111112,
          3769666.6666666665,
          5962111.111111111,
          6749333.333333333,
          1998555.5555555555,
          6299444.444444444,
          2061111.111111111,
          4475333.333333333,
          6462444.444444444,
          2926333.333333333,
          567333.3333333334,
          16764333.333333334,
          30288222.222222224,
          455777.77777777775,
          17503333.333333332,
          431444.4444444445,
          381000,
          1259777.7777777778,
          121765111.1111111,
          4066111.111111111,
          2997777.777777778,
          626888.8888888889,
          5000,
          34644888.88888889,
          27142333.33333333,
          2319777.777777778,
          10333.333333333334,
          16929333.333333332,
          270555.5555555556,
          4608444.444444444,
          6223888.888888889,
          20089000,
          2000,
          25177777.777777776,
          5183000,
          4195222.222222222,
          199660332.44444445,
          4545666.666666667,
          3972000,
          8115333.333333333,
          30663888.888888888,
          101987333.33333331,
          10383444.444444444,
          3317444.4444444445,
          2509666.6666666665,
          19886555.55555556,
          144898110.2222222,
          11409666.666666666,
          5777.777777777777,
          51111.11111111111,
          179333.33333333334,
          6000,
          109222.22222222222,
          192888.88888888888,
          199555.5555555556,
          31514000,
          14614888.888888888,
          8873000,
          94888.88888888888,
          7178777.777777778,
          5569888.888888889,
          5434555.555555556,
          2068555.5555555555,
          604111.1111111111,
          13844666.666666666,
          50677777.777777776,
          10594777.777777778,
          46804333.333333336,
          20888111.111111112,
          38974777.777777776,
          558666.6666666666,
          9759333.333333334,
          8275555.555555556,
          18487111.111111112,
          23542222.222222224,
          8478444.444444444,
          51631222.222222224,
          68654222.22222222,
          7329444.444444444,
          102333.33333333331,
          1368222.2222222222,
          11198000,
          78499000,
          5561333.333333333,
          35888.88888888889,
          38520333.333333336,
          44870777.777777776,
          9334888.888888888
         ],
         "xaxis": "x",
         "y": [
          83.54344444444445,
          99.85144444444444,
          0.7663333333333333,
          65.67355555555555,
          1.572,
          24.9565,
          31.018000000000004,
          16.076999999999998,
          16.1249,
          76.4209,
          8.4712,
          0.1038888888888888,
          0.0257777777777777,
          1.7922,
          1.8823333333333327,
          1.5658,
          18.0854,
          96.514,
          2.7984444444444443,
          0,
          99.99466666666666,
          31.721,
          34.230000000000004,
          0.165,
          80.964,
          1.0435555555555556,
          0.0416666666666666,
          15.3273,
          15.253888888888888,
          80.43233333333335,
          46.68411111111111,
          66.47200000000001,
          66.18379999999999,
          0.8367777777777778,
          96.28844444444444,
          1.8128888888888888,
          43.7029,
          23.9109,
          73.7897,
          3.307,
          11.258777777777778,
          95.7824,
          63.301,
          4.011333333333334,
          8.0901,
          10.7191,
          99.79077777777778,
          60.8865,
          0.8294444444444444,
          32.31388888888889,
          12.155444444444443,
          61.81911111111111,
          9.922333333333334,
          64.00677777777778,
          27.402666666666665,
          3.615,
          15.9803,
          99.89044444444444,
          58.81944444444444,
          42.66,
          17.3772,
          60.39433333333333,
          34.49444444444444,
          43.041777777777774,
          1.1335555555555556,
          79.99588888888889,
          30.6145,
          58.945,
          25.8654,
          80.626,
          1.6578888888888887,
          12.929555555555556,
          1.922555555555556,
          64.89644444444444,
          52.902,
          2.052777777777778,
          2.016,
          14.955111111111112,
          53.59733333333334,
          0.1934444444444444,
          10.7023,
          99.98444444444443,
          18.6021,
          13.58488888888889,
          6.1158,
          5.160777777777778,
          27.8065,
          2.076,
          37.6403,
          9.148222222222223,
          18.781,
          4.386333333333333,
          10.3766,
          79.83777777777777,
          10.330333333333334,
          0.0613333333333333,
          91.424,
          82.95022222222222,
          56.7076,
          3.474555555555556,
          100,
          0.3185555555555555,
          0.0243333333333333,
          53.268600000000006,
          43.3258,
          91.23455555555556,
          12.63011111111111,
          0.4555555555555555,
          52.55155555555555,
          7.0952,
          2.7977777777777777,
          21.80211111111111,
          16.5899,
          6.086444444444444,
          4.8538,
          55.74944444444444,
          0,
          15.340222222222224,
          90.12611111111111,
          97.59633333333332,
          0,
          14.6696,
          15.024333333333333,
          79.998,
          52.80433333333333,
          1.463,
          0,
          76.99288888888888,
          98.111,
          0.0074444444444444,
          32.795,
          0.0377777777777777,
          66.893,
          27.23633333333333,
          57.7494,
          25.849,
          51.2143,
          4.257222222222222,
          0.3211111111111111,
          37.3332,
          18.0368,
          48.70088888888889,
          0,
          3.7568888888888887,
          0.3106666666666666,
          1.4925555555555556,
          15.373555555555557,
          30.84655555555556,
          8.924333333333333,
          0.0272222222222222,
          11.075222222222225,
          28.7959,
          1.020333333333333,
          68.674,
          3.1572,
          22.743,
          30.9135,
          5.444222222222222,
          2.6202222222222225,
          3.2709,
          0.486375,
          36.3737,
          42.33322222222223,
          68.51866666666666,
          44.77577777777778,
          58.5124,
          62.5076,
          7.188999999999999,
          4.8332,
          96.8246,
          35.84166666666667,
          12.5835,
          39.50544444444445,
          0,
          0.0512222222222222,
          2.9312,
          32.465,
          0.0141111111111111,
          0,
          89.3971111111111,
          6.9941,
          0.642888888888889
         ],
         "yaxis": "y"
        }
       ],
       "layout": {
        "coloraxis": {
         "colorbar": {
          "title": {
           "text": "color"
          }
         },
         "colorscale": [
          [
           0,
           "#0d0887"
          ],
          [
           0.1111111111111111,
           "#46039f"
          ],
          [
           0.2222222222222222,
           "#7201a8"
          ],
          [
           0.3333333333333333,
           "#9c179e"
          ],
          [
           0.4444444444444444,
           "#bd3786"
          ],
          [
           0.5555555555555556,
           "#d8576b"
          ],
          [
           0.6666666666666666,
           "#ed7953"
          ],
          [
           0.7777777777777778,
           "#fb9f3a"
          ],
          [
           0.8888888888888888,
           "#fdca26"
          ],
          [
           1,
           "#f0f921"
          ]
         ]
        },
        "legend": {
         "tracegroupgap": 0
        },
        "margin": {
         "t": 60
        },
        "template": {
         "data": {
          "bar": [
           {
            "error_x": {
             "color": "#2a3f5f"
            },
            "error_y": {
             "color": "#2a3f5f"
            },
            "marker": {
             "line": {
              "color": "#E5ECF6",
              "width": 0.5
             },
             "pattern": {
              "fillmode": "overlay",
              "size": 10,
              "solidity": 0.2
             }
            },
            "type": "bar"
           }
          ],
          "barpolar": [
           {
            "marker": {
             "line": {
              "color": "#E5ECF6",
              "width": 0.5
             },
             "pattern": {
              "fillmode": "overlay",
              "size": 10,
              "solidity": 0.2
             }
            },
            "type": "barpolar"
           }
          ],
          "carpet": [
           {
            "aaxis": {
             "endlinecolor": "#2a3f5f",
             "gridcolor": "white",
             "linecolor": "white",
             "minorgridcolor": "white",
             "startlinecolor": "#2a3f5f"
            },
            "baxis": {
             "endlinecolor": "#2a3f5f",
             "gridcolor": "white",
             "linecolor": "white",
             "minorgridcolor": "white",
             "startlinecolor": "#2a3f5f"
            },
            "type": "carpet"
           }
          ],
          "choropleth": [
           {
            "colorbar": {
             "outlinewidth": 0,
             "ticks": ""
            },
            "type": "choropleth"
           }
          ],
          "contour": [
           {
            "colorbar": {
             "outlinewidth": 0,
             "ticks": ""
            },
            "colorscale": [
             [
              0,
              "#0d0887"
             ],
             [
              0.1111111111111111,
              "#46039f"
             ],
             [
              0.2222222222222222,
              "#7201a8"
             ],
             [
              0.3333333333333333,
              "#9c179e"
             ],
             [
              0.4444444444444444,
              "#bd3786"
             ],
             [
              0.5555555555555556,
              "#d8576b"
             ],
             [
              0.6666666666666666,
              "#ed7953"
             ],
             [
              0.7777777777777778,
              "#fb9f3a"
             ],
             [
              0.8888888888888888,
              "#fdca26"
             ],
             [
              1,
              "#f0f921"
             ]
            ],
            "type": "contour"
           }
          ],
          "contourcarpet": [
           {
            "colorbar": {
             "outlinewidth": 0,
             "ticks": ""
            },
            "type": "contourcarpet"
           }
          ],
          "heatmap": [
           {
            "colorbar": {
             "outlinewidth": 0,
             "ticks": ""
            },
            "colorscale": [
             [
              0,
              "#0d0887"
             ],
             [
              0.1111111111111111,
              "#46039f"
             ],
             [
              0.2222222222222222,
              "#7201a8"
             ],
             [
              0.3333333333333333,
              "#9c179e"
             ],
             [
              0.4444444444444444,
              "#bd3786"
             ],
             [
              0.5555555555555556,
              "#d8576b"
             ],
             [
              0.6666666666666666,
              "#ed7953"
             ],
             [
              0.7777777777777778,
              "#fb9f3a"
             ],
             [
              0.8888888888888888,
              "#fdca26"
             ],
             [
              1,
              "#f0f921"
             ]
            ],
            "type": "heatmap"
           }
          ],
          "heatmapgl": [
           {
            "colorbar": {
             "outlinewidth": 0,
             "ticks": ""
            },
            "colorscale": [
             [
              0,
              "#0d0887"
             ],
             [
              0.1111111111111111,
              "#46039f"
             ],
             [
              0.2222222222222222,
              "#7201a8"
             ],
             [
              0.3333333333333333,
              "#9c179e"
             ],
             [
              0.4444444444444444,
              "#bd3786"
             ],
             [
              0.5555555555555556,
              "#d8576b"
             ],
             [
              0.6666666666666666,
              "#ed7953"
             ],
             [
              0.7777777777777778,
              "#fb9f3a"
             ],
             [
              0.8888888888888888,
              "#fdca26"
             ],
             [
              1,
              "#f0f921"
             ]
            ],
            "type": "heatmapgl"
           }
          ],
          "histogram": [
           {
            "marker": {
             "pattern": {
              "fillmode": "overlay",
              "size": 10,
              "solidity": 0.2
             }
            },
            "type": "histogram"
           }
          ],
          "histogram2d": [
           {
            "colorbar": {
             "outlinewidth": 0,
             "ticks": ""
            },
            "colorscale": [
             [
              0,
              "#0d0887"
             ],
             [
              0.1111111111111111,
              "#46039f"
             ],
             [
              0.2222222222222222,
              "#7201a8"
             ],
             [
              0.3333333333333333,
              "#9c179e"
             ],
             [
              0.4444444444444444,
              "#bd3786"
             ],
             [
              0.5555555555555556,
              "#d8576b"
             ],
             [
              0.6666666666666666,
              "#ed7953"
             ],
             [
              0.7777777777777778,
              "#fb9f3a"
             ],
             [
              0.8888888888888888,
              "#fdca26"
             ],
             [
              1,
              "#f0f921"
             ]
            ],
            "type": "histogram2d"
           }
          ],
          "histogram2dcontour": [
           {
            "colorbar": {
             "outlinewidth": 0,
             "ticks": ""
            },
            "colorscale": [
             [
              0,
              "#0d0887"
             ],
             [
              0.1111111111111111,
              "#46039f"
             ],
             [
              0.2222222222222222,
              "#7201a8"
             ],
             [
              0.3333333333333333,
              "#9c179e"
             ],
             [
              0.4444444444444444,
              "#bd3786"
             ],
             [
              0.5555555555555556,
              "#d8576b"
             ],
             [
              0.6666666666666666,
              "#ed7953"
             ],
             [
              0.7777777777777778,
              "#fb9f3a"
             ],
             [
              0.8888888888888888,
              "#fdca26"
             ],
             [
              1,
              "#f0f921"
             ]
            ],
            "type": "histogram2dcontour"
           }
          ],
          "mesh3d": [
           {
            "colorbar": {
             "outlinewidth": 0,
             "ticks": ""
            },
            "type": "mesh3d"
           }
          ],
          "parcoords": [
           {
            "line": {
             "colorbar": {
              "outlinewidth": 0,
              "ticks": ""
             }
            },
            "type": "parcoords"
           }
          ],
          "pie": [
           {
            "automargin": true,
            "type": "pie"
           }
          ],
          "scatter": [
           {
            "fillpattern": {
             "fillmode": "overlay",
             "size": 10,
             "solidity": 0.2
            },
            "type": "scatter"
           }
          ],
          "scatter3d": [
           {
            "line": {
             "colorbar": {
              "outlinewidth": 0,
              "ticks": ""
             }
            },
            "marker": {
             "colorbar": {
              "outlinewidth": 0,
              "ticks": ""
             }
            },
            "type": "scatter3d"
           }
          ],
          "scattercarpet": [
           {
            "marker": {
             "colorbar": {
              "outlinewidth": 0,
              "ticks": ""
             }
            },
            "type": "scattercarpet"
           }
          ],
          "scattergeo": [
           {
            "marker": {
             "colorbar": {
              "outlinewidth": 0,
              "ticks": ""
             }
            },
            "type": "scattergeo"
           }
          ],
          "scattergl": [
           {
            "marker": {
             "colorbar": {
              "outlinewidth": 0,
              "ticks": ""
             }
            },
            "type": "scattergl"
           }
          ],
          "scattermapbox": [
           {
            "marker": {
             "colorbar": {
              "outlinewidth": 0,
              "ticks": ""
             }
            },
            "type": "scattermapbox"
           }
          ],
          "scatterpolar": [
           {
            "marker": {
             "colorbar": {
              "outlinewidth": 0,
              "ticks": ""
             }
            },
            "type": "scatterpolar"
           }
          ],
          "scatterpolargl": [
           {
            "marker": {
             "colorbar": {
              "outlinewidth": 0,
              "ticks": ""
             }
            },
            "type": "scatterpolargl"
           }
          ],
          "scatterternary": [
           {
            "marker": {
             "colorbar": {
              "outlinewidth": 0,
              "ticks": ""
             }
            },
            "type": "scatterternary"
           }
          ],
          "surface": [
           {
            "colorbar": {
             "outlinewidth": 0,
             "ticks": ""
            },
            "colorscale": [
             [
              0,
              "#0d0887"
             ],
             [
              0.1111111111111111,
              "#46039f"
             ],
             [
              0.2222222222222222,
              "#7201a8"
             ],
             [
              0.3333333333333333,
              "#9c179e"
             ],
             [
              0.4444444444444444,
              "#bd3786"
             ],
             [
              0.5555555555555556,
              "#d8576b"
             ],
             [
              0.6666666666666666,
              "#ed7953"
             ],
             [
              0.7777777777777778,
              "#fb9f3a"
             ],
             [
              0.8888888888888888,
              "#fdca26"
             ],
             [
              1,
              "#f0f921"
             ]
            ],
            "type": "surface"
           }
          ],
          "table": [
           {
            "cells": {
             "fill": {
              "color": "#EBF0F8"
             },
             "line": {
              "color": "white"
             }
            },
            "header": {
             "fill": {
              "color": "#C8D4E3"
             },
             "line": {
              "color": "white"
             }
            },
            "type": "table"
           }
          ]
         },
         "layout": {
          "annotationdefaults": {
           "arrowcolor": "#2a3f5f",
           "arrowhead": 0,
           "arrowwidth": 1
          },
          "autotypenumbers": "strict",
          "coloraxis": {
           "colorbar": {
            "outlinewidth": 0,
            "ticks": ""
           }
          },
          "colorscale": {
           "diverging": [
            [
             0,
             "#8e0152"
            ],
            [
             0.1,
             "#c51b7d"
            ],
            [
             0.2,
             "#de77ae"
            ],
            [
             0.3,
             "#f1b6da"
            ],
            [
             0.4,
             "#fde0ef"
            ],
            [
             0.5,
             "#f7f7f7"
            ],
            [
             0.6,
             "#e6f5d0"
            ],
            [
             0.7,
             "#b8e186"
            ],
            [
             0.8,
             "#7fbc41"
            ],
            [
             0.9,
             "#4d9221"
            ],
            [
             1,
             "#276419"
            ]
           ],
           "sequential": [
            [
             0,
             "#0d0887"
            ],
            [
             0.1111111111111111,
             "#46039f"
            ],
            [
             0.2222222222222222,
             "#7201a8"
            ],
            [
             0.3333333333333333,
             "#9c179e"
            ],
            [
             0.4444444444444444,
             "#bd3786"
            ],
            [
             0.5555555555555556,
             "#d8576b"
            ],
            [
             0.6666666666666666,
             "#ed7953"
            ],
            [
             0.7777777777777778,
             "#fb9f3a"
            ],
            [
             0.8888888888888888,
             "#fdca26"
            ],
            [
             1,
             "#f0f921"
            ]
           ],
           "sequentialminus": [
            [
             0,
             "#0d0887"
            ],
            [
             0.1111111111111111,
             "#46039f"
            ],
            [
             0.2222222222222222,
             "#7201a8"
            ],
            [
             0.3333333333333333,
             "#9c179e"
            ],
            [
             0.4444444444444444,
             "#bd3786"
            ],
            [
             0.5555555555555556,
             "#d8576b"
            ],
            [
             0.6666666666666666,
             "#ed7953"
            ],
            [
             0.7777777777777778,
             "#fb9f3a"
            ],
            [
             0.8888888888888888,
             "#fdca26"
            ],
            [
             1,
             "#f0f921"
            ]
           ]
          },
          "colorway": [
           "#636efa",
           "#EF553B",
           "#00cc96",
           "#ab63fa",
           "#FFA15A",
           "#19d3f3",
           "#FF6692",
           "#B6E880",
           "#FF97FF",
           "#FECB52"
          ],
          "font": {
           "color": "#2a3f5f"
          },
          "geo": {
           "bgcolor": "white",
           "lakecolor": "white",
           "landcolor": "#E5ECF6",
           "showlakes": true,
           "showland": true,
           "subunitcolor": "white"
          },
          "hoverlabel": {
           "align": "left"
          },
          "hovermode": "closest",
          "mapbox": {
           "style": "light"
          },
          "paper_bgcolor": "white",
          "plot_bgcolor": "#E5ECF6",
          "polar": {
           "angularaxis": {
            "gridcolor": "white",
            "linecolor": "white",
            "ticks": ""
           },
           "bgcolor": "#E5ECF6",
           "radialaxis": {
            "gridcolor": "white",
            "linecolor": "white",
            "ticks": ""
           }
          },
          "scene": {
           "xaxis": {
            "backgroundcolor": "#E5ECF6",
            "gridcolor": "white",
            "gridwidth": 2,
            "linecolor": "white",
            "showbackground": true,
            "ticks": "",
            "zerolinecolor": "white"
           },
           "yaxis": {
            "backgroundcolor": "#E5ECF6",
            "gridcolor": "white",
            "gridwidth": 2,
            "linecolor": "white",
            "showbackground": true,
            "ticks": "",
            "zerolinecolor": "white"
           },
           "zaxis": {
            "backgroundcolor": "#E5ECF6",
            "gridcolor": "white",
            "gridwidth": 2,
            "linecolor": "white",
            "showbackground": true,
            "ticks": "",
            "zerolinecolor": "white"
           }
          },
          "shapedefaults": {
           "line": {
            "color": "#2a3f5f"
           }
          },
          "ternary": {
           "aaxis": {
            "gridcolor": "white",
            "linecolor": "white",
            "ticks": ""
           },
           "baxis": {
            "gridcolor": "white",
            "linecolor": "white",
            "ticks": ""
           },
           "bgcolor": "#E5ECF6",
           "caxis": {
            "gridcolor": "white",
            "linecolor": "white",
            "ticks": ""
           }
          },
          "title": {
           "x": 0.05
          },
          "xaxis": {
           "automargin": true,
           "gridcolor": "white",
           "linecolor": "white",
           "ticks": "",
           "title": {
            "standoff": 15
           },
           "zerolinecolor": "white",
           "zerolinewidth": 2
          },
          "yaxis": {
           "automargin": true,
           "gridcolor": "white",
           "linecolor": "white",
           "ticks": "",
           "title": {
            "standoff": 15
           },
           "zerolinecolor": "white",
           "zerolinewidth": 2
          }
         }
        },
        "xaxis": {
         "anchor": "y",
         "domain": [
          0,
          1
         ],
         "title": {
          "text": "x"
         }
        },
        "yaxis": {
         "anchor": "x",
         "domain": [
          0,
          1
         ],
         "title": {
          "text": "y"
         }
        }
       }
      }
     },
     "metadata": {},
     "output_type": "display_data"
    }
   ],
   "source": [
    "fig = px.scatter(x=df[\"population\"], y=df[\"renewables_share_elec\"], color=df['cluster1'])\n",
    "fig.show()"
   ]
  },
  {
   "cell_type": "code",
   "execution_count": 26,
   "metadata": {},
   "outputs": [
    {
     "data": {
      "application/vnd.plotly.v1+json": {
       "config": {
        "plotlyServerURL": "https://plot.ly"
       },
       "data": [
        {
         "hovertemplate": "x=%{x}<br>y=%{y}<br>color=%{marker.color}<extra></extra>",
         "legendgroup": "",
         "marker": {
          "color": [
           0,
           0,
           1,
           2,
           1,
           -1,
           -1,
           1,
           1,
           0,
           1,
           1,
           1,
           -1,
           1,
           1,
           -1,
           0,
           1,
           1,
           0,
           2,
           2,
           1,
           -1,
           1,
           1,
           -1,
           1,
           0,
           2,
           2,
           -1,
           1,
           0,
           1,
           2,
           -1,
           2,
           1,
           1,
           0,
           2,
           1,
           1,
           -1,
           -1,
           2,
           1,
           2,
           1,
           2,
           -1,
           2,
           1,
           1,
           1,
           -1,
           2,
           -1,
           -1,
           2,
           2,
           2,
           1,
           0,
           -1,
           2,
           1,
           0,
           1,
           1,
           1,
           2,
           2,
           1,
           1,
           1,
           2,
           1,
           -1,
           0,
           -1,
           -1,
           1,
           1,
           1,
           1,
           2,
           1,
           -1,
           1,
           1,
           0,
           1,
           1,
           0,
           0,
           2,
           1,
           0,
           1,
           1,
           2,
           2,
           0,
           1,
           1,
           2,
           1,
           1,
           1,
           -1,
           1,
           1,
           2,
           1,
           1,
           0,
           0,
           1,
           1,
           1,
           0,
           2,
           1,
           1,
           0,
           0,
           1,
           -1,
           1,
           2,
           1,
           2,
           -1,
           2,
           1,
           1,
           -1,
           -1,
           2,
           1,
           1,
           1,
           1,
           1,
           2,
           1,
           1,
           1,
           1,
           1,
           2,
           1,
           -1,
           -1,
           1,
           1,
           -1,
           1,
           -1,
           2,
           2,
           2,
           -1,
           -1,
           1,
           -1,
           0,
           2,
           1,
           2,
           1,
           1,
           1,
           -1,
           1,
           1,
           0,
           -1,
           1
          ],
          "coloraxis": "coloraxis",
          "symbol": "circle"
         },
         "mode": "markers",
         "name": "",
         "orientation": "v",
         "showlegend": false,
         "type": "scatter",
         "x": [
          34247333.333333336,
          2896444.4444444445,
          39784222.222222224,
          27940555.55555556,
          93444.44444444444,
          43063444.44444445,
          2920888.888888889,
          104222.22222222222,
          23908222.222222224,
          8691000,
          9611555.555555556,
          374555.5555555556,
          1414555.5555555555,
          156210883.55555555,
          285222.22222222225,
          9436444.444444444,
          11284111.111111112,
          360555.5555555556,
          10599000,
          63777.77777777778,
          728000,
          10866777.777777778,
          3453666.6666666665,
          2139000,
          204398890.66666663,
          29222.222222222223,
          414222.2222222223,
          7195000,
          18148222.222222224,
          10196555.555555556,
          15517222.222222222,
          23337000,
          36005555.55555555,
          61666.66666666666,
          4533888.888888889,
          14127222.222222222,
          18032666.666666668,
          1406154666.6666667,
          47756444.44444445,
          778000,
          18000,
          4844666.666666667,
          4228111.111111111,
          11306000,
          1161666.6666666667,
          10615777.777777778,
          76466000,
          5683555.555555556,
          913777.7777777778,
          71222.22222222222,
          10279555.555555556,
          16258111.111111112,
          92436222.22222222,
          6328222.222222222,
          1169666.6666666667,
          3348777.777777778,
          1320666.6666666667,
          100943111.1111111,
          872333.3333333334,
          5472222.222222222,
          64328777.777777776,
          262666.6666666667,
          273333.3333333333,
          1938777.7777777775,
          2090888.888888889,
          4030777.777777778,
          81970333.33333333,
          27872555.55555556,
          10654555.555555556,
          56333.333333333336,
          109444.44444444444,
          401555.5555555556,
          162555.55555555556,
          16257555.555555556,
          11504333.333333334,
          1738888.888888889,
          767111.1111111111,
          10689444.444444444,
          9113777.777777778,
          7202444.444444444,
          9783666.666666666,
          330777.7777777777,
          1309435221.3333333,
          258154222.2222222,
          78618555.55555555,
          35296000,
          4693666.666666667,
          7991444.444444444,
          60348555.55555555,
          2889222.222222222,
          127857666.66666669,
          9096111.111111112,
          17547333.333333332,
          47873222.222222224,
          111111.11111111112,
          3769666.6666666665,
          5962111.111111111,
          6749333.333333333,
          1998555.5555555555,
          6299444.444444444,
          2061111.111111111,
          4475333.333333333,
          6462444.444444444,
          2926333.333333333,
          567333.3333333334,
          16764333.333333334,
          30288222.222222224,
          455777.77777777775,
          17503333.333333332,
          431444.4444444445,
          381000,
          1259777.7777777778,
          121765111.1111111,
          4066111.111111111,
          2997777.777777778,
          626888.8888888889,
          5000,
          34644888.88888889,
          27142333.33333333,
          2319777.777777778,
          10333.333333333334,
          16929333.333333332,
          270555.5555555556,
          4608444.444444444,
          6223888.888888889,
          20089000,
          2000,
          25177777.777777776,
          5183000,
          4195222.222222222,
          199660332.44444445,
          4545666.666666667,
          3972000,
          8115333.333333333,
          30663888.888888888,
          101987333.33333331,
          10383444.444444444,
          3317444.4444444445,
          2509666.6666666665,
          19886555.55555556,
          144898110.2222222,
          11409666.666666666,
          5777.777777777777,
          51111.11111111111,
          179333.33333333334,
          6000,
          109222.22222222222,
          192888.88888888888,
          199555.5555555556,
          31514000,
          14614888.888888888,
          8873000,
          94888.88888888888,
          7178777.777777778,
          5569888.888888889,
          5434555.555555556,
          2068555.5555555555,
          604111.1111111111,
          13844666.666666666,
          50677777.777777776,
          10594777.777777778,
          46804333.333333336,
          20888111.111111112,
          38974777.777777776,
          558666.6666666666,
          9759333.333333334,
          8275555.555555556,
          18487111.111111112,
          23542222.222222224,
          8478444.444444444,
          51631222.222222224,
          68654222.22222222,
          7329444.444444444,
          102333.33333333331,
          1368222.2222222222,
          11198000,
          78499000,
          5561333.333333333,
          35888.88888888889,
          38520333.333333336,
          44870777.777777776,
          9334888.888888888
         ],
         "xaxis": "x",
         "y": [
          0,
          0,
          0,
          0,
          0,
          5.0098,
          30.504444444444445,
          0,
          0,
          0,
          0,
          0,
          0,
          0,
          0,
          0,
          46.819,
          0,
          0,
          0,
          0,
          0,
          0,
          0,
          2.5686,
          0,
          0,
          34.8674,
          0,
          0,
          0,
          0,
          14.8717,
          0,
          0,
          0,
          0,
          3.2415,
          0,
          0,
          0,
          0,
          0,
          0,
          0,
          34.1146,
          0,
          0,
          0,
          0,
          0,
          0,
          0,
          0,
          0,
          0,
          0,
          0,
          0,
          33.6109,
          73.312,
          0,
          0,
          0,
          0,
          0,
          13.9612,
          0,
          0,
          0,
          0,
          0,
          0,
          0,
          0,
          0,
          0,
          0,
          0,
          0,
          49.0058,
          0,
          3.2331000000000003,
          0,
          1.502,
          0,
          0,
          0,
          0,
          0,
          3.6094,
          0,
          0,
          0,
          0,
          0,
          0,
          0,
          0,
          0,
          0,
          0,
          0,
          0,
          0,
          0,
          0,
          0,
          0,
          0,
          0,
          0,
          3.5458,
          0,
          0,
          0,
          0,
          0,
          0,
          0,
          0,
          3.3857,
          0,
          0,
          0,
          0,
          0,
          0,
          0,
          0,
          5.3584000000000005,
          0,
          0,
          0,
          0,
          0,
          0,
          0,
          0,
          18.6402,
          17.5446,
          0,
          0,
          0,
          0,
          0,
          0,
          0,
          0,
          0,
          0,
          0,
          0,
          0,
          0,
          55.4102,
          36.7186,
          0,
          0,
          27.6663,
          0,
          20.938,
          0,
          0,
          0,
          39.1182,
          36.3737,
          0,
          13.6751,
          0,
          0,
          0,
          0,
          0,
          0,
          0,
          0,
          0,
          0,
          0,
          50.1889,
          0
         ],
         "yaxis": "y"
        }
       ],
       "layout": {
        "coloraxis": {
         "colorbar": {
          "title": {
           "text": "color"
          }
         },
         "colorscale": [
          [
           0,
           "#0d0887"
          ],
          [
           0.1111111111111111,
           "#46039f"
          ],
          [
           0.2222222222222222,
           "#7201a8"
          ],
          [
           0.3333333333333333,
           "#9c179e"
          ],
          [
           0.4444444444444444,
           "#bd3786"
          ],
          [
           0.5555555555555556,
           "#d8576b"
          ],
          [
           0.6666666666666666,
           "#ed7953"
          ],
          [
           0.7777777777777778,
           "#fb9f3a"
          ],
          [
           0.8888888888888888,
           "#fdca26"
          ],
          [
           1,
           "#f0f921"
          ]
         ]
        },
        "legend": {
         "tracegroupgap": 0
        },
        "margin": {
         "t": 60
        },
        "template": {
         "data": {
          "bar": [
           {
            "error_x": {
             "color": "#2a3f5f"
            },
            "error_y": {
             "color": "#2a3f5f"
            },
            "marker": {
             "line": {
              "color": "#E5ECF6",
              "width": 0.5
             },
             "pattern": {
              "fillmode": "overlay",
              "size": 10,
              "solidity": 0.2
             }
            },
            "type": "bar"
           }
          ],
          "barpolar": [
           {
            "marker": {
             "line": {
              "color": "#E5ECF6",
              "width": 0.5
             },
             "pattern": {
              "fillmode": "overlay",
              "size": 10,
              "solidity": 0.2
             }
            },
            "type": "barpolar"
           }
          ],
          "carpet": [
           {
            "aaxis": {
             "endlinecolor": "#2a3f5f",
             "gridcolor": "white",
             "linecolor": "white",
             "minorgridcolor": "white",
             "startlinecolor": "#2a3f5f"
            },
            "baxis": {
             "endlinecolor": "#2a3f5f",
             "gridcolor": "white",
             "linecolor": "white",
             "minorgridcolor": "white",
             "startlinecolor": "#2a3f5f"
            },
            "type": "carpet"
           }
          ],
          "choropleth": [
           {
            "colorbar": {
             "outlinewidth": 0,
             "ticks": ""
            },
            "type": "choropleth"
           }
          ],
          "contour": [
           {
            "colorbar": {
             "outlinewidth": 0,
             "ticks": ""
            },
            "colorscale": [
             [
              0,
              "#0d0887"
             ],
             [
              0.1111111111111111,
              "#46039f"
             ],
             [
              0.2222222222222222,
              "#7201a8"
             ],
             [
              0.3333333333333333,
              "#9c179e"
             ],
             [
              0.4444444444444444,
              "#bd3786"
             ],
             [
              0.5555555555555556,
              "#d8576b"
             ],
             [
              0.6666666666666666,
              "#ed7953"
             ],
             [
              0.7777777777777778,
              "#fb9f3a"
             ],
             [
              0.8888888888888888,
              "#fdca26"
             ],
             [
              1,
              "#f0f921"
             ]
            ],
            "type": "contour"
           }
          ],
          "contourcarpet": [
           {
            "colorbar": {
             "outlinewidth": 0,
             "ticks": ""
            },
            "type": "contourcarpet"
           }
          ],
          "heatmap": [
           {
            "colorbar": {
             "outlinewidth": 0,
             "ticks": ""
            },
            "colorscale": [
             [
              0,
              "#0d0887"
             ],
             [
              0.1111111111111111,
              "#46039f"
             ],
             [
              0.2222222222222222,
              "#7201a8"
             ],
             [
              0.3333333333333333,
              "#9c179e"
             ],
             [
              0.4444444444444444,
              "#bd3786"
             ],
             [
              0.5555555555555556,
              "#d8576b"
             ],
             [
              0.6666666666666666,
              "#ed7953"
             ],
             [
              0.7777777777777778,
              "#fb9f3a"
             ],
             [
              0.8888888888888888,
              "#fdca26"
             ],
             [
              1,
              "#f0f921"
             ]
            ],
            "type": "heatmap"
           }
          ],
          "heatmapgl": [
           {
            "colorbar": {
             "outlinewidth": 0,
             "ticks": ""
            },
            "colorscale": [
             [
              0,
              "#0d0887"
             ],
             [
              0.1111111111111111,
              "#46039f"
             ],
             [
              0.2222222222222222,
              "#7201a8"
             ],
             [
              0.3333333333333333,
              "#9c179e"
             ],
             [
              0.4444444444444444,
              "#bd3786"
             ],
             [
              0.5555555555555556,
              "#d8576b"
             ],
             [
              0.6666666666666666,
              "#ed7953"
             ],
             [
              0.7777777777777778,
              "#fb9f3a"
             ],
             [
              0.8888888888888888,
              "#fdca26"
             ],
             [
              1,
              "#f0f921"
             ]
            ],
            "type": "heatmapgl"
           }
          ],
          "histogram": [
           {
            "marker": {
             "pattern": {
              "fillmode": "overlay",
              "size": 10,
              "solidity": 0.2
             }
            },
            "type": "histogram"
           }
          ],
          "histogram2d": [
           {
            "colorbar": {
             "outlinewidth": 0,
             "ticks": ""
            },
            "colorscale": [
             [
              0,
              "#0d0887"
             ],
             [
              0.1111111111111111,
              "#46039f"
             ],
             [
              0.2222222222222222,
              "#7201a8"
             ],
             [
              0.3333333333333333,
              "#9c179e"
             ],
             [
              0.4444444444444444,
              "#bd3786"
             ],
             [
              0.5555555555555556,
              "#d8576b"
             ],
             [
              0.6666666666666666,
              "#ed7953"
             ],
             [
              0.7777777777777778,
              "#fb9f3a"
             ],
             [
              0.8888888888888888,
              "#fdca26"
             ],
             [
              1,
              "#f0f921"
             ]
            ],
            "type": "histogram2d"
           }
          ],
          "histogram2dcontour": [
           {
            "colorbar": {
             "outlinewidth": 0,
             "ticks": ""
            },
            "colorscale": [
             [
              0,
              "#0d0887"
             ],
             [
              0.1111111111111111,
              "#46039f"
             ],
             [
              0.2222222222222222,
              "#7201a8"
             ],
             [
              0.3333333333333333,
              "#9c179e"
             ],
             [
              0.4444444444444444,
              "#bd3786"
             ],
             [
              0.5555555555555556,
              "#d8576b"
             ],
             [
              0.6666666666666666,
              "#ed7953"
             ],
             [
              0.7777777777777778,
              "#fb9f3a"
             ],
             [
              0.8888888888888888,
              "#fdca26"
             ],
             [
              1,
              "#f0f921"
             ]
            ],
            "type": "histogram2dcontour"
           }
          ],
          "mesh3d": [
           {
            "colorbar": {
             "outlinewidth": 0,
             "ticks": ""
            },
            "type": "mesh3d"
           }
          ],
          "parcoords": [
           {
            "line": {
             "colorbar": {
              "outlinewidth": 0,
              "ticks": ""
             }
            },
            "type": "parcoords"
           }
          ],
          "pie": [
           {
            "automargin": true,
            "type": "pie"
           }
          ],
          "scatter": [
           {
            "fillpattern": {
             "fillmode": "overlay",
             "size": 10,
             "solidity": 0.2
            },
            "type": "scatter"
           }
          ],
          "scatter3d": [
           {
            "line": {
             "colorbar": {
              "outlinewidth": 0,
              "ticks": ""
             }
            },
            "marker": {
             "colorbar": {
              "outlinewidth": 0,
              "ticks": ""
             }
            },
            "type": "scatter3d"
           }
          ],
          "scattercarpet": [
           {
            "marker": {
             "colorbar": {
              "outlinewidth": 0,
              "ticks": ""
             }
            },
            "type": "scattercarpet"
           }
          ],
          "scattergeo": [
           {
            "marker": {
             "colorbar": {
              "outlinewidth": 0,
              "ticks": ""
             }
            },
            "type": "scattergeo"
           }
          ],
          "scattergl": [
           {
            "marker": {
             "colorbar": {
              "outlinewidth": 0,
              "ticks": ""
             }
            },
            "type": "scattergl"
           }
          ],
          "scattermapbox": [
           {
            "marker": {
             "colorbar": {
              "outlinewidth": 0,
              "ticks": ""
             }
            },
            "type": "scattermapbox"
           }
          ],
          "scatterpolar": [
           {
            "marker": {
             "colorbar": {
              "outlinewidth": 0,
              "ticks": ""
             }
            },
            "type": "scatterpolar"
           }
          ],
          "scatterpolargl": [
           {
            "marker": {
             "colorbar": {
              "outlinewidth": 0,
              "ticks": ""
             }
            },
            "type": "scatterpolargl"
           }
          ],
          "scatterternary": [
           {
            "marker": {
             "colorbar": {
              "outlinewidth": 0,
              "ticks": ""
             }
            },
            "type": "scatterternary"
           }
          ],
          "surface": [
           {
            "colorbar": {
             "outlinewidth": 0,
             "ticks": ""
            },
            "colorscale": [
             [
              0,
              "#0d0887"
             ],
             [
              0.1111111111111111,
              "#46039f"
             ],
             [
              0.2222222222222222,
              "#7201a8"
             ],
             [
              0.3333333333333333,
              "#9c179e"
             ],
             [
              0.4444444444444444,
              "#bd3786"
             ],
             [
              0.5555555555555556,
              "#d8576b"
             ],
             [
              0.6666666666666666,
              "#ed7953"
             ],
             [
              0.7777777777777778,
              "#fb9f3a"
             ],
             [
              0.8888888888888888,
              "#fdca26"
             ],
             [
              1,
              "#f0f921"
             ]
            ],
            "type": "surface"
           }
          ],
          "table": [
           {
            "cells": {
             "fill": {
              "color": "#EBF0F8"
             },
             "line": {
              "color": "white"
             }
            },
            "header": {
             "fill": {
              "color": "#C8D4E3"
             },
             "line": {
              "color": "white"
             }
            },
            "type": "table"
           }
          ]
         },
         "layout": {
          "annotationdefaults": {
           "arrowcolor": "#2a3f5f",
           "arrowhead": 0,
           "arrowwidth": 1
          },
          "autotypenumbers": "strict",
          "coloraxis": {
           "colorbar": {
            "outlinewidth": 0,
            "ticks": ""
           }
          },
          "colorscale": {
           "diverging": [
            [
             0,
             "#8e0152"
            ],
            [
             0.1,
             "#c51b7d"
            ],
            [
             0.2,
             "#de77ae"
            ],
            [
             0.3,
             "#f1b6da"
            ],
            [
             0.4,
             "#fde0ef"
            ],
            [
             0.5,
             "#f7f7f7"
            ],
            [
             0.6,
             "#e6f5d0"
            ],
            [
             0.7,
             "#b8e186"
            ],
            [
             0.8,
             "#7fbc41"
            ],
            [
             0.9,
             "#4d9221"
            ],
            [
             1,
             "#276419"
            ]
           ],
           "sequential": [
            [
             0,
             "#0d0887"
            ],
            [
             0.1111111111111111,
             "#46039f"
            ],
            [
             0.2222222222222222,
             "#7201a8"
            ],
            [
             0.3333333333333333,
             "#9c179e"
            ],
            [
             0.4444444444444444,
             "#bd3786"
            ],
            [
             0.5555555555555556,
             "#d8576b"
            ],
            [
             0.6666666666666666,
             "#ed7953"
            ],
            [
             0.7777777777777778,
             "#fb9f3a"
            ],
            [
             0.8888888888888888,
             "#fdca26"
            ],
            [
             1,
             "#f0f921"
            ]
           ],
           "sequentialminus": [
            [
             0,
             "#0d0887"
            ],
            [
             0.1111111111111111,
             "#46039f"
            ],
            [
             0.2222222222222222,
             "#7201a8"
            ],
            [
             0.3333333333333333,
             "#9c179e"
            ],
            [
             0.4444444444444444,
             "#bd3786"
            ],
            [
             0.5555555555555556,
             "#d8576b"
            ],
            [
             0.6666666666666666,
             "#ed7953"
            ],
            [
             0.7777777777777778,
             "#fb9f3a"
            ],
            [
             0.8888888888888888,
             "#fdca26"
            ],
            [
             1,
             "#f0f921"
            ]
           ]
          },
          "colorway": [
           "#636efa",
           "#EF553B",
           "#00cc96",
           "#ab63fa",
           "#FFA15A",
           "#19d3f3",
           "#FF6692",
           "#B6E880",
           "#FF97FF",
           "#FECB52"
          ],
          "font": {
           "color": "#2a3f5f"
          },
          "geo": {
           "bgcolor": "white",
           "lakecolor": "white",
           "landcolor": "#E5ECF6",
           "showlakes": true,
           "showland": true,
           "subunitcolor": "white"
          },
          "hoverlabel": {
           "align": "left"
          },
          "hovermode": "closest",
          "mapbox": {
           "style": "light"
          },
          "paper_bgcolor": "white",
          "plot_bgcolor": "#E5ECF6",
          "polar": {
           "angularaxis": {
            "gridcolor": "white",
            "linecolor": "white",
            "ticks": ""
           },
           "bgcolor": "#E5ECF6",
           "radialaxis": {
            "gridcolor": "white",
            "linecolor": "white",
            "ticks": ""
           }
          },
          "scene": {
           "xaxis": {
            "backgroundcolor": "#E5ECF6",
            "gridcolor": "white",
            "gridwidth": 2,
            "linecolor": "white",
            "showbackground": true,
            "ticks": "",
            "zerolinecolor": "white"
           },
           "yaxis": {
            "backgroundcolor": "#E5ECF6",
            "gridcolor": "white",
            "gridwidth": 2,
            "linecolor": "white",
            "showbackground": true,
            "ticks": "",
            "zerolinecolor": "white"
           },
           "zaxis": {
            "backgroundcolor": "#E5ECF6",
            "gridcolor": "white",
            "gridwidth": 2,
            "linecolor": "white",
            "showbackground": true,
            "ticks": "",
            "zerolinecolor": "white"
           }
          },
          "shapedefaults": {
           "line": {
            "color": "#2a3f5f"
           }
          },
          "ternary": {
           "aaxis": {
            "gridcolor": "white",
            "linecolor": "white",
            "ticks": ""
           },
           "baxis": {
            "gridcolor": "white",
            "linecolor": "white",
            "ticks": ""
           },
           "bgcolor": "#E5ECF6",
           "caxis": {
            "gridcolor": "white",
            "linecolor": "white",
            "ticks": ""
           }
          },
          "title": {
           "x": 0.05
          },
          "xaxis": {
           "automargin": true,
           "gridcolor": "white",
           "linecolor": "white",
           "ticks": "",
           "title": {
            "standoff": 15
           },
           "zerolinecolor": "white",
           "zerolinewidth": 2
          },
          "yaxis": {
           "automargin": true,
           "gridcolor": "white",
           "linecolor": "white",
           "ticks": "",
           "title": {
            "standoff": 15
           },
           "zerolinecolor": "white",
           "zerolinewidth": 2
          }
         }
        },
        "xaxis": {
         "anchor": "y",
         "domain": [
          0,
          1
         ],
         "title": {
          "text": "x"
         }
        },
        "yaxis": {
         "anchor": "x",
         "domain": [
          0,
          1
         ],
         "title": {
          "text": "y"
         }
        }
       }
      }
     },
     "metadata": {},
     "output_type": "display_data"
    }
   ],
   "source": [
    "fig = px.scatter(x=df[\"population\"], y=df[\"nuclear_share_elec\"], color=df['cluster1'])\n",
    "fig.show()"
   ]
  },
  {
   "cell_type": "code",
   "execution_count": 27,
   "metadata": {},
   "outputs": [
    {
     "data": {
      "image/png": "[encoded data removed]",
      "text/plain": [
       "<Figure size 1000x800 with 1 Axes>"
      ]
     },
     "metadata": {},
     "output_type": "display_data"
    }
   ],
   "source": [
    "\n",
    "fig = plt.figure(figsize=(10, 8))\n",
    "ax = fig.add_subplot(111, projection='3d')\n",
    "\n",
    "scatter = ax.scatter(df['renewables_share_elec'], df['fossil_share_elec'], df['population'],\n",
    "                     c=df['cluster1'], cmap='viridis', s=25)\n",
    "\n",
    "ax.set_xlabel('population')\n",
    "ax.set_ylabel('fossil_share_elec')\n",
    "ax.set_zlabel('renewables_share_elec')\n",
    "ax.set_title('DBSCAN Clustering')\n",
    "\n",
    "legend = ax.legend(*scatter.legend_elements(), title=\"Clusters\")\n",
    "ax.add_artist(legend)\n",
    "\n",
    "plt.show()"
   ]
  },
  {
   "cell_type": "code",
   "execution_count": 28,
   "metadata": {},
   "outputs": [
    {
     "data": {
      "image/png": "[encoded data removed]",
      "text/plain": [
       "<Figure size 1000x800 with 1 Axes>"
      ]
     },
     "metadata": {},
     "output_type": "display_data"
    }
   ],
   "source": [
    "fig = plt.figure(figsize=(10, 8))\n",
    "ax = fig.add_subplot(111, projection='3d')\n",
    "\n",
    "scatter = ax.scatter(df['renewables_share_elec'], df['fossil_share_elec'], df['nuclear_share_elec'],\n",
    "                     c=df['cluster1'], cmap='viridis', s=25)\n",
    "\n",
    "ax.set_xlabel('nuclear_share_elec')\n",
    "ax.set_ylabel('fossil_share_elec')\n",
    "ax.set_zlabel('renewables_share_elec')\n",
    "ax.set_title('DBSCAN Clustering')\n",
    "\n",
    "legend = ax.legend(*scatter.legend_elements(), title=\"Clusters\")\n",
    "ax.add_artist(legend)\n",
    "\n",
    "plt.show()"
   ]
  },
  {
   "cell_type": "code",
   "execution_count": 31,
   "metadata": {},
   "outputs": [
    {
     "data": {
      "text/plain": [
       "2                               Algeria\n",
       "4                   Antigua and Barbuda\n",
       "7                                 Aruba\n",
       "8                             Australia\n",
       "10                           Azerbaijan\n",
       "11                              Bahamas\n",
       "12                              Bahrain\n",
       "14                             Barbados\n",
       "15                              Belarus\n",
       "18                                Benin\n",
       "19                              Bermuda\n",
       "23                             Botswana\n",
       "25               British Virgin Islands\n",
       "26                               Brunei\n",
       "28                         Burkina Faso\n",
       "33                       Cayman Islands\n",
       "35                                 Chad\n",
       "39                              Comoros\n",
       "40                         Cook Islands\n",
       "43                                 Cuba\n",
       "44                               Cyprus\n",
       "48                             Djibouti\n",
       "50                   Dominican Republic\n",
       "54                    Equatorial Guinea\n",
       "55                              Eritrea\n",
       "56                              Estonia\n",
       "64                               Gambia\n",
       "68                               Greece\n",
       "70                              Grenada\n",
       "71                           Guadeloupe\n",
       "72                                 Guam\n",
       "75                        Guinea-Bissau\n",
       "76                               Guyana\n",
       "77                                Haiti\n",
       "79                            Hong Kong\n",
       "84                                 Iran\n",
       "85                                 Iraq\n",
       "86                              Ireland\n",
       "87                               Israel\n",
       "89                              Jamaica\n",
       "91                               Jordan\n",
       "92                           Kazakhstan\n",
       "94                             Kiribati\n",
       "95                               Kuwait\n",
       "99                              Lebanon\n",
       "101                             Liberia\n",
       "102                               Libya\n",
       "106                            Malaysia\n",
       "107                            Maldives\n",
       "109                               Malta\n",
       "110                          Martinique\n",
       "111                           Mauritius\n",
       "113                             Moldova\n",
       "114                            Mongolia\n",
       "116                          Montserrat\n",
       "117                             Morocco\n",
       "120                               Nauru\n",
       "121                         Netherlands\n",
       "122                       New Caledonia\n",
       "125                               Niger\n",
       "126                                Niue\n",
       "129                                Oman\n",
       "131                           Palestine\n",
       "133                    Papua New Guinea\n",
       "137                         Puerto Rico\n",
       "138                               Qatar\n",
       "142                        Saint Helena\n",
       "143               Saint Kitts and Nevis\n",
       "144                         Saint Lucia\n",
       "145           Saint Pierre and Miquelon\n",
       "146    Saint Vincent and the Grenadines\n",
       "148               Sao Tome and Principe\n",
       "149                        Saudi Arabia\n",
       "150                             Senegal\n",
       "151                              Serbia\n",
       "152                          Seychelles\n",
       "154                           Singapore\n",
       "157                     Solomon Islands\n",
       "158                             Somalia\n",
       "160                         South Sudan\n",
       "167                               Syria\n",
       "171                            Thailand\n",
       "173                               Tonga\n",
       "174                 Trinidad and Tobago\n",
       "175                             Tunisia\n",
       "177                        Turkmenistan\n",
       "178            Turks and Caicos Islands\n",
       "181                United Arab Emirates\n",
       "Name: country, dtype: object"
      ]
     },
     "execution_count": 31,
     "metadata": {},
     "output_type": "execute_result"
    }
   ],
   "source": [
    "cluster1_1 = df.loc[df[\"cluster1\"] == 1, 'country']\n",
    "cluster1_1\n"
   ]
  },
  {
   "cell_type": "code",
   "execution_count": 32,
   "metadata": {},
   "outputs": [
    {
     "data": {
      "text/plain": [
       "0                   Afghanistan\n",
       "1                       Albania\n",
       "9                       Austria\n",
       "17                       Belize\n",
       "20                       Bhutan\n",
       "29                      Burundi\n",
       "34     Central African Republic\n",
       "41                   Costa Rica\n",
       "65                      Georgia\n",
       "69                    Greenland\n",
       "81                      Iceland\n",
       "93                        Kenya\n",
       "96                   Kyrgyzstan\n",
       "97                         Laos\n",
       "100                     Lesotho\n",
       "105                      Malawi\n",
       "118                  Mozambique\n",
       "119                     Namibia\n",
       "123                 New Zealand\n",
       "127                 North Korea\n",
       "128                      Norway\n",
       "169                  Tajikistan\n",
       "179                      Uganda\n",
       "Name: country, dtype: object"
      ]
     },
     "execution_count": 32,
     "metadata": {},
     "output_type": "execute_result"
    }
   ],
   "source": [
    "cluster0_1 = df.loc[df[\"cluster1\"] == 0, 'country']\n",
    "cluster0_1"
   ]
  },
  {
   "cell_type": "code",
   "execution_count": 33,
   "metadata": {},
   "outputs": [
    {
     "data": {
      "text/plain": [
       "3                      Angola\n",
       "21                    Bolivia\n",
       "22     Bosnia and Herzegovina\n",
       "30                   Cambodia\n",
       "31                   Cameroon\n",
       "36                      Chile\n",
       "38                   Colombia\n",
       "42                    Croatia\n",
       "47                    Denmark\n",
       "49                   Dominica\n",
       "51                    Ecuador\n",
       "53                El Salvador\n",
       "58                       Fiji\n",
       "61              French Guiana\n",
       "62           French Polynesia\n",
       "63                      Gabon\n",
       "67                      Ghana\n",
       "73                  Guatemala\n",
       "74                     Guinea\n",
       "78                   Honduras\n",
       "88                      Italy\n",
       "98                     Latvia\n",
       "103                 Lithuania\n",
       "104                Luxembourg\n",
       "108                      Mali\n",
       "115                Montenegro\n",
       "124                 Nicaragua\n",
       "132                    Panama\n",
       "134                      Peru\n",
       "136                  Portugal\n",
       "141                    Rwanda\n",
       "147                     Samoa\n",
       "153              Sierra Leone\n",
       "162                 Sri Lanka\n",
       "163                     Sudan\n",
       "164                  Suriname\n",
       "170                  Tanzania\n",
       "172                      Togo\n",
       "Name: country, dtype: object"
      ]
     },
     "execution_count": 33,
     "metadata": {},
     "output_type": "execute_result"
    }
   ],
   "source": [
    "cluster2_1 = df.loc[df[\"cluster1\"] == 2, 'country']\n",
    "cluster2_1"
   ]
  },
  {
   "cell_type": "code",
   "execution_count": 34,
   "metadata": {},
   "outputs": [
    {
     "data": {
      "text/plain": [
       "5                         Argentina\n",
       "6                           Armenia\n",
       "13                       Bangladesh\n",
       "16                          Belgium\n",
       "24                           Brazil\n",
       "27                         Bulgaria\n",
       "32                           Canada\n",
       "37                            China\n",
       "45                          Czechia\n",
       "46     Democratic Republic of Congo\n",
       "52                            Egypt\n",
       "57                         Ethiopia\n",
       "59                          Finland\n",
       "60                           France\n",
       "66                          Germany\n",
       "80                          Hungary\n",
       "82                            India\n",
       "83                        Indonesia\n",
       "90                            Japan\n",
       "112                          Mexico\n",
       "130                        Pakistan\n",
       "135                     Philippines\n",
       "139                         Romania\n",
       "140                          Russia\n",
       "155                        Slovakia\n",
       "156                        Slovenia\n",
       "159                     South Korea\n",
       "161                           Spain\n",
       "165                          Sweden\n",
       "166                     Switzerland\n",
       "168                          Taiwan\n",
       "176                          Turkey\n",
       "180                         Ukraine\n",
       "Name: country, dtype: object"
      ]
     },
     "execution_count": 34,
     "metadata": {},
     "output_type": "execute_result"
    }
   ],
   "source": [
    "ruido_1 = df.loc[df[\"cluster1\"] == -1, 'country']\n",
    "ruido_1"
   ]
  },
  {
   "cell_type": "markdown",
   "metadata": {},
   "source": [
    "# MODELO 2: Proporción de electricidad low_carbon, consumo de electricidad per cápita, poblacion"
   ]
  },
  {
   "cell_type": "code",
   "execution_count": 35,
   "metadata": {},
   "outputs": [
    {
     "data": {
      "text/html": [
       "<div>\n",
       "<style scoped>\n",
       "    .dataframe tbody tr th:only-of-type {\n",
       "        vertical-align: middle;\n",
       "    }\n",
       "\n",
       "    .dataframe tbody tr th {\n",
       "        vertical-align: top;\n",
       "    }\n",
       "\n",
       "    .dataframe thead th {\n",
       "        text-align: right;\n",
       "    }\n",
       "</style>\n",
       "<table border=\"1\" class=\"dataframe\">\n",
       "  <thead>\n",
       "    <tr style=\"text-align: right;\">\n",
       "      <th></th>\n",
       "      <th>population</th>\n",
       "      <th>low_carbon_share_elec</th>\n",
       "      <th>per_capita_electricity</th>\n",
       "    </tr>\n",
       "  </thead>\n",
       "  <tbody>\n",
       "    <tr>\n",
       "      <th>0</th>\n",
       "      <td>3.424733e+07</td>\n",
       "      <td>83.543444</td>\n",
       "      <td>31.813000</td>\n",
       "    </tr>\n",
       "    <tr>\n",
       "      <th>1</th>\n",
       "      <td>2.896444e+06</td>\n",
       "      <td>99.851444</td>\n",
       "      <td>1998.432000</td>\n",
       "    </tr>\n",
       "    <tr>\n",
       "      <th>2</th>\n",
       "      <td>3.978422e+07</td>\n",
       "      <td>0.766333</td>\n",
       "      <td>1580.157222</td>\n",
       "    </tr>\n",
       "    <tr>\n",
       "      <th>3</th>\n",
       "      <td>2.794056e+07</td>\n",
       "      <td>65.673556</td>\n",
       "      <td>326.007889</td>\n",
       "    </tr>\n",
       "    <tr>\n",
       "      <th>4</th>\n",
       "      <td>9.344444e+04</td>\n",
       "      <td>1.572000</td>\n",
       "      <td>3470.763111</td>\n",
       "    </tr>\n",
       "  </tbody>\n",
       "</table>\n",
       "</div>"
      ],
      "text/plain": [
       "     population  low_carbon_share_elec  per_capita_electricity\n",
       "0  3.424733e+07              83.543444               31.813000\n",
       "1  2.896444e+06              99.851444             1998.432000\n",
       "2  3.978422e+07               0.766333             1580.157222\n",
       "3  2.794056e+07              65.673556              326.007889\n",
       "4  9.344444e+04               1.572000             3470.763111"
      ]
     },
     "execution_count": 35,
     "metadata": {},
     "output_type": "execute_result"
    }
   ],
   "source": [
    "features2 = [\"population\", \"low_carbon_share_elec\", \"per_capita_electricity\"]\n",
    "X2 = df[features2]\n",
    "X2.head(5)"
   ]
  },
  {
   "cell_type": "code",
   "execution_count": 36,
   "metadata": {},
   "outputs": [
    {
     "data": {
      "text/plain": [
       "<matplotlib.collections.PathCollection at 0x12f93faa510>"
      ]
     },
     "execution_count": 36,
     "metadata": {},
     "output_type": "execute_result"
    },
    {
     "data": {
      "image/png": "[encoded data removed]",
      "text/plain": [
       "<Figure size 640x480 with 1 Axes>"
      ]
     },
     "metadata": {},
     "output_type": "display_data"
    }
   ],
   "source": [
    "X2_scaled = StandardScaler().fit_transform(X2)\n",
    "\n",
    "plt.scatter(X2_scaled[:, 0], X2_scaled[:, 2])"
   ]
  },
  {
   "cell_type": "code",
   "execution_count": 37,
   "metadata": {},
   "outputs": [
    {
     "name": "stdout",
     "output_type": "stream",
     "text": [
      "Combination (0.01, 2) on iteration 1 of 180 has 1 clusters. Moving on\n",
      "Combination (0.01, 4) on iteration 2 of 180 has 0 clusters. Moving on\n",
      "Combination (0.01, 6) on iteration 3 of 180 has 0 clusters. Moving on\n",
      "Combination (0.01, 8) on iteration 4 of 180 has 0 clusters. Moving on\n",
      "Combination (0.01, 10) on iteration 5 of 180 has 0 clusters. Moving on\n",
      "Combination (0.01, 12) on iteration 6 of 180 has 0 clusters. Moving on\n",
      "Combination (0.01, 14) on iteration 7 of 180 has 0 clusters. Moving on\n",
      "Combination (0.01, 16) on iteration 8 of 180 has 0 clusters. Moving on\n",
      "Combination (0.01, 18) on iteration 9 of 180 has 0 clusters. Moving on\n",
      "Index: 9, Score: -0.2537413910237826, Labels: [-1 -1 -1  0  1 -1 -1  2 -1 -1 -1  3 -1 -1  1  1 -1 -1  4  5 -1 -1 -1  6\n",
      " -1  7  5 -1  8 -1 -1  0 -1  9 -1  4 -1 -1 -1  4 -1 10 -1 11 12 -1 -1 -1\n",
      "  4 -1 -1 -1 -1 -1 -1  4  2 -1 -1 -1 -1 -1 -1 -1  4 -1 -1 -1 -1 -1 13 -1\n",
      "  9 -1 14  4  6  8 15  3 -1 -1 -1 -1 -1 -1 -1 16 -1 -1 -1 11 -1 -1 17 -1\n",
      " -1 -1 -1 -1 -1  4  3 -1 -1 -1 -1  6 14 12 18 -1 -1 -1 11 -1 -1 -1 -1 -1\n",
      " -1 -1 -1 -1 15  4  6 -1 -1 -1 -1  4 -1 -1 -1 -1 -1 -1 -1 -1 -1 -1  6 18\n",
      " 13 16 -1 -1 17 -1 -1 -1 -1 -1 -1 -1 -1  4  4 -1  4 -1 -1 -1 -1 -1 -1 -1\n",
      " -1 10 -1 -1 -1  4 -1 11 -1  1  7 -1 -1 -1], NumClusters: 19\n",
      "Index: 10, Score: -0.10753452592627054, Labels: [-1 -1 -1 -1 -1 -1 -1 -1 -1 -1 -1 -1 -1 -1 -1 -1 -1 -1  0 -1 -1 -1 -1  1\n",
      " -1 -1 -1 -1 -1 -1 -1 -1 -1 -1 -1  0 -1 -1 -1  0 -1 -1 -1 -1 -1 -1 -1 -1\n",
      "  0 -1 -1 -1 -1 -1 -1  0 -1 -1 -1 -1 -1 -1 -1 -1  0 -1 -1 -1 -1 -1 -1 -1\n",
      " -1 -1 -1  0  1 -1 -1 -1 -1 -1 -1 -1 -1 -1 -1 -1 -1 -1 -1 -1 -1 -1 -1 -1\n",
      " -1 -1 -1 -1 -1  0 -1 -1 -1 -1 -1  1 -1 -1 -1 -1 -1 -1 -1 -1 -1 -1 -1 -1\n",
      " -1 -1 -1 -1 -1  0 -1 -1 -1 -1 -1  0 -1 -1 -1 -1 -1 -1 -1 -1 -1 -1  1 -1\n",
      " -1 -1 -1 -1 -1 -1 -1 -1 -1 -1 -1 -1 -1  0  0 -1  0 -1 -1 -1 -1 -1 -1 -1\n",
      " -1 -1 -1 -1 -1  0 -1 -1 -1 -1 -1 -1 -1 -1], NumClusters: 2\n",
      "Combination (0.06210526315789474, 6) on iteration 12 of 180 has 1 clusters. Moving on\n",
      "Combination (0.06210526315789474, 8) on iteration 13 of 180 has 0 clusters. Moving on\n",
      "Combination (0.06210526315789474, 10) on iteration 14 of 180 has 0 clusters. Moving on\n",
      "Combination (0.06210526315789474, 12) on iteration 15 of 180 has 0 clusters. Moving on\n",
      "Combination (0.06210526315789474, 14) on iteration 16 of 180 has 0 clusters. Moving on\n",
      "Combination (0.06210526315789474, 16) on iteration 17 of 180 has 0 clusters. Moving on\n",
      "Combination (0.06210526315789474, 18) on iteration 18 of 180 has 0 clusters. Moving on\n",
      "Index: 18, Score: -0.13226372809671996, Labels: [-1  0 -1  1  2 -1  3  4  5 -1 -1  2 -1 -1  2  2 -1  6  7  8 -1  9 -1  7\n",
      " -1  2  8 -1 10 -1 11  1 -1  8  6  7 -1 -1 -1  7  7  0  3  7 12 -1 -1 -1\n",
      "  7 -1  7 -1 -1  1 -1  7  4 -1 -1 -1 -1 13 -1 -1  7 -1 -1 -1 -1 -1  7 -1\n",
      "  8  1 14  7  7 10 14  2 13 -1 -1 -1 -1 -1 -1 15 -1  7 -1  7 -1 -1  7 -1\n",
      " -1 -1 13 -1  6  7  2 14 -1 -1 -1  7 14 12  2 -1 -1  7  7 -1  2 -1 -1  6\n",
      " -1 -1 -1 -1 14  7  7 -1 -1 16 -1  7 -1 -1 -1 -1 -1 -1 -1 -1 -1 11  7  2\n",
      "  7 15 -1  9  7 -1  7 -1  2 -1 -1 -1 -1  7  7 -1  7 -1 -1 -1 -1 -1 -1  7\n",
      "  5  0 -1 -1 -1  7 16  7 -1  2  2 -1 -1 -1], NumClusters: 17\n",
      "Index: 19, Score: -0.17757932586756803, Labels: [-1 -1 -1  2  0 -1 -1 -1 -1 -1 -1  0 -1 -1  0  0 -1  3  1 -1 -1 -1 -1  1\n",
      " -1  0 -1 -1 -1 -1 -1  2 -1 -1  3  1 -1 -1 -1  1  1 -1 -1  1 -1 -1 -1 -1\n",
      "  1 -1  1 -1 -1  2 -1  1 -1 -1 -1 -1 -1 -1 -1 -1  1 -1 -1 -1 -1 -1  1 -1\n",
      " -1  2  4  1  1 -1  4  0 -1 -1 -1 -1 -1 -1 -1 -1 -1  1 -1  1 -1 -1 -1 -1\n",
      " -1 -1 -1 -1  3  1  0  4 -1 -1 -1  1 -1 -1  0 -1 -1  1  1 -1  0 -1 -1  3\n",
      " -1 -1 -1 -1  4  1  1 -1 -1 -1 -1  1 -1 -1 -1 -1 -1 -1 -1 -1 -1 -1  1  0\n",
      "  1 -1 -1 -1  1 -1 -1 -1  0 -1 -1 -1 -1  1  1 -1  1 -1 -1 -1 -1 -1 -1  1\n",
      " -1 -1 -1 -1 -1  1 -1  1 -1  0  0 -1 -1 -1], NumClusters: 5\n",
      "Index: 20, Score: -0.008464471764181906, Labels: [-1 -1 -1 -1  0 -1 -1 -1 -1 -1 -1  0 -1 -1  0  0 -1 -1  1 -1 -1 -1 -1  1\n",
      " -1 -1 -1 -1 -1 -1 -1 -1 -1 -1 -1  1 -1 -1 -1  1 -1 -1 -1  1 -1 -1 -1 -1\n",
      "  1 -1 -1 -1 -1 -1 -1  1 -1 -1 -1 -1 -1 -1 -1 -1  1 -1 -1 -1 -1 -1  1 -1\n",
      " -1 -1 -1  1  1 -1 -1 -1 -1 -1 -1 -1 -1 -1 -1 -1 -1 -1 -1  1 -1 -1 -1 -1\n",
      " -1 -1 -1 -1 -1  1  0 -1 -1 -1 -1  1 -1 -1  0 -1 -1  1  1 -1  0 -1 -1 -1\n",
      " -1 -1 -1 -1 -1  1  1 -1 -1 -1 -1  1 -1 -1 -1 -1 -1 -1 -1 -1 -1 -1  1  0\n",
      "  1 -1 -1 -1  1 -1 -1 -1  0 -1 -1 -1 -1  1  1 -1  1 -1 -1 -1 -1 -1 -1 -1\n",
      " -1 -1 -1 -1 -1  1 -1  1 -1  0 -1 -1 -1 -1], NumClusters: 2\n",
      "Index: 21, Score: -0.0539276565622354, Labels: [-1 -1 -1 -1  2 -1 -1 -1 -1 -1 -1 -1 -1 -1  2  2 -1 -1  0 -1 -1 -1 -1  0\n",
      " -1 -1 -1 -1 -1 -1 -1 -1 -1 -1 -1  0 -1 -1 -1  0 -1 -1 -1  1 -1 -1 -1 -1\n",
      "  0 -1 -1 -1 -1 -1 -1  0 -1 -1 -1 -1 -1 -1 -1 -1  0 -1 -1 -1 -1 -1  1 -1\n",
      " -1 -1 -1  0  1 -1 -1 -1 -1 -1 -1 -1 -1 -1 -1 -1 -1 -1 -1  1 -1 -1 -1 -1\n",
      " -1 -1 -1 -1 -1  0 -1 -1 -1 -1 -1  0 -1 -1  2 -1 -1 -1  1 -1  2 -1 -1 -1\n",
      " -1 -1 -1 -1 -1  0  1 -1 -1 -1 -1  0 -1 -1 -1 -1 -1 -1 -1 -1 -1 -1  1  2\n",
      "  1 -1 -1 -1 -1 -1 -1 -1  2 -1 -1 -1 -1  0  0 -1  0 -1 -1 -1 -1 -1 -1 -1\n",
      " -1 -1 -1 -1 -1  0 -1  1 -1  2 -1 -1 -1 -1], NumClusters: 3\n",
      "Combination (0.11421052631578947, 10) on iteration 23 of 180 has 1 clusters. Moving on\n",
      "Combination (0.11421052631578947, 12) on iteration 24 of 180 has 1 clusters. Moving on\n",
      "Combination (0.11421052631578947, 14) on iteration 25 of 180 has 0 clusters. Moving on\n",
      "Combination (0.11421052631578947, 16) on iteration 26 of 180 has 0 clusters. Moving on\n",
      "Combination (0.11421052631578947, 18) on iteration 27 of 180 has 0 clusters. Moving on\n",
      "Index: 27, Score: -0.0955729217290629, Labels: [ 0  1  2  3  4 -1  5  6  7 -1  4  4 -1 -1  4  4  8  9  4 10 -1 11 -1  4\n",
      " -1  4 10 -1  4 -1 12  3 -1 10  9  4 13 -1 -1  4  4  1  5  4  4 -1 -1 -1\n",
      "  4 11  4  3 -1  3 11  4  6 -1  3 -1 -1  5 -1 12  4 14 -1 -1 -1 15  4  4\n",
      " 10  3 12  4  4  4 12  4  5 -1 -1 -1 -1  2 -1  4 -1  4 -1  4 16  0  4 -1\n",
      "  1 14  5  4  9  4  4 12 13 17 16  4 12  4  4 -1 -1  4  4 18  4 -1 17  9\n",
      "  4 -1 -1 15 12  4  4 -1 -1  4 -1  4  5 11  3 -1 18  4 -1  5 -1 12  4  4\n",
      "  4  4  4 11  4 -1  4 -1  4  3  4 -1  8  4  4 -1  4 -1 12  3 13 -1 -1  4\n",
      "  7  1 -1 -1 12  4  4  4 -1  4  4 17 -1 -1], NumClusters: 19\n",
      "Index: 28, Score: -0.014713399431719506, Labels: [-1  5 -1  0  1 -1  2 -1 -1 -1  1  1 -1 -1  1  1 -1  7  1  3 -1  4 -1  1\n",
      " -1  1  3 -1  1 -1  6  0 -1  3  7  1 -1 -1 -1  1  1  5  2  1  1 -1 -1 -1\n",
      "  1  4  1  0 -1  0  4  1 -1 -1  0 -1 -1  2 -1  8  1 -1 -1 -1 -1 -1  1  1\n",
      "  3  0  6  1  1  1  6  1  2 -1 -1 -1 -1 -1 -1  1 -1  1 -1  1 -1 -1  1 -1\n",
      "  5 -1  2  1  7  1  1  6 -1 -1 -1  1  6  1  1 -1 -1  1  1 -1  1 -1 -1  7\n",
      "  1 -1 -1 -1  6  1  1 -1 -1  1 -1  1  2  4  0 -1 -1  1 -1  2 -1  6  1  1\n",
      "  1  1  1  4  1 -1  1 -1  1  0  1 -1 -1  1  1 -1  1 -1  8  0 -1 -1 -1  1\n",
      " -1  5 -1 -1  8  1  1  1 -1  1  1 -1 -1 -1], NumClusters: 9\n",
      "Index: 29, Score: -0.07403302618377333, Labels: [-1 -1 -1 -1  0 -1  1 -1 -1 -1  0  0 -1 -1  0  0 -1 -1  0 -1 -1 -1 -1  0\n",
      " -1  0 -1 -1 -1 -1 -1 -1 -1 -1 -1  0 -1 -1 -1  0  0 -1  1  0  0 -1 -1 -1\n",
      "  0 -1  0 -1 -1 -1 -1  0 -1 -1 -1 -1 -1  1 -1 -1  0 -1 -1 -1 -1 -1  0 -1\n",
      " -1 -1 -1  0  0 -1 -1  0  1 -1 -1 -1 -1 -1 -1 -1 -1  0 -1  0 -1 -1  0 -1\n",
      " -1 -1  1  0 -1  0  0 -1 -1 -1 -1  0 -1  0  0 -1 -1  0  0 -1  0 -1 -1 -1\n",
      "  0 -1 -1 -1 -1  0  0 -1 -1 -1 -1  0 -1 -1 -1 -1 -1  0 -1  1 -1 -1  0  0\n",
      "  0 -1 -1 -1  0 -1 -1 -1  0 -1 -1 -1 -1  0  0 -1  0 -1 -1 -1 -1 -1 -1  0\n",
      " -1 -1 -1 -1 -1  0  0  0 -1  0  0 -1 -1 -1], NumClusters: 2\n",
      "Combination (0.16631578947368422, 8) on iteration 31 of 180 has 1 clusters. Moving on\n",
      "Index: 31, Score: 0.04475944169421059, Labels: [-1 -1 -1 -1  0 -1 -1 -1 -1 -1  1  0 -1 -1  0  0 -1 -1  1 -1 -1 -1 -1  1\n",
      " -1 -1 -1 -1 -1 -1 -1 -1 -1 -1 -1  1 -1 -1 -1  1 -1 -1 -1  1  0 -1 -1 -1\n",
      "  1 -1 -1 -1 -1 -1 -1  1 -1 -1 -1 -1 -1 -1 -1 -1  1 -1 -1 -1 -1 -1  1 -1\n",
      " -1 -1 -1  1  1 -1 -1  0 -1 -1 -1 -1 -1 -1 -1 -1 -1  1 -1  1 -1 -1  1 -1\n",
      " -1 -1 -1  0 -1  1  0 -1 -1 -1 -1  1 -1  0  0 -1 -1  1  1 -1  0 -1 -1 -1\n",
      "  0 -1 -1 -1 -1  1  1 -1 -1 -1 -1  1 -1 -1 -1 -1 -1 -1 -1 -1 -1 -1  1  0\n",
      "  1 -1 -1 -1  1 -1 -1 -1  0 -1 -1 -1 -1  1  1 -1  1 -1 -1 -1 -1 -1 -1  1\n",
      " -1 -1 -1 -1 -1  1 -1  1 -1  0 -1 -1 -1 -1], NumClusters: 2\n",
      "Combination (0.16631578947368422, 12) on iteration 33 of 180 has 1 clusters. Moving on\n",
      "Combination (0.16631578947368422, 14) on iteration 34 of 180 has 1 clusters. Moving on\n",
      "Combination (0.16631578947368422, 16) on iteration 35 of 180 has 1 clusters. Moving on\n",
      "Combination (0.16631578947368422, 18) on iteration 36 of 180 has 0 clusters. Moving on\n",
      "Index: 36, Score: 0.018825892507006312, Labels: [ 0  0  1  2  1 -1  2  3  3  4  1  1 -1 -1  1  1  5  0  1  1 -1  6  7  1\n",
      " -1  1  1 -1  1  0  2  2 -1  1  0  1  8 -1 -1  1  1  0  2  1  1 -1  9 10\n",
      "  1  6  1  2 -1  2  6  1  3  9  2 -1 -1  2  6  2  1 11 -1  2  7  4  1  1\n",
      "  1  2  2  1  1  1  2  1  2 -1 -1 -1 -1  1  7  1 -1  1 -1  1 12  0  1 -1\n",
      "  0 11  2  1  0  1  1  2  8  0 12  1  2  1  1 -1 -1  1  1 10  1  1  0  0\n",
      "  1 -1  3  4  2  1  1  0 -1  1 -1  1  2  6  2 -1 10  1 -1  2 -1  2  1  1\n",
      "  1  1  1  6  1 -1  1  7  1  2  1 -1  5  1  1 -1  1 -1  2  2  8 -1 -1  1\n",
      "  3  0 -1 -1  2  1  1  1 -1  1  1  0  2 -1], NumClusters: 13\n",
      "Index: 37, Score: 0.06988882990132148, Labels: [ 0  0  2  1  2 -1  1  4  4 -1  2  2 -1 -1  2  2 -1  0  2  2 -1  3 -1  2\n",
      " -1  2  2 -1  2  0  1  1 -1  2  0  2 -1 -1 -1  2  2  0  1  2  2 -1 -1 -1\n",
      "  2  3  2  1 -1  1  3  2 -1 -1  1 -1 -1  1  3  1  2 -1 -1  1 -1 -1  2  2\n",
      "  2  1  1  2  2  2  1  2  1 -1 -1 -1 -1  2 -1  2 -1  2 -1  2 -1  0  2 -1\n",
      "  0 -1  1  2  0  2  2  1 -1  0 -1  2  1  2  2 -1 -1  2  2 -1  2  2  0  0\n",
      "  2 -1  4 -1  1  2  2 -1 -1  2 -1  2  1  3  1 -1 -1  2 -1  1 -1  1  2  2\n",
      "  2  2  2  3  2 -1  2 -1  2  1  2 -1 -1  2  2 -1  2 -1  1  1 -1 -1 -1  2\n",
      "  4  0 -1 -1  1  2  2  2 -1  2  2  0  1 -1], NumClusters: 5\n",
      "Index: 38, Score: 0.16907959039257806, Labels: [-1  2  1  0  1 -1  0 -1 -1 -1  1  1 -1 -1  1  1 -1  2  1 -1 -1 -1 -1  1\n",
      " -1  1 -1 -1  1 -1  0  0 -1 -1  2  1 -1 -1 -1  1  1  2  0  1  1 -1 -1 -1\n",
      "  1 -1  1  0 -1  0 -1  1 -1 -1  0 -1 -1  0 -1  0  1 -1 -1  0 -1 -1  1  1\n",
      " -1  0  0  1  1  1  0  1  0 -1 -1 -1 -1  1 -1  1 -1  1 -1  1 -1 -1  1 -1\n",
      " -1 -1  0  1  2  1  1  0 -1 -1 -1  1  0  1  1 -1 -1  1  1 -1  1  1 -1  2\n",
      "  1 -1 -1 -1  0  1  1 -1 -1  1 -1  1  0 -1  0 -1 -1  1 -1  0 -1  0  1  1\n",
      "  1  1  1 -1  1 -1  1 -1  1  0 -1 -1 -1  1  1 -1  1 -1  0  0 -1 -1 -1  1\n",
      " -1  2 -1 -1 -1  1  1  1 -1  1  1 -1 -1 -1], NumClusters: 3\n",
      "Index: 39, Score: 0.021717710365253745, Labels: [-1 -1  0  1  0 -1 -1 -1 -1 -1  0  0 -1 -1  0  0 -1 -1  0 -1 -1 -1 -1  0\n",
      " -1  0 -1 -1  0 -1  2  1 -1 -1 -1  0 -1 -1 -1  0  0 -1 -1  0  0 -1 -1 -1\n",
      "  0 -1  0  1 -1  1 -1  0 -1 -1  2 -1 -1 -1 -1 -1  0 -1 -1  1 -1 -1  0 -1\n",
      " -1  1  2  0  0  0  2  0 -1 -1 -1 -1 -1  0 -1 -1 -1  0 -1  0 -1 -1  0 -1\n",
      " -1 -1 -1  0 -1  0  0  2 -1 -1 -1  0  2  0  0 -1 -1  0  0 -1  0  0 -1 -1\n",
      "  0 -1 -1 -1  2  0  0 -1 -1  0 -1  0 -1 -1 -1 -1 -1  0 -1 -1 -1  2  0  0\n",
      "  0 -1  0 -1  0 -1  0 -1  0  1 -1 -1 -1  0  0 -1  0 -1 -1  1 -1 -1 -1  0\n",
      " -1 -1 -1 -1 -1  0  0  0 -1  0  0 -1 -1 -1], NumClusters: 3\n",
      "Combination (0.21842105263157896, 10) on iteration 41 of 180 has 1 clusters. Moving on\n",
      "Combination (0.21842105263157896, 12) on iteration 42 of 180 has 1 clusters. Moving on\n",
      "Combination (0.21842105263157896, 14) on iteration 43 of 180 has 1 clusters. Moving on\n",
      "Combination (0.21842105263157896, 16) on iteration 44 of 180 has 1 clusters. Moving on\n",
      "Combination (0.21842105263157896, 18) on iteration 45 of 180 has 1 clusters. Moving on\n",
      "Index: 45, Score: -0.3705818637227997, Labels: [ 0  0  0  0  0  1  0  2  2  3  0  0 -1 -1  0  0  4  0  0  0 -1  0  5  0\n",
      " -1  0  0  0  0  0  0  0 -1  0  0  0  6 -1  0  0  0  0  0  0  0 -1  7  0\n",
      "  0  0  0  0  8  0  0  0  2  7  0 -1 -1  0  0  0  0  9 -1  0  5  3  0  0\n",
      "  0  0  0  0  0  0  0  0  0 -1 -1 -1  8  0  5  0 -1  0 -1  0  0  0  0 -1\n",
      "  0  9  0  0  0  0  0  0  6  0  0  0  0  0  0  0 -1  0  0  0  0  0  0  0\n",
      "  0 -1  2  3  0  0  0  0 -1  0 -1  0  0  0  0 -1  0  0 -1  0 -1  0  0  0\n",
      "  0  0  0  0  0  0  0  5  0  0  0 -1  4  0  0 -1  0 -1  0  0  6 -1 -1  0\n",
      "  2  0 -1  8  0  0  0  0  1  0  0  0  0 -1], NumClusters: 10\n",
      "Index: 46, Score: 0.1263288794861983, Labels: [ 0  0  1  2  1 -1  2  4  4 -1  1  1 -1 -1  1  1 -1  0  1  1 -1  2  3  1\n",
      " -1  1  1 -1  1  0  2  2 -1  1  0  1 -1 -1  0  1  1  0  2  1  1 -1 -1  2\n",
      "  1  2  1  2 -1  2  2  1  4 -1  2 -1 -1  2  2  2  1 -1 -1  2  3 -1  1  1\n",
      "  1  2  2  1  1  1  2  1  2 -1 -1 -1 -1  1  3  1 -1  1 -1  1  1  0  1 -1\n",
      "  0 -1  2  1  0  1  1  2 -1  0  1  1  2  1  1  1 -1  1  1  2  1  1  0  0\n",
      "  1 -1  4 -1  2  1  1  0 -1  1 -1  1  2  2  2 -1  2  1 -1  2 -1  2  1  1\n",
      "  1  1  1  2  1  1  1  3  1  2  1 -1 -1  1  1 -1  1 -1  2  2 -1 -1 -1  1\n",
      "  4  0 -1 -1  2  1  1  1 -1  1  1  0  2 -1], NumClusters: 5\n",
      "Index: 47, Score: 0.12366297354134304, Labels: [ 0  0  1  2  1 -1  2 -1 -1 -1  1  1 -1 -1  1  1 -1  0  1  3 -1  4 -1  1\n",
      " -1  1  3 -1  1  0  2  2 -1  3  0  1 -1 -1  2  1  1  0  2  1  1 -1 -1 -1\n",
      "  1  4  1  2 -1  2  4  1 -1 -1  2 -1 -1  2  4  2  1 -1 -1  2 -1 -1  1  1\n",
      "  3  2  2  1  1  1  2  1  2 -1 -1 -1 -1  1 -1  1 -1  1 -1  1  1  0  1 -1\n",
      "  0 -1  2  1  0  1  1  2 -1  0  1  1  2  1  1  1 -1  1  1  2  1  1  0  0\n",
      "  1 -1 -1 -1  2  1  1  0 -1  1 -1  1  2  4  2 -1 -1  1 -1  2 -1  2  1  1\n",
      "  1  1  1  4  1  3  1 -1  1  2  3 -1 -1  1  1 -1  1 -1  2  2 -1 -1 -1  1\n",
      " -1  0 -1 -1  2  1  1  1 -1  1  1  0  2 -1], NumClusters: 5\n",
      "Index: 48, Score: 0.1934129225518892, Labels: [-1  2  1  0  1 -1  0 -1 -1 -1  1  1 -1 -1  1  1 -1  2  1 -1 -1 -1 -1  1\n",
      " -1  1 -1 -1  1 -1  0  0 -1 -1  2  1 -1 -1 -1  1  1  2  0  1  1 -1 -1 -1\n",
      "  1 -1  1  0 -1  0 -1  1 -1 -1  0 -1 -1  0 -1  0  1 -1 -1  0 -1 -1  1  1\n",
      " -1  0  0  1  1  1  0  1  0 -1 -1 -1 -1  1 -1 -1 -1  1 -1  1  1 -1  1 -1\n",
      " -1 -1  0  1  2  1  1  0 -1  2  1  1  0  1  1  1 -1  1  1 -1  1  1 -1  2\n",
      "  1 -1 -1 -1  0  1  1 -1 -1  1 -1  1  0 -1  0 -1 -1  1 -1  0 -1  0  1  1\n",
      "  1 -1  1 -1  1 -1  1 -1  1  0 -1 -1 -1  1  1 -1  1 -1  0  0 -1 -1 -1  1\n",
      " -1  2 -1 -1  0  1  1  1 -1  1  1 -1  0 -1], NumClusters: 3\n",
      "Index: 49, Score: 0.09882927622652195, Labels: [-1 -1  0  1  0 -1  1 -1 -1 -1  0  0 -1 -1  0  0 -1 -1  0 -1 -1 -1 -1  0\n",
      " -1  0 -1 -1  0 -1  1  1 -1 -1 -1  0 -1 -1 -1  0  0 -1  1  0  0 -1 -1 -1\n",
      "  0 -1  0  1 -1  1 -1  0 -1 -1  1 -1 -1 -1 -1 -1  0 -1 -1  1 -1 -1  0  0\n",
      " -1  1  1  0  0  0  1  0 -1 -1 -1 -1 -1  0 -1 -1 -1  0 -1  0  0 -1  0 -1\n",
      " -1 -1 -1  0 -1  0  0  1 -1 -1  0  0  1  0  0  0 -1  0  0 -1  0  0 -1 -1\n",
      "  0 -1 -1 -1  1  0  0 -1 -1 -1 -1  0  1 -1  1 -1 -1  0 -1 -1 -1  1  0  0\n",
      "  0 -1  0 -1  0 -1  0 -1  0 -1 -1 -1 -1  0  0 -1  0 -1 -1 -1 -1 -1 -1  0\n",
      " -1 -1 -1 -1 -1  0 -1  0 -1  0  0 -1 -1 -1], NumClusters: 2\n",
      "Index: 50, Score: 0.05392601185239708, Labels: [-1 -1  0  1  0 -1 -1 -1 -1 -1  0  0 -1 -1  0  0 -1 -1  0 -1 -1 -1 -1  0\n",
      " -1  0 -1 -1  0 -1 -1  1 -1 -1 -1  0 -1 -1 -1  0  0 -1 -1  0  0 -1 -1 -1\n",
      "  0 -1  0  1 -1  1 -1  0 -1 -1  1 -1 -1 -1 -1 -1  0 -1 -1  1 -1 -1  0  0\n",
      " -1  1  1  0  0  0  1  0 -1 -1 -1 -1 -1  0 -1 -1 -1  0 -1  0  0 -1  0 -1\n",
      " -1 -1 -1  0 -1  0  0 -1 -1 -1  0  0  1  0  0 -1 -1  0  0 -1  0  0 -1 -1\n",
      "  0 -1 -1 -1  1  0  0 -1 -1 -1 -1  0 -1 -1  1 -1 -1  0 -1 -1 -1 -1  0  0\n",
      "  0 -1  0 -1  0 -1  0 -1  0 -1 -1 -1 -1  0  0 -1  0 -1 -1 -1 -1 -1 -1  0\n",
      " -1 -1 -1 -1 -1  0 -1  0 -1  0  0 -1 -1 -1], NumClusters: 2\n",
      "Combination (0.2705263157894737, 14) on iteration 52 of 180 has 1 clusters. Moving on\n",
      "Combination (0.2705263157894737, 16) on iteration 53 of 180 has 1 clusters. Moving on\n",
      "Combination (0.2705263157894737, 18) on iteration 54 of 180 has 1 clusters. Moving on\n",
      "Index: 54, Score: -0.26770446294261596, Labels: [ 0  0  0  0  0  0  0  1  1  0  0  0  2 -1  0  0  0  0  0  0 -1  0  0  0\n",
      " -1  0  0  0  0  0  0  0 -1  0  0  0  0 -1  0  0  0  0  0  0  0 -1  3  0\n",
      "  0  0  0  0  4  0  0  0  1  3  0 -1 -1  0  0  0  0  0 -1  0  0  0  0  0\n",
      "  0  0  0  0  0  0  0  0  0 -1 -1 -1  4  0  0  0 -1  0 -1  0  0  0  0  2\n",
      "  0  0  0  0  0  0  0  0  0  0  0  0  0  0  0  0 -1  0  0  0  0  0  0  0\n",
      "  0  0  1  0  0  0  0  0 -1  0 -1  0  0  0  0 -1  0  0  2  0 -1  0  0  0\n",
      "  0  0  0  0  0  0  0  0  0  0  0 -1  0  0  0 -1  0  0  0  0  0 -1 -1  0\n",
      "  1  0  0  4  0  0  0  0  0  0  0  0  0 -1], NumClusters: 5\n",
      "Index: 55, Score: 0.06350187402763792, Labels: [ 0  0  0  0  0  0  0  1  1 -1  0  0 -1 -1  0  0  0  0  0  0 -1  0  0  0\n",
      " -1  0  0  0  0  0  0  0 -1  0  0  0  0 -1  0  0  0  0  0  0  0 -1 -1  0\n",
      "  0  0  0  0 -1  0  0  0  1 -1  0 -1 -1  0  0  0  0 -1 -1  0  0 -1  0  0\n",
      "  0  0  0  0  0  0  0  0  0 -1 -1 -1 -1  0  0  0 -1  0 -1  0  0  0  0 -1\n",
      "  0  0  0  0  0  0  0  0  0  0  0  0  0  0  0  0 -1  0  0  0  0  0  0  0\n",
      "  0 -1  1 -1  0  0  0  0 -1  0 -1  0  0  0  0 -1  0  0 -1  0 -1  0  0  0\n",
      "  0  0  0  0  0  0  0  0  0  0  0 -1 -1  0  0 -1  0  0  0  0  0 -1 -1  0\n",
      "  1  0  0 -1  0  0  0  0 -1  0  0  0  0 -1], NumClusters: 2\n",
      "Index: 56, Score: 0.31879367380892215, Labels: [ 0  0  1  0  1 -1  0 -1 -1 -1  1  1 -1 -1  1  1  0  0  1  1 -1  0 -1  1\n",
      " -1  1  1 -1  1  0  0  0 -1  1  0  1 -1 -1  0  1  1  0  0  1  1 -1 -1  0\n",
      "  1  0  1  0 -1  0  0  1 -1 -1  0 -1 -1  0  0  0  1 -1 -1  0 -1 -1  1  1\n",
      "  1  0  0  1  1  1  0  1  0 -1 -1 -1 -1  1 -1  1 -1  1 -1  1  1  0  1 -1\n",
      "  0  0  0  1  0  1  1  0  0  0  1  1  0  1  1  0 -1  1  1  0  1  1  0  0\n",
      "  1 -1 -1 -1  0  1  1  0 -1  1 -1  1  0  0  0 -1  0  1 -1  0 -1  0  1  1\n",
      "  1  1  1  0  1  1  1 -1  1  0  1 -1 -1  1  1 -1  1  0  0  0 -1 -1 -1  1\n",
      " -1  0  0 -1  0  1  1  1 -1  1  1  0  0 -1], NumClusters: 2\n",
      "Index: 57, Score: 0.24595629026732932, Labels: [ 2  2  0  1  0 -1  1 -1 -1 -1  0  0 -1 -1  0  0 -1  2  0 -1 -1  1 -1  0\n",
      " -1  0 -1 -1  0 -1  1  1 -1 -1  2  0 -1 -1  1  0  0  2  1  0  0 -1 -1  1\n",
      "  0  1  0  1 -1  1 -1  0 -1 -1  1 -1 -1  1 -1  1  0 -1 -1  1 -1 -1  0  0\n",
      " -1  1  1  0  0  0  1  0  1 -1 -1 -1 -1  0 -1  0 -1  0 -1  0  0 -1  0 -1\n",
      "  2 -1  1  0  2  0  0  1  1  2  0  0  1  0  0  0 -1  0  0  1  0  0  2  2\n",
      "  0 -1 -1 -1  1  0  0  1 -1  0 -1  0  1 -1  1 -1 -1  0 -1  1 -1  1  0  0\n",
      "  0  0  0  1  0 -1  0 -1  0  1  0 -1 -1  0  0 -1  0 -1  1  1 -1 -1 -1  0\n",
      " -1  2 -1 -1  1  0  0  0 -1  0  0  2  1 -1], NumClusters: 3\n",
      "Index: 58, Score: 0.20876877547658593, Labels: [-1  2  0  1  0 -1  1 -1 -1 -1  0  0 -1 -1  0  0 -1  2  0 -1 -1 -1 -1  0\n",
      " -1  0 -1 -1  0 -1  1  1 -1 -1  2  0 -1 -1 -1  0  0  2  1  0  0 -1 -1 -1\n",
      "  0 -1  0  1 -1  1 -1  0 -1 -1  1 -1 -1  1 -1  1  0 -1 -1  1 -1 -1  0  0\n",
      " -1  1  1  0  0  0  1  0  1 -1 -1 -1 -1  0 -1  0 -1  0 -1  0  0 -1  0 -1\n",
      "  2 -1  1  0  2  0  0  1 -1  2  0  0  1  0  0  0 -1  0  0 -1  0  0  2  2\n",
      "  0 -1 -1 -1  1  0  0 -1 -1  0 -1  0  1 -1  1 -1 -1  0 -1  1 -1  1  0  0\n",
      "  0  0  0 -1  0 -1  0 -1  0  1 -1 -1 -1  0  0 -1  0 -1  1  1 -1 -1 -1  0\n",
      " -1  2 -1 -1  1  0  0  0 -1  0  0 -1 -1 -1], NumClusters: 3\n",
      "Index: 59, Score: 0.14249937093568413, Labels: [-1 -1  0  1  0 -1  1 -1 -1 -1  0  0 -1 -1  0  0 -1 -1  0 -1 -1 -1 -1  0\n",
      " -1  0 -1 -1  0 -1  1  1 -1 -1 -1  0 -1 -1 -1  0  0 -1  1  0  0 -1 -1 -1\n",
      "  0 -1  0  1 -1  1 -1  0 -1 -1  1 -1 -1 -1 -1  1  0 -1 -1  1 -1 -1  0  0\n",
      " -1  1  1  0  0  0  1  0 -1 -1 -1 -1 -1  0 -1  0 -1  0 -1  0  0 -1  0 -1\n",
      " -1 -1 -1  0 -1  0  0  1 -1 -1  0  0  1  0  0  0 -1  0  0 -1  0  0 -1 -1\n",
      "  0 -1 -1 -1  1  0  0 -1 -1  0 -1  0  1 -1  1 -1 -1  0 -1  1 -1  1  0  0\n",
      "  0  0  0 -1  0 -1  0 -1  0  1 -1 -1 -1  0  0 -1  0 -1 -1  1 -1 -1 -1  0\n",
      " -1 -1 -1 -1 -1  0  0  0 -1  0  0 -1 -1 -1], NumClusters: 2\n",
      "Index: 60, Score: 0.10672551247517166, Labels: [-1 -1  0  1  0 -1  1 -1 -1 -1  0  0 -1 -1  0  0 -1 -1  0 -1 -1 -1 -1  0\n",
      " -1  0 -1 -1  0 -1 -1  1 -1 -1 -1  0 -1 -1 -1  0  0 -1  1  0  0 -1 -1 -1\n",
      "  0 -1  0  1 -1  1 -1  0 -1 -1  1 -1 -1 -1 -1 -1  0 -1 -1  1 -1 -1  0  0\n",
      " -1  1  1  0  0  0  1  0 -1 -1 -1 -1 -1  0 -1 -1 -1  0 -1  0  0 -1  0 -1\n",
      " -1 -1 -1  0 -1  0  0  1 -1 -1  0  0  1  0  0  0 -1  0  0 -1  0  0 -1 -1\n",
      "  0 -1 -1 -1  1  0  0 -1 -1  0 -1  0  1 -1  1 -1 -1  0 -1  1 -1 -1  0  0\n",
      "  0 -1  0 -1  0 -1  0 -1  0 -1 -1 -1 -1  0  0 -1  0 -1 -1  1 -1 -1 -1  0\n",
      " -1 -1 -1 -1 -1  0  0  0 -1  0  0 -1 -1 -1], NumClusters: 2\n",
      "Combination (0.32263157894736844, 16) on iteration 62 of 180 has 1 clusters. Moving on\n",
      "Combination (0.32263157894736844, 18) on iteration 63 of 180 has 1 clusters. Moving on\n",
      "Index: 63, Score: -0.1859779783476672, Labels: [ 0  0  0  0  0  0  0  0  0  0  0  0  1 -1  0  0  0  0  0  0 -1  0  0  0\n",
      " -1  0  0  0  0  0  0  0 -1  0  0  0  0 -1  0  0  0  0  0  0  0  0  2  0\n",
      "  0  0  0  0  0  0  0  0  0  2  0 -1 -1  0  0  0  0  0 -1  0  0  0  0  0\n",
      "  0  0  0  0  0  0  0  0  0 -1 -1 -1  0  0  0  0  0  0 -1  0  0  0  0  1\n",
      "  0  0  0  0  0  0  0  0  0  0  0  0  0  0  0  0  3  0  0  0  0  0  0  0\n",
      "  0  0  0  0  0  0  0  0 -1  0 -1  0  0  0  0  3  0  0  1  0 -1  0  0  0\n",
      "  0  0  0  0  0  0  0  0  0  0  0  0  0  0  0 -1  0  0  0  0  0 -1 -1  0\n",
      "  0  0  0  0  0  0  0  0  0  0  0  0  0  0], NumClusters: 4\n",
      "Combination (0.37473684210526315, 4) on iteration 65 of 180 has 1 clusters. Moving on\n",
      "Combination (0.37473684210526315, 6) on iteration 66 of 180 has 1 clusters. Moving on\n",
      "Combination (0.37473684210526315, 8) on iteration 67 of 180 has 1 clusters. Moving on\n",
      "Index: 67, Score: 0.2786499827613227, Labels: [ 1  2  0  1  0 -1  1 -1 -1 -1  0  0 -1 -1  0  0 -1  2  0  0 -1  1 -1  0\n",
      " -1  0  0 -1  0  1  1  1 -1  0  2  0 -1 -1  1  0  0  2  1  0  0 -1 -1  1\n",
      "  0  1  0  1 -1  1  0  0 -1 -1  1 -1 -1  1  1  1  0 -1 -1  1 -1 -1  0  0\n",
      "  0  1  1  0  0  0  1  0  1 -1 -1 -1 -1  0 -1  0 -1  0 -1  0  0  1  0 -1\n",
      "  2 -1  1  0  2  0  0  1  1  2  0  0  1  0  0  0 -1  0  0  1  0  0  2  2\n",
      "  0  0 -1 -1  1  0  0  1 -1  0 -1  0  1  0  1 -1  1  0 -1  1 -1  1  0  0\n",
      "  0  0  0  1  0  0  0 -1  0  1  0 -1 -1  0  0 -1  0 -1  1  1  1 -1 -1  0\n",
      " -1  2  1  0  1  0  0  0 -1  0  0  2  1 -1], NumClusters: 3\n",
      "Index: 68, Score: 0.25994075349881773, Labels: [ 2 -1  0  1  0 -1  1 -1 -1 -1  0  0 -1 -1  0  0 -1  2  0 -1 -1  1 -1  0\n",
      " -1  0 -1 -1  0  2  1  1 -1 -1  2  0 -1 -1  1  0  0  2  1  0  0 -1 -1 -1\n",
      "  0  1  0  1 -1  1  0  0 -1 -1  1 -1 -1  1  1  1  0 -1 -1  1 -1 -1  0  0\n",
      " -1  1  1  0  0  0  1  0  1 -1 -1 -1 -1  0 -1  0 -1  0 -1  0  0  2  0 -1\n",
      "  2 -1  1  0  2  0  0  1  1  2  0  0  1  0  0  0 -1  0  0  1  0  0  2  2\n",
      "  0  0 -1 -1  1  0  0  1 -1  0 -1  0  1  0  1 -1 -1  0 -1  1 -1  1  0  0\n",
      "  0  0  0  1  0 -1  0 -1  0  1 -1 -1 -1  0  0 -1  0 -1  1  1  1 -1 -1  0\n",
      " -1  2  1  0  1  0  0  0 -1  0  0  2  1 -1], NumClusters: 3\n",
      "Index: 69, Score: 0.22720394224404705, Labels: [-1 -1  0  1  0 -1  1 -1 -1 -1  0  0 -1 -1  0  0 -1 -1  0 -1 -1  1 -1  0\n",
      " -1  0 -1 -1  0 -1  1  1 -1 -1 -1  0 -1 -1  1  0  0 -1  1  0  0 -1 -1 -1\n",
      "  0  1  0  1 -1  1  0  0 -1 -1  1 -1 -1  1  1  1  0 -1 -1  1 -1 -1  0  0\n",
      " -1  1  1  0  0  0  1  0  1 -1 -1 -1 -1  0 -1  0 -1  0 -1  0  0 -1  0 -1\n",
      " -1 -1  1  0 -1  0  0  1  1 -1  0  0  1  0  0  0 -1  0  0  1  0  0 -1 -1\n",
      "  0  0 -1 -1  1  0  0  1 -1  0 -1  0  1  0  1 -1 -1  0 -1  1 -1  1  0  0\n",
      "  0  0  0  1  0 -1  0 -1  0  1 -1 -1 -1  0  0 -1  0 -1  1  1  1 -1 -1  0\n",
      " -1 -1  1  0  1  0  0  0 -1  0  0 -1  1 -1], NumClusters: 2\n",
      "Index: 70, Score: 0.18229760468788175, Labels: [-1 -1  0  1  0 -1  1 -1 -1 -1  0  0 -1 -1  0  0 -1 -1  0 -1 -1 -1 -1  0\n",
      " -1  0 -1 -1  0 -1  1  1 -1 -1 -1  0 -1 -1  1  0  0 -1  1  0  0 -1 -1 -1\n",
      "  0 -1  0  1 -1  1  0  0 -1 -1  1 -1 -1 -1 -1  1  0 -1 -1  1 -1 -1  0  0\n",
      " -1  1  1  0  0  0  1  0  1 -1 -1 -1 -1  0 -1  0 -1  0 -1  0  0 -1  0 -1\n",
      " -1 -1  1  0 -1  0  0  1 -1 -1  0  0  1  0  0  0 -1  0  0 -1  0  0 -1 -1\n",
      "  0 -1 -1 -1  1  0  0  1 -1  0 -1  0  1 -1  1 -1 -1  0 -1  1 -1  1  0  0\n",
      "  0  0  0 -1  0 -1  0 -1  0  1 -1 -1 -1  0  0 -1  0 -1  1  1 -1 -1 -1  0\n",
      " -1 -1 -1  0 -1  0  0  0 -1  0  0 -1 -1 -1], NumClusters: 2\n",
      "Index: 71, Score: 0.14351554154113652, Labels: [-1 -1  0  1  0 -1  1 -1 -1 -1  0  0 -1 -1  0  0 -1 -1  0 -1 -1 -1 -1  0\n",
      " -1  0 -1 -1  0 -1 -1  1 -1 -1 -1  0 -1 -1 -1  0  0 -1  1  0  0 -1 -1 -1\n",
      "  0 -1  0  1 -1  1  0  0 -1 -1  1 -1 -1 -1 -1 -1  0 -1 -1  1 -1 -1  0  0\n",
      " -1  1  1  0  0  0  1  0  1 -1 -1 -1 -1  0 -1 -1 -1  0 -1  0  0 -1  0 -1\n",
      " -1 -1  1  0 -1  0  0  1 -1 -1  0  0  1  0  0  0 -1  0  0 -1  0  0 -1 -1\n",
      "  0 -1 -1 -1  1  0  0 -1 -1  0 -1  0  1 -1  1 -1 -1  0 -1  1 -1  1  0  0\n",
      "  0 -1  0 -1  0 -1  0 -1  0  1 -1 -1 -1  0  0 -1  0 -1 -1  1 -1 -1 -1  0\n",
      " -1 -1 -1  0 -1  0  0  0 -1  0  0 -1 -1 -1], NumClusters: 2\n",
      "Index: 72, Score: 0.22533155239103023, Labels: [ 0  0  0  0  0  0  0  0  0  0  0  0  1 -1  0  0  0  0  0  0  2  0  0  0\n",
      " -1  0  0  0  0  0  0  0 -1  0  0  0  0 -1  0  0  0  0  0  0  0  0  0  0\n",
      "  0  0  0  0  0  0  0  0  0  0  0 -1 -1  0  0  0  0  0 -1  0  0  0  0  0\n",
      "  0  0  0  0  0  0  0  0  0 -1 -1 -1  0  0  0  0  0  0 -1  0  0  0  0  1\n",
      "  0  0  0  0  0  0  0  0  0  0  0  0  0  0  0  0  0  0  0  0  0  0  0  0\n",
      "  0  0  0  0  0  0  0  0 -1  0 -1  0  0  0  0  0  0  0  1  0 -1  0  0  0\n",
      "  0  0  0  0  0  0  0  0  0  0  0  0  0  0  0  0  0  0  0  0  0 -1  2  0\n",
      "  0  0  0  0  0  0  0  0  0  0  0  0  0  0], NumClusters: 3\n",
      "Combination (0.4268421052631579, 4) on iteration 74 of 180 has 1 clusters. Moving on\n",
      "Combination (0.4268421052631579, 6) on iteration 75 of 180 has 1 clusters. Moving on\n",
      "Combination (0.4268421052631579, 8) on iteration 76 of 180 has 1 clusters. Moving on\n",
      "Combination (0.4268421052631579, 10) on iteration 77 of 180 has 1 clusters. Moving on\n",
      "Combination (0.4268421052631579, 12) on iteration 78 of 180 has 1 clusters. Moving on\n",
      "Combination (0.4268421052631579, 14) on iteration 79 of 180 has 1 clusters. Moving on\n",
      "Index: 79, Score: 0.24824265809570367, Labels: [-1 -1  0  1  0  0  1 -1 -1 -1  0  0 -1 -1  0  0 -1 -1  0 -1 -1  0 -1  0\n",
      " -1  0 -1 -1  0 -1  1  1 -1 -1 -1  0  1 -1  1  0  0 -1  1  0  0 -1 -1 -1\n",
      "  0  0  0  1  0  1  0  0 -1 -1  1 -1 -1  1  0  1  0  1 -1  1 -1 -1  0  0\n",
      " -1  1  1  0  0  0  1  0  1 -1 -1 -1  0  0 -1  0 -1  0 -1  0  0 -1  0 -1\n",
      " -1 -1  1  0 -1  0  0  1  1 -1  0  0  1  0  0  0 -1  0  0  1  0  0 -1 -1\n",
      "  0  0 -1 -1  1  0  0  1 -1  0 -1  0  1  0  1 -1  1  0 -1  1 -1  1  0  0\n",
      "  0  0  0  0  0 -1  0  0  0  1 -1 -1 -1  0  0 -1  0 -1  1  1  1 -1 -1  0\n",
      " -1 -1  1  0  1  0  0  0 -1  0  0 -1  1 -1], NumClusters: 2\n",
      "Index: 80, Score: 0.2329091442820602, Labels: [-1 -1  0  1  0 -1  1 -1 -1 -1  0  0 -1 -1  0  0 -1 -1  0 -1 -1 -1 -1  0\n",
      " -1  0 -1 -1  0 -1  1  1 -1 -1 -1  0  1 -1  1  0  0 -1  1  0  0 -1 -1 -1\n",
      "  0 -1  0  1  0  1  0  0 -1 -1  1 -1 -1  1 -1  1  0 -1 -1  1 -1 -1  0  0\n",
      " -1  1  1  0  0  0  1  0  1 -1 -1 -1  0  0 -1  0 -1  0 -1  0  0 -1  0 -1\n",
      " -1 -1  1  0 -1  0  0  1  1 -1  0  0  1  0  0  0 -1  0  0  1  0  0 -1 -1\n",
      "  0  0 -1 -1  1  0  0  1 -1  0 -1  0  1  0  1 -1  1  0 -1  1 -1  1  0  0\n",
      "  0  0  0 -1  0 -1  0 -1  0  1 -1 -1 -1  0  0 -1  0 -1  1  1  1 -1 -1  0\n",
      " -1 -1 -1  0  1  0  0  0 -1  0  0 -1  1 -1], NumClusters: 2\n",
      "Index: 81, Score: 0.026872680381564245, Labels: [ 0  0  0  0  0  0  0  0  0  0  0  0  1 -1  0  0  0  0  0  0  2  0  0  0\n",
      " -1  0  0  0  0  0  0  0 -1  0  0  0  0 -1  0  0  0  0  0  0  0  0  0  0\n",
      "  0  0  0  0  0  0  0  0  0  0  0 -1 -1  0  0  0  0  0 -1  0  0  0  0  0\n",
      "  0  0  0  0  0  0  0  0  0 -1 -1 -1  0  0  0  0  0  0  3  0  0  0  0  1\n",
      "  0  0  0  0  0  0  0  0  0  0  0  0  0  0  0  0  0  0  0  0  0  0  0  0\n",
      "  0  0  0  0  0  0  0  0 -1  0 -1  0  0  0  0  0  0  0  1  0  3  0  0  0\n",
      "  0  0  0  0  0  0  0  0  0  0  0  0  0  0  0  0  0  0  0  0  0 -1  2  0\n",
      "  0  0  0  0  0  0  0  0  0  0  0  0  0  0], NumClusters: 4\n",
      "Combination (0.4789473684210527, 4) on iteration 83 of 180 has 1 clusters. Moving on\n",
      "Combination (0.4789473684210527, 6) on iteration 84 of 180 has 1 clusters. Moving on\n",
      "Combination (0.4789473684210527, 8) on iteration 85 of 180 has 1 clusters. Moving on\n",
      "Combination (0.4789473684210527, 10) on iteration 86 of 180 has 1 clusters. Moving on\n",
      "Combination (0.4789473684210527, 12) on iteration 87 of 180 has 1 clusters. Moving on\n",
      "Combination (0.4789473684210527, 14) on iteration 88 of 180 has 1 clusters. Moving on\n",
      "Combination (0.4789473684210527, 16) on iteration 89 of 180 has 1 clusters. Moving on\n",
      "Index: 89, Score: 0.27227027772156553, Labels: [-1 -1  0  1  0  0  1 -1 -1 -1  0  0 -1 -1  0  0 -1 -1  0 -1 -1  0 -1  0\n",
      " -1  0 -1 -1  0  1  1  1 -1 -1 -1  0  1 -1  1  0  0 -1  1  0  0 -1 -1  1\n",
      "  0  0  0  1  0  1  0  0 -1 -1  1 -1 -1  1  0  1  0  1 -1  1  0 -1  0  0\n",
      " -1  1  1  0  0  0  1  0  1 -1 -1 -1  0  0 -1  0 -1  0 -1  0  0  1  0 -1\n",
      " -1 -1  1  0 -1  0  0  1  1 -1  0  0  1  0  0  0 -1  0  0  1  0  0 -1 -1\n",
      "  0  0 -1 -1  1  0  0  1 -1  0 -1  0  1  0  1 -1  1  0 -1  1 -1  1  0  0\n",
      "  0  0  0  0  0 -1  0  0  0  1  0 -1 -1  0  0 -1  0 -1  1  1  1 -1 -1  0\n",
      " -1 -1  1  0  1  0  0  0 -1  0  0 -1  1 -1], NumClusters: 2\n",
      "Index: 90, Score: 0.29040717046347475, Labels: [ 0  0  0  0  0  0  0  0  0  0  0  0  0 -1  0  0  0  0  0  0  1  0  0  0\n",
      " -1  0  0  0  0  0  0  0 -1  0  0  0  0 -1  0  0  0  0  0  0  0  0  0  0\n",
      "  0  0  0  0  0  0  0  0  0  0  0 -1  1  0  0  0  0  0  0  0  0  0  0  0\n",
      "  0  0  0  0  0  0  0  0  0 -1 -1 -1  0  0  0  0  0  0  0  0  0  0  0  0\n",
      "  0  0  0  0  0  0  0  0  0  0  0  0  0  0  0  0  0  0  0  0  0  0  0  0\n",
      "  0  0  0  0  0  0  0  0 -1  0 -1  0  0  0  0  0  0  0  0  0  0  0  0  0\n",
      "  0  0  0  0  0  0  0  0  0  0  0  0  0  0  0  0  0  0  0  0  0 -1  1  0\n",
      "  0  0  0  0  0  0  0  0  0  0  0  0  0  0], NumClusters: 2\n",
      "Combination (0.5310526315789474, 4) on iteration 92 of 180 has 1 clusters. Moving on\n",
      "Combination (0.5310526315789474, 6) on iteration 93 of 180 has 1 clusters. Moving on\n",
      "Combination (0.5310526315789474, 8) on iteration 94 of 180 has 1 clusters. Moving on\n",
      "Combination (0.5310526315789474, 10) on iteration 95 of 180 has 1 clusters. Moving on\n",
      "Combination (0.5310526315789474, 12) on iteration 96 of 180 has 1 clusters. Moving on\n",
      "Combination (0.5310526315789474, 14) on iteration 97 of 180 has 1 clusters. Moving on\n",
      "Combination (0.5310526315789474, 16) on iteration 98 of 180 has 1 clusters. Moving on\n",
      "Combination (0.5310526315789474, 18) on iteration 99 of 180 has 1 clusters. Moving on\n",
      "Index: 99, Score: 0.4639936758857761, Labels: [ 0  0  0  0  0  0  0  0  0  0  0  0  0  0  0  0  0  0  0  0  0  0  0  0\n",
      " -1  0  0  0  0  0  0  0  1  0  0  0  0 -1  0  0  0  0  0  0  0  0  0  0\n",
      "  0  0  0  0  0  0  0  0  0  0  0 -1  0  0  0  0  0  0  0  0  0  0  0  0\n",
      "  0  0  0  0  0  0  0  0  0 -1 -1 -1  0  0  0  0  0  0  0  0  0  0  0  0\n",
      "  0  0  0  0  0  0  0  0  0  0  0  0  0  0  0  0  0  0  0  0  0  0  0  0\n",
      "  0  0  0  0  0  0  0  0 -1  0 -1  0  0  0  0  0  0  0  0  0  0  0  0  0\n",
      "  0  0  0  0  0  0  0  0  0  0  0  0  0  0  0  0  0  0  0  0  0  1  0  0\n",
      "  0  0  0  0  0  0  0  0  0  0  0  0  0  0], NumClusters: 2\n",
      "Combination (0.5831578947368421, 4) on iteration 101 of 180 has 1 clusters. Moving on\n",
      "Combination (0.5831578947368421, 6) on iteration 102 of 180 has 1 clusters. Moving on\n",
      "Combination (0.5831578947368421, 8) on iteration 103 of 180 has 1 clusters. Moving on\n",
      "Combination (0.5831578947368421, 10) on iteration 104 of 180 has 1 clusters. Moving on\n",
      "Combination (0.5831578947368421, 12) on iteration 105 of 180 has 1 clusters. Moving on\n",
      "Combination (0.5831578947368421, 14) on iteration 106 of 180 has 1 clusters. Moving on\n",
      "Combination (0.5831578947368421, 16) on iteration 107 of 180 has 1 clusters. Moving on\n",
      "Combination (0.5831578947368421, 18) on iteration 108 of 180 has 1 clusters. Moving on\n",
      "Index: 108, Score: 0.46337069478056914, Labels: [ 0  0  0  0  0  0  0  0  0  0  0  0  0  0  0  0  0  0  0  0  0  0  0  0\n",
      " -1  0  0  0  0  0  0  0  1  0  0  0  0 -1  0  0  0  0  0  0  0  0  0  0\n",
      "  0  0  0  0  0  0  0  0  0  0  0  0  0  0  0  0  0  0  0  0  0  0  0  0\n",
      "  0  0  0  0  0  0  0  0  0 -1 -1 -1  0  0  0  0  0  0  0  0  0  0  0  0\n",
      "  0  0  0  0  0  0  0  0  0  0  0  0  0  0  0  0  0  0  0  0  0  0  0  0\n",
      "  0  0  0  0  0  0  0  0 -1  0 -1  0  0  0  0  0  0  0  0  0  0  0  0  0\n",
      "  0  0  0  0  0  0  0  0  0  0  0  0  0  0  0  0  0  0  0  0  0  1  0  0\n",
      "  0  0  0  0  0  0  0  0  0  0  0  0  0  0], NumClusters: 2\n",
      "Combination (0.6352631578947369, 4) on iteration 110 of 180 has 1 clusters. Moving on\n",
      "Combination (0.6352631578947369, 6) on iteration 111 of 180 has 1 clusters. Moving on\n",
      "Combination (0.6352631578947369, 8) on iteration 112 of 180 has 1 clusters. Moving on\n",
      "Combination (0.6352631578947369, 10) on iteration 113 of 180 has 1 clusters. Moving on\n",
      "Combination (0.6352631578947369, 12) on iteration 114 of 180 has 1 clusters. Moving on\n",
      "Combination (0.6352631578947369, 14) on iteration 115 of 180 has 1 clusters. Moving on\n",
      "Combination (0.6352631578947369, 16) on iteration 116 of 180 has 1 clusters. Moving on\n",
      "Combination (0.6352631578947369, 18) on iteration 117 of 180 has 1 clusters. Moving on\n",
      "Index: 117, Score: 0.46337069478056914, Labels: [ 0  0  0  0  0  0  0  0  0  0  0  0  0  0  0  0  0  0  0  0  0  0  0  0\n",
      " -1  0  0  0  0  0  0  0  1  0  0  0  0 -1  0  0  0  0  0  0  0  0  0  0\n",
      "  0  0  0  0  0  0  0  0  0  0  0  0  0  0  0  0  0  0  0  0  0  0  0  0\n",
      "  0  0  0  0  0  0  0  0  0 -1 -1 -1  0  0  0  0  0  0  0  0  0  0  0  0\n",
      "  0  0  0  0  0  0  0  0  0  0  0  0  0  0  0  0  0  0  0  0  0  0  0  0\n",
      "  0  0  0  0  0  0  0  0 -1  0 -1  0  0  0  0  0  0  0  0  0  0  0  0  0\n",
      "  0  0  0  0  0  0  0  0  0  0  0  0  0  0  0  0  0  0  0  0  0  1  0  0\n",
      "  0  0  0  0  0  0  0  0  0  0  0  0  0  0], NumClusters: 2\n",
      "Combination (0.6873684210526316, 4) on iteration 119 of 180 has 1 clusters. Moving on\n",
      "Combination (0.6873684210526316, 6) on iteration 120 of 180 has 1 clusters. Moving on\n",
      "Combination (0.6873684210526316, 8) on iteration 121 of 180 has 1 clusters. Moving on\n",
      "Combination (0.6873684210526316, 10) on iteration 122 of 180 has 1 clusters. Moving on\n",
      "Combination (0.6873684210526316, 12) on iteration 123 of 180 has 1 clusters. Moving on\n",
      "Combination (0.6873684210526316, 14) on iteration 124 of 180 has 1 clusters. Moving on\n",
      "Combination (0.6873684210526316, 16) on iteration 125 of 180 has 1 clusters. Moving on\n",
      "Combination (0.6873684210526316, 18) on iteration 126 of 180 has 1 clusters. Moving on\n",
      "Index: 126, Score: 0.46337069478056914, Labels: [ 0  0  0  0  0  0  0  0  0  0  0  0  0  0  0  0  0  0  0  0  0  0  0  0\n",
      " -1  0  0  0  0  0  0  0  1  0  0  0  0 -1  0  0  0  0  0  0  0  0  0  0\n",
      "  0  0  0  0  0  0  0  0  0  0  0  0  0  0  0  0  0  0  0  0  0  0  0  0\n",
      "  0  0  0  0  0  0  0  0  0 -1 -1 -1  0  0  0  0  0  0  0  0  0  0  0  0\n",
      "  0  0  0  0  0  0  0  0  0  0  0  0  0  0  0  0  0  0  0  0  0  0  0  0\n",
      "  0  0  0  0  0  0  0  0 -1  0 -1  0  0  0  0  0  0  0  0  0  0  0  0  0\n",
      "  0  0  0  0  0  0  0  0  0  0  0  0  0  0  0  0  0  0  0  0  0  1  0  0\n",
      "  0  0  0  0  0  0  0  0  0  0  0  0  0  0], NumClusters: 2\n",
      "Combination (0.7394736842105263, 4) on iteration 128 of 180 has 1 clusters. Moving on\n",
      "Combination (0.7394736842105263, 6) on iteration 129 of 180 has 1 clusters. Moving on\n",
      "Combination (0.7394736842105263, 8) on iteration 130 of 180 has 1 clusters. Moving on\n",
      "Combination (0.7394736842105263, 10) on iteration 131 of 180 has 1 clusters. Moving on\n",
      "Combination (0.7394736842105263, 12) on iteration 132 of 180 has 1 clusters. Moving on\n",
      "Combination (0.7394736842105263, 14) on iteration 133 of 180 has 1 clusters. Moving on\n",
      "Combination (0.7394736842105263, 16) on iteration 134 of 180 has 1 clusters. Moving on\n",
      "Combination (0.7394736842105263, 18) on iteration 135 of 180 has 1 clusters. Moving on\n",
      "Index: 135, Score: 0.46863310624818005, Labels: [ 0  0  0  0  0  0  0  0  0  0  0  0  0  0  0  0  0  0  0  0  0  0  0  0\n",
      " -1  0  0  0  0  0  0  0  1  0  0  0  0 -1  0  0  0  0  0  0  0  0  0  0\n",
      "  0  0  0  0  0  0  0  0  0  0  0  0  0  0  0  0  0  0  0  0  0  0  0  0\n",
      "  0  0  0  0  0  0  0  0  0 -1 -1 -1  0  0  0  0  0  0  0  0  0  0  0  0\n",
      "  0  0  0  0  0  0  0  0  0  0  0  0  0  0  0  0  0  0  0  0  0  0  0  0\n",
      "  0  0  0  0  0  0  0  0 -1  0  0  0  0  0  0  0  0  0  0  0  0  0  0  0\n",
      "  0  0  0  0  0  0  0  0  0  0  0  0  0  0  0  0  0  0  0  0  0  1  0  0\n",
      "  0  0  0  0  0  0  0  0  0  0  0  0  0  0], NumClusters: 2\n",
      "Combination (0.791578947368421, 4) on iteration 137 of 180 has 1 clusters. Moving on\n",
      "Combination (0.791578947368421, 6) on iteration 138 of 180 has 1 clusters. Moving on\n",
      "Combination (0.791578947368421, 8) on iteration 139 of 180 has 1 clusters. Moving on\n",
      "Combination (0.791578947368421, 10) on iteration 140 of 180 has 1 clusters. Moving on\n",
      "Combination (0.791578947368421, 12) on iteration 141 of 180 has 1 clusters. Moving on\n",
      "Combination (0.791578947368421, 14) on iteration 142 of 180 has 1 clusters. Moving on\n",
      "Combination (0.791578947368421, 16) on iteration 143 of 180 has 1 clusters. Moving on\n",
      "Combination (0.791578947368421, 18) on iteration 144 of 180 has 1 clusters. Moving on\n",
      "Index: 144, Score: 0.4732542919733574, Labels: [ 0  0  0  0  0  0  0  0  0  0  0  0  0  0  0  0  0  0  0  0  0  0  0  0\n",
      " -1  0  0  0  0  0  0  0  1  0  0  0  0 -1  0  0  0  0  0  0  0  0  0  0\n",
      "  0  0  0  0  0  0  0  0  0  0  0  0  0  0  0  0  0  0  0  0  0  0  0  0\n",
      "  0  0  0  0  0  0  0  0  0 -1 -1  0  0  0  0  0  0  0  0  0  0  0  0  0\n",
      "  0  0  0  0  0  0  0  0  0  0  0  0  0  0  0  0  0  0  0  0  0  0  0  0\n",
      "  0  0  0  0  0  0  0  0 -1  0  0  0  0  0  0  0  0  0  0  0  0  0  0  0\n",
      "  0  0  0  0  0  0  0  0  0  0  0  0  0  0  0  0  0  0  0  0  0  1  0  0\n",
      "  0  0  0  0  0  0  0  0  0  0  0  0  0  0], NumClusters: 2\n",
      "Combination (0.8436842105263158, 4) on iteration 146 of 180 has 1 clusters. Moving on\n",
      "Combination (0.8436842105263158, 6) on iteration 147 of 180 has 1 clusters. Moving on\n",
      "Combination (0.8436842105263158, 8) on iteration 148 of 180 has 1 clusters. Moving on\n",
      "Combination (0.8436842105263158, 10) on iteration 149 of 180 has 1 clusters. Moving on\n",
      "Combination (0.8436842105263158, 12) on iteration 150 of 180 has 1 clusters. Moving on\n",
      "Combination (0.8436842105263158, 14) on iteration 151 of 180 has 1 clusters. Moving on\n",
      "Combination (0.8436842105263158, 16) on iteration 152 of 180 has 1 clusters. Moving on\n",
      "Combination (0.8436842105263158, 18) on iteration 153 of 180 has 1 clusters. Moving on\n",
      "Index: 153, Score: 0.4732542919733574, Labels: [ 0  0  0  0  0  0  0  0  0  0  0  0  0  0  0  0  0  0  0  0  0  0  0  0\n",
      " -1  0  0  0  0  0  0  0  1  0  0  0  0 -1  0  0  0  0  0  0  0  0  0  0\n",
      "  0  0  0  0  0  0  0  0  0  0  0  0  0  0  0  0  0  0  0  0  0  0  0  0\n",
      "  0  0  0  0  0  0  0  0  0 -1 -1  0  0  0  0  0  0  0  0  0  0  0  0  0\n",
      "  0  0  0  0  0  0  0  0  0  0  0  0  0  0  0  0  0  0  0  0  0  0  0  0\n",
      "  0  0  0  0  0  0  0  0 -1  0  0  0  0  0  0  0  0  0  0  0  0  0  0  0\n",
      "  0  0  0  0  0  0  0  0  0  0  0  0  0  0  0  0  0  0  0  0  0  1  0  0\n",
      "  0  0  0  0  0  0  0  0  0  0  0  0  0  0], NumClusters: 2\n",
      "Combination (0.8957894736842106, 4) on iteration 155 of 180 has 1 clusters. Moving on\n",
      "Combination (0.8957894736842106, 6) on iteration 156 of 180 has 1 clusters. Moving on\n",
      "Combination (0.8957894736842106, 8) on iteration 157 of 180 has 1 clusters. Moving on\n",
      "Combination (0.8957894736842106, 10) on iteration 158 of 180 has 1 clusters. Moving on\n",
      "Combination (0.8957894736842106, 12) on iteration 159 of 180 has 1 clusters. Moving on\n",
      "Combination (0.8957894736842106, 14) on iteration 160 of 180 has 1 clusters. Moving on\n",
      "Combination (0.8957894736842106, 16) on iteration 161 of 180 has 1 clusters. Moving on\n",
      "Combination (0.8957894736842106, 18) on iteration 162 of 180 has 1 clusters. Moving on\n",
      "Index: 162, Score: 0.7019436071047308, Labels: [ 0  0  0  0  0  0  0  0  0  0  0  0  0  0  0  0  0  0  0  0  0  0  0  0\n",
      " -1  0  0  0  0  0  0  0  0  0  0  0  0  1  0  0  0  0  0  0  0  0  0  0\n",
      "  0  0  0  0  0  0  0  0  0  0  0  0  0  0  0  0  0  0  0  0  0  0  0  0\n",
      "  0  0  0  0  0  0  0  0  0 -1  1  0  0  0  0  0  0  0  0  0  0  0  0  0\n",
      "  0  0  0  0  0  0  0  0  0  0  0  0  0  0  0  0  0  0  0  0  0  0  0  0\n",
      "  0  0  0  0  0  0  0  0 -1  0  0  0  0  0  0  0  0  0  0  0  0  0  0  0\n",
      "  0  0  0  0  0  0  0  0  0  0  0  0  0  0  0  0  0  0  0  0  0  0  0  0\n",
      "  0  0  0  0  0  0  0  0  0  0  0  0  0  0], NumClusters: 2\n",
      "Combination (0.9478947368421053, 4) on iteration 164 of 180 has 1 clusters. Moving on\n",
      "Combination (0.9478947368421053, 6) on iteration 165 of 180 has 1 clusters. Moving on\n",
      "Combination (0.9478947368421053, 8) on iteration 166 of 180 has 1 clusters. Moving on\n",
      "Combination (0.9478947368421053, 10) on iteration 167 of 180 has 1 clusters. Moving on\n",
      "Combination (0.9478947368421053, 12) on iteration 168 of 180 has 1 clusters. Moving on\n",
      "Combination (0.9478947368421053, 14) on iteration 169 of 180 has 1 clusters. Moving on\n",
      "Combination (0.9478947368421053, 16) on iteration 170 of 180 has 1 clusters. Moving on\n",
      "Combination (0.9478947368421053, 18) on iteration 171 of 180 has 1 clusters. Moving on\n",
      "Index: 171, Score: 0.7718698183779382, Labels: [ 0  0  0  0  0  0  0  0  0  0  0  0  0  0  0  0  0  0  0  0  0  0  0  0\n",
      "  0  0  0  0  0  0  0  0  0  0  0  0  0  1  0  0  0  0  0  0  0  0  0  0\n",
      "  0  0  0  0  0  0  0  0  0  0  0  0  0  0  0  0  0  0  0  0  0  0  0  0\n",
      "  0  0  0  0  0  0  0  0  0 -1  1  0  0  0  0  0  0  0  0  0  0  0  0  0\n",
      "  0  0  0  0  0  0  0  0  0  0  0  0  0  0  0  0  0  0  0  0  0  0  0  0\n",
      "  0  0  0  0  0  0  0  0 -1  0  0  0  0  0  0  0  0  0  0  0  0  0  0  0\n",
      "  0  0  0  0  0  0  0  0  0  0  0  0  0  0  0  0  0  0  0  0  0  0  0  0\n",
      "  0  0  0  0  0  0  0  0  0  0  0  0  0  0], NumClusters: 2\n",
      "Combination (1.0, 4) on iteration 173 of 180 has 1 clusters. Moving on\n",
      "Combination (1.0, 6) on iteration 174 of 180 has 1 clusters. Moving on\n",
      "Combination (1.0, 8) on iteration 175 of 180 has 1 clusters. Moving on\n",
      "Combination (1.0, 10) on iteration 176 of 180 has 1 clusters. Moving on\n",
      "Combination (1.0, 12) on iteration 177 of 180 has 1 clusters. Moving on\n",
      "Combination (1.0, 14) on iteration 178 of 180 has 1 clusters. Moving on\n",
      "Combination (1.0, 16) on iteration 179 of 180 has 1 clusters. Moving on\n",
      "Combination (1.0, 18) on iteration 180 of 180 has 1 clusters. Moving on\n"
     ]
    }
   ],
   "source": [
    "best_dict2 = get_scores_and_labels(combinations, X2_scaled)"
   ]
  },
  {
   "cell_type": "code",
   "execution_count": 38,
   "metadata": {},
   "outputs": [
    {
     "data": {
      "text/plain": [
       "{'best_epsilon': 1.0,\n",
       " 'best_min_samples': 2,\n",
       " 'best_labels': array([ 0,  0,  0,  0,  0,  0,  0,  0,  0,  0,  0,  0,  0,  0,  0,  0,  0,\n",
       "         0,  0,  0,  0,  0,  0,  0,  0,  0,  0,  0,  0,  0,  0,  0,  0,  0,\n",
       "         0,  0,  0,  1,  0,  0,  0,  0,  0,  0,  0,  0,  0,  0,  0,  0,  0,\n",
       "         0,  0,  0,  0,  0,  0,  0,  0,  0,  0,  0,  0,  0,  0,  0,  0,  0,\n",
       "         0,  0,  0,  0,  0,  0,  0,  0,  0,  0,  0,  0,  0, -1,  1,  0,  0,\n",
       "         0,  0,  0,  0,  0,  0,  0,  0,  0,  0,  0,  0,  0,  0,  0,  0,  0,\n",
       "         0,  0,  0,  0,  0,  0,  0,  0,  0,  0,  0,  0,  0,  0,  0,  0,  0,\n",
       "         0,  0,  0,  0,  0,  0,  0,  0,  0, -1,  0,  0,  0,  0,  0,  0,  0,\n",
       "         0,  0,  0,  0,  0,  0,  0,  0,  0,  0,  0,  0,  0,  0,  0,  0,  0,\n",
       "         0,  0,  0,  0,  0,  0,  0,  0,  0,  0,  0,  0,  0,  0,  0,  0,  0,\n",
       "         0,  0,  0,  0,  0,  0,  0,  0,  0,  0,  0,  0], dtype=int64),\n",
       " 'best_score': 0.7718698183779382}"
      ]
     },
     "execution_count": 38,
     "metadata": {},
     "output_type": "execute_result"
    }
   ],
   "source": [
    "best_dict2"
   ]
  },
  {
   "cell_type": "code",
   "execution_count": 39,
   "metadata": {},
   "outputs": [
    {
     "data": {
      "text/plain": [
       "cluster2\n",
       " 0    178\n",
       " 1      2\n",
       "-1      2\n",
       "Name: count, dtype: int64"
      ]
     },
     "execution_count": 39,
     "metadata": {},
     "output_type": "execute_result"
    }
   ],
   "source": [
    "df['cluster2'] = best_dict2['best_labels']\n",
    "\n",
    "df['cluster2'].value_counts()"
   ]
  },
  {
   "cell_type": "code",
   "execution_count": 40,
   "metadata": {},
   "outputs": [
    {
     "data": {
      "application/vnd.plotly.v1+json": {
       "config": {
        "plotlyServerURL": "https://plot.ly"
       },
       "data": [
        {
         "hovertemplate": "x=%{x}<br>y=%{y}<br>color=%{marker.color}<extra></extra>",
         "legendgroup": "",
         "marker": {
          "color": [
           0,
           0,
           0,
           0,
           0,
           0,
           0,
           0,
           0,
           0,
           0,
           0,
           0,
           0,
           0,
           0,
           0,
           0,
           0,
           0,
           0,
           0,
           0,
           0,
           0,
           0,
           0,
           0,
           0,
           0,
           0,
           0,
           0,
           0,
           0,
           0,
           0,
           1,
           0,
           0,
           0,
           0,
           0,
           0,
           0,
           0,
           0,
           0,
           0,
           0,
           0,
           0,
           0,
           0,
           0,
           0,
           0,
           0,
           0,
           0,
           0,
           0,
           0,
           0,
           0,
           0,
           0,
           0,
           0,
           0,
           0,
           0,
           0,
           0,
           0,
           0,
           0,
           0,
           0,
           0,
           0,
           -1,
           1,
           0,
           0,
           0,
           0,
           0,
           0,
           0,
           0,
           0,
           0,
           0,
           0,
           0,
           0,
           0,
           0,
           0,
           0,
           0,
           0,
           0,
           0,
           0,
           0,
           0,
           0,
           0,
           0,
           0,
           0,
           0,
           0,
           0,
           0,
           0,
           0,
           0,
           0,
           0,
           0,
           0,
           0,
           0,
           0,
           0,
           -1,
           0,
           0,
           0,
           0,
           0,
           0,
           0,
           0,
           0,
           0,
           0,
           0,
           0,
           0,
           0,
           0,
           0,
           0,
           0,
           0,
           0,
           0,
           0,
           0,
           0,
           0,
           0,
           0,
           0,
           0,
           0,
           0,
           0,
           0,
           0,
           0,
           0,
           0,
           0,
           0,
           0,
           0,
           0,
           0,
           0,
           0,
           0,
           0,
           0,
           0,
           0,
           0,
           0
          ],
          "coloraxis": "coloraxis",
          "symbol": "circle"
         },
         "mode": "markers",
         "name": "",
         "orientation": "v",
         "showlegend": false,
         "type": "scatter",
         "x": [
          34247333.333333336,
          2896444.4444444445,
          39784222.222222224,
          27940555.55555556,
          93444.44444444444,
          43063444.44444445,
          2920888.888888889,
          104222.22222222222,
          23908222.222222224,
          8691000,
          9611555.555555556,
          374555.5555555556,
          1414555.5555555555,
          156210883.55555555,
          285222.22222222225,
          9436444.444444444,
          11284111.111111112,
          360555.5555555556,
          10599000,
          63777.77777777778,
          728000,
          10866777.777777778,
          3453666.6666666665,
          2139000,
          204398890.66666663,
          29222.222222222223,
          414222.2222222223,
          7195000,
          18148222.222222224,
          10196555.555555556,
          15517222.222222222,
          23337000,
          36005555.55555555,
          61666.66666666666,
          4533888.888888889,
          14127222.222222222,
          18032666.666666668,
          1406154666.6666667,
          47756444.44444445,
          778000,
          18000,
          4844666.666666667,
          4228111.111111111,
          11306000,
          1161666.6666666667,
          10615777.777777778,
          76466000,
          5683555.555555556,
          913777.7777777778,
          71222.22222222222,
          10279555.555555556,
          16258111.111111112,
          92436222.22222222,
          6328222.222222222,
          1169666.6666666667,
          3348777.777777778,
          1320666.6666666667,
          100943111.1111111,
          872333.3333333334,
          5472222.222222222,
          64328777.777777776,
          262666.6666666667,
          273333.3333333333,
          1938777.7777777775,
          2090888.888888889,
          4030777.777777778,
          81970333.33333333,
          27872555.55555556,
          10654555.555555556,
          56333.333333333336,
          109444.44444444444,
          401555.5555555556,
          162555.55555555556,
          16257555.555555556,
          11504333.333333334,
          1738888.888888889,
          767111.1111111111,
          10689444.444444444,
          9113777.777777778,
          7202444.444444444,
          9783666.666666666,
          330777.7777777777,
          1309435221.3333333,
          258154222.2222222,
          78618555.55555555,
          35296000,
          4693666.666666667,
          7991444.444444444,
          60348555.55555555,
          2889222.222222222,
          127857666.66666669,
          9096111.111111112,
          17547333.333333332,
          47873222.222222224,
          111111.11111111112,
          3769666.6666666665,
          5962111.111111111,
          6749333.333333333,
          1998555.5555555555,
          6299444.444444444,
          2061111.111111111,
          4475333.333333333,
          6462444.444444444,
          2926333.333333333,
          567333.3333333334,
          16764333.333333334,
          30288222.222222224,
          455777.77777777775,
          17503333.333333332,
          431444.4444444445,
          381000,
          1259777.7777777778,
          121765111.1111111,
          4066111.111111111,
          2997777.777777778,
          626888.8888888889,
          5000,
          34644888.88888889,
          27142333.33333333,
          2319777.777777778,
          10333.333333333334,
          16929333.333333332,
          270555.5555555556,
          4608444.444444444,
          6223888.888888889,
          20089000,
          2000,
          25177777.777777776,
          5183000,
          4195222.222222222,
          199660332.44444445,
          4545666.666666667,
          3972000,
          8115333.333333333,
          30663888.888888888,
          101987333.33333331,
          10383444.444444444,
          3317444.4444444445,
          2509666.6666666665,
          19886555.55555556,
          144898110.2222222,
          11409666.666666666,
          5777.777777777777,
          51111.11111111111,
          179333.33333333334,
          6000,
          109222.22222222222,
          192888.88888888888,
          199555.5555555556,
          31514000,
          14614888.888888888,
          8873000,
          94888.88888888888,
          7178777.777777778,
          5569888.888888889,
          5434555.555555556,
          2068555.5555555555,
          604111.1111111111,
          13844666.666666666,
          50677777.777777776,
          10594777.777777778,
          46804333.333333336,
          20888111.111111112,
          38974777.777777776,
          558666.6666666666,
          9759333.333333334,
          8275555.555555556,
          18487111.111111112,
          23542222.222222224,
          8478444.444444444,
          51631222.222222224,
          68654222.22222222,
          7329444.444444444,
          102333.33333333331,
          1368222.2222222222,
          11198000,
          78499000,
          5561333.333333333,
          35888.88888888889,
          38520333.333333336,
          44870777.777777776,
          9334888.888888888
         ],
         "xaxis": "x",
         "y": [
          83.54344444444445,
          99.85144444444444,
          0.7663333333333333,
          65.67355555555555,
          1.572,
          29.9663,
          61.522333333333336,
          16.076999999999998,
          16.1249,
          76.4209,
          8.4712,
          0.1038888888888888,
          0.0257777777777777,
          1.7922,
          1.8823333333333327,
          1.5658,
          64.9044,
          96.514,
          2.7984444444444443,
          0,
          99.99466666666666,
          31.721,
          34.230000000000004,
          0.165,
          83.5328,
          1.0435555555555556,
          0.0416666666666666,
          50.1946,
          15.253888888888888,
          80.43233333333335,
          46.68411111111111,
          66.47200000000001,
          81.0555,
          0.8367777777777778,
          96.28844444444444,
          1.8128888888888888,
          43.7029,
          27.152300000000004,
          73.7897,
          3.307,
          11.258777777777778,
          95.7824,
          63.301,
          4.011333333333334,
          8.0901,
          44.8336,
          99.79077777777778,
          60.8865,
          0.8294444444444444,
          32.31388888888889,
          12.155444444444443,
          61.81911111111111,
          9.922333333333334,
          64.00677777777778,
          27.402666666666665,
          3.615,
          15.9803,
          99.89044444444444,
          58.81944444444444,
          76.27090000000001,
          90.6893,
          60.39433333333333,
          34.49444444444444,
          43.041777777777774,
          1.1335555555555556,
          79.99588888888889,
          44.5755,
          58.945,
          25.8654,
          80.626,
          1.6578888888888887,
          12.929555555555556,
          1.922555555555556,
          64.89644444444444,
          52.902,
          2.052777777777778,
          2.016,
          14.955111111111112,
          53.59733333333334,
          0.1934444444444444,
          59.7081,
          99.98444444444443,
          21.8353,
          13.58488888888889,
          7.6178,
          5.160777777777778,
          27.8065,
          2.076,
          37.6403,
          9.148222222222223,
          22.3902,
          4.386333333333333,
          10.3766,
          79.83777777777777,
          10.330333333333334,
          0.0613333333333333,
          91.424,
          82.95022222222222,
          56.7076,
          3.474555555555556,
          100,
          0.3185555555555555,
          0.0243333333333333,
          53.268600000000006,
          43.3258,
          91.23455555555556,
          12.63011111111111,
          0.4555555555555555,
          52.55155555555555,
          7.0952,
          2.7977777777777777,
          21.80211111111111,
          20.1356,
          6.086444444444444,
          4.8538,
          55.74944444444444,
          0,
          15.340222222222224,
          90.12611111111111,
          97.59633333333332,
          0,
          18.0553,
          15.024333333333333,
          79.998,
          52.80433333333333,
          1.463,
          0,
          76.99288888888888,
          98.111,
          0.0074444444444444,
          38.1531,
          0.0377777777777777,
          66.893,
          27.23633333333333,
          57.7494,
          25.849,
          51.2143,
          4.257222222222222,
          0.3211111111111111,
          55.9733,
          35.581399999999995,
          48.70088888888889,
          0,
          3.7568888888888887,
          0.3106666666666666,
          1.4925555555555556,
          15.373555555555557,
          30.84655555555556,
          8.924333333333333,
          0.0272222222222222,
          11.075222222222225,
          28.7959,
          1.020333333333333,
          68.674,
          3.1572,
          78.1533,
          67.6322,
          5.444222222222222,
          2.6202222222222225,
          30.937400000000004,
          0.486375,
          57.3116,
          42.33322222222223,
          68.51866666666666,
          44.77577777777778,
          97.6304,
          98.8813,
          7.188999999999999,
          18.5083,
          96.8246,
          35.84166666666667,
          12.5835,
          39.50544444444445,
          0,
          0.0512222222222222,
          2.9312,
          32.465,
          0.0141111111111111,
          0,
          89.3971111111111,
          57.1829,
          0.642888888888889
         ],
         "yaxis": "y"
        }
       ],
       "layout": {
        "coloraxis": {
         "colorbar": {
          "title": {
           "text": "color"
          }
         },
         "colorscale": [
          [
           0,
           "#0d0887"
          ],
          [
           0.1111111111111111,
           "#46039f"
          ],
          [
           0.2222222222222222,
           "#7201a8"
          ],
          [
           0.3333333333333333,
           "#9c179e"
          ],
          [
           0.4444444444444444,
           "#bd3786"
          ],
          [
           0.5555555555555556,
           "#d8576b"
          ],
          [
           0.6666666666666666,
           "#ed7953"
          ],
          [
           0.7777777777777778,
           "#fb9f3a"
          ],
          [
           0.8888888888888888,
           "#fdca26"
          ],
          [
           1,
           "#f0f921"
          ]
         ]
        },
        "legend": {
         "tracegroupgap": 0
        },
        "margin": {
         "t": 60
        },
        "template": {
         "data": {
          "bar": [
           {
            "error_x": {
             "color": "#2a3f5f"
            },
            "error_y": {
             "color": "#2a3f5f"
            },
            "marker": {
             "line": {
              "color": "#E5ECF6",
              "width": 0.5
             },
             "pattern": {
              "fillmode": "overlay",
              "size": 10,
              "solidity": 0.2
             }
            },
            "type": "bar"
           }
          ],
          "barpolar": [
           {
            "marker": {
             "line": {
              "color": "#E5ECF6",
              "width": 0.5
             },
             "pattern": {
              "fillmode": "overlay",
              "size": 10,
              "solidity": 0.2
             }
            },
            "type": "barpolar"
           }
          ],
          "carpet": [
           {
            "aaxis": {
             "endlinecolor": "#2a3f5f",
             "gridcolor": "white",
             "linecolor": "white",
             "minorgridcolor": "white",
             "startlinecolor": "#2a3f5f"
            },
            "baxis": {
             "endlinecolor": "#2a3f5f",
             "gridcolor": "white",
             "linecolor": "white",
             "minorgridcolor": "white",
             "startlinecolor": "#2a3f5f"
            },
            "type": "carpet"
           }
          ],
          "choropleth": [
           {
            "colorbar": {
             "outlinewidth": 0,
             "ticks": ""
            },
            "type": "choropleth"
           }
          ],
          "contour": [
           {
            "colorbar": {
             "outlinewidth": 0,
             "ticks": ""
            },
            "colorscale": [
             [
              0,
              "#0d0887"
             ],
             [
              0.1111111111111111,
              "#46039f"
             ],
             [
              0.2222222222222222,
              "#7201a8"
             ],
             [
              0.3333333333333333,
              "#9c179e"
             ],
             [
              0.4444444444444444,
              "#bd3786"
             ],
             [
              0.5555555555555556,
              "#d8576b"
             ],
             [
              0.6666666666666666,
              "#ed7953"
             ],
             [
              0.7777777777777778,
              "#fb9f3a"
             ],
             [
              0.8888888888888888,
              "#fdca26"
             ],
             [
              1,
              "#f0f921"
             ]
            ],
            "type": "contour"
           }
          ],
          "contourcarpet": [
           {
            "colorbar": {
             "outlinewidth": 0,
             "ticks": ""
            },
            "type": "contourcarpet"
           }
          ],
          "heatmap": [
           {
            "colorbar": {
             "outlinewidth": 0,
             "ticks": ""
            },
            "colorscale": [
             [
              0,
              "#0d0887"
             ],
             [
              0.1111111111111111,
              "#46039f"
             ],
             [
              0.2222222222222222,
              "#7201a8"
             ],
             [
              0.3333333333333333,
              "#9c179e"
             ],
             [
              0.4444444444444444,
              "#bd3786"
             ],
             [
              0.5555555555555556,
              "#d8576b"
             ],
             [
              0.6666666666666666,
              "#ed7953"
             ],
             [
              0.7777777777777778,
              "#fb9f3a"
             ],
             [
              0.8888888888888888,
              "#fdca26"
             ],
             [
              1,
              "#f0f921"
             ]
            ],
            "type": "heatmap"
           }
          ],
          "heatmapgl": [
           {
            "colorbar": {
             "outlinewidth": 0,
             "ticks": ""
            },
            "colorscale": [
             [
              0,
              "#0d0887"
             ],
             [
              0.1111111111111111,
              "#46039f"
             ],
             [
              0.2222222222222222,
              "#7201a8"
             ],
             [
              0.3333333333333333,
              "#9c179e"
             ],
             [
              0.4444444444444444,
              "#bd3786"
             ],
             [
              0.5555555555555556,
              "#d8576b"
             ],
             [
              0.6666666666666666,
              "#ed7953"
             ],
             [
              0.7777777777777778,
              "#fb9f3a"
             ],
             [
              0.8888888888888888,
              "#fdca26"
             ],
             [
              1,
              "#f0f921"
             ]
            ],
            "type": "heatmapgl"
           }
          ],
          "histogram": [
           {
            "marker": {
             "pattern": {
              "fillmode": "overlay",
              "size": 10,
              "solidity": 0.2
             }
            },
            "type": "histogram"
           }
          ],
          "histogram2d": [
           {
            "colorbar": {
             "outlinewidth": 0,
             "ticks": ""
            },
            "colorscale": [
             [
              0,
              "#0d0887"
             ],
             [
              0.1111111111111111,
              "#46039f"
             ],
             [
              0.2222222222222222,
              "#7201a8"
             ],
             [
              0.3333333333333333,
              "#9c179e"
             ],
             [
              0.4444444444444444,
              "#bd3786"
             ],
             [
              0.5555555555555556,
              "#d8576b"
             ],
             [
              0.6666666666666666,
              "#ed7953"
             ],
             [
              0.7777777777777778,
              "#fb9f3a"
             ],
             [
              0.8888888888888888,
              "#fdca26"
             ],
             [
              1,
              "#f0f921"
             ]
            ],
            "type": "histogram2d"
           }
          ],
          "histogram2dcontour": [
           {
            "colorbar": {
             "outlinewidth": 0,
             "ticks": ""
            },
            "colorscale": [
             [
              0,
              "#0d0887"
             ],
             [
              0.1111111111111111,
              "#46039f"
             ],
             [
              0.2222222222222222,
              "#7201a8"
             ],
             [
              0.3333333333333333,
              "#9c179e"
             ],
             [
              0.4444444444444444,
              "#bd3786"
             ],
             [
              0.5555555555555556,
              "#d8576b"
             ],
             [
              0.6666666666666666,
              "#ed7953"
             ],
             [
              0.7777777777777778,
              "#fb9f3a"
             ],
             [
              0.8888888888888888,
              "#fdca26"
             ],
             [
              1,
              "#f0f921"
             ]
            ],
            "type": "histogram2dcontour"
           }
          ],
          "mesh3d": [
           {
            "colorbar": {
             "outlinewidth": 0,
             "ticks": ""
            },
            "type": "mesh3d"
           }
          ],
          "parcoords": [
           {
            "line": {
             "colorbar": {
              "outlinewidth": 0,
              "ticks": ""
             }
            },
            "type": "parcoords"
           }
          ],
          "pie": [
           {
            "automargin": true,
            "type": "pie"
           }
          ],
          "scatter": [
           {
            "fillpattern": {
             "fillmode": "overlay",
             "size": 10,
             "solidity": 0.2
            },
            "type": "scatter"
           }
          ],
          "scatter3d": [
           {
            "line": {
             "colorbar": {
              "outlinewidth": 0,
              "ticks": ""
             }
            },
            "marker": {
             "colorbar": {
              "outlinewidth": 0,
              "ticks": ""
             }
            },
            "type": "scatter3d"
           }
          ],
          "scattercarpet": [
           {
            "marker": {
             "colorbar": {
              "outlinewidth": 0,
              "ticks": ""
             }
            },
            "type": "scattercarpet"
           }
          ],
          "scattergeo": [
           {
            "marker": {
             "colorbar": {
              "outlinewidth": 0,
              "ticks": ""
             }
            },
            "type": "scattergeo"
           }
          ],
          "scattergl": [
           {
            "marker": {
             "colorbar": {
              "outlinewidth": 0,
              "ticks": ""
             }
            },
            "type": "scattergl"
           }
          ],
          "scattermapbox": [
           {
            "marker": {
             "colorbar": {
              "outlinewidth": 0,
              "ticks": ""
             }
            },
            "type": "scattermapbox"
           }
          ],
          "scatterpolar": [
           {
            "marker": {
             "colorbar": {
              "outlinewidth": 0,
              "ticks": ""
             }
            },
            "type": "scatterpolar"
           }
          ],
          "scatterpolargl": [
           {
            "marker": {
             "colorbar": {
              "outlinewidth": 0,
              "ticks": ""
             }
            },
            "type": "scatterpolargl"
           }
          ],
          "scatterternary": [
           {
            "marker": {
             "colorbar": {
              "outlinewidth": 0,
              "ticks": ""
             }
            },
            "type": "scatterternary"
           }
          ],
          "surface": [
           {
            "colorbar": {
             "outlinewidth": 0,
             "ticks": ""
            },
            "colorscale": [
             [
              0,
              "#0d0887"
             ],
             [
              0.1111111111111111,
              "#46039f"
             ],
             [
              0.2222222222222222,
              "#7201a8"
             ],
             [
              0.3333333333333333,
              "#9c179e"
             ],
             [
              0.4444444444444444,
              "#bd3786"
             ],
             [
              0.5555555555555556,
              "#d8576b"
             ],
             [
              0.6666666666666666,
              "#ed7953"
             ],
             [
              0.7777777777777778,
              "#fb9f3a"
             ],
             [
              0.8888888888888888,
              "#fdca26"
             ],
             [
              1,
              "#f0f921"
             ]
            ],
            "type": "surface"
           }
          ],
          "table": [
           {
            "cells": {
             "fill": {
              "color": "#EBF0F8"
             },
             "line": {
              "color": "white"
             }
            },
            "header": {
             "fill": {
              "color": "#C8D4E3"
             },
             "line": {
              "color": "white"
             }
            },
            "type": "table"
           }
          ]
         },
         "layout": {
          "annotationdefaults": {
           "arrowcolor": "#2a3f5f",
           "arrowhead": 0,
           "arrowwidth": 1
          },
          "autotypenumbers": "strict",
          "coloraxis": {
           "colorbar": {
            "outlinewidth": 0,
            "ticks": ""
           }
          },
          "colorscale": {
           "diverging": [
            [
             0,
             "#8e0152"
            ],
            [
             0.1,
             "#c51b7d"
            ],
            [
             0.2,
             "#de77ae"
            ],
            [
             0.3,
             "#f1b6da"
            ],
            [
             0.4,
             "#fde0ef"
            ],
            [
             0.5,
             "#f7f7f7"
            ],
            [
             0.6,
             "#e6f5d0"
            ],
            [
             0.7,
             "#b8e186"
            ],
            [
             0.8,
             "#7fbc41"
            ],
            [
             0.9,
             "#4d9221"
            ],
            [
             1,
             "#276419"
            ]
           ],
           "sequential": [
            [
             0,
             "#0d0887"
            ],
            [
             0.1111111111111111,
             "#46039f"
            ],
            [
             0.2222222222222222,
             "#7201a8"
            ],
            [
             0.3333333333333333,
             "#9c179e"
            ],
            [
             0.4444444444444444,
             "#bd3786"
            ],
            [
             0.5555555555555556,
             "#d8576b"
            ],
            [
             0.6666666666666666,
             "#ed7953"
            ],
            [
             0.7777777777777778,
             "#fb9f3a"
            ],
            [
             0.8888888888888888,
             "#fdca26"
            ],
            [
             1,
             "#f0f921"
            ]
           ],
           "sequentialminus": [
            [
             0,
             "#0d0887"
            ],
            [
             0.1111111111111111,
             "#46039f"
            ],
            [
             0.2222222222222222,
             "#7201a8"
            ],
            [
             0.3333333333333333,
             "#9c179e"
            ],
            [
             0.4444444444444444,
             "#bd3786"
            ],
            [
             0.5555555555555556,
             "#d8576b"
            ],
            [
             0.6666666666666666,
             "#ed7953"
            ],
            [
             0.7777777777777778,
             "#fb9f3a"
            ],
            [
             0.8888888888888888,
             "#fdca26"
            ],
            [
             1,
             "#f0f921"
            ]
           ]
          },
          "colorway": [
           "#636efa",
           "#EF553B",
           "#00cc96",
           "#ab63fa",
           "#FFA15A",
           "#19d3f3",
           "#FF6692",
           "#B6E880",
           "#FF97FF",
           "#FECB52"
          ],
          "font": {
           "color": "#2a3f5f"
          },
          "geo": {
           "bgcolor": "white",
           "lakecolor": "white",
           "landcolor": "#E5ECF6",
           "showlakes": true,
           "showland": true,
           "subunitcolor": "white"
          },
          "hoverlabel": {
           "align": "left"
          },
          "hovermode": "closest",
          "mapbox": {
           "style": "light"
          },
          "paper_bgcolor": "white",
          "plot_bgcolor": "#E5ECF6",
          "polar": {
           "angularaxis": {
            "gridcolor": "white",
            "linecolor": "white",
            "ticks": ""
           },
           "bgcolor": "#E5ECF6",
           "radialaxis": {
            "gridcolor": "white",
            "linecolor": "white",
            "ticks": ""
           }
          },
          "scene": {
           "xaxis": {
            "backgroundcolor": "#E5ECF6",
            "gridcolor": "white",
            "gridwidth": 2,
            "linecolor": "white",
            "showbackground": true,
            "ticks": "",
            "zerolinecolor": "white"
           },
           "yaxis": {
            "backgroundcolor": "#E5ECF6",
            "gridcolor": "white",
            "gridwidth": 2,
            "linecolor": "white",
            "showbackground": true,
            "ticks": "",
            "zerolinecolor": "white"
           },
           "zaxis": {
            "backgroundcolor": "#E5ECF6",
            "gridcolor": "white",
            "gridwidth": 2,
            "linecolor": "white",
            "showbackground": true,
            "ticks": "",
            "zerolinecolor": "white"
           }
          },
          "shapedefaults": {
           "line": {
            "color": "#2a3f5f"
           }
          },
          "ternary": {
           "aaxis": {
            "gridcolor": "white",
            "linecolor": "white",
            "ticks": ""
           },
           "baxis": {
            "gridcolor": "white",
            "linecolor": "white",
            "ticks": ""
           },
           "bgcolor": "#E5ECF6",
           "caxis": {
            "gridcolor": "white",
            "linecolor": "white",
            "ticks": ""
           }
          },
          "title": {
           "x": 0.05
          },
          "xaxis": {
           "automargin": true,
           "gridcolor": "white",
           "linecolor": "white",
           "ticks": "",
           "title": {
            "standoff": 15
           },
           "zerolinecolor": "white",
           "zerolinewidth": 2
          },
          "yaxis": {
           "automargin": true,
           "gridcolor": "white",
           "linecolor": "white",
           "ticks": "",
           "title": {
            "standoff": 15
           },
           "zerolinecolor": "white",
           "zerolinewidth": 2
          }
         }
        },
        "xaxis": {
         "anchor": "y",
         "domain": [
          0,
          1
         ],
         "title": {
          "text": "x"
         }
        },
        "yaxis": {
         "anchor": "x",
         "domain": [
          0,
          1
         ],
         "title": {
          "text": "y"
         }
        }
       }
      }
     },
     "metadata": {},
     "output_type": "display_data"
    }
   ],
   "source": [
    "fig = px.scatter(x=df[\"population\"], y=df[\"low_carbon_share_elec\"], color=df['cluster2'])\n",
    "fig.show()"
   ]
  },
  {
   "cell_type": "code",
   "execution_count": 41,
   "metadata": {},
   "outputs": [
    {
     "data": {
      "text/plain": [
       "0                           Afghanistan\n",
       "1                               Albania\n",
       "2                               Algeria\n",
       "3                                Angola\n",
       "4                   Antigua and Barbuda\n",
       "5                             Argentina\n",
       "6                               Armenia\n",
       "7                                 Aruba\n",
       "8                             Australia\n",
       "9                               Austria\n",
       "10                           Azerbaijan\n",
       "11                              Bahamas\n",
       "12                              Bahrain\n",
       "13                           Bangladesh\n",
       "14                             Barbados\n",
       "15                              Belarus\n",
       "16                              Belgium\n",
       "17                               Belize\n",
       "18                                Benin\n",
       "19                              Bermuda\n",
       "20                               Bhutan\n",
       "21                              Bolivia\n",
       "22               Bosnia and Herzegovina\n",
       "23                             Botswana\n",
       "24                               Brazil\n",
       "25               British Virgin Islands\n",
       "26                               Brunei\n",
       "27                             Bulgaria\n",
       "28                         Burkina Faso\n",
       "29                              Burundi\n",
       "30                             Cambodia\n",
       "31                             Cameroon\n",
       "32                               Canada\n",
       "33                       Cayman Islands\n",
       "34             Central African Republic\n",
       "35                                 Chad\n",
       "36                                Chile\n",
       "38                             Colombia\n",
       "39                              Comoros\n",
       "40                         Cook Islands\n",
       "41                           Costa Rica\n",
       "42                              Croatia\n",
       "43                                 Cuba\n",
       "44                               Cyprus\n",
       "45                              Czechia\n",
       "46         Democratic Republic of Congo\n",
       "47                              Denmark\n",
       "48                             Djibouti\n",
       "49                             Dominica\n",
       "50                   Dominican Republic\n",
       "51                              Ecuador\n",
       "52                                Egypt\n",
       "53                          El Salvador\n",
       "54                    Equatorial Guinea\n",
       "55                              Eritrea\n",
       "56                              Estonia\n",
       "57                             Ethiopia\n",
       "58                                 Fiji\n",
       "59                              Finland\n",
       "60                               France\n",
       "61                        French Guiana\n",
       "62                     French Polynesia\n",
       "63                                Gabon\n",
       "64                               Gambia\n",
       "65                              Georgia\n",
       "66                              Germany\n",
       "67                                Ghana\n",
       "68                               Greece\n",
       "69                            Greenland\n",
       "70                              Grenada\n",
       "71                           Guadeloupe\n",
       "72                                 Guam\n",
       "73                            Guatemala\n",
       "74                               Guinea\n",
       "75                        Guinea-Bissau\n",
       "76                               Guyana\n",
       "77                                Haiti\n",
       "78                             Honduras\n",
       "79                            Hong Kong\n",
       "80                              Hungary\n",
       "83                            Indonesia\n",
       "84                                 Iran\n",
       "85                                 Iraq\n",
       "86                              Ireland\n",
       "87                               Israel\n",
       "88                                Italy\n",
       "89                              Jamaica\n",
       "90                                Japan\n",
       "91                               Jordan\n",
       "92                           Kazakhstan\n",
       "93                                Kenya\n",
       "94                             Kiribati\n",
       "95                               Kuwait\n",
       "96                           Kyrgyzstan\n",
       "97                                 Laos\n",
       "98                               Latvia\n",
       "99                              Lebanon\n",
       "100                             Lesotho\n",
       "101                             Liberia\n",
       "102                               Libya\n",
       "103                           Lithuania\n",
       "104                          Luxembourg\n",
       "105                              Malawi\n",
       "106                            Malaysia\n",
       "107                            Maldives\n",
       "108                                Mali\n",
       "109                               Malta\n",
       "110                          Martinique\n",
       "111                           Mauritius\n",
       "112                              Mexico\n",
       "113                             Moldova\n",
       "114                            Mongolia\n",
       "115                          Montenegro\n",
       "116                          Montserrat\n",
       "117                             Morocco\n",
       "118                          Mozambique\n",
       "119                             Namibia\n",
       "120                               Nauru\n",
       "121                         Netherlands\n",
       "122                       New Caledonia\n",
       "123                         New Zealand\n",
       "124                           Nicaragua\n",
       "125                               Niger\n",
       "126                                Niue\n",
       "127                         North Korea\n",
       "129                                Oman\n",
       "130                            Pakistan\n",
       "131                           Palestine\n",
       "132                              Panama\n",
       "133                    Papua New Guinea\n",
       "134                                Peru\n",
       "135                         Philippines\n",
       "136                            Portugal\n",
       "137                         Puerto Rico\n",
       "138                               Qatar\n",
       "139                             Romania\n",
       "140                              Russia\n",
       "141                              Rwanda\n",
       "142                        Saint Helena\n",
       "143               Saint Kitts and Nevis\n",
       "144                         Saint Lucia\n",
       "145           Saint Pierre and Miquelon\n",
       "146    Saint Vincent and the Grenadines\n",
       "147                               Samoa\n",
       "148               Sao Tome and Principe\n",
       "149                        Saudi Arabia\n",
       "150                             Senegal\n",
       "151                              Serbia\n",
       "152                          Seychelles\n",
       "153                        Sierra Leone\n",
       "154                           Singapore\n",
       "155                            Slovakia\n",
       "156                            Slovenia\n",
       "157                     Solomon Islands\n",
       "158                             Somalia\n",
       "159                         South Korea\n",
       "160                         South Sudan\n",
       "161                               Spain\n",
       "162                           Sri Lanka\n",
       "163                               Sudan\n",
       "164                            Suriname\n",
       "165                              Sweden\n",
       "166                         Switzerland\n",
       "167                               Syria\n",
       "168                              Taiwan\n",
       "169                          Tajikistan\n",
       "170                            Tanzania\n",
       "171                            Thailand\n",
       "172                                Togo\n",
       "173                               Tonga\n",
       "174                 Trinidad and Tobago\n",
       "175                             Tunisia\n",
       "176                              Turkey\n",
       "177                        Turkmenistan\n",
       "178            Turks and Caicos Islands\n",
       "179                              Uganda\n",
       "180                             Ukraine\n",
       "181                United Arab Emirates\n",
       "Name: country, dtype: object"
      ]
     },
     "execution_count": 41,
     "metadata": {},
     "output_type": "execute_result"
    }
   ],
   "source": [
    "cluster0_2 = df.loc[df[\"cluster2\"] == 0, 'country']\n",
    "cluster0_2"
   ]
  },
  {
   "cell_type": "code",
   "execution_count": 42,
   "metadata": {},
   "outputs": [
    {
     "data": {
      "text/plain": [
       "37    China\n",
       "82    India\n",
       "Name: country, dtype: object"
      ]
     },
     "execution_count": 42,
     "metadata": {},
     "output_type": "execute_result"
    }
   ],
   "source": [
    "cluster1_2 = df.loc[df[\"cluster2\"] == 1, 'country']\n",
    "cluster1_2\n"
   ]
  },
  {
   "cell_type": "code",
   "execution_count": 44,
   "metadata": {},
   "outputs": [
    {
     "data": {
      "text/plain": [
       "81     Iceland\n",
       "128     Norway\n",
       "Name: country, dtype: object"
      ]
     },
     "execution_count": 44,
     "metadata": {},
     "output_type": "execute_result"
    }
   ],
   "source": [
    "ruido_2 = df.loc[df[\"cluster2\"] == -1, 'country']\n",
    "ruido_2"
   ]
  }
 ],
 "metadata": {
  "kernelspec": {
   "display_name": "ds-python",
   "language": "python",
   "name": "python3"
  },
  "language_info": {
   "codemirror_mode": {
    "name": "ipython",
    "version": 3
   },
   "file_extension": ".py",
   "mimetype": "text/x-python",
   "name": "python",
   "nbconvert_exporter": "python",
   "pygments_lexer": "ipython3",
   "version": "3.11.5"
  },
  "orig_nbformat": 4
 },
 "nbformat": 4,
 "nbformat_minor": 2
}
