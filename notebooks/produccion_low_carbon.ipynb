{
 "cells": [
  {
   "cell_type": "code",
   "execution_count": 1,
   "id": "5ff491dd",
   "metadata": {},
   "outputs": [],
   "source": [
    "# carga, visualizacion  y preprocesamiento de datos\n",
    "import numpy as np\n",
    "import pandas as pd\n",
    "import matplotlib.pyplot as plt\n",
    "import seaborn as sns \n",
    "import matplotlib.cm as cm\n",
    "from sklearn.model_selection import train_test_split\n",
    "import plotly.express as px\n",
    "# modelos\n",
    "from sklearn.linear_model import LinearRegression \n",
    "from sklearn.ensemble import RandomForestRegressor\n",
    "from sklearn.svm import SVR\n",
    "# evaluacion de modelos\n",
    "from sklearn.metrics import r2_score\n",
    "import matplotlib.pyplot as plt \n",
    "from sklearn.metrics import mean_absolute_error\n",
    "from sklearn.metrics import mean_squared_error\n",
    "from sklearn.model_selection import GridSearchCV\n",
    "# opciones de display\n",
    "pd.set_option('display.max_rows', 500)\n",
    "pd.set_option('display.max_columns', 500)\n",
    "pd.set_option('display.width', 150)"
   ]
  },
  {
   "cell_type": "markdown",
   "metadata": {},
   "source": [
    "# ¿Qué características de un país influyen en su producción de energías bajas en carbono?"
   ]
  },
  {
   "cell_type": "markdown",
   "metadata": {},
   "source": [
    "En esta notebook:\n",
    "- preparamos los datos para realizar una regresión (selección de variables, eliminación de outliers, creación de arrays X e y)\n",
    "- corremos 3 modelos exploratorios para seleccionar el que ajuste mejor: regresión lineal, regresión con random forest, regresión con SVR. \n",
    "- una vez seleccionado el modelo de mejor ajuste (random forest), optimizamos los hiperparámetros del mismo"
   ]
  },
  {
   "cell_type": "markdown",
   "metadata": {},
   "source": [
    "## Carga y preprocesamiento de datos"
   ]
  },
  {
   "cell_type": "markdown",
   "metadata": {},
   "source": [
    "Cargamos los datos y observamos el dataframe"
   ]
  },
  {
   "cell_type": "code",
   "execution_count": 2,
   "id": "c0f3f7b5",
   "metadata": {},
   "outputs": [
    {
     "data": {
      "text/html": [
       "<div>\n",
       "<style scoped>\n",
       "    .dataframe tbody tr th:only-of-type {\n",
       "        vertical-align: middle;\n",
       "    }\n",
       "\n",
       "    .dataframe tbody tr th {\n",
       "        vertical-align: top;\n",
       "    }\n",
       "\n",
       "    .dataframe thead th {\n",
       "        text-align: right;\n",
       "    }\n",
       "</style>\n",
       "<table border=\"1\" class=\"dataframe\">\n",
       "  <thead>\n",
       "    <tr style=\"text-align: right;\">\n",
       "      <th></th>\n",
       "      <th>country</th>\n",
       "      <th>continente</th>\n",
       "      <th>year</th>\n",
       "      <th>population</th>\n",
       "      <th>renewables_electricity</th>\n",
       "      <th>nuclear_electricity</th>\n",
       "      <th>low_carbon_electricity</th>\n",
       "      <th>cluster</th>\n",
       "      <th>nivel_ingresos</th>\n",
       "    </tr>\n",
       "  </thead>\n",
       "  <tbody>\n",
       "    <tr>\n",
       "      <th>0</th>\n",
       "      <td>Afghanistan</td>\n",
       "      <td>Asia</td>\n",
       "      <td>2011</td>\n",
       "      <td>30.117</td>\n",
       "      <td>0.595</td>\n",
       "      <td>0.0</td>\n",
       "      <td>0.595</td>\n",
       "      <td>4.0</td>\n",
       "      <td>bajo</td>\n",
       "    </tr>\n",
       "    <tr>\n",
       "      <th>1</th>\n",
       "      <td>Afghanistan</td>\n",
       "      <td>Asia</td>\n",
       "      <td>2012</td>\n",
       "      <td>31.161</td>\n",
       "      <td>0.738</td>\n",
       "      <td>0.0</td>\n",
       "      <td>0.738</td>\n",
       "      <td>4.0</td>\n",
       "      <td>bajo</td>\n",
       "    </tr>\n",
       "    <tr>\n",
       "      <th>2</th>\n",
       "      <td>Afghanistan</td>\n",
       "      <td>Asia</td>\n",
       "      <td>2013</td>\n",
       "      <td>32.270</td>\n",
       "      <td>0.885</td>\n",
       "      <td>0.0</td>\n",
       "      <td>0.885</td>\n",
       "      <td>4.0</td>\n",
       "      <td>bajo</td>\n",
       "    </tr>\n",
       "    <tr>\n",
       "      <th>3</th>\n",
       "      <td>Afghanistan</td>\n",
       "      <td>Asia</td>\n",
       "      <td>2014</td>\n",
       "      <td>33.371</td>\n",
       "      <td>1.000</td>\n",
       "      <td>0.0</td>\n",
       "      <td>1.000</td>\n",
       "      <td>4.0</td>\n",
       "      <td>bajo</td>\n",
       "    </tr>\n",
       "    <tr>\n",
       "      <th>4</th>\n",
       "      <td>Afghanistan</td>\n",
       "      <td>Asia</td>\n",
       "      <td>2015</td>\n",
       "      <td>34.414</td>\n",
       "      <td>1.034</td>\n",
       "      <td>0.0</td>\n",
       "      <td>1.034</td>\n",
       "      <td>4.0</td>\n",
       "      <td>bajo</td>\n",
       "    </tr>\n",
       "    <tr>\n",
       "      <th>5</th>\n",
       "      <td>Afghanistan</td>\n",
       "      <td>Asia</td>\n",
       "      <td>2016</td>\n",
       "      <td>35.383</td>\n",
       "      <td>1.060</td>\n",
       "      <td>0.0</td>\n",
       "      <td>1.060</td>\n",
       "      <td>4.0</td>\n",
       "      <td>bajo</td>\n",
       "    </tr>\n",
       "    <tr>\n",
       "      <th>6</th>\n",
       "      <td>Afghanistan</td>\n",
       "      <td>Asia</td>\n",
       "      <td>2017</td>\n",
       "      <td>36.296</td>\n",
       "      <td>1.088</td>\n",
       "      <td>0.0</td>\n",
       "      <td>1.088</td>\n",
       "      <td>4.0</td>\n",
       "      <td>bajo</td>\n",
       "    </tr>\n",
       "    <tr>\n",
       "      <th>7</th>\n",
       "      <td>Afghanistan</td>\n",
       "      <td>Asia</td>\n",
       "      <td>2018</td>\n",
       "      <td>37.172</td>\n",
       "      <td>0.965</td>\n",
       "      <td>0.0</td>\n",
       "      <td>0.965</td>\n",
       "      <td>4.0</td>\n",
       "      <td>bajo</td>\n",
       "    </tr>\n",
       "    <tr>\n",
       "      <th>8</th>\n",
       "      <td>Afghanistan</td>\n",
       "      <td>Asia</td>\n",
       "      <td>2019</td>\n",
       "      <td>38.042</td>\n",
       "      <td>0.880</td>\n",
       "      <td>0.0</td>\n",
       "      <td>0.880</td>\n",
       "      <td>4.0</td>\n",
       "      <td>bajo</td>\n",
       "    </tr>\n",
       "    <tr>\n",
       "      <th>9</th>\n",
       "      <td>Albania</td>\n",
       "      <td>Europa</td>\n",
       "      <td>2011</td>\n",
       "      <td>2.929</td>\n",
       "      <td>4.091</td>\n",
       "      <td>0.0</td>\n",
       "      <td>4.091</td>\n",
       "      <td>0.0</td>\n",
       "      <td>medio-alto</td>\n",
       "    </tr>\n",
       "  </tbody>\n",
       "</table>\n",
       "</div>"
      ],
      "text/plain": [
       "       country continente  year  population  renewables_electricity  nuclear_electricity  low_carbon_electricity  cluster nivel_ingresos\n",
       "0  Afghanistan       Asia  2011      30.117                   0.595                  0.0                   0.595      4.0           bajo\n",
       "1  Afghanistan       Asia  2012      31.161                   0.738                  0.0                   0.738      4.0           bajo\n",
       "2  Afghanistan       Asia  2013      32.270                   0.885                  0.0                   0.885      4.0           bajo\n",
       "3  Afghanistan       Asia  2014      33.371                   1.000                  0.0                   1.000      4.0           bajo\n",
       "4  Afghanistan       Asia  2015      34.414                   1.034                  0.0                   1.034      4.0           bajo\n",
       "5  Afghanistan       Asia  2016      35.383                   1.060                  0.0                   1.060      4.0           bajo\n",
       "6  Afghanistan       Asia  2017      36.296                   1.088                  0.0                   1.088      4.0           bajo\n",
       "7  Afghanistan       Asia  2018      37.172                   0.965                  0.0                   0.965      4.0           bajo\n",
       "8  Afghanistan       Asia  2019      38.042                   0.880                  0.0                   0.880      4.0           bajo\n",
       "9      Albania     Europa  2011       2.929                   4.091                  0.0                   4.091      0.0     medio-alto"
      ]
     },
     "execution_count": 2,
     "metadata": {},
     "output_type": "execute_result"
    }
   ],
   "source": [
    "wec = pd.read_csv(r'../datasets/wec_reg_lineal')  \n",
    "wec.head(10)"
   ]
  },
  {
   "cell_type": "code",
   "execution_count": 3,
   "id": "58905802",
   "metadata": {},
   "outputs": [
    {
     "name": "stdout",
     "output_type": "stream",
     "text": [
      "Contamos con datos de 203 países.\n"
     ]
    }
   ],
   "source": [
    "# Se consultan los datos únicos que integran la columna country \n",
    "n_paises = len(wec['country'].unique())\n",
    "print(f\"Contamos con datos de {n_paises} países.\")"
   ]
  },
  {
   "cell_type": "markdown",
   "metadata": {},
   "source": [
    "Creamos la columna con la que trabajaremos: **energía baja en carbono producida per cápita (teravatios-hora/habitante)**"
   ]
  },
  {
   "cell_type": "code",
   "execution_count": 4,
   "id": "10afbd01",
   "metadata": {},
   "outputs": [],
   "source": [
    "\n",
    "wec[\"lc_per_capita\"] = wec[\"low_carbon_electricity\"]/wec[\"population\"]"
   ]
  },
  {
   "cell_type": "markdown",
   "metadata": {},
   "source": [
    "Visualizamos los datos:"
   ]
  },
  {
   "cell_type": "code",
   "execution_count": 5,
   "metadata": {},
   "outputs": [
    {
     "data": {
      "application/vnd.plotly.v1+json": {
       "config": {
        "plotlyServerURL": "https://plot.ly"
       },
       "data": [
        {
         "hovertemplate": "color=Afghanistan<br>x=%{x}<br>y=%{y}<extra></extra>",
         "legendgroup": "Afghanistan",
         "marker": {
          "color": "#636efa",
          "symbol": "circle"
         },
         "mode": "markers",
         "name": "Afghanistan",
         "showlegend": true,
         "type": "scattergl",
         "x": [
          30.117,
          31.161,
          32.27,
          33.371,
          34.414,
          35.383,
          36.296,
          37.172,
          38.042
         ],
         "xaxis": "x",
         "y": [
          0.019756283826410332,
          0.023683450466929816,
          0.027424852804462347,
          0.029966138263761946,
          0.030045911547625967,
          0.029957889381906563,
          0.02997575490412167,
          0.025960400301302058,
          0.023132327427580042
         ],
         "yaxis": "y"
        },
        {
         "hovertemplate": "color=Albania<br>x=%{x}<br>y=%{y}<extra></extra>",
         "legendgroup": "Albania",
         "marker": {
          "color": "#EF553B",
          "symbol": "circle"
         },
         "mode": "markers",
         "name": "Albania",
         "showlegend": true,
         "type": "scattergl",
         "x": [
          2.929,
          2.914,
          2.904,
          2.896,
          2.891,
          2.886,
          2.884,
          2.883,
          2.881
         ],
         "xaxis": "x",
         "y": [
          1.3967224308637762,
          1.6056966369251888,
          2.3725895316804406,
          1.6153314917127073,
          2.019024558976133,
          2.67013167013167,
          1.55374479889043,
          2.9368713146028442,
          1.7965984033321765
         ],
         "yaxis": "y"
        },
        {
         "hovertemplate": "color=Algeria<br>x=%{x}<br>y=%{y}<extra></extra>",
         "legendgroup": "Algeria",
         "marker": {
          "color": "#00cc96",
          "symbol": "circle"
         },
         "mode": "markers",
         "name": "Algeria",
         "showlegend": true,
         "type": "scattergl",
         "x": [
          36.661,
          37.384,
          38.14,
          38.924,
          39.728,
          40.551,
          41.389,
          42.228,
          43.053
         ],
         "xaxis": "x",
         "y": [
          0.01355664057172472,
          0.016477637491975176,
          0.008573675930781332,
          0.006474154763128148,
          0.00556282722513089,
          0.008187221030307513,
          0.015342240691971296,
          0.017287108079946954,
          0.017002299491324646
         ],
         "yaxis": "y"
        },
        {
         "hovertemplate": "color=American Samoa<br>x=%{x}<br>y=%{y}<extra></extra>",
         "legendgroup": "American Samoa",
         "marker": {
          "color": "#ab63fa",
          "symbol": "circle"
         },
         "mode": "markers",
         "name": "American Samoa",
         "showlegend": true,
         "type": "scattergl",
         "x": [
          0.056,
          0.056,
          0.056,
          0.056,
          0.056,
          0.056,
          0.056,
          0.055,
          0.055
         ],
         "xaxis": "x",
         "y": [
          0,
          0,
          0,
          0,
          0,
          0,
          0,
          0,
          0
         ],
         "yaxis": "y"
        },
        {
         "hovertemplate": "color=Angola<br>x=%{x}<br>y=%{y}<extra></extra>",
         "legendgroup": "Angola",
         "marker": {
          "color": "#FFA15A",
          "symbol": "circle"
         },
         "mode": "markers",
         "name": "Angola",
         "showlegend": true,
         "type": "scattergl",
         "x": [
          24.221,
          25.108,
          26.016,
          26.942,
          27.884,
          28.842,
          29.817,
          30.81,
          31.825
         ],
         "xaxis": "x",
         "y": [
          0.16423764501878535,
          0.14927513143221285,
          0.18196494464944651,
          0.18721698463365746,
          0.18279299956964568,
          0.2056029401567159,
          0.26139450648958645,
          0.2877312560856865,
          0.3180204241948154
         ],
         "yaxis": "y"
        },
        {
         "hovertemplate": "color=Antigua and Barbuda<br>x=%{x}<br>y=%{y}<extra></extra>",
         "legendgroup": "Antigua and Barbuda",
         "marker": {
          "color": "#19d3f3",
          "symbol": "circle"
         },
         "mode": "markers",
         "name": "Antigua and Barbuda",
         "showlegend": true,
         "type": "scattergl",
         "x": [
          0.089,
          0.09,
          0.092,
          0.093,
          0.094,
          0.095,
          0.095,
          0.096,
          0.097
         ],
         "xaxis": "x",
         "y": [
          0,
          0,
          0.010869565217391304,
          0.010752688172043012,
          0.05319148936170213,
          0.06315789473684211,
          0.06315789473684211,
          0.13541666666666666,
          0.15463917525773194
         ],
         "yaxis": "y"
        },
        {
         "hovertemplate": "color=Argentina<br>x=%{x}<br>y=%{y}<extra></extra>",
         "legendgroup": "Argentina",
         "marker": {
          "color": "#FF6692",
          "symbol": "circle"
         },
         "mode": "markers",
         "name": "Argentina",
         "showlegend": true,
         "type": "scattergl",
         "x": [
          41.32,
          41.755,
          42.196,
          42.638,
          43.075,
          43.508,
          43.937,
          44.361,
          44.781
         ],
         "xaxis": "x",
         "y": [
          0.9233059051306874,
          0.8817387139264758,
          0.9617025310455968,
          0.9196725925231015,
          0.9346488682530469,
          0.8931231037970028,
          0.8920044609326991,
          0.9309077793557404,
          0.9553828632679039
         ],
         "yaxis": "y"
        },
        {
         "hovertemplate": "color=Armenia<br>x=%{x}<br>y=%{y}<extra></extra>",
         "legendgroup": "Armenia",
         "marker": {
          "color": "#B6E880",
          "symbol": "circle"
         },
         "mode": "markers",
         "name": "Armenia",
         "showlegend": true,
         "type": "scattergl",
         "x": [
          2.877,
          2.884,
          2.898,
          2.912,
          2.926,
          2.936,
          2.945,
          2.952,
          2.958
         ],
         "xaxis": "x",
         "y": [
          1.6767466110531806,
          1.53502080443828,
          1.4917184265010353,
          1.4567307692307692,
          1.6264524948735475,
          1.5412125340599456,
          1.5830220713073007,
          1.4275067750677508,
          1.484787018255578
         ],
         "yaxis": "y"
        },
        {
         "hovertemplate": "color=Aruba<br>x=%{x}<br>y=%{y}<extra></extra>",
         "legendgroup": "Aruba",
         "marker": {
          "color": "#FF97FF",
          "symbol": "circle"
         },
         "mode": "markers",
         "name": "Aruba",
         "showlegend": true,
         "type": "scattergl",
         "x": [
          0.102,
          0.103,
          0.103,
          0.104,
          0.104,
          0.105,
          0.105,
          0.106,
          0.106
         ],
         "xaxis": "x",
         "y": [
          1.1176470588235294,
          1.3300970873786409,
          1.4854368932038835,
          1.5576923076923077,
          1.6923076923076923,
          1.4285714285714286,
          1.3714285714285714,
          1.3867924528301887,
          1.3867924528301887
         ],
         "yaxis": "y"
        },
        {
         "hovertemplate": "color=Australia<br>x=%{x}<br>y=%{y}<extra></extra>",
         "legendgroup": "Australia",
         "marker": {
          "color": "#FECB52",
          "symbol": "circle"
         },
         "mode": "markers",
         "name": "Australia",
         "showlegend": true,
         "type": "scattergl",
         "x": [
          22.538,
          22.904,
          23.255,
          23.596,
          23.932,
          24.263,
          24.585,
          24.898,
          25.203
         ],
         "xaxis": "x",
         "y": [
          1.1657201171355045,
          1.1490569332867622,
          1.4063642227477962,
          1.530428886251907,
          1.3965819822831358,
          1.5312203767052714,
          1.6353874313605858,
          1.7850028114708008,
          2.1584731976352023
         ],
         "yaxis": "y"
        },
        {
         "hovertemplate": "color=Austria<br>x=%{x}<br>y=%{y}<extra></extra>",
         "legendgroup": "Austria",
         "marker": {
          "color": "#636efa",
          "symbol": "circle"
         },
         "mode": "markers",
         "name": "Austria",
         "showlegend": true,
         "type": "scattergl",
         "x": [
          8.454,
          8.502,
          8.556,
          8.615,
          8.679,
          8.747,
          8.82,
          8.891,
          8.955
         ],
         "xaxis": "x",
         "y": [
          4.8388928317956,
          6.03716772524112,
          5.901238896680693,
          5.8254207777132905,
          5.482428851250144,
          5.840059448953927,
          5.788548752834467,
          5.62771341806321,
          6.156113902847571
         ],
         "yaxis": "y"
        },
        {
         "hovertemplate": "color=Azerbaijan<br>x=%{x}<br>y=%{y}<extra></extra>",
         "legendgroup": "Azerbaijan",
         "marker": {
          "color": "#EF553B",
          "symbol": "circle"
         },
         "mode": "markers",
         "name": "Azerbaijan",
         "showlegend": true,
         "type": "scattergl",
         "x": [
          9.146,
          9.265,
          9.385,
          9.506,
          9.623,
          9.736,
          9.845,
          9.95,
          10.048
         ],
         "xaxis": "x",
         "y": [
          0.28963481303301986,
          0.19460334592552617,
          0.1715503462972829,
          0.15421838838628235,
          0.18840278499428453,
          0.222986852917009,
          0.1988826815642458,
          0.20432160804020102,
          0.1875
         ],
         "yaxis": "y"
        },
        {
         "hovertemplate": "color=Bahamas<br>x=%{x}<br>y=%{y}<extra></extra>",
         "legendgroup": "Bahamas",
         "marker": {
          "color": "#00cc96",
          "symbol": "circle"
         },
         "mode": "markers",
         "name": "Bahamas",
         "showlegend": true,
         "type": "scattergl",
         "x": [
          0.36,
          0.364,
          0.367,
          0.371,
          0.374,
          0.378,
          0.382,
          0.386,
          0.389
         ],
         "xaxis": "x",
         "y": [
          0.002777777777777778,
          0.0027472527472527475,
          0.0027247956403269754,
          0.005390835579514825,
          0.005347593582887701,
          0.005291005291005291,
          0.005235602094240838,
          0.007772020725388601,
          0.007712082262210797
         ],
         "yaxis": "y"
        },
        {
         "hovertemplate": "color=Bahrain<br>x=%{x}<br>y=%{y}<extra></extra>",
         "legendgroup": "Bahrain",
         "marker": {
          "color": "#ab63fa",
          "symbol": "circle"
         },
         "mode": "markers",
         "name": "Bahrain",
         "showlegend": true,
         "type": "scattergl",
         "x": [
          1.278,
          1.3,
          1.315,
          1.336,
          1.372,
          1.426,
          1.494,
          1.569,
          1.641
         ],
         "xaxis": "x",
         "y": [
          0.001564945226917058,
          0.0015384615384615385,
          0.0015209125475285172,
          0.006736526946107784,
          0.006559766763848396,
          0.006311360448807854,
          0.006024096385542168,
          0.005736137667304015,
          0.005484460694698354
         ],
         "yaxis": "y"
        },
        {
         "hovertemplate": "color=Bangladesh<br>x=%{x}<br>y=%{y}<extra></extra>",
         "legendgroup": "Bangladesh",
         "marker": {
          "color": "#FFA15A",
          "symbol": "circle"
         },
         "mode": "markers",
         "name": "Bangladesh",
         "showlegend": true,
         "type": "scattergl",
         "x": [
          149.272992,
          151.006,
          152.760992,
          154.516992,
          156.256,
          157.976992,
          159.684992,
          161.376992,
          163.046
         ],
         "xaxis": "x",
         "y": [
          0.006565152790666915,
          0.005410381044461809,
          0.007069867679309128,
          0.005151536990831404,
          0.005203000204792136,
          0.007925204703226657,
          0.00819112669022772,
          0.008520421548072974,
          0.007660414852250286
         ],
         "yaxis": "y"
        },
        {
         "hovertemplate": "color=Barbados<br>x=%{x}<br>y=%{y}<extra></extra>",
         "legendgroup": "Barbados",
         "marker": {
          "color": "#19d3f3",
          "symbol": "circle"
         },
         "mode": "markers",
         "name": "Barbados",
         "showlegend": true,
         "type": "scattergl",
         "x": [
          0.283,
          0.284,
          0.284,
          0.285,
          0.285,
          0.286,
          0.286,
          0.287,
          0.287
         ],
         "xaxis": "x",
         "y": [
          0.01060070671378092,
          0.010563380281690142,
          0.014084507042253523,
          0.03508771929824562,
          0.04912280701754387,
          0.1048951048951049,
          0.1048951048951049,
          0.1289198606271777,
          0.1393728222996516
         ],
         "yaxis": "y"
        },
        {
         "hovertemplate": "color=Belarus<br>x=%{x}<br>y=%{y}<extra></extra>",
         "legendgroup": "Belarus",
         "marker": {
          "color": "#FF6692",
          "symbol": "circle"
         },
         "mode": "markers",
         "name": "Belarus",
         "showlegend": true,
         "type": "scattergl",
         "x": [
          9.415,
          9.417,
          9.424,
          9.432,
          9.439,
          9.446,
          9.45,
          9.453,
          9.452
         ],
         "xaxis": "x",
         "y": [
          0.01571959638874137,
          0.021450568121482428,
          0.03151528013582343,
          0.030428329092451228,
          0.03453755694459159,
          0.04446326487402075,
          0.08275132275132276,
          0.08494657780598752,
          0.11002962336013543
         ],
         "yaxis": "y"
        },
        {
         "hovertemplate": "color=Belgium<br>x=%{x}<br>y=%{y}<extra></extra>",
         "legendgroup": "Belgium",
         "marker": {
          "color": "#B6E880",
          "symbol": "circle"
         },
         "mode": "markers",
         "name": "Belgium",
         "showlegend": true,
         "type": "scattergl",
         "x": [
          11.014,
          11.085,
          11.154,
          11.221,
          11.288,
          11.354,
          11.42,
          11.482,
          11.539
         ],
         "xaxis": "x",
         "y": [
          5.137733793353914,
          4.576725304465493,
          4.868298368298369,
          4.095624275911238,
          3.5969170800850456,
          5.096177558569668,
          5.086164623467601,
          3.9832781745340533,
          5.302105901724586
         ],
         "yaxis": "y"
        },
        {
         "hovertemplate": "color=Belize<br>x=%{x}<br>y=%{y}<extra></extra>",
         "legendgroup": "Belize",
         "marker": {
          "color": "#FF97FF",
          "symbol": "circle"
         },
         "mode": "markers",
         "name": "Belize",
         "showlegend": true,
         "type": "scattergl",
         "x": [
          0.33,
          0.338,
          0.346,
          0.353,
          0.361,
          0.368,
          0.376,
          0.383,
          0.39
         ],
         "xaxis": "x",
         "y": [
          1.0272727272727273,
          0.8934911242603549,
          0.9710982658959539,
          1.0028328611898016,
          0.9916897506925207,
          1.0244565217391304,
          1.0345744680851063,
          1.0078328981723237,
          1.123076923076923
         ],
         "yaxis": "y"
        },
        {
         "hovertemplate": "color=Benin<br>x=%{x}<br>y=%{y}<extra></extra>",
         "legendgroup": "Benin",
         "marker": {
          "color": "#FECB52",
          "symbol": "circle"
         },
         "mode": "markers",
         "name": "Benin",
         "showlegend": true,
         "type": "scattergl",
         "x": [
          9.461,
          9.729,
          10.005,
          10.287,
          10.576,
          10.872,
          11.175,
          11.485,
          11.801
         ],
         "xaxis": "x",
         "y": [
          0.00021139414438220062,
          0.00020557097337855896,
          0.0002998500749625187,
          0.0002916302128900554,
          0.000661875945537065,
          0.000919793966151582,
          0.0005369127516778523,
          0.00043535045711798,
          0.00042369290738073043
         ],
         "yaxis": "y"
        },
        {
         "hovertemplate": "color=Bermuda<br>x=%{x}<br>y=%{y}<extra></extra>",
         "legendgroup": "Bermuda",
         "marker": {
          "color": "#636efa",
          "symbol": "circle"
         },
         "mode": "markers",
         "name": "Bermuda",
         "showlegend": true,
         "type": "scattergl",
         "x": [
          0.065,
          0.065,
          0.064,
          0.064,
          0.064,
          0.063,
          0.063,
          0.063,
          0.063
         ],
         "xaxis": "x",
         "y": [
          0,
          0,
          0,
          0,
          0,
          0,
          0,
          0,
          0
         ],
         "yaxis": "y"
        },
        {
         "hovertemplate": "color=Bhutan<br>x=%{x}<br>y=%{y}<extra></extra>",
         "legendgroup": "Bhutan",
         "marker": {
          "color": "#EF553B",
          "symbol": "circle"
         },
         "mode": "markers",
         "name": "Bhutan",
         "showlegend": true,
         "type": "scattergl",
         "x": [
          0.693,
          0.702,
          0.71,
          0.719,
          0.728,
          0.737,
          0.746,
          0.754,
          0.763
         ],
         "xaxis": "x",
         "y": [
          10.066378066378068,
          9.60968660968661,
          10.608450704225353,
          9.945757997218358,
          10.622252747252746,
          10.69335142469471,
          10.257372654155496,
          9.139257294429708,
          8.663171690694627
         ],
         "yaxis": "y"
        },
        {
         "hovertemplate": "color=Bolivia<br>x=%{x}<br>y=%{y}<extra></extra>",
         "legendgroup": "Bolivia",
         "marker": {
          "color": "#00cc96",
          "symbol": "circle"
         },
         "mode": "markers",
         "name": "Bolivia",
         "showlegend": true,
         "type": "scattergl",
         "x": [
          10.213,
          10.378,
          10.542,
          10.707,
          10.87,
          11.032,
          11.193,
          11.353,
          11.513
         ],
         "xaxis": "x",
         "y": [
          0.23616958778028005,
          0.2325110811331663,
          0.24701195219123506,
          0.21761464462501168,
          0.24461821527138913,
          0.17458303118201596,
          0.2162958992227285,
          0.26142869726063594,
          0.32554503604620866
         ],
         "yaxis": "y"
        },
        {
         "hovertemplate": "color=Bosnia and Herzegovina<br>x=%{x}<br>y=%{y}<extra></extra>",
         "legendgroup": "Bosnia and Herzegovina",
         "marker": {
          "color": "#ab63fa",
          "symbol": "circle"
         },
         "mode": "markers",
         "name": "Bosnia and Herzegovina",
         "showlegend": true,
         "type": "scattergl",
         "x": [
          3.661,
          3.605,
          3.543,
          3.482,
          3.429,
          3.386,
          3.352,
          3.324,
          3.301
         ],
         "xaxis": "x",
         "y": [
          1.186561048893745,
          1.1578363384188628,
          2.022297488004516,
          1.6878230901780584,
          1.6027996500437447,
          1.6571175428233904,
          1.1276849642004774,
          1.9512635379061372,
          1.9130566495001515
         ],
         "yaxis": "y"
        },
        {
         "hovertemplate": "color=Botswana<br>x=%{x}<br>y=%{y}<extra></extra>",
         "legendgroup": "Botswana",
         "marker": {
          "color": "#FFA15A",
          "symbol": "circle"
         },
         "mode": "markers",
         "name": "Botswana",
         "showlegend": true,
         "type": "scattergl",
         "x": [
          2.015,
          2.04,
          2.063,
          2.089,
          2.121,
          2.16,
          2.205,
          2.254,
          2.304
         ],
         "xaxis": "x",
         "y": [
          0,
          0.0004901960784313725,
          0.0009694619486185167,
          0.0014360938247965534,
          0.0014144271570014145,
          0.0023148148148148147,
          0.0022675736961451248,
          0.0022182786157941437,
          0.002170138888888889
         ],
         "yaxis": "y"
        },
        {
         "hovertemplate": "color=Brazil<br>x=%{x}<br>y=%{y}<extra></extra>",
         "legendgroup": "Brazil",
         "marker": {
          "color": "#19d3f3",
          "symbol": "circle"
         },
         "mode": "markers",
         "name": "Brazil",
         "showlegend": true,
         "type": "scattergl",
         "x": [
          197.515008,
          199.287008,
          201.036,
          202.764,
          204.472,
          206.163008,
          207.834,
          209.468992,
          211.05
         ],
         "xaxis": "x",
         "y": [
          2.399746757471716,
          2.343660054347346,
          2.2337989215861835,
          2.185210392377345,
          2.1576206033099887,
          2.311680473734648,
          2.298911631398135,
          2.4185059333268764,
          2.493612887941246
         ],
         "yaxis": "y"
        },
        {
         "hovertemplate": "color=British Virgin Islands<br>x=%{x}<br>y=%{y}<extra></extra>",
         "legendgroup": "British Virgin Islands",
         "marker": {
          "color": "#FF6692",
          "symbol": "circle"
         },
         "mode": "markers",
         "name": "British Virgin Islands",
         "showlegend": true,
         "type": "scattergl",
         "x": [
          0.028,
          0.029,
          0.029,
          0.029,
          0.029,
          0.029,
          0.03,
          0.03,
          0.03
         ],
         "xaxis": "x",
         "y": [
          0.03571428571428571,
          0.034482758620689655,
          0.034482758620689655,
          0.034482758620689655,
          0.06896551724137931,
          0.06896551724137931,
          0.06666666666666667,
          0.06666666666666667,
          0.06666666666666667
         ],
         "yaxis": "y"
        },
        {
         "hovertemplate": "color=Brunei<br>x=%{x}<br>y=%{y}<extra></extra>",
         "legendgroup": "Brunei",
         "marker": {
          "color": "#B6E880",
          "symbol": "circle"
         },
         "mode": "markers",
         "name": "Brunei",
         "showlegend": true,
         "type": "scattergl",
         "x": [
          0.394,
          0.399,
          0.404,
          0.41,
          0.415,
          0.42,
          0.424,
          0.429,
          0.433
         ],
         "xaxis": "x",
         "y": [
          0,
          0.005012531328320802,
          0.0049504950495049506,
          0.004878048780487805,
          0.004819277108433735,
          0.002380952380952381,
          0.0047169811320754715,
          0.004662004662004662,
          0.004618937644341801
         ],
         "yaxis": "y"
        },
        {
         "hovertemplate": "color=Bulgaria<br>x=%{x}<br>y=%{y}<extra></extra>",
         "legendgroup": "Bulgaria",
         "marker": {
          "color": "#FF97FF",
          "symbol": "circle"
         },
         "mode": "markers",
         "name": "Bulgaria",
         "showlegend": true,
         "type": "scattergl",
         "x": [
          7.379,
          7.334,
          7.29,
          7.246,
          7.2,
          7.152,
          7.102,
          7.052,
          7
         ],
         "xaxis": "x",
         "y": [
          2.7379048651578803,
          2.8719661848922824,
          2.887928669410151,
          3.2089428650289813,
          3.3531944444444446,
          3.1908557046979866,
          3.052238805970149,
          3.605360181508792,
          3.3907142857142856
         ],
         "yaxis": "y"
        },
        {
         "hovertemplate": "color=Burkina Faso<br>x=%{x}<br>y=%{y}<extra></extra>",
         "legendgroup": "Burkina Faso",
         "marker": {
          "color": "#FECB52",
          "symbol": "circle"
         },
         "mode": "markers",
         "name": "Burkina Faso",
         "showlegend": true,
         "type": "scattergl",
         "x": [
          16.082,
          16.571,
          17.073,
          17.586,
          18.111,
          18.646,
          19.193,
          19.751,
          20.321
         ],
         "xaxis": "x",
         "y": [
          0.005596318865812709,
          0.006396717156478184,
          0.006794353657822293,
          0.005743204822017515,
          0.005852796642924189,
          0.008312774857878366,
          0.008232167977908612,
          0.009214723305149105,
          0.00954677427291964
         ],
         "yaxis": "y"
        },
        {
         "hovertemplate": "color=Burundi<br>x=%{x}<br>y=%{y}<extra></extra>",
         "legendgroup": "Burundi",
         "marker": {
          "color": "#636efa",
          "symbol": "circle"
         },
         "mode": "markers",
         "name": "Burundi",
         "showlegend": true,
         "type": "scattergl",
         "x": [
          8.958,
          9.246,
          9.54,
          9.844,
          10.16,
          10.488,
          10.827,
          11.175,
          11.531
         ],
         "xaxis": "x",
         "y": [
          0.01507032819825854,
          0.01589876703439325,
          0.015513626834381553,
          0.015237708248679399,
          0.014468503937007873,
          0.014778794813119757,
          0.01847233767433269,
          0.014675615212527963,
          0.020293122886133032
         ],
         "yaxis": "y"
        },
        {
         "hovertemplate": "color=Cambodia<br>x=%{x}<br>y=%{y}<extra></extra>",
         "legendgroup": "Cambodia",
         "marker": {
          "color": "#EF553B",
          "symbol": "circle"
         },
         "mode": "markers",
         "name": "Cambodia",
         "showlegend": true,
         "type": "scattergl",
         "x": [
          14.541,
          14.78,
          15.026,
          15.275,
          15.521,
          15.766,
          16.009,
          16.25,
          16.487
         ],
         "xaxis": "x",
         "y": [
          0.0050890585241730275,
          0.03619756427604872,
          0.06788233728204446,
          0.12130932896890344,
          0.1302106823013981,
          0.16732208550044397,
          0.1725904178899369,
          0.2935384615384615,
          0.2498332019166616
         ],
         "yaxis": "y"
        },
        {
         "hovertemplate": "color=Cameroon<br>x=%{x}<br>y=%{y}<extra></extra>",
         "legendgroup": "Cameroon",
         "marker": {
          "color": "#00cc96",
          "symbol": "circle"
         },
         "mode": "markers",
         "name": "Cameroon",
         "showlegend": true,
         "type": "scattergl",
         "x": [
          20.906,
          21.485,
          22.077,
          22.682,
          23.298,
          23.927,
          24.566,
          25.216,
          25.876
         ],
         "xaxis": "x",
         "y": [
          0.21127905864345164,
          0.19925529439143588,
          0.19939303347375095,
          0.19433912353407992,
          0.18714052708386988,
          0.18297321018096713,
          0.20731905886184157,
          0.19955583756345177,
          0.20872623280259697
         ],
         "yaxis": "y"
        },
        {
         "hovertemplate": "color=Canada<br>x=%{x}<br>y=%{y}<extra></extra>",
         "legendgroup": "Canada",
         "marker": {
          "color": "#ab63fa",
          "symbol": "circle"
         },
         "mode": "markers",
         "name": "Canada",
         "showlegend": true,
         "type": "scattergl",
         "x": [
          34.539,
          34.922,
          35.297,
          35.664,
          36.027,
          36.383,
          36.732,
          37.075,
          37.411
         ],
         "xaxis": "x",
         "y": [
          13.976982541474854,
          14.036023137277363,
          14.637957900104828,
          14.378589053387168,
          14.238654342576401,
          14.34197289943105,
          14.489464227376674,
          14.151099123398517,
          13.86421106091791
         ],
         "yaxis": "y"
        },
        {
         "hovertemplate": "color=Cayman Islands<br>x=%{x}<br>y=%{y}<extra></extra>",
         "legendgroup": "Cayman Islands",
         "marker": {
          "color": "#FFA15A",
          "symbol": "circle"
         },
         "mode": "markers",
         "name": "Cayman Islands",
         "showlegend": true,
         "type": "scattergl",
         "x": [
          0.058,
          0.059,
          0.06,
          0.061,
          0.062,
          0.063,
          0.063,
          0.064,
          0.065
         ],
         "xaxis": "x",
         "y": [
          0,
          0,
          0,
          0,
          0,
          0.06349206349206349,
          0.22222222222222224,
          0.25,
          0.24615384615384614
         ],
         "yaxis": "y"
        },
        {
         "hovertemplate": "color=Central African Republic<br>x=%{x}<br>y=%{y}<extra></extra>",
         "legendgroup": "Central African Republic",
         "marker": {
          "color": "#19d3f3",
          "symbol": "circle"
         },
         "mode": "markers",
         "name": "Central African Republic",
         "showlegend": true,
         "type": "scattergl",
         "x": [
          4.419,
          4.436,
          4.448,
          4.464,
          4.493,
          4.538,
          4.596,
          4.666,
          4.745
         ],
         "xaxis": "x",
         "y": [
          0.033039149128762164,
          0.033588818755635706,
          0.030800359712230215,
          0.03763440860215054,
          0.03739149788559982,
          0.0372410753635963,
          0.03263707571801566,
          0.03214744963566223,
          0.031612223393045306
         ],
         "yaxis": "y"
        },
        {
         "hovertemplate": "color=Chad<br>x=%{x}<br>y=%{y}<extra></extra>",
         "legendgroup": "Chad",
         "marker": {
          "color": "#FF6692",
          "symbol": "circle"
         },
         "mode": "markers",
         "name": "Chad",
         "showlegend": true,
         "type": "scattergl",
         "x": [
          12.361,
          12.785,
          13.22,
          13.664,
          14.111,
          14.562,
          15.017,
          15.478,
          15.947
         ],
         "xaxis": "x",
         "y": [
          0,
          0,
          0,
          0,
          0,
          0.0006180469715698393,
          0.0005993207697942332,
          0.0005814704742214756,
          0.0005643694738822349
         ],
         "yaxis": "y"
        },
        {
         "hovertemplate": "color=Chile<br>x=%{x}<br>y=%{y}<extra></extra>",
         "legendgroup": "Chile",
         "marker": {
          "color": "#B6E880",
          "symbol": "circle"
         },
         "mode": "markers",
         "name": "Chile",
         "showlegend": true,
         "type": "scattergl",
         "x": [
          17.234,
          17.4,
          17.572,
          17.759,
          17.969,
          18.209,
          18.47,
          18.729,
          18.952
         ],
         "xaxis": "x",
         "y": [
          1.5056284089590344,
          1.450574712643678,
          1.4796266788071932,
          1.6927754941156596,
          1.8013245033112584,
          1.8562798616068978,
          1.8610720086626964,
          2.0026162635485076,
          1.9227522161249468
         ],
         "yaxis": "y"
        },
        {
         "hovertemplate": "color=China<br>x=%{x}<br>y=%{y}<extra></extra>",
         "legendgroup": "China",
         "marker": {
          "color": "#FF97FF",
          "symbol": "circle"
         },
         "mode": "markers",
         "name": "China",
         "showlegend": true,
         "type": "scattergl",
         "x": [
          1376.498048,
          1384.205952,
          1391.883008,
          1399.453952,
          1406.848,
          1414.049024,
          1421.021952,
          1427.648,
          1433.784064
         ],
         "xaxis": "x",
         "y": [
          0.6199790847796394,
          0.7893189582239276,
          0.8541522478303005,
          1.016968080990492,
          1.111136384314439,
          1.2452892156587636,
          1.3668332127215441,
          1.5164102075581658,
          1.6682832931807507
         ],
         "yaxis": "y"
        },
        {
         "hovertemplate": "color=Colombia<br>x=%{x}<br>y=%{y}<extra></extra>",
         "legendgroup": "Colombia",
         "marker": {
          "color": "#FECB52",
          "symbol": "circle"
         },
         "mode": "markers",
         "name": "Colombia",
         "showlegend": true,
         "type": "scattergl",
         "x": [
          45.663,
          46.076,
          46.495,
          46.968,
          47.521,
          48.175,
          48.91,
          49.661,
          50.339
         ],
         "xaxis": "x",
         "y": [
          1.104526640825176,
          1.066108169111902,
          1.0941606624368212,
          1.0393672287514903,
          1.0422760463794953,
          1.0404981837052414,
          1.2730320997750972,
          1.2254082680574292,
          1.1024454200520473
         ],
         "yaxis": "y"
        },
        {
         "hovertemplate": "color=Comoros<br>x=%{x}<br>y=%{y}<extra></extra>",
         "legendgroup": "Comoros",
         "marker": {
          "color": "#636efa",
          "symbol": "circle"
         },
         "mode": "markers",
         "name": "Comoros",
         "showlegend": true,
         "type": "scattergl",
         "x": [
          0.707,
          0.724,
          0.742,
          0.759,
          0.777,
          0.796,
          0.814,
          0.832,
          0.851
         ],
         "xaxis": "x",
         "y": [
          0.007072135785007073,
          0.004143646408839779,
          0.0026954177897574125,
          0.002635046113306983,
          0.002574002574002574,
          0.002512562814070352,
          0,
          0,
          0
         ],
         "yaxis": "y"
        },
        {
         "hovertemplate": "color=Congo<br>x=%{x}<br>y=%{y}<extra></extra>",
         "legendgroup": "Congo",
         "marker": {
          "color": "#EF553B",
          "symbol": "circle"
         },
         "mode": "markers",
         "name": "Congo",
         "showlegend": true,
         "type": "scattergl",
         "x": [
          4.395,
          4.51,
          4.623,
          4.737,
          4.856,
          4.981,
          5.111,
          5.244,
          5.381
         ],
         "xaxis": "x",
         "y": [
          0.17815699658703074,
          0.21662971175166298,
          0.20787367510274712,
          0.19886003799873336,
          0.2240527182866557,
          0.22425215820116443,
          0.2332224613578556,
          0.2341723874904653,
          0.23675896673480765
         ],
         "yaxis": "y"
        },
        {
         "hovertemplate": "color=Cook Islands<br>x=%{x}<br>y=%{y}<extra></extra>",
         "legendgroup": "Cook Islands",
         "marker": {
          "color": "#00cc96",
          "symbol": "circle"
         },
         "mode": "markers",
         "name": "Cook Islands",
         "showlegend": true,
         "type": "scattergl",
         "x": [
          0.018,
          0.018,
          0.018,
          0.018,
          0.018,
          0.018,
          0.018,
          0.018,
          0.018
         ],
         "xaxis": "x",
         "y": [
          0,
          0,
          0.05555555555555556,
          0.05555555555555556,
          0.16666666666666669,
          0.2777777777777778,
          0.33333333333333337,
          0.6111111111111112,
          0.6111111111111112
         ],
         "yaxis": "y"
        },
        {
         "hovertemplate": "color=Costa Rica<br>x=%{x}<br>y=%{y}<extra></extra>",
         "legendgroup": "Costa Rica",
         "marker": {
          "color": "#ab63fa",
          "symbol": "circle"
         },
         "mode": "markers",
         "name": "Costa Rica",
         "showlegend": true,
         "type": "scattergl",
         "x": [
          4.633,
          4.688,
          4.742,
          4.795,
          4.848,
          4.899,
          4.95,
          4.999,
          5.048
         ],
         "xaxis": "x",
         "y": [
          1.9197064537017052,
          1.978029010238908,
          1.8916069169126952,
          1.8992700729927006,
          2.191212871287129,
          2.165952235150031,
          2.2593939393939393,
          2.2520504100820165,
          2.237717908082409
         ],
         "yaxis": "y"
        },
        {
         "hovertemplate": "color=Croatia<br>x=%{x}<br>y=%{y}<extra></extra>",
         "legendgroup": "Croatia",
         "marker": {
          "color": "#FFA15A",
          "symbol": "circle"
         },
         "mode": "markers",
         "name": "Croatia",
         "showlegend": true,
         "type": "scattergl",
         "x": [
          4.313,
          4.296,
          4.277,
          4.256,
          4.233,
          4.209,
          4.183,
          4.156,
          4.13
         ],
         "xaxis": "x",
         "y": [
          1.2258288894041272,
          1.2248603351955305,
          2.1688099134907644,
          2.334586466165413,
          1.7739192062367117,
          1.9869327631266334,
          1.701171408080325,
          2.3534648700673726,
          2.0092009685230026
         ],
         "yaxis": "y"
        },
        {
         "hovertemplate": "color=Cuba<br>x=%{x}<br>y=%{y}<extra></extra>",
         "legendgroup": "Cuba",
         "marker": {
          "color": "#19d3f3",
          "symbol": "circle"
         },
         "mode": "markers",
         "name": "Cuba",
         "showlegend": true,
         "type": "scattergl",
         "x": [
          11.237,
          11.257,
          11.283,
          11.307,
          11.325,
          11.335,
          11.339,
          11.338,
          11.333
         ],
         "xaxis": "x",
         "y": [
          0.05108124944380172,
          0.06067335879896953,
          0.07373925374457148,
          0.06871849296895728,
          0.07072847682119206,
          0.0713718570798412,
          0.06923009083693447,
          0.06676662550714413,
          0.062295949880878845
         ],
         "yaxis": "y"
        },
        {
         "hovertemplate": "color=Cyprus<br>x=%{x}<br>y=%{y}<extra></extra>",
         "legendgroup": "Cyprus",
         "marker": {
          "color": "#FF6692",
          "symbol": "circle"
         },
         "mode": "markers",
         "name": "Cyprus",
         "showlegend": true,
         "type": "scattergl",
         "x": [
          1.125,
          1.135,
          1.144,
          1.152,
          1.161,
          1.17,
          1.18,
          1.189,
          1.199
         ],
         "xaxis": "x",
         "y": [
          0.1582222222222222,
          0.226431718061674,
          0.2858391608391609,
          0.27517361111111116,
          0.34453057708871665,
          0.36324786324786323,
          0.3686440677966102,
          0.40117746005046256,
          0.41367806505421184
         ],
         "yaxis": "y"
        },
        {
         "hovertemplate": "color=Czechia<br>x=%{x}<br>y=%{y}<extra></extra>",
         "legendgroup": "Czechia",
         "marker": {
          "color": "#B6E880",
          "symbol": "circle"
         },
         "mode": "markers",
         "name": "Czechia",
         "showlegend": true,
         "type": "scattergl",
         "x": [
          10.567,
          10.581,
          10.587,
          10.591,
          10.601,
          10.619,
          10.641,
          10.666,
          10.689
         ],
         "xaxis": "x",
         "y": [
          3.3622598656193814,
          3.628106984216993,
          3.7832247095494473,
          3.729298460957417,
          3.420526365437223,
          3.1535926170072512,
          3.567333897190114,
          3.6890118132383276,
          3.7011881373374496
         ],
         "yaxis": "y"
        },
        {
         "hovertemplate": "color=Democratic Republic of Congo<br>x=%{x}<br>y=%{y}<extra></extra>",
         "legendgroup": "Democratic Republic of Congo",
         "marker": {
          "color": "#FF97FF",
          "symbol": "circle"
         },
         "mode": "markers",
         "name": "Democratic Republic of Congo",
         "showlegend": true,
         "type": "scattergl",
         "x": [
          66.755,
          69.021,
          71.359,
          73.767,
          76.245,
          78.789,
          81.399,
          84.068,
          86.791
         ],
         "xaxis": "x",
         "y": [
          0.115841509999251,
          0.10905376624505585,
          0.1144354601381746,
          0.11864383803055568,
          0.11606006951275492,
          0.11467336810976152,
          0.1156525264438138,
          0.12454203739829663,
          0.12682190549711375
         ],
         "yaxis": "y"
        },
        {
         "hovertemplate": "color=Denmark<br>x=%{x}<br>y=%{y}<extra></extra>",
         "legendgroup": "Denmark",
         "marker": {
          "color": "#FECB52",
          "symbol": "circle"
         },
         "mode": "markers",
         "name": "Denmark",
         "showlegend": true,
         "type": "scattergl",
         "x": [
          5.583,
          5.611,
          5.638,
          5.664,
          5.689,
          5.711,
          5.732,
          5.752,
          5.772
         ],
         "xaxis": "x",
         "y": [
          2.5400322407307896,
          2.6442701835679916,
          2.8322100035473574,
          3.1751412429378534,
          3.328704517489893,
          3.2201015583960775,
          3.805478018143754,
          3.610222531293463,
          3.9177061677061675
         ],
         "yaxis": "y"
        },
        {
         "hovertemplate": "color=Djibouti<br>x=%{x}<br>y=%{y}<extra></extra>",
         "legendgroup": "Djibouti",
         "marker": {
          "color": "#636efa",
          "symbol": "circle"
         },
         "mode": "markers",
         "name": "Djibouti",
         "showlegend": true,
         "type": "scattergl",
         "x": [
          0.854,
          0.868,
          0.883,
          0.899,
          0.914,
          0.929,
          0.944,
          0.959,
          0.974
         ],
         "xaxis": "x",
         "y": [
          0,
          0,
          0,
          0,
          0,
          0,
          0,
          0.0010427528675703858,
          0.001026694045174538
         ],
         "yaxis": "y"
        },
        {
         "hovertemplate": "color=Dominica<br>x=%{x}<br>y=%{y}<extra></extra>",
         "legendgroup": "Dominica",
         "marker": {
          "color": "#EF553B",
          "symbol": "circle"
         },
         "mode": "markers",
         "name": "Dominica",
         "showlegend": true,
         "type": "scattergl",
         "x": [
          0.071,
          0.071,
          0.071,
          0.071,
          0.071,
          0.071,
          0.071,
          0.072,
          0.072
         ],
         "xaxis": "x",
         "y": [
          0.5070422535211268,
          0.3802816901408451,
          0.5211267605633803,
          0.4366197183098592,
          0.35211267605633806,
          0.5211267605633803,
          0.3943661971830986,
          0.34722222222222227,
          0.2916666666666667
         ],
         "yaxis": "y"
        },
        {
         "hovertemplate": "color=Dominican Republic<br>x=%{x}<br>y=%{y}<extra></extra>",
         "legendgroup": "Dominican Republic",
         "marker": {
          "color": "#00cc96",
          "symbol": "circle"
         },
         "mode": "markers",
         "name": "Dominican Republic",
         "showlegend": true,
         "type": "scattergl",
         "x": [
          9.813,
          9.931,
          10.048,
          10.165,
          10.282,
          10.398,
          10.513,
          10.627,
          10.739
         ],
         "xaxis": "x",
         "y": [
          0.1650871293182513,
          0.19726110160104726,
          0.21994426751592355,
          0.16271519921298574,
          0.12935226609609027,
          0.1897480284670129,
          0.27166365452297153,
          0.25388162228286437,
          0.23158580873451903
         ],
         "yaxis": "y"
        },
        {
         "hovertemplate": "color=Ecuador<br>x=%{x}<br>y=%{y}<extra></extra>",
         "legendgroup": "Ecuador",
         "marker": {
          "color": "#ab63fa",
          "symbol": "circle"
         },
         "mode": "markers",
         "name": "Ecuador",
         "showlegend": true,
         "type": "scattergl",
         "x": [
          15.244,
          15.474,
          15.707,
          15.952,
          16.212,
          16.491,
          16.785,
          17.084,
          17.374
         ],
         "xaxis": "x",
         "y": [
          0.7414720545788508,
          0.8022489336952306,
          0.7187241357356592,
          0.7421013039117351,
          0.8332716506291636,
          0.9876902552907647,
          1.2187071790288948,
          1.2302154062280497,
          1.4387590652699438
         ],
         "yaxis": "y"
        },
        {
         "hovertemplate": "color=Egypt<br>x=%{x}<br>y=%{y}<extra></extra>",
         "legendgroup": "Egypt",
         "marker": {
          "color": "#FFA15A",
          "symbol": "circle"
         },
         "mode": "markers",
         "name": "Egypt",
         "showlegend": true,
         "type": "scattergl",
         "x": [
          84.529,
          86.422,
          88.405,
          90.425,
          92.443,
          94.447,
          96.443,
          98.424,
          100.388
         ],
         "xaxis": "x",
         "y": [
          0.17583314602089223,
          0.1696443035338224,
          0.1705785871839828,
          0.1735471385125795,
          0.1725820235171944,
          0.16742723432189482,
          0.1642420911833933,
          0.17216329350564902,
          0.19254293341833684
         ],
         "yaxis": "y"
        },
        {
         "hovertemplate": "color=El Salvador<br>x=%{x}<br>y=%{y}<extra></extra>",
         "legendgroup": "El Salvador",
         "marker": {
          "color": "#19d3f3",
          "symbol": "circle"
         },
         "mode": "markers",
         "name": "El Salvador",
         "showlegend": true,
         "type": "scattergl",
         "x": [
          6.211,
          6.238,
          6.266,
          6.295,
          6.325,
          6.356,
          6.388,
          6.421,
          6.454
         ],
         "xaxis": "x",
         "y": [
          0.5987763645145708,
          0.5830394357165758,
          0.5888924353654644,
          0.5747418586179508,
          0.4986561264822134,
          0.49779735682819387,
          0.5640262993112085,
          0.5606603332814203,
          0.5543848775952898
         ],
         "yaxis": "y"
        },
        {
         "hovertemplate": "color=Equatorial Guinea<br>x=%{x}<br>y=%{y}<extra></extra>",
         "legendgroup": "Equatorial Guinea",
         "marker": {
          "color": "#FF6692",
          "symbol": "circle"
         },
         "mode": "markers",
         "name": "Equatorial Guinea",
         "showlegend": true,
         "type": "scattergl",
         "x": [
          0.987,
          1.031,
          1.076,
          1.122,
          1.169,
          1.215,
          1.262,
          1.309,
          1.356
         ],
         "xaxis": "x",
         "y": [
          0.028368794326241134,
          0.07759456838021339,
          0.233271375464684,
          0.33778966131907306,
          0.47989734816082125,
          0.4650205761316872,
          0.3438985736925515,
          0.4430863254392666,
          0.4321533923303834
         ],
         "yaxis": "y"
        },
        {
         "hovertemplate": "color=Eritrea<br>x=%{x}<br>y=%{y}<extra></extra>",
         "legendgroup": "Eritrea",
         "marker": {
          "color": "#B6E880",
          "symbol": "circle"
         },
         "mode": "markers",
         "name": "Eritrea",
         "showlegend": true,
         "type": "scattergl",
         "x": [
          3.214,
          3.25,
          3.281,
          3.311,
          3.343,
          3.377,
          3.413,
          3.453,
          3.497
         ],
         "xaxis": "x",
         "y": [
          0.0012445550715619166,
          0.0012307692307692308,
          0.0012191405059433099,
          0.0012080942313500453,
          0.0011965300628178283,
          0.001184483269173823,
          0.0038089657193085265,
          0.013032145960034753,
          0.017729482413497283
         ],
         "yaxis": "y"
        },
        {
         "hovertemplate": "color=Estonia<br>x=%{x}<br>y=%{y}<extra></extra>",
         "legendgroup": "Estonia",
         "marker": {
          "color": "#FF97FF",
          "symbol": "circle"
         },
         "mode": "markers",
         "name": "Estonia",
         "showlegend": true,
         "type": "scattergl",
         "x": [
          1.328,
          1.323,
          1.319,
          1.316,
          1.315,
          1.317,
          1.319,
          1.323,
          1.326
         ],
         "xaxis": "x",
         "y": [
          0.8885542168674698,
          1.1156462585034015,
          0.9249431387414708,
          1.0554711246200608,
          1.1422053231939164,
          1.1571753986332574,
          1.3654283548142532,
          1.5034013605442178,
          1.5663650075414781
         ],
         "yaxis": "y"
        },
        {
         "hovertemplate": "color=Ethiopia<br>x=%{x}<br>y=%{y}<extra></extra>",
         "legendgroup": "Ethiopia",
         "marker": {
          "color": "#FECB52",
          "symbol": "circle"
         },
         "mode": "markers",
         "name": "Ethiopia",
         "showlegend": true,
         "type": "scattergl",
         "x": [
          90.14,
          92.727,
          95.386,
          98.094,
          100.835,
          103.603,
          106.4,
          109.224,
          112.079
         ],
         "xaxis": "x",
         "y": [
          0.06970268471266919,
          0.08137867072158056,
          0.0907156186442455,
          0.09654005341814995,
          0.10299003322259137,
          0.12030539656187564,
          0.12346804511278195,
          0.12332454405625137,
          0.13003328009707438
         ],
         "yaxis": "y"
        },
        {
         "hovertemplate": "color=Fiji<br>x=%{x}<br>y=%{y}<extra></extra>",
         "legendgroup": "Fiji",
         "marker": {
          "color": "#636efa",
          "symbol": "circle"
         },
         "mode": "markers",
         "name": "Fiji",
         "showlegend": true,
         "type": "scattergl",
         "x": [
          0.863,
          0.865,
          0.866,
          0.866,
          0.869,
          0.872,
          0.877,
          0.883,
          0.89
         ],
         "xaxis": "x",
         "y": [
          0.6129779837775203,
          0.6820809248554913,
          0.6778290993071593,
          0.558891454965358,
          0.5500575373993095,
          0.6353211009174312,
          0.637400228050171,
          0.7202718006795017,
          0.7213483146067415
         ],
         "yaxis": "y"
        },
        {
         "hovertemplate": "color=Finland<br>x=%{x}<br>y=%{y}<extra></extra>",
         "legendgroup": "Finland",
         "marker": {
          "color": "#EF553B",
          "symbol": "circle"
         },
         "mode": "markers",
         "name": "Finland",
         "showlegend": true,
         "type": "scattergl",
         "x": [
          5.39,
          5.415,
          5.439,
          5.461,
          5.481,
          5.498,
          5.511,
          5.523,
          5.532
         ],
         "xaxis": "x",
         "y": [
          8.787384044526902,
          9.519113573407202,
          9.052399338113624,
          9.128547885002746,
          9.810618500273673,
          9.75172790105493,
          9.790237706405371,
          9.946224877783814,
          9.939081706435285
         ],
         "yaxis": "y"
        },
        {
         "hovertemplate": "color=France<br>x=%{x}<br>y=%{y}<extra></extra>",
         "legendgroup": "France",
         "marker": {
          "color": "#00cc96",
          "symbol": "circle"
         },
         "mode": "markers",
         "name": "France",
         "showlegend": true,
         "type": "scattergl",
         "x": [
          63.222,
          63.564,
          63.894,
          64.194,
          64.453,
          64.668,
          64.843,
          64.991,
          65.13
         ],
         "xaxis": "x",
         "y": [
          8.041725981462148,
          8.033069032785853,
          8.184931292453125,
          8.263077546188118,
          8.211565016368516,
          7.765942970248036,
          7.571765649337631,
          8.098644427689988,
          7.85105174266851
         ],
         "yaxis": "y"
        },
        {
         "hovertemplate": "color=French Guiana<br>x=%{x}<br>y=%{y}<extra></extra>",
         "legendgroup": "French Guiana",
         "marker": {
          "color": "#ab63fa",
          "symbol": "circle"
         },
         "mode": "markers",
         "name": "French Guiana",
         "showlegend": true,
         "type": "scattergl",
         "x": [
          0.238,
          0.244,
          0.249,
          0.255,
          0.261,
          0.268,
          0.275,
          0.283,
          0.291
         ],
         "xaxis": "x",
         "y": [
          2.936974789915966,
          2.540983606557377,
          2.1967871485943777,
          2.2117647058823526,
          2.14176245210728,
          1.8619402985074627,
          2.2763636363636364,
          2.1201413427561837,
          2.106529209621993
         ],
         "yaxis": "y"
        },
        {
         "hovertemplate": "color=French Polynesia<br>x=%{x}<br>y=%{y}<extra></extra>",
         "legendgroup": "French Polynesia",
         "marker": {
          "color": "#FFA15A",
          "symbol": "circle"
         },
         "mode": "markers",
         "name": "French Polynesia",
         "showlegend": true,
         "type": "scattergl",
         "x": [
          0.268,
          0.269,
          0.27,
          0.272,
          0.273,
          0.275,
          0.276,
          0.278,
          0.279
         ],
         "xaxis": "x",
         "y": [
          0.8582089552238806,
          0.8029739776951672,
          0.648148148148148,
          0.7169117647058824,
          0.7289377289377289,
          0.7890909090909091,
          0.7681159420289855,
          0.7302158273381295,
          0.7885304659498207
         ],
         "yaxis": "y"
        },
        {
         "hovertemplate": "color=Gabon<br>x=%{x}<br>y=%{y}<extra></extra>",
         "legendgroup": "Gabon",
         "marker": {
          "color": "#19d3f3",
          "symbol": "circle"
         },
         "mode": "markers",
         "name": "Gabon",
         "showlegend": true,
         "type": "scattergl",
         "x": [
          1.685,
          1.75,
          1.817,
          1.884,
          1.948,
          2.008,
          2.065,
          2.119,
          2.173
         ],
         "xaxis": "x",
         "y": [
          0.49970326409495547,
          0.5211428571428571,
          0.5167859108420473,
          0.4235668789808918,
          0.4727926078028748,
          0.47609561752988044,
          0.45181598062954,
          0.42708824917413873,
          0.4141739530602853
         ],
         "yaxis": "y"
        },
        {
         "hovertemplate": "color=Gambia<br>x=%{x}<br>y=%{y}<extra></extra>",
         "legendgroup": "Gambia",
         "marker": {
          "color": "#FF6692",
          "symbol": "circle"
         },
         "mode": "markers",
         "name": "Gambia",
         "showlegend": true,
         "type": "scattergl",
         "x": [
          1.848,
          1.905,
          1.964,
          2.024,
          2.086,
          2.149,
          2.214,
          2.28,
          2.348
         ],
         "xaxis": "x",
         "y": [
          0.0021645021645021645,
          0.0015748031496062992,
          0.0015274949083503055,
          0.001482213438735178,
          0.0014381591562799617,
          0.0013959981386691485,
          0.0013550135501355014,
          0.0013157894736842107,
          0.0012776831345826236
         ],
         "yaxis": "y"
        },
        {
         "hovertemplate": "color=Georgia<br>x=%{x}<br>y=%{y}<extra></extra>",
         "legendgroup": "Georgia",
         "marker": {
          "color": "#B6E880",
          "symbol": "circle"
         },
         "mode": "markers",
         "name": "Georgia",
         "showlegend": true,
         "type": "scattergl",
         "x": [
          4.081,
          4.064,
          4.049,
          4.035,
          4.024,
          4.015,
          4.009,
          4.003,
          3.997
         ],
         "xaxis": "x",
         "y": [
          1.9139916687086496,
          1.7595964566929132,
          2.0222277105458137,
          2.045105328376704,
          2.0797713717693838,
          2.302615193026152,
          2.296333250187079,
          2.4816387709218084,
          2.233675256442332
         ],
         "yaxis": "y"
        },
        {
         "hovertemplate": "color=Germany<br>x=%{x}<br>y=%{y}<extra></extra>",
         "legendgroup": "Germany",
         "marker": {
          "color": "#FF97FF",
          "symbol": "circle"
         },
         "mode": "markers",
         "name": "Germany",
         "showlegend": true,
         "type": "scattergl",
         "x": [
          80.856,
          80.973,
          81.174,
          81.45,
          81.787,
          82.194,
          82.658,
          83.124,
          83.517
         ],
         "xaxis": "x",
         "y": [
          2.8705352725833584,
          2.9960604152001284,
          3.0748761918841003,
          3.1884591774094533,
          3.4308630956019908,
          3.337226561549505,
          3.5423068547509016,
          3.6198931716471776,
          3.8016212268160974
         ],
         "yaxis": "y"
        },
        {
         "hovertemplate": "color=Ghana<br>x=%{x}<br>y=%{y}<extra></extra>",
         "legendgroup": "Ghana",
         "marker": {
          "color": "#FECB52",
          "symbol": "circle"
         },
         "mode": "markers",
         "name": "Ghana",
         "showlegend": true,
         "type": "scattergl",
         "x": [
          25.388,
          25.996,
          26.608,
          27.224,
          27.849,
          28.482,
          29.121,
          29.767,
          30.418
         ],
         "xaxis": "x",
         "y": [
          0.29545454545454547,
          0.3079704569933836,
          0.30705051112447385,
          0.3058330884513665,
          0.20858917734927646,
          0.19489502141703532,
          0.19247278596202055,
          0.2018006517284241,
          0.19932276941284766
         ],
         "yaxis": "y"
        },
        {
         "hovertemplate": "color=Gibraltar<br>x=%{x}<br>y=%{y}<extra></extra>",
         "legendgroup": "Gibraltar",
         "marker": {
          "color": "#636efa",
          "symbol": "circle"
         },
         "mode": "markers",
         "name": "Gibraltar",
         "showlegend": true,
         "type": "scattergl",
         "x": [
          0.034,
          0.034,
          0.034,
          0.034,
          0.034,
          0.034,
          0.034,
          0.034,
          0.034
         ],
         "xaxis": "x",
         "y": [
          0,
          0,
          0,
          0,
          0,
          0,
          0,
          0,
          0
         ],
         "yaxis": "y"
        },
        {
         "hovertemplate": "color=Greece<br>x=%{x}<br>y=%{y}<extra></extra>",
         "legendgroup": "Greece",
         "marker": {
          "color": "#EF553B",
          "symbol": "circle"
         },
         "mode": "markers",
         "name": "Greece",
         "showlegend": true,
         "type": "scattergl",
         "x": [
          10.829,
          10.781,
          10.741,
          10.701,
          10.66,
          10.615,
          10.569,
          10.522,
          10.473
         ],
         "xaxis": "x",
         "y": [
          0.7520546680210546,
          0.9415638623504312,
          1.336002234428824,
          1.1378375852724043,
          1.3930581613508441,
          1.4030146019783325,
          1.3057999810767338,
          1.5346892225812583,
          1.5093096533944428
         ],
         "yaxis": "y"
        },
        {
         "hovertemplate": "color=Greenland<br>x=%{x}<br>y=%{y}<extra></extra>",
         "legendgroup": "Greenland",
         "marker": {
          "color": "#00cc96",
          "symbol": "circle"
         },
         "mode": "markers",
         "name": "Greenland",
         "showlegend": true,
         "type": "scattergl",
         "x": [
          0.057,
          0.056,
          0.056,
          0.056,
          0.056,
          0.056,
          0.056,
          0.057,
          0.057
         ],
         "xaxis": "x",
         "y": [
          5.87719298245614,
          6.107142857142858,
          6.678571428571429,
          7,
          7.482142857142857,
          7.089285714285714,
          6.857142857142857,
          7.263157894736842,
          7.228070175438596
         ],
         "yaxis": "y"
        },
        {
         "hovertemplate": "color=Grenada<br>x=%{x}<br>y=%{y}<extra></extra>",
         "legendgroup": "Grenada",
         "marker": {
          "color": "#ab63fa",
          "symbol": "circle"
         },
         "mode": "markers",
         "name": "Grenada",
         "showlegend": true,
         "type": "scattergl",
         "x": [
          0.107,
          0.107,
          0.108,
          0.109,
          0.11,
          0.11,
          0.111,
          0.111,
          0.112
         ],
         "xaxis": "x",
         "y": [
          0.028037383177570093,
          0.028037383177570093,
          0.02777777777777778,
          0.06422018348623854,
          0.01818181818181818,
          0.027272727272727275,
          0.02702702702702703,
          0.02702702702702703,
          0.026785714285714284
         ],
         "yaxis": "y"
        },
        {
         "hovertemplate": "color=Guadeloupe<br>x=%{x}<br>y=%{y}<extra></extra>",
         "legendgroup": "Guadeloupe",
         "marker": {
          "color": "#FFA15A",
          "symbol": "circle"
         },
         "mode": "markers",
         "name": "Guadeloupe",
         "showlegend": true,
         "type": "scattergl",
         "x": [
          0.406,
          0.404,
          0.403,
          0.401,
          0.4,
          0.4,
          0.4,
          0.4,
          0.4
         ],
         "xaxis": "x",
         "y": [
          0.5738916256157636,
          0.5049504950495048,
          0.5012406947890818,
          0.543640897755611,
          0.5225,
          0.4925,
          0.5225,
          0.5375,
          0.5599999999999999
         ],
         "yaxis": "y"
        },
        {
         "hovertemplate": "color=Guam<br>x=%{x}<br>y=%{y}<extra></extra>",
         "legendgroup": "Guam",
         "marker": {
          "color": "#19d3f3",
          "symbol": "circle"
         },
         "mode": "markers",
         "name": "Guam",
         "showlegend": true,
         "type": "scattergl",
         "x": [
          0.16,
          0.16,
          0.16,
          0.161,
          0.162,
          0.163,
          0.164,
          0.166,
          0.167
         ],
         "xaxis": "x",
         "y": [
          0,
          0.00625,
          0.0125,
          0.018633540372670808,
          0.19135802469135801,
          0.4049079754601227,
          0.36585365853658536,
          0.40963855421686746,
          0.40718562874251496
         ],
         "yaxis": "y"
        },
        {
         "hovertemplate": "color=Guatemala<br>x=%{x}<br>y=%{y}<extra></extra>",
         "legendgroup": "Guatemala",
         "marker": {
          "color": "#FF6692",
          "symbol": "circle"
         },
         "mode": "markers",
         "name": "Guatemala",
         "showlegend": true,
         "type": "scattergl",
         "x": [
          14.949,
          15.271,
          15.596,
          15.923,
          16.252,
          16.583,
          16.915,
          17.248,
          17.581
         ],
         "xaxis": "x",
         "y": [
          0.3922670412736638,
          0.42066662301093577,
          0.4484483200820723,
          0.46423412673491177,
          0.4134260398720158,
          0.4434662003256347,
          0.5311262193319539,
          0.5020292207792207,
          0.45867698083157954
         ],
         "yaxis": "y"
        },
        {
         "hovertemplate": "color=Guinea<br>x=%{x}<br>y=%{y}<extra></extra>",
         "legendgroup": "Guinea",
         "marker": {
          "color": "#B6E880",
          "symbol": "circle"
         },
         "mode": "markers",
         "name": "Guinea",
         "showlegend": true,
         "type": "scattergl",
         "x": [
          10.42,
          10.652,
          10.893,
          11.151,
          11.432,
          11.738,
          12.068,
          12.414,
          12.771
         ],
         "xaxis": "x",
         "y": [
          0.03973128598848368,
          0.045719113781449494,
          0.04424860001836041,
          0.038292529817953544,
          0.07890132960111966,
          0.09413869483728063,
          0.10217103082532318,
          0.06138231029482842,
          0.055986218776916445
         ],
         "yaxis": "y"
        },
        {
         "hovertemplate": "color=Guinea-Bissau<br>x=%{x}<br>y=%{y}<extra></extra>",
         "legendgroup": "Guinea-Bissau",
         "marker": {
          "color": "#FF97FF",
          "symbol": "circle"
         },
         "mode": "markers",
         "name": "Guinea-Bissau",
         "showlegend": true,
         "type": "scattergl",
         "x": [
          1.563,
          1.605,
          1.648,
          1.692,
          1.737,
          1.782,
          1.828,
          1.874,
          1.921
         ],
         "xaxis": "x",
         "y": [
          0,
          0,
          0,
          0,
          0.0005757052389176741,
          0.0005611672278338945,
          0.0005470459518599562,
          0.0010672358591248667,
          0.001041124414367517
         ],
         "yaxis": "y"
        },
        {
         "hovertemplate": "color=Guyana<br>x=%{x}<br>y=%{y}<extra></extra>",
         "legendgroup": "Guyana",
         "marker": {
          "color": "#FECB52",
          "symbol": "circle"
         },
         "mode": "markers",
         "name": "Guyana",
         "showlegend": true,
         "type": "scattergl",
         "x": [
          0.752,
          0.755,
          0.759,
          0.763,
          0.767,
          0.771,
          0.775,
          0.779,
          0.783
         ],
         "xaxis": "x",
         "y": [
          0.017287234042553192,
          0.025165562913907286,
          0.02898550724637681,
          0.028833551769331583,
          0.03780964797913951,
          0.028534370946822308,
          0.024516129032258062,
          0.024390243902439022,
          0.017879948914431672
         ],
         "yaxis": "y"
        },
        {
         "hovertemplate": "color=Haiti<br>x=%{x}<br>y=%{y}<extra></extra>",
         "legendgroup": "Haiti",
         "marker": {
          "color": "#636efa",
          "symbol": "circle"
         },
         "mode": "markers",
         "name": "Haiti",
         "showlegend": true,
         "type": "scattergl",
         "x": [
          10.1,
          10.251,
          10.401,
          10.549,
          10.696,
          10.84,
          10.982,
          11.123,
          11.263
         ],
         "xaxis": "x",
         "y": [
          0.01198019801980198,
          0.021558872305140964,
          0.013652533410249013,
          0.008626410086264101,
          0.007946896035901272,
          0.006549815498154981,
          0.011564378073210708,
          0.01762114537444934,
          0.02077599218680636
         ],
         "yaxis": "y"
        },
        {
         "hovertemplate": "color=Honduras<br>x=%{x}<br>y=%{y}<extra></extra>",
         "legendgroup": "Honduras",
         "marker": {
          "color": "#EF553B",
          "symbol": "circle"
         },
         "mode": "markers",
         "name": "Honduras",
         "showlegend": true,
         "type": "scattergl",
         "x": [
          8.481,
          8.641,
          8.799,
          8.956,
          9.113,
          9.271,
          9.429,
          9.588,
          9.746
         ],
         "xaxis": "x",
         "y": [
          0.40573045631411386,
          0.4210160861011457,
          0.41175133537902037,
          0.37494417150513626,
          0.43048392406452324,
          0.4939057275374824,
          0.5893519991515538,
          0.6638506466416355,
          0.6985429919967165
         ],
         "yaxis": "y"
        },
        {
         "hovertemplate": "color=Hong Kong<br>x=%{x}<br>y=%{y}<extra></extra>",
         "legendgroup": "Hong Kong",
         "marker": {
          "color": "#00cc96",
          "symbol": "circle"
         },
         "mode": "markers",
         "name": "Hong Kong",
         "showlegend": true,
         "type": "scattergl",
         "x": [
          7.007,
          7.047,
          7.089,
          7.135,
          7.186,
          7.244,
          7.306,
          7.372,
          7.436
         ],
         "xaxis": "x",
         "y": [
          0.0064221492792921366,
          0.005959982971477225,
          0.005360417548314289,
          0.006306937631394534,
          0.010158641803506818,
          0.012700165654334622,
          0.012455516014234875,
          0.012615301139446554,
          0.013448090371167296
         ],
         "yaxis": "y"
        },
        {
         "hovertemplate": "color=Hungary<br>x=%{x}<br>y=%{y}<extra></extra>",
         "legendgroup": "Hungary",
         "marker": {
          "color": "#ab63fa",
          "symbol": "circle"
         },
         "mode": "markers",
         "name": "Hungary",
         "showlegend": true,
         "type": "scattergl",
         "x": [
          9.896,
          9.864,
          9.834,
          9.805,
          9.778,
          9.753,
          9.73,
          9.708,
          9.685
         ],
         "xaxis": "x",
         "y": [
          1.8586297493936943,
          1.8693227899432279,
          1.8463494000406753,
          1.917389087200408,
          1.9495806913479237,
          1.9801086845073312,
          2.0123329907502567,
          2.007210548001648,
          2.170160041300981
         ],
         "yaxis": "y"
        },
        {
         "hovertemplate": "color=Iceland<br>x=%{x}<br>y=%{y}<extra></extra>",
         "legendgroup": "Iceland",
         "marker": {
          "color": "#FFA15A",
          "symbol": "circle"
         },
         "mode": "markers",
         "name": "Iceland",
         "showlegend": true,
         "type": "scattergl",
         "x": [
          0.323,
          0.326,
          0.327,
          0.329,
          0.33,
          0.332,
          0.334,
          0.337,
          0.339
         ],
         "xaxis": "x",
         "y": [
          52.1640866873065,
          53.04601226993864,
          55.030581039755354,
          54.10334346504559,
          56.22424242424242,
          54.72590361445783,
          56.41916167664671,
          57.65578635014836,
          56.82005899705015
         ],
         "yaxis": "y"
        },
        {
         "hovertemplate": "color=India<br>x=%{x}<br>y=%{y}<extra></extra>",
         "legendgroup": "India",
         "marker": {
          "color": "#19d3f3",
          "symbol": "circle"
         },
         "mode": "markers",
         "name": "India",
         "showlegend": true,
         "type": "scattergl",
         "x": [
          1250.288,
          1265.779968,
          1280.841984,
          1295.601024,
          1310.151936,
          1324.516992,
          1338.676992,
          1352.642048,
          1366.418048
         ],
         "xaxis": "x",
         "y": [
          0.1654370832960086,
          0.1593784110193787,
          0.17624344206381046,
          0.180464506949942,
          0.17306389722420715,
          0.17921023394466198,
          0.19593598871683607,
          0.21635805306564002,
          0.24264023772613402
         ],
         "yaxis": "y"
        },
        {
         "hovertemplate": "color=Indonesia<br>x=%{x}<br>y=%{y}<extra></extra>",
         "legendgroup": "Indonesia",
         "marker": {
          "color": "#FF6692",
          "symbol": "circle"
         },
         "mode": "markers",
         "name": "Indonesia",
         "showlegend": true,
         "type": "scattergl",
         "x": [
          245.116,
          248.452,
          251.804992,
          255.128,
          258.383008,
          261.556,
          264.651008,
          267.671008,
          270.625984
         ],
         "xaxis": "x",
         "y": [
          0.08929649635274728,
          0.09002543750905607,
          0.10466035558183055,
          0.10198018249662916,
          0.09596993313120653,
          0.11841441221000476,
          0.12119356824818894,
          0.1835611572845424,
          0.1761212995718844
         ],
         "yaxis": "y"
        },
        {
         "hovertemplate": "color=Iran<br>x=%{x}<br>y=%{y}<extra></extra>",
         "legendgroup": "Iran",
         "marker": {
          "color": "#B6E880",
          "symbol": "circle"
         },
         "mode": "markers",
         "name": "Iran",
         "showlegend": true,
         "type": "scattergl",
         "x": [
          74.635,
          75.54,
          76.482,
          77.466,
          78.492,
          79.564,
          80.674,
          81.8,
          82.914
         ],
         "xaxis": "x",
         "y": [
          0.16445367454947407,
          0.18375694996028594,
          0.24490729844930836,
          0.2304753052952263,
          0.22144931967589054,
          0.2822759036750289,
          0.26874829560949004,
          0.27531784841075796,
          0.4414574137057674
         ],
         "yaxis": "y"
        },
        {
         "hovertemplate": "color=Iraq<br>x=%{x}<br>y=%{y}<extra></extra>",
         "legendgroup": "Iraq",
         "marker": {
          "color": "#FF97FF",
          "symbol": "circle"
         },
         "mode": "markers",
         "name": "Iraq",
         "showlegend": true,
         "type": "scattergl",
         "x": [
          30.725,
          31.89,
          33.157,
          34.412,
          35.572,
          36.611,
          37.553,
          38.434,
          39.31
         ],
         "xaxis": "x",
         "y": [
          0.10945484133441823,
          0.13634368140482908,
          0.1434086316614893,
          0.08598744623968384,
          0.07247273136174519,
          0.09270437846548853,
          0.05887678747370383,
          0.04831659468179217,
          0.06385143729330958
         ],
         "yaxis": "y"
        },
        {
         "hovertemplate": "color=Ireland<br>x=%{x}<br>y=%{y}<extra></extra>",
         "legendgroup": "Ireland",
         "marker": {
          "color": "#FECB52",
          "symbol": "circle"
         },
         "mode": "markers",
         "name": "Ireland",
         "showlegend": true,
         "type": "scattergl",
         "x": [
          4.591,
          4.608,
          4.615,
          4.627,
          4.652,
          4.696,
          4.753,
          4.819,
          4.882
         ],
         "xaxis": "x",
         "y": [
          1.1814419516445218,
          1.1406250000000002,
          1.2195016251354278,
          1.381456667387076,
          1.689810834049871,
          1.599872231686542,
          1.868083315800547,
          2.1155841460884,
          2.295985251945924
         ],
         "yaxis": "y"
        },
        {
         "hovertemplate": "color=Israel<br>x=%{x}<br>y=%{y}<extra></extra>",
         "legendgroup": "Israel",
         "marker": {
          "color": "#636efa",
          "symbol": "circle"
         },
         "mode": "markers",
         "name": "Israel",
         "showlegend": true,
         "type": "scattergl",
         "x": [
          7.487,
          7.615,
          7.735,
          7.854,
          7.978,
          8.109,
          8.244,
          8.382,
          8.519
         ],
         "xaxis": "x",
         "y": [
          0.037531721650861494,
          0.06053841103086015,
          0.07847446670976083,
          0.12184873949579832,
          0.16507896715968914,
          0.21716611172770994,
          0.20972828723920428,
          0.21581961345740874,
          0.33243338420002344
         ],
         "yaxis": "y"
        },
        {
         "hovertemplate": "color=Italy<br>x=%{x}<br>y=%{y}<extra></extra>",
         "legendgroup": "Italy",
         "marker": {
          "color": "#EF553B",
          "symbol": "circle"
         },
         "mode": "markers",
         "name": "Italy",
         "showlegend": true,
         "type": "scattergl",
         "x": [
          59.589,
          59.879,
          60.167,
          60.41,
          60.578,
          60.663,
          60.674,
          60.627,
          60.55
         ],
         "xaxis": "x",
         "y": [
          1.3922032589907531,
          1.5401225805374172,
          1.8615021523426463,
          1.9975169673895052,
          1.7975832810591303,
          1.780508712065015,
          1.7121996242212478,
          1.8869810480478995,
          1.933592072667217
         ],
         "yaxis": "y"
        },
        {
         "hovertemplate": "color=Jamaica<br>x=%{x}<br>y=%{y}<extra></extra>",
         "legendgroup": "Jamaica",
         "marker": {
          "color": "#00cc96",
          "symbol": "circle"
         },
         "mode": "markers",
         "name": "Jamaica",
         "showlegend": true,
         "type": "scattergl",
         "x": [
          2.826,
          2.842,
          2.859,
          2.875,
          2.891,
          2.906,
          2.921,
          2.935,
          2.948
         ],
         "xaxis": "x",
         "y": [
          0.09518754423213022,
          0.09992962702322307,
          0.09094088842252536,
          0.09982608695652173,
          0.09789000345901071,
          0.11871988988300067,
          0.17459774049982885,
          0.18534923339011927,
          0.1902985074626866
         ],
         "yaxis": "y"
        },
        {
         "hovertemplate": "color=Japan<br>x=%{x}<br>y=%{y}<extra></extra>",
         "legendgroup": "Japan",
         "marker": {
          "color": "#ab63fa",
          "symbol": "circle"
         },
         "mode": "markers",
         "name": "Japan",
         "showlegend": true,
         "type": "scattergl",
         "x": [
          128.499,
          128.424,
          128.314,
          128.169,
          127.985,
          127.763,
          127.503,
          127.202,
          126.86
         ],
         "xaxis": "x",
         "y": [
          2.352531926318493,
          1.228773437986669,
          1.2942079586015556,
          1.299417175760129,
          1.4670312927296167,
          1.5442185922371892,
          1.7251358791557847,
          2.0875615163283596,
          2.2956014504177835
         ],
         "yaxis": "y"
        },
        {
         "hovertemplate": "color=Jordan<br>x=%{x}<br>y=%{y}<extra></extra>",
         "legendgroup": "Jordan",
         "marker": {
          "color": "#FFA15A",
          "symbol": "circle"
         },
         "mode": "markers",
         "name": "Jordan",
         "showlegend": true,
         "type": "scattergl",
         "x": [
          7.663,
          8.09,
          8.519,
          8.919,
          9.267,
          9.554,
          9.786,
          9.965,
          10.102
         ],
         "xaxis": "x",
         "y": [
          0.008482317630170952,
          0.008529048207663783,
          0.007160464843291466,
          0.007063572149344097,
          0.01931585194777166,
          0.08980531714465145,
          0.14285714285714285,
          0.219568489713999,
          0.2689566422490596
         ],
         "yaxis": "y"
        },
        {
         "hovertemplate": "color=Kazakhstan<br>x=%{x}<br>y=%{y}<extra></extra>",
         "legendgroup": "Kazakhstan",
         "marker": {
          "color": "#19d3f3",
          "symbol": "circle"
         },
         "mode": "markers",
         "name": "Kazakhstan",
         "showlegend": true,
         "type": "scattergl",
         "x": [
          16.491,
          16.752,
          17.026,
          17.303,
          17.572,
          17.831,
          18.08,
          18.32,
          18.551
         ],
         "xaxis": "x",
         "y": [
          0.4732884603723243,
          0.45152817574021015,
          0.4499588864090215,
          0.47916546263653703,
          0.5365923059412703,
          0.6684986820705513,
          0.6415929203539823,
          0.6079148471615721,
          0.572961026359765
         ],
         "yaxis": "y"
        },
        {
         "hovertemplate": "color=Kenya<br>x=%{x}<br>y=%{y}<extra></extra>",
         "legendgroup": "Kenya",
         "marker": {
          "color": "#FF6692",
          "symbol": "circle"
         },
         "mode": "markers",
         "name": "Kenya",
         "showlegend": true,
         "type": "scattergl",
         "x": [
          43.178,
          44.343,
          45.52,
          46.7,
          47.878,
          49.052,
          50.221,
          51.393,
          52.574
         ],
         "xaxis": "x",
         "y": [
          0.11857890592431332,
          0.13548925422276345,
          0.12994288224956063,
          0.1371306209850107,
          0.17730481640837129,
          0.1633164804697056,
          0.16278051014515843,
          0.1878076780884556,
          0.19386008293072624
         ],
         "yaxis": "y"
        },
        {
         "hovertemplate": "color=Kiribati<br>x=%{x}<br>y=%{y}<extra></extra>",
         "legendgroup": "Kiribati",
         "marker": {
          "color": "#B6E880",
          "symbol": "circle"
         },
         "mode": "markers",
         "name": "Kiribati",
         "showlegend": true,
         "type": "scattergl",
         "x": [
          0.105,
          0.106,
          0.108,
          0.109,
          0.111,
          0.113,
          0.114,
          0.116,
          0.118
         ],
         "xaxis": "x",
         "y": [
          0.009523809523809525,
          0.009433962264150943,
          0.009259259259259259,
          0.009174311926605505,
          0.036036036036036036,
          0.04424778761061947,
          0.043859649122807015,
          0.043103448275862065,
          0.04237288135593221
         ],
         "yaxis": "y"
        },
        {
         "hovertemplate": "color=Kuwait<br>x=%{x}<br>y=%{y}<extra></extra>",
         "legendgroup": "Kuwait",
         "marker": {
          "color": "#FF97FF",
          "symbol": "circle"
         },
         "mode": "markers",
         "name": "Kuwait",
         "showlegend": true,
         "type": "scattergl",
         "x": [
          3.168,
          3.349,
          3.526,
          3.691,
          3.836,
          3.957,
          4.056,
          4.137,
          4.207
         ],
         "xaxis": "x",
         "y": [
          0,
          0,
          0.0011344299489506524,
          0.001896505012191818,
          0.002346193952033368,
          0.013393985342431134,
          0.016518737672583828,
          0.020304568527918784,
          0.03755645352983124
         ],
         "yaxis": "y"
        },
        {
         "hovertemplate": "color=Kyrgyzstan<br>x=%{x}<br>y=%{y}<extra></extra>",
         "legendgroup": "Kyrgyzstan",
         "marker": {
          "color": "#FECB52",
          "symbol": "circle"
         },
         "mode": "markers",
         "name": "Kyrgyzstan",
         "showlegend": true,
         "type": "scattergl",
         "x": [
          5.518,
          5.622,
          5.731,
          5.845,
          5.959,
          6.074,
          6.19,
          6.304,
          6.416
         ],
         "xaxis": "x",
         "y": [
          2.536788691554911,
          2.4967982924226257,
          2.2676670738091085,
          2.2523524379811803,
          1.8441013592884714,
          1.8733947974975305,
          2.27156704361874,
          2.2485723350253806,
          2.136221945137157
         ],
         "yaxis": "y"
        },
        {
         "hovertemplate": "color=Laos<br>x=%{x}<br>y=%{y}<extra></extra>",
         "legendgroup": "Laos",
         "marker": {
          "color": "#636efa",
          "symbol": "circle"
         },
         "mode": "markers",
         "name": "Laos",
         "showlegend": true,
         "type": "scattergl",
         "x": [
          6.348,
          6.445,
          6.541,
          6.64,
          6.741,
          6.846,
          6.953,
          7.061,
          7.169
         ],
         "xaxis": "x",
         "y": [
          2.0225267800882167,
          2.0055857253685025,
          2.347653264026907,
          2.278012048192771,
          2.0631953716065867,
          2.5614957639497518,
          2.8663886092334243,
          3.139357031581929,
          2.7073510949923283
         ],
         "yaxis": "y"
        },
        {
         "hovertemplate": "color=Latvia<br>x=%{x}<br>y=%{y}<extra></extra>",
         "legendgroup": "Latvia",
         "marker": {
          "color": "#EF553B",
          "symbol": "circle"
         },
         "mode": "markers",
         "name": "Latvia",
         "showlegend": true,
         "type": "scattergl",
         "x": [
          2.094,
          2.069,
          2.045,
          2.021,
          1.998,
          1.974,
          1.951,
          1.928,
          1.907
         ],
         "xaxis": "x",
         "y": [
          1.4689589302769819,
          1.985983566940551,
          1.7276283618581907,
          1.3864423552696685,
          1.38988988988989,
          1.7639311043566364,
          2.79958995386981,
          1.8148340248962658,
          1.6439433665443104
         ],
         "yaxis": "y"
        },
        {
         "hovertemplate": "color=Lebanon<br>x=%{x}<br>y=%{y}<extra></extra>",
         "legendgroup": "Lebanon",
         "marker": {
          "color": "#00cc96",
          "symbol": "circle"
         },
         "mode": "markers",
         "name": "Lebanon",
         "showlegend": true,
         "type": "scattergl",
         "x": [
          5.202,
          5.538,
          5.913,
          6.261,
          6.533,
          6.714,
          6.819,
          6.859,
          6.856
         ],
         "xaxis": "x",
         "y": [
          0.15340253748558247,
          0.18039003250270855,
          0.21359715880263822,
          0.03258265452803066,
          0.07576917189652532,
          0.06136431337503723,
          0.06716527350051328,
          0.06108762210234728,
          0.05644690781796966
         ],
         "yaxis": "y"
        },
        {
         "hovertemplate": "color=Lesotho<br>x=%{x}<br>y=%{y}<extra></extra>",
         "legendgroup": "Lesotho",
         "marker": {
          "color": "#ab63fa",
          "symbol": "circle"
         },
         "mode": "markers",
         "name": "Lesotho",
         "showlegend": true,
         "type": "scattergl",
         "x": [
          2.004,
          2.015,
          2.029,
          2.043,
          2.059,
          2.075,
          2.092,
          2.108,
          2.125
         ],
         "xaxis": "x",
         "y": [
          0.24451097804391217,
          0.24119106699751858,
          0.2538196155741745,
          0.25501713166911405,
          0.2588635259834871,
          0.2520481927710843,
          0.25812619502868067,
          0.25616698292220114,
          0.2550588235294118
         ],
         "yaxis": "y"
        },
        {
         "hovertemplate": "color=Liberia<br>x=%{x}<br>y=%{y}<extra></extra>",
         "legendgroup": "Liberia",
         "marker": {
          "color": "#FFA15A",
          "symbol": "circle"
         },
         "mode": "markers",
         "name": "Liberia",
         "showlegend": true,
         "type": "scattergl",
         "x": [
          4.017,
          4.136,
          4.248,
          4.36,
          4.472,
          4.587,
          4.702,
          4.819,
          4.937
         ],
         "xaxis": "x",
         "y": [
          0,
          0,
          0,
          0,
          0,
          0,
          0.0006380263717566993,
          0.0008300477277443454,
          0.0008102086287218958
         ],
         "yaxis": "y"
        },
        {
         "hovertemplate": "color=Libya<br>x=%{x}<br>y=%{y}<extra></extra>",
         "legendgroup": "Libya",
         "marker": {
          "color": "#19d3f3",
          "symbol": "circle"
         },
         "mode": "markers",
         "name": "Libya",
         "showlegend": true,
         "type": "scattergl",
         "x": [
          6.247,
          6.286,
          6.32,
          6.362,
          6.418,
          6.492,
          6.581,
          6.679,
          6.777
         ],
         "xaxis": "x",
         "y": [
          0.0009604610212902194,
          0.00111358574610245,
          0.0012658227848101266,
          0.0012574662055957245,
          0.0012464942349641633,
          0.0012322858903265558,
          0.001215620726333384,
          0.0011977840994160803,
          0.0011804633318577543
         ],
         "yaxis": "y"
        },
        {
         "hovertemplate": "color=Lithuania<br>x=%{x}<br>y=%{y}<extra></extra>",
         "legendgroup": "Lithuania",
         "marker": {
          "color": "#FF6692",
          "symbol": "circle"
         },
         "mode": "markers",
         "name": "Lithuania",
         "showlegend": true,
         "type": "scattergl",
         "x": [
          3.083,
          3.046,
          3.009,
          2.971,
          2.932,
          2.89,
          2.845,
          2.801,
          2.76
         ],
         "xaxis": "x",
         "y": [
          0.36101200129743755,
          0.38837820091923836,
          0.5068128946493852,
          0.5085829686974083,
          0.5726466575716235,
          0.7249134948096886,
          0.8920913884007029,
          0.7872188504105676,
          0.8836956521739131
         ],
         "yaxis": "y"
        },
        {
         "hovertemplate": "color=Luxembourg<br>x=%{x}<br>y=%{y}<extra></extra>",
         "legendgroup": "Luxembourg",
         "marker": {
          "color": "#B6E880",
          "symbol": "circle"
         },
         "mode": "markers",
         "name": "Luxembourg",
         "showlegend": true,
         "type": "scattergl",
         "x": [
          0.519,
          0.531,
          0.543,
          0.555,
          0.567,
          0.579,
          0.592,
          0.604,
          0.616
         ],
         "xaxis": "x",
         "y": [
          0.47398843930635837,
          0.5800376647834274,
          0.6813996316758747,
          0.7171171171171171,
          0.7601410934744268,
          0.7892918825561314,
          1.0135135135135136,
          1.132450331125828,
          1.1103896103896105
         ],
         "yaxis": "y"
        },
        {
         "hovertemplate": "color=Madagascar<br>x=%{x}<br>y=%{y}<extra></extra>",
         "legendgroup": "Madagascar",
         "marker": {
          "color": "#FF97FF",
          "symbol": "circle"
         },
         "mode": "markers",
         "name": "Madagascar",
         "showlegend": true,
         "type": "scattergl",
         "x": [
          21.744,
          22.347,
          22.961,
          23.59,
          24.234,
          24.894,
          25.571,
          26.262,
          26.969
         ],
         "xaxis": "x",
         "y": [
          0.03228476821192053,
          0.034367029131427036,
          0.03601759505248029,
          0.038490885968630775,
          0.039531237104893945,
          0.036996866714871054,
          0.03249775135896132,
          0.03838245373543523,
          0.0378953613407987
         ],
         "yaxis": "y"
        },
        {
         "hovertemplate": "color=Malawi<br>x=%{x}<br>y=%{y}<extra></extra>",
         "legendgroup": "Malawi",
         "marker": {
          "color": "#FECB52",
          "symbol": "circle"
         },
         "mode": "markers",
         "name": "Malawi",
         "showlegend": true,
         "type": "scattergl",
         "x": [
          14.962,
          15.396,
          15.839,
          16.29,
          16.745,
          17.205,
          17.67,
          18.143,
          18.629
         ],
         "xaxis": "x",
         "y": [
          0.12291137548456088,
          0.12444790854767471,
          0.12147231517141233,
          0.12486187845303867,
          0.1213496566139146,
          0.11746585294972392,
          0.10837577815506508,
          0.08030645427988756,
          0.06774384024907402
         ],
         "yaxis": "y"
        },
        {
         "hovertemplate": "color=Malaysia<br>x=%{x}<br>y=%{y}<extra></extra>",
         "legendgroup": "Malaysia",
         "marker": {
          "color": "#636efa",
          "symbol": "circle"
         },
         "mode": "markers",
         "name": "Malaysia",
         "showlegend": true,
         "type": "scattergl",
         "x": [
          28.651,
          29.068,
          29.469,
          29.867,
          30.271,
          30.685,
          31.105,
          31.528,
          31.95
         ],
         "xaxis": "x",
         "y": [
          0.30124602980698756,
          0.3384821797165268,
          0.4401235196307985,
          0.4799946429169317,
          0.5414423045158733,
          0.691640866873065,
          0.8878958366822054,
          0.8867356001014971,
          0.9102347417840376
         ],
         "yaxis": "y"
        },
        {
         "hovertemplate": "color=Maldives<br>x=%{x}<br>y=%{y}<extra></extra>",
         "legendgroup": "Maldives",
         "marker": {
          "color": "#EF553B",
          "symbol": "circle"
         },
         "mode": "markers",
         "name": "Maldives",
         "showlegend": true,
         "type": "scattergl",
         "x": [
          0.38,
          0.397,
          0.416,
          0.435,
          0.455,
          0.476,
          0.496,
          0.516,
          0.531
         ],
         "xaxis": "x",
         "y": [
          0.005263157894736842,
          0.005037783375314861,
          0.004807692307692308,
          0.004597701149425287,
          0.004395604395604396,
          0.004201680672268908,
          0.004032258064516129,
          0.003875968992248062,
          0.003766478342749529
         ],
         "yaxis": "y"
        },
        {
         "hovertemplate": "color=Mali<br>x=%{x}<br>y=%{y}<extra></extra>",
         "legendgroup": "Mali",
         "marker": {
          "color": "#00cc96",
          "symbol": "circle"
         },
         "mode": "markers",
         "name": "Mali",
         "showlegend": true,
         "type": "scattergl",
         "x": [
          15.515,
          15.979,
          16.45,
          16.934,
          17.439,
          17.965,
          18.512,
          19.078,
          19.658
         ],
         "xaxis": "x",
         "y": [
          0.07818240412504028,
          0.0824206771387446,
          0.07246200607902735,
          0.0862170780677926,
          0.06904065600091748,
          0.08700250487058168,
          0.08475583405358686,
          0.07584652479295524,
          0.07767829891138467
         ],
         "yaxis": "y"
        },
        {
         "hovertemplate": "color=Malta<br>x=%{x}<br>y=%{y}<extra></extra>",
         "legendgroup": "Malta",
         "marker": {
          "color": "#ab63fa",
          "symbol": "circle"
         },
         "mode": "markers",
         "name": "Malta",
         "showlegend": true,
         "type": "scattergl",
         "x": [
          0.418,
          0.422,
          0.426,
          0.43,
          0.434,
          0.436,
          0.438,
          0.439,
          0.44
         ],
         "xaxis": "x",
         "y": [
          0.023923444976076555,
          0.061611374407582936,
          0.08215962441314555,
          0.1744186046511628,
          0.23502304147465436,
          0.3119266055045872,
          0.3926940639269406,
          0.45330296127562647,
          0.45227272727272727
         ],
         "yaxis": "y"
        },
        {
         "hovertemplate": "color=Martinique<br>x=%{x}<br>y=%{y}<extra></extra>",
         "legendgroup": "Martinique",
         "marker": {
          "color": "#FFA15A",
          "symbol": "circle"
         },
         "mode": "markers",
         "name": "Martinique",
         "showlegend": true,
         "type": "scattergl",
         "x": [
          0.392,
          0.388,
          0.385,
          0.381,
          0.378,
          0.377,
          0.376,
          0.376,
          0.376
         ],
         "xaxis": "x",
         "y": [
          0.04081632653061224,
          0.05412371134020619,
          0.04675324675324675,
          0.06561679790026247,
          0.07671957671957673,
          0.07957559681697612,
          0.06914893617021277,
          0.2553191489361702,
          0.31117021276595747
         ],
         "yaxis": "y"
        },
        {
         "hovertemplate": "color=Mauritania<br>x=%{x}<br>y=%{y}<extra></extra>",
         "legendgroup": "Mauritania",
         "marker": {
          "color": "#19d3f3",
          "symbol": "circle"
         },
         "mode": "markers",
         "name": "Mauritania",
         "showlegend": true,
         "type": "scattergl",
         "x": [
          3.599,
          3.707,
          3.817,
          3.931,
          4.046,
          4.164,
          4.283,
          4.403,
          4.526
         ],
         "xaxis": "x",
         "y": [
          0.036121144762434006,
          0.03668734826004856,
          0.0547550432276657,
          0.056728567794454336,
          0.07909045971329708,
          0.06988472622478387,
          0.07821620359561055,
          0.0994776288893936,
          0.09898365002209457
         ],
         "yaxis": "y"
        },
        {
         "hovertemplate": "color=Mauritius<br>x=%{x}<br>y=%{y}<extra></extra>",
         "legendgroup": "Mauritius",
         "marker": {
          "color": "#FF6692",
          "symbol": "circle"
         },
         "mode": "markers",
         "name": "Mauritius",
         "showlegend": true,
         "type": "scattergl",
         "x": [
          1.251,
          1.253,
          1.255,
          1.257,
          1.259,
          1.262,
          1.264,
          1.267,
          1.27
         ],
         "xaxis": "x",
         "y": [
          0.4404476418864909,
          0.461292897047087,
          0.47330677290836654,
          0.4733492442322991,
          0.5401111993645752,
          0.5253565768621237,
          0.49287974683544306,
          0.5114443567482242,
          0.5007874015748032
         ],
         "yaxis": "y"
        },
        {
         "hovertemplate": "color=Mexico<br>x=%{x}<br>y=%{y}<extra></extra>",
         "legendgroup": "Mexico",
         "marker": {
          "color": "#B6E880",
          "symbol": "circle"
         },
         "mode": "markers",
         "name": "Mexico",
         "showlegend": true,
         "type": "scattergl",
         "x": [
          115.695,
          117.274,
          118.827,
          120.355,
          121.858,
          123.333,
          124.777,
          126.191,
          127.576
         ],
         "xaxis": "x",
         "y": [
          0.4653528674532175,
          0.4298992103961662,
          0.42462571637759094,
          0.5115283951643056,
          0.4747739171822941,
          0.4684147794994041,
          0.4897937921251513,
          0.5325815628689843,
          0.5192277544365712
         ],
         "yaxis": "y"
        },
        {
         "hovertemplate": "color=Moldova<br>x=%{x}<br>y=%{y}<extra></extra>",
         "legendgroup": "Moldova",
         "marker": {
          "color": "#FF97FF",
          "symbol": "circle"
         },
         "mode": "markers",
         "name": "Moldova",
         "showlegend": true,
         "type": "scattergl",
         "x": [
          4.079,
          4.076,
          4.075,
          4.073,
          4.071,
          4.066,
          4.06,
          4.052,
          4.043
         ],
         "xaxis": "x",
         "y": [
          0.08531502819318461,
          0.06526005888125615,
          0.07705521472392637,
          0.08151239872329978,
          0.0697617293048391,
          0.06074766355140187,
          0.07733990147783253,
          0.08119447186574533,
          0.0927529062577294
         ],
         "yaxis": "y"
        },
        {
         "hovertemplate": "color=Mongolia<br>x=%{x}<br>y=%{y}<extra></extra>",
         "legendgroup": "Mongolia",
         "marker": {
          "color": "#FECB52",
          "symbol": "circle"
         },
         "mode": "markers",
         "name": "Mongolia",
         "showlegend": true,
         "type": "scattergl",
         "x": [
          2.77,
          2.825,
          2.882,
          2.94,
          2.998,
          3.056,
          3.114,
          3.17,
          3.225
         ],
         "xaxis": "x",
         "y": [
          0.022021660649819495,
          0.02123893805309734,
          0.04233171408743928,
          0.06802721088435375,
          0.07371581054036024,
          0.08082460732984292,
          0.1335902376364804,
          0.1441640378548896,
          0.15906976744186047
         ],
         "yaxis": "y"
        },
        {
         "hovertemplate": "color=Montenegro<br>x=%{x}<br>y=%{y}<extra></extra>",
         "legendgroup": "Montenegro",
         "marker": {
          "color": "#636efa",
          "symbol": "circle"
         },
         "mode": "markers",
         "name": "Montenegro",
         "showlegend": true,
         "type": "scattergl",
         "x": [
          0.625,
          0.626,
          0.626,
          0.627,
          0.627,
          0.627,
          0.628,
          0.628,
          0.628
         ],
         "xaxis": "x",
         "y": [
          1.9072,
          2.3354632587859423,
          3.9600638977635785,
          2.7655502392344498,
          2.354066985645933,
          2.9106858054226477,
          1.769108280254777,
          3.558917197452229,
          3.99203821656051
         ],
         "yaxis": "y"
        },
        {
         "hovertemplate": "color=Montserrat<br>x=%{x}<br>y=%{y}<extra></extra>",
         "legendgroup": "Montserrat",
         "marker": {
          "color": "#EF553B",
          "symbol": "circle"
         },
         "mode": "markers",
         "name": "Montserrat",
         "showlegend": true,
         "type": "scattergl",
         "x": [
          0.005,
          0.005,
          0.005,
          0.005,
          0.005,
          0.005,
          0.005,
          0.005,
          0.005
         ],
         "xaxis": "x",
         "y": [
          0,
          0,
          0,
          0,
          0,
          0,
          0,
          0,
          0
         ],
         "yaxis": "y"
        },
        {
         "hovertemplate": "color=Morocco<br>x=%{x}<br>y=%{y}<extra></extra>",
         "legendgroup": "Morocco",
         "marker": {
          "color": "#00cc96",
          "symbol": "circle"
         },
         "mode": "markers",
         "name": "Morocco",
         "showlegend": true,
         "type": "scattergl",
         "x": [
          32.782,
          33.242,
          33.716,
          34.192,
          34.664,
          35.126,
          35.581,
          36.029,
          36.472
         ],
         "xaxis": "x",
         "y": [
          0.08163016289427126,
          0.07063353588833404,
          0.12213785739708151,
          0.10370846981750116,
          0.12681744749596122,
          0.13252291749701078,
          0.130294258171496,
          0.17988287213078352,
          0.21750932221978503
         ],
         "yaxis": "y"
        },
        {
         "hovertemplate": "color=Mozambique<br>x=%{x}<br>y=%{y}<extra></extra>",
         "legendgroup": "Mozambique",
         "marker": {
          "color": "#ab63fa",
          "symbol": "circle"
         },
         "mode": "markers",
         "name": "Mozambique",
         "showlegend": true,
         "type": "scattergl",
         "x": [
          24.188,
          24.863,
          25.561,
          26.286,
          27.042,
          27.83,
          28.649,
          29.496,
          30.366
         ],
         "xaxis": "x",
         "y": [
          0.6908384322804697,
          0.6057997828097976,
          0.5658620554751379,
          0.6119607395571787,
          0.6323126987648843,
          0.5573122529644269,
          0.48797514747460646,
          0.4693856794141579,
          0.4202397418165053
         ],
         "yaxis": "y"
        },
        {
         "hovertemplate": "color=Namibia<br>x=%{x}<br>y=%{y}<extra></extra>",
         "legendgroup": "Namibia",
         "marker": {
          "color": "#FFA15A",
          "symbol": "circle"
         },
         "mode": "markers",
         "name": "Namibia",
         "showlegend": true,
         "type": "scattergl",
         "x": [
          2.157,
          2.195,
          2.234,
          2.273,
          2.315,
          2.358,
          2.403,
          2.448,
          2.495
         ],
         "xaxis": "x",
         "y": [
          0.6485859990727862,
          0.7316628701594534,
          0.5738585496866607,
          0.6599208095028596,
          0.6596112311015119,
          0.5949957591178965,
          0.66916354556804,
          0.47549019607843135,
          0.4188376753507014
         ],
         "yaxis": "y"
        },
        {
         "hovertemplate": "color=Nauru<br>x=%{x}<br>y=%{y}<extra></extra>",
         "legendgroup": "Nauru",
         "marker": {
          "color": "#19d3f3",
          "symbol": "circle"
         },
         "mode": "markers",
         "name": "Nauru",
         "showlegend": true,
         "type": "scattergl",
         "x": [
          0.01,
          0.01,
          0.01,
          0.01,
          0.01,
          0.01,
          0.011,
          0.011,
          0.011
         ],
         "xaxis": "x",
         "y": [
          0,
          0,
          0,
          0,
          0,
          0,
          0,
          0,
          0
         ],
         "yaxis": "y"
        },
        {
         "hovertemplate": "color=Nepal<br>x=%{x}<br>y=%{y}<extra></extra>",
         "legendgroup": "Nepal",
         "marker": {
          "color": "#FF6692",
          "symbol": "circle"
         },
         "mode": "markers",
         "name": "Nepal",
         "showlegend": true,
         "type": "scattergl",
         "x": [
          27.041,
          26.989,
          26.917,
          26.906,
          27.015,
          27.263,
          27.633,
          28.096,
          28.609
         ],
         "xaxis": "x",
         "y": [
          0.12817573314596353,
          0.13009003668161104,
          0.12954638332652227,
          0.14026611164795957,
          0.1274477142328336,
          0.15478854124637786,
          0.16900083233814642,
          0.1758613325740319,
          0.1894508721031843
         ],
         "yaxis": "y"
        },
        {
         "hovertemplate": "color=Netherlands<br>x=%{x}<br>y=%{y}<extra></extra>",
         "legendgroup": "Netherlands",
         "marker": {
          "color": "#B6E880",
          "symbol": "circle"
         },
         "mode": "markers",
         "name": "Netherlands",
         "showlegend": true,
         "type": "scattergl",
         "x": [
          16.738,
          16.792,
          16.844,
          16.893,
          16.938,
          16.981,
          17.021,
          17.06,
          17.097
         ],
         "xaxis": "x",
         "y": [
          0.9834508304456924,
          0.9764173415912338,
          0.890346710995013,
          0.9316876812881075,
          1.0486480103908373,
          1.1034096931865023,
          1.224311145056107,
          1.3129542790152404,
          1.5572907527636426
         ],
         "yaxis": "y"
        },
        {
         "hovertemplate": "color=New Caledonia<br>x=%{x}<br>y=%{y}<extra></extra>",
         "legendgroup": "New Caledonia",
         "marker": {
          "color": "#FF97FF",
          "symbol": "circle"
         },
         "mode": "markers",
         "name": "New Caledonia",
         "showlegend": true,
         "type": "scattergl",
         "x": [
          0.257,
          0.261,
          0.264,
          0.268,
          0.271,
          0.274,
          0.277,
          0.28,
          0.283
         ],
         "xaxis": "x",
         "y": [
          1.6225680933852138,
          1.7318007662835249,
          1.924242424242424,
          1.2910447761194028,
          1.4833948339483394,
          1.010948905109489,
          1.4657039711191335,
          1.2928571428571427,
          1.254416961130742
         ],
         "yaxis": "y"
        },
        {
         "hovertemplate": "color=New Zealand<br>x=%{x}<br>y=%{y}<extra></extra>",
         "legendgroup": "New Zealand",
         "marker": {
          "color": "#FECB52",
          "symbol": "circle"
         },
         "mode": "markers",
         "name": "New Zealand",
         "showlegend": true,
         "type": "scattergl",
         "x": [
          4.419,
          4.468,
          4.519,
          4.568,
          4.615,
          4.659,
          4.702,
          4.743,
          4.783
         ],
         "xaxis": "x",
         "y": [
          7.520479746548993,
          6.988137869292748,
          6.977207346758132,
          7.405210157618214,
          7.5306608884073665,
          7.755956213779781,
          7.481071884304551,
          7.657389837655493,
          7.4783608613840675
         ],
         "yaxis": "y"
        },
        {
         "hovertemplate": "color=Nicaragua<br>x=%{x}<br>y=%{y}<extra></extra>",
         "legendgroup": "Nicaragua",
         "marker": {
          "color": "#636efa",
          "symbol": "circle"
         },
         "mode": "markers",
         "name": "Nicaragua",
         "showlegend": true,
         "type": "scattergl",
         "x": [
          5.903,
          5.983,
          6.062,
          6.143,
          6.223,
          6.304,
          6.385,
          6.466,
          6.546
         ],
         "xaxis": "x",
         "y": [
          0.22039640860579368,
          0.2893197392612402,
          0.3589574397888486,
          0.3897118671658799,
          0.3684717981680862,
          0.3794416243654822,
          0.39608457321848084,
          0.42236313021961025,
          0.4326306141154903
         ],
         "yaxis": "y"
        },
        {
         "hovertemplate": "color=Niger<br>x=%{x}<br>y=%{y}<extra></extra>",
         "legendgroup": "Niger",
         "marker": {
          "color": "#EF553B",
          "symbol": "circle"
         },
         "mode": "markers",
         "name": "Niger",
         "showlegend": true,
         "type": "scattergl",
         "x": [
          17.115,
          17.795,
          18.504,
          19.24,
          20.002,
          20.789,
          21.602,
          22.443,
          23.311
         ],
         "xaxis": "x",
         "y": [
          0,
          0,
          0.00021616947686986597,
          0.0002079002079002079,
          0.00019998000199980003,
          0.00024051180912982827,
          0.00027775205999444494,
          0.0010693757519048255,
          0.0010295568615675003
         ],
         "yaxis": "y"
        },
        {
         "hovertemplate": "color=Nigeria<br>x=%{x}<br>y=%{y}<extra></extra>",
         "legendgroup": "Nigeria",
         "marker": {
          "color": "#00cc96",
          "symbol": "circle"
         },
         "mode": "markers",
         "name": "Nigeria",
         "showlegend": true,
         "type": "scattergl",
         "x": [
          162.804992,
          167.228992,
          171.766,
          176.404992,
          181.136992,
          185.96,
          190.872992,
          195.875008,
          200.964
         ],
         "xaxis": "x",
         "y": [
          0.035877278259379176,
          0.033726209388381646,
          0.03094908189047891,
          0.030271252187693193,
          0.03153966474170003,
          0.04368681436868144,
          0.04047717761976508,
          0.03292916266275277,
          0.03331940048963993
         ],
         "yaxis": "y"
        },
        {
         "hovertemplate": "color=Niue<br>x=%{x}<br>y=%{y}<extra></extra>",
         "legendgroup": "Niue",
         "marker": {
          "color": "#ab63fa",
          "symbol": "circle"
         },
         "mode": "markers",
         "name": "Niue",
         "showlegend": true,
         "type": "scattergl",
         "x": [
          0.002,
          0.002,
          0.002,
          0.002,
          0.002,
          0.002,
          0.002,
          0.002,
          0.002
         ],
         "xaxis": "x",
         "y": [
          0,
          0,
          0,
          0,
          0,
          0,
          0,
          0,
          0
         ],
         "yaxis": "y"
        },
        {
         "hovertemplate": "color=North Korea<br>x=%{x}<br>y=%{y}<extra></extra>",
         "legendgroup": "North Korea",
         "marker": {
          "color": "#FFA15A",
          "symbol": "circle"
         },
         "mode": "markers",
         "name": "North Korea",
         "showlegend": true,
         "type": "scattergl",
         "x": [
          24.673,
          24.801,
          24.93,
          25.058,
          25.184,
          25.308,
          25.43,
          25.55,
          25.666
         ],
         "xaxis": "x",
         "y": [
          0.5297693835366595,
          0.5390508447240031,
          0.5521861211391897,
          0.5138877803495889,
          0.3935435196950444,
          0.501224909119646,
          0.46386158081006684,
          0.4965949119373777,
          0.5324553884516481
         ],
         "yaxis": "y"
        },
        {
         "hovertemplate": "color=Norway<br>x=%{x}<br>y=%{y}<extra></extra>",
         "legendgroup": "Norway",
         "marker": {
          "color": "#19d3f3",
          "symbol": "circle"
         },
         "mode": "markers",
         "name": "Norway",
         "showlegend": true,
         "type": "scattergl",
         "x": [
          4.948,
          5.014,
          5.079,
          5.142,
          5.2,
          5.251,
          5.296,
          5.338,
          5.379
         ],
         "xaxis": "x",
         "y": [
          24.55578011317704,
          28.555444754686874,
          25.60189013585352,
          26.745818747569036,
          26.85557692307692,
          27.57284326794896,
          27.371223564954683,
          26.68696140876733,
          24.103922662204873
         ],
         "yaxis": "y"
        },
        {
         "hovertemplate": "color=Oman<br>x=%{x}<br>y=%{y}<extra></extra>",
         "legendgroup": "Oman",
         "marker": {
          "color": "#FF6692",
          "symbol": "circle"
         },
         "mode": "markers",
         "name": "Oman",
         "showlegend": true,
         "type": "scattergl",
         "x": [
          3.251,
          3.498,
          3.765,
          4.027,
          4.267,
          4.479,
          4.666,
          4.829,
          4.975
         ],
         "xaxis": "x",
         "y": [
          0,
          0,
          0.0002656042496679947,
          0.00024832381425378696,
          0.0009374267635340989,
          0.0008930564858227283,
          0.0008572653236176596,
          0.0008283288465520813,
          0.0008040201005025127
         ],
         "yaxis": "y"
        },
        {
         "hovertemplate": "color=Pakistan<br>x=%{x}<br>y=%{y}<extra></extra>",
         "legendgroup": "Pakistan",
         "marker": {
          "color": "#B6E880",
          "symbol": "circle"
         },
         "mode": "markers",
         "name": "Pakistan",
         "showlegend": true,
         "type": "scattergl",
         "x": [
          183.34,
          187.28,
          191.260992,
          195.304992,
          199.427008,
          203.631008,
          207.906,
          212.228,
          216.564992
         ],
         "xaxis": "x",
         "y": [
          0.18283516963019528,
          0.19422255446390432,
          0.1998368804863252,
          0.20182791845894035,
          0.20960551140595762,
          0.20774832092369744,
          0.20231258357142168,
          0.2520779538986373,
          0.2781151258279085
         ],
         "yaxis": "y"
        },
        {
         "hovertemplate": "color=Palestine<br>x=%{x}<br>y=%{y}<extra></extra>",
         "legendgroup": "Palestine",
         "marker": {
          "color": "#FF97FF",
          "symbol": "circle"
         },
         "mode": "markers",
         "name": "Palestine",
         "showlegend": true,
         "type": "scattergl",
         "x": [
          4.15,
          4.242,
          4.334,
          4.429,
          4.529,
          4.636,
          4.747,
          4.863,
          4.981
         ],
         "xaxis": "x",
         "y": [
          0,
          0,
          0,
          0,
          0,
          0,
          0.0002106593638087213,
          0,
          0
         ],
         "yaxis": "y"
        },
        {
         "hovertemplate": "color=Panama<br>x=%{x}<br>y=%{y}<extra></extra>",
         "legendgroup": "Panama",
         "marker": {
          "color": "#FECB52",
          "symbol": "circle"
         },
         "mode": "markers",
         "name": "Panama",
         "showlegend": true,
         "type": "scattergl",
         "x": [
          3.706,
          3.771,
          3.835,
          3.901,
          3.968,
          4.037,
          4.107,
          4.177,
          4.246
         ],
         "xaxis": "x",
         "y": [
          1.1009174311926606,
          1.4213736409440467,
          1.3395045632333766,
          1.315560112791592,
          1.6794354838709677,
          1.7802823879118157,
          1.913562210859508,
          2.0660761311946376,
          2.192887423457371
         ],
         "yaxis": "y"
        },
        {
         "hovertemplate": "color=Papua New Guinea<br>x=%{x}<br>y=%{y}<extra></extra>",
         "legendgroup": "Papua New Guinea",
         "marker": {
          "color": "#636efa",
          "symbol": "circle"
         },
         "mode": "markers",
         "name": "Papua New Guinea",
         "showlegend": true,
         "type": "scattergl",
         "x": [
          7.472,
          7.631,
          7.788,
          7.947,
          8.108,
          8.272,
          8.438,
          8.606,
          8.776
         ],
         "xaxis": "x",
         "y": [
          0.18522483940042825,
          0.131175468483816,
          0.1308423215202876,
          0.13149616207373852,
          0.12826837691169216,
          0.12512088974854932,
          0.09848305285612703,
          0.09551475714617708,
          0.0960574293527803
         ],
         "yaxis": "y"
        },
        {
         "hovertemplate": "color=Paraguay<br>x=%{x}<br>y=%{y}<extra></extra>",
         "legendgroup": "Paraguay",
         "marker": {
          "color": "#EF553B",
          "symbol": "circle"
         },
         "mode": "markers",
         "name": "Paraguay",
         "showlegend": true,
         "type": "scattergl",
         "x": [
          6.334,
          6.422,
          6.51,
          6.6,
          6.689,
          6.778,
          6.867,
          6.956,
          7.045
         ],
         "xaxis": "x",
         "y": [
          9.006788759077992,
          9.285269386483963,
          9.201228878648234,
          8.312424242424242,
          8.272088503513231,
          9.446296842726468,
          8.703800786369593,
          8.52788959171938,
          7.071823988644429
         ],
         "yaxis": "y"
        },
        {
         "hovertemplate": "color=Peru<br>x=%{x}<br>y=%{y}<extra></extra>",
         "legendgroup": "Peru",
         "marker": {
          "color": "#00cc96",
          "symbol": "circle"
         },
         "mode": "markers",
         "name": "Peru",
         "showlegend": true,
         "type": "scattergl",
         "x": [
          29.264,
          29.507,
          29.774,
          30.09,
          30.471,
          30.926,
          31.444,
          31.989,
          32.51
         ],
         "xaxis": "x",
         "y": [
          0.753382996172772,
          0.7411461687057308,
          0.7807818902398065,
          0.7885676304420074,
          0.8272127596731318,
          0.8334734527581971,
          0.9731586312174024,
          1.0342930382318922,
          1.0521993232851432
         ],
         "yaxis": "y"
        },
        {
         "hovertemplate": "color=Philippines<br>x=%{x}<br>y=%{y}<extra></extra>",
         "legendgroup": "Philippines",
         "marker": {
          "color": "#ab63fa",
          "symbol": "circle"
         },
         "mode": "markers",
         "name": "Philippines",
         "showlegend": true,
         "type": "scattergl",
         "x": [
          95.57,
          97.213,
          98.872,
          100.513,
          102.113,
          103.664,
          105.173,
          106.651,
          108.117
         ],
         "xaxis": "x",
         "y": [
          0.20665480799414043,
          0.21249215639883556,
          0.2002892628853467,
          0.19618357824361027,
          0.20442059287260192,
          0.21124016051859854,
          0.21956205490002184,
          0.21246870634124387,
          0.19816495093278577
         ],
         "yaxis": "y"
        },
        {
         "hovertemplate": "color=Poland<br>x=%{x}<br>y=%{y}<extra></extra>",
         "legendgroup": "Poland",
         "marker": {
          "color": "#FFA15A",
          "symbol": "circle"
         },
         "mode": "markers",
         "name": "Poland",
         "showlegend": true,
         "type": "scattergl",
         "x": [
          38.287,
          38.227,
          38.158,
          38.091,
          38.034,
          37.989,
          37.953,
          37.922,
          37.888
         ],
         "xaxis": "x",
         "y": [
          0.34311907435944317,
          0.4415465508671882,
          0.4472456627705854,
          0.5209104512877057,
          0.5964137350791398,
          0.6003579983679487,
          0.6355755803230311,
          0.5700385000791098,
          0.6467747043918919
         ],
         "yaxis": "y"
        },
        {
         "hovertemplate": "color=Portugal<br>x=%{x}<br>y=%{y}<extra></extra>",
         "legendgroup": "Portugal",
         "marker": {
          "color": "#19d3f3",
          "symbol": "circle"
         },
         "mode": "markers",
         "name": "Portugal",
         "showlegend": true,
         "type": "scattergl",
         "x": [
          10.569,
          10.526,
          10.473,
          10.418,
          10.368,
          10.326,
          10.289,
          10.256,
          10.226
         ],
         "xaxis": "x",
         "y": [
          2.281672816728167,
          1.8403952118563558,
          2.814093382984818,
          3.0294682280668077,
          2.350694444444444,
          3.128994770482278,
          2.193896394207406,
          2.8668096723868954,
          2.7177782123997654
         ],
         "yaxis": "y"
        },
        {
         "hovertemplate": "color=Puerto Rico<br>x=%{x}<br>y=%{y}<extra></extra>",
         "legendgroup": "Puerto Rico",
         "marker": {
          "color": "#FF6692",
          "symbol": "circle"
         },
         "mode": "markers",
         "name": "Puerto Rico",
         "showlegend": true,
         "type": "scattergl",
         "x": [
          3.56,
          3.537,
          3.504,
          3.454,
          3.382,
          3.283,
          3.164,
          3.04,
          2.933
         ],
         "xaxis": "x",
         "y": [
          0.04269662921348315,
          0.03477523324851569,
          0.045662100456621,
          0.0512449334105385,
          0.07185097575399171,
          0.0956442278403899,
          0.10903919089759796,
          0.399671052631579,
          1.6662120695533582
         ],
         "yaxis": "y"
        },
        {
         "hovertemplate": "color=Qatar<br>x=%{x}<br>y=%{y}<extra></extra>",
         "legendgroup": "Qatar",
         "marker": {
          "color": "#B6E880",
          "symbol": "circle"
         },
         "mode": "markers",
         "name": "Qatar",
         "showlegend": true,
         "type": "scattergl",
         "x": [
          2.036,
          2.196,
          2.337,
          2.459,
          2.566,
          2.654,
          2.725,
          2.782,
          2.832
         ],
         "xaxis": "x",
         "y": [
          0.05697445972495089,
          0.052823315118397086,
          0.05091998288403936,
          0.04961366409109394,
          0.0475448168355417,
          0.04634513941220799,
          0.04513761467889908,
          0.04421279654924515,
          0.04343220338983051
         ],
         "yaxis": "y"
        },
        {
         "hovertemplate": "color=Romania<br>x=%{x}<br>y=%{y}<extra></extra>",
         "legendgroup": "Romania",
         "marker": {
          "color": "#FF97FF",
          "symbol": "circle"
         },
         "mode": "markers",
         "name": "Romania",
         "showlegend": true,
         "type": "scattergl",
         "x": [
          20.337,
          20.227,
          20.133,
          20.036,
          19.925,
          19.796,
          19.654,
          19.506,
          19.365
         ],
         "xaxis": "x",
         "y": [
          1.3797511924079264,
          1.304790626390468,
          1.5778075795956887,
          1.9366140946296664,
          1.8991217063989962,
          1.9324611032531827,
          1.8210542383229875,
          1.926176561058136,
          1.8598502452878907
         ],
         "yaxis": "y"
        },
        {
         "hovertemplate": "color=Russia<br>x=%{x}<br>y=%{y}<extra></extra>",
         "legendgroup": "Russia",
         "marker": {
          "color": "#FECB52",
          "symbol": "circle"
         },
         "mode": "markers",
         "name": "Russia",
         "showlegend": true,
         "type": "scattergl",
         "x": [
          143.703008,
          143.994,
          144.324992,
          144.664992,
          144.984992,
          145.275008,
          145.53,
          145.734,
          145.872
         ],
         "xaxis": "x",
         "y": [
          2.292979142092836,
          2.31989527341417,
          2.38413316523863,
          2.3944770273101037,
          2.4339346792528707,
          2.5492616045837697,
          2.591156462585034,
          2.5730920718569448,
          2.6941222441592627
         ],
         "yaxis": "y"
        },
        {
         "hovertemplate": "color=Rwanda<br>x=%{x}<br>y=%{y}<extra></extra>",
         "legendgroup": "Rwanda",
         "marker": {
          "color": "#636efa",
          "symbol": "circle"
         },
         "mode": "markers",
         "name": "Rwanda",
         "showlegend": true,
         "type": "scattergl",
         "x": [
          10.293,
          10.55,
          10.812,
          11.084,
          11.369,
          11.669,
          11.981,
          12.302,
          12.627
         ],
         "xaxis": "x",
         "y": [
          0.012824249489944624,
          0.013080568720379148,
          0.013873473917869035,
          0.01912666907253699,
          0.026827337496701558,
          0.03119376124775045,
          0.03513897003589016,
          0.03145829946350187,
          0.031915736121010535
         ],
         "yaxis": "y"
        },
        {
         "hovertemplate": "color=Saint Helena<br>x=%{x}<br>y=%{y}<extra></extra>",
         "legendgroup": "Saint Helena",
         "marker": {
          "color": "#EF553B",
          "symbol": "circle"
         },
         "mode": "markers",
         "name": "Saint Helena",
         "showlegend": true,
         "type": "scattergl",
         "x": [
          0.005,
          0.005,
          0.006,
          0.006,
          0.006,
          0.006,
          0.006,
          0.006,
          0.006
         ],
         "xaxis": "x",
         "y": [
          0,
          0,
          0,
          0,
          0,
          0,
          0,
          0,
          0
         ],
         "yaxis": "y"
        },
        {
         "hovertemplate": "color=Saint Kitts and Nevis<br>x=%{x}<br>y=%{y}<extra></extra>",
         "legendgroup": "Saint Kitts and Nevis",
         "marker": {
          "color": "#00cc96",
          "symbol": "circle"
         },
         "mode": "markers",
         "name": "Saint Kitts and Nevis",
         "showlegend": true,
         "type": "scattergl",
         "x": [
          0.049,
          0.05,
          0.05,
          0.051,
          0.051,
          0.052,
          0.052,
          0.052,
          0.053
         ],
         "xaxis": "x",
         "y": [
          0.10204081632653061,
          0.16,
          0.16,
          0.15686274509803924,
          0.15686274509803924,
          0.15384615384615385,
          0.15384615384615385,
          0.15384615384615385,
          0.1509433962264151
         ],
         "yaxis": "y"
        },
        {
         "hovertemplate": "color=Saint Lucia<br>x=%{x}<br>y=%{y}<extra></extra>",
         "legendgroup": "Saint Lucia",
         "marker": {
          "color": "#ab63fa",
          "symbol": "circle"
         },
         "mode": "markers",
         "name": "Saint Lucia",
         "showlegend": true,
         "type": "scattergl",
         "x": [
          0.176,
          0.177,
          0.178,
          0.178,
          0.179,
          0.18,
          0.181,
          0.182,
          0.183
         ],
         "xaxis": "x",
         "y": [
          0,
          0,
          0,
          0,
          0.00558659217877095,
          0.005555555555555556,
          0.005524861878453039,
          0.016483516483516484,
          0.01639344262295082
         ],
         "yaxis": "y"
        },
        {
         "hovertemplate": "color=Saint Pierre and Miquelon<br>x=%{x}<br>y=%{y}<extra></extra>",
         "legendgroup": "Saint Pierre and Miquelon",
         "marker": {
          "color": "#FFA15A",
          "symbol": "circle"
         },
         "mode": "markers",
         "name": "Saint Pierre and Miquelon",
         "showlegend": true,
         "type": "scattergl",
         "x": [
          0.006,
          0.006,
          0.006,
          0.006,
          0.006,
          0.006,
          0.006,
          0.006,
          0.006
         ],
         "xaxis": "x",
         "y": [
          0.3333333333333333,
          0.3333333333333333,
          0.3333333333333333,
          0,
          0,
          0,
          0,
          0,
          0
         ],
         "yaxis": "y"
        },
        {
         "hovertemplate": "color=Saint Vincent and the Grenadines<br>x=%{x}<br>y=%{y}<extra></extra>",
         "legendgroup": "Saint Vincent and the Grenadines",
         "marker": {
          "color": "#19d3f3",
          "symbol": "circle"
         },
         "mode": "markers",
         "name": "Saint Vincent and the Grenadines",
         "showlegend": true,
         "type": "scattergl",
         "x": [
          0.108,
          0.108,
          0.109,
          0.109,
          0.109,
          0.109,
          0.11,
          0.11,
          0.111
         ],
         "xaxis": "x",
         "y": [
          0.2314814814814815,
          0.2314814814814815,
          0.2110091743119266,
          0.11009174311926606,
          0.16513761467889906,
          0.1559633027522936,
          0.19090909090909092,
          0.2272727272727273,
          0.22522522522522523
         ],
         "yaxis": "y"
        },
        {
         "hovertemplate": "color=Samoa<br>x=%{x}<br>y=%{y}<extra></extra>",
         "legendgroup": "Samoa",
         "marker": {
          "color": "#FF6692",
          "symbol": "circle"
         },
         "mode": "markers",
         "name": "Samoa",
         "showlegend": true,
         "type": "scattergl",
         "x": [
          0.187,
          0.189,
          0.191,
          0.192,
          0.194,
          0.195,
          0.195,
          0.196,
          0.197
         ],
         "xaxis": "x",
         "y": [
          0.29411764705882354,
          0.19576719576719576,
          0.16753926701570682,
          0.15625,
          0.15979381443298968,
          0.15897435897435896,
          0.1794871794871795,
          0.21938775510204078,
          0.23857868020304568
         ],
         "yaxis": "y"
        },
        {
         "hovertemplate": "color=Sao Tome and Principe<br>x=%{x}<br>y=%{y}<extra></extra>",
         "legendgroup": "Sao Tome and Principe",
         "marker": {
          "color": "#B6E880",
          "symbol": "circle"
         },
         "mode": "markers",
         "name": "Sao Tome and Principe",
         "showlegend": true,
         "type": "scattergl",
         "x": [
          0.185,
          0.188,
          0.192,
          0.196,
          0.199,
          0.203,
          0.207,
          0.211,
          0.215
         ],
         "xaxis": "x",
         "y": [
          0.032432432432432434,
          0.031914893617021274,
          0.03125,
          0.030612244897959183,
          0.04020100502512563,
          0.034482758620689655,
          0.03381642512077295,
          0.03317535545023697,
          0.03255813953488372
         ],
         "yaxis": "y"
        },
        {
         "hovertemplate": "color=Saudi Arabia<br>x=%{x}<br>y=%{y}<extra></extra>",
         "legendgroup": "Saudi Arabia",
         "marker": {
          "color": "#FF97FF",
          "symbol": "circle"
         },
         "mode": "markers",
         "name": "Saudi Arabia",
         "showlegend": true,
         "type": "scattergl",
         "x": [
          28.268,
          29.155,
          30.052,
          30.917,
          31.718,
          32.443,
          33.101,
          33.703,
          34.269
         ],
         "xaxis": "x",
         "y": [
          0,
          0.0008231864174241125,
          0.001297750565686144,
          0.0013584759193970954,
          0.0040670912415663035,
          0.003976204420059797,
          0.004833690825050603,
          0.00474735186778625,
          0.004668942776270098
         ],
         "yaxis": "y"
        },
        {
         "hovertemplate": "color=Senegal<br>x=%{x}<br>y=%{y}<extra></extra>",
         "legendgroup": "Senegal",
         "marker": {
          "color": "#FECB52",
          "symbol": "circle"
         },
         "mode": "markers",
         "name": "Senegal",
         "showlegend": true,
         "type": "scattergl",
         "x": [
          13.034,
          13.402,
          13.782,
          14.175,
          14.578,
          14.994,
          15.419,
          15.854,
          16.296
         ],
         "xaxis": "x",
         "y": [
          0.02562528770906859,
          0.02507088494254589,
          0.026701494703236104,
          0.027301587301587302,
          0.027918781725888325,
          0.02834467120181406,
          0.034502886049678966,
          0.03311467137630882,
          0.03313696612665685
         ],
         "yaxis": "y"
        },
        {
         "hovertemplate": "color=Serbia<br>x=%{x}<br>y=%{y}<extra></extra>",
         "legendgroup": "Serbia",
         "marker": {
          "color": "#636efa",
          "symbol": "circle"
         },
         "mode": "markers",
         "name": "Serbia",
         "showlegend": true,
         "type": "scattergl",
         "x": [
          8.964,
          8.94,
          8.919,
          8.898,
          8.877,
          8.854,
          8.83,
          8.803,
          8.772
         ],
         "xaxis": "x",
         "y": [
          0.9571619812583667,
          1.029082774049217,
          1.1352169525731584,
          1.2278040008990785,
          1.128534414779768,
          1.2152699344928846,
          1.0420158550396377,
          1.2271952743382937,
          1.2594619243046055
         ],
         "yaxis": "y"
        },
        {
         "hovertemplate": "color=Seychelles<br>x=%{x}<br>y=%{y}<extra></extra>",
         "legendgroup": "Seychelles",
         "marker": {
          "color": "#EF553B",
          "symbol": "circle"
         },
         "mode": "markers",
         "name": "Seychelles",
         "showlegend": true,
         "type": "scattergl",
         "x": [
          0.092,
          0.093,
          0.093,
          0.094,
          0.095,
          0.096,
          0.096,
          0.097,
          0.098
         ],
         "xaxis": "x",
         "y": [
          0,
          0,
          0.07526881720430108,
          0.0851063829787234,
          0.09473684210526315,
          0.020833333333333332,
          0.03125,
          0.05154639175257732,
          0.05102040816326531
         ],
         "yaxis": "y"
        },
        {
         "hovertemplate": "color=Sierra Leone<br>x=%{x}<br>y=%{y}<extra></extra>",
         "legendgroup": "Sierra Leone",
         "marker": {
          "color": "#00cc96",
          "symbol": "circle"
         },
         "mode": "markers",
         "name": "Sierra Leone",
         "showlegend": true,
         "type": "scattergl",
         "x": [
          6.563,
          6.713,
          6.864,
          7.017,
          7.172,
          7.329,
          7.488,
          7.65,
          7.813
         ],
         "xaxis": "x",
         "y": [
          0.022855401493219563,
          0.017279904662594967,
          0.015297202797202796,
          0.017528858486532704,
          0.017986614612381484,
          0.017874198389957702,
          0.018696581196581196,
          0.023529411764705882,
          0.024318443619608346
         ],
         "yaxis": "y"
        },
        {
         "hovertemplate": "color=Singapore<br>x=%{x}<br>y=%{y}<extra></extra>",
         "legendgroup": "Singapore",
         "marker": {
          "color": "#ab63fa",
          "symbol": "circle"
         },
         "mode": "markers",
         "name": "Singapore",
         "showlegend": true,
         "type": "scattergl",
         "x": [
          5.264,
          5.369,
          5.454,
          5.526,
          5.592,
          5.654,
          5.708,
          5.758,
          5.804
         ],
         "xaxis": "x",
         "y": [
          0.23043313069908816,
          0.23523933693425217,
          0.25192519251925194,
          0.2629388346000724,
          0.27825464949928475,
          0.2808631057658295,
          0.28538892782060266,
          0.2896839180270927,
          0.288249483115093
         ],
         "yaxis": "y"
        },
        {
         "hovertemplate": "color=Slovakia<br>x=%{x}<br>y=%{y}<extra></extra>",
         "legendgroup": "Slovakia",
         "marker": {
          "color": "#FFA15A",
          "symbol": "circle"
         },
         "mode": "markers",
         "name": "Slovakia",
         "showlegend": true,
         "type": "scattergl",
         "x": [
          5.409,
          5.415,
          5.422,
          5.429,
          5.436,
          5.442,
          5.448,
          5.453,
          5.457
         ],
         "xaxis": "x",
         "y": [
          3.773340728415604,
          3.872391505078486,
          4.071007008483955,
          4.00221035181433,
          3.8973509933774833,
          3.9329290701947808,
          3.9671439060205578,
          3.786722904823033,
          4.137071651090343
         ],
         "yaxis": "y"
        },
        {
         "hovertemplate": "color=Slovenia<br>x=%{x}<br>y=%{y}<extra></extra>",
         "legendgroup": "Slovenia",
         "marker": {
          "color": "#19d3f3",
          "symbol": "circle"
         },
         "mode": "markers",
         "name": "Slovenia",
         "showlegend": true,
         "type": "scattergl",
         "x": [
          2.051,
          2.058,
          2.063,
          2.067,
          2.071,
          2.074,
          2.076,
          2.078,
          2.079
         ],
         "xaxis": "x",
         "y": [
          4.921501706484641,
          4.789601554907677,
          5.04507998061076,
          6.278180938558297,
          4.8281023660067595,
          5.192864030858245,
          5.167630057803468,
          5.296920115495669,
          5.28042328042328
         ],
         "yaxis": "y"
        },
        {
         "hovertemplate": "color=Solomon Islands<br>x=%{x}<br>y=%{y}<extra></extra>",
         "legendgroup": "Solomon Islands",
         "marker": {
          "color": "#FF6692",
          "symbol": "circle"
         },
         "mode": "markers",
         "name": "Solomon Islands",
         "showlegend": true,
         "type": "scattergl",
         "x": [
          0.542,
          0.556,
          0.571,
          0.587,
          0.603,
          0.619,
          0.636,
          0.653,
          0.67
         ],
         "xaxis": "x",
         "y": [
          0.007380073800738007,
          0.007194244604316546,
          0.007005253940455342,
          0.008517887563884158,
          0.009950248756218905,
          0.009693053311793215,
          0.0110062893081761,
          0.009188361408882082,
          0.007462686567164179
         ],
         "yaxis": "y"
        },
        {
         "hovertemplate": "color=Somalia<br>x=%{x}<br>y=%{y}<extra></extra>",
         "legendgroup": "Somalia",
         "marker": {
          "color": "#B6E880",
          "symbol": "circle"
         },
         "mode": "markers",
         "name": "Somalia",
         "showlegend": true,
         "type": "scattergl",
         "x": [
          12.376,
          12.715,
          13.064,
          13.424,
          13.797,
          14.186,
          14.589,
          15.008,
          15.443
         ],
         "xaxis": "x",
         "y": [
          0,
          0.00031458906802988597,
          0.0003061849357011635,
          0.000297973778307509,
          0.00036239762267159525,
          0.0008459044128013535,
          0.0011652614983891974,
          0.0011327292110874202,
          0.001100822379071424
         ],
         "yaxis": "y"
        },
        {
         "hovertemplate": "color=South Africa<br>x=%{x}<br>y=%{y}<extra></extra>",
         "legendgroup": "South Africa",
         "marker": {
          "color": "#FF97FF",
          "symbol": "circle"
         },
         "mode": "markers",
         "name": "South Africa",
         "showlegend": true,
         "type": "scattergl",
         "x": [
          52.004,
          52.833,
          53.687,
          54.544,
          55.386,
          56.208,
          57.01,
          57.793,
          58.558
         ],
         "xaxis": "x",
         "y": [
          0.2957272517498654,
          0.2652130297352034,
          0.282042207610781,
          0.3326122029920798,
          0.3028743725851298,
          0.40855394249928834,
          0.44143132783722155,
          0.3946498710916547,
          0.45348201782847775
         ],
         "yaxis": "y"
        },
        {
         "hovertemplate": "color=South Korea<br>x=%{x}<br>y=%{y}<extra></extra>",
         "legendgroup": "South Korea",
         "marker": {
          "color": "#FECB52",
          "symbol": "circle"
         },
         "mode": "markers",
         "name": "South Korea",
         "showlegend": true,
         "type": "scattergl",
         "x": [
          49.786,
          50.061,
          50.346,
          50.608,
          50.823,
          50.983,
          51.096,
          51.172,
          51.225
         ],
         "xaxis": "x",
         "y": [
          3.133712288595187,
          3.025948343021514,
          2.8256465260398045,
          3.145767467594056,
          3.330677055663774,
          3.3703195182707963,
          3.1741036480350715,
          2.985050418197452,
          3.319043435822352
         ],
         "yaxis": "y"
        },
        {
         "hovertemplate": "color=South Sudan<br>x=%{x}<br>y=%{y}<extra></extra>",
         "legendgroup": "South Sudan",
         "marker": {
          "color": "#636efa",
          "symbol": "circle"
         },
         "mode": "markers",
         "name": "South Sudan",
         "showlegend": true,
         "type": "scattergl",
         "x": [
          9.831,
          10.114,
          10.355,
          10.555,
          10.716,
          10.833,
          10.911,
          10.976,
          11.062
         ],
         "xaxis": "x",
         "y": [
          0,
          0.00019774569903104606,
          0.00019314340898116852,
          0.00018948365703458077,
          0.00018663680477790223,
          0.00018462106526354657,
          0.00027495188342040145,
          0.00027332361516034986,
          0.0002711986982462484
         ],
         "yaxis": "y"
        },
        {
         "hovertemplate": "color=Spain<br>x=%{x}<br>y=%{y}<extra></extra>",
         "legendgroup": "Spain",
         "marker": {
          "color": "#EF553B",
          "symbol": "circle"
         },
         "mode": "markers",
         "name": "Spain",
         "showlegend": true,
         "type": "scattergl",
         "x": [
          47.084,
          47.063,
          46.931,
          46.778,
          46.672,
          46.634,
          46.647,
          46.693,
          46.737
         ],
         "xaxis": "x",
         "y": [
          3.0846996856681677,
          3.1539000913668906,
          3.582536063582707,
          3.582303647013554,
          3.3057079190949605,
          3.5010078483509885,
          3.129097262417733,
          3.4191634720407773,
          3.3967948306480946
         ],
         "yaxis": "y"
        },
        {
         "hovertemplate": "color=Sri Lanka<br>x=%{x}<br>y=%{y}<extra></extra>",
         "legendgroup": "Sri Lanka",
         "marker": {
          "color": "#00cc96",
          "symbol": "circle"
         },
         "mode": "markers",
         "name": "Sri Lanka",
         "showlegend": true,
         "type": "scattergl",
         "x": [
          20.398,
          20.533,
          20.663,
          20.789,
          20.908,
          21.021,
          21.128,
          21.229,
          21.324
         ],
         "xaxis": "x",
         "y": [
          0.23110108834199433,
          0.16772999561681196,
          0.3450612205391279,
          0.23267112415219585,
          0.30275492634398316,
          0.21973264830407685,
          0.21554335478985234,
          0.32342550284987515,
          0.3429938097917839
         ],
         "yaxis": "y"
        },
        {
         "hovertemplate": "color=Sudan<br>x=%{x}<br>y=%{y}<extra></extra>",
         "legendgroup": "Sudan",
         "marker": {
          "color": "#ab63fa",
          "symbol": "circle"
         },
         "mode": "markers",
         "name": "Sudan",
         "showlegend": true,
         "type": "scattergl",
         "x": [
          35.35,
          36.194,
          37.073,
          37.978,
          38.903,
          39.847,
          40.813,
          41.802,
          42.813
         ],
         "xaxis": "x",
         "y": [
          0.18463932107496464,
          0.18461623473503896,
          0.2260674884686969,
          0.23574174522091734,
          0.21746394879572273,
          0.20325244058523853,
          0.2300982530076201,
          0.23199846897277643,
          0.23611987013290353
         ],
         "yaxis": "y"
        },
        {
         "hovertemplate": "color=Suriname<br>x=%{x}<br>y=%{y}<extra></extra>",
         "legendgroup": "Suriname",
         "marker": {
          "color": "#FFA15A",
          "symbol": "circle"
         },
         "mode": "markers",
         "name": "Suriname",
         "showlegend": true,
         "type": "scattergl",
         "x": [
          0.535,
          0.541,
          0.547,
          0.553,
          0.559,
          0.565,
          0.571,
          0.576,
          0.581
         ],
         "xaxis": "x",
         "y": [
          1.9271028037383175,
          1.5249537892791125,
          1.5173674588665447,
          1.0162748643761301,
          0.8640429338103756,
          1.4000000000000001,
          1.6322241681260947,
          1.746527777777778,
          2.032702237521515
         ],
         "yaxis": "y"
        },
        {
         "hovertemplate": "color=Sweden<br>x=%{x}<br>y=%{y}<extra></extra>",
         "legendgroup": "Sweden",
         "marker": {
          "color": "#19d3f3",
          "symbol": "circle"
         },
         "mode": "markers",
         "name": "Sweden",
         "showlegend": true,
         "type": "scattergl",
         "x": [
          9.467,
          9.543,
          9.618,
          9.692,
          9.765,
          9.836,
          9.905,
          9.972,
          10.036
         ],
         "xaxis": "x",
         "y": [
          15.270201753459384,
          17.01205071780363,
          15.50686213349969,
          15.540445728435822,
          16.266666666666666,
          15.476616510776738,
          16.22958101968703,
          16.015042117930204,
          16.634515743324034
         ],
         "yaxis": "y"
        },
        {
         "hovertemplate": "color=Switzerland<br>x=%{x}<br>y=%{y}<extra></extra>",
         "legendgroup": "Switzerland",
         "marker": {
          "color": "#FF6692",
          "symbol": "circle"
         },
         "mode": "markers",
         "name": "Switzerland",
         "showlegend": true,
         "type": "scattergl",
         "x": [
          7.907,
          8.008,
          8.109,
          8.206,
          8.297,
          8.38,
          8.456,
          8.526,
          8.591
         ],
         "xaxis": "x",
         "y": [
          7.655368660680409,
          8.215784215784216,
          8.189295844123812,
          8.29575920058494,
          7.723514523321681,
          7.042840095465393,
          6.890610217596973,
          7.539408866995075,
          7.983936677918753
         ],
         "yaxis": "y"
        },
        {
         "hovertemplate": "color=Syria<br>x=%{x}<br>y=%{y}<extra></extra>",
         "legendgroup": "Syria",
         "marker": {
          "color": "#B6E880",
          "symbol": "circle"
         },
         "mode": "markers",
         "name": "Syria",
         "showlegend": true,
         "type": "scattergl",
         "x": [
          21.082,
          20.439,
          19.578,
          18.711,
          17.997,
          17.466,
          17.096,
          16.945,
          17.07
         ],
         "xaxis": "x",
         "y": [
          0.15572526325775543,
          0.1584226234160184,
          0.15338645418326693,
          0.1255945700390145,
          0.024559648830360617,
          0.05456315126531546,
          0.04556621431913898,
          0.0459722632044851,
          0.052255418863503225
         ],
         "yaxis": "y"
        },
        {
         "hovertemplate": "color=Taiwan<br>x=%{x}<br>y=%{y}<extra></extra>",
         "legendgroup": "Taiwan",
         "marker": {
          "color": "#FF97FF",
          "symbol": "circle"
         },
         "mode": "markers",
         "name": "Taiwan",
         "showlegend": true,
         "type": "scattergl",
         "x": [
          23.269,
          23.347,
          23.422,
          23.492,
          23.557,
          23.618,
          23.675,
          23.726,
          23.774
         ],
         "xaxis": "x",
         "y": [
          2.128368215221969,
          2.117959480875487,
          2.1752625736487063,
          2.164736931721437,
          1.9443902024875834,
          1.8297061563214498,
          1.4339598732840548,
          1.6569164629520357,
          1.9560023555144275
         ],
         "yaxis": "y"
        },
        {
         "hovertemplate": "color=Tajikistan<br>x=%{x}<br>y=%{y}<extra></extra>",
         "legendgroup": "Tajikistan",
         "marker": {
          "color": "#FECB52",
          "symbol": "circle"
         },
         "mode": "markers",
         "name": "Tajikistan",
         "showlegend": true,
         "type": "scattergl",
         "x": [
          7.698,
          7.875,
          8.06,
          8.253,
          8.454,
          8.664,
          8.88,
          9.101,
          9.321
         ],
         "xaxis": "x",
         "y": [
          2.083398285268901,
          2.124571428571429,
          2.096774193548387,
          1.9193020719738276,
          1.990773598296664,
          1.9005078485687905,
          1.910135135135135,
          2.0008790242830456,
          2.0359403497478814
         ],
         "yaxis": "y"
        },
        {
         "hovertemplate": "color=Tanzania<br>x=%{x}<br>y=%{y}<extra></extra>",
         "legendgroup": "Tanzania",
         "marker": {
          "color": "#636efa",
          "symbol": "circle"
         },
         "mode": "markers",
         "name": "Tanzania",
         "showlegend": true,
         "type": "scattergl",
         "x": [
          45.674,
          47.053,
          48.483,
          49.961,
          51.483,
          53.049,
          54.66,
          56.313,
          58.005
         ],
         "xaxis": "x",
         "y": [
          0.04488330341113106,
          0.03867978662359468,
          0.036775777076501044,
          0.0529012629851284,
          0.04207214031816328,
          0.04607061396067786,
          0.04460300036589829,
          0.04212171257080958,
          0.04165158176019308
         ],
         "yaxis": "y"
        },
        {
         "hovertemplate": "color=Thailand<br>x=%{x}<br>y=%{y}<extra></extra>",
         "legendgroup": "Thailand",
         "marker": {
          "color": "#EF553B",
          "symbol": "circle"
         },
         "mode": "markers",
         "name": "Thailand",
         "showlegend": true,
         "type": "scattergl",
         "x": [
          67.518,
          67.836,
          68.145,
          68.439,
          68.715,
          68.971,
          69.21,
          69.428,
          69.626
         ],
         "xaxis": "x",
         "y": [
          0.18473592227257918,
          0.20204611120938734,
          0.2022305378237582,
          0.2095881003521384,
          0.20186276649930873,
          0.3664148700178335,
          0.37195491980927614,
          0.43204470818689866,
          0.48678654525608245
         ],
         "yaxis": "y"
        },
        {
         "hovertemplate": "color=Togo<br>x=%{x}<br>y=%{y}<extra></extra>",
         "legendgroup": "Togo",
         "marker": {
          "color": "#00cc96",
          "symbol": "circle"
         },
         "mode": "markers",
         "name": "Togo",
         "showlegend": true,
         "type": "scattergl",
         "x": [
          6.596,
          6.774,
          6.955,
          7.138,
          7.323,
          7.51,
          7.698,
          7.889,
          8.082
         ],
         "xaxis": "x",
         "y": [
          0.01682838083687083,
          0.013876586950103336,
          0.005751258087706686,
          0.016811431773606052,
          0.008056807319404615,
          0.027563249001331558,
          0.013639906469212782,
          0.0008873114463176575,
          0.0003711952487008166
         ],
         "yaxis": "y"
        },
        {
         "hovertemplate": "color=Tonga<br>x=%{x}<br>y=%{y}<extra></extra>",
         "legendgroup": "Tonga",
         "marker": {
          "color": "#ab63fa",
          "symbol": "circle"
         },
         "mode": "markers",
         "name": "Tonga",
         "showlegend": true,
         "type": "scattergl",
         "x": [
          0.104,
          0.103,
          0.102,
          0.101,
          0.101,
          0.101,
          0.102,
          0.103,
          0.104
         ],
         "xaxis": "x",
         "y": [
          0,
          0,
          0,
          0,
          0,
          0,
          0,
          0,
          0
         ],
         "yaxis": "y"
        },
        {
         "hovertemplate": "color=Trinidad and Tobago<br>x=%{x}<br>y=%{y}<extra></extra>",
         "legendgroup": "Trinidad and Tobago",
         "marker": {
          "color": "#FFA15A",
          "symbol": "circle"
         },
         "mode": "markers",
         "name": "Trinidad and Tobago",
         "showlegend": true,
         "type": "scattergl",
         "x": [
          1.336,
          1.345,
          1.354,
          1.362,
          1.37,
          1.378,
          1.384,
          1.39,
          1.395
         ],
         "xaxis": "x",
         "y": [
          0.002994011976047904,
          0.002973977695167286,
          0.002954209748892171,
          0.002936857562408223,
          0.0036496350364963502,
          0.0036284470246734403,
          0.0036127167630057807,
          0.0035971223021582736,
          0.0035842293906810036
         ],
         "yaxis": "y"
        },
        {
         "hovertemplate": "color=Tunisia<br>x=%{x}<br>y=%{y}<extra></extra>",
         "legendgroup": "Tunisia",
         "marker": {
          "color": "#19d3f3",
          "symbol": "circle"
         },
         "mode": "markers",
         "name": "Tunisia",
         "showlegend": true,
         "type": "scattergl",
         "x": [
          10.742,
          10.847,
          10.953,
          11.063,
          11.18,
          11.304,
          11.433,
          11.565,
          11.695
         ],
         "xaxis": "x",
         "y": [
          0.015453360640476633,
          0.028579330690513507,
          0.039532548160321375,
          0.05414444544879327,
          0.05214669051878354,
          0.05555555555555555,
          0.05239219802326598,
          0.05568525724167748,
          0.06318939717828131
         ],
         "yaxis": "y"
        },
        {
         "hovertemplate": "color=Turkey<br>x=%{x}<br>y=%{y}<extra></extra>",
         "legendgroup": "Turkey",
         "marker": {
          "color": "#FF6692",
          "symbol": "circle"
         },
         "mode": "markers",
         "name": "Turkey",
         "showlegend": true,
         "type": "scattergl",
         "x": [
          73.443,
          74.651,
          75.925,
          77.229,
          78.529,
          79.828,
          81.116,
          82.34,
          83.43
         ],
         "xaxis": "x",
         "y": [
          0.7751181188132293,
          0.8572289721504066,
          0.896766545933487,
          0.669528286006552,
          1.0479313374676873,
          1.120283609760986,
          1.0660165688643424,
          1.1742773864464415,
          1.5606616325062925
         ],
         "yaxis": "y"
        },
        {
         "hovertemplate": "color=Turkmenistan<br>x=%{x}<br>y=%{y}<extra></extra>",
         "legendgroup": "Turkmenistan",
         "marker": {
          "color": "#B6E880",
          "symbol": "circle"
         },
         "mode": "markers",
         "name": "Turkmenistan",
         "showlegend": true,
         "type": "scattergl",
         "x": [
          5.174,
          5.268,
          5.366,
          5.466,
          5.565,
          5.662,
          5.758,
          5.851,
          5.942
         ],
         "xaxis": "x",
         "y": [
          0.0005798221878623889,
          0.0005694760820045559,
          0.0005590756615728663,
          0.0005488474204171241,
          0.0005390835579514824,
          0.0005298481102084069,
          0.0005210142410559222,
          0.0005127328661767219,
          0
         ],
         "yaxis": "y"
        },
        {
         "hovertemplate": "color=Turks and Caicos Islands<br>x=%{x}<br>y=%{y}<extra></extra>",
         "legendgroup": "Turks and Caicos Islands",
         "marker": {
          "color": "#FF97FF",
          "symbol": "circle"
         },
         "mode": "markers",
         "name": "Turks and Caicos Islands",
         "showlegend": true,
         "type": "scattergl",
         "x": [
          0.033,
          0.034,
          0.035,
          0.035,
          0.036,
          0.037,
          0.037,
          0.038,
          0.038
         ],
         "xaxis": "x",
         "y": [
          0,
          0,
          0,
          0,
          0,
          0,
          0,
          0,
          0
         ],
         "yaxis": "y"
        },
        {
         "hovertemplate": "color=Uganda<br>x=%{x}<br>y=%{y}<extra></extra>",
         "legendgroup": "Uganda",
         "marker": {
          "color": "#FECB52",
          "symbol": "circle"
         },
         "mode": "markers",
         "name": "Uganda",
         "showlegend": true,
         "type": "scattergl",
         "x": [
          33.477,
          34.559,
          35.695,
          36.912,
          38.225,
          39.649,
          41.167,
          42.729,
          44.27
         ],
         "xaxis": "x",
         "y": [
          0.05293186366759268,
          0.05335802540582772,
          0.07788205631040761,
          0.08241222366710013,
          0.07678221059516023,
          0.09624454589018638,
          0.09648504870405908,
          0.09780242926349787,
          0.10345606505534222
         ],
         "yaxis": "y"
        },
        {
         "hovertemplate": "color=Ukraine<br>x=%{x}<br>y=%{y}<extra></extra>",
         "legendgroup": "Ukraine",
         "marker": {
          "color": "#636efa",
          "symbol": "circle"
         },
         "mode": "markers",
         "name": "Ukraine",
         "showlegend": true,
         "type": "scattergl",
         "x": [
          45.62,
          45.454,
          45.287,
          45.112,
          44.922,
          44.714,
          44.488,
          44.246,
          43.994
         ],
         "xaxis": "x",
         "y": [
          2.1040113985094258,
          2.11228934747217,
          2.052995340826286,
          2.0661021457705266,
          1.9912960242197588,
          1.9066287963501365,
          2.0498786189534255,
          2.1041224065452244,
          2.013365458926217
         ],
         "yaxis": "y"
        },
        {
         "hovertemplate": "color=United Arab Emirates<br>x=%{x}<br>y=%{y}<extra></extra>",
         "legendgroup": "United Arab Emirates",
         "marker": {
          "color": "#EF553B",
          "symbol": "circle"
         },
         "mode": "markers",
         "name": "United Arab Emirates",
         "showlegend": true,
         "type": "scattergl",
         "x": [
          8.947,
          9.142,
          9.198,
          9.214,
          9.263,
          9.361,
          9.487,
          9.631,
          9.771
         ],
         "xaxis": "x",
         "y": [
          0.0038001564770314077,
          0.003828483920367535,
          0.010980647966949336,
          0.03353592359453006,
          0.03281874122854367,
          0.0337570772353381,
          0.07810688310319384,
          0.13601910497352301,
          0.4274895097738204
         ],
         "yaxis": "y"
        },
        {
         "hovertemplate": "color=United Kingdom<br>x=%{x}<br>y=%{y}<extra></extra>",
         "legendgroup": "United Kingdom",
         "marker": {
          "color": "#00cc96",
          "symbol": "circle"
         },
         "mode": "markers",
         "name": "United Kingdom",
         "showlegend": true,
         "type": "scattergl",
         "x": [
          64.022,
          64.525,
          64.984,
          65.423,
          65.86,
          66.298,
          66.727,
          67.142,
          67.53
         ],
         "xaxis": "x",
         "y": [
          1.6274561869357407,
          1.7303990701278573,
          1.905407484919365,
          1.9606407532519141,
          2.3219101123595505,
          2.3127997827988778,
          2.5083549387804034,
          2.5795180364004646,
          2.5841699985191764
         ],
         "yaxis": "y"
        },
        {
         "hovertemplate": "color=United States<br>x=%{x}<br>y=%{y}<extra></extra>",
         "legendgroup": "United States",
         "marker": {
          "color": "#ab63fa",
          "symbol": "circle"
         },
         "mode": "markers",
         "name": "United States",
         "showlegend": true,
         "type": "scattergl",
         "x": [
          311.584,
          314.044,
          316.400992,
          318.672992,
          320.878016,
          323.016,
          325.084992,
          327.096,
          329.064992
         ],
         "xaxis": "x",
         "y": [
          4.162986546164116,
          4.0088458942059075,
          4.128966194897393,
          4.20746041760577,
          4.2086616491670155,
          4.418558213834609,
          4.6420352742706745,
          4.700720889280211,
          4.761375527907872
         ],
         "yaxis": "y"
        },
        {
         "hovertemplate": "color=United States Virgin Islands<br>x=%{x}<br>y=%{y}<extra></extra>",
         "legendgroup": "United States Virgin Islands",
         "marker": {
          "color": "#FFA15A",
          "symbol": "circle"
         },
         "mode": "markers",
         "name": "United States Virgin Islands",
         "showlegend": true,
         "type": "scattergl",
         "x": [
          0.106,
          0.106,
          0.105,
          0.105,
          0.105,
          0.105,
          0.105,
          0.105,
          0.105
         ],
         "xaxis": "x",
         "y": [
          0.009433962264150943,
          0.009433962264150943,
          0.009523809523809525,
          0.06666666666666667,
          0.12380952380952381,
          0.12380952380952381,
          0.06666666666666667,
          0.06666666666666667,
          0.06666666666666667
         ],
         "yaxis": "y"
        },
        {
         "hovertemplate": "color=Uruguay<br>x=%{x}<br>y=%{y}<extra></extra>",
         "legendgroup": "Uruguay",
         "marker": {
          "color": "#19d3f3",
          "symbol": "circle"
         },
         "mode": "markers",
         "name": "Uruguay",
         "showlegend": true,
         "type": "scattergl",
         "x": [
          3.369,
          3.379,
          3.389,
          3.4,
          3.412,
          3.424,
          3.437,
          3.449,
          3.462
         ],
         "xaxis": "x",
         "y": [
          2.272187592757495,
          2.0118378218407815,
          2.8704632634995577,
          3.5920588235294115,
          3.7233294255568583,
          3.9024532710280373,
          4.089031131800989,
          4.115105827776167,
          4.540150202195263
         ],
         "yaxis": "y"
        },
        {
         "hovertemplate": "color=Uzbekistan<br>x=%{x}<br>y=%{y}<extra></extra>",
         "legendgroup": "Uzbekistan",
         "marker": {
          "color": "#FF6692",
          "symbol": "circle"
         },
         "mode": "markers",
         "name": "Uzbekistan",
         "showlegend": true,
         "type": "scattergl",
         "x": [
          28.977,
          29.449,
          29.933,
          30.426,
          30.93,
          31.442,
          31.96,
          32.476,
          32.982
         ],
         "xaxis": "x",
         "y": [
          0.19484418676881665,
          0.2236408706577473,
          0.18872147796746067,
          0.1977256293959114,
          0.22631749110895572,
          0.23086953756122386,
          0.2612327909887359,
          0.17997906146077103,
          0.1654842035049421
         ],
         "yaxis": "y"
        },
        {
         "hovertemplate": "color=Vanuatu<br>x=%{x}<br>y=%{y}<extra></extra>",
         "legendgroup": "Vanuatu",
         "marker": {
          "color": "#B6E880",
          "symbol": "circle"
         },
         "mode": "markers",
         "name": "Vanuatu",
         "showlegend": true,
         "type": "scattergl",
         "x": [
          0.243,
          0.25,
          0.257,
          0.264,
          0.271,
          0.278,
          0.285,
          0.293,
          0.3
         ],
         "xaxis": "x",
         "y": [
          0.0205761316872428,
          0.032,
          0.03501945525291828,
          0.03787878787878788,
          0.047970479704797044,
          0.03597122302158273,
          0.031578947368421054,
          0.034129692832764506,
          0.03333333333333333
         ],
         "yaxis": "y"
        },
        {
         "hovertemplate": "color=Venezuela<br>x=%{x}<br>y=%{y}<extra></extra>",
         "legendgroup": "Venezuela",
         "marker": {
          "color": "#FF97FF",
          "symbol": "circle"
         },
         "mode": "markers",
         "name": "Venezuela",
         "showlegend": true,
         "type": "scattergl",
         "x": [
          28.888,
          29.361,
          29.781,
          30.043,
          30.082,
          29.851,
          29.402,
          28.887,
          28.516
         ],
         "xaxis": "x",
         "y": [
          2.8674536139573523,
          2.766322672933483,
          2.779792485141533,
          2.1209932430183405,
          2.4675221062429356,
          2.090616729757797,
          2.03999727909666,
          1.9955689410461452,
          1.8276756908402303
         ],
         "yaxis": "y"
        },
        {
         "hovertemplate": "color=Vietnam<br>x=%{x}<br>y=%{y}<extra></extra>",
         "legendgroup": "Vietnam",
         "marker": {
          "color": "#FECB52",
          "symbol": "circle"
         },
         "mode": "markers",
         "name": "Vietnam",
         "showlegend": true,
         "type": "scattergl",
         "x": [
          88.871,
          89.802,
          90.753,
          91.714,
          92.677,
          93.64,
          94.601,
          95.546,
          96.462
         ],
         "xaxis": "x",
         "y": [
          0.4575620843694794,
          0.5836952406405203,
          0.5684219805405881,
          0.6476219552085832,
          0.612913667900342,
          0.6979709525843657,
          0.9355080813099227,
          0.8784250518075063,
          0.7691007858016627
         ],
         "yaxis": "y"
        },
        {
         "hovertemplate": "color=Yemen<br>x=%{x}<br>y=%{y}<extra></extra>",
         "legendgroup": "Yemen",
         "marker": {
          "color": "#636efa",
          "symbol": "circle"
         },
         "mode": "markers",
         "name": "Yemen",
         "showlegend": true,
         "type": "scattergl",
         "x": [
          23.808,
          24.473,
          25.147,
          25.823,
          26.498,
          27.168,
          27.835,
          28.499,
          29.162
         ],
         "xaxis": "x",
         "y": [
          0.00008400537634408603,
          0.0001225840722428799,
          0.0001590646995665487,
          0.00034852650737714436,
          0.004151256698618763,
          0.00541077738515901,
          0.00657445661936411,
          0.016070739324186813,
          0.01714560043892737
         ],
         "yaxis": "y"
        },
        {
         "hovertemplate": "color=Zambia<br>x=%{x}<br>y=%{y}<extra></extra>",
         "legendgroup": "Zambia",
         "marker": {
          "color": "#EF553B",
          "symbol": "circle"
         },
         "mode": "markers",
         "name": "Zambia",
         "showlegend": true,
         "type": "scattergl",
         "x": [
          14.023,
          14.465,
          14.927,
          15.4,
          15.879,
          16.363,
          16.854,
          17.352,
          17.861
         ],
         "xaxis": "x",
         "y": [
          0.8153034300791557,
          0.8499135845143451,
          0.8852415086755544,
          0.9073376623376623,
          0.8174318282007683,
          0.671698343824482,
          0.7383410466358136,
          0.7857883817427386,
          0.7756004702984155
         ],
         "yaxis": "y"
        },
        {
         "hovertemplate": "color=Zimbabwe<br>x=%{x}<br>y=%{y}<extra></extra>",
         "legendgroup": "Zimbabwe",
         "marker": {
          "color": "#00cc96",
          "symbol": "circle"
         },
         "mode": "markers",
         "name": "Zimbabwe",
         "showlegend": true,
         "type": "scattergl",
         "x": [
          12.894,
          13.115,
          13.35,
          13.587,
          13.815,
          14.03,
          14.237,
          14.439,
          14.645
         ],
         "xaxis": "x",
         "y": [
          0.40949278734295025,
          0.4198246282882196,
          0.3831460674157304,
          0.4067122985206447,
          0.3674267100977199,
          0.22173913043478263,
          0.28734986303294235,
          0.36020500034628433,
          0.3578695800614544
         ],
         "yaxis": "y"
        }
       ],
       "layout": {
        "legend": {
         "title": {
          "text": "color"
         },
         "tracegroupgap": 0
        },
        "margin": {
         "t": 60
        },
        "template": {
         "data": {
          "bar": [
           {
            "error_x": {
             "color": "#2a3f5f"
            },
            "error_y": {
             "color": "#2a3f5f"
            },
            "marker": {
             "line": {
              "color": "#E5ECF6",
              "width": 0.5
             },
             "pattern": {
              "fillmode": "overlay",
              "size": 10,
              "solidity": 0.2
             }
            },
            "type": "bar"
           }
          ],
          "barpolar": [
           {
            "marker": {
             "line": {
              "color": "#E5ECF6",
              "width": 0.5
             },
             "pattern": {
              "fillmode": "overlay",
              "size": 10,
              "solidity": 0.2
             }
            },
            "type": "barpolar"
           }
          ],
          "carpet": [
           {
            "aaxis": {
             "endlinecolor": "#2a3f5f",
             "gridcolor": "white",
             "linecolor": "white",
             "minorgridcolor": "white",
             "startlinecolor": "#2a3f5f"
            },
            "baxis": {
             "endlinecolor": "#2a3f5f",
             "gridcolor": "white",
             "linecolor": "white",
             "minorgridcolor": "white",
             "startlinecolor": "#2a3f5f"
            },
            "type": "carpet"
           }
          ],
          "choropleth": [
           {
            "colorbar": {
             "outlinewidth": 0,
             "ticks": ""
            },
            "type": "choropleth"
           }
          ],
          "contour": [
           {
            "colorbar": {
             "outlinewidth": 0,
             "ticks": ""
            },
            "colorscale": [
             [
              0,
              "#0d0887"
             ],
             [
              0.1111111111111111,
              "#46039f"
             ],
             [
              0.2222222222222222,
              "#7201a8"
             ],
             [
              0.3333333333333333,
              "#9c179e"
             ],
             [
              0.4444444444444444,
              "#bd3786"
             ],
             [
              0.5555555555555556,
              "#d8576b"
             ],
             [
              0.6666666666666666,
              "#ed7953"
             ],
             [
              0.7777777777777778,
              "#fb9f3a"
             ],
             [
              0.8888888888888888,
              "#fdca26"
             ],
             [
              1,
              "#f0f921"
             ]
            ],
            "type": "contour"
           }
          ],
          "contourcarpet": [
           {
            "colorbar": {
             "outlinewidth": 0,
             "ticks": ""
            },
            "type": "contourcarpet"
           }
          ],
          "heatmap": [
           {
            "colorbar": {
             "outlinewidth": 0,
             "ticks": ""
            },
            "colorscale": [
             [
              0,
              "#0d0887"
             ],
             [
              0.1111111111111111,
              "#46039f"
             ],
             [
              0.2222222222222222,
              "#7201a8"
             ],
             [
              0.3333333333333333,
              "#9c179e"
             ],
             [
              0.4444444444444444,
              "#bd3786"
             ],
             [
              0.5555555555555556,
              "#d8576b"
             ],
             [
              0.6666666666666666,
              "#ed7953"
             ],
             [
              0.7777777777777778,
              "#fb9f3a"
             ],
             [
              0.8888888888888888,
              "#fdca26"
             ],
             [
              1,
              "#f0f921"
             ]
            ],
            "type": "heatmap"
           }
          ],
          "heatmapgl": [
           {
            "colorbar": {
             "outlinewidth": 0,
             "ticks": ""
            },
            "colorscale": [
             [
              0,
              "#0d0887"
             ],
             [
              0.1111111111111111,
              "#46039f"
             ],
             [
              0.2222222222222222,
              "#7201a8"
             ],
             [
              0.3333333333333333,
              "#9c179e"
             ],
             [
              0.4444444444444444,
              "#bd3786"
             ],
             [
              0.5555555555555556,
              "#d8576b"
             ],
             [
              0.6666666666666666,
              "#ed7953"
             ],
             [
              0.7777777777777778,
              "#fb9f3a"
             ],
             [
              0.8888888888888888,
              "#fdca26"
             ],
             [
              1,
              "#f0f921"
             ]
            ],
            "type": "heatmapgl"
           }
          ],
          "histogram": [
           {
            "marker": {
             "pattern": {
              "fillmode": "overlay",
              "size": 10,
              "solidity": 0.2
             }
            },
            "type": "histogram"
           }
          ],
          "histogram2d": [
           {
            "colorbar": {
             "outlinewidth": 0,
             "ticks": ""
            },
            "colorscale": [
             [
              0,
              "#0d0887"
             ],
             [
              0.1111111111111111,
              "#46039f"
             ],
             [
              0.2222222222222222,
              "#7201a8"
             ],
             [
              0.3333333333333333,
              "#9c179e"
             ],
             [
              0.4444444444444444,
              "#bd3786"
             ],
             [
              0.5555555555555556,
              "#d8576b"
             ],
             [
              0.6666666666666666,
              "#ed7953"
             ],
             [
              0.7777777777777778,
              "#fb9f3a"
             ],
             [
              0.8888888888888888,
              "#fdca26"
             ],
             [
              1,
              "#f0f921"
             ]
            ],
            "type": "histogram2d"
           }
          ],
          "histogram2dcontour": [
           {
            "colorbar": {
             "outlinewidth": 0,
             "ticks": ""
            },
            "colorscale": [
             [
              0,
              "#0d0887"
             ],
             [
              0.1111111111111111,
              "#46039f"
             ],
             [
              0.2222222222222222,
              "#7201a8"
             ],
             [
              0.3333333333333333,
              "#9c179e"
             ],
             [
              0.4444444444444444,
              "#bd3786"
             ],
             [
              0.5555555555555556,
              "#d8576b"
             ],
             [
              0.6666666666666666,
              "#ed7953"
             ],
             [
              0.7777777777777778,
              "#fb9f3a"
             ],
             [
              0.8888888888888888,
              "#fdca26"
             ],
             [
              1,
              "#f0f921"
             ]
            ],
            "type": "histogram2dcontour"
           }
          ],
          "mesh3d": [
           {
            "colorbar": {
             "outlinewidth": 0,
             "ticks": ""
            },
            "type": "mesh3d"
           }
          ],
          "parcoords": [
           {
            "line": {
             "colorbar": {
              "outlinewidth": 0,
              "ticks": ""
             }
            },
            "type": "parcoords"
           }
          ],
          "pie": [
           {
            "automargin": true,
            "type": "pie"
           }
          ],
          "scatter": [
           {
            "fillpattern": {
             "fillmode": "overlay",
             "size": 10,
             "solidity": 0.2
            },
            "type": "scatter"
           }
          ],
          "scatter3d": [
           {
            "line": {
             "colorbar": {
              "outlinewidth": 0,
              "ticks": ""
             }
            },
            "marker": {
             "colorbar": {
              "outlinewidth": 0,
              "ticks": ""
             }
            },
            "type": "scatter3d"
           }
          ],
          "scattercarpet": [
           {
            "marker": {
             "colorbar": {
              "outlinewidth": 0,
              "ticks": ""
             }
            },
            "type": "scattercarpet"
           }
          ],
          "scattergeo": [
           {
            "marker": {
             "colorbar": {
              "outlinewidth": 0,
              "ticks": ""
             }
            },
            "type": "scattergeo"
           }
          ],
          "scattergl": [
           {
            "marker": {
             "colorbar": {
              "outlinewidth": 0,
              "ticks": ""
             }
            },
            "type": "scattergl"
           }
          ],
          "scattermapbox": [
           {
            "marker": {
             "colorbar": {
              "outlinewidth": 0,
              "ticks": ""
             }
            },
            "type": "scattermapbox"
           }
          ],
          "scatterpolar": [
           {
            "marker": {
             "colorbar": {
              "outlinewidth": 0,
              "ticks": ""
             }
            },
            "type": "scatterpolar"
           }
          ],
          "scatterpolargl": [
           {
            "marker": {
             "colorbar": {
              "outlinewidth": 0,
              "ticks": ""
             }
            },
            "type": "scatterpolargl"
           }
          ],
          "scatterternary": [
           {
            "marker": {
             "colorbar": {
              "outlinewidth": 0,
              "ticks": ""
             }
            },
            "type": "scatterternary"
           }
          ],
          "surface": [
           {
            "colorbar": {
             "outlinewidth": 0,
             "ticks": ""
            },
            "colorscale": [
             [
              0,
              "#0d0887"
             ],
             [
              0.1111111111111111,
              "#46039f"
             ],
             [
              0.2222222222222222,
              "#7201a8"
             ],
             [
              0.3333333333333333,
              "#9c179e"
             ],
             [
              0.4444444444444444,
              "#bd3786"
             ],
             [
              0.5555555555555556,
              "#d8576b"
             ],
             [
              0.6666666666666666,
              "#ed7953"
             ],
             [
              0.7777777777777778,
              "#fb9f3a"
             ],
             [
              0.8888888888888888,
              "#fdca26"
             ],
             [
              1,
              "#f0f921"
             ]
            ],
            "type": "surface"
           }
          ],
          "table": [
           {
            "cells": {
             "fill": {
              "color": "#EBF0F8"
             },
             "line": {
              "color": "white"
             }
            },
            "header": {
             "fill": {
              "color": "#C8D4E3"
             },
             "line": {
              "color": "white"
             }
            },
            "type": "table"
           }
          ]
         },
         "layout": {
          "annotationdefaults": {
           "arrowcolor": "#2a3f5f",
           "arrowhead": 0,
           "arrowwidth": 1
          },
          "autotypenumbers": "strict",
          "coloraxis": {
           "colorbar": {
            "outlinewidth": 0,
            "ticks": ""
           }
          },
          "colorscale": {
           "diverging": [
            [
             0,
             "#8e0152"
            ],
            [
             0.1,
             "#c51b7d"
            ],
            [
             0.2,
             "#de77ae"
            ],
            [
             0.3,
             "#f1b6da"
            ],
            [
             0.4,
             "#fde0ef"
            ],
            [
             0.5,
             "#f7f7f7"
            ],
            [
             0.6,
             "#e6f5d0"
            ],
            [
             0.7,
             "#b8e186"
            ],
            [
             0.8,
             "#7fbc41"
            ],
            [
             0.9,
             "#4d9221"
            ],
            [
             1,
             "#276419"
            ]
           ],
           "sequential": [
            [
             0,
             "#0d0887"
            ],
            [
             0.1111111111111111,
             "#46039f"
            ],
            [
             0.2222222222222222,
             "#7201a8"
            ],
            [
             0.3333333333333333,
             "#9c179e"
            ],
            [
             0.4444444444444444,
             "#bd3786"
            ],
            [
             0.5555555555555556,
             "#d8576b"
            ],
            [
             0.6666666666666666,
             "#ed7953"
            ],
            [
             0.7777777777777778,
             "#fb9f3a"
            ],
            [
             0.8888888888888888,
             "#fdca26"
            ],
            [
             1,
             "#f0f921"
            ]
           ],
           "sequentialminus": [
            [
             0,
             "#0d0887"
            ],
            [
             0.1111111111111111,
             "#46039f"
            ],
            [
             0.2222222222222222,
             "#7201a8"
            ],
            [
             0.3333333333333333,
             "#9c179e"
            ],
            [
             0.4444444444444444,
             "#bd3786"
            ],
            [
             0.5555555555555556,
             "#d8576b"
            ],
            [
             0.6666666666666666,
             "#ed7953"
            ],
            [
             0.7777777777777778,
             "#fb9f3a"
            ],
            [
             0.8888888888888888,
             "#fdca26"
            ],
            [
             1,
             "#f0f921"
            ]
           ]
          },
          "colorway": [
           "#636efa",
           "#EF553B",
           "#00cc96",
           "#ab63fa",
           "#FFA15A",
           "#19d3f3",
           "#FF6692",
           "#B6E880",
           "#FF97FF",
           "#FECB52"
          ],
          "font": {
           "color": "#2a3f5f"
          },
          "geo": {
           "bgcolor": "white",
           "lakecolor": "white",
           "landcolor": "#E5ECF6",
           "showlakes": true,
           "showland": true,
           "subunitcolor": "white"
          },
          "hoverlabel": {
           "align": "left"
          },
          "hovermode": "closest",
          "mapbox": {
           "style": "light"
          },
          "paper_bgcolor": "white",
          "plot_bgcolor": "#E5ECF6",
          "polar": {
           "angularaxis": {
            "gridcolor": "white",
            "linecolor": "white",
            "ticks": ""
           },
           "bgcolor": "#E5ECF6",
           "radialaxis": {
            "gridcolor": "white",
            "linecolor": "white",
            "ticks": ""
           }
          },
          "scene": {
           "xaxis": {
            "backgroundcolor": "#E5ECF6",
            "gridcolor": "white",
            "gridwidth": 2,
            "linecolor": "white",
            "showbackground": true,
            "ticks": "",
            "zerolinecolor": "white"
           },
           "yaxis": {
            "backgroundcolor": "#E5ECF6",
            "gridcolor": "white",
            "gridwidth": 2,
            "linecolor": "white",
            "showbackground": true,
            "ticks": "",
            "zerolinecolor": "white"
           },
           "zaxis": {
            "backgroundcolor": "#E5ECF6",
            "gridcolor": "white",
            "gridwidth": 2,
            "linecolor": "white",
            "showbackground": true,
            "ticks": "",
            "zerolinecolor": "white"
           }
          },
          "shapedefaults": {
           "line": {
            "color": "#2a3f5f"
           }
          },
          "ternary": {
           "aaxis": {
            "gridcolor": "white",
            "linecolor": "white",
            "ticks": ""
           },
           "baxis": {
            "gridcolor": "white",
            "linecolor": "white",
            "ticks": ""
           },
           "bgcolor": "#E5ECF6",
           "caxis": {
            "gridcolor": "white",
            "linecolor": "white",
            "ticks": ""
           }
          },
          "title": {
           "x": 0.05
          },
          "xaxis": {
           "automargin": true,
           "gridcolor": "white",
           "linecolor": "white",
           "ticks": "",
           "title": {
            "standoff": 15
           },
           "zerolinecolor": "white",
           "zerolinewidth": 2
          },
          "yaxis": {
           "automargin": true,
           "gridcolor": "white",
           "linecolor": "white",
           "ticks": "",
           "title": {
            "standoff": 15
           },
           "zerolinecolor": "white",
           "zerolinewidth": 2
          }
         }
        },
        "title": {
         "text": "Producción de electricidad low-carbon per capita en funcion de la población"
        },
        "xaxis": {
         "anchor": "y",
         "domain": [
          0,
          1
         ],
         "title": {
          "text": "Población (millones de habitantes)"
         }
        },
        "yaxis": {
         "anchor": "x",
         "domain": [
          0,
          1
         ],
         "title": {
          "text": "Producción per capita (teravatios-hora/habitante)"
         }
        }
       }
      }
     },
     "metadata": {},
     "output_type": "display_data"
    }
   ],
   "source": [
    "fig = px.scatter(x=wec[\"population\"], y=wec[\"lc_per_capita\"], color=wec[\"country\"])\n",
    "# Especificamos el diseño del gráfico\n",
    "fig.update_layout(\n",
    "    xaxis_title='Población (millones de habitantes)',\n",
    "    yaxis_title='Producción per capita (teravatios-hora/habitante)',\n",
    "    title='Producción de electricidad low-carbon per capita en funcion de la población',\n",
    ")\n",
    "fig.show()"
   ]
  },
  {
   "cell_type": "code",
   "execution_count": 6,
   "metadata": {},
   "outputs": [
    {
     "data": {
      "text/html": [
       "<div>\n",
       "<style scoped>\n",
       "    .dataframe tbody tr th:only-of-type {\n",
       "        vertical-align: middle;\n",
       "    }\n",
       "\n",
       "    .dataframe tbody tr th {\n",
       "        vertical-align: top;\n",
       "    }\n",
       "\n",
       "    .dataframe thead th {\n",
       "        text-align: right;\n",
       "    }\n",
       "</style>\n",
       "<table border=\"1\" class=\"dataframe\">\n",
       "  <thead>\n",
       "    <tr style=\"text-align: right;\">\n",
       "      <th></th>\n",
       "      <th>country</th>\n",
       "      <th>continente</th>\n",
       "      <th>year</th>\n",
       "      <th>population</th>\n",
       "      <th>renewables_electricity</th>\n",
       "      <th>nuclear_electricity</th>\n",
       "      <th>low_carbon_electricity</th>\n",
       "      <th>cluster</th>\n",
       "      <th>nivel_ingresos</th>\n",
       "      <th>lc_per_capita</th>\n",
       "    </tr>\n",
       "  </thead>\n",
       "  <tbody>\n",
       "    <tr>\n",
       "      <th>350</th>\n",
       "      <td>China</td>\n",
       "      <td>Asia</td>\n",
       "      <td>2019</td>\n",
       "      <td>1433.784064</td>\n",
       "      <td>2043.258</td>\n",
       "      <td>348.7</td>\n",
       "      <td>2391.958</td>\n",
       "      <td>-1.0</td>\n",
       "      <td>medio-alto</td>\n",
       "      <td>1.668283</td>\n",
       "    </tr>\n",
       "    <tr>\n",
       "      <th>349</th>\n",
       "      <td>China</td>\n",
       "      <td>Asia</td>\n",
       "      <td>2018</td>\n",
       "      <td>1427.648000</td>\n",
       "      <td>1870.500</td>\n",
       "      <td>294.4</td>\n",
       "      <td>2164.900</td>\n",
       "      <td>-1.0</td>\n",
       "      <td>medio-alto</td>\n",
       "      <td>1.516410</td>\n",
       "    </tr>\n",
       "    <tr>\n",
       "      <th>348</th>\n",
       "      <td>China</td>\n",
       "      <td>Asia</td>\n",
       "      <td>2017</td>\n",
       "      <td>1421.021952</td>\n",
       "      <td>1694.200</td>\n",
       "      <td>248.1</td>\n",
       "      <td>1942.300</td>\n",
       "      <td>-1.0</td>\n",
       "      <td>medio-alto</td>\n",
       "      <td>1.366833</td>\n",
       "    </tr>\n",
       "    <tr>\n",
       "      <th>347</th>\n",
       "      <td>China</td>\n",
       "      <td>Asia</td>\n",
       "      <td>2016</td>\n",
       "      <td>1414.049024</td>\n",
       "      <td>1547.700</td>\n",
       "      <td>213.2</td>\n",
       "      <td>1760.900</td>\n",
       "      <td>-1.0</td>\n",
       "      <td>medio-alto</td>\n",
       "      <td>1.245289</td>\n",
       "    </tr>\n",
       "    <tr>\n",
       "      <th>346</th>\n",
       "      <td>China</td>\n",
       "      <td>Asia</td>\n",
       "      <td>2015</td>\n",
       "      <td>1406.848000</td>\n",
       "      <td>1391.800</td>\n",
       "      <td>171.4</td>\n",
       "      <td>1563.200</td>\n",
       "      <td>-1.0</td>\n",
       "      <td>medio-alto</td>\n",
       "      <td>1.111136</td>\n",
       "    </tr>\n",
       "    <tr>\n",
       "      <th>...</th>\n",
       "      <td>...</td>\n",
       "      <td>...</td>\n",
       "      <td>...</td>\n",
       "      <td>...</td>\n",
       "      <td>...</td>\n",
       "      <td>...</td>\n",
       "      <td>...</td>\n",
       "      <td>...</td>\n",
       "      <td>...</td>\n",
       "      <td>...</td>\n",
       "    </tr>\n",
       "    <tr>\n",
       "      <th>1201</th>\n",
       "      <td>Niue</td>\n",
       "      <td>Oceanía</td>\n",
       "      <td>2015</td>\n",
       "      <td>0.002000</td>\n",
       "      <td>0.000</td>\n",
       "      <td>0.0</td>\n",
       "      <td>0.000</td>\n",
       "      <td>1.0</td>\n",
       "      <td>alto</td>\n",
       "      <td>0.000000</td>\n",
       "    </tr>\n",
       "    <tr>\n",
       "      <th>1204</th>\n",
       "      <td>Niue</td>\n",
       "      <td>Oceanía</td>\n",
       "      <td>2018</td>\n",
       "      <td>0.002000</td>\n",
       "      <td>0.000</td>\n",
       "      <td>0.0</td>\n",
       "      <td>0.000</td>\n",
       "      <td>1.0</td>\n",
       "      <td>alto</td>\n",
       "      <td>0.000000</td>\n",
       "    </tr>\n",
       "    <tr>\n",
       "      <th>1203</th>\n",
       "      <td>Niue</td>\n",
       "      <td>Oceanía</td>\n",
       "      <td>2017</td>\n",
       "      <td>0.002000</td>\n",
       "      <td>0.000</td>\n",
       "      <td>0.0</td>\n",
       "      <td>0.000</td>\n",
       "      <td>1.0</td>\n",
       "      <td>alto</td>\n",
       "      <td>0.000000</td>\n",
       "    </tr>\n",
       "    <tr>\n",
       "      <th>1200</th>\n",
       "      <td>Niue</td>\n",
       "      <td>Oceanía</td>\n",
       "      <td>2014</td>\n",
       "      <td>0.002000</td>\n",
       "      <td>0.000</td>\n",
       "      <td>0.0</td>\n",
       "      <td>0.000</td>\n",
       "      <td>1.0</td>\n",
       "      <td>alto</td>\n",
       "      <td>0.000000</td>\n",
       "    </tr>\n",
       "    <tr>\n",
       "      <th>1205</th>\n",
       "      <td>Niue</td>\n",
       "      <td>Oceanía</td>\n",
       "      <td>2019</td>\n",
       "      <td>0.002000</td>\n",
       "      <td>0.000</td>\n",
       "      <td>0.0</td>\n",
       "      <td>0.000</td>\n",
       "      <td>1.0</td>\n",
       "      <td>alto</td>\n",
       "      <td>0.000000</td>\n",
       "    </tr>\n",
       "  </tbody>\n",
       "</table>\n",
       "<p>1827 rows × 10 columns</p>\n",
       "</div>"
      ],
      "text/plain": [
       "     country continente  year   population  renewables_electricity  nuclear_electricity  low_carbon_electricity  cluster nivel_ingresos  \\\n",
       "350    China       Asia  2019  1433.784064                2043.258                348.7                2391.958     -1.0     medio-alto   \n",
       "349    China       Asia  2018  1427.648000                1870.500                294.4                2164.900     -1.0     medio-alto   \n",
       "348    China       Asia  2017  1421.021952                1694.200                248.1                1942.300     -1.0     medio-alto   \n",
       "347    China       Asia  2016  1414.049024                1547.700                213.2                1760.900     -1.0     medio-alto   \n",
       "346    China       Asia  2015  1406.848000                1391.800                171.4                1563.200     -1.0     medio-alto   \n",
       "...      ...        ...   ...          ...                     ...                  ...                     ...      ...            ...   \n",
       "1201    Niue    Oceanía  2015     0.002000                   0.000                  0.0                   0.000      1.0           alto   \n",
       "1204    Niue    Oceanía  2018     0.002000                   0.000                  0.0                   0.000      1.0           alto   \n",
       "1203    Niue    Oceanía  2017     0.002000                   0.000                  0.0                   0.000      1.0           alto   \n",
       "1200    Niue    Oceanía  2014     0.002000                   0.000                  0.0                   0.000      1.0           alto   \n",
       "1205    Niue    Oceanía  2019     0.002000                   0.000                  0.0                   0.000      1.0           alto   \n",
       "\n",
       "      lc_per_capita  \n",
       "350        1.668283  \n",
       "349        1.516410  \n",
       "348        1.366833  \n",
       "347        1.245289  \n",
       "346        1.111136  \n",
       "...             ...  \n",
       "1201       0.000000  \n",
       "1204       0.000000  \n",
       "1203       0.000000  \n",
       "1200       0.000000  \n",
       "1205       0.000000  \n",
       "\n",
       "[1827 rows x 10 columns]"
      ]
     },
     "execution_count": 6,
     "metadata": {},
     "output_type": "execute_result"
    }
   ],
   "source": [
    "wec.sort_values(\"population\", ascending= False)"
   ]
  },
  {
   "cell_type": "markdown",
   "metadata": {},
   "source": [
    "Descartamos los países India y China porque hemos corroborado en un análisis previo que son outliers respecto de la población. "
   ]
  },
  {
   "cell_type": "code",
   "execution_count": 7,
   "metadata": {},
   "outputs": [],
   "source": [
    "wec = wec[wec[\"country\"] != \"China\"]\n",
    "wec = wec[wec[\"country\"] != \"India\"]"
   ]
  },
  {
   "cell_type": "markdown",
   "metadata": {},
   "source": [
    "Convertimos la variable cluster a objeto para que no la tome como número, ya que no tiene sentido numérico. "
   ]
  },
  {
   "cell_type": "code",
   "execution_count": 8,
   "id": "9a586d2a",
   "metadata": {},
   "outputs": [],
   "source": [
    "wec['cluster'] = wec['cluster'].astype('object')"
   ]
  },
  {
   "cell_type": "markdown",
   "id": "bcc337ac",
   "metadata": {},
   "source": [
    "## Definicion de variables predictoras y variable respuesta. "
   ]
  },
  {
   "cell_type": "markdown",
   "id": "cceb6da9",
   "metadata": {},
   "source": [
    "Seleccionamos nuestras variables predictoras o explicativas (var_predict) y nuestra variable respuesta que queremos proyectar (var_respuesta)."
   ]
  },
  {
   "cell_type": "code",
   "execution_count": 9,
   "id": "cd710e9c",
   "metadata": {},
   "outputs": [],
   "source": [
    "predictoras = ['population', 'continente', \n",
    "              'nivel_ingresos', 'year', 'cluster']\n",
    "respuesta = 'lc_per_capita'\n"
   ]
  },
  {
   "cell_type": "markdown",
   "id": "eec5e5f4",
   "metadata": {},
   "source": [
    "Realizamos encoding de las columnas predictoras categoricas dado que el modelo no acepta variables de tipo stirng. "
   ]
  },
  {
   "cell_type": "code",
   "execution_count": 10,
   "metadata": {},
   "outputs": [],
   "source": [
    "wec_encoded = pd.get_dummies(wec[predictoras], drop_first=True)"
   ]
  },
  {
   "cell_type": "markdown",
   "metadata": {},
   "source": [
    "Definimos las variables X e y para la regresión y verificamos su forma. "
   ]
  },
  {
   "cell_type": "code",
   "execution_count": 11,
   "id": "07d896fa",
   "metadata": {},
   "outputs": [
    {
     "data": {
      "text/plain": [
       "((1809, 15), (1809,))"
      ]
     },
     "execution_count": 11,
     "metadata": {},
     "output_type": "execute_result"
    }
   ],
   "source": [
    "X = wec_encoded\n",
    "y = wec[respuesta]\n",
    "X.shape, y.shape"
   ]
  },
  {
   "cell_type": "markdown",
   "metadata": {},
   "source": [
    "Eliminamos datos que se encuentren por encima del percentil 75 y por debajo del percentil 25  dado que en un análisis previo corrobnoramos que el modelo ajusta mejor (no mostrado)."
   ]
  },
  {
   "cell_type": "code",
   "execution_count": 12,
   "metadata": {},
   "outputs": [],
   "source": [
    "# Calculate the interquartile range (IQR)\n",
    "Q1 = np.percentile(y, 25)\n",
    "Q3 = np.percentile(y, 75)\n",
    "IQR = Q3 - Q1\n",
    "\n",
    "# Define the lower and upper bounds to identify outliers\n",
    "lower_bound = Q1 - 1.5 * IQR\n",
    "upper_bound = Q3 + 1.5 * IQR\n",
    "\n",
    "# Keep only data points within the bounds\n",
    "filtered_data = ((y >= lower_bound) & (y <= upper_bound))\n",
    "\n",
    "# Use the filtered data for linear regression\n",
    "x_filtered = X[filtered_data]\n",
    "y_filtered = y[filtered_data]"
   ]
  },
  {
   "cell_type": "markdown",
   "metadata": {},
   "source": [
    "Graficamos en función de la población para observar los datos sin outliers:"
   ]
  },
  {
   "cell_type": "code",
   "execution_count": 13,
   "metadata": {},
   "outputs": [
    {
     "data": {
      "application/vnd.plotly.v1+json": {
       "config": {
        "plotlyServerURL": "https://plot.ly"
       },
       "data": [
        {
         "hovertemplate": "x=%{x}<br>y=%{y}<extra></extra>",
         "legendgroup": "",
         "marker": {
          "color": "#636efa",
          "symbol": "circle"
         },
         "mode": "markers",
         "name": "",
         "showlegend": false,
         "type": "scattergl",
         "x": [
          30.117,
          31.161,
          32.27,
          33.371,
          34.414,
          35.383,
          36.296,
          37.172,
          38.042,
          2.929,
          2.914,
          2.904,
          2.896,
          2.891,
          2.886,
          2.884,
          2.883,
          2.881,
          36.661,
          37.384,
          38.14,
          38.924,
          39.728,
          40.551,
          41.389,
          42.228,
          43.053,
          0.056,
          0.056,
          0.056,
          0.056,
          0.056,
          0.056,
          0.056,
          0.055,
          0.055,
          24.221,
          25.108,
          26.016,
          26.942,
          27.884,
          28.842,
          29.817,
          30.81,
          31.825,
          0.089,
          0.09,
          0.092,
          0.093,
          0.094,
          0.095,
          0.095,
          0.096,
          0.097,
          41.32,
          41.755,
          42.196,
          42.638,
          43.075,
          43.508,
          43.937,
          44.361,
          44.781,
          2.877,
          2.884,
          2.898,
          2.912,
          2.926,
          2.936,
          2.945,
          2.952,
          2.958,
          0.102,
          0.103,
          0.103,
          0.104,
          0.104,
          0.105,
          0.105,
          0.106,
          0.106,
          22.538,
          22.904,
          23.255,
          23.596,
          23.932,
          24.263,
          24.585,
          24.898,
          25.203,
          9.146,
          9.265,
          9.385,
          9.506,
          9.623,
          9.736,
          9.845,
          9.95,
          10.048,
          0.36,
          0.364,
          0.367,
          0.371,
          0.374,
          0.378,
          0.382,
          0.386,
          0.389,
          1.278,
          1.3,
          1.315,
          1.336,
          1.372,
          1.426,
          1.494,
          1.569,
          1.641,
          149.272992,
          151.006,
          152.760992,
          154.516992,
          156.256,
          157.976992,
          159.684992,
          161.376992,
          163.046,
          0.283,
          0.284,
          0.284,
          0.285,
          0.285,
          0.286,
          0.286,
          0.287,
          0.287,
          9.415,
          9.417,
          9.424,
          9.432,
          9.439,
          9.446,
          9.45,
          9.453,
          9.452,
          0.33,
          0.338,
          0.346,
          0.353,
          0.361,
          0.368,
          0.376,
          0.383,
          0.39,
          9.461,
          9.729,
          10.005,
          10.287,
          10.576,
          10.872,
          11.175,
          11.485,
          11.801,
          0.065,
          0.065,
          0.064,
          0.064,
          0.064,
          0.063,
          0.063,
          0.063,
          0.063,
          10.213,
          10.378,
          10.542,
          10.707,
          10.87,
          11.032,
          11.193,
          11.353,
          11.513,
          3.661,
          3.605,
          3.543,
          3.482,
          3.429,
          3.386,
          3.352,
          3.324,
          3.301,
          2.015,
          2.04,
          2.063,
          2.089,
          2.121,
          2.16,
          2.205,
          2.254,
          2.304,
          197.515008,
          199.287008,
          201.036,
          202.764,
          204.472,
          206.163008,
          207.834,
          209.468992,
          211.05,
          0.028,
          0.029,
          0.029,
          0.029,
          0.029,
          0.029,
          0.03,
          0.03,
          0.03,
          0.394,
          0.399,
          0.404,
          0.41,
          0.415,
          0.42,
          0.424,
          0.429,
          0.433,
          7.379,
          7.334,
          7.29,
          7.246,
          7.2,
          7.152,
          7.102,
          7,
          16.082,
          16.571,
          17.073,
          17.586,
          18.111,
          18.646,
          19.193,
          19.751,
          20.321,
          8.958,
          9.246,
          9.54,
          9.844,
          10.16,
          10.488,
          10.827,
          11.175,
          11.531,
          14.541,
          14.78,
          15.026,
          15.275,
          15.521,
          15.766,
          16.009,
          16.25,
          16.487,
          20.906,
          21.485,
          22.077,
          22.682,
          23.298,
          23.927,
          24.566,
          25.216,
          25.876,
          0.058,
          0.059,
          0.06,
          0.061,
          0.062,
          0.063,
          0.063,
          0.064,
          0.065,
          4.419,
          4.436,
          4.448,
          4.464,
          4.493,
          4.538,
          4.596,
          4.666,
          4.745,
          12.361,
          12.785,
          13.22,
          13.664,
          14.111,
          14.562,
          15.017,
          15.478,
          15.947,
          17.234,
          17.4,
          17.572,
          17.759,
          17.969,
          18.209,
          18.47,
          18.729,
          18.952,
          45.663,
          46.076,
          46.495,
          46.968,
          47.521,
          48.175,
          48.91,
          49.661,
          50.339,
          0.707,
          0.724,
          0.742,
          0.759,
          0.777,
          0.796,
          0.814,
          0.832,
          0.851,
          4.395,
          4.51,
          4.623,
          4.737,
          4.856,
          4.981,
          5.111,
          5.244,
          5.381,
          0.018,
          0.018,
          0.018,
          0.018,
          0.018,
          0.018,
          0.018,
          0.018,
          0.018,
          4.633,
          4.688,
          4.742,
          4.795,
          4.848,
          4.899,
          4.95,
          4.999,
          5.048,
          4.313,
          4.296,
          4.277,
          4.256,
          4.233,
          4.209,
          4.183,
          4.156,
          4.13,
          11.237,
          11.257,
          11.283,
          11.307,
          11.325,
          11.335,
          11.339,
          11.338,
          11.333,
          1.125,
          1.135,
          1.144,
          1.152,
          1.161,
          1.17,
          1.18,
          1.189,
          1.199,
          10.567,
          10.601,
          10.619,
          66.755,
          69.021,
          71.359,
          73.767,
          76.245,
          78.789,
          81.399,
          84.068,
          86.791,
          5.583,
          5.611,
          5.638,
          5.664,
          5.689,
          5.711,
          0.854,
          0.868,
          0.883,
          0.899,
          0.914,
          0.929,
          0.944,
          0.959,
          0.974,
          0.071,
          0.071,
          0.071,
          0.071,
          0.071,
          0.071,
          0.071,
          0.072,
          0.072,
          9.813,
          9.931,
          10.048,
          10.165,
          10.282,
          10.398,
          10.513,
          10.627,
          10.739,
          15.244,
          15.474,
          15.707,
          15.952,
          16.212,
          16.491,
          16.785,
          17.084,
          17.374,
          84.529,
          86.422,
          88.405,
          90.425,
          92.443,
          94.447,
          96.443,
          98.424,
          100.388,
          6.211,
          6.238,
          6.266,
          6.295,
          6.325,
          6.356,
          6.388,
          6.421,
          6.454,
          0.987,
          1.031,
          1.076,
          1.122,
          1.169,
          1.215,
          1.262,
          1.309,
          1.356,
          3.214,
          3.25,
          3.281,
          3.311,
          3.343,
          3.377,
          3.413,
          3.453,
          3.497,
          1.328,
          1.323,
          1.319,
          1.316,
          1.315,
          1.317,
          1.319,
          1.323,
          1.326,
          90.14,
          92.727,
          95.386,
          98.094,
          100.835,
          103.603,
          106.4,
          109.224,
          112.079,
          0.863,
          0.865,
          0.866,
          0.866,
          0.869,
          0.872,
          0.877,
          0.883,
          0.89,
          0.238,
          0.244,
          0.249,
          0.255,
          0.261,
          0.268,
          0.275,
          0.283,
          0.291,
          0.268,
          0.269,
          0.27,
          0.272,
          0.273,
          0.275,
          0.276,
          0.278,
          0.279,
          1.685,
          1.75,
          1.817,
          1.884,
          1.948,
          2.008,
          2.065,
          2.119,
          2.173,
          1.848,
          1.905,
          1.964,
          2.024,
          2.086,
          2.149,
          2.214,
          2.28,
          2.348,
          4.081,
          4.064,
          4.049,
          4.035,
          4.024,
          4.015,
          4.009,
          4.003,
          3.997,
          80.856,
          80.973,
          81.174,
          81.45,
          81.787,
          82.194,
          25.388,
          25.996,
          26.608,
          27.224,
          27.849,
          28.482,
          29.121,
          29.767,
          30.418,
          0.034,
          0.034,
          0.034,
          0.034,
          0.034,
          0.034,
          0.034,
          0.034,
          0.034,
          10.829,
          10.781,
          10.741,
          10.701,
          10.66,
          10.615,
          10.569,
          10.522,
          10.473,
          0.107,
          0.107,
          0.108,
          0.109,
          0.11,
          0.11,
          0.111,
          0.111,
          0.112,
          0.406,
          0.404,
          0.403,
          0.401,
          0.4,
          0.4,
          0.4,
          0.4,
          0.4,
          0.16,
          0.16,
          0.16,
          0.161,
          0.162,
          0.163,
          0.164,
          0.166,
          0.167,
          14.949,
          15.271,
          15.596,
          15.923,
          16.252,
          16.583,
          16.915,
          17.248,
          17.581,
          10.42,
          10.652,
          10.893,
          11.151,
          11.432,
          11.738,
          12.068,
          12.414,
          12.771,
          1.563,
          1.605,
          1.648,
          1.692,
          1.737,
          1.782,
          1.828,
          1.874,
          1.921,
          0.752,
          0.755,
          0.759,
          0.763,
          0.767,
          0.771,
          0.775,
          0.779,
          0.783,
          10.1,
          10.251,
          10.401,
          10.549,
          10.696,
          10.84,
          10.982,
          11.123,
          11.263,
          8.481,
          8.641,
          8.799,
          8.956,
          9.113,
          9.271,
          9.429,
          9.588,
          9.746,
          7.007,
          7.047,
          7.089,
          7.135,
          7.186,
          7.244,
          7.306,
          7.372,
          7.436,
          9.896,
          9.864,
          9.834,
          9.805,
          9.778,
          9.753,
          9.73,
          9.708,
          9.685,
          245.116,
          248.452,
          251.804992,
          255.128,
          258.383008,
          261.556,
          264.651008,
          267.671008,
          270.625984,
          74.635,
          75.54,
          76.482,
          77.466,
          78.492,
          79.564,
          80.674,
          81.8,
          82.914,
          30.725,
          31.89,
          33.157,
          34.412,
          35.572,
          36.611,
          37.553,
          38.434,
          39.31,
          4.591,
          4.608,
          4.615,
          4.627,
          4.652,
          4.696,
          4.753,
          4.819,
          4.882,
          7.487,
          7.615,
          7.735,
          7.854,
          7.978,
          8.109,
          8.244,
          8.382,
          8.519,
          59.589,
          59.879,
          60.167,
          60.41,
          60.578,
          60.663,
          60.674,
          60.627,
          60.55,
          2.826,
          2.842,
          2.859,
          2.875,
          2.891,
          2.906,
          2.921,
          2.935,
          2.948,
          128.499,
          128.424,
          128.314,
          128.169,
          127.985,
          127.763,
          127.503,
          127.202,
          126.86,
          7.663,
          8.09,
          8.519,
          8.919,
          9.267,
          9.554,
          9.786,
          9.965,
          10.102,
          16.491,
          16.752,
          17.026,
          17.303,
          17.572,
          17.831,
          18.08,
          18.32,
          18.551,
          43.178,
          44.343,
          45.52,
          46.7,
          47.878,
          49.052,
          50.221,
          51.393,
          52.574,
          0.105,
          0.106,
          0.108,
          0.109,
          0.111,
          0.113,
          0.114,
          0.116,
          0.118,
          3.168,
          3.349,
          3.526,
          3.691,
          3.836,
          3.957,
          4.056,
          4.137,
          4.207,
          5.518,
          5.622,
          5.731,
          5.845,
          5.959,
          6.074,
          6.19,
          6.304,
          6.416,
          6.348,
          6.445,
          6.541,
          6.64,
          6.741,
          6.846,
          6.953,
          7.061,
          7.169,
          2.094,
          2.069,
          2.045,
          2.021,
          1.998,
          1.974,
          1.951,
          1.928,
          1.907,
          5.202,
          5.538,
          5.913,
          6.261,
          6.533,
          6.714,
          6.819,
          6.859,
          6.856,
          2.004,
          2.015,
          2.029,
          2.043,
          2.059,
          2.075,
          2.092,
          2.108,
          2.125,
          4.017,
          4.136,
          4.248,
          4.36,
          4.472,
          4.587,
          4.702,
          4.819,
          4.937,
          6.247,
          6.286,
          6.32,
          6.362,
          6.418,
          6.492,
          6.581,
          6.679,
          6.777,
          3.083,
          3.046,
          3.009,
          2.971,
          2.932,
          2.89,
          2.845,
          2.801,
          2.76,
          0.519,
          0.531,
          0.543,
          0.555,
          0.567,
          0.579,
          0.592,
          0.604,
          0.616,
          21.744,
          22.347,
          22.961,
          23.59,
          24.234,
          24.894,
          25.571,
          26.262,
          26.969,
          14.962,
          15.396,
          15.839,
          16.29,
          16.745,
          17.205,
          17.67,
          18.143,
          18.629,
          28.651,
          29.068,
          29.469,
          29.867,
          30.271,
          30.685,
          31.105,
          31.528,
          31.95,
          0.38,
          0.397,
          0.416,
          0.435,
          0.455,
          0.476,
          0.496,
          0.516,
          0.531,
          15.515,
          15.979,
          16.45,
          16.934,
          17.439,
          17.965,
          18.512,
          19.078,
          19.658,
          0.418,
          0.422,
          0.426,
          0.43,
          0.434,
          0.436,
          0.438,
          0.439,
          0.44,
          0.392,
          0.388,
          0.385,
          0.381,
          0.378,
          0.377,
          0.376,
          0.376,
          0.376,
          3.599,
          3.707,
          3.817,
          3.931,
          4.046,
          4.164,
          4.283,
          4.403,
          4.526,
          1.251,
          1.253,
          1.255,
          1.257,
          1.259,
          1.262,
          1.264,
          1.267,
          1.27,
          115.695,
          117.274,
          118.827,
          120.355,
          121.858,
          123.333,
          124.777,
          126.191,
          127.576,
          4.079,
          4.076,
          4.075,
          4.073,
          4.071,
          4.066,
          4.06,
          4.052,
          4.043,
          2.77,
          2.825,
          2.882,
          2.94,
          2.998,
          3.056,
          3.114,
          3.17,
          3.225,
          0.625,
          0.626,
          0.627,
          0.627,
          0.627,
          0.628,
          0.005,
          0.005,
          0.005,
          0.005,
          0.005,
          0.005,
          0.005,
          0.005,
          0.005,
          32.782,
          33.242,
          33.716,
          34.192,
          34.664,
          35.126,
          35.581,
          36.029,
          36.472,
          24.188,
          24.863,
          25.561,
          26.286,
          27.042,
          27.83,
          28.649,
          29.496,
          30.366,
          2.157,
          2.195,
          2.234,
          2.273,
          2.315,
          2.358,
          2.403,
          2.448,
          2.495,
          0.01,
          0.01,
          0.01,
          0.01,
          0.01,
          0.01,
          0.011,
          0.011,
          0.011,
          27.041,
          26.989,
          26.917,
          26.906,
          27.015,
          27.263,
          27.633,
          28.096,
          28.609,
          16.738,
          16.792,
          16.844,
          16.893,
          16.938,
          16.981,
          17.021,
          17.06,
          17.097,
          0.257,
          0.261,
          0.264,
          0.268,
          0.271,
          0.274,
          0.277,
          0.28,
          0.283,
          5.903,
          5.983,
          6.062,
          6.143,
          6.223,
          6.304,
          6.385,
          6.466,
          6.546,
          17.115,
          17.795,
          18.504,
          19.24,
          20.002,
          20.789,
          21.602,
          22.443,
          23.311,
          162.804992,
          167.228992,
          171.766,
          176.404992,
          181.136992,
          185.96,
          190.872992,
          195.875008,
          200.964,
          0.002,
          0.002,
          0.002,
          0.002,
          0.002,
          0.002,
          0.002,
          0.002,
          0.002,
          24.673,
          24.801,
          24.93,
          25.058,
          25.184,
          25.308,
          25.43,
          25.55,
          25.666,
          3.251,
          3.498,
          3.765,
          4.027,
          4.267,
          4.479,
          4.666,
          4.829,
          4.975,
          183.34,
          187.28,
          191.260992,
          195.304992,
          199.427008,
          203.631008,
          207.906,
          212.228,
          216.564992,
          4.15,
          4.242,
          4.334,
          4.429,
          4.529,
          4.636,
          4.747,
          4.863,
          4.981,
          3.706,
          3.771,
          3.835,
          3.901,
          3.968,
          4.037,
          4.107,
          4.177,
          4.246,
          7.472,
          7.631,
          7.788,
          7.947,
          8.108,
          8.272,
          8.438,
          8.606,
          8.776,
          29.264,
          29.507,
          29.774,
          30.09,
          30.471,
          30.926,
          31.444,
          31.989,
          32.51,
          95.57,
          97.213,
          98.872,
          100.513,
          102.113,
          103.664,
          105.173,
          106.651,
          108.117,
          38.287,
          38.227,
          38.158,
          38.091,
          38.034,
          37.989,
          37.953,
          37.922,
          37.888,
          10.569,
          10.526,
          10.473,
          10.418,
          10.368,
          10.326,
          10.289,
          10.256,
          10.226,
          3.56,
          3.537,
          3.504,
          3.454,
          3.382,
          3.283,
          3.164,
          3.04,
          2.933,
          2.036,
          2.196,
          2.337,
          2.459,
          2.566,
          2.654,
          2.725,
          2.782,
          2.832,
          20.337,
          20.227,
          20.133,
          20.036,
          19.925,
          19.796,
          19.654,
          19.506,
          19.365,
          143.703008,
          143.994,
          144.324992,
          144.664992,
          144.984992,
          145.275008,
          145.53,
          145.734,
          145.872,
          10.293,
          10.55,
          10.812,
          11.084,
          11.369,
          11.669,
          11.981,
          12.302,
          12.627,
          0.005,
          0.005,
          0.006,
          0.006,
          0.006,
          0.006,
          0.006,
          0.006,
          0.006,
          0.049,
          0.05,
          0.05,
          0.051,
          0.051,
          0.052,
          0.052,
          0.052,
          0.053,
          0.176,
          0.177,
          0.178,
          0.178,
          0.179,
          0.18,
          0.181,
          0.182,
          0.183,
          0.006,
          0.006,
          0.006,
          0.006,
          0.006,
          0.006,
          0.006,
          0.006,
          0.006,
          0.108,
          0.108,
          0.109,
          0.109,
          0.109,
          0.109,
          0.11,
          0.11,
          0.111,
          0.187,
          0.189,
          0.191,
          0.192,
          0.194,
          0.195,
          0.195,
          0.196,
          0.197,
          0.185,
          0.188,
          0.192,
          0.196,
          0.199,
          0.203,
          0.207,
          0.211,
          0.215,
          28.268,
          29.155,
          30.052,
          30.917,
          31.718,
          32.443,
          33.101,
          33.703,
          34.269,
          13.034,
          13.402,
          13.782,
          14.175,
          14.578,
          14.994,
          15.419,
          15.854,
          16.296,
          8.964,
          8.94,
          8.919,
          8.898,
          8.877,
          8.854,
          8.83,
          8.803,
          8.772,
          0.092,
          0.093,
          0.093,
          0.094,
          0.095,
          0.096,
          0.096,
          0.097,
          0.098,
          6.563,
          6.713,
          6.864,
          7.017,
          7.172,
          7.329,
          7.488,
          7.65,
          7.813,
          5.264,
          5.369,
          5.454,
          5.526,
          5.592,
          5.654,
          5.708,
          5.758,
          5.804,
          0.542,
          0.556,
          0.571,
          0.587,
          0.603,
          0.619,
          0.636,
          0.653,
          0.67,
          12.376,
          12.715,
          13.064,
          13.424,
          13.797,
          14.186,
          14.589,
          15.008,
          15.443,
          52.004,
          52.833,
          53.687,
          54.544,
          55.386,
          56.208,
          57.01,
          57.793,
          58.558,
          49.786,
          50.061,
          50.346,
          50.608,
          50.823,
          50.983,
          51.096,
          51.172,
          51.225,
          9.831,
          10.114,
          10.355,
          10.555,
          10.716,
          10.833,
          10.911,
          10.976,
          11.062,
          47.084,
          47.063,
          46.672,
          46.647,
          46.693,
          46.737,
          20.398,
          20.533,
          20.663,
          20.789,
          20.908,
          21.021,
          21.128,
          21.229,
          21.324,
          35.35,
          36.194,
          37.073,
          37.978,
          38.903,
          39.847,
          40.813,
          41.802,
          42.813,
          0.535,
          0.541,
          0.547,
          0.553,
          0.559,
          0.565,
          0.571,
          0.576,
          0.581,
          21.082,
          20.439,
          19.578,
          18.711,
          17.997,
          17.466,
          17.096,
          16.945,
          17.07,
          23.269,
          23.347,
          23.422,
          23.492,
          23.557,
          23.618,
          23.675,
          23.726,
          23.774,
          7.698,
          7.875,
          8.06,
          8.253,
          8.454,
          8.664,
          8.88,
          9.101,
          9.321,
          45.674,
          47.053,
          48.483,
          49.961,
          51.483,
          53.049,
          54.66,
          56.313,
          58.005,
          67.518,
          67.836,
          68.145,
          68.439,
          68.715,
          68.971,
          69.21,
          69.428,
          69.626,
          6.596,
          6.774,
          6.955,
          7.138,
          7.323,
          7.51,
          7.698,
          7.889,
          8.082,
          0.104,
          0.103,
          0.102,
          0.101,
          0.101,
          0.101,
          0.102,
          0.103,
          0.104,
          1.336,
          1.345,
          1.354,
          1.362,
          1.37,
          1.378,
          1.384,
          1.39,
          1.395,
          10.742,
          10.847,
          10.953,
          11.063,
          11.18,
          11.304,
          11.433,
          11.565,
          11.695,
          73.443,
          74.651,
          75.925,
          77.229,
          78.529,
          79.828,
          81.116,
          82.34,
          83.43,
          5.174,
          5.268,
          5.366,
          5.466,
          5.565,
          5.662,
          5.758,
          5.851,
          5.942,
          0.033,
          0.034,
          0.035,
          0.035,
          0.036,
          0.037,
          0.037,
          0.038,
          0.038,
          33.477,
          34.559,
          35.695,
          36.912,
          38.225,
          39.649,
          41.167,
          42.729,
          44.27,
          45.62,
          45.454,
          45.287,
          45.112,
          44.922,
          44.714,
          44.488,
          44.246,
          43.994,
          8.947,
          9.142,
          9.198,
          9.214,
          9.263,
          9.361,
          9.487,
          9.631,
          9.771,
          64.022,
          64.525,
          64.984,
          65.423,
          65.86,
          66.298,
          66.727,
          67.142,
          67.53,
          0.106,
          0.106,
          0.105,
          0.105,
          0.105,
          0.105,
          0.105,
          0.105,
          0.105,
          3.369,
          3.379,
          3.389,
          28.977,
          29.449,
          29.933,
          30.426,
          30.93,
          31.442,
          31.96,
          32.476,
          32.982,
          0.243,
          0.25,
          0.257,
          0.264,
          0.271,
          0.278,
          0.285,
          0.293,
          0.3,
          28.888,
          29.361,
          29.781,
          30.043,
          30.082,
          29.851,
          29.402,
          28.887,
          28.516,
          88.871,
          89.802,
          90.753,
          91.714,
          92.677,
          93.64,
          94.601,
          95.546,
          96.462,
          23.808,
          24.473,
          25.147,
          25.823,
          26.498,
          27.168,
          27.835,
          28.499,
          29.162,
          14.023,
          14.465,
          14.927,
          15.4,
          15.879,
          16.363,
          16.854,
          17.352,
          17.861,
          12.894,
          13.115,
          13.35,
          13.587,
          13.815,
          14.03,
          14.237,
          14.439,
          14.645
         ],
         "xaxis": "x",
         "y": [
          0.019756283826410332,
          0.023683450466929816,
          0.027424852804462347,
          0.029966138263761946,
          0.030045911547625967,
          0.029957889381906563,
          0.02997575490412167,
          0.025960400301302058,
          0.023132327427580042,
          1.3967224308637762,
          1.6056966369251888,
          2.3725895316804406,
          1.6153314917127073,
          2.019024558976133,
          2.67013167013167,
          1.55374479889043,
          2.9368713146028442,
          1.7965984033321765,
          0.01355664057172472,
          0.016477637491975176,
          0.008573675930781332,
          0.006474154763128148,
          0.00556282722513089,
          0.008187221030307513,
          0.015342240691971296,
          0.017287108079946954,
          0.017002299491324646,
          0,
          0,
          0,
          0,
          0,
          0,
          0,
          0,
          0,
          0.16423764501878535,
          0.14927513143221285,
          0.18196494464944651,
          0.18721698463365746,
          0.18279299956964568,
          0.2056029401567159,
          0.26139450648958645,
          0.2877312560856865,
          0.3180204241948154,
          0,
          0,
          0.010869565217391304,
          0.010752688172043012,
          0.05319148936170213,
          0.06315789473684211,
          0.06315789473684211,
          0.13541666666666666,
          0.15463917525773194,
          0.9233059051306874,
          0.8817387139264758,
          0.9617025310455968,
          0.9196725925231015,
          0.9346488682530469,
          0.8931231037970028,
          0.8920044609326991,
          0.9309077793557404,
          0.9553828632679039,
          1.6767466110531806,
          1.53502080443828,
          1.4917184265010353,
          1.4567307692307692,
          1.6264524948735475,
          1.5412125340599456,
          1.5830220713073007,
          1.4275067750677508,
          1.484787018255578,
          1.1176470588235294,
          1.3300970873786409,
          1.4854368932038835,
          1.5576923076923077,
          1.6923076923076923,
          1.4285714285714286,
          1.3714285714285714,
          1.3867924528301887,
          1.3867924528301887,
          1.1657201171355045,
          1.1490569332867622,
          1.4063642227477962,
          1.530428886251907,
          1.3965819822831358,
          1.5312203767052714,
          1.6353874313605858,
          1.7850028114708008,
          2.1584731976352023,
          0.28963481303301986,
          0.19460334592552617,
          0.1715503462972829,
          0.15421838838628235,
          0.18840278499428453,
          0.222986852917009,
          0.1988826815642458,
          0.20432160804020102,
          0.1875,
          0.002777777777777778,
          0.0027472527472527475,
          0.0027247956403269754,
          0.005390835579514825,
          0.005347593582887701,
          0.005291005291005291,
          0.005235602094240838,
          0.007772020725388601,
          0.007712082262210797,
          0.001564945226917058,
          0.0015384615384615385,
          0.0015209125475285172,
          0.006736526946107784,
          0.006559766763848396,
          0.006311360448807854,
          0.006024096385542168,
          0.005736137667304015,
          0.005484460694698354,
          0.006565152790666915,
          0.005410381044461809,
          0.007069867679309128,
          0.005151536990831404,
          0.005203000204792136,
          0.007925204703226657,
          0.00819112669022772,
          0.008520421548072974,
          0.007660414852250286,
          0.01060070671378092,
          0.010563380281690142,
          0.014084507042253523,
          0.03508771929824562,
          0.04912280701754387,
          0.1048951048951049,
          0.1048951048951049,
          0.1289198606271777,
          0.1393728222996516,
          0.01571959638874137,
          0.021450568121482428,
          0.03151528013582343,
          0.030428329092451228,
          0.03453755694459159,
          0.04446326487402075,
          0.08275132275132276,
          0.08494657780598752,
          0.11002962336013543,
          1.0272727272727273,
          0.8934911242603549,
          0.9710982658959539,
          1.0028328611898016,
          0.9916897506925207,
          1.0244565217391304,
          1.0345744680851063,
          1.0078328981723237,
          1.123076923076923,
          0.00021139414438220062,
          0.00020557097337855896,
          0.0002998500749625187,
          0.0002916302128900554,
          0.000661875945537065,
          0.000919793966151582,
          0.0005369127516778523,
          0.00043535045711798,
          0.00042369290738073043,
          0,
          0,
          0,
          0,
          0,
          0,
          0,
          0,
          0,
          0.23616958778028005,
          0.2325110811331663,
          0.24701195219123506,
          0.21761464462501168,
          0.24461821527138913,
          0.17458303118201596,
          0.2162958992227285,
          0.26142869726063594,
          0.32554503604620866,
          1.186561048893745,
          1.1578363384188628,
          2.022297488004516,
          1.6878230901780584,
          1.6027996500437447,
          1.6571175428233904,
          1.1276849642004774,
          1.9512635379061372,
          1.9130566495001515,
          0,
          0.0004901960784313725,
          0.0009694619486185167,
          0.0014360938247965534,
          0.0014144271570014145,
          0.0023148148148148147,
          0.0022675736961451248,
          0.0022182786157941437,
          0.002170138888888889,
          2.399746757471716,
          2.343660054347346,
          2.2337989215861835,
          2.185210392377345,
          2.1576206033099887,
          2.311680473734648,
          2.298911631398135,
          2.4185059333268764,
          2.493612887941246,
          0.03571428571428571,
          0.034482758620689655,
          0.034482758620689655,
          0.034482758620689655,
          0.06896551724137931,
          0.06896551724137931,
          0.06666666666666667,
          0.06666666666666667,
          0.06666666666666667,
          0,
          0.005012531328320802,
          0.0049504950495049506,
          0.004878048780487805,
          0.004819277108433735,
          0.002380952380952381,
          0.0047169811320754715,
          0.004662004662004662,
          0.004618937644341801,
          2.7379048651578803,
          2.8719661848922824,
          2.887928669410151,
          3.2089428650289813,
          3.3531944444444446,
          3.1908557046979866,
          3.052238805970149,
          3.3907142857142856,
          0.005596318865812709,
          0.006396717156478184,
          0.006794353657822293,
          0.005743204822017515,
          0.005852796642924189,
          0.008312774857878366,
          0.008232167977908612,
          0.009214723305149105,
          0.00954677427291964,
          0.01507032819825854,
          0.01589876703439325,
          0.015513626834381553,
          0.015237708248679399,
          0.014468503937007873,
          0.014778794813119757,
          0.01847233767433269,
          0.014675615212527963,
          0.020293122886133032,
          0.0050890585241730275,
          0.03619756427604872,
          0.06788233728204446,
          0.12130932896890344,
          0.1302106823013981,
          0.16732208550044397,
          0.1725904178899369,
          0.2935384615384615,
          0.2498332019166616,
          0.21127905864345164,
          0.19925529439143588,
          0.19939303347375095,
          0.19433912353407992,
          0.18714052708386988,
          0.18297321018096713,
          0.20731905886184157,
          0.19955583756345177,
          0.20872623280259697,
          0,
          0,
          0,
          0,
          0,
          0.06349206349206349,
          0.22222222222222224,
          0.25,
          0.24615384615384614,
          0.033039149128762164,
          0.033588818755635706,
          0.030800359712230215,
          0.03763440860215054,
          0.03739149788559982,
          0.0372410753635963,
          0.03263707571801566,
          0.03214744963566223,
          0.031612223393045306,
          0,
          0,
          0,
          0,
          0,
          0.0006180469715698393,
          0.0005993207697942332,
          0.0005814704742214756,
          0.0005643694738822349,
          1.5056284089590344,
          1.450574712643678,
          1.4796266788071932,
          1.6927754941156596,
          1.8013245033112584,
          1.8562798616068978,
          1.8610720086626964,
          2.0026162635485076,
          1.9227522161249468,
          1.104526640825176,
          1.066108169111902,
          1.0941606624368212,
          1.0393672287514903,
          1.0422760463794953,
          1.0404981837052414,
          1.2730320997750972,
          1.2254082680574292,
          1.1024454200520473,
          0.007072135785007073,
          0.004143646408839779,
          0.0026954177897574125,
          0.002635046113306983,
          0.002574002574002574,
          0.002512562814070352,
          0,
          0,
          0,
          0.17815699658703074,
          0.21662971175166298,
          0.20787367510274712,
          0.19886003799873336,
          0.2240527182866557,
          0.22425215820116443,
          0.2332224613578556,
          0.2341723874904653,
          0.23675896673480765,
          0,
          0,
          0.05555555555555556,
          0.05555555555555556,
          0.16666666666666669,
          0.2777777777777778,
          0.33333333333333337,
          0.6111111111111112,
          0.6111111111111112,
          1.9197064537017052,
          1.978029010238908,
          1.8916069169126952,
          1.8992700729927006,
          2.191212871287129,
          2.165952235150031,
          2.2593939393939393,
          2.2520504100820165,
          2.237717908082409,
          1.2258288894041272,
          1.2248603351955305,
          2.1688099134907644,
          2.334586466165413,
          1.7739192062367117,
          1.9869327631266334,
          1.701171408080325,
          2.3534648700673726,
          2.0092009685230026,
          0.05108124944380172,
          0.06067335879896953,
          0.07373925374457148,
          0.06871849296895728,
          0.07072847682119206,
          0.0713718570798412,
          0.06923009083693447,
          0.06676662550714413,
          0.062295949880878845,
          0.1582222222222222,
          0.226431718061674,
          0.2858391608391609,
          0.27517361111111116,
          0.34453057708871665,
          0.36324786324786323,
          0.3686440677966102,
          0.40117746005046256,
          0.41367806505421184,
          3.3622598656193814,
          3.420526365437223,
          3.1535926170072512,
          0.115841509999251,
          0.10905376624505585,
          0.1144354601381746,
          0.11864383803055568,
          0.11606006951275492,
          0.11467336810976152,
          0.1156525264438138,
          0.12454203739829663,
          0.12682190549711375,
          2.5400322407307896,
          2.6442701835679916,
          2.8322100035473574,
          3.1751412429378534,
          3.328704517489893,
          3.2201015583960775,
          0,
          0,
          0,
          0,
          0,
          0,
          0,
          0.0010427528675703858,
          0.001026694045174538,
          0.5070422535211268,
          0.3802816901408451,
          0.5211267605633803,
          0.4366197183098592,
          0.35211267605633806,
          0.5211267605633803,
          0.3943661971830986,
          0.34722222222222227,
          0.2916666666666667,
          0.1650871293182513,
          0.19726110160104726,
          0.21994426751592355,
          0.16271519921298574,
          0.12935226609609027,
          0.1897480284670129,
          0.27166365452297153,
          0.25388162228286437,
          0.23158580873451903,
          0.7414720545788508,
          0.8022489336952306,
          0.7187241357356592,
          0.7421013039117351,
          0.8332716506291636,
          0.9876902552907647,
          1.2187071790288948,
          1.2302154062280497,
          1.4387590652699438,
          0.17583314602089223,
          0.1696443035338224,
          0.1705785871839828,
          0.1735471385125795,
          0.1725820235171944,
          0.16742723432189482,
          0.1642420911833933,
          0.17216329350564902,
          0.19254293341833684,
          0.5987763645145708,
          0.5830394357165758,
          0.5888924353654644,
          0.5747418586179508,
          0.4986561264822134,
          0.49779735682819387,
          0.5640262993112085,
          0.5606603332814203,
          0.5543848775952898,
          0.028368794326241134,
          0.07759456838021339,
          0.233271375464684,
          0.33778966131907306,
          0.47989734816082125,
          0.4650205761316872,
          0.3438985736925515,
          0.4430863254392666,
          0.4321533923303834,
          0.0012445550715619166,
          0.0012307692307692308,
          0.0012191405059433099,
          0.0012080942313500453,
          0.0011965300628178283,
          0.001184483269173823,
          0.0038089657193085265,
          0.013032145960034753,
          0.017729482413497283,
          0.8885542168674698,
          1.1156462585034015,
          0.9249431387414708,
          1.0554711246200608,
          1.1422053231939164,
          1.1571753986332574,
          1.3654283548142532,
          1.5034013605442178,
          1.5663650075414781,
          0.06970268471266919,
          0.08137867072158056,
          0.0907156186442455,
          0.09654005341814995,
          0.10299003322259137,
          0.12030539656187564,
          0.12346804511278195,
          0.12332454405625137,
          0.13003328009707438,
          0.6129779837775203,
          0.6820809248554913,
          0.6778290993071593,
          0.558891454965358,
          0.5500575373993095,
          0.6353211009174312,
          0.637400228050171,
          0.7202718006795017,
          0.7213483146067415,
          2.936974789915966,
          2.540983606557377,
          2.1967871485943777,
          2.2117647058823526,
          2.14176245210728,
          1.8619402985074627,
          2.2763636363636364,
          2.1201413427561837,
          2.106529209621993,
          0.8582089552238806,
          0.8029739776951672,
          0.648148148148148,
          0.7169117647058824,
          0.7289377289377289,
          0.7890909090909091,
          0.7681159420289855,
          0.7302158273381295,
          0.7885304659498207,
          0.49970326409495547,
          0.5211428571428571,
          0.5167859108420473,
          0.4235668789808918,
          0.4727926078028748,
          0.47609561752988044,
          0.45181598062954,
          0.42708824917413873,
          0.4141739530602853,
          0.0021645021645021645,
          0.0015748031496062992,
          0.0015274949083503055,
          0.001482213438735178,
          0.0014381591562799617,
          0.0013959981386691485,
          0.0013550135501355014,
          0.0013157894736842107,
          0.0012776831345826236,
          1.9139916687086496,
          1.7595964566929132,
          2.0222277105458137,
          2.045105328376704,
          2.0797713717693838,
          2.302615193026152,
          2.296333250187079,
          2.4816387709218084,
          2.233675256442332,
          2.8705352725833584,
          2.9960604152001284,
          3.0748761918841003,
          3.1884591774094533,
          3.4308630956019908,
          3.337226561549505,
          0.29545454545454547,
          0.3079704569933836,
          0.30705051112447385,
          0.3058330884513665,
          0.20858917734927646,
          0.19489502141703532,
          0.19247278596202055,
          0.2018006517284241,
          0.19932276941284766,
          0,
          0,
          0,
          0,
          0,
          0,
          0,
          0,
          0,
          0.7520546680210546,
          0.9415638623504312,
          1.336002234428824,
          1.1378375852724043,
          1.3930581613508441,
          1.4030146019783325,
          1.3057999810767338,
          1.5346892225812583,
          1.5093096533944428,
          0.028037383177570093,
          0.028037383177570093,
          0.02777777777777778,
          0.06422018348623854,
          0.01818181818181818,
          0.027272727272727275,
          0.02702702702702703,
          0.02702702702702703,
          0.026785714285714284,
          0.5738916256157636,
          0.5049504950495048,
          0.5012406947890818,
          0.543640897755611,
          0.5225,
          0.4925,
          0.5225,
          0.5375,
          0.5599999999999999,
          0,
          0.00625,
          0.0125,
          0.018633540372670808,
          0.19135802469135801,
          0.4049079754601227,
          0.36585365853658536,
          0.40963855421686746,
          0.40718562874251496,
          0.3922670412736638,
          0.42066662301093577,
          0.4484483200820723,
          0.46423412673491177,
          0.4134260398720158,
          0.4434662003256347,
          0.5311262193319539,
          0.5020292207792207,
          0.45867698083157954,
          0.03973128598848368,
          0.045719113781449494,
          0.04424860001836041,
          0.038292529817953544,
          0.07890132960111966,
          0.09413869483728063,
          0.10217103082532318,
          0.06138231029482842,
          0.055986218776916445,
          0,
          0,
          0,
          0,
          0.0005757052389176741,
          0.0005611672278338945,
          0.0005470459518599562,
          0.0010672358591248667,
          0.001041124414367517,
          0.017287234042553192,
          0.025165562913907286,
          0.02898550724637681,
          0.028833551769331583,
          0.03780964797913951,
          0.028534370946822308,
          0.024516129032258062,
          0.024390243902439022,
          0.017879948914431672,
          0.01198019801980198,
          0.021558872305140964,
          0.013652533410249013,
          0.008626410086264101,
          0.007946896035901272,
          0.006549815498154981,
          0.011564378073210708,
          0.01762114537444934,
          0.02077599218680636,
          0.40573045631411386,
          0.4210160861011457,
          0.41175133537902037,
          0.37494417150513626,
          0.43048392406452324,
          0.4939057275374824,
          0.5893519991515538,
          0.6638506466416355,
          0.6985429919967165,
          0.0064221492792921366,
          0.005959982971477225,
          0.005360417548314289,
          0.006306937631394534,
          0.010158641803506818,
          0.012700165654334622,
          0.012455516014234875,
          0.012615301139446554,
          0.013448090371167296,
          1.8586297493936943,
          1.8693227899432279,
          1.8463494000406753,
          1.917389087200408,
          1.9495806913479237,
          1.9801086845073312,
          2.0123329907502567,
          2.007210548001648,
          2.170160041300981,
          0.08929649635274728,
          0.09002543750905607,
          0.10466035558183055,
          0.10198018249662916,
          0.09596993313120653,
          0.11841441221000476,
          0.12119356824818894,
          0.1835611572845424,
          0.1761212995718844,
          0.16445367454947407,
          0.18375694996028594,
          0.24490729844930836,
          0.2304753052952263,
          0.22144931967589054,
          0.2822759036750289,
          0.26874829560949004,
          0.27531784841075796,
          0.4414574137057674,
          0.10945484133441823,
          0.13634368140482908,
          0.1434086316614893,
          0.08598744623968384,
          0.07247273136174519,
          0.09270437846548853,
          0.05887678747370383,
          0.04831659468179217,
          0.06385143729330958,
          1.1814419516445218,
          1.1406250000000002,
          1.2195016251354278,
          1.381456667387076,
          1.689810834049871,
          1.599872231686542,
          1.868083315800547,
          2.1155841460884,
          2.295985251945924,
          0.037531721650861494,
          0.06053841103086015,
          0.07847446670976083,
          0.12184873949579832,
          0.16507896715968914,
          0.21716611172770994,
          0.20972828723920428,
          0.21581961345740874,
          0.33243338420002344,
          1.3922032589907531,
          1.5401225805374172,
          1.8615021523426463,
          1.9975169673895052,
          1.7975832810591303,
          1.780508712065015,
          1.7121996242212478,
          1.8869810480478995,
          1.933592072667217,
          0.09518754423213022,
          0.09992962702322307,
          0.09094088842252536,
          0.09982608695652173,
          0.09789000345901071,
          0.11871988988300067,
          0.17459774049982885,
          0.18534923339011927,
          0.1902985074626866,
          2.352531926318493,
          1.228773437986669,
          1.2942079586015556,
          1.299417175760129,
          1.4670312927296167,
          1.5442185922371892,
          1.7251358791557847,
          2.0875615163283596,
          2.2956014504177835,
          0.008482317630170952,
          0.008529048207663783,
          0.007160464843291466,
          0.007063572149344097,
          0.01931585194777166,
          0.08980531714465145,
          0.14285714285714285,
          0.219568489713999,
          0.2689566422490596,
          0.4732884603723243,
          0.45152817574021015,
          0.4499588864090215,
          0.47916546263653703,
          0.5365923059412703,
          0.6684986820705513,
          0.6415929203539823,
          0.6079148471615721,
          0.572961026359765,
          0.11857890592431332,
          0.13548925422276345,
          0.12994288224956063,
          0.1371306209850107,
          0.17730481640837129,
          0.1633164804697056,
          0.16278051014515843,
          0.1878076780884556,
          0.19386008293072624,
          0.009523809523809525,
          0.009433962264150943,
          0.009259259259259259,
          0.009174311926605505,
          0.036036036036036036,
          0.04424778761061947,
          0.043859649122807015,
          0.043103448275862065,
          0.04237288135593221,
          0,
          0,
          0.0011344299489506524,
          0.001896505012191818,
          0.002346193952033368,
          0.013393985342431134,
          0.016518737672583828,
          0.020304568527918784,
          0.03755645352983124,
          2.536788691554911,
          2.4967982924226257,
          2.2676670738091085,
          2.2523524379811803,
          1.8441013592884714,
          1.8733947974975305,
          2.27156704361874,
          2.2485723350253806,
          2.136221945137157,
          2.0225267800882167,
          2.0055857253685025,
          2.347653264026907,
          2.278012048192771,
          2.0631953716065867,
          2.5614957639497518,
          2.8663886092334243,
          3.139357031581929,
          2.7073510949923283,
          1.4689589302769819,
          1.985983566940551,
          1.7276283618581907,
          1.3864423552696685,
          1.38988988988989,
          1.7639311043566364,
          2.79958995386981,
          1.8148340248962658,
          1.6439433665443104,
          0.15340253748558247,
          0.18039003250270855,
          0.21359715880263822,
          0.03258265452803066,
          0.07576917189652532,
          0.06136431337503723,
          0.06716527350051328,
          0.06108762210234728,
          0.05644690781796966,
          0.24451097804391217,
          0.24119106699751858,
          0.2538196155741745,
          0.25501713166911405,
          0.2588635259834871,
          0.2520481927710843,
          0.25812619502868067,
          0.25616698292220114,
          0.2550588235294118,
          0,
          0,
          0,
          0,
          0,
          0,
          0.0006380263717566993,
          0.0008300477277443454,
          0.0008102086287218958,
          0.0009604610212902194,
          0.00111358574610245,
          0.0012658227848101266,
          0.0012574662055957245,
          0.0012464942349641633,
          0.0012322858903265558,
          0.001215620726333384,
          0.0011977840994160803,
          0.0011804633318577543,
          0.36101200129743755,
          0.38837820091923836,
          0.5068128946493852,
          0.5085829686974083,
          0.5726466575716235,
          0.7249134948096886,
          0.8920913884007029,
          0.7872188504105676,
          0.8836956521739131,
          0.47398843930635837,
          0.5800376647834274,
          0.6813996316758747,
          0.7171171171171171,
          0.7601410934744268,
          0.7892918825561314,
          1.0135135135135136,
          1.132450331125828,
          1.1103896103896105,
          0.03228476821192053,
          0.034367029131427036,
          0.03601759505248029,
          0.038490885968630775,
          0.039531237104893945,
          0.036996866714871054,
          0.03249775135896132,
          0.03838245373543523,
          0.0378953613407987,
          0.12291137548456088,
          0.12444790854767471,
          0.12147231517141233,
          0.12486187845303867,
          0.1213496566139146,
          0.11746585294972392,
          0.10837577815506508,
          0.08030645427988756,
          0.06774384024907402,
          0.30124602980698756,
          0.3384821797165268,
          0.4401235196307985,
          0.4799946429169317,
          0.5414423045158733,
          0.691640866873065,
          0.8878958366822054,
          0.8867356001014971,
          0.9102347417840376,
          0.005263157894736842,
          0.005037783375314861,
          0.004807692307692308,
          0.004597701149425287,
          0.004395604395604396,
          0.004201680672268908,
          0.004032258064516129,
          0.003875968992248062,
          0.003766478342749529,
          0.07818240412504028,
          0.0824206771387446,
          0.07246200607902735,
          0.0862170780677926,
          0.06904065600091748,
          0.08700250487058168,
          0.08475583405358686,
          0.07584652479295524,
          0.07767829891138467,
          0.023923444976076555,
          0.061611374407582936,
          0.08215962441314555,
          0.1744186046511628,
          0.23502304147465436,
          0.3119266055045872,
          0.3926940639269406,
          0.45330296127562647,
          0.45227272727272727,
          0.04081632653061224,
          0.05412371134020619,
          0.04675324675324675,
          0.06561679790026247,
          0.07671957671957673,
          0.07957559681697612,
          0.06914893617021277,
          0.2553191489361702,
          0.31117021276595747,
          0.036121144762434006,
          0.03668734826004856,
          0.0547550432276657,
          0.056728567794454336,
          0.07909045971329708,
          0.06988472622478387,
          0.07821620359561055,
          0.0994776288893936,
          0.09898365002209457,
          0.4404476418864909,
          0.461292897047087,
          0.47330677290836654,
          0.4733492442322991,
          0.5401111993645752,
          0.5253565768621237,
          0.49287974683544306,
          0.5114443567482242,
          0.5007874015748032,
          0.4653528674532175,
          0.4298992103961662,
          0.42462571637759094,
          0.5115283951643056,
          0.4747739171822941,
          0.4684147794994041,
          0.4897937921251513,
          0.5325815628689843,
          0.5192277544365712,
          0.08531502819318461,
          0.06526005888125615,
          0.07705521472392637,
          0.08151239872329978,
          0.0697617293048391,
          0.06074766355140187,
          0.07733990147783253,
          0.08119447186574533,
          0.0927529062577294,
          0.022021660649819495,
          0.02123893805309734,
          0.04233171408743928,
          0.06802721088435375,
          0.07371581054036024,
          0.08082460732984292,
          0.1335902376364804,
          0.1441640378548896,
          0.15906976744186047,
          1.9072,
          2.3354632587859423,
          2.7655502392344498,
          2.354066985645933,
          2.9106858054226477,
          1.769108280254777,
          0,
          0,
          0,
          0,
          0,
          0,
          0,
          0,
          0,
          0.08163016289427126,
          0.07063353588833404,
          0.12213785739708151,
          0.10370846981750116,
          0.12681744749596122,
          0.13252291749701078,
          0.130294258171496,
          0.17988287213078352,
          0.21750932221978503,
          0.6908384322804697,
          0.6057997828097976,
          0.5658620554751379,
          0.6119607395571787,
          0.6323126987648843,
          0.5573122529644269,
          0.48797514747460646,
          0.4693856794141579,
          0.4202397418165053,
          0.6485859990727862,
          0.7316628701594534,
          0.5738585496866607,
          0.6599208095028596,
          0.6596112311015119,
          0.5949957591178965,
          0.66916354556804,
          0.47549019607843135,
          0.4188376753507014,
          0,
          0,
          0,
          0,
          0,
          0,
          0,
          0,
          0,
          0.12817573314596353,
          0.13009003668161104,
          0.12954638332652227,
          0.14026611164795957,
          0.1274477142328336,
          0.15478854124637786,
          0.16900083233814642,
          0.1758613325740319,
          0.1894508721031843,
          0.9834508304456924,
          0.9764173415912338,
          0.890346710995013,
          0.9316876812881075,
          1.0486480103908373,
          1.1034096931865023,
          1.224311145056107,
          1.3129542790152404,
          1.5572907527636426,
          1.6225680933852138,
          1.7318007662835249,
          1.924242424242424,
          1.2910447761194028,
          1.4833948339483394,
          1.010948905109489,
          1.4657039711191335,
          1.2928571428571427,
          1.254416961130742,
          0.22039640860579368,
          0.2893197392612402,
          0.3589574397888486,
          0.3897118671658799,
          0.3684717981680862,
          0.3794416243654822,
          0.39608457321848084,
          0.42236313021961025,
          0.4326306141154903,
          0,
          0,
          0.00021616947686986597,
          0.0002079002079002079,
          0.00019998000199980003,
          0.00024051180912982827,
          0.00027775205999444494,
          0.0010693757519048255,
          0.0010295568615675003,
          0.035877278259379176,
          0.033726209388381646,
          0.03094908189047891,
          0.030271252187693193,
          0.03153966474170003,
          0.04368681436868144,
          0.04047717761976508,
          0.03292916266275277,
          0.03331940048963993,
          0,
          0,
          0,
          0,
          0,
          0,
          0,
          0,
          0,
          0.5297693835366595,
          0.5390508447240031,
          0.5521861211391897,
          0.5138877803495889,
          0.3935435196950444,
          0.501224909119646,
          0.46386158081006684,
          0.4965949119373777,
          0.5324553884516481,
          0,
          0,
          0.0002656042496679947,
          0.00024832381425378696,
          0.0009374267635340989,
          0.0008930564858227283,
          0.0008572653236176596,
          0.0008283288465520813,
          0.0008040201005025127,
          0.18283516963019528,
          0.19422255446390432,
          0.1998368804863252,
          0.20182791845894035,
          0.20960551140595762,
          0.20774832092369744,
          0.20231258357142168,
          0.2520779538986373,
          0.2781151258279085,
          0,
          0,
          0,
          0,
          0,
          0,
          0.0002106593638087213,
          0,
          0,
          1.1009174311926606,
          1.4213736409440467,
          1.3395045632333766,
          1.315560112791592,
          1.6794354838709677,
          1.7802823879118157,
          1.913562210859508,
          2.0660761311946376,
          2.192887423457371,
          0.18522483940042825,
          0.131175468483816,
          0.1308423215202876,
          0.13149616207373852,
          0.12826837691169216,
          0.12512088974854932,
          0.09848305285612703,
          0.09551475714617708,
          0.0960574293527803,
          0.753382996172772,
          0.7411461687057308,
          0.7807818902398065,
          0.7885676304420074,
          0.8272127596731318,
          0.8334734527581971,
          0.9731586312174024,
          1.0342930382318922,
          1.0521993232851432,
          0.20665480799414043,
          0.21249215639883556,
          0.2002892628853467,
          0.19618357824361027,
          0.20442059287260192,
          0.21124016051859854,
          0.21956205490002184,
          0.21246870634124387,
          0.19816495093278577,
          0.34311907435944317,
          0.4415465508671882,
          0.4472456627705854,
          0.5209104512877057,
          0.5964137350791398,
          0.6003579983679487,
          0.6355755803230311,
          0.5700385000791098,
          0.6467747043918919,
          2.281672816728167,
          1.8403952118563558,
          2.814093382984818,
          3.0294682280668077,
          2.350694444444444,
          3.128994770482278,
          2.193896394207406,
          2.8668096723868954,
          2.7177782123997654,
          0.04269662921348315,
          0.03477523324851569,
          0.045662100456621,
          0.0512449334105385,
          0.07185097575399171,
          0.0956442278403899,
          0.10903919089759796,
          0.399671052631579,
          1.6662120695533582,
          0.05697445972495089,
          0.052823315118397086,
          0.05091998288403936,
          0.04961366409109394,
          0.0475448168355417,
          0.04634513941220799,
          0.04513761467889908,
          0.04421279654924515,
          0.04343220338983051,
          1.3797511924079264,
          1.304790626390468,
          1.5778075795956887,
          1.9366140946296664,
          1.8991217063989962,
          1.9324611032531827,
          1.8210542383229875,
          1.926176561058136,
          1.8598502452878907,
          2.292979142092836,
          2.31989527341417,
          2.38413316523863,
          2.3944770273101037,
          2.4339346792528707,
          2.5492616045837697,
          2.591156462585034,
          2.5730920718569448,
          2.6941222441592627,
          0.012824249489944624,
          0.013080568720379148,
          0.013873473917869035,
          0.01912666907253699,
          0.026827337496701558,
          0.03119376124775045,
          0.03513897003589016,
          0.03145829946350187,
          0.031915736121010535,
          0,
          0,
          0,
          0,
          0,
          0,
          0,
          0,
          0,
          0.10204081632653061,
          0.16,
          0.16,
          0.15686274509803924,
          0.15686274509803924,
          0.15384615384615385,
          0.15384615384615385,
          0.15384615384615385,
          0.1509433962264151,
          0,
          0,
          0,
          0,
          0.00558659217877095,
          0.005555555555555556,
          0.005524861878453039,
          0.016483516483516484,
          0.01639344262295082,
          0.3333333333333333,
          0.3333333333333333,
          0.3333333333333333,
          0,
          0,
          0,
          0,
          0,
          0,
          0.2314814814814815,
          0.2314814814814815,
          0.2110091743119266,
          0.11009174311926606,
          0.16513761467889906,
          0.1559633027522936,
          0.19090909090909092,
          0.2272727272727273,
          0.22522522522522523,
          0.29411764705882354,
          0.19576719576719576,
          0.16753926701570682,
          0.15625,
          0.15979381443298968,
          0.15897435897435896,
          0.1794871794871795,
          0.21938775510204078,
          0.23857868020304568,
          0.032432432432432434,
          0.031914893617021274,
          0.03125,
          0.030612244897959183,
          0.04020100502512563,
          0.034482758620689655,
          0.03381642512077295,
          0.03317535545023697,
          0.03255813953488372,
          0,
          0.0008231864174241125,
          0.001297750565686144,
          0.0013584759193970954,
          0.0040670912415663035,
          0.003976204420059797,
          0.004833690825050603,
          0.00474735186778625,
          0.004668942776270098,
          0.02562528770906859,
          0.02507088494254589,
          0.026701494703236104,
          0.027301587301587302,
          0.027918781725888325,
          0.02834467120181406,
          0.034502886049678966,
          0.03311467137630882,
          0.03313696612665685,
          0.9571619812583667,
          1.029082774049217,
          1.1352169525731584,
          1.2278040008990785,
          1.128534414779768,
          1.2152699344928846,
          1.0420158550396377,
          1.2271952743382937,
          1.2594619243046055,
          0,
          0,
          0.07526881720430108,
          0.0851063829787234,
          0.09473684210526315,
          0.020833333333333332,
          0.03125,
          0.05154639175257732,
          0.05102040816326531,
          0.022855401493219563,
          0.017279904662594967,
          0.015297202797202796,
          0.017528858486532704,
          0.017986614612381484,
          0.017874198389957702,
          0.018696581196581196,
          0.023529411764705882,
          0.024318443619608346,
          0.23043313069908816,
          0.23523933693425217,
          0.25192519251925194,
          0.2629388346000724,
          0.27825464949928475,
          0.2808631057658295,
          0.28538892782060266,
          0.2896839180270927,
          0.288249483115093,
          0.007380073800738007,
          0.007194244604316546,
          0.007005253940455342,
          0.008517887563884158,
          0.009950248756218905,
          0.009693053311793215,
          0.0110062893081761,
          0.009188361408882082,
          0.007462686567164179,
          0,
          0.00031458906802988597,
          0.0003061849357011635,
          0.000297973778307509,
          0.00036239762267159525,
          0.0008459044128013535,
          0.0011652614983891974,
          0.0011327292110874202,
          0.001100822379071424,
          0.2957272517498654,
          0.2652130297352034,
          0.282042207610781,
          0.3326122029920798,
          0.3028743725851298,
          0.40855394249928834,
          0.44143132783722155,
          0.3946498710916547,
          0.45348201782847775,
          3.133712288595187,
          3.025948343021514,
          2.8256465260398045,
          3.145767467594056,
          3.330677055663774,
          3.3703195182707963,
          3.1741036480350715,
          2.985050418197452,
          3.319043435822352,
          0,
          0.00019774569903104606,
          0.00019314340898116852,
          0.00018948365703458077,
          0.00018663680477790223,
          0.00018462106526354657,
          0.00027495188342040145,
          0.00027332361516034986,
          0.0002711986982462484,
          3.0846996856681677,
          3.1539000913668906,
          3.3057079190949605,
          3.129097262417733,
          3.4191634720407773,
          3.3967948306480946,
          0.23110108834199433,
          0.16772999561681196,
          0.3450612205391279,
          0.23267112415219585,
          0.30275492634398316,
          0.21973264830407685,
          0.21554335478985234,
          0.32342550284987515,
          0.3429938097917839,
          0.18463932107496464,
          0.18461623473503896,
          0.2260674884686969,
          0.23574174522091734,
          0.21746394879572273,
          0.20325244058523853,
          0.2300982530076201,
          0.23199846897277643,
          0.23611987013290353,
          1.9271028037383175,
          1.5249537892791125,
          1.5173674588665447,
          1.0162748643761301,
          0.8640429338103756,
          1.4000000000000001,
          1.6322241681260947,
          1.746527777777778,
          2.032702237521515,
          0.15572526325775543,
          0.1584226234160184,
          0.15338645418326693,
          0.1255945700390145,
          0.024559648830360617,
          0.05456315126531546,
          0.04556621431913898,
          0.0459722632044851,
          0.052255418863503225,
          2.128368215221969,
          2.117959480875487,
          2.1752625736487063,
          2.164736931721437,
          1.9443902024875834,
          1.8297061563214498,
          1.4339598732840548,
          1.6569164629520357,
          1.9560023555144275,
          2.083398285268901,
          2.124571428571429,
          2.096774193548387,
          1.9193020719738276,
          1.990773598296664,
          1.9005078485687905,
          1.910135135135135,
          2.0008790242830456,
          2.0359403497478814,
          0.04488330341113106,
          0.03867978662359468,
          0.036775777076501044,
          0.0529012629851284,
          0.04207214031816328,
          0.04607061396067786,
          0.04460300036589829,
          0.04212171257080958,
          0.04165158176019308,
          0.18473592227257918,
          0.20204611120938734,
          0.2022305378237582,
          0.2095881003521384,
          0.20186276649930873,
          0.3664148700178335,
          0.37195491980927614,
          0.43204470818689866,
          0.48678654525608245,
          0.01682838083687083,
          0.013876586950103336,
          0.005751258087706686,
          0.016811431773606052,
          0.008056807319404615,
          0.027563249001331558,
          0.013639906469212782,
          0.0008873114463176575,
          0.0003711952487008166,
          0,
          0,
          0,
          0,
          0,
          0,
          0,
          0,
          0,
          0.002994011976047904,
          0.002973977695167286,
          0.002954209748892171,
          0.002936857562408223,
          0.0036496350364963502,
          0.0036284470246734403,
          0.0036127167630057807,
          0.0035971223021582736,
          0.0035842293906810036,
          0.015453360640476633,
          0.028579330690513507,
          0.039532548160321375,
          0.05414444544879327,
          0.05214669051878354,
          0.05555555555555555,
          0.05239219802326598,
          0.05568525724167748,
          0.06318939717828131,
          0.7751181188132293,
          0.8572289721504066,
          0.896766545933487,
          0.669528286006552,
          1.0479313374676873,
          1.120283609760986,
          1.0660165688643424,
          1.1742773864464415,
          1.5606616325062925,
          0.0005798221878623889,
          0.0005694760820045559,
          0.0005590756615728663,
          0.0005488474204171241,
          0.0005390835579514824,
          0.0005298481102084069,
          0.0005210142410559222,
          0.0005127328661767219,
          0,
          0,
          0,
          0,
          0,
          0,
          0,
          0,
          0,
          0,
          0.05293186366759268,
          0.05335802540582772,
          0.07788205631040761,
          0.08241222366710013,
          0.07678221059516023,
          0.09624454589018638,
          0.09648504870405908,
          0.09780242926349787,
          0.10345606505534222,
          2.1040113985094258,
          2.11228934747217,
          2.052995340826286,
          2.0661021457705266,
          1.9912960242197588,
          1.9066287963501365,
          2.0498786189534255,
          2.1041224065452244,
          2.013365458926217,
          0.0038001564770314077,
          0.003828483920367535,
          0.010980647966949336,
          0.03353592359453006,
          0.03281874122854367,
          0.0337570772353381,
          0.07810688310319384,
          0.13601910497352301,
          0.4274895097738204,
          1.6274561869357407,
          1.7303990701278573,
          1.905407484919365,
          1.9606407532519141,
          2.3219101123595505,
          2.3127997827988778,
          2.5083549387804034,
          2.5795180364004646,
          2.5841699985191764,
          0.009433962264150943,
          0.009433962264150943,
          0.009523809523809525,
          0.06666666666666667,
          0.12380952380952381,
          0.12380952380952381,
          0.06666666666666667,
          0.06666666666666667,
          0.06666666666666667,
          2.272187592757495,
          2.0118378218407815,
          2.8704632634995577,
          0.19484418676881665,
          0.2236408706577473,
          0.18872147796746067,
          0.1977256293959114,
          0.22631749110895572,
          0.23086953756122386,
          0.2612327909887359,
          0.17997906146077103,
          0.1654842035049421,
          0.0205761316872428,
          0.032,
          0.03501945525291828,
          0.03787878787878788,
          0.047970479704797044,
          0.03597122302158273,
          0.031578947368421054,
          0.034129692832764506,
          0.03333333333333333,
          2.8674536139573523,
          2.766322672933483,
          2.779792485141533,
          2.1209932430183405,
          2.4675221062429356,
          2.090616729757797,
          2.03999727909666,
          1.9955689410461452,
          1.8276756908402303,
          0.4575620843694794,
          0.5836952406405203,
          0.5684219805405881,
          0.6476219552085832,
          0.612913667900342,
          0.6979709525843657,
          0.9355080813099227,
          0.8784250518075063,
          0.7691007858016627,
          0.00008400537634408603,
          0.0001225840722428799,
          0.0001590646995665487,
          0.00034852650737714436,
          0.004151256698618763,
          0.00541077738515901,
          0.00657445661936411,
          0.016070739324186813,
          0.01714560043892737,
          0.8153034300791557,
          0.8499135845143451,
          0.8852415086755544,
          0.9073376623376623,
          0.8174318282007683,
          0.671698343824482,
          0.7383410466358136,
          0.7857883817427386,
          0.7756004702984155,
          0.40949278734295025,
          0.4198246282882196,
          0.3831460674157304,
          0.4067122985206447,
          0.3674267100977199,
          0.22173913043478263,
          0.28734986303294235,
          0.36020500034628433,
          0.3578695800614544
         ],
         "yaxis": "y"
        }
       ],
       "layout": {
        "legend": {
         "tracegroupgap": 0
        },
        "margin": {
         "t": 60
        },
        "template": {
         "data": {
          "bar": [
           {
            "error_x": {
             "color": "#2a3f5f"
            },
            "error_y": {
             "color": "#2a3f5f"
            },
            "marker": {
             "line": {
              "color": "#E5ECF6",
              "width": 0.5
             },
             "pattern": {
              "fillmode": "overlay",
              "size": 10,
              "solidity": 0.2
             }
            },
            "type": "bar"
           }
          ],
          "barpolar": [
           {
            "marker": {
             "line": {
              "color": "#E5ECF6",
              "width": 0.5
             },
             "pattern": {
              "fillmode": "overlay",
              "size": 10,
              "solidity": 0.2
             }
            },
            "type": "barpolar"
           }
          ],
          "carpet": [
           {
            "aaxis": {
             "endlinecolor": "#2a3f5f",
             "gridcolor": "white",
             "linecolor": "white",
             "minorgridcolor": "white",
             "startlinecolor": "#2a3f5f"
            },
            "baxis": {
             "endlinecolor": "#2a3f5f",
             "gridcolor": "white",
             "linecolor": "white",
             "minorgridcolor": "white",
             "startlinecolor": "#2a3f5f"
            },
            "type": "carpet"
           }
          ],
          "choropleth": [
           {
            "colorbar": {
             "outlinewidth": 0,
             "ticks": ""
            },
            "type": "choropleth"
           }
          ],
          "contour": [
           {
            "colorbar": {
             "outlinewidth": 0,
             "ticks": ""
            },
            "colorscale": [
             [
              0,
              "#0d0887"
             ],
             [
              0.1111111111111111,
              "#46039f"
             ],
             [
              0.2222222222222222,
              "#7201a8"
             ],
             [
              0.3333333333333333,
              "#9c179e"
             ],
             [
              0.4444444444444444,
              "#bd3786"
             ],
             [
              0.5555555555555556,
              "#d8576b"
             ],
             [
              0.6666666666666666,
              "#ed7953"
             ],
             [
              0.7777777777777778,
              "#fb9f3a"
             ],
             [
              0.8888888888888888,
              "#fdca26"
             ],
             [
              1,
              "#f0f921"
             ]
            ],
            "type": "contour"
           }
          ],
          "contourcarpet": [
           {
            "colorbar": {
             "outlinewidth": 0,
             "ticks": ""
            },
            "type": "contourcarpet"
           }
          ],
          "heatmap": [
           {
            "colorbar": {
             "outlinewidth": 0,
             "ticks": ""
            },
            "colorscale": [
             [
              0,
              "#0d0887"
             ],
             [
              0.1111111111111111,
              "#46039f"
             ],
             [
              0.2222222222222222,
              "#7201a8"
             ],
             [
              0.3333333333333333,
              "#9c179e"
             ],
             [
              0.4444444444444444,
              "#bd3786"
             ],
             [
              0.5555555555555556,
              "#d8576b"
             ],
             [
              0.6666666666666666,
              "#ed7953"
             ],
             [
              0.7777777777777778,
              "#fb9f3a"
             ],
             [
              0.8888888888888888,
              "#fdca26"
             ],
             [
              1,
              "#f0f921"
             ]
            ],
            "type": "heatmap"
           }
          ],
          "heatmapgl": [
           {
            "colorbar": {
             "outlinewidth": 0,
             "ticks": ""
            },
            "colorscale": [
             [
              0,
              "#0d0887"
             ],
             [
              0.1111111111111111,
              "#46039f"
             ],
             [
              0.2222222222222222,
              "#7201a8"
             ],
             [
              0.3333333333333333,
              "#9c179e"
             ],
             [
              0.4444444444444444,
              "#bd3786"
             ],
             [
              0.5555555555555556,
              "#d8576b"
             ],
             [
              0.6666666666666666,
              "#ed7953"
             ],
             [
              0.7777777777777778,
              "#fb9f3a"
             ],
             [
              0.8888888888888888,
              "#fdca26"
             ],
             [
              1,
              "#f0f921"
             ]
            ],
            "type": "heatmapgl"
           }
          ],
          "histogram": [
           {
            "marker": {
             "pattern": {
              "fillmode": "overlay",
              "size": 10,
              "solidity": 0.2
             }
            },
            "type": "histogram"
           }
          ],
          "histogram2d": [
           {
            "colorbar": {
             "outlinewidth": 0,
             "ticks": ""
            },
            "colorscale": [
             [
              0,
              "#0d0887"
             ],
             [
              0.1111111111111111,
              "#46039f"
             ],
             [
              0.2222222222222222,
              "#7201a8"
             ],
             [
              0.3333333333333333,
              "#9c179e"
             ],
             [
              0.4444444444444444,
              "#bd3786"
             ],
             [
              0.5555555555555556,
              "#d8576b"
             ],
             [
              0.6666666666666666,
              "#ed7953"
             ],
             [
              0.7777777777777778,
              "#fb9f3a"
             ],
             [
              0.8888888888888888,
              "#fdca26"
             ],
             [
              1,
              "#f0f921"
             ]
            ],
            "type": "histogram2d"
           }
          ],
          "histogram2dcontour": [
           {
            "colorbar": {
             "outlinewidth": 0,
             "ticks": ""
            },
            "colorscale": [
             [
              0,
              "#0d0887"
             ],
             [
              0.1111111111111111,
              "#46039f"
             ],
             [
              0.2222222222222222,
              "#7201a8"
             ],
             [
              0.3333333333333333,
              "#9c179e"
             ],
             [
              0.4444444444444444,
              "#bd3786"
             ],
             [
              0.5555555555555556,
              "#d8576b"
             ],
             [
              0.6666666666666666,
              "#ed7953"
             ],
             [
              0.7777777777777778,
              "#fb9f3a"
             ],
             [
              0.8888888888888888,
              "#fdca26"
             ],
             [
              1,
              "#f0f921"
             ]
            ],
            "type": "histogram2dcontour"
           }
          ],
          "mesh3d": [
           {
            "colorbar": {
             "outlinewidth": 0,
             "ticks": ""
            },
            "type": "mesh3d"
           }
          ],
          "parcoords": [
           {
            "line": {
             "colorbar": {
              "outlinewidth": 0,
              "ticks": ""
             }
            },
            "type": "parcoords"
           }
          ],
          "pie": [
           {
            "automargin": true,
            "type": "pie"
           }
          ],
          "scatter": [
           {
            "fillpattern": {
             "fillmode": "overlay",
             "size": 10,
             "solidity": 0.2
            },
            "type": "scatter"
           }
          ],
          "scatter3d": [
           {
            "line": {
             "colorbar": {
              "outlinewidth": 0,
              "ticks": ""
             }
            },
            "marker": {
             "colorbar": {
              "outlinewidth": 0,
              "ticks": ""
             }
            },
            "type": "scatter3d"
           }
          ],
          "scattercarpet": [
           {
            "marker": {
             "colorbar": {
              "outlinewidth": 0,
              "ticks": ""
             }
            },
            "type": "scattercarpet"
           }
          ],
          "scattergeo": [
           {
            "marker": {
             "colorbar": {
              "outlinewidth": 0,
              "ticks": ""
             }
            },
            "type": "scattergeo"
           }
          ],
          "scattergl": [
           {
            "marker": {
             "colorbar": {
              "outlinewidth": 0,
              "ticks": ""
             }
            },
            "type": "scattergl"
           }
          ],
          "scattermapbox": [
           {
            "marker": {
             "colorbar": {
              "outlinewidth": 0,
              "ticks": ""
             }
            },
            "type": "scattermapbox"
           }
          ],
          "scatterpolar": [
           {
            "marker": {
             "colorbar": {
              "outlinewidth": 0,
              "ticks": ""
             }
            },
            "type": "scatterpolar"
           }
          ],
          "scatterpolargl": [
           {
            "marker": {
             "colorbar": {
              "outlinewidth": 0,
              "ticks": ""
             }
            },
            "type": "scatterpolargl"
           }
          ],
          "scatterternary": [
           {
            "marker": {
             "colorbar": {
              "outlinewidth": 0,
              "ticks": ""
             }
            },
            "type": "scatterternary"
           }
          ],
          "surface": [
           {
            "colorbar": {
             "outlinewidth": 0,
             "ticks": ""
            },
            "colorscale": [
             [
              0,
              "#0d0887"
             ],
             [
              0.1111111111111111,
              "#46039f"
             ],
             [
              0.2222222222222222,
              "#7201a8"
             ],
             [
              0.3333333333333333,
              "#9c179e"
             ],
             [
              0.4444444444444444,
              "#bd3786"
             ],
             [
              0.5555555555555556,
              "#d8576b"
             ],
             [
              0.6666666666666666,
              "#ed7953"
             ],
             [
              0.7777777777777778,
              "#fb9f3a"
             ],
             [
              0.8888888888888888,
              "#fdca26"
             ],
             [
              1,
              "#f0f921"
             ]
            ],
            "type": "surface"
           }
          ],
          "table": [
           {
            "cells": {
             "fill": {
              "color": "#EBF0F8"
             },
             "line": {
              "color": "white"
             }
            },
            "header": {
             "fill": {
              "color": "#C8D4E3"
             },
             "line": {
              "color": "white"
             }
            },
            "type": "table"
           }
          ]
         },
         "layout": {
          "annotationdefaults": {
           "arrowcolor": "#2a3f5f",
           "arrowhead": 0,
           "arrowwidth": 1
          },
          "autotypenumbers": "strict",
          "coloraxis": {
           "colorbar": {
            "outlinewidth": 0,
            "ticks": ""
           }
          },
          "colorscale": {
           "diverging": [
            [
             0,
             "#8e0152"
            ],
            [
             0.1,
             "#c51b7d"
            ],
            [
             0.2,
             "#de77ae"
            ],
            [
             0.3,
             "#f1b6da"
            ],
            [
             0.4,
             "#fde0ef"
            ],
            [
             0.5,
             "#f7f7f7"
            ],
            [
             0.6,
             "#e6f5d0"
            ],
            [
             0.7,
             "#b8e186"
            ],
            [
             0.8,
             "#7fbc41"
            ],
            [
             0.9,
             "#4d9221"
            ],
            [
             1,
             "#276419"
            ]
           ],
           "sequential": [
            [
             0,
             "#0d0887"
            ],
            [
             0.1111111111111111,
             "#46039f"
            ],
            [
             0.2222222222222222,
             "#7201a8"
            ],
            [
             0.3333333333333333,
             "#9c179e"
            ],
            [
             0.4444444444444444,
             "#bd3786"
            ],
            [
             0.5555555555555556,
             "#d8576b"
            ],
            [
             0.6666666666666666,
             "#ed7953"
            ],
            [
             0.7777777777777778,
             "#fb9f3a"
            ],
            [
             0.8888888888888888,
             "#fdca26"
            ],
            [
             1,
             "#f0f921"
            ]
           ],
           "sequentialminus": [
            [
             0,
             "#0d0887"
            ],
            [
             0.1111111111111111,
             "#46039f"
            ],
            [
             0.2222222222222222,
             "#7201a8"
            ],
            [
             0.3333333333333333,
             "#9c179e"
            ],
            [
             0.4444444444444444,
             "#bd3786"
            ],
            [
             0.5555555555555556,
             "#d8576b"
            ],
            [
             0.6666666666666666,
             "#ed7953"
            ],
            [
             0.7777777777777778,
             "#fb9f3a"
            ],
            [
             0.8888888888888888,
             "#fdca26"
            ],
            [
             1,
             "#f0f921"
            ]
           ]
          },
          "colorway": [
           "#636efa",
           "#EF553B",
           "#00cc96",
           "#ab63fa",
           "#FFA15A",
           "#19d3f3",
           "#FF6692",
           "#B6E880",
           "#FF97FF",
           "#FECB52"
          ],
          "font": {
           "color": "#2a3f5f"
          },
          "geo": {
           "bgcolor": "white",
           "lakecolor": "white",
           "landcolor": "#E5ECF6",
           "showlakes": true,
           "showland": true,
           "subunitcolor": "white"
          },
          "hoverlabel": {
           "align": "left"
          },
          "hovermode": "closest",
          "mapbox": {
           "style": "light"
          },
          "paper_bgcolor": "white",
          "plot_bgcolor": "#E5ECF6",
          "polar": {
           "angularaxis": {
            "gridcolor": "white",
            "linecolor": "white",
            "ticks": ""
           },
           "bgcolor": "#E5ECF6",
           "radialaxis": {
            "gridcolor": "white",
            "linecolor": "white",
            "ticks": ""
           }
          },
          "scene": {
           "xaxis": {
            "backgroundcolor": "#E5ECF6",
            "gridcolor": "white",
            "gridwidth": 2,
            "linecolor": "white",
            "showbackground": true,
            "ticks": "",
            "zerolinecolor": "white"
           },
           "yaxis": {
            "backgroundcolor": "#E5ECF6",
            "gridcolor": "white",
            "gridwidth": 2,
            "linecolor": "white",
            "showbackground": true,
            "ticks": "",
            "zerolinecolor": "white"
           },
           "zaxis": {
            "backgroundcolor": "#E5ECF6",
            "gridcolor": "white",
            "gridwidth": 2,
            "linecolor": "white",
            "showbackground": true,
            "ticks": "",
            "zerolinecolor": "white"
           }
          },
          "shapedefaults": {
           "line": {
            "color": "#2a3f5f"
           }
          },
          "ternary": {
           "aaxis": {
            "gridcolor": "white",
            "linecolor": "white",
            "ticks": ""
           },
           "baxis": {
            "gridcolor": "white",
            "linecolor": "white",
            "ticks": ""
           },
           "bgcolor": "#E5ECF6",
           "caxis": {
            "gridcolor": "white",
            "linecolor": "white",
            "ticks": ""
           }
          },
          "title": {
           "x": 0.05
          },
          "xaxis": {
           "automargin": true,
           "gridcolor": "white",
           "linecolor": "white",
           "ticks": "",
           "title": {
            "standoff": 15
           },
           "zerolinecolor": "white",
           "zerolinewidth": 2
          },
          "yaxis": {
           "automargin": true,
           "gridcolor": "white",
           "linecolor": "white",
           "ticks": "",
           "title": {
            "standoff": 15
           },
           "zerolinecolor": "white",
           "zerolinewidth": 2
          }
         }
        },
        "xaxis": {
         "anchor": "y",
         "domain": [
          0,
          1
         ],
         "title": {
          "text": "x"
         }
        },
        "yaxis": {
         "anchor": "x",
         "domain": [
          0,
          1
         ],
         "title": {
          "text": "y"
         }
        }
       }
      }
     },
     "metadata": {},
     "output_type": "display_data"
    }
   ],
   "source": [
    "fig = px.scatter(x=x_filtered[\"population\"], y=y_filtered)\n",
    "fig.show()"
   ]
  },
  {
   "cell_type": "markdown",
   "metadata": {},
   "source": [
    "Verificamos la forma de los datos sin outliers:"
   ]
  },
  {
   "cell_type": "code",
   "execution_count": 14,
   "metadata": {},
   "outputs": [
    {
     "data": {
      "text/plain": [
       "((1640, 15), (1640,))"
      ]
     },
     "execution_count": 14,
     "metadata": {},
     "output_type": "execute_result"
    }
   ],
   "source": [
    "x_filtered.shape, y_filtered.shape"
   ]
  },
  {
   "cell_type": "markdown",
   "metadata": {},
   "source": [
    "Convertimos en array:"
   ]
  },
  {
   "cell_type": "code",
   "execution_count": 15,
   "id": "5a80e802",
   "metadata": {},
   "outputs": [],
   "source": [
    "x, y = np.array(x_filtered), np.array(y_filtered)"
   ]
  },
  {
   "cell_type": "markdown",
   "id": "5943d51d",
   "metadata": {},
   "source": [
    "Separamos dataset en datos de training y de testing. <br>\n",
    "Entrenaremos con 80% de los datos y testeareamos con el 20% de los datos."
   ]
  },
  {
   "cell_type": "code",
   "execution_count": 16,
   "id": "7889e5a0",
   "metadata": {},
   "outputs": [],
   "source": [
    "X_train, X_test, y_train, y_test = train_test_split(x, y, test_size=0.2,\n",
    "                                                    random_state=42)"
   ]
  },
  {
   "cell_type": "code",
   "execution_count": 17,
   "id": "50faa342",
   "metadata": {},
   "outputs": [
    {
     "data": {
      "text/plain": [
       "array([[2.877, 2011, False, ..., False, False, False],\n",
       "       [8.94, 2012, True, ..., False, True, False],\n",
       "       [2.495, 2019, False, ..., False, False, False],\n",
       "       ...,\n",
       "       [0.519, 2011, True, ..., False, True, False],\n",
       "       [68.145, 2013, False, ..., False, False, False],\n",
       "       [4.981, 2019, False, ..., False, False, False]], dtype=object)"
      ]
     },
     "execution_count": 17,
     "metadata": {},
     "output_type": "execute_result"
    }
   ],
   "source": [
    "X_train"
   ]
  },
  {
   "cell_type": "code",
   "execution_count": 18,
   "id": "ec0d6913",
   "metadata": {},
   "outputs": [
    {
     "data": {
      "text/plain": [
       "(1312, 15)"
      ]
     },
     "execution_count": 18,
     "metadata": {},
     "output_type": "execute_result"
    }
   ],
   "source": [
    "X_train.shape"
   ]
  },
  {
   "cell_type": "code",
   "execution_count": 19,
   "id": "845bfe33",
   "metadata": {},
   "outputs": [
    {
     "data": {
      "text/plain": [
       "(328,)"
      ]
     },
     "execution_count": 19,
     "metadata": {},
     "output_type": "execute_result"
    }
   ],
   "source": [
    "y_test.shape"
   ]
  },
  {
   "cell_type": "markdown",
   "id": "b0d2109f",
   "metadata": {},
   "source": [
    "## Funciones de evaluación y optimización de modelos"
   ]
  },
  {
   "cell_type": "markdown",
   "metadata": {},
   "source": [
    "Definimos algunas funciones que usaremos para encontrar el mejor modelo."
   ]
  },
  {
   "cell_type": "code",
   "execution_count": 20,
   "metadata": {},
   "outputs": [],
   "source": [
    "def graph_real_pred(y_test, predictions, color):\n",
    "    \"\"\"\n",
    "    Funcion que grafica los valores reales vs. predichos\n",
    "    :param y_test: valores reales\n",
    "    :param predictions: valores predichos\n",
    "    :param color: color para el plot.\n",
    "\n",
    "    :return: Scatterplot mostrando la relacion entre el valor real y el predicho\n",
    "    \"\"\"\n",
    "    plt.scatter(y_test, predictions, c=color, s=10)\n",
    "    plt.gca().spines['top'].set_visible(False)\n",
    "    plt.gca().spines['bottom'].set_visible(False)\n",
    "    plt.gca().spines['left'].set_visible(False)\n",
    "    plt.gca().spines['right'].set_visible(False)\n",
    "    plt.xlabel('Valor real', size=15, labelpad=1)\n",
    "    plt.ylabel('Valor predicho', size=15, labelpad=1)\n",
    "   "
   ]
  },
  {
   "cell_type": "code",
   "execution_count": 21,
   "metadata": {},
   "outputs": [],
   "source": [
    "# Se consultan los hiperparámetros más importantes\n",
    "def feature_importance(model, feature_list):\n",
    "    \"\"\"\n",
    "    Function that gets and plots the feature importance\n",
    "    for the given model\n",
    "    :param model: the model to evaluaate\n",
    "    :param feature_list: a list of features contained in the model\n",
    "\n",
    "    :returns a plot with feature importance\n",
    "    \"\"\"\n",
    "    # Obtiene la lista de importancias\n",
    "    importances = list(model.feature_importances_)\n",
    "    # Junta los nombres de los atributos y las importancias\n",
    "    feature_importances = [(feature, round(importance, 2)) for feature, importance in zip(feature_list, importances)]\n",
    "    # Ordena por orden de importancia\n",
    "    feature_importances = sorted(feature_importances, key = lambda x: x[1], reverse = True)\n",
    "    # Print la lista de importancias\n",
    "    [print('Variable: {} Importance: {}'.format(*pair)) for pair in feature_importances];\n",
    "    # Colores\n",
    "    colors = cm.rainbow(np.linspace(0, 1, len(feature_list)))\n",
    "\n",
    "    # Caracteristicas en orden de importancia\n",
    "    characteristics = [x[0] for x in feature_importances]\n",
    "    # Obtiene las importancias\n",
    "    importances_plot = [x[1] for x in feature_importances]\n",
    "    # Grafica un bar plot\n",
    "    plt.figure(figsize=(25,6))\n",
    "    plt.bar(characteristics, importances_plot, color=colors)\n",
    "    # Personalizamos el grafico\n",
    "    plt.xticks(list(range(len(characteristics))), characteristics, rotation = 90)\n",
    "    plt.gca().spines['top'].set_visible(False)\n",
    "    plt.gca().spines['bottom'].set_visible(False)\n",
    "    plt.gca().spines['left'].set_visible(False)\n",
    "    plt.gca().spines['right'].set_visible(False)\n",
    "    plt.gcf().subplots_adjust(bottom=0.3);"
   ]
  },
  {
   "cell_type": "markdown",
   "metadata": {},
   "source": [
    "## Modelos exploratorios"
   ]
  },
  {
   "cell_type": "markdown",
   "metadata": {},
   "source": [
    "### Modelo 1: Regresión lineal"
   ]
  },
  {
   "cell_type": "code",
   "execution_count": 22,
   "metadata": {},
   "outputs": [
    {
     "data": {
      "text/html": [
       "<style>#sk-container-id-1 {color: black;background-color: white;}#sk-container-id-1 pre{padding: 0;}#sk-container-id-1 div.sk-toggleable {background-color: white;}#sk-container-id-1 label.sk-toggleable__label {cursor: pointer;display: block;width: 100%;margin-bottom: 0;padding: 0.3em;box-sizing: border-box;text-align: center;}#sk-container-id-1 label.sk-toggleable__label-arrow:before {content: \"▸\";float: left;margin-right: 0.25em;color: #696969;}#sk-container-id-1 label.sk-toggleable__label-arrow:hover:before {color: black;}#sk-container-id-1 div.sk-estimator:hover label.sk-toggleable__label-arrow:before {color: black;}#sk-container-id-1 div.sk-toggleable__content {max-height: 0;max-width: 0;overflow: hidden;text-align: left;background-color: #f0f8ff;}#sk-container-id-1 div.sk-toggleable__content pre {margin: 0.2em;color: black;border-radius: 0.25em;background-color: #f0f8ff;}#sk-container-id-1 input.sk-toggleable__control:checked~div.sk-toggleable__content {max-height: 200px;max-width: 100%;overflow: auto;}#sk-container-id-1 input.sk-toggleable__control:checked~label.sk-toggleable__label-arrow:before {content: \"▾\";}#sk-container-id-1 div.sk-estimator input.sk-toggleable__control:checked~label.sk-toggleable__label {background-color: #d4ebff;}#sk-container-id-1 div.sk-label input.sk-toggleable__control:checked~label.sk-toggleable__label {background-color: #d4ebff;}#sk-container-id-1 input.sk-hidden--visually {border: 0;clip: rect(1px 1px 1px 1px);clip: rect(1px, 1px, 1px, 1px);height: 1px;margin: -1px;overflow: hidden;padding: 0;position: absolute;width: 1px;}#sk-container-id-1 div.sk-estimator {font-family: monospace;background-color: #f0f8ff;border: 1px dotted black;border-radius: 0.25em;box-sizing: border-box;margin-bottom: 0.5em;}#sk-container-id-1 div.sk-estimator:hover {background-color: #d4ebff;}#sk-container-id-1 div.sk-parallel-item::after {content: \"\";width: 100%;border-bottom: 1px solid gray;flex-grow: 1;}#sk-container-id-1 div.sk-label:hover label.sk-toggleable__label {background-color: #d4ebff;}#sk-container-id-1 div.sk-serial::before {content: \"\";position: absolute;border-left: 1px solid gray;box-sizing: border-box;top: 0;bottom: 0;left: 50%;z-index: 0;}#sk-container-id-1 div.sk-serial {display: flex;flex-direction: column;align-items: center;background-color: white;padding-right: 0.2em;padding-left: 0.2em;position: relative;}#sk-container-id-1 div.sk-item {position: relative;z-index: 1;}#sk-container-id-1 div.sk-parallel {display: flex;align-items: stretch;justify-content: center;background-color: white;position: relative;}#sk-container-id-1 div.sk-item::before, #sk-container-id-1 div.sk-parallel-item::before {content: \"\";position: absolute;border-left: 1px solid gray;box-sizing: border-box;top: 0;bottom: 0;left: 50%;z-index: -1;}#sk-container-id-1 div.sk-parallel-item {display: flex;flex-direction: column;z-index: 1;position: relative;background-color: white;}#sk-container-id-1 div.sk-parallel-item:first-child::after {align-self: flex-end;width: 50%;}#sk-container-id-1 div.sk-parallel-item:last-child::after {align-self: flex-start;width: 50%;}#sk-container-id-1 div.sk-parallel-item:only-child::after {width: 0;}#sk-container-id-1 div.sk-dashed-wrapped {border: 1px dashed gray;margin: 0 0.4em 0.5em 0.4em;box-sizing: border-box;padding-bottom: 0.4em;background-color: white;}#sk-container-id-1 div.sk-label label {font-family: monospace;font-weight: bold;display: inline-block;line-height: 1.2em;}#sk-container-id-1 div.sk-label-container {text-align: center;}#sk-container-id-1 div.sk-container {/* jupyter's `normalize.less` sets `[hidden] { display: none; }` but bootstrap.min.css set `[hidden] { display: none !important; }` so we also need the `!important` here to be able to override the default hidden behavior on the sphinx rendered scikit-learn.org. See: https://github.com/scikit-learn/scikit-learn/issues/21755 */display: inline-block !important;position: relative;}#sk-container-id-1 div.sk-text-repr-fallback {display: none;}</style><div id=\"sk-container-id-1\" class=\"sk-top-container\"><div class=\"sk-text-repr-fallback\"><pre>LinearRegression()</pre><b>In a Jupyter environment, please rerun this cell to show the HTML representation or trust the notebook. <br />On GitHub, the HTML representation is unable to render, please try loading this page with nbviewer.org.</b></div><div class=\"sk-container\" hidden><div class=\"sk-item\"><div class=\"sk-estimator sk-toggleable\"><input class=\"sk-toggleable__control sk-hidden--visually\" id=\"sk-estimator-id-1\" type=\"checkbox\" checked><label for=\"sk-estimator-id-1\" class=\"sk-toggleable__label sk-toggleable__label-arrow\">LinearRegression</label><div class=\"sk-toggleable__content\"><pre>LinearRegression()</pre></div></div></div></div></div>"
      ],
      "text/plain": [
       "LinearRegression()"
      ]
     },
     "execution_count": 22,
     "metadata": {},
     "output_type": "execute_result"
    }
   ],
   "source": [
    "regresor1 = LinearRegression()\n",
    "regresor1.fit(X_train, y_train)"
   ]
  },
  {
   "cell_type": "code",
   "execution_count": 23,
   "metadata": {},
   "outputs": [],
   "source": [
    "y_pred1 = regresor1.predict(X_test)"
   ]
  },
  {
   "cell_type": "code",
   "execution_count": 24,
   "metadata": {},
   "outputs": [
    {
     "name": "stdout",
     "output_type": "stream",
     "text": [
      "-20.570768673584443\n"
     ]
    }
   ],
   "source": [
    "print(regresor1.intercept_)"
   ]
  },
  {
   "cell_type": "code",
   "execution_count": 25,
   "metadata": {},
   "outputs": [
    {
     "name": "stdout",
     "output_type": "stream",
     "text": [
      "[-1.12431924e-03  1.10241445e-02  5.28685342e-01 -2.52861999e-01\n",
      " -4.79090485e-02  2.75328912e-01 -4.11988014e-01 -4.00530382e-01\n",
      " -2.77851045e-01 -4.21935003e-02 -2.54276567e-01 -1.24693939e+00\n",
      " -4.88592932e-01 -8.37789041e-01 -4.03109564e-01]\n"
     ]
    }
   ],
   "source": [
    "print(regresor1.coef_)"
   ]
  },
  {
   "cell_type": "markdown",
   "metadata": {},
   "source": [
    "Evaluamos metricas del modelo"
   ]
  },
  {
   "cell_type": "code",
   "execution_count": 26,
   "metadata": {},
   "outputs": [
    {
     "data": {
      "text/plain": [
       "0.5824332613424814"
      ]
     },
     "execution_count": 26,
     "metadata": {},
     "output_type": "execute_result"
    }
   ],
   "source": [
    "r1 = r2_score(y_test, y_pred1)\n",
    "r1"
   ]
  },
  {
   "cell_type": "code",
   "execution_count": 27,
   "metadata": {},
   "outputs": [
    {
     "data": {
      "text/plain": [
       "0.37845583504128766"
      ]
     },
     "execution_count": 27,
     "metadata": {},
     "output_type": "execute_result"
    }
   ],
   "source": [
    "mae1 = mean_absolute_error(y_test, y_pred1)\n",
    "mae1"
   ]
  },
  {
   "cell_type": "markdown",
   "metadata": {},
   "source": [
    "### Modelo 2: Random Forest"
   ]
  },
  {
   "cell_type": "code",
   "execution_count": 28,
   "metadata": {},
   "outputs": [],
   "source": [
    "# Se inicia el modelo\n",
    "regresor_rf = RandomForestRegressor(criterion='absolute_error', random_state=42, n_estimators = 1000)"
   ]
  },
  {
   "cell_type": "code",
   "execution_count": 29,
   "metadata": {},
   "outputs": [
    {
     "data": {
      "text/html": [
       "<style>#sk-container-id-2 {color: black;background-color: white;}#sk-container-id-2 pre{padding: 0;}#sk-container-id-2 div.sk-toggleable {background-color: white;}#sk-container-id-2 label.sk-toggleable__label {cursor: pointer;display: block;width: 100%;margin-bottom: 0;padding: 0.3em;box-sizing: border-box;text-align: center;}#sk-container-id-2 label.sk-toggleable__label-arrow:before {content: \"▸\";float: left;margin-right: 0.25em;color: #696969;}#sk-container-id-2 label.sk-toggleable__label-arrow:hover:before {color: black;}#sk-container-id-2 div.sk-estimator:hover label.sk-toggleable__label-arrow:before {color: black;}#sk-container-id-2 div.sk-toggleable__content {max-height: 0;max-width: 0;overflow: hidden;text-align: left;background-color: #f0f8ff;}#sk-container-id-2 div.sk-toggleable__content pre {margin: 0.2em;color: black;border-radius: 0.25em;background-color: #f0f8ff;}#sk-container-id-2 input.sk-toggleable__control:checked~div.sk-toggleable__content {max-height: 200px;max-width: 100%;overflow: auto;}#sk-container-id-2 input.sk-toggleable__control:checked~label.sk-toggleable__label-arrow:before {content: \"▾\";}#sk-container-id-2 div.sk-estimator input.sk-toggleable__control:checked~label.sk-toggleable__label {background-color: #d4ebff;}#sk-container-id-2 div.sk-label input.sk-toggleable__control:checked~label.sk-toggleable__label {background-color: #d4ebff;}#sk-container-id-2 input.sk-hidden--visually {border: 0;clip: rect(1px 1px 1px 1px);clip: rect(1px, 1px, 1px, 1px);height: 1px;margin: -1px;overflow: hidden;padding: 0;position: absolute;width: 1px;}#sk-container-id-2 div.sk-estimator {font-family: monospace;background-color: #f0f8ff;border: 1px dotted black;border-radius: 0.25em;box-sizing: border-box;margin-bottom: 0.5em;}#sk-container-id-2 div.sk-estimator:hover {background-color: #d4ebff;}#sk-container-id-2 div.sk-parallel-item::after {content: \"\";width: 100%;border-bottom: 1px solid gray;flex-grow: 1;}#sk-container-id-2 div.sk-label:hover label.sk-toggleable__label {background-color: #d4ebff;}#sk-container-id-2 div.sk-serial::before {content: \"\";position: absolute;border-left: 1px solid gray;box-sizing: border-box;top: 0;bottom: 0;left: 50%;z-index: 0;}#sk-container-id-2 div.sk-serial {display: flex;flex-direction: column;align-items: center;background-color: white;padding-right: 0.2em;padding-left: 0.2em;position: relative;}#sk-container-id-2 div.sk-item {position: relative;z-index: 1;}#sk-container-id-2 div.sk-parallel {display: flex;align-items: stretch;justify-content: center;background-color: white;position: relative;}#sk-container-id-2 div.sk-item::before, #sk-container-id-2 div.sk-parallel-item::before {content: \"\";position: absolute;border-left: 1px solid gray;box-sizing: border-box;top: 0;bottom: 0;left: 50%;z-index: -1;}#sk-container-id-2 div.sk-parallel-item {display: flex;flex-direction: column;z-index: 1;position: relative;background-color: white;}#sk-container-id-2 div.sk-parallel-item:first-child::after {align-self: flex-end;width: 50%;}#sk-container-id-2 div.sk-parallel-item:last-child::after {align-self: flex-start;width: 50%;}#sk-container-id-2 div.sk-parallel-item:only-child::after {width: 0;}#sk-container-id-2 div.sk-dashed-wrapped {border: 1px dashed gray;margin: 0 0.4em 0.5em 0.4em;box-sizing: border-box;padding-bottom: 0.4em;background-color: white;}#sk-container-id-2 div.sk-label label {font-family: monospace;font-weight: bold;display: inline-block;line-height: 1.2em;}#sk-container-id-2 div.sk-label-container {text-align: center;}#sk-container-id-2 div.sk-container {/* jupyter's `normalize.less` sets `[hidden] { display: none; }` but bootstrap.min.css set `[hidden] { display: none !important; }` so we also need the `!important` here to be able to override the default hidden behavior on the sphinx rendered scikit-learn.org. See: https://github.com/scikit-learn/scikit-learn/issues/21755 */display: inline-block !important;position: relative;}#sk-container-id-2 div.sk-text-repr-fallback {display: none;}</style><div id=\"sk-container-id-2\" class=\"sk-top-container\"><div class=\"sk-text-repr-fallback\"><pre>RandomForestRegressor(criterion=&#x27;absolute_error&#x27;, n_estimators=1000,\n",
       "                      random_state=42)</pre><b>In a Jupyter environment, please rerun this cell to show the HTML representation or trust the notebook. <br />On GitHub, the HTML representation is unable to render, please try loading this page with nbviewer.org.</b></div><div class=\"sk-container\" hidden><div class=\"sk-item\"><div class=\"sk-estimator sk-toggleable\"><input class=\"sk-toggleable__control sk-hidden--visually\" id=\"sk-estimator-id-2\" type=\"checkbox\" checked><label for=\"sk-estimator-id-2\" class=\"sk-toggleable__label sk-toggleable__label-arrow\">RandomForestRegressor</label><div class=\"sk-toggleable__content\"><pre>RandomForestRegressor(criterion=&#x27;absolute_error&#x27;, n_estimators=1000,\n",
       "                      random_state=42)</pre></div></div></div></div></div>"
      ],
      "text/plain": [
       "RandomForestRegressor(criterion='absolute_error', n_estimators=1000,\n",
       "                      random_state=42)"
      ]
     },
     "execution_count": 29,
     "metadata": {},
     "output_type": "execute_result"
    }
   ],
   "source": [
    "# Se entrena el modelo\n",
    "regresor_rf.fit(X_train, y_train)"
   ]
  },
  {
   "cell_type": "code",
   "execution_count": 30,
   "metadata": {},
   "outputs": [
    {
     "data": {
      "text/plain": [
       "{'bootstrap': True,\n",
       " 'ccp_alpha': 0.0,\n",
       " 'criterion': 'absolute_error',\n",
       " 'max_depth': None,\n",
       " 'max_features': 1.0,\n",
       " 'max_leaf_nodes': None,\n",
       " 'max_samples': None,\n",
       " 'min_impurity_decrease': 0.0,\n",
       " 'min_samples_leaf': 1,\n",
       " 'min_samples_split': 2,\n",
       " 'min_weight_fraction_leaf': 0.0,\n",
       " 'n_estimators': 1000,\n",
       " 'n_jobs': None,\n",
       " 'oob_score': False,\n",
       " 'random_state': 42,\n",
       " 'verbose': 0,\n",
       " 'warm_start': False}"
      ]
     },
     "execution_count": 30,
     "metadata": {},
     "output_type": "execute_result"
    }
   ],
   "source": [
    "regresor_rf.get_params()"
   ]
  },
  {
   "cell_type": "code",
   "execution_count": 31,
   "metadata": {},
   "outputs": [],
   "source": [
    "# Se predicen los valores para el set de testeo\n",
    "y_pred_rf = regresor_rf.predict(X_test)"
   ]
  },
  {
   "cell_type": "code",
   "execution_count": 32,
   "metadata": {},
   "outputs": [
    {
     "data": {
      "text/plain": [
       "0.9327827888806889"
      ]
     },
     "execution_count": 32,
     "metadata": {},
     "output_type": "execute_result"
    }
   ],
   "source": [
    "r2 = r2_score(y_test, y_pred_rf)\n",
    "r2"
   ]
  },
  {
   "cell_type": "code",
   "execution_count": 33,
   "metadata": {},
   "outputs": [
    {
     "data": {
      "text/plain": [
       "0.09185732880019562"
      ]
     },
     "execution_count": 33,
     "metadata": {},
     "output_type": "execute_result"
    }
   ],
   "source": [
    "# Se calcula el error medio absoluto\n",
    "mae2 = mean_absolute_error(y_test, y_pred_rf)\n",
    "mae2"
   ]
  },
  {
   "cell_type": "markdown",
   "metadata": {},
   "source": [
    "### Modelo 3: Support Vector Machine"
   ]
  },
  {
   "cell_type": "code",
   "execution_count": 34,
   "metadata": {},
   "outputs": [],
   "source": [
    "# Se inicia el modelo\n",
    "regresor_svr = SVR(C=1.0, epsilon=0.2)"
   ]
  },
  {
   "cell_type": "code",
   "execution_count": 35,
   "metadata": {},
   "outputs": [
    {
     "data": {
      "text/html": [
       "<style>#sk-container-id-3 {color: black;background-color: white;}#sk-container-id-3 pre{padding: 0;}#sk-container-id-3 div.sk-toggleable {background-color: white;}#sk-container-id-3 label.sk-toggleable__label {cursor: pointer;display: block;width: 100%;margin-bottom: 0;padding: 0.3em;box-sizing: border-box;text-align: center;}#sk-container-id-3 label.sk-toggleable__label-arrow:before {content: \"▸\";float: left;margin-right: 0.25em;color: #696969;}#sk-container-id-3 label.sk-toggleable__label-arrow:hover:before {color: black;}#sk-container-id-3 div.sk-estimator:hover label.sk-toggleable__label-arrow:before {color: black;}#sk-container-id-3 div.sk-toggleable__content {max-height: 0;max-width: 0;overflow: hidden;text-align: left;background-color: #f0f8ff;}#sk-container-id-3 div.sk-toggleable__content pre {margin: 0.2em;color: black;border-radius: 0.25em;background-color: #f0f8ff;}#sk-container-id-3 input.sk-toggleable__control:checked~div.sk-toggleable__content {max-height: 200px;max-width: 100%;overflow: auto;}#sk-container-id-3 input.sk-toggleable__control:checked~label.sk-toggleable__label-arrow:before {content: \"▾\";}#sk-container-id-3 div.sk-estimator input.sk-toggleable__control:checked~label.sk-toggleable__label {background-color: #d4ebff;}#sk-container-id-3 div.sk-label input.sk-toggleable__control:checked~label.sk-toggleable__label {background-color: #d4ebff;}#sk-container-id-3 input.sk-hidden--visually {border: 0;clip: rect(1px 1px 1px 1px);clip: rect(1px, 1px, 1px, 1px);height: 1px;margin: -1px;overflow: hidden;padding: 0;position: absolute;width: 1px;}#sk-container-id-3 div.sk-estimator {font-family: monospace;background-color: #f0f8ff;border: 1px dotted black;border-radius: 0.25em;box-sizing: border-box;margin-bottom: 0.5em;}#sk-container-id-3 div.sk-estimator:hover {background-color: #d4ebff;}#sk-container-id-3 div.sk-parallel-item::after {content: \"\";width: 100%;border-bottom: 1px solid gray;flex-grow: 1;}#sk-container-id-3 div.sk-label:hover label.sk-toggleable__label {background-color: #d4ebff;}#sk-container-id-3 div.sk-serial::before {content: \"\";position: absolute;border-left: 1px solid gray;box-sizing: border-box;top: 0;bottom: 0;left: 50%;z-index: 0;}#sk-container-id-3 div.sk-serial {display: flex;flex-direction: column;align-items: center;background-color: white;padding-right: 0.2em;padding-left: 0.2em;position: relative;}#sk-container-id-3 div.sk-item {position: relative;z-index: 1;}#sk-container-id-3 div.sk-parallel {display: flex;align-items: stretch;justify-content: center;background-color: white;position: relative;}#sk-container-id-3 div.sk-item::before, #sk-container-id-3 div.sk-parallel-item::before {content: \"\";position: absolute;border-left: 1px solid gray;box-sizing: border-box;top: 0;bottom: 0;left: 50%;z-index: -1;}#sk-container-id-3 div.sk-parallel-item {display: flex;flex-direction: column;z-index: 1;position: relative;background-color: white;}#sk-container-id-3 div.sk-parallel-item:first-child::after {align-self: flex-end;width: 50%;}#sk-container-id-3 div.sk-parallel-item:last-child::after {align-self: flex-start;width: 50%;}#sk-container-id-3 div.sk-parallel-item:only-child::after {width: 0;}#sk-container-id-3 div.sk-dashed-wrapped {border: 1px dashed gray;margin: 0 0.4em 0.5em 0.4em;box-sizing: border-box;padding-bottom: 0.4em;background-color: white;}#sk-container-id-3 div.sk-label label {font-family: monospace;font-weight: bold;display: inline-block;line-height: 1.2em;}#sk-container-id-3 div.sk-label-container {text-align: center;}#sk-container-id-3 div.sk-container {/* jupyter's `normalize.less` sets `[hidden] { display: none; }` but bootstrap.min.css set `[hidden] { display: none !important; }` so we also need the `!important` here to be able to override the default hidden behavior on the sphinx rendered scikit-learn.org. See: https://github.com/scikit-learn/scikit-learn/issues/21755 */display: inline-block !important;position: relative;}#sk-container-id-3 div.sk-text-repr-fallback {display: none;}</style><div id=\"sk-container-id-3\" class=\"sk-top-container\"><div class=\"sk-text-repr-fallback\"><pre>SVR(epsilon=0.2)</pre><b>In a Jupyter environment, please rerun this cell to show the HTML representation or trust the notebook. <br />On GitHub, the HTML representation is unable to render, please try loading this page with nbviewer.org.</b></div><div class=\"sk-container\" hidden><div class=\"sk-item\"><div class=\"sk-estimator sk-toggleable\"><input class=\"sk-toggleable__control sk-hidden--visually\" id=\"sk-estimator-id-3\" type=\"checkbox\" checked><label for=\"sk-estimator-id-3\" class=\"sk-toggleable__label sk-toggleable__label-arrow\">SVR</label><div class=\"sk-toggleable__content\"><pre>SVR(epsilon=0.2)</pre></div></div></div></div></div>"
      ],
      "text/plain": [
       "SVR(epsilon=0.2)"
      ]
     },
     "execution_count": 35,
     "metadata": {},
     "output_type": "execute_result"
    }
   ],
   "source": [
    "# Se entrena el modelo\n",
    "regresor_svr.fit(X_train, y_train)"
   ]
  },
  {
   "cell_type": "code",
   "execution_count": 36,
   "metadata": {},
   "outputs": [
    {
     "data": {
      "text/plain": [
       "{'C': 1.0,\n",
       " 'cache_size': 200,\n",
       " 'coef0': 0.0,\n",
       " 'degree': 3,\n",
       " 'epsilon': 0.2,\n",
       " 'gamma': 'scale',\n",
       " 'kernel': 'rbf',\n",
       " 'max_iter': -1,\n",
       " 'shrinking': True,\n",
       " 'tol': 0.001,\n",
       " 'verbose': False}"
      ]
     },
     "execution_count": 36,
     "metadata": {},
     "output_type": "execute_result"
    }
   ],
   "source": [
    "regresor_svr.get_params()"
   ]
  },
  {
   "cell_type": "code",
   "execution_count": 37,
   "metadata": {},
   "outputs": [],
   "source": [
    "#Se predicen los valores para el set de testeo\n",
    "y_pred_svr = regresor_svr.predict(X_test)"
   ]
  },
  {
   "cell_type": "code",
   "execution_count": 38,
   "metadata": {},
   "outputs": [
    {
     "data": {
      "text/plain": [
       "0.5056580859190092"
      ]
     },
     "execution_count": 38,
     "metadata": {},
     "output_type": "execute_result"
    }
   ],
   "source": [
    "# Se calcula el error medio absoluto\n",
    "mae3 = mean_absolute_error(y_test, y_pred_svr)\n",
    "mae3"
   ]
  },
  {
   "cell_type": "code",
   "execution_count": 39,
   "metadata": {},
   "outputs": [
    {
     "data": {
      "text/plain": [
       "-0.13661304176364664"
      ]
     },
     "execution_count": 39,
     "metadata": {},
     "output_type": "execute_result"
    }
   ],
   "source": [
    "r3 = r2_score(y_test, y_pred_svr)\n",
    "r3"
   ]
  },
  {
   "cell_type": "markdown",
   "metadata": {},
   "source": [
    "## Comparación de modelos"
   ]
  },
  {
   "cell_type": "markdown",
   "metadata": {},
   "source": [
    "#### Gráfico de reales vs predichos"
   ]
  },
  {
   "cell_type": "code",
   "execution_count": 40,
   "metadata": {},
   "outputs": [
    {
     "data": {
      "image/png": "[encoded data removed]",
      "text/plain": [
       "<Figure size 640x480 with 1 Axes>"
      ]
     },
     "metadata": {},
     "output_type": "display_data"
    }
   ],
   "source": [
    "graph_real_pred(y_test, y_pred1, color=\"b\")\n",
    "graph_real_pred(y_test, y_pred_rf, color=\"r\")\n",
    "graph_real_pred(y_test, y_pred_svr, color=\"g\")\n",
    "plt.show()"
   ]
  },
  {
   "cell_type": "markdown",
   "metadata": {},
   "source": [
    "#### Qué modelo tiene el menor error absoluto medio?"
   ]
  },
  {
   "cell_type": "code",
   "execution_count": 41,
   "metadata": {},
   "outputs": [
    {
     "data": {
      "text/plain": [
       "(0.37845583504128766, 0.09185732880019562, 0.5056580859190092)"
      ]
     },
     "execution_count": 41,
     "metadata": {},
     "output_type": "execute_result"
    }
   ],
   "source": [
    "mae1, mae2, mae3"
   ]
  },
  {
   "cell_type": "markdown",
   "metadata": {},
   "source": [
    "#### Qué modelo ajusta mejor a una recta?"
   ]
  },
  {
   "cell_type": "code",
   "execution_count": 42,
   "metadata": {},
   "outputs": [
    {
     "data": {
      "text/plain": [
       "(0.5824332613424814, 0.9327827888806889, -0.13661304176364664)"
      ]
     },
     "execution_count": 42,
     "metadata": {},
     "output_type": "execute_result"
    }
   ],
   "source": [
    "r1, r2, r3"
   ]
  },
  {
   "cell_type": "markdown",
   "metadata": {},
   "source": [
    "Vemos que el modelo 2 (con random forest) presenta el mejor ajuste y el menor error, asique continuaremos con random forest, buscando los hiperparámtros óptimos."
   ]
  },
  {
   "cell_type": "markdown",
   "metadata": {},
   "source": [
    "## Búsqueda del mejor estimador"
   ]
  },
  {
   "cell_type": "code",
   "execution_count": 43,
   "metadata": {},
   "outputs": [],
   "source": [
    "# Valores para los parametros a optimizar\n",
    "param_grid_rf = {\n",
    "    'criterion': ['absolute_error'],\n",
    "    'n_estimators': [70, 80, 90, 100, 120],\n",
    "    'max_features': ['log2','sqrt'],\n",
    "    'max_depth': [1, 3, 5, 10, 20, 50],\n",
    "    'min_samples_leaf': [1, 3, 5, 10, 20, 50]\n",
    "}"
   ]
  },
  {
   "cell_type": "code",
   "execution_count": 44,
   "metadata": {},
   "outputs": [],
   "source": [
    "# Inicializamos un modelo\n",
    "grid_regresor = RandomForestRegressor(random_state=42)"
   ]
  },
  {
   "cell_type": "code",
   "execution_count": 45,
   "metadata": {},
   "outputs": [],
   "source": [
    "# Creamos la busqueda\n",
    "rf_search = GridSearchCV(estimator=grid_regresor, param_grid=param_grid_rf,\n",
    "                         cv=5, scoring='neg_mean_absolute_error', verbose=2, n_jobs=-1)"
   ]
  },
  {
   "cell_type": "code",
   "execution_count": 46,
   "metadata": {},
   "outputs": [
    {
     "name": "stdout",
     "output_type": "stream",
     "text": [
      "Fitting 5 folds for each of 360 candidates, totalling 1800 fits\n"
     ]
    },
    {
     "data": {
      "text/html": [
       "<style>#sk-container-id-4 {color: black;background-color: white;}#sk-container-id-4 pre{padding: 0;}#sk-container-id-4 div.sk-toggleable {background-color: white;}#sk-container-id-4 label.sk-toggleable__label {cursor: pointer;display: block;width: 100%;margin-bottom: 0;padding: 0.3em;box-sizing: border-box;text-align: center;}#sk-container-id-4 label.sk-toggleable__label-arrow:before {content: \"▸\";float: left;margin-right: 0.25em;color: #696969;}#sk-container-id-4 label.sk-toggleable__label-arrow:hover:before {color: black;}#sk-container-id-4 div.sk-estimator:hover label.sk-toggleable__label-arrow:before {color: black;}#sk-container-id-4 div.sk-toggleable__content {max-height: 0;max-width: 0;overflow: hidden;text-align: left;background-color: #f0f8ff;}#sk-container-id-4 div.sk-toggleable__content pre {margin: 0.2em;color: black;border-radius: 0.25em;background-color: #f0f8ff;}#sk-container-id-4 input.sk-toggleable__control:checked~div.sk-toggleable__content {max-height: 200px;max-width: 100%;overflow: auto;}#sk-container-id-4 input.sk-toggleable__control:checked~label.sk-toggleable__label-arrow:before {content: \"▾\";}#sk-container-id-4 div.sk-estimator input.sk-toggleable__control:checked~label.sk-toggleable__label {background-color: #d4ebff;}#sk-container-id-4 div.sk-label input.sk-toggleable__control:checked~label.sk-toggleable__label {background-color: #d4ebff;}#sk-container-id-4 input.sk-hidden--visually {border: 0;clip: rect(1px 1px 1px 1px);clip: rect(1px, 1px, 1px, 1px);height: 1px;margin: -1px;overflow: hidden;padding: 0;position: absolute;width: 1px;}#sk-container-id-4 div.sk-estimator {font-family: monospace;background-color: #f0f8ff;border: 1px dotted black;border-radius: 0.25em;box-sizing: border-box;margin-bottom: 0.5em;}#sk-container-id-4 div.sk-estimator:hover {background-color: #d4ebff;}#sk-container-id-4 div.sk-parallel-item::after {content: \"\";width: 100%;border-bottom: 1px solid gray;flex-grow: 1;}#sk-container-id-4 div.sk-label:hover label.sk-toggleable__label {background-color: #d4ebff;}#sk-container-id-4 div.sk-serial::before {content: \"\";position: absolute;border-left: 1px solid gray;box-sizing: border-box;top: 0;bottom: 0;left: 50%;z-index: 0;}#sk-container-id-4 div.sk-serial {display: flex;flex-direction: column;align-items: center;background-color: white;padding-right: 0.2em;padding-left: 0.2em;position: relative;}#sk-container-id-4 div.sk-item {position: relative;z-index: 1;}#sk-container-id-4 div.sk-parallel {display: flex;align-items: stretch;justify-content: center;background-color: white;position: relative;}#sk-container-id-4 div.sk-item::before, #sk-container-id-4 div.sk-parallel-item::before {content: \"\";position: absolute;border-left: 1px solid gray;box-sizing: border-box;top: 0;bottom: 0;left: 50%;z-index: -1;}#sk-container-id-4 div.sk-parallel-item {display: flex;flex-direction: column;z-index: 1;position: relative;background-color: white;}#sk-container-id-4 div.sk-parallel-item:first-child::after {align-self: flex-end;width: 50%;}#sk-container-id-4 div.sk-parallel-item:last-child::after {align-self: flex-start;width: 50%;}#sk-container-id-4 div.sk-parallel-item:only-child::after {width: 0;}#sk-container-id-4 div.sk-dashed-wrapped {border: 1px dashed gray;margin: 0 0.4em 0.5em 0.4em;box-sizing: border-box;padding-bottom: 0.4em;background-color: white;}#sk-container-id-4 div.sk-label label {font-family: monospace;font-weight: bold;display: inline-block;line-height: 1.2em;}#sk-container-id-4 div.sk-label-container {text-align: center;}#sk-container-id-4 div.sk-container {/* jupyter's `normalize.less` sets `[hidden] { display: none; }` but bootstrap.min.css set `[hidden] { display: none !important; }` so we also need the `!important` here to be able to override the default hidden behavior on the sphinx rendered scikit-learn.org. See: https://github.com/scikit-learn/scikit-learn/issues/21755 */display: inline-block !important;position: relative;}#sk-container-id-4 div.sk-text-repr-fallback {display: none;}</style><div id=\"sk-container-id-4\" class=\"sk-top-container\"><div class=\"sk-text-repr-fallback\"><pre>GridSearchCV(cv=5, estimator=RandomForestRegressor(random_state=42), n_jobs=-1,\n",
       "             param_grid={&#x27;criterion&#x27;: [&#x27;absolute_error&#x27;],\n",
       "                         &#x27;max_depth&#x27;: [1, 3, 5, 10, 20, 50],\n",
       "                         &#x27;max_features&#x27;: [&#x27;log2&#x27;, &#x27;sqrt&#x27;],\n",
       "                         &#x27;min_samples_leaf&#x27;: [1, 3, 5, 10, 20, 50],\n",
       "                         &#x27;n_estimators&#x27;: [70, 80, 90, 100, 120]},\n",
       "             scoring=&#x27;neg_mean_absolute_error&#x27;, verbose=2)</pre><b>In a Jupyter environment, please rerun this cell to show the HTML representation or trust the notebook. <br />On GitHub, the HTML representation is unable to render, please try loading this page with nbviewer.org.</b></div><div class=\"sk-container\" hidden><div class=\"sk-item sk-dashed-wrapped\"><div class=\"sk-label-container\"><div class=\"sk-label sk-toggleable\"><input class=\"sk-toggleable__control sk-hidden--visually\" id=\"sk-estimator-id-4\" type=\"checkbox\" ><label for=\"sk-estimator-id-4\" class=\"sk-toggleable__label sk-toggleable__label-arrow\">GridSearchCV</label><div class=\"sk-toggleable__content\"><pre>GridSearchCV(cv=5, estimator=RandomForestRegressor(random_state=42), n_jobs=-1,\n",
       "             param_grid={&#x27;criterion&#x27;: [&#x27;absolute_error&#x27;],\n",
       "                         &#x27;max_depth&#x27;: [1, 3, 5, 10, 20, 50],\n",
       "                         &#x27;max_features&#x27;: [&#x27;log2&#x27;, &#x27;sqrt&#x27;],\n",
       "                         &#x27;min_samples_leaf&#x27;: [1, 3, 5, 10, 20, 50],\n",
       "                         &#x27;n_estimators&#x27;: [70, 80, 90, 100, 120]},\n",
       "             scoring=&#x27;neg_mean_absolute_error&#x27;, verbose=2)</pre></div></div></div><div class=\"sk-parallel\"><div class=\"sk-parallel-item\"><div class=\"sk-item\"><div class=\"sk-label-container\"><div class=\"sk-label sk-toggleable\"><input class=\"sk-toggleable__control sk-hidden--visually\" id=\"sk-estimator-id-5\" type=\"checkbox\" ><label for=\"sk-estimator-id-5\" class=\"sk-toggleable__label sk-toggleable__label-arrow\">estimator: RandomForestRegressor</label><div class=\"sk-toggleable__content\"><pre>RandomForestRegressor(random_state=42)</pre></div></div></div><div class=\"sk-serial\"><div class=\"sk-item\"><div class=\"sk-estimator sk-toggleable\"><input class=\"sk-toggleable__control sk-hidden--visually\" id=\"sk-estimator-id-6\" type=\"checkbox\" ><label for=\"sk-estimator-id-6\" class=\"sk-toggleable__label sk-toggleable__label-arrow\">RandomForestRegressor</label><div class=\"sk-toggleable__content\"><pre>RandomForestRegressor(random_state=42)</pre></div></div></div></div></div></div></div></div></div></div>"
      ],
      "text/plain": [
       "GridSearchCV(cv=5, estimator=RandomForestRegressor(random_state=42), n_jobs=-1,\n",
       "             param_grid={'criterion': ['absolute_error'],\n",
       "                         'max_depth': [1, 3, 5, 10, 20, 50],\n",
       "                         'max_features': ['log2', 'sqrt'],\n",
       "                         'min_samples_leaf': [1, 3, 5, 10, 20, 50],\n",
       "                         'n_estimators': [70, 80, 90, 100, 120]},\n",
       "             scoring='neg_mean_absolute_error', verbose=2)"
      ]
     },
     "execution_count": 46,
     "metadata": {},
     "output_type": "execute_result"
    }
   ],
   "source": [
    "# Corremos el gridsearch con una validación usando 3 folds.\n",
    "rf_search.fit(X_train, y_train)"
   ]
  },
  {
   "cell_type": "code",
   "execution_count": 47,
   "metadata": {},
   "outputs": [
    {
     "data": {
      "text/html": [
       "<style>#sk-container-id-5 {color: black;background-color: white;}#sk-container-id-5 pre{padding: 0;}#sk-container-id-5 div.sk-toggleable {background-color: white;}#sk-container-id-5 label.sk-toggleable__label {cursor: pointer;display: block;width: 100%;margin-bottom: 0;padding: 0.3em;box-sizing: border-box;text-align: center;}#sk-container-id-5 label.sk-toggleable__label-arrow:before {content: \"▸\";float: left;margin-right: 0.25em;color: #696969;}#sk-container-id-5 label.sk-toggleable__label-arrow:hover:before {color: black;}#sk-container-id-5 div.sk-estimator:hover label.sk-toggleable__label-arrow:before {color: black;}#sk-container-id-5 div.sk-toggleable__content {max-height: 0;max-width: 0;overflow: hidden;text-align: left;background-color: #f0f8ff;}#sk-container-id-5 div.sk-toggleable__content pre {margin: 0.2em;color: black;border-radius: 0.25em;background-color: #f0f8ff;}#sk-container-id-5 input.sk-toggleable__control:checked~div.sk-toggleable__content {max-height: 200px;max-width: 100%;overflow: auto;}#sk-container-id-5 input.sk-toggleable__control:checked~label.sk-toggleable__label-arrow:before {content: \"▾\";}#sk-container-id-5 div.sk-estimator input.sk-toggleable__control:checked~label.sk-toggleable__label {background-color: #d4ebff;}#sk-container-id-5 div.sk-label input.sk-toggleable__control:checked~label.sk-toggleable__label {background-color: #d4ebff;}#sk-container-id-5 input.sk-hidden--visually {border: 0;clip: rect(1px 1px 1px 1px);clip: rect(1px, 1px, 1px, 1px);height: 1px;margin: -1px;overflow: hidden;padding: 0;position: absolute;width: 1px;}#sk-container-id-5 div.sk-estimator {font-family: monospace;background-color: #f0f8ff;border: 1px dotted black;border-radius: 0.25em;box-sizing: border-box;margin-bottom: 0.5em;}#sk-container-id-5 div.sk-estimator:hover {background-color: #d4ebff;}#sk-container-id-5 div.sk-parallel-item::after {content: \"\";width: 100%;border-bottom: 1px solid gray;flex-grow: 1;}#sk-container-id-5 div.sk-label:hover label.sk-toggleable__label {background-color: #d4ebff;}#sk-container-id-5 div.sk-serial::before {content: \"\";position: absolute;border-left: 1px solid gray;box-sizing: border-box;top: 0;bottom: 0;left: 50%;z-index: 0;}#sk-container-id-5 div.sk-serial {display: flex;flex-direction: column;align-items: center;background-color: white;padding-right: 0.2em;padding-left: 0.2em;position: relative;}#sk-container-id-5 div.sk-item {position: relative;z-index: 1;}#sk-container-id-5 div.sk-parallel {display: flex;align-items: stretch;justify-content: center;background-color: white;position: relative;}#sk-container-id-5 div.sk-item::before, #sk-container-id-5 div.sk-parallel-item::before {content: \"\";position: absolute;border-left: 1px solid gray;box-sizing: border-box;top: 0;bottom: 0;left: 50%;z-index: -1;}#sk-container-id-5 div.sk-parallel-item {display: flex;flex-direction: column;z-index: 1;position: relative;background-color: white;}#sk-container-id-5 div.sk-parallel-item:first-child::after {align-self: flex-end;width: 50%;}#sk-container-id-5 div.sk-parallel-item:last-child::after {align-self: flex-start;width: 50%;}#sk-container-id-5 div.sk-parallel-item:only-child::after {width: 0;}#sk-container-id-5 div.sk-dashed-wrapped {border: 1px dashed gray;margin: 0 0.4em 0.5em 0.4em;box-sizing: border-box;padding-bottom: 0.4em;background-color: white;}#sk-container-id-5 div.sk-label label {font-family: monospace;font-weight: bold;display: inline-block;line-height: 1.2em;}#sk-container-id-5 div.sk-label-container {text-align: center;}#sk-container-id-5 div.sk-container {/* jupyter's `normalize.less` sets `[hidden] { display: none; }` but bootstrap.min.css set `[hidden] { display: none !important; }` so we also need the `!important` here to be able to override the default hidden behavior on the sphinx rendered scikit-learn.org. See: https://github.com/scikit-learn/scikit-learn/issues/21755 */display: inline-block !important;position: relative;}#sk-container-id-5 div.sk-text-repr-fallback {display: none;}</style><div id=\"sk-container-id-5\" class=\"sk-top-container\"><div class=\"sk-text-repr-fallback\"><pre>RandomForestRegressor(criterion=&#x27;absolute_error&#x27;, max_depth=20,\n",
       "                      max_features=&#x27;log2&#x27;, n_estimators=120, random_state=42)</pre><b>In a Jupyter environment, please rerun this cell to show the HTML representation or trust the notebook. <br />On GitHub, the HTML representation is unable to render, please try loading this page with nbviewer.org.</b></div><div class=\"sk-container\" hidden><div class=\"sk-item\"><div class=\"sk-estimator sk-toggleable\"><input class=\"sk-toggleable__control sk-hidden--visually\" id=\"sk-estimator-id-7\" type=\"checkbox\" checked><label for=\"sk-estimator-id-7\" class=\"sk-toggleable__label sk-toggleable__label-arrow\">RandomForestRegressor</label><div class=\"sk-toggleable__content\"><pre>RandomForestRegressor(criterion=&#x27;absolute_error&#x27;, max_depth=20,\n",
       "                      max_features=&#x27;log2&#x27;, n_estimators=120, random_state=42)</pre></div></div></div></div></div>"
      ],
      "text/plain": [
       "RandomForestRegressor(criterion='absolute_error', max_depth=20,\n",
       "                      max_features='log2', n_estimators=120, random_state=42)"
      ]
     },
     "execution_count": 47,
     "metadata": {},
     "output_type": "execute_result"
    }
   ],
   "source": [
    "rf_search.best_estimator_"
   ]
  },
  {
   "cell_type": "code",
   "execution_count": 48,
   "metadata": {},
   "outputs": [
    {
     "data": {
      "text/plain": [
       "{'criterion': 'absolute_error',\n",
       " 'max_depth': 20,\n",
       " 'max_features': 'log2',\n",
       " 'min_samples_leaf': 1,\n",
       " 'n_estimators': 120}"
      ]
     },
     "execution_count": 48,
     "metadata": {},
     "output_type": "execute_result"
    }
   ],
   "source": [
    "rf_search.best_params_"
   ]
  },
  {
   "cell_type": "code",
   "execution_count": 49,
   "metadata": {},
   "outputs": [
    {
     "data": {
      "text/plain": [
       "-0.14986975275401151"
      ]
     },
     "execution_count": 49,
     "metadata": {},
     "output_type": "execute_result"
    }
   ],
   "source": [
    "rf_search.best_score_"
   ]
  },
  {
   "cell_type": "code",
   "execution_count": 50,
   "metadata": {},
   "outputs": [],
   "source": [
    "# Asignamos el mejor estimador a mejor_regresor\n",
    "mejor_regresor = RandomForestRegressor(criterion='absolute_error', n_estimators=120, max_depth=20, max_features='log2', min_samples_leaf=1)"
   ]
  },
  {
   "cell_type": "code",
   "execution_count": 51,
   "metadata": {},
   "outputs": [
    {
     "data": {
      "text/html": [
       "<style>#sk-container-id-6 {color: black;background-color: white;}#sk-container-id-6 pre{padding: 0;}#sk-container-id-6 div.sk-toggleable {background-color: white;}#sk-container-id-6 label.sk-toggleable__label {cursor: pointer;display: block;width: 100%;margin-bottom: 0;padding: 0.3em;box-sizing: border-box;text-align: center;}#sk-container-id-6 label.sk-toggleable__label-arrow:before {content: \"▸\";float: left;margin-right: 0.25em;color: #696969;}#sk-container-id-6 label.sk-toggleable__label-arrow:hover:before {color: black;}#sk-container-id-6 div.sk-estimator:hover label.sk-toggleable__label-arrow:before {color: black;}#sk-container-id-6 div.sk-toggleable__content {max-height: 0;max-width: 0;overflow: hidden;text-align: left;background-color: #f0f8ff;}#sk-container-id-6 div.sk-toggleable__content pre {margin: 0.2em;color: black;border-radius: 0.25em;background-color: #f0f8ff;}#sk-container-id-6 input.sk-toggleable__control:checked~div.sk-toggleable__content {max-height: 200px;max-width: 100%;overflow: auto;}#sk-container-id-6 input.sk-toggleable__control:checked~label.sk-toggleable__label-arrow:before {content: \"▾\";}#sk-container-id-6 div.sk-estimator input.sk-toggleable__control:checked~label.sk-toggleable__label {background-color: #d4ebff;}#sk-container-id-6 div.sk-label input.sk-toggleable__control:checked~label.sk-toggleable__label {background-color: #d4ebff;}#sk-container-id-6 input.sk-hidden--visually {border: 0;clip: rect(1px 1px 1px 1px);clip: rect(1px, 1px, 1px, 1px);height: 1px;margin: -1px;overflow: hidden;padding: 0;position: absolute;width: 1px;}#sk-container-id-6 div.sk-estimator {font-family: monospace;background-color: #f0f8ff;border: 1px dotted black;border-radius: 0.25em;box-sizing: border-box;margin-bottom: 0.5em;}#sk-container-id-6 div.sk-estimator:hover {background-color: #d4ebff;}#sk-container-id-6 div.sk-parallel-item::after {content: \"\";width: 100%;border-bottom: 1px solid gray;flex-grow: 1;}#sk-container-id-6 div.sk-label:hover label.sk-toggleable__label {background-color: #d4ebff;}#sk-container-id-6 div.sk-serial::before {content: \"\";position: absolute;border-left: 1px solid gray;box-sizing: border-box;top: 0;bottom: 0;left: 50%;z-index: 0;}#sk-container-id-6 div.sk-serial {display: flex;flex-direction: column;align-items: center;background-color: white;padding-right: 0.2em;padding-left: 0.2em;position: relative;}#sk-container-id-6 div.sk-item {position: relative;z-index: 1;}#sk-container-id-6 div.sk-parallel {display: flex;align-items: stretch;justify-content: center;background-color: white;position: relative;}#sk-container-id-6 div.sk-item::before, #sk-container-id-6 div.sk-parallel-item::before {content: \"\";position: absolute;border-left: 1px solid gray;box-sizing: border-box;top: 0;bottom: 0;left: 50%;z-index: -1;}#sk-container-id-6 div.sk-parallel-item {display: flex;flex-direction: column;z-index: 1;position: relative;background-color: white;}#sk-container-id-6 div.sk-parallel-item:first-child::after {align-self: flex-end;width: 50%;}#sk-container-id-6 div.sk-parallel-item:last-child::after {align-self: flex-start;width: 50%;}#sk-container-id-6 div.sk-parallel-item:only-child::after {width: 0;}#sk-container-id-6 div.sk-dashed-wrapped {border: 1px dashed gray;margin: 0 0.4em 0.5em 0.4em;box-sizing: border-box;padding-bottom: 0.4em;background-color: white;}#sk-container-id-6 div.sk-label label {font-family: monospace;font-weight: bold;display: inline-block;line-height: 1.2em;}#sk-container-id-6 div.sk-label-container {text-align: center;}#sk-container-id-6 div.sk-container {/* jupyter's `normalize.less` sets `[hidden] { display: none; }` but bootstrap.min.css set `[hidden] { display: none !important; }` so we also need the `!important` here to be able to override the default hidden behavior on the sphinx rendered scikit-learn.org. See: https://github.com/scikit-learn/scikit-learn/issues/21755 */display: inline-block !important;position: relative;}#sk-container-id-6 div.sk-text-repr-fallback {display: none;}</style><div id=\"sk-container-id-6\" class=\"sk-top-container\"><div class=\"sk-text-repr-fallback\"><pre>RandomForestRegressor(criterion=&#x27;absolute_error&#x27;, max_depth=20,\n",
       "                      max_features=&#x27;log2&#x27;, n_estimators=120)</pre><b>In a Jupyter environment, please rerun this cell to show the HTML representation or trust the notebook. <br />On GitHub, the HTML representation is unable to render, please try loading this page with nbviewer.org.</b></div><div class=\"sk-container\" hidden><div class=\"sk-item\"><div class=\"sk-estimator sk-toggleable\"><input class=\"sk-toggleable__control sk-hidden--visually\" id=\"sk-estimator-id-8\" type=\"checkbox\" checked><label for=\"sk-estimator-id-8\" class=\"sk-toggleable__label sk-toggleable__label-arrow\">RandomForestRegressor</label><div class=\"sk-toggleable__content\"><pre>RandomForestRegressor(criterion=&#x27;absolute_error&#x27;, max_depth=20,\n",
       "                      max_features=&#x27;log2&#x27;, n_estimators=120)</pre></div></div></div></div></div>"
      ],
      "text/plain": [
       "RandomForestRegressor(criterion='absolute_error', max_depth=20,\n",
       "                      max_features='log2', n_estimators=120)"
      ]
     },
     "execution_count": 51,
     "metadata": {},
     "output_type": "execute_result"
    }
   ],
   "source": [
    "# Entrenamos el modelo\n",
    "mejor_regresor.fit(X_train, y_train)"
   ]
  },
  {
   "cell_type": "code",
   "execution_count": 52,
   "metadata": {},
   "outputs": [],
   "source": [
    "# Hacemos la prediccion para el test de evaluación\n",
    "predicciones = mejor_regresor.predict(X_test)"
   ]
  },
  {
   "cell_type": "markdown",
   "metadata": {},
   "source": [
    "### Evaluación de métricas del modelo"
   ]
  },
  {
   "cell_type": "markdown",
   "metadata": {},
   "source": [
    "#### Error absoluto medio"
   ]
  },
  {
   "cell_type": "code",
   "execution_count": 53,
   "metadata": {},
   "outputs": [
    {
     "data": {
      "text/plain": [
       "0.14262121923496682"
      ]
     },
     "execution_count": 53,
     "metadata": {},
     "output_type": "execute_result"
    }
   ],
   "source": [
    "mae4 = mean_absolute_error(y_test, predicciones)\n",
    "mae4"
   ]
  },
  {
   "cell_type": "markdown",
   "metadata": {},
   "source": [
    "#### R cuadrado"
   ]
  },
  {
   "cell_type": "code",
   "execution_count": 54,
   "metadata": {},
   "outputs": [
    {
     "data": {
      "text/plain": [
       "0.886018792006255"
      ]
     },
     "execution_count": 54,
     "metadata": {},
     "output_type": "execute_result"
    }
   ],
   "source": [
    "r4 = r2_score(y_test, predicciones)\n",
    "r4"
   ]
  },
  {
   "cell_type": "markdown",
   "metadata": {},
   "source": [
    "#### Reales vs predichos"
   ]
  },
  {
   "cell_type": "code",
   "execution_count": 55,
   "metadata": {},
   "outputs": [
    {
     "data": {
      "image/png": "[encoded data removed]",
      "text/plain": [
       "<Figure size 640x480 with 1 Axes>"
      ]
     },
     "metadata": {},
     "output_type": "display_data"
    }
   ],
   "source": [
    "# Correlacion\n",
    "graph_real_pred(y_test, predicciones, color=\"b\")"
   ]
  },
  {
   "cell_type": "markdown",
   "metadata": {},
   "source": [
    "## Feature importance"
   ]
  },
  {
   "cell_type": "code",
   "execution_count": 56,
   "metadata": {},
   "outputs": [
    {
     "name": "stdout",
     "output_type": "stream",
     "text": [
      "Variable: population Importance: 0.3\n",
      "Variable: nivel_ingresos Importance: 0.13\n",
      "Variable: continente Importance: 0.08\n",
      "Variable: year Importance: 0.02\n",
      "Variable: cluster Importance: 0.01\n"
     ]
    },
    {
     "data": {
      "image/png": "[encoded data removed]",
      "text/plain": [
       "<Figure size 2500x600 with 1 Axes>"
      ]
     },
     "metadata": {},
     "output_type": "display_data"
    }
   ],
   "source": [
    "# Importancia de cada feature\n",
    "feature_importance(mejor_regresor, predictoras)"
   ]
  },
  {
   "cell_type": "markdown",
   "metadata": {},
   "source": [
    "Vemos que las variables con mayor impacto en la producción de energía low_carbon de un país son su población y su nivel de ingresos, con menores aportes del contienente y casi sin aporte del año y el cluster asignado por el modelo de aprendizaje no supervisado DBSCAN de la notebooks clustering_perfil_energetico. "
   ]
  },
  {
   "cell_type": "markdown",
   "metadata": {},
   "source": [
    "## Conclusiones"
   ]
  },
  {
   "cell_type": "markdown",
   "metadata": {},
   "source": [
    "Pudimos correr varios modelos de regresión y seleccionar el algoritmo de mejor ajuste, para luego optimizar sus hiperparámetros. <br>\n",
    "Pudimos determinar algunas de las variables que impactan en la producción low-carbon de un país. "
   ]
  }
 ],
 "metadata": {
  "kernelspec": {
   "display_name": "Python 3 (ipykernel)",
   "language": "python",
   "name": "python3"
  },
  "language_info": {
   "codemirror_mode": {
    "name": "ipython",
    "version": 3
   },
   "file_extension": ".py",
   "mimetype": "text/x-python",
   "name": "python",
   "nbconvert_exporter": "python",
   "pygments_lexer": "ipython3",
   "version": "3.11.5"
  }
 },
 "nbformat": 4,
 "nbformat_minor": 5
}
