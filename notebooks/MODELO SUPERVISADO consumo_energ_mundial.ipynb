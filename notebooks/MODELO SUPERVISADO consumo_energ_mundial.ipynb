{
 "cells": [
  {
   "cell_type": "markdown",
   "id": "165fa68d",
   "metadata": {},
   "source": [
    "# MODELO SUPERVISADO "
   ]
  },
  {
   "cell_type": "markdown",
   "metadata": {},
   "source": [
    "##### OBJETIVO: Predecir cuanta energía eólica producirán los países de America del sur en los proximos 5 años "
   ]
  },
  {
   "cell_type": "code",
   "execution_count": 85,
   "id": "5ff491dd",
   "metadata": {},
   "outputs": [],
   "source": [
    "# Se importan las librerías que se utilizarán: \n",
    "import numpy as np\n",
    "import pandas as pd\n",
    "import matplotlib.pyplot as plt\n",
    "import seaborn as sns \n",
    "import scipy as stats\n",
    "import re\n",
    "import heapq\n",
    "import matplotlib.cm as cm\n",
    "import os\n",
    "from sklearn.model_selection import train_test_split"
   ]
  },
  {
   "cell_type": "code",
   "execution_count": 86,
   "id": "2bfba850",
   "metadata": {},
   "outputs": [],
   "source": [
    "# Se importa el dataset \n",
    "suram1 = pd.read_csv(r'..\\\\datasets\\\\suram1.csv')  "
   ]
  },
  {
   "cell_type": "code",
   "execution_count": 87,
   "metadata": {},
   "outputs": [
    {
     "data": {
      "text/plain": [
       "array(['Argentina', 'Bolivia', 'Brazil', 'Chile', 'Colombia', 'Ecuador',\n",
       "       'French Guiana', 'Guyana', 'Paraguay', 'Peru', 'Suriname',\n",
       "       'Trinidad and Tobago', 'Uruguay', 'Venezuela'], dtype=object)"
      ]
     },
     "execution_count": 87,
     "metadata": {},
     "output_type": "execute_result"
    }
   ],
   "source": [
    "# Se consultan los datos únicos que integran la columna country \n",
    "suram1['country'].unique() "
   ]
  },
  {
   "cell_type": "code",
   "execution_count": 88,
   "metadata": {},
   "outputs": [
    {
     "name": "stdout",
     "output_type": "stream",
     "text": [
      "Index(['iso_code', 'country', 'year', 'coal_share_elec',\n",
      "       'coal_elec_per_capita', 'electricity_generation', 'biofuel_electricity',\n",
      "       'coal_electricity', 'fossil_electricity', 'gas_electricity',\n",
      "       'hydro_electricity', 'nuclear_electricity', 'oil_electricity',\n",
      "       'other_renewable_electricity',\n",
      "       'other_renewable_exc_biofuel_electricity', 'renewables_electricity',\n",
      "       'solar_electricity', 'wind_electricity', 'energy_per_capita',\n",
      "       'fossil_cons_per_capita', 'fossil_share_elec', 'gas_share_elec',\n",
      "       'gas_elec_per_capita', 'hydro_share_elec', 'hydro_elec_per_capita',\n",
      "       'low_carbon_share_elec', 'low_carbon_electricity',\n",
      "       'low_carbon_elec_per_capita', 'oil_share_elec', 'oil_elec_per_capita',\n",
      "       'other_renewables_elec_per_capita', 'other_renewables_share_elec',\n",
      "       'per_capita_electricity', 'population', 'primary_energy_consumption',\n",
      "       'renewables_elec_per_capita', 'renewables_share_elec',\n",
      "       'solar_share_elec', 'solar_elec_per_capita', 'wind_share_elec',\n",
      "       'wind_elec_per_capita'],\n",
      "      dtype='object')\n"
     ]
    }
   ],
   "source": [
    "# Se consultan los nombres de las columnas\n",
    "print(suram1.columns)"
   ]
  },
  {
   "cell_type": "code",
   "execution_count": 84,
   "metadata": {},
   "outputs": [
    {
     "data": {
      "text/plain": [
       "iso_code                                   0\n",
       "gas_share_elec                             0\n",
       "hydro_share_elec                           0\n",
       "hydro_elec_per_capita                      0\n",
       "low_carbon_share_elec                      0\n",
       "low_carbon_electricity                     0\n",
       "low_carbon_elec_per_capita                 0\n",
       "oil_share_elec                             0\n",
       "oil_elec_per_capita                        0\n",
       "other_renewables_elec_per_capita           0\n",
       "other_renewables_share_elec                0\n",
       "per_capita_electricity                     0\n",
       "population                                 0\n",
       "primary_energy_consumption                 0\n",
       "renewables_elec_per_capita                 0\n",
       "renewables_share_elec                      0\n",
       "solar_share_elec                           0\n",
       "solar_elec_per_capita                      0\n",
       "wind_share_elec                            0\n",
       "gas_elec_per_capita                        0\n",
       "fossil_share_elec                          0\n",
       "country                                    0\n",
       "fossil_cons_per_capita                     0\n",
       "year                                       0\n",
       "coal_share_elec                            0\n",
       "coal_elec_per_capita                       0\n",
       "electricity_generation                     0\n",
       "biofuel_electricity                        0\n",
       "coal_electricity                           0\n",
       "fossil_electricity                         0\n",
       "gas_electricity                            0\n",
       "hydro_electricity                          0\n",
       "nuclear_electricity                        0\n",
       "oil_electricity                            0\n",
       "other_renewable_electricity                0\n",
       "other_renewable_exc_biofuel_electricity    0\n",
       "renewables_electricity                     0\n",
       "solar_electricity                          0\n",
       "wind_electricity                           0\n",
       "energy_per_capita                          0\n",
       "wind_elec_per_capita                       0\n",
       "dtype: int64"
      ]
     },
     "execution_count": 84,
     "metadata": {},
     "output_type": "execute_result"
    }
   ],
   "source": [
    "# Se observan cuántos valores faltantes tiene cada columna (ordenados de mayor a menor)\n",
    "missing_values =suram1.isnull().sum().sort_values(ascending = False) \n",
    "missing_values"
   ]
  },
  {
   "cell_type": "code",
   "execution_count": null,
   "metadata": {},
   "outputs": [],
   "source": [
    "peliculas5['pel_exitosa']=peliculas5['punt_media'].apply(lambda x: 0 if x < 3.5 else 1)\n",
    "peliculas5"
   ]
  },
  {
   "cell_type": "code",
   "execution_count": null,
   "metadata": {},
   "outputs": [],
   "source": []
  },
  {
   "cell_type": "code",
   "execution_count": null,
   "id": "f4e5ed2e",
   "metadata": {},
   "outputs": [],
   "source": [
    "# Se crean las variables dummies\n",
    "dum_supervisado = pd.get_dummies(peliculas5[['plataforma', 'clasificacion',]])"
   ]
  },
  {
   "cell_type": "code",
   "execution_count": null,
   "id": "d69b1fc6",
   "metadata": {},
   "outputs": [],
   "source": [
    "supervisado1= pd.concat([peliculas5, dum_supervisado], axis=1)\n",
    "supervisado1"
   ]
  },
  {
   "cell_type": "code",
   "execution_count": null,
   "id": "76406b25",
   "metadata": {},
   "outputs": [],
   "source": [
    "# Se guarada el dataset a csv\n",
    "supervisado1.to_csv(r'..\\datasets\\supervisado1.csv', index=False)\n",
    "supervisado1"
   ]
  },
  {
   "cell_type": "code",
   "execution_count": null,
   "id": "0bda69d3",
   "metadata": {},
   "outputs": [],
   "source": [
    "# Se eliminan aquellas variables que no se van a incluir en el modelo.\n",
    "supervisado1= supervisado1.drop(['show_id','titulo', 'director', 'elenco', 'clasificacion', 'genero', 'plataforma', 'anio', 'duracion'], axis=1)\n",
    "supervisado1"
   ]
  },
  {
   "cell_type": "code",
   "execution_count": null,
   "id": "bec9b6b2",
   "metadata": {},
   "outputs": [],
   "source": [
    "# Se guarada el dataset a csv\n",
    "supervisado1.to_csv(r'..\\datasets\\supervisado2.csv', index=False)"
   ]
  },
  {
   "cell_type": "code",
   "execution_count": null,
   "id": "9b075cad",
   "metadata": {},
   "outputs": [],
   "source": [
    "# Se importa el dataset y se visualiza\n",
    "supervisado2=pd.read_csv(r'..\\\\datasets\\\\supervisado2.csv')\n",
    "supervisado2"
   ]
  },
  {
   "cell_type": "markdown",
   "id": "d32ef9df",
   "metadata": {},
   "source": [
    "### Objetivo: Determinar si la película será exitosa\n"
   ]
  },
  {
   "cell_type": "code",
   "execution_count": null,
   "id": "70100928",
   "metadata": {},
   "outputs": [],
   "source": [
    "# Se eliminan aquellas variables que no se vana a incluir en el modelo y se las guardo en x. \n",
    "x= supervisado2.drop(['punt_media'], axis=1)\n",
    "x.head()"
   ]
  },
  {
   "cell_type": "code",
   "execution_count": null,
   "id": "cf43c616",
   "metadata": {},
   "outputs": [],
   "source": [
    "lista_atributos = x.columns"
   ]
  },
  {
   "cell_type": "code",
   "execution_count": null,
   "id": "5ef95460",
   "metadata": {},
   "outputs": [],
   "source": [
    "# Ahora selecciono las etiquetas y las guardo en y.\n",
    "y = supervisado2['punt_media']"
   ]
  },
  {
   "cell_type": "code",
   "execution_count": null,
   "id": "c6b6e78e",
   "metadata": {},
   "outputs": [],
   "source": [
    "x, y = np.array(x), np.array(y)"
   ]
  },
  {
   "cell_type": "code",
   "execution_count": null,
   "id": "1b3ddc39",
   "metadata": {},
   "outputs": [],
   "source": [
    "x      "
   ]
  },
  {
   "cell_type": "code",
   "execution_count": null,
   "id": "46c2d228",
   "metadata": {},
   "outputs": [],
   "source": [
    "y[:4]   # En este caso es el punt_media"
   ]
  },
  {
   "cell_type": "markdown",
   "id": "e9fbfcdd",
   "metadata": {},
   "source": [
    "### Separando Train / Test "
   ]
  },
  {
   "cell_type": "code",
   "execution_count": null,
   "id": "11eed71d",
   "metadata": {},
   "outputs": [],
   "source": [
    "X_train, X_test, y_train, y_test = train_test_split(x, y, test_size=0.2,random_state=42)"
   ]
  },
  {
   "cell_type": "code",
   "execution_count": null,
   "id": "257801d8",
   "metadata": {},
   "outputs": [],
   "source": [
    "x.shape # Se observan la cantidad de filas y columnas "
   ]
  },
  {
   "cell_type": "code",
   "execution_count": null,
   "id": "60cd5f2b",
   "metadata": {},
   "outputs": [],
   "source": [
    "X_train.shape # 10420 seran de entrenamiento "
   ]
  },
  {
   "cell_type": "code",
   "execution_count": null,
   "id": "019cd835",
   "metadata": {},
   "outputs": [],
   "source": [
    "X_test.shape  # 2606 serán de evaluación "
   ]
  },
  {
   "cell_type": "code",
   "execution_count": null,
   "id": "7cde70f7",
   "metadata": {},
   "outputs": [],
   "source": [
    "X_test"
   ]
  },
  {
   "cell_type": "markdown",
   "id": "27eee4f6",
   "metadata": {},
   "source": [
    "### Random Forest"
   ]
  },
  {
   "cell_type": "code",
   "execution_count": null,
   "id": "62736f68",
   "metadata": {},
   "outputs": [],
   "source": [
    "# Se importan las librerías\n",
    "from sklearn.ensemble import RandomForestRegressor\n",
    "from sklearn.metrics import mean_absolute_error"
   ]
  },
  {
   "cell_type": "code",
   "execution_count": null,
   "id": "42990c1a",
   "metadata": {},
   "outputs": [],
   "source": [
    "# Se inicia el modelo\n",
    "regresor = RandomForestRegressor(criterion='squared_error', random_state=42)"
   ]
  },
  {
   "cell_type": "code",
   "execution_count": null,
   "id": "e01310cf",
   "metadata": {},
   "outputs": [],
   "source": [
    "# Se entrena el modelo\n",
    "regresor.fit(X_train, y_train);"
   ]
  },
  {
   "cell_type": "code",
   "execution_count": null,
   "id": "6d1b78d0",
   "metadata": {},
   "outputs": [],
   "source": [
    "regresor.get_params()"
   ]
  },
  {
   "cell_type": "code",
   "execution_count": null,
   "id": "b38e1563",
   "metadata": {},
   "outputs": [],
   "source": [
    "# Se predicen los valores para el set de testeo\n",
    "y_pred = regresor.predict(X_test)"
   ]
  },
  {
   "cell_type": "code",
   "execution_count": null,
   "id": "5ff626b3",
   "metadata": {},
   "outputs": [],
   "source": [
    "# Se calcula el error medio absoluto\n",
    "mean_absolute_error(y_test, y_pred)"
   ]
  },
  {
   "cell_type": "markdown",
   "id": "13f641a4",
   "metadata": {},
   "source": [
    "### Support Vector Machine"
   ]
  },
  {
   "cell_type": "code",
   "execution_count": null,
   "id": "4f437d5a",
   "metadata": {},
   "outputs": [],
   "source": [
    "#Se importan librerías\n",
    "from sklearn.svm import SVR"
   ]
  },
  {
   "cell_type": "code",
   "execution_count": null,
   "id": "5bd4f8f9",
   "metadata": {},
   "outputs": [],
   "source": [
    "# Se inicia el modelo\n",
    "regresor_svr = SVR(C=1.0, epsilon=0.2)"
   ]
  },
  {
   "cell_type": "code",
   "execution_count": null,
   "id": "09f30d94",
   "metadata": {},
   "outputs": [],
   "source": [
    "# Se entrena el modelo\n",
    "regresor_svr.fit(X_train, y_train);"
   ]
  },
  {
   "cell_type": "code",
   "execution_count": null,
   "id": "376560ad",
   "metadata": {},
   "outputs": [],
   "source": [
    "regresor_svr.get_params()"
   ]
  },
  {
   "cell_type": "code",
   "execution_count": null,
   "id": "80721759",
   "metadata": {},
   "outputs": [],
   "source": [
    "# Se predicen los valores para el set de testeo\n",
    "y_pred_svr = regresor_svr.predict(X_test)"
   ]
  },
  {
   "cell_type": "code",
   "execution_count": null,
   "id": "ff29d8a5",
   "metadata": {},
   "outputs": [],
   "source": [
    "y_pred_svr"
   ]
  },
  {
   "cell_type": "code",
   "execution_count": null,
   "id": "d1e635c7",
   "metadata": {},
   "outputs": [],
   "source": [
    "# Se calcula el error medio absoluto\n",
    "mean_absolute_error(y_test, y_pred_svr)"
   ]
  },
  {
   "cell_type": "code",
   "execution_count": null,
   "id": "0771957d",
   "metadata": {},
   "outputs": [],
   "source": [
    "sns.countplot(x=supervisado2['pel_exitosa'], palette='Set2')\n",
    "sns.despine()"
   ]
  },
  {
   "cell_type": "code",
   "execution_count": null,
   "id": "8400d74c",
   "metadata": {},
   "outputs": [],
   "source": [
    "supervisado2['pel_exitosa'].value_counts() / supervisado2['punt_media'].size * 100"
   ]
  },
  {
   "cell_type": "markdown",
   "id": "f52bda0c",
   "metadata": {},
   "source": [
    "### Seleccion de target (y) y variables (X)"
   ]
  },
  {
   "cell_type": "code",
   "execution_count": null,
   "id": "1f14a743",
   "metadata": {},
   "outputs": [],
   "source": [
    "xc = supervisado2.drop(['punt_media', 'pel_exitosa'], axis=1)"
   ]
  },
  {
   "cell_type": "code",
   "execution_count": null,
   "id": "efe83a78",
   "metadata": {},
   "outputs": [],
   "source": [
    "yc = supervisado2['pel_exitosa']"
   ]
  },
  {
   "cell_type": "code",
   "execution_count": null,
   "id": "e6923561",
   "metadata": {},
   "outputs": [],
   "source": [
    "xc, yc = np.array(xc), np.array(yc)"
   ]
  },
  {
   "cell_type": "code",
   "execution_count": null,
   "id": "21ecd798",
   "metadata": {},
   "outputs": [],
   "source": [
    "# Separando Train / Test\n",
    "X_train_c, X_test_c, y_train_c, y_test_c = train_test_split(xc, yc, test_size=0.2,random_state=42)"
   ]
  },
  {
   "cell_type": "markdown",
   "id": "a6b01f18",
   "metadata": {},
   "source": [
    "### Clasificador kNN"
   ]
  },
  {
   "cell_type": "code",
   "execution_count": null,
   "id": "8a4e6993",
   "metadata": {},
   "outputs": [],
   "source": [
    "# se importan librerías \n",
    "from sklearn.neighbors import KNeighborsClassifier"
   ]
  },
  {
   "cell_type": "code",
   "execution_count": null,
   "id": "0695d0ae",
   "metadata": {},
   "outputs": [],
   "source": [
    "# metricas\n",
    "from sklearn.metrics import accuracy_score"
   ]
  },
  {
   "cell_type": "code",
   "execution_count": null,
   "id": "78b0b7b6",
   "metadata": {},
   "outputs": [],
   "source": [
    "knn = KNeighborsClassifier()"
   ]
  },
  {
   "cell_type": "code",
   "execution_count": null,
   "id": "8cb25386",
   "metadata": {},
   "outputs": [],
   "source": [
    "# Se entrena el modelo\n",
    "knn.fit(X_train_c, y_train_c);"
   ]
  },
  {
   "cell_type": "code",
   "execution_count": null,
   "id": "9cd44035",
   "metadata": {},
   "outputs": [],
   "source": [
    "# Se realiza la predicción\n",
    "predicciones= knn.predict(X_test_c)"
   ]
  },
  {
   "cell_type": "code",
   "execution_count": null,
   "id": "90832422",
   "metadata": {},
   "outputs": [],
   "source": [
    "accuracy = accuracy_score(y_train_c, predicciones)*100\n",
    "print(f'{round(accuracy, 2)}%')"
   ]
  }
 ],
 "metadata": {
  "kernelspec": {
   "display_name": "Python 3 (ipykernel)",
   "language": "python",
   "name": "python3"
  },
  "language_info": {
   "codemirror_mode": {
    "name": "ipython",
    "version": 3
   },
   "file_extension": ".py",
   "mimetype": "text/x-python",
   "name": "python",
   "nbconvert_exporter": "python",
   "pygments_lexer": "ipython3",
   "version": "3.11.3"
  }
 },
 "nbformat": 4,
 "nbformat_minor": 5
}
