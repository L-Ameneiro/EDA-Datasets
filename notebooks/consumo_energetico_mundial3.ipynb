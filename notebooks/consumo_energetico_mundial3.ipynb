{
 "cells": [
  {
   "cell_type": "code",
<<<<<<< HEAD
   "execution_count": 496,
=======
   "execution_count": 363,
>>>>>>> ramalu
   "metadata": {},
   "outputs": [],
   "source": [
    "# Se importan las librerías a usar\n",
    "import pandas as pd\n",
    "import numpy as np\n",
    "pd.set_option('display.max_rows', 500)\n",
    "pd.set_option('display.max_columns', 500)\n",
    "pd.set_option('display.width', 150)\n",
    "pd.set_option('display.max_seq_items', None)\n",
    "import matplotlib.pyplot as plt\n",
<<<<<<< HEAD
=======
    "from mpl_toolkits.mplot3d import Axes3D\n",
>>>>>>> ramalu
    "import seaborn as sns\n",
    "import warnings\n",
    "warnings.filterwarnings('ignore')"
   ]
  },
  {
   "cell_type": "code",
<<<<<<< HEAD
   "execution_count": 497,
=======
   "execution_count": 364,
>>>>>>> ramalu
   "metadata": {},
   "outputs": [],
   "source": [
    "# Se importa el dataset\n",
    "wec = pd.read_csv(r'..\\\\datasets\\\\World_Energy_Consumption.csv')  "
   ]
  },
  {
   "cell_type": "code",
<<<<<<< HEAD
   "execution_count": 498,
=======
   "execution_count": 365,
>>>>>>> ramalu
   "metadata": {},
   "outputs": [
    {
     "data": {
      "text/plain": [
       "'El dataset tiene 17432 filas y 122 columnas'"
      ]
     },
<<<<<<< HEAD
     "execution_count": 498,
=======
     "execution_count": 365,
>>>>>>> ramalu
     "metadata": {},
     "output_type": "execute_result"
    }
   ],
   "source": [
    "# Se consultan la cantidad de filas y columnas \n",
    "forma = wec.shape\n",
    "f\"El dataset tiene {forma[0]} filas y {forma[1]} columnas\""
   ]
  },
  {
   "cell_type": "code",
<<<<<<< HEAD
   "execution_count": 499,
=======
   "execution_count": 366,
>>>>>>> ramalu
   "metadata": {},
   "outputs": [
    {
     "name": "stdout",
     "output_type": "stream",
     "text": [
      "False    17432\n",
      "dtype: int64\n"
     ]
    }
   ],
   "source": [
    "# Se verifica que no hayan filas duplicadas\n",
    "dupl = wec.duplicated()\n",
    "print(dupl.value_counts())"
   ]
  },
  {
   "cell_type": "code",
<<<<<<< HEAD
   "execution_count": 500,
=======
   "execution_count": 367,
>>>>>>> ramalu
   "metadata": {},
   "outputs": [
    {
     "name": "stdout",
     "output_type": "stream",
     "text": [
      "Index(['iso_code', 'country', 'year', 'coal_prod_change_pct', 'coal_prod_change_twh', 'gas_prod_change_pct', 'gas_prod_change_twh',\n",
      "       'oil_prod_change_pct', 'oil_prod_change_twh', 'energy_cons_change_pct', 'energy_cons_change_twh', 'biofuel_share_elec',\n",
      "       'biofuel_elec_per_capita', 'biofuel_cons_change_pct', 'biofuel_share_energy', 'biofuel_cons_change_twh', 'biofuel_consumption',\n",
      "       'biofuel_cons_per_capita', 'carbon_intensity_elec', 'coal_share_elec', 'coal_cons_change_pct', 'coal_share_energy', 'coal_cons_change_twh',\n",
      "       'coal_consumption', 'coal_elec_per_capita', 'coal_cons_per_capita', 'coal_production', 'coal_prod_per_capita', 'electricity_generation',\n",
      "       'biofuel_electricity', 'coal_electricity', 'fossil_electricity', 'gas_electricity', 'hydro_electricity', 'nuclear_electricity',\n",
      "       'oil_electricity', 'other_renewable_electricity', 'other_renewable_exc_biofuel_electricity', 'renewables_electricity', 'solar_electricity',\n",
      "       'wind_electricity', 'energy_per_gdp', 'energy_per_capita', 'fossil_cons_change_pct', 'fossil_share_energy', 'fossil_cons_change_twh',\n",
      "       'fossil_fuel_consumption', 'fossil_energy_per_capita', 'fossil_cons_per_capita', 'fossil_share_elec', 'gas_share_elec', 'gas_cons_change_pct',\n",
      "       'gas_share_energy', 'gas_cons_change_twh', 'gas_consumption', 'gas_elec_per_capita', 'gas_energy_per_capita', 'gas_production',\n",
      "       'gas_prod_per_capita', 'hydro_share_elec', 'hydro_cons_change_pct', 'hydro_share_energy', 'hydro_cons_change_twh', 'hydro_consumption',\n",
      "       'hydro_elec_per_capita', 'hydro_energy_per_capita', 'low_carbon_share_elec', 'low_carbon_electricity', 'low_carbon_elec_per_capita',\n",
      "       'low_carbon_cons_change_pct', 'low_carbon_share_energy', 'low_carbon_cons_change_twh', 'low_carbon_consumption',\n",
      "       'low_carbon_energy_per_capita', 'nuclear_share_elec', 'nuclear_cons_change_pct', 'nuclear_share_energy', 'nuclear_cons_change_twh',\n",
      "       'nuclear_consumption', 'nuclear_elec_per_capita', 'nuclear_energy_per_capita', 'oil_share_elec', 'oil_cons_change_pct', 'oil_share_energy',\n",
      "       'oil_cons_change_twh', 'oil_consumption', 'oil_elec_per_capita', 'oil_energy_per_capita', 'oil_production', 'oil_prod_per_capita',\n",
      "       'other_renewables_elec_per_capita', 'other_renewables_share_elec', 'other_renewables_cons_change_pct', 'other_renewables_share_energy',\n",
      "       'other_renewables_cons_change_twh', 'other_renewable_consumption', 'other_renewables_energy_per_capita', 'per_capita_electricity',\n",
      "       'population', 'primary_energy_consumption', 'renewables_elec_per_capita', 'renewables_share_elec', 'renewables_cons_change_pct',\n",
      "       'renewables_share_energy', 'renewables_cons_change_twh', 'renewables_consumption', 'renewables_energy_per_capita', 'solar_share_elec',\n",
      "       'solar_cons_change_pct', 'solar_share_energy', 'solar_cons_change_twh', 'solar_consumption', 'solar_elec_per_capita',\n",
      "       'solar_energy_per_capita', 'gdp', 'wind_share_elec', 'wind_cons_change_pct', 'wind_share_energy', 'wind_cons_change_twh', 'wind_consumption',\n",
      "       'wind_elec_per_capita', 'wind_energy_per_capita'],\n",
      "      dtype='object')\n"
     ]
    }
   ],
   "source": [
    "# Se consultan los nombres de las columnas\n",
    "print(wec.columns)"
   ]
  },
  {
   "cell_type": "markdown",
   "metadata": {},
   "source": [
    "## Valores nulos"
   ]
  },
  {
   "cell_type": "code",
<<<<<<< HEAD
   "execution_count": 501,
=======
   "execution_count": 368,
>>>>>>> ramalu
   "metadata": {},
   "outputs": [
    {
     "data": {
      "text/plain": [
       "biofuel_cons_change_pct                    16913\n",
       "carbon_intensity_elec                      16844\n",
       "solar_cons_change_pct                      16107\n",
       "nuclear_cons_change_pct                    15910\n",
       "wind_cons_change_pct                       15889\n",
       "other_renewables_cons_change_pct           15106\n",
       "hydro_cons_change_pct                      13768\n",
       "gas_cons_change_pct                        13728\n",
       "coal_cons_change_pct                       13670\n",
       "renewables_cons_change_pct                 13604\n",
       "low_carbon_cons_change_pct                 13597\n",
       "biofuel_elec_per_capita                    13243\n",
       "fossil_cons_change_pct                     13231\n",
       "oil_cons_change_pct                        13231\n",
       "oil_cons_change_twh                        13231\n",
       "fossil_cons_change_twh                     13231\n",
       "biofuel_share_elec                         13226\n",
       "low_carbon_cons_change_twh                 13225\n",
       "coal_cons_change_twh                       13225\n",
       "nuclear_cons_change_twh                    13225\n",
       "other_renewables_cons_change_twh           13225\n",
       "gas_cons_change_twh                        13225\n",
       "hydro_cons_change_twh                      13225\n",
       "wind_cons_change_twh                       13225\n",
       "renewables_cons_change_twh                 13225\n",
       "solar_cons_change_twh                      13225\n",
       "other_renewable_exc_biofuel_electricity    13183\n",
       "biofuel_electricity                        13183\n",
       "coal_share_energy                          13148\n",
       "gas_share_energy                           13148\n",
       "wind_share_energy                          13148\n",
       "low_carbon_share_energy                    13148\n",
       "fossil_energy_per_capita                   13148\n",
       "fossil_fuel_consumption                    13148\n",
       "fossil_share_energy                        13148\n",
       "nuclear_share_energy                       13148\n",
       "solar_share_energy                         13148\n",
       "biofuel_share_energy                       13148\n",
       "oil_energy_per_capita                      13148\n",
       "renewables_share_energy                    13148\n",
       "other_renewables_share_energy              13148\n",
       "oil_share_energy                           13148\n",
       "hydro_share_energy                         13148\n",
       "nuclear_energy_per_capita                  13142\n",
       "solar_consumption                          13142\n",
       "renewables_energy_per_capita               13142\n",
       "solar_energy_per_capita                    13142\n",
       "nuclear_consumption                        13142\n",
       "renewables_consumption                     13142\n",
       "low_carbon_consumption                     13142\n",
       "low_carbon_energy_per_capita               13142\n",
       "hydro_energy_per_capita                    13142\n",
       "other_renewables_energy_per_capita         13142\n",
       "other_renewable_consumption                13142\n",
       "wind_consumption                           13142\n",
       "hydro_consumption                          13142\n",
       "wind_energy_per_capita                     13142\n",
       "coal_cons_per_capita                       13142\n",
       "gas_energy_per_capita                      13142\n",
       "gas_elec_per_capita                        12673\n",
       "oil_elec_per_capita                        12673\n",
       "coal_elec_per_capita                       12673\n",
       "fossil_cons_per_capita                     12673\n",
       "gas_prod_change_pct                        12570\n",
       "coal_share_elec                            12376\n",
       "gas_share_elec                             12376\n",
       "oil_share_elec                             12376\n",
       "fossil_share_elec                          12376\n",
       "oil_electricity                            12333\n",
       "coal_electricity                           12333\n",
       "fossil_electricity                         12333\n",
       "gas_electricity                            12333\n",
       "coal_consumption                           12262\n",
       "gas_consumption                            12262\n",
       "oil_consumption                            12248\n",
       "renewables_elec_per_capita                 11933\n",
       "hydro_elec_per_capita                      11933\n",
       "low_carbon_elec_per_capita                 11933\n",
       "wind_elec_per_capita                       11933\n",
       "per_capita_electricity                     11933\n",
       "other_renewables_elec_per_capita           11933\n",
       "nuclear_elec_per_capita                    11933\n",
       "solar_elec_per_capita                      11933\n",
       "biofuel_cons_change_twh                    11923\n",
       "biofuel_cons_per_capita                    11806\n",
       "biofuel_consumption                        11806\n",
       "renewables_share_elec                      11391\n",
       "other_renewables_share_elec                11391\n",
       "low_carbon_share_elec                      11391\n",
       "solar_share_elec                           11356\n",
       "nuclear_share_elec                         11356\n",
       "wind_share_elec                            11356\n",
       "hydro_share_elec                           11356\n",
       "other_renewable_electricity                11348\n",
       "low_carbon_electricity                     11348\n",
       "renewables_electricity                     11348\n",
       "hydro_electricity                          11313\n",
       "electricity_generation                     11313\n",
       "nuclear_electricity                        11313\n",
       "solar_electricity                          11313\n",
       "wind_electricity                           11313\n",
       "oil_prod_change_pct                        10911\n",
       "energy_per_gdp                             10532\n",
       "gas_prod_per_capita                        10092\n",
       "coal_prod_change_pct                        9987\n",
       "gas_prod_change_twh                         9539\n",
       "oil_prod_per_capita                         9508\n",
       "gas_production                              9366\n",
       "oil_prod_change_twh                         8867\n",
       "oil_production                              8722\n",
       "energy_per_capita                           8397\n",
       "coal_prod_per_capita                        7779\n",
       "energy_cons_change_pct                      7590\n",
       "energy_cons_change_twh                      7540\n",
       "primary_energy_consumption                  7298\n",
       "coal_prod_change_twh                        7038\n",
       "gdp                                         6976\n",
       "coal_production                             6803\n",
       "iso_code                                    1802\n",
       "population                                  1756\n",
       "year                                           0\n",
       "country                                        0\n",
       "dtype: int64"
      ]
     },
<<<<<<< HEAD
     "execution_count": 501,
=======
     "execution_count": 368,
>>>>>>> ramalu
     "metadata": {},
     "output_type": "execute_result"
    }
   ],
   "source": [
    "# Se observan cuántos valores faltantes tiene cada columna (ordenados de mayor a menor)\n",
    "missing_values = wec.isnull().sum().sort_values(ascending = False) \n",
    "missing_values"
   ]
  },
  {
   "cell_type": "code",
<<<<<<< HEAD
   "execution_count": 502,
=======
   "execution_count": 369,
>>>>>>> ramalu
   "metadata": {},
   "outputs": [
    {
     "data": {
      "image/png": "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",
      "text/plain": [
       "<Figure size 1000x600 with 1 Axes>"
      ]
     },
     "metadata": {},
     "output_type": "display_data"
    }
   ],
   "source": [
    "# Se visualiza los valores faltantes\n",
    "plt.figure(figsize=(10, 6))\n",
    "sns.heatmap(wec.isnull(), cmap='viridis', cbar=False)\n",
    "plt.title('Valores Faltantes en el DataFrame')\n",
    "plt.xlabel('Columnas')\n",
    "plt.ylabel('Nulos')\n",
    "plt.show()"
   ]
  },
  {
   "cell_type": "markdown",
   "metadata": {},
   "source": [
    "Como se observa en el gráfico el set de datos posee varios valores nulos y posteriormente se realizará su tratamiento, que será un gran desafío. "
   ]
  },
  {
   "cell_type": "markdown",
   "metadata": {},
   "source": [
    "## Columna: country"
   ]
  },
  {
   "cell_type": "code",
<<<<<<< HEAD
   "execution_count": 503,
=======
   "execution_count": 415,
>>>>>>> ramalu
   "metadata": {},
   "outputs": [
    {
     "data": {
      "text/plain": [
       "array(['Afghanistan', 'Africa', 'Albania', 'Algeria', 'American Samoa',\n",
       "       'Angola', 'Antigua and Barbuda', 'Argentina', 'Armenia', 'Aruba',\n",
       "       'Asia Pacific', 'Australia', 'Austria', 'Azerbaijan', 'Bahamas',\n",
       "       'Bahrain', 'Bangladesh', 'Barbados', 'Belarus', 'Belgium',\n",
       "       'Belize', 'Benin', 'Bermuda', 'Bhutan', 'Bolivia',\n",
       "       'Bosnia and Herzegovina', 'Botswana', 'Brazil',\n",
       "       'British Virgin Islands', 'Brunei', 'Bulgaria', 'Burkina Faso',\n",
       "       'Burundi', 'CIS', 'Cambodia', 'Cameroon', 'Canada', 'Cape Verde',\n",
       "       'Cayman Islands', 'Central African Republic', 'Central America',\n",
       "       'Chad', 'Chile', 'China', 'Colombia', 'Comoros', 'Congo',\n",
       "       'Cook Islands', 'Costa Rica', \"Cote d'Ivoire\", 'Croatia', 'Cuba',\n",
       "       'Cyprus', 'Czechia', 'Czechoslovakia',\n",
       "       'Democratic Republic of Congo', 'Denmark', 'Djibouti', 'Dominica',\n",
       "       'Dominican Republic', 'Eastern Africa', 'Ecuador', 'Egypt',\n",
       "       'El Salvador', 'Equatorial Guinea', 'Eritrea', 'Estonia',\n",
       "       'Eswatini', 'Ethiopia', 'Europe', 'Europe (other)',\n",
       "       'Faeroe Islands', 'Falkland Islands ', 'Fiji', 'Finland', 'France',\n",
       "       'French Guiana', 'French Polynesia', 'Gabon', 'Gambia', 'Georgia',\n",
       "       'Germany', 'Ghana', 'Gibraltar', 'Greece', 'Greenland', 'Grenada',\n",
       "       'Guadeloupe', 'Guam', 'Guatemala', 'Guinea', 'Guinea-Bissau',\n",
       "       'Guyana', 'Haiti', 'Honduras', 'Hong Kong', 'Hungary', 'Iceland',\n",
       "       'India', 'Indonesia', 'Iran', 'Iraq', 'Ireland', 'Israel', 'Italy',\n",
       "       'Jamaica', 'Japan', 'Jordan', 'Kazakhstan', 'Kenya', 'Kiribati',\n",
       "       'Kosovo', 'Kuwait', 'Kyrgyzstan', 'Laos', 'Latvia', 'Lebanon',\n",
       "       'Lesotho', 'Liberia', 'Libya', 'Lithuania', 'Luxembourg', 'Macau',\n",
       "       'Madagascar', 'Malawi', 'Malaysia', 'Maldives', 'Mali', 'Malta',\n",
       "       'Martinique', 'Mauritania', 'Mauritius', 'Mexico', 'Middle Africa',\n",
       "       'Middle East', 'Moldova', 'Mongolia', 'Montenegro', 'Montserrat',\n",
       "       'Morocco', 'Mozambique', 'Myanmar', 'Namibia', 'Nauru', 'Nepal',\n",
       "       'Netherlands', 'Netherlands Antilles', 'New Caledonia',\n",
       "       'New Zealand', 'Nicaragua', 'Niger', 'Nigeria', 'Niue',\n",
       "       'North America', 'North Korea', 'North Macedonia',\n",
       "       'Northern Mariana Islands', 'Norway', 'OPEC', 'Oman',\n",
       "       'Other Asia & Pacific', 'Other CIS', 'Other Caribbean',\n",
       "       'Other Middle East', 'Other Northern Africa',\n",
       "       'Other South America', 'Other Southern Africa', 'Pakistan',\n",
       "       'Palestine', 'Panama', 'Papua New Guinea', 'Paraguay', 'Peru',\n",
       "       'Philippines', 'Poland', 'Portugal', 'Puerto Rico', 'Qatar',\n",
       "       'Reunion', 'Romania', 'Russia', 'Rwanda', 'Saint Helena',\n",
       "       'Saint Kitts and Nevis', 'Saint Lucia',\n",
       "       'Saint Pierre and Miquelon', 'Saint Vincent and the Grenadines',\n",
       "       'Samoa', 'Sao Tome and Principe', 'Saudi Arabia', 'Senegal',\n",
       "       'Serbia', 'Seychelles', 'Sierra Leone', 'Singapore', 'Slovakia',\n",
       "       'Slovenia', 'Solomon Islands', 'Somalia',\n",
       "       'South & Central America', 'South Africa', 'South Korea',\n",
       "       'South Sudan', 'Spain', 'Sri Lanka', 'Sudan', 'Suriname', 'Sweden',\n",
       "       'Switzerland', 'Syria', 'Taiwan', 'Tajikistan', 'Tanzania',\n",
       "       'Thailand', 'Timor', 'Togo', 'Tonga', 'Trinidad and Tobago',\n",
       "       'Tunisia', 'Turkey', 'Turkmenistan', 'Turks and Caicos Islands',\n",
       "       'USSR', 'Uganda', 'Ukraine', 'United Arab Emirates',\n",
       "       'United Kingdom', 'United States', 'United States Pacific Islands',\n",
       "       'United States Virgin Islands', 'Uruguay', 'Uzbekistan', 'Vanuatu',\n",
       "       'Venezuela', 'Vietnam', 'Western Africa', 'Western Sahara',\n",
       "       'World', 'Yemen', 'Yugoslavia', 'Zambia', 'Zimbabwe'], dtype=object)"
      ]
     },
<<<<<<< HEAD
     "execution_count": 503,
=======
     "execution_count": 415,
>>>>>>> ramalu
     "metadata": {},
     "output_type": "execute_result"
    }
   ],
   "source": [
    "# Se obtienen los valores unicos de la columna country para determinar los paises con los que se trabajará\n",
    "wec['country'].unique()           "
   ]
  },
  {
   "cell_type": "markdown",
   "metadata": {},
   "source": [
    "Se observa que no sólo hay países en la columna country, sino también regiones. Que posteriormente se tratarán de forma separada para usarlos en la aplicación de modelos si se requiere, por el momento no es de utilidad, de acuerdo a los objetivos. "
   ]
  },
  {
   "cell_type": "code",
<<<<<<< HEAD
   "execution_count": 504,
=======
   "execution_count": 416,
>>>>>>> ramalu
   "metadata": {},
   "outputs": [],
   "source": [
    "# Se separan en un dataset las regiones y datos del mundo\n",
    "regiones= wec[wec['country'].isin(['North America', 'Other Asia & Pacific', 'Asia Pacific', 'Australia', 'Opep', 'Central African Republic', 'North Korea', 'Central America', 'Middle America','Middle East', 'Other Northern Africa', 'Europe', 'Europe (other)', 'Other Middle East', 'Eastern Africa', 'Other Caribean', 'Middle Africa', 'Other Cis', 'South Korea', 'Western Africa', 'Other South America', 'Other Southern Africa', 'World', 'Reunion', 'United Kingdom', 'South & Central America', 'South Africa'])].copy()"
   ]
  },
  {
   "cell_type": "code",
   "execution_count": 417,
   "metadata": {},
   "outputs": [],
   "source": [
    "# Se guarda el data set\n",
    "regiones.to_csv('..\\\\datasets\\\\regiones.csv', index=False)"
   ]
  },
  {
   "cell_type": "code",
<<<<<<< HEAD
   "execution_count": 505,
=======
   "execution_count": 418,
>>>>>>> ramalu
   "metadata": {},
   "outputs": [],
   "source": [
    "# Se eliminan las regiones del data set wec\n",
    "valores_a_eliminar = ['North America', 'Other Asia & Pacific', 'Asia Pacific', 'Australia', 'Opep', 'Central African Republic', 'North Korea', 'Central America', 'Middle America', 'Other Northern Africa', 'Europe', 'Europe (other)', 'Other Middle East', 'Eastern Africa', 'Other Caribean', 'Middle Africa', 'Middle East', 'Other Cis', 'South Korea', 'Western Africa', 'Other South America', 'Other Southern Africa', 'World', 'Reunion', 'United Kingdom', 'South & Central America', 'South Africa']\n",
    "wec1 = wec[~wec['country'].isin(valores_a_eliminar)].copy()"
   ]
  },
  {
   "cell_type": "markdown",
   "metadata": {},
   "source": [
    "### Se seleccionan paises de sudamerica: Para realizar su correspondiente análisis"
   ]
  },
  {
   "cell_type": "code",
<<<<<<< HEAD
   "execution_count": 506,
=======
   "execution_count": 419,
>>>>>>> ramalu
   "metadata": {},
   "outputs": [],
   "source": [
    "# Creamos un nuevo dataframe solo con países de sudamerica\n",
    "suram = wec1[(wec1['iso_code'] == \"ARG\") | (wec1['iso_code'] == \"ECU\") | (wec1['iso_code'] == \"GUY\") | (wec1['iso_code'] == \"PER\") | (wec1['iso_code'] == \"GUF\") |(wec1['iso_code'] == \"URY\") | (wec1['iso_code'] == \"PRY\") | (wec1['iso_code'] == \"BOL\")  | (wec1['iso_code'] == \"SUR\")  | (wec1['iso_code'] == \"TTO\") | (wec1['iso_code'] == \"BRA\")| (wec1['iso_code'] == \"CHL\") | (wec1['iso_code'] == \"COL\") | (wec1['iso_code'] == \"VEN\")]"
   ]
  },
  {
   "cell_type": "code",
<<<<<<< HEAD
   "execution_count": 507,
=======
   "execution_count": 420,
>>>>>>> ramalu
   "metadata": {},
   "outputs": [
    {
     "data": {
      "text/plain": [
       "(1302, 122)"
      ]
     },
<<<<<<< HEAD
     "execution_count": 507,
=======
     "execution_count": 420,
>>>>>>> ramalu
     "metadata": {},
     "output_type": "execute_result"
    }
   ],
   "source": [
    "# Se verifica la cantidad de filas y columnas\n",
    "suram.shape"
   ]
  },
  {
   "cell_type": "code",
<<<<<<< HEAD
   "execution_count": 508,
=======
   "execution_count": 421,
>>>>>>> ramalu
   "metadata": {},
   "outputs": [],
   "source": [
    "# Se guarda el data set\n",
    "suram.to_csv('..\\\\datasets\\\\suram.csv', index=False)"
   ]
  },
  {
   "cell_type": "code",
<<<<<<< HEAD
   "execution_count": 509,
=======
   "execution_count": 422,
>>>>>>> ramalu
   "metadata": {},
   "outputs": [],
   "source": [
    "# Se importa el dataset\n",
    "suram= pd.read_csv(r'..\\\\datasets\\\\suram.csv')  "
   ]
  },
  {
   "cell_type": "markdown",
   "metadata": {},
   "source": [
    "## Columna: year"
   ]
  },
  {
   "cell_type": "markdown",
   "metadata": {},
   "source": [
    "Se observa que los datos anteriores al año 1997 son escasos, por lo que se decide eliminarlos "
   ]
  },
  {
   "cell_type": "code",
<<<<<<< HEAD
   "execution_count": 510,
=======
   "execution_count": 423,
>>>>>>> ramalu
   "metadata": {},
   "outputs": [],
   "source": [
    "# Se eliminan las filas correspondientes a los años 1999 hasta 1983 inclusive, ya que se que verifica que la mayoría de los países no cuentan con esta información\n",
    "suram= suram[(suram['year'] > 1997)]"
   ]
  },
  {
   "cell_type": "code",
<<<<<<< HEAD
   "execution_count": 511,
=======
   "execution_count": 424,
>>>>>>> ramalu
   "metadata": {},
   "outputs": [],
   "source": [
    "# Se eliminan las columnas que no se utilizarán  \n",
    "suram.drop(columns=['low_carbon_cons_change_pct','nuclear_cons_change_pct','wind_cons_change_twh','wind_cons_change_pct','solar_cons_change_pct', 'solar_cons_change_twh', 'renewables_cons_change_twh','renewables_cons_change_pct', 'low_carbon_share_energy','carbon_intensity_elec','biofuel_cons_change_pct','coal_prod_change_pct','coal_cons_change_pct','other_renewables_cons_change_pct','wind_cons_change_pct','gas_cons_change_twh','hydro_cons_change_pct','gas_cons_change_pct','nuclear_energy_per_capita','oil_cons_change_pct', 'fossil_cons_change_twh','nuclear_consumption','other_renewables_cons_change_twh','fossil_cons_change_pct','nuclear_cons_change_twh','oil_cons_change_twh','hydro_cons_change_twh','coal_prod_change_twh','gas_prod_change_pct','gas_prod_change_twh',\t'oil_prod_change_pct',\t'oil_prod_change_twh','energy_cons_change_pct',\t'energy_cons_change_twh','biofuel_cons_change_twh','nuclear_share_elec','biofuel_share_elec','biofuel_elec_per_capita',\t'biofuel_consumption',\t'biofuel_cons_per_capita','nuclear_share_energy', 'nuclear_elec_per_capita','biofuel_share_energy','coal_cons_change_twh','low_carbon_cons_change_twh','coal_production','coal_prod_per_capita','gas_production','gas_prod_per_capita','hydro_consumption','other_renewables_share_energy','gas_energy_per_capita','hydro_share_energy','hydro_energy_per_capita','low_carbon_consumption','low_carbon_energy_per_capita','oil_share_energy','oil_consumption','oil_energy_per_capita','other_renewable_consumption','gas_share_energy','other_renewables_energy_per_capita','renewables_share_energy','renewables_consumption','renewables_energy_per_capita','solar_share_energy','solar_consumption','solar_energy_per_capita','wind_share_energy','wind_consumption','wind_energy_per_capita','fossil_energy_per_capita','gas_consumption','coal_share_energy','coal_consumption','fossil_share_energy','coal_cons_per_capita','fossil_fuel_consumption','oil_production','oil_prod_per_capita','gdp','energy_per_gdp'], inplace=True)"
   ]
  },
  {
   "cell_type": "markdown",
   "metadata": {},
   "source": [
    "Se eliminaron de forma manual las columnas, ya que se verificó cada columna y su comportamiento respecto del recuento total de valores nulos."
   ]
  },
  {
   "cell_type": "code",
<<<<<<< HEAD
   "execution_count": 512,
=======
   "execution_count": 426,
>>>>>>> ramalu
   "metadata": {},
   "outputs": [
    {
     "data": {
      "text/plain": [
       "other_renewable_exc_biofuel_electricity    28\n",
       "biofuel_electricity                        28\n",
       "primary_energy_consumption                 25\n",
       "energy_per_capita                          25\n",
       "fossil_share_elec                          24\n",
       "gas_electricity                            24\n",
       "oil_electricity                            24\n",
       "gas_share_elec                             24\n",
       "gas_elec_per_capita                        24\n",
       "fossil_electricity                         24\n",
       "coal_electricity                           24\n",
       "oil_elec_per_capita                        24\n",
       "coal_elec_per_capita                       24\n",
       "coal_share_elec                            24\n",
       "oil_share_elec                             24\n",
       "fossil_cons_per_capita                     24\n",
       "other_renewables_elec_per_capita           12\n",
       "renewables_elec_per_capita                 12\n",
       "other_renewables_share_elec                12\n",
       "per_capita_electricity                     12\n",
       "low_carbon_electricity                     12\n",
       "renewables_share_elec                      12\n",
       "solar_share_elec                           12\n",
       "solar_elec_per_capita                      12\n",
       "wind_share_elec                            12\n",
       "low_carbon_elec_per_capita                 12\n",
       "wind_elec_per_capita                       12\n",
       "low_carbon_share_elec                      12\n",
       "hydro_elec_per_capita                      12\n",
       "hydro_share_elec                           12\n",
       "wind_electricity                           12\n",
       "solar_electricity                          12\n",
       "renewables_electricity                     12\n",
       "other_renewable_electricity                12\n",
       "nuclear_electricity                        12\n",
       "hydro_electricity                          12\n",
       "electricity_generation                     12\n",
       "population                                  7\n",
       "country                                     0\n",
       "year                                        0\n",
       "iso_code                                    0\n",
       "dtype: int64"
      ]
     },
<<<<<<< HEAD
     "execution_count": 512,
=======
     "execution_count": 426,
>>>>>>> ramalu
     "metadata": {},
     "output_type": "execute_result"
    }
   ],
   "source": [
    "# Se observan cuántos valores faltantes tiene cada columna del data set suram: (ordenados de mayor a menor)\n",
    "missing_values_suram = suram.isnull().sum().sort_values(ascending=False)\n",
    "missing_values_suram"
   ]
  },
  {
   "cell_type": "code",
<<<<<<< HEAD
   "execution_count": 513,
=======
   "execution_count": 427,
>>>>>>> ramalu
   "metadata": {},
   "outputs": [
    {
     "name": "stdout",
     "output_type": "stream",
     "text": [
      "Index(['iso_code', 'country', 'year', 'coal_share_elec', 'coal_elec_per_capita', 'electricity_generation', 'biofuel_electricity', 'coal_electricity',\n",
      "       'fossil_electricity', 'gas_electricity', 'hydro_electricity', 'nuclear_electricity', 'oil_electricity', 'other_renewable_electricity',\n",
      "       'other_renewable_exc_biofuel_electricity', 'renewables_electricity', 'solar_electricity', 'wind_electricity', 'energy_per_capita',\n",
      "       'fossil_cons_per_capita', 'fossil_share_elec', 'gas_share_elec', 'gas_elec_per_capita', 'hydro_share_elec', 'hydro_elec_per_capita',\n",
      "       'low_carbon_share_elec', 'low_carbon_electricity', 'low_carbon_elec_per_capita', 'oil_share_elec', 'oil_elec_per_capita',\n",
      "       'other_renewables_elec_per_capita', 'other_renewables_share_elec', 'per_capita_electricity', 'population', 'primary_energy_consumption',\n",
      "       'renewables_elec_per_capita', 'renewables_share_elec', 'solar_share_elec', 'solar_elec_per_capita', 'wind_share_elec',\n",
      "       'wind_elec_per_capita'],\n",
      "      dtype='object')\n"
     ]
    }
   ],
   "source": [
    "# Se consultan los nombres de las columnas\n",
    "print(suram.columns)"
   ]
  },
  {
   "cell_type": "code",
<<<<<<< HEAD
   "execution_count": 514,
=======
   "execution_count": 428,
>>>>>>> ramalu
   "metadata": {},
   "outputs": [
    {
     "data": {
      "image/png": "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",
      "text/plain": [
       "<Figure size 1000x600 with 1 Axes>"
      ]
     },
     "metadata": {},
     "output_type": "display_data"
    }
   ],
   "source": [
    "# visualización de valores faltantes\n",
    "plt.figure(figsize=(10, 6))\n",
    "sns.heatmap(suram.isnull(), cmap='viridis', cbar=False)\n",
    "plt.title('Valores Faltantes en el DataFrame')\n",
    "plt.show()"
   ]
  },
  {
   "cell_type": "markdown",
   "metadata": {},
   "source": [
    "## Tratamiento de valores nulos"
   ]
  },
  {
   "cell_type": "code",
<<<<<<< HEAD
   "execution_count": 515,
=======
   "execution_count": 429,
>>>>>>> ramalu
   "metadata": {},
   "outputs": [
    {
     "name": "stdout",
     "output_type": "stream",
     "text": [
      "iso_code                                   0\n",
      "country                                    0\n",
      "year                                       0\n",
      "coal_share_elec                            0\n",
      "coal_elec_per_capita                       0\n",
      "electricity_generation                     0\n",
      "biofuel_electricity                        0\n",
      "coal_electricity                           0\n",
      "fossil_electricity                         0\n",
      "gas_electricity                            0\n",
      "hydro_electricity                          0\n",
      "nuclear_electricity                        0\n",
      "oil_electricity                            0\n",
      "other_renewable_electricity                0\n",
      "other_renewable_exc_biofuel_electricity    0\n",
      "renewables_electricity                     0\n",
      "solar_electricity                          0\n",
      "wind_electricity                           0\n",
      "energy_per_capita                          0\n",
      "fossil_cons_per_capita                     0\n",
      "fossil_share_elec                          0\n",
      "gas_share_elec                             0\n",
      "gas_elec_per_capita                        0\n",
      "hydro_share_elec                           0\n",
      "hydro_elec_per_capita                      0\n",
      "low_carbon_share_elec                      0\n",
      "low_carbon_electricity                     0\n",
      "low_carbon_elec_per_capita                 0\n",
      "oil_share_elec                             0\n",
      "oil_elec_per_capita                        0\n",
      "other_renewables_elec_per_capita           0\n",
      "other_renewables_share_elec                0\n",
      "per_capita_electricity                     0\n",
      "population                                 0\n",
      "primary_energy_consumption                 0\n",
      "renewables_elec_per_capita                 0\n",
      "renewables_share_elec                      0\n",
      "solar_share_elec                           0\n",
      "solar_elec_per_capita                      0\n",
      "wind_share_elec                            0\n",
      "wind_elec_per_capita                       0\n",
      "dtype: int64\n"
     ]
    }
   ],
   "source": [
    "# Agrupa el DataFrame por país y luego realiza el forward fill y backward fill por país\n",
    "columns_to_fill = suram.columns.difference(['country'])\n",
    "# Aplica el relleno hacia adelante y hacia atrás solo a las columnas seleccionadas\n",
    "suram[columns_to_fill] = suram.groupby('country')[columns_to_fill].transform(lambda x: x.ffill().bfill())\n",
    "# Verifica nuevamente los valores nulos después del tratamiento\n",
    "nulls_after_fill = suram.isna().sum()\n",
    "# Muestra la cantidad de valores nulos después del tratamiento\n",
    "print(nulls_after_fill)"
   ]
  },
  {
   "cell_type": "markdown",
   "metadata": {},
   "source": [
    "El sistema de tratamiento de los valores nulos, elegido: rellena el valor nulo con el valor más cercano hacia adelante y luego hacia atrás. Para esto se observaron que los dstos faltantes al menos tuvieran valores no nulos dentro de los 7 años, para que los satos"
   ]
  },
  {
   "cell_type": "code",
<<<<<<< HEAD
   "execution_count": 516,
=======
   "execution_count": 430,
>>>>>>> ramalu
   "metadata": {},
   "outputs": [
    {
     "data": {
      "image/png": "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",
      "text/plain": [
       "<Figure size 1000x600 with 1 Axes>"
      ]
     },
     "metadata": {},
     "output_type": "display_data"
    }
   ],
   "source": [
    "# visualización de valores faltantes\n",
    "plt.figure(figsize=(10, 6))\n",
    "sns.heatmap(suram.isnull(), cmap='viridis', cbar=False)\n",
    "plt.title('Valores Faltantes en el DataFrame')\n",
    "plt.show()"
   ]
  },
  {
   "cell_type": "code",
<<<<<<< HEAD
   "execution_count": 517,
=======
   "execution_count": null,
>>>>>>> ramalu
   "metadata": {},
   "outputs": [],
   "source": [
    "# Se guarda el data set\n",
    "suram.to_csv('..\\\\datasets\\\\suram1.csv', index=False)"
   ]
  },
  {
   "cell_type": "code",
<<<<<<< HEAD
   "execution_count": 518,
=======
   "execution_count": 432,
>>>>>>> ramalu
   "metadata": {},
   "outputs": [],
   "source": [
    "# Se muestra la electricidad que genera cada energía \n",
    "electrica= suram[['year', 'country','per_capita_electricity', 'electricity_generation','biofuel_electricity','coal_electricity','fossil_electricity','gas_electricity', 'hydro_electricity','nuclear_electricity','oil_electricity','other_renewable_electricity','other_renewable_exc_biofuel_electricity','renewables_electricity','solar_electricity','wind_electricity','energy_per_capita','population' ]]"
   ]
  },
  {
   "cell_type": "code",
<<<<<<< HEAD
   "execution_count": 519,
=======
   "execution_count": 433,
>>>>>>> ramalu
   "metadata": {},
   "outputs": [],
   "source": [
    "# Se guarda el data set\n",
    "electrica.to_csv('..\\\\datasets\\\\electrica.csv', index=False)"
   ]
  },
  {
   "cell_type": "code",
<<<<<<< HEAD
   "execution_count": 520,
=======
   "execution_count": 434,
>>>>>>> ramalu
   "metadata": {},
   "outputs": [],
   "source": [
    "# Se importa el dataset\n",
    "electrica= pd.read_csv(r'..\\\\datasets\\\\electrica.csv')  "
   ]
  },
  {
   "cell_type": "code",
<<<<<<< HEAD
   "execution_count": 521,
=======
   "execution_count": 435,
>>>>>>> ramalu
   "metadata": {},
   "outputs": [
    {
     "name": "stdout",
     "output_type": "stream",
     "text": [
      "biofuel_electricity                         2.665486\n",
      "coal_electricity                            2.622746\n",
      "fossil_electricity                         17.812924\n",
      "gas_electricity                            12.175146\n",
      "hydro_electricity                          44.530324\n",
      "nuclear_electricity                         1.398248\n",
      "oil_electricity                             3.015016\n",
      "other_renewable_electricity                 2.669749\n",
      "other_renewable_exc_biofuel_electricity     0.002302\n",
      "renewables_electricity                     48.557352\n",
      "solar_electricity                           0.175152\n",
      "wind_electricity                            1.182102\n",
      "dtype: float64\n"
     ]
    }
   ],
   "source": [
    "# Se calculan los promedios de las diferentes fuentes de energía que generan electricidad de los países de America del Sur. \n",
    "columnas_a_promediar = ['country', 'biofuel_electricity','coal_electricity','fossil_electricity','gas_electricity', 'hydro_electricity','nuclear_electricity','oil_electricity','other_renewable_electricity','other_renewable_exc_biofuel_electricity','renewables_electricity','solar_electricity','wind_electricity']\n",
    "promedios = electrica[columnas_a_promediar].mean()\n",
    "print(promedios)\n",
    "df_promedios = pd.DataFrame(promedios, columns=['Promedios'])\n",
    "df_promedios = df_promedios.sort_values(by='Promedios')"
   ]
  },
  {
   "cell_type": "code",
<<<<<<< HEAD
   "execution_count": 522,
=======
   "execution_count": 436,
>>>>>>> ramalu
   "metadata": {},
   "outputs": [
    {
     "data": {
      "image/png": "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",
      "text/plain": [
       "<Figure size 1200x600 with 1 Axes>"
      ]
     },
     "metadata": {},
     "output_type": "display_data"
    }
   ],
   "source": [
    "# Se grafican los promedios de las energías generadoras de electricidad de America del Sur \n",
    "sns.set_palette(\"viridis\")\n",
    "plt.figure(figsize=(12, 6))\n",
    "sns.barplot(x=df_promedios.index, y='Promedios', data=df_promedios)\n",
    "plt.xticks(rotation=45, ha='right')  \n",
    "plt.title('Promedios de generación de electricidad por tipo de fuente')\n",
    "plt.show()"
   ]
  },
  {
   "cell_type": "markdown",
   "metadata": {},
   "source": [
    "Como se presumía, la mayor cantidad de generación de electricidad la producen los combustibles fósiles, en segundo lugar el carbón y en tercer lugar las energías renovables, que posterioremente se analizará en detalle, ya que resulta de interés porque son infitas y no producen gases de efecto invernadero. "
   ]
  },
  {
   "cell_type": "code",
<<<<<<< HEAD
   "execution_count": 523,
=======
   "execution_count": 437,
>>>>>>> ramalu
   "metadata": {},
   "outputs": [
    {
     "name": "stdout",
     "output_type": "stream",
     "text": [
      "biofuel_electricity                         2.665486\n",
      "hydro_electricity                          44.530324\n",
      "other_renewable_electricity                 2.669749\n",
      "other_renewable_exc_biofuel_electricity     0.002302\n",
      "solar_electricity                           0.175152\n",
      "wind_electricity                            1.182102\n",
      "dtype: float64\n"
     ]
    }
   ],
   "source": [
    "# Se calculan los promedios de las diferentes fuentes de energía que generan electricidad de los países de America del Sur. \n",
    "energiaslimpias= [ 'biofuel_electricity', 'hydro_electricity','other_renewable_electricity','other_renewable_exc_biofuel_electricity','solar_electricity','wind_electricity']\n",
    "promedios = electrica[energiaslimpias].mean()\n",
    "print(promedios)\n",
    "df_promedios = pd.DataFrame(promedios, columns=['Promedios'])\n",
    "df_promedios = df_promedios.sort_values(by='Promedios')"
   ]
  },
  {
   "cell_type": "code",
<<<<<<< HEAD
   "execution_count": 524,
=======
   "execution_count": 438,
>>>>>>> ramalu
   "metadata": {},
   "outputs": [
    {
     "data": {
      "image/png": "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",
      "text/plain": [
       "<Figure size 1000x1200 with 1 Axes>"
      ]
     },
     "metadata": {},
     "output_type": "display_data"
    }
   ],
   "source": [
    "# Se realiza el gráfico correspondiente \n",
    "sns.set_palette(\"viridis\")\n",
    "plt.figure(figsize=(10, 12))\n",
    "wedgeprops = {'linewidth': 2, 'edgecolor': 'white'}\n",
    "plt.pie(df_promedios['Promedios'], autopct='%1.1f%%', startangle=90, pctdistance=1.2, wedgeprops=wedgeprops)\n",
    "plt.legend(df_promedios.index, title='Fuentes de energía', bbox_to_anchor=(1, 1), loc='upper right')\n",
    "plt.title('Promedios de generación de electricidad por fuente de energía limpia')\n",
    "plt.show()"
   ]
  },
  {
   "cell_type": "markdown",
   "metadata": {},
   "source": [
    "Se observa que dentro de la energías denominadas limpias, la energía hidraúlica es la que más produce electricidad en America del Sur, Luego le siguen los bio combustibles que son los derivados de fuentes orgánicas como la biomasa y residuos orgánicos y en tercer lugar la enegía eolica, que posteriormente se analizará en detalle. "
   ]
  },
  {
   "cell_type": "code",
<<<<<<< HEAD
   "execution_count": 525,
=======
   "execution_count": 439,
>>>>>>> ramalu
   "metadata": {},
   "outputs": [
    {
     "name": "stdout",
     "output_type": "stream",
     "text": [
      "                country  promedio_wind_electricity\n",
      "2                Brazil                  12.636000\n",
      "3                 Chile                   1.121174\n",
      "12              Uruguay                   1.085391\n",
      "0             Argentina                   0.903217\n",
      "9                  Peru                   0.346739\n",
      "4              Colombia                   0.035652\n",
      "5               Ecuador                   0.026273\n",
      "13            Venezuela                   0.023955\n",
      "1               Bolivia                   0.013435\n",
      "6         French Guiana                   0.000000\n",
      "7                Guyana                   0.000000\n",
      "8              Paraguay                   0.000000\n",
      "10             Suriname                   0.000000\n",
      "11  Trinidad and Tobago                   0.000000\n"
     ]
    }
   ],
   "source": [
    "# Se calculan los promedios de la generación de enería de origen eolica de los países de America del Sur. \n",
    "promedios_wind_electricity = electrica.groupby('country')['wind_electricity'].mean()\n",
    "df_promedios_wind = pd.DataFrame({'country': promedios_wind_electricity.index , 'promedio_wind_electricity': promedios_wind_electricity.values}) \n",
    "df_promedios_wind_descentende = df_promedios_wind.sort_values(by='promedio_wind_electricity', ascending=False) \n",
    "print(df_promedios_wind_descentende) "
   ]
  },
  {
   "cell_type": "code",
<<<<<<< HEAD
   "execution_count": 526,
=======
   "execution_count": 440,
>>>>>>> ramalu
   "metadata": {},
   "outputs": [
    {
     "data": {
      "image/png": "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",
      "text/plain": [
       "<Figure size 1000x600 with 1 Axes>"
      ]
     },
     "metadata": {},
     "output_type": "display_data"
    }
   ],
   "source": [
    "df_top_10 = df_promedios_wind_descentende.head(10)\n",
    "plt.figure(figsize=(10, 6))\n",
    "sns.barplot(x='promedio_wind_electricity', y='country', data=df_top_10, palette=\"viridis\")\n",
    "plt.xlabel('Promedio de Generación de Energía Eólica')\n",
    "plt.title('Top 10 Promedio de Generación de Energía Eólica de los paises de América del Sur')\n",
    "plt.grid(axis='x')\n",
    "# Muestra el gráfico\n",
    "plt.show()"
   ]
  },
  {
   "cell_type": "code",
<<<<<<< HEAD
   "execution_count": 527,
=======
   "execution_count": 441,
>>>>>>> ramalu
   "metadata": {},
   "outputs": [
    {
     "name": "stdout",
     "output_type": "stream",
     "text": [
      "                 country  year  wind_electricity\n",
      "0              Argentina  1998             0.033\n",
      "46                Brazil  1998             0.005\n",
      "92              Colombia  1998             0.000\n",
      "115              Ecuador  1998             0.000\n",
      "137        French Guiana  1998             0.000\n",
      "159               Guyana  1998             0.000\n",
      "293            Venezuela  1998             0.000\n",
      "23               Bolivia  1998             0.000\n",
      "181             Paraguay  1998             0.000\n",
      "203                 Peru  1998             0.000\n",
      "226             Suriname  1998             0.000\n",
      "69                 Chile  1998             0.000\n",
      "248  Trinidad and Tobago  1998             0.000\n",
      "270              Uruguay  1998             0.000\n",
      "294            Venezuela  1999             0.000\n",
      "271              Uruguay  1999             0.000\n",
      "160               Guyana  1999             0.000\n",
      "116              Ecuador  1999             0.000\n",
      "70                 Chile  1999             0.000\n",
      "24               Bolivia  1999             0.000\n",
      "93              Colombia  1999             0.000\n",
      "138        French Guiana  1999             0.000\n",
      "1              Argentina  1999             0.035\n",
      "47                Brazil  1999             0.002\n",
      "249  Trinidad and Tobago  1999             0.000\n",
      "204                 Peru  1999             0.001\n",
      "227             Suriname  1999             0.000\n",
      "182             Paraguay  1999             0.000\n",
      "272              Uruguay  2000             0.000\n",
      "94              Colombia  2000             0.000\n",
      "48                Brazil  2000             0.002\n",
      "71                 Chile  2000             0.000\n",
      "117              Ecuador  2000             0.000\n",
      "2              Argentina  2000             0.035\n",
      "228             Suriname  2000             0.000\n",
      "295            Venezuela  2000             0.000\n",
      "205                 Peru  2000             0.001\n",
      "183             Paraguay  2000             0.000\n",
      "250  Trinidad and Tobago  2000             0.000\n",
      "139        French Guiana  2000             0.000\n",
      "25               Bolivia  2000             0.000\n",
      "161               Guyana  2000             0.000\n",
      "95              Colombia  2001             0.000\n",
      "162               Guyana  2001             0.000\n",
      "229             Suriname  2001             0.000\n",
      "72                 Chile  2001             0.007\n",
      "118              Ecuador  2001             0.000\n",
      "184             Paraguay  2001             0.000\n",
      "296            Venezuela  2001             0.000\n",
      "206                 Peru  2001             0.001\n",
      "273              Uruguay  2001             0.000\n",
      "251  Trinidad and Tobago  2001             0.000\n",
      "140        French Guiana  2001             0.000\n",
      "49                Brazil  2001             0.035\n",
      "26               Bolivia  2001             0.000\n",
      "3              Argentina  2001             0.049\n",
      "207                 Peru  2002             0.001\n",
      "230             Suriname  2002             0.000\n",
      "50                Brazil  2002             0.061\n",
      "141        French Guiana  2002             0.000\n",
      "27               Bolivia  2002             0.000\n",
      "252  Trinidad and Tobago  2002             0.000\n",
      "73                 Chile  2002             0.007\n",
      "163               Guyana  2002             0.000\n",
      "297            Venezuela  2002             0.000\n",
      "4              Argentina  2002             0.073\n",
      "274              Uruguay  2002             0.000\n",
      "96              Colombia  2002             0.000\n",
      "185             Paraguay  2002             0.000\n",
      "119              Ecuador  2002             0.000\n",
      "208                 Peru  2003             0.001\n",
      "164               Guyana  2003             0.000\n",
      "28               Bolivia  2003             0.000\n",
      "186             Paraguay  2003             0.000\n",
      "97              Colombia  2003             0.000\n",
      "51                Brazil  2003             0.061\n",
      "231             Suriname  2003             0.000\n",
      "120              Ecuador  2003             0.000\n",
      "253  Trinidad and Tobago  2003             0.000\n",
      "142        French Guiana  2003             0.000\n",
      "5              Argentina  2003             0.078\n",
      "275              Uruguay  2003             0.000\n",
      "298            Venezuela  2003             0.000\n",
      "74                 Chile  2003             0.007\n",
      "29               Bolivia  2004             0.000\n",
      "143        French Guiana  2004             0.000\n",
      "165               Guyana  2004             0.000\n",
      "75                 Chile  2004             0.007\n",
      "187             Paraguay  2004             0.000\n",
      "299            Venezuela  2004             0.000\n",
      "209                 Peru  2004             0.001\n",
      "232             Suriname  2004             0.000\n",
      "121              Ecuador  2004             0.000\n",
      "254  Trinidad and Tobago  2004             0.000\n",
      "6              Argentina  2004             0.072\n",
      "276              Uruguay  2004             0.000\n",
      "52                Brazil  2004             0.061\n",
      "98              Colombia  2004             0.052\n",
      "122              Ecuador  2005             0.000\n",
      "53                Brazil  2005             0.093\n",
      "30               Bolivia  2005             0.000\n",
      "188             Paraguay  2005             0.000\n",
      "210                 Peru  2005             0.001\n",
      "233             Suriname  2005             0.000\n",
      "7              Argentina  2005             0.075\n",
      "255  Trinidad and Tobago  2005             0.000\n",
      "277              Uruguay  2005             0.000\n",
      "144        French Guiana  2005             0.000\n",
      "300            Venezuela  2005             0.000\n",
      "166               Guyana  2005             0.000\n",
      "76                 Chile  2005             0.007\n",
      "99              Colombia  2005             0.049\n",
      "301            Venezuela  2006             0.000\n",
      "100             Colombia  2006             0.063\n",
      "145        French Guiana  2006             0.000\n",
      "31               Bolivia  2006             0.000\n",
      "234             Suriname  2006             0.000\n",
      "167               Guyana  2006             0.000\n",
      "189             Paraguay  2006             0.000\n",
      "123              Ecuador  2006             0.000\n",
      "8              Argentina  2006             0.070\n",
      "256  Trinidad and Tobago  2006             0.000\n",
      "278              Uruguay  2006             0.000\n",
      "54                Brazil  2006             0.237\n",
      "211                 Peru  2006             0.001\n",
      "77                 Chile  2006             0.007\n",
      "32               Bolivia  2007             0.000\n",
      "279              Uruguay  2007             0.000\n",
      "168               Guyana  2007             0.000\n",
      "146        French Guiana  2007             0.000\n",
      "101             Colombia  2007             0.049\n",
      "55                Brazil  2007             0.645\n",
      "235             Suriname  2007             0.000\n",
      "257  Trinidad and Tobago  2007             0.000\n",
      "78                 Chile  2007             0.009\n",
      "190             Paraguay  2007             0.000\n",
      "212                 Peru  2007             0.001\n",
      "302            Venezuela  2007             0.000\n",
      "124              Ecuador  2007             0.001\n",
      "9              Argentina  2007             0.061\n",
      "303            Venezuela  2008             0.000\n",
      "147        French Guiana  2008             0.000\n",
      "79                 Chile  2008             0.038\n",
      "10             Argentina  2008             0.042\n",
      "280              Uruguay  2008             0.003\n",
      "33               Bolivia  2008             0.000\n",
      "169               Guyana  2008             0.000\n",
      "191             Paraguay  2008             0.000\n",
      "125              Ecuador  2008             0.003\n",
      "102             Colombia  2008             0.054\n",
      "213                 Peru  2008             0.001\n",
      "56                Brazil  2008             0.837\n",
      "258  Trinidad and Tobago  2008             0.000\n",
      "236             Suriname  2008             0.000\n",
      "170               Guyana  2009             0.000\n",
      "304            Venezuela  2009             0.000\n",
      "237             Suriname  2009             0.000\n",
      "11             Argentina  2009             0.036\n",
      "192             Paraguay  2009             0.000\n",
      "214                 Peru  2009             0.001\n",
      "80                 Chile  2009             0.079\n",
      "259  Trinidad and Tobago  2009             0.000\n",
      "57                Brazil  2009             1.238\n",
      "126              Ecuador  2009             0.003\n",
      "281              Uruguay  2009             0.042\n",
      "148        French Guiana  2009             0.000\n",
      "34               Bolivia  2009             0.000\n",
      "103             Colombia  2009             0.058\n",
      "81                 Chile  2010             0.332\n",
      "127              Ecuador  2010             0.003\n",
      "282              Uruguay  2010             0.068\n",
      "193             Paraguay  2010             0.000\n",
      "305            Venezuela  2010             0.000\n",
      "260  Trinidad and Tobago  2010             0.000\n",
      "12             Argentina  2010             0.025\n",
      "104             Colombia  2010             0.039\n",
      "171               Guyana  2010             0.000\n",
      "35               Bolivia  2010             0.000\n",
      "149        French Guiana  2010             0.000\n",
      "238             Suriname  2010             0.000\n",
      "58                Brazil  2010             2.177\n",
      "215                 Peru  2010             0.001\n",
      "194             Paraguay  2011             0.000\n",
      "105             Colombia  2011             0.040\n",
      "59                Brazil  2011             2.705\n",
      "128              Ecuador  2011             0.003\n",
      "82                 Chile  2011             0.338\n",
      "283              Uruguay  2011             0.110\n",
      "13             Argentina  2011             0.059\n",
      "261  Trinidad and Tobago  2011             0.000\n",
      "172               Guyana  2011             0.000\n",
      "36               Bolivia  2011             0.000\n",
      "239             Suriname  2011             0.000\n",
      "150        French Guiana  2011             0.000\n",
      "306            Venezuela  2011             0.000\n",
      "216                 Peru  2011             0.001\n",
      "217                 Peru  2012             0.001\n",
      "14             Argentina  2012             0.822\n",
      "240             Suriname  2012             0.000\n",
      "307            Venezuela  2012             0.030\n",
      "262  Trinidad and Tobago  2012             0.000\n",
      "60                Brazil  2012             5.050\n",
      "284              Uruguay  2012             0.111\n",
      "195             Paraguay  2012             0.000\n",
      "129              Ecuador  2012             0.002\n",
      "151        French Guiana  2012             0.000\n",
      "106             Colombia  2012             0.055\n",
      "173               Guyana  2012             0.000\n",
      "37               Bolivia  2012             0.000\n",
      "83                 Chile  2012             0.409\n",
      "84                 Chile  2013             0.553\n",
      "61                Brazil  2013             6.580\n",
      "285              Uruguay  2013             0.144\n",
      "218                 Peru  2013             0.001\n",
      "263  Trinidad and Tobago  2013             0.000\n",
      "196             Paraguay  2013             0.000\n",
      "130              Ecuador  2013             0.060\n",
      "174               Guyana  2013             0.000\n",
      "152        French Guiana  2013             0.000\n",
      "107             Colombia  2013             0.060\n",
      "15             Argentina  2013             1.007\n",
      "308            Venezuela  2013             0.071\n",
      "38               Bolivia  2013             0.001\n",
      "241             Suriname  2013             0.000\n",
      "242             Suriname  2014             0.000\n",
      "175               Guyana  2014             0.000\n",
      "153        French Guiana  2014             0.000\n",
      "62                Brazil  2014            12.210\n",
      "85                 Chile  2014             1.441\n",
      "309            Venezuela  2014             0.071\n",
      "131              Ecuador  2014             0.080\n",
      "264  Trinidad and Tobago  2014             0.000\n",
      "286              Uruguay  2014             0.733\n",
      "219                 Peru  2014             0.260\n",
      "197             Paraguay  2014             0.000\n",
      "39               Bolivia  2014             0.008\n",
      "108             Colombia  2014             0.070\n",
      "16             Argentina  2014             0.619\n",
      "63                Brazil  2015            21.630\n",
      "40               Bolivia  2015             0.012\n",
      "154        French Guiana  2015             0.000\n",
      "132              Ecuador  2015             0.100\n",
      "265  Trinidad and Tobago  2015             0.000\n",
      "17             Argentina  2015             0.593\n",
      "310            Venezuela  2015             0.071\n",
      "198             Paraguay  2015             0.000\n",
      "109             Colombia  2015             0.068\n",
      "220                 Peru  2015             0.595\n",
      "86                 Chile  2015             2.112\n",
      "287              Uruguay  2015             2.065\n",
      "176               Guyana  2015             0.000\n",
      "243             Suriname  2015             0.000\n",
      "288              Uruguay  2016             2.994\n",
      "199             Paraguay  2016             0.000\n",
      "221                 Peru  2016             1.063\n",
      "266  Trinidad and Tobago  2016             0.000\n",
      "311            Venezuela  2016             0.071\n",
      "133              Ecuador  2016             0.084\n",
      "244             Suriname  2016             0.000\n",
      "87                 Chile  2016             2.446\n",
      "18             Argentina  2016             0.548\n",
      "155        French Guiana  2016             0.000\n",
      "41               Bolivia  2016             0.035\n",
      "64                Brazil  2016            33.490\n",
      "110             Colombia  2016             0.050\n",
      "177               Guyana  2016             0.000\n",
      "65                Brazil  2017            42.370\n",
      "267  Trinidad and Tobago  2017             0.000\n",
      "222                 Peru  2017             1.073\n",
      "178               Guyana  2017             0.000\n",
      "88                 Chile  2017             3.516\n",
      "19             Argentina  2017             0.612\n",
      "156        French Guiana  2017             0.000\n",
      "42               Bolivia  2017             0.060\n",
      "200             Paraguay  2017             0.000\n",
      "289              Uruguay  2017             3.774\n",
      "245             Suriname  2017             0.000\n",
      "111             Colombia  2017             0.003\n",
      "312            Venezuela  2017             0.071\n",
      "134              Ecuador  2017             0.073\n",
      "290              Uruguay  2018             4.732\n",
      "157        French Guiana  2018             0.000\n",
      "268  Trinidad and Tobago  2018             0.000\n",
      "112             Colombia  2018             0.043\n",
      "313            Venezuela  2018             0.071\n",
      "179               Guyana  2018             0.000\n",
      "89                 Chile  2018             3.583\n",
      "135              Ecuador  2018             0.080\n",
      "201             Paraguay  2018             0.000\n",
      "66                Brazil  2018            48.475\n",
      "223                 Peru  2018             1.502\n",
      "43               Bolivia  2018             0.059\n",
      "246             Suriname  2018             0.000\n",
      "20             Argentina  2018             1.413\n",
      "67                Brazil  2019            55.986\n",
      "21             Argentina  2019             4.997\n",
      "90                 Chile  2019             5.086\n",
      "44               Bolivia  2019             0.070\n",
      "113             Colombia  2019             0.060\n",
      "314            Venezuela  2019             0.071\n",
      "136              Ecuador  2019             0.086\n",
      "158        French Guiana  2019             0.000\n",
      "291              Uruguay  2019             4.753\n",
      "180               Guyana  2019             0.000\n",
      "202             Paraguay  2019             0.000\n",
      "224                 Peru  2019             1.655\n",
      "247             Suriname  2019             0.000\n",
      "269  Trinidad and Tobago  2019             0.000\n",
      "91                 Chile  2020             5.803\n",
      "292              Uruguay  2020             5.435\n",
      "68                Brazil  2020            56.678\n",
      "45               Bolivia  2020             0.064\n",
      "22             Argentina  2020             9.420\n",
      "225                 Peru  2020             1.812\n",
      "114             Colombia  2020             0.007\n"
     ]
    }
   ],
   "source": [
    "# Se muestra la columna energía eolica a través de los años según los países\n",
    "desarrollo_wind = electrica[electrica['year'] >= 1985][['country', 'year', 'wind_electricity']].sort_values(by='year')\n",
    "print(desarrollo_wind)"
   ]
  },
  {
   "cell_type": "code",
<<<<<<< HEAD
   "execution_count": 528,
=======
   "execution_count": 490,
>>>>>>> ramalu
   "metadata": {},
   "outputs": [
    {
     "data": {
      "application/vnd.plotly.v1+json": {
       "config": {
        "plotlyServerURL": "https://plot.ly"
       },
       "data": [
        {
         "hovertemplate": "country=Argentina<br>Year=%{x}<br>Wind Electricity=%{y}<extra></extra>",
         "legendgroup": "Argentina",
         "line": {
          "color": "#636efa",
          "dash": "solid",
          "shape": "linear",
          "simplify": true
         },
         "marker": {
          "symbol": "circle"
         },
         "mode": "lines",
         "name": "Argentina",
         "orientation": "v",
         "showlegend": true,
         "type": "scatter",
         "x": [
          1998,
          1999,
          2000,
          2001,
          2002,
          2003,
          2004,
          2005,
          2006,
          2007,
          2008,
          2009,
          2010,
          2011,
          2012,
          2013,
          2014,
          2015,
          2016,
          2017,
          2018,
          2019,
          2020
         ],
         "xaxis": "x",
         "y": [
          0.033,
          0.035,
          0.035,
          0.049,
          0.073,
          0.078,
          0.072,
          0.075,
          0.07,
          0.061,
          0.042,
          0.036,
          0.025,
          0.059,
          0.822,
          1.007,
          0.619,
          0.593,
          0.548,
          0.612,
          1.413,
          4.997,
          9.42
         ],
         "yaxis": "y"
        },
        {
         "hovertemplate": "country=Brazil<br>Year=%{x}<br>Wind Electricity=%{y}<extra></extra>",
         "legendgroup": "Brazil",
         "line": {
          "color": "#EF553B",
          "dash": "dot",
          "shape": "linear",
          "simplify": true
         },
         "marker": {
          "symbol": "circle"
         },
         "mode": "lines",
         "name": "Brazil",
         "orientation": "v",
         "showlegend": true,
         "type": "scatter",
         "x": [
          1998,
          1999,
          2000,
          2001,
          2002,
          2003,
          2004,
          2005,
          2006,
          2007,
          2008,
          2009,
          2010,
          2011,
          2012,
          2013,
          2014,
          2015,
          2016,
          2017,
          2018,
          2019,
          2020
         ],
         "xaxis": "x",
         "y": [
          0.005,
          0.002,
          0.002,
          0.035,
          0.061,
          0.061,
          0.061,
          0.093,
          0.237,
          0.645,
          0.837,
          1.238,
          2.177,
          2.705,
          5.05,
          6.58,
          12.21,
          21.63,
          33.49,
          42.37,
          48.475,
          55.986,
          56.678
         ],
         "yaxis": "y"
        },
        {
         "hovertemplate": "country=Colombia<br>Year=%{x}<br>Wind Electricity=%{y}<extra></extra>",
         "legendgroup": "Colombia",
         "line": {
          "color": "#00cc96",
          "dash": "dash",
          "shape": "linear",
          "simplify": true
         },
         "marker": {
          "symbol": "circle"
         },
         "mode": "lines",
         "name": "Colombia",
         "orientation": "v",
         "showlegend": true,
         "type": "scatter",
         "x": [
          1998,
          1999,
          2000,
          2001,
          2002,
          2003,
          2004,
          2005,
          2006,
          2007,
          2008,
          2009,
          2010,
          2011,
          2012,
          2013,
          2014,
          2015,
          2016,
          2017,
          2018,
          2019,
          2020
         ],
         "xaxis": "x",
         "y": [
          0,
          0,
          0,
          0,
          0,
          0,
          0.052,
          0.049,
          0.063,
          0.049,
          0.054,
          0.058,
          0.039,
          0.04,
          0.055,
          0.06,
          0.07,
          0.068,
          0.05,
          0.003,
          0.043,
          0.06,
          0.007
         ],
         "yaxis": "y"
        },
        {
         "hovertemplate": "country=Ecuador<br>Year=%{x}<br>Wind Electricity=%{y}<extra></extra>",
         "legendgroup": "Ecuador",
         "line": {
          "color": "#ab63fa",
          "dash": "longdash",
          "shape": "linear",
          "simplify": true
         },
         "marker": {
          "symbol": "circle"
         },
         "mode": "lines",
         "name": "Ecuador",
         "orientation": "v",
         "showlegend": true,
         "type": "scatter",
         "x": [
          1998,
          1999,
          2000,
          2001,
          2002,
          2003,
          2004,
          2005,
          2006,
          2007,
          2008,
          2009,
          2010,
          2011,
          2012,
          2013,
          2014,
          2015,
          2016,
          2017,
          2018,
          2019
         ],
         "xaxis": "x",
         "y": [
          0,
          0,
          0,
          0,
          0,
          0,
          0,
          0,
          0,
          0.001,
          0.003,
          0.003,
          0.003,
          0.003,
          0.002,
          0.06,
          0.08,
          0.1,
          0.084,
          0.073,
          0.08,
          0.086
         ],
         "yaxis": "y"
        },
        {
         "hovertemplate": "country=French Guiana<br>Year=%{x}<br>Wind Electricity=%{y}<extra></extra>",
         "legendgroup": "French Guiana",
         "line": {
          "color": "#FFA15A",
          "dash": "dashdot",
          "shape": "linear",
          "simplify": true
         },
         "marker": {
          "symbol": "circle"
         },
         "mode": "lines",
         "name": "French Guiana",
         "orientation": "v",
         "showlegend": true,
         "type": "scatter",
         "x": [
          1998,
          1999,
          2000,
          2001,
          2002,
          2003,
          2004,
          2005,
          2006,
          2007,
          2008,
          2009,
          2010,
          2011,
          2012,
          2013,
          2014,
          2015,
          2016,
          2017,
          2018,
          2019
         ],
         "xaxis": "x",
         "y": [
          0,
          0,
          0,
          0,
          0,
          0,
          0,
          0,
          0,
          0,
          0,
          0,
          0,
          0,
          0,
          0,
          0,
          0,
          0,
          0,
          0,
          0
         ],
         "yaxis": "y"
        },
        {
         "hovertemplate": "country=Guyana<br>Year=%{x}<br>Wind Electricity=%{y}<extra></extra>",
         "legendgroup": "Guyana",
         "line": {
          "color": "#19d3f3",
          "dash": "longdashdot",
          "shape": "linear",
          "simplify": true
         },
         "marker": {
          "symbol": "circle"
         },
         "mode": "lines",
         "name": "Guyana",
         "orientation": "v",
         "showlegend": true,
         "type": "scatter",
         "x": [
          1998,
          1999,
          2000,
          2001,
          2002,
          2003,
          2004,
          2005,
          2006,
          2007,
          2008,
          2009,
          2010,
          2011,
          2012,
          2013,
          2014,
          2015,
          2016,
          2017,
          2018,
          2019
         ],
         "xaxis": "x",
         "y": [
          0,
          0,
          0,
          0,
          0,
          0,
          0,
          0,
          0,
          0,
          0,
          0,
          0,
          0,
          0,
          0,
          0,
          0,
          0,
          0,
          0,
          0
         ],
         "yaxis": "y"
        },
        {
         "hovertemplate": "country=Venezuela<br>Year=%{x}<br>Wind Electricity=%{y}<extra></extra>",
         "legendgroup": "Venezuela",
         "line": {
          "color": "#FF6692",
          "dash": "solid",
          "shape": "linear",
          "simplify": true
         },
         "marker": {
          "symbol": "circle"
         },
         "mode": "lines",
         "name": "Venezuela",
         "orientation": "v",
         "showlegend": true,
         "type": "scatter",
         "x": [
          1998,
          1999,
          2000,
          2001,
          2002,
          2003,
          2004,
          2005,
          2006,
          2007,
          2008,
          2009,
          2010,
          2011,
          2012,
          2013,
          2014,
          2015,
          2016,
          2017,
          2018,
          2019
         ],
         "xaxis": "x",
         "y": [
          0,
          0,
          0,
          0,
          0,
          0,
          0,
          0,
          0,
          0,
          0,
          0,
          0,
          0,
          0.03,
          0.071,
          0.071,
          0.071,
          0.071,
          0.071,
          0.071,
          0.071
         ],
         "yaxis": "y"
        },
        {
         "hovertemplate": "country=Bolivia<br>Year=%{x}<br>Wind Electricity=%{y}<extra></extra>",
         "legendgroup": "Bolivia",
         "line": {
          "color": "#B6E880",
          "dash": "dot",
          "shape": "linear",
          "simplify": true
         },
         "marker": {
          "symbol": "circle"
         },
         "mode": "lines",
         "name": "Bolivia",
         "orientation": "v",
         "showlegend": true,
         "type": "scatter",
         "x": [
          1998,
          1999,
          2000,
          2001,
          2002,
          2003,
          2004,
          2005,
          2006,
          2007,
          2008,
          2009,
          2010,
          2011,
          2012,
          2013,
          2014,
          2015,
          2016,
          2017,
          2018,
          2019,
          2020
         ],
         "xaxis": "x",
         "y": [
          0,
          0,
          0,
          0,
          0,
          0,
          0,
          0,
          0,
          0,
          0,
          0,
          0,
          0,
          0,
          0.001,
          0.008,
          0.012,
          0.035,
          0.06,
          0.059,
          0.07,
          0.064
         ],
         "yaxis": "y"
        },
        {
         "hovertemplate": "country=Paraguay<br>Year=%{x}<br>Wind Electricity=%{y}<extra></extra>",
         "legendgroup": "Paraguay",
         "line": {
          "color": "#FF97FF",
          "dash": "dash",
          "shape": "linear",
          "simplify": true
         },
         "marker": {
          "symbol": "circle"
         },
         "mode": "lines",
         "name": "Paraguay",
         "orientation": "v",
         "showlegend": true,
         "type": "scatter",
         "x": [
          1998,
          1999,
          2000,
          2001,
          2002,
          2003,
          2004,
          2005,
          2006,
          2007,
          2008,
          2009,
          2010,
          2011,
          2012,
          2013,
          2014,
          2015,
          2016,
          2017,
          2018,
          2019
         ],
         "xaxis": "x",
         "y": [
          0,
          0,
          0,
          0,
          0,
          0,
          0,
          0,
          0,
          0,
          0,
          0,
          0,
          0,
          0,
          0,
          0,
          0,
          0,
          0,
          0,
          0
         ],
         "yaxis": "y"
        },
        {
         "hovertemplate": "country=Peru<br>Year=%{x}<br>Wind Electricity=%{y}<extra></extra>",
         "legendgroup": "Peru",
         "line": {
          "color": "#FECB52",
          "dash": "longdash",
          "shape": "linear",
          "simplify": true
         },
         "marker": {
          "symbol": "circle"
         },
         "mode": "lines",
         "name": "Peru",
         "orientation": "v",
         "showlegend": true,
         "type": "scatter",
         "x": [
          1998,
          1999,
          2000,
          2001,
          2002,
          2003,
          2004,
          2005,
          2006,
          2007,
          2008,
          2009,
          2010,
          2011,
          2012,
          2013,
          2014,
          2015,
          2016,
          2017,
          2018,
          2019,
          2020
         ],
         "xaxis": "x",
         "y": [
          0,
          0.001,
          0.001,
          0.001,
          0.001,
          0.001,
          0.001,
          0.001,
          0.001,
          0.001,
          0.001,
          0.001,
          0.001,
          0.001,
          0.001,
          0.001,
          0.26,
          0.595,
          1.063,
          1.073,
          1.502,
          1.655,
          1.812
         ],
         "yaxis": "y"
        },
        {
         "hovertemplate": "country=Suriname<br>Year=%{x}<br>Wind Electricity=%{y}<extra></extra>",
         "legendgroup": "Suriname",
         "line": {
          "color": "#636efa",
          "dash": "dashdot",
          "shape": "linear",
          "simplify": true
         },
         "marker": {
          "symbol": "circle"
         },
         "mode": "lines",
         "name": "Suriname",
         "orientation": "v",
         "showlegend": true,
         "type": "scatter",
         "x": [
          1998,
          1999,
          2000,
          2001,
          2002,
          2003,
          2004,
          2005,
          2006,
          2007,
          2008,
          2009,
          2010,
          2011,
          2012,
          2013,
          2014,
          2015,
          2016,
          2017,
          2018,
          2019
         ],
         "xaxis": "x",
         "y": [
          0,
          0,
          0,
          0,
          0,
          0,
          0,
          0,
          0,
          0,
          0,
          0,
          0,
          0,
          0,
          0,
          0,
          0,
          0,
          0,
          0,
          0
         ],
         "yaxis": "y"
        },
        {
         "hovertemplate": "country=Chile<br>Year=%{x}<br>Wind Electricity=%{y}<extra></extra>",
         "legendgroup": "Chile",
         "line": {
          "color": "#EF553B",
          "dash": "longdashdot",
          "shape": "linear",
          "simplify": true
         },
         "marker": {
          "symbol": "circle"
         },
         "mode": "lines",
         "name": "Chile",
         "orientation": "v",
         "showlegend": true,
         "type": "scatter",
         "x": [
          1998,
          1999,
          2000,
          2001,
          2002,
          2003,
          2004,
          2005,
          2006,
          2007,
          2008,
          2009,
          2010,
          2011,
          2012,
          2013,
          2014,
          2015,
          2016,
          2017,
          2018,
          2019,
          2020
         ],
         "xaxis": "x",
         "y": [
          0,
          0,
          0,
          0.007,
          0.007,
          0.007,
          0.007,
          0.007,
          0.007,
          0.009,
          0.038,
          0.079,
          0.332,
          0.338,
          0.409,
          0.553,
          1.441,
          2.112,
          2.446,
          3.516,
          3.583,
          5.086,
          5.803
         ],
         "yaxis": "y"
        },
        {
         "hovertemplate": "country=Trinidad and Tobago<br>Year=%{x}<br>Wind Electricity=%{y}<extra></extra>",
         "legendgroup": "Trinidad and Tobago",
         "line": {
          "color": "#00cc96",
          "dash": "solid",
          "shape": "linear",
          "simplify": true
         },
         "marker": {
          "symbol": "circle"
         },
         "mode": "lines",
         "name": "Trinidad and Tobago",
         "orientation": "v",
         "showlegend": true,
         "type": "scatter",
         "x": [
          1998,
          1999,
          2000,
          2001,
          2002,
          2003,
          2004,
          2005,
          2006,
          2007,
          2008,
          2009,
          2010,
          2011,
          2012,
          2013,
          2014,
          2015,
          2016,
          2017,
          2018,
          2019
         ],
         "xaxis": "x",
         "y": [
          0,
          0,
          0,
          0,
          0,
          0,
          0,
          0,
          0,
          0,
          0,
          0,
          0,
          0,
          0,
          0,
          0,
          0,
          0,
          0,
          0,
          0
         ],
         "yaxis": "y"
        },
        {
         "hovertemplate": "country=Uruguay<br>Year=%{x}<br>Wind Electricity=%{y}<extra></extra>",
         "legendgroup": "Uruguay",
         "line": {
          "color": "#ab63fa",
          "dash": "dot",
          "shape": "linear",
          "simplify": true
         },
         "marker": {
          "symbol": "circle"
         },
         "mode": "lines",
         "name": "Uruguay",
         "orientation": "v",
         "showlegend": true,
         "type": "scatter",
         "x": [
          1998,
          1999,
          2000,
          2001,
          2002,
          2003,
          2004,
          2005,
          2006,
          2007,
          2008,
          2009,
          2010,
          2011,
          2012,
          2013,
          2014,
          2015,
          2016,
          2017,
          2018,
          2019,
          2020
         ],
         "xaxis": "x",
         "y": [
          0,
          0,
          0,
          0,
          0,
          0,
          0,
          0,
          0,
          0,
          0.003,
          0.042,
          0.068,
          0.11,
          0.111,
          0.144,
          0.733,
          2.065,
          2.994,
          3.774,
          4.732,
          4.753,
          5.435
         ],
         "yaxis": "y"
        }
       ],
       "layout": {
        "height": 600,
        "legend": {
         "title": {
          "text": "country"
         },
         "tracegroupgap": 0
        },
        "plot_bgcolor": "white",
        "showlegend": true,
        "template": {
         "data": {
          "bar": [
           {
            "error_x": {
             "color": "#2a3f5f"
            },
            "error_y": {
             "color": "#2a3f5f"
            },
            "marker": {
             "line": {
              "color": "#E5ECF6",
              "width": 0.5
             },
             "pattern": {
              "fillmode": "overlay",
              "size": 10,
              "solidity": 0.2
             }
            },
            "type": "bar"
           }
          ],
          "barpolar": [
           {
            "marker": {
             "line": {
              "color": "#E5ECF6",
              "width": 0.5
             },
             "pattern": {
              "fillmode": "overlay",
              "size": 10,
              "solidity": 0.2
             }
            },
            "type": "barpolar"
           }
          ],
          "carpet": [
           {
            "aaxis": {
             "endlinecolor": "#2a3f5f",
             "gridcolor": "white",
             "linecolor": "white",
             "minorgridcolor": "white",
             "startlinecolor": "#2a3f5f"
            },
            "baxis": {
             "endlinecolor": "#2a3f5f",
             "gridcolor": "white",
             "linecolor": "white",
             "minorgridcolor": "white",
             "startlinecolor": "#2a3f5f"
            },
            "type": "carpet"
           }
          ],
          "choropleth": [
           {
            "colorbar": {
             "outlinewidth": 0,
             "ticks": ""
            },
            "type": "choropleth"
           }
          ],
          "contour": [
           {
            "colorbar": {
             "outlinewidth": 0,
             "ticks": ""
            },
            "colorscale": [
             [
              0,
              "#0d0887"
             ],
             [
              0.1111111111111111,
              "#46039f"
             ],
             [
              0.2222222222222222,
              "#7201a8"
             ],
             [
              0.3333333333333333,
              "#9c179e"
             ],
             [
              0.4444444444444444,
              "#bd3786"
             ],
             [
              0.5555555555555556,
              "#d8576b"
             ],
             [
              0.6666666666666666,
              "#ed7953"
             ],
             [
              0.7777777777777778,
              "#fb9f3a"
             ],
             [
              0.8888888888888888,
              "#fdca26"
             ],
             [
              1,
              "#f0f921"
             ]
            ],
            "type": "contour"
           }
          ],
          "contourcarpet": [
           {
            "colorbar": {
             "outlinewidth": 0,
             "ticks": ""
            },
            "type": "contourcarpet"
           }
          ],
          "heatmap": [
           {
            "colorbar": {
             "outlinewidth": 0,
             "ticks": ""
            },
            "colorscale": [
             [
              0,
              "#0d0887"
             ],
             [
              0.1111111111111111,
              "#46039f"
             ],
             [
              0.2222222222222222,
              "#7201a8"
             ],
             [
              0.3333333333333333,
              "#9c179e"
             ],
             [
              0.4444444444444444,
              "#bd3786"
             ],
             [
              0.5555555555555556,
              "#d8576b"
             ],
             [
              0.6666666666666666,
              "#ed7953"
             ],
             [
              0.7777777777777778,
              "#fb9f3a"
             ],
             [
              0.8888888888888888,
              "#fdca26"
             ],
             [
              1,
              "#f0f921"
             ]
            ],
            "type": "heatmap"
           }
          ],
          "heatmapgl": [
           {
            "colorbar": {
             "outlinewidth": 0,
             "ticks": ""
            },
            "colorscale": [
             [
              0,
              "#0d0887"
             ],
             [
              0.1111111111111111,
              "#46039f"
             ],
             [
              0.2222222222222222,
              "#7201a8"
             ],
             [
              0.3333333333333333,
              "#9c179e"
             ],
             [
              0.4444444444444444,
              "#bd3786"
             ],
             [
              0.5555555555555556,
              "#d8576b"
             ],
             [
              0.6666666666666666,
              "#ed7953"
             ],
             [
              0.7777777777777778,
              "#fb9f3a"
             ],
             [
              0.8888888888888888,
              "#fdca26"
             ],
             [
              1,
              "#f0f921"
             ]
            ],
            "type": "heatmapgl"
           }
          ],
          "histogram": [
           {
            "marker": {
             "pattern": {
              "fillmode": "overlay",
              "size": 10,
              "solidity": 0.2
             }
            },
            "type": "histogram"
           }
          ],
          "histogram2d": [
           {
            "colorbar": {
             "outlinewidth": 0,
             "ticks": ""
            },
            "colorscale": [
             [
              0,
              "#0d0887"
             ],
             [
              0.1111111111111111,
              "#46039f"
             ],
             [
              0.2222222222222222,
              "#7201a8"
             ],
             [
              0.3333333333333333,
              "#9c179e"
             ],
             [
              0.4444444444444444,
              "#bd3786"
             ],
             [
              0.5555555555555556,
              "#d8576b"
             ],
             [
              0.6666666666666666,
              "#ed7953"
             ],
             [
              0.7777777777777778,
              "#fb9f3a"
             ],
             [
              0.8888888888888888,
              "#fdca26"
             ],
             [
              1,
              "#f0f921"
             ]
            ],
            "type": "histogram2d"
           }
          ],
          "histogram2dcontour": [
           {
            "colorbar": {
             "outlinewidth": 0,
             "ticks": ""
            },
            "colorscale": [
             [
              0,
              "#0d0887"
             ],
             [
              0.1111111111111111,
              "#46039f"
             ],
             [
              0.2222222222222222,
              "#7201a8"
             ],
             [
              0.3333333333333333,
              "#9c179e"
             ],
             [
              0.4444444444444444,
              "#bd3786"
             ],
             [
              0.5555555555555556,
              "#d8576b"
             ],
             [
              0.6666666666666666,
              "#ed7953"
             ],
             [
              0.7777777777777778,
              "#fb9f3a"
             ],
             [
              0.8888888888888888,
              "#fdca26"
             ],
             [
              1,
              "#f0f921"
             ]
            ],
            "type": "histogram2dcontour"
           }
          ],
          "mesh3d": [
           {
            "colorbar": {
             "outlinewidth": 0,
             "ticks": ""
            },
            "type": "mesh3d"
           }
          ],
          "parcoords": [
           {
            "line": {
             "colorbar": {
              "outlinewidth": 0,
              "ticks": ""
             }
            },
            "type": "parcoords"
           }
          ],
          "pie": [
           {
            "automargin": true,
            "type": "pie"
           }
          ],
          "scatter": [
           {
            "fillpattern": {
             "fillmode": "overlay",
             "size": 10,
             "solidity": 0.2
            },
            "type": "scatter"
           }
          ],
          "scatter3d": [
           {
            "line": {
             "colorbar": {
              "outlinewidth": 0,
              "ticks": ""
             }
            },
            "marker": {
             "colorbar": {
              "outlinewidth": 0,
              "ticks": ""
             }
            },
            "type": "scatter3d"
           }
          ],
          "scattercarpet": [
           {
            "marker": {
             "colorbar": {
              "outlinewidth": 0,
              "ticks": ""
             }
            },
            "type": "scattercarpet"
           }
          ],
          "scattergeo": [
           {
            "marker": {
             "colorbar": {
              "outlinewidth": 0,
              "ticks": ""
             }
            },
            "type": "scattergeo"
           }
          ],
          "scattergl": [
           {
            "marker": {
             "colorbar": {
              "outlinewidth": 0,
              "ticks": ""
             }
            },
            "type": "scattergl"
           }
          ],
          "scattermapbox": [
           {
            "marker": {
             "colorbar": {
              "outlinewidth": 0,
              "ticks": ""
             }
            },
            "type": "scattermapbox"
           }
          ],
          "scatterpolar": [
           {
            "marker": {
             "colorbar": {
              "outlinewidth": 0,
              "ticks": ""
             }
            },
            "type": "scatterpolar"
           }
          ],
          "scatterpolargl": [
           {
            "marker": {
             "colorbar": {
              "outlinewidth": 0,
              "ticks": ""
             }
            },
            "type": "scatterpolargl"
           }
          ],
          "scatterternary": [
           {
            "marker": {
             "colorbar": {
              "outlinewidth": 0,
              "ticks": ""
             }
            },
            "type": "scatterternary"
           }
          ],
          "surface": [
           {
            "colorbar": {
             "outlinewidth": 0,
             "ticks": ""
            },
            "colorscale": [
             [
              0,
              "#0d0887"
             ],
             [
              0.1111111111111111,
              "#46039f"
             ],
             [
              0.2222222222222222,
              "#7201a8"
             ],
             [
              0.3333333333333333,
              "#9c179e"
             ],
             [
              0.4444444444444444,
              "#bd3786"
             ],
             [
              0.5555555555555556,
              "#d8576b"
             ],
             [
              0.6666666666666666,
              "#ed7953"
             ],
             [
              0.7777777777777778,
              "#fb9f3a"
             ],
             [
              0.8888888888888888,
              "#fdca26"
             ],
             [
              1,
              "#f0f921"
             ]
            ],
            "type": "surface"
           }
          ],
          "table": [
           {
            "cells": {
             "fill": {
              "color": "#EBF0F8"
             },
             "line": {
              "color": "white"
             }
            },
            "header": {
             "fill": {
              "color": "#C8D4E3"
             },
             "line": {
              "color": "white"
             }
            },
            "type": "table"
           }
          ]
         },
         "layout": {
          "annotationdefaults": {
           "arrowcolor": "#2a3f5f",
           "arrowhead": 0,
           "arrowwidth": 1
          },
          "autotypenumbers": "strict",
          "coloraxis": {
           "colorbar": {
            "outlinewidth": 0,
            "ticks": ""
           }
          },
          "colorscale": {
           "diverging": [
            [
             0,
             "#8e0152"
            ],
            [
             0.1,
             "#c51b7d"
            ],
            [
             0.2,
             "#de77ae"
            ],
            [
             0.3,
             "#f1b6da"
            ],
            [
             0.4,
             "#fde0ef"
            ],
            [
             0.5,
             "#f7f7f7"
            ],
            [
             0.6,
             "#e6f5d0"
            ],
            [
             0.7,
             "#b8e186"
            ],
            [
             0.8,
             "#7fbc41"
            ],
            [
             0.9,
             "#4d9221"
            ],
            [
             1,
             "#276419"
            ]
           ],
           "sequential": [
            [
             0,
             "#0d0887"
            ],
            [
             0.1111111111111111,
             "#46039f"
            ],
            [
             0.2222222222222222,
             "#7201a8"
            ],
            [
             0.3333333333333333,
             "#9c179e"
            ],
            [
             0.4444444444444444,
             "#bd3786"
            ],
            [
             0.5555555555555556,
             "#d8576b"
            ],
            [
             0.6666666666666666,
             "#ed7953"
            ],
            [
             0.7777777777777778,
             "#fb9f3a"
            ],
            [
             0.8888888888888888,
             "#fdca26"
            ],
            [
             1,
             "#f0f921"
            ]
           ],
           "sequentialminus": [
            [
             0,
             "#0d0887"
            ],
            [
             0.1111111111111111,
             "#46039f"
            ],
            [
             0.2222222222222222,
             "#7201a8"
            ],
            [
             0.3333333333333333,
             "#9c179e"
            ],
            [
             0.4444444444444444,
             "#bd3786"
            ],
            [
             0.5555555555555556,
             "#d8576b"
            ],
            [
             0.6666666666666666,
             "#ed7953"
            ],
            [
             0.7777777777777778,
             "#fb9f3a"
            ],
            [
             0.8888888888888888,
             "#fdca26"
            ],
            [
             1,
             "#f0f921"
            ]
           ]
          },
          "colorway": [
           "#636efa",
           "#EF553B",
           "#00cc96",
           "#ab63fa",
           "#FFA15A",
           "#19d3f3",
           "#FF6692",
           "#B6E880",
           "#FF97FF",
           "#FECB52"
          ],
          "font": {
           "color": "#2a3f5f"
          },
          "geo": {
           "bgcolor": "white",
           "lakecolor": "white",
           "landcolor": "#E5ECF6",
           "showlakes": true,
           "showland": true,
           "subunitcolor": "white"
          },
          "hoverlabel": {
           "align": "left"
          },
          "hovermode": "closest",
          "mapbox": {
           "style": "light"
          },
          "paper_bgcolor": "white",
          "plot_bgcolor": "#E5ECF6",
          "polar": {
           "angularaxis": {
            "gridcolor": "white",
            "linecolor": "white",
            "ticks": ""
           },
           "bgcolor": "#E5ECF6",
           "radialaxis": {
            "gridcolor": "white",
            "linecolor": "white",
            "ticks": ""
           }
          },
          "scene": {
           "xaxis": {
            "backgroundcolor": "#E5ECF6",
            "gridcolor": "white",
            "gridwidth": 2,
            "linecolor": "white",
            "showbackground": true,
            "ticks": "",
            "zerolinecolor": "white"
           },
           "yaxis": {
            "backgroundcolor": "#E5ECF6",
            "gridcolor": "white",
            "gridwidth": 2,
            "linecolor": "white",
            "showbackground": true,
            "ticks": "",
            "zerolinecolor": "white"
           },
           "zaxis": {
            "backgroundcolor": "#E5ECF6",
            "gridcolor": "white",
            "gridwidth": 2,
            "linecolor": "white",
            "showbackground": true,
            "ticks": "",
            "zerolinecolor": "white"
           }
          },
          "shapedefaults": {
           "line": {
            "color": "#2a3f5f"
           }
          },
          "ternary": {
           "aaxis": {
            "gridcolor": "white",
            "linecolor": "white",
            "ticks": ""
           },
           "baxis": {
            "gridcolor": "white",
            "linecolor": "white",
            "ticks": ""
           },
           "bgcolor": "#E5ECF6",
           "caxis": {
            "gridcolor": "white",
            "linecolor": "white",
            "ticks": ""
           }
          },
          "title": {
           "x": 0.05
          },
          "xaxis": {
           "automargin": true,
           "gridcolor": "white",
           "linecolor": "white",
           "ticks": "",
           "title": {
            "standoff": 15
           },
           "zerolinecolor": "white",
           "zerolinewidth": 2
          },
          "yaxis": {
           "automargin": true,
           "gridcolor": "white",
           "linecolor": "white",
           "ticks": "",
           "title": {
            "standoff": 15
           },
           "zerolinecolor": "white",
           "zerolinewidth": 2
          }
         }
        },
        "title": {
         "text": "Energía eólica por país a través de los años"
        },
        "width": 1000,
        "xaxis": {
         "anchor": "y",
         "domain": [
          0,
          1
         ],
         "range": [
          2004,
          2020
         ],
         "title": {
          "text": "Año"
         }
        },
        "yaxis": {
         "anchor": "x",
         "domain": [
          0,
          1
         ],
         "range": [
          0,
          42
         ],
         "title": {
          "text": "Energía eólica (teravatios-hora)"
         }
        }
       }
      }
     },
     "metadata": {},
     "output_type": "display_data"
    }
   ],
   "source": [
    "fig = px.line(desarrollo_wind,x='year',\n",
    "    y='wind_electricity',\n",
    "    color='country',\n",
    "    line_dash='country',\n",
    "    line_group='country',\n",
    "    labels={'wind_electricity': 'Wind Electricity', 'year': 'Year'},\n",
    "    title='Energía eólica por país a través de los años')\n",
    "fig.update_layout(\n",
    "    xaxis_title='Año',\n",
    "    yaxis_title='Energía eólica (teravatios-hora)',\n",
    "    width=1000,\n",
    "    height=600,\n",
    "    plot_bgcolor='white',\n",
    "    showlegend=True,\n",
    "    yaxis=dict(range=[0, 42]),\n",
    "    xaxis=dict(range=[2004, desarrollo_wind['year'].max()])\n",
    ")\n",
    "fig.update_traces(line_shape='linear', line_simplify=True)\n",
    "fig.show()"
   ]
  },
  {
   "cell_type": "code",
<<<<<<< HEAD
   "execution_count": 529,
=======
   "execution_count": 491,
>>>>>>> ramalu
   "metadata": {},
   "outputs": [
    {
     "name": "stdout",
     "output_type": "stream",
     "text": [
      "['Argentina' 'Bolivia' 'Brazil' 'Chile' 'Colombia' 'Ecuador'\n",
      " 'French Guiana' 'Guyana' 'Paraguay' 'Peru' 'Suriname'\n",
      " 'Trinidad and Tobago' 'Uruguay' 'Venezuela']\n"
     ]
    }
   ],
   "source": [
    "electrica['country'] = electrica['country'].astype(str)\n",
    "unique_countries = electrica['country'].unique()\n",
    "print(unique_countries)"
   ]
  },
  {
   "cell_type": "code",
<<<<<<< HEAD
   "execution_count": 530,
=======
   "execution_count": 492,
>>>>>>> ramalu
   "metadata": {},
   "outputs": [
    {
     "data": {
      "application/vnd.plotly.v1+json": {
       "config": {
        "plotlyServerURL": "https://plot.ly"
       },
       "data": [
        {
         "geo": "geo",
         "hovertemplate": "country=%{location}<extra></extra>",
         "legendgroup": "",
         "locationmode": "country names",
         "locations": [
          "Argentina",
          "Argentina",
          "Argentina",
          "Argentina",
          "Argentina",
          "Argentina",
          "Argentina",
          "Argentina",
          "Argentina",
          "Argentina",
          "Argentina",
          "Argentina",
          "Argentina",
          "Argentina",
          "Argentina",
          "Argentina",
          "Argentina",
          "Argentina",
          "Argentina",
          "Argentina",
          "Argentina",
          "Argentina",
          "Argentina",
          "Bolivia",
          "Bolivia",
          "Bolivia",
          "Bolivia",
          "Bolivia",
          "Bolivia",
          "Bolivia",
          "Bolivia",
          "Bolivia",
          "Bolivia",
          "Bolivia",
          "Bolivia",
          "Bolivia",
          "Bolivia",
          "Bolivia",
          "Bolivia",
          "Bolivia",
          "Bolivia",
          "Bolivia",
          "Bolivia",
          "Bolivia",
          "Bolivia",
          "Bolivia",
          "Brazil",
          "Brazil",
          "Brazil",
          "Brazil",
          "Brazil",
          "Brazil",
          "Brazil",
          "Brazil",
          "Brazil",
          "Brazil",
          "Brazil",
          "Brazil",
          "Brazil",
          "Brazil",
          "Brazil",
          "Brazil",
          "Brazil",
          "Brazil",
          "Brazil",
          "Brazil",
          "Brazil",
          "Brazil",
          "Brazil",
          "Chile",
          "Chile",
          "Chile",
          "Chile",
          "Chile",
          "Chile",
          "Chile",
          "Chile",
          "Chile",
          "Chile",
          "Chile",
          "Chile",
          "Chile",
          "Chile",
          "Chile",
          "Chile",
          "Chile",
          "Chile",
          "Chile",
          "Chile",
          "Chile",
          "Chile",
          "Chile",
          "Colombia",
          "Colombia",
          "Colombia",
          "Colombia",
          "Colombia",
          "Colombia",
          "Colombia",
          "Colombia",
          "Colombia",
          "Colombia",
          "Colombia",
          "Colombia",
          "Colombia",
          "Colombia",
          "Colombia",
          "Colombia",
          "Colombia",
          "Colombia",
          "Colombia",
          "Colombia",
          "Colombia",
          "Colombia",
          "Colombia",
          "Ecuador",
          "Ecuador",
          "Ecuador",
          "Ecuador",
          "Ecuador",
          "Ecuador",
          "Ecuador",
          "Ecuador",
          "Ecuador",
          "Ecuador",
          "Ecuador",
          "Ecuador",
          "Ecuador",
          "Ecuador",
          "Ecuador",
          "Ecuador",
          "Ecuador",
          "Ecuador",
          "Ecuador",
          "Ecuador",
          "Ecuador",
          "Ecuador",
          "French Guiana",
          "French Guiana",
          "French Guiana",
          "French Guiana",
          "French Guiana",
          "French Guiana",
          "French Guiana",
          "French Guiana",
          "French Guiana",
          "French Guiana",
          "French Guiana",
          "French Guiana",
          "French Guiana",
          "French Guiana",
          "French Guiana",
          "French Guiana",
          "French Guiana",
          "French Guiana",
          "French Guiana",
          "French Guiana",
          "French Guiana",
          "French Guiana",
          "Guyana",
          "Guyana",
          "Guyana",
          "Guyana",
          "Guyana",
          "Guyana",
          "Guyana",
          "Guyana",
          "Guyana",
          "Guyana",
          "Guyana",
          "Guyana",
          "Guyana",
          "Guyana",
          "Guyana",
          "Guyana",
          "Guyana",
          "Guyana",
          "Guyana",
          "Guyana",
          "Guyana",
          "Guyana",
          "Paraguay",
          "Paraguay",
          "Paraguay",
          "Paraguay",
          "Paraguay",
          "Paraguay",
          "Paraguay",
          "Paraguay",
          "Paraguay",
          "Paraguay",
          "Paraguay",
          "Paraguay",
          "Paraguay",
          "Paraguay",
          "Paraguay",
          "Paraguay",
          "Paraguay",
          "Paraguay",
          "Paraguay",
          "Paraguay",
          "Paraguay",
          "Paraguay",
          "Peru",
          "Peru",
          "Peru",
          "Peru",
          "Peru",
          "Peru",
          "Peru",
          "Peru",
          "Peru",
          "Peru",
          "Peru",
          "Peru",
          "Peru",
          "Peru",
          "Peru",
          "Peru",
          "Peru",
          "Peru",
          "Peru",
          "Peru",
          "Peru",
          "Peru",
          "Peru",
          "Suriname",
          "Suriname",
          "Suriname",
          "Suriname",
          "Suriname",
          "Suriname",
          "Suriname",
          "Suriname",
          "Suriname",
          "Suriname",
          "Suriname",
          "Suriname",
          "Suriname",
          "Suriname",
          "Suriname",
          "Suriname",
          "Suriname",
          "Suriname",
          "Suriname",
          "Suriname",
          "Suriname",
          "Suriname",
          "Trinidad and Tobago",
          "Trinidad and Tobago",
          "Trinidad and Tobago",
          "Trinidad and Tobago",
          "Trinidad and Tobago",
          "Trinidad and Tobago",
          "Trinidad and Tobago",
          "Trinidad and Tobago",
          "Trinidad and Tobago",
          "Trinidad and Tobago",
          "Trinidad and Tobago",
          "Trinidad and Tobago",
          "Trinidad and Tobago",
          "Trinidad and Tobago",
          "Trinidad and Tobago",
          "Trinidad and Tobago",
          "Trinidad and Tobago",
          "Trinidad and Tobago",
          "Trinidad and Tobago",
          "Trinidad and Tobago",
          "Trinidad and Tobago",
          "Trinidad and Tobago",
          "Uruguay",
          "Uruguay",
          "Uruguay",
          "Uruguay",
          "Uruguay",
          "Uruguay",
          "Uruguay",
          "Uruguay",
          "Uruguay",
          "Uruguay",
          "Uruguay",
          "Uruguay",
          "Uruguay",
          "Uruguay",
          "Uruguay",
          "Uruguay",
          "Uruguay",
          "Uruguay",
          "Uruguay",
          "Uruguay",
          "Uruguay",
          "Uruguay",
          "Uruguay",
          "Venezuela",
          "Venezuela",
          "Venezuela",
          "Venezuela",
          "Venezuela",
          "Venezuela",
          "Venezuela",
          "Venezuela",
          "Venezuela",
          "Venezuela",
          "Venezuela",
          "Venezuela",
          "Venezuela",
          "Venezuela",
          "Venezuela",
          "Venezuela",
          "Venezuela",
          "Venezuela",
          "Venezuela",
          "Venezuela",
          "Venezuela",
          "Venezuela"
         ],
         "marker": {
          "color": "#636efa",
          "symbol": "circle"
         },
         "mode": "markers",
         "name": "",
         "showlegend": false,
         "type": "scattergeo"
        }
       ],
       "layout": {
        "geo": {
         "center": {},
         "domain": {
          "x": [
           0,
           1
          ],
          "y": [
           0,
           1
          ]
         },
         "projection": {
          "scale": 5,
          "type": "natural earth"
         },
         "showcoastlines": false,
         "showframe": false
        },
        "legend": {
         "tracegroupgap": 0
        },
        "margin": {
         "b": 0,
         "l": 0,
         "r": 0,
         "t": 0
        },
        "template": {
         "data": {
          "bar": [
           {
            "error_x": {
             "color": "#2a3f5f"
            },
            "error_y": {
             "color": "#2a3f5f"
            },
            "marker": {
             "line": {
              "color": "#E5ECF6",
              "width": 0.5
             },
             "pattern": {
              "fillmode": "overlay",
              "size": 10,
              "solidity": 0.2
             }
            },
            "type": "bar"
           }
          ],
          "barpolar": [
           {
            "marker": {
             "line": {
              "color": "#E5ECF6",
              "width": 0.5
             },
             "pattern": {
              "fillmode": "overlay",
              "size": 10,
              "solidity": 0.2
             }
            },
            "type": "barpolar"
           }
          ],
          "carpet": [
           {
            "aaxis": {
             "endlinecolor": "#2a3f5f",
             "gridcolor": "white",
             "linecolor": "white",
             "minorgridcolor": "white",
             "startlinecolor": "#2a3f5f"
            },
            "baxis": {
             "endlinecolor": "#2a3f5f",
             "gridcolor": "white",
             "linecolor": "white",
             "minorgridcolor": "white",
             "startlinecolor": "#2a3f5f"
            },
            "type": "carpet"
           }
          ],
          "choropleth": [
           {
            "colorbar": {
             "outlinewidth": 0,
             "ticks": ""
            },
            "type": "choropleth"
           }
          ],
          "contour": [
           {
            "colorbar": {
             "outlinewidth": 0,
             "ticks": ""
            },
            "colorscale": [
             [
              0,
              "#0d0887"
             ],
             [
              0.1111111111111111,
              "#46039f"
             ],
             [
              0.2222222222222222,
              "#7201a8"
             ],
             [
              0.3333333333333333,
              "#9c179e"
             ],
             [
              0.4444444444444444,
              "#bd3786"
             ],
             [
              0.5555555555555556,
              "#d8576b"
             ],
             [
              0.6666666666666666,
              "#ed7953"
             ],
             [
              0.7777777777777778,
              "#fb9f3a"
             ],
             [
              0.8888888888888888,
              "#fdca26"
             ],
             [
              1,
              "#f0f921"
             ]
            ],
            "type": "contour"
           }
          ],
          "contourcarpet": [
           {
            "colorbar": {
             "outlinewidth": 0,
             "ticks": ""
            },
            "type": "contourcarpet"
           }
          ],
          "heatmap": [
           {
            "colorbar": {
             "outlinewidth": 0,
             "ticks": ""
            },
            "colorscale": [
             [
              0,
              "#0d0887"
             ],
             [
              0.1111111111111111,
              "#46039f"
             ],
             [
              0.2222222222222222,
              "#7201a8"
             ],
             [
              0.3333333333333333,
              "#9c179e"
             ],
             [
              0.4444444444444444,
              "#bd3786"
             ],
             [
              0.5555555555555556,
              "#d8576b"
             ],
             [
              0.6666666666666666,
              "#ed7953"
             ],
             [
              0.7777777777777778,
              "#fb9f3a"
             ],
             [
              0.8888888888888888,
              "#fdca26"
             ],
             [
              1,
              "#f0f921"
             ]
            ],
            "type": "heatmap"
           }
          ],
          "heatmapgl": [
           {
            "colorbar": {
             "outlinewidth": 0,
             "ticks": ""
            },
            "colorscale": [
             [
              0,
              "#0d0887"
             ],
             [
              0.1111111111111111,
              "#46039f"
             ],
             [
              0.2222222222222222,
              "#7201a8"
             ],
             [
              0.3333333333333333,
              "#9c179e"
             ],
             [
              0.4444444444444444,
              "#bd3786"
             ],
             [
              0.5555555555555556,
              "#d8576b"
             ],
             [
              0.6666666666666666,
              "#ed7953"
             ],
             [
              0.7777777777777778,
              "#fb9f3a"
             ],
             [
              0.8888888888888888,
              "#fdca26"
             ],
             [
              1,
              "#f0f921"
             ]
            ],
            "type": "heatmapgl"
           }
          ],
          "histogram": [
           {
            "marker": {
             "pattern": {
              "fillmode": "overlay",
              "size": 10,
              "solidity": 0.2
             }
            },
            "type": "histogram"
           }
          ],
          "histogram2d": [
           {
            "colorbar": {
             "outlinewidth": 0,
             "ticks": ""
            },
            "colorscale": [
             [
              0,
              "#0d0887"
             ],
             [
              0.1111111111111111,
              "#46039f"
             ],
             [
              0.2222222222222222,
              "#7201a8"
             ],
             [
              0.3333333333333333,
              "#9c179e"
             ],
             [
              0.4444444444444444,
              "#bd3786"
             ],
             [
              0.5555555555555556,
              "#d8576b"
             ],
             [
              0.6666666666666666,
              "#ed7953"
             ],
             [
              0.7777777777777778,
              "#fb9f3a"
             ],
             [
              0.8888888888888888,
              "#fdca26"
             ],
             [
              1,
              "#f0f921"
             ]
            ],
            "type": "histogram2d"
           }
          ],
          "histogram2dcontour": [
           {
            "colorbar": {
             "outlinewidth": 0,
             "ticks": ""
            },
            "colorscale": [
             [
              0,
              "#0d0887"
             ],
             [
              0.1111111111111111,
              "#46039f"
             ],
             [
              0.2222222222222222,
              "#7201a8"
             ],
             [
              0.3333333333333333,
              "#9c179e"
             ],
             [
              0.4444444444444444,
              "#bd3786"
             ],
             [
              0.5555555555555556,
              "#d8576b"
             ],
             [
              0.6666666666666666,
              "#ed7953"
             ],
             [
              0.7777777777777778,
              "#fb9f3a"
             ],
             [
              0.8888888888888888,
              "#fdca26"
             ],
             [
              1,
              "#f0f921"
             ]
            ],
            "type": "histogram2dcontour"
           }
          ],
          "mesh3d": [
           {
            "colorbar": {
             "outlinewidth": 0,
             "ticks": ""
            },
            "type": "mesh3d"
           }
          ],
          "parcoords": [
           {
            "line": {
             "colorbar": {
              "outlinewidth": 0,
              "ticks": ""
             }
            },
            "type": "parcoords"
           }
          ],
          "pie": [
           {
            "automargin": true,
            "type": "pie"
           }
          ],
          "scatter": [
           {
            "fillpattern": {
             "fillmode": "overlay",
             "size": 10,
             "solidity": 0.2
            },
            "type": "scatter"
           }
          ],
          "scatter3d": [
           {
            "line": {
             "colorbar": {
              "outlinewidth": 0,
              "ticks": ""
             }
            },
            "marker": {
             "colorbar": {
              "outlinewidth": 0,
              "ticks": ""
             }
            },
            "type": "scatter3d"
           }
          ],
          "scattercarpet": [
           {
            "marker": {
             "colorbar": {
              "outlinewidth": 0,
              "ticks": ""
             }
            },
            "type": "scattercarpet"
           }
          ],
          "scattergeo": [
           {
            "marker": {
             "colorbar": {
              "outlinewidth": 0,
              "ticks": ""
             }
            },
            "type": "scattergeo"
           }
          ],
          "scattergl": [
           {
            "marker": {
             "colorbar": {
              "outlinewidth": 0,
              "ticks": ""
             }
            },
            "type": "scattergl"
           }
          ],
          "scattermapbox": [
           {
            "marker": {
             "colorbar": {
              "outlinewidth": 0,
              "ticks": ""
             }
            },
            "type": "scattermapbox"
           }
          ],
          "scatterpolar": [
           {
            "marker": {
             "colorbar": {
              "outlinewidth": 0,
              "ticks": ""
             }
            },
            "type": "scatterpolar"
           }
          ],
          "scatterpolargl": [
           {
            "marker": {
             "colorbar": {
              "outlinewidth": 0,
              "ticks": ""
             }
            },
            "type": "scatterpolargl"
           }
          ],
          "scatterternary": [
           {
            "marker": {
             "colorbar": {
              "outlinewidth": 0,
              "ticks": ""
             }
            },
            "type": "scatterternary"
           }
          ],
          "surface": [
           {
            "colorbar": {
             "outlinewidth": 0,
             "ticks": ""
            },
            "colorscale": [
             [
              0,
              "#0d0887"
             ],
             [
              0.1111111111111111,
              "#46039f"
             ],
             [
              0.2222222222222222,
              "#7201a8"
             ],
             [
              0.3333333333333333,
              "#9c179e"
             ],
             [
              0.4444444444444444,
              "#bd3786"
             ],
             [
              0.5555555555555556,
              "#d8576b"
             ],
             [
              0.6666666666666666,
              "#ed7953"
             ],
             [
              0.7777777777777778,
              "#fb9f3a"
             ],
             [
              0.8888888888888888,
              "#fdca26"
             ],
             [
              1,
              "#f0f921"
             ]
            ],
            "type": "surface"
           }
          ],
          "table": [
           {
            "cells": {
             "fill": {
              "color": "#EBF0F8"
             },
             "line": {
              "color": "white"
             }
            },
            "header": {
             "fill": {
              "color": "#C8D4E3"
             },
             "line": {
              "color": "white"
             }
            },
            "type": "table"
           }
          ]
         },
         "layout": {
          "annotationdefaults": {
           "arrowcolor": "#2a3f5f",
           "arrowhead": 0,
           "arrowwidth": 1
          },
          "autotypenumbers": "strict",
          "coloraxis": {
           "colorbar": {
            "outlinewidth": 0,
            "ticks": ""
           }
          },
          "colorscale": {
           "diverging": [
            [
             0,
             "#8e0152"
            ],
            [
             0.1,
             "#c51b7d"
            ],
            [
             0.2,
             "#de77ae"
            ],
            [
             0.3,
             "#f1b6da"
            ],
            [
             0.4,
             "#fde0ef"
            ],
            [
             0.5,
             "#f7f7f7"
            ],
            [
             0.6,
             "#e6f5d0"
            ],
            [
             0.7,
             "#b8e186"
            ],
            [
             0.8,
             "#7fbc41"
            ],
            [
             0.9,
             "#4d9221"
            ],
            [
             1,
             "#276419"
            ]
           ],
           "sequential": [
            [
             0,
             "#0d0887"
            ],
            [
             0.1111111111111111,
             "#46039f"
            ],
            [
             0.2222222222222222,
             "#7201a8"
            ],
            [
             0.3333333333333333,
             "#9c179e"
            ],
            [
             0.4444444444444444,
             "#bd3786"
            ],
            [
             0.5555555555555556,
             "#d8576b"
            ],
            [
             0.6666666666666666,
             "#ed7953"
            ],
            [
             0.7777777777777778,
             "#fb9f3a"
            ],
            [
             0.8888888888888888,
             "#fdca26"
            ],
            [
             1,
             "#f0f921"
            ]
           ],
           "sequentialminus": [
            [
             0,
             "#0d0887"
            ],
            [
             0.1111111111111111,
             "#46039f"
            ],
            [
             0.2222222222222222,
             "#7201a8"
            ],
            [
             0.3333333333333333,
             "#9c179e"
            ],
            [
             0.4444444444444444,
             "#bd3786"
            ],
            [
             0.5555555555555556,
             "#d8576b"
            ],
            [
             0.6666666666666666,
             "#ed7953"
            ],
            [
             0.7777777777777778,
             "#fb9f3a"
            ],
            [
             0.8888888888888888,
             "#fdca26"
            ],
            [
             1,
             "#f0f921"
            ]
           ]
          },
          "colorway": [
           "#636efa",
           "#EF553B",
           "#00cc96",
           "#ab63fa",
           "#FFA15A",
           "#19d3f3",
           "#FF6692",
           "#B6E880",
           "#FF97FF",
           "#FECB52"
          ],
          "font": {
           "color": "#2a3f5f"
          },
          "geo": {
           "bgcolor": "white",
           "lakecolor": "white",
           "landcolor": "#E5ECF6",
           "showlakes": true,
           "showland": true,
           "subunitcolor": "white"
          },
          "hoverlabel": {
           "align": "left"
          },
          "hovermode": "closest",
          "mapbox": {
           "style": "light"
          },
          "paper_bgcolor": "white",
          "plot_bgcolor": "#E5ECF6",
          "polar": {
           "angularaxis": {
            "gridcolor": "white",
            "linecolor": "white",
            "ticks": ""
           },
           "bgcolor": "#E5ECF6",
           "radialaxis": {
            "gridcolor": "white",
            "linecolor": "white",
            "ticks": ""
           }
          },
          "scene": {
           "xaxis": {
            "backgroundcolor": "#E5ECF6",
            "gridcolor": "white",
            "gridwidth": 2,
            "linecolor": "white",
            "showbackground": true,
            "ticks": "",
            "zerolinecolor": "white"
           },
           "yaxis": {
            "backgroundcolor": "#E5ECF6",
            "gridcolor": "white",
            "gridwidth": 2,
            "linecolor": "white",
            "showbackground": true,
            "ticks": "",
            "zerolinecolor": "white"
           },
           "zaxis": {
            "backgroundcolor": "#E5ECF6",
            "gridcolor": "white",
            "gridwidth": 2,
            "linecolor": "white",
            "showbackground": true,
            "ticks": "",
            "zerolinecolor": "white"
           }
          },
          "shapedefaults": {
           "line": {
            "color": "#2a3f5f"
           }
          },
          "ternary": {
           "aaxis": {
            "gridcolor": "white",
            "linecolor": "white",
            "ticks": ""
           },
           "baxis": {
            "gridcolor": "white",
            "linecolor": "white",
            "ticks": ""
           },
           "bgcolor": "#E5ECF6",
           "caxis": {
            "gridcolor": "white",
            "linecolor": "white",
            "ticks": ""
           }
          },
          "title": {
           "x": 0.05
          },
          "xaxis": {
           "automargin": true,
           "gridcolor": "white",
           "linecolor": "white",
           "ticks": "",
           "title": {
            "standoff": 15
           },
           "zerolinecolor": "white",
           "zerolinewidth": 2
          },
          "yaxis": {
           "automargin": true,
           "gridcolor": "white",
           "linecolor": "white",
           "ticks": "",
           "title": {
            "standoff": 15
           },
           "zerolinecolor": "white",
           "zerolinewidth": 2
          }
         }
        },
        "title": {
         "text": "Ubicación de los Países"
        }
       }
      }
     },
     "metadata": {},
     "output_type": "display_data"
    }
   ],
   "source": [
    "\"%pip install plotly\"\n",
    "import plotly.express as px\n",
    "fig = px.scatter_geo(electrica,locations='country',locationmode='country names',title='Ubicación de los Países',projection='natural earth',color_continuous_scale='viridis',size_max=40,)\n",
    "fig.update_geos(projection_scale=5)\n",
    "fig.update_layout(geo=dict(showframe=False,showcoastlines=False,projection_scale=5,),margin=dict(l=0, r=0, t=0, b=0),)\n",
    "fig.show()"
   ]
  },
  {
   "cell_type": "markdown",
   "metadata": {},
   "source": [
    "## Columns and their description para el glosario\n",
    "\n",
    "column \tdescription\n",
    "iso_code \tISO 3166-1 alpha-3 three-letter country codes\n",
    "country \tGeographic location\n",
    "year \tYear of observation\n",
    "coal_prod_change_pct \tAnnual percentage change in coal production\n",
    "coal_prod_change_twh \tAnnual change in coal production, measured in terawatt-hours\n",
    "gas_prod_change_pct \tAnnual percentage change in gas production\n",
    "gas_prod_change_twh \tAnnual change in gas production, measured in terawatt-hours\n",
    "oil_prod_change_pct \tAnnual percentage change in oil production\n",
    "oil_prod_change_twh \tAnnual change in oil production, measured in terawatt-hours\n",
    "energy_cons_change_pct \tAnnual percentage change in primary energy consumption\n",
    "energy_cons_change_twh \tAnnual change in primary energy consumption, measured in terawatt-hours\n",
    "biofuel_share_elec \tShare of electricity consumption that comes from biofuels\n",
    "biofuel_cons_change_pct \tAnnual percentage change in biofuel consumption\n",
    "biofuel_share_energy \tShare of primary energy consumption that comes from biofuels\n",
    "biofuel_cons_change_twh \tAnnual change in biofuel consumption, measured in terawatt-hours\n",
    "biofuel_consumption \tPrimary energy consumption from biofuels, measured in terawatt-hours\n",
    "biofuel_elec_per_capita \tPer capita electricity consumption from biofuels, measured in kilowatt-hours\n",
    "biofuel_cons_per_capita \tPer capita primary energy consumption from biofuels, measured in kilowatt-hours\n",
    "carbon_intensity_elec \tCarbon intensity of electricity production, measured in grams of carbon dioxide emitted per kilowatt-hour\n",
    "coal_share_elec \tShare of electricity consumption that comes from coal\n",
    "coal_cons_change_pct \tAnnual percentage change in coal consumption\n",
    "coal_share_energy \tShare of primary energy consumption that comes from coal\n",
    "coal_cons_change_twh \tAnnual change in coal consumption, measured in terawatt-hours\n",
    "coal_consumption \tPrimary energy consumption from coal, measured in terawatt-hours\n",
    "coal_elec_per_capita \tPer capita electricity consumption from coal, measured in kilowatt-hours\n",
    "coal_cons_per_capita \tPer capita primary energy consumption from coal, measured in kilowatt-hours\n",
    "coal_production \tCoal production, measured in terawatt-hours\n",
    "coal_prod_per_capita \tPer capita coal production, measured in kilowatt-hours\n",
    "electricity_generation \tElectricity generation, measured in terawatt-hours\n",
    "biofuel_electricity \tElectricity generation from biofuels, measured in terawatt-hours\n",
    "coal_electricity \tElectricity generation from coal, measured in terawatt-hours\n",
    "fossil_electricity \tElectricity generation from fossil fuels, measured in terawatt-hours. This is the sum of electricity generation from coal, oil and gas.\n",
    "gas_electricity \tElectricity generation from gas, measured in terawatt-hours\n",
    "hydro_electricity \tElectricity generation from hydropower, measured in terawatt-hours\n",
    "nuclear_electricity \tElectricity generation from nuclear power, measured in terawatt-hours\n",
    "oil_electricity \tElectricity generation from oil, measured in terawatt-hours\n",
    "other_renewable_electricity \tElectricity generation from other renewable sources, measured in terawatt-hours\n",
    "other_renewable_exc_biofuel_electricity \tElectricity generation from other renewable sources excluding biofuels, measured in terawatt-hours\n",
    "renewables_electricity \tElectricity generation from renewables, measured in terawatt-hours\n",
    "solar_electricity \tElectricity generation from solar, measured in terawatt-hours\n",
    "wind_electricity \tElectricity generation from wind, measured in terawatt-hours\n",
    "energy_per_gdp \tEnergy consumption per unit of GDP. This is measured in kilowatt-hours per 2011 international-$.\n",
    "energy_per_capita \tPrimary energy consumption per capita, measured in kilowatt-hours per year\n",
    "fossil_cons_change_pct \tAnnual percentage change in fossil fuel consumption\n",
    "fossil_share_energy \tShare of primary energy consumption that comes from fossil fuels\n",
    "fossil_cons_change_twh \tAnnual change in fossil fuel consumption, measured in terawatt-hours\n",
    "fossil_fuel_consumption \tFossil fuel consumption, measured in terawatt-hours. This is the sum of primary energy from coal, oil and gas.\n",
    "fossil_energy_per_capita \tPer capita fossil fuel consumption, measured in kilowatt-hours. This is the sum of primary energy from coal, oil and gas.\n",
    "fossil_cons_per_capita \tPer capita fossil fuel consumption, measured in kilowatt-hours. This is the sum of primary energy from coal, oil and gas.\n",
    "fossil_share_elec \tShare of electricity consumption that comes from fossil fuels (coal, oil and gas combined)\n",
    "gas_share_elec \tShare of electricity consumption that comes from gas\n",
    "gas_cons_change_pct \tAnnual percentage change in gas consumption\n",
    "gas_share_energy \tShare of primary energy consumption that comes from gas\n",
    "gas_cons_change_twh \tAnnual change in gas consumption, measured in terawatt-hours\n",
    "gas_consumption \tPrimary energy consumption from gas, measured in terawatt-hours\n",
    "gas_elec_per_capita \tPer capita electricity consumption from gas, measured in kilowatt-hours\n",
    "gas_energy_per_capita \tPer capita primary energy consumption from gas, measured in kilowatt-hours\n",
    "gas_production \tGas production, measured in terawatt-hours\n",
    "gas_prod_per_capita \tPer capita gas production, measured in kilowatt-hours\n",
    "hydro_share_elec \tShare of electricity consumption that comes from hydropower\n",
    "hydro_cons_change_pct \tAnnual percentage change in hydropower consumption\n",
    "hydro_share_energy \tShare of primary energy consumption that comes from hydropower\n",
    "hydro_cons_change_twh \tAnnual change in hydropower consumption, measured in terawatt-hours\n",
    "hydro_consumption \tPrimary energy consumption from hydropower, measured in terawatt-hours\n",
    "hydro_elec_per_capita \tPer capita electricity consumption from hydropower, measured in kilowatt-hours\n",
    "hydro_energy_per_capita \tPer capita primary energy consumption from hydropower, measured in kilowatt-hours\n",
    "low_carbon_share_elec \tShare of electricity consumption that comes from low-carbon sources. This is the sum of electricity from renewables and nuclear\n",
    "low_carbon_electricity \tElectricity generation from low-carbon sources, measured in terawatt-hours. This is the sum of electricity generation from renewables and nuclear power\n",
    "low_carbon_elec_per_capita \tPer capita electricity consumption from low-carbon sources, measured in kilowatt-hours\n",
    "low_carbon_cons_change_pct \tAnnual percentage change in low-carbon energy consumption\n",
    "low_carbon_share_energy \tShare of primary energy consumption that comes from low-carbon sources. This is the sum of primary energy from renewables and nuclear\n",
    "low_carbon_cons_change_twh \tAnnual change in low-carbon energy consumption, measured in terawatt-hours\n",
    "low_carbon_consumption \tPrimary energy consumption from low-carbon sources, measured in terawatt-hours\n",
    "low_carbon_energy_per_capita \tPer capita primary energy consumption from low-carbon sources, measured in kilowatt-hours\n",
    "nuclear_share_elec \tShare of electricity consumption that comes from nuclear power\n",
    "nuclear_cons_change_pct \tAnnual percentage change in nuclear consumption\n",
    "nuclear_share_energy \tShare of primary energy consumption that comes from nuclear power\n",
    "nuclear_cons_change_twh \tAnnual change in nuclear consumption, measured in terawatt-hours\n",
    "nuclear_consumption \tPrimary energy consumption from nuclear power, measured in terawatt-hours\n",
    "nuclear_elec_per_capita \tPer capita electricity consumption from nuclear power, measured in kilowatt-hours\n",
    "nuclear_energy_per_capita \tPer capita primary energy consumption from nuclear, measured in kilowatt-hours\n",
    "oil_share_elec \tShare of electricity consumption that comes from oil\n",
    "oil_cons_change_pct \tAnnual percentage change in oil consumption\n",
    "oil_share_energy \tShare of primary energy consumption that comes from oil\n",
    "oil_cons_change_twh \tAnnual change in oil consumption, measured in terawatt-hours\n",
    "oil_consumption \tPrimary energy consumption from oil, measured in terawatt-hours\n",
    "oil_elec_per_capita \tPrimary energy consumption from oil, measured in terawatt-hours\n",
    "oil_energy_per_capita \tPer capita primary energy consumption from oil, measured in kilowatt-hours\n",
    "oil_production \tOil production, measured in terawatt-hours\n",
    "oil_prod_per_capita \tPer capita oil production, measured in kilowatt-hours\n",
    "other_renewables_elec_per_capita \tPer capita electricity consumption from other renewables, measured in kilowatt-hours\n",
    "other_renewables_share_elec \tShare of electricity consumption that comes from other renewables\n",
    "other_renewables_cons_change_pct \tAnnual percentage change in energy consumption from other renewables\n",
    "other_renewables_share_energy \tShare of primary energy consumption that comes from other renewables\n",
    "other_renewables_cons_change_twh \tAnnual change in other renewable consumption, measured in terawatt-hours\n",
    "other_renewable_consumption \tPrimary energy consumption from other renewables, measured in terawatt-hours\n",
    "other_renewables_energy_per_capita \tPer capita primary energy consumption from other renewables, measured in kilowatt-hours\n",
    "per_capita_electricity \tElectricity consumption per capita, measured in kilowatt-hours\n",
    "population \tTotal population\n",
    "primary_energy_consumption \tPrimary energy consumption, measured in terawatt-hours\n",
    "renewables_elec_per_capita \tPer capita primary energy consumption from renewables, measured in kilowatt-hours\n",
    "renewables_share_elec \tShare of electricity consumption that comes from renewables\n",
    "renewables_cons_change_pct \tAnnual percentage change in renewable energy consumption\n",
    "renewables_share_energy \tShare of primary energy consumption that comes from renewables\n",
    "renewables_cons_change_twh \tAnnual change in renewable energy consumption, measured in terawatt-hours\n",
    "renewables_consumption \tPrimary energy consumption from renewables, measured in terawatt-hours\n",
    "renewables_energy_per_capita \tPer capita electricity consumption from renewables, measured in kilowatt-hours\n",
    "solar_share_elec \tShare of electricity consumption that comes from solar\n",
    "solar_cons_change_pct \tAnnual percentage change in solar consumption\n",
    "solar_share_energy \tShare of primary energy consumption that comes from solar\n",
    "solar_cons_change_twh \tAnnual change in solar consumption, measured in terawatt-hours\n",
    "solar_consumption \tPrimary energy consumption from solar, measured in terawatt-hours\n",
    "solar_elec_per_capita \tPer capita electricity consumption from solar, measured in kilowatt-hours\n",
    "solar_energy_per_capita \tPer capita primary energy consumption from solar, measured in kilowatt-hours\n",
    "gdp \tTotal real gross domestic product, inflation-adjusted\n",
    "wind_share_elec \tShare of electricity consumption that comes from wind\n",
    "wind_cons_change_pct \tAnnual percentage change in wind consumption\n",
    "wind_share_energy \tShare of primary energy consumption that comes from wind\n",
    "wind_cons_change_twh \tAnnual change in wind consumption, measured in terawatt-hours\n",
    "wind_consumption \tPrimary energy consumption from wind, measured in terawatt-hours\n",
    "wind_elec_per_capita \tPer capita electricity consumption from wind, measured in kilowatt-hours\n",
    "wind_energy_per_capita \tPer capita primary energy consumption from wind, measured in kilowatt-hours"
   ]
  }
 ],
 "metadata": {
  "kernelspec": {
   "display_name": "Python 3 (ipykernel)",
   "language": "python",
   "name": "python3"
  },
  "language_info": {
   "codemirror_mode": {
    "name": "ipython",
    "version": 3
   },
   "file_extension": ".py",
   "mimetype": "text/x-python",
   "name": "python",
   "nbconvert_exporter": "python",
   "pygments_lexer": "ipython3",
   "version": "3.11.3"
  }
 },
 "nbformat": 4,
 "nbformat_minor": 2
}
