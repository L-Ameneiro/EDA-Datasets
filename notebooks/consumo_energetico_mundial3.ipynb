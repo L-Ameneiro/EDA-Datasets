{
 "cells": [
  {
   "cell_type": "code",
   "execution_count": 68,
   "metadata": {},
   "outputs": [],
   "source": [
    "# Se importan las librerías a usar\n",
    "import pandas as pd\n",
    "import numpy as np\n",
    "pd.set_option('display.max_rows', 500)\n",
    "pd.set_option('display.max_columns', 500)\n",
    "pd.set_option('display.width', 150)\n",
    "pd.set_option('display.max_seq_items', None)\n",
    "import matplotlib.pyplot as plt\n",
    "import seaborn as sns\n",
    "import warnings\n",
    "import plotly.express as px\n",
    "warnings.filterwarnings('ignore')"
   ]
  },
  {
   "cell_type": "code",
   "execution_count": 109,
   "metadata": {},
   "outputs": [],
   "source": [
    "# Se importa el dataset\n",
    "wec = pd.read_csv(r'..\\\\datasets\\\\World_Energy_Consumption.csv')  "
   ]
  },
  {
   "cell_type": "code",
   "execution_count": 110,
   "metadata": {},
   "outputs": [
    {
     "data": {
      "text/plain": [
       "'El dataset tiene 17432 filas y 122 columnas'"
      ]
     },
     "execution_count": 110,
     "metadata": {},
     "output_type": "execute_result"
    }
   ],
   "source": [
    "# Se consultan la cantidad de filas y columnas \n",
    "forma = wec.shape\n",
    "f\"El dataset tiene {forma[0]} filas y {forma[1]} columnas\""
   ]
  },
  {
   "cell_type": "code",
   "execution_count": 111,
   "metadata": {},
   "outputs": [
    {
     "name": "stdout",
     "output_type": "stream",
     "text": [
      "False    17432\n",
      "dtype: int64\n"
     ]
    }
   ],
   "source": [
    "# Se verifica que no hayan filas duplicadas\n",
    "dupl = wec.duplicated()\n",
    "print(dupl.value_counts())"
   ]
  },
  {
   "cell_type": "code",
   "execution_count": 112,
   "metadata": {},
   "outputs": [
    {
     "name": "stdout",
     "output_type": "stream",
     "text": [
      "Index(['iso_code', 'country', 'year', 'coal_prod_change_pct', 'coal_prod_change_twh', 'gas_prod_change_pct', 'gas_prod_change_twh',\n",
      "       'oil_prod_change_pct', 'oil_prod_change_twh', 'energy_cons_change_pct', 'energy_cons_change_twh', 'biofuel_share_elec',\n",
      "       'biofuel_elec_per_capita', 'biofuel_cons_change_pct', 'biofuel_share_energy', 'biofuel_cons_change_twh', 'biofuel_consumption',\n",
      "       'biofuel_cons_per_capita', 'carbon_intensity_elec', 'coal_share_elec', 'coal_cons_change_pct', 'coal_share_energy', 'coal_cons_change_twh',\n",
      "       'coal_consumption', 'coal_elec_per_capita', 'coal_cons_per_capita', 'coal_production', 'coal_prod_per_capita', 'electricity_generation',\n",
      "       'biofuel_electricity', 'coal_electricity', 'fossil_electricity', 'gas_electricity', 'hydro_electricity', 'nuclear_electricity',\n",
      "       'oil_electricity', 'other_renewable_electricity', 'other_renewable_exc_biofuel_electricity', 'renewables_electricity', 'solar_electricity',\n",
      "       'wind_electricity', 'energy_per_gdp', 'energy_per_capita', 'fossil_cons_change_pct', 'fossil_share_energy', 'fossil_cons_change_twh',\n",
      "       'fossil_fuel_consumption', 'fossil_energy_per_capita', 'fossil_cons_per_capita', 'fossil_share_elec', 'gas_share_elec', 'gas_cons_change_pct',\n",
      "       'gas_share_energy', 'gas_cons_change_twh', 'gas_consumption', 'gas_elec_per_capita', 'gas_energy_per_capita', 'gas_production',\n",
      "       'gas_prod_per_capita', 'hydro_share_elec', 'hydro_cons_change_pct', 'hydro_share_energy', 'hydro_cons_change_twh', 'hydro_consumption',\n",
      "       'hydro_elec_per_capita', 'hydro_energy_per_capita', 'low_carbon_share_elec', 'low_carbon_electricity', 'low_carbon_elec_per_capita',\n",
      "       'low_carbon_cons_change_pct', 'low_carbon_share_energy', 'low_carbon_cons_change_twh', 'low_carbon_consumption',\n",
      "       'low_carbon_energy_per_capita', 'nuclear_share_elec', 'nuclear_cons_change_pct', 'nuclear_share_energy', 'nuclear_cons_change_twh',\n",
      "       'nuclear_consumption', 'nuclear_elec_per_capita', 'nuclear_energy_per_capita', 'oil_share_elec', 'oil_cons_change_pct', 'oil_share_energy',\n",
      "       'oil_cons_change_twh', 'oil_consumption', 'oil_elec_per_capita', 'oil_energy_per_capita', 'oil_production', 'oil_prod_per_capita',\n",
      "       'other_renewables_elec_per_capita', 'other_renewables_share_elec', 'other_renewables_cons_change_pct', 'other_renewables_share_energy',\n",
      "       'other_renewables_cons_change_twh', 'other_renewable_consumption', 'other_renewables_energy_per_capita', 'per_capita_electricity',\n",
      "       'population', 'primary_energy_consumption', 'renewables_elec_per_capita', 'renewables_share_elec', 'renewables_cons_change_pct',\n",
      "       'renewables_share_energy', 'renewables_cons_change_twh', 'renewables_consumption', 'renewables_energy_per_capita', 'solar_share_elec',\n",
      "       'solar_cons_change_pct', 'solar_share_energy', 'solar_cons_change_twh', 'solar_consumption', 'solar_elec_per_capita',\n",
      "       'solar_energy_per_capita', 'gdp', 'wind_share_elec', 'wind_cons_change_pct', 'wind_share_energy', 'wind_cons_change_twh', 'wind_consumption',\n",
      "       'wind_elec_per_capita', 'wind_energy_per_capita'],\n",
      "      dtype='object')\n"
     ]
    }
   ],
   "source": [
    "# Se consultan los nombres de las columnas\n",
    "print(wec.columns)"
   ]
  },
  {
   "cell_type": "markdown",
   "metadata": {},
   "source": [
    "## Valores nulos"
   ]
  },
  {
   "cell_type": "code",
   "execution_count": 113,
   "metadata": {},
   "outputs": [
    {
     "data": {
      "text/plain": [
       "biofuel_cons_change_pct                    16913\n",
       "carbon_intensity_elec                      16844\n",
       "solar_cons_change_pct                      16107\n",
       "nuclear_cons_change_pct                    15910\n",
       "wind_cons_change_pct                       15889\n",
       "other_renewables_cons_change_pct           15106\n",
       "hydro_cons_change_pct                      13768\n",
       "gas_cons_change_pct                        13728\n",
       "coal_cons_change_pct                       13670\n",
       "renewables_cons_change_pct                 13604\n",
       "low_carbon_cons_change_pct                 13597\n",
       "biofuel_elec_per_capita                    13243\n",
       "fossil_cons_change_pct                     13231\n",
       "oil_cons_change_pct                        13231\n",
       "oil_cons_change_twh                        13231\n",
       "fossil_cons_change_twh                     13231\n",
       "biofuel_share_elec                         13226\n",
       "low_carbon_cons_change_twh                 13225\n",
       "coal_cons_change_twh                       13225\n",
       "nuclear_cons_change_twh                    13225\n",
       "other_renewables_cons_change_twh           13225\n",
       "gas_cons_change_twh                        13225\n",
       "hydro_cons_change_twh                      13225\n",
       "wind_cons_change_twh                       13225\n",
       "renewables_cons_change_twh                 13225\n",
       "solar_cons_change_twh                      13225\n",
       "other_renewable_exc_biofuel_electricity    13183\n",
       "biofuel_electricity                        13183\n",
       "coal_share_energy                          13148\n",
       "gas_share_energy                           13148\n",
       "wind_share_energy                          13148\n",
       "low_carbon_share_energy                    13148\n",
       "fossil_energy_per_capita                   13148\n",
       "fossil_fuel_consumption                    13148\n",
       "fossil_share_energy                        13148\n",
       "nuclear_share_energy                       13148\n",
       "solar_share_energy                         13148\n",
       "biofuel_share_energy                       13148\n",
       "oil_energy_per_capita                      13148\n",
       "renewables_share_energy                    13148\n",
       "other_renewables_share_energy              13148\n",
       "oil_share_energy                           13148\n",
       "hydro_share_energy                         13148\n",
       "nuclear_energy_per_capita                  13142\n",
       "solar_consumption                          13142\n",
       "renewables_energy_per_capita               13142\n",
       "solar_energy_per_capita                    13142\n",
       "nuclear_consumption                        13142\n",
       "renewables_consumption                     13142\n",
       "low_carbon_consumption                     13142\n",
       "low_carbon_energy_per_capita               13142\n",
       "hydro_energy_per_capita                    13142\n",
       "other_renewables_energy_per_capita         13142\n",
       "other_renewable_consumption                13142\n",
       "wind_consumption                           13142\n",
       "hydro_consumption                          13142\n",
       "wind_energy_per_capita                     13142\n",
       "coal_cons_per_capita                       13142\n",
       "gas_energy_per_capita                      13142\n",
       "gas_elec_per_capita                        12673\n",
       "oil_elec_per_capita                        12673\n",
       "coal_elec_per_capita                       12673\n",
       "fossil_cons_per_capita                     12673\n",
       "gas_prod_change_pct                        12570\n",
       "coal_share_elec                            12376\n",
       "gas_share_elec                             12376\n",
       "oil_share_elec                             12376\n",
       "fossil_share_elec                          12376\n",
       "oil_electricity                            12333\n",
       "coal_electricity                           12333\n",
       "fossil_electricity                         12333\n",
       "gas_electricity                            12333\n",
       "coal_consumption                           12262\n",
       "gas_consumption                            12262\n",
       "oil_consumption                            12248\n",
       "renewables_elec_per_capita                 11933\n",
       "hydro_elec_per_capita                      11933\n",
       "low_carbon_elec_per_capita                 11933\n",
       "wind_elec_per_capita                       11933\n",
       "per_capita_electricity                     11933\n",
       "other_renewables_elec_per_capita           11933\n",
       "nuclear_elec_per_capita                    11933\n",
       "solar_elec_per_capita                      11933\n",
       "biofuel_cons_change_twh                    11923\n",
       "biofuel_cons_per_capita                    11806\n",
       "biofuel_consumption                        11806\n",
       "renewables_share_elec                      11391\n",
       "other_renewables_share_elec                11391\n",
       "low_carbon_share_elec                      11391\n",
       "solar_share_elec                           11356\n",
       "nuclear_share_elec                         11356\n",
       "wind_share_elec                            11356\n",
       "hydro_share_elec                           11356\n",
       "other_renewable_electricity                11348\n",
       "low_carbon_electricity                     11348\n",
       "renewables_electricity                     11348\n",
       "hydro_electricity                          11313\n",
       "electricity_generation                     11313\n",
       "nuclear_electricity                        11313\n",
       "solar_electricity                          11313\n",
       "wind_electricity                           11313\n",
       "oil_prod_change_pct                        10911\n",
       "energy_per_gdp                             10532\n",
       "gas_prod_per_capita                        10092\n",
       "coal_prod_change_pct                        9987\n",
       "gas_prod_change_twh                         9539\n",
       "oil_prod_per_capita                         9508\n",
       "gas_production                              9366\n",
       "oil_prod_change_twh                         8867\n",
       "oil_production                              8722\n",
       "energy_per_capita                           8397\n",
       "coal_prod_per_capita                        7779\n",
       "energy_cons_change_pct                      7590\n",
       "energy_cons_change_twh                      7540\n",
       "primary_energy_consumption                  7298\n",
       "coal_prod_change_twh                        7038\n",
       "gdp                                         6976\n",
       "coal_production                             6803\n",
       "iso_code                                    1802\n",
       "population                                  1756\n",
       "year                                           0\n",
       "country                                        0\n",
       "dtype: int64"
      ]
     },
     "execution_count": 113,
     "metadata": {},
     "output_type": "execute_result"
    }
   ],
   "source": [
    "# Se observan cuántos valores faltantes tiene cada columna (ordenados de mayor a menor)\n",
    "missing_values = wec.isnull().sum().sort_values(ascending = False) \n",
    "missing_values"
   ]
  },
  {
   "cell_type": "code",
   "execution_count": 114,
   "metadata": {},
   "outputs": [
    {
     "data": {
      "image/png": "[encoded data removed]",
      "text/plain": [
       "<Figure size 1000x600 with 1 Axes>"
      ]
     },
     "metadata": {},
     "output_type": "display_data"
    }
   ],
   "source": [
    "# Se visualiza los valores faltantes\n",
    "plt.figure(figsize=(10, 6))\n",
    "sns.heatmap(wec.isnull(), cmap='viridis', cbar=False)\n",
    "plt.title('Valores Faltantes en el DataFrame')\n",
    "plt.xlabel('Columnas')\n",
    "plt.ylabel('Nulos')\n",
    "plt.show()"
   ]
  },
  {
   "cell_type": "markdown",
   "metadata": {},
   "source": [
    "Como se observa en el gráfico el set de datos posee varios valores nulos y posteriormente se realizará su tratamiento, que será un gran desafío. "
   ]
  },
  {
   "cell_type": "markdown",
   "metadata": {},
   "source": [
    "## Columna: country"
   ]
  },
  {
   "cell_type": "code",
   "execution_count": 115,
   "metadata": {},
   "outputs": [
    {
     "data": {
      "text/plain": [
       "array(['Afghanistan', 'Africa', 'Albania', 'Algeria', 'American Samoa',\n",
       "       'Angola', 'Antigua and Barbuda', 'Argentina', 'Armenia', 'Aruba',\n",
       "       'Asia Pacific', 'Australia', 'Austria', 'Azerbaijan', 'Bahamas',\n",
       "       'Bahrain', 'Bangladesh', 'Barbados', 'Belarus', 'Belgium',\n",
       "       'Belize', 'Benin', 'Bermuda', 'Bhutan', 'Bolivia',\n",
       "       'Bosnia and Herzegovina', 'Botswana', 'Brazil',\n",
       "       'British Virgin Islands', 'Brunei', 'Bulgaria', 'Burkina Faso',\n",
       "       'Burundi', 'CIS', 'Cambodia', 'Cameroon', 'Canada', 'Cape Verde',\n",
       "       'Cayman Islands', 'Central African Republic', 'Central America',\n",
       "       'Chad', 'Chile', 'China', 'Colombia', 'Comoros', 'Congo',\n",
       "       'Cook Islands', 'Costa Rica', \"Cote d'Ivoire\", 'Croatia', 'Cuba',\n",
       "       'Cyprus', 'Czechia', 'Czechoslovakia',\n",
       "       'Democratic Republic of Congo', 'Denmark', 'Djibouti', 'Dominica',\n",
       "       'Dominican Republic', 'Eastern Africa', 'Ecuador', 'Egypt',\n",
       "       'El Salvador', 'Equatorial Guinea', 'Eritrea', 'Estonia',\n",
       "       'Eswatini', 'Ethiopia', 'Europe', 'Europe (other)',\n",
       "       'Faeroe Islands', 'Falkland Islands ', 'Fiji', 'Finland', 'France',\n",
       "       'French Guiana', 'French Polynesia', 'Gabon', 'Gambia', 'Georgia',\n",
       "       'Germany', 'Ghana', 'Gibraltar', 'Greece', 'Greenland', 'Grenada',\n",
       "       'Guadeloupe', 'Guam', 'Guatemala', 'Guinea', 'Guinea-Bissau',\n",
       "       'Guyana', 'Haiti', 'Honduras', 'Hong Kong', 'Hungary', 'Iceland',\n",
       "       'India', 'Indonesia', 'Iran', 'Iraq', 'Ireland', 'Israel', 'Italy',\n",
       "       'Jamaica', 'Japan', 'Jordan', 'Kazakhstan', 'Kenya', 'Kiribati',\n",
       "       'Kosovo', 'Kuwait', 'Kyrgyzstan', 'Laos', 'Latvia', 'Lebanon',\n",
       "       'Lesotho', 'Liberia', 'Libya', 'Lithuania', 'Luxembourg', 'Macau',\n",
       "       'Madagascar', 'Malawi', 'Malaysia', 'Maldives', 'Mali', 'Malta',\n",
       "       'Martinique', 'Mauritania', 'Mauritius', 'Mexico', 'Middle Africa',\n",
       "       'Middle East', 'Moldova', 'Mongolia', 'Montenegro', 'Montserrat',\n",
       "       'Morocco', 'Mozambique', 'Myanmar', 'Namibia', 'Nauru', 'Nepal',\n",
       "       'Netherlands', 'Netherlands Antilles', 'New Caledonia',\n",
       "       'New Zealand', 'Nicaragua', 'Niger', 'Nigeria', 'Niue',\n",
       "       'North America', 'North Korea', 'North Macedonia',\n",
       "       'Northern Mariana Islands', 'Norway', 'OPEC', 'Oman',\n",
       "       'Other Asia & Pacific', 'Other CIS', 'Other Caribbean',\n",
       "       'Other Middle East', 'Other Northern Africa',\n",
       "       'Other South America', 'Other Southern Africa', 'Pakistan',\n",
       "       'Palestine', 'Panama', 'Papua New Guinea', 'Paraguay', 'Peru',\n",
       "       'Philippines', 'Poland', 'Portugal', 'Puerto Rico', 'Qatar',\n",
       "       'Reunion', 'Romania', 'Russia', 'Rwanda', 'Saint Helena',\n",
       "       'Saint Kitts and Nevis', 'Saint Lucia',\n",
       "       'Saint Pierre and Miquelon', 'Saint Vincent and the Grenadines',\n",
       "       'Samoa', 'Sao Tome and Principe', 'Saudi Arabia', 'Senegal',\n",
       "       'Serbia', 'Seychelles', 'Sierra Leone', 'Singapore', 'Slovakia',\n",
       "       'Slovenia', 'Solomon Islands', 'Somalia',\n",
       "       'South & Central America', 'South Africa', 'South Korea',\n",
       "       'South Sudan', 'Spain', 'Sri Lanka', 'Sudan', 'Suriname', 'Sweden',\n",
       "       'Switzerland', 'Syria', 'Taiwan', 'Tajikistan', 'Tanzania',\n",
       "       'Thailand', 'Timor', 'Togo', 'Tonga', 'Trinidad and Tobago',\n",
       "       'Tunisia', 'Turkey', 'Turkmenistan', 'Turks and Caicos Islands',\n",
       "       'USSR', 'Uganda', 'Ukraine', 'United Arab Emirates',\n",
       "       'United Kingdom', 'United States', 'United States Pacific Islands',\n",
       "       'United States Virgin Islands', 'Uruguay', 'Uzbekistan', 'Vanuatu',\n",
       "       'Venezuela', 'Vietnam', 'Western Africa', 'Western Sahara',\n",
       "       'World', 'Yemen', 'Yugoslavia', 'Zambia', 'Zimbabwe'], dtype=object)"
      ]
     },
     "execution_count": 115,
     "metadata": {},
     "output_type": "execute_result"
    }
   ],
   "source": [
    "# Se obtienen los valores unicos de la columna country para determinar los países con los que se trabajará\n",
    "wec['country'].unique()           "
   ]
  },
  {
   "cell_type": "markdown",
   "metadata": {},
   "source": [
    "Se observa que no sólo hay países en la columna country, sino también regiones y/o países que ya no exiten, que se excluirán."
   ]
  },
  {
   "cell_type": "code",
   "execution_count": 116,
   "metadata": {},
   "outputs": [],
   "source": [
    "# Se filtan las filas del DataFrame, donde el valor en la columna \"iso_code\" no es nulo.\n",
    "wec_s= wec[~wec[\"iso_code\"].isnull()]\n",
    "wec_s= wec_s[~(wec[\"country\"] == \"World\")]"
   ]
  },
  {
   "cell_type": "code",
   "execution_count": 117,
   "metadata": {},
   "outputs": [],
   "source": [
    "# Se seleccionan las columnas de interés \n",
    "wec_s= wec_s[[\"country\", \"iso_code\", \"year\", \"population\",\"electricity_generation\",\"biofuel_electricity\", \"coal_electricity\", \"fossil_electricity\", \"gas_electricity\", \"hydro_electricity\",\"oil_electricity\", \"other_renewable_electricity\", \"other_renewable_exc_biofuel_electricity\", \"renewables_electricity\", \"solar_electricity\",\"wind_electricity\", \"biofuel_elec_per_capita\", \"coal_elec_per_capita\", \"energy_per_capita\", \"fossil_cons_per_capita\", \"gas_consumption\", \"gas_production\", \"hydro_cons_change_pct\", \"low_carbon_share_elec\", \"oil_share_elec\", \"oil_energy_per_capita\", \"other_renewables_elec_per_capita\", \"other_renewables_energy_per_capita\", \"primary_energy_consumption\", \"solar_consumption\", \"gdp\", \"wind_elec_per_capita\"]]"
   ]
  },
  {
   "cell_type": "markdown",
   "metadata": {},
   "source": [
    "## Columna: year"
   ]
  },
  {
   "cell_type": "markdown",
   "metadata": {},
   "source": [
    "Se observa que los datos anteriores al año 2010 son escasos, por lo que se decide eliminarlos "
   ]
  },
  {
   "cell_type": "code",
   "execution_count": 118,
   "metadata": {},
   "outputs": [],
   "source": [
    "# Se eliminan las filas correspondientes a los años 1999 hasta 1983 inclusive, ya que se que verifica que la mayoría de los países no cuentan con esta información\n",
    "wec_s= wec_s[(wec_s['year'] > 2015)]"
   ]
  },
  {
   "cell_type": "markdown",
   "metadata": {},
   "source": [
    "# Se eliminan las columnas que no se utilizarán  \n",
    "suram.drop(columns=['low_carbon_cons_change_pct','nuclear_cons_change_pct','wind_cons_change_twh','wind_cons_change_pct','solar_cons_change_pct', 'solar_cons_change_twh', 'renewables_cons_change_twh','renewables_cons_change_pct', 'low_carbon_share_energy','carbon_intensity_elec','biofuel_cons_change_pct','coal_prod_change_pct','coal_cons_change_pct','other_renewables_cons_change_pct','wind_cons_change_pct','gas_cons_change_twh','hydro_cons_change_pct','gas_cons_change_pct','nuclear_energy_per_capita','oil_cons_change_pct', 'fossil_cons_change_twh','nuclear_consumption','other_renewables_cons_change_twh','fossil_cons_change_pct','nuclear_cons_change_twh','oil_cons_change_twh','hydro_cons_change_twh','coal_prod_change_twh','gas_prod_change_pct','gas_prod_change_twh',\t'oil_prod_change_pct',\t'oil_prod_change_twh','energy_cons_change_pct',\t'energy_cons_change_twh','biofuel_cons_change_twh','nuclear_share_elec','biofuel_share_elec','biofuel_elec_per_capita',\t'biofuel_consumption',\t'biofuel_cons_per_capita','nuclear_share_energy', 'nuclear_elec_per_capita','biofuel_share_energy','coal_cons_change_twh','low_carbon_cons_change_twh','coal_production','coal_prod_per_capita','gas_production','gas_prod_per_capita','hydro_consumption','other_renewables_share_energy','gas_energy_per_capita','hydro_share_energy','hydro_energy_per_capita','low_carbon_consumption','low_carbon_energy_per_capita','oil_share_energy','oil_consumption','oil_energy_per_capita','other_renewable_consumption','gas_share_energy','other_renewables_energy_per_capita','renewables_share_energy','renewables_consumption','renewables_energy_per_capita','solar_share_energy','solar_consumption','solar_energy_per_capita','wind_share_energy','wind_consumption','wind_energy_per_capita','fossil_energy_per_capita','gas_consumption','coal_share_energy','coal_consumption','fossil_share_energy','coal_cons_per_capita','fossil_fuel_consumption','oil_production','oil_prod_per_capita','gdp','energy_per_gdp'], inplace=True)"
   ]
  },
  {
   "cell_type": "markdown",
   "metadata": {},
   "source": [
    "Se eliminaron de forma manual las columnas, ya que se verificó cada columna y su comportamiento respecto del recuento total de valores nulos."
   ]
  },
  {
   "cell_type": "code",
   "execution_count": 119,
   "metadata": {},
   "outputs": [
    {
     "data": {
      "text/plain": [
       "gdp                                        747\n",
       "gas_production                             684\n",
       "hydro_cons_change_pct                      630\n",
       "solar_consumption                          594\n",
       "other_renewables_energy_per_capita         594\n",
       "oil_energy_per_capita                      594\n",
       "gas_consumption                            594\n",
       "energy_per_capita                          461\n",
       "primary_energy_consumption                 458\n",
       "population                                  80\n",
       "biofuel_elec_per_capita                     26\n",
       "coal_elec_per_capita                        26\n",
       "fossil_cons_per_capita                      26\n",
       "other_renewables_elec_per_capita            22\n",
       "wind_elec_per_capita                        22\n",
       "oil_share_elec                              18\n",
       "low_carbon_share_elec                       14\n",
       "biofuel_electricity                         14\n",
       "other_renewable_exc_biofuel_electricity     14\n",
       "coal_electricity                            14\n",
       "oil_electricity                             14\n",
       "fossil_electricity                          14\n",
       "gas_electricity                             14\n",
       "electricity_generation                      10\n",
       "wind_electricity                            10\n",
       "hydro_electricity                           10\n",
       "other_renewable_electricity                 10\n",
       "renewables_electricity                      10\n",
       "solar_electricity                           10\n",
       "iso_code                                     0\n",
       "year                                         0\n",
       "country                                      0\n",
       "dtype: int64"
      ]
     },
     "execution_count": 119,
     "metadata": {},
     "output_type": "execute_result"
    }
   ],
   "source": [
    "# Se observan cuántos valores faltantes tiene cada columna del data set suram: (ordenados de mayor a menor): de acuerdo a la columna\n",
    "missing_values_wec_s = wec_s.isnull().sum().sort_values(ascending=False)\n",
    "missing_values_wec_s"
   ]
  },
  {
   "cell_type": "code",
   "execution_count": 108,
   "metadata": {},
   "outputs": [
    {
     "data": {
      "image/png": "[encoded data removed]",
      "text/plain": [
       "<Figure size 1000x600 with 1 Axes>"
      ]
     },
     "metadata": {},
     "output_type": "display_data"
    }
   ],
   "source": [
    "# visualización de valores faltantes\n",
    "plt.figure(figsize=(10, 6))\n",
    "sns.heatmap(wec_s.isnull(), cmap='viridis', cbar=False)\n",
    "plt.title('Valores Faltantes en el DataFrame')\n",
    "plt.show()"
   ]
  },
  {
   "cell_type": "markdown",
   "metadata": {},
   "source": [
    "## Tratamiento de valores nulos"
   ]
  },
  {
   "cell_type": "code",
   "execution_count": 92,
   "metadata": {},
   "outputs": [
    {
     "name": "stdout",
     "output_type": "stream",
     "text": [
      "           country iso_code iso_code iso_code iso_code  year  population iso_code iso_code iso_code iso_code  electricity_generation  \\\n",
      "111    Afghanistan      AFG      AFG      AFG      AFG  2011  30117000.0      AFG      AFG      AFG      AFG                   0.847   \n",
      "112    Afghanistan      AFG      AFG      AFG      AFG  2012  31161000.0      AFG      AFG      AFG      AFG                   0.912   \n",
      "113    Afghanistan      AFG      AFG      AFG      AFG  2013  32270000.0      AFG      AFG      AFG      AFG                   1.103   \n",
      "114    Afghanistan      AFG      AFG      AFG      AFG  2014  33371000.0      AFG      AFG      AFG      AFG                   1.154   \n",
      "115    Afghanistan      AFG      AFG      AFG      AFG  2015  34414000.0      AFG      AFG      AFG      AFG                   1.178   \n",
      "...            ...      ...      ...      ...      ...   ...         ...      ...      ...      ...      ...                     ...   \n",
      "17427     Zimbabwe      ZWE      ZWE      ZWE      ZWE  2015  13815000.0      ZWE      ZWE      ZWE      ZWE                   9.388   \n",
      "17428     Zimbabwe      ZWE      ZWE      ZWE      ZWE  2016  14030000.0      ZWE      ZWE      ZWE      ZWE                   6.826   \n",
      "17429     Zimbabwe      ZWE      ZWE      ZWE      ZWE  2017  14237000.0      ZWE      ZWE      ZWE      ZWE                   7.310   \n",
      "17430     Zimbabwe      ZWE      ZWE      ZWE      ZWE  2018  14439000.0      ZWE      ZWE      ZWE      ZWE                   9.133   \n",
      "17431     Zimbabwe      ZWE      ZWE      ZWE      ZWE  2019  14645000.0      ZWE      ZWE      ZWE      ZWE                   9.046   \n",
      "\n",
      "       biofuel_electricity  coal_electricity  fossil_electricity  gas_electricity  hydro_electricity  oil_electricity  other_renewable_electricity  \\\n",
      "111                  0.000             0.000               0.252            0.252              0.595              0.0                        0.000   \n",
      "112                  0.000             0.000               0.174            0.174              0.710              0.0                        0.000   \n",
      "113                  0.000             0.000               0.218            0.218              0.855              0.0                        0.000   \n",
      "114                  0.000             0.000               0.154            0.154              0.968              0.0                        0.000   \n",
      "115                  0.000             0.000               0.144            0.144              1.001              0.0                        0.000   \n",
      "...                    ...               ...                 ...              ...                ...              ...                          ...   \n",
      "17427                0.128             4.312               4.312            0.000              4.940              0.0                        0.128   \n",
      "17428                0.147             3.715               3.715            0.000              2.955              0.0                        0.147   \n",
      "17429                0.151             3.219               3.219            0.000              3.929              0.0                        0.151   \n",
      "17430                0.187             3.932               3.932            0.000              5.000              0.0                        0.187   \n",
      "17431                0.207             3.805               3.805            0.000              5.020              0.0                        0.207   \n",
      "\n",
      "       other_renewable_exc_biofuel_electricity  renewables_electricity  solar_electricity  wind_electricity  biofuel_elec_per_capita  \\\n",
      "111                                        0.0                   0.595              0.000               0.0                    0.000   \n",
      "112                                        0.0                   0.738              0.028               0.0                    0.000   \n",
      "113                                        0.0                   0.885              0.030               0.0                    0.000   \n",
      "114                                        0.0                   1.000              0.032               0.0                    0.000   \n",
      "115                                        0.0                   1.034              0.033               0.0                    0.000   \n",
      "...                                        ...                     ...                ...               ...                      ...   \n",
      "17427                                      0.0                   5.076              0.008               0.0                    9.265   \n",
      "17428                                      0.0                   3.111              0.009               0.0                   10.478   \n",
      "17429                                      0.0                   4.091              0.011               0.0                   10.606   \n",
      "17430                                      0.0                   5.201              0.014               0.0                   12.951   \n",
      "17431                                      0.0                   5.241              0.014               0.0                   14.112   \n",
      "\n",
      "       coal_elec_per_capita  energy_per_capita  fossil_cons_per_capita  gas_consumption  gas_production  hydro_cons_change_pct  \\\n",
      "111                   0.000           1494.088                   8.367              NaN             NaN                    NaN   \n",
      "112                   0.000           1292.410                   5.584              NaN             NaN                    NaN   \n",
      "113                   0.000           1016.698                   6.756              NaN             NaN                    NaN   \n",
      "114                   0.000            889.321                   4.615              NaN             NaN                    NaN   \n",
      "115                   0.000            956.510                   4.184              NaN             NaN                    NaN   \n",
      "...                     ...                ...                     ...              ...             ...                    ...   \n",
      "17427               312.109           4027.628                 312.109              NaN             NaN                    NaN   \n",
      "17428               264.781           3385.574                 264.781              NaN             NaN                    NaN   \n",
      "17429               226.070           3994.775                 226.070              NaN             NaN                    NaN   \n",
      "17430               272.319           3994.775                 272.319              NaN             NaN                    NaN   \n",
      "17431               259.845           3994.775                 259.845              NaN             NaN                    NaN   \n",
      "\n",
      "       low_carbon_share_elec  oil_share_elec  oil_energy_per_capita  other_renewables_elec_per_capita  other_renewables_energy_per_capita  \\\n",
      "111                   70.258             0.0                    NaN                             0.000                                 NaN   \n",
      "112                   80.921             0.0                    NaN                             0.000                                 NaN   \n",
      "113                   80.236             0.0                    NaN                             0.000                                 NaN   \n",
      "114                   86.655             0.0                    NaN                             0.000                                 NaN   \n",
      "115                   87.776             0.0                    NaN                             0.000                                 NaN   \n",
      "...                      ...             ...                    ...                               ...                                 ...   \n",
      "17427                 54.070             0.0                    NaN                             9.265                                 NaN   \n",
      "17428                 45.577             0.0                    NaN                            10.478                                 NaN   \n",
      "17429                 55.968             0.0                    NaN                            10.606                                 NaN   \n",
      "17430                 56.947             0.0                    NaN                            12.951                                 NaN   \n",
      "17431                 57.933             0.0                    NaN                            14.112                                 NaN   \n",
      "\n",
      "       primary_energy_consumption  solar_consumption           gdp  wind_elec_per_capita  \n",
      "111                       44.9970                NaN  5.332634e+10                 0.003  \n",
      "112                       40.2730                NaN  5.916690e+10                 0.000  \n",
      "113                       32.8090                NaN  6.299370e+10                 0.000  \n",
      "114                       29.6780                NaN  6.434611e+10                 0.000  \n",
      "115                       32.9170                NaN  6.278339e+10                 0.000  \n",
      "...                           ...                ...           ...                   ...  \n",
      "17427                     55.6420                NaN  2.503057e+10                 0.000  \n",
      "17428                     47.5000                NaN  2.515176e+10                 0.000  \n",
      "17429                     53.7205                NaN  2.291045e+10                 0.000  \n",
      "17430                     53.7205                NaN  2.291045e+10                 0.000  \n",
      "17431                     53.7205                NaN  2.291045e+10                 0.000  \n",
      "\n",
      "[1985 rows x 39 columns]\n"
     ]
    }
   ],
   "source": [
    "\n"
   ]
  },
  {
   "cell_type": "markdown",
   "metadata": {},
   "source": [
    "El sistema de tratamiento de los valores nulos, elegido: rellena el valor nulo con el valor más cercano hacia adelante y luego hacia atrás. Para esto se observaron que los dstos faltantes al menos tuvieran valores no nulos dentro de los 7 años, para que los satos"
   ]
  },
  {
   "cell_type": "code",
   "execution_count": 93,
   "metadata": {},
   "outputs": [
    {
     "data": {
      "image/png": "[encoded data removed]",
      "text/plain": [
       "<Figure size 1000x600 with 1 Axes>"
      ]
     },
     "metadata": {},
     "output_type": "display_data"
    }
   ],
   "source": [
    "# visualización de valores faltantes\n",
    "plt.figure(figsize=(10, 6))\n",
    "sns.heatmap(wec_s.isnull(), cmap='viridis', cbar=False)\n",
    "plt.title('Valores Faltantes en el DataFrame')\n",
    "plt.show()"
   ]
  },
  {
   "cell_type": "code",
   "execution_count": 24,
   "metadata": {},
   "outputs": [],
   "source": [
    "# Se guarda el data set\n",
    "suram.to_csv('..\\\\datasets\\\\suram1.csv', index=False)"
   ]
  },
  {
   "cell_type": "code",
   "execution_count": 25,
   "metadata": {},
   "outputs": [],
   "source": [
    "# Se muestra la electricidad que genera cada energía \n",
    "electrica= suram[['year', 'country','per_capita_electricity', 'electricity_generation','biofuel_electricity','coal_electricity','fossil_electricity','gas_electricity', 'hydro_electricity','nuclear_electricity','oil_electricity','other_renewable_electricity','other_renewable_exc_biofuel_electricity','renewables_electricity','solar_electricity','wind_electricity','energy_per_capita','population' ]]"
   ]
  },
  {
   "cell_type": "code",
   "execution_count": 26,
   "metadata": {},
   "outputs": [],
   "source": [
    "# Se guarda el data set\n",
    "electrica.to_csv('..\\\\datasets\\\\electrica.csv', index=False)"
   ]
  },
  {
   "cell_type": "code",
   "execution_count": 27,
   "metadata": {},
   "outputs": [],
   "source": [
    "# Se importa el dataset\n",
    "electrica= pd.read_csv(r'..\\\\datasets\\\\electrica.csv')  "
   ]
  },
  {
   "cell_type": "code",
   "execution_count": 28,
   "metadata": {},
   "outputs": [
    {
     "name": "stdout",
     "output_type": "stream",
     "text": [
      "biofuel_electricity                         2.665486\n",
      "coal_electricity                            2.622746\n",
      "fossil_electricity                         17.812924\n",
      "gas_electricity                            12.175146\n",
      "hydro_electricity                          44.530324\n",
      "nuclear_electricity                         1.398248\n",
      "oil_electricity                             3.015016\n",
      "other_renewable_electricity                 2.669749\n",
      "other_renewable_exc_biofuel_electricity     0.002302\n",
      "renewables_electricity                     48.557352\n",
      "solar_electricity                           0.175152\n",
      "wind_electricity                            1.182102\n",
      "dtype: float64\n"
     ]
    }
   ],
   "source": [
    "# Se calculan los promedios de las diferentes fuentes de energía que generan electricidad de los países de America del Sur. \n",
    "columnas_a_promediar = ['country', 'biofuel_electricity','coal_electricity','fossil_electricity','gas_electricity', 'hydro_electricity','nuclear_electricity','oil_electricity','other_renewable_electricity','other_renewable_exc_biofuel_electricity','renewables_electricity','solar_electricity','wind_electricity']\n",
    "promedios = electrica[columnas_a_promediar].mean()\n",
    "print(promedios)\n",
    "df_promedios = pd.DataFrame(promedios, columns=['Promedios'])\n",
    "df_promedios = df_promedios.sort_values(by='Promedios')"
   ]
  },
  {
   "cell_type": "code",
   "execution_count": 29,
   "metadata": {},
   "outputs": [
    {
     "data": {
      "image/png": "[encoded data removed]",
      "text/plain": [
       "<Figure size 1200x600 with 1 Axes>"
      ]
     },
     "metadata": {},
     "output_type": "display_data"
    }
   ],
   "source": [
    "# Se grafican los promedios de las energías generadoras de electricidad de America del Sur \n",
    "sns.set_palette(\"viridis\")\n",
    "plt.figure(figsize=(12, 6))\n",
    "sns.barplot(x=df_promedios.index, y='Promedios', data=df_promedios)\n",
    "plt.xticks(rotation=45, ha='right')  \n",
    "plt.title('Promedios de generación de electricidad por tipo de fuente')\n",
    "plt.show()"
   ]
  },
  {
   "cell_type": "markdown",
   "metadata": {},
   "source": [
    "Como se presumía, la mayor cantidad de generación de electricidad la producen los combustibles fósiles, en segundo lugar el carbón y en tercer lugar las energías renovables, que posterioremente se analizará en detalle, ya que resulta de interés porque son infitas y no producen gases de efecto invernadero. "
   ]
  },
  {
   "cell_type": "code",
   "execution_count": 30,
   "metadata": {},
   "outputs": [
    {
     "name": "stdout",
     "output_type": "stream",
     "text": [
      "biofuel_electricity                         2.665486\n",
      "hydro_electricity                          44.530324\n",
      "other_renewable_electricity                 2.669749\n",
      "other_renewable_exc_biofuel_electricity     0.002302\n",
      "solar_electricity                           0.175152\n",
      "wind_electricity                            1.182102\n",
      "dtype: float64\n"
     ]
    }
   ],
   "source": [
    "# Se calculan los promedios de las diferentes fuentes de energía que generan electricidad de los países de America del Sur. \n",
    "energiaslimpias= [ 'biofuel_electricity', 'hydro_electricity','other_renewable_electricity','other_renewable_exc_biofuel_electricity','solar_electricity','wind_electricity']\n",
    "promedios = electrica[energiaslimpias].mean()\n",
    "print(promedios)\n",
    "df_promedios = pd.DataFrame(promedios, columns=['Promedios'])\n",
    "df_promedios = df_promedios.sort_values(by='Promedios')"
   ]
  },
  {
   "cell_type": "code",
   "execution_count": 31,
   "metadata": {},
   "outputs": [
    {
     "data": {
      "image/png": "[encoded data removed]",
      "text/plain": [
       "<Figure size 1000x1200 with 1 Axes>"
      ]
     },
     "metadata": {},
     "output_type": "display_data"
    }
   ],
   "source": [
    "# Se realiza el gráfico correspondiente \n",
    "sns.set_palette(\"viridis\")\n",
    "plt.figure(figsize=(10, 12))\n",
    "wedgeprops = {'linewidth': 2, 'edgecolor': 'white'}\n",
    "plt.pie(df_promedios['Promedios'], autopct='%1.1f%%', startangle=90, pctdistance=1.2, wedgeprops=wedgeprops)\n",
    "plt.legend(df_promedios.index, title='Fuentes de energía', bbox_to_anchor=(1, 1), loc='upper right')\n",
    "plt.title('Promedios de generación de electricidad por fuente de energía limpia')\n",
    "plt.show()"
   ]
  },
  {
   "cell_type": "markdown",
   "metadata": {},
   "source": [
    "Se observa que dentro de la energías denominadas limpias, la energía hidraúlica es la que más produce electricidad en America del Sur, Luego le siguen los bio combustibles que son los derivados de fuentes orgánicas como la biomasa y residuos orgánicos y en cuarto lugar la enegía eolica, que posteriormente se analizará en detalle. "
   ]
  },
  {
   "cell_type": "code",
   "execution_count": 32,
   "metadata": {},
   "outputs": [
    {
     "name": "stdout",
     "output_type": "stream",
     "text": [
      "                country  promedio_wind_electricity\n",
      "2                Brazil                  12.636000\n",
      "3                 Chile                   1.121174\n",
      "12              Uruguay                   1.085391\n",
      "0             Argentina                   0.903217\n",
      "9                  Peru                   0.346739\n",
      "4              Colombia                   0.035652\n",
      "5               Ecuador                   0.026273\n",
      "13            Venezuela                   0.023955\n",
      "1               Bolivia                   0.013435\n",
      "6         French Guiana                   0.000000\n",
      "7                Guyana                   0.000000\n",
      "8              Paraguay                   0.000000\n",
      "10             Suriname                   0.000000\n",
      "11  Trinidad and Tobago                   0.000000\n"
     ]
    }
   ],
   "source": [
    "# Se calculan los promedios de la generación de enería de origen eolica de los países de America del Sur. \n",
    "promedios_wind_electricity = electrica.groupby('country')['wind_electricity'].mean()\n",
    "df_promedios_wind = pd.DataFrame({'country': promedios_wind_electricity.index , 'promedio_wind_electricity': promedios_wind_electricity.values}) \n",
    "df_promedios_wind_descentende = df_promedios_wind.sort_values(by='promedio_wind_electricity', ascending=False) \n",
    "print(df_promedios_wind_descentende) "
   ]
  },
  {
   "cell_type": "code",
   "execution_count": 33,
   "metadata": {},
   "outputs": [
    {
     "data": {
      "image/png": "[encoded data removed]",
      "text/plain": [
       "<Figure size 1000x600 with 1 Axes>"
      ]
     },
     "metadata": {},
     "output_type": "display_data"
    }
   ],
   "source": [
    "df_top_10 = df_promedios_wind_descentende.head(10)\n",
    "plt.figure(figsize=(10, 6))\n",
    "sns.barplot(x='promedio_wind_electricity', y='country', data=df_top_10, palette=\"viridis\")\n",
    "plt.xlabel('Promedio de Generación de Energía Eólica')\n",
    "plt.title('Top 10 Promedio de Generación de Energía Eólica de los paises de América del Sur')\n",
    "plt.grid(axis='x')\n",
    "# Muestra el gráfico\n",
    "plt.show()"
   ]
  },
  {
   "cell_type": "code",
   "execution_count": 34,
   "metadata": {},
   "outputs": [
    {
     "name": "stdout",
     "output_type": "stream",
     "text": [
      "                 country  year  wind_electricity\n",
      "0              Argentina  1998             0.033\n",
      "46                Brazil  1998             0.005\n",
      "92              Colombia  1998             0.000\n",
      "115              Ecuador  1998             0.000\n",
      "137        French Guiana  1998             0.000\n",
      "159               Guyana  1998             0.000\n",
      "293            Venezuela  1998             0.000\n",
      "23               Bolivia  1998             0.000\n",
      "181             Paraguay  1998             0.000\n",
      "203                 Peru  1998             0.000\n",
      "226             Suriname  1998             0.000\n",
      "69                 Chile  1998             0.000\n",
      "248  Trinidad and Tobago  1998             0.000\n",
      "270              Uruguay  1998             0.000\n",
      "294            Venezuela  1999             0.000\n",
      "271              Uruguay  1999             0.000\n",
      "160               Guyana  1999             0.000\n",
      "116              Ecuador  1999             0.000\n",
      "70                 Chile  1999             0.000\n",
      "24               Bolivia  1999             0.000\n",
      "93              Colombia  1999             0.000\n",
      "138        French Guiana  1999             0.000\n",
      "1              Argentina  1999             0.035\n",
      "47                Brazil  1999             0.002\n",
      "249  Trinidad and Tobago  1999             0.000\n",
      "204                 Peru  1999             0.001\n",
      "227             Suriname  1999             0.000\n",
      "182             Paraguay  1999             0.000\n",
      "272              Uruguay  2000             0.000\n",
      "94              Colombia  2000             0.000\n",
      "48                Brazil  2000             0.002\n",
      "71                 Chile  2000             0.000\n",
      "117              Ecuador  2000             0.000\n",
      "2              Argentina  2000             0.035\n",
      "228             Suriname  2000             0.000\n",
      "295            Venezuela  2000             0.000\n",
      "205                 Peru  2000             0.001\n",
      "183             Paraguay  2000             0.000\n",
      "250  Trinidad and Tobago  2000             0.000\n",
      "139        French Guiana  2000             0.000\n",
      "25               Bolivia  2000             0.000\n",
      "161               Guyana  2000             0.000\n",
      "95              Colombia  2001             0.000\n",
      "162               Guyana  2001             0.000\n",
      "229             Suriname  2001             0.000\n",
      "72                 Chile  2001             0.007\n",
      "118              Ecuador  2001             0.000\n",
      "184             Paraguay  2001             0.000\n",
      "296            Venezuela  2001             0.000\n",
      "206                 Peru  2001             0.001\n",
      "273              Uruguay  2001             0.000\n",
      "251  Trinidad and Tobago  2001             0.000\n",
      "140        French Guiana  2001             0.000\n",
      "49                Brazil  2001             0.035\n",
      "26               Bolivia  2001             0.000\n",
      "3              Argentina  2001             0.049\n",
      "207                 Peru  2002             0.001\n",
      "230             Suriname  2002             0.000\n",
      "50                Brazil  2002             0.061\n",
      "141        French Guiana  2002             0.000\n",
      "27               Bolivia  2002             0.000\n",
      "252  Trinidad and Tobago  2002             0.000\n",
      "73                 Chile  2002             0.007\n",
      "163               Guyana  2002             0.000\n",
      "297            Venezuela  2002             0.000\n",
      "4              Argentina  2002             0.073\n",
      "274              Uruguay  2002             0.000\n",
      "96              Colombia  2002             0.000\n",
      "185             Paraguay  2002             0.000\n",
      "119              Ecuador  2002             0.000\n",
      "208                 Peru  2003             0.001\n",
      "164               Guyana  2003             0.000\n",
      "28               Bolivia  2003             0.000\n",
      "186             Paraguay  2003             0.000\n",
      "97              Colombia  2003             0.000\n",
      "51                Brazil  2003             0.061\n",
      "231             Suriname  2003             0.000\n",
      "120              Ecuador  2003             0.000\n",
      "253  Trinidad and Tobago  2003             0.000\n",
      "142        French Guiana  2003             0.000\n",
      "5              Argentina  2003             0.078\n",
      "275              Uruguay  2003             0.000\n",
      "298            Venezuela  2003             0.000\n",
      "74                 Chile  2003             0.007\n",
      "29               Bolivia  2004             0.000\n",
      "143        French Guiana  2004             0.000\n",
      "165               Guyana  2004             0.000\n",
      "75                 Chile  2004             0.007\n",
      "187             Paraguay  2004             0.000\n",
      "299            Venezuela  2004             0.000\n",
      "209                 Peru  2004             0.001\n",
      "232             Suriname  2004             0.000\n",
      "121              Ecuador  2004             0.000\n",
      "254  Trinidad and Tobago  2004             0.000\n",
      "6              Argentina  2004             0.072\n",
      "276              Uruguay  2004             0.000\n",
      "52                Brazil  2004             0.061\n",
      "98              Colombia  2004             0.052\n",
      "122              Ecuador  2005             0.000\n",
      "53                Brazil  2005             0.093\n",
      "30               Bolivia  2005             0.000\n",
      "188             Paraguay  2005             0.000\n",
      "210                 Peru  2005             0.001\n",
      "233             Suriname  2005             0.000\n",
      "7              Argentina  2005             0.075\n",
      "255  Trinidad and Tobago  2005             0.000\n",
      "277              Uruguay  2005             0.000\n",
      "144        French Guiana  2005             0.000\n",
      "300            Venezuela  2005             0.000\n",
      "166               Guyana  2005             0.000\n",
      "76                 Chile  2005             0.007\n",
      "99              Colombia  2005             0.049\n",
      "301            Venezuela  2006             0.000\n",
      "100             Colombia  2006             0.063\n",
      "145        French Guiana  2006             0.000\n",
      "31               Bolivia  2006             0.000\n",
      "234             Suriname  2006             0.000\n",
      "167               Guyana  2006             0.000\n",
      "189             Paraguay  2006             0.000\n",
      "123              Ecuador  2006             0.000\n",
      "8              Argentina  2006             0.070\n",
      "256  Trinidad and Tobago  2006             0.000\n",
      "278              Uruguay  2006             0.000\n",
      "54                Brazil  2006             0.237\n",
      "211                 Peru  2006             0.001\n",
      "77                 Chile  2006             0.007\n",
      "32               Bolivia  2007             0.000\n",
      "279              Uruguay  2007             0.000\n",
      "168               Guyana  2007             0.000\n",
      "146        French Guiana  2007             0.000\n",
      "101             Colombia  2007             0.049\n",
      "55                Brazil  2007             0.645\n",
      "235             Suriname  2007             0.000\n",
      "257  Trinidad and Tobago  2007             0.000\n",
      "78                 Chile  2007             0.009\n",
      "190             Paraguay  2007             0.000\n",
      "212                 Peru  2007             0.001\n",
      "302            Venezuela  2007             0.000\n",
      "124              Ecuador  2007             0.001\n",
      "9              Argentina  2007             0.061\n",
      "303            Venezuela  2008             0.000\n",
      "147        French Guiana  2008             0.000\n",
      "79                 Chile  2008             0.038\n",
      "10             Argentina  2008             0.042\n",
      "280              Uruguay  2008             0.003\n",
      "33               Bolivia  2008             0.000\n",
      "169               Guyana  2008             0.000\n",
      "191             Paraguay  2008             0.000\n",
      "125              Ecuador  2008             0.003\n",
      "102             Colombia  2008             0.054\n",
      "213                 Peru  2008             0.001\n",
      "56                Brazil  2008             0.837\n",
      "258  Trinidad and Tobago  2008             0.000\n",
      "236             Suriname  2008             0.000\n",
      "170               Guyana  2009             0.000\n",
      "304            Venezuela  2009             0.000\n",
      "237             Suriname  2009             0.000\n",
      "11             Argentina  2009             0.036\n",
      "192             Paraguay  2009             0.000\n",
      "214                 Peru  2009             0.001\n",
      "80                 Chile  2009             0.079\n",
      "259  Trinidad and Tobago  2009             0.000\n",
      "57                Brazil  2009             1.238\n",
      "126              Ecuador  2009             0.003\n",
      "281              Uruguay  2009             0.042\n",
      "148        French Guiana  2009             0.000\n",
      "34               Bolivia  2009             0.000\n",
      "103             Colombia  2009             0.058\n",
      "81                 Chile  2010             0.332\n",
      "127              Ecuador  2010             0.003\n",
      "282              Uruguay  2010             0.068\n",
      "193             Paraguay  2010             0.000\n",
      "305            Venezuela  2010             0.000\n",
      "260  Trinidad and Tobago  2010             0.000\n",
      "12             Argentina  2010             0.025\n",
      "104             Colombia  2010             0.039\n",
      "171               Guyana  2010             0.000\n",
      "35               Bolivia  2010             0.000\n",
      "149        French Guiana  2010             0.000\n",
      "238             Suriname  2010             0.000\n",
      "58                Brazil  2010             2.177\n",
      "215                 Peru  2010             0.001\n",
      "194             Paraguay  2011             0.000\n",
      "105             Colombia  2011             0.040\n",
      "59                Brazil  2011             2.705\n",
      "128              Ecuador  2011             0.003\n",
      "82                 Chile  2011             0.338\n",
      "283              Uruguay  2011             0.110\n",
      "13             Argentina  2011             0.059\n",
      "261  Trinidad and Tobago  2011             0.000\n",
      "172               Guyana  2011             0.000\n",
      "36               Bolivia  2011             0.000\n",
      "239             Suriname  2011             0.000\n",
      "150        French Guiana  2011             0.000\n",
      "306            Venezuela  2011             0.000\n",
      "216                 Peru  2011             0.001\n",
      "217                 Peru  2012             0.001\n",
      "14             Argentina  2012             0.822\n",
      "240             Suriname  2012             0.000\n",
      "307            Venezuela  2012             0.030\n",
      "262  Trinidad and Tobago  2012             0.000\n",
      "60                Brazil  2012             5.050\n",
      "284              Uruguay  2012             0.111\n",
      "195             Paraguay  2012             0.000\n",
      "129              Ecuador  2012             0.002\n",
      "151        French Guiana  2012             0.000\n",
      "106             Colombia  2012             0.055\n",
      "173               Guyana  2012             0.000\n",
      "37               Bolivia  2012             0.000\n",
      "83                 Chile  2012             0.409\n",
      "84                 Chile  2013             0.553\n",
      "61                Brazil  2013             6.580\n",
      "285              Uruguay  2013             0.144\n",
      "218                 Peru  2013             0.001\n",
      "263  Trinidad and Tobago  2013             0.000\n",
      "196             Paraguay  2013             0.000\n",
      "130              Ecuador  2013             0.060\n",
      "174               Guyana  2013             0.000\n",
      "152        French Guiana  2013             0.000\n",
      "107             Colombia  2013             0.060\n",
      "15             Argentina  2013             1.007\n",
      "308            Venezuela  2013             0.071\n",
      "38               Bolivia  2013             0.001\n",
      "241             Suriname  2013             0.000\n",
      "242             Suriname  2014             0.000\n",
      "175               Guyana  2014             0.000\n",
      "153        French Guiana  2014             0.000\n",
      "62                Brazil  2014            12.210\n",
      "85                 Chile  2014             1.441\n",
      "309            Venezuela  2014             0.071\n",
      "131              Ecuador  2014             0.080\n",
      "264  Trinidad and Tobago  2014             0.000\n",
      "286              Uruguay  2014             0.733\n",
      "219                 Peru  2014             0.260\n",
      "197             Paraguay  2014             0.000\n",
      "39               Bolivia  2014             0.008\n",
      "108             Colombia  2014             0.070\n",
      "16             Argentina  2014             0.619\n",
      "63                Brazil  2015            21.630\n",
      "40               Bolivia  2015             0.012\n",
      "154        French Guiana  2015             0.000\n",
      "132              Ecuador  2015             0.100\n",
      "265  Trinidad and Tobago  2015             0.000\n",
      "17             Argentina  2015             0.593\n",
      "310            Venezuela  2015             0.071\n",
      "198             Paraguay  2015             0.000\n",
      "109             Colombia  2015             0.068\n",
      "220                 Peru  2015             0.595\n",
      "86                 Chile  2015             2.112\n",
      "287              Uruguay  2015             2.065\n",
      "176               Guyana  2015             0.000\n",
      "243             Suriname  2015             0.000\n",
      "288              Uruguay  2016             2.994\n",
      "199             Paraguay  2016             0.000\n",
      "221                 Peru  2016             1.063\n",
      "266  Trinidad and Tobago  2016             0.000\n",
      "311            Venezuela  2016             0.071\n",
      "133              Ecuador  2016             0.084\n",
      "244             Suriname  2016             0.000\n",
      "87                 Chile  2016             2.446\n",
      "18             Argentina  2016             0.548\n",
      "155        French Guiana  2016             0.000\n",
      "41               Bolivia  2016             0.035\n",
      "64                Brazil  2016            33.490\n",
      "110             Colombia  2016             0.050\n",
      "177               Guyana  2016             0.000\n",
      "65                Brazil  2017            42.370\n",
      "267  Trinidad and Tobago  2017             0.000\n",
      "222                 Peru  2017             1.073\n",
      "178               Guyana  2017             0.000\n",
      "88                 Chile  2017             3.516\n",
      "19             Argentina  2017             0.612\n",
      "156        French Guiana  2017             0.000\n",
      "42               Bolivia  2017             0.060\n",
      "200             Paraguay  2017             0.000\n",
      "289              Uruguay  2017             3.774\n",
      "245             Suriname  2017             0.000\n",
      "111             Colombia  2017             0.003\n",
      "312            Venezuela  2017             0.071\n",
      "134              Ecuador  2017             0.073\n",
      "290              Uruguay  2018             4.732\n",
      "157        French Guiana  2018             0.000\n",
      "268  Trinidad and Tobago  2018             0.000\n",
      "112             Colombia  2018             0.043\n",
      "313            Venezuela  2018             0.071\n",
      "179               Guyana  2018             0.000\n",
      "89                 Chile  2018             3.583\n",
      "135              Ecuador  2018             0.080\n",
      "201             Paraguay  2018             0.000\n",
      "66                Brazil  2018            48.475\n",
      "223                 Peru  2018             1.502\n",
      "43               Bolivia  2018             0.059\n",
      "246             Suriname  2018             0.000\n",
      "20             Argentina  2018             1.413\n",
      "67                Brazil  2019            55.986\n",
      "21             Argentina  2019             4.997\n",
      "90                 Chile  2019             5.086\n",
      "44               Bolivia  2019             0.070\n",
      "113             Colombia  2019             0.060\n",
      "314            Venezuela  2019             0.071\n",
      "136              Ecuador  2019             0.086\n",
      "158        French Guiana  2019             0.000\n",
      "291              Uruguay  2019             4.753\n",
      "180               Guyana  2019             0.000\n",
      "202             Paraguay  2019             0.000\n",
      "224                 Peru  2019             1.655\n",
      "247             Suriname  2019             0.000\n",
      "269  Trinidad and Tobago  2019             0.000\n",
      "91                 Chile  2020             5.803\n",
      "292              Uruguay  2020             5.435\n",
      "68                Brazil  2020            56.678\n",
      "45               Bolivia  2020             0.064\n",
      "22             Argentina  2020             9.420\n",
      "225                 Peru  2020             1.812\n",
      "114             Colombia  2020             0.007\n"
     ]
    }
   ],
   "source": [
    "# Se muestra la columna energía eolica a través de los años según los países\n",
    "desarrollo_wind = electrica[electrica['year'] >= 1985][['country', 'year', 'wind_electricity']].sort_values(by='year')\n",
    "print(desarrollo_wind)"
   ]
  },
  {
   "cell_type": "code",
   "execution_count": 35,
   "metadata": {},
   "outputs": [
    {
     "data": {
      "application/vnd.plotly.v1+json": {
       "config": {
        "plotlyServerURL": "https://plot.ly"
       },
       "data": [
        {
         "hovertemplate": "country=Argentina<br>Year=%{x}<br>Wind Electricity=%{y}<extra></extra>",
         "legendgroup": "Argentina",
         "line": {
          "color": "#636efa",
          "dash": "solid",
          "shape": "linear",
          "simplify": true
         },
         "marker": {
          "symbol": "circle"
         },
         "mode": "lines",
         "name": "Argentina",
         "orientation": "v",
         "showlegend": true,
         "type": "scatter",
         "x": [
          1998,
          1999,
          2000,
          2001,
          2002,
          2003,
          2004,
          2005,
          2006,
          2007,
          2008,
          2009,
          2010,
          2011,
          2012,
          2013,
          2014,
          2015,
          2016,
          2017,
          2018,
          2019,
          2020
         ],
         "xaxis": "x",
         "y": [
          0.033,
          0.035,
          0.035,
          0.049,
          0.073,
          0.078,
          0.072,
          0.075,
          0.07,
          0.061,
          0.042,
          0.036,
          0.025,
          0.059,
          0.822,
          1.007,
          0.619,
          0.593,
          0.548,
          0.612,
          1.413,
          4.997,
          9.42
         ],
         "yaxis": "y"
        },
        {
         "hovertemplate": "country=Brazil<br>Year=%{x}<br>Wind Electricity=%{y}<extra></extra>",
         "legendgroup": "Brazil",
         "line": {
          "color": "#EF553B",
          "dash": "dot",
          "shape": "linear",
          "simplify": true
         },
         "marker": {
          "symbol": "circle"
         },
         "mode": "lines",
         "name": "Brazil",
         "orientation": "v",
         "showlegend": true,
         "type": "scatter",
         "x": [
          1998,
          1999,
          2000,
          2001,
          2002,
          2003,
          2004,
          2005,
          2006,
          2007,
          2008,
          2009,
          2010,
          2011,
          2012,
          2013,
          2014,
          2015,
          2016,
          2017,
          2018,
          2019,
          2020
         ],
         "xaxis": "x",
         "y": [
          0.005,
          0.002,
          0.002,
          0.035,
          0.061,
          0.061,
          0.061,
          0.093,
          0.237,
          0.645,
          0.837,
          1.238,
          2.177,
          2.705,
          5.05,
          6.58,
          12.21,
          21.63,
          33.49,
          42.37,
          48.475,
          55.986,
          56.678
         ],
         "yaxis": "y"
        },
        {
         "hovertemplate": "country=Colombia<br>Year=%{x}<br>Wind Electricity=%{y}<extra></extra>",
         "legendgroup": "Colombia",
         "line": {
          "color": "#00cc96",
          "dash": "dash",
          "shape": "linear",
          "simplify": true
         },
         "marker": {
          "symbol": "circle"
         },
         "mode": "lines",
         "name": "Colombia",
         "orientation": "v",
         "showlegend": true,
         "type": "scatter",
         "x": [
          1998,
          1999,
          2000,
          2001,
          2002,
          2003,
          2004,
          2005,
          2006,
          2007,
          2008,
          2009,
          2010,
          2011,
          2012,
          2013,
          2014,
          2015,
          2016,
          2017,
          2018,
          2019,
          2020
         ],
         "xaxis": "x",
         "y": [
          0,
          0,
          0,
          0,
          0,
          0,
          0.052,
          0.049,
          0.063,
          0.049,
          0.054,
          0.058,
          0.039,
          0.04,
          0.055,
          0.06,
          0.07,
          0.068,
          0.05,
          0.003,
          0.043,
          0.06,
          0.007
         ],
         "yaxis": "y"
        },
        {
         "hovertemplate": "country=Ecuador<br>Year=%{x}<br>Wind Electricity=%{y}<extra></extra>",
         "legendgroup": "Ecuador",
         "line": {
          "color": "#ab63fa",
          "dash": "longdash",
          "shape": "linear",
          "simplify": true
         },
         "marker": {
          "symbol": "circle"
         },
         "mode": "lines",
         "name": "Ecuador",
         "orientation": "v",
         "showlegend": true,
         "type": "scatter",
         "x": [
          1998,
          1999,
          2000,
          2001,
          2002,
          2003,
          2004,
          2005,
          2006,
          2007,
          2008,
          2009,
          2010,
          2011,
          2012,
          2013,
          2014,
          2015,
          2016,
          2017,
          2018,
          2019
         ],
         "xaxis": "x",
         "y": [
          0,
          0,
          0,
          0,
          0,
          0,
          0,
          0,
          0,
          0.001,
          0.003,
          0.003,
          0.003,
          0.003,
          0.002,
          0.06,
          0.08,
          0.1,
          0.084,
          0.073,
          0.08,
          0.086
         ],
         "yaxis": "y"
        },
        {
         "hovertemplate": "country=French Guiana<br>Year=%{x}<br>Wind Electricity=%{y}<extra></extra>",
         "legendgroup": "French Guiana",
         "line": {
          "color": "#FFA15A",
          "dash": "dashdot",
          "shape": "linear",
          "simplify": true
         },
         "marker": {
          "symbol": "circle"
         },
         "mode": "lines",
         "name": "French Guiana",
         "orientation": "v",
         "showlegend": true,
         "type": "scatter",
         "x": [
          1998,
          1999,
          2000,
          2001,
          2002,
          2003,
          2004,
          2005,
          2006,
          2007,
          2008,
          2009,
          2010,
          2011,
          2012,
          2013,
          2014,
          2015,
          2016,
          2017,
          2018,
          2019
         ],
         "xaxis": "x",
         "y": [
          0,
          0,
          0,
          0,
          0,
          0,
          0,
          0,
          0,
          0,
          0,
          0,
          0,
          0,
          0,
          0,
          0,
          0,
          0,
          0,
          0,
          0
         ],
         "yaxis": "y"
        },
        {
         "hovertemplate": "country=Guyana<br>Year=%{x}<br>Wind Electricity=%{y}<extra></extra>",
         "legendgroup": "Guyana",
         "line": {
          "color": "#19d3f3",
          "dash": "longdashdot",
          "shape": "linear",
          "simplify": true
         },
         "marker": {
          "symbol": "circle"
         },
         "mode": "lines",
         "name": "Guyana",
         "orientation": "v",
         "showlegend": true,
         "type": "scatter",
         "x": [
          1998,
          1999,
          2000,
          2001,
          2002,
          2003,
          2004,
          2005,
          2006,
          2007,
          2008,
          2009,
          2010,
          2011,
          2012,
          2013,
          2014,
          2015,
          2016,
          2017,
          2018,
          2019
         ],
         "xaxis": "x",
         "y": [
          0,
          0,
          0,
          0,
          0,
          0,
          0,
          0,
          0,
          0,
          0,
          0,
          0,
          0,
          0,
          0,
          0,
          0,
          0,
          0,
          0,
          0
         ],
         "yaxis": "y"
        },
        {
         "hovertemplate": "country=Venezuela<br>Year=%{x}<br>Wind Electricity=%{y}<extra></extra>",
         "legendgroup": "Venezuela",
         "line": {
          "color": "#FF6692",
          "dash": "solid",
          "shape": "linear",
          "simplify": true
         },
         "marker": {
          "symbol": "circle"
         },
         "mode": "lines",
         "name": "Venezuela",
         "orientation": "v",
         "showlegend": true,
         "type": "scatter",
         "x": [
          1998,
          1999,
          2000,
          2001,
          2002,
          2003,
          2004,
          2005,
          2006,
          2007,
          2008,
          2009,
          2010,
          2011,
          2012,
          2013,
          2014,
          2015,
          2016,
          2017,
          2018,
          2019
         ],
         "xaxis": "x",
         "y": [
          0,
          0,
          0,
          0,
          0,
          0,
          0,
          0,
          0,
          0,
          0,
          0,
          0,
          0,
          0.03,
          0.071,
          0.071,
          0.071,
          0.071,
          0.071,
          0.071,
          0.071
         ],
         "yaxis": "y"
        },
        {
         "hovertemplate": "country=Bolivia<br>Year=%{x}<br>Wind Electricity=%{y}<extra></extra>",
         "legendgroup": "Bolivia",
         "line": {
          "color": "#B6E880",
          "dash": "dot",
          "shape": "linear",
          "simplify": true
         },
         "marker": {
          "symbol": "circle"
         },
         "mode": "lines",
         "name": "Bolivia",
         "orientation": "v",
         "showlegend": true,
         "type": "scatter",
         "x": [
          1998,
          1999,
          2000,
          2001,
          2002,
          2003,
          2004,
          2005,
          2006,
          2007,
          2008,
          2009,
          2010,
          2011,
          2012,
          2013,
          2014,
          2015,
          2016,
          2017,
          2018,
          2019,
          2020
         ],
         "xaxis": "x",
         "y": [
          0,
          0,
          0,
          0,
          0,
          0,
          0,
          0,
          0,
          0,
          0,
          0,
          0,
          0,
          0,
          0.001,
          0.008,
          0.012,
          0.035,
          0.06,
          0.059,
          0.07,
          0.064
         ],
         "yaxis": "y"
        },
        {
         "hovertemplate": "country=Paraguay<br>Year=%{x}<br>Wind Electricity=%{y}<extra></extra>",
         "legendgroup": "Paraguay",
         "line": {
          "color": "#FF97FF",
          "dash": "dash",
          "shape": "linear",
          "simplify": true
         },
         "marker": {
          "symbol": "circle"
         },
         "mode": "lines",
         "name": "Paraguay",
         "orientation": "v",
         "showlegend": true,
         "type": "scatter",
         "x": [
          1998,
          1999,
          2000,
          2001,
          2002,
          2003,
          2004,
          2005,
          2006,
          2007,
          2008,
          2009,
          2010,
          2011,
          2012,
          2013,
          2014,
          2015,
          2016,
          2017,
          2018,
          2019
         ],
         "xaxis": "x",
         "y": [
          0,
          0,
          0,
          0,
          0,
          0,
          0,
          0,
          0,
          0,
          0,
          0,
          0,
          0,
          0,
          0,
          0,
          0,
          0,
          0,
          0,
          0
         ],
         "yaxis": "y"
        },
        {
         "hovertemplate": "country=Peru<br>Year=%{x}<br>Wind Electricity=%{y}<extra></extra>",
         "legendgroup": "Peru",
         "line": {
          "color": "#FECB52",
          "dash": "longdash",
          "shape": "linear",
          "simplify": true
         },
         "marker": {
          "symbol": "circle"
         },
         "mode": "lines",
         "name": "Peru",
         "orientation": "v",
         "showlegend": true,
         "type": "scatter",
         "x": [
          1998,
          1999,
          2000,
          2001,
          2002,
          2003,
          2004,
          2005,
          2006,
          2007,
          2008,
          2009,
          2010,
          2011,
          2012,
          2013,
          2014,
          2015,
          2016,
          2017,
          2018,
          2019,
          2020
         ],
         "xaxis": "x",
         "y": [
          0,
          0.001,
          0.001,
          0.001,
          0.001,
          0.001,
          0.001,
          0.001,
          0.001,
          0.001,
          0.001,
          0.001,
          0.001,
          0.001,
          0.001,
          0.001,
          0.26,
          0.595,
          1.063,
          1.073,
          1.502,
          1.655,
          1.812
         ],
         "yaxis": "y"
        },
        {
         "hovertemplate": "country=Suriname<br>Year=%{x}<br>Wind Electricity=%{y}<extra></extra>",
         "legendgroup": "Suriname",
         "line": {
          "color": "#636efa",
          "dash": "dashdot",
          "shape": "linear",
          "simplify": true
         },
         "marker": {
          "symbol": "circle"
         },
         "mode": "lines",
         "name": "Suriname",
         "orientation": "v",
         "showlegend": true,
         "type": "scatter",
         "x": [
          1998,
          1999,
          2000,
          2001,
          2002,
          2003,
          2004,
          2005,
          2006,
          2007,
          2008,
          2009,
          2010,
          2011,
          2012,
          2013,
          2014,
          2015,
          2016,
          2017,
          2018,
          2019
         ],
         "xaxis": "x",
         "y": [
          0,
          0,
          0,
          0,
          0,
          0,
          0,
          0,
          0,
          0,
          0,
          0,
          0,
          0,
          0,
          0,
          0,
          0,
          0,
          0,
          0,
          0
         ],
         "yaxis": "y"
        },
        {
         "hovertemplate": "country=Chile<br>Year=%{x}<br>Wind Electricity=%{y}<extra></extra>",
         "legendgroup": "Chile",
         "line": {
          "color": "#EF553B",
          "dash": "longdashdot",
          "shape": "linear",
          "simplify": true
         },
         "marker": {
          "symbol": "circle"
         },
         "mode": "lines",
         "name": "Chile",
         "orientation": "v",
         "showlegend": true,
         "type": "scatter",
         "x": [
          1998,
          1999,
          2000,
          2001,
          2002,
          2003,
          2004,
          2005,
          2006,
          2007,
          2008,
          2009,
          2010,
          2011,
          2012,
          2013,
          2014,
          2015,
          2016,
          2017,
          2018,
          2019,
          2020
         ],
         "xaxis": "x",
         "y": [
          0,
          0,
          0,
          0.007,
          0.007,
          0.007,
          0.007,
          0.007,
          0.007,
          0.009,
          0.038,
          0.079,
          0.332,
          0.338,
          0.409,
          0.553,
          1.441,
          2.112,
          2.446,
          3.516,
          3.583,
          5.086,
          5.803
         ],
         "yaxis": "y"
        },
        {
         "hovertemplate": "country=Trinidad and Tobago<br>Year=%{x}<br>Wind Electricity=%{y}<extra></extra>",
         "legendgroup": "Trinidad and Tobago",
         "line": {
          "color": "#00cc96",
          "dash": "solid",
          "shape": "linear",
          "simplify": true
         },
         "marker": {
          "symbol": "circle"
         },
         "mode": "lines",
         "name": "Trinidad and Tobago",
         "orientation": "v",
         "showlegend": true,
         "type": "scatter",
         "x": [
          1998,
          1999,
          2000,
          2001,
          2002,
          2003,
          2004,
          2005,
          2006,
          2007,
          2008,
          2009,
          2010,
          2011,
          2012,
          2013,
          2014,
          2015,
          2016,
          2017,
          2018,
          2019
         ],
         "xaxis": "x",
         "y": [
          0,
          0,
          0,
          0,
          0,
          0,
          0,
          0,
          0,
          0,
          0,
          0,
          0,
          0,
          0,
          0,
          0,
          0,
          0,
          0,
          0,
          0
         ],
         "yaxis": "y"
        },
        {
         "hovertemplate": "country=Uruguay<br>Year=%{x}<br>Wind Electricity=%{y}<extra></extra>",
         "legendgroup": "Uruguay",
         "line": {
          "color": "#ab63fa",
          "dash": "dot",
          "shape": "linear",
          "simplify": true
         },
         "marker": {
          "symbol": "circle"
         },
         "mode": "lines",
         "name": "Uruguay",
         "orientation": "v",
         "showlegend": true,
         "type": "scatter",
         "x": [
          1998,
          1999,
          2000,
          2001,
          2002,
          2003,
          2004,
          2005,
          2006,
          2007,
          2008,
          2009,
          2010,
          2011,
          2012,
          2013,
          2014,
          2015,
          2016,
          2017,
          2018,
          2019,
          2020
         ],
         "xaxis": "x",
         "y": [
          0,
          0,
          0,
          0,
          0,
          0,
          0,
          0,
          0,
          0,
          0.003,
          0.042,
          0.068,
          0.11,
          0.111,
          0.144,
          0.733,
          2.065,
          2.994,
          3.774,
          4.732,
          4.753,
          5.435
         ],
         "yaxis": "y"
        }
       ],
       "layout": {
        "height": 600,
        "legend": {
         "title": {
          "text": "country"
         },
         "tracegroupgap": 0
        },
        "plot_bgcolor": "white",
        "showlegend": true,
        "template": {
         "data": {
          "bar": [
           {
            "error_x": {
             "color": "#2a3f5f"
            },
            "error_y": {
             "color": "#2a3f5f"
            },
            "marker": {
             "line": {
              "color": "#E5ECF6",
              "width": 0.5
             },
             "pattern": {
              "fillmode": "overlay",
              "size": 10,
              "solidity": 0.2
             }
            },
            "type": "bar"
           }
          ],
          "barpolar": [
           {
            "marker": {
             "line": {
              "color": "#E5ECF6",
              "width": 0.5
             },
             "pattern": {
              "fillmode": "overlay",
              "size": 10,
              "solidity": 0.2
             }
            },
            "type": "barpolar"
           }
          ],
          "carpet": [
           {
            "aaxis": {
             "endlinecolor": "#2a3f5f",
             "gridcolor": "white",
             "linecolor": "white",
             "minorgridcolor": "white",
             "startlinecolor": "#2a3f5f"
            },
            "baxis": {
             "endlinecolor": "#2a3f5f",
             "gridcolor": "white",
             "linecolor": "white",
             "minorgridcolor": "white",
             "startlinecolor": "#2a3f5f"
            },
            "type": "carpet"
           }
          ],
          "choropleth": [
           {
            "colorbar": {
             "outlinewidth": 0,
             "ticks": ""
            },
            "type": "choropleth"
           }
          ],
          "contour": [
           {
            "colorbar": {
             "outlinewidth": 0,
             "ticks": ""
            },
            "colorscale": [
             [
              0,
              "#0d0887"
             ],
             [
              0.1111111111111111,
              "#46039f"
             ],
             [
              0.2222222222222222,
              "#7201a8"
             ],
             [
              0.3333333333333333,
              "#9c179e"
             ],
             [
              0.4444444444444444,
              "#bd3786"
             ],
             [
              0.5555555555555556,
              "#d8576b"
             ],
             [
              0.6666666666666666,
              "#ed7953"
             ],
             [
              0.7777777777777778,
              "#fb9f3a"
             ],
             [
              0.8888888888888888,
              "#fdca26"
             ],
             [
              1,
              "#f0f921"
             ]
            ],
            "type": "contour"
           }
          ],
          "contourcarpet": [
           {
            "colorbar": {
             "outlinewidth": 0,
             "ticks": ""
            },
            "type": "contourcarpet"
           }
          ],
          "heatmap": [
           {
            "colorbar": {
             "outlinewidth": 0,
             "ticks": ""
            },
            "colorscale": [
             [
              0,
              "#0d0887"
             ],
             [
              0.1111111111111111,
              "#46039f"
             ],
             [
              0.2222222222222222,
              "#7201a8"
             ],
             [
              0.3333333333333333,
              "#9c179e"
             ],
             [
              0.4444444444444444,
              "#bd3786"
             ],
             [
              0.5555555555555556,
              "#d8576b"
             ],
             [
              0.6666666666666666,
              "#ed7953"
             ],
             [
              0.7777777777777778,
              "#fb9f3a"
             ],
             [
              0.8888888888888888,
              "#fdca26"
             ],
             [
              1,
              "#f0f921"
             ]
            ],
            "type": "heatmap"
           }
          ],
          "heatmapgl": [
           {
            "colorbar": {
             "outlinewidth": 0,
             "ticks": ""
            },
            "colorscale": [
             [
              0,
              "#0d0887"
             ],
             [
              0.1111111111111111,
              "#46039f"
             ],
             [
              0.2222222222222222,
              "#7201a8"
             ],
             [
              0.3333333333333333,
              "#9c179e"
             ],
             [
              0.4444444444444444,
              "#bd3786"
             ],
             [
              0.5555555555555556,
              "#d8576b"
             ],
             [
              0.6666666666666666,
              "#ed7953"
             ],
             [
              0.7777777777777778,
              "#fb9f3a"
             ],
             [
              0.8888888888888888,
              "#fdca26"
             ],
             [
              1,
              "#f0f921"
             ]
            ],
            "type": "heatmapgl"
           }
          ],
          "histogram": [
           {
            "marker": {
             "pattern": {
              "fillmode": "overlay",
              "size": 10,
              "solidity": 0.2
             }
            },
            "type": "histogram"
           }
          ],
          "histogram2d": [
           {
            "colorbar": {
             "outlinewidth": 0,
             "ticks": ""
            },
            "colorscale": [
             [
              0,
              "#0d0887"
             ],
             [
              0.1111111111111111,
              "#46039f"
             ],
             [
              0.2222222222222222,
              "#7201a8"
             ],
             [
              0.3333333333333333,
              "#9c179e"
             ],
             [
              0.4444444444444444,
              "#bd3786"
             ],
             [
              0.5555555555555556,
              "#d8576b"
             ],
             [
              0.6666666666666666,
              "#ed7953"
             ],
             [
              0.7777777777777778,
              "#fb9f3a"
             ],
             [
              0.8888888888888888,
              "#fdca26"
             ],
             [
              1,
              "#f0f921"
             ]
            ],
            "type": "histogram2d"
           }
          ],
          "histogram2dcontour": [
           {
            "colorbar": {
             "outlinewidth": 0,
             "ticks": ""
            },
            "colorscale": [
             [
              0,
              "#0d0887"
             ],
             [
              0.1111111111111111,
              "#46039f"
             ],
             [
              0.2222222222222222,
              "#7201a8"
             ],
             [
              0.3333333333333333,
              "#9c179e"
             ],
             [
              0.4444444444444444,
              "#bd3786"
             ],
             [
              0.5555555555555556,
              "#d8576b"
             ],
             [
              0.6666666666666666,
              "#ed7953"
             ],
             [
              0.7777777777777778,
              "#fb9f3a"
             ],
             [
              0.8888888888888888,
              "#fdca26"
             ],
             [
              1,
              "#f0f921"
             ]
            ],
            "type": "histogram2dcontour"
           }
          ],
          "mesh3d": [
           {
            "colorbar": {
             "outlinewidth": 0,
             "ticks": ""
            },
            "type": "mesh3d"
           }
          ],
          "parcoords": [
           {
            "line": {
             "colorbar": {
              "outlinewidth": 0,
              "ticks": ""
             }
            },
            "type": "parcoords"
           }
          ],
          "pie": [
           {
            "automargin": true,
            "type": "pie"
           }
          ],
          "scatter": [
           {
            "fillpattern": {
             "fillmode": "overlay",
             "size": 10,
             "solidity": 0.2
            },
            "type": "scatter"
           }
          ],
          "scatter3d": [
           {
            "line": {
             "colorbar": {
              "outlinewidth": 0,
              "ticks": ""
             }
            },
            "marker": {
             "colorbar": {
              "outlinewidth": 0,
              "ticks": ""
             }
            },
            "type": "scatter3d"
           }
          ],
          "scattercarpet": [
           {
            "marker": {
             "colorbar": {
              "outlinewidth": 0,
              "ticks": ""
             }
            },
            "type": "scattercarpet"
           }
          ],
          "scattergeo": [
           {
            "marker": {
             "colorbar": {
              "outlinewidth": 0,
              "ticks": ""
             }
            },
            "type": "scattergeo"
           }
          ],
          "scattergl": [
           {
            "marker": {
             "colorbar": {
              "outlinewidth": 0,
              "ticks": ""
             }
            },
            "type": "scattergl"
           }
          ],
          "scattermapbox": [
           {
            "marker": {
             "colorbar": {
              "outlinewidth": 0,
              "ticks": ""
             }
            },
            "type": "scattermapbox"
           }
          ],
          "scatterpolar": [
           {
            "marker": {
             "colorbar": {
              "outlinewidth": 0,
              "ticks": ""
             }
            },
            "type": "scatterpolar"
           }
          ],
          "scatterpolargl": [
           {
            "marker": {
             "colorbar": {
              "outlinewidth": 0,
              "ticks": ""
             }
            },
            "type": "scatterpolargl"
           }
          ],
          "scatterternary": [
           {
            "marker": {
             "colorbar": {
              "outlinewidth": 0,
              "ticks": ""
             }
            },
            "type": "scatterternary"
           }
          ],
          "surface": [
           {
            "colorbar": {
             "outlinewidth": 0,
             "ticks": ""
            },
            "colorscale": [
             [
              0,
              "#0d0887"
             ],
             [
              0.1111111111111111,
              "#46039f"
             ],
             [
              0.2222222222222222,
              "#7201a8"
             ],
             [
              0.3333333333333333,
              "#9c179e"
             ],
             [
              0.4444444444444444,
              "#bd3786"
             ],
             [
              0.5555555555555556,
              "#d8576b"
             ],
             [
              0.6666666666666666,
              "#ed7953"
             ],
             [
              0.7777777777777778,
              "#fb9f3a"
             ],
             [
              0.8888888888888888,
              "#fdca26"
             ],
             [
              1,
              "#f0f921"
             ]
            ],
            "type": "surface"
           }
          ],
          "table": [
           {
            "cells": {
             "fill": {
              "color": "#EBF0F8"
             },
             "line": {
              "color": "white"
             }
            },
            "header": {
             "fill": {
              "color": "#C8D4E3"
             },
             "line": {
              "color": "white"
             }
            },
            "type": "table"
           }
          ]
         },
         "layout": {
          "annotationdefaults": {
           "arrowcolor": "#2a3f5f",
           "arrowhead": 0,
           "arrowwidth": 1
          },
          "autotypenumbers": "strict",
          "coloraxis": {
           "colorbar": {
            "outlinewidth": 0,
            "ticks": ""
           }
          },
          "colorscale": {
           "diverging": [
            [
             0,
             "#8e0152"
            ],
            [
             0.1,
             "#c51b7d"
            ],
            [
             0.2,
             "#de77ae"
            ],
            [
             0.3,
             "#f1b6da"
            ],
            [
             0.4,
             "#fde0ef"
            ],
            [
             0.5,
             "#f7f7f7"
            ],
            [
             0.6,
             "#e6f5d0"
            ],
            [
             0.7,
             "#b8e186"
            ],
            [
             0.8,
             "#7fbc41"
            ],
            [
             0.9,
             "#4d9221"
            ],
            [
             1,
             "#276419"
            ]
           ],
           "sequential": [
            [
             0,
             "#0d0887"
            ],
            [
             0.1111111111111111,
             "#46039f"
            ],
            [
             0.2222222222222222,
             "#7201a8"
            ],
            [
             0.3333333333333333,
             "#9c179e"
            ],
            [
             0.4444444444444444,
             "#bd3786"
            ],
            [
             0.5555555555555556,
             "#d8576b"
            ],
            [
             0.6666666666666666,
             "#ed7953"
            ],
            [
             0.7777777777777778,
             "#fb9f3a"
            ],
            [
             0.8888888888888888,
             "#fdca26"
            ],
            [
             1,
             "#f0f921"
            ]
           ],
           "sequentialminus": [
            [
             0,
             "#0d0887"
            ],
            [
             0.1111111111111111,
             "#46039f"
            ],
            [
             0.2222222222222222,
             "#7201a8"
            ],
            [
             0.3333333333333333,
             "#9c179e"
            ],
            [
             0.4444444444444444,
             "#bd3786"
            ],
            [
             0.5555555555555556,
             "#d8576b"
            ],
            [
             0.6666666666666666,
             "#ed7953"
            ],
            [
             0.7777777777777778,
             "#fb9f3a"
            ],
            [
             0.8888888888888888,
             "#fdca26"
            ],
            [
             1,
             "#f0f921"
            ]
           ]
          },
          "colorway": [
           "#636efa",
           "#EF553B",
           "#00cc96",
           "#ab63fa",
           "#FFA15A",
           "#19d3f3",
           "#FF6692",
           "#B6E880",
           "#FF97FF",
           "#FECB52"
          ],
          "font": {
           "color": "#2a3f5f"
          },
          "geo": {
           "bgcolor": "white",
           "lakecolor": "white",
           "landcolor": "#E5ECF6",
           "showlakes": true,
           "showland": true,
           "subunitcolor": "white"
          },
          "hoverlabel": {
           "align": "left"
          },
          "hovermode": "closest",
          "mapbox": {
           "style": "light"
          },
          "paper_bgcolor": "white",
          "plot_bgcolor": "#E5ECF6",
          "polar": {
           "angularaxis": {
            "gridcolor": "white",
            "linecolor": "white",
            "ticks": ""
           },
           "bgcolor": "#E5ECF6",
           "radialaxis": {
            "gridcolor": "white",
            "linecolor": "white",
            "ticks": ""
           }
          },
          "scene": {
           "xaxis": {
            "backgroundcolor": "#E5ECF6",
            "gridcolor": "white",
            "gridwidth": 2,
            "linecolor": "white",
            "showbackground": true,
            "ticks": "",
            "zerolinecolor": "white"
           },
           "yaxis": {
            "backgroundcolor": "#E5ECF6",
            "gridcolor": "white",
            "gridwidth": 2,
            "linecolor": "white",
            "showbackground": true,
            "ticks": "",
            "zerolinecolor": "white"
           },
           "zaxis": {
            "backgroundcolor": "#E5ECF6",
            "gridcolor": "white",
            "gridwidth": 2,
            "linecolor": "white",
            "showbackground": true,
            "ticks": "",
            "zerolinecolor": "white"
           }
          },
          "shapedefaults": {
           "line": {
            "color": "#2a3f5f"
           }
          },
          "ternary": {
           "aaxis": {
            "gridcolor": "white",
            "linecolor": "white",
            "ticks": ""
           },
           "baxis": {
            "gridcolor": "white",
            "linecolor": "white",
            "ticks": ""
           },
           "bgcolor": "#E5ECF6",
           "caxis": {
            "gridcolor": "white",
            "linecolor": "white",
            "ticks": ""
           }
          },
          "title": {
           "x": 0.05
          },
          "xaxis": {
           "automargin": true,
           "gridcolor": "white",
           "linecolor": "white",
           "ticks": "",
           "title": {
            "standoff": 15
           },
           "zerolinecolor": "white",
           "zerolinewidth": 2
          },
          "yaxis": {
           "automargin": true,
           "gridcolor": "white",
           "linecolor": "white",
           "ticks": "",
           "title": {
            "standoff": 15
           },
           "zerolinecolor": "white",
           "zerolinewidth": 2
          }
         }
        },
        "title": {
         "text": "Energía eólica por país a través de los años"
        },
        "width": 1000,
        "xaxis": {
         "anchor": "y",
         "domain": [
          0,
          1
         ],
         "range": [
          2004,
          2020
         ],
         "title": {
          "text": "Año"
         }
        },
        "yaxis": {
         "anchor": "x",
         "domain": [
          0,
          1
         ],
         "range": [
          0,
          80
         ],
         "title": {
          "text": "Energía eólica (teravatios-hora)"
         }
        }
       }
      }
     },
     "metadata": {},
     "output_type": "display_data"
    }
   ],
   "source": [
    "fig = px.line(desarrollo_wind,x='year',\n",
    "    y='wind_electricity',\n",
    "    color='country',\n",
    "    line_dash='country',\n",
    "    line_group='country',\n",
    "    labels={'wind_electricity': 'Wind Electricity', 'year': 'Year'},\n",
    "    title='Energía eólica por país a través de los años')\n",
    "fig.update_layout(\n",
    "    xaxis_title='Año',\n",
    "    yaxis_title='Energía eólica (teravatios-hora)',\n",
    "    width=1000,\n",
    "    height=600,\n",
    "    plot_bgcolor='white',\n",
    "    showlegend=True,\n",
    "    yaxis=dict(range=[0, 80]),\n",
    "    xaxis=dict(range=[2004, desarrollo_wind['year'].max()])\n",
    ")\n",
    "fig.update_traces(line_shape='linear', line_simplify=True)\n",
    "fig.show()"
   ]
  },
  {
   "cell_type": "code",
   "execution_count": 43,
   "metadata": {},
   "outputs": [
    {
     "name": "stdout",
     "output_type": "stream",
     "text": [
      "                 country  year  biofuel_electricity\n",
      "0              Argentina  1998                0.680\n",
      "46                Brazil  1998                7.844\n",
      "92              Colombia  1998                0.496\n",
      "115              Ecuador  1998                0.000\n",
      "137        French Guiana  1998                0.000\n",
      "159               Guyana  1998                0.041\n",
      "293            Venezuela  1998                0.000\n",
      "23               Bolivia  1998                0.054\n",
      "181             Paraguay  1998                0.000\n",
      "203                 Peru  1998                0.158\n",
      "226             Suriname  1998                0.000\n",
      "69                 Chile  1998                0.941\n",
      "248  Trinidad and Tobago  1998                0.020\n",
      "270              Uruguay  1998                0.035\n",
      "294            Venezuela  1999                0.000\n",
      "271              Uruguay  1999                0.035\n",
      "160               Guyana  1999                0.041\n",
      "116              Ecuador  1999                0.000\n",
      "70                 Chile  1999                0.941\n",
      "24               Bolivia  1999                0.054\n",
      "93              Colombia  1999                0.496\n",
      "138        French Guiana  1999                0.000\n",
      "1              Argentina  1999                0.680\n",
      "47                Brazil  1999                7.844\n",
      "249  Trinidad and Tobago  1999                0.020\n",
      "204                 Peru  1999                0.158\n",
      "227             Suriname  1999                0.000\n",
      "182             Paraguay  1999                0.000\n",
      "272              Uruguay  2000                0.035\n",
      "94              Colombia  2000                0.496\n",
      "48                Brazil  2000                7.844\n",
      "71                 Chile  2000                0.941\n",
      "117              Ecuador  2000                0.000\n",
      "2              Argentina  2000                0.680\n",
      "228             Suriname  2000                0.000\n",
      "295            Venezuela  2000                0.000\n",
      "205                 Peru  2000                0.158\n",
      "183             Paraguay  2000                0.000\n",
      "250  Trinidad and Tobago  2000                0.020\n",
      "139        French Guiana  2000                0.000\n",
      "25               Bolivia  2000                0.054\n",
      "161               Guyana  2000                0.041\n",
      "95              Colombia  2001                0.496\n",
      "162               Guyana  2001                0.047\n",
      "229             Suriname  2001                0.000\n",
      "72                 Chile  2001                2.068\n",
      "118              Ecuador  2001                0.000\n",
      "184             Paraguay  2001                0.000\n",
      "296            Venezuela  2001                0.000\n",
      "206                 Peru  2001                0.170\n",
      "273              Uruguay  2001                0.037\n",
      "251  Trinidad and Tobago  2001                0.029\n",
      "140        French Guiana  2001                0.000\n",
      "49                Brazil  2001                8.980\n",
      "26               Bolivia  2001                0.054\n",
      "3              Argentina  2001                0.620\n",
      "207                 Peru  2002                0.193\n",
      "230             Suriname  2002                0.000\n",
      "50                Brazil  2002               10.219\n",
      "141        French Guiana  2002                0.000\n",
      "27               Bolivia  2002                0.054\n",
      "252  Trinidad and Tobago  2002                0.026\n",
      "73                 Chile  2002                1.944\n",
      "163               Guyana  2002                0.056\n",
      "297            Venezuela  2002                0.000\n",
      "4              Argentina  2002                0.870\n",
      "274              Uruguay  2002                0.039\n",
      "96              Colombia  2002                0.491\n",
      "185             Paraguay  2002                0.000\n",
      "119              Ecuador  2002                0.000\n",
      "208                 Peru  2003                0.204\n",
      "164               Guyana  2003                0.051\n",
      "28               Bolivia  2003                0.054\n",
      "186             Paraguay  2003                0.000\n",
      "97              Colombia  2003                0.495\n",
      "51                Brazil  2003               11.894\n",
      "231             Suriname  2003                0.000\n",
      "120              Ecuador  2003                0.000\n",
      "253  Trinidad and Tobago  2003                0.012\n",
      "142        French Guiana  2003                0.000\n",
      "5              Argentina  2003                1.000\n",
      "275              Uruguay  2003                0.038\n",
      "298            Venezuela  2003                0.000\n",
      "74                 Chile  2003                1.807\n",
      "29               Bolivia  2004                0.055\n",
      "143        French Guiana  2004                0.000\n",
      "165               Guyana  2004                0.056\n",
      "75                 Chile  2004                2.031\n",
      "187             Paraguay  2004                0.000\n",
      "299            Venezuela  2004                0.000\n",
      "209                 Peru  2004                0.160\n",
      "232             Suriname  2004                0.000\n",
      "121              Ecuador  2004                0.000\n",
      "254  Trinidad and Tobago  2004                0.023\n",
      "6              Argentina  2004                1.200\n",
      "276              Uruguay  2004                0.036\n",
      "52                Brazil  2004               12.476\n",
      "98              Colombia  2004                0.467\n",
      "122              Ecuador  2005                0.050\n",
      "53                Brazil  2005               13.591\n",
      "30               Bolivia  2005                0.057\n",
      "188             Paraguay  2005                0.000\n",
      "210                 Peru  2005                0.361\n",
      "233             Suriname  2005                0.000\n",
      "7              Argentina  2005                1.300\n",
      "255  Trinidad and Tobago  2005                0.022\n",
      "277              Uruguay  2005                0.039\n",
      "144        French Guiana  2005                0.000\n",
      "300            Venezuela  2005                0.000\n",
      "166               Guyana  2005                0.045\n",
      "76                 Chile  2005                1.790\n",
      "99              Colombia  2005                0.503\n",
      "301            Venezuela  2006                0.000\n",
      "100             Colombia  2006                0.530\n",
      "145        French Guiana  2006                0.000\n",
      "31               Bolivia  2006                0.058\n",
      "234             Suriname  2006                0.000\n",
      "167               Guyana  2006                0.045\n",
      "189             Paraguay  2006                0.000\n",
      "123              Ecuador  2006                0.678\n",
      "8              Argentina  2006                2.800\n",
      "256  Trinidad and Tobago  2006                0.026\n",
      "278              Uruguay  2006                0.050\n",
      "54                Brazil  2006               14.723\n",
      "211                 Peru  2006                0.375\n",
      "77                 Chile  2006                1.431\n",
      "32               Bolivia  2007                0.062\n",
      "279              Uruguay  2007                0.137\n",
      "168               Guyana  2007                0.047\n",
      "146        French Guiana  2007                0.000\n",
      "101             Colombia  2007                0.532\n",
      "55                Brazil  2007               18.025\n",
      "235             Suriname  2007                0.000\n",
      "257  Trinidad and Tobago  2007                0.019\n",
      "78                 Chile  2007                2.696\n",
      "190             Paraguay  2007                0.000\n",
      "212                 Peru  2007                0.450\n",
      "302            Venezuela  2007                0.000\n",
      "124              Ecuador  2007                0.949\n",
      "9              Argentina  2007                2.760\n",
      "303            Venezuela  2008                0.000\n",
      "147        French Guiana  2008                0.000\n",
      "79                 Chile  2008                3.083\n",
      "10             Argentina  2008                1.576\n",
      "280              Uruguay  2008                0.838\n",
      "33               Bolivia  2008                0.096\n",
      "169               Guyana  2008                0.045\n",
      "191             Paraguay  2008                0.000\n",
      "125              Ecuador  2008                0.208\n",
      "102             Colombia  2008                0.537\n",
      "213                 Peru  2008                0.460\n",
      "56                Brazil  2008               19.817\n",
      "258  Trinidad and Tobago  2008                0.020\n",
      "236             Suriname  2008                0.000\n",
      "170               Guyana  2009                0.045\n",
      "304            Venezuela  2009                0.000\n",
      "237             Suriname  2009                0.000\n",
      "11             Argentina  2009                1.366\n",
      "192             Paraguay  2009                0.000\n",
      "214                 Peru  2009                0.460\n",
      "80                 Chile  2009                4.274\n",
      "259  Trinidad and Tobago  2009                0.019\n",
      "57                Brazil  2009               22.602\n",
      "126              Ecuador  2009                0.217\n",
      "281              Uruguay  2009                0.793\n",
      "148        French Guiana  2009                0.001\n",
      "34               Bolivia  2009                0.119\n",
      "103             Colombia  2009                0.541\n",
      "81                 Chile  2010                2.247\n",
      "127              Ecuador  2010                0.236\n",
      "282              Uruguay  2010                1.100\n",
      "193             Paraguay  2010                0.000\n",
      "305            Venezuela  2010                0.000\n",
      "260  Trinidad and Tobago  2010                0.000\n",
      "12             Argentina  2010                1.165\n",
      "104             Colombia  2010                2.417\n",
      "171               Guyana  2010                0.010\n",
      "35               Bolivia  2010                0.077\n",
      "149        French Guiana  2010                0.008\n",
      "238             Suriname  2010                0.000\n",
      "58                Brazil  2010               31.495\n",
      "215                 Peru  2010                0.673\n",
      "194             Paraguay  2011                0.000\n",
      "105             Colombia  2011                1.999\n",
      "59                Brazil  2011               32.434\n",
      "128              Ecuador  2011                0.278\n",
      "82                 Chile  2011                4.673\n",
      "283              Uruguay  2011                1.131\n",
      "13             Argentina  2011                1.162\n",
      "261  Trinidad and Tobago  2011                0.000\n",
      "172               Guyana  2011                0.012\n",
      "36               Bolivia  2011                0.085\n",
      "239             Suriname  2011                0.000\n",
      "150        French Guiana  2011                0.012\n",
      "306            Venezuela  2011                0.000\n",
      "216                 Peru  2011                0.675\n",
      "217                 Peru  2012                0.668\n",
      "14             Argentina  2012                1.372\n",
      "240             Suriname  2012                0.000\n",
      "307            Venezuela  2012                0.000\n",
      "262  Trinidad and Tobago  2012                0.000\n",
      "60                Brazil  2012               35.645\n",
      "284              Uruguay  2012                1.320\n",
      "195             Paraguay  2012                0.000\n",
      "129              Ecuador  2012                0.296\n",
      "151        French Guiana  2012                0.012\n",
      "106             Colombia  2012                1.953\n",
      "173               Guyana  2012                0.018\n",
      "37               Bolivia  2012                0.082\n",
      "83                 Chile  2012                4.854\n",
      "84                 Chile  2013                5.761\n",
      "61                Brazil  2013               40.762\n",
      "285              Uruguay  2013                1.460\n",
      "218                 Peru  2013                0.960\n",
      "263  Trinidad and Tobago  2013                0.000\n",
      "196             Paraguay  2013                0.126\n",
      "130              Ecuador  2013                0.296\n",
      "174               Guyana  2013                0.021\n",
      "152        French Guiana  2013                0.013\n",
      "107             Colombia  2013                1.048\n",
      "15             Argentina  2013                1.314\n",
      "308            Venezuela  2013                0.000\n",
      "38               Bolivia  2013                0.090\n",
      "241             Suriname  2013                0.000\n",
      "242             Suriname  2014                0.000\n",
      "175               Guyana  2014                0.020\n",
      "153        French Guiana  2014                0.012\n",
      "62                Brazil  2014               46.688\n",
      "85                 Chile  2014                5.327\n",
      "309            Venezuela  2014                0.000\n",
      "131              Ecuador  2014                0.399\n",
      "264  Trinidad and Tobago  2014                0.000\n",
      "286              Uruguay  2014                1.923\n",
      "219                 Peru  2014                1.291\n",
      "197             Paraguay  2014                0.139\n",
      "39               Bolivia  2014                0.088\n",
      "108             Colombia  2014                1.347\n",
      "16             Argentina  2014                0.988\n",
      "63                Brazil  2015               49.446\n",
      "40               Bolivia  2015                0.204\n",
      "154        French Guiana  2015                0.012\n",
      "132              Ecuador  2015                0.408\n",
      "265  Trinidad and Tobago  2015                0.000\n",
      "17             Argentina  2015                1.194\n",
      "310            Venezuela  2015                0.000\n",
      "198             Paraguay  2015                0.146\n",
      "109             Colombia  2015                1.371\n",
      "220                 Peru  2015                0.907\n",
      "86                 Chile  2015                5.615\n",
      "287              Uruguay  2015                2.407\n",
      "176               Guyana  2015                0.026\n",
      "243             Suriname  2015                0.006\n",
      "288              Uruguay  2016                2.453\n",
      "199             Paraguay  2016                0.895\n",
      "221                 Peru  2016                0.556\n",
      "266  Trinidad and Tobago  2016                0.000\n",
      "311            Venezuela  2016                0.000\n",
      "133              Ecuador  2016                0.490\n",
      "244             Suriname  2016                0.006\n",
      "87                 Chile  2016                5.957\n",
      "18             Argentina  2016                1.214\n",
      "155        French Guiana  2016                0.012\n",
      "41               Bolivia  2016                0.182\n",
      "64                Brazil  2016               50.936\n",
      "110             Colombia  2016                1.462\n",
      "177               Guyana  2016                0.019\n",
      "65                Brazil  2017               52.539\n",
      "267  Trinidad and Tobago  2017                0.000\n",
      "222                 Peru  2017                0.471\n",
      "178               Guyana  2017                0.014\n",
      "88                 Chile  2017                6.062\n",
      "19             Argentina  2017                1.389\n",
      "156        French Guiana  2017                0.010\n",
      "42               Bolivia  2017                0.143\n",
      "200             Paraguay  2017                0.682\n",
      "289              Uruguay  2017                2.568\n",
      "245             Suriname  2017                0.006\n",
      "111             Colombia  2017                1.427\n",
      "312            Venezuela  2017                0.000\n",
      "134              Ecuador  2017                0.459\n",
      "290              Uruguay  2018                2.554\n",
      "157        French Guiana  2018                0.010\n",
      "268  Trinidad and Tobago  2018                0.000\n",
      "112             Colombia  2018                1.458\n",
      "313            Venezuela  2018                0.000\n",
      "179               Guyana  2018                0.010\n",
      "89                 Chile  2018                5.689\n",
      "135              Ecuador  2018                0.428\n",
      "201             Paraguay  2018                0.701\n",
      "66                Brazil  2018               53.911\n",
      "223                 Peru  2018                0.419\n",
      "43               Bolivia  2018                0.196\n",
      "246             Suriname  2018                0.006\n",
      "20             Argentina  2018                1.360\n",
      "67                Brazil  2019               54.514\n",
      "21             Argentina  2019                1.724\n",
      "90                 Chile  2019                4.352\n",
      "44               Bolivia  2019                0.269\n",
      "113             Colombia  2019                1.317\n",
      "314            Venezuela  2019                0.000\n",
      "136              Ecuador  2019                0.455\n",
      "158        French Guiana  2019                0.010\n",
      "291              Uruguay  2019                2.515\n",
      "180               Guyana  2019                0.005\n",
      "202             Paraguay  2019                0.886\n",
      "224                 Peru  2019                0.530\n",
      "247             Suriname  2019                0.006\n",
      "269  Trinidad and Tobago  2019                0.000\n",
      "91                 Chile  2020                4.352\n",
      "292              Uruguay  2020                2.721\n",
      "68                Brazil  2020               54.742\n",
      "45               Bolivia  2020                0.269\n",
      "22             Argentina  2020                1.893\n",
      "225                 Peru  2020                0.582\n",
      "114             Colombia  2020                1.341\n"
     ]
    }
   ],
   "source": [
    "# Se muestra la columna energía eolica a través de los años según los países\n",
    "desarrollo_biofuel = electrica[electrica['year'] >= 1985][['country', 'year', 'biofuel_electricity']].sort_values(by='year')\n",
    "print(desarrollo_biofuel)"
   ]
  },
  {
   "cell_type": "code",
   "execution_count": 45,
   "metadata": {},
   "outputs": [
    {
     "data": {
      "application/vnd.plotly.v1+json": {
       "config": {
        "plotlyServerURL": "https://plot.ly"
       },
       "data": [
        {
         "hovertemplate": "country=Argentina<br>Year=%{x}<br>biofuel Electricity=%{y}<extra></extra>",
         "legendgroup": "Argentina",
         "line": {
          "color": "#636efa",
          "dash": "solid",
          "shape": "linear",
          "simplify": true
         },
         "marker": {
          "symbol": "circle"
         },
         "mode": "lines",
         "name": "Argentina",
         "orientation": "v",
         "showlegend": true,
         "type": "scatter",
         "x": [
          1998,
          1999,
          2000,
          2001,
          2002,
          2003,
          2004,
          2005,
          2006,
          2007,
          2008,
          2009,
          2010,
          2011,
          2012,
          2013,
          2014,
          2015,
          2016,
          2017,
          2018,
          2019,
          2020
         ],
         "xaxis": "x",
         "y": [
          0.68,
          0.68,
          0.68,
          0.62,
          0.87,
          1,
          1.2,
          1.3,
          2.8,
          2.76,
          1.576,
          1.366,
          1.165,
          1.162,
          1.372,
          1.314,
          0.988,
          1.194,
          1.214,
          1.389,
          1.36,
          1.724,
          1.893
         ],
         "yaxis": "y"
        },
        {
         "hovertemplate": "country=Brazil<br>Year=%{x}<br>biofuel Electricity=%{y}<extra></extra>",
         "legendgroup": "Brazil",
         "line": {
          "color": "#EF553B",
          "dash": "dot",
          "shape": "linear",
          "simplify": true
         },
         "marker": {
          "symbol": "circle"
         },
         "mode": "lines",
         "name": "Brazil",
         "orientation": "v",
         "showlegend": true,
         "type": "scatter",
         "x": [
          1998,
          1999,
          2000,
          2001,
          2002,
          2003,
          2004,
          2005,
          2006,
          2007,
          2008,
          2009,
          2010,
          2011,
          2012,
          2013,
          2014,
          2015,
          2016,
          2017,
          2018,
          2019,
          2020
         ],
         "xaxis": "x",
         "y": [
          7.844,
          7.844,
          7.844,
          8.98,
          10.219,
          11.894,
          12.476,
          13.591,
          14.723,
          18.025,
          19.817,
          22.602,
          31.495,
          32.434,
          35.645,
          40.762,
          46.688,
          49.446,
          50.936,
          52.539,
          53.911,
          54.514,
          54.742
         ],
         "yaxis": "y"
        },
        {
         "hovertemplate": "country=Colombia<br>Year=%{x}<br>biofuel Electricity=%{y}<extra></extra>",
         "legendgroup": "Colombia",
         "line": {
          "color": "#00cc96",
          "dash": "dash",
          "shape": "linear",
          "simplify": true
         },
         "marker": {
          "symbol": "circle"
         },
         "mode": "lines",
         "name": "Colombia",
         "orientation": "v",
         "showlegend": true,
         "type": "scatter",
         "x": [
          1998,
          1999,
          2000,
          2001,
          2002,
          2003,
          2004,
          2005,
          2006,
          2007,
          2008,
          2009,
          2010,
          2011,
          2012,
          2013,
          2014,
          2015,
          2016,
          2017,
          2018,
          2019,
          2020
         ],
         "xaxis": "x",
         "y": [
          0.496,
          0.496,
          0.496,
          0.496,
          0.491,
          0.495,
          0.467,
          0.503,
          0.53,
          0.532,
          0.537,
          0.541,
          2.417,
          1.999,
          1.953,
          1.048,
          1.347,
          1.371,
          1.462,
          1.427,
          1.458,
          1.317,
          1.341
         ],
         "yaxis": "y"
        },
        {
         "hovertemplate": "country=Ecuador<br>Year=%{x}<br>biofuel Electricity=%{y}<extra></extra>",
         "legendgroup": "Ecuador",
         "line": {
          "color": "#ab63fa",
          "dash": "longdash",
          "shape": "linear",
          "simplify": true
         },
         "marker": {
          "symbol": "circle"
         },
         "mode": "lines",
         "name": "Ecuador",
         "orientation": "v",
         "showlegend": true,
         "type": "scatter",
         "x": [
          1998,
          1999,
          2000,
          2001,
          2002,
          2003,
          2004,
          2005,
          2006,
          2007,
          2008,
          2009,
          2010,
          2011,
          2012,
          2013,
          2014,
          2015,
          2016,
          2017,
          2018,
          2019
         ],
         "xaxis": "x",
         "y": [
          0,
          0,
          0,
          0,
          0,
          0,
          0,
          0.05,
          0.678,
          0.949,
          0.208,
          0.217,
          0.236,
          0.278,
          0.296,
          0.296,
          0.399,
          0.408,
          0.49,
          0.459,
          0.428,
          0.455
         ],
         "yaxis": "y"
        },
        {
         "hovertemplate": "country=French Guiana<br>Year=%{x}<br>biofuel Electricity=%{y}<extra></extra>",
         "legendgroup": "French Guiana",
         "line": {
          "color": "#FFA15A",
          "dash": "dashdot",
          "shape": "linear",
          "simplify": true
         },
         "marker": {
          "symbol": "circle"
         },
         "mode": "lines",
         "name": "French Guiana",
         "orientation": "v",
         "showlegend": true,
         "type": "scatter",
         "x": [
          1998,
          1999,
          2000,
          2001,
          2002,
          2003,
          2004,
          2005,
          2006,
          2007,
          2008,
          2009,
          2010,
          2011,
          2012,
          2013,
          2014,
          2015,
          2016,
          2017,
          2018,
          2019
         ],
         "xaxis": "x",
         "y": [
          0,
          0,
          0,
          0,
          0,
          0,
          0,
          0,
          0,
          0,
          0,
          0.001,
          0.008,
          0.012,
          0.012,
          0.013,
          0.012,
          0.012,
          0.012,
          0.01,
          0.01,
          0.01
         ],
         "yaxis": "y"
        },
        {
         "hovertemplate": "country=Guyana<br>Year=%{x}<br>biofuel Electricity=%{y}<extra></extra>",
         "legendgroup": "Guyana",
         "line": {
          "color": "#19d3f3",
          "dash": "longdashdot",
          "shape": "linear",
          "simplify": true
         },
         "marker": {
          "symbol": "circle"
         },
         "mode": "lines",
         "name": "Guyana",
         "orientation": "v",
         "showlegend": true,
         "type": "scatter",
         "x": [
          1998,
          1999,
          2000,
          2001,
          2002,
          2003,
          2004,
          2005,
          2006,
          2007,
          2008,
          2009,
          2010,
          2011,
          2012,
          2013,
          2014,
          2015,
          2016,
          2017,
          2018,
          2019
         ],
         "xaxis": "x",
         "y": [
          0.041,
          0.041,
          0.041,
          0.047,
          0.056,
          0.051,
          0.056,
          0.045,
          0.045,
          0.047,
          0.045,
          0.045,
          0.01,
          0.012,
          0.018,
          0.021,
          0.02,
          0.026,
          0.019,
          0.014,
          0.01,
          0.005
         ],
         "yaxis": "y"
        },
        {
         "hovertemplate": "country=Venezuela<br>Year=%{x}<br>biofuel Electricity=%{y}<extra></extra>",
         "legendgroup": "Venezuela",
         "line": {
          "color": "#FF6692",
          "dash": "solid",
          "shape": "linear",
          "simplify": true
         },
         "marker": {
          "symbol": "circle"
         },
         "mode": "lines",
         "name": "Venezuela",
         "orientation": "v",
         "showlegend": true,
         "type": "scatter",
         "x": [
          1998,
          1999,
          2000,
          2001,
          2002,
          2003,
          2004,
          2005,
          2006,
          2007,
          2008,
          2009,
          2010,
          2011,
          2012,
          2013,
          2014,
          2015,
          2016,
          2017,
          2018,
          2019
         ],
         "xaxis": "x",
         "y": [
          0,
          0,
          0,
          0,
          0,
          0,
          0,
          0,
          0,
          0,
          0,
          0,
          0,
          0,
          0,
          0,
          0,
          0,
          0,
          0,
          0,
          0
         ],
         "yaxis": "y"
        },
        {
         "hovertemplate": "country=Bolivia<br>Year=%{x}<br>biofuel Electricity=%{y}<extra></extra>",
         "legendgroup": "Bolivia",
         "line": {
          "color": "#B6E880",
          "dash": "dot",
          "shape": "linear",
          "simplify": true
         },
         "marker": {
          "symbol": "circle"
         },
         "mode": "lines",
         "name": "Bolivia",
         "orientation": "v",
         "showlegend": true,
         "type": "scatter",
         "x": [
          1998,
          1999,
          2000,
          2001,
          2002,
          2003,
          2004,
          2005,
          2006,
          2007,
          2008,
          2009,
          2010,
          2011,
          2012,
          2013,
          2014,
          2015,
          2016,
          2017,
          2018,
          2019,
          2020
         ],
         "xaxis": "x",
         "y": [
          0.054,
          0.054,
          0.054,
          0.054,
          0.054,
          0.054,
          0.055,
          0.057,
          0.058,
          0.062,
          0.096,
          0.119,
          0.077,
          0.085,
          0.082,
          0.09,
          0.088,
          0.204,
          0.182,
          0.143,
          0.196,
          0.269,
          0.269
         ],
         "yaxis": "y"
        },
        {
         "hovertemplate": "country=Paraguay<br>Year=%{x}<br>biofuel Electricity=%{y}<extra></extra>",
         "legendgroup": "Paraguay",
         "line": {
          "color": "#FF97FF",
          "dash": "dash",
          "shape": "linear",
          "simplify": true
         },
         "marker": {
          "symbol": "circle"
         },
         "mode": "lines",
         "name": "Paraguay",
         "orientation": "v",
         "showlegend": true,
         "type": "scatter",
         "x": [
          1998,
          1999,
          2000,
          2001,
          2002,
          2003,
          2004,
          2005,
          2006,
          2007,
          2008,
          2009,
          2010,
          2011,
          2012,
          2013,
          2014,
          2015,
          2016,
          2017,
          2018,
          2019
         ],
         "xaxis": "x",
         "y": [
          0,
          0,
          0,
          0,
          0,
          0,
          0,
          0,
          0,
          0,
          0,
          0,
          0,
          0,
          0,
          0.126,
          0.139,
          0.146,
          0.895,
          0.682,
          0.701,
          0.886
         ],
         "yaxis": "y"
        },
        {
         "hovertemplate": "country=Peru<br>Year=%{x}<br>biofuel Electricity=%{y}<extra></extra>",
         "legendgroup": "Peru",
         "line": {
          "color": "#FECB52",
          "dash": "longdash",
          "shape": "linear",
          "simplify": true
         },
         "marker": {
          "symbol": "circle"
         },
         "mode": "lines",
         "name": "Peru",
         "orientation": "v",
         "showlegend": true,
         "type": "scatter",
         "x": [
          1998,
          1999,
          2000,
          2001,
          2002,
          2003,
          2004,
          2005,
          2006,
          2007,
          2008,
          2009,
          2010,
          2011,
          2012,
          2013,
          2014,
          2015,
          2016,
          2017,
          2018,
          2019,
          2020
         ],
         "xaxis": "x",
         "y": [
          0.158,
          0.158,
          0.158,
          0.17,
          0.193,
          0.204,
          0.16,
          0.361,
          0.375,
          0.45,
          0.46,
          0.46,
          0.673,
          0.675,
          0.668,
          0.96,
          1.291,
          0.907,
          0.556,
          0.471,
          0.419,
          0.53,
          0.582
         ],
         "yaxis": "y"
        },
        {
         "hovertemplate": "country=Suriname<br>Year=%{x}<br>biofuel Electricity=%{y}<extra></extra>",
         "legendgroup": "Suriname",
         "line": {
          "color": "#636efa",
          "dash": "dashdot",
          "shape": "linear",
          "simplify": true
         },
         "marker": {
          "symbol": "circle"
         },
         "mode": "lines",
         "name": "Suriname",
         "orientation": "v",
         "showlegend": true,
         "type": "scatter",
         "x": [
          1998,
          1999,
          2000,
          2001,
          2002,
          2003,
          2004,
          2005,
          2006,
          2007,
          2008,
          2009,
          2010,
          2011,
          2012,
          2013,
          2014,
          2015,
          2016,
          2017,
          2018,
          2019
         ],
         "xaxis": "x",
         "y": [
          0,
          0,
          0,
          0,
          0,
          0,
          0,
          0,
          0,
          0,
          0,
          0,
          0,
          0,
          0,
          0,
          0,
          0.006,
          0.006,
          0.006,
          0.006,
          0.006
         ],
         "yaxis": "y"
        },
        {
         "hovertemplate": "country=Chile<br>Year=%{x}<br>biofuel Electricity=%{y}<extra></extra>",
         "legendgroup": "Chile",
         "line": {
          "color": "#EF553B",
          "dash": "longdashdot",
          "shape": "linear",
          "simplify": true
         },
         "marker": {
          "symbol": "circle"
         },
         "mode": "lines",
         "name": "Chile",
         "orientation": "v",
         "showlegend": true,
         "type": "scatter",
         "x": [
          1998,
          1999,
          2000,
          2001,
          2002,
          2003,
          2004,
          2005,
          2006,
          2007,
          2008,
          2009,
          2010,
          2011,
          2012,
          2013,
          2014,
          2015,
          2016,
          2017,
          2018,
          2019,
          2020
         ],
         "xaxis": "x",
         "y": [
          0.941,
          0.941,
          0.941,
          2.068,
          1.944,
          1.807,
          2.031,
          1.79,
          1.431,
          2.696,
          3.083,
          4.274,
          2.247,
          4.673,
          4.854,
          5.761,
          5.327,
          5.615,
          5.957,
          6.062,
          5.689,
          4.352,
          4.352
         ],
         "yaxis": "y"
        },
        {
         "hovertemplate": "country=Trinidad and Tobago<br>Year=%{x}<br>biofuel Electricity=%{y}<extra></extra>",
         "legendgroup": "Trinidad and Tobago",
         "line": {
          "color": "#00cc96",
          "dash": "solid",
          "shape": "linear",
          "simplify": true
         },
         "marker": {
          "symbol": "circle"
         },
         "mode": "lines",
         "name": "Trinidad and Tobago",
         "orientation": "v",
         "showlegend": true,
         "type": "scatter",
         "x": [
          1998,
          1999,
          2000,
          2001,
          2002,
          2003,
          2004,
          2005,
          2006,
          2007,
          2008,
          2009,
          2010,
          2011,
          2012,
          2013,
          2014,
          2015,
          2016,
          2017,
          2018,
          2019
         ],
         "xaxis": "x",
         "y": [
          0.02,
          0.02,
          0.02,
          0.029,
          0.026,
          0.012,
          0.023,
          0.022,
          0.026,
          0.019,
          0.02,
          0.019,
          0,
          0,
          0,
          0,
          0,
          0,
          0,
          0,
          0,
          0
         ],
         "yaxis": "y"
        },
        {
         "hovertemplate": "country=Uruguay<br>Year=%{x}<br>biofuel Electricity=%{y}<extra></extra>",
         "legendgroup": "Uruguay",
         "line": {
          "color": "#ab63fa",
          "dash": "dot",
          "shape": "linear",
          "simplify": true
         },
         "marker": {
          "symbol": "circle"
         },
         "mode": "lines",
         "name": "Uruguay",
         "orientation": "v",
         "showlegend": true,
         "type": "scatter",
         "x": [
          1998,
          1999,
          2000,
          2001,
          2002,
          2003,
          2004,
          2005,
          2006,
          2007,
          2008,
          2009,
          2010,
          2011,
          2012,
          2013,
          2014,
          2015,
          2016,
          2017,
          2018,
          2019,
          2020
         ],
         "xaxis": "x",
         "y": [
          0.035,
          0.035,
          0.035,
          0.037,
          0.039,
          0.038,
          0.036,
          0.039,
          0.05,
          0.137,
          0.838,
          0.793,
          1.1,
          1.131,
          1.32,
          1.46,
          1.923,
          2.407,
          2.453,
          2.568,
          2.554,
          2.515,
          2.721
         ],
         "yaxis": "y"
        }
       ],
       "layout": {
        "height": 600,
        "legend": {
         "title": {
          "text": "country"
         },
         "tracegroupgap": 0
        },
        "plot_bgcolor": "white",
        "showlegend": true,
        "template": {
         "data": {
          "bar": [
           {
            "error_x": {
             "color": "#2a3f5f"
            },
            "error_y": {
             "color": "#2a3f5f"
            },
            "marker": {
             "line": {
              "color": "#E5ECF6",
              "width": 0.5
             },
             "pattern": {
              "fillmode": "overlay",
              "size": 10,
              "solidity": 0.2
             }
            },
            "type": "bar"
           }
          ],
          "barpolar": [
           {
            "marker": {
             "line": {
              "color": "#E5ECF6",
              "width": 0.5
             },
             "pattern": {
              "fillmode": "overlay",
              "size": 10,
              "solidity": 0.2
             }
            },
            "type": "barpolar"
           }
          ],
          "carpet": [
           {
            "aaxis": {
             "endlinecolor": "#2a3f5f",
             "gridcolor": "white",
             "linecolor": "white",
             "minorgridcolor": "white",
             "startlinecolor": "#2a3f5f"
            },
            "baxis": {
             "endlinecolor": "#2a3f5f",
             "gridcolor": "white",
             "linecolor": "white",
             "minorgridcolor": "white",
             "startlinecolor": "#2a3f5f"
            },
            "type": "carpet"
           }
          ],
          "choropleth": [
           {
            "colorbar": {
             "outlinewidth": 0,
             "ticks": ""
            },
            "type": "choropleth"
           }
          ],
          "contour": [
           {
            "colorbar": {
             "outlinewidth": 0,
             "ticks": ""
            },
            "colorscale": [
             [
              0,
              "#0d0887"
             ],
             [
              0.1111111111111111,
              "#46039f"
             ],
             [
              0.2222222222222222,
              "#7201a8"
             ],
             [
              0.3333333333333333,
              "#9c179e"
             ],
             [
              0.4444444444444444,
              "#bd3786"
             ],
             [
              0.5555555555555556,
              "#d8576b"
             ],
             [
              0.6666666666666666,
              "#ed7953"
             ],
             [
              0.7777777777777778,
              "#fb9f3a"
             ],
             [
              0.8888888888888888,
              "#fdca26"
             ],
             [
              1,
              "#f0f921"
             ]
            ],
            "type": "contour"
           }
          ],
          "contourcarpet": [
           {
            "colorbar": {
             "outlinewidth": 0,
             "ticks": ""
            },
            "type": "contourcarpet"
           }
          ],
          "heatmap": [
           {
            "colorbar": {
             "outlinewidth": 0,
             "ticks": ""
            },
            "colorscale": [
             [
              0,
              "#0d0887"
             ],
             [
              0.1111111111111111,
              "#46039f"
             ],
             [
              0.2222222222222222,
              "#7201a8"
             ],
             [
              0.3333333333333333,
              "#9c179e"
             ],
             [
              0.4444444444444444,
              "#bd3786"
             ],
             [
              0.5555555555555556,
              "#d8576b"
             ],
             [
              0.6666666666666666,
              "#ed7953"
             ],
             [
              0.7777777777777778,
              "#fb9f3a"
             ],
             [
              0.8888888888888888,
              "#fdca26"
             ],
             [
              1,
              "#f0f921"
             ]
            ],
            "type": "heatmap"
           }
          ],
          "heatmapgl": [
           {
            "colorbar": {
             "outlinewidth": 0,
             "ticks": ""
            },
            "colorscale": [
             [
              0,
              "#0d0887"
             ],
             [
              0.1111111111111111,
              "#46039f"
             ],
             [
              0.2222222222222222,
              "#7201a8"
             ],
             [
              0.3333333333333333,
              "#9c179e"
             ],
             [
              0.4444444444444444,
              "#bd3786"
             ],
             [
              0.5555555555555556,
              "#d8576b"
             ],
             [
              0.6666666666666666,
              "#ed7953"
             ],
             [
              0.7777777777777778,
              "#fb9f3a"
             ],
             [
              0.8888888888888888,
              "#fdca26"
             ],
             [
              1,
              "#f0f921"
             ]
            ],
            "type": "heatmapgl"
           }
          ],
          "histogram": [
           {
            "marker": {
             "pattern": {
              "fillmode": "overlay",
              "size": 10,
              "solidity": 0.2
             }
            },
            "type": "histogram"
           }
          ],
          "histogram2d": [
           {
            "colorbar": {
             "outlinewidth": 0,
             "ticks": ""
            },
            "colorscale": [
             [
              0,
              "#0d0887"
             ],
             [
              0.1111111111111111,
              "#46039f"
             ],
             [
              0.2222222222222222,
              "#7201a8"
             ],
             [
              0.3333333333333333,
              "#9c179e"
             ],
             [
              0.4444444444444444,
              "#bd3786"
             ],
             [
              0.5555555555555556,
              "#d8576b"
             ],
             [
              0.6666666666666666,
              "#ed7953"
             ],
             [
              0.7777777777777778,
              "#fb9f3a"
             ],
             [
              0.8888888888888888,
              "#fdca26"
             ],
             [
              1,
              "#f0f921"
             ]
            ],
            "type": "histogram2d"
           }
          ],
          "histogram2dcontour": [
           {
            "colorbar": {
             "outlinewidth": 0,
             "ticks": ""
            },
            "colorscale": [
             [
              0,
              "#0d0887"
             ],
             [
              0.1111111111111111,
              "#46039f"
             ],
             [
              0.2222222222222222,
              "#7201a8"
             ],
             [
              0.3333333333333333,
              "#9c179e"
             ],
             [
              0.4444444444444444,
              "#bd3786"
             ],
             [
              0.5555555555555556,
              "#d8576b"
             ],
             [
              0.6666666666666666,
              "#ed7953"
             ],
             [
              0.7777777777777778,
              "#fb9f3a"
             ],
             [
              0.8888888888888888,
              "#fdca26"
             ],
             [
              1,
              "#f0f921"
             ]
            ],
            "type": "histogram2dcontour"
           }
          ],
          "mesh3d": [
           {
            "colorbar": {
             "outlinewidth": 0,
             "ticks": ""
            },
            "type": "mesh3d"
           }
          ],
          "parcoords": [
           {
            "line": {
             "colorbar": {
              "outlinewidth": 0,
              "ticks": ""
             }
            },
            "type": "parcoords"
           }
          ],
          "pie": [
           {
            "automargin": true,
            "type": "pie"
           }
          ],
          "scatter": [
           {
            "fillpattern": {
             "fillmode": "overlay",
             "size": 10,
             "solidity": 0.2
            },
            "type": "scatter"
           }
          ],
          "scatter3d": [
           {
            "line": {
             "colorbar": {
              "outlinewidth": 0,
              "ticks": ""
             }
            },
            "marker": {
             "colorbar": {
              "outlinewidth": 0,
              "ticks": ""
             }
            },
            "type": "scatter3d"
           }
          ],
          "scattercarpet": [
           {
            "marker": {
             "colorbar": {
              "outlinewidth": 0,
              "ticks": ""
             }
            },
            "type": "scattercarpet"
           }
          ],
          "scattergeo": [
           {
            "marker": {
             "colorbar": {
              "outlinewidth": 0,
              "ticks": ""
             }
            },
            "type": "scattergeo"
           }
          ],
          "scattergl": [
           {
            "marker": {
             "colorbar": {
              "outlinewidth": 0,
              "ticks": ""
             }
            },
            "type": "scattergl"
           }
          ],
          "scattermapbox": [
           {
            "marker": {
             "colorbar": {
              "outlinewidth": 0,
              "ticks": ""
             }
            },
            "type": "scattermapbox"
           }
          ],
          "scatterpolar": [
           {
            "marker": {
             "colorbar": {
              "outlinewidth": 0,
              "ticks": ""
             }
            },
            "type": "scatterpolar"
           }
          ],
          "scatterpolargl": [
           {
            "marker": {
             "colorbar": {
              "outlinewidth": 0,
              "ticks": ""
             }
            },
            "type": "scatterpolargl"
           }
          ],
          "scatterternary": [
           {
            "marker": {
             "colorbar": {
              "outlinewidth": 0,
              "ticks": ""
             }
            },
            "type": "scatterternary"
           }
          ],
          "surface": [
           {
            "colorbar": {
             "outlinewidth": 0,
             "ticks": ""
            },
            "colorscale": [
             [
              0,
              "#0d0887"
             ],
             [
              0.1111111111111111,
              "#46039f"
             ],
             [
              0.2222222222222222,
              "#7201a8"
             ],
             [
              0.3333333333333333,
              "#9c179e"
             ],
             [
              0.4444444444444444,
              "#bd3786"
             ],
             [
              0.5555555555555556,
              "#d8576b"
             ],
             [
              0.6666666666666666,
              "#ed7953"
             ],
             [
              0.7777777777777778,
              "#fb9f3a"
             ],
             [
              0.8888888888888888,
              "#fdca26"
             ],
             [
              1,
              "#f0f921"
             ]
            ],
            "type": "surface"
           }
          ],
          "table": [
           {
            "cells": {
             "fill": {
              "color": "#EBF0F8"
             },
             "line": {
              "color": "white"
             }
            },
            "header": {
             "fill": {
              "color": "#C8D4E3"
             },
             "line": {
              "color": "white"
             }
            },
            "type": "table"
           }
          ]
         },
         "layout": {
          "annotationdefaults": {
           "arrowcolor": "#2a3f5f",
           "arrowhead": 0,
           "arrowwidth": 1
          },
          "autotypenumbers": "strict",
          "coloraxis": {
           "colorbar": {
            "outlinewidth": 0,
            "ticks": ""
           }
          },
          "colorscale": {
           "diverging": [
            [
             0,
             "#8e0152"
            ],
            [
             0.1,
             "#c51b7d"
            ],
            [
             0.2,
             "#de77ae"
            ],
            [
             0.3,
             "#f1b6da"
            ],
            [
             0.4,
             "#fde0ef"
            ],
            [
             0.5,
             "#f7f7f7"
            ],
            [
             0.6,
             "#e6f5d0"
            ],
            [
             0.7,
             "#b8e186"
            ],
            [
             0.8,
             "#7fbc41"
            ],
            [
             0.9,
             "#4d9221"
            ],
            [
             1,
             "#276419"
            ]
           ],
           "sequential": [
            [
             0,
             "#0d0887"
            ],
            [
             0.1111111111111111,
             "#46039f"
            ],
            [
             0.2222222222222222,
             "#7201a8"
            ],
            [
             0.3333333333333333,
             "#9c179e"
            ],
            [
             0.4444444444444444,
             "#bd3786"
            ],
            [
             0.5555555555555556,
             "#d8576b"
            ],
            [
             0.6666666666666666,
             "#ed7953"
            ],
            [
             0.7777777777777778,
             "#fb9f3a"
            ],
            [
             0.8888888888888888,
             "#fdca26"
            ],
            [
             1,
             "#f0f921"
            ]
           ],
           "sequentialminus": [
            [
             0,
             "#0d0887"
            ],
            [
             0.1111111111111111,
             "#46039f"
            ],
            [
             0.2222222222222222,
             "#7201a8"
            ],
            [
             0.3333333333333333,
             "#9c179e"
            ],
            [
             0.4444444444444444,
             "#bd3786"
            ],
            [
             0.5555555555555556,
             "#d8576b"
            ],
            [
             0.6666666666666666,
             "#ed7953"
            ],
            [
             0.7777777777777778,
             "#fb9f3a"
            ],
            [
             0.8888888888888888,
             "#fdca26"
            ],
            [
             1,
             "#f0f921"
            ]
           ]
          },
          "colorway": [
           "#636efa",
           "#EF553B",
           "#00cc96",
           "#ab63fa",
           "#FFA15A",
           "#19d3f3",
           "#FF6692",
           "#B6E880",
           "#FF97FF",
           "#FECB52"
          ],
          "font": {
           "color": "#2a3f5f"
          },
          "geo": {
           "bgcolor": "white",
           "lakecolor": "white",
           "landcolor": "#E5ECF6",
           "showlakes": true,
           "showland": true,
           "subunitcolor": "white"
          },
          "hoverlabel": {
           "align": "left"
          },
          "hovermode": "closest",
          "mapbox": {
           "style": "light"
          },
          "paper_bgcolor": "white",
          "plot_bgcolor": "#E5ECF6",
          "polar": {
           "angularaxis": {
            "gridcolor": "white",
            "linecolor": "white",
            "ticks": ""
           },
           "bgcolor": "#E5ECF6",
           "radialaxis": {
            "gridcolor": "white",
            "linecolor": "white",
            "ticks": ""
           }
          },
          "scene": {
           "xaxis": {
            "backgroundcolor": "#E5ECF6",
            "gridcolor": "white",
            "gridwidth": 2,
            "linecolor": "white",
            "showbackground": true,
            "ticks": "",
            "zerolinecolor": "white"
           },
           "yaxis": {
            "backgroundcolor": "#E5ECF6",
            "gridcolor": "white",
            "gridwidth": 2,
            "linecolor": "white",
            "showbackground": true,
            "ticks": "",
            "zerolinecolor": "white"
           },
           "zaxis": {
            "backgroundcolor": "#E5ECF6",
            "gridcolor": "white",
            "gridwidth": 2,
            "linecolor": "white",
            "showbackground": true,
            "ticks": "",
            "zerolinecolor": "white"
           }
          },
          "shapedefaults": {
           "line": {
            "color": "#2a3f5f"
           }
          },
          "ternary": {
           "aaxis": {
            "gridcolor": "white",
            "linecolor": "white",
            "ticks": ""
           },
           "baxis": {
            "gridcolor": "white",
            "linecolor": "white",
            "ticks": ""
           },
           "bgcolor": "#E5ECF6",
           "caxis": {
            "gridcolor": "white",
            "linecolor": "white",
            "ticks": ""
           }
          },
          "title": {
           "x": 0.05
          },
          "xaxis": {
           "automargin": true,
           "gridcolor": "white",
           "linecolor": "white",
           "ticks": "",
           "title": {
            "standoff": 15
           },
           "zerolinecolor": "white",
           "zerolinewidth": 2
          },
          "yaxis": {
           "automargin": true,
           "gridcolor": "white",
           "linecolor": "white",
           "ticks": "",
           "title": {
            "standoff": 15
           },
           "zerolinecolor": "white",
           "zerolinewidth": 2
          }
         }
        },
        "title": {
         "text": "Energía eólica por país a través de los años"
        },
        "width": 1000,
        "xaxis": {
         "anchor": "y",
         "domain": [
          0,
          1
         ],
         "range": [
          2004,
          2020
         ],
         "title": {
          "text": "Año"
         }
        },
        "yaxis": {
         "anchor": "x",
         "domain": [
          0,
          1
         ],
         "range": [
          0,
          80
         ],
         "title": {
          "text": "Energía eólica (teravatios-hora)"
         }
        }
       }
      }
     },
     "metadata": {},
     "output_type": "display_data"
    }
   ],
   "source": [
    "fig = px.line(desarrollo_biofuel,x='year',\n",
    "    y='biofuel_electricity',\n",
    "    color='country',\n",
    "    line_dash='country',\n",
    "    line_group='country',\n",
    "    labels={'biofuel_electricity': 'biofuel Electricity', 'year': 'Year'},\n",
    "    title='Energía eólica por país a través de los años')\n",
    "fig.update_layout(\n",
    "    xaxis_title='Año',\n",
    "    yaxis_title='Energía eólica (teravatios-hora)',\n",
    "    width=1000,\n",
    "    height=600,\n",
    "    plot_bgcolor='white',\n",
    "    showlegend=True,\n",
    "    yaxis=dict(range=[0, 80]),\n",
    "    xaxis=dict(range=[2004, desarrollo_biofuel['year'].max()])\n",
    ")\n",
    "fig.update_traces(line_shape='linear', line_simplify=True)\n",
    "fig.show()"
   ]
  },
  {
   "cell_type": "code",
   "execution_count": 37,
   "metadata": {},
   "outputs": [
    {
     "name": "stdout",
     "output_type": "stream",
     "text": [
      "['Argentina' 'Bolivia' 'Brazil' 'Chile' 'Colombia' 'Ecuador'\n",
      " 'French Guiana' 'Guyana' 'Paraguay' 'Peru' 'Suriname'\n",
      " 'Trinidad and Tobago' 'Uruguay' 'Venezuela']\n"
     ]
    }
   ],
   "source": [
    "electrica['country'] = electrica['country'].astype(str)\n",
    "unique_countries = electrica['country'].unique()\n",
    "print(unique_countries)"
   ]
  },
  {
   "cell_type": "code",
   "execution_count": 38,
   "metadata": {},
   "outputs": [
    {
     "data": {
      "application/vnd.plotly.v1+json": {
       "config": {
        "plotlyServerURL": "https://plot.ly"
       },
       "data": [
        {
         "geo": "geo",
         "hovertemplate": "country=%{location}<extra></extra>",
         "legendgroup": "",
         "locationmode": "country names",
         "locations": [
          "Argentina",
          "Argentina",
          "Argentina",
          "Argentina",
          "Argentina",
          "Argentina",
          "Argentina",
          "Argentina",
          "Argentina",
          "Argentina",
          "Argentina",
          "Argentina",
          "Argentina",
          "Argentina",
          "Argentina",
          "Argentina",
          "Argentina",
          "Argentina",
          "Argentina",
          "Argentina",
          "Argentina",
          "Argentina",
          "Argentina",
          "Bolivia",
          "Bolivia",
          "Bolivia",
          "Bolivia",
          "Bolivia",
          "Bolivia",
          "Bolivia",
          "Bolivia",
          "Bolivia",
          "Bolivia",
          "Bolivia",
          "Bolivia",
          "Bolivia",
          "Bolivia",
          "Bolivia",
          "Bolivia",
          "Bolivia",
          "Bolivia",
          "Bolivia",
          "Bolivia",
          "Bolivia",
          "Bolivia",
          "Bolivia",
          "Brazil",
          "Brazil",
          "Brazil",
          "Brazil",
          "Brazil",
          "Brazil",
          "Brazil",
          "Brazil",
          "Brazil",
          "Brazil",
          "Brazil",
          "Brazil",
          "Brazil",
          "Brazil",
          "Brazil",
          "Brazil",
          "Brazil",
          "Brazil",
          "Brazil",
          "Brazil",
          "Brazil",
          "Brazil",
          "Brazil",
          "Chile",
          "Chile",
          "Chile",
          "Chile",
          "Chile",
          "Chile",
          "Chile",
          "Chile",
          "Chile",
          "Chile",
          "Chile",
          "Chile",
          "Chile",
          "Chile",
          "Chile",
          "Chile",
          "Chile",
          "Chile",
          "Chile",
          "Chile",
          "Chile",
          "Chile",
          "Chile",
          "Colombia",
          "Colombia",
          "Colombia",
          "Colombia",
          "Colombia",
          "Colombia",
          "Colombia",
          "Colombia",
          "Colombia",
          "Colombia",
          "Colombia",
          "Colombia",
          "Colombia",
          "Colombia",
          "Colombia",
          "Colombia",
          "Colombia",
          "Colombia",
          "Colombia",
          "Colombia",
          "Colombia",
          "Colombia",
          "Colombia",
          "Ecuador",
          "Ecuador",
          "Ecuador",
          "Ecuador",
          "Ecuador",
          "Ecuador",
          "Ecuador",
          "Ecuador",
          "Ecuador",
          "Ecuador",
          "Ecuador",
          "Ecuador",
          "Ecuador",
          "Ecuador",
          "Ecuador",
          "Ecuador",
          "Ecuador",
          "Ecuador",
          "Ecuador",
          "Ecuador",
          "Ecuador",
          "Ecuador",
          "French Guiana",
          "French Guiana",
          "French Guiana",
          "French Guiana",
          "French Guiana",
          "French Guiana",
          "French Guiana",
          "French Guiana",
          "French Guiana",
          "French Guiana",
          "French Guiana",
          "French Guiana",
          "French Guiana",
          "French Guiana",
          "French Guiana",
          "French Guiana",
          "French Guiana",
          "French Guiana",
          "French Guiana",
          "French Guiana",
          "French Guiana",
          "French Guiana",
          "Guyana",
          "Guyana",
          "Guyana",
          "Guyana",
          "Guyana",
          "Guyana",
          "Guyana",
          "Guyana",
          "Guyana",
          "Guyana",
          "Guyana",
          "Guyana",
          "Guyana",
          "Guyana",
          "Guyana",
          "Guyana",
          "Guyana",
          "Guyana",
          "Guyana",
          "Guyana",
          "Guyana",
          "Guyana",
          "Paraguay",
          "Paraguay",
          "Paraguay",
          "Paraguay",
          "Paraguay",
          "Paraguay",
          "Paraguay",
          "Paraguay",
          "Paraguay",
          "Paraguay",
          "Paraguay",
          "Paraguay",
          "Paraguay",
          "Paraguay",
          "Paraguay",
          "Paraguay",
          "Paraguay",
          "Paraguay",
          "Paraguay",
          "Paraguay",
          "Paraguay",
          "Paraguay",
          "Peru",
          "Peru",
          "Peru",
          "Peru",
          "Peru",
          "Peru",
          "Peru",
          "Peru",
          "Peru",
          "Peru",
          "Peru",
          "Peru",
          "Peru",
          "Peru",
          "Peru",
          "Peru",
          "Peru",
          "Peru",
          "Peru",
          "Peru",
          "Peru",
          "Peru",
          "Peru",
          "Suriname",
          "Suriname",
          "Suriname",
          "Suriname",
          "Suriname",
          "Suriname",
          "Suriname",
          "Suriname",
          "Suriname",
          "Suriname",
          "Suriname",
          "Suriname",
          "Suriname",
          "Suriname",
          "Suriname",
          "Suriname",
          "Suriname",
          "Suriname",
          "Suriname",
          "Suriname",
          "Suriname",
          "Suriname",
          "Trinidad and Tobago",
          "Trinidad and Tobago",
          "Trinidad and Tobago",
          "Trinidad and Tobago",
          "Trinidad and Tobago",
          "Trinidad and Tobago",
          "Trinidad and Tobago",
          "Trinidad and Tobago",
          "Trinidad and Tobago",
          "Trinidad and Tobago",
          "Trinidad and Tobago",
          "Trinidad and Tobago",
          "Trinidad and Tobago",
          "Trinidad and Tobago",
          "Trinidad and Tobago",
          "Trinidad and Tobago",
          "Trinidad and Tobago",
          "Trinidad and Tobago",
          "Trinidad and Tobago",
          "Trinidad and Tobago",
          "Trinidad and Tobago",
          "Trinidad and Tobago",
          "Uruguay",
          "Uruguay",
          "Uruguay",
          "Uruguay",
          "Uruguay",
          "Uruguay",
          "Uruguay",
          "Uruguay",
          "Uruguay",
          "Uruguay",
          "Uruguay",
          "Uruguay",
          "Uruguay",
          "Uruguay",
          "Uruguay",
          "Uruguay",
          "Uruguay",
          "Uruguay",
          "Uruguay",
          "Uruguay",
          "Uruguay",
          "Uruguay",
          "Uruguay",
          "Venezuela",
          "Venezuela",
          "Venezuela",
          "Venezuela",
          "Venezuela",
          "Venezuela",
          "Venezuela",
          "Venezuela",
          "Venezuela",
          "Venezuela",
          "Venezuela",
          "Venezuela",
          "Venezuela",
          "Venezuela",
          "Venezuela",
          "Venezuela",
          "Venezuela",
          "Venezuela",
          "Venezuela",
          "Venezuela",
          "Venezuela",
          "Venezuela"
         ],
         "marker": {
          "color": "#636efa",
          "symbol": "circle"
         },
         "mode": "markers",
         "name": "",
         "showlegend": false,
         "type": "scattergeo"
        }
       ],
       "layout": {
        "geo": {
         "center": {},
         "domain": {
          "x": [
           0,
           1
          ],
          "y": [
           0,
           1
          ]
         },
         "projection": {
          "scale": 5,
          "type": "natural earth"
         },
         "showcoastlines": false,
         "showframe": false
        },
        "legend": {
         "tracegroupgap": 0
        },
        "margin": {
         "b": 0,
         "l": 0,
         "r": 0,
         "t": 0
        },
        "template": {
         "data": {
          "bar": [
           {
            "error_x": {
             "color": "#2a3f5f"
            },
            "error_y": {
             "color": "#2a3f5f"
            },
            "marker": {
             "line": {
              "color": "#E5ECF6",
              "width": 0.5
             },
             "pattern": {
              "fillmode": "overlay",
              "size": 10,
              "solidity": 0.2
             }
            },
            "type": "bar"
           }
          ],
          "barpolar": [
           {
            "marker": {
             "line": {
              "color": "#E5ECF6",
              "width": 0.5
             },
             "pattern": {
              "fillmode": "overlay",
              "size": 10,
              "solidity": 0.2
             }
            },
            "type": "barpolar"
           }
          ],
          "carpet": [
           {
            "aaxis": {
             "endlinecolor": "#2a3f5f",
             "gridcolor": "white",
             "linecolor": "white",
             "minorgridcolor": "white",
             "startlinecolor": "#2a3f5f"
            },
            "baxis": {
             "endlinecolor": "#2a3f5f",
             "gridcolor": "white",
             "linecolor": "white",
             "minorgridcolor": "white",
             "startlinecolor": "#2a3f5f"
            },
            "type": "carpet"
           }
          ],
          "choropleth": [
           {
            "colorbar": {
             "outlinewidth": 0,
             "ticks": ""
            },
            "type": "choropleth"
           }
          ],
          "contour": [
           {
            "colorbar": {
             "outlinewidth": 0,
             "ticks": ""
            },
            "colorscale": [
             [
              0,
              "#0d0887"
             ],
             [
              0.1111111111111111,
              "#46039f"
             ],
             [
              0.2222222222222222,
              "#7201a8"
             ],
             [
              0.3333333333333333,
              "#9c179e"
             ],
             [
              0.4444444444444444,
              "#bd3786"
             ],
             [
              0.5555555555555556,
              "#d8576b"
             ],
             [
              0.6666666666666666,
              "#ed7953"
             ],
             [
              0.7777777777777778,
              "#fb9f3a"
             ],
             [
              0.8888888888888888,
              "#fdca26"
             ],
             [
              1,
              "#f0f921"
             ]
            ],
            "type": "contour"
           }
          ],
          "contourcarpet": [
           {
            "colorbar": {
             "outlinewidth": 0,
             "ticks": ""
            },
            "type": "contourcarpet"
           }
          ],
          "heatmap": [
           {
            "colorbar": {
             "outlinewidth": 0,
             "ticks": ""
            },
            "colorscale": [
             [
              0,
              "#0d0887"
             ],
             [
              0.1111111111111111,
              "#46039f"
             ],
             [
              0.2222222222222222,
              "#7201a8"
             ],
             [
              0.3333333333333333,
              "#9c179e"
             ],
             [
              0.4444444444444444,
              "#bd3786"
             ],
             [
              0.5555555555555556,
              "#d8576b"
             ],
             [
              0.6666666666666666,
              "#ed7953"
             ],
             [
              0.7777777777777778,
              "#fb9f3a"
             ],
             [
              0.8888888888888888,
              "#fdca26"
             ],
             [
              1,
              "#f0f921"
             ]
            ],
            "type": "heatmap"
           }
          ],
          "heatmapgl": [
           {
            "colorbar": {
             "outlinewidth": 0,
             "ticks": ""
            },
            "colorscale": [
             [
              0,
              "#0d0887"
             ],
             [
              0.1111111111111111,
              "#46039f"
             ],
             [
              0.2222222222222222,
              "#7201a8"
             ],
             [
              0.3333333333333333,
              "#9c179e"
             ],
             [
              0.4444444444444444,
              "#bd3786"
             ],
             [
              0.5555555555555556,
              "#d8576b"
             ],
             [
              0.6666666666666666,
              "#ed7953"
             ],
             [
              0.7777777777777778,
              "#fb9f3a"
             ],
             [
              0.8888888888888888,
              "#fdca26"
             ],
             [
              1,
              "#f0f921"
             ]
            ],
            "type": "heatmapgl"
           }
          ],
          "histogram": [
           {
            "marker": {
             "pattern": {
              "fillmode": "overlay",
              "size": 10,
              "solidity": 0.2
             }
            },
            "type": "histogram"
           }
          ],
          "histogram2d": [
           {
            "colorbar": {
             "outlinewidth": 0,
             "ticks": ""
            },
            "colorscale": [
             [
              0,
              "#0d0887"
             ],
             [
              0.1111111111111111,
              "#46039f"
             ],
             [
              0.2222222222222222,
              "#7201a8"
             ],
             [
              0.3333333333333333,
              "#9c179e"
             ],
             [
              0.4444444444444444,
              "#bd3786"
             ],
             [
              0.5555555555555556,
              "#d8576b"
             ],
             [
              0.6666666666666666,
              "#ed7953"
             ],
             [
              0.7777777777777778,
              "#fb9f3a"
             ],
             [
              0.8888888888888888,
              "#fdca26"
             ],
             [
              1,
              "#f0f921"
             ]
            ],
            "type": "histogram2d"
           }
          ],
          "histogram2dcontour": [
           {
            "colorbar": {
             "outlinewidth": 0,
             "ticks": ""
            },
            "colorscale": [
             [
              0,
              "#0d0887"
             ],
             [
              0.1111111111111111,
              "#46039f"
             ],
             [
              0.2222222222222222,
              "#7201a8"
             ],
             [
              0.3333333333333333,
              "#9c179e"
             ],
             [
              0.4444444444444444,
              "#bd3786"
             ],
             [
              0.5555555555555556,
              "#d8576b"
             ],
             [
              0.6666666666666666,
              "#ed7953"
             ],
             [
              0.7777777777777778,
              "#fb9f3a"
             ],
             [
              0.8888888888888888,
              "#fdca26"
             ],
             [
              1,
              "#f0f921"
             ]
            ],
            "type": "histogram2dcontour"
           }
          ],
          "mesh3d": [
           {
            "colorbar": {
             "outlinewidth": 0,
             "ticks": ""
            },
            "type": "mesh3d"
           }
          ],
          "parcoords": [
           {
            "line": {
             "colorbar": {
              "outlinewidth": 0,
              "ticks": ""
             }
            },
            "type": "parcoords"
           }
          ],
          "pie": [
           {
            "automargin": true,
            "type": "pie"
           }
          ],
          "scatter": [
           {
            "fillpattern": {
             "fillmode": "overlay",
             "size": 10,
             "solidity": 0.2
            },
            "type": "scatter"
           }
          ],
          "scatter3d": [
           {
            "line": {
             "colorbar": {
              "outlinewidth": 0,
              "ticks": ""
             }
            },
            "marker": {
             "colorbar": {
              "outlinewidth": 0,
              "ticks": ""
             }
            },
            "type": "scatter3d"
           }
          ],
          "scattercarpet": [
           {
            "marker": {
             "colorbar": {
              "outlinewidth": 0,
              "ticks": ""
             }
            },
            "type": "scattercarpet"
           }
          ],
          "scattergeo": [
           {
            "marker": {
             "colorbar": {
              "outlinewidth": 0,
              "ticks": ""
             }
            },
            "type": "scattergeo"
           }
          ],
          "scattergl": [
           {
            "marker": {
             "colorbar": {
              "outlinewidth": 0,
              "ticks": ""
             }
            },
            "type": "scattergl"
           }
          ],
          "scattermapbox": [
           {
            "marker": {
             "colorbar": {
              "outlinewidth": 0,
              "ticks": ""
             }
            },
            "type": "scattermapbox"
           }
          ],
          "scatterpolar": [
           {
            "marker": {
             "colorbar": {
              "outlinewidth": 0,
              "ticks": ""
             }
            },
            "type": "scatterpolar"
           }
          ],
          "scatterpolargl": [
           {
            "marker": {
             "colorbar": {
              "outlinewidth": 0,
              "ticks": ""
             }
            },
            "type": "scatterpolargl"
           }
          ],
          "scatterternary": [
           {
            "marker": {
             "colorbar": {
              "outlinewidth": 0,
              "ticks": ""
             }
            },
            "type": "scatterternary"
           }
          ],
          "surface": [
           {
            "colorbar": {
             "outlinewidth": 0,
             "ticks": ""
            },
            "colorscale": [
             [
              0,
              "#0d0887"
             ],
             [
              0.1111111111111111,
              "#46039f"
             ],
             [
              0.2222222222222222,
              "#7201a8"
             ],
             [
              0.3333333333333333,
              "#9c179e"
             ],
             [
              0.4444444444444444,
              "#bd3786"
             ],
             [
              0.5555555555555556,
              "#d8576b"
             ],
             [
              0.6666666666666666,
              "#ed7953"
             ],
             [
              0.7777777777777778,
              "#fb9f3a"
             ],
             [
              0.8888888888888888,
              "#fdca26"
             ],
             [
              1,
              "#f0f921"
             ]
            ],
            "type": "surface"
           }
          ],
          "table": [
           {
            "cells": {
             "fill": {
              "color": "#EBF0F8"
             },
             "line": {
              "color": "white"
             }
            },
            "header": {
             "fill": {
              "color": "#C8D4E3"
             },
             "line": {
              "color": "white"
             }
            },
            "type": "table"
           }
          ]
         },
         "layout": {
          "annotationdefaults": {
           "arrowcolor": "#2a3f5f",
           "arrowhead": 0,
           "arrowwidth": 1
          },
          "autotypenumbers": "strict",
          "coloraxis": {
           "colorbar": {
            "outlinewidth": 0,
            "ticks": ""
           }
          },
          "colorscale": {
           "diverging": [
            [
             0,
             "#8e0152"
            ],
            [
             0.1,
             "#c51b7d"
            ],
            [
             0.2,
             "#de77ae"
            ],
            [
             0.3,
             "#f1b6da"
            ],
            [
             0.4,
             "#fde0ef"
            ],
            [
             0.5,
             "#f7f7f7"
            ],
            [
             0.6,
             "#e6f5d0"
            ],
            [
             0.7,
             "#b8e186"
            ],
            [
             0.8,
             "#7fbc41"
            ],
            [
             0.9,
             "#4d9221"
            ],
            [
             1,
             "#276419"
            ]
           ],
           "sequential": [
            [
             0,
             "#0d0887"
            ],
            [
             0.1111111111111111,
             "#46039f"
            ],
            [
             0.2222222222222222,
             "#7201a8"
            ],
            [
             0.3333333333333333,
             "#9c179e"
            ],
            [
             0.4444444444444444,
             "#bd3786"
            ],
            [
             0.5555555555555556,
             "#d8576b"
            ],
            [
             0.6666666666666666,
             "#ed7953"
            ],
            [
             0.7777777777777778,
             "#fb9f3a"
            ],
            [
             0.8888888888888888,
             "#fdca26"
            ],
            [
             1,
             "#f0f921"
            ]
           ],
           "sequentialminus": [
            [
             0,
             "#0d0887"
            ],
            [
             0.1111111111111111,
             "#46039f"
            ],
            [
             0.2222222222222222,
             "#7201a8"
            ],
            [
             0.3333333333333333,
             "#9c179e"
            ],
            [
             0.4444444444444444,
             "#bd3786"
            ],
            [
             0.5555555555555556,
             "#d8576b"
            ],
            [
             0.6666666666666666,
             "#ed7953"
            ],
            [
             0.7777777777777778,
             "#fb9f3a"
            ],
            [
             0.8888888888888888,
             "#fdca26"
            ],
            [
             1,
             "#f0f921"
            ]
           ]
          },
          "colorway": [
           "#636efa",
           "#EF553B",
           "#00cc96",
           "#ab63fa",
           "#FFA15A",
           "#19d3f3",
           "#FF6692",
           "#B6E880",
           "#FF97FF",
           "#FECB52"
          ],
          "font": {
           "color": "#2a3f5f"
          },
          "geo": {
           "bgcolor": "white",
           "lakecolor": "white",
           "landcolor": "#E5ECF6",
           "showlakes": true,
           "showland": true,
           "subunitcolor": "white"
          },
          "hoverlabel": {
           "align": "left"
          },
          "hovermode": "closest",
          "mapbox": {
           "style": "light"
          },
          "paper_bgcolor": "white",
          "plot_bgcolor": "#E5ECF6",
          "polar": {
           "angularaxis": {
            "gridcolor": "white",
            "linecolor": "white",
            "ticks": ""
           },
           "bgcolor": "#E5ECF6",
           "radialaxis": {
            "gridcolor": "white",
            "linecolor": "white",
            "ticks": ""
           }
          },
          "scene": {
           "xaxis": {
            "backgroundcolor": "#E5ECF6",
            "gridcolor": "white",
            "gridwidth": 2,
            "linecolor": "white",
            "showbackground": true,
            "ticks": "",
            "zerolinecolor": "white"
           },
           "yaxis": {
            "backgroundcolor": "#E5ECF6",
            "gridcolor": "white",
            "gridwidth": 2,
            "linecolor": "white",
            "showbackground": true,
            "ticks": "",
            "zerolinecolor": "white"
           },
           "zaxis": {
            "backgroundcolor": "#E5ECF6",
            "gridcolor": "white",
            "gridwidth": 2,
            "linecolor": "white",
            "showbackground": true,
            "ticks": "",
            "zerolinecolor": "white"
           }
          },
          "shapedefaults": {
           "line": {
            "color": "#2a3f5f"
           }
          },
          "ternary": {
           "aaxis": {
            "gridcolor": "white",
            "linecolor": "white",
            "ticks": ""
           },
           "baxis": {
            "gridcolor": "white",
            "linecolor": "white",
            "ticks": ""
           },
           "bgcolor": "#E5ECF6",
           "caxis": {
            "gridcolor": "white",
            "linecolor": "white",
            "ticks": ""
           }
          },
          "title": {
           "x": 0.05
          },
          "xaxis": {
           "automargin": true,
           "gridcolor": "white",
           "linecolor": "white",
           "ticks": "",
           "title": {
            "standoff": 15
           },
           "zerolinecolor": "white",
           "zerolinewidth": 2
          },
          "yaxis": {
           "automargin": true,
           "gridcolor": "white",
           "linecolor": "white",
           "ticks": "",
           "title": {
            "standoff": 15
           },
           "zerolinecolor": "white",
           "zerolinewidth": 2
          }
         }
        },
        "title": {
         "text": "Ubicación de los Países"
        }
       }
      }
     },
     "metadata": {},
     "output_type": "display_data"
    }
   ],
   "source": [
    "\"%pip install plotly\"\n",
    "import plotly.express as px\n",
    "fig = px.scatter_geo(electrica,locations='country',locationmode='country names',title='Ubicación de los Países',projection='natural earth',color_continuous_scale='viridis',size_max=40,)\n",
    "fig.update_geos(projection_scale=5)\n",
    "fig.update_layout(geo=dict(showframe=False,showcoastlines=False,projection_scale=5,),margin=dict(l=0, r=0, t=0, b=0),)\n",
    "fig.show()"
   ]
  },
  {
   "cell_type": "markdown",
   "metadata": {},
   "source": [
    "## Columns and their description para el glosario\n",
    "\n",
    "column \tdescription\n",
    "iso_code \tISO 3166-1 alpha-3 three-letter country codes\n",
    "country \tGeographic location\n",
    "year \tYear of observation\n",
    "coal_prod_change_pct \tAnnual percentage change in coal production\n",
    "coal_prod_change_twh \tAnnual change in coal production, measured in terawatt-hours\n",
    "gas_prod_change_pct \tAnnual percentage change in gas production\n",
    "gas_prod_change_twh \tAnnual change in gas production, measured in terawatt-hours\n",
    "oil_prod_change_pct \tAnnual percentage change in oil production\n",
    "oil_prod_change_twh \tAnnual change in oil production, measured in terawatt-hours\n",
    "energy_cons_change_pct \tAnnual percentage change in primary energy consumption\n",
    "energy_cons_change_twh \tAnnual change in primary energy consumption, measured in terawatt-hours\n",
    "biofuel_share_elec \tShare of electricity consumption that comes from biofuels\n",
    "biofuel_cons_change_pct \tAnnual percentage change in biofuel consumption\n",
    "biofuel_share_energy \tShare of primary energy consumption that comes from biofuels\n",
    "biofuel_cons_change_twh \tAnnual change in biofuel consumption, measured in terawatt-hours\n",
    "biofuel_consumption \tPrimary energy consumption from biofuels, measured in terawatt-hours\n",
    "biofuel_elec_per_capita \tPer capita electricity consumption from biofuels, measured in kilowatt-hours\n",
    "biofuel_cons_per_capita \tPer capita primary energy consumption from biofuels, measured in kilowatt-hours\n",
    "carbon_intensity_elec \tCarbon intensity of electricity production, measured in grams of carbon dioxide emitted per kilowatt-hour\n",
    "coal_share_elec \tShare of electricity consumption that comes from coal\n",
    "coal_cons_change_pct \tAnnual percentage change in coal consumption\n",
    "coal_share_energy \tShare of primary energy consumption that comes from coal\n",
    "coal_cons_change_twh \tAnnual change in coal consumption, measured in terawatt-hours\n",
    "coal_consumption \tPrimary energy consumption from coal, measured in terawatt-hours\n",
    "coal_elec_per_capita \tPer capita electricity consumption from coal, measured in kilowatt-hours\n",
    "coal_cons_per_capita \tPer capita primary energy consumption from coal, measured in kilowatt-hours\n",
    "coal_production \tCoal production, measured in terawatt-hours\n",
    "coal_prod_per_capita \tPer capita coal production, measured in kilowatt-hours\n",
    "electricity_generation \tElectricity generation, measured in terawatt-hours\n",
    "biofuel_electricity \tElectricity generation from biofuels, measured in terawatt-hours\n",
    "coal_electricity \tElectricity generation from coal, measured in terawatt-hours\n",
    "fossil_electricity \tElectricity generation from fossil fuels, measured in terawatt-hours. This is the sum of electricity generation from coal, oil and gas.\n",
    "gas_electricity \tElectricity generation from gas, measured in terawatt-hours\n",
    "hydro_electricity \tElectricity generation from hydropower, measured in terawatt-hours\n",
    "nuclear_electricity \tElectricity generation from nuclear power, measured in terawatt-hours\n",
    "oil_electricity \tElectricity generation from oil, measured in terawatt-hours\n",
    "other_renewable_electricity \tElectricity generation from other renewable sources, measured in terawatt-hours\n",
    "other_renewable_exc_biofuel_electricity \tElectricity generation from other renewable sources excluding biofuels, measured in terawatt-hours\n",
    "renewables_electricity \tElectricity generation from renewables, measured in terawatt-hours\n",
    "solar_electricity \tElectricity generation from solar, measured in terawatt-hours\n",
    "wind_electricity \tElectricity generation from wind, measured in terawatt-hours\n",
    "energy_per_gdp \tEnergy consumption per unit of GDP. This is measured in kilowatt-hours per 2011 international-$.\n",
    "energy_per_capita \tPrimary energy consumption per capita, measured in kilowatt-hours per year\n",
    "fossil_cons_change_pct \tAnnual percentage change in fossil fuel consumption\n",
    "fossil_share_energy \tShare of primary energy consumption that comes from fossil fuels\n",
    "fossil_cons_change_twh \tAnnual change in fossil fuel consumption, measured in terawatt-hours\n",
    "fossil_fuel_consumption \tFossil fuel consumption, measured in terawatt-hours. This is the sum of primary energy from coal, oil and gas.\n",
    "fossil_energy_per_capita \tPer capita fossil fuel consumption, measured in kilowatt-hours. This is the sum of primary energy from coal, oil and gas.\n",
    "fossil_cons_per_capita \tPer capita fossil fuel consumption, measured in kilowatt-hours. This is the sum of primary energy from coal, oil and gas.\n",
    "fossil_share_elec \tShare of electricity consumption that comes from fossil fuels (coal, oil and gas combined)\n",
    "gas_share_elec \tShare of electricity consumption that comes from gas\n",
    "gas_cons_change_pct \tAnnual percentage change in gas consumption\n",
    "gas_share_energy \tShare of primary energy consumption that comes from gas\n",
    "gas_cons_change_twh \tAnnual change in gas consumption, measured in terawatt-hours\n",
    "gas_consumption \tPrimary energy consumption from gas, measured in terawatt-hours\n",
    "gas_elec_per_capita \tPer capita electricity consumption from gas, measured in kilowatt-hours\n",
    "gas_energy_per_capita \tPer capita primary energy consumption from gas, measured in kilowatt-hours\n",
    "gas_production \tGas production, measured in terawatt-hours\n",
    "gas_prod_per_capita \tPer capita gas production, measured in kilowatt-hours\n",
    "hydro_share_elec \tShare of electricity consumption that comes from hydropower\n",
    "hydro_cons_change_pct \tAnnual percentage change in hydropower consumption\n",
    "hydro_share_energy \tShare of primary energy consumption that comes from hydropower\n",
    "hydro_cons_change_twh \tAnnual change in hydropower consumption, measured in terawatt-hours\n",
    "hydro_consumption \tPrimary energy consumption from hydropower, measured in terawatt-hours\n",
    "hydro_elec_per_capita \tPer capita electricity consumption from hydropower, measured in kilowatt-hours\n",
    "hydro_energy_per_capita \tPer capita primary energy consumption from hydropower, measured in kilowatt-hours\n",
    "low_carbon_share_elec \tShare of electricity consumption that comes from low-carbon sources. This is the sum of electricity from renewables and nuclear\n",
    "low_carbon_electricity \tElectricity generation from low-carbon sources, measured in terawatt-hours. This is the sum of electricity generation from renewables and nuclear power\n",
    "low_carbon_elec_per_capita \tPer capita electricity consumption from low-carbon sources, measured in kilowatt-hours\n",
    "low_carbon_cons_change_pct \tAnnual percentage change in low-carbon energy consumption\n",
    "low_carbon_share_energy \tShare of primary energy consumption that comes from low-carbon sources. This is the sum of primary energy from renewables and nuclear\n",
    "low_carbon_cons_change_twh \tAnnual change in low-carbon energy consumption, measured in terawatt-hours\n",
    "low_carbon_consumption \tPrimary energy consumption from low-carbon sources, measured in terawatt-hours\n",
    "low_carbon_energy_per_capita \tPer capita primary energy consumption from low-carbon sources, measured in kilowatt-hours\n",
    "nuclear_share_elec \tShare of electricity consumption that comes from nuclear power\n",
    "nuclear_cons_change_pct \tAnnual percentage change in nuclear consumption\n",
    "nuclear_share_energy \tShare of primary energy consumption that comes from nuclear power\n",
    "nuclear_cons_change_twh \tAnnual change in nuclear consumption, measured in terawatt-hours\n",
    "nuclear_consumption \tPrimary energy consumption from nuclear power, measured in terawatt-hours\n",
    "nuclear_elec_per_capita \tPer capita electricity consumption from nuclear power, measured in kilowatt-hours\n",
    "nuclear_energy_per_capita \tPer capita primary energy consumption from nuclear, measured in kilowatt-hours\n",
    "oil_share_elec \tShare of electricity consumption that comes from oil\n",
    "oil_cons_change_pct \tAnnual percentage change in oil consumption\n",
    "oil_share_energy \tShare of primary energy consumption that comes from oil\n",
    "oil_cons_change_twh \tAnnual change in oil consumption, measured in terawatt-hours\n",
    "oil_consumption \tPrimary energy consumption from oil, measured in terawatt-hours\n",
    "oil_elec_per_capita \tPrimary energy consumption from oil, measured in terawatt-hours\n",
    "oil_energy_per_capita \tPer capita primary energy consumption from oil, measured in kilowatt-hours\n",
    "oil_production \tOil production, measured in terawatt-hours\n",
    "oil_prod_per_capita \tPer capita oil production, measured in kilowatt-hours\n",
    "other_renewables_elec_per_capita \tPer capita electricity consumption from other renewables, measured in kilowatt-hours\n",
    "other_renewables_share_elec \tShare of electricity consumption that comes from other renewables\n",
    "other_renewables_cons_change_pct \tAnnual percentage change in energy consumption from other renewables\n",
    "other_renewables_share_energy \tShare of primary energy consumption that comes from other renewables\n",
    "other_renewables_cons_change_twh \tAnnual change in other renewable consumption, measured in terawatt-hours\n",
    "other_renewable_consumption \tPrimary energy consumption from other renewables, measured in terawatt-hours\n",
    "other_renewables_energy_per_capita \tPer capita primary energy consumption from other renewables, measured in kilowatt-hours\n",
    "per_capita_electricity \tElectricity consumption per capita, measured in kilowatt-hours\n",
    "population \tTotal population\n",
    "primary_energy_consumption \tPrimary energy consumption, measured in terawatt-hours\n",
    "renewables_elec_per_capita \tPer capita primary energy consumption from renewables, measured in kilowatt-hours\n",
    "renewables_share_elec \tShare of electricity consumption that comes from renewables\n",
    "renewables_cons_change_pct \tAnnual percentage change in renewable energy consumption\n",
    "renewables_share_energy \tShare of primary energy consumption that comes from renewables\n",
    "renewables_cons_change_twh \tAnnual change in renewable energy consumption, measured in terawatt-hours\n",
    "renewables_consumption \tPrimary energy consumption from renewables, measured in terawatt-hours\n",
    "renewables_energy_per_capita \tPer capita electricity consumption from renewables, measured in kilowatt-hours\n",
    "solar_share_elec \tShare of electricity consumption that comes from solar\n",
    "solar_cons_change_pct \tAnnual percentage change in solar consumption\n",
    "solar_share_energy \tShare of primary energy consumption that comes from solar\n",
    "solar_cons_change_twh \tAnnual change in solar consumption, measured in terawatt-hours\n",
    "solar_consumption \tPrimary energy consumption from solar, measured in terawatt-hours\n",
    "solar_elec_per_capita \tPer capita electricity consumption from solar, measured in kilowatt-hours\n",
    "solar_energy_per_capita \tPer capita primary energy consumption from solar, measured in kilowatt-hours\n",
    "gdp \tTotal real gross domestic product, inflation-adjusted\n",
    "wind_share_elec \tShare of electricity consumption that comes from wind\n",
    "wind_cons_change_pct \tAnnual percentage change in wind consumption\n",
    "wind_share_energy \tShare of primary energy consumption that comes from wind\n",
    "wind_cons_change_twh \tAnnual change in wind consumption, measured in terawatt-hours\n",
    "wind_consumption \tPrimary energy consumption from wind, measured in terawatt-hours\n",
    "wind_elec_per_capita \tPer capita electricity consumption from wind, measured in kilowatt-hours\n",
    "wind_energy_per_capita \tPer capita primary energy consumption from wind, measured in kilowatt-hours"
   ]
  }
 ],
 "metadata": {
  "kernelspec": {
   "display_name": "Python 3 (ipykernel)",
   "language": "python",
   "name": "python3"
  },
  "language_info": {
   "codemirror_mode": {
    "name": "ipython",
    "version": 3
   },
   "file_extension": ".py",
   "mimetype": "text/x-python",
   "name": "python",
   "nbconvert_exporter": "python",
   "pygments_lexer": "ipython3",
   "version": "3.11.3"
  }
 },
 "nbformat": 4,
 "nbformat_minor": 2
}
