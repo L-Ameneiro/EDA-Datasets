{
 "cells": [
  {
   "cell_type": "code",
   "execution_count": 67,
   "metadata": {},
   "outputs": [],
   "source": [
    "# Se importan las librerías a usar\n",
    "import pandas as pd\n",
    "import numpy as np\n",
    "pd.set_option('display.max_rows', 500)\n",
    "pd.set_option('display.max_columns', 500)\n",
    "pd.set_option('display.width', 150)\n",
    "import matplotlib.pyplot as plt\n",
    "import seaborn as sns\n",
    "import plotly.express as px\n",
    "import warnings\n",
    "warnings.filterwarnings(\"ignore\")\n",
    "from sklearn.preprocessing import StandardScaler\n",
    "from sklearn.cluster import DBSCAN\n",
    "from sklearn.metrics import silhouette_score as ss\n",
    "import itertools"
   ]
  },
  {
   "cell_type": "markdown",
   "metadata": {},
   "source": [
    "# Estudio de la dependencia de combustibles fósiles\n",
    "## ¿De qué fuentes proviene la electricidad que consume cada país?"
   ]
  },
  {
   "cell_type": "markdown",
   "metadata": {},
   "source": [
    "La electricidad obtenida a partir de fuentes energéticas fósiles (gas, petróleo y carbón) conlleva un aumento en las emisiones de gases de efecto invernadero como el dióxido de carbono, fuertemente implicados en el cambio climático global. <br>\n",
    "Tanto las fuentes renovables (solar, eólica e hidroeléctrica) como la nuclear son consideradas bajas en carbono ya que no aumentan las emisiones de dióxido de carbono. <br>\n",
    "En el marco de los esfuerzos globales por reducir el impacto ambiental y la huella de carbono, se han firmado acuerdos internacionales que comprometen a los países en buscar una transición energética que permita reducir la dependencia de energías de origen fósil. <br>\n",
    "En este informe buscamos evaluar el nivel de dependencia de combustibles fósiles para electricidad de cada país del mundo, agrupándolos según las fuentes de las que proviene la electricidad que consumen.\n"
   ]
  },
  {
   "cell_type": "markdown",
   "metadata": {},
   "source": [
    "### **Objetivo:** Evaluar el nivel de dependencia de combustibles fósiles para electricidad de cada país del mundo <br>\n",
    "Se toman los datos promedio para cada país entre los años de 2010 a 2020 (para más detalles ver notebook EDA).<br>\n",
    "Se corre un modelo no supervisado usando un algoritmo DBSCAN. "
   ]
  },
  {
   "cell_type": "markdown",
   "metadata": {},
   "source": [
    "## 1. Importación y visualización de datos"
   ]
  },
  {
   "cell_type": "markdown",
   "metadata": {},
   "source": [
    "# ACLARAR UNIDADES"
   ]
  },
  {
   "cell_type": "markdown",
   "metadata": {},
   "source": [
    "Importamos el dataset. "
   ]
  },
  {
   "cell_type": "code",
   "execution_count": 68,
   "metadata": {},
   "outputs": [
    {
     "data": {
      "text/html": [
       "<div>\n",
       "<style scoped>\n",
       "    .dataframe tbody tr th:only-of-type {\n",
       "        vertical-align: middle;\n",
       "    }\n",
       "\n",
       "    .dataframe tbody tr th {\n",
       "        vertical-align: top;\n",
       "    }\n",
       "\n",
       "    .dataframe thead th {\n",
       "        text-align: right;\n",
       "    }\n",
       "</style>\n",
       "<table border=\"1\" class=\"dataframe\">\n",
       "  <thead>\n",
       "    <tr style=\"text-align: right;\">\n",
       "      <th></th>\n",
       "      <th>country</th>\n",
       "      <th>population</th>\n",
       "      <th>low_carbon_share_elec</th>\n",
       "      <th>fossil_share_elec</th>\n",
       "      <th>renewables_share_elec</th>\n",
       "      <th>nuclear_share_elec</th>\n",
       "      <th>fossil_cons_per_capita</th>\n",
       "      <th>per_capita_electricity</th>\n",
       "      <th>continente</th>\n",
       "      <th>iso_code</th>\n",
       "    </tr>\n",
       "  </thead>\n",
       "  <tbody>\n",
       "    <tr>\n",
       "      <th>0</th>\n",
       "      <td>Afghanistan</td>\n",
       "      <td>34.247333</td>\n",
       "      <td>83.543444</td>\n",
       "      <td>16.456556</td>\n",
       "      <td>83.543444</td>\n",
       "      <td>0.0</td>\n",
       "      <td>5.156111</td>\n",
       "      <td>31.813000</td>\n",
       "      <td>Asia</td>\n",
       "      <td>AFG</td>\n",
       "    </tr>\n",
       "    <tr>\n",
       "      <th>1</th>\n",
       "      <td>Albania</td>\n",
       "      <td>2.896444</td>\n",
       "      <td>99.851444</td>\n",
       "      <td>0.148556</td>\n",
       "      <td>99.851444</td>\n",
       "      <td>0.0</td>\n",
       "      <td>2.103889</td>\n",
       "      <td>1998.432000</td>\n",
       "      <td>Europa</td>\n",
       "      <td>ALB</td>\n",
       "    </tr>\n",
       "    <tr>\n",
       "      <th>2</th>\n",
       "      <td>Algeria</td>\n",
       "      <td>39.784222</td>\n",
       "      <td>0.766333</td>\n",
       "      <td>99.233667</td>\n",
       "      <td>0.766333</td>\n",
       "      <td>0.0</td>\n",
       "      <td>1568.103333</td>\n",
       "      <td>1580.157222</td>\n",
       "      <td>África</td>\n",
       "      <td>DZA</td>\n",
       "    </tr>\n",
       "    <tr>\n",
       "      <th>3</th>\n",
       "      <td>American Samoa</td>\n",
       "      <td>0.055778</td>\n",
       "      <td>0.000000</td>\n",
       "      <td>100.000000</td>\n",
       "      <td>0.000000</td>\n",
       "      <td>0.0</td>\n",
       "      <td>2888.744333</td>\n",
       "      <td>2888.744333</td>\n",
       "      <td>Oceanía</td>\n",
       "      <td>ASM</td>\n",
       "    </tr>\n",
       "    <tr>\n",
       "      <th>4</th>\n",
       "      <td>Angola</td>\n",
       "      <td>27.940556</td>\n",
       "      <td>65.673556</td>\n",
       "      <td>34.326444</td>\n",
       "      <td>65.673556</td>\n",
       "      <td>0.0</td>\n",
       "      <td>110.650000</td>\n",
       "      <td>326.007889</td>\n",
       "      <td>África</td>\n",
       "      <td>AGO</td>\n",
       "    </tr>\n",
       "  </tbody>\n",
       "</table>\n",
       "</div>"
      ],
      "text/plain": [
       "          country  population  low_carbon_share_elec  fossil_share_elec  renewables_share_elec  nuclear_share_elec  fossil_cons_per_capita  \\\n",
       "0     Afghanistan   34.247333              83.543444          16.456556              83.543444                 0.0                5.156111   \n",
       "1         Albania    2.896444              99.851444           0.148556              99.851444                 0.0                2.103889   \n",
       "2         Algeria   39.784222               0.766333          99.233667               0.766333                 0.0             1568.103333   \n",
       "3  American Samoa    0.055778               0.000000         100.000000               0.000000                 0.0             2888.744333   \n",
       "4          Angola   27.940556              65.673556          34.326444              65.673556                 0.0              110.650000   \n",
       "\n",
       "   per_capita_electricity continente iso_code  \n",
       "0               31.813000       Asia      AFG  \n",
       "1             1998.432000     Europa      ALB  \n",
       "2             1580.157222     África      DZA  \n",
       "3             2888.744333    Oceanía      ASM  \n",
       "4              326.007889     África      AGO  "
      ]
     },
     "execution_count": 68,
     "metadata": {},
     "output_type": "execute_result"
    }
   ],
   "source": [
    "df = pd.read_csv(r\"../datasets/wec_ns.csv\")\n",
    "df.head(5)"
   ]
  },
  {
   "cell_type": "code",
   "execution_count": 69,
   "metadata": {},
   "outputs": [
    {
     "data": {
      "application/vnd.plotly.v1+json": {
       "config": {
        "plotlyServerURL": "https://plot.ly"
       },
       "data": [
        {
         "hovertemplate": "x=%{x}<br>y=%{y}<extra></extra>",
         "legendgroup": "",
         "marker": {
          "color": "#636efa",
          "symbol": "circle"
         },
         "mode": "markers",
         "name": "",
         "orientation": "v",
         "showlegend": false,
         "type": "scatter",
         "x": [
          16.456555555555557,
          0.1485555555555555,
          99.23366666666666,
          100,
          34.32644444444444,
          98.428,
          70.0337,
          38.47766666666666,
          83.923,
          83.8751,
          23.5791,
          91.5288,
          99.89611111111113,
          99.97422222222222,
          98.2078,
          98.11766666666666,
          98.4342,
          35.095600000000005,
          3.486,
          97.20155555555556,
          100,
          0.0053333333333333,
          68.279,
          65.77000000000001,
          99.835,
          16.4672,
          98.95644444444444,
          99.95833333333331,
          49.8054,
          84.74611111111112,
          19.567666666666668,
          53.31588888888889,
          33.528,
          18.9445,
          99.16322222222225,
          3.711555555555556,
          98.18711111111112,
          56.2971,
          72.8477,
          26.2103,
          96.693,
          52.891777777777776,
          88.74122222222223,
          4.2176,
          36.699,
          95.98866666666667,
          91.9099,
          55.1664,
          0.2092222222222222,
          39.1135,
          99.17055555555557,
          67.6861111111111,
          87.84455555555556,
          38.18088888888889,
          90.07766666666666,
          35.99322222222222,
          72.59733333333332,
          96.385,
          84.0197,
          0.1095555555555555,
          41.18055555555556,
          23.7291,
          9.3107,
          39.60566666666667,
          65.50555555555555,
          56.95822222222223,
          98.86644444444444,
          20.00411111111111,
          55.4245,
          41.055,
          100,
          74.1346,
          19.374,
          98.34211111111112,
          87.07044444444445,
          98.07744444444444,
          35.10355555555556,
          47.098,
          97.94722222222222,
          97.984,
          85.04488888888889,
          46.40266666666667,
          99.80655555555556,
          40.2919,
          0.0155555555555555,
          78.1647,
          86.41511111111112,
          92.3822,
          94.83922222222222,
          72.1935,
          97.924,
          62.3597,
          90.85177777777776,
          77.60979999999999,
          95.61366666666667,
          89.6234,
          20.162222222222223,
          89.66966666666667,
          99.93866666666666,
          8.576,
          17.049777777777777,
          43.2924,
          96.52544444444445,
          0,
          99.68144444444444,
          99.97566666666664,
          46.7314,
          56.6742,
          55.30322222222222,
          8.765444444444446,
          87.36988888888888,
          99.54444444444444,
          47.44844444444445,
          92.9048,
          97.20222222222222,
          70.80711111111111,
          78.19788888888888,
          79.8644,
          93.91355555555556,
          95.1462,
          44.25055555555556,
          100,
          84.65977777777778,
          9.87388888888889,
          2.4036666666666666,
          100,
          0.0948888888888889,
          81.9447,
          84.97566666666665,
          20.002,
          47.19566666666666,
          98.537,
          79.5889,
          100,
          23.00711111111111,
          1.889,
          99.99255555555555,
          61.846900000000005,
          99.96222222222222,
          33.107,
          72.76366666666667,
          0.0038888888888888,
          42.2506,
          74.151,
          87.2083,
          48.7857,
          95.7427777777778,
          99.67888888888888,
          44.0267,
          64.4186,
          51.29911111111111,
          100,
          96.2431111111111,
          99.68933333333332,
          98.50744444444445,
          84.62644444444445,
          69.15344444444445,
          91.07566666666668,
          99.97277777777778,
          88.92477777777778,
          71.2041,
          98.97966666666667,
          31.326,
          96.8428,
          21.8467,
          32.3678,
          94.55577777777778,
          97.37977777777778,
          91.3964,
          69.0626,
          99.513625,
          42.6884,
          57.666777777777774,
          31.48133333333333,
          55.224222222222224,
          2.3696,
          1.1187,
          92.811,
          81.49170000000001,
          3.1754,
          64.15833333333333,
          87.4165,
          60.49455555555556,
          100,
          99.94877777777778,
          97.0688,
          67.535,
          99.9858888888889,
          100,
          10.60288888888889,
          42.8171,
          99.35711111111112,
          55.9153,
          65.32570000000001,
          98.98933333333332,
          10.3349,
          88.25055555555555,
          85.23422222222221,
          36.37155555555555,
          60.7851,
          95.22644444444444,
          6.320333333333333,
          44.057
         ],
         "xaxis": "x",
         "y": [
          83.54344444444445,
          99.85144444444444,
          0.7663333333333333,
          0,
          65.67355555555555,
          1.572,
          24.9565,
          31.018000000000004,
          16.076999999999998,
          16.1249,
          76.4209,
          8.4712,
          0.1038888888888888,
          0.0257777777777777,
          1.7922,
          1.8823333333333327,
          1.5658,
          18.0854,
          96.514,
          2.7984444444444443,
          0,
          99.99466666666666,
          31.721,
          34.230000000000004,
          0.165,
          80.964,
          1.0435555555555556,
          0.0416666666666666,
          15.3273,
          15.253888888888888,
          80.43233333333335,
          46.68411111111111,
          66.47200000000001,
          66.18379999999999,
          0.8367777777777778,
          96.28844444444444,
          1.8128888888888888,
          43.7029,
          23.9109,
          73.7897,
          3.307,
          47.108222222222224,
          11.258777777777778,
          95.7824,
          63.301,
          4.011333333333334,
          8.0901,
          10.7191,
          99.79077777777778,
          60.8865,
          0.8294444444444444,
          32.31388888888889,
          12.155444444444443,
          61.81911111111111,
          9.922333333333334,
          64.00677777777778,
          27.402666666666665,
          3.615,
          15.9803,
          99.89044444444444,
          58.81944444444444,
          42.66,
          17.3772,
          60.39433333333333,
          34.49444444444444,
          43.041777777777774,
          1.1335555555555556,
          79.99588888888889,
          30.6145,
          58.945,
          0,
          25.8654,
          80.626,
          1.6578888888888887,
          12.929555555555556,
          1.922555555555556,
          64.89644444444444,
          52.902,
          2.052777777777778,
          2.016,
          14.955111111111112,
          53.59733333333334,
          0.1934444444444444,
          10.7023,
          99.98444444444443,
          18.6021,
          13.58488888888889,
          6.1158,
          5.160777777777778,
          27.8065,
          2.076,
          37.6403,
          9.148222222222223,
          18.781,
          4.386333333333333,
          10.3766,
          79.83777777777777,
          10.330333333333334,
          0.0613333333333333,
          91.424,
          82.95022222222222,
          56.7076,
          3.474555555555556,
          100,
          0.3185555555555555,
          0.0243333333333333,
          53.268600000000006,
          43.3258,
          44.69677777777778,
          91.23455555555556,
          12.63011111111111,
          0.4555555555555555,
          52.55155555555555,
          7.0952,
          2.7977777777777777,
          29.192888888888888,
          21.80211111111111,
          16.5899,
          6.086444444444444,
          4.8538,
          55.74944444444444,
          0,
          15.340222222222224,
          90.12611111111111,
          97.59633333333332,
          0,
          99.90511111111113,
          14.6696,
          15.024333333333333,
          79.998,
          52.80433333333333,
          1.463,
          20.4111,
          0,
          76.99288888888888,
          98.111,
          0.0074444444444444,
          32.795,
          0.0377777777777777,
          66.893,
          27.23633333333333,
          99.99611111111112,
          57.7494,
          25.849,
          12.7917,
          51.2143,
          4.257222222222222,
          0.3211111111111111,
          37.3332,
          18.0368,
          48.70088888888889,
          0,
          3.7568888888888887,
          0.3106666666666666,
          1.4925555555555556,
          15.373555555555557,
          30.84655555555556,
          8.924333333333333,
          0.0272222222222222,
          11.075222222222225,
          28.7959,
          1.020333333333333,
          68.674,
          3.1572,
          22.743,
          30.9135,
          5.444222222222222,
          2.6202222222222225,
          3.0701,
          3.2709,
          0.486375,
          36.3737,
          42.33322222222223,
          68.51866666666666,
          44.77577777777778,
          58.5124,
          62.5076,
          7.188999999999999,
          4.8332,
          96.8246,
          35.84166666666667,
          12.5835,
          39.50544444444445,
          0,
          0.0512222222222222,
          2.9312,
          32.465,
          0.0141111111111111,
          0,
          89.3971111111111,
          6.9941,
          0.642888888888889,
          24.5374,
          15.2497,
          1.0106666666666666,
          89.6651,
          11.749444444444444,
          14.765777777777778,
          63.62844444444444,
          39.2149,
          4.773555555555556,
          93.67966666666666,
          55.943000000000005
         ],
         "yaxis": "y"
        }
       ],
       "layout": {
        "legend": {
         "tracegroupgap": 0
        },
        "margin": {
         "t": 60
        },
        "template": {
         "data": {
          "bar": [
           {
            "error_x": {
             "color": "#2a3f5f"
            },
            "error_y": {
             "color": "#2a3f5f"
            },
            "marker": {
             "line": {
              "color": "#E5ECF6",
              "width": 0.5
             },
             "pattern": {
              "fillmode": "overlay",
              "size": 10,
              "solidity": 0.2
             }
            },
            "type": "bar"
           }
          ],
          "barpolar": [
           {
            "marker": {
             "line": {
              "color": "#E5ECF6",
              "width": 0.5
             },
             "pattern": {
              "fillmode": "overlay",
              "size": 10,
              "solidity": 0.2
             }
            },
            "type": "barpolar"
           }
          ],
          "carpet": [
           {
            "aaxis": {
             "endlinecolor": "#2a3f5f",
             "gridcolor": "white",
             "linecolor": "white",
             "minorgridcolor": "white",
             "startlinecolor": "#2a3f5f"
            },
            "baxis": {
             "endlinecolor": "#2a3f5f",
             "gridcolor": "white",
             "linecolor": "white",
             "minorgridcolor": "white",
             "startlinecolor": "#2a3f5f"
            },
            "type": "carpet"
           }
          ],
          "choropleth": [
           {
            "colorbar": {
             "outlinewidth": 0,
             "ticks": ""
            },
            "type": "choropleth"
           }
          ],
          "contour": [
           {
            "colorbar": {
             "outlinewidth": 0,
             "ticks": ""
            },
            "colorscale": [
             [
              0,
              "#0d0887"
             ],
             [
              0.1111111111111111,
              "#46039f"
             ],
             [
              0.2222222222222222,
              "#7201a8"
             ],
             [
              0.3333333333333333,
              "#9c179e"
             ],
             [
              0.4444444444444444,
              "#bd3786"
             ],
             [
              0.5555555555555556,
              "#d8576b"
             ],
             [
              0.6666666666666666,
              "#ed7953"
             ],
             [
              0.7777777777777778,
              "#fb9f3a"
             ],
             [
              0.8888888888888888,
              "#fdca26"
             ],
             [
              1,
              "#f0f921"
             ]
            ],
            "type": "contour"
           }
          ],
          "contourcarpet": [
           {
            "colorbar": {
             "outlinewidth": 0,
             "ticks": ""
            },
            "type": "contourcarpet"
           }
          ],
          "heatmap": [
           {
            "colorbar": {
             "outlinewidth": 0,
             "ticks": ""
            },
            "colorscale": [
             [
              0,
              "#0d0887"
             ],
             [
              0.1111111111111111,
              "#46039f"
             ],
             [
              0.2222222222222222,
              "#7201a8"
             ],
             [
              0.3333333333333333,
              "#9c179e"
             ],
             [
              0.4444444444444444,
              "#bd3786"
             ],
             [
              0.5555555555555556,
              "#d8576b"
             ],
             [
              0.6666666666666666,
              "#ed7953"
             ],
             [
              0.7777777777777778,
              "#fb9f3a"
             ],
             [
              0.8888888888888888,
              "#fdca26"
             ],
             [
              1,
              "#f0f921"
             ]
            ],
            "type": "heatmap"
           }
          ],
          "heatmapgl": [
           {
            "colorbar": {
             "outlinewidth": 0,
             "ticks": ""
            },
            "colorscale": [
             [
              0,
              "#0d0887"
             ],
             [
              0.1111111111111111,
              "#46039f"
             ],
             [
              0.2222222222222222,
              "#7201a8"
             ],
             [
              0.3333333333333333,
              "#9c179e"
             ],
             [
              0.4444444444444444,
              "#bd3786"
             ],
             [
              0.5555555555555556,
              "#d8576b"
             ],
             [
              0.6666666666666666,
              "#ed7953"
             ],
             [
              0.7777777777777778,
              "#fb9f3a"
             ],
             [
              0.8888888888888888,
              "#fdca26"
             ],
             [
              1,
              "#f0f921"
             ]
            ],
            "type": "heatmapgl"
           }
          ],
          "histogram": [
           {
            "marker": {
             "pattern": {
              "fillmode": "overlay",
              "size": 10,
              "solidity": 0.2
             }
            },
            "type": "histogram"
           }
          ],
          "histogram2d": [
           {
            "colorbar": {
             "outlinewidth": 0,
             "ticks": ""
            },
            "colorscale": [
             [
              0,
              "#0d0887"
             ],
             [
              0.1111111111111111,
              "#46039f"
             ],
             [
              0.2222222222222222,
              "#7201a8"
             ],
             [
              0.3333333333333333,
              "#9c179e"
             ],
             [
              0.4444444444444444,
              "#bd3786"
             ],
             [
              0.5555555555555556,
              "#d8576b"
             ],
             [
              0.6666666666666666,
              "#ed7953"
             ],
             [
              0.7777777777777778,
              "#fb9f3a"
             ],
             [
              0.8888888888888888,
              "#fdca26"
             ],
             [
              1,
              "#f0f921"
             ]
            ],
            "type": "histogram2d"
           }
          ],
          "histogram2dcontour": [
           {
            "colorbar": {
             "outlinewidth": 0,
             "ticks": ""
            },
            "colorscale": [
             [
              0,
              "#0d0887"
             ],
             [
              0.1111111111111111,
              "#46039f"
             ],
             [
              0.2222222222222222,
              "#7201a8"
             ],
             [
              0.3333333333333333,
              "#9c179e"
             ],
             [
              0.4444444444444444,
              "#bd3786"
             ],
             [
              0.5555555555555556,
              "#d8576b"
             ],
             [
              0.6666666666666666,
              "#ed7953"
             ],
             [
              0.7777777777777778,
              "#fb9f3a"
             ],
             [
              0.8888888888888888,
              "#fdca26"
             ],
             [
              1,
              "#f0f921"
             ]
            ],
            "type": "histogram2dcontour"
           }
          ],
          "mesh3d": [
           {
            "colorbar": {
             "outlinewidth": 0,
             "ticks": ""
            },
            "type": "mesh3d"
           }
          ],
          "parcoords": [
           {
            "line": {
             "colorbar": {
              "outlinewidth": 0,
              "ticks": ""
             }
            },
            "type": "parcoords"
           }
          ],
          "pie": [
           {
            "automargin": true,
            "type": "pie"
           }
          ],
          "scatter": [
           {
            "fillpattern": {
             "fillmode": "overlay",
             "size": 10,
             "solidity": 0.2
            },
            "type": "scatter"
           }
          ],
          "scatter3d": [
           {
            "line": {
             "colorbar": {
              "outlinewidth": 0,
              "ticks": ""
             }
            },
            "marker": {
             "colorbar": {
              "outlinewidth": 0,
              "ticks": ""
             }
            },
            "type": "scatter3d"
           }
          ],
          "scattercarpet": [
           {
            "marker": {
             "colorbar": {
              "outlinewidth": 0,
              "ticks": ""
             }
            },
            "type": "scattercarpet"
           }
          ],
          "scattergeo": [
           {
            "marker": {
             "colorbar": {
              "outlinewidth": 0,
              "ticks": ""
             }
            },
            "type": "scattergeo"
           }
          ],
          "scattergl": [
           {
            "marker": {
             "colorbar": {
              "outlinewidth": 0,
              "ticks": ""
             }
            },
            "type": "scattergl"
           }
          ],
          "scattermapbox": [
           {
            "marker": {
             "colorbar": {
              "outlinewidth": 0,
              "ticks": ""
             }
            },
            "type": "scattermapbox"
           }
          ],
          "scatterpolar": [
           {
            "marker": {
             "colorbar": {
              "outlinewidth": 0,
              "ticks": ""
             }
            },
            "type": "scatterpolar"
           }
          ],
          "scatterpolargl": [
           {
            "marker": {
             "colorbar": {
              "outlinewidth": 0,
              "ticks": ""
             }
            },
            "type": "scatterpolargl"
           }
          ],
          "scatterternary": [
           {
            "marker": {
             "colorbar": {
              "outlinewidth": 0,
              "ticks": ""
             }
            },
            "type": "scatterternary"
           }
          ],
          "surface": [
           {
            "colorbar": {
             "outlinewidth": 0,
             "ticks": ""
            },
            "colorscale": [
             [
              0,
              "#0d0887"
             ],
             [
              0.1111111111111111,
              "#46039f"
             ],
             [
              0.2222222222222222,
              "#7201a8"
             ],
             [
              0.3333333333333333,
              "#9c179e"
             ],
             [
              0.4444444444444444,
              "#bd3786"
             ],
             [
              0.5555555555555556,
              "#d8576b"
             ],
             [
              0.6666666666666666,
              "#ed7953"
             ],
             [
              0.7777777777777778,
              "#fb9f3a"
             ],
             [
              0.8888888888888888,
              "#fdca26"
             ],
             [
              1,
              "#f0f921"
             ]
            ],
            "type": "surface"
           }
          ],
          "table": [
           {
            "cells": {
             "fill": {
              "color": "#EBF0F8"
             },
             "line": {
              "color": "white"
             }
            },
            "header": {
             "fill": {
              "color": "#C8D4E3"
             },
             "line": {
              "color": "white"
             }
            },
            "type": "table"
           }
          ]
         },
         "layout": {
          "annotationdefaults": {
           "arrowcolor": "#2a3f5f",
           "arrowhead": 0,
           "arrowwidth": 1
          },
          "autotypenumbers": "strict",
          "coloraxis": {
           "colorbar": {
            "outlinewidth": 0,
            "ticks": ""
           }
          },
          "colorscale": {
           "diverging": [
            [
             0,
             "#8e0152"
            ],
            [
             0.1,
             "#c51b7d"
            ],
            [
             0.2,
             "#de77ae"
            ],
            [
             0.3,
             "#f1b6da"
            ],
            [
             0.4,
             "#fde0ef"
            ],
            [
             0.5,
             "#f7f7f7"
            ],
            [
             0.6,
             "#e6f5d0"
            ],
            [
             0.7,
             "#b8e186"
            ],
            [
             0.8,
             "#7fbc41"
            ],
            [
             0.9,
             "#4d9221"
            ],
            [
             1,
             "#276419"
            ]
           ],
           "sequential": [
            [
             0,
             "#0d0887"
            ],
            [
             0.1111111111111111,
             "#46039f"
            ],
            [
             0.2222222222222222,
             "#7201a8"
            ],
            [
             0.3333333333333333,
             "#9c179e"
            ],
            [
             0.4444444444444444,
             "#bd3786"
            ],
            [
             0.5555555555555556,
             "#d8576b"
            ],
            [
             0.6666666666666666,
             "#ed7953"
            ],
            [
             0.7777777777777778,
             "#fb9f3a"
            ],
            [
             0.8888888888888888,
             "#fdca26"
            ],
            [
             1,
             "#f0f921"
            ]
           ],
           "sequentialminus": [
            [
             0,
             "#0d0887"
            ],
            [
             0.1111111111111111,
             "#46039f"
            ],
            [
             0.2222222222222222,
             "#7201a8"
            ],
            [
             0.3333333333333333,
             "#9c179e"
            ],
            [
             0.4444444444444444,
             "#bd3786"
            ],
            [
             0.5555555555555556,
             "#d8576b"
            ],
            [
             0.6666666666666666,
             "#ed7953"
            ],
            [
             0.7777777777777778,
             "#fb9f3a"
            ],
            [
             0.8888888888888888,
             "#fdca26"
            ],
            [
             1,
             "#f0f921"
            ]
           ]
          },
          "colorway": [
           "#636efa",
           "#EF553B",
           "#00cc96",
           "#ab63fa",
           "#FFA15A",
           "#19d3f3",
           "#FF6692",
           "#B6E880",
           "#FF97FF",
           "#FECB52"
          ],
          "font": {
           "color": "#2a3f5f"
          },
          "geo": {
           "bgcolor": "white",
           "lakecolor": "white",
           "landcolor": "#E5ECF6",
           "showlakes": true,
           "showland": true,
           "subunitcolor": "white"
          },
          "hoverlabel": {
           "align": "left"
          },
          "hovermode": "closest",
          "mapbox": {
           "style": "light"
          },
          "paper_bgcolor": "white",
          "plot_bgcolor": "#E5ECF6",
          "polar": {
           "angularaxis": {
            "gridcolor": "white",
            "linecolor": "white",
            "ticks": ""
           },
           "bgcolor": "#E5ECF6",
           "radialaxis": {
            "gridcolor": "white",
            "linecolor": "white",
            "ticks": ""
           }
          },
          "scene": {
           "xaxis": {
            "backgroundcolor": "#E5ECF6",
            "gridcolor": "white",
            "gridwidth": 2,
            "linecolor": "white",
            "showbackground": true,
            "ticks": "",
            "zerolinecolor": "white"
           },
           "yaxis": {
            "backgroundcolor": "#E5ECF6",
            "gridcolor": "white",
            "gridwidth": 2,
            "linecolor": "white",
            "showbackground": true,
            "ticks": "",
            "zerolinecolor": "white"
           },
           "zaxis": {
            "backgroundcolor": "#E5ECF6",
            "gridcolor": "white",
            "gridwidth": 2,
            "linecolor": "white",
            "showbackground": true,
            "ticks": "",
            "zerolinecolor": "white"
           }
          },
          "shapedefaults": {
           "line": {
            "color": "#2a3f5f"
           }
          },
          "ternary": {
           "aaxis": {
            "gridcolor": "white",
            "linecolor": "white",
            "ticks": ""
           },
           "baxis": {
            "gridcolor": "white",
            "linecolor": "white",
            "ticks": ""
           },
           "bgcolor": "#E5ECF6",
           "caxis": {
            "gridcolor": "white",
            "linecolor": "white",
            "ticks": ""
           }
          },
          "title": {
           "x": 0.05
          },
          "xaxis": {
           "automargin": true,
           "gridcolor": "white",
           "linecolor": "white",
           "ticks": "",
           "title": {
            "standoff": 15
           },
           "zerolinecolor": "white",
           "zerolinewidth": 2
          },
          "yaxis": {
           "automargin": true,
           "gridcolor": "white",
           "linecolor": "white",
           "ticks": "",
           "title": {
            "standoff": 15
           },
           "zerolinecolor": "white",
           "zerolinewidth": 2
          }
         }
        },
        "title": {
         "text": "Proporción de electricidad de fuentes renovables vs fuentes fósiles "
        },
        "xaxis": {
         "anchor": "y",
         "domain": [
          0,
          1
         ],
         "title": {
          "text": "Porcentaje de fuente fósil"
         }
        },
        "yaxis": {
         "anchor": "x",
         "domain": [
          0,
          1
         ],
         "title": {
          "text": "Porcentaje de fuente renovable"
         }
        }
       }
      }
     },
     "metadata": {},
     "output_type": "display_data"
    }
   ],
   "source": [
    "fig1 = px.scatter(x=df[\"fossil_share_elec\"], y=df[\"renewables_share_elec\"])\n",
    "fig1.update_layout(xaxis_title=\"Porcentaje de fuente fósil\", yaxis_title=\"Porcentaje de fuente renovable\",)\n",
    "fig1.update_layout(title=\"Proporción de electricidad de fuentes renovables vs fuentes fósiles \",)"
   ]
  },
  {
   "cell_type": "markdown",
   "metadata": {},
   "source": [
    "Aunque los puntos forman una recta, no nos interesa modelarlo como regresión lineal ya que conocemos la formula que siguen: <br> \n",
    "porcentaje fosil + porcentaje renovables + procentaje nuclear = 100. "
   ]
  },
  {
   "cell_type": "markdown",
   "metadata": {},
   "source": [
    "Por lo que es esperable que al aumentar, por ejemplo, el porcentaje de fuente renovable disminuya el porcentaje de fuente fósil, lo que lleva a la formación de la recta que se observa en el gráfico. Sin embargo, vemos también que algunos puntos se desvian de la recta. <br>"
   ]
  },
  {
   "cell_type": "code",
   "execution_count": 70,
   "metadata": {},
   "outputs": [
    {
     "data": {
      "application/vnd.plotly.v1+json": {
       "config": {
        "plotlyServerURL": "https://plot.ly"
       },
       "data": [
        {
         "hovertemplate": "x=%{x}<br>y=%{y}<extra></extra>",
         "legendgroup": "",
         "marker": {
          "color": "#636efa",
          "symbol": "circle"
         },
         "mode": "markers",
         "name": "",
         "orientation": "v",
         "showlegend": false,
         "type": "scatter",
         "x": [
          0,
          0,
          0,
          0,
          0,
          0,
          5.0098,
          30.504444444444445,
          0,
          0,
          0,
          0,
          0,
          0,
          0,
          0,
          0,
          46.819,
          0,
          0,
          0,
          0,
          0,
          0,
          0,
          2.5686,
          0,
          0,
          34.8674,
          0,
          0,
          0,
          0,
          14.8717,
          0,
          0,
          0,
          0,
          3.2415,
          0,
          0,
          0,
          0,
          0,
          0,
          0,
          0,
          34.1146,
          0,
          0,
          0,
          0,
          0,
          0,
          0,
          0,
          0,
          0,
          0,
          0,
          0,
          33.6109,
          73.312,
          0,
          0,
          0,
          0,
          0,
          13.9612,
          0,
          0,
          0,
          0,
          0,
          0,
          0,
          0,
          0,
          0,
          0,
          0,
          0,
          0,
          49.0058,
          0,
          3.2331000000000003,
          0,
          1.502,
          0,
          0,
          0,
          0,
          0,
          3.6094,
          0,
          0,
          0,
          0,
          0,
          0,
          0,
          0,
          0,
          0,
          0,
          0,
          0,
          0,
          0,
          0,
          0,
          0,
          0,
          0,
          0,
          0,
          0,
          3.5458,
          0,
          0,
          0,
          0,
          0,
          0,
          0,
          0,
          0,
          3.3857,
          0,
          0,
          0,
          0,
          0,
          0,
          0,
          0,
          0,
          5.3584000000000005,
          0,
          0,
          0,
          0,
          0,
          0,
          0,
          0,
          0,
          0,
          18.6402,
          17.5446,
          0,
          0,
          0,
          0,
          0,
          0,
          0,
          0,
          0,
          0,
          0,
          0,
          0,
          0,
          55.4102,
          36.7186,
          0,
          0,
          5.5334,
          27.6663,
          0,
          20.938,
          0,
          0,
          0,
          39.1182,
          36.3737,
          0,
          13.6751,
          0,
          0,
          0,
          0,
          0,
          0,
          0,
          0,
          0,
          0,
          0,
          50.1889,
          0,
          19.5474,
          19.4246,
          0,
          0,
          0,
          0,
          0,
          0,
          0,
          0,
          0
         ],
         "xaxis": "x",
         "y": [
          83.54344444444445,
          99.85144444444444,
          0.7663333333333333,
          0,
          65.67355555555555,
          1.572,
          24.9565,
          31.018000000000004,
          16.076999999999998,
          16.1249,
          76.4209,
          8.4712,
          0.1038888888888888,
          0.0257777777777777,
          1.7922,
          1.8823333333333327,
          1.5658,
          18.0854,
          96.514,
          2.7984444444444443,
          0,
          99.99466666666666,
          31.721,
          34.230000000000004,
          0.165,
          80.964,
          1.0435555555555556,
          0.0416666666666666,
          15.3273,
          15.253888888888888,
          80.43233333333335,
          46.68411111111111,
          66.47200000000001,
          66.18379999999999,
          0.8367777777777778,
          96.28844444444444,
          1.8128888888888888,
          43.7029,
          23.9109,
          73.7897,
          3.307,
          47.108222222222224,
          11.258777777777778,
          95.7824,
          63.301,
          4.011333333333334,
          8.0901,
          10.7191,
          99.79077777777778,
          60.8865,
          0.8294444444444444,
          32.31388888888889,
          12.155444444444443,
          61.81911111111111,
          9.922333333333334,
          64.00677777777778,
          27.402666666666665,
          3.615,
          15.9803,
          99.89044444444444,
          58.81944444444444,
          42.66,
          17.3772,
          60.39433333333333,
          34.49444444444444,
          43.041777777777774,
          1.1335555555555556,
          79.99588888888889,
          30.6145,
          58.945,
          0,
          25.8654,
          80.626,
          1.6578888888888887,
          12.929555555555556,
          1.922555555555556,
          64.89644444444444,
          52.902,
          2.052777777777778,
          2.016,
          14.955111111111112,
          53.59733333333334,
          0.1934444444444444,
          10.7023,
          99.98444444444443,
          18.6021,
          13.58488888888889,
          6.1158,
          5.160777777777778,
          27.8065,
          2.076,
          37.6403,
          9.148222222222223,
          18.781,
          4.386333333333333,
          10.3766,
          79.83777777777777,
          10.330333333333334,
          0.0613333333333333,
          91.424,
          82.95022222222222,
          56.7076,
          3.474555555555556,
          100,
          0.3185555555555555,
          0.0243333333333333,
          53.268600000000006,
          43.3258,
          44.69677777777778,
          91.23455555555556,
          12.63011111111111,
          0.4555555555555555,
          52.55155555555555,
          7.0952,
          2.7977777777777777,
          29.192888888888888,
          21.80211111111111,
          16.5899,
          6.086444444444444,
          4.8538,
          55.74944444444444,
          0,
          15.340222222222224,
          90.12611111111111,
          97.59633333333332,
          0,
          99.90511111111113,
          14.6696,
          15.024333333333333,
          79.998,
          52.80433333333333,
          1.463,
          20.4111,
          0,
          76.99288888888888,
          98.111,
          0.0074444444444444,
          32.795,
          0.0377777777777777,
          66.893,
          27.23633333333333,
          99.99611111111112,
          57.7494,
          25.849,
          12.7917,
          51.2143,
          4.257222222222222,
          0.3211111111111111,
          37.3332,
          18.0368,
          48.70088888888889,
          0,
          3.7568888888888887,
          0.3106666666666666,
          1.4925555555555556,
          15.373555555555557,
          30.84655555555556,
          8.924333333333333,
          0.0272222222222222,
          11.075222222222225,
          28.7959,
          1.020333333333333,
          68.674,
          3.1572,
          22.743,
          30.9135,
          5.444222222222222,
          2.6202222222222225,
          3.0701,
          3.2709,
          0.486375,
          36.3737,
          42.33322222222223,
          68.51866666666666,
          44.77577777777778,
          58.5124,
          62.5076,
          7.188999999999999,
          4.8332,
          96.8246,
          35.84166666666667,
          12.5835,
          39.50544444444445,
          0,
          0.0512222222222222,
          2.9312,
          32.465,
          0.0141111111111111,
          0,
          89.3971111111111,
          6.9941,
          0.642888888888889,
          24.5374,
          15.2497,
          1.0106666666666666,
          89.6651,
          11.749444444444444,
          14.765777777777778,
          63.62844444444444,
          39.2149,
          4.773555555555556,
          93.67966666666666,
          55.943000000000005
         ],
         "yaxis": "y"
        }
       ],
       "layout": {
        "legend": {
         "tracegroupgap": 0
        },
        "margin": {
         "t": 60
        },
        "template": {
         "data": {
          "bar": [
           {
            "error_x": {
             "color": "#2a3f5f"
            },
            "error_y": {
             "color": "#2a3f5f"
            },
            "marker": {
             "line": {
              "color": "#E5ECF6",
              "width": 0.5
             },
             "pattern": {
              "fillmode": "overlay",
              "size": 10,
              "solidity": 0.2
             }
            },
            "type": "bar"
           }
          ],
          "barpolar": [
           {
            "marker": {
             "line": {
              "color": "#E5ECF6",
              "width": 0.5
             },
             "pattern": {
              "fillmode": "overlay",
              "size": 10,
              "solidity": 0.2
             }
            },
            "type": "barpolar"
           }
          ],
          "carpet": [
           {
            "aaxis": {
             "endlinecolor": "#2a3f5f",
             "gridcolor": "white",
             "linecolor": "white",
             "minorgridcolor": "white",
             "startlinecolor": "#2a3f5f"
            },
            "baxis": {
             "endlinecolor": "#2a3f5f",
             "gridcolor": "white",
             "linecolor": "white",
             "minorgridcolor": "white",
             "startlinecolor": "#2a3f5f"
            },
            "type": "carpet"
           }
          ],
          "choropleth": [
           {
            "colorbar": {
             "outlinewidth": 0,
             "ticks": ""
            },
            "type": "choropleth"
           }
          ],
          "contour": [
           {
            "colorbar": {
             "outlinewidth": 0,
             "ticks": ""
            },
            "colorscale": [
             [
              0,
              "#0d0887"
             ],
             [
              0.1111111111111111,
              "#46039f"
             ],
             [
              0.2222222222222222,
              "#7201a8"
             ],
             [
              0.3333333333333333,
              "#9c179e"
             ],
             [
              0.4444444444444444,
              "#bd3786"
             ],
             [
              0.5555555555555556,
              "#d8576b"
             ],
             [
              0.6666666666666666,
              "#ed7953"
             ],
             [
              0.7777777777777778,
              "#fb9f3a"
             ],
             [
              0.8888888888888888,
              "#fdca26"
             ],
             [
              1,
              "#f0f921"
             ]
            ],
            "type": "contour"
           }
          ],
          "contourcarpet": [
           {
            "colorbar": {
             "outlinewidth": 0,
             "ticks": ""
            },
            "type": "contourcarpet"
           }
          ],
          "heatmap": [
           {
            "colorbar": {
             "outlinewidth": 0,
             "ticks": ""
            },
            "colorscale": [
             [
              0,
              "#0d0887"
             ],
             [
              0.1111111111111111,
              "#46039f"
             ],
             [
              0.2222222222222222,
              "#7201a8"
             ],
             [
              0.3333333333333333,
              "#9c179e"
             ],
             [
              0.4444444444444444,
              "#bd3786"
             ],
             [
              0.5555555555555556,
              "#d8576b"
             ],
             [
              0.6666666666666666,
              "#ed7953"
             ],
             [
              0.7777777777777778,
              "#fb9f3a"
             ],
             [
              0.8888888888888888,
              "#fdca26"
             ],
             [
              1,
              "#f0f921"
             ]
            ],
            "type": "heatmap"
           }
          ],
          "heatmapgl": [
           {
            "colorbar": {
             "outlinewidth": 0,
             "ticks": ""
            },
            "colorscale": [
             [
              0,
              "#0d0887"
             ],
             [
              0.1111111111111111,
              "#46039f"
             ],
             [
              0.2222222222222222,
              "#7201a8"
             ],
             [
              0.3333333333333333,
              "#9c179e"
             ],
             [
              0.4444444444444444,
              "#bd3786"
             ],
             [
              0.5555555555555556,
              "#d8576b"
             ],
             [
              0.6666666666666666,
              "#ed7953"
             ],
             [
              0.7777777777777778,
              "#fb9f3a"
             ],
             [
              0.8888888888888888,
              "#fdca26"
             ],
             [
              1,
              "#f0f921"
             ]
            ],
            "type": "heatmapgl"
           }
          ],
          "histogram": [
           {
            "marker": {
             "pattern": {
              "fillmode": "overlay",
              "size": 10,
              "solidity": 0.2
             }
            },
            "type": "histogram"
           }
          ],
          "histogram2d": [
           {
            "colorbar": {
             "outlinewidth": 0,
             "ticks": ""
            },
            "colorscale": [
             [
              0,
              "#0d0887"
             ],
             [
              0.1111111111111111,
              "#46039f"
             ],
             [
              0.2222222222222222,
              "#7201a8"
             ],
             [
              0.3333333333333333,
              "#9c179e"
             ],
             [
              0.4444444444444444,
              "#bd3786"
             ],
             [
              0.5555555555555556,
              "#d8576b"
             ],
             [
              0.6666666666666666,
              "#ed7953"
             ],
             [
              0.7777777777777778,
              "#fb9f3a"
             ],
             [
              0.8888888888888888,
              "#fdca26"
             ],
             [
              1,
              "#f0f921"
             ]
            ],
            "type": "histogram2d"
           }
          ],
          "histogram2dcontour": [
           {
            "colorbar": {
             "outlinewidth": 0,
             "ticks": ""
            },
            "colorscale": [
             [
              0,
              "#0d0887"
             ],
             [
              0.1111111111111111,
              "#46039f"
             ],
             [
              0.2222222222222222,
              "#7201a8"
             ],
             [
              0.3333333333333333,
              "#9c179e"
             ],
             [
              0.4444444444444444,
              "#bd3786"
             ],
             [
              0.5555555555555556,
              "#d8576b"
             ],
             [
              0.6666666666666666,
              "#ed7953"
             ],
             [
              0.7777777777777778,
              "#fb9f3a"
             ],
             [
              0.8888888888888888,
              "#fdca26"
             ],
             [
              1,
              "#f0f921"
             ]
            ],
            "type": "histogram2dcontour"
           }
          ],
          "mesh3d": [
           {
            "colorbar": {
             "outlinewidth": 0,
             "ticks": ""
            },
            "type": "mesh3d"
           }
          ],
          "parcoords": [
           {
            "line": {
             "colorbar": {
              "outlinewidth": 0,
              "ticks": ""
             }
            },
            "type": "parcoords"
           }
          ],
          "pie": [
           {
            "automargin": true,
            "type": "pie"
           }
          ],
          "scatter": [
           {
            "fillpattern": {
             "fillmode": "overlay",
             "size": 10,
             "solidity": 0.2
            },
            "type": "scatter"
           }
          ],
          "scatter3d": [
           {
            "line": {
             "colorbar": {
              "outlinewidth": 0,
              "ticks": ""
             }
            },
            "marker": {
             "colorbar": {
              "outlinewidth": 0,
              "ticks": ""
             }
            },
            "type": "scatter3d"
           }
          ],
          "scattercarpet": [
           {
            "marker": {
             "colorbar": {
              "outlinewidth": 0,
              "ticks": ""
             }
            },
            "type": "scattercarpet"
           }
          ],
          "scattergeo": [
           {
            "marker": {
             "colorbar": {
              "outlinewidth": 0,
              "ticks": ""
             }
            },
            "type": "scattergeo"
           }
          ],
          "scattergl": [
           {
            "marker": {
             "colorbar": {
              "outlinewidth": 0,
              "ticks": ""
             }
            },
            "type": "scattergl"
           }
          ],
          "scattermapbox": [
           {
            "marker": {
             "colorbar": {
              "outlinewidth": 0,
              "ticks": ""
             }
            },
            "type": "scattermapbox"
           }
          ],
          "scatterpolar": [
           {
            "marker": {
             "colorbar": {
              "outlinewidth": 0,
              "ticks": ""
             }
            },
            "type": "scatterpolar"
           }
          ],
          "scatterpolargl": [
           {
            "marker": {
             "colorbar": {
              "outlinewidth": 0,
              "ticks": ""
             }
            },
            "type": "scatterpolargl"
           }
          ],
          "scatterternary": [
           {
            "marker": {
             "colorbar": {
              "outlinewidth": 0,
              "ticks": ""
             }
            },
            "type": "scatterternary"
           }
          ],
          "surface": [
           {
            "colorbar": {
             "outlinewidth": 0,
             "ticks": ""
            },
            "colorscale": [
             [
              0,
              "#0d0887"
             ],
             [
              0.1111111111111111,
              "#46039f"
             ],
             [
              0.2222222222222222,
              "#7201a8"
             ],
             [
              0.3333333333333333,
              "#9c179e"
             ],
             [
              0.4444444444444444,
              "#bd3786"
             ],
             [
              0.5555555555555556,
              "#d8576b"
             ],
             [
              0.6666666666666666,
              "#ed7953"
             ],
             [
              0.7777777777777778,
              "#fb9f3a"
             ],
             [
              0.8888888888888888,
              "#fdca26"
             ],
             [
              1,
              "#f0f921"
             ]
            ],
            "type": "surface"
           }
          ],
          "table": [
           {
            "cells": {
             "fill": {
              "color": "#EBF0F8"
             },
             "line": {
              "color": "white"
             }
            },
            "header": {
             "fill": {
              "color": "#C8D4E3"
             },
             "line": {
              "color": "white"
             }
            },
            "type": "table"
           }
          ]
         },
         "layout": {
          "annotationdefaults": {
           "arrowcolor": "#2a3f5f",
           "arrowhead": 0,
           "arrowwidth": 1
          },
          "autotypenumbers": "strict",
          "coloraxis": {
           "colorbar": {
            "outlinewidth": 0,
            "ticks": ""
           }
          },
          "colorscale": {
           "diverging": [
            [
             0,
             "#8e0152"
            ],
            [
             0.1,
             "#c51b7d"
            ],
            [
             0.2,
             "#de77ae"
            ],
            [
             0.3,
             "#f1b6da"
            ],
            [
             0.4,
             "#fde0ef"
            ],
            [
             0.5,
             "#f7f7f7"
            ],
            [
             0.6,
             "#e6f5d0"
            ],
            [
             0.7,
             "#b8e186"
            ],
            [
             0.8,
             "#7fbc41"
            ],
            [
             0.9,
             "#4d9221"
            ],
            [
             1,
             "#276419"
            ]
           ],
           "sequential": [
            [
             0,
             "#0d0887"
            ],
            [
             0.1111111111111111,
             "#46039f"
            ],
            [
             0.2222222222222222,
             "#7201a8"
            ],
            [
             0.3333333333333333,
             "#9c179e"
            ],
            [
             0.4444444444444444,
             "#bd3786"
            ],
            [
             0.5555555555555556,
             "#d8576b"
            ],
            [
             0.6666666666666666,
             "#ed7953"
            ],
            [
             0.7777777777777778,
             "#fb9f3a"
            ],
            [
             0.8888888888888888,
             "#fdca26"
            ],
            [
             1,
             "#f0f921"
            ]
           ],
           "sequentialminus": [
            [
             0,
             "#0d0887"
            ],
            [
             0.1111111111111111,
             "#46039f"
            ],
            [
             0.2222222222222222,
             "#7201a8"
            ],
            [
             0.3333333333333333,
             "#9c179e"
            ],
            [
             0.4444444444444444,
             "#bd3786"
            ],
            [
             0.5555555555555556,
             "#d8576b"
            ],
            [
             0.6666666666666666,
             "#ed7953"
            ],
            [
             0.7777777777777778,
             "#fb9f3a"
            ],
            [
             0.8888888888888888,
             "#fdca26"
            ],
            [
             1,
             "#f0f921"
            ]
           ]
          },
          "colorway": [
           "#636efa",
           "#EF553B",
           "#00cc96",
           "#ab63fa",
           "#FFA15A",
           "#19d3f3",
           "#FF6692",
           "#B6E880",
           "#FF97FF",
           "#FECB52"
          ],
          "font": {
           "color": "#2a3f5f"
          },
          "geo": {
           "bgcolor": "white",
           "lakecolor": "white",
           "landcolor": "#E5ECF6",
           "showlakes": true,
           "showland": true,
           "subunitcolor": "white"
          },
          "hoverlabel": {
           "align": "left"
          },
          "hovermode": "closest",
          "mapbox": {
           "style": "light"
          },
          "paper_bgcolor": "white",
          "plot_bgcolor": "#E5ECF6",
          "polar": {
           "angularaxis": {
            "gridcolor": "white",
            "linecolor": "white",
            "ticks": ""
           },
           "bgcolor": "#E5ECF6",
           "radialaxis": {
            "gridcolor": "white",
            "linecolor": "white",
            "ticks": ""
           }
          },
          "scene": {
           "xaxis": {
            "backgroundcolor": "#E5ECF6",
            "gridcolor": "white",
            "gridwidth": 2,
            "linecolor": "white",
            "showbackground": true,
            "ticks": "",
            "zerolinecolor": "white"
           },
           "yaxis": {
            "backgroundcolor": "#E5ECF6",
            "gridcolor": "white",
            "gridwidth": 2,
            "linecolor": "white",
            "showbackground": true,
            "ticks": "",
            "zerolinecolor": "white"
           },
           "zaxis": {
            "backgroundcolor": "#E5ECF6",
            "gridcolor": "white",
            "gridwidth": 2,
            "linecolor": "white",
            "showbackground": true,
            "ticks": "",
            "zerolinecolor": "white"
           }
          },
          "shapedefaults": {
           "line": {
            "color": "#2a3f5f"
           }
          },
          "ternary": {
           "aaxis": {
            "gridcolor": "white",
            "linecolor": "white",
            "ticks": ""
           },
           "baxis": {
            "gridcolor": "white",
            "linecolor": "white",
            "ticks": ""
           },
           "bgcolor": "#E5ECF6",
           "caxis": {
            "gridcolor": "white",
            "linecolor": "white",
            "ticks": ""
           }
          },
          "title": {
           "x": 0.05
          },
          "xaxis": {
           "automargin": true,
           "gridcolor": "white",
           "linecolor": "white",
           "ticks": "",
           "title": {
            "standoff": 15
           },
           "zerolinecolor": "white",
           "zerolinewidth": 2
          },
          "yaxis": {
           "automargin": true,
           "gridcolor": "white",
           "linecolor": "white",
           "ticks": "",
           "title": {
            "standoff": 15
           },
           "zerolinecolor": "white",
           "zerolinewidth": 2
          }
         }
        },
        "title": {
         "text": "Proporción de electricidad de fuentes renovables vs fuente nuclear "
        },
        "xaxis": {
         "anchor": "y",
         "domain": [
          0,
          1
         ],
         "title": {
          "text": "Porcentaje de fuente nuclear"
         }
        },
        "yaxis": {
         "anchor": "x",
         "domain": [
          0,
          1
         ],
         "title": {
          "text": "Porcentaje de fuente renovable"
         }
        }
       }
      }
     },
     "metadata": {},
     "output_type": "display_data"
    }
   ],
   "source": [
    "fig2 = px.scatter(x=df[\"nuclear_share_elec\"], y=df[\"renewables_share_elec\"])\n",
    "fig2.update_layout(xaxis_title=\"Porcentaje de fuente nuclear\", yaxis_title=\"Porcentaje de fuente renovable\",)\n",
    "fig2.update_layout(title=\"Proporción de electricidad de fuentes renovables vs fuente nuclear \",)"
   ]
  },
  {
   "cell_type": "markdown",
   "metadata": {},
   "source": [
    "Vemos que la mayoría de los países aparecen como una recta vertical en el 0 del eje X: son aquellos países que no consumen electricidad de fuentes nucleares. Vemos también que otros países muestran diversos porcentajes de electricidad de fuente nuclear. "
   ]
  },
  {
   "cell_type": "markdown",
   "metadata": {},
   "source": [
    "Usaremos el algoritmo de clustering por DBSCAN para agrupar a los países según su distribución de fuentes de electricidad. "
   ]
  },
  {
   "cell_type": "markdown",
   "metadata": {},
   "source": [
    "## 2. Función de optimización de DBSCAN"
   ]
  },
  {
   "cell_type": "markdown",
   "metadata": {},
   "source": [
    "El siguiente código define una función que permite poner a prueba muchos modelos de DBSCAN con distintos parámetros y calcular su score de silhouette para hallar la combinación de parámetros que devuelve el modelo con score máximo. "
   ]
  },
  {
   "cell_type": "markdown",
   "metadata": {},
   "source": [
    "Primero especificamos las combinaciones de epsilon y min_sample que queremos probar.  "
   ]
  },
  {
   "cell_type": "code",
   "execution_count": 71,
   "metadata": {},
   "outputs": [
    {
     "data": {
      "text/plain": [
       "array([0.01      , 0.04413793, 0.07827586, 0.11241379, 0.14655172,\n",
       "       0.18068966, 0.21482759, 0.24896552, 0.28310345, 0.31724138,\n",
       "       0.35137931, 0.38551724, 0.41965517, 0.4537931 , 0.48793103,\n",
       "       0.52206897, 0.5562069 , 0.59034483, 0.62448276, 0.65862069,\n",
       "       0.69275862, 0.72689655, 0.76103448, 0.79517241, 0.82931034,\n",
       "       0.86344828, 0.89758621, 0.93172414, 0.96586207, 1.        ])"
      ]
     },
     "execution_count": 71,
     "metadata": {},
     "output_type": "execute_result"
    }
   ],
   "source": [
    "epsilons = np.linspace(0.01, 1, num=30)\n",
    "epsilons"
   ]
  },
  {
   "cell_type": "code",
   "execution_count": 72,
   "metadata": {},
   "outputs": [
    {
     "data": {
      "text/plain": [
       "array([ 2,  3,  4,  5,  6,  7,  8,  9, 10, 11, 12, 13, 14, 15, 16, 17, 18,\n",
       "       19])"
      ]
     },
     "execution_count": 72,
     "metadata": {},
     "output_type": "execute_result"
    }
   ],
   "source": [
    "min_samples = np.arange(2, 20, step=1)\n",
    "min_samples"
   ]
  },
  {
   "cell_type": "code",
   "execution_count": 73,
   "metadata": {},
   "outputs": [],
   "source": [
    "combinations = list(itertools.product(epsilons, min_samples))"
   ]
  },
  {
   "cell_type": "markdown",
   "metadata": {},
   "source": [
    "Cantidad de combinaciones de parámetros que se van a probar:"
   ]
  },
  {
   "cell_type": "code",
   "execution_count": 74,
   "metadata": {},
   "outputs": [
    {
     "name": "stdout",
     "output_type": "stream",
     "text": [
      "Se pondran a prueba 540 combinaciones de 30 valores de epsilon y 18 valores de min_samples.\n"
     ]
    }
   ],
   "source": [
    "N = len(combinations)\n",
    "print(f\"Se pondran a prueba {N} combinaciones de {len(epsilons)} valores de epsilon y {len(min_samples)} valores de min_samples.\")"
   ]
  },
  {
   "cell_type": "markdown",
   "metadata": {},
   "source": [
    "Definimos la función:"
   ]
  },
  {
   "cell_type": "code",
   "execution_count": 75,
   "metadata": {},
   "outputs": [],
   "source": [
    "def get_scores_and_labels(combinations, X):\n",
    "  ''' Calcula parametros optimos de DBSCAN para maximixar score de silhouette. \n",
    "  combinations: lista de combinaciones de epsilons y min_samples a probar. \n",
    "  X: numpy.array de variables a modelar. \n",
    "  '''\n",
    "  scores = []\n",
    "  all_labels_list = []\n",
    "\n",
    "  for i, (eps, num_samples) in enumerate(combinations):\n",
    "    dbscan_cluster_model = DBSCAN(eps=eps, min_samples=num_samples).fit(X)\n",
    "    labels = dbscan_cluster_model.labels_\n",
    "    labels_set = set(labels)\n",
    "    num_clusters = len(labels_set)\n",
    "    if -1 in labels_set:\n",
    "      num_clusters -= 1\n",
    "\n",
    "    if (num_clusters < 2) or (num_clusters > 50):\n",
    "      scores.append(-10)\n",
    "      all_labels_list.append('bad')\n",
    "      c = (eps, num_samples)\n",
    "      print(f\"Combination {c} on iteration {i+1} of {N} has {num_clusters} clusters. Moving on\")\n",
    "      continue\n",
    "\n",
    "    scores.append(ss(X, labels))\n",
    "    all_labels_list.append(labels)\n",
    "    print(f\"Index: {i}, Score: {scores[-1]}, Labels: {all_labels_list[-1]}, NumClusters: {num_clusters}\")\n",
    "\n",
    "  best_index = np.argmax(scores)\n",
    "  best_parameters = combinations[best_index]\n",
    "  best_labels = all_labels_list[best_index]\n",
    "  best_score = scores[best_index]\n",
    "\n",
    "  return {'epsilon_optimo': best_parameters[0],\n",
    "          'min_samples_optimo': best_parameters[1],\n",
    "          'etiquetas_optimas': best_labels,\n",
    "          'score_maximo': best_score}"
   ]
  },
  {
   "cell_type": "markdown",
   "metadata": {},
   "source": [
    "## 3. Modelo"
   ]
  },
  {
   "cell_type": "markdown",
   "metadata": {},
   "source": [
    "Creamos una variable con las columnas de interés. "
   ]
  },
  {
   "cell_type": "code",
   "execution_count": 76,
   "metadata": {},
   "outputs": [
    {
     "data": {
      "text/html": [
       "<div>\n",
       "<style scoped>\n",
       "    .dataframe tbody tr th:only-of-type {\n",
       "        vertical-align: middle;\n",
       "    }\n",
       "\n",
       "    .dataframe tbody tr th {\n",
       "        vertical-align: top;\n",
       "    }\n",
       "\n",
       "    .dataframe thead th {\n",
       "        text-align: right;\n",
       "    }\n",
       "</style>\n",
       "<table border=\"1\" class=\"dataframe\">\n",
       "  <thead>\n",
       "    <tr style=\"text-align: right;\">\n",
       "      <th></th>\n",
       "      <th>fossil_share_elec</th>\n",
       "      <th>renewables_share_elec</th>\n",
       "      <th>nuclear_share_elec</th>\n",
       "    </tr>\n",
       "  </thead>\n",
       "  <tbody>\n",
       "    <tr>\n",
       "      <th>0</th>\n",
       "      <td>16.456556</td>\n",
       "      <td>83.543444</td>\n",
       "      <td>0.0</td>\n",
       "    </tr>\n",
       "    <tr>\n",
       "      <th>1</th>\n",
       "      <td>0.148556</td>\n",
       "      <td>99.851444</td>\n",
       "      <td>0.0</td>\n",
       "    </tr>\n",
       "    <tr>\n",
       "      <th>2</th>\n",
       "      <td>99.233667</td>\n",
       "      <td>0.766333</td>\n",
       "      <td>0.0</td>\n",
       "    </tr>\n",
       "    <tr>\n",
       "      <th>3</th>\n",
       "      <td>100.000000</td>\n",
       "      <td>0.000000</td>\n",
       "      <td>0.0</td>\n",
       "    </tr>\n",
       "    <tr>\n",
       "      <th>4</th>\n",
       "      <td>34.326444</td>\n",
       "      <td>65.673556</td>\n",
       "      <td>0.0</td>\n",
       "    </tr>\n",
       "  </tbody>\n",
       "</table>\n",
       "</div>"
      ],
      "text/plain": [
       "   fossil_share_elec  renewables_share_elec  nuclear_share_elec\n",
       "0          16.456556              83.543444                 0.0\n",
       "1           0.148556              99.851444                 0.0\n",
       "2          99.233667               0.766333                 0.0\n",
       "3         100.000000               0.000000                 0.0\n",
       "4          34.326444              65.673556                 0.0"
      ]
     },
     "execution_count": 76,
     "metadata": {},
     "output_type": "execute_result"
    }
   ],
   "source": [
    "features = [\"fossil_share_elec\", \"renewables_share_elec\",\"nuclear_share_elec\"]\n",
    "X = df[features]\n",
    "X.head(5)"
   ]
  },
  {
   "cell_type": "markdown",
   "metadata": {},
   "source": [
    "Escalamos las variables para evitar que una tenga más peso que otra simplemente por su magnitud."
   ]
  },
  {
   "cell_type": "code",
   "execution_count": 77,
   "metadata": {},
   "outputs": [
    {
     "data": {
      "text/plain": [
       "<matplotlib.collections.PathCollection at 0x1899eea0c10>"
      ]
     },
     "execution_count": 77,
     "metadata": {},
     "output_type": "execute_result"
    },
    {
     "data": {
      "image/png": "[encoded data removed]",
      "text/plain": [
       "<Figure size 640x480 with 1 Axes>"
      ]
     },
     "metadata": {},
     "output_type": "display_data"
    }
   ],
   "source": [
    "X_scaled = StandardScaler().fit_transform(X)\n",
    "plt.scatter(X_scaled[:, 2], X_scaled[:, 0])"
   ]
  },
  {
   "cell_type": "markdown",
   "metadata": {},
   "source": [
    "Usamos la función `get_scores_and_labels()` para poner a prueba las distintas combinaciones de parámetros y encontrar el modelo con mayor score. "
   ]
  },
  {
   "cell_type": "code",
   "execution_count": 78,
   "metadata": {},
   "outputs": [
    {
     "name": "stdout",
     "output_type": "stream",
     "text": [
      "Index: 0, Score: 0.1075484863198379, Labels: [-1  0  1  1 -1  2 -1 -1  3  3 -1 -1  1  1  2  2  2 -1  4  5  1  0 -1 -1\n",
      "  1 -1  1  1 -1  6  7 -1 -1 -1  1  4  2 -1 -1 -1  5 -1  8 -1 -1 -1 -1 -1\n",
      "  0 -1  1  9 -1 -1 -1 -1 10  5  3  0 11 -1 -1 -1 -1 -1  1 12 -1 11  1 13\n",
      "  7  2 14  2 -1 15  2  2  6 -1  1 -1  0 -1 -1 -1 -1 -1  2 -1 16 -1 17 18\n",
      " 12 18  1 19 -1 -1  5  0  1  1 -1 -1 20 19 14  1 -1 21  5 -1 -1 -1 -1 22\n",
      " 23  1  6 -1 -1  1  0 -1  6 12 15  2 -1  1 -1 -1  1 -1  1 -1 10  0 -1 13\n",
      " 14 -1 17  1 -1 -1 -1  1  5  1  2  6 -1 16  1  8 -1  1 24  5 -1 -1 -1  5\n",
      " -1 -1  1 -1 -1 24 20 -1 -1 21 -1 -1 -1 14 -1  1  1  5  9  1  1 -1 -1  1\n",
      " -1 -1  1 -1 -1  6 -1 -1 22 -1 23], NumClusters: 25\n",
      "Index: 1, Score: -0.048734154139249676, Labels: [-1  0  1  1 -1  2 -1 -1  3  3 -1 -1  1  1  2  2  2 -1 -1  4  1  0 -1 -1\n",
      "  1 -1  1  1 -1  5 -1 -1 -1 -1  1 -1  2 -1 -1 -1  4 -1 -1 -1 -1 -1 -1 -1\n",
      "  0 -1  1 -1 -1 -1 -1 -1 -1  4  3  0 -1 -1 -1 -1 -1 -1  1  6 -1 -1  1 -1\n",
      " -1  2  7  2 -1 -1  2  2  5 -1  1 -1  0 -1 -1 -1 -1 -1  2 -1 -1 -1 -1 -1\n",
      "  6 -1  1 -1 -1 -1  4  0  1  1 -1 -1 -1 -1  7  1 -1 -1  4 -1 -1 -1 -1 -1\n",
      " -1  1  5 -1 -1  1  0 -1  5  6 -1  2 -1  1 -1 -1  1 -1  1 -1 -1  0 -1 -1\n",
      "  7 -1 -1  1 -1 -1 -1  1  4  1  2  5 -1 -1  1 -1 -1  1 -1  4 -1 -1 -1  4\n",
      " -1 -1  1 -1 -1 -1 -1 -1 -1 -1 -1 -1 -1  7 -1  1  1  4 -1  1  1 -1 -1  1\n",
      " -1 -1  1 -1 -1  5 -1 -1 -1 -1 -1], NumClusters: 8\n",
      "Index: 2, Score: -0.06798326852158676, Labels: [-1  0  1  1 -1  2 -1 -1 -1 -1 -1 -1  1  1  2  2  2 -1 -1  3  1  0 -1 -1\n",
      "  1 -1  1  1 -1  4 -1 -1 -1 -1  1 -1  2 -1 -1 -1 -1 -1 -1 -1 -1 -1 -1 -1\n",
      "  0 -1  1 -1 -1 -1 -1 -1 -1 -1 -1  0 -1 -1 -1 -1 -1 -1  1 -1 -1 -1  1 -1\n",
      " -1  2  5  2 -1 -1  2  2 -1 -1  1 -1  0 -1 -1 -1 -1 -1  2 -1 -1 -1 -1 -1\n",
      " -1 -1  1 -1 -1 -1 -1  0  1  1 -1 -1 -1 -1  5  1 -1 -1  3 -1 -1 -1 -1 -1\n",
      " -1  1  4 -1 -1  1  0 -1  4 -1 -1  2 -1  1 -1 -1  1 -1  1 -1 -1  0 -1 -1\n",
      "  5 -1 -1  1 -1 -1 -1  1 -1  1  2  4 -1 -1  1 -1 -1  1 -1  3 -1 -1 -1  3\n",
      " -1 -1  1 -1 -1 -1 -1 -1 -1 -1 -1 -1 -1  5 -1  1  1  3 -1  1  1 -1 -1  1\n",
      " -1 -1  1 -1 -1 -1 -1 -1 -1 -1 -1], NumClusters: 6\n",
      "Index: 3, Score: -0.07393660417926702, Labels: [-1  0  1  1 -1  2 -1 -1 -1 -1 -1 -1  1  1  2  2  2 -1 -1 -1  1  0 -1 -1\n",
      "  1 -1  1  1 -1 -1 -1 -1 -1 -1  1 -1  2 -1 -1 -1 -1 -1 -1 -1 -1 -1 -1 -1\n",
      "  0 -1  1 -1 -1 -1 -1 -1 -1 -1 -1  0 -1 -1 -1 -1 -1 -1  1 -1 -1 -1  1 -1\n",
      " -1  2 -1  2 -1 -1  2  2 -1 -1  1 -1  0 -1 -1 -1 -1 -1  2 -1 -1 -1 -1 -1\n",
      " -1 -1  1 -1 -1 -1 -1  0  1  1 -1 -1 -1 -1 -1  1 -1 -1 -1 -1 -1 -1 -1 -1\n",
      " -1  1 -1 -1 -1  1  0 -1 -1 -1 -1  2 -1  1 -1 -1  1 -1  1 -1 -1  0 -1 -1\n",
      " -1 -1 -1  1 -1 -1 -1  1 -1  1  2 -1 -1 -1  1 -1 -1  1 -1 -1 -1 -1 -1 -1\n",
      " -1 -1  1 -1 -1 -1 -1 -1 -1 -1 -1 -1 -1 -1 -1  1  1 -1 -1  1  1 -1 -1  1\n",
      " -1 -1  1 -1 -1 -1 -1 -1 -1 -1 -1], NumClusters: 3\n",
      "Index: 4, Score: -0.07393660417926702, Labels: [-1  0  1  1 -1  2 -1 -1 -1 -1 -1 -1  1  1  2  2  2 -1 -1 -1  1  0 -1 -1\n",
      "  1 -1  1  1 -1 -1 -1 -1 -1 -1  1 -1  2 -1 -1 -1 -1 -1 -1 -1 -1 -1 -1 -1\n",
      "  0 -1  1 -1 -1 -1 -1 -1 -1 -1 -1  0 -1 -1 -1 -1 -1 -1  1 -1 -1 -1  1 -1\n",
      " -1  2 -1  2 -1 -1  2  2 -1 -1  1 -1  0 -1 -1 -1 -1 -1  2 -1 -1 -1 -1 -1\n",
      " -1 -1  1 -1 -1 -1 -1  0  1  1 -1 -1 -1 -1 -1  1 -1 -1 -1 -1 -1 -1 -1 -1\n",
      " -1  1 -1 -1 -1  1  0 -1 -1 -1 -1  2 -1  1 -1 -1  1 -1  1 -1 -1  0 -1 -1\n",
      " -1 -1 -1  1 -1 -1 -1  1 -1  1  2 -1 -1 -1  1 -1 -1  1 -1 -1 -1 -1 -1 -1\n",
      " -1 -1  1 -1 -1 -1 -1 -1 -1 -1 -1 -1 -1 -1 -1  1  1 -1 -1  1  1 -1 -1  1\n",
      " -1 -1  1 -1 -1 -1 -1 -1 -1 -1 -1], NumClusters: 3\n",
      "Index: 5, Score: -0.07429819799842874, Labels: [-1  0  3  1 -1  2 -1 -1 -1 -1 -1 -1  1  1  2  2  2 -1 -1 -1  1  0 -1 -1\n",
      "  1 -1  3  1 -1 -1 -1 -1 -1 -1  3 -1  2 -1 -1 -1 -1 -1 -1 -1 -1 -1 -1 -1\n",
      "  0 -1  3 -1 -1 -1 -1 -1 -1 -1 -1  0 -1 -1 -1 -1 -1 -1 -1 -1 -1 -1  1 -1\n",
      " -1  2 -1  2 -1 -1  2  2 -1 -1  1 -1  0 -1 -1 -1 -1 -1  2 -1 -1 -1 -1 -1\n",
      " -1 -1  1 -1 -1 -1 -1  0  1  1 -1 -1 -1 -1 -1  1 -1 -1 -1 -1 -1 -1 -1 -1\n",
      " -1  1 -1 -1 -1  1  0 -1 -1 -1 -1  2 -1  1 -1 -1  1 -1  1 -1 -1  0 -1 -1\n",
      " -1 -1 -1  1 -1 -1 -1  1 -1  1  2 -1 -1 -1  1 -1 -1  3 -1 -1 -1 -1 -1 -1\n",
      " -1 -1  1 -1 -1 -1 -1 -1 -1 -1 -1 -1 -1 -1 -1  1  1 -1 -1  1  1 -1 -1  3\n",
      " -1 -1  3 -1 -1 -1 -1 -1 -1 -1 -1], NumClusters: 4\n",
      "Index: 6, Score: -0.10880806816226606, Labels: [-1  0 -1  1 -1  2 -1 -1 -1 -1 -1 -1  1  1  2  2  2 -1 -1 -1  1  0 -1 -1\n",
      "  1 -1 -1  1 -1 -1 -1 -1 -1 -1 -1 -1  2 -1 -1 -1 -1 -1 -1 -1 -1 -1 -1 -1\n",
      "  0 -1 -1 -1 -1 -1 -1 -1 -1 -1 -1  0 -1 -1 -1 -1 -1 -1 -1 -1 -1 -1  1 -1\n",
      " -1  2 -1  2 -1 -1  2  2 -1 -1  1 -1  0 -1 -1 -1 -1 -1  2 -1 -1 -1 -1 -1\n",
      " -1 -1  1 -1 -1 -1 -1  0  1  1 -1 -1 -1 -1 -1  1 -1 -1 -1 -1 -1 -1 -1 -1\n",
      " -1  1 -1 -1 -1  1  0 -1 -1 -1 -1  2 -1  1 -1 -1  1 -1  1 -1 -1  0 -1 -1\n",
      " -1 -1 -1  1 -1 -1 -1  1 -1  1  2 -1 -1 -1  1 -1 -1 -1 -1 -1 -1 -1 -1 -1\n",
      " -1 -1  1 -1 -1 -1 -1 -1 -1 -1 -1 -1 -1 -1 -1  1  1 -1 -1  1  1 -1 -1 -1\n",
      " -1 -1 -1 -1 -1 -1 -1 -1 -1 -1 -1], NumClusters: 3\n",
      "Combination (0.01, 9) on iteration 8 of 540 has 1 clusters. Moving on\n",
      "Combination (0.01, 10) on iteration 9 of 540 has 1 clusters. Moving on\n",
      "Combination (0.01, 11) on iteration 10 of 540 has 1 clusters. Moving on\n",
      "Combination (0.01, 12) on iteration 11 of 540 has 1 clusters. Moving on\n",
      "Combination (0.01, 13) on iteration 12 of 540 has 1 clusters. Moving on\n",
      "Combination (0.01, 14) on iteration 13 of 540 has 1 clusters. Moving on\n",
      "Combination (0.01, 15) on iteration 14 of 540 has 1 clusters. Moving on\n",
      "Combination (0.01, 16) on iteration 15 of 540 has 1 clusters. Moving on\n",
      "Combination (0.01, 17) on iteration 16 of 540 has 1 clusters. Moving on\n",
      "Combination (0.01, 18) on iteration 17 of 540 has 1 clusters. Moving on\n",
      "Combination (0.01, 19) on iteration 18 of 540 has 1 clusters. Moving on\n",
      "Index: 18, Score: 0.43779622341744734, Labels: [ 0  1  2  2  3  2 -1 -1  4  4  5  2  2  2  2  2  2 -1  6  2  2  1  7  8\n",
      "  2 -1  2  2 -1  4  9 10  3 -1  2  6  2 11 -1 -1  2 10  2  6  3  2  2 -1\n",
      "  1 12  2  7  2 12  2  3 13  2  4  1 14 -1 -1 12  8 11  2  9 -1 14  2 15\n",
      "  9  2  2  2  3 16  2  2  4 16  2 -1  1 17  2 -1  2 13  2 -1  2 17  2  2\n",
      "  9  2  2 18  0 19  2  1  2  2 16 11 11 18  2  2 16  2  2 13 -1 -1  2  2\n",
      " 19  2  4 20  6  2  1 -1  4  9 16  2 -1  2  5  6  2 -1  2  3 13  1 -1 15\n",
      "  2 -1  2  2 -1 -1 -1  2  2  2  2  4  7  2  2  2 13  2 21  2 -1 -1  2  2\n",
      " -1 -1  2 -1 11 21 11 -1 -1  2 -1  6 -1  2 22  2  2  2  7  2  2 20 -1  2\n",
      " -1 -1  2 20  2  4  3 22  2 -1 19], NumClusters: 23\n",
      "Index: 19, Score: 0.29606364453727874, Labels: [-1  0  1  1  2  1 -1 -1  3  3 -1  1  1  1  1  1  1 -1  4  1  1  0  5 -1\n",
      "  1 -1  1  1 -1  3  6 -1  2 -1  1  4  1  7 -1 -1  1 -1  1  4  2  1  1 -1\n",
      "  0  8  1  5  1  8  1  2  9  1  3  0 -1 -1 -1  8 -1  7  1  6 -1 -1  1 -1\n",
      "  6  1  1  1  2 10  1  1  3 10  1 -1  0 -1  1 -1  1  9  1 -1  1 -1  1  1\n",
      "  6  1  1 -1 -1 11  1  0  1  1 10  7  7 -1  1  1 10  1  1  9 -1 -1  1  1\n",
      " 11  1  3 12  4  1  0 -1  3  6 10  1 -1  1 -1  4  1 -1  1  2  9  0 -1 -1\n",
      "  1 -1  1  1 -1 -1 -1  1  1  1  1  3  5  1  1  1  9  1 -1  1 -1 -1  1  1\n",
      " -1 -1  1 -1  7 -1  7 -1 -1  1 -1  4 -1  1 -1  1  1  1  5  1  1 12 -1  1\n",
      " -1 -1  1 12  1  3  2 -1  1 -1 11], NumClusters: 13\n",
      "Index: 20, Score: 0.1890961907419046, Labels: [-1  0  1  1 -1  1 -1 -1  2  2 -1  1  1  1  1  1  1 -1  3  1  1  0  4 -1\n",
      "  1 -1  1  1 -1  2  5 -1 -1 -1  1  3  1  6 -1 -1  1 -1  1  3  7  1  1 -1\n",
      "  0 -1  1  4  1 -1  1  7  9  1  2  0 -1 -1 -1 -1 -1  6  1  5 -1 -1  1 -1\n",
      "  5  1  1  1  7  8  1  1  2  8  1 -1  0 -1  1 -1  1  9  1 -1  1 -1  1  1\n",
      "  5  1  1 -1 -1 -1  1  0  1  1  8  6  6 -1  1  1  8  1  1 -1 -1 -1  1  1\n",
      " -1  1  2 -1  3  1  0 -1  2  5  8  1 -1  1 -1 -1  1 -1  1 -1  9  0 -1 -1\n",
      "  1 -1  1  1 -1 -1 -1  1  1  1  1  2  4  1  1  1  9  1 -1  1 -1 -1  1  1\n",
      " -1 -1  1 -1  6 -1 -1 -1 -1  1 -1  3 -1  1 -1  1  1  1  4  1  1 -1 -1  1\n",
      " -1 -1  1 -1  1  2  7 -1  1 -1 -1], NumClusters: 10\n",
      "Index: 21, Score: 0.11872971393404251, Labels: [-1  0  1  1 -1  1 -1 -1  2  2 -1  4  1  1  1  1  1 -1 -1  1  1  0 -1 -1\n",
      "  1 -1  1  1 -1  2  3 -1 -1 -1  1 -1  1 -1 -1 -1  1 -1  4 -1 -1  1  4 -1\n",
      "  0 -1  1 -1  4 -1  4 -1 -1  1  2  0 -1 -1 -1 -1 -1 -1  1  3 -1 -1  1 -1\n",
      "  3  1  4  1 -1  5  1  1  2  5  1 -1  0 -1  4 -1  1 -1  1 -1  4 -1  1  4\n",
      "  3  4  1 -1 -1 -1  1  0  1  1  5 -1 -1 -1  4  1  5  4  1 -1 -1 -1  1  1\n",
      " -1  1  2 -1 -1  1  0 -1  2  3  5  1 -1  1 -1 -1  1 -1  1 -1 -1  0 -1 -1\n",
      "  4 -1  1  1 -1 -1 -1  1  1  1  1  2 -1  4  1  4 -1  1 -1  1 -1 -1  1  1\n",
      " -1 -1  1 -1 -1 -1 -1 -1 -1  4 -1 -1 -1  4 -1  1  1  1 -1  1  1 -1 -1  1\n",
      " -1 -1  1 -1  4  2 -1 -1  1 -1 -1], NumClusters: 6\n",
      "Index: 22, Score: 0.16427476474407562, Labels: [-1  0  1  1 -1  1 -1 -1  2  2 -1 -1  1  1  1  1  1 -1 -1  1  1  0 -1 -1\n",
      "  1 -1  1  1 -1  2 -1 -1 -1 -1  1 -1  1 -1 -1 -1  1 -1  3 -1 -1  1 -1 -1\n",
      "  0 -1  1 -1  3 -1 -1 -1 -1  1  2  0 -1 -1 -1 -1 -1 -1  1 -1 -1 -1  1 -1\n",
      " -1  1  3  1 -1 -1  1  1  2 -1  1 -1  0 -1  3 -1  1 -1  1 -1 -1 -1  1  3\n",
      " -1  3  1 -1 -1 -1  1  0  1  1 -1 -1 -1 -1  3  1 -1 -1  1 -1 -1 -1  1  1\n",
      " -1  1  2 -1 -1  1  0 -1  2 -1 -1  1 -1  1 -1 -1  1 -1  1 -1 -1  0 -1 -1\n",
      "  3 -1  1  1 -1 -1 -1  1  1  1  1  2 -1 -1  1  3 -1  1 -1  1 -1 -1  1  1\n",
      " -1 -1  1 -1 -1 -1 -1 -1 -1 -1 -1 -1 -1  3 -1  1  1  1 -1  1  1 -1 -1  1\n",
      " -1 -1  1 -1  3  2 -1 -1  1 -1 -1], NumClusters: 4\n",
      "Index: 23, Score: 0.14589725234981568, Labels: [-1  0  1  1 -1  1 -1 -1  2  2 -1 -1  1  1  1  1  1 -1 -1  1  1  0 -1 -1\n",
      "  1 -1  1  1 -1  2 -1 -1 -1 -1  1 -1  1 -1 -1 -1  1 -1  3 -1 -1  1 -1 -1\n",
      "  0 -1  1 -1  3 -1 -1 -1 -1  1  2  0 -1 -1 -1 -1 -1 -1  1 -1 -1 -1  1 -1\n",
      " -1  1  3  1 -1 -1  1  1  2 -1  1 -1  0 -1  3 -1  1 -1  1 -1 -1 -1  1 -1\n",
      " -1 -1  1 -1 -1 -1  1  0  1  1 -1 -1 -1 -1  3  1 -1 -1  1 -1 -1 -1  1  1\n",
      " -1  1  2 -1 -1  1  0 -1  2 -1 -1  1 -1  1 -1 -1  1 -1  1 -1 -1  0 -1 -1\n",
      "  3 -1  1  1 -1 -1 -1  1  1  1  1  2 -1 -1  1 -1 -1  1 -1  1 -1 -1  1  1\n",
      " -1 -1  1 -1 -1 -1 -1 -1 -1 -1 -1 -1 -1  3 -1  1  1  1 -1  1  1 -1 -1  1\n",
      " -1 -1  1 -1  3  2 -1 -1  1 -1 -1], NumClusters: 4\n",
      "Index: 24, Score: 0.09645590463606911, Labels: [-1  0  1  1 -1  1 -1 -1  2  2 -1 -1  1  1  1  1  1 -1 -1  1  1  0 -1 -1\n",
      "  1 -1  1  1 -1  2 -1 -1 -1 -1  1 -1  1 -1 -1 -1  1 -1 -1 -1 -1  1 -1 -1\n",
      "  0 -1  1 -1 -1 -1 -1 -1 -1  1  2  0 -1 -1 -1 -1 -1 -1  1 -1 -1 -1  1 -1\n",
      " -1  1 -1  1 -1 -1  1  1  2 -1  1 -1  0 -1 -1 -1  1 -1  1 -1 -1 -1  1 -1\n",
      " -1 -1  1 -1 -1 -1  1  0  1  1 -1 -1 -1 -1 -1  1 -1 -1  1 -1 -1 -1 -1  1\n",
      " -1  1  2 -1 -1  1  0 -1  2 -1 -1  1 -1  1 -1 -1  1 -1  1 -1 -1  0 -1 -1\n",
      " -1 -1  1  1 -1 -1 -1  1  1  1  1  2 -1 -1  1 -1 -1  1 -1  1 -1 -1  1  1\n",
      " -1 -1  1 -1 -1 -1 -1 -1 -1 -1 -1 -1 -1 -1 -1  1  1  1 -1  1  1 -1 -1  1\n",
      " -1 -1  1 -1 -1  2 -1 -1  1 -1 -1], NumClusters: 3\n",
      "Index: 25, Score: 0.19527017214075082, Labels: [-1 -1  0  0 -1  0 -1 -1  1  1 -1 -1  0  0  0  0  0 -1 -1  0  0 -1 -1 -1\n",
      "  0 -1  0  0 -1  1 -1 -1 -1 -1  0 -1  0 -1 -1 -1  0 -1 -1 -1 -1  0 -1 -1\n",
      " -1 -1  0 -1 -1 -1 -1 -1 -1  0  1 -1 -1 -1 -1 -1 -1 -1  0 -1 -1 -1  0 -1\n",
      " -1  0 -1  0 -1 -1  0  0  1 -1  0 -1 -1 -1 -1 -1  0 -1  0 -1 -1 -1  0 -1\n",
      " -1 -1  0 -1 -1 -1  0 -1  0  0 -1 -1 -1 -1 -1  0 -1 -1  0 -1 -1 -1 -1  0\n",
      " -1  0  1 -1 -1  0 -1 -1  1 -1 -1  0 -1  0 -1 -1  0 -1  0 -1 -1 -1 -1 -1\n",
      " -1 -1  0  0 -1 -1 -1  0  0  0  0  1 -1 -1  0 -1 -1  0 -1  0 -1 -1 -1  0\n",
      " -1 -1  0 -1 -1 -1 -1 -1 -1 -1 -1 -1 -1 -1 -1  0  0  0 -1  0  0 -1 -1  0\n",
      " -1 -1  0 -1 -1  1 -1 -1  0 -1 -1], NumClusters: 2\n",
      "Combination (0.04413793103448276, 10) on iteration 27 of 540 has 1 clusters. Moving on\n",
      "Combination (0.04413793103448276, 11) on iteration 28 of 540 has 1 clusters. Moving on\n",
      "Combination (0.04413793103448276, 12) on iteration 29 of 540 has 1 clusters. Moving on\n",
      "Combination (0.04413793103448276, 13) on iteration 30 of 540 has 1 clusters. Moving on\n",
      "Combination (0.04413793103448276, 14) on iteration 31 of 540 has 1 clusters. Moving on\n",
      "Combination (0.04413793103448276, 15) on iteration 32 of 540 has 1 clusters. Moving on\n",
      "Combination (0.04413793103448276, 16) on iteration 33 of 540 has 1 clusters. Moving on\n",
      "Combination (0.04413793103448276, 17) on iteration 34 of 540 has 1 clusters. Moving on\n",
      "Combination (0.04413793103448276, 18) on iteration 35 of 540 has 1 clusters. Moving on\n",
      "Combination (0.04413793103448276, 19) on iteration 36 of 540 has 1 clusters. Moving on\n",
      "Index: 36, Score: 0.4266389078468933, Labels: [ 0  1  2  2  3  2 -1 -1  2  2  4  2  2  2  2  2  2 -1  1  2  2  1  5  5\n",
      "  2 -1  2  2 -1  2  6  7  3 -1  2  1  2  8 -1 -1  2  7  2  1  3  2  2 -1\n",
      "  1  3  2  5  2  3  2  3  5  2  2  1  3 -1 -1  3  5  8  2  6 -1  3  2  5\n",
      "  6  2  2  2  3  9  2  2  2  9  2 -1  1 10  2 -1  2  5  2  5  2 10  2  2\n",
      "  6  2  2 11  0  3  2  1  2  2  9  8  8 11  2  2  9  2  2  5 12 -1  2  2\n",
      "  3  2  2 11  1  2  1 -1  2  6  9  2 12  2  4  1  2 -1  2  3  5  1  3  5\n",
      "  2  9  2  2 -1 -1  7  2  2  2  2  2  5  2  2  2  5  2  3  2 -1 -1  2  2\n",
      " -1 -1  2 -1  8  3  8 -1 -1  2 -1  1  5  2  5  2  2  2  5  2  2 11 -1  2\n",
      " -1 -1  2 11  2  2  3  5  2 -1  3], NumClusters: 13\n",
      "Index: 37, Score: 0.4858406125290543, Labels: [-1  0  1  1  2  1 -1 -1  1  1 -1  1  1  1  1  1  1 -1  0  1  1  0  3  3\n",
      "  1 -1  1  1 -1  1  4  6  2 -1  1  0  1  5 -1 -1  1  6  1  0  2  1  1 -1\n",
      "  0  2  1  3  1  2  1  2  3  1  1  0  2 -1 -1  2  3  5  1  4 -1  2  1  3\n",
      "  4  1  1  1  2  7  1  1  1  7  1 -1  0 -1  1 -1  1  3  1  3  1 -1  1  1\n",
      "  4  1  1  8 -1  2  1  0  1  1  7  5  5  8  1  1  7  1  1  3 -1 -1  1  1\n",
      "  2  1  1  8  0  1  0 -1  1  4  7  1 -1  1 -1  0  1 -1  1  2  3  0  2  3\n",
      "  1  7  1  1 -1 -1  6  1  1  1  1  1  3  1  1  1  3  1  2  1 -1 -1  1  1\n",
      " -1 -1  1 -1  5  2  5 -1 -1  1 -1  0  3  1  3  1  1  1  3  1  1  8 -1  1\n",
      " -1 -1  1  8  1  1  2  3  1 -1  2], NumClusters: 9\n",
      "Index: 38, Score: 0.4627850556293868, Labels: [-1  0  1  1  2  1 -1 -1  1  1 -1  1  1  1  1  1  1 -1  0  1  1  0  3  3\n",
      "  1 -1  1  1 -1  1  4 -1  2 -1  1  0  1  5 -1 -1  1 -1  1  0  2  1  1 -1\n",
      "  0  2  1  3  1  2  1  2  3  1  1  0  2 -1 -1  2  3  5  1  4 -1  2  1  3\n",
      "  4  1  1  1  2  6  1  1  1  6  1 -1  0 -1  1 -1  1  3  1  3  1 -1  1  1\n",
      "  4  1  1  7 -1  2  1  0  1  1  6  5  5  7  1  1  6  1  1  3 -1 -1  1  1\n",
      "  2  1  1  7  0  1  0 -1  1  4  6  1 -1  1 -1  0  1 -1  1  2  3  0  2  3\n",
      "  1  6  1  1 -1 -1 -1  1  1  1  1  1  3  1  1  1  3  1  2  1 -1 -1  1  1\n",
      " -1 -1  1 -1  5  2  5 -1 -1  1 -1  0  3  1 -1  1  1  1  3  1  1  7 -1  1\n",
      " -1 -1  1  7  1  1  2 -1  1 -1  2], NumClusters: 8\n",
      "Index: 39, Score: 0.42879020262921375, Labels: [-1  0  1  1  2  1 -1 -1  1  1 -1  1  1  1  1  1  1 -1  0  1  1  0  5  5\n",
      "  1 -1  1  1 -1  1  3 -1  2 -1  1  0  1  4 -1 -1  1 -1  1  0  2  1  1 -1\n",
      "  0  6  1  5  1  2  1  2  5  1  1  0  6 -1 -1  6 -1  4  1  3 -1  6  1  5\n",
      "  3  1  1  1  2  7  1  1  1  7  1 -1  0 -1  1 -1  1  5  1 -1  1 -1  1  1\n",
      "  3  1  1  8 -1 -1  1  0  1  1  7  4  4  8  1  1  7  1  1  5 -1 -1  1  1\n",
      " -1  1  1  8  0  1  0 -1  1  3  7  1 -1  1 -1  0  1 -1  1  2  5  0 -1  5\n",
      "  1  7  1  1 -1 -1 -1  1  1  1  1  1  5  1  1  1  5  1  2  1 -1 -1  1  1\n",
      " -1 -1  1 -1  4  2  4 -1 -1  1 -1  0 -1  1 -1  1  1  1  5  1  1  8 -1  1\n",
      " -1 -1  1  8  1  1  2 -1  1 -1 -1], NumClusters: 9\n",
      "Index: 40, Score: 0.26698235329312664, Labels: [-1  0  1  1  4  1 -1 -1  1  1 -1  1  1  1  1  1  1 -1  0  1  1  0 -1 -1\n",
      "  1 -1  1  1 -1  1 -1 -1  4 -1  1  0  1  2 -1 -1  1 -1  1  0  4  1  1 -1\n",
      "  0 -1  1 -1  1 -1  1  4  3  1  1  0 -1 -1 -1 -1 -1  2  1 -1 -1 -1  1  3\n",
      " -1  1  1  1  4  5  1  1  1  5  1 -1  0 -1  1 -1  1  3  1 -1  1 -1  1  1\n",
      " -1  1  1 -1 -1 -1  1  0  1  1  5  2  2 -1  1  1  5  1  1  3 -1 -1  1  1\n",
      " -1  1  1 -1  0  1  0 -1  1 -1  5  1 -1  1 -1  0  1 -1  1 -1  3  0 -1  3\n",
      "  1  5  1  1 -1 -1 -1  1  1  1  1  1 -1  1  1  1  3  1 -1  1 -1 -1  1  1\n",
      " -1 -1  1 -1  2 -1  2 -1 -1  1 -1  0 -1  1 -1  1  1  1 -1  1  1 -1 -1  1\n",
      " -1 -1  1 -1  1  1  4 -1  1 -1 -1], NumClusters: 6\n",
      "Index: 41, Score: 0.22453071056722596, Labels: [-1  0  1  1 -1  1 -1 -1  1  1 -1  1  1  1  1  1  1 -1  0  1  1  0 -1 -1\n",
      "  1 -1  1  1 -1  1 -1 -1 -1 -1  1 -1  1 -1 -1 -1  1 -1  1 -1 -1  1  1 -1\n",
      "  0 -1  1 -1  1 -1  1 -1  2  1  1  0 -1 -1 -1 -1 -1 -1  1 -1 -1 -1  1  2\n",
      " -1  1  1  1 -1 -1  1  1  1 -1  1 -1  0 -1  1 -1  1  2  1 -1  1 -1  1  1\n",
      " -1  1  1 -1 -1 -1  1  0  1  1 -1 -1 -1 -1  1  1 -1  1  1  2 -1 -1  1  1\n",
      " -1  1  1 -1  0  1  0 -1  1 -1 -1  1 -1  1 -1  0  1 -1  1 -1  2  0 -1  2\n",
      "  1 -1  1  1 -1 -1 -1  1  1  1  1  1 -1  1  1  1  2  1 -1  1 -1 -1  1  1\n",
      " -1 -1  1 -1 -1 -1 -1 -1 -1  1 -1  0 -1  1 -1  1  1  1 -1  1  1 -1 -1  1\n",
      " -1 -1  1 -1  1  1 -1 -1  1 -1 -1], NumClusters: 3\n",
      "Index: 42, Score: 0.2721850674783943, Labels: [-1  0  1  1 -1  1 -1 -1  2  2 -1  2  1  1  1  1  1 -1  0  1  1  0 -1 -1\n",
      "  1 -1  1  1 -1  2 -1 -1 -1 -1  1 -1  1 -1 -1 -1  1 -1  2 -1 -1  1  2 -1\n",
      "  0 -1  1 -1  2 -1  2 -1 -1  1  2  0 -1 -1 -1 -1 -1 -1  1 -1 -1 -1  1 -1\n",
      " -1  1  2  1 -1 -1  1  1  2 -1  1 -1  0 -1  2 -1  1 -1  1 -1  2 -1  1  2\n",
      " -1  2  1 -1 -1 -1  1  0  1  1 -1 -1 -1 -1  2  1 -1  1  1 -1 -1 -1  1  1\n",
      " -1  1  2 -1  0  1  0 -1  2 -1 -1  1 -1  1 -1  0  1 -1  1 -1 -1  0 -1 -1\n",
      "  2 -1  1  1 -1 -1 -1  1  1  1  1  2 -1  2  1  2 -1  1 -1  1 -1 -1  1  1\n",
      " -1 -1  1 -1 -1 -1 -1 -1 -1  1 -1  0 -1  2 -1  1  1  1 -1  1  1 -1 -1  1\n",
      " -1 -1  1 -1  2  2 -1 -1  1 -1 -1], NumClusters: 3\n",
      "Index: 43, Score: 0.23301888437660692, Labels: [-1  0  1  1 -1  1 -1 -1  2  2 -1 -1  1  1  1  1  1 -1 -1  1  1  0 -1 -1\n",
      "  1 -1  1  1 -1  2 -1 -1 -1 -1  1 -1  1 -1 -1 -1  1 -1  2 -1 -1  1 -1 -1\n",
      "  0 -1  1 -1  2 -1  2 -1 -1  1  2  0 -1 -1 -1 -1 -1 -1  1 -1 -1 -1  1 -1\n",
      " -1  1  2  1 -1 -1  1  1  2 -1  1 -1  0 -1  2 -1  1 -1  1 -1  2 -1  1  2\n",
      " -1  2  1 -1 -1 -1  1  0  1  1 -1 -1 -1 -1  2  1 -1  1  1 -1 -1 -1  1  1\n",
      " -1  1  2 -1 -1  1  0 -1  2 -1 -1  1 -1  1 -1  0  1 -1  1 -1 -1  0 -1 -1\n",
      "  2 -1  1  1 -1 -1 -1  1  1  1  1  2 -1  2  1  2 -1  1 -1  1 -1 -1  1  1\n",
      " -1 -1  1 -1 -1 -1 -1 -1 -1  1 -1 -1 -1  2 -1  1  1  1 -1  1  1 -1 -1  1\n",
      " -1 -1  1 -1  2  2 -1 -1  1 -1 -1], NumClusters: 3\n",
      "Index: 44, Score: 0.325916985478123, Labels: [-1 -1  0  0 -1  0 -1 -1  1  1 -1 -1  0  0  0  0  0 -1 -1  0  0 -1 -1 -1\n",
      "  0 -1  0  0 -1  1 -1 -1 -1 -1  0 -1  0 -1 -1 -1  0 -1  1 -1 -1  0 -1 -1\n",
      " -1 -1  0 -1  1 -1  1 -1 -1  0  1 -1 -1 -1 -1 -1 -1 -1  0 -1 -1 -1  0 -1\n",
      " -1  0  1  0 -1 -1  0  0  1 -1  0 -1 -1 -1  1 -1  0 -1  0 -1 -1 -1  0  1\n",
      " -1  1  0 -1 -1 -1  0 -1  0  0 -1 -1 -1 -1  1  0 -1  0  0 -1 -1 -1  0  0\n",
      " -1  0  1 -1 -1  0 -1 -1  1 -1 -1  0 -1  0 -1 -1  0 -1  0 -1 -1 -1 -1 -1\n",
      "  1 -1  0  0 -1 -1 -1  0  0  0  0  1 -1 -1  0  1 -1  0 -1  0 -1 -1  0  0\n",
      " -1 -1  0 -1 -1 -1 -1 -1 -1  0 -1 -1 -1  1 -1  0  0  0 -1  0  0 -1 -1  0\n",
      " -1 -1  0 -1  1  1 -1 -1  0 -1 -1], NumClusters: 2\n",
      "Index: 45, Score: 0.2598646649397963, Labels: [-1 -1  0  0 -1  0 -1 -1 -1 -1 -1 -1  0  0  0  0  0 -1 -1  0  0 -1 -1 -1\n",
      "  0 -1  0  0 -1  2 -1 -1 -1 -1  0 -1  0 -1 -1 -1  0 -1  1 -1 -1  0 -1 -1\n",
      " -1 -1  0 -1  1 -1  1 -1 -1  0 -1 -1 -1 -1 -1 -1 -1 -1  0 -1 -1 -1  0 -1\n",
      " -1  0  1  0 -1 -1  0  0  2 -1  0 -1 -1 -1  2 -1  0 -1  0 -1 -1 -1  0  1\n",
      " -1  1  0 -1 -1 -1  0 -1  0  0 -1 -1 -1 -1  1  0 -1  0  0 -1 -1 -1  0  0\n",
      " -1  0  2 -1 -1  0 -1 -1  2 -1 -1  0 -1  0 -1 -1  0 -1  0 -1 -1 -1 -1 -1\n",
      "  1 -1  0  0 -1 -1 -1  0  0  0  0  2 -1 -1  0  1 -1  0 -1  0 -1 -1  0  0\n",
      " -1 -1  0 -1 -1 -1 -1 -1 -1  0 -1 -1 -1  1 -1  0  0  0 -1  0  0 -1 -1  0\n",
      " -1 -1  0 -1  1  2 -1 -1  0 -1 -1], NumClusters: 3\n",
      "Index: 46, Score: 0.23997552811889125, Labels: [-1 -1  0  0 -1  0 -1 -1 -1 -1 -1 -1  0  0  0  0  0 -1 -1  0  0 -1 -1 -1\n",
      "  0 -1  0  0 -1  1 -1 -1 -1 -1  0 -1  0 -1 -1 -1  0 -1 -1 -1 -1  0 -1 -1\n",
      " -1 -1  0 -1  1 -1 -1 -1 -1  0 -1 -1 -1 -1 -1 -1 -1 -1  0 -1 -1 -1  0 -1\n",
      " -1  0  1  0 -1 -1  0  0  1 -1  0 -1 -1 -1  1 -1  0 -1  0 -1 -1 -1  0 -1\n",
      " -1 -1  0 -1 -1 -1  0 -1  0  0 -1 -1 -1 -1  1  0 -1 -1  0 -1 -1 -1  0  0\n",
      " -1  0  1 -1 -1  0 -1 -1  1 -1 -1  0 -1  0 -1 -1  0 -1  0 -1 -1 -1 -1 -1\n",
      "  1 -1  0  0 -1 -1 -1  0  0  0  0  1 -1 -1  0 -1 -1  0 -1  0 -1 -1  0  0\n",
      " -1 -1  0 -1 -1 -1 -1 -1 -1 -1 -1 -1 -1  1 -1  0  0  0 -1  0  0 -1 -1  0\n",
      " -1 -1  0 -1 -1  1 -1 -1  0 -1 -1], NumClusters: 2\n",
      "Combination (0.07827586206896552, 13) on iteration 48 of 540 has 1 clusters. Moving on\n",
      "Combination (0.07827586206896552, 14) on iteration 49 of 540 has 1 clusters. Moving on\n",
      "Combination (0.07827586206896552, 15) on iteration 50 of 540 has 1 clusters. Moving on\n",
      "Combination (0.07827586206896552, 16) on iteration 51 of 540 has 1 clusters. Moving on\n",
      "Combination (0.07827586206896552, 17) on iteration 52 of 540 has 1 clusters. Moving on\n",
      "Combination (0.07827586206896552, 18) on iteration 53 of 540 has 1 clusters. Moving on\n",
      "Combination (0.07827586206896552, 19) on iteration 54 of 540 has 1 clusters. Moving on\n",
      "Index: 54, Score: 0.4168115556314082, Labels: [ 0  1  2  2  3  2 -1 -1  2  2  4  2  2  2  2  2  2 -1  1  2  2  1  5  5\n",
      "  2 -1  2  2 -1  2  0  3  3 -1  2  1  2  3 -1 -1  2  3  2  1  3  2  2 -1\n",
      "  1  3  2  5  2  3  2  3  5  2  2  1  3 -1 -1  3  5  3  2  0 -1  3  2  5\n",
      "  0  2  2  2  3  3  2  2  2  3  2 -1  1  6  2 -1  2  5  2  5  2  6  2  2\n",
      "  0  2  2  1  0  3  2  1  2  2  3  3  3  1  2  2  3  2  2  5  7  6  2  2\n",
      "  3  2  2  1  1  2  1  6  2  0  3  2  7  2  4  1  2 -1  2  3  5  1  3  5\n",
      "  2  3  2  2 -1 -1  3  2  2  2  2  2  5  2  2  2  5  2  3  2 -1 -1  2  2\n",
      " -1 -1  2 -1  3  3  3 -1 -1  2 -1  1  5  2  5  2  2  2  5  2  2  1 -1  2\n",
      " -1 -1  2  1  2  2  3  5  2  1  3], NumClusters: 8\n",
      "Index: 55, Score: 0.43908122302766117, Labels: [ 4  0  1  1  2  1 -1 -1  1  1 -1  1  1  1  1  1  1 -1  0  1  1  0  3  3\n",
      "  1 -1  1  1 -1  1  4  2  2 -1  1  0  1  2 -1 -1  1  2  1  0  2  1  1 -1\n",
      "  0  2  1  3  1  2  1  2  3  1  1  0  2 -1 -1  2  3  2  1  4 -1  2  1  3\n",
      "  4  1  1  1  2  2  1  1  1  2  1 -1  0  5  1 -1  1  3  1  3  1  5  1  1\n",
      "  4  1  1  0  4  2  1  0  1  1  2  2  2  0  1  1  2  1  1  3 -1  5  1  1\n",
      "  2  1  1  0  0  1  0  5  1  4  2  1 -1  1 -1  0  1 -1  1  2  3  0  2  3\n",
      "  1  2  1  1 -1 -1  2  1  1  1  1  1  3  1  1  1  3  1  2  1 -1 -1  1  1\n",
      " -1 -1  1 -1  2  2  2 -1 -1  1 -1  0  3  1  3  1  1  1  3  1  1  0 -1  1\n",
      " -1 -1  1  0  1  1  2  3  1  0  2], NumClusters: 6\n",
      "Index: 56, Score: 0.43908122302766117, Labels: [ 4  0  1  1  2  1 -1 -1  1  1 -1  1  1  1  1  1  1 -1  0  1  1  0  3  3\n",
      "  1 -1  1  1 -1  1  4  2  2 -1  1  0  1  2 -1 -1  1  2  1  0  2  1  1 -1\n",
      "  0  2  1  3  1  2  1  2  3  1  1  0  2 -1 -1  2  3  2  1  4 -1  2  1  3\n",
      "  4  1  1  1  2  2  1  1  1  2  1 -1  0  5  1 -1  1  3  1  3  1  5  1  1\n",
      "  4  1  1  0  4  2  1  0  1  1  2  2  2  0  1  1  2  1  1  3 -1  5  1  1\n",
      "  2  1  1  0  0  1  0  5  1  4  2  1 -1  1 -1  0  1 -1  1  2  3  0  2  3\n",
      "  1  2  1  1 -1 -1  2  1  1  1  1  1  3  1  1  1  3  1  2  1 -1 -1  1  1\n",
      " -1 -1  1 -1  2  2  2 -1 -1  1 -1  0  3  1  3  1  1  1  3  1  1  0 -1  1\n",
      " -1 -1  1  0  1  1  2  3  1  0  2], NumClusters: 6\n",
      "Index: 57, Score: 0.4827831711813315, Labels: [-1  0  1  1  2  1 -1 -1  1  1 -1  1  1  1  1  1  1 -1  0  1  1  0  3  3\n",
      "  1 -1  1  1 -1  1  4  5  2 -1  1  0  1  5 -1 -1  1  5  1  0  2  1  1 -1\n",
      "  0  2  1  3  1  2  1  2  3  1  1  0  2 -1 -1  2  3  5  1  4 -1  2  1  3\n",
      "  4  1  1  1  2  2  1  1  1  2  1 -1  0 -1  1 -1  1  3  1 -1  1 -1  1  1\n",
      "  4  1  1  6  4  2  1  0  1  1  2  5  5  6  1  1  2  1  1  3 -1 -1  1  1\n",
      "  2  1  1  6  0  1  0 -1  1  4  2  1 -1  1 -1  0  1 -1  1  2  3  0  2  3\n",
      "  1  2  1  1 -1 -1  2  1  1  1  1  1  3  1  1  1  3  1  2  1 -1 -1  1  1\n",
      " -1 -1  1 -1  5  2  5 -1 -1  1 -1  0  3  1 -1  1  1  1  3  1  1  6 -1  1\n",
      " -1 -1  1  6  1  1  2 -1  1  0  2], NumClusters: 7\n",
      "Index: 58, Score: 0.4827831711813315, Labels: [-1  0  1  1  2  1 -1 -1  1  1 -1  1  1  1  1  1  1 -1  0  1  1  0  3  3\n",
      "  1 -1  1  1 -1  1  4  5  2 -1  1  0  1  5 -1 -1  1  5  1  0  2  1  1 -1\n",
      "  0  2  1  3  1  2  1  2  3  1  1  0  2 -1 -1  2  3  5  1  4 -1  2  1  3\n",
      "  4  1  1  1  2  2  1  1  1  2  1 -1  0 -1  1 -1  1  3  1 -1  1 -1  1  1\n",
      "  4  1  1  6  4  2  1  0  1  1  2  5  5  6  1  1  2  1  1  3 -1 -1  1  1\n",
      "  2  1  1  6  0  1  0 -1  1  4  2  1 -1  1 -1  0  1 -1  1  2  3  0  2  3\n",
      "  1  2  1  1 -1 -1  2  1  1  1  1  1  3  1  1  1  3  1  2  1 -1 -1  1  1\n",
      " -1 -1  1 -1  5  2  5 -1 -1  1 -1  0  3  1 -1  1  1  1  3  1  1  6 -1  1\n",
      " -1 -1  1  6  1  1  2 -1  1  0  2], NumClusters: 7\n",
      "Index: 59, Score: 0.3596104354669189, Labels: [-1  0  1  1  2  1 -1 -1  1  1 -1  1  1  1  1  1  1 -1  0  1  1  0  3 -1\n",
      "  1 -1  1  1 -1  1 -1  5  2 -1  1  0  1  5 -1 -1  1  5  1  0  2  1  1 -1\n",
      "  0  2  1 -1  1  2  1  2  3  1  1  0 -1 -1 -1 -1 -1  5  1 -1 -1 -1  1  3\n",
      " -1  1  1  1  2  4  1  1  1  4  1 -1  0 -1  1 -1  1  3  1 -1  1 -1  1  1\n",
      " -1  1  1 -1 -1 -1  1  0  1  1  4  5  5 -1  1  1  4  1  1  3 -1 -1  1  1\n",
      "  4  1  1 -1  0  1  0 -1  1 -1  4  1 -1  1 -1  0  1 -1  1  2  3  0 -1  3\n",
      "  1  4  1  1 -1 -1  4  1  1  1  1  1  3  1  1  1  3  1  2  1 -1 -1  1  1\n",
      " -1 -1  1 -1  5  2  5 -1 -1  1 -1  0 -1  1 -1  1  1  1 -1  1  1 -1 -1  1\n",
      " -1 -1  1 -1  1  1  2 -1  1  0  4], NumClusters: 6\n",
      "Index: 60, Score: 0.2888149545782978, Labels: [-1  0  1  1 -1  1 -1 -1  1  1 -1  1  1  1  1  1  1 -1  0  1  1  0 -1 -1\n",
      "  1 -1  1  1 -1  1 -1  3 -1 -1  1  0  1  3 -1 -1  1  3  1  0 -1  1  1 -1\n",
      "  0 -1  1 -1  1 -1  1 -1 -1  1  1  0 -1 -1 -1 -1 -1  3  1 -1 -1 -1  1 -1\n",
      " -1  1  1  1 -1  2  1  1  1  2  1 -1  0 -1  1 -1  1 -1  1 -1  1 -1  1  1\n",
      " -1  1  1 -1 -1 -1  1  0  1  1  2  3  3 -1  1  1  2  1  1 -1 -1 -1  1  1\n",
      "  2  1  1 -1  0  1  0 -1  1 -1  2  1 -1  1 -1  0  1 -1  1 -1 -1  0 -1 -1\n",
      "  1  2  1  1 -1 -1 -1  1  1  1  1  1 -1  1  1  1 -1  1 -1  1 -1 -1  1  1\n",
      " -1 -1  1 -1  3 -1  3 -1 -1  1 -1  0 -1  1 -1  1  1  1 -1  1  1 -1 -1  1\n",
      " -1 -1  1 -1  1  1 -1 -1  1 -1  2], NumClusters: 4\n",
      "Index: 61, Score: 0.39079138879113384, Labels: [-1  0  1  1 -1  1 -1 -1  1  1 -1  1  1  1  1  1  1 -1  0  1  1  0 -1 -1\n",
      "  1 -1  1  1 -1  1 -1 -1 -1 -1  1  0  1 -1 -1 -1  1 -1  1  0 -1  1  1 -1\n",
      "  0 -1  1 -1  1 -1  1 -1 -1  1  1  0 -1 -1 -1 -1 -1 -1  1 -1 -1 -1  1 -1\n",
      " -1  1  1  1 -1 -1  1  1  1 -1  1 -1  0 -1  1 -1  1 -1  1 -1  1 -1  1  1\n",
      " -1  1  1 -1 -1 -1  1  0  1  1 -1 -1 -1 -1  1  1 -1  1  1 -1 -1 -1  1  1\n",
      " -1  1  1 -1  0  1  0 -1  1 -1 -1  1 -1  1 -1  0  1 -1  1 -1 -1  0 -1 -1\n",
      "  1 -1  1  1 -1 -1 -1  1  1  1  1  1 -1  1  1  1 -1  1 -1  1 -1 -1  1  1\n",
      " -1 -1  1 -1 -1 -1 -1 -1 -1  1 -1  0 -1  1 -1  1  1  1 -1  1  1 -1 -1  1\n",
      " -1 -1  1 -1  1  1 -1 -1  1 -1 -1], NumClusters: 2\n",
      "Index: 62, Score: 0.39079138879113384, Labels: [-1  0  1  1 -1  1 -1 -1  1  1 -1  1  1  1  1  1  1 -1  0  1  1  0 -1 -1\n",
      "  1 -1  1  1 -1  1 -1 -1 -1 -1  1  0  1 -1 -1 -1  1 -1  1  0 -1  1  1 -1\n",
      "  0 -1  1 -1  1 -1  1 -1 -1  1  1  0 -1 -1 -1 -1 -1 -1  1 -1 -1 -1  1 -1\n",
      " -1  1  1  1 -1 -1  1  1  1 -1  1 -1  0 -1  1 -1  1 -1  1 -1  1 -1  1  1\n",
      " -1  1  1 -1 -1 -1  1  0  1  1 -1 -1 -1 -1  1  1 -1  1  1 -1 -1 -1  1  1\n",
      " -1  1  1 -1  0  1  0 -1  1 -1 -1  1 -1  1 -1  0  1 -1  1 -1 -1  0 -1 -1\n",
      "  1 -1  1  1 -1 -1 -1  1  1  1  1  1 -1  1  1  1 -1  1 -1  1 -1 -1  1  1\n",
      " -1 -1  1 -1 -1 -1 -1 -1 -1  1 -1  0 -1  1 -1  1  1  1 -1  1  1 -1 -1  1\n",
      " -1 -1  1 -1  1  1 -1 -1  1 -1 -1], NumClusters: 2\n",
      "Index: 63, Score: 0.39079138879113384, Labels: [-1  1  0  0 -1  0 -1 -1  0  0 -1  0  0  0  0  0  0 -1  1  0  0  1 -1 -1\n",
      "  0 -1  0  0 -1  0 -1 -1 -1 -1  0  1  0 -1 -1 -1  0 -1  0  1 -1  0  0 -1\n",
      "  1 -1  0 -1  0 -1  0 -1 -1  0  0  1 -1 -1 -1 -1 -1 -1  0 -1 -1 -1  0 -1\n",
      " -1  0  0  0 -1 -1  0  0  0 -1  0 -1  1 -1  0 -1  0 -1  0 -1  0 -1  0  0\n",
      " -1  0  0 -1 -1 -1  0  1  0  0 -1 -1 -1 -1  0  0 -1  0  0 -1 -1 -1  0  0\n",
      " -1  0  0 -1  1  0  1 -1  0 -1 -1  0 -1  0 -1  1  0 -1  0 -1 -1  1 -1 -1\n",
      "  0 -1  0  0 -1 -1 -1  0  0  0  0  0 -1  0  0  0 -1  0 -1  0 -1 -1  0  0\n",
      " -1 -1  0 -1 -1 -1 -1 -1 -1  0 -1  1 -1  0 -1  0  0  0 -1  0  0 -1 -1  0\n",
      " -1 -1  0 -1  0  0 -1 -1  0 -1 -1], NumClusters: 2\n",
      "Index: 64, Score: 0.28297800878610746, Labels: [-1  2  0  0 -1  0 -1 -1  1  1 -1  0  0  0  0  0  0 -1  2  0  0  2 -1 -1\n",
      "  0 -1  0  0 -1  1 -1 -1 -1 -1  0  2  0 -1 -1 -1  0 -1  1  2 -1  0  0 -1\n",
      "  2 -1  0 -1  1 -1  1 -1 -1  0  1  2 -1 -1 -1 -1 -1 -1  0 -1 -1 -1  0 -1\n",
      " -1  0  1  0 -1 -1  0  0  1 -1  0 -1  2 -1  1 -1  0 -1  0 -1  1 -1  0  1\n",
      " -1  1  0 -1 -1 -1  0  2  0  0 -1 -1 -1 -1  1  0 -1  0  0 -1 -1 -1  0  0\n",
      " -1  0  1 -1  2  0  2 -1  1 -1 -1  0 -1  0 -1  2  0 -1  0 -1 -1  2 -1 -1\n",
      "  1 -1  0  0 -1 -1 -1  0  0  0  0  1 -1  1  0  1 -1  0 -1  0 -1 -1  0  0\n",
      " -1 -1  0 -1 -1 -1 -1 -1 -1  0 -1  2 -1  1 -1  0  0  0 -1  0  0 -1 -1  0\n",
      " -1 -1  0 -1  1  1 -1 -1  0 -1 -1], NumClusters: 3\n",
      "Index: 65, Score: 0.28297800878610746, Labels: [-1  2  0  0 -1  0 -1 -1  1  1 -1  0  0  0  0  0  0 -1  2  0  0  2 -1 -1\n",
      "  0 -1  0  0 -1  1 -1 -1 -1 -1  0  2  0 -1 -1 -1  0 -1  1  2 -1  0  0 -1\n",
      "  2 -1  0 -1  1 -1  1 -1 -1  0  1  2 -1 -1 -1 -1 -1 -1  0 -1 -1 -1  0 -1\n",
      " -1  0  1  0 -1 -1  0  0  1 -1  0 -1  2 -1  1 -1  0 -1  0 -1  1 -1  0  1\n",
      " -1  1  0 -1 -1 -1  0  2  0  0 -1 -1 -1 -1  1  0 -1  0  0 -1 -1 -1  0  0\n",
      " -1  0  1 -1  2  0  2 -1  1 -1 -1  0 -1  0 -1  2  0 -1  0 -1 -1  2 -1 -1\n",
      "  1 -1  0  0 -1 -1 -1  0  0  0  0  1 -1  1  0  1 -1  0 -1  0 -1 -1  0  0\n",
      " -1 -1  0 -1 -1 -1 -1 -1 -1  0 -1  2 -1  1 -1  0  0  0 -1  0  0 -1 -1  0\n",
      " -1 -1  0 -1  1  1 -1 -1  0 -1 -1], NumClusters: 3\n",
      "Index: 66, Score: 0.28297800878610746, Labels: [-1  2  0  0 -1  0 -1 -1  1  1 -1  0  0  0  0  0  0 -1  2  0  0  2 -1 -1\n",
      "  0 -1  0  0 -1  1 -1 -1 -1 -1  0  2  0 -1 -1 -1  0 -1  1  2 -1  0  0 -1\n",
      "  2 -1  0 -1  1 -1  1 -1 -1  0  1  2 -1 -1 -1 -1 -1 -1  0 -1 -1 -1  0 -1\n",
      " -1  0  1  0 -1 -1  0  0  1 -1  0 -1  2 -1  1 -1  0 -1  0 -1  1 -1  0  1\n",
      " -1  1  0 -1 -1 -1  0  2  0  0 -1 -1 -1 -1  1  0 -1  0  0 -1 -1 -1  0  0\n",
      " -1  0  1 -1  2  0  2 -1  1 -1 -1  0 -1  0 -1  2  0 -1  0 -1 -1  2 -1 -1\n",
      "  1 -1  0  0 -1 -1 -1  0  0  0  0  1 -1  1  0  1 -1  0 -1  0 -1 -1  0  0\n",
      " -1 -1  0 -1 -1 -1 -1 -1 -1  0 -1  2 -1  1 -1  0  0  0 -1  0  0 -1 -1  0\n",
      " -1 -1  0 -1  1  1 -1 -1  0 -1 -1], NumClusters: 3\n",
      "Index: 67, Score: 0.3527574647491222, Labels: [-1 -1  0  0 -1  0 -1 -1  1  1 -1  1  0  0  0  0  0 -1 -1  0  0 -1 -1 -1\n",
      "  0 -1  0  0 -1  1 -1 -1 -1 -1  0 -1  0 -1 -1 -1  0 -1  1 -1 -1  0  1 -1\n",
      " -1 -1  0 -1  1 -1  1 -1 -1  0  1 -1 -1 -1 -1 -1 -1 -1  0 -1 -1 -1  0 -1\n",
      " -1  0  1  0 -1 -1  0  0  1 -1  0 -1 -1 -1  1 -1  0 -1  0 -1  1 -1  0  1\n",
      " -1  1  0 -1 -1 -1  0 -1  0  0 -1 -1 -1 -1  1  0 -1  0  0 -1 -1 -1  0  0\n",
      " -1  0  1 -1 -1  0 -1 -1  1 -1 -1  0 -1  0 -1 -1  0 -1  0 -1 -1 -1 -1 -1\n",
      "  1 -1  0  0 -1 -1 -1  0  0  0  0  1 -1  1  0  1 -1  0 -1  0 -1 -1  0  0\n",
      " -1 -1  0 -1 -1 -1 -1 -1 -1  0 -1 -1 -1  1 -1  0  0  0 -1  0  0 -1 -1  0\n",
      " -1 -1  0 -1  1  1 -1 -1  0 -1 -1], NumClusters: 2\n",
      "Index: 68, Score: 0.3180270858280837, Labels: [-1 -1  0  0 -1  0 -1 -1  1  1 -1 -1  0  0  0  0  0 -1 -1  0  0 -1 -1 -1\n",
      "  0 -1  0  0 -1  1 -1 -1 -1 -1  0 -1  0 -1 -1 -1  0 -1  1 -1 -1  0 -1 -1\n",
      " -1 -1  0 -1  1 -1 -1 -1 -1  0  1 -1 -1 -1 -1 -1 -1 -1  0 -1 -1 -1  0 -1\n",
      " -1  0  1  0 -1 -1  0  0  1 -1  0 -1 -1 -1  1 -1  0 -1  0 -1 -1 -1  0  1\n",
      " -1  1  0 -1 -1 -1  0 -1  0  0 -1 -1 -1 -1  1  0 -1  0  0 -1 -1 -1  0  0\n",
      " -1  0  1 -1 -1  0 -1 -1  1 -1 -1  0 -1  0 -1 -1  0 -1  0 -1 -1 -1 -1 -1\n",
      "  1 -1  0  0 -1 -1 -1  0  0  0  0  1 -1 -1  0  1 -1  0 -1  0 -1 -1  0  0\n",
      " -1 -1  0 -1 -1 -1 -1 -1 -1  0 -1 -1 -1  1 -1  0  0  0 -1  0  0 -1 -1  0\n",
      " -1 -1  0 -1  1  1 -1 -1  0 -1 -1], NumClusters: 2\n",
      "Index: 69, Score: 0.3180270858280837, Labels: [-1 -1  0  0 -1  0 -1 -1  1  1 -1 -1  0  0  0  0  0 -1 -1  0  0 -1 -1 -1\n",
      "  0 -1  0  0 -1  1 -1 -1 -1 -1  0 -1  0 -1 -1 -1  0 -1  1 -1 -1  0 -1 -1\n",
      " -1 -1  0 -1  1 -1 -1 -1 -1  0  1 -1 -1 -1 -1 -1 -1 -1  0 -1 -1 -1  0 -1\n",
      " -1  0  1  0 -1 -1  0  0  1 -1  0 -1 -1 -1  1 -1  0 -1  0 -1 -1 -1  0  1\n",
      " -1  1  0 -1 -1 -1  0 -1  0  0 -1 -1 -1 -1  1  0 -1  0  0 -1 -1 -1  0  0\n",
      " -1  0  1 -1 -1  0 -1 -1  1 -1 -1  0 -1  0 -1 -1  0 -1  0 -1 -1 -1 -1 -1\n",
      "  1 -1  0  0 -1 -1 -1  0  0  0  0  1 -1 -1  0  1 -1  0 -1  0 -1 -1  0  0\n",
      " -1 -1  0 -1 -1 -1 -1 -1 -1  0 -1 -1 -1  1 -1  0  0  0 -1  0  0 -1 -1  0\n",
      " -1 -1  0 -1  1  1 -1 -1  0 -1 -1], NumClusters: 2\n",
      "Index: 70, Score: 0.30185502178497986, Labels: [-1 -1  0  0 -1  0 -1 -1  1  1 -1 -1  0  0  0  0  0 -1 -1  0  0 -1 -1 -1\n",
      "  0 -1  0  0 -1  1 -1 -1 -1 -1  0 -1  0 -1 -1 -1  0 -1  1 -1 -1  0 -1 -1\n",
      " -1 -1  0 -1  1 -1 -1 -1 -1  0  1 -1 -1 -1 -1 -1 -1 -1  0 -1 -1 -1  0 -1\n",
      " -1  0  1  0 -1 -1  0  0  1 -1  0 -1 -1 -1  1 -1  0 -1  0 -1 -1 -1  0 -1\n",
      " -1 -1  0 -1 -1 -1  0 -1  0  0 -1 -1 -1 -1  1  0 -1  0  0 -1 -1 -1  0  0\n",
      " -1  0  1 -1 -1  0 -1 -1  1 -1 -1  0 -1  0 -1 -1  0 -1  0 -1 -1 -1 -1 -1\n",
      "  1 -1  0  0 -1 -1 -1  0  0  0  0  1 -1 -1  0  1 -1  0 -1  0 -1 -1  0  0\n",
      " -1 -1  0 -1 -1 -1 -1 -1 -1  0 -1 -1 -1  1 -1  0  0  0 -1  0  0 -1 -1  0\n",
      " -1 -1  0 -1  1  1 -1 -1  0 -1 -1], NumClusters: 2\n",
      "Combination (0.11241379310344828, 19) on iteration 72 of 540 has 1 clusters. Moving on\n",
      "Index: 72, Score: 0.3716026120367353, Labels: [ 0  1  2  2  3  2 -1 -1  2  2  0  2  2  2  2  2  2 -1  1  2  2  1  3  3\n",
      "  2 -1  2  2 -1  2  0  3  3 -1  2  1  2  3 -1  0  2  3  2  1  3  2  2 -1\n",
      "  1  3  2  3  2  3  2  3  3  2  2  1  3 -1 -1  3  3  3  2  0 -1  3  2  3\n",
      "  0  2  2  2  3  3  2  2  2  3  2 -1  1  4  2  2  2  3  2  3  2  4  2  2\n",
      "  0  2  2  1  0  3  2  1  2  2  3  3  3  1  2  2  3  2  2  3  5  4  2  2\n",
      "  3  2  2  1  1  2  1  4  2  0  3  2  5  2  0  1  2 -1  2  3  3  1  3  3\n",
      "  2  3  2  2 -1 -1  3  2  2  2  2  2  3  2  2  2  3  2  3  2 -1 -1  2  2\n",
      " -1 -1  2 -1  3  3  3 -1 -1  2 -1  1  3  2  3  2  2  2  3  2  2  1 -1  2\n",
      " -1 -1  2  1  2  2  3  3  2  1  3], NumClusters: 6\n",
      "Index: 73, Score: 0.39364532381608264, Labels: [ 0  1  2  2  3  2 -1 -1  2  2  0  2  2  2  2  2  2 -1  1  2  2  1  3  3\n",
      "  2 -1  2  2 -1  2  0  3  3 -1  2  1  2  3 -1  0  2  3  2  1  3  2  2 -1\n",
      "  1  3  2  3  2  3  2  3  3  2  2  1  3 -1 -1  3  3  3  2  0 -1  3  2  3\n",
      "  0  2  2  2  3  3  2  2  2  3  2 -1  1  4  2  2  2  3  2  3  2  4  2  2\n",
      "  0  2  2  1  0  3  2  1  2  2  3  3  3  1  2  2  3  2  2  3 -1  4  2  2\n",
      "  3  2  2  1  1  2  1  4  2  0  3  2 -1  2  0  1  2 -1  2  3  3  1  3  3\n",
      "  2  3  2  2 -1 -1  3  2  2  2  2  2  3  2  2  2  3  2  3  2 -1 -1  2  2\n",
      " -1 -1  2 -1  3  3  3 -1 -1  2 -1  1  3  2  3  2  2  2  3  2  2  1 -1  2\n",
      " -1 -1  2  1  2  2  3  3  2  1  3], NumClusters: 5\n",
      "Index: 74, Score: 0.39364532381608264, Labels: [ 0  1  2  2  3  2 -1 -1  2  2  0  2  2  2  2  2  2 -1  1  2  2  1  3  3\n",
      "  2 -1  2  2 -1  2  0  3  3 -1  2  1  2  3 -1  0  2  3  2  1  3  2  2 -1\n",
      "  1  3  2  3  2  3  2  3  3  2  2  1  3 -1 -1  3  3  3  2  0 -1  3  2  3\n",
      "  0  2  2  2  3  3  2  2  2  3  2 -1  1  4  2  2  2  3  2  3  2  4  2  2\n",
      "  0  2  2  1  0  3  2  1  2  2  3  3  3  1  2  2  3  2  2  3 -1  4  2  2\n",
      "  3  2  2  1  1  2  1  4  2  0  3  2 -1  2  0  1  2 -1  2  3  3  1  3  3\n",
      "  2  3  2  2 -1 -1  3  2  2  2  2  2  3  2  2  2  3  2  3  2 -1 -1  2  2\n",
      " -1 -1  2 -1  3  3  3 -1 -1  2 -1  1  3  2  3  2  2  2  3  2  2  1 -1  2\n",
      " -1 -1  2  1  2  2  3  3  2  1  3], NumClusters: 5\n",
      "Index: 75, Score: 0.575809539747156, Labels: [ 4  0  1  1  2  1 -1 -1  1  1  4  1  1  1  1  1  1 -1  0  1  1  0  3  3\n",
      "  1 -1  1  1 -1  1  4  3  2 -1  1  0  1  3 -1  4  1  3  1  0  2  1  1 -1\n",
      "  0  2  1  3  1  2  1  2  3  1  1  0  2 -1 -1  2  3  3  1  4 -1  2  1  3\n",
      "  4  1  1  1  2  2  1  1  1  2  1 -1  0 -1  1  1  1  3  1  3  1 -1  1  1\n",
      "  4  1  1  0  4  2  1  0  1  1  2  3  3  0  1  1  2  1  1  3 -1 -1  1  1\n",
      "  2  1  1  0  0  1  0 -1  1  4  2  1 -1  1  4  0  1 -1  1  2  3  0  2  3\n",
      "  1  2  1  1 -1 -1  2  1  1  1  1  1  3  1  1  1  3  1  2  1 -1 -1  1  1\n",
      " -1 -1  1 -1  3  2  3 -1 -1  1 -1  0  3  1  3  1  1  1  3  1  1  0 -1  1\n",
      " -1 -1  1  0  1  1  2  3  1  0  2], NumClusters: 5\n",
      "Index: 76, Score: 0.5399036474399019, Labels: [ 4  0  1  1  2  1 -1 -1  1  1  4  1  1  1  1  1  1 -1  0  1  1  0  3  3\n",
      "  1 -1  1  1 -1  1  4  5  2 -1  1  0  1  5 -1  4  1  5  1  0  2  1  1 -1\n",
      "  0  2  1  3  1  2  1  2  3  1  1  0  2 -1 -1  2  3  5  1  4 -1  2  1  3\n",
      "  4  1  1  1  2  2  1  1  1  2  1 -1  0 -1  1  1  1  3  1  3  1 -1  1  1\n",
      "  4  1  1  0  4  2  1  0  1  1  2  5  5  0  1  1  2  1  1  3 -1 -1  1  1\n",
      "  2  1  1  0  0  1  0 -1  1  4  2  1 -1  1  4  0  1 -1  1  2  3  0  2  3\n",
      "  1  2  1  1 -1 -1  2  1  1  1  1  1  3  1  1  1  3  1  2  1 -1 -1  1  1\n",
      " -1 -1  1 -1  5  2  5 -1 -1  1 -1  0  3  1  5  1  1  1  3  1  1  0 -1  1\n",
      " -1 -1  1  0  1  1  2  3  1  0  2], NumClusters: 6\n",
      "Index: 77, Score: 0.5090300860924152, Labels: [ 4  0  1  1  2  1 -1 -1  1  1 -1  1  1  1  1  1  1 -1  0  1  1  0  3  3\n",
      "  1 -1  1  1 -1  1  4  5  2 -1  1  0  1  5 -1 -1  1  5  1  0  2  1  1 -1\n",
      "  0  2  1  3  1  2  1  2  3  1  1  0  2 -1 -1  2  3  5  1  4 -1  2  1  3\n",
      "  4  1  1  1  2  2  1  1  1  2  1 -1  0 -1  1  1  1  3  1  3  1 -1  1  1\n",
      "  4  1  1  0  4  2  1  0  1  1  2  5  5  0  1  1  2  1  1  3 -1 -1  1  1\n",
      "  2  1  1 -1  0  1  0 -1  1  4  2  1 -1  1  4  0  1 -1  1  2  3  0  2  3\n",
      "  1  2  1  1 -1 -1  2  1  1  1  1  1  3  1  1  1  3  1  2  1 -1 -1  1  1\n",
      " -1 -1  1 -1  5  2  5 -1 -1  1 -1  0  3  1  5  1  1  1  3  1  1 -1 -1  1\n",
      " -1 -1  1 -1  1  1  2  5  1  0  2], NumClusters: 6\n",
      "Index: 78, Score: 0.44390744516158676, Labels: [-1  0  1  1  2  1 -1 -1  1  1 -1  1  1  1  1  1  1 -1  0  1  1  0  3  3\n",
      "  1 -1  1  1 -1  1 -1  4  2 -1  1  0  1  4 -1 -1  1  4  1  0  2  1  1 -1\n",
      "  0  2  1  3  1  2  1  2  3  1  1  0  2 -1 -1  2  3  4  1 -1 -1  2  1  3\n",
      " -1  1  1  1  2  2  1  1  1  2  1 -1  0 -1  1  1  1  3  1 -1  1 -1  1  1\n",
      " -1  1  1 -1 -1  2  1  0  1  1  2  4  4 -1  1  1  2  1  1  3 -1 -1  1  1\n",
      "  2  1  1 -1  0  1  0 -1  1 -1  2  1 -1  1 -1  0  1 -1  1  2  3  0  2  3\n",
      "  1  2  1  1 -1 -1 -1  1  1  1  1  1  3  1  1  1  3  1  2  1 -1 -1  1  1\n",
      " -1 -1  1 -1  4  2  4 -1 -1  1 -1  0  3  1  4  1  1  1  3  1  1 -1 -1  1\n",
      " -1 -1  1 -1  1  1  2  4  1  0  2], NumClusters: 5\n",
      "Index: 79, Score: 0.3850145312226345, Labels: [-1  0  1  1  2  1 -1 -1  1  1 -1  1  1  1  1  1  1 -1  0  1  1  0  3 -1\n",
      "  1 -1  1  1 -1  1 -1 -1  2 -1  1  0  1 -1 -1 -1  1 -1  1  0  2  1  1 -1\n",
      "  0  2  1  3  1  2  1  2  3  1  1  0  2 -1 -1  2 -1 -1  1 -1 -1  2  1  3\n",
      " -1  1  1  1  2  2  1  1  1  2  1 -1  0 -1  1  1  1  3  1 -1  1 -1  1  1\n",
      " -1  1  1 -1 -1  2  1  0  1  1  2 -1 -1 -1  1  1  2  1  1  3 -1 -1  1  1\n",
      "  2  1  1 -1  0  1  0 -1  1 -1  2  1 -1  1 -1  0  1 -1  1  2  3  0  2  3\n",
      "  1  2  1  1 -1 -1 -1  1  1  1  1  1  3  1  1  1  3  1  2  1 -1 -1  1  1\n",
      " -1 -1  1 -1 -1  2 -1 -1 -1  1 -1  0 -1  1 -1  1  1  1  3  1  1 -1 -1  1\n",
      " -1 -1  1 -1  1  1  2 -1  1  0  2], NumClusters: 4\n",
      "Index: 80, Score: 0.3388791023002322, Labels: [-1  0  1  1  4  1 -1 -1  1  1 -1  1  1  1  1  1  1 -1  0  1  1  0  2 -1\n",
      "  1 -1  1  1 -1  1 -1 -1  4 -1  1  0  1 -1 -1 -1  1 -1  1  0  4  1  1 -1\n",
      "  0  4  1  2  1  4  1  4  2  1  1  0  3 -1 -1  4 -1 -1  1 -1 -1  3  1  2\n",
      " -1  1  1  1  4  3  1  1  1  3  1 -1  0 -1  1  1  1  2  1 -1  1 -1  1  1\n",
      " -1  1  1 -1 -1  3  1  0  1  1  3 -1 -1 -1  1  1  3  1  1  2 -1 -1  1  1\n",
      "  3  1  1 -1  0  1  0 -1  1 -1  3  1 -1  1 -1  0  1 -1  1  4  2  0  3  2\n",
      "  1 -1  1  1 -1 -1 -1  1  1  1  1  1  2  1  1  1  2  1 -1  1 -1 -1  1  1\n",
      " -1 -1  1 -1 -1 -1 -1 -1 -1  1 -1  0 -1  1 -1  1  1  1  2  1  1 -1 -1  1\n",
      " -1 -1  1 -1  1  1  4 -1  1  0  3], NumClusters: 5\n",
      "Index: 81, Score: 0.2940404979783422, Labels: [-1  0  1  1 -1  1 -1 -1  1  1 -1  1  1  1  1  1  1 -1  0  1  1  0  2 -1\n",
      "  1 -1  1  1 -1  1 -1 -1 -1 -1  1  0  1 -1 -1 -1  1 -1  1  0 -1  1  1 -1\n",
      "  0 -1  1  2  1 -1  1 -1  2  1  1  0  3 -1 -1 -1 -1 -1  1 -1 -1  3  1  2\n",
      " -1  1  1  1 -1  3  1  1  1  3  1 -1  0 -1  1  1  1  2  1 -1  1 -1  1  1\n",
      " -1  1  1 -1 -1  3  1  0  1  1  3 -1 -1 -1  1  1  3  1  1  2 -1 -1  1  1\n",
      "  3  1  1 -1  0  1  0 -1  1 -1  3  1 -1  1 -1  0  1 -1  1 -1  2  0  3  2\n",
      "  1 -1  1  1 -1 -1 -1  1  1  1  1  1  2  1  1  1  2  1 -1  1 -1 -1  1  1\n",
      " -1 -1  1 -1 -1 -1 -1 -1 -1  1 -1  0 -1  1 -1  1  1  1  2  1  1 -1 -1  1\n",
      " -1 -1  1 -1  1  1 -1 -1  1  0  3], NumClusters: 4\n",
      "Index: 82, Score: 0.40831754239327395, Labels: [-1  0  1  1 -1  1 -1 -1  1  1 -1  1  1  1  1  1  1 -1  0  1  1  0 -1 -1\n",
      "  1 -1  1  1 -1  1 -1 -1 -1 -1  1  0  1 -1 -1 -1  1 -1  1  0 -1  1  1 -1\n",
      "  0 -1  1 -1  1 -1  1 -1 -1  1  1  0 -1 -1 -1 -1 -1 -1  1 -1 -1 -1  1 -1\n",
      " -1  1  1  1 -1 -1  1  1  1 -1  1 -1  0 -1  1  1  1 -1  1 -1  1 -1  1  1\n",
      " -1  1  1 -1 -1 -1  1  0  1  1 -1 -1 -1 -1  1  1 -1  1  1 -1 -1 -1  1  1\n",
      " -1  1  1 -1  0  1  0 -1  1 -1 -1  1 -1  1 -1  0  1 -1  1 -1 -1  0 -1 -1\n",
      "  1 -1  1  1 -1 -1 -1  1  1  1  1  1 -1  1  1  1 -1  1 -1  1 -1 -1  1  1\n",
      " -1 -1  1 -1 -1 -1 -1 -1 -1  1 -1  0 -1  1 -1  1  1  1 -1  1  1 -1 -1  1\n",
      " -1 -1  1 -1  1  1 -1 -1  1  0 -1], NumClusters: 2\n",
      "Index: 83, Score: 0.40831754239327395, Labels: [-1  1  0  0 -1  0 -1 -1  0  0 -1  0  0  0  0  0  0 -1  1  0  0  1 -1 -1\n",
      "  0 -1  0  0 -1  0 -1 -1 -1 -1  0  1  0 -1 -1 -1  0 -1  0  1 -1  0  0 -1\n",
      "  1 -1  0 -1  0 -1  0 -1 -1  0  0  1 -1 -1 -1 -1 -1 -1  0 -1 -1 -1  0 -1\n",
      " -1  0  0  0 -1 -1  0  0  0 -1  0 -1  1 -1  0  0  0 -1  0 -1  0 -1  0  0\n",
      " -1  0  0 -1 -1 -1  0  1  0  0 -1 -1 -1 -1  0  0 -1  0  0 -1 -1 -1  0  0\n",
      " -1  0  0 -1  1  0  1 -1  0 -1 -1  0 -1  0 -1  1  0 -1  0 -1 -1  1 -1 -1\n",
      "  0 -1  0  0 -1 -1 -1  0  0  0  0  0 -1  0  0  0 -1  0 -1  0 -1 -1  0  0\n",
      " -1 -1  0 -1 -1 -1 -1 -1 -1  0 -1  1 -1  0 -1  0  0  0 -1  0  0 -1 -1  0\n",
      " -1 -1  0 -1  0  0 -1 -1  0  1 -1], NumClusters: 2\n",
      "Index: 84, Score: 0.40831754239327395, Labels: [-1  1  0  0 -1  0 -1 -1  0  0 -1  0  0  0  0  0  0 -1  1  0  0  1 -1 -1\n",
      "  0 -1  0  0 -1  0 -1 -1 -1 -1  0  1  0 -1 -1 -1  0 -1  0  1 -1  0  0 -1\n",
      "  1 -1  0 -1  0 -1  0 -1 -1  0  0  1 -1 -1 -1 -1 -1 -1  0 -1 -1 -1  0 -1\n",
      " -1  0  0  0 -1 -1  0  0  0 -1  0 -1  1 -1  0  0  0 -1  0 -1  0 -1  0  0\n",
      " -1  0  0 -1 -1 -1  0  1  0  0 -1 -1 -1 -1  0  0 -1  0  0 -1 -1 -1  0  0\n",
      " -1  0  0 -1  1  0  1 -1  0 -1 -1  0 -1  0 -1  1  0 -1  0 -1 -1  1 -1 -1\n",
      "  0 -1  0  0 -1 -1 -1  0  0  0  0  0 -1  0  0  0 -1  0 -1  0 -1 -1  0  0\n",
      " -1 -1  0 -1 -1 -1 -1 -1 -1  0 -1  1 -1  0 -1  0  0  0 -1  0  0 -1 -1  0\n",
      " -1 -1  0 -1  0  0 -1 -1  0  1 -1], NumClusters: 2\n",
      "Index: 85, Score: 0.40831754239327395, Labels: [-1  1  0  0 -1  0 -1 -1  0  0 -1  0  0  0  0  0  0 -1  1  0  0  1 -1 -1\n",
      "  0 -1  0  0 -1  0 -1 -1 -1 -1  0  1  0 -1 -1 -1  0 -1  0  1 -1  0  0 -1\n",
      "  1 -1  0 -1  0 -1  0 -1 -1  0  0  1 -1 -1 -1 -1 -1 -1  0 -1 -1 -1  0 -1\n",
      " -1  0  0  0 -1 -1  0  0  0 -1  0 -1  1 -1  0  0  0 -1  0 -1  0 -1  0  0\n",
      " -1  0  0 -1 -1 -1  0  1  0  0 -1 -1 -1 -1  0  0 -1  0  0 -1 -1 -1  0  0\n",
      " -1  0  0 -1  1  0  1 -1  0 -1 -1  0 -1  0 -1  1  0 -1  0 -1 -1  1 -1 -1\n",
      "  0 -1  0  0 -1 -1 -1  0  0  0  0  0 -1  0  0  0 -1  0 -1  0 -1 -1  0  0\n",
      " -1 -1  0 -1 -1 -1 -1 -1 -1  0 -1  1 -1  0 -1  0  0  0 -1  0  0 -1 -1  0\n",
      " -1 -1  0 -1  0  0 -1 -1  0  1 -1], NumClusters: 2\n",
      "Combination (0.14655172413793105, 16) on iteration 87 of 540 has 1 clusters. Moving on\n",
      "Combination (0.14655172413793105, 17) on iteration 88 of 540 has 1 clusters. Moving on\n",
      "Combination (0.14655172413793105, 18) on iteration 89 of 540 has 1 clusters. Moving on\n",
      "Index: 89, Score: 0.3187604447421254, Labels: [-1 -1  0  0 -1  0 -1 -1  1  1 -1  0  0  0  0  0  0 -1 -1  0  0 -1 -1 -1\n",
      "  0 -1  0  0 -1  1 -1 -1 -1 -1  0 -1  0 -1 -1 -1  0 -1  1 -1 -1  0  0 -1\n",
      " -1 -1  0 -1  1 -1  0 -1 -1  0  1 -1 -1 -1 -1 -1 -1 -1  0 -1 -1 -1  0 -1\n",
      " -1  0  1  0 -1 -1  0  0  1 -1  0 -1 -1 -1  1  0  0 -1  0 -1  0 -1  0  0\n",
      " -1  0  0 -1 -1 -1  0 -1  0  0 -1 -1 -1 -1  1  0 -1  0  0 -1 -1 -1  0  0\n",
      " -1  0  1 -1 -1  0 -1 -1  1 -1 -1  0 -1  0 -1 -1  0 -1  0 -1 -1 -1 -1 -1\n",
      "  1 -1  0  0 -1 -1 -1  0  0  0  0  1 -1  0  0  1 -1  0 -1  0 -1 -1  0  0\n",
      " -1 -1  0 -1 -1 -1 -1 -1 -1  0 -1 -1 -1  1 -1  0  0  0 -1  0  0 -1 -1  0\n",
      " -1 -1  0 -1  1  1 -1 -1  0 -1 -1], NumClusters: 2\n",
      "Index: 90, Score: 0.3668741858049956, Labels: [ 0  1  2  2  3  2 -1 -1  2  2  0  2  2  2  2  2  2 -1  1  2  2  1  3  3\n",
      "  2 -1  2  2 -1  2  0  3  3 -1  2  1  2  3 -1  0  2  3  2  1  3  2  2 -1\n",
      "  1  3  2  3  2  3  2  3  3  2  2  1  3 -1 -1  3  3  3  2  0 -1  3  2  3\n",
      "  0  2  2  2  3  3  2  2  2  3  2  4  1  5  2  2  2  3  2  3  2  5  2  2\n",
      "  0  2  2  1  0  3  2  1  2  2  3  3  3  1  2  2  3  2  2  3  3  5  2  2\n",
      "  3  2  2  1  1  2  1  5  2  0  3  2  3  2  0  1  2 -1  2  3  3  1  3  3\n",
      "  2  3  2  2 -1 -1  3  2  2  2  2  2  3  2  2  2  3  2  3  2 -1 -1  2  2\n",
      " -1 -1  2 -1  3  3  3 -1 -1  2 -1  1  3  2  3  2  2  2  3  2  2  1  4  2\n",
      " -1 -1  2  1  2  2  3  3  2  1  3], NumClusters: 6\n",
      "Index: 91, Score: 0.3928907547197068, Labels: [ 0  1  2  2  3  2 -1 -1  2  2  0  2  2  2  2  2  2 -1  1  2  2  1  3  3\n",
      "  2 -1  2  2 -1  2  0  3  3 -1  2  1  2  3 -1  0  2  3  2  1  3  2  2 -1\n",
      "  1  3  2  3  2  3  2  3  3  2  2  1  3 -1 -1  3  3  3  2  0 -1  3  2  3\n",
      "  0  2  2  2  3  3  2  2  2  3  2 -1  1  4  2  2  2  3  2  3  2  4  2  2\n",
      "  0  2  2  1  0  3  2  1  2  2  3  3  3  1  2  2  3  2  2  3  3  4  2  2\n",
      "  3  2  2  1  1  2  1  4  2  0  3  2  3  2  0  1  2 -1  2  3  3  1  3  3\n",
      "  2  3  2  2 -1 -1  3  2  2  2  2  2  3  2  2  2  3  2  3  2 -1 -1  2  2\n",
      " -1 -1  2 -1  3  3  3 -1 -1  2 -1  1  3  2  3  2  2  2  3  2  2  1 -1  2\n",
      " -1 -1  2  1  2  2  3  3  2  1  3], NumClusters: 5\n",
      "Index: 92, Score: 0.3928907547197068, Labels: [ 0  1  2  2  3  2 -1 -1  2  2  0  2  2  2  2  2  2 -1  1  2  2  1  3  3\n",
      "  2 -1  2  2 -1  2  0  3  3 -1  2  1  2  3 -1  0  2  3  2  1  3  2  2 -1\n",
      "  1  3  2  3  2  3  2  3  3  2  2  1  3 -1 -1  3  3  3  2  0 -1  3  2  3\n",
      "  0  2  2  2  3  3  2  2  2  3  2 -1  1  4  2  2  2  3  2  3  2  4  2  2\n",
      "  0  2  2  1  0  3  2  1  2  2  3  3  3  1  2  2  3  2  2  3  3  4  2  2\n",
      "  3  2  2  1  1  2  1  4  2  0  3  2  3  2  0  1  2 -1  2  3  3  1  3  3\n",
      "  2  3  2  2 -1 -1  3  2  2  2  2  2  3  2  2  2  3  2  3  2 -1 -1  2  2\n",
      " -1 -1  2 -1  3  3  3 -1 -1  2 -1  1  3  2  3  2  2  2  3  2  2  1 -1  2\n",
      " -1 -1  2  1  2  2  3  3  2  1  3], NumClusters: 5\n",
      "Index: 93, Score: 0.5434137265033133, Labels: [ 0  1  2  2  3  2 -1 -1  2  2  0  2  2  2  2  2  2 -1  1  2  2  1  3  3\n",
      "  2 -1  2  2 -1  2  0  3  3 -1  2  1  2  3 -1  0  2  3  2  1  3  2  2 -1\n",
      "  1  3  2  3  2  3  2  3  3  2  2  1  3 -1 -1  3  3  3  2  0 -1  3  2  3\n",
      "  0  2  2  2  3  3  2  2  2  3  2 -1  1 -1  2  2  2  3  2  3  2 -1  2  2\n",
      "  0  2  2  1  0  3  2  1  2  2  3  3  3  1  2  2  3  2  2  3  3 -1  2  2\n",
      "  3  2  2  1  1  2  1 -1  2  0  3  2 -1  2  0  1  2 -1  2  3  3  1  3  3\n",
      "  2  3  2  2 -1 -1  3  2  2  2  2  2  3  2  2  2  3  2  3  2 -1 -1  2  2\n",
      " -1 -1  2 -1  3  3  3 -1 -1  2 -1  1  3  2  3  2  2  2  3  2  2  1 -1  2\n",
      " -1 -1  2  1  2  2  3  3  2  1  3], NumClusters: 4\n",
      "Index: 94, Score: 0.5434137265033133, Labels: [ 0  1  2  2  3  2 -1 -1  2  2  0  2  2  2  2  2  2 -1  1  2  2  1  3  3\n",
      "  2 -1  2  2 -1  2  0  3  3 -1  2  1  2  3 -1  0  2  3  2  1  3  2  2 -1\n",
      "  1  3  2  3  2  3  2  3  3  2  2  1  3 -1 -1  3  3  3  2  0 -1  3  2  3\n",
      "  0  2  2  2  3  3  2  2  2  3  2 -1  1 -1  2  2  2  3  2  3  2 -1  2  2\n",
      "  0  2  2  1  0  3  2  1  2  2  3  3  3  1  2  2  3  2  2  3  3 -1  2  2\n",
      "  3  2  2  1  1  2  1 -1  2  0  3  2 -1  2  0  1  2 -1  2  3  3  1  3  3\n",
      "  2  3  2  2 -1 -1  3  2  2  2  2  2  3  2  2  2  3  2  3  2 -1 -1  2  2\n",
      " -1 -1  2 -1  3  3  3 -1 -1  2 -1  1  3  2  3  2  2  2  3  2  2  1 -1  2\n",
      " -1 -1  2  1  2  2  3  3  2  1  3], NumClusters: 4\n",
      "Index: 95, Score: 0.5367923026383307, Labels: [ 0  1  2  2  3  2 -1 -1  2  2  0  2  2  2  2  2  2 -1  1  2  2  1  3  3\n",
      "  2 -1  2  2 -1  2  0  3  3 -1  2  1  2  3 -1  0  2  3  2  1  3  2  2 -1\n",
      "  1  3  2  3  2  3  2  3  3  2  2  1  3 -1 -1  3  3  3  2  0 -1  3  2  3\n",
      "  0  2  2  2  3  3  2  2  2  3  2 -1  1 -1  2  2  2  3  2  3  2 -1  2  2\n",
      "  0  2  2  1  0  3  2  1  2  2  3  3  3  1  2  2  3  2  2  3  3 -1  2  2\n",
      "  3  2  2  1  1  2  1 -1  2  0  3  2 -1  2  0  1  2 -1  2  3  3  1  3  3\n",
      "  2  3  2  2 -1 -1  3  2  2  2  2  2  3  2  2  2  3  2  3  2 -1 -1  2  2\n",
      " -1 -1  2 -1  3  3  3 -1 -1  2 -1  1  3  2  3  2  2  2  3  2  2 -1 -1  2\n",
      " -1 -1  2  1  2  2  3  3  2  1  3], NumClusters: 4\n",
      "Index: 96, Score: 0.5241511863891678, Labels: [ 4  0  1  1  2  1 -1 -1  1  1  4  1  1  1  1  1  1 -1  0  1  1  0  3  3\n",
      "  1 -1  1  1 -1  1  4  2  2 -1  1  0  1  2 -1  4  1  2  1  0  2  1  1 -1\n",
      "  0  2  1  3  1  2  1  2  3  1  1  0  2 -1 -1  2  3  2  1  4 -1  2  1  3\n",
      "  4  1  1  1  2  2  1  1  1  2  1 -1  0 -1  1  1  1  3  1  3  1 -1  1  1\n",
      "  4  1  1  0  4  2  1  0  1  1  2  2  2  0  1  1  2  1  1  3  3 -1  1  1\n",
      "  2  1  1  0  0  1  0 -1  1  4  2  1 -1  1  4  0  1 -1  1  2  3  0  2  3\n",
      "  1  2  1  1 -1 -1  2  1  1  1  1  1  3  1  1  1  3  1  2  1 -1 -1  1  1\n",
      " -1 -1  1 -1  2  2  2 -1 -1  1 -1  0  3  1  2  1  1  1  3  1  1 -1 -1  1\n",
      " -1 -1  1  0  1  1  2  2  1  0  2], NumClusters: 5\n",
      "Index: 97, Score: 0.524437147978995, Labels: [ 4  0  1  1  2  1 -1 -1  1  1  4  1  1  1  1  1  1 -1  0  1  1  0  3  3\n",
      "  1 -1  1  1 -1  1  4  5  2 -1  1  0  1  5 -1 -1  1  5  1  0  2  1  1 -1\n",
      "  0  2  1  3  1  2  1  2  3  1  1  0  2 -1 -1  2  3  5  1  4 -1  2  1  3\n",
      "  4  1  1  1  2  2  1  1  1  2  1 -1  0 -1  1  1  1  3  1  3  1 -1  1  1\n",
      "  4  1  1  0  4  2  1  0  1  1  2  5  5  0  1  1  2  1  1  3 -1 -1  1  1\n",
      "  2  1  1  0  0  1  0 -1  1  4  2  1 -1  1  4  0  1 -1  1  2  3  0  2  3\n",
      "  1  2  1  1 -1 -1  2  1  1  1  1  1  3  1  1  1  3  1  2  1 -1 -1  1  1\n",
      " -1 -1  1 -1  5  2  5 -1 -1  1 -1  0  3  1  3  1  1  1  3  1  1 -1 -1  1\n",
      " -1 -1  1  0  1  1  2  3  1  0  2], NumClusters: 6\n",
      "Index: 98, Score: 0.4758621835299962, Labels: [-1  0  1  1  2  1 -1 -1  1  1 -1  1  1  1  1  1  1 -1  0  1  1  0  3  3\n",
      "  1 -1  1  1 -1  1 -1  4  2 -1  1  0  1  4 -1 -1  1  4  1  0  2  1  1 -1\n",
      "  0  2  1  3  1  2  1  2  3  1  1  0  2 -1 -1  2  3  4  1 -1 -1  2  1  3\n",
      " -1  1  1  1  2  2  1  1  1  2  1 -1  0 -1  1  1  1  3  1 -1  1 -1  1  1\n",
      " -1  1  1  0 -1  2  1  0  1  1  2  4  4  0  1  1  2  1  1  3 -1 -1  1  1\n",
      "  2  1  1  0  0  1  0 -1  1 -1  2  1 -1  1 -1  0  1 -1  1  2  3  0  2  3\n",
      "  1  2  1  1 -1 -1  2  1  1  1  1  1  3  1  1  1  3  1  2  1 -1 -1  1  1\n",
      " -1 -1  1 -1  4  2  4 -1 -1  1 -1  0  3  1  4  1  1  1  3  1  1 -1 -1  1\n",
      " -1 -1  1  0  1  1  2  4  1  0  2], NumClusters: 5\n",
      "Index: 99, Score: 0.36521371694332105, Labels: [-1  0  1  1  2  1 -1 -1  1  1 -1  1  1  1  1  1  1 -1  0  1  1  0  4  4\n",
      "  1 -1  1  1 -1  1 -1 -1  2 -1  1  0  1 -1 -1 -1  1 -1  1  0  2  1  1 -1\n",
      "  0  2  1  4  1  2  1  2  4  1  1  0  2 -1 -1  2  4 -1  1 -1 -1  2  1  4\n",
      " -1  1  1  1  2  3  1  1  1  3  1 -1  0 -1  1  1  1  4  1 -1  1 -1  1  1\n",
      " -1  1  1 -1 -1  3  1  0  1  1  3 -1 -1 -1  1  1  3  1  1  4 -1 -1  1  1\n",
      "  3  1  1 -1  0  1  0 -1  1 -1  3  1 -1  1 -1  0  1 -1  1  2  4  0  2  4\n",
      "  1 -1  1  1 -1 -1 -1  1  1  1  1  1  4  1  1  1  4  1  2  1 -1 -1  1  1\n",
      " -1 -1  1 -1 -1  2 -1 -1 -1  1 -1  0 -1  1 -1  1  1  1  4  1  1 -1 -1  1\n",
      " -1 -1  1 -1  1  1  2 -1  1  0  3], NumClusters: 5\n",
      "Index: 100, Score: 0.32869390579231433, Labels: [-1  0  1  1 -1  1 -1 -1  1  1 -1  1  1  1  1  1  1 -1  0  1  1  0 -1 -1\n",
      "  1 -1  1  1 -1  1 -1 -1 -1 -1  1  0  1 -1 -1 -1  1 -1  1  0 -1  1  1 -1\n",
      "  0 -1  1 -1  1 -1  1 -1 -1  1  1  0  2 -1 -1  2 -1 -1  1 -1 -1  2  1 -1\n",
      " -1  1  1  1 -1  2  1  1  1  2  1 -1  0 -1  1  1  1 -1  1 -1  1 -1  1  1\n",
      " -1  1  1 -1 -1  2  1  0  1  1  2 -1 -1 -1  1  1  2  1  1 -1 -1 -1  1  1\n",
      "  2  1  1 -1  0  1  0 -1  1 -1  2  1 -1  1 -1  0  1 -1  1 -1 -1  0  2 -1\n",
      "  1 -1  1  1 -1 -1 -1  1  1  1  1  1 -1  1  1  1 -1  1 -1  1 -1 -1  1  1\n",
      " -1 -1  1 -1 -1 -1 -1 -1 -1  1 -1  0 -1  1 -1  1  1  1 -1  1  1 -1 -1  1\n",
      " -1 -1  1 -1  1  1 -1 -1  1  0  2], NumClusters: 3\n",
      "Index: 101, Score: 0.40831754239327395, Labels: [-1  0  1  1 -1  1 -1 -1  1  1 -1  1  1  1  1  1  1 -1  0  1  1  0 -1 -1\n",
      "  1 -1  1  1 -1  1 -1 -1 -1 -1  1  0  1 -1 -1 -1  1 -1  1  0 -1  1  1 -1\n",
      "  0 -1  1 -1  1 -1  1 -1 -1  1  1  0 -1 -1 -1 -1 -1 -1  1 -1 -1 -1  1 -1\n",
      " -1  1  1  1 -1 -1  1  1  1 -1  1 -1  0 -1  1  1  1 -1  1 -1  1 -1  1  1\n",
      " -1  1  1 -1 -1 -1  1  0  1  1 -1 -1 -1 -1  1  1 -1  1  1 -1 -1 -1  1  1\n",
      " -1  1  1 -1  0  1  0 -1  1 -1 -1  1 -1  1 -1  0  1 -1  1 -1 -1  0 -1 -1\n",
      "  1 -1  1  1 -1 -1 -1  1  1  1  1  1 -1  1  1  1 -1  1 -1  1 -1 -1  1  1\n",
      " -1 -1  1 -1 -1 -1 -1 -1 -1  1 -1  0 -1  1 -1  1  1  1 -1  1  1 -1 -1  1\n",
      " -1 -1  1 -1  1  1 -1 -1  1  0 -1], NumClusters: 2\n",
      "Index: 102, Score: 0.40831754239327395, Labels: [-1  0  1  1 -1  1 -1 -1  1  1 -1  1  1  1  1  1  1 -1  0  1  1  0 -1 -1\n",
      "  1 -1  1  1 -1  1 -1 -1 -1 -1  1  0  1 -1 -1 -1  1 -1  1  0 -1  1  1 -1\n",
      "  0 -1  1 -1  1 -1  1 -1 -1  1  1  0 -1 -1 -1 -1 -1 -1  1 -1 -1 -1  1 -1\n",
      " -1  1  1  1 -1 -1  1  1  1 -1  1 -1  0 -1  1  1  1 -1  1 -1  1 -1  1  1\n",
      " -1  1  1 -1 -1 -1  1  0  1  1 -1 -1 -1 -1  1  1 -1  1  1 -1 -1 -1  1  1\n",
      " -1  1  1 -1  0  1  0 -1  1 -1 -1  1 -1  1 -1  0  1 -1  1 -1 -1  0 -1 -1\n",
      "  1 -1  1  1 -1 -1 -1  1  1  1  1  1 -1  1  1  1 -1  1 -1  1 -1 -1  1  1\n",
      " -1 -1  1 -1 -1 -1 -1 -1 -1  1 -1  0 -1  1 -1  1  1  1 -1  1  1 -1 -1  1\n",
      " -1 -1  1 -1  1  1 -1 -1  1  0 -1], NumClusters: 2\n",
      "Index: 103, Score: 0.40831754239327395, Labels: [-1  1  0  0 -1  0 -1 -1  0  0 -1  0  0  0  0  0  0 -1  1  0  0  1 -1 -1\n",
      "  0 -1  0  0 -1  0 -1 -1 -1 -1  0  1  0 -1 -1 -1  0 -1  0  1 -1  0  0 -1\n",
      "  1 -1  0 -1  0 -1  0 -1 -1  0  0  1 -1 -1 -1 -1 -1 -1  0 -1 -1 -1  0 -1\n",
      " -1  0  0  0 -1 -1  0  0  0 -1  0 -1  1 -1  0  0  0 -1  0 -1  0 -1  0  0\n",
      " -1  0  0 -1 -1 -1  0  1  0  0 -1 -1 -1 -1  0  0 -1  0  0 -1 -1 -1  0  0\n",
      " -1  0  0 -1  1  0  1 -1  0 -1 -1  0 -1  0 -1  1  0 -1  0 -1 -1  1 -1 -1\n",
      "  0 -1  0  0 -1 -1 -1  0  0  0  0  0 -1  0  0  0 -1  0 -1  0 -1 -1  0  0\n",
      " -1 -1  0 -1 -1 -1 -1 -1 -1  0 -1  1 -1  0 -1  0  0  0 -1  0  0 -1 -1  0\n",
      " -1 -1  0 -1  0  0 -1 -1  0  1 -1], NumClusters: 2\n",
      "Combination (0.1806896551724138, 16) on iteration 105 of 540 has 1 clusters. Moving on\n",
      "Combination (0.1806896551724138, 17) on iteration 106 of 540 has 1 clusters. Moving on\n",
      "Combination (0.1806896551724138, 18) on iteration 107 of 540 has 1 clusters. Moving on\n",
      "Combination (0.1806896551724138, 19) on iteration 108 of 540 has 1 clusters. Moving on\n",
      "Index: 108, Score: -0.08966614611218211, Labels: [ 0  1  2  2  2  2  3 -1  2  2  0  2  2  2  2  2  2 -1  1  2  2  1  2  2\n",
      "  2 -1  2  2 -1  2  0  2  2 -1  2  1  2  2  3  0  2  2  2  1  2  2  2 -1\n",
      "  1  2  2  2  2  2  2  2  2  2  2  1  2 -1 -1  2  2  2  2  0 -1  2  2  2\n",
      "  0  2  2  2  2  2  2  2  2  2  2  4  1  5  2  2  2  2  2  2  2  5  2  2\n",
      "  0  2  2  1  0  2  2  1  2  2  2  2  2  1  2  2  2  2  2  2  2  5  2  2\n",
      "  2  2  2  1  1  2  1  5  2  0  2  2  2  2  0  1  2 -1  2  2  2  1  2  2\n",
      "  2  2  2  2  6  7  2  2  2  2  2  2  2  2  2  2  2  2  2  2 -1 -1  2  2\n",
      " -1 -1  2  6  2  2  2 -1 -1  2 -1  1  2  2  2  2  2  2  2  2  2  1  4  2\n",
      " -1  7  2  1  2  2  2  2  2  1  2], NumClusters: 8\n",
      "Index: 109, Score: -0.05069881991136077, Labels: [ 0  1  2  2  2  2 -1 -1  2  2  0  2  2  2  2  2  2 -1  1  2  2  1  2  2\n",
      "  2 -1  2  2 -1  2  0  2  2 -1  2  1  2  2 -1  0  2  2  2  1  2  2  2 -1\n",
      "  1  2  2  2  2  2  2  2  2  2  2  1  2 -1 -1  2  2  2  2  0 -1  2  2  2\n",
      "  0  2  2  2  2  2  2  2  2  2  2 -1  1  3  2  2  2  2  2  2  2  3  2  2\n",
      "  0  2  2  1  0  2  2  1  2  2  2  2  2  1  2  2  2  2  2  2  2  3  2  2\n",
      "  2  2  2  1  1  2  1  3  2  0  2  2  2  2  0  1  2 -1  2  2  2  1  2  2\n",
      "  2  2  2  2 -1 -1  2  2  2  2  2  2  2  2  2  2  2  2  2  2 -1 -1  2  2\n",
      " -1 -1  2 -1  2  2  2 -1 -1  2 -1  1  2  2  2  2  2  2  2  2  2  1 -1  2\n",
      " -1 -1  2  1  2  2  2  2  2  1  2], NumClusters: 4\n",
      "Index: 110, Score: -0.05069881991136077, Labels: [ 0  1  2  2  2  2 -1 -1  2  2  0  2  2  2  2  2  2 -1  1  2  2  1  2  2\n",
      "  2 -1  2  2 -1  2  0  2  2 -1  2  1  2  2 -1  0  2  2  2  1  2  2  2 -1\n",
      "  1  2  2  2  2  2  2  2  2  2  2  1  2 -1 -1  2  2  2  2  0 -1  2  2  2\n",
      "  0  2  2  2  2  2  2  2  2  2  2 -1  1  3  2  2  2  2  2  2  2  3  2  2\n",
      "  0  2  2  1  0  2  2  1  2  2  2  2  2  1  2  2  2  2  2  2  2  3  2  2\n",
      "  2  2  2  1  1  2  1  3  2  0  2  2  2  2  0  1  2 -1  2  2  2  1  2  2\n",
      "  2  2  2  2 -1 -1  2  2  2  2  2  2  2  2  2  2  2  2  2  2 -1 -1  2  2\n",
      " -1 -1  2 -1  2  2  2 -1 -1  2 -1  1  2  2  2  2  2  2  2  2  2  1 -1  2\n",
      " -1 -1  2  1  2  2  2  2  2  1  2], NumClusters: 4\n",
      "Index: 111, Score: 0.5526386091165192, Labels: [ 0  1  2  2  3  2 -1 -1  2  2  0  2  2  2  2  2  2 -1  1  2  2  1  3  3\n",
      "  2 -1  2  2 -1  2  0  3  3 -1  2  1  2  3 -1  0  2  3  2  1  3  2  2 -1\n",
      "  1  3  2  3  2  3  2  3  3  2  2  1  3 -1 -1  3  3  3  2  0 -1  3  2  3\n",
      "  0  2  2  2  3  3  2  2  2  3  2 -1  1 -1  2  2  2  3  2  3  2 -1  2  2\n",
      "  0  2  2  1  0  3  2  1  2  2  3  3  3  1  2  2  3  2  2  3  2 -1  2  2\n",
      "  3  2  2  1  1  2  1 -1  2  0  3  2  2  2  0  1  2 -1  2  3  3  1  3  3\n",
      "  2  3  2  2 -1 -1  3  2  2  2  2  2  3  2  2  2  3  2  3  2 -1 -1  2  2\n",
      " -1 -1  2 -1  3  3  3 -1 -1  2 -1  1  3  2  3  2  2  2  3  2  2  1 -1  2\n",
      " -1 -1  2  1  2  2  3  3  2  1  3], NumClusters: 4\n",
      "Index: 112, Score: 0.5479778971366451, Labels: [ 0  1  2  2  3  2 -1 -1  2  2  0  2  2  2  2  2  2 -1  1  2  2  1  3  3\n",
      "  2 -1  2  2 -1  2  0  3  3 -1  2  1  2  3 -1  0  2  3  2  1  3  2  2 -1\n",
      "  1  3  2  3  2  3  2  3  3  2  2  1  3 -1 -1  3  3  3  2  0 -1  3  2  3\n",
      "  0  2  2  2  3  3  2  2  2  3  2 -1  1 -1  2  2  2  3  2  3  2 -1  2  2\n",
      "  0  2  2  1  0  3  2  1  2  2  3  3  3  1  2  2  3  2  2  3  3 -1  2  2\n",
      "  3  2  2  1  1  2  1 -1  2  0  3  2  2  2  0  1  2 -1  2  3  3  1  3  3\n",
      "  2  3  2  2 -1 -1  3  2  2  2  2  2  3  2  2  2  3  2  3  2 -1 -1  2  2\n",
      " -1 -1  2 -1  3  3  3 -1 -1  2 -1  1  3  2  3  2  2  2  3  2  2  1 -1  2\n",
      " -1 -1  2  1  2  2  3  3  2  1  3], NumClusters: 4\n",
      "Index: 113, Score: 0.5479778971366451, Labels: [ 0  1  2  2  3  2 -1 -1  2  2  0  2  2  2  2  2  2 -1  1  2  2  1  3  3\n",
      "  2 -1  2  2 -1  2  0  3  3 -1  2  1  2  3 -1  0  2  3  2  1  3  2  2 -1\n",
      "  1  3  2  3  2  3  2  3  3  2  2  1  3 -1 -1  3  3  3  2  0 -1  3  2  3\n",
      "  0  2  2  2  3  3  2  2  2  3  2 -1  1 -1  2  2  2  3  2  3  2 -1  2  2\n",
      "  0  2  2  1  0  3  2  1  2  2  3  3  3  1  2  2  3  2  2  3  3 -1  2  2\n",
      "  3  2  2  1  1  2  1 -1  2  0  3  2  2  2  0  1  2 -1  2  3  3  1  3  3\n",
      "  2  3  2  2 -1 -1  3  2  2  2  2  2  3  2  2  2  3  2  3  2 -1 -1  2  2\n",
      " -1 -1  2 -1  3  3  3 -1 -1  2 -1  1  3  2  3  2  2  2  3  2  2  1 -1  2\n",
      " -1 -1  2  1  2  2  3  3  2  1  3], NumClusters: 4\n",
      "Index: 114, Score: 0.5479778971366451, Labels: [ 3  0  1  1  2  1 -1 -1  1  1  3  1  1  1  1  1  1 -1  0  1  1  0  2  2\n",
      "  1 -1  1  1 -1  1  3  2  2 -1  1  0  1  2 -1  3  1  2  1  0  2  1  1 -1\n",
      "  0  2  1  2  1  2  1  2  2  1  1  0  2 -1 -1  2  2  2  1  3 -1  2  1  2\n",
      "  3  1  1  1  2  2  1  1  1  2  1 -1  0 -1  1  1  1  2  1  2  1 -1  1  1\n",
      "  3  1  1  0  3  2  1  0  1  1  2  2  2  0  1  1  2  1  1  2  2 -1  1  1\n",
      "  2  1  1  0  0  1  0 -1  1  3  2  1  1  1  3  0  1 -1  1  2  2  0  2  2\n",
      "  1  2  1  1 -1 -1  2  1  1  1  1  1  2  1  1  1  2  1  2  1 -1 -1  1  1\n",
      " -1 -1  1 -1  2  2  2 -1 -1  1 -1  0  2  1  2  1  1  1  2  1  1  0 -1  1\n",
      " -1 -1  1  0  1  1  2  2  1  0  2], NumClusters: 4\n",
      "Index: 115, Score: 0.5422649641527659, Labels: [ 3  0  1  1  2  1 -1 -1  1  1  3  1  1  1  1  1  1 -1  0  1  1  0  2  2\n",
      "  1 -1  1  1 -1  1  3  2  2 -1  1  0  1  2 -1 -1  1  2  1  0  2  1  1 -1\n",
      "  0  2  1  2  1  2  1  2  2  1  1  0  2 -1 -1  2  2  2  1  3 -1  2  1  2\n",
      "  3  1  1  1  2  2  1  1  1  2  1 -1  0 -1  1  1  1  2  1  2  1 -1  1  1\n",
      "  3  1  1  0  3  2  1  0  1  1  2  2  2  0  1  1  2  1  1  2 -1 -1  1  1\n",
      "  2  1  1  0  0  1  0 -1  1  3  2  1  1  1  3  0  1 -1  1  2  2  0  2  2\n",
      "  1  2  1  1 -1 -1  2  1  1  1  1  1  2  1  1  1  2  1  2  1 -1 -1  1  1\n",
      " -1 -1  1 -1  2  2  2 -1 -1  1 -1  0  2  1  2  1  1  1  2  1  1  0 -1  1\n",
      " -1 -1  1  0  1  1  2  2  1  0  2], NumClusters: 4\n",
      "Index: 116, Score: 0.4835121264417323, Labels: [-1  0  1  1  2  1 -1 -1  1  1 -1  1  1  1  1  1  1 -1  0  1  1  0  3  3\n",
      "  1 -1  1  1 -1  1 -1  2  2 -1  1  0  1  2 -1 -1  1  2  1  0  2  1  1 -1\n",
      "  0  2  1  3  1  2  1  2  3  1  1  0  2 -1 -1  2  3  2  1 -1 -1  2  1  3\n",
      " -1  1  1  1  2  2  1  1  1  2  1 -1  0 -1  1  1  1  3  1  2  1 -1  1  1\n",
      " -1  1  1  0 -1  2  1  0  1  1  2  2  2  0  1  1  2  1  1  3 -1 -1  1  1\n",
      "  2  1  1  0  0  1  0 -1  1 -1  2  1  1  1 -1  0  1 -1  1  2  3  0  2  3\n",
      "  1  2  1  1 -1 -1  2  1  1  1  1  1  3  1  1  1  3  1  2  1 -1 -1  1  1\n",
      " -1 -1  1 -1  2  2  2 -1 -1  1 -1  0  3  1  2  1  1  1  3  1  1  0 -1  1\n",
      " -1 -1  1  0  1  1  2  2  1  0  2], NumClusters: 4\n",
      "Index: 117, Score: 0.46490549264937925, Labels: [-1  0  1  1  2  1 -1 -1  1  1 -1  1  1  1  1  1  1 -1  0  1  1  0  3  3\n",
      "  1 -1  1  1 -1  1 -1  2  2 -1  1  0  1  4 -1 -1  1  2  1  0  2  1  1 -1\n",
      "  0  2  1  3  1  2  1  2  3  1  1  0  2 -1 -1  2  3  4  1 -1 -1  2  1  3\n",
      " -1  1  1  1  2  2  1  1  1  2  1 -1  0 -1  1  1  1  3  1  4  1 -1  1  1\n",
      " -1  1  1  0 -1  2  1  0  1  1  2  4  2  0  1  1  2  1  1  3 -1 -1  1  1\n",
      "  2  1  1  0  0  1  0 -1  1 -1  2  1  1  1 -1  0  1 -1  1  2  3  0  2  3\n",
      "  1  2  1  1 -1 -1  2  1  1  1  1  1  3  1  1  1  3  1  2  1 -1 -1  1  1\n",
      " -1 -1  1 -1  4  2  2 -1 -1  1 -1  0  3  1  4  1  1  1  3  1  1  0 -1  1\n",
      " -1 -1  1  0  1  1  2  4  1  0  2], NumClusters: 5\n",
      "Index: 118, Score: 0.4392036545923092, Labels: [-1  0  1  1  3  1 -1 -1  1  1 -1  1  1  1  1  1  1 -1  0  1  1  0  2  2\n",
      "  1 -1  1  1 -1  1 -1 -1  3 -1  1  0  1 -1 -1 -1  1 -1  1  0  3  1  1 -1\n",
      "  0  3  1  2  1  3  1  3  2  1  1  0  3 -1 -1  3  2 -1  1 -1 -1  3  1 -1\n",
      " -1  1  1  1  3  3  1  1  1  3  1 -1  0 -1  1  1  1  2  1 -1  1 -1  1  1\n",
      " -1  1  1  0 -1  3  1  0  1  1  3 -1 -1  0  1  1  3  1  1  2 -1 -1  1  1\n",
      "  3  1  1  0  0  1  0 -1  1 -1  3  1  1  1 -1  0  1 -1  1  3  2  0  3 -1\n",
      "  1  3  1  1 -1 -1 -1  1  1  1  1  1  2  1  1  1  2  1  3  1 -1 -1  1  1\n",
      " -1 -1  1 -1 -1  3 -1 -1 -1  1 -1  0  2  1 -1  1  1  1  2  1  1  0 -1  1\n",
      " -1 -1  1  0  1  1  3 -1  1  0  3], NumClusters: 4\n",
      "Index: 119, Score: 0.4393096715615161, Labels: [-1  0  1  1  2  1 -1 -1  1  1 -1  1  1  1  1  1  1 -1  0  1  1  0 -1 -1\n",
      "  1 -1  1  1 -1  1 -1 -1  2 -1  1  0  1 -1 -1 -1  1 -1  1  0  2  1  1 -1\n",
      "  0  2  1 -1  1  2  1  2 -1  1  1  0  2 -1 -1  2 -1 -1  1 -1 -1  2  1 -1\n",
      " -1  1  1  1  2  2  1  1  1  2  1 -1  0 -1  1  1  1 -1  1 -1  1 -1  1  1\n",
      " -1  1  1  0 -1  2  1  0  1  1  2 -1 -1  0  1  1  2  1  1 -1 -1 -1  1  1\n",
      "  2  1  1 -1  0  1  0 -1  1 -1  2  1  1  1 -1  0  1 -1  1  2 -1  0  2 -1\n",
      "  1  2  1  1 -1 -1 -1  1  1  1  1  1 -1  1  1  1 -1  1 -1  1 -1 -1  1  1\n",
      " -1 -1  1 -1 -1  2 -1 -1 -1  1 -1  0 -1  1 -1  1  1  1 -1  1  1 -1 -1  1\n",
      " -1 -1  1 -1  1  1  2 -1  1  0  2], NumClusters: 3\n",
      "Index: 120, Score: 0.36462592164804863, Labels: [-1  0  1  1 -1  1 -1 -1  1  1 -1  1  1  1  1  1  1 -1  0  1  1  0 -1 -1\n",
      "  1 -1  1  1 -1  1 -1 -1 -1 -1  1  0  1 -1 -1 -1  1 -1  1  0 -1  1  1 -1\n",
      "  0  2  1 -1  1 -1  1 -1 -1  1  1  0  2 -1 -1  2 -1 -1  1 -1 -1  2  1 -1\n",
      " -1  1  1  1 -1  2  1  1  1  2  1 -1  0 -1  1  1  1 -1  1 -1  1 -1  1  1\n",
      " -1  1  1  0 -1  2  1  0  1  1  2 -1 -1  0  1  1  2  1  1 -1 -1 -1  1  1\n",
      "  2  1  1 -1  0  1  0 -1  1 -1  2  1  1  1 -1  0  1 -1  1 -1 -1  0  2 -1\n",
      "  1  2  1  1 -1 -1 -1  1  1  1  1  1 -1  1  1  1 -1  1 -1  1 -1 -1  1  1\n",
      " -1 -1  1 -1 -1 -1 -1 -1 -1  1 -1  0 -1  1 -1  1  1  1 -1  1  1 -1 -1  1\n",
      " -1 -1  1 -1  1  1 -1 -1  1  0  2], NumClusters: 3\n",
      "Index: 121, Score: 0.4270371883302889, Labels: [-1  1  0  0 -1  0 -1 -1  0  0 -1  0  0  0  0  0  0 -1  1  0  0  1 -1 -1\n",
      "  0 -1  0  0 -1  0 -1 -1 -1 -1  0  1  0 -1 -1 -1  0 -1  0  1 -1  0  0 -1\n",
      "  1 -1  0 -1  0 -1  0 -1 -1  0  0  1 -1 -1 -1 -1 -1 -1  0 -1 -1 -1  0 -1\n",
      " -1  0  0  0 -1 -1  0  0  0 -1  0 -1  1 -1  0  0  0 -1  0 -1  0 -1  0  0\n",
      " -1  0  0  1 -1 -1  0  1  0  0 -1 -1 -1  1  0  0 -1  0  0 -1 -1 -1  0  0\n",
      " -1  0  0 -1  1  0  1 -1  0 -1 -1  0  0  0 -1  1  0 -1  0 -1 -1  1 -1 -1\n",
      "  0 -1  0  0 -1 -1 -1  0  0  0  0  0 -1  0  0  0 -1  0 -1  0 -1 -1  0  0\n",
      " -1 -1  0 -1 -1 -1 -1 -1 -1  0 -1  1 -1  0 -1  0  0  0 -1  0  0 -1 -1  0\n",
      " -1 -1  0 -1  0  0 -1 -1  0  1 -1], NumClusters: 2\n",
      "Index: 122, Score: 0.4270371883302889, Labels: [-1  1  0  0 -1  0 -1 -1  0  0 -1  0  0  0  0  0  0 -1  1  0  0  1 -1 -1\n",
      "  0 -1  0  0 -1  0 -1 -1 -1 -1  0  1  0 -1 -1 -1  0 -1  0  1 -1  0  0 -1\n",
      "  1 -1  0 -1  0 -1  0 -1 -1  0  0  1 -1 -1 -1 -1 -1 -1  0 -1 -1 -1  0 -1\n",
      " -1  0  0  0 -1 -1  0  0  0 -1  0 -1  1 -1  0  0  0 -1  0 -1  0 -1  0  0\n",
      " -1  0  0  1 -1 -1  0  1  0  0 -1 -1 -1  1  0  0 -1  0  0 -1 -1 -1  0  0\n",
      " -1  0  0 -1  1  0  1 -1  0 -1 -1  0  0  0 -1  1  0 -1  0 -1 -1  1 -1 -1\n",
      "  0 -1  0  0 -1 -1 -1  0  0  0  0  0 -1  0  0  0 -1  0 -1  0 -1 -1  0  0\n",
      " -1 -1  0 -1 -1 -1 -1 -1 -1  0 -1  1 -1  0 -1  0  0  0 -1  0  0 -1 -1  0\n",
      " -1 -1  0 -1  0  0 -1 -1  0  1 -1], NumClusters: 2\n",
      "Index: 123, Score: 0.4270371883302889, Labels: [-1  1  0  0 -1  0 -1 -1  0  0 -1  0  0  0  0  0  0 -1  1  0  0  1 -1 -1\n",
      "  0 -1  0  0 -1  0 -1 -1 -1 -1  0  1  0 -1 -1 -1  0 -1  0  1 -1  0  0 -1\n",
      "  1 -1  0 -1  0 -1  0 -1 -1  0  0  1 -1 -1 -1 -1 -1 -1  0 -1 -1 -1  0 -1\n",
      " -1  0  0  0 -1 -1  0  0  0 -1  0 -1  1 -1  0  0  0 -1  0 -1  0 -1  0  0\n",
      " -1  0  0  1 -1 -1  0  1  0  0 -1 -1 -1  1  0  0 -1  0  0 -1 -1 -1  0  0\n",
      " -1  0  0 -1  1  0  1 -1  0 -1 -1  0  0  0 -1  1  0 -1  0 -1 -1  1 -1 -1\n",
      "  0 -1  0  0 -1 -1 -1  0  0  0  0  0 -1  0  0  0 -1  0 -1  0 -1 -1  0  0\n",
      " -1 -1  0 -1 -1 -1 -1 -1 -1  0 -1  1 -1  0 -1  0  0  0 -1  0  0 -1 -1  0\n",
      " -1 -1  0 -1  0  0 -1 -1  0  1 -1], NumClusters: 2\n",
      "Combination (0.21482758620689657, 18) on iteration 125 of 540 has 1 clusters. Moving on\n",
      "Combination (0.21482758620689657, 19) on iteration 126 of 540 has 1 clusters. Moving on\n",
      "Index: 126, Score: -0.09220078045822057, Labels: [ 0  1  0  0  0  0  2 -1  0  0  0  0  0  0  0  0  0 -1  1  0  0  1  0  0\n",
      "  0  0  0  0  3  0  0  0  0 -1  0  1  0  0  2  0  0  0  0  1  0  0  0  3\n",
      "  1  0  0  0  0  0  0  0  0  0  0  1  0 -1 -1  0  0  0  0  0 -1  0  0  0\n",
      "  0  0  0  0  0  0  0  0  0  0  0  4  1  2  0  0  0  0  0  0  0  2  0  0\n",
      "  0  0  0  1  0  0  0  1  0  0  0  0  0  1  0  0  0  0  0  0  0  2  0  0\n",
      "  0  0  0  1  1  0  1  2  0  0  0  0  0  0  0  1  0 -1  0  0  0  1  0  0\n",
      "  0  0  0  0  5  6  0  0  0  0  0  0  0  0  0  0  0  0  0  0 -1 -1  0  0\n",
      " -1 -1  0  5  0  0  0 -1 -1  0 -1  1  0  0  0  0  0  0  0  0  0  1  4  0\n",
      " -1  6  0  1  0  0  0  0  0  1  0], NumClusters: 7\n",
      "Index: 127, Score: -0.07310021481888467, Labels: [ 0  1  0  0  0  0  2 -1  0  0  0  0  0  0  0  0  0 -1  1  0  0  1  0  0\n",
      "  0  0  0  0 -1  0  0  0  0 -1  0  1  0  0  2  0  0  0  0  1  0  0  0 -1\n",
      "  1  0  0  0  0  0  0  0  0  0  0  1  0 -1 -1  0  0  0  0  0 -1  0  0  0\n",
      "  0  0  0  0  0  0  0  0  0  0  0 -1  1  2  0  0  0  0  0  0  0  2  0  0\n",
      "  0  0  0  1  0  0  0  1  0  0  0  0  0  1  0  0  0  0  0  0  0  2  0  0\n",
      "  0  0  0  1  1  0  1  2  0  0  0  0  0  0  0  1  0 -1  0  0  0  1  0  0\n",
      "  0  0  0  0 -1 -1  0  0  0  0  0  0  0  0  0  0  0  0  0  0 -1 -1  0  0\n",
      " -1 -1  0 -1  0  0  0 -1 -1  0 -1  1  0  0  0  0  0  0  0  0  0  1 -1  0\n",
      " -1 -1  0  1  0  0  0  0  0  1  0], NumClusters: 3\n",
      "Index: 128, Score: -0.07310021481888467, Labels: [ 0  1  0  0  0  0  2 -1  0  0  0  0  0  0  0  0  0 -1  1  0  0  1  0  0\n",
      "  0  0  0  0 -1  0  0  0  0 -1  0  1  0  0  2  0  0  0  0  1  0  0  0 -1\n",
      "  1  0  0  0  0  0  0  0  0  0  0  1  0 -1 -1  0  0  0  0  0 -1  0  0  0\n",
      "  0  0  0  0  0  0  0  0  0  0  0 -1  1  2  0  0  0  0  0  0  0  2  0  0\n",
      "  0  0  0  1  0  0  0  1  0  0  0  0  0  1  0  0  0  0  0  0  0  2  0  0\n",
      "  0  0  0  1  1  0  1  2  0  0  0  0  0  0  0  1  0 -1  0  0  0  1  0  0\n",
      "  0  0  0  0 -1 -1  0  0  0  0  0  0  0  0  0  0  0  0  0  0 -1 -1  0  0\n",
      " -1 -1  0 -1  0  0  0 -1 -1  0 -1  1  0  0  0  0  0  0  0  0  0  1 -1  0\n",
      " -1 -1  0  1  0  0  0  0  0  1  0], NumClusters: 3\n",
      "Index: 129, Score: -0.10169129727231306, Labels: [ 0  1  0  0  0  0 -1 -1  0  0  0  0  0  0  0  0  0 -1  1  0  0  1  0  0\n",
      "  0  0  0  0 -1  0  0  0  0 -1  0  1  0  0  2  0  0  0  0  1  0  0  0 -1\n",
      "  1  0  0  0  0  0  0  0  0  0  0  1  0 -1 -1  0  0  0  0  0 -1  0  0  0\n",
      "  0  0  0  0  0  0  0  0  0  0  0 -1  1  2  0  0  0  0  0  0  0  2  0  0\n",
      "  0  0  0  1  0  0  0  1  0  0  0  0  0  1  0  0  0  0  0  0  0  2  0  0\n",
      "  0  0  0  1  1  0  1  2  0  0  0  0  0  0  0  1  0 -1  0  0  0  1  0  0\n",
      "  0  0  0  0 -1 -1  0  0  0  0  0  0  0  0  0  0  0  0  0  0 -1 -1  0  0\n",
      " -1 -1  0 -1  0  0  0 -1 -1  0 -1  1  0  0  0  0  0  0  0  0  0  1 -1  0\n",
      " -1 -1  0  1  0  0  0  0  0  1  0], NumClusters: 3\n",
      "Index: 130, Score: 0.423163946995596, Labels: [ 0  1  2  2  2  2 -1 -1  2  2  0  2  2  2  2  2  2 -1  1  2  2  1  2  2\n",
      "  2  0  2  2 -1  2  0  2  2 -1  2  1  2  2 -1  0  2  2  2  1  2  2  2 -1\n",
      "  1  2  2  2  2  2  2  2  2  2  2  1  2 -1 -1  2  2  2  2  0 -1  2  2  2\n",
      "  0  2  2  2  2  2  2  2  2  2  2 -1  1 -1  2  2  2  2  2  2  2 -1  2  2\n",
      "  0  2  2  1  0  2  2  1  2  2  2  2  2  1  2  2  2  2  2  2  2 -1  2  2\n",
      "  2  2  2  1  1  2  1 -1  2  0  2  2  2  2  0  1  2 -1  2  2  2  1  2  2\n",
      "  2  2  2  2 -1 -1  2  2  2  2  2  2  2  2  2  2  2  2  2  2 -1 -1  2  2\n",
      " -1 -1  2 -1  2  2  2 -1 -1  2 -1  1  2  2  2  2  2  2  2  2  2  1 -1  2\n",
      " -1 -1  2  1  2  2  2  2  2  1  2], NumClusters: 3\n",
      "Index: 131, Score: 0.423163946995596, Labels: [ 0  1  2  2  2  2 -1 -1  2  2  0  2  2  2  2  2  2 -1  1  2  2  1  2  2\n",
      "  2  0  2  2 -1  2  0  2  2 -1  2  1  2  2 -1  0  2  2  2  1  2  2  2 -1\n",
      "  1  2  2  2  2  2  2  2  2  2  2  1  2 -1 -1  2  2  2  2  0 -1  2  2  2\n",
      "  0  2  2  2  2  2  2  2  2  2  2 -1  1 -1  2  2  2  2  2  2  2 -1  2  2\n",
      "  0  2  2  1  0  2  2  1  2  2  2  2  2  1  2  2  2  2  2  2  2 -1  2  2\n",
      "  2  2  2  1  1  2  1 -1  2  0  2  2  2  2  0  1  2 -1  2  2  2  1  2  2\n",
      "  2  2  2  2 -1 -1  2  2  2  2  2  2  2  2  2  2  2  2  2  2 -1 -1  2  2\n",
      " -1 -1  2 -1  2  2  2 -1 -1  2 -1  1  2  2  2  2  2  2  2  2  2  1 -1  2\n",
      " -1 -1  2  1  2  2  2  2  2  1  2], NumClusters: 3\n",
      "Index: 132, Score: 0.423163946995596, Labels: [ 0  1  2  2  2  2 -1 -1  2  2  0  2  2  2  2  2  2 -1  1  2  2  1  2  2\n",
      "  2  0  2  2 -1  2  0  2  2 -1  2  1  2  2 -1  0  2  2  2  1  2  2  2 -1\n",
      "  1  2  2  2  2  2  2  2  2  2  2  1  2 -1 -1  2  2  2  2  0 -1  2  2  2\n",
      "  0  2  2  2  2  2  2  2  2  2  2 -1  1 -1  2  2  2  2  2  2  2 -1  2  2\n",
      "  0  2  2  1  0  2  2  1  2  2  2  2  2  1  2  2  2  2  2  2  2 -1  2  2\n",
      "  2  2  2  1  1  2  1 -1  2  0  2  2  2  2  0  1  2 -1  2  2  2  1  2  2\n",
      "  2  2  2  2 -1 -1  2  2  2  2  2  2  2  2  2  2  2  2  2  2 -1 -1  2  2\n",
      " -1 -1  2 -1  2  2  2 -1 -1  2 -1  1  2  2  2  2  2  2  2  2  2  1 -1  2\n",
      " -1 -1  2  1  2  2  2  2  2  1  2], NumClusters: 3\n",
      "Index: 133, Score: 0.4159214655001524, Labels: [ 2  0  1  1  1  1 -1 -1  1  1  2  1  1  1  1  1  1 -1  0  1  1  0  1  1\n",
      "  1  2  1  1 -1  1  2  1  1 -1  1  0  1  1 -1  1  1  1  1  0  1  1  1 -1\n",
      "  0  1  1  1  1  1  1  1  1  1  1  0  1 -1 -1  1  1  1  1  2 -1  1  1  1\n",
      "  2  1  1  1  1  1  1  1  1  1  1 -1  0 -1  1  1  1  1  1  1  1 -1  1  1\n",
      "  2  1  1  0  2  1  1  0  1  1  1  1  1  0  1  1  1  1  1  1  1 -1  1  1\n",
      "  1  1  1  0  0  1  0 -1  1  2  1  1  1  1  2  0  1 -1  1  1  1  0  1  1\n",
      "  1  1  1  1 -1 -1  1  1  1  1  1  1  1  1  1  1  1  1  1  1 -1 -1  1  1\n",
      " -1 -1  1 -1  1  1  1 -1 -1  1 -1  0  1  1  1  1  1  1  1  1  1  0 -1  1\n",
      " -1 -1  1  0  1  1  1  1  1  0  1], NumClusters: 3\n",
      "Index: 134, Score: 0.4159214655001524, Labels: [ 2  0  1  1  1  1 -1 -1  1  1  2  1  1  1  1  1  1 -1  0  1  1  0  1  1\n",
      "  1  2  1  1 -1  1  2  1  1 -1  1  0  1  1 -1  1  1  1  1  0  1  1  1 -1\n",
      "  0  1  1  1  1  1  1  1  1  1  1  0  1 -1 -1  1  1  1  1  2 -1  1  1  1\n",
      "  2  1  1  1  1  1  1  1  1  1  1 -1  0 -1  1  1  1  1  1  1  1 -1  1  1\n",
      "  2  1  1  0  2  1  1  0  1  1  1  1  1  0  1  1  1  1  1  1  1 -1  1  1\n",
      "  1  1  1  0  0  1  0 -1  1  2  1  1  1  1  2  0  1 -1  1  1  1  0  1  1\n",
      "  1  1  1  1 -1 -1  1  1  1  1  1  1  1  1  1  1  1  1  1  1 -1 -1  1  1\n",
      " -1 -1  1 -1  1  1  1 -1 -1  1 -1  0  1  1  1  1  1  1  1  1  1  0 -1  1\n",
      " -1 -1  1  0  1  1  1  1  1  0  1], NumClusters: 3\n",
      "Index: 135, Score: 0.5409681472445146, Labels: [-1  0  1  1  2  1 -1 -1  1  1 -1  1  1  1  1  1  1 -1  0  1  1  0  2  2\n",
      "  1 -1  1  1 -1  1 -1  2  2 -1  1  0  1  2 -1 -1  1  2  1  0  2  1  1 -1\n",
      "  0  2  1  2  1  2  1  2  2  1  1  0  2 -1 -1  2  2  2  1 -1 -1  2  1  1\n",
      " -1  1  1  1  2  2  1  1  1  2  1 -1  0 -1  1  1  1  2  1  2  1 -1  1  1\n",
      " -1  1  1  0 -1  2  1  0  1  1  2  2  2  0  1  1  2  1  1  2  1 -1  1  1\n",
      "  2  1  1  0  0  1  0 -1  1 -1  2  1  1  1 -1  0  1 -1  1  2  2  0  2  1\n",
      "  1  2  1  1 -1 -1  2  1  1  1  1  1  2  1  1  1  2  1  2  1 -1 -1  1  1\n",
      " -1 -1  1 -1  2  2  2 -1 -1  1 -1  0  2  1  2  1  1  1  2  1  1  0 -1  1\n",
      " -1 -1  1  0  1  1  2  2  1  0  2], NumClusters: 3\n",
      "Index: 136, Score: 0.5409681472445146, Labels: [-1  0  1  1  2  1 -1 -1  1  1 -1  1  1  1  1  1  1 -1  0  1  1  0  2  2\n",
      "  1 -1  1  1 -1  1 -1  2  2 -1  1  0  1  2 -1 -1  1  2  1  0  2  1  1 -1\n",
      "  0  2  1  2  1  2  1  2  2  1  1  0  2 -1 -1  2  2  2  1 -1 -1  2  1  1\n",
      " -1  1  1  1  2  2  1  1  1  2  1 -1  0 -1  1  1  1  2  1  2  1 -1  1  1\n",
      " -1  1  1  0 -1  2  1  0  1  1  2  2  2  0  1  1  2  1  1  2  1 -1  1  1\n",
      "  2  1  1  0  0  1  0 -1  1 -1  2  1  1  1 -1  0  1 -1  1  2  2  0  2  1\n",
      "  1  2  1  1 -1 -1  2  1  1  1  1  1  2  1  1  1  2  1  2  1 -1 -1  1  1\n",
      " -1 -1  1 -1  2  2  2 -1 -1  1 -1  0  2  1  2  1  1  1  2  1  1  0 -1  1\n",
      " -1 -1  1  0  1  1  2  2  1  0  2], NumClusters: 3\n",
      "Index: 137, Score: 0.4535108535582553, Labels: [-1  0  1  1  2  1 -1 -1  1  1 -1  1  1  1  1  1  1 -1  0  1  1  0  3  3\n",
      "  1 -1  1  1 -1  1 -1  2  2 -1  1  0  1  2 -1 -1  1  2  1  0  2  1  1 -1\n",
      "  0  2  1  3  1  2  1  2  3  1  1  0  2 -1 -1  2  3  2  1 -1 -1  2  1  1\n",
      " -1  1  1  1  2  2  1  1  1  2  1 -1  0 -1  1  1  1  3  1  3  1 -1  1  1\n",
      " -1  1  1  0 -1  2  1  0  1  1  2  2  2  0  1  1  2  1  1  3  1 -1  1  1\n",
      "  2  1  1  0  0  1  0 -1  1 -1  2  1  1  1 -1  0  1 -1  1  2  3  0  2  1\n",
      "  1  2  1  1 -1 -1  2  1  1  1  1  1  3  1  1  1  3  1  2  1 -1 -1  1  1\n",
      " -1 -1  1 -1 -1  2  2 -1 -1  1 -1  0  3  1 -1  1  1  1  3  1  1 -1 -1  1\n",
      " -1 -1  1 -1  1  1  2 -1  1  0  2], NumClusters: 4\n",
      "Index: 138, Score: 0.44914726175460373, Labels: [-1  0  1  1  2  1 -1 -1  1  1 -1  1  1  1  1  1  1 -1  0  1  1  0  4  4\n",
      "  1 -1  1  1 -1  1 -1  3  2 -1  1  0  1  3 -1 -1  1  3  1  0  2  1  1 -1\n",
      "  0  2  1  4  1  2  1  2  4  1  1  0  2 -1 -1  2  4  3  1 -1 -1  2  1  4\n",
      " -1  1  1  1  2  2  1  1  1  2  1 -1  0 -1  1  1  1  4  1 -1  1 -1  1  1\n",
      " -1  1  1  0 -1  2  1  0  1  1  2  3  3  0  1  1  2  1  1  4  1 -1  1  1\n",
      "  2  1  1  0  0  1  0 -1  1 -1  2  1  1  1 -1  0  1 -1  1  2  4  0  2  4\n",
      "  1  2  1  1 -1 -1  3  1  1  1  1  1  4  1  1  1  4  1  2  1 -1 -1  1  1\n",
      " -1 -1  1 -1 -1  2  3 -1 -1  1 -1  0  4  1 -1  1  1  1  4  1  1 -1 -1  1\n",
      " -1 -1  1 -1  1  1  2 -1  1  0  2], NumClusters: 5\n",
      "Index: 139, Score: 0.45884776403538513, Labels: [-1  1  0  0  2  0 -1 -1  0  0 -1  0  0  0  0  0  0 -1  1  0  0  1 -1 -1\n",
      "  0 -1  0  0 -1  0 -1 -1  2 -1  0  1  0 -1 -1 -1  0 -1  0  1  2  0  0 -1\n",
      "  1  2  0 -1  0  2  0  2 -1  0  0  1  2 -1 -1  2 -1 -1  0 -1 -1  2  0 -1\n",
      " -1  0  0  0  2  2  0  0  0  2  0 -1  1 -1  0  0  0 -1  0 -1  0 -1  0  0\n",
      " -1  0  0  1 -1  2  0  1  0  0  2 -1 -1  1  0  0  2  0  0 -1  0 -1  0  0\n",
      "  2  0  0  1  1  0  1 -1  0 -1  2  0  0  0 -1  1  0 -1  0  2 -1  1  2 -1\n",
      "  0  2  0  0 -1 -1 -1  0  0  0  0  0 -1  0  0  0 -1  0  2  0 -1 -1  0  0\n",
      " -1 -1  0 -1 -1  2 -1 -1 -1  0 -1  1 -1  0 -1  0  0  0 -1  0  0 -1 -1  0\n",
      " -1 -1  0 -1  0  0  2 -1  0  1  2], NumClusters: 3\n",
      "Index: 140, Score: 0.4380324533966979, Labels: [-1  1  0  0 -1  0 -1 -1  0  0 -1  0  0  0  0  0  0 -1  1  0  0  1 -1 -1\n",
      "  0 -1  0  0 -1  0 -1 -1 -1 -1  0  1  0 -1 -1 -1  0 -1  0  1 -1  0  0 -1\n",
      "  1 -1  0 -1  0 -1  0 -1 -1  0  0  1 -1 -1 -1 -1 -1 -1  0 -1 -1 -1  0 -1\n",
      " -1  0  0  0 -1 -1  0  0  0 -1  0 -1  1 -1  0  0  0 -1  0 -1  0 -1  0  0\n",
      " -1  0  0  1 -1 -1  0  1  0  0 -1 -1 -1  1  0  0 -1  0  0 -1  0 -1  0  0\n",
      " -1  0  0  1  1  0  1 -1  0 -1 -1  0  0  0 -1  1  0 -1  0 -1 -1  1 -1 -1\n",
      "  0 -1  0  0 -1 -1 -1  0  0  0  0  0 -1  0  0  0 -1  0 -1  0 -1 -1  0  0\n",
      " -1 -1  0 -1 -1 -1 -1 -1 -1  0 -1  1 -1  0 -1  0  0  0 -1  0  0 -1 -1  0\n",
      " -1 -1  0 -1  0  0 -1 -1  0  1 -1], NumClusters: 2\n",
      "Index: 141, Score: 0.4380324533966979, Labels: [-1  1  0  0 -1  0 -1 -1  0  0 -1  0  0  0  0  0  0 -1  1  0  0  1 -1 -1\n",
      "  0 -1  0  0 -1  0 -1 -1 -1 -1  0  1  0 -1 -1 -1  0 -1  0  1 -1  0  0 -1\n",
      "  1 -1  0 -1  0 -1  0 -1 -1  0  0  1 -1 -1 -1 -1 -1 -1  0 -1 -1 -1  0 -1\n",
      " -1  0  0  0 -1 -1  0  0  0 -1  0 -1  1 -1  0  0  0 -1  0 -1  0 -1  0  0\n",
      " -1  0  0  1 -1 -1  0  1  0  0 -1 -1 -1  1  0  0 -1  0  0 -1  0 -1  0  0\n",
      " -1  0  0  1  1  0  1 -1  0 -1 -1  0  0  0 -1  1  0 -1  0 -1 -1  1 -1 -1\n",
      "  0 -1  0  0 -1 -1 -1  0  0  0  0  0 -1  0  0  0 -1  0 -1  0 -1 -1  0  0\n",
      " -1 -1  0 -1 -1 -1 -1 -1 -1  0 -1  1 -1  0 -1  0  0  0 -1  0  0 -1 -1  0\n",
      " -1 -1  0 -1  0  0 -1 -1  0  1 -1], NumClusters: 2\n",
      "Index: 142, Score: 0.4380324533966979, Labels: [-1  1  0  0 -1  0 -1 -1  0  0 -1  0  0  0  0  0  0 -1  1  0  0  1 -1 -1\n",
      "  0 -1  0  0 -1  0 -1 -1 -1 -1  0  1  0 -1 -1 -1  0 -1  0  1 -1  0  0 -1\n",
      "  1 -1  0 -1  0 -1  0 -1 -1  0  0  1 -1 -1 -1 -1 -1 -1  0 -1 -1 -1  0 -1\n",
      " -1  0  0  0 -1 -1  0  0  0 -1  0 -1  1 -1  0  0  0 -1  0 -1  0 -1  0  0\n",
      " -1  0  0  1 -1 -1  0  1  0  0 -1 -1 -1  1  0  0 -1  0  0 -1  0 -1  0  0\n",
      " -1  0  0  1  1  0  1 -1  0 -1 -1  0  0  0 -1  1  0 -1  0 -1 -1  1 -1 -1\n",
      "  0 -1  0  0 -1 -1 -1  0  0  0  0  0 -1  0  0  0 -1  0 -1  0 -1 -1  0  0\n",
      " -1 -1  0 -1 -1 -1 -1 -1 -1  0 -1  1 -1  0 -1  0  0  0 -1  0  0 -1 -1  0\n",
      " -1 -1  0 -1  0  0 -1 -1  0  1 -1], NumClusters: 2\n",
      "Combination (0.24896551724137933, 19) on iteration 144 of 540 has 1 clusters. Moving on\n",
      "Index: 144, Score: -0.21804259934326517, Labels: [ 0  0  0  0  0  0  1 -1  0  0  0  0  0  0  0  0  0 -1  0  0  0  0  0  0\n",
      "  0  0  0  0  2  0  0  0  0 -1  0  0  0  0  1  0  0  0  0  0  0  0  0  2\n",
      "  0  0  0  0  0  0  0  0  0  0  0  0  0 -1 -1  0  0  0  0  0 -1  0  0  0\n",
      "  0  0  0  0  0  0  0  0  0  0  0  3  0  1  0  0  0  0  0  0  0  1  0  0\n",
      "  0  0  0  0  0  0  0  0  0  0  0  0  0  0  0  0  0  0  0  0  0  1  0  0\n",
      "  0  0  0  0  0  0  0  1  0  0  0  0  0  0  0  0  0 -1  0  0  0  0  0  0\n",
      "  0  0  0  0  4  5  0  0  0  0  0  0  0  0  0  0  0  0  0  0 -1 -1  0  0\n",
      " -1 -1  0  4  0  0  0  6  6  0 -1  0  0  0  0  0  0  0  0  0  0  0  3  0\n",
      " -1  5  0  0  0  0  0  0  0  0  0], NumClusters: 7\n",
      "Index: 145, Score: -0.18852677253953892, Labels: [ 0  0  0  0  0  0  1 -1  0  0  0  0  0  0  0  0  0 -1  0  0  0  0  0  0\n",
      "  0  0  0  0 -1  0  0  0  0 -1  0  0  0  0  1  0  0  0  0  0  0  0  0 -1\n",
      "  0  0  0  0  0  0  0  0  0  0  0  0  0 -1 -1  0  0  0  0  0 -1  0  0  0\n",
      "  0  0  0  0  0  0  0  0  0  0  0 -1  0  1  0  0  0  0  0  0  0  1  0  0\n",
      "  0  0  0  0  0  0  0  0  0  0  0  0  0  0  0  0  0  0  0  0  0  1  0  0\n",
      "  0  0  0  0  0  0  0  1  0  0  0  0  0  0  0  0  0 -1  0  0  0  0  0  0\n",
      "  0  0  0  0 -1 -1  0  0  0  0  0  0  0  0  0  0  0  0  0  0 -1 -1  0  0\n",
      " -1 -1  0 -1  0  0  0 -1 -1  0 -1  0  0  0  0  0  0  0  0  0  0  0 -1  0\n",
      " -1 -1  0  0  0  0  0  0  0  0  0], NumClusters: 2\n",
      "Index: 146, Score: -0.18852677253953892, Labels: [ 0  0  0  0  0  0  1 -1  0  0  0  0  0  0  0  0  0 -1  0  0  0  0  0  0\n",
      "  0  0  0  0 -1  0  0  0  0 -1  0  0  0  0  1  0  0  0  0  0  0  0  0 -1\n",
      "  0  0  0  0  0  0  0  0  0  0  0  0  0 -1 -1  0  0  0  0  0 -1  0  0  0\n",
      "  0  0  0  0  0  0  0  0  0  0  0 -1  0  1  0  0  0  0  0  0  0  1  0  0\n",
      "  0  0  0  0  0  0  0  0  0  0  0  0  0  0  0  0  0  0  0  0  0  1  0  0\n",
      "  0  0  0  0  0  0  0  1  0  0  0  0  0  0  0  0  0 -1  0  0  0  0  0  0\n",
      "  0  0  0  0 -1 -1  0  0  0  0  0  0  0  0  0  0  0  0  0  0 -1 -1  0  0\n",
      " -1 -1  0 -1  0  0  0 -1 -1  0 -1  0  0  0  0  0  0  0  0  0  0  0 -1  0\n",
      " -1 -1  0  0  0  0  0  0  0  0  0], NumClusters: 2\n",
      "Index: 147, Score: -0.20727821877365607, Labels: [ 0  0  0  0  0  0 -1 -1  0  0  0  0  0  0  0  0  0 -1  0  0  0  0  0  0\n",
      "  0  0  0  0 -1  0  0  0  0 -1  0  0  0  0  1  0  0  0  0  0  0  0  0 -1\n",
      "  0  0  0  0  0  0  0  0  0  0  0  0  0 -1 -1  0  0  0  0  0 -1  0  0  0\n",
      "  0  0  0  0  0  0  0  0  0  0  0 -1  0  1  0  0  0  0  0  0  0  1  0  0\n",
      "  0  0  0  0  0  0  0  0  0  0  0  0  0  0  0  0  0  0  0  0  0  1  0  0\n",
      "  0  0  0  0  0  0  0  1  0  0  0  0  0  0  0  0  0 -1  0  0  0  0  0  0\n",
      "  0  0  0  0 -1 -1  0  0  0  0  0  0  0  0  0  0  0  0  0  0 -1 -1  0  0\n",
      " -1 -1  0 -1  0  0  0 -1 -1  0 -1  0  0  0  0  0  0  0  0  0  0  0 -1  0\n",
      " -1 -1  0  0  0  0  0  0  0  0  0], NumClusters: 2\n",
      "Combination (0.2831034482758621, 6) on iteration 149 of 540 has 1 clusters. Moving on\n",
      "Combination (0.2831034482758621, 7) on iteration 150 of 540 has 1 clusters. Moving on\n",
      "Combination (0.2831034482758621, 8) on iteration 151 of 540 has 1 clusters. Moving on\n",
      "Index: 151, Score: 0.4907310175631345, Labels: [ 0  0  1  1  1  1 -1 -1  1  1  0  1  1  1  1  1  1 -1  0  1  1  0  1  1\n",
      "  1  0  1  1 -1  1  0  1  1 -1  1  0  1  1 -1  0  1  1  1  0  1  1  1 -1\n",
      "  0  1  1  1  1  1  1  1  1  1  1  0  1 -1 -1  1  1  1  1  0 -1  1  1  1\n",
      "  0  1  1  1  1  1  1  1  1  1  1 -1  0 -1  1  1  1  1  1  1  1 -1  1  1\n",
      "  0  1  1  0  0  1  1  0  1  1  1  1  1  0  1  1  1  1  1  1  1 -1  1  1\n",
      "  1  1  1  0  0  1  0 -1  1  0  1  1  1  1  0  0  1 -1  1  1  1  0  1  1\n",
      "  1  1  1  1 -1 -1  1  1  1  1  1  1  1  1  1  1  1  1  1  1 -1 -1  1  1\n",
      " -1 -1  1 -1  1  1  1 -1 -1  1 -1  0  1  1  1  1  1  1  1  1  1  0 -1  1\n",
      " -1 -1  1  0  1  1  1  1  1  0  1], NumClusters: 2\n",
      "Index: 152, Score: 0.42266097535468794, Labels: [ 0  1  2  2  2  2 -1 -1  2  2  0  2  2  2  2  2  2 -1  1  2  2  1  2  2\n",
      "  2  0  2  2 -1  2  0  2  2 -1  2  1  2  2 -1  0  2  2  2  1  2  2  2 -1\n",
      "  1  2  2  2  2  2  2  2  2  2  2  1  2 -1 -1  2  2  2  2  0 -1  2  2  2\n",
      "  0  2  2  2  2  2  2  2  2  2  2 -1  1 -1  2  2  2  2  2  2  2 -1  2  2\n",
      "  0  2  2  1  0  2  2  1  2  2  2  2  2  1  2  2  2  2  2  2  2 -1  2  2\n",
      "  2  2  2  1  1  2  1 -1  2  0  2  2  2  2  0  1  2 -1  2  2  2  1  2  2\n",
      "  2  2  2  2 -1 -1  2  2  2  2  2  2  2  2  2  2  2  2  2  2 -1 -1  2  2\n",
      " -1 -1  2 -1  2  2  2 -1 -1  2 -1  1  2  2  2  2  2  2  2  2  2  0 -1  2\n",
      " -1 -1  2  0  2  2  2  2  2  1  2], NumClusters: 3\n",
      "Index: 153, Score: 0.423163946995596, Labels: [ 2  0  1  1  1  1 -1 -1  1  1  2  1  1  1  1  1  1 -1  0  1  1  0  1  1\n",
      "  1  2  1  1 -1  1  2  1  1 -1  1  0  1  1 -1  2  1  1  1  0  1  1  1 -1\n",
      "  0  1  1  1  1  1  1  1  1  1  1  0  1 -1 -1  1  1  1  1  2 -1  1  1  1\n",
      "  2  1  1  1  1  1  1  1  1  1  1 -1  0 -1  1  1  1  1  1  1  1 -1  1  1\n",
      "  2  1  1  0  2  1  1  0  1  1  1  1  1  0  1  1  1  1  1  1  1 -1  1  1\n",
      "  1  1  1  0  0  1  0 -1  1  2  1  1  1  1  2  0  1 -1  1  1  1  0  1  1\n",
      "  1  1  1  1 -1 -1  1  1  1  1  1  1  1  1  1  1  1  1  1  1 -1 -1  1  1\n",
      " -1 -1  1 -1  1  1  1 -1 -1  1 -1  0  1  1  1  1  1  1  1  1  1  0 -1  1\n",
      " -1 -1  1  0  1  1  1  1  1  0  1], NumClusters: 3\n",
      "Index: 154, Score: 0.4279545701911479, Labels: [-1  0  1  1  1  1 -1 -1  1  1 -1  1  1  1  1  1  1 -1  0  1  1  0  1  1\n",
      "  1 -1  1  1 -1  1 -1  1  1 -1  1  0  1  1 -1 -1  1  1  1  0  1  1  1 -1\n",
      "  0  1  1  1  1  1  1  1  1  1  1  0  1 -1 -1  1  1  1  1 -1 -1  1  1  1\n",
      " -1  1  1  1  1  1  1  1  1  1  1 -1  0 -1  1  1  1  1  1  1  1 -1  1  1\n",
      " -1  1  1  0 -1  1  1  0  1  1  1  1  1  0  1  1  1  1  1  1  1 -1  1  1\n",
      "  1  1  1  0  0  1  0 -1  1 -1  1  1  1  1 -1  0  1 -1  1  1  1  0  1  1\n",
      "  1  1  1  1 -1 -1  1  1  1  1  1  1  1  1  1  1  1  1  1  1 -1 -1  1  1\n",
      " -1 -1  1 -1  1  1  1 -1 -1  1 -1  0  1  1  1  1  1  1  1  1  1  0 -1  1\n",
      " -1 -1  1  0  1  1  1  1  1  0  1], NumClusters: 2\n",
      "Index: 155, Score: 0.5409681472445146, Labels: [-1  0  1  1  2  1 -1 -1  1  1 -1  1  1  1  1  1  1 -1  0  1  1  0  2  2\n",
      "  1 -1  1  1 -1  1 -1  2  2 -1  1  0  1  2 -1 -1  1  2  1  0  2  1  1 -1\n",
      "  0  2  1  2  1  2  1  2  2  1  1  0  2 -1 -1  2  2  2  1 -1 -1  2  1  1\n",
      " -1  1  1  1  2  2  1  1  1  2  1 -1  0 -1  1  1  1  2  1  2  1 -1  1  1\n",
      " -1  1  1  0 -1  2  1  0  1  1  2  2  2  0  1  1  2  1  1  2  1 -1  1  1\n",
      "  2  1  1  0  0  1  0 -1  1 -1  2  1  1  1 -1  0  1 -1  1  2  2  0  2  1\n",
      "  1  2  1  1 -1 -1  2  1  1  1  1  1  2  1  1  1  2  1  2  1 -1 -1  1  1\n",
      " -1 -1  1 -1  2  2  2 -1 -1  1 -1  0  2  1  2  1  1  1  2  1  1  0 -1  1\n",
      " -1 -1  1  0  1  1  2  2  1  0  2], NumClusters: 3\n",
      "Index: 156, Score: 0.4886044309520349, Labels: [-1  0  1  1  3  1 -1 -1  1  1 -1  1  1  1  1  1  1 -1  0  1  1  0  2  2\n",
      "  1 -1  1  1 -1  1 -1  3  3 -1  1  0  1  3 -1 -1  1  3  1  0  3  1  1 -1\n",
      "  0  3  1  2  1  3  1  3  2  1  1  0  3 -1 -1  3  2  3  1 -1 -1  3  1  2\n",
      " -1  1  1  1  3  3  1  1  1  3  1 -1  0 -1  1  1  1  2  1  2  1 -1  1  1\n",
      " -1  1  1  0 -1  3  1  0  1  1  3  3  3  0  1  1  3  1  1  2  1 -1  1  1\n",
      "  3  1  1  0  0  1  0 -1  1 -1  3  1  1  1 -1  0  1 -1  1  3  2  0  3  2\n",
      "  1  3  1  1 -1 -1  3  1  1  1  1  1  2  1  1  1  2  1  3  1 -1 -1  1  1\n",
      " -1 -1  1 -1  3  3  3 -1 -1  1 -1  0  2  1 -1  1  1  1  2  1  1  0 -1  1\n",
      " -1 -1  1  0  1  1  3 -1  1  0  3], NumClusters: 4\n",
      "Index: 157, Score: 0.4886044309520349, Labels: [-1  0  1  1  3  1 -1 -1  1  1 -1  1  1  1  1  1  1 -1  0  1  1  0  2  2\n",
      "  1 -1  1  1 -1  1 -1  3  3 -1  1  0  1  3 -1 -1  1  3  1  0  3  1  1 -1\n",
      "  0  3  1  2  1  3  1  3  2  1  1  0  3 -1 -1  3  2  3  1 -1 -1  3  1  2\n",
      " -1  1  1  1  3  3  1  1  1  3  1 -1  0 -1  1  1  1  2  1  2  1 -1  1  1\n",
      " -1  1  1  0 -1  3  1  0  1  1  3  3  3  0  1  1  3  1  1  2  1 -1  1  1\n",
      "  3  1  1  0  0  1  0 -1  1 -1  3  1  1  1 -1  0  1 -1  1  3  2  0  3  2\n",
      "  1  3  1  1 -1 -1  3  1  1  1  1  1  2  1  1  1  2  1  3  1 -1 -1  1  1\n",
      " -1 -1  1 -1  3  3  3 -1 -1  1 -1  0  2  1 -1  1  1  1  2  1  1  0 -1  1\n",
      " -1 -1  1  0  1  1  3 -1  1  0  3], NumClusters: 4\n",
      "Index: 158, Score: 0.4532538519875828, Labels: [-1  1  0  0  2  0 -1 -1  0  0 -1  0  0  0  0  0  0 -1  1  0  0  1 -1 -1\n",
      "  0 -1  0  0 -1  0 -1 -1  2 -1  0  1  0 -1 -1 -1  0 -1  0  1  2  0  0 -1\n",
      "  1  2  0 -1  0  2  0  2 -1  0  0  1  2 -1 -1  2 -1 -1  0 -1 -1  2  0 -1\n",
      " -1  0  0  0  2  2  0  0  0  2  0 -1  1 -1  0  0  0 -1  0 -1  0 -1  0  0\n",
      " -1  0  0  1 -1  2  0  1  0  0  2 -1 -1  1  0  0  2  0  0 -1  0 -1  0  0\n",
      "  2  0  0  1  1  0  1 -1  0 -1  2  0  0  0 -1  1  0 -1  0  2 -1  1  2 -1\n",
      "  0 -1  0  0 -1 -1 -1  0  0  0  0  0 -1  0  0  0 -1  0 -1  0 -1 -1  0  0\n",
      " -1 -1  0 -1 -1 -1 -1 -1 -1  0 -1  1 -1  0 -1  0  0  0 -1  0  0  1 -1  0\n",
      " -1 -1  0  1  0  0  2 -1  0  1  2], NumClusters: 3\n",
      "Index: 159, Score: 0.4286661011191814, Labels: [-1  1  0  0 -1  0 -1 -1  0  0 -1  0  0  0  0  0  0 -1  1  0  0  1 -1 -1\n",
      "  0 -1  0  0 -1  0 -1 -1 -1 -1  0  1  0 -1 -1 -1  0 -1  0  1  2  0  0 -1\n",
      "  1  2  0 -1  0  2  0  2 -1  0  0  1  2 -1 -1  2 -1 -1  0 -1 -1  2  0 -1\n",
      " -1  0  0  0  2  2  0  0  0  2  0 -1  1 -1  0  0  0 -1  0 -1  0 -1  0  0\n",
      " -1  0  0  1 -1  2  0  1  0  0  2 -1 -1  1  0  0  2  0  0 -1  0 -1  0  0\n",
      "  2  0  0  1  1  0  1 -1  0 -1  2  0  0  0 -1  1  0 -1  0 -1 -1  1  2 -1\n",
      "  0 -1  0  0 -1 -1 -1  0  0  0  0  0 -1  0  0  0 -1  0 -1  0 -1 -1  0  0\n",
      " -1 -1  0 -1 -1 -1 -1 -1 -1  0 -1  1 -1  0 -1  0  0  0 -1  0  0  1 -1  0\n",
      " -1 -1  0  1  0  0  2 -1  0  1  2], NumClusters: 3\n",
      "Index: 160, Score: 0.4286661011191814, Labels: [-1  1  0  0 -1  0 -1 -1  0  0 -1  0  0  0  0  0  0 -1  1  0  0  1 -1 -1\n",
      "  0 -1  0  0 -1  0 -1 -1 -1 -1  0  1  0 -1 -1 -1  0 -1  0  1  2  0  0 -1\n",
      "  1  2  0 -1  0  2  0  2 -1  0  0  1  2 -1 -1  2 -1 -1  0 -1 -1  2  0 -1\n",
      " -1  0  0  0  2  2  0  0  0  2  0 -1  1 -1  0  0  0 -1  0 -1  0 -1  0  0\n",
      " -1  0  0  1 -1  2  0  1  0  0  2 -1 -1  1  0  0  2  0  0 -1  0 -1  0  0\n",
      "  2  0  0  1  1  0  1 -1  0 -1  2  0  0  0 -1  1  0 -1  0 -1 -1  1  2 -1\n",
      "  0 -1  0  0 -1 -1 -1  0  0  0  0  0 -1  0  0  0 -1  0 -1  0 -1 -1  0  0\n",
      " -1 -1  0 -1 -1 -1 -1 -1 -1  0 -1  1 -1  0 -1  0  0  0 -1  0  0  1 -1  0\n",
      " -1 -1  0  1  0  0  2 -1  0  1  2], NumClusters: 3\n",
      "Index: 161, Score: 0.45226512474608327, Labels: [-1  1  0  0 -1  0 -1 -1  0  0 -1  0  0  0  0  0  0 -1  1  0  0  1 -1 -1\n",
      "  0 -1  0  0 -1  0 -1 -1 -1 -1  0  1  0 -1 -1 -1  0 -1  0  1 -1  0  0 -1\n",
      "  1 -1  0 -1  0 -1  0 -1 -1  0  0  1 -1 -1 -1 -1 -1 -1  0 -1 -1 -1  0 -1\n",
      " -1  0  0  0 -1 -1  0  0  0 -1  0 -1  1 -1  0  0  0 -1  0 -1  0 -1  0  0\n",
      " -1  0  0  1 -1 -1  0  1  0  0 -1 -1 -1  1  0  0 -1  0  0 -1  0 -1  0  0\n",
      " -1  0  0  1  1  0  1 -1  0 -1 -1  0  0  0 -1  1  0 -1  0 -1 -1  1 -1 -1\n",
      "  0 -1  0  0 -1 -1 -1  0  0  0  0  0 -1  0  0  0 -1  0 -1  0 -1 -1  0  0\n",
      " -1 -1  0 -1 -1 -1 -1 -1 -1  0 -1  1 -1  0 -1  0  0  0 -1  0  0  1 -1  0\n",
      " -1 -1  0  1  0  0 -1 -1  0  1 -1], NumClusters: 2\n",
      "Index: 162, Score: 0.2005782085362432, Labels: [ 0  0  0  0  0  0  0 -1  0  0  0  0  0  0  0  0  0 -1  0  0  0  0  0  0\n",
      "  0  0  0  0  1  0  0  0  0 -1  0  0  0  0  0  0  0  0  0  0  0  0  0  1\n",
      "  0  0  0  0  0  0  0  0  0  0  0  0  0 -1 -1  0  0  0  0  0 -1  0  0  0\n",
      "  0  0  0  0  0  0  0  0  0  0  0  2  0  0  0  0  0  0  0  0  0  0  0  0\n",
      "  0  0  0  0  0  0  0  0  0  0  0  0  0  0  0  0  0  0  0  0  0  0  0  0\n",
      "  0  0  0  0  0  0  0  0  0  0  0  0  0  0  0  0  0 -1  0  0  0  0  0  0\n",
      "  0  0  0  0  3  4  0  0  0  0  0  0  0  0  0  0  0  0  0  0 -1 -1  0  0\n",
      " -1 -1  0  3  0  0  0  5  5  0 -1  0  0  0  0  0  0  0  0  0  0  0  2  0\n",
      " -1  4  0  0  0  0  0  0  0  0  0], NumClusters: 6\n",
      "Combination (0.31724137931034485, 3) on iteration 164 of 540 has 1 clusters. Moving on\n",
      "Combination (0.31724137931034485, 4) on iteration 165 of 540 has 1 clusters. Moving on\n",
      "Combination (0.31724137931034485, 5) on iteration 166 of 540 has 1 clusters. Moving on\n",
      "Combination (0.31724137931034485, 6) on iteration 167 of 540 has 1 clusters. Moving on\n",
      "Combination (0.31724137931034485, 7) on iteration 168 of 540 has 1 clusters. Moving on\n",
      "Combination (0.31724137931034485, 8) on iteration 169 of 540 has 1 clusters. Moving on\n",
      "Combination (0.31724137931034485, 9) on iteration 170 of 540 has 1 clusters. Moving on\n",
      "Combination (0.31724137931034485, 10) on iteration 171 of 540 has 1 clusters. Moving on\n",
      "Combination (0.31724137931034485, 11) on iteration 172 of 540 has 1 clusters. Moving on\n",
      "Index: 172, Score: 0.5158817452547253, Labels: [ 0  0  1  1  1  1 -1 -1  1  1  0  1  1  1  1  1  1 -1  0  1  1  0  1  1\n",
      "  1  0  1  1 -1  1  0  1  1 -1  1  0  1  1  1  1  1  1  1  0  1  1  1 -1\n",
      "  0  1  1  1  1  1  1  1  1  1  1  0  1 -1 -1  1  1  1  1  0 -1  1  1  1\n",
      "  0  1  1  1  1  1  1  1  1  1  1 -1  0  1  1  1  1  1  1  1  1 -1  1  1\n",
      "  0  1  1  0  0  1  1  0  1  1  1  1  1  0  1  1  1  1  1  1  1 -1  1  1\n",
      "  1  1  1  0  0  1  0  1  1  0  1  1  1  1  0  0  1 -1  1  1  1  0  1  1\n",
      "  1  1  1  1 -1 -1  1  1  1  1  1  1  1  1  1  1  1  1  1  1 -1 -1  1  1\n",
      " -1 -1  1 -1  1  1  1 -1 -1  1 -1  0  1  1  1  1  1  1  1  1  1  0 -1  1\n",
      " -1 -1  1  0  1  1  1  1  1  0  1], NumClusters: 2\n",
      "Index: 173, Score: 0.448226843067674, Labels: [ 0  1  2  2  2  2 -1 -1  2  2  0  2  2  2  2  2  2 -1  1  2  2  1  2  2\n",
      "  2  0  2  2 -1  2  0  2  2 -1  2  1  2  2  2  2  2  2  2  1  2  2  2 -1\n",
      "  1  2  2  2  2  2  2  2  2  2  2  1  2 -1 -1  2  2  2  2  0 -1  2  2  2\n",
      "  0  2  2  2  2  2  2  2  2  2  2 -1  1  2  2  2  2  2  2  2  2 -1  2  2\n",
      "  0  2  2  1  0  2  2  1  2  2  2  2  2  1  2  2  2  2  2  2  2 -1  2  2\n",
      "  2  2  2  0  1  2  1  2  2  0  2  2  2  2  0  1  2 -1  2  2  2  1  2  2\n",
      "  2  2  2  2 -1 -1  2  2  2  2  2  2  2  2  2  2  2  2  2  2 -1 -1  2  2\n",
      " -1 -1  2 -1  2  2  2 -1 -1  2 -1  1  2  2  2  2  2  2  2  2  2  0 -1  2\n",
      " -1 -1  2  0  2  2  2  2  2  1  2], NumClusters: 3\n",
      "Index: 174, Score: 0.4560170155798226, Labels: [-1  0  1  1  1  1 -1 -1  1  1 -1  1  1  1  1  1  1 -1  0  1  1  0  1  1\n",
      "  1 -1  1  1 -1  1 -1  1  1 -1  1  0  1  1  1 -1  1  1  1  0  1  1  1 -1\n",
      "  0  1  1  1  1  1  1  1  1  1  1  0  1 -1 -1  1  1  1  1 -1 -1  1  1  1\n",
      " -1  1  1  1  1  1  1  1  1  1  1 -1  0  1  1  1  1  1  1  1  1 -1  1  1\n",
      " -1  1  1  0 -1  1  1  0  1  1  1  1  1  0  1  1  1  1  1  1  1 -1  1  1\n",
      "  1  1  1  0  0  1  0  1  1 -1  1  1  1  1 -1  0  1 -1  1  1  1  0  1  1\n",
      "  1  1  1  1 -1 -1  1  1  1  1  1  1  1  1  1  1  1  1  1  1 -1 -1  1  1\n",
      " -1 -1  1 -1  1  1  1 -1 -1  1 -1  0  1  1  1  1  1  1  1  1  1  0 -1  1\n",
      " -1 -1  1  0  1  1  1  1  1  0  1], NumClusters: 2\n",
      "Index: 175, Score: 0.4560170155798226, Labels: [-1  0  1  1  1  1 -1 -1  1  1 -1  1  1  1  1  1  1 -1  0  1  1  0  1  1\n",
      "  1 -1  1  1 -1  1 -1  1  1 -1  1  0  1  1  1 -1  1  1  1  0  1  1  1 -1\n",
      "  0  1  1  1  1  1  1  1  1  1  1  0  1 -1 -1  1  1  1  1 -1 -1  1  1  1\n",
      " -1  1  1  1  1  1  1  1  1  1  1 -1  0  1  1  1  1  1  1  1  1 -1  1  1\n",
      " -1  1  1  0 -1  1  1  0  1  1  1  1  1  0  1  1  1  1  1  1  1 -1  1  1\n",
      "  1  1  1  0  0  1  0  1  1 -1  1  1  1  1 -1  0  1 -1  1  1  1  0  1  1\n",
      "  1  1  1  1 -1 -1  1  1  1  1  1  1  1  1  1  1  1  1  1  1 -1 -1  1  1\n",
      " -1 -1  1 -1  1  1  1 -1 -1  1 -1  0  1  1  1  1  1  1  1  1  1  0 -1  1\n",
      " -1 -1  1  0  1  1  1  1  1  0  1], NumClusters: 2\n",
      "Index: 176, Score: 0.5084806860147657, Labels: [-1  1  0  0  2  0 -1 -1  0  0 -1  0  0  0  0  0  0 -1  1  0  0  1  0  0\n",
      "  0 -1  0  0 -1  0 -1  2  2 -1  0  1  0  0  0 -1  0  2  0  1  2  0  0 -1\n",
      "  1  2  0  0  0  2  0  2  0  0  0  1  2 -1 -1  2  0  0  0 -1 -1  2  0  0\n",
      " -1  0  0  0  2  2  0  0  0  2  0 -1  1  0  0  0  0  0  0  0  0 -1  0  0\n",
      " -1  0  0  1 -1  2  0  1  0  0  2  0  0  1  0  0  2  0  0  0  0 -1  0  0\n",
      "  2  0  0  1  1  0  1  0  0 -1  2  0  0  0 -1  1  0 -1  0  2  0  1  2  0\n",
      "  0  2  0  0 -1 -1  2  0  0  0  0  0  0  0  0  0  0  0  2  0 -1 -1  0  0\n",
      " -1 -1  0 -1  0  2  0 -1 -1  0 -1  1  0  0  0  0  0  0  0  0  0  1 -1  0\n",
      " -1 -1  0  1  0  0  2  0  0  1  2], NumClusters: 3\n",
      "Index: 177, Score: 0.4592937269019972, Labels: [-1  1  0  0  2  0 -1 -1  0  0 -1  0  0  0  0  0  0 -1  1  0  0  1  3  3\n",
      "  0 -1  0  0 -1  0 -1  2  2 -1  0  1  0  2 -1 -1  0  2  0  1  2  0  0 -1\n",
      "  1  2  0  3  0  2  0  2  0  0  0  1  2 -1 -1  2  3  2  0 -1 -1  2  0  0\n",
      " -1  0  0  0  2  2  0  0  0  2  0 -1  1  0  0  0  0  0  0  3  0 -1  0  0\n",
      " -1  0  0  1 -1  2  0  1  0  0  2  2  2  1  0  0  2  0  0  3  0 -1  0  0\n",
      "  2  0  0  1  1  0  1  0  0 -1  2  0  0  0 -1  1  0 -1  0  2  0  1  2  0\n",
      "  0  2  0  0 -1 -1  2  0  0  0  0  0  3  0  0  0  0  0  2  0 -1 -1  0  0\n",
      " -1 -1  0 -1  2  2  2 -1 -1  0 -1  1  3  0  3  0  0  0  3  0  0  1 -1  0\n",
      " -1 -1  0  1  0  0  2  3  0  1  2], NumClusters: 4\n",
      "Index: 178, Score: 0.49633898949049055, Labels: [-1  1  0  0  2  0 -1 -1  0  0 -1  0  0  0  0  0  0 -1  1  0  0  1 -1 -1\n",
      "  0 -1  0  0 -1  0 -1 -1  2 -1  0  1  0 -1 -1 -1  0 -1  0  1  2  0  0 -1\n",
      "  1  2  0 -1  0  2  0  2  0  0  0  1  2 -1 -1  2 -1 -1  0 -1 -1  2  0  0\n",
      " -1  0  0  0  2  2  0  0  0  2  0 -1  1  0  0  0  0  0  0 -1  0 -1  0  0\n",
      " -1  0  0  1 -1  2  0  1  0  0  2 -1 -1  1  0  0  2  0  0 -1  0 -1  0  0\n",
      "  2  0  0  1  1  0  1  0  0 -1  2  0  0  0 -1  1  0 -1  0  2  0  1  2  0\n",
      "  0  2  0  0 -1 -1 -1  0  0  0  0  0 -1  0  0  0  0  0  2  0 -1 -1  0  0\n",
      " -1 -1  0 -1 -1  2 -1 -1 -1  0 -1  1 -1  0 -1  0  0  0 -1  0  0  1 -1  0\n",
      " -1 -1  0  1  0  0  2 -1  0  1  2], NumClusters: 3\n",
      "Index: 179, Score: 0.44841784059880135, Labels: [-1  1  0  0  2  0 -1 -1  0  0 -1  0  0  0  0  0  0 -1  1  0  0  1 -1 -1\n",
      "  0 -1  0  0 -1  0 -1 -1 -1 -1  0  1  0 -1 -1 -1  0 -1  0  1  2  0  0 -1\n",
      "  1  2  0 -1  0  2  0  2 -1  0  0  1  2 -1 -1  2 -1 -1  0 -1 -1  2  0 -1\n",
      " -1  0  0  0  2  2  0  0  0  2  0 -1  1 -1  0  0  0 -1  0 -1  0 -1  0  0\n",
      " -1  0  0  1 -1  2  0  1  0  0  2 -1 -1  1  0  0  2  0  0 -1  0 -1  0  0\n",
      "  2  0  0  1  1  0  1  0  0 -1  2  0  0  0 -1  1  0 -1  0 -1 -1  1  2 -1\n",
      "  0  2  0  0 -1 -1 -1  0  0  0  0  0 -1  0  0  0 -1  0 -1  0 -1 -1  0  0\n",
      " -1 -1  0 -1 -1 -1 -1 -1 -1  0 -1  1 -1  0 -1  0  0  0 -1  0  0  1 -1  0\n",
      " -1 -1  0  1  0  0  2 -1  0  1  2], NumClusters: 3\n",
      "Index: 180, Score: 0.20945039674393326, Labels: [ 0  0  0  0  0  0  0 -1  0  0  0  0  0  0  0  0  0  1  0  0  0  0  0  0\n",
      "  0  0  0  0  2  0  0  0  0 -1  0  0  0  0  0  0  0  0  0  0  0  0  0  2\n",
      "  0  0  0  0  0  0  0  0  0  0  0  0  0 -1 -1  0  0  0  0  0 -1  0  0  0\n",
      "  0  0  0  0  0  0  0  0  0  0  0  1  0  0  0  0  0  0  0  0  0  0  0  0\n",
      "  0  0  0  0  0  0  0  0  0  0  0  0  0  0  0  0  0  0  0  0  0  0  0  0\n",
      "  0  0  0  0  0  0  0  0  0  0  0  0  0  0  0  0  0  0  0  0  0  0  0  0\n",
      "  0  0  0  0  3  4  0  0  0  0  0  0  0  0  0  0  0  0  0  0 -1 -1  0  0\n",
      " -1 -1  0  3  0  0  0  5  5  0 -1  0  0  0  0  0  0  0  0  0  0  0  1  0\n",
      " -1  4  0  0  0  0  0  0  0  0  0], NumClusters: 6\n",
      "Index: 181, Score: 0.45823727245479173, Labels: [ 0  0  0  0  0  0  0 -1  0  0  0  0  0  0  0  0  0  1  0  0  0  0  0  0\n",
      "  0  0  0  0 -1  0  0  0  0 -1  0  0  0  0  0  0  0  0  0  0  0  0  0 -1\n",
      "  0  0  0  0  0  0  0  0  0  0  0  0  0 -1 -1  0  0  0  0  0 -1  0  0  0\n",
      "  0  0  0  0  0  0  0  0  0  0  0  1  0  0  0  0  0  0  0  0  0  0  0  0\n",
      "  0  0  0  0  0  0  0  0  0  0  0  0  0  0  0  0  0  0  0  0  0  0  0  0\n",
      "  0  0  0  0  0  0  0  0  0  0  0  0  0  0  0  0  0  0  0  0  0  0  0  0\n",
      "  0  0  0  0 -1 -1  0  0  0  0  0  0  0  0  0  0  0  0  0  0 -1 -1  0  0\n",
      " -1 -1  0 -1  0  0  0 -1 -1  0 -1  0  0  0  0  0  0  0  0  0  0  0  1  0\n",
      " -1 -1  0  0  0  0  0  0  0  0  0], NumClusters: 2\n",
      "Combination (0.3513793103448276, 4) on iteration 183 of 540 has 1 clusters. Moving on\n",
      "Combination (0.3513793103448276, 5) on iteration 184 of 540 has 1 clusters. Moving on\n",
      "Combination (0.3513793103448276, 6) on iteration 185 of 540 has 1 clusters. Moving on\n",
      "Combination (0.3513793103448276, 7) on iteration 186 of 540 has 1 clusters. Moving on\n",
      "Combination (0.3513793103448276, 8) on iteration 187 of 540 has 1 clusters. Moving on\n",
      "Combination (0.3513793103448276, 9) on iteration 188 of 540 has 1 clusters. Moving on\n",
      "Combination (0.3513793103448276, 10) on iteration 189 of 540 has 1 clusters. Moving on\n",
      "Combination (0.3513793103448276, 11) on iteration 190 of 540 has 1 clusters. Moving on\n",
      "Combination (0.3513793103448276, 12) on iteration 191 of 540 has 1 clusters. Moving on\n",
      "Combination (0.3513793103448276, 13) on iteration 192 of 540 has 1 clusters. Moving on\n",
      "Index: 192, Score: 0.5383270130175861, Labels: [ 0  0  1  1  1  1 -1 -1  1  1  0  1  1  1  1  1  1 -1  0  1  1  0  1  1\n",
      "  1  0  1  1 -1  1  0  1  1 -1  1  0  1  1  1  1  1  1  1  0  1  1  1 -1\n",
      "  0  1  1  1  1  1  1  1  1  1  1  0  1 -1 -1  1  1  1  1  0 -1  1  1  1\n",
      "  0  1  1  1  1  1  1  1  1  1  1 -1  0  1  1  1  1  1  1  1  1  1  1  1\n",
      "  0  1  1  0  0  1  1  0  1  1  1  1  1  0  1  1  1  1  1  1  1  1  1  1\n",
      "  1  1  1  0  0  1  0  1  1  0  1  1  1  1  0  0  1 -1  1  1  1  0  1  1\n",
      "  1  1  1  1 -1 -1  1  1  1  1  1  1  1  1  1  1  1  1  1  1 -1 -1  1  1\n",
      " -1 -1  1 -1  1  1  1 -1 -1  1 -1  0  1  1  1  1  1  1  1  1  1  0 -1  1\n",
      " -1 -1  1  0  1  1  1  1  1  0  1], NumClusters: 2\n",
      "Index: 193, Score: 0.47415993193533085, Labels: [ 0  1  2  2  2  2 -1 -1  2  2  0  2  2  2  2  2  2 -1  1  2  2  1  2  2\n",
      "  2  0  2  2 -1  2  0  2  2 -1  2  1  2  2  2  2  2  2  2  1  2  2  2 -1\n",
      "  1  2  2  2  2  2  2  2  2  2  2  1  2 -1 -1  2  2  2  2  0 -1  2  2  2\n",
      "  0  2  2  2  2  2  2  2  2  2  2 -1  1  2  2  2  2  2  2  2  2  2  2  2\n",
      "  0  2  2  0  0  2  2  1  2  2  2  2  2  0  2  2  2  2  2  2  2  2  2  2\n",
      "  2  2  2  0  1  2  1  2  2  0  2  2  2  2  0  1  2 -1  2  2  2  1  2  2\n",
      "  2  2  2  2 -1 -1  2  2  2  2  2  2  2  2  2  2  2  2  2  2 -1 -1  2  2\n",
      " -1 -1  2 -1  2  2  2 -1 -1  2 -1  1  2  2  2  2  2  2  2  2  2  0 -1  2\n",
      " -1 -1  2  0  2  2  2  2  2  1  2], NumClusters: 3\n",
      "Index: 194, Score: 0.4760211919406179, Labels: [-1  1  0  0  0  0 -1 -1  0  0 -1  0  0  0  0  0  0 -1  1  0  0  1  0  0\n",
      "  0 -1  0  0 -1  0 -1  0  0 -1  0  1  0  0  0 -1  0  0  0  1  0  0  0 -1\n",
      "  1  0  0  0  0  0  0  0  0  0  0  1  0 -1 -1  0  0  0  0 -1 -1  0  0  0\n",
      " -1  0  0  0  0  0  0  0  0  0  0 -1  1  0  0  0  0  0  0  0  0  0  0  0\n",
      " -1  0  0  1 -1  0  0  1  0  0  0  0  0  1  0  0  0  0  0  0  0  0  0  0\n",
      "  0  0  0  1  1  0  1  0  0 -1  0  0  0  0 -1  1  0 -1  0  0  0  1  0  0\n",
      "  0  0  0  0 -1 -1  0  0  0  0  0  0  0  0  0  0  0  0  0  0 -1 -1  0  0\n",
      " -1 -1  0 -1  0  0  0 -1 -1  0 -1  1  0  0  0  0  0  0  0  0  0  1 -1  0\n",
      " -1 -1  0  1  0  0  0  0  0  1  0], NumClusters: 2\n",
      "Index: 195, Score: 0.4760211919406179, Labels: [-1  1  0  0  0  0 -1 -1  0  0 -1  0  0  0  0  0  0 -1  1  0  0  1  0  0\n",
      "  0 -1  0  0 -1  0 -1  0  0 -1  0  1  0  0  0 -1  0  0  0  1  0  0  0 -1\n",
      "  1  0  0  0  0  0  0  0  0  0  0  1  0 -1 -1  0  0  0  0 -1 -1  0  0  0\n",
      " -1  0  0  0  0  0  0  0  0  0  0 -1  1  0  0  0  0  0  0  0  0  0  0  0\n",
      " -1  0  0  1 -1  0  0  1  0  0  0  0  0  1  0  0  0  0  0  0  0  0  0  0\n",
      "  0  0  0  1  1  0  1  0  0 -1  0  0  0  0 -1  1  0 -1  0  0  0  1  0  0\n",
      "  0  0  0  0 -1 -1  0  0  0  0  0  0  0  0  0  0  0  0  0  0 -1 -1  0  0\n",
      " -1 -1  0 -1  0  0  0 -1 -1  0 -1  1  0  0  0  0  0  0  0  0  0  1 -1  0\n",
      " -1 -1  0  1  0  0  0  0  0  1  0], NumClusters: 2\n",
      "Index: 196, Score: 0.5459441351926171, Labels: [-1  1  0  0  2  0 -1 -1  0  0 -1  0  0  0  0  0  0 -1  1  0  0  1 -1 -1\n",
      "  0 -1  0  0 -1  0 -1  2  2 -1  0  1  0  2  0 -1  0  2  0  1  2  0  0 -1\n",
      "  1  2  0 -1  0  2  0  2  0  0  0  1  2 -1 -1  2 -1  2  0 -1 -1  2  0  0\n",
      " -1  0  0  0  2  2  0  0  0  2  0 -1  1  0  0  0  0  0  0 -1  0  0  0  0\n",
      " -1  0  0  1 -1  2  0  1  0  0  2  2  2  1  0  0  2  0  0  0  0  0  0  0\n",
      "  2  0  0  1  1  0  1  0  0 -1  2  0  0  0 -1  1  0 -1  0  2  0  1  2  0\n",
      "  0  2  0  0 -1 -1  2  0  0  0  0  0 -1  0  0  0  0  0  2  0 -1 -1  0  0\n",
      " -1 -1  0 -1  2  2  2 -1 -1  0 -1  1 -1  0 -1  0  0  0 -1  0  0  1 -1  0\n",
      " -1 -1  0  1  0  0  2 -1  0  1  2], NumClusters: 3\n",
      "Index: 197, Score: 0.5380779337233548, Labels: [-1  1  0  0  2  0 -1 -1  0  0 -1  0  0  0  0  0  0 -1  1  0  0  1 -1 -1\n",
      "  0 -1  0  0 -1  0 -1  2  2 -1  0  1  0  2  0 -1  0  2  0  1  2  0  0 -1\n",
      "  1  2  0 -1  0  2  0  2  0  0  0  1  2 -1 -1  2 -1 -1  0 -1 -1  2  0  0\n",
      " -1  0  0  0  2  2  0  0  0  2  0 -1  1  0  0  0  0  0  0 -1  0  0  0  0\n",
      " -1  0  0  1 -1  2  0  1  0  0  2  2  2  1  0  0  2  0  0  0  0  0  0  0\n",
      "  2  0  0  1  1  0  1  0  0 -1  2  0  0  0 -1  1  0 -1  0  2  0  1  2  0\n",
      "  0  2  0  0 -1 -1  2  0  0  0  0  0 -1  0  0  0  0  0  2  0 -1 -1  0  0\n",
      " -1 -1  0 -1 -1  2  2 -1 -1  0 -1  1 -1  0 -1  0  0  0 -1  0  0  1 -1  0\n",
      " -1 -1  0  1  0  0  2 -1  0  1  2], NumClusters: 3\n",
      "Index: 198, Score: 0.23257986964610394, Labels: [ 0  0  0  0  0  0  0 -1  0  0  0  0  0  0  0  0  0  1  0  0  0  0  0  0\n",
      "  0  0  0  0  2  0  0  0  0 -1  0  0  0  0  0  0  0  0  0  0  0  0  0  2\n",
      "  0  0  0  0  0  0  0  0  0  0  0  0  0 -1 -1  0  0  0  0  0 -1  0  0  0\n",
      "  0  0  0  0  0  0  0  0  0  0  0  1  0  0  0  0  0  0  0  0  0  0  0  0\n",
      "  0  0  0  0  0  0  0  0  0  0  0  0  0  0  0  0  0  0  0  0  0  0  0  0\n",
      "  0  0  0  0  0  0  0  0  0  0  0  0  0  0  0  0  0  0  0  0  0  0  0  0\n",
      "  0  0  0  0  3  4  0  0  0  0  0  0  0  0  0  0  0  0  0  0 -1 -1  0  0\n",
      "  0 -1  0  3  0  0  0  5  5  0 -1  0  0  0  0  0  0  0  0  0  0  0  1  0\n",
      "  4  4  0  0  0  0  0  0  0  0  0], NumClusters: 6\n",
      "Index: 199, Score: 0.2566124935670574, Labels: [ 0  0  0  0  0  0  0 -1  0  0  0  0  0  0  0  0  0  1  0  0  0  0  0  0\n",
      "  0  0  0  0 -1  0  0  0  0 -1  0  0  0  0  0  0  0  0  0  0  0  0  0 -1\n",
      "  0  0  0  0  0  0  0  0  0  0  0  0  0 -1 -1  0  0  0  0  0 -1  0  0  0\n",
      "  0  0  0  0  0  0  0  0  0  0  0  1  0  0  0  0  0  0  0  0  0  0  0  0\n",
      "  0  0  0  0  0  0  0  0  0  0  0  0  0  0  0  0  0  0  0  0  0  0  0  0\n",
      "  0  0  0  0  0  0  0  0  0  0  0  0  0  0  0  0  0  0  0  0  0  0  0  0\n",
      "  0  0  0  0 -1  2  0  0  0  0  0  0  0  0  0  0  0  0  0  0 -1 -1  0  0\n",
      "  0 -1  0 -1  0  0  0 -1 -1  0 -1  0  0  0  0  0  0  0  0  0  0  0  1  0\n",
      "  2  2  0  0  0  0  0  0  0  0  0], NumClusters: 3\n",
      "Combination (0.38551724137931037, 4) on iteration 201 of 540 has 1 clusters. Moving on\n",
      "Combination (0.38551724137931037, 5) on iteration 202 of 540 has 1 clusters. Moving on\n",
      "Combination (0.38551724137931037, 6) on iteration 203 of 540 has 1 clusters. Moving on\n",
      "Combination (0.38551724137931037, 7) on iteration 204 of 540 has 1 clusters. Moving on\n",
      "Combination (0.38551724137931037, 8) on iteration 205 of 540 has 1 clusters. Moving on\n",
      "Combination (0.38551724137931037, 9) on iteration 206 of 540 has 1 clusters. Moving on\n",
      "Combination (0.38551724137931037, 10) on iteration 207 of 540 has 1 clusters. Moving on\n",
      "Combination (0.38551724137931037, 11) on iteration 208 of 540 has 1 clusters. Moving on\n",
      "Combination (0.38551724137931037, 12) on iteration 209 of 540 has 1 clusters. Moving on\n",
      "Combination (0.38551724137931037, 13) on iteration 210 of 540 has 1 clusters. Moving on\n",
      "Index: 210, Score: 0.5599863669860704, Labels: [ 0  0  1  1  1  1  1 -1  1  1  0  1  1  1  1  1  1 -1  0  1  1  0  1  1\n",
      "  1  0  1  1 -1  1  0  1  1 -1  1  0  1  1  1  1  1  1  1  0  1  1  1 -1\n",
      "  0  1  1  1  1  1  1  1  1  1  1  0  1 -1 -1  1  1  1  1  0 -1  1  1  1\n",
      "  0  1  1  1  1  1  1  1  1  1  1 -1  0  1  1  1  1  1  1  1  1  1  1  1\n",
      "  0  1  1  0  0  1  1  0  1  1  1  1  1  0  1  1  1  1  1  1  1  1  1  1\n",
      "  1  1  1  0  0  1  0  1  1  0  1  1  1  1  0  0  1 -1  1  1  1  0  1  1\n",
      "  1  1  1  1 -1 -1  1  1  1  1  1  1  1  1  1  1  1  1  1  1 -1 -1  1  1\n",
      "  1 -1  1 -1  1  1  1 -1 -1  1 -1  0  1  1  1  1  1  1  1  1  1  0 -1  1\n",
      " -1 -1  1  0  1  1  1  1  1  0  1], NumClusters: 2\n",
      "Index: 211, Score: 0.5599863669860704, Labels: [ 0  0  1  1  1  1  1 -1  1  1  0  1  1  1  1  1  1 -1  0  1  1  0  1  1\n",
      "  1  0  1  1 -1  1  0  1  1 -1  1  0  1  1  1  1  1  1  1  0  1  1  1 -1\n",
      "  0  1  1  1  1  1  1  1  1  1  1  0  1 -1 -1  1  1  1  1  0 -1  1  1  1\n",
      "  0  1  1  1  1  1  1  1  1  1  1 -1  0  1  1  1  1  1  1  1  1  1  1  1\n",
      "  0  1  1  0  0  1  1  0  1  1  1  1  1  0  1  1  1  1  1  1  1  1  1  1\n",
      "  1  1  1  0  0  1  0  1  1  0  1  1  1  1  0  0  1 -1  1  1  1  0  1  1\n",
      "  1  1  1  1 -1 -1  1  1  1  1  1  1  1  1  1  1  1  1  1  1 -1 -1  1  1\n",
      "  1 -1  1 -1  1  1  1 -1 -1  1 -1  0  1  1  1  1  1  1  1  1  1  0 -1  1\n",
      " -1 -1  1  0  1  1  1  1  1  0  1], NumClusters: 2\n",
      "Index: 212, Score: 0.5056956066651277, Labels: [ 0  0  1  1  1  1  1 -1  1  1 -1  1  1  1  1  1  1 -1  0  1  1  0  1  1\n",
      "  1 -1  1  1 -1  1 -1  1  1 -1  1  0  1  1  1  1  1  1  1  0  1  1  1 -1\n",
      "  0  1  1  1  1  1  1  1  1  1  1  0  1 -1 -1  1  1  1  1 -1 -1  1  1  1\n",
      " -1  1  1  1  1  1  1  1  1  1  1 -1  0  1  1  1  1  1  1  1  1  1  1  1\n",
      " -1  1  1  0  0  1  1  0  1  1  1  1  1  0  1  1  1  1  1  1  1  1  1  1\n",
      "  1  1  1  0  0  1  0  1  1 -1  1  1  1  1 -1  0  1 -1  1  1  1  0  1  1\n",
      "  1  1  1  1 -1 -1  1  1  1  1  1  1  1  1  1  1  1  1  1  1 -1 -1  1  1\n",
      "  1 -1  1 -1  1  1  1 -1 -1  1 -1  0  1  1  1  1  1  1  1  1  1  0 -1  1\n",
      " -1 -1  1  0  1  1  1  1  1  0  1], NumClusters: 2\n",
      "Index: 213, Score: 0.5056956066651277, Labels: [ 0  0  1  1  1  1  1 -1  1  1 -1  1  1  1  1  1  1 -1  0  1  1  0  1  1\n",
      "  1 -1  1  1 -1  1 -1  1  1 -1  1  0  1  1  1  1  1  1  1  0  1  1  1 -1\n",
      "  0  1  1  1  1  1  1  1  1  1  1  0  1 -1 -1  1  1  1  1 -1 -1  1  1  1\n",
      " -1  1  1  1  1  1  1  1  1  1  1 -1  0  1  1  1  1  1  1  1  1  1  1  1\n",
      " -1  1  1  0  0  1  1  0  1  1  1  1  1  0  1  1  1  1  1  1  1  1  1  1\n",
      "  1  1  1  0  0  1  0  1  1 -1  1  1  1  1 -1  0  1 -1  1  1  1  0  1  1\n",
      "  1  1  1  1 -1 -1  1  1  1  1  1  1  1  1  1  1  1  1  1  1 -1 -1  1  1\n",
      "  1 -1  1 -1  1  1  1 -1 -1  1 -1  0  1  1  1  1  1  1  1  1  1  0 -1  1\n",
      " -1 -1  1  0  1  1  1  1  1  0  1], NumClusters: 2\n",
      "Index: 214, Score: 0.4970659496262233, Labels: [ 1  1  0  0  0  0 -1 -1  0  0 -1  0  0  0  0  0  0 -1  1  0  0  1  0  0\n",
      "  0 -1  0  0 -1  0 -1  0  0 -1  0  1  0  0  0 -1  0  0  0  1  0  0  0 -1\n",
      "  1  0  0  0  0  0  0  0  0  0  0  1  0 -1 -1  0  0  0  0 -1 -1  0  0  0\n",
      " -1  0  0  0  0  0  0  0  0  0  0 -1  1  0  0  0  0  0  0  0  0  0  0  0\n",
      " -1  0  0  1  1  0  0  1  0  0  0  0  0  1  0  0  0  0  0  0  0  0  0  0\n",
      "  0  0  0  1  1  0  1  0  0 -1  0  0  0  0 -1  1  0 -1  0  0  0  1  0  0\n",
      "  0  0  0  0 -1 -1  0  0  0  0  0  0  0  0  0  0  0  0  0  0 -1 -1  0  0\n",
      "  0 -1  0 -1  0  0  0 -1 -1  0 -1  1  0  0  0  0  0  0  0  0  0  1 -1  0\n",
      " -1 -1  0  1  0  0  0  0  0  1  0], NumClusters: 2\n",
      "Index: 215, Score: 0.5098511019688479, Labels: [ 1  1  0  0  3  0 -1 -1  0  0 -1  0  0  0  0  0  0 -1  1  0  0  1  2  2\n",
      "  0 -1  0  0 -1  0 -1  3  3 -1  0  1  0  2  0 -1  0  3  0  1  3  0  0 -1\n",
      "  1  3  0  2  0  3  0  3  0  0  0  1  3 -1 -1  3  2  2  0 -1 -1  3  0  0\n",
      " -1  0  0  0  3  3  0  0  0  3  0 -1  1  0  0  0  0  0  0  2  0  0  0  0\n",
      " -1  0  0  1  1  3  0  1  0  0  3  2  2  1  0  0  3  0  0  0  0  0  0  0\n",
      "  3  0  0  1  1  0  1  0  0 -1  3  0  0  0 -1  1  0 -1  0  3  0  1  3  0\n",
      "  0  3  0  0 -1 -1  3  0  0  0  0  0  2  0  0  0  0  0  3  0 -1 -1  0  0\n",
      "  0 -1  0 -1  2  3  3 -1 -1  0 -1  1  2  0  2  0  0  0  2  0  0  1 -1  0\n",
      " -1 -1  0  1  0  0  3  2  0  1  3], NumClusters: 4\n",
      "Index: 216, Score: 0.23257986964610394, Labels: [ 0  0  0  0  0  0  0 -1  0  0  0  0  0  0  0  0  0  1  0  0  0  0  0  0\n",
      "  0  0  0  0  2  0  0  0  0 -1  0  0  0  0  0  0  0  0  0  0  0  0  0  2\n",
      "  0  0  0  0  0  0  0  0  0  0  0  0  0 -1 -1  0  0  0  0  0 -1  0  0  0\n",
      "  0  0  0  0  0  0  0  0  0  0  0  1  0  0  0  0  0  0  0  0  0  0  0  0\n",
      "  0  0  0  0  0  0  0  0  0  0  0  0  0  0  0  0  0  0  0  0  0  0  0  0\n",
      "  0  0  0  0  0  0  0  0  0  0  0  0  0  0  0  0  0  0  0  0  0  0  0  0\n",
      "  0  0  0  0  3  4  0  0  0  0  0  0  0  0  0  0  0  0  0  0 -1 -1  0  0\n",
      "  0 -1  0  3  0  0  0  5  5  0 -1  0  0  0  0  0  0  0  0  0  0  0  1  0\n",
      "  4  4  0  0  0  0  0  0  0  0  0], NumClusters: 6\n",
      "Index: 217, Score: 0.2566124935670574, Labels: [ 0  0  0  0  0  0  0 -1  0  0  0  0  0  0  0  0  0  1  0  0  0  0  0  0\n",
      "  0  0  0  0 -1  0  0  0  0 -1  0  0  0  0  0  0  0  0  0  0  0  0  0 -1\n",
      "  0  0  0  0  0  0  0  0  0  0  0  0  0 -1 -1  0  0  0  0  0 -1  0  0  0\n",
      "  0  0  0  0  0  0  0  0  0  0  0  1  0  0  0  0  0  0  0  0  0  0  0  0\n",
      "  0  0  0  0  0  0  0  0  0  0  0  0  0  0  0  0  0  0  0  0  0  0  0  0\n",
      "  0  0  0  0  0  0  0  0  0  0  0  0  0  0  0  0  0  0  0  0  0  0  0  0\n",
      "  0  0  0  0 -1  2  0  0  0  0  0  0  0  0  0  0  0  0  0  0 -1 -1  0  0\n",
      "  0 -1  0 -1  0  0  0 -1 -1  0 -1  0  0  0  0  0  0  0  0  0  0  0  1  0\n",
      "  2  2  0  0  0  0  0  0  0  0  0], NumClusters: 3\n",
      "Combination (0.41965517241379313, 4) on iteration 219 of 540 has 1 clusters. Moving on\n",
      "Combination (0.41965517241379313, 5) on iteration 220 of 540 has 1 clusters. Moving on\n",
      "Combination (0.41965517241379313, 6) on iteration 221 of 540 has 1 clusters. Moving on\n",
      "Combination (0.41965517241379313, 7) on iteration 222 of 540 has 1 clusters. Moving on\n",
      "Combination (0.41965517241379313, 8) on iteration 223 of 540 has 1 clusters. Moving on\n",
      "Combination (0.41965517241379313, 9) on iteration 224 of 540 has 1 clusters. Moving on\n",
      "Combination (0.41965517241379313, 10) on iteration 225 of 540 has 1 clusters. Moving on\n",
      "Combination (0.41965517241379313, 11) on iteration 226 of 540 has 1 clusters. Moving on\n",
      "Combination (0.41965517241379313, 12) on iteration 227 of 540 has 1 clusters. Moving on\n",
      "Combination (0.41965517241379313, 13) on iteration 228 of 540 has 1 clusters. Moving on\n",
      "Combination (0.41965517241379313, 14) on iteration 229 of 540 has 1 clusters. Moving on\n",
      "Combination (0.41965517241379313, 15) on iteration 230 of 540 has 1 clusters. Moving on\n",
      "Index: 230, Score: 0.5658307386524686, Labels: [ 0  0  1  1  1  1  1 -1  1  1  0  1  1  1  1  1  1 -1  0  1  1  0  1  1\n",
      "  1  0  1  1 -1  1  0  1  1 -1  1  0  1  1  1  0  1  1  1  0  1  1  1 -1\n",
      "  0  1  1  1  1  1  1  1  1  1  1  0  1 -1 -1  1  1  1  1  0 -1  1  1  1\n",
      "  0  1  1  1  1  1  1  1  1  1  1 -1  0  1  1  1  1  1  1  1  1  1  1  1\n",
      "  0  1  1  0  0  1  1  0  1  1  1  1  1  0  1  1  1  1  1  1  1  1  1  1\n",
      "  1  1  1  0  0  1  0  1  1  0  1  1  1  1  0  0  1 -1  1  1  1  0  1  1\n",
      "  1  1  1  1 -1 -1  1  1  1  1  1  1  1  1  1  1  1  1  1  1 -1 -1  1  1\n",
      "  1 -1  1 -1  1  1  1 -1 -1  1 -1  0  1  1  1  1  1  1  1  1  1  0 -1  1\n",
      " -1 -1  1  0  1  1  1  1  1  0  1], NumClusters: 2\n",
      "Index: 231, Score: 0.5457882287107356, Labels: [ 0  0  1  1  1  1  1 -1  1  1  1  1  1  1  1  1  1 -1  0  1  1  0  1  1\n",
      "  1  0  1  1 -1  1  0  1  1 -1  1  0  1  1  1  1  1  1  1  0  1  1  1 -1\n",
      "  0  1  1  1  1  1  1  1  1  1  1  0  1 -1 -1  1  1  1  1  0 -1  1  1  1\n",
      "  0  1  1  1  1  1  1  1  1  1  1 -1  0  1  1  1  1  1  1  1  1  1  1  1\n",
      "  0  1  1  0  0  1  1  0  1  1  1  1  1  0  1  1  1  1  1  1  1  1  1  1\n",
      "  1  1  1  0  0  1  0  1  1  0  1  1  1  1 -1  0  1 -1  1  1  1  0  1  1\n",
      "  1  1  1  1 -1 -1  1  1  1  1  1  1  1  1  1  1  1  1  1  1 -1 -1  1  1\n",
      "  1 -1  1 -1  1  1  1 -1 -1  1 -1  0  1  1  1  1  1  1  1  1  1  0 -1  1\n",
      " -1 -1  1  0  1  1  1  1  1  0  1], NumClusters: 2\n",
      "Index: 232, Score: 0.5453126507093369, Labels: [ 1  1  0  0  0  0  0 -1  0  0 -1  0  0  0  0  0  0 -1  1  0  0  1  0  0\n",
      "  0  1  0  0 -1  0  1  0  0 -1  0  1  0  0  0  0  0  0  0  1  0  0  0 -1\n",
      "  1  0  0  0  0  0  0  0  0  0  0  1  0 -1 -1  0  0  0  0  1 -1  0  0  0\n",
      "  1  0  0  0  0  0  0  0  0  0  0 -1  1  0  0  0  0  0  0  0  0  0  0  0\n",
      "  1  0  0  1  1  0  0  1  0  0  0  0  0  1  0  0  0  0  0  0  0  0  0  0\n",
      "  0  0  0  1  1  0  1  0  0  1  0  0  0  0 -1  1  0 -1  0  0  0  1  0  0\n",
      "  0  0  0  0 -1 -1  0  0  0  0  0  0  0  0  0  0  0  0  0  0 -1 -1  0  0\n",
      "  0 -1  0 -1  0  0  0 -1 -1  0 -1  1  0  0  0  0  0  0  0  0  0  1 -1  0\n",
      " -1 -1  0  1  0  0  0  0  0  1  0], NumClusters: 2\n",
      "Index: 233, Score: 0.5453126507093369, Labels: [ 1  1  0  0  0  0  0 -1  0  0 -1  0  0  0  0  0  0 -1  1  0  0  1  0  0\n",
      "  0  1  0  0 -1  0  1  0  0 -1  0  1  0  0  0  0  0  0  0  1  0  0  0 -1\n",
      "  1  0  0  0  0  0  0  0  0  0  0  1  0 -1 -1  0  0  0  0  1 -1  0  0  0\n",
      "  1  0  0  0  0  0  0  0  0  0  0 -1  1  0  0  0  0  0  0  0  0  0  0  0\n",
      "  1  0  0  1  1  0  0  1  0  0  0  0  0  1  0  0  0  0  0  0  0  0  0  0\n",
      "  0  0  0  1  1  0  1  0  0  1  0  0  0  0 -1  1  0 -1  0  0  0  1  0  0\n",
      "  0  0  0  0 -1 -1  0  0  0  0  0  0  0  0  0  0  0  0  0  0 -1 -1  0  0\n",
      "  0 -1  0 -1  0  0  0 -1 -1  0 -1  1  0  0  0  0  0  0  0  0  0  1 -1  0\n",
      " -1 -1  0  1  0  0  0  0  0  1  0], NumClusters: 2\n",
      "Index: 234, Score: 0.23257986964610394, Labels: [ 0  0  0  0  0  0  0 -1  0  0  0  0  0  0  0  0  0  1  0  0  0  0  0  0\n",
      "  0  0  0  0  2  0  0  0  0 -1  0  0  0  0  0  0  0  0  0  0  0  0  0  2\n",
      "  0  0  0  0  0  0  0  0  0  0  0  0  0 -1 -1  0  0  0  0  0 -1  0  0  0\n",
      "  0  0  0  0  0  0  0  0  0  0  0  1  0  0  0  0  0  0  0  0  0  0  0  0\n",
      "  0  0  0  0  0  0  0  0  0  0  0  0  0  0  0  0  0  0  0  0  0  0  0  0\n",
      "  0  0  0  0  0  0  0  0  0  0  0  0  0  0  0  0  0  0  0  0  0  0  0  0\n",
      "  0  0  0  0  3  4  0  0  0  0  0  0  0  0  0  0  0  0  0  0 -1 -1  0  0\n",
      "  0 -1  0  3  0  0  0  5  5  0 -1  0  0  0  0  0  0  0  0  0  0  0  1  0\n",
      "  4  4  0  0  0  0  0  0  0  0  0], NumClusters: 6\n",
      "Index: 235, Score: 0.2566124935670574, Labels: [ 0  0  0  0  0  0  0 -1  0  0  0  0  0  0  0  0  0  1  0  0  0  0  0  0\n",
      "  0  0  0  0 -1  0  0  0  0 -1  0  0  0  0  0  0  0  0  0  0  0  0  0 -1\n",
      "  0  0  0  0  0  0  0  0  0  0  0  0  0 -1 -1  0  0  0  0  0 -1  0  0  0\n",
      "  0  0  0  0  0  0  0  0  0  0  0  1  0  0  0  0  0  0  0  0  0  0  0  0\n",
      "  0  0  0  0  0  0  0  0  0  0  0  0  0  0  0  0  0  0  0  0  0  0  0  0\n",
      "  0  0  0  0  0  0  0  0  0  0  0  0  0  0  0  0  0  0  0  0  0  0  0  0\n",
      "  0  0  0  0 -1  2  0  0  0  0  0  0  0  0  0  0  0  0  0  0 -1 -1  0  0\n",
      "  0 -1  0 -1  0  0  0 -1 -1  0 -1  0  0  0  0  0  0  0  0  0  0  0  1  0\n",
      "  2  2  0  0  0  0  0  0  0  0  0], NumClusters: 3\n",
      "Combination (0.4537931034482759, 4) on iteration 237 of 540 has 1 clusters. Moving on\n",
      "Combination (0.4537931034482759, 5) on iteration 238 of 540 has 1 clusters. Moving on\n",
      "Combination (0.4537931034482759, 6) on iteration 239 of 540 has 1 clusters. Moving on\n",
      "Combination (0.4537931034482759, 7) on iteration 240 of 540 has 1 clusters. Moving on\n",
      "Combination (0.4537931034482759, 8) on iteration 241 of 540 has 1 clusters. Moving on\n",
      "Combination (0.4537931034482759, 9) on iteration 242 of 540 has 1 clusters. Moving on\n",
      "Combination (0.4537931034482759, 10) on iteration 243 of 540 has 1 clusters. Moving on\n",
      "Combination (0.4537931034482759, 11) on iteration 244 of 540 has 1 clusters. Moving on\n",
      "Combination (0.4537931034482759, 12) on iteration 245 of 540 has 1 clusters. Moving on\n",
      "Combination (0.4537931034482759, 13) on iteration 246 of 540 has 1 clusters. Moving on\n",
      "Combination (0.4537931034482759, 14) on iteration 247 of 540 has 1 clusters. Moving on\n",
      "Combination (0.4537931034482759, 15) on iteration 248 of 540 has 1 clusters. Moving on\n",
      "Combination (0.4537931034482759, 16) on iteration 249 of 540 has 1 clusters. Moving on\n",
      "Combination (0.4537931034482759, 17) on iteration 250 of 540 has 1 clusters. Moving on\n",
      "Index: 250, Score: 0.5465316382665697, Labels: [ 0  0  1  1  1  1  1 -1  1  1  1  1  1  1  1  1  1 -1  0  1  1  0  1  1\n",
      "  1  0  1  1 -1  1  0  1  1 -1  1  0  1  1  1  1  1  1  1  0  1  1  1 -1\n",
      "  0  1  1  1  1  1  1  1  1  1  1  0  1 -1 -1  1  1  1  1  0 -1  1  1  1\n",
      "  0  1  1  1  1  1  1  1  1  1  1 -1  0  1  1  1  1  1  1  1  1  1  1  1\n",
      "  0  1  1  0  0  1  1  0  1  1  1  1  1  0  1  1  1  1  1  1  1  1  1  1\n",
      "  1  1  1  0  0  1  0  1  1  0  1  1  1  1  1  0  1 -1  1  1  1  0  1  1\n",
      "  1  1  1  1 -1 -1  1  1  1  1  1  1  1  1  1  1  1  1  1  1 -1 -1  1  1\n",
      "  1 -1  1 -1  1  1  1 -1 -1  1 -1  0  1  1  1  1  1  1  1  1  1  0 -1  1\n",
      " -1 -1  1  0  1  1  1  1  1  0  1], NumClusters: 2\n",
      "Index: 251, Score: 0.5465316382665697, Labels: [ 0  0  1  1  1  1  1 -1  1  1  1  1  1  1  1  1  1 -1  0  1  1  0  1  1\n",
      "  1  0  1  1 -1  1  0  1  1 -1  1  0  1  1  1  1  1  1  1  0  1  1  1 -1\n",
      "  0  1  1  1  1  1  1  1  1  1  1  0  1 -1 -1  1  1  1  1  0 -1  1  1  1\n",
      "  0  1  1  1  1  1  1  1  1  1  1 -1  0  1  1  1  1  1  1  1  1  1  1  1\n",
      "  0  1  1  0  0  1  1  0  1  1  1  1  1  0  1  1  1  1  1  1  1  1  1  1\n",
      "  1  1  1  0  0  1  0  1  1  0  1  1  1  1  1  0  1 -1  1  1  1  0  1  1\n",
      "  1  1  1  1 -1 -1  1  1  1  1  1  1  1  1  1  1  1  1  1  1 -1 -1  1  1\n",
      "  1 -1  1 -1  1  1  1 -1 -1  1 -1  0  1  1  1  1  1  1  1  1  1  0 -1  1\n",
      " -1 -1  1  0  1  1  1  1  1  0  1], NumClusters: 2\n",
      "Index: 252, Score: 0.23257986964610394, Labels: [ 0  0  0  0  0  0  0 -1  0  0  0  0  0  0  0  0  0  1  0  0  0  0  0  0\n",
      "  0  0  0  0  2  0  0  0  0 -1  0  0  0  0  0  0  0  0  0  0  0  0  0  2\n",
      "  0  0  0  0  0  0  0  0  0  0  0  0  0 -1 -1  0  0  0  0  0 -1  0  0  0\n",
      "  0  0  0  0  0  0  0  0  0  0  0  1  0  0  0  0  0  0  0  0  0  0  0  0\n",
      "  0  0  0  0  0  0  0  0  0  0  0  0  0  0  0  0  0  0  0  0  0  0  0  0\n",
      "  0  0  0  0  0  0  0  0  0  0  0  0  0  0  0  0  0  0  0  0  0  0  0  0\n",
      "  0  0  0  0  3  4  0  0  0  0  0  0  0  0  0  0  0  0  0  0 -1 -1  0  0\n",
      "  0 -1  0  3  0  0  0  5  5  0 -1  0  0  0  0  0  0  0  0  0  0  0  1  0\n",
      "  4  4  0  0  0  0  0  0  0  0  0], NumClusters: 6\n",
      "Index: 253, Score: 0.2566124935670574, Labels: [ 0  0  0  0  0  0  0 -1  0  0  0  0  0  0  0  0  0  1  0  0  0  0  0  0\n",
      "  0  0  0  0 -1  0  0  0  0 -1  0  0  0  0  0  0  0  0  0  0  0  0  0 -1\n",
      "  0  0  0  0  0  0  0  0  0  0  0  0  0 -1 -1  0  0  0  0  0 -1  0  0  0\n",
      "  0  0  0  0  0  0  0  0  0  0  0  1  0  0  0  0  0  0  0  0  0  0  0  0\n",
      "  0  0  0  0  0  0  0  0  0  0  0  0  0  0  0  0  0  0  0  0  0  0  0  0\n",
      "  0  0  0  0  0  0  0  0  0  0  0  0  0  0  0  0  0  0  0  0  0  0  0  0\n",
      "  0  0  0  0 -1  2  0  0  0  0  0  0  0  0  0  0  0  0  0  0 -1 -1  0  0\n",
      "  0 -1  0 -1  0  0  0 -1 -1  0 -1  0  0  0  0  0  0  0  0  0  0  0  1  0\n",
      "  2  2  0  0  0  0  0  0  0  0  0], NumClusters: 3\n",
      "Combination (0.48793103448275865, 4) on iteration 255 of 540 has 1 clusters. Moving on\n",
      "Combination (0.48793103448275865, 5) on iteration 256 of 540 has 1 clusters. Moving on\n",
      "Combination (0.48793103448275865, 6) on iteration 257 of 540 has 1 clusters. Moving on\n",
      "Combination (0.48793103448275865, 7) on iteration 258 of 540 has 1 clusters. Moving on\n",
      "Combination (0.48793103448275865, 8) on iteration 259 of 540 has 1 clusters. Moving on\n",
      "Combination (0.48793103448275865, 9) on iteration 260 of 540 has 1 clusters. Moving on\n",
      "Combination (0.48793103448275865, 10) on iteration 261 of 540 has 1 clusters. Moving on\n",
      "Combination (0.48793103448275865, 11) on iteration 262 of 540 has 1 clusters. Moving on\n",
      "Combination (0.48793103448275865, 12) on iteration 263 of 540 has 1 clusters. Moving on\n",
      "Combination (0.48793103448275865, 13) on iteration 264 of 540 has 1 clusters. Moving on\n",
      "Combination (0.48793103448275865, 14) on iteration 265 of 540 has 1 clusters. Moving on\n",
      "Combination (0.48793103448275865, 15) on iteration 266 of 540 has 1 clusters. Moving on\n",
      "Combination (0.48793103448275865, 16) on iteration 267 of 540 has 1 clusters. Moving on\n",
      "Combination (0.48793103448275865, 17) on iteration 268 of 540 has 1 clusters. Moving on\n",
      "Index: 268, Score: 0.5555244582372708, Labels: [ 0  0  1  1  1  1  1 -1  1  1  1  1  1  1  1  1  1 -1  0  1  1  0  1  1\n",
      "  1  0  1  1 -1  1  0  1  1 -1  1  0  1  1  1  1  1  1  1  0  1  1  1 -1\n",
      "  0  1  1  1  1  1  1  1  1  1  1  0  1 -1 -1  1  1  1  1  0 -1  1  1  1\n",
      "  0  1  1  1  1  1  1  1  1  1  1 -1  0  1  1  1  1  1  1  1  1  1  1  1\n",
      "  0  1  1  0  0  1  1  0  1  1  1  1  1  0  1  1  1  1  1  1  1  1  1  1\n",
      "  1  1  1  0  0  1  0  1  1  0  1  1  1  1  1  0  1  1  1  1  1  0  1  1\n",
      "  1  1  1  1 -1 -1  1  1  1  1  1  1  1  1  1  1  1  1  1  1 -1 -1  1  1\n",
      "  1 -1  1 -1  1  1  1 -1 -1  1 -1  0  1  1  1  1  1  1  1  1  1  0 -1  1\n",
      " -1 -1  1  0  1  1  1  1  1  0  1], NumClusters: 2\n",
      "Index: 269, Score: 0.5555244582372708, Labels: [ 0  0  1  1  1  1  1 -1  1  1  1  1  1  1  1  1  1 -1  0  1  1  0  1  1\n",
      "  1  0  1  1 -1  1  0  1  1 -1  1  0  1  1  1  1  1  1  1  0  1  1  1 -1\n",
      "  0  1  1  1  1  1  1  1  1  1  1  0  1 -1 -1  1  1  1  1  0 -1  1  1  1\n",
      "  0  1  1  1  1  1  1  1  1  1  1 -1  0  1  1  1  1  1  1  1  1  1  1  1\n",
      "  0  1  1  0  0  1  1  0  1  1  1  1  1  0  1  1  1  1  1  1  1  1  1  1\n",
      "  1  1  1  0  0  1  0  1  1  0  1  1  1  1  1  0  1  1  1  1  1  0  1  1\n",
      "  1  1  1  1 -1 -1  1  1  1  1  1  1  1  1  1  1  1  1  1  1 -1 -1  1  1\n",
      "  1 -1  1 -1  1  1  1 -1 -1  1 -1  0  1  1  1  1  1  1  1  1  1  0 -1  1\n",
      " -1 -1  1  0  1  1  1  1  1  0  1], NumClusters: 2\n",
      "Index: 270, Score: 0.23257986964610394, Labels: [ 0  0  0  0  0  0  0 -1  0  0  0  0  0  0  0  0  0  1  0  0  0  0  0  0\n",
      "  0  0  0  0  2  0  0  0  0 -1  0  0  0  0  0  0  0  0  0  0  0  0  0  2\n",
      "  0  0  0  0  0  0  0  0  0  0  0  0  0 -1 -1  0  0  0  0  0 -1  0  0  0\n",
      "  0  0  0  0  0  0  0  0  0  0  0  1  0  0  0  0  0  0  0  0  0  0  0  0\n",
      "  0  0  0  0  0  0  0  0  0  0  0  0  0  0  0  0  0  0  0  0  0  0  0  0\n",
      "  0  0  0  0  0  0  0  0  0  0  0  0  0  0  0  0  0  0  0  0  0  0  0  0\n",
      "  0  0  0  0  3  4  0  0  0  0  0  0  0  0  0  0  0  0  0  0 -1 -1  0  0\n",
      "  0 -1  0  3  0  0  0  5  5  0 -1  0  0  0  0  0  0  0  0  0  0  0  1  0\n",
      "  4  4  0  0  0  0  0  0  0  0  0], NumClusters: 6\n",
      "Index: 271, Score: 0.2566124935670574, Labels: [ 0  0  0  0  0  0  0 -1  0  0  0  0  0  0  0  0  0  1  0  0  0  0  0  0\n",
      "  0  0  0  0 -1  0  0  0  0 -1  0  0  0  0  0  0  0  0  0  0  0  0  0 -1\n",
      "  0  0  0  0  0  0  0  0  0  0  0  0  0 -1 -1  0  0  0  0  0 -1  0  0  0\n",
      "  0  0  0  0  0  0  0  0  0  0  0  1  0  0  0  0  0  0  0  0  0  0  0  0\n",
      "  0  0  0  0  0  0  0  0  0  0  0  0  0  0  0  0  0  0  0  0  0  0  0  0\n",
      "  0  0  0  0  0  0  0  0  0  0  0  0  0  0  0  0  0  0  0  0  0  0  0  0\n",
      "  0  0  0  0 -1  2  0  0  0  0  0  0  0  0  0  0  0  0  0  0 -1 -1  0  0\n",
      "  0 -1  0 -1  0  0  0 -1 -1  0 -1  0  0  0  0  0  0  0  0  0  0  0  1  0\n",
      "  2  2  0  0  0  0  0  0  0  0  0], NumClusters: 3\n",
      "Combination (0.5220689655172415, 4) on iteration 273 of 540 has 1 clusters. Moving on\n",
      "Combination (0.5220689655172415, 5) on iteration 274 of 540 has 1 clusters. Moving on\n",
      "Combination (0.5220689655172415, 6) on iteration 275 of 540 has 1 clusters. Moving on\n",
      "Combination (0.5220689655172415, 7) on iteration 276 of 540 has 1 clusters. Moving on\n",
      "Combination (0.5220689655172415, 8) on iteration 277 of 540 has 1 clusters. Moving on\n",
      "Combination (0.5220689655172415, 9) on iteration 278 of 540 has 1 clusters. Moving on\n",
      "Combination (0.5220689655172415, 10) on iteration 279 of 540 has 1 clusters. Moving on\n",
      "Combination (0.5220689655172415, 11) on iteration 280 of 540 has 1 clusters. Moving on\n",
      "Combination (0.5220689655172415, 12) on iteration 281 of 540 has 1 clusters. Moving on\n",
      "Combination (0.5220689655172415, 13) on iteration 282 of 540 has 1 clusters. Moving on\n",
      "Combination (0.5220689655172415, 14) on iteration 283 of 540 has 1 clusters. Moving on\n",
      "Combination (0.5220689655172415, 15) on iteration 284 of 540 has 1 clusters. Moving on\n",
      "Combination (0.5220689655172415, 16) on iteration 285 of 540 has 1 clusters. Moving on\n",
      "Combination (0.5220689655172415, 17) on iteration 286 of 540 has 1 clusters. Moving on\n",
      "Combination (0.5220689655172415, 18) on iteration 287 of 540 has 1 clusters. Moving on\n",
      "Index: 287, Score: 0.5555244582372708, Labels: [ 0  0  1  1  1  1  1 -1  1  1  1  1  1  1  1  1  1 -1  0  1  1  0  1  1\n",
      "  1  0  1  1 -1  1  0  1  1 -1  1  0  1  1  1  1  1  1  1  0  1  1  1 -1\n",
      "  0  1  1  1  1  1  1  1  1  1  1  0  1 -1 -1  1  1  1  1  0 -1  1  1  1\n",
      "  0  1  1  1  1  1  1  1  1  1  1 -1  0  1  1  1  1  1  1  1  1  1  1  1\n",
      "  0  1  1  0  0  1  1  0  1  1  1  1  1  0  1  1  1  1  1  1  1  1  1  1\n",
      "  1  1  1  0  0  1  0  1  1  0  1  1  1  1  1  0  1  1  1  1  1  0  1  1\n",
      "  1  1  1  1 -1 -1  1  1  1  1  1  1  1  1  1  1  1  1  1  1 -1 -1  1  1\n",
      "  1 -1  1 -1  1  1  1 -1 -1  1 -1  0  1  1  1  1  1  1  1  1  1  0 -1  1\n",
      " -1 -1  1  0  1  1  1  1  1  0  1], NumClusters: 2\n",
      "Index: 288, Score: 0.2860211773409788, Labels: [ 0  0  0  0  0  0  0 -1  0  0  0  0  0  0  0  0  0  1  0  0  0  0  0  0\n",
      "  0  0  0  0  2  0  0  0  0 -1  0  0  0  0  0  0  0  0  0  0  0  0  0  2\n",
      "  0  0  0  0  0  0  0  0  0  0  0  0  0  3 -1  0  0  0  0  0  4  0  0  0\n",
      "  0  0  0  0  0  0  0  0  0  0  0  1  0  0  0  0  0  0  0  0  0  0  0  0\n",
      "  0  0  0  0  0  0  0  0  0  0  0  0  0  0  0  0  0  0  0  0  0  0  0  0\n",
      "  0  0  0  0  0  0  0  0  0  0  0  0  0  0  0  0  0  0  0  0  0  0  0  0\n",
      "  0  0  0  0  4  4  0  0  0  0  0  0  0  0  0  0  0  0  0  0 -1  3  0  0\n",
      "  0 -1  0  4  0  0  0  5  5  0 -1  0  0  0  0  0  0  0  0  0  0  0  1  0\n",
      "  4  4  0  0  0  0  0  0  0  0  0], NumClusters: 6\n",
      "Index: 289, Score: 0.273650907304088, Labels: [ 0  0  0  0  0  0  0 -1  0  0  0  0  0  0  0  0  0  1  0  0  0  0  0  0\n",
      "  0  0  0  0 -1  0  0  0  0 -1  0  0  0  0  0  0  0  0  0  0  0  0  0 -1\n",
      "  0  0  0  0  0  0  0  0  0  0  0  0  0 -1 -1  0  0  0  0  0  2  0  0  0\n",
      "  0  0  0  0  0  0  0  0  0  0  0  1  0  0  0  0  0  0  0  0  0  0  0  0\n",
      "  0  0  0  0  0  0  0  0  0  0  0  0  0  0  0  0  0  0  0  0  0  0  0  0\n",
      "  0  0  0  0  0  0  0  0  0  0  0  0  0  0  0  0  0  0  0  0  0  0  0  0\n",
      "  0  0  0  0  2  2  0  0  0  0  0  0  0  0  0  0  0  0  0  0 -1 -1  0  0\n",
      "  0 -1  0  2  0  0  0 -1 -1  0 -1  0  0  0  0  0  0  0  0  0  0  0  1  0\n",
      "  2  2  0  0  0  0  0  0  0  0  0], NumClusters: 3\n",
      "Index: 290, Score: 0.2607076950114623, Labels: [ 0  0  0  0  0  0  0 -1  0  0  0  0  0  0  0  0  0 -1  0  0  0  0  0  0\n",
      "  0  0  0  0 -1  0  0  0  0 -1  0  0  0  0  0  0  0  0  0  0  0  0  0 -1\n",
      "  0  0  0  0  0  0  0  0  0  0  0  0  0 -1 -1  0  0  0  0  0  1  0  0  0\n",
      "  0  0  0  0  0  0  0  0  0  0  0 -1  0  0  0  0  0  0  0  0  0  0  0  0\n",
      "  0  0  0  0  0  0  0  0  0  0  0  0  0  0  0  0  0  0  0  0  0  0  0  0\n",
      "  0  0  0  0  0  0  0  0  0  0  0  0  0  0  0  0  0  0  0  0  0  0  0  0\n",
      "  0  0  0  0  1  1  0  0  0  0  0  0  0  0  0  0  0  0  0  0 -1 -1  0  0\n",
      "  0 -1  0 -1  0  0  0 -1 -1  0 -1  0  0  0  0  0  0  0  0  0  0  0 -1  0\n",
      "  1  1  0  0  0  0  0  0  0  0  0], NumClusters: 2\n",
      "Index: 291, Score: 0.2607076950114623, Labels: [ 0  0  0  0  0  0  0 -1  0  0  0  0  0  0  0  0  0 -1  0  0  0  0  0  0\n",
      "  0  0  0  0 -1  0  0  0  0 -1  0  0  0  0  0  0  0  0  0  0  0  0  0 -1\n",
      "  0  0  0  0  0  0  0  0  0  0  0  0  0 -1 -1  0  0  0  0  0  1  0  0  0\n",
      "  0  0  0  0  0  0  0  0  0  0  0 -1  0  0  0  0  0  0  0  0  0  0  0  0\n",
      "  0  0  0  0  0  0  0  0  0  0  0  0  0  0  0  0  0  0  0  0  0  0  0  0\n",
      "  0  0  0  0  0  0  0  0  0  0  0  0  0  0  0  0  0  0  0  0  0  0  0  0\n",
      "  0  0  0  0  1  1  0  0  0  0  0  0  0  0  0  0  0  0  0  0 -1 -1  0  0\n",
      "  0 -1  0 -1  0  0  0 -1 -1  0 -1  0  0  0  0  0  0  0  0  0  0  0 -1  0\n",
      "  1  1  0  0  0  0  0  0  0  0  0], NumClusters: 2\n",
      "Combination (0.5562068965517242, 6) on iteration 293 of 540 has 1 clusters. Moving on\n",
      "Combination (0.5562068965517242, 7) on iteration 294 of 540 has 1 clusters. Moving on\n",
      "Combination (0.5562068965517242, 8) on iteration 295 of 540 has 1 clusters. Moving on\n",
      "Combination (0.5562068965517242, 9) on iteration 296 of 540 has 1 clusters. Moving on\n",
      "Combination (0.5562068965517242, 10) on iteration 297 of 540 has 1 clusters. Moving on\n",
      "Combination (0.5562068965517242, 11) on iteration 298 of 540 has 1 clusters. Moving on\n",
      "Combination (0.5562068965517242, 12) on iteration 299 of 540 has 1 clusters. Moving on\n",
      "Combination (0.5562068965517242, 13) on iteration 300 of 540 has 1 clusters. Moving on\n",
      "Combination (0.5562068965517242, 14) on iteration 301 of 540 has 1 clusters. Moving on\n",
      "Combination (0.5562068965517242, 15) on iteration 302 of 540 has 1 clusters. Moving on\n",
      "Combination (0.5562068965517242, 16) on iteration 303 of 540 has 1 clusters. Moving on\n",
      "Combination (0.5562068965517242, 17) on iteration 304 of 540 has 1 clusters. Moving on\n",
      "Combination (0.5562068965517242, 18) on iteration 305 of 540 has 1 clusters. Moving on\n",
      "Combination (0.5562068965517242, 19) on iteration 306 of 540 has 1 clusters. Moving on\n",
      "Index: 306, Score: 0.289174337899922, Labels: [ 0  0  0  0  0  0  0  1  0  0  0  0  0  0  0  0  0  2  0  0  0  0  0  0\n",
      "  0  0  0  0  3  0  0  0  0 -1  0  0  0  0  0  0  0  0  0  0  0  0  0  3\n",
      "  0  0  0  0  0  0  0  0  0  0  0  0  0  1 -1  0  0  0  0  0  4  0  0  0\n",
      "  0  0  0  0  0  0  0  0  0  0  0  2  0  0  0  0  0  0  0  0  0  0  0  0\n",
      "  0  0  0  0  0  0  0  0  0  0  0  0  0  0  0  0  0  0  0  0  0  0  0  0\n",
      "  0  0  0  0  0  0  0  0  0  0  0  0  0  0  0  0  0  0  0  0  0  0  0  0\n",
      "  0  0  0  0  4  4  0  0  0  0  0  0  0  0  0  0  0  0  0  0 -1  1  0  0\n",
      "  0 -1  0  4  0  0  0  5  5  0 -1  0  0  0  0  0  0  0  0  0  0  0  2  0\n",
      "  4  4  0  0  0  0  0  0  0  0  0], NumClusters: 6\n",
      "Index: 307, Score: 0.2718301822369723, Labels: [ 0  0  0  0  0  0  0  3  0  0  0  0  0  0  0  0  0  1  0  0  0  0  0  0\n",
      "  0  0  0  0 -1  0  0  0  0 -1  0  0  0  0  0  0  0  0  0  0  0  0  0 -1\n",
      "  0  0  0  0  0  0  0  0  0  0  0  0  0  3 -1  0  0  0  0  0  2  0  0  0\n",
      "  0  0  0  0  0  0  0  0  0  0  0  1  0  0  0  0  0  0  0  0  0  0  0  0\n",
      "  0  0  0  0  0  0  0  0  0  0  0  0  0  0  0  0  0  0  0  0  0  0  0  0\n",
      "  0  0  0  0  0  0  0  0  0  0  0  0  0  0  0  0  0  0  0  0  0  0  0  0\n",
      "  0  0  0  0  2  2  0  0  0  0  0  0  0  0  0  0  0  0  0  0 -1  3  0  0\n",
      "  0 -1  0  2  0  0  0 -1 -1  0 -1  0  0  0  0  0  0  0  0  0  0  0  1  0\n",
      "  2  2  0  0  0  0  0  0  0  0  0], NumClusters: 4\n",
      "Index: 308, Score: 0.28071252577935807, Labels: [ 0  0  0  0  0  0  0 -1  0  0  0  0  0  0  0  0  0 -1  0  0  0  0  0  0\n",
      "  0  0  0  0 -1  0  0  0  0 -1  0  0  0  0  0  0  0  0  0  0  0  0  0 -1\n",
      "  0  0  0  0  0  0  0  0  0  0  0  0  0 -1 -1  0  0  0  0  0  1  0  0  0\n",
      "  0  0  0  0  0  0  0  0  0  0  0 -1  0  0  0  0  0  0  0  0  0  0  0  0\n",
      "  0  0  0  0  0  0  0  0  0  0  0  0  0  0  0  0  0  0  0  0  0  0  0  0\n",
      "  0  0  0  0  0  0  0  0  0  0  0  0  0  0  0  0  0  0  0  0  0  0  0  0\n",
      "  0  0  0  0  1  1  0  0  0  0  0  0  0  0  0  0  0  0  0  0 -1 -1  0  0\n",
      "  0 -1  0  1  0  0  0 -1 -1  0 -1  0  0  0  0  0  0  0  0  0  0  0 -1  0\n",
      "  1  1  0  0  0  0  0  0  0  0  0], NumClusters: 2\n",
      "Index: 309, Score: 0.28071252577935807, Labels: [ 0  0  0  0  0  0  0 -1  0  0  0  0  0  0  0  0  0 -1  0  0  0  0  0  0\n",
      "  0  0  0  0 -1  0  0  0  0 -1  0  0  0  0  0  0  0  0  0  0  0  0  0 -1\n",
      "  0  0  0  0  0  0  0  0  0  0  0  0  0 -1 -1  0  0  0  0  0  1  0  0  0\n",
      "  0  0  0  0  0  0  0  0  0  0  0 -1  0  0  0  0  0  0  0  0  0  0  0  0\n",
      "  0  0  0  0  0  0  0  0  0  0  0  0  0  0  0  0  0  0  0  0  0  0  0  0\n",
      "  0  0  0  0  0  0  0  0  0  0  0  0  0  0  0  0  0  0  0  0  0  0  0  0\n",
      "  0  0  0  0  1  1  0  0  0  0  0  0  0  0  0  0  0  0  0  0 -1 -1  0  0\n",
      "  0 -1  0  1  0  0  0 -1 -1  0 -1  0  0  0  0  0  0  0  0  0  0  0 -1  0\n",
      "  1  1  0  0  0  0  0  0  0  0  0], NumClusters: 2\n",
      "Index: 310, Score: 0.28071252577935807, Labels: [ 0  0  0  0  0  0  0 -1  0  0  0  0  0  0  0  0  0 -1  0  0  0  0  0  0\n",
      "  0  0  0  0 -1  0  0  0  0 -1  0  0  0  0  0  0  0  0  0  0  0  0  0 -1\n",
      "  0  0  0  0  0  0  0  0  0  0  0  0  0 -1 -1  0  0  0  0  0  1  0  0  0\n",
      "  0  0  0  0  0  0  0  0  0  0  0 -1  0  0  0  0  0  0  0  0  0  0  0  0\n",
      "  0  0  0  0  0  0  0  0  0  0  0  0  0  0  0  0  0  0  0  0  0  0  0  0\n",
      "  0  0  0  0  0  0  0  0  0  0  0  0  0  0  0  0  0  0  0  0  0  0  0  0\n",
      "  0  0  0  0  1  1  0  0  0  0  0  0  0  0  0  0  0  0  0  0 -1 -1  0  0\n",
      "  0 -1  0  1  0  0  0 -1 -1  0 -1  0  0  0  0  0  0  0  0  0  0  0 -1  0\n",
      "  1  1  0  0  0  0  0  0  0  0  0], NumClusters: 2\n",
      "Combination (0.5903448275862069, 7) on iteration 312 of 540 has 1 clusters. Moving on\n",
      "Combination (0.5903448275862069, 8) on iteration 313 of 540 has 1 clusters. Moving on\n",
      "Combination (0.5903448275862069, 9) on iteration 314 of 540 has 1 clusters. Moving on\n",
      "Combination (0.5903448275862069, 10) on iteration 315 of 540 has 1 clusters. Moving on\n",
      "Combination (0.5903448275862069, 11) on iteration 316 of 540 has 1 clusters. Moving on\n",
      "Combination (0.5903448275862069, 12) on iteration 317 of 540 has 1 clusters. Moving on\n",
      "Combination (0.5903448275862069, 13) on iteration 318 of 540 has 1 clusters. Moving on\n",
      "Combination (0.5903448275862069, 14) on iteration 319 of 540 has 1 clusters. Moving on\n",
      "Combination (0.5903448275862069, 15) on iteration 320 of 540 has 1 clusters. Moving on\n",
      "Combination (0.5903448275862069, 16) on iteration 321 of 540 has 1 clusters. Moving on\n",
      "Combination (0.5903448275862069, 17) on iteration 322 of 540 has 1 clusters. Moving on\n",
      "Combination (0.5903448275862069, 18) on iteration 323 of 540 has 1 clusters. Moving on\n",
      "Combination (0.5903448275862069, 19) on iteration 324 of 540 has 1 clusters. Moving on\n",
      "Index: 324, Score: 0.289174337899922, Labels: [ 0  0  0  0  0  0  0  1  0  0  0  0  0  0  0  0  0  2  0  0  0  0  0  0\n",
      "  0  0  0  0  3  0  0  0  0 -1  0  0  0  0  0  0  0  0  0  0  0  0  0  3\n",
      "  0  0  0  0  0  0  0  0  0  0  0  0  0  1 -1  0  0  0  0  0  4  0  0  0\n",
      "  0  0  0  0  0  0  0  0  0  0  0  2  0  0  0  0  0  0  0  0  0  0  0  0\n",
      "  0  0  0  0  0  0  0  0  0  0  0  0  0  0  0  0  0  0  0  0  0  0  0  0\n",
      "  0  0  0  0  0  0  0  0  0  0  0  0  0  0  0  0  0  0  0  0  0  0  0  0\n",
      "  0  0  0  0  4  4  0  0  0  0  0  0  0  0  0  0  0  0  0  0 -1  1  0  0\n",
      "  0 -1  0  4  0  0  0  5  5  0 -1  0  0  0  0  0  0  0  0  0  0  0  2  0\n",
      "  4  4  0  0  0  0  0  0  0  0  0], NumClusters: 6\n",
      "Index: 325, Score: 0.2718301822369723, Labels: [ 0  0  0  0  0  0  0  3  0  0  0  0  0  0  0  0  0  1  0  0  0  0  0  0\n",
      "  0  0  0  0 -1  0  0  0  0 -1  0  0  0  0  0  0  0  0  0  0  0  0  0 -1\n",
      "  0  0  0  0  0  0  0  0  0  0  0  0  0  3 -1  0  0  0  0  0  2  0  0  0\n",
      "  0  0  0  0  0  0  0  0  0  0  0  1  0  0  0  0  0  0  0  0  0  0  0  0\n",
      "  0  0  0  0  0  0  0  0  0  0  0  0  0  0  0  0  0  0  0  0  0  0  0  0\n",
      "  0  0  0  0  0  0  0  0  0  0  0  0  0  0  0  0  0  0  0  0  0  0  0  0\n",
      "  0  0  0  0  2  2  0  0  0  0  0  0  0  0  0  0  0  0  0  0 -1  3  0  0\n",
      "  0 -1  0  2  0  0  0 -1 -1  0 -1  0  0  0  0  0  0  0  0  0  0  0  1  0\n",
      "  2  2  0  0  0  0  0  0  0  0  0], NumClusters: 4\n",
      "Index: 326, Score: 0.28071252577935807, Labels: [ 0  0  0  0  0  0  0 -1  0  0  0  0  0  0  0  0  0 -1  0  0  0  0  0  0\n",
      "  0  0  0  0 -1  0  0  0  0 -1  0  0  0  0  0  0  0  0  0  0  0  0  0 -1\n",
      "  0  0  0  0  0  0  0  0  0  0  0  0  0 -1 -1  0  0  0  0  0  1  0  0  0\n",
      "  0  0  0  0  0  0  0  0  0  0  0 -1  0  0  0  0  0  0  0  0  0  0  0  0\n",
      "  0  0  0  0  0  0  0  0  0  0  0  0  0  0  0  0  0  0  0  0  0  0  0  0\n",
      "  0  0  0  0  0  0  0  0  0  0  0  0  0  0  0  0  0  0  0  0  0  0  0  0\n",
      "  0  0  0  0  1  1  0  0  0  0  0  0  0  0  0  0  0  0  0  0 -1 -1  0  0\n",
      "  0 -1  0  1  0  0  0 -1 -1  0 -1  0  0  0  0  0  0  0  0  0  0  0 -1  0\n",
      "  1  1  0  0  0  0  0  0  0  0  0], NumClusters: 2\n",
      "Index: 327, Score: 0.28071252577935807, Labels: [ 0  0  0  0  0  0  0 -1  0  0  0  0  0  0  0  0  0 -1  0  0  0  0  0  0\n",
      "  0  0  0  0 -1  0  0  0  0 -1  0  0  0  0  0  0  0  0  0  0  0  0  0 -1\n",
      "  0  0  0  0  0  0  0  0  0  0  0  0  0 -1 -1  0  0  0  0  0  1  0  0  0\n",
      "  0  0  0  0  0  0  0  0  0  0  0 -1  0  0  0  0  0  0  0  0  0  0  0  0\n",
      "  0  0  0  0  0  0  0  0  0  0  0  0  0  0  0  0  0  0  0  0  0  0  0  0\n",
      "  0  0  0  0  0  0  0  0  0  0  0  0  0  0  0  0  0  0  0  0  0  0  0  0\n",
      "  0  0  0  0  1  1  0  0  0  0  0  0  0  0  0  0  0  0  0  0 -1 -1  0  0\n",
      "  0 -1  0  1  0  0  0 -1 -1  0 -1  0  0  0  0  0  0  0  0  0  0  0 -1  0\n",
      "  1  1  0  0  0  0  0  0  0  0  0], NumClusters: 2\n",
      "Index: 328, Score: 0.28071252577935807, Labels: [ 0  0  0  0  0  0  0 -1  0  0  0  0  0  0  0  0  0 -1  0  0  0  0  0  0\n",
      "  0  0  0  0 -1  0  0  0  0 -1  0  0  0  0  0  0  0  0  0  0  0  0  0 -1\n",
      "  0  0  0  0  0  0  0  0  0  0  0  0  0 -1 -1  0  0  0  0  0  1  0  0  0\n",
      "  0  0  0  0  0  0  0  0  0  0  0 -1  0  0  0  0  0  0  0  0  0  0  0  0\n",
      "  0  0  0  0  0  0  0  0  0  0  0  0  0  0  0  0  0  0  0  0  0  0  0  0\n",
      "  0  0  0  0  0  0  0  0  0  0  0  0  0  0  0  0  0  0  0  0  0  0  0  0\n",
      "  0  0  0  0  1  1  0  0  0  0  0  0  0  0  0  0  0  0  0  0 -1 -1  0  0\n",
      "  0 -1  0  1  0  0  0 -1 -1  0 -1  0  0  0  0  0  0  0  0  0  0  0 -1  0\n",
      "  1  1  0  0  0  0  0  0  0  0  0], NumClusters: 2\n",
      "Combination (0.6244827586206897, 7) on iteration 330 of 540 has 1 clusters. Moving on\n",
      "Combination (0.6244827586206897, 8) on iteration 331 of 540 has 1 clusters. Moving on\n",
      "Combination (0.6244827586206897, 9) on iteration 332 of 540 has 1 clusters. Moving on\n",
      "Combination (0.6244827586206897, 10) on iteration 333 of 540 has 1 clusters. Moving on\n",
      "Combination (0.6244827586206897, 11) on iteration 334 of 540 has 1 clusters. Moving on\n",
      "Combination (0.6244827586206897, 12) on iteration 335 of 540 has 1 clusters. Moving on\n",
      "Combination (0.6244827586206897, 13) on iteration 336 of 540 has 1 clusters. Moving on\n",
      "Combination (0.6244827586206897, 14) on iteration 337 of 540 has 1 clusters. Moving on\n",
      "Combination (0.6244827586206897, 15) on iteration 338 of 540 has 1 clusters. Moving on\n",
      "Combination (0.6244827586206897, 16) on iteration 339 of 540 has 1 clusters. Moving on\n",
      "Combination (0.6244827586206897, 17) on iteration 340 of 540 has 1 clusters. Moving on\n",
      "Combination (0.6244827586206897, 18) on iteration 341 of 540 has 1 clusters. Moving on\n",
      "Combination (0.6244827586206897, 19) on iteration 342 of 540 has 1 clusters. Moving on\n",
      "Index: 342, Score: 0.289174337899922, Labels: [ 0  0  0  0  0  0  0  1  0  0  0  0  0  0  0  0  0  2  0  0  0  0  0  0\n",
      "  0  0  0  0  3  0  0  0  0 -1  0  0  0  0  0  0  0  0  0  0  0  0  0  3\n",
      "  0  0  0  0  0  0  0  0  0  0  0  0  0  1 -1  0  0  0  0  0  4  0  0  0\n",
      "  0  0  0  0  0  0  0  0  0  0  0  2  0  0  0  0  0  0  0  0  0  0  0  0\n",
      "  0  0  0  0  0  0  0  0  0  0  0  0  0  0  0  0  0  0  0  0  0  0  0  0\n",
      "  0  0  0  0  0  0  0  0  0  0  0  0  0  0  0  0  0  0  0  0  0  0  0  0\n",
      "  0  0  0  0  4  4  0  0  0  0  0  0  0  0  0  0  0  0  0  0 -1  1  0  0\n",
      "  0 -1  0  4  0  0  0  5  5  0 -1  0  0  0  0  0  0  0  0  0  0  0  2  0\n",
      "  4  4  0  0  0  0  0  0  0  0  0], NumClusters: 6\n",
      "Index: 343, Score: 0.2718301822369723, Labels: [ 0  0  0  0  0  0  0  1  0  0  0  0  0  0  0  0  0  2  0  0  0  0  0  0\n",
      "  0  0  0  0 -1  0  0  0  0 -1  0  0  0  0  0  0  0  0  0  0  0  0  0 -1\n",
      "  0  0  0  0  0  0  0  0  0  0  0  0  0  1 -1  0  0  0  0  0  3  0  0  0\n",
      "  0  0  0  0  0  0  0  0  0  0  0  2  0  0  0  0  0  0  0  0  0  0  0  0\n",
      "  0  0  0  0  0  0  0  0  0  0  0  0  0  0  0  0  0  0  0  0  0  0  0  0\n",
      "  0  0  0  0  0  0  0  0  0  0  0  0  0  0  0  0  0  0  0  0  0  0  0  0\n",
      "  0  0  0  0  3  3  0  0  0  0  0  0  0  0  0  0  0  0  0  0 -1  1  0  0\n",
      "  0 -1  0  3  0  0  0 -1 -1  0 -1  0  0  0  0  0  0  0  0  0  0  0  2  0\n",
      "  3  3  0  0  0  0  0  0  0  0  0], NumClusters: 4\n",
      "Index: 344, Score: 0.28071252577935807, Labels: [ 0  0  0  0  0  0  0 -1  0  0  0  0  0  0  0  0  0 -1  0  0  0  0  0  0\n",
      "  0  0  0  0 -1  0  0  0  0 -1  0  0  0  0  0  0  0  0  0  0  0  0  0 -1\n",
      "  0  0  0  0  0  0  0  0  0  0  0  0  0 -1 -1  0  0  0  0  0  1  0  0  0\n",
      "  0  0  0  0  0  0  0  0  0  0  0 -1  0  0  0  0  0  0  0  0  0  0  0  0\n",
      "  0  0  0  0  0  0  0  0  0  0  0  0  0  0  0  0  0  0  0  0  0  0  0  0\n",
      "  0  0  0  0  0  0  0  0  0  0  0  0  0  0  0  0  0  0  0  0  0  0  0  0\n",
      "  0  0  0  0  1  1  0  0  0  0  0  0  0  0  0  0  0  0  0  0 -1 -1  0  0\n",
      "  0 -1  0  1  0  0  0 -1 -1  0 -1  0  0  0  0  0  0  0  0  0  0  0 -1  0\n",
      "  1  1  0  0  0  0  0  0  0  0  0], NumClusters: 2\n",
      "Index: 345, Score: 0.28071252577935807, Labels: [ 0  0  0  0  0  0  0 -1  0  0  0  0  0  0  0  0  0 -1  0  0  0  0  0  0\n",
      "  0  0  0  0 -1  0  0  0  0 -1  0  0  0  0  0  0  0  0  0  0  0  0  0 -1\n",
      "  0  0  0  0  0  0  0  0  0  0  0  0  0 -1 -1  0  0  0  0  0  1  0  0  0\n",
      "  0  0  0  0  0  0  0  0  0  0  0 -1  0  0  0  0  0  0  0  0  0  0  0  0\n",
      "  0  0  0  0  0  0  0  0  0  0  0  0  0  0  0  0  0  0  0  0  0  0  0  0\n",
      "  0  0  0  0  0  0  0  0  0  0  0  0  0  0  0  0  0  0  0  0  0  0  0  0\n",
      "  0  0  0  0  1  1  0  0  0  0  0  0  0  0  0  0  0  0  0  0 -1 -1  0  0\n",
      "  0 -1  0  1  0  0  0 -1 -1  0 -1  0  0  0  0  0  0  0  0  0  0  0 -1  0\n",
      "  1  1  0  0  0  0  0  0  0  0  0], NumClusters: 2\n",
      "Index: 346, Score: 0.28071252577935807, Labels: [ 0  0  0  0  0  0  0 -1  0  0  0  0  0  0  0  0  0 -1  0  0  0  0  0  0\n",
      "  0  0  0  0 -1  0  0  0  0 -1  0  0  0  0  0  0  0  0  0  0  0  0  0 -1\n",
      "  0  0  0  0  0  0  0  0  0  0  0  0  0 -1 -1  0  0  0  0  0  1  0  0  0\n",
      "  0  0  0  0  0  0  0  0  0  0  0 -1  0  0  0  0  0  0  0  0  0  0  0  0\n",
      "  0  0  0  0  0  0  0  0  0  0  0  0  0  0  0  0  0  0  0  0  0  0  0  0\n",
      "  0  0  0  0  0  0  0  0  0  0  0  0  0  0  0  0  0  0  0  0  0  0  0  0\n",
      "  0  0  0  0  1  1  0  0  0  0  0  0  0  0  0  0  0  0  0  0 -1 -1  0  0\n",
      "  0 -1  0  1  0  0  0 -1 -1  0 -1  0  0  0  0  0  0  0  0  0  0  0 -1  0\n",
      "  1  1  0  0  0  0  0  0  0  0  0], NumClusters: 2\n",
      "Combination (0.6586206896551725, 7) on iteration 348 of 540 has 1 clusters. Moving on\n",
      "Combination (0.6586206896551725, 8) on iteration 349 of 540 has 1 clusters. Moving on\n",
      "Combination (0.6586206896551725, 9) on iteration 350 of 540 has 1 clusters. Moving on\n",
      "Combination (0.6586206896551725, 10) on iteration 351 of 540 has 1 clusters. Moving on\n",
      "Combination (0.6586206896551725, 11) on iteration 352 of 540 has 1 clusters. Moving on\n",
      "Combination (0.6586206896551725, 12) on iteration 353 of 540 has 1 clusters. Moving on\n",
      "Combination (0.6586206896551725, 13) on iteration 354 of 540 has 1 clusters. Moving on\n",
      "Combination (0.6586206896551725, 14) on iteration 355 of 540 has 1 clusters. Moving on\n",
      "Combination (0.6586206896551725, 15) on iteration 356 of 540 has 1 clusters. Moving on\n",
      "Combination (0.6586206896551725, 16) on iteration 357 of 540 has 1 clusters. Moving on\n",
      "Combination (0.6586206896551725, 17) on iteration 358 of 540 has 1 clusters. Moving on\n",
      "Combination (0.6586206896551725, 18) on iteration 359 of 540 has 1 clusters. Moving on\n",
      "Combination (0.6586206896551725, 19) on iteration 360 of 540 has 1 clusters. Moving on\n",
      "Index: 360, Score: 0.289174337899922, Labels: [ 0  0  0  0  0  0  0  1  0  0  0  0  0  0  0  0  0  2  0  0  0  0  0  0\n",
      "  0  0  0  0  3  0  0  0  0 -1  0  0  0  0  0  0  0  0  0  0  0  0  0  3\n",
      "  0  0  0  0  0  0  0  0  0  0  0  0  0  1 -1  0  0  0  0  0  4  0  0  0\n",
      "  0  0  0  0  0  0  0  0  0  0  0  2  0  0  0  0  0  0  0  0  0  0  0  0\n",
      "  0  0  0  0  0  0  0  0  0  0  0  0  0  0  0  0  0  0  0  0  0  0  0  0\n",
      "  0  0  0  0  0  0  0  0  0  0  0  0  0  0  0  0  0  0  0  0  0  0  0  0\n",
      "  0  0  0  0  4  4  0  0  0  0  0  0  0  0  0  0  0  0  0  0 -1  1  0  0\n",
      "  0 -1  0  4  0  0  0  5  5  0 -1  0  0  0  0  0  0  0  0  0  0  0  2  0\n",
      "  4  4  0  0  0  0  0  0  0  0  0], NumClusters: 6\n",
      "Index: 361, Score: 0.2718301822369723, Labels: [ 0  0  0  0  0  0  0  1  0  0  0  0  0  0  0  0  0  2  0  0  0  0  0  0\n",
      "  0  0  0  0 -1  0  0  0  0 -1  0  0  0  0  0  0  0  0  0  0  0  0  0 -1\n",
      "  0  0  0  0  0  0  0  0  0  0  0  0  0  1 -1  0  0  0  0  0  3  0  0  0\n",
      "  0  0  0  0  0  0  0  0  0  0  0  2  0  0  0  0  0  0  0  0  0  0  0  0\n",
      "  0  0  0  0  0  0  0  0  0  0  0  0  0  0  0  0  0  0  0  0  0  0  0  0\n",
      "  0  0  0  0  0  0  0  0  0  0  0  0  0  0  0  0  0  0  0  0  0  0  0  0\n",
      "  0  0  0  0  3  3  0  0  0  0  0  0  0  0  0  0  0  0  0  0 -1  1  0  0\n",
      "  0 -1  0  3  0  0  0 -1 -1  0 -1  0  0  0  0  0  0  0  0  0  0  0  2  0\n",
      "  3  3  0  0  0  0  0  0  0  0  0], NumClusters: 4\n",
      "Index: 362, Score: 0.28071252577935807, Labels: [ 0  0  0  0  0  0  0 -1  0  0  0  0  0  0  0  0  0 -1  0  0  0  0  0  0\n",
      "  0  0  0  0 -1  0  0  0  0 -1  0  0  0  0  0  0  0  0  0  0  0  0  0 -1\n",
      "  0  0  0  0  0  0  0  0  0  0  0  0  0 -1 -1  0  0  0  0  0  1  0  0  0\n",
      "  0  0  0  0  0  0  0  0  0  0  0 -1  0  0  0  0  0  0  0  0  0  0  0  0\n",
      "  0  0  0  0  0  0  0  0  0  0  0  0  0  0  0  0  0  0  0  0  0  0  0  0\n",
      "  0  0  0  0  0  0  0  0  0  0  0  0  0  0  0  0  0  0  0  0  0  0  0  0\n",
      "  0  0  0  0  1  1  0  0  0  0  0  0  0  0  0  0  0  0  0  0 -1 -1  0  0\n",
      "  0 -1  0  1  0  0  0 -1 -1  0 -1  0  0  0  0  0  0  0  0  0  0  0 -1  0\n",
      "  1  1  0  0  0  0  0  0  0  0  0], NumClusters: 2\n",
      "Index: 363, Score: 0.28071252577935807, Labels: [ 0  0  0  0  0  0  0 -1  0  0  0  0  0  0  0  0  0 -1  0  0  0  0  0  0\n",
      "  0  0  0  0 -1  0  0  0  0 -1  0  0  0  0  0  0  0  0  0  0  0  0  0 -1\n",
      "  0  0  0  0  0  0  0  0  0  0  0  0  0 -1 -1  0  0  0  0  0  1  0  0  0\n",
      "  0  0  0  0  0  0  0  0  0  0  0 -1  0  0  0  0  0  0  0  0  0  0  0  0\n",
      "  0  0  0  0  0  0  0  0  0  0  0  0  0  0  0  0  0  0  0  0  0  0  0  0\n",
      "  0  0  0  0  0  0  0  0  0  0  0  0  0  0  0  0  0  0  0  0  0  0  0  0\n",
      "  0  0  0  0  1  1  0  0  0  0  0  0  0  0  0  0  0  0  0  0 -1 -1  0  0\n",
      "  0 -1  0  1  0  0  0 -1 -1  0 -1  0  0  0  0  0  0  0  0  0  0  0 -1  0\n",
      "  1  1  0  0  0  0  0  0  0  0  0], NumClusters: 2\n",
      "Index: 364, Score: 0.28071252577935807, Labels: [ 0  0  0  0  0  0  0 -1  0  0  0  0  0  0  0  0  0 -1  0  0  0  0  0  0\n",
      "  0  0  0  0 -1  0  0  0  0 -1  0  0  0  0  0  0  0  0  0  0  0  0  0 -1\n",
      "  0  0  0  0  0  0  0  0  0  0  0  0  0 -1 -1  0  0  0  0  0  1  0  0  0\n",
      "  0  0  0  0  0  0  0  0  0  0  0 -1  0  0  0  0  0  0  0  0  0  0  0  0\n",
      "  0  0  0  0  0  0  0  0  0  0  0  0  0  0  0  0  0  0  0  0  0  0  0  0\n",
      "  0  0  0  0  0  0  0  0  0  0  0  0  0  0  0  0  0  0  0  0  0  0  0  0\n",
      "  0  0  0  0  1  1  0  0  0  0  0  0  0  0  0  0  0  0  0  0 -1 -1  0  0\n",
      "  0 -1  0  1  0  0  0 -1 -1  0 -1  0  0  0  0  0  0  0  0  0  0  0 -1  0\n",
      "  1  1  0  0  0  0  0  0  0  0  0], NumClusters: 2\n",
      "Combination (0.6927586206896552, 7) on iteration 366 of 540 has 1 clusters. Moving on\n",
      "Combination (0.6927586206896552, 8) on iteration 367 of 540 has 1 clusters. Moving on\n",
      "Combination (0.6927586206896552, 9) on iteration 368 of 540 has 1 clusters. Moving on\n",
      "Combination (0.6927586206896552, 10) on iteration 369 of 540 has 1 clusters. Moving on\n",
      "Combination (0.6927586206896552, 11) on iteration 370 of 540 has 1 clusters. Moving on\n",
      "Combination (0.6927586206896552, 12) on iteration 371 of 540 has 1 clusters. Moving on\n",
      "Combination (0.6927586206896552, 13) on iteration 372 of 540 has 1 clusters. Moving on\n",
      "Combination (0.6927586206896552, 14) on iteration 373 of 540 has 1 clusters. Moving on\n",
      "Combination (0.6927586206896552, 15) on iteration 374 of 540 has 1 clusters. Moving on\n",
      "Combination (0.6927586206896552, 16) on iteration 375 of 540 has 1 clusters. Moving on\n",
      "Combination (0.6927586206896552, 17) on iteration 376 of 540 has 1 clusters. Moving on\n",
      "Combination (0.6927586206896552, 18) on iteration 377 of 540 has 1 clusters. Moving on\n",
      "Combination (0.6927586206896552, 19) on iteration 378 of 540 has 1 clusters. Moving on\n",
      "Index: 378, Score: 0.2878605989192823, Labels: [ 0  0  0  0  0  0  0  1  0  0  0  0  0  0  0  0  0  2  0  0  0  0  0  0\n",
      "  0  0  0  0  1  0  0  0  0 -1  0  0  0  0  0  0  0  0  0  0  0  0  0  1\n",
      "  0  0  0  0  0  0  0  0  0  0  0  0  0  1 -1  0  0  0  0  0  3  0  0  0\n",
      "  0  0  0  0  0  0  0  0  0  0  0  2  0  0  0  0  0  0  0  0  0  0  0  0\n",
      "  0  0  0  0  0  0  0  0  0  0  0  0  0  0  0  0  0  0  0  0  0  0  0  0\n",
      "  0  0  0  0  0  0  0  0  0  0  0  0  0  0  0  0  0  0  0  0  0  0  0  0\n",
      "  0  0  0  0  3  3  0  0  0  0  0  0  0  0  0  0  0  0  0  0 -1  1  0  0\n",
      "  0 -1  0  3  0  0  0  4  4  0 -1  0  0  0  0  0  0  0  0  0  0  0  2  0\n",
      "  3  3  0  0  0  0  0  0  0  0  0], NumClusters: 5\n",
      "Index: 379, Score: 0.2793764990904129, Labels: [ 0  0  0  0  0  0  0  1  0  0  0  0  0  0  0  0  0  2  0  0  0  0  0  0\n",
      "  0  0  0  0  1  0  0  0  0 -1  0  0  0  0  0  0  0  0  0  0  0  0  0  1\n",
      "  0  0  0  0  0  0  0  0  0  0  0  0  0  1 -1  0  0  0  0  0  3  0  0  0\n",
      "  0  0  0  0  0  0  0  0  0  0  0  2  0  0  0  0  0  0  0  0  0  0  0  0\n",
      "  0  0  0  0  0  0  0  0  0  0  0  0  0  0  0  0  0  0  0  0  0  0  0  0\n",
      "  0  0  0  0  0  0  0  0  0  0  0  0  0  0  0  0  0  0  0  0  0  0  0  0\n",
      "  0  0  0  0  3  3  0  0  0  0  0  0  0  0  0  0  0  0  0  0 -1  1  0  0\n",
      "  0 -1  0  3  0  0  0 -1 -1  0 -1  0  0  0  0  0  0  0  0  0  0  0  2  0\n",
      "  3  3  0  0  0  0  0  0  0  0  0], NumClusters: 4\n",
      "Index: 380, Score: 0.2673747358314453, Labels: [ 0  0  0  0  0  0  0  1  0  0  0  0  0  0  0  0  0 -1  0  0  0  0  0  0\n",
      "  0  0  0  0  1  0  0  0  0 -1  0  0  0  0  0  0  0  0  0  0  0  0  0 -1\n",
      "  0  0  0  0  0  0  0  0  0  0  0  0  0  1 -1  0  0  0  0  0  2  0  0  0\n",
      "  0  0  0  0  0  0  0  0  0  0  0 -1  0  0  0  0  0  0  0  0  0  0  0  0\n",
      "  0  0  0  0  0  0  0  0  0  0  0  0  0  0  0  0  0  0  0  0  0  0  0  0\n",
      "  0  0  0  0  0  0  0  0  0  0  0  0  0  0  0  0  0  0  0  0  0  0  0  0\n",
      "  0  0  0  0  2  2  0  0  0  0  0  0  0  0  0  0  0  0  0  0 -1  1  0  0\n",
      "  0 -1  0  2  0  0  0 -1 -1  0 -1  0  0  0  0  0  0  0  0  0  0  0 -1  0\n",
      "  2  2  0  0  0  0  0  0  0  0  0], NumClusters: 3\n",
      "Index: 381, Score: 0.28071252577935807, Labels: [ 0  0  0  0  0  0  0 -1  0  0  0  0  0  0  0  0  0 -1  0  0  0  0  0  0\n",
      "  0  0  0  0 -1  0  0  0  0 -1  0  0  0  0  0  0  0  0  0  0  0  0  0 -1\n",
      "  0  0  0  0  0  0  0  0  0  0  0  0  0 -1 -1  0  0  0  0  0  1  0  0  0\n",
      "  0  0  0  0  0  0  0  0  0  0  0 -1  0  0  0  0  0  0  0  0  0  0  0  0\n",
      "  0  0  0  0  0  0  0  0  0  0  0  0  0  0  0  0  0  0  0  0  0  0  0  0\n",
      "  0  0  0  0  0  0  0  0  0  0  0  0  0  0  0  0  0  0  0  0  0  0  0  0\n",
      "  0  0  0  0  1  1  0  0  0  0  0  0  0  0  0  0  0  0  0  0 -1 -1  0  0\n",
      "  0 -1  0  1  0  0  0 -1 -1  0 -1  0  0  0  0  0  0  0  0  0  0  0 -1  0\n",
      "  1  1  0  0  0  0  0  0  0  0  0], NumClusters: 2\n",
      "Index: 382, Score: 0.28071252577935807, Labels: [ 0  0  0  0  0  0  0 -1  0  0  0  0  0  0  0  0  0 -1  0  0  0  0  0  0\n",
      "  0  0  0  0 -1  0  0  0  0 -1  0  0  0  0  0  0  0  0  0  0  0  0  0 -1\n",
      "  0  0  0  0  0  0  0  0  0  0  0  0  0 -1 -1  0  0  0  0  0  1  0  0  0\n",
      "  0  0  0  0  0  0  0  0  0  0  0 -1  0  0  0  0  0  0  0  0  0  0  0  0\n",
      "  0  0  0  0  0  0  0  0  0  0  0  0  0  0  0  0  0  0  0  0  0  0  0  0\n",
      "  0  0  0  0  0  0  0  0  0  0  0  0  0  0  0  0  0  0  0  0  0  0  0  0\n",
      "  0  0  0  0  1  1  0  0  0  0  0  0  0  0  0  0  0  0  0  0 -1 -1  0  0\n",
      "  0 -1  0  1  0  0  0 -1 -1  0 -1  0  0  0  0  0  0  0  0  0  0  0 -1  0\n",
      "  1  1  0  0  0  0  0  0  0  0  0], NumClusters: 2\n",
      "Combination (0.7268965517241379, 7) on iteration 384 of 540 has 1 clusters. Moving on\n",
      "Combination (0.7268965517241379, 8) on iteration 385 of 540 has 1 clusters. Moving on\n",
      "Combination (0.7268965517241379, 9) on iteration 386 of 540 has 1 clusters. Moving on\n",
      "Combination (0.7268965517241379, 10) on iteration 387 of 540 has 1 clusters. Moving on\n",
      "Combination (0.7268965517241379, 11) on iteration 388 of 540 has 1 clusters. Moving on\n",
      "Combination (0.7268965517241379, 12) on iteration 389 of 540 has 1 clusters. Moving on\n",
      "Combination (0.7268965517241379, 13) on iteration 390 of 540 has 1 clusters. Moving on\n",
      "Combination (0.7268965517241379, 14) on iteration 391 of 540 has 1 clusters. Moving on\n",
      "Combination (0.7268965517241379, 15) on iteration 392 of 540 has 1 clusters. Moving on\n",
      "Combination (0.7268965517241379, 16) on iteration 393 of 540 has 1 clusters. Moving on\n",
      "Combination (0.7268965517241379, 17) on iteration 394 of 540 has 1 clusters. Moving on\n",
      "Combination (0.7268965517241379, 18) on iteration 395 of 540 has 1 clusters. Moving on\n",
      "Combination (0.7268965517241379, 19) on iteration 396 of 540 has 1 clusters. Moving on\n",
      "Index: 396, Score: 0.2813417430413959, Labels: [ 0  0  0  0  0  0  0  1  0  0  0  0  0  0  0  0  0  2  0  0  0  0  0  0\n",
      "  0  0  0  0  1  0  0  0  0 -1  0  0  0  0  0  0  0  0  0  0  0  0  0  1\n",
      "  0  0  0  0  0  0  0  0  0  0  0  0  0  1 -1  0  0  0  0  0  3  0  0  0\n",
      "  0  0  0  0  0  0  0  0  0  0  0  2  0  0  0  0  0  0  0  0  0  0  0  0\n",
      "  0  0  0  0  0  0  0  0  0  0  0  0  0  0  0  0  0  0  0  0  0  0  0  0\n",
      "  0  0  0  0  0  0  0  0  0  0  0  0  0  0  0  0  0  0  0  0  0  0  0  0\n",
      "  0  0  0  0  3  3  0  0  0  0  0  0  0  0  0  0  0  0  0  0 -1  1  0  0\n",
      "  0  1  0  3  0  0  0  4  4  0  3  0  0  0  0  0  0  0  0  0  0  0  2  0\n",
      "  3  3  0  0  0  0  0  0  0  0  0], NumClusters: 5\n",
      "Index: 397, Score: 0.2756816771108154, Labels: [ 0  0  0  0  0  0  0  1  0  0  0  0  0  0  0  0  0  2  0  0  0  0  0  0\n",
      "  0  0  0  0  1  0  0  0  0 -1  0  0  0  0  0  0  0  0  0  0  0  0  0  1\n",
      "  0  0  0  0  0  0  0  0  0  0  0  0  0  1 -1  0  0  0  0  0  3  0  0  0\n",
      "  0  0  0  0  0  0  0  0  0  0  0  2  0  0  0  0  0  0  0  0  0  0  0  0\n",
      "  0  0  0  0  0  0  0  0  0  0  0  0  0  0  0  0  0  0  0  0  0  0  0  0\n",
      "  0  0  0  0  0  0  0  0  0  0  0  0  0  0  0  0  0  0  0  0  0  0  0  0\n",
      "  0  0  0  0  3  3  0  0  0  0  0  0  0  0  0  0  0  0  0  0 -1  1  0  0\n",
      "  0  1  0  3  0  0  0 -1 -1  0  3  0  0  0  0  0  0  0  0  0  0  0  2  0\n",
      "  3  3  0  0  0  0  0  0  0  0  0], NumClusters: 4\n",
      "Index: 398, Score: 0.2675976332463119, Labels: [ 0  0  0  0  0  0  0  1  0  0  0  0  0  0  0  0  0 -1  0  0  0  0  0  0\n",
      "  0  0  0  0  1  0  0  0  0 -1  0  0  0  0  0  0  0  0  0  0  0  0  0  1\n",
      "  0  0  0  0  0  0  0  0  0  0  0  0  0  1 -1  0  0  0  0  0  2  0  0  0\n",
      "  0  0  0  0  0  0  0  0  0  0  0 -1  0  0  0  0  0  0  0  0  0  0  0  0\n",
      "  0  0  0  0  0  0  0  0  0  0  0  0  0  0  0  0  0  0  0  0  0  0  0  0\n",
      "  0  0  0  0  0  0  0  0  0  0  0  0  0  0  0  0  0  0  0  0  0  0  0  0\n",
      "  0  0  0  0  2  2  0  0  0  0  0  0  0  0  0  0  0  0  0  0 -1  1  0  0\n",
      "  0 -1  0  2  0  0  0 -1 -1  0  2  0  0  0  0  0  0  0  0  0  0  0 -1  0\n",
      "  2  2  0  0  0  0  0  0  0  0  0], NumClusters: 3\n",
      "Index: 399, Score: 0.27796738809461213, Labels: [ 0  0  0  0  0  0  0 -1  0  0  0  0  0  0  0  0  0 -1  0  0  0  0  0  0\n",
      "  0  0  0  0 -1  0  0  0  0 -1  0  0  0  0  0  0  0  0  0  0  0  0  0 -1\n",
      "  0  0  0  0  0  0  0  0  0  0  0  0  0 -1 -1  0  0  0  0  0  1  0  0  0\n",
      "  0  0  0  0  0  0  0  0  0  0  0 -1  0  0  0  0  0  0  0  0  0  0  0  0\n",
      "  0  0  0  0  0  0  0  0  0  0  0  0  0  0  0  0  0  0  0  0  0  0  0  0\n",
      "  0  0  0  0  0  0  0  0  0  0  0  0  0  0  0  0  0  0  0  0  0  0  0  0\n",
      "  0  0  0  0  1  1  0  0  0  0  0  0  0  0  0  0  0  0  0  0 -1 -1  0  0\n",
      "  0 -1  0  1  0  0  0 -1 -1  0  1  0  0  0  0  0  0  0  0  0  0  0 -1  0\n",
      "  1  1  0  0  0  0  0  0  0  0  0], NumClusters: 2\n",
      "Index: 400, Score: 0.28071252577935807, Labels: [ 0  0  0  0  0  0  0 -1  0  0  0  0  0  0  0  0  0 -1  0  0  0  0  0  0\n",
      "  0  0  0  0 -1  0  0  0  0 -1  0  0  0  0  0  0  0  0  0  0  0  0  0 -1\n",
      "  0  0  0  0  0  0  0  0  0  0  0  0  0 -1 -1  0  0  0  0  0  1  0  0  0\n",
      "  0  0  0  0  0  0  0  0  0  0  0 -1  0  0  0  0  0  0  0  0  0  0  0  0\n",
      "  0  0  0  0  0  0  0  0  0  0  0  0  0  0  0  0  0  0  0  0  0  0  0  0\n",
      "  0  0  0  0  0  0  0  0  0  0  0  0  0  0  0  0  0  0  0  0  0  0  0  0\n",
      "  0  0  0  0  1  1  0  0  0  0  0  0  0  0  0  0  0  0  0  0 -1 -1  0  0\n",
      "  0 -1  0  1  0  0  0 -1 -1  0 -1  0  0  0  0  0  0  0  0  0  0  0 -1  0\n",
      "  1  1  0  0  0  0  0  0  0  0  0], NumClusters: 2\n",
      "Combination (0.7610344827586207, 7) on iteration 402 of 540 has 1 clusters. Moving on\n",
      "Combination (0.7610344827586207, 8) on iteration 403 of 540 has 1 clusters. Moving on\n",
      "Combination (0.7610344827586207, 9) on iteration 404 of 540 has 1 clusters. Moving on\n",
      "Combination (0.7610344827586207, 10) on iteration 405 of 540 has 1 clusters. Moving on\n",
      "Combination (0.7610344827586207, 11) on iteration 406 of 540 has 1 clusters. Moving on\n",
      "Combination (0.7610344827586207, 12) on iteration 407 of 540 has 1 clusters. Moving on\n",
      "Combination (0.7610344827586207, 13) on iteration 408 of 540 has 1 clusters. Moving on\n",
      "Combination (0.7610344827586207, 14) on iteration 409 of 540 has 1 clusters. Moving on\n",
      "Combination (0.7610344827586207, 15) on iteration 410 of 540 has 1 clusters. Moving on\n",
      "Combination (0.7610344827586207, 16) on iteration 411 of 540 has 1 clusters. Moving on\n",
      "Combination (0.7610344827586207, 17) on iteration 412 of 540 has 1 clusters. Moving on\n",
      "Combination (0.7610344827586207, 18) on iteration 413 of 540 has 1 clusters. Moving on\n",
      "Combination (0.7610344827586207, 19) on iteration 414 of 540 has 1 clusters. Moving on\n",
      "Index: 414, Score: 0.4820070148322169, Labels: [ 0  0  0  0  0  0  0  1  0  0  0  0  0  0  0  0  0  2  0  0  0  0  0  0\n",
      "  0  0  0  0  1  0  0  0  0 -1  0  0  0  0  0  0  0  0  0  0  0  0  0  1\n",
      "  0  0  0  0  0  0  0  0  0  0  0  0  0  1 -1  0  0  0  0  0  0  0  0  0\n",
      "  0  0  0  0  0  0  0  0  0  0  0  2  0  0  0  0  0  0  0  0  0  0  0  0\n",
      "  0  0  0  0  0  0  0  0  0  0  0  0  0  0  0  0  0  0  0  0  0  0  0  0\n",
      "  0  0  0  0  0  0  0  0  0  0  0  0  0  0  0  0  0  0  0  0  0  0  0  0\n",
      "  0  0  0  0  0  0  0  0  0  0  0  0  0  0  0  0  0  0  0  0 -1  1  0  0\n",
      "  0  1  0  0  0  0  0  3  3  0  0  0  0  0  0  0  0  0  0  0  0  0  2  0\n",
      "  0  0  0  0  0  0  0  0  0  0  0], NumClusters: 4\n",
      "Index: 415, Score: 0.48616188531995586, Labels: [ 0  0  0  0  0  0  0  1  0  0  0  0  0  0  0  0  0  2  0  0  0  0  0  0\n",
      "  0  0  0  0  1  0  0  0  0 -1  0  0  0  0  0  0  0  0  0  0  0  0  0  1\n",
      "  0  0  0  0  0  0  0  0  0  0  0  0  0  1 -1  0  0  0  0  0  0  0  0  0\n",
      "  0  0  0  0  0  0  0  0  0  0  0  2  0  0  0  0  0  0  0  0  0  0  0  0\n",
      "  0  0  0  0  0  0  0  0  0  0  0  0  0  0  0  0  0  0  0  0  0  0  0  0\n",
      "  0  0  0  0  0  0  0  0  0  0  0  0  0  0  0  0  0  0  0  0  0  0  0  0\n",
      "  0  0  0  0  0  0  0  0  0  0  0  0  0  0  0  0  0  0  0  0 -1  1  0  0\n",
      "  0  1  0  0  0  0  0 -1 -1  0  0  0  0  0  0  0  0  0  0  0  0  0  2  0\n",
      "  0  0  0  0  0  0  0  0  0  0  0], NumClusters: 3\n",
      "Index: 416, Score: 0.48675600979045097, Labels: [ 0  0  0  0  0  0  0  1  0  0  0  0  0  0  0  0  0 -1  0  0  0  0  0  0\n",
      "  0  0  0  0  1  0  0  0  0 -1  0  0  0  0  0  0  0  0  0  0  0  0  0  1\n",
      "  0  0  0  0  0  0  0  0  0  0  0  0  0  1 -1  0  0  0  0  0  0  0  0  0\n",
      "  0  0  0  0  0  0  0  0  0  0  0 -1  0  0  0  0  0  0  0  0  0  0  0  0\n",
      "  0  0  0  0  0  0  0  0  0  0  0  0  0  0  0  0  0  0  0  0  0  0  0  0\n",
      "  0  0  0  0  0  0  0  0  0  0  0  0  0  0  0  0  0  0  0  0  0  0  0  0\n",
      "  0  0  0  0  0  0  0  0  0  0  0  0  0  0  0  0  0  0  0  0 -1  1  0  0\n",
      "  0 -1  0  0  0  0  0 -1 -1  0  0  0  0  0  0  0  0  0  0  0  0  0 -1  0\n",
      "  0  0  0  0  0  0  0  0  0  0  0], NumClusters: 2\n",
      "Index: 417, Score: 0.28348771383136195, Labels: [ 0  0  0  0  0  0  0 -1  0  0  0  0  0  0  0  0  0 -1  0  0  0  0  0  0\n",
      "  0  0  0  0 -1  0  0  0  0 -1  0  0  0  0  0  0  0  0  0  0  0  0  0 -1\n",
      "  0  0  0  0  0  0  0  0  0  0  0  0  0 -1 -1  0  0  0  0  0  1  0  0  0\n",
      "  0  0  0  0  0  0  0  0  0  0  0 -1  0  0  0  0  0  0  0  0  0  0  0  0\n",
      "  0  0  0  0  0  0  0  0  0  0  0  0  0  0  0  0  0  0  0  0  0  0  0  0\n",
      "  0  0  0  0  0  0  0  0  0  0  0  0  0  0  0  0  0  0  0  0  0  0  0  0\n",
      "  0  0  0  0  1  1  0  0  0  0  0  0  0  0  0  0  0  0  0  0 -1 -1  0  0\n",
      "  0 -1  0  1  0  0  0 -1 -1  0  0  0  0  0  0  0  0  0  0  0  0  0 -1  0\n",
      "  1  1  0  0  0  0  0  0  0  0  0], NumClusters: 2\n",
      "Index: 418, Score: 0.28348771383136195, Labels: [ 0  0  0  0  0  0  0 -1  0  0  0  0  0  0  0  0  0 -1  0  0  0  0  0  0\n",
      "  0  0  0  0 -1  0  0  0  0 -1  0  0  0  0  0  0  0  0  0  0  0  0  0 -1\n",
      "  0  0  0  0  0  0  0  0  0  0  0  0  0 -1 -1  0  0  0  0  0  1  0  0  0\n",
      "  0  0  0  0  0  0  0  0  0  0  0 -1  0  0  0  0  0  0  0  0  0  0  0  0\n",
      "  0  0  0  0  0  0  0  0  0  0  0  0  0  0  0  0  0  0  0  0  0  0  0  0\n",
      "  0  0  0  0  0  0  0  0  0  0  0  0  0  0  0  0  0  0  0  0  0  0  0  0\n",
      "  0  0  0  0  1  1  0  0  0  0  0  0  0  0  0  0  0  0  0  0 -1 -1  0  0\n",
      "  0 -1  0  1  0  0  0 -1 -1  0  0  0  0  0  0  0  0  0  0  0  0  0 -1  0\n",
      "  1  1  0  0  0  0  0  0  0  0  0], NumClusters: 2\n",
      "Combination (0.7951724137931035, 7) on iteration 420 of 540 has 1 clusters. Moving on\n",
      "Combination (0.7951724137931035, 8) on iteration 421 of 540 has 1 clusters. Moving on\n",
      "Combination (0.7951724137931035, 9) on iteration 422 of 540 has 1 clusters. Moving on\n",
      "Combination (0.7951724137931035, 10) on iteration 423 of 540 has 1 clusters. Moving on\n",
      "Combination (0.7951724137931035, 11) on iteration 424 of 540 has 1 clusters. Moving on\n",
      "Combination (0.7951724137931035, 12) on iteration 425 of 540 has 1 clusters. Moving on\n",
      "Combination (0.7951724137931035, 13) on iteration 426 of 540 has 1 clusters. Moving on\n",
      "Combination (0.7951724137931035, 14) on iteration 427 of 540 has 1 clusters. Moving on\n",
      "Combination (0.7951724137931035, 15) on iteration 428 of 540 has 1 clusters. Moving on\n",
      "Combination (0.7951724137931035, 16) on iteration 429 of 540 has 1 clusters. Moving on\n",
      "Combination (0.7951724137931035, 17) on iteration 430 of 540 has 1 clusters. Moving on\n",
      "Combination (0.7951724137931035, 18) on iteration 431 of 540 has 1 clusters. Moving on\n",
      "Combination (0.7951724137931035, 19) on iteration 432 of 540 has 1 clusters. Moving on\n",
      "Index: 432, Score: 0.4820070148322169, Labels: [ 0  0  0  0  0  0  0  1  0  0  0  0  0  0  0  0  0  2  0  0  0  0  0  0\n",
      "  0  0  0  0  1  0  0  0  0 -1  0  0  0  0  0  0  0  0  0  0  0  0  0  1\n",
      "  0  0  0  0  0  0  0  0  0  0  0  0  0  1 -1  0  0  0  0  0  0  0  0  0\n",
      "  0  0  0  0  0  0  0  0  0  0  0  2  0  0  0  0  0  0  0  0  0  0  0  0\n",
      "  0  0  0  0  0  0  0  0  0  0  0  0  0  0  0  0  0  0  0  0  0  0  0  0\n",
      "  0  0  0  0  0  0  0  0  0  0  0  0  0  0  0  0  0  0  0  0  0  0  0  0\n",
      "  0  0  0  0  0  0  0  0  0  0  0  0  0  0  0  0  0  0  0  0 -1  1  0  0\n",
      "  0  1  0  0  0  0  0  3  3  0  0  0  0  0  0  0  0  0  0  0  0  0  2  0\n",
      "  0  0  0  0  0  0  0  0  0  0  0], NumClusters: 4\n",
      "Index: 433, Score: 0.48616188531995586, Labels: [ 0  0  0  0  0  0  0  1  0  0  0  0  0  0  0  0  0  2  0  0  0  0  0  0\n",
      "  0  0  0  0  1  0  0  0  0 -1  0  0  0  0  0  0  0  0  0  0  0  0  0  1\n",
      "  0  0  0  0  0  0  0  0  0  0  0  0  0  1 -1  0  0  0  0  0  0  0  0  0\n",
      "  0  0  0  0  0  0  0  0  0  0  0  2  0  0  0  0  0  0  0  0  0  0  0  0\n",
      "  0  0  0  0  0  0  0  0  0  0  0  0  0  0  0  0  0  0  0  0  0  0  0  0\n",
      "  0  0  0  0  0  0  0  0  0  0  0  0  0  0  0  0  0  0  0  0  0  0  0  0\n",
      "  0  0  0  0  0  0  0  0  0  0  0  0  0  0  0  0  0  0  0  0 -1  1  0  0\n",
      "  0  1  0  0  0  0  0 -1 -1  0  0  0  0  0  0  0  0  0  0  0  0  0  2  0\n",
      "  0  0  0  0  0  0  0  0  0  0  0], NumClusters: 3\n",
      "Index: 434, Score: 0.48675600979045097, Labels: [ 0  0  0  0  0  0  0  1  0  0  0  0  0  0  0  0  0 -1  0  0  0  0  0  0\n",
      "  0  0  0  0  1  0  0  0  0 -1  0  0  0  0  0  0  0  0  0  0  0  0  0  1\n",
      "  0  0  0  0  0  0  0  0  0  0  0  0  0  1 -1  0  0  0  0  0  0  0  0  0\n",
      "  0  0  0  0  0  0  0  0  0  0  0 -1  0  0  0  0  0  0  0  0  0  0  0  0\n",
      "  0  0  0  0  0  0  0  0  0  0  0  0  0  0  0  0  0  0  0  0  0  0  0  0\n",
      "  0  0  0  0  0  0  0  0  0  0  0  0  0  0  0  0  0  0  0  0  0  0  0  0\n",
      "  0  0  0  0  0  0  0  0  0  0  0  0  0  0  0  0  0  0  0  0 -1  1  0  0\n",
      "  0 -1  0  0  0  0  0 -1 -1  0  0  0  0  0  0  0  0  0  0  0  0  0 -1  0\n",
      "  0  0  0  0  0  0  0  0  0  0  0], NumClusters: 2\n",
      "Combination (0.8293103448275863, 5) on iteration 436 of 540 has 1 clusters. Moving on\n",
      "Combination (0.8293103448275863, 6) on iteration 437 of 540 has 1 clusters. Moving on\n",
      "Combination (0.8293103448275863, 7) on iteration 438 of 540 has 1 clusters. Moving on\n",
      "Combination (0.8293103448275863, 8) on iteration 439 of 540 has 1 clusters. Moving on\n",
      "Combination (0.8293103448275863, 9) on iteration 440 of 540 has 1 clusters. Moving on\n",
      "Combination (0.8293103448275863, 10) on iteration 441 of 540 has 1 clusters. Moving on\n",
      "Combination (0.8293103448275863, 11) on iteration 442 of 540 has 1 clusters. Moving on\n",
      "Combination (0.8293103448275863, 12) on iteration 443 of 540 has 1 clusters. Moving on\n",
      "Combination (0.8293103448275863, 13) on iteration 444 of 540 has 1 clusters. Moving on\n",
      "Combination (0.8293103448275863, 14) on iteration 445 of 540 has 1 clusters. Moving on\n",
      "Combination (0.8293103448275863, 15) on iteration 446 of 540 has 1 clusters. Moving on\n",
      "Combination (0.8293103448275863, 16) on iteration 447 of 540 has 1 clusters. Moving on\n",
      "Combination (0.8293103448275863, 17) on iteration 448 of 540 has 1 clusters. Moving on\n",
      "Combination (0.8293103448275863, 18) on iteration 449 of 540 has 1 clusters. Moving on\n",
      "Combination (0.8293103448275863, 19) on iteration 450 of 540 has 1 clusters. Moving on\n",
      "Index: 450, Score: 0.5308380084280333, Labels: [ 0  0  0  0  0  0  0  0  0  0  0  0  0  0  0  0  0  1  0  0  0  0  0  0\n",
      "  0  0  0  0  0  0  0  0  0 -1  0  0  0  0  0  0  0  0  0  0  0  0  0  0\n",
      "  0  0  0  0  0  0  0  0  0  0  0  0  0  0 -1  0  0  0  0  0  0  0  0  0\n",
      "  0  0  0  0  0  0  0  0  0  0  0  1  0  0  0  0  0  0  0  0  0  0  0  0\n",
      "  0  0  0  0  0  0  0  0  0  0  0  0  0  0  0  0  0  0  0  0  0  0  0  0\n",
      "  0  0  0  0  0  0  0  0  0  0  0  0  0  0  0  0  0  0  0  0  0  0  0  0\n",
      "  0  0  0  0  0  0  0  0  0  0  0  0  0  0  0  0  0  0  0  0 -1  0  0  0\n",
      "  0  0  0  0  0  0  0  2  2  0  0  0  0  0  0  0  0  0  0  0  0  0  1  0\n",
      "  0  0  0  0  0  0  0  0  0  0  0], NumClusters: 3\n",
      "Index: 451, Score: 0.5608928961903751, Labels: [ 0  0  0  0  0  0  0  0  0  0  0  0  0  0  0  0  0  1  0  0  0  0  0  0\n",
      "  0  0  0  0  0  0  0  0  0 -1  0  0  0  0  0  0  0  0  0  0  0  0  0  0\n",
      "  0  0  0  0  0  0  0  0  0  0  0  0  0  0 -1  0  0  0  0  0  0  0  0  0\n",
      "  0  0  0  0  0  0  0  0  0  0  0  1  0  0  0  0  0  0  0  0  0  0  0  0\n",
      "  0  0  0  0  0  0  0  0  0  0  0  0  0  0  0  0  0  0  0  0  0  0  0  0\n",
      "  0  0  0  0  0  0  0  0  0  0  0  0  0  0  0  0  0  0  0  0  0  0  0  0\n",
      "  0  0  0  0  0  0  0  0  0  0  0  0  0  0  0  0  0  0  0  0 -1  0  0  0\n",
      "  0  0  0  0  0  0  0 -1 -1  0  0  0  0  0  0  0  0  0  0  0  0  0  1  0\n",
      "  0  0  0  0  0  0  0  0  0  0  0], NumClusters: 2\n",
      "Index: 452, Score: 0.4865193196348656, Labels: [ 0  0  0  0  0  0  0  1  0  0  0  0  0  0  0  0  0 -1  0  0  0  0  0  0\n",
      "  0  0  0  0  1  0  0  0  0 -1  0  0  0  0  0  0  0  0  0  0  0  0  0  1\n",
      "  0  0  0  0  0  0  0  0  0  0  0  0  0  1 -1  0  0  0  0  0  0  0  0  0\n",
      "  0  0  0  0  0  0  0  0  0  0  0 -1  0  0  0  0  0  0  0  0  0  0  0  0\n",
      "  0  0  0  0  0  0  0  0  0  0  0  0  0  0  0  0  0  0  0  0  0  0  0  0\n",
      "  0  0  0  0  0  0  0  0  0  0  0  0  0  0  0  0  0  0  0  0  0  0  0  0\n",
      "  0  0  0  0  0  0  0  0  0  0  0  0  0  0  0  0  0  0  0  0 -1  1  0  0\n",
      "  0  0  0  0  0  0  0 -1 -1  0  0  0  0  0  0  0  0  0  0  0  0  0 -1  0\n",
      "  0  0  0  0  0  0  0  0  0  0  0], NumClusters: 2\n",
      "Combination (0.863448275862069, 5) on iteration 454 of 540 has 1 clusters. Moving on\n",
      "Combination (0.863448275862069, 6) on iteration 455 of 540 has 1 clusters. Moving on\n",
      "Combination (0.863448275862069, 7) on iteration 456 of 540 has 1 clusters. Moving on\n",
      "Combination (0.863448275862069, 8) on iteration 457 of 540 has 1 clusters. Moving on\n",
      "Combination (0.863448275862069, 9) on iteration 458 of 540 has 1 clusters. Moving on\n",
      "Combination (0.863448275862069, 10) on iteration 459 of 540 has 1 clusters. Moving on\n",
      "Combination (0.863448275862069, 11) on iteration 460 of 540 has 1 clusters. Moving on\n",
      "Combination (0.863448275862069, 12) on iteration 461 of 540 has 1 clusters. Moving on\n",
      "Combination (0.863448275862069, 13) on iteration 462 of 540 has 1 clusters. Moving on\n",
      "Combination (0.863448275862069, 14) on iteration 463 of 540 has 1 clusters. Moving on\n",
      "Combination (0.863448275862069, 15) on iteration 464 of 540 has 1 clusters. Moving on\n",
      "Combination (0.863448275862069, 16) on iteration 465 of 540 has 1 clusters. Moving on\n",
      "Combination (0.863448275862069, 17) on iteration 466 of 540 has 1 clusters. Moving on\n",
      "Combination (0.863448275862069, 18) on iteration 467 of 540 has 1 clusters. Moving on\n",
      "Combination (0.863448275862069, 19) on iteration 468 of 540 has 1 clusters. Moving on\n",
      "Index: 468, Score: 0.5372965604316251, Labels: [ 0  0  0  0  0  0  0  0  0  0  0  0  0  0  0  0  0  1  0  0  0  0  0  0\n",
      "  0  0  0  0  0  0  0  0  0 -1  0  0  0  0  0  0  0  0  0  0  0  0  0  0\n",
      "  0  0  0  0  0  0  0  0  0  0  0  0  0  0 -1  0  0  0  0  0  0  0  0  0\n",
      "  0  0  0  0  0  0  0  0  0  0  0  1  0  0  0  0  0  0  0  0  0  0  0  0\n",
      "  0  0  0  0  0  0  0  0  0  0  0  0  0  0  0  0  0  0  0  0  0  0  0  0\n",
      "  0  0  0  0  0  0  0  0  0  0  0  0  0  0  0  0  0  0  0  0  0  0  0  0\n",
      "  0  0  0  0  0  0  0  0  0  0  0  0  0  0  0  0  0  0  0  0  1  0  0  0\n",
      "  0  0  0  0  0  0  0  2  2  0  0  0  0  0  0  0  0  0  0  0  0  0  1  0\n",
      "  0  0  0  0  0  0  0  0  0  0  0], NumClusters: 3\n",
      "Index: 469, Score: 0.5603008384423622, Labels: [ 0  0  0  0  0  0  0  0  0  0  0  0  0  0  0  0  0  1  0  0  0  0  0  0\n",
      "  0  0  0  0  0  0  0  0  0 -1  0  0  0  0  0  0  0  0  0  0  0  0  0  0\n",
      "  0  0  0  0  0  0  0  0  0  0  0  0  0  0 -1  0  0  0  0  0  0  0  0  0\n",
      "  0  0  0  0  0  0  0  0  0  0  0  1  0  0  0  0  0  0  0  0  0  0  0  0\n",
      "  0  0  0  0  0  0  0  0  0  0  0  0  0  0  0  0  0  0  0  0  0  0  0  0\n",
      "  0  0  0  0  0  0  0  0  0  0  0  0  0  0  0  0  0  0  0  0  0  0  0  0\n",
      "  0  0  0  0  0  0  0  0  0  0  0  0  0  0  0  0  0  0  0  0  1  0  0  0\n",
      "  0  0  0  0  0  0  0 -1 -1  0  0  0  0  0  0  0  0  0  0  0  0  0  1  0\n",
      "  0  0  0  0  0  0  0  0  0  0  0], NumClusters: 2\n",
      "Index: 470, Score: 0.5603008384423622, Labels: [ 0  0  0  0  0  0  0  0  0  0  0  0  0  0  0  0  0  1  0  0  0  0  0  0\n",
      "  0  0  0  0  0  0  0  0  0 -1  0  0  0  0  0  0  0  0  0  0  0  0  0  0\n",
      "  0  0  0  0  0  0  0  0  0  0  0  0  0  0 -1  0  0  0  0  0  0  0  0  0\n",
      "  0  0  0  0  0  0  0  0  0  0  0  1  0  0  0  0  0  0  0  0  0  0  0  0\n",
      "  0  0  0  0  0  0  0  0  0  0  0  0  0  0  0  0  0  0  0  0  0  0  0  0\n",
      "  0  0  0  0  0  0  0  0  0  0  0  0  0  0  0  0  0  0  0  0  0  0  0  0\n",
      "  0  0  0  0  0  0  0  0  0  0  0  0  0  0  0  0  0  0  0  0  1  0  0  0\n",
      "  0  0  0  0  0  0  0 -1 -1  0  0  0  0  0  0  0  0  0  0  0  0  0  1  0\n",
      "  0  0  0  0  0  0  0  0  0  0  0], NumClusters: 2\n",
      "Combination (0.8975862068965518, 5) on iteration 472 of 540 has 1 clusters. Moving on\n",
      "Index: 472, Score: 0.4865193196348656, Labels: [ 0  0  0  0  0  0  0  1  0  0  0  0  0  0  0  0  0 -1  0  0  0  0  0  0\n",
      "  0  0  0  0  1  0  0  0  0 -1  0  0  0  0  0  0  0  0  0  0  0  0  0  1\n",
      "  0  0  0  0  0  0  0  0  0  0  0  0  0  1 -1  0  0  0  0  0  0  0  0  0\n",
      "  0  0  0  0  0  0  0  0  0  0  0 -1  0  0  0  0  0  0  0  0  0  0  0  0\n",
      "  0  0  0  0  0  0  0  0  0  0  0  0  0  0  0  0  0  0  0  0  0  0  0  0\n",
      "  0  0  0  0  0  0  0  0  0  0  0  0  0  0  0  0  0  0  0  0  0  0  0  0\n",
      "  0  0  0  0  0  0  0  0  0  0  0  0  0  0  0  0  0  0  0  0 -1  1  0  0\n",
      "  0  0  0  0  0  0  0 -1 -1  0  0  0  0  0  0  0  0  0  0  0  0  0 -1  0\n",
      "  0  0  0  0  0  0  0  0  0  0  0], NumClusters: 2\n",
      "Combination (0.8975862068965518, 7) on iteration 474 of 540 has 1 clusters. Moving on\n",
      "Combination (0.8975862068965518, 8) on iteration 475 of 540 has 1 clusters. Moving on\n",
      "Combination (0.8975862068965518, 9) on iteration 476 of 540 has 1 clusters. Moving on\n",
      "Combination (0.8975862068965518, 10) on iteration 477 of 540 has 1 clusters. Moving on\n",
      "Combination (0.8975862068965518, 11) on iteration 478 of 540 has 1 clusters. Moving on\n",
      "Combination (0.8975862068965518, 12) on iteration 479 of 540 has 1 clusters. Moving on\n",
      "Combination (0.8975862068965518, 13) on iteration 480 of 540 has 1 clusters. Moving on\n",
      "Combination (0.8975862068965518, 14) on iteration 481 of 540 has 1 clusters. Moving on\n",
      "Combination (0.8975862068965518, 15) on iteration 482 of 540 has 1 clusters. Moving on\n",
      "Combination (0.8975862068965518, 16) on iteration 483 of 540 has 1 clusters. Moving on\n",
      "Combination (0.8975862068965518, 17) on iteration 484 of 540 has 1 clusters. Moving on\n",
      "Combination (0.8975862068965518, 18) on iteration 485 of 540 has 1 clusters. Moving on\n",
      "Combination (0.8975862068965518, 19) on iteration 486 of 540 has 1 clusters. Moving on\n",
      "Index: 486, Score: 0.5372965604316251, Labels: [ 0  0  0  0  0  0  0  0  0  0  0  0  0  0  0  0  0  1  0  0  0  0  0  0\n",
      "  0  0  0  0  0  0  0  0  0 -1  0  0  0  0  0  0  0  0  0  0  0  0  0  0\n",
      "  0  0  0  0  0  0  0  0  0  0  0  0  0  0 -1  0  0  0  0  0  0  0  0  0\n",
      "  0  0  0  0  0  0  0  0  0  0  0  1  0  0  0  0  0  0  0  0  0  0  0  0\n",
      "  0  0  0  0  0  0  0  0  0  0  0  0  0  0  0  0  0  0  0  0  0  0  0  0\n",
      "  0  0  0  0  0  0  0  0  0  0  0  0  0  0  0  0  0  0  0  0  0  0  0  0\n",
      "  0  0  0  0  0  0  0  0  0  0  0  0  0  0  0  0  0  0  0  0  1  0  0  0\n",
      "  0  0  0  0  0  0  0  2  2  0  0  0  0  0  0  0  0  0  0  0  0  0  1  0\n",
      "  0  0  0  0  0  0  0  0  0  0  0], NumClusters: 3\n",
      "Index: 487, Score: 0.5603008384423622, Labels: [ 0  0  0  0  0  0  0  0  0  0  0  0  0  0  0  0  0  1  0  0  0  0  0  0\n",
      "  0  0  0  0  0  0  0  0  0 -1  0  0  0  0  0  0  0  0  0  0  0  0  0  0\n",
      "  0  0  0  0  0  0  0  0  0  0  0  0  0  0 -1  0  0  0  0  0  0  0  0  0\n",
      "  0  0  0  0  0  0  0  0  0  0  0  1  0  0  0  0  0  0  0  0  0  0  0  0\n",
      "  0  0  0  0  0  0  0  0  0  0  0  0  0  0  0  0  0  0  0  0  0  0  0  0\n",
      "  0  0  0  0  0  0  0  0  0  0  0  0  0  0  0  0  0  0  0  0  0  0  0  0\n",
      "  0  0  0  0  0  0  0  0  0  0  0  0  0  0  0  0  0  0  0  0  1  0  0  0\n",
      "  0  0  0  0  0  0  0 -1 -1  0  0  0  0  0  0  0  0  0  0  0  0  0  1  0\n",
      "  0  0  0  0  0  0  0  0  0  0  0], NumClusters: 2\n",
      "Index: 488, Score: 0.5603008384423622, Labels: [ 0  0  0  0  0  0  0  0  0  0  0  0  0  0  0  0  0  1  0  0  0  0  0  0\n",
      "  0  0  0  0  0  0  0  0  0 -1  0  0  0  0  0  0  0  0  0  0  0  0  0  0\n",
      "  0  0  0  0  0  0  0  0  0  0  0  0  0  0 -1  0  0  0  0  0  0  0  0  0\n",
      "  0  0  0  0  0  0  0  0  0  0  0  1  0  0  0  0  0  0  0  0  0  0  0  0\n",
      "  0  0  0  0  0  0  0  0  0  0  0  0  0  0  0  0  0  0  0  0  0  0  0  0\n",
      "  0  0  0  0  0  0  0  0  0  0  0  0  0  0  0  0  0  0  0  0  0  0  0  0\n",
      "  0  0  0  0  0  0  0  0  0  0  0  0  0  0  0  0  0  0  0  0  1  0  0  0\n",
      "  0  0  0  0  0  0  0 -1 -1  0  0  0  0  0  0  0  0  0  0  0  0  0  1  0\n",
      "  0  0  0  0  0  0  0  0  0  0  0], NumClusters: 2\n",
      "Combination (0.9317241379310346, 5) on iteration 490 of 540 has 1 clusters. Moving on\n",
      "Combination (0.9317241379310346, 6) on iteration 491 of 540 has 1 clusters. Moving on\n",
      "Combination (0.9317241379310346, 7) on iteration 492 of 540 has 1 clusters. Moving on\n",
      "Combination (0.9317241379310346, 8) on iteration 493 of 540 has 1 clusters. Moving on\n",
      "Combination (0.9317241379310346, 9) on iteration 494 of 540 has 1 clusters. Moving on\n",
      "Combination (0.9317241379310346, 10) on iteration 495 of 540 has 1 clusters. Moving on\n",
      "Combination (0.9317241379310346, 11) on iteration 496 of 540 has 1 clusters. Moving on\n",
      "Combination (0.9317241379310346, 12) on iteration 497 of 540 has 1 clusters. Moving on\n",
      "Combination (0.9317241379310346, 13) on iteration 498 of 540 has 1 clusters. Moving on\n",
      "Combination (0.9317241379310346, 14) on iteration 499 of 540 has 1 clusters. Moving on\n",
      "Combination (0.9317241379310346, 15) on iteration 500 of 540 has 1 clusters. Moving on\n",
      "Combination (0.9317241379310346, 16) on iteration 501 of 540 has 1 clusters. Moving on\n",
      "Combination (0.9317241379310346, 17) on iteration 502 of 540 has 1 clusters. Moving on\n",
      "Combination (0.9317241379310346, 18) on iteration 503 of 540 has 1 clusters. Moving on\n",
      "Combination (0.9317241379310346, 19) on iteration 504 of 540 has 1 clusters. Moving on\n",
      "Index: 504, Score: 0.5651746368388485, Labels: [ 0  0  0  0  0  0  0  0  0  0  0  0  0  0  0  0  0  1  0  0  0  0  0  0\n",
      "  0  0  0  0  0  0  0  0  0 -1  0  0  0  0  0  0  0  0  0  0  0  0  0  0\n",
      "  0  0  0  0  0  0  0  0  0  0  0  0  0  0 -1  0  0  0  0  0  0  0  0  0\n",
      "  0  0  0  0  0  0  0  0  0  0  0  1  0  0  0  0  0  0  0  0  0  0  0  0\n",
      "  0  0  0  0  0  0  0  0  0  0  0  0  0  0  0  0  0  0  0  0  0  0  0  0\n",
      "  0  0  0  0  0  0  0  0  0  0  0  0  0  0  0  0  0  0  0  0  0  0  0  0\n",
      "  0  0  0  0  0  0  0  0  0  0  0  0  0  0  0  0  0  0  0  0  1  0  0  0\n",
      "  0  0  0  0  0  0  0  0  0  0  0  0  0  0  0  0  0  0  0  0  0  0  1  0\n",
      "  0  0  0  0  0  0  0  0  0  0  0], NumClusters: 2\n",
      "Index: 505, Score: 0.5651746368388485, Labels: [ 0  0  0  0  0  0  0  0  0  0  0  0  0  0  0  0  0  1  0  0  0  0  0  0\n",
      "  0  0  0  0  0  0  0  0  0 -1  0  0  0  0  0  0  0  0  0  0  0  0  0  0\n",
      "  0  0  0  0  0  0  0  0  0  0  0  0  0  0 -1  0  0  0  0  0  0  0  0  0\n",
      "  0  0  0  0  0  0  0  0  0  0  0  1  0  0  0  0  0  0  0  0  0  0  0  0\n",
      "  0  0  0  0  0  0  0  0  0  0  0  0  0  0  0  0  0  0  0  0  0  0  0  0\n",
      "  0  0  0  0  0  0  0  0  0  0  0  0  0  0  0  0  0  0  0  0  0  0  0  0\n",
      "  0  0  0  0  0  0  0  0  0  0  0  0  0  0  0  0  0  0  0  0  1  0  0  0\n",
      "  0  0  0  0  0  0  0  0  0  0  0  0  0  0  0  0  0  0  0  0  0  0  1  0\n",
      "  0  0  0  0  0  0  0  0  0  0  0], NumClusters: 2\n",
      "Index: 506, Score: 0.5651746368388485, Labels: [ 0  0  0  0  0  0  0  0  0  0  0  0  0  0  0  0  0  1  0  0  0  0  0  0\n",
      "  0  0  0  0  0  0  0  0  0 -1  0  0  0  0  0  0  0  0  0  0  0  0  0  0\n",
      "  0  0  0  0  0  0  0  0  0  0  0  0  0  0 -1  0  0  0  0  0  0  0  0  0\n",
      "  0  0  0  0  0  0  0  0  0  0  0  1  0  0  0  0  0  0  0  0  0  0  0  0\n",
      "  0  0  0  0  0  0  0  0  0  0  0  0  0  0  0  0  0  0  0  0  0  0  0  0\n",
      "  0  0  0  0  0  0  0  0  0  0  0  0  0  0  0  0  0  0  0  0  0  0  0  0\n",
      "  0  0  0  0  0  0  0  0  0  0  0  0  0  0  0  0  0  0  0  0  1  0  0  0\n",
      "  0  0  0  0  0  0  0  0  0  0  0  0  0  0  0  0  0  0  0  0  0  0  1  0\n",
      "  0  0  0  0  0  0  0  0  0  0  0], NumClusters: 2\n",
      "Combination (0.9658620689655173, 5) on iteration 508 of 540 has 1 clusters. Moving on\n",
      "Combination (0.9658620689655173, 6) on iteration 509 of 540 has 1 clusters. Moving on\n",
      "Combination (0.9658620689655173, 7) on iteration 510 of 540 has 1 clusters. Moving on\n",
      "Combination (0.9658620689655173, 8) on iteration 511 of 540 has 1 clusters. Moving on\n",
      "Combination (0.9658620689655173, 9) on iteration 512 of 540 has 1 clusters. Moving on\n",
      "Combination (0.9658620689655173, 10) on iteration 513 of 540 has 1 clusters. Moving on\n",
      "Combination (0.9658620689655173, 11) on iteration 514 of 540 has 1 clusters. Moving on\n",
      "Combination (0.9658620689655173, 12) on iteration 515 of 540 has 1 clusters. Moving on\n",
      "Combination (0.9658620689655173, 13) on iteration 516 of 540 has 1 clusters. Moving on\n",
      "Combination (0.9658620689655173, 14) on iteration 517 of 540 has 1 clusters. Moving on\n",
      "Combination (0.9658620689655173, 15) on iteration 518 of 540 has 1 clusters. Moving on\n",
      "Combination (0.9658620689655173, 16) on iteration 519 of 540 has 1 clusters. Moving on\n",
      "Combination (0.9658620689655173, 17) on iteration 520 of 540 has 1 clusters. Moving on\n",
      "Combination (0.9658620689655173, 18) on iteration 521 of 540 has 1 clusters. Moving on\n",
      "Combination (0.9658620689655173, 19) on iteration 522 of 540 has 1 clusters. Moving on\n",
      "Combination (1.0, 2) on iteration 523 of 540 has 1 clusters. Moving on\n",
      "Combination (1.0, 3) on iteration 524 of 540 has 1 clusters. Moving on\n",
      "Combination (1.0, 4) on iteration 525 of 540 has 1 clusters. Moving on\n",
      "Combination (1.0, 5) on iteration 526 of 540 has 1 clusters. Moving on\n",
      "Combination (1.0, 6) on iteration 527 of 540 has 1 clusters. Moving on\n",
      "Combination (1.0, 7) on iteration 528 of 540 has 1 clusters. Moving on\n",
      "Combination (1.0, 8) on iteration 529 of 540 has 1 clusters. Moving on\n",
      "Combination (1.0, 9) on iteration 530 of 540 has 1 clusters. Moving on\n",
      "Combination (1.0, 10) on iteration 531 of 540 has 1 clusters. Moving on\n",
      "Combination (1.0, 11) on iteration 532 of 540 has 1 clusters. Moving on\n",
      "Combination (1.0, 12) on iteration 533 of 540 has 1 clusters. Moving on\n",
      "Combination (1.0, 13) on iteration 534 of 540 has 1 clusters. Moving on\n",
      "Combination (1.0, 14) on iteration 535 of 540 has 1 clusters. Moving on\n",
      "Combination (1.0, 15) on iteration 536 of 540 has 1 clusters. Moving on\n",
      "Combination (1.0, 16) on iteration 537 of 540 has 1 clusters. Moving on\n",
      "Combination (1.0, 17) on iteration 538 of 540 has 1 clusters. Moving on\n",
      "Combination (1.0, 18) on iteration 539 of 540 has 1 clusters. Moving on\n",
      "Combination (1.0, 19) on iteration 540 of 540 has 1 clusters. Moving on\n"
     ]
    }
   ],
   "source": [
    "mejor_score = get_scores_and_labels(combinations, X_scaled)"
   ]
  },
  {
   "cell_type": "code",
   "execution_count": 79,
   "metadata": {},
   "outputs": [
    {
     "data": {
      "text/plain": [
       "{'epsilon_optimo': 0.14655172413793105,\n",
       " 'min_samples_optimo': 5,\n",
       " 'etiquetas_optimas': array([ 4,  0,  1,  1,  2,  1, -1, -1,  1,  1,  4,  1,  1,  1,  1,  1,  1,\n",
       "        -1,  0,  1,  1,  0,  3,  3,  1, -1,  1,  1, -1,  1,  4,  3,  2, -1,\n",
       "         1,  0,  1,  3, -1,  4,  1,  3,  1,  0,  2,  1,  1, -1,  0,  2,  1,\n",
       "         3,  1,  2,  1,  2,  3,  1,  1,  0,  2, -1, -1,  2,  3,  3,  1,  4,\n",
       "        -1,  2,  1,  3,  4,  1,  1,  1,  2,  2,  1,  1,  1,  2,  1, -1,  0,\n",
       "        -1,  1,  1,  1,  3,  1,  3,  1, -1,  1,  1,  4,  1,  1,  0,  4,  2,\n",
       "         1,  0,  1,  1,  2,  3,  3,  0,  1,  1,  2,  1,  1,  3, -1, -1,  1,\n",
       "         1,  2,  1,  1,  0,  0,  1,  0, -1,  1,  4,  2,  1, -1,  1,  4,  0,\n",
       "         1, -1,  1,  2,  3,  0,  2,  3,  1,  2,  1,  1, -1, -1,  2,  1,  1,\n",
       "         1,  1,  1,  3,  1,  1,  1,  3,  1,  2,  1, -1, -1,  1,  1, -1, -1,\n",
       "         1, -1,  3,  2,  3, -1, -1,  1, -1,  0,  3,  1,  3,  1,  1,  1,  3,\n",
       "         1,  1,  0, -1,  1, -1, -1,  1,  0,  1,  1,  2,  3,  1,  0,  2],\n",
       "       dtype=int64),\n",
       " 'score_maximo': 0.575809539747156}"
      ]
     },
     "execution_count": 79,
     "metadata": {},
     "output_type": "execute_result"
    }
   ],
   "source": [
    "mejor_score"
   ]
  },
  {
   "cell_type": "markdown",
   "metadata": {},
   "source": [
    "Encontramos los parámetros que generan el modelo con mayor score. "
   ]
  },
  {
   "cell_type": "markdown",
   "metadata": {},
   "source": [
    "## 4. Identificación de clusters"
   ]
  },
  {
   "cell_type": "code",
   "execution_count": 80,
   "metadata": {},
   "outputs": [
    {
     "data": {
      "text/plain": [
       " 1    91\n",
       "-1    32\n",
       " 2    25\n",
       " 3    25\n",
       " 0    20\n",
       " 4    10\n",
       "Name: cluster, dtype: int64"
      ]
     },
     "execution_count": 80,
     "metadata": {},
     "output_type": "execute_result"
    }
   ],
   "source": [
    "df['cluster'] = mejor_score['etiquetas_optimas']\n",
    "df['cluster'].value_counts()"
   ]
  },
  {
   "cell_type": "markdown",
   "metadata": {},
   "source": [
    "## 5. Visualización de clusters"
   ]
  },
  {
   "cell_type": "code",
   "execution_count": 81,
   "metadata": {},
   "outputs": [
    {
     "data": {
      "application/vnd.plotly.v1+json": {
       "config": {
        "plotlyServerURL": "https://plot.ly"
       },
       "data": [
        {
         "hovertemplate": "x=%{x}<br>y=%{y}<br>color=%{marker.color}<extra></extra>",
         "legendgroup": "",
         "marker": {
          "color": [
           4,
           0,
           1,
           1,
           2,
           1,
           -1,
           -1,
           1,
           1,
           4,
           1,
           1,
           1,
           1,
           1,
           1,
           -1,
           0,
           1,
           1,
           0,
           3,
           3,
           1,
           -1,
           1,
           1,
           -1,
           1,
           4,
           3,
           2,
           -1,
           1,
           0,
           1,
           3,
           -1,
           4,
           1,
           3,
           1,
           0,
           2,
           1,
           1,
           -1,
           0,
           2,
           1,
           3,
           1,
           2,
           1,
           2,
           3,
           1,
           1,
           0,
           2,
           -1,
           -1,
           2,
           3,
           3,
           1,
           4,
           -1,
           2,
           1,
           3,
           4,
           1,
           1,
           1,
           2,
           2,
           1,
           1,
           1,
           2,
           1,
           -1,
           0,
           -1,
           1,
           1,
           1,
           3,
           1,
           3,
           1,
           -1,
           1,
           1,
           4,
           1,
           1,
           0,
           4,
           2,
           1,
           0,
           1,
           1,
           2,
           3,
           3,
           0,
           1,
           1,
           2,
           1,
           1,
           3,
           -1,
           -1,
           1,
           1,
           2,
           1,
           1,
           0,
           0,
           1,
           0,
           -1,
           1,
           4,
           2,
           1,
           -1,
           1,
           4,
           0,
           1,
           -1,
           1,
           2,
           3,
           0,
           2,
           3,
           1,
           2,
           1,
           1,
           -1,
           -1,
           2,
           1,
           1,
           1,
           1,
           1,
           3,
           1,
           1,
           1,
           3,
           1,
           2,
           1,
           -1,
           -1,
           1,
           1,
           -1,
           -1,
           1,
           -1,
           3,
           2,
           3,
           -1,
           -1,
           1,
           -1,
           0,
           3,
           1,
           3,
           1,
           1,
           1,
           3,
           1,
           1,
           0,
           -1,
           1,
           -1,
           -1,
           1,
           0,
           1,
           1,
           2,
           3,
           1,
           0,
           2
          ],
          "coloraxis": "coloraxis",
          "symbol": "circle"
         },
         "mode": "markers",
         "name": "",
         "orientation": "v",
         "showlegend": false,
         "type": "scatter",
         "x": [
          16.456555555555557,
          0.1485555555555555,
          99.23366666666666,
          100,
          34.32644444444444,
          98.428,
          70.0337,
          38.47766666666666,
          83.923,
          83.8751,
          23.5791,
          91.5288,
          99.89611111111113,
          99.97422222222222,
          98.2078,
          98.11766666666666,
          98.4342,
          35.095600000000005,
          3.486,
          97.20155555555556,
          100,
          0.0053333333333333,
          68.279,
          65.77000000000001,
          99.835,
          16.4672,
          98.95644444444444,
          99.95833333333331,
          49.8054,
          84.74611111111112,
          19.567666666666668,
          53.31588888888889,
          33.528,
          18.9445,
          99.16322222222225,
          3.711555555555556,
          98.18711111111112,
          56.2971,
          72.8477,
          26.2103,
          96.693,
          52.891777777777776,
          88.74122222222223,
          4.2176,
          36.699,
          95.98866666666667,
          91.9099,
          55.1664,
          0.2092222222222222,
          39.1135,
          99.17055555555557,
          67.6861111111111,
          87.84455555555556,
          38.18088888888889,
          90.07766666666666,
          35.99322222222222,
          72.59733333333332,
          96.385,
          84.0197,
          0.1095555555555555,
          41.18055555555556,
          23.7291,
          9.3107,
          39.60566666666667,
          65.50555555555555,
          56.95822222222223,
          98.86644444444444,
          20.00411111111111,
          55.4245,
          41.055,
          100,
          74.1346,
          19.374,
          98.34211111111112,
          87.07044444444445,
          98.07744444444444,
          35.10355555555556,
          47.098,
          97.94722222222222,
          97.984,
          85.04488888888889,
          46.40266666666667,
          99.80655555555556,
          40.2919,
          0.0155555555555555,
          78.1647,
          86.41511111111112,
          92.3822,
          94.83922222222222,
          72.1935,
          97.924,
          62.3597,
          90.85177777777776,
          77.60979999999999,
          95.61366666666667,
          89.6234,
          20.162222222222223,
          89.66966666666667,
          99.93866666666666,
          8.576,
          17.049777777777777,
          43.2924,
          96.52544444444445,
          0,
          99.68144444444444,
          99.97566666666664,
          46.7314,
          56.6742,
          55.30322222222222,
          8.765444444444446,
          87.36988888888888,
          99.54444444444444,
          47.44844444444445,
          92.9048,
          97.20222222222222,
          70.80711111111111,
          78.19788888888888,
          79.8644,
          93.91355555555556,
          95.1462,
          44.25055555555556,
          100,
          84.65977777777778,
          9.87388888888889,
          2.4036666666666666,
          100,
          0.0948888888888889,
          81.9447,
          84.97566666666665,
          20.002,
          47.19566666666666,
          98.537,
          79.5889,
          100,
          23.00711111111111,
          1.889,
          99.99255555555555,
          61.846900000000005,
          99.96222222222222,
          33.107,
          72.76366666666667,
          0.0038888888888888,
          42.2506,
          74.151,
          87.2083,
          48.7857,
          95.7427777777778,
          99.67888888888888,
          44.0267,
          64.4186,
          51.29911111111111,
          100,
          96.2431111111111,
          99.68933333333332,
          98.50744444444445,
          84.62644444444445,
          69.15344444444445,
          91.07566666666668,
          99.97277777777778,
          88.92477777777778,
          71.2041,
          98.97966666666667,
          31.326,
          96.8428,
          21.8467,
          32.3678,
          94.55577777777778,
          97.37977777777778,
          91.3964,
          69.0626,
          99.513625,
          42.6884,
          57.666777777777774,
          31.48133333333333,
          55.224222222222224,
          2.3696,
          1.1187,
          92.811,
          81.49170000000001,
          3.1754,
          64.15833333333333,
          87.4165,
          60.49455555555556,
          100,
          99.94877777777778,
          97.0688,
          67.535,
          99.9858888888889,
          100,
          10.60288888888889,
          42.8171,
          99.35711111111112,
          55.9153,
          65.32570000000001,
          98.98933333333332,
          10.3349,
          88.25055555555555,
          85.23422222222221,
          36.37155555555555,
          60.7851,
          95.22644444444444,
          6.320333333333333,
          44.057
         ],
         "xaxis": "x",
         "y": [
          83.54344444444445,
          99.85144444444444,
          0.7663333333333333,
          0,
          65.67355555555555,
          1.572,
          24.9565,
          31.018000000000004,
          16.076999999999998,
          16.1249,
          76.4209,
          8.4712,
          0.1038888888888888,
          0.0257777777777777,
          1.7922,
          1.8823333333333327,
          1.5658,
          18.0854,
          96.514,
          2.7984444444444443,
          0,
          99.99466666666666,
          31.721,
          34.230000000000004,
          0.165,
          80.964,
          1.0435555555555556,
          0.0416666666666666,
          15.3273,
          15.253888888888888,
          80.43233333333335,
          46.68411111111111,
          66.47200000000001,
          66.18379999999999,
          0.8367777777777778,
          96.28844444444444,
          1.8128888888888888,
          43.7029,
          23.9109,
          73.7897,
          3.307,
          47.108222222222224,
          11.258777777777778,
          95.7824,
          63.301,
          4.011333333333334,
          8.0901,
          10.7191,
          99.79077777777778,
          60.8865,
          0.8294444444444444,
          32.31388888888889,
          12.155444444444443,
          61.81911111111111,
          9.922333333333334,
          64.00677777777778,
          27.402666666666665,
          3.615,
          15.9803,
          99.89044444444444,
          58.81944444444444,
          42.66,
          17.3772,
          60.39433333333333,
          34.49444444444444,
          43.041777777777774,
          1.1335555555555556,
          79.99588888888889,
          30.6145,
          58.945,
          0,
          25.8654,
          80.626,
          1.6578888888888887,
          12.929555555555556,
          1.922555555555556,
          64.89644444444444,
          52.902,
          2.052777777777778,
          2.016,
          14.955111111111112,
          53.59733333333334,
          0.1934444444444444,
          10.7023,
          99.98444444444443,
          18.6021,
          13.58488888888889,
          6.1158,
          5.160777777777778,
          27.8065,
          2.076,
          37.6403,
          9.148222222222223,
          18.781,
          4.386333333333333,
          10.3766,
          79.83777777777777,
          10.330333333333334,
          0.0613333333333333,
          91.424,
          82.95022222222222,
          56.7076,
          3.474555555555556,
          100,
          0.3185555555555555,
          0.0243333333333333,
          53.268600000000006,
          43.3258,
          44.69677777777778,
          91.23455555555556,
          12.63011111111111,
          0.4555555555555555,
          52.55155555555555,
          7.0952,
          2.7977777777777777,
          29.192888888888888,
          21.80211111111111,
          16.5899,
          6.086444444444444,
          4.8538,
          55.74944444444444,
          0,
          15.340222222222224,
          90.12611111111111,
          97.59633333333332,
          0,
          99.90511111111113,
          14.6696,
          15.024333333333333,
          79.998,
          52.80433333333333,
          1.463,
          20.4111,
          0,
          76.99288888888888,
          98.111,
          0.0074444444444444,
          32.795,
          0.0377777777777777,
          66.893,
          27.23633333333333,
          99.99611111111112,
          57.7494,
          25.849,
          12.7917,
          51.2143,
          4.257222222222222,
          0.3211111111111111,
          37.3332,
          18.0368,
          48.70088888888889,
          0,
          3.7568888888888887,
          0.3106666666666666,
          1.4925555555555556,
          15.373555555555557,
          30.84655555555556,
          8.924333333333333,
          0.0272222222222222,
          11.075222222222225,
          28.7959,
          1.020333333333333,
          68.674,
          3.1572,
          22.743,
          30.9135,
          5.444222222222222,
          2.6202222222222225,
          3.0701,
          3.2709,
          0.486375,
          36.3737,
          42.33322222222223,
          68.51866666666666,
          44.77577777777778,
          58.5124,
          62.5076,
          7.188999999999999,
          4.8332,
          96.8246,
          35.84166666666667,
          12.5835,
          39.50544444444445,
          0,
          0.0512222222222222,
          2.9312,
          32.465,
          0.0141111111111111,
          0,
          89.3971111111111,
          6.9941,
          0.642888888888889,
          24.5374,
          15.2497,
          1.0106666666666666,
          89.6651,
          11.749444444444444,
          14.765777777777778,
          63.62844444444444,
          39.2149,
          4.773555555555556,
          93.67966666666666,
          55.943000000000005
         ],
         "yaxis": "y"
        }
       ],
       "layout": {
        "coloraxis": {
         "colorbar": {
          "title": {
           "text": "color"
          }
         },
         "colorscale": [
          [
           0,
           "#0d0887"
          ],
          [
           0.1111111111111111,
           "#46039f"
          ],
          [
           0.2222222222222222,
           "#7201a8"
          ],
          [
           0.3333333333333333,
           "#9c179e"
          ],
          [
           0.4444444444444444,
           "#bd3786"
          ],
          [
           0.5555555555555556,
           "#d8576b"
          ],
          [
           0.6666666666666666,
           "#ed7953"
          ],
          [
           0.7777777777777778,
           "#fb9f3a"
          ],
          [
           0.8888888888888888,
           "#fdca26"
          ],
          [
           1,
           "#f0f921"
          ]
         ]
        },
        "legend": {
         "tracegroupgap": 0
        },
        "margin": {
         "t": 60
        },
        "template": {
         "data": {
          "bar": [
           {
            "error_x": {
             "color": "#2a3f5f"
            },
            "error_y": {
             "color": "#2a3f5f"
            },
            "marker": {
             "line": {
              "color": "#E5ECF6",
              "width": 0.5
             },
             "pattern": {
              "fillmode": "overlay",
              "size": 10,
              "solidity": 0.2
             }
            },
            "type": "bar"
           }
          ],
          "barpolar": [
           {
            "marker": {
             "line": {
              "color": "#E5ECF6",
              "width": 0.5
             },
             "pattern": {
              "fillmode": "overlay",
              "size": 10,
              "solidity": 0.2
             }
            },
            "type": "barpolar"
           }
          ],
          "carpet": [
           {
            "aaxis": {
             "endlinecolor": "#2a3f5f",
             "gridcolor": "white",
             "linecolor": "white",
             "minorgridcolor": "white",
             "startlinecolor": "#2a3f5f"
            },
            "baxis": {
             "endlinecolor": "#2a3f5f",
             "gridcolor": "white",
             "linecolor": "white",
             "minorgridcolor": "white",
             "startlinecolor": "#2a3f5f"
            },
            "type": "carpet"
           }
          ],
          "choropleth": [
           {
            "colorbar": {
             "outlinewidth": 0,
             "ticks": ""
            },
            "type": "choropleth"
           }
          ],
          "contour": [
           {
            "colorbar": {
             "outlinewidth": 0,
             "ticks": ""
            },
            "colorscale": [
             [
              0,
              "#0d0887"
             ],
             [
              0.1111111111111111,
              "#46039f"
             ],
             [
              0.2222222222222222,
              "#7201a8"
             ],
             [
              0.3333333333333333,
              "#9c179e"
             ],
             [
              0.4444444444444444,
              "#bd3786"
             ],
             [
              0.5555555555555556,
              "#d8576b"
             ],
             [
              0.6666666666666666,
              "#ed7953"
             ],
             [
              0.7777777777777778,
              "#fb9f3a"
             ],
             [
              0.8888888888888888,
              "#fdca26"
             ],
             [
              1,
              "#f0f921"
             ]
            ],
            "type": "contour"
           }
          ],
          "contourcarpet": [
           {
            "colorbar": {
             "outlinewidth": 0,
             "ticks": ""
            },
            "type": "contourcarpet"
           }
          ],
          "heatmap": [
           {
            "colorbar": {
             "outlinewidth": 0,
             "ticks": ""
            },
            "colorscale": [
             [
              0,
              "#0d0887"
             ],
             [
              0.1111111111111111,
              "#46039f"
             ],
             [
              0.2222222222222222,
              "#7201a8"
             ],
             [
              0.3333333333333333,
              "#9c179e"
             ],
             [
              0.4444444444444444,
              "#bd3786"
             ],
             [
              0.5555555555555556,
              "#d8576b"
             ],
             [
              0.6666666666666666,
              "#ed7953"
             ],
             [
              0.7777777777777778,
              "#fb9f3a"
             ],
             [
              0.8888888888888888,
              "#fdca26"
             ],
             [
              1,
              "#f0f921"
             ]
            ],
            "type": "heatmap"
           }
          ],
          "heatmapgl": [
           {
            "colorbar": {
             "outlinewidth": 0,
             "ticks": ""
            },
            "colorscale": [
             [
              0,
              "#0d0887"
             ],
             [
              0.1111111111111111,
              "#46039f"
             ],
             [
              0.2222222222222222,
              "#7201a8"
             ],
             [
              0.3333333333333333,
              "#9c179e"
             ],
             [
              0.4444444444444444,
              "#bd3786"
             ],
             [
              0.5555555555555556,
              "#d8576b"
             ],
             [
              0.6666666666666666,
              "#ed7953"
             ],
             [
              0.7777777777777778,
              "#fb9f3a"
             ],
             [
              0.8888888888888888,
              "#fdca26"
             ],
             [
              1,
              "#f0f921"
             ]
            ],
            "type": "heatmapgl"
           }
          ],
          "histogram": [
           {
            "marker": {
             "pattern": {
              "fillmode": "overlay",
              "size": 10,
              "solidity": 0.2
             }
            },
            "type": "histogram"
           }
          ],
          "histogram2d": [
           {
            "colorbar": {
             "outlinewidth": 0,
             "ticks": ""
            },
            "colorscale": [
             [
              0,
              "#0d0887"
             ],
             [
              0.1111111111111111,
              "#46039f"
             ],
             [
              0.2222222222222222,
              "#7201a8"
             ],
             [
              0.3333333333333333,
              "#9c179e"
             ],
             [
              0.4444444444444444,
              "#bd3786"
             ],
             [
              0.5555555555555556,
              "#d8576b"
             ],
             [
              0.6666666666666666,
              "#ed7953"
             ],
             [
              0.7777777777777778,
              "#fb9f3a"
             ],
             [
              0.8888888888888888,
              "#fdca26"
             ],
             [
              1,
              "#f0f921"
             ]
            ],
            "type": "histogram2d"
           }
          ],
          "histogram2dcontour": [
           {
            "colorbar": {
             "outlinewidth": 0,
             "ticks": ""
            },
            "colorscale": [
             [
              0,
              "#0d0887"
             ],
             [
              0.1111111111111111,
              "#46039f"
             ],
             [
              0.2222222222222222,
              "#7201a8"
             ],
             [
              0.3333333333333333,
              "#9c179e"
             ],
             [
              0.4444444444444444,
              "#bd3786"
             ],
             [
              0.5555555555555556,
              "#d8576b"
             ],
             [
              0.6666666666666666,
              "#ed7953"
             ],
             [
              0.7777777777777778,
              "#fb9f3a"
             ],
             [
              0.8888888888888888,
              "#fdca26"
             ],
             [
              1,
              "#f0f921"
             ]
            ],
            "type": "histogram2dcontour"
           }
          ],
          "mesh3d": [
           {
            "colorbar": {
             "outlinewidth": 0,
             "ticks": ""
            },
            "type": "mesh3d"
           }
          ],
          "parcoords": [
           {
            "line": {
             "colorbar": {
              "outlinewidth": 0,
              "ticks": ""
             }
            },
            "type": "parcoords"
           }
          ],
          "pie": [
           {
            "automargin": true,
            "type": "pie"
           }
          ],
          "scatter": [
           {
            "fillpattern": {
             "fillmode": "overlay",
             "size": 10,
             "solidity": 0.2
            },
            "type": "scatter"
           }
          ],
          "scatter3d": [
           {
            "line": {
             "colorbar": {
              "outlinewidth": 0,
              "ticks": ""
             }
            },
            "marker": {
             "colorbar": {
              "outlinewidth": 0,
              "ticks": ""
             }
            },
            "type": "scatter3d"
           }
          ],
          "scattercarpet": [
           {
            "marker": {
             "colorbar": {
              "outlinewidth": 0,
              "ticks": ""
             }
            },
            "type": "scattercarpet"
           }
          ],
          "scattergeo": [
           {
            "marker": {
             "colorbar": {
              "outlinewidth": 0,
              "ticks": ""
             }
            },
            "type": "scattergeo"
           }
          ],
          "scattergl": [
           {
            "marker": {
             "colorbar": {
              "outlinewidth": 0,
              "ticks": ""
             }
            },
            "type": "scattergl"
           }
          ],
          "scattermapbox": [
           {
            "marker": {
             "colorbar": {
              "outlinewidth": 0,
              "ticks": ""
             }
            },
            "type": "scattermapbox"
           }
          ],
          "scatterpolar": [
           {
            "marker": {
             "colorbar": {
              "outlinewidth": 0,
              "ticks": ""
             }
            },
            "type": "scatterpolar"
           }
          ],
          "scatterpolargl": [
           {
            "marker": {
             "colorbar": {
              "outlinewidth": 0,
              "ticks": ""
             }
            },
            "type": "scatterpolargl"
           }
          ],
          "scatterternary": [
           {
            "marker": {
             "colorbar": {
              "outlinewidth": 0,
              "ticks": ""
             }
            },
            "type": "scatterternary"
           }
          ],
          "surface": [
           {
            "colorbar": {
             "outlinewidth": 0,
             "ticks": ""
            },
            "colorscale": [
             [
              0,
              "#0d0887"
             ],
             [
              0.1111111111111111,
              "#46039f"
             ],
             [
              0.2222222222222222,
              "#7201a8"
             ],
             [
              0.3333333333333333,
              "#9c179e"
             ],
             [
              0.4444444444444444,
              "#bd3786"
             ],
             [
              0.5555555555555556,
              "#d8576b"
             ],
             [
              0.6666666666666666,
              "#ed7953"
             ],
             [
              0.7777777777777778,
              "#fb9f3a"
             ],
             [
              0.8888888888888888,
              "#fdca26"
             ],
             [
              1,
              "#f0f921"
             ]
            ],
            "type": "surface"
           }
          ],
          "table": [
           {
            "cells": {
             "fill": {
              "color": "#EBF0F8"
             },
             "line": {
              "color": "white"
             }
            },
            "header": {
             "fill": {
              "color": "#C8D4E3"
             },
             "line": {
              "color": "white"
             }
            },
            "type": "table"
           }
          ]
         },
         "layout": {
          "annotationdefaults": {
           "arrowcolor": "#2a3f5f",
           "arrowhead": 0,
           "arrowwidth": 1
          },
          "autotypenumbers": "strict",
          "coloraxis": {
           "colorbar": {
            "outlinewidth": 0,
            "ticks": ""
           }
          },
          "colorscale": {
           "diverging": [
            [
             0,
             "#8e0152"
            ],
            [
             0.1,
             "#c51b7d"
            ],
            [
             0.2,
             "#de77ae"
            ],
            [
             0.3,
             "#f1b6da"
            ],
            [
             0.4,
             "#fde0ef"
            ],
            [
             0.5,
             "#f7f7f7"
            ],
            [
             0.6,
             "#e6f5d0"
            ],
            [
             0.7,
             "#b8e186"
            ],
            [
             0.8,
             "#7fbc41"
            ],
            [
             0.9,
             "#4d9221"
            ],
            [
             1,
             "#276419"
            ]
           ],
           "sequential": [
            [
             0,
             "#0d0887"
            ],
            [
             0.1111111111111111,
             "#46039f"
            ],
            [
             0.2222222222222222,
             "#7201a8"
            ],
            [
             0.3333333333333333,
             "#9c179e"
            ],
            [
             0.4444444444444444,
             "#bd3786"
            ],
            [
             0.5555555555555556,
             "#d8576b"
            ],
            [
             0.6666666666666666,
             "#ed7953"
            ],
            [
             0.7777777777777778,
             "#fb9f3a"
            ],
            [
             0.8888888888888888,
             "#fdca26"
            ],
            [
             1,
             "#f0f921"
            ]
           ],
           "sequentialminus": [
            [
             0,
             "#0d0887"
            ],
            [
             0.1111111111111111,
             "#46039f"
            ],
            [
             0.2222222222222222,
             "#7201a8"
            ],
            [
             0.3333333333333333,
             "#9c179e"
            ],
            [
             0.4444444444444444,
             "#bd3786"
            ],
            [
             0.5555555555555556,
             "#d8576b"
            ],
            [
             0.6666666666666666,
             "#ed7953"
            ],
            [
             0.7777777777777778,
             "#fb9f3a"
            ],
            [
             0.8888888888888888,
             "#fdca26"
            ],
            [
             1,
             "#f0f921"
            ]
           ]
          },
          "colorway": [
           "#636efa",
           "#EF553B",
           "#00cc96",
           "#ab63fa",
           "#FFA15A",
           "#19d3f3",
           "#FF6692",
           "#B6E880",
           "#FF97FF",
           "#FECB52"
          ],
          "font": {
           "color": "#2a3f5f"
          },
          "geo": {
           "bgcolor": "white",
           "lakecolor": "white",
           "landcolor": "#E5ECF6",
           "showlakes": true,
           "showland": true,
           "subunitcolor": "white"
          },
          "hoverlabel": {
           "align": "left"
          },
          "hovermode": "closest",
          "mapbox": {
           "style": "light"
          },
          "paper_bgcolor": "white",
          "plot_bgcolor": "#E5ECF6",
          "polar": {
           "angularaxis": {
            "gridcolor": "white",
            "linecolor": "white",
            "ticks": ""
           },
           "bgcolor": "#E5ECF6",
           "radialaxis": {
            "gridcolor": "white",
            "linecolor": "white",
            "ticks": ""
           }
          },
          "scene": {
           "xaxis": {
            "backgroundcolor": "#E5ECF6",
            "gridcolor": "white",
            "gridwidth": 2,
            "linecolor": "white",
            "showbackground": true,
            "ticks": "",
            "zerolinecolor": "white"
           },
           "yaxis": {
            "backgroundcolor": "#E5ECF6",
            "gridcolor": "white",
            "gridwidth": 2,
            "linecolor": "white",
            "showbackground": true,
            "ticks": "",
            "zerolinecolor": "white"
           },
           "zaxis": {
            "backgroundcolor": "#E5ECF6",
            "gridcolor": "white",
            "gridwidth": 2,
            "linecolor": "white",
            "showbackground": true,
            "ticks": "",
            "zerolinecolor": "white"
           }
          },
          "shapedefaults": {
           "line": {
            "color": "#2a3f5f"
           }
          },
          "ternary": {
           "aaxis": {
            "gridcolor": "white",
            "linecolor": "white",
            "ticks": ""
           },
           "baxis": {
            "gridcolor": "white",
            "linecolor": "white",
            "ticks": ""
           },
           "bgcolor": "#E5ECF6",
           "caxis": {
            "gridcolor": "white",
            "linecolor": "white",
            "ticks": ""
           }
          },
          "title": {
           "x": 0.05
          },
          "xaxis": {
           "automargin": true,
           "gridcolor": "white",
           "linecolor": "white",
           "ticks": "",
           "title": {
            "standoff": 15
           },
           "zerolinecolor": "white",
           "zerolinewidth": 2
          },
          "yaxis": {
           "automargin": true,
           "gridcolor": "white",
           "linecolor": "white",
           "ticks": "",
           "title": {
            "standoff": 15
           },
           "zerolinecolor": "white",
           "zerolinewidth": 2
          }
         }
        },
        "title": {
         "text": "Proporcion de electricidad de fuentes renovables vs fuentes fosiles"
        },
        "xaxis": {
         "anchor": "y",
         "domain": [
          0,
          1
         ],
         "title": {
          "text": "Porcentaje de fuente fosil"
         }
        },
        "yaxis": {
         "anchor": "x",
         "domain": [
          0,
          1
         ],
         "title": {
          "text": "Porcentaje de fuente renovable"
         }
        }
       }
      }
     },
     "metadata": {},
     "output_type": "display_data"
    }
   ],
   "source": [
    "fig = px.scatter(x=df[\"fossil_share_elec\"], y=df[\"renewables_share_elec\"], color=df['cluster'])\n",
    "fig.update_layout(xaxis_title=\"Porcentaje de fuente fosil\",yaxis_title=\"Porcentaje de fuente renovable\")\n",
    "fig.update_layout(title=\"Proporcion de electricidad de fuentes renovables vs fuentes fosiles\",)\n",
    "fig.show()"
   ]
  },
  {
   "cell_type": "markdown",
   "metadata": {},
   "source": [
    "Podemos agrupar los países del mundo según su dependencia de las fuentes fósiles para electricidad. <br>\n",
    "Magenta (cluster0) --> Totalmente dependiente de fuentes fósiles <br>\n",
    "Naranja (cluster4) --> Fuertemente dependiente de fuentes fósiles <br>\n",
    "Rojo (cluster2) --> Moderadamente dependiente de fuentes fósiles <br>\n",
    "Amarillo (cluster3) --> Levemente dependiente de fuentes fósiles <br>\n",
    "Violeta (cluster1) --> En camino a independencia de fuentes fósiles<br>"
   ]
  },
  {
   "cell_type": "code",
   "execution_count": 82,
   "metadata": {},
   "outputs": [
    {
     "data": {
      "application/vnd.plotly.v1+json": {
       "config": {
        "plotlyServerURL": "https://plot.ly"
       },
       "data": [
        {
         "hovertemplate": "x=%{x}<br>y=%{y}<br>color=%{marker.color}<extra></extra>",
         "legendgroup": "",
         "marker": {
          "color": [
           4,
           0,
           1,
           1,
           2,
           1,
           -1,
           -1,
           1,
           1,
           4,
           1,
           1,
           1,
           1,
           1,
           1,
           -1,
           0,
           1,
           1,
           0,
           3,
           3,
           1,
           -1,
           1,
           1,
           -1,
           1,
           4,
           3,
           2,
           -1,
           1,
           0,
           1,
           3,
           -1,
           4,
           1,
           3,
           1,
           0,
           2,
           1,
           1,
           -1,
           0,
           2,
           1,
           3,
           1,
           2,
           1,
           2,
           3,
           1,
           1,
           0,
           2,
           -1,
           -1,
           2,
           3,
           3,
           1,
           4,
           -1,
           2,
           1,
           3,
           4,
           1,
           1,
           1,
           2,
           2,
           1,
           1,
           1,
           2,
           1,
           -1,
           0,
           -1,
           1,
           1,
           1,
           3,
           1,
           3,
           1,
           -1,
           1,
           1,
           4,
           1,
           1,
           0,
           4,
           2,
           1,
           0,
           1,
           1,
           2,
           3,
           3,
           0,
           1,
           1,
           2,
           1,
           1,
           3,
           -1,
           -1,
           1,
           1,
           2,
           1,
           1,
           0,
           0,
           1,
           0,
           -1,
           1,
           4,
           2,
           1,
           -1,
           1,
           4,
           0,
           1,
           -1,
           1,
           2,
           3,
           0,
           2,
           3,
           1,
           2,
           1,
           1,
           -1,
           -1,
           2,
           1,
           1,
           1,
           1,
           1,
           3,
           1,
           1,
           1,
           3,
           1,
           2,
           1,
           -1,
           -1,
           1,
           1,
           -1,
           -1,
           1,
           -1,
           3,
           2,
           3,
           -1,
           -1,
           1,
           -1,
           0,
           3,
           1,
           3,
           1,
           1,
           1,
           3,
           1,
           1,
           0,
           -1,
           1,
           -1,
           -1,
           1,
           0,
           1,
           1,
           2,
           3,
           1,
           0,
           2
          ],
          "coloraxis": "coloraxis",
          "symbol": "circle"
         },
         "mode": "markers",
         "name": "",
         "orientation": "v",
         "showlegend": false,
         "type": "scatter",
         "x": [
          0,
          0,
          0,
          0,
          0,
          0,
          5.0098,
          30.504444444444445,
          0,
          0,
          0,
          0,
          0,
          0,
          0,
          0,
          0,
          46.819,
          0,
          0,
          0,
          0,
          0,
          0,
          0,
          2.5686,
          0,
          0,
          34.8674,
          0,
          0,
          0,
          0,
          14.8717,
          0,
          0,
          0,
          0,
          3.2415,
          0,
          0,
          0,
          0,
          0,
          0,
          0,
          0,
          34.1146,
          0,
          0,
          0,
          0,
          0,
          0,
          0,
          0,
          0,
          0,
          0,
          0,
          0,
          33.6109,
          73.312,
          0,
          0,
          0,
          0,
          0,
          13.9612,
          0,
          0,
          0,
          0,
          0,
          0,
          0,
          0,
          0,
          0,
          0,
          0,
          0,
          0,
          49.0058,
          0,
          3.2331000000000003,
          0,
          1.502,
          0,
          0,
          0,
          0,
          0,
          3.6094,
          0,
          0,
          0,
          0,
          0,
          0,
          0,
          0,
          0,
          0,
          0,
          0,
          0,
          0,
          0,
          0,
          0,
          0,
          0,
          0,
          0,
          0,
          0,
          3.5458,
          0,
          0,
          0,
          0,
          0,
          0,
          0,
          0,
          0,
          3.3857,
          0,
          0,
          0,
          0,
          0,
          0,
          0,
          0,
          0,
          5.3584000000000005,
          0,
          0,
          0,
          0,
          0,
          0,
          0,
          0,
          0,
          0,
          18.6402,
          17.5446,
          0,
          0,
          0,
          0,
          0,
          0,
          0,
          0,
          0,
          0,
          0,
          0,
          0,
          0,
          55.4102,
          36.7186,
          0,
          0,
          5.5334,
          27.6663,
          0,
          20.938,
          0,
          0,
          0,
          39.1182,
          36.3737,
          0,
          13.6751,
          0,
          0,
          0,
          0,
          0,
          0,
          0,
          0,
          0,
          0,
          0,
          50.1889,
          0,
          19.5474,
          19.4246,
          0,
          0,
          0,
          0,
          0,
          0,
          0,
          0,
          0
         ],
         "xaxis": "x",
         "y": [
          83.54344444444445,
          99.85144444444444,
          0.7663333333333333,
          0,
          65.67355555555555,
          1.572,
          24.9565,
          31.018000000000004,
          16.076999999999998,
          16.1249,
          76.4209,
          8.4712,
          0.1038888888888888,
          0.0257777777777777,
          1.7922,
          1.8823333333333327,
          1.5658,
          18.0854,
          96.514,
          2.7984444444444443,
          0,
          99.99466666666666,
          31.721,
          34.230000000000004,
          0.165,
          80.964,
          1.0435555555555556,
          0.0416666666666666,
          15.3273,
          15.253888888888888,
          80.43233333333335,
          46.68411111111111,
          66.47200000000001,
          66.18379999999999,
          0.8367777777777778,
          96.28844444444444,
          1.8128888888888888,
          43.7029,
          23.9109,
          73.7897,
          3.307,
          47.108222222222224,
          11.258777777777778,
          95.7824,
          63.301,
          4.011333333333334,
          8.0901,
          10.7191,
          99.79077777777778,
          60.8865,
          0.8294444444444444,
          32.31388888888889,
          12.155444444444443,
          61.81911111111111,
          9.922333333333334,
          64.00677777777778,
          27.402666666666665,
          3.615,
          15.9803,
          99.89044444444444,
          58.81944444444444,
          42.66,
          17.3772,
          60.39433333333333,
          34.49444444444444,
          43.041777777777774,
          1.1335555555555556,
          79.99588888888889,
          30.6145,
          58.945,
          0,
          25.8654,
          80.626,
          1.6578888888888887,
          12.929555555555556,
          1.922555555555556,
          64.89644444444444,
          52.902,
          2.052777777777778,
          2.016,
          14.955111111111112,
          53.59733333333334,
          0.1934444444444444,
          10.7023,
          99.98444444444443,
          18.6021,
          13.58488888888889,
          6.1158,
          5.160777777777778,
          27.8065,
          2.076,
          37.6403,
          9.148222222222223,
          18.781,
          4.386333333333333,
          10.3766,
          79.83777777777777,
          10.330333333333334,
          0.0613333333333333,
          91.424,
          82.95022222222222,
          56.7076,
          3.474555555555556,
          100,
          0.3185555555555555,
          0.0243333333333333,
          53.268600000000006,
          43.3258,
          44.69677777777778,
          91.23455555555556,
          12.63011111111111,
          0.4555555555555555,
          52.55155555555555,
          7.0952,
          2.7977777777777777,
          29.192888888888888,
          21.80211111111111,
          16.5899,
          6.086444444444444,
          4.8538,
          55.74944444444444,
          0,
          15.340222222222224,
          90.12611111111111,
          97.59633333333332,
          0,
          99.90511111111113,
          14.6696,
          15.024333333333333,
          79.998,
          52.80433333333333,
          1.463,
          20.4111,
          0,
          76.99288888888888,
          98.111,
          0.0074444444444444,
          32.795,
          0.0377777777777777,
          66.893,
          27.23633333333333,
          99.99611111111112,
          57.7494,
          25.849,
          12.7917,
          51.2143,
          4.257222222222222,
          0.3211111111111111,
          37.3332,
          18.0368,
          48.70088888888889,
          0,
          3.7568888888888887,
          0.3106666666666666,
          1.4925555555555556,
          15.373555555555557,
          30.84655555555556,
          8.924333333333333,
          0.0272222222222222,
          11.075222222222225,
          28.7959,
          1.020333333333333,
          68.674,
          3.1572,
          22.743,
          30.9135,
          5.444222222222222,
          2.6202222222222225,
          3.0701,
          3.2709,
          0.486375,
          36.3737,
          42.33322222222223,
          68.51866666666666,
          44.77577777777778,
          58.5124,
          62.5076,
          7.188999999999999,
          4.8332,
          96.8246,
          35.84166666666667,
          12.5835,
          39.50544444444445,
          0,
          0.0512222222222222,
          2.9312,
          32.465,
          0.0141111111111111,
          0,
          89.3971111111111,
          6.9941,
          0.642888888888889,
          24.5374,
          15.2497,
          1.0106666666666666,
          89.6651,
          11.749444444444444,
          14.765777777777778,
          63.62844444444444,
          39.2149,
          4.773555555555556,
          93.67966666666666,
          55.943000000000005
         ],
         "yaxis": "y"
        }
       ],
       "layout": {
        "coloraxis": {
         "colorbar": {
          "title": {
           "text": "color"
          }
         },
         "colorscale": [
          [
           0,
           "#0d0887"
          ],
          [
           0.1111111111111111,
           "#46039f"
          ],
          [
           0.2222222222222222,
           "#7201a8"
          ],
          [
           0.3333333333333333,
           "#9c179e"
          ],
          [
           0.4444444444444444,
           "#bd3786"
          ],
          [
           0.5555555555555556,
           "#d8576b"
          ],
          [
           0.6666666666666666,
           "#ed7953"
          ],
          [
           0.7777777777777778,
           "#fb9f3a"
          ],
          [
           0.8888888888888888,
           "#fdca26"
          ],
          [
           1,
           "#f0f921"
          ]
         ]
        },
        "legend": {
         "tracegroupgap": 0
        },
        "margin": {
         "t": 60
        },
        "template": {
         "data": {
          "bar": [
           {
            "error_x": {
             "color": "#2a3f5f"
            },
            "error_y": {
             "color": "#2a3f5f"
            },
            "marker": {
             "line": {
              "color": "#E5ECF6",
              "width": 0.5
             },
             "pattern": {
              "fillmode": "overlay",
              "size": 10,
              "solidity": 0.2
             }
            },
            "type": "bar"
           }
          ],
          "barpolar": [
           {
            "marker": {
             "line": {
              "color": "#E5ECF6",
              "width": 0.5
             },
             "pattern": {
              "fillmode": "overlay",
              "size": 10,
              "solidity": 0.2
             }
            },
            "type": "barpolar"
           }
          ],
          "carpet": [
           {
            "aaxis": {
             "endlinecolor": "#2a3f5f",
             "gridcolor": "white",
             "linecolor": "white",
             "minorgridcolor": "white",
             "startlinecolor": "#2a3f5f"
            },
            "baxis": {
             "endlinecolor": "#2a3f5f",
             "gridcolor": "white",
             "linecolor": "white",
             "minorgridcolor": "white",
             "startlinecolor": "#2a3f5f"
            },
            "type": "carpet"
           }
          ],
          "choropleth": [
           {
            "colorbar": {
             "outlinewidth": 0,
             "ticks": ""
            },
            "type": "choropleth"
           }
          ],
          "contour": [
           {
            "colorbar": {
             "outlinewidth": 0,
             "ticks": ""
            },
            "colorscale": [
             [
              0,
              "#0d0887"
             ],
             [
              0.1111111111111111,
              "#46039f"
             ],
             [
              0.2222222222222222,
              "#7201a8"
             ],
             [
              0.3333333333333333,
              "#9c179e"
             ],
             [
              0.4444444444444444,
              "#bd3786"
             ],
             [
              0.5555555555555556,
              "#d8576b"
             ],
             [
              0.6666666666666666,
              "#ed7953"
             ],
             [
              0.7777777777777778,
              "#fb9f3a"
             ],
             [
              0.8888888888888888,
              "#fdca26"
             ],
             [
              1,
              "#f0f921"
             ]
            ],
            "type": "contour"
           }
          ],
          "contourcarpet": [
           {
            "colorbar": {
             "outlinewidth": 0,
             "ticks": ""
            },
            "type": "contourcarpet"
           }
          ],
          "heatmap": [
           {
            "colorbar": {
             "outlinewidth": 0,
             "ticks": ""
            },
            "colorscale": [
             [
              0,
              "#0d0887"
             ],
             [
              0.1111111111111111,
              "#46039f"
             ],
             [
              0.2222222222222222,
              "#7201a8"
             ],
             [
              0.3333333333333333,
              "#9c179e"
             ],
             [
              0.4444444444444444,
              "#bd3786"
             ],
             [
              0.5555555555555556,
              "#d8576b"
             ],
             [
              0.6666666666666666,
              "#ed7953"
             ],
             [
              0.7777777777777778,
              "#fb9f3a"
             ],
             [
              0.8888888888888888,
              "#fdca26"
             ],
             [
              1,
              "#f0f921"
             ]
            ],
            "type": "heatmap"
           }
          ],
          "heatmapgl": [
           {
            "colorbar": {
             "outlinewidth": 0,
             "ticks": ""
            },
            "colorscale": [
             [
              0,
              "#0d0887"
             ],
             [
              0.1111111111111111,
              "#46039f"
             ],
             [
              0.2222222222222222,
              "#7201a8"
             ],
             [
              0.3333333333333333,
              "#9c179e"
             ],
             [
              0.4444444444444444,
              "#bd3786"
             ],
             [
              0.5555555555555556,
              "#d8576b"
             ],
             [
              0.6666666666666666,
              "#ed7953"
             ],
             [
              0.7777777777777778,
              "#fb9f3a"
             ],
             [
              0.8888888888888888,
              "#fdca26"
             ],
             [
              1,
              "#f0f921"
             ]
            ],
            "type": "heatmapgl"
           }
          ],
          "histogram": [
           {
            "marker": {
             "pattern": {
              "fillmode": "overlay",
              "size": 10,
              "solidity": 0.2
             }
            },
            "type": "histogram"
           }
          ],
          "histogram2d": [
           {
            "colorbar": {
             "outlinewidth": 0,
             "ticks": ""
            },
            "colorscale": [
             [
              0,
              "#0d0887"
             ],
             [
              0.1111111111111111,
              "#46039f"
             ],
             [
              0.2222222222222222,
              "#7201a8"
             ],
             [
              0.3333333333333333,
              "#9c179e"
             ],
             [
              0.4444444444444444,
              "#bd3786"
             ],
             [
              0.5555555555555556,
              "#d8576b"
             ],
             [
              0.6666666666666666,
              "#ed7953"
             ],
             [
              0.7777777777777778,
              "#fb9f3a"
             ],
             [
              0.8888888888888888,
              "#fdca26"
             ],
             [
              1,
              "#f0f921"
             ]
            ],
            "type": "histogram2d"
           }
          ],
          "histogram2dcontour": [
           {
            "colorbar": {
             "outlinewidth": 0,
             "ticks": ""
            },
            "colorscale": [
             [
              0,
              "#0d0887"
             ],
             [
              0.1111111111111111,
              "#46039f"
             ],
             [
              0.2222222222222222,
              "#7201a8"
             ],
             [
              0.3333333333333333,
              "#9c179e"
             ],
             [
              0.4444444444444444,
              "#bd3786"
             ],
             [
              0.5555555555555556,
              "#d8576b"
             ],
             [
              0.6666666666666666,
              "#ed7953"
             ],
             [
              0.7777777777777778,
              "#fb9f3a"
             ],
             [
              0.8888888888888888,
              "#fdca26"
             ],
             [
              1,
              "#f0f921"
             ]
            ],
            "type": "histogram2dcontour"
           }
          ],
          "mesh3d": [
           {
            "colorbar": {
             "outlinewidth": 0,
             "ticks": ""
            },
            "type": "mesh3d"
           }
          ],
          "parcoords": [
           {
            "line": {
             "colorbar": {
              "outlinewidth": 0,
              "ticks": ""
             }
            },
            "type": "parcoords"
           }
          ],
          "pie": [
           {
            "automargin": true,
            "type": "pie"
           }
          ],
          "scatter": [
           {
            "fillpattern": {
             "fillmode": "overlay",
             "size": 10,
             "solidity": 0.2
            },
            "type": "scatter"
           }
          ],
          "scatter3d": [
           {
            "line": {
             "colorbar": {
              "outlinewidth": 0,
              "ticks": ""
             }
            },
            "marker": {
             "colorbar": {
              "outlinewidth": 0,
              "ticks": ""
             }
            },
            "type": "scatter3d"
           }
          ],
          "scattercarpet": [
           {
            "marker": {
             "colorbar": {
              "outlinewidth": 0,
              "ticks": ""
             }
            },
            "type": "scattercarpet"
           }
          ],
          "scattergeo": [
           {
            "marker": {
             "colorbar": {
              "outlinewidth": 0,
              "ticks": ""
             }
            },
            "type": "scattergeo"
           }
          ],
          "scattergl": [
           {
            "marker": {
             "colorbar": {
              "outlinewidth": 0,
              "ticks": ""
             }
            },
            "type": "scattergl"
           }
          ],
          "scattermapbox": [
           {
            "marker": {
             "colorbar": {
              "outlinewidth": 0,
              "ticks": ""
             }
            },
            "type": "scattermapbox"
           }
          ],
          "scatterpolar": [
           {
            "marker": {
             "colorbar": {
              "outlinewidth": 0,
              "ticks": ""
             }
            },
            "type": "scatterpolar"
           }
          ],
          "scatterpolargl": [
           {
            "marker": {
             "colorbar": {
              "outlinewidth": 0,
              "ticks": ""
             }
            },
            "type": "scatterpolargl"
           }
          ],
          "scatterternary": [
           {
            "marker": {
             "colorbar": {
              "outlinewidth": 0,
              "ticks": ""
             }
            },
            "type": "scatterternary"
           }
          ],
          "surface": [
           {
            "colorbar": {
             "outlinewidth": 0,
             "ticks": ""
            },
            "colorscale": [
             [
              0,
              "#0d0887"
             ],
             [
              0.1111111111111111,
              "#46039f"
             ],
             [
              0.2222222222222222,
              "#7201a8"
             ],
             [
              0.3333333333333333,
              "#9c179e"
             ],
             [
              0.4444444444444444,
              "#bd3786"
             ],
             [
              0.5555555555555556,
              "#d8576b"
             ],
             [
              0.6666666666666666,
              "#ed7953"
             ],
             [
              0.7777777777777778,
              "#fb9f3a"
             ],
             [
              0.8888888888888888,
              "#fdca26"
             ],
             [
              1,
              "#f0f921"
             ]
            ],
            "type": "surface"
           }
          ],
          "table": [
           {
            "cells": {
             "fill": {
              "color": "#EBF0F8"
             },
             "line": {
              "color": "white"
             }
            },
            "header": {
             "fill": {
              "color": "#C8D4E3"
             },
             "line": {
              "color": "white"
             }
            },
            "type": "table"
           }
          ]
         },
         "layout": {
          "annotationdefaults": {
           "arrowcolor": "#2a3f5f",
           "arrowhead": 0,
           "arrowwidth": 1
          },
          "autotypenumbers": "strict",
          "coloraxis": {
           "colorbar": {
            "outlinewidth": 0,
            "ticks": ""
           }
          },
          "colorscale": {
           "diverging": [
            [
             0,
             "#8e0152"
            ],
            [
             0.1,
             "#c51b7d"
            ],
            [
             0.2,
             "#de77ae"
            ],
            [
             0.3,
             "#f1b6da"
            ],
            [
             0.4,
             "#fde0ef"
            ],
            [
             0.5,
             "#f7f7f7"
            ],
            [
             0.6,
             "#e6f5d0"
            ],
            [
             0.7,
             "#b8e186"
            ],
            [
             0.8,
             "#7fbc41"
            ],
            [
             0.9,
             "#4d9221"
            ],
            [
             1,
             "#276419"
            ]
           ],
           "sequential": [
            [
             0,
             "#0d0887"
            ],
            [
             0.1111111111111111,
             "#46039f"
            ],
            [
             0.2222222222222222,
             "#7201a8"
            ],
            [
             0.3333333333333333,
             "#9c179e"
            ],
            [
             0.4444444444444444,
             "#bd3786"
            ],
            [
             0.5555555555555556,
             "#d8576b"
            ],
            [
             0.6666666666666666,
             "#ed7953"
            ],
            [
             0.7777777777777778,
             "#fb9f3a"
            ],
            [
             0.8888888888888888,
             "#fdca26"
            ],
            [
             1,
             "#f0f921"
            ]
           ],
           "sequentialminus": [
            [
             0,
             "#0d0887"
            ],
            [
             0.1111111111111111,
             "#46039f"
            ],
            [
             0.2222222222222222,
             "#7201a8"
            ],
            [
             0.3333333333333333,
             "#9c179e"
            ],
            [
             0.4444444444444444,
             "#bd3786"
            ],
            [
             0.5555555555555556,
             "#d8576b"
            ],
            [
             0.6666666666666666,
             "#ed7953"
            ],
            [
             0.7777777777777778,
             "#fb9f3a"
            ],
            [
             0.8888888888888888,
             "#fdca26"
            ],
            [
             1,
             "#f0f921"
            ]
           ]
          },
          "colorway": [
           "#636efa",
           "#EF553B",
           "#00cc96",
           "#ab63fa",
           "#FFA15A",
           "#19d3f3",
           "#FF6692",
           "#B6E880",
           "#FF97FF",
           "#FECB52"
          ],
          "font": {
           "color": "#2a3f5f"
          },
          "geo": {
           "bgcolor": "white",
           "lakecolor": "white",
           "landcolor": "#E5ECF6",
           "showlakes": true,
           "showland": true,
           "subunitcolor": "white"
          },
          "hoverlabel": {
           "align": "left"
          },
          "hovermode": "closest",
          "mapbox": {
           "style": "light"
          },
          "paper_bgcolor": "white",
          "plot_bgcolor": "#E5ECF6",
          "polar": {
           "angularaxis": {
            "gridcolor": "white",
            "linecolor": "white",
            "ticks": ""
           },
           "bgcolor": "#E5ECF6",
           "radialaxis": {
            "gridcolor": "white",
            "linecolor": "white",
            "ticks": ""
           }
          },
          "scene": {
           "xaxis": {
            "backgroundcolor": "#E5ECF6",
            "gridcolor": "white",
            "gridwidth": 2,
            "linecolor": "white",
            "showbackground": true,
            "ticks": "",
            "zerolinecolor": "white"
           },
           "yaxis": {
            "backgroundcolor": "#E5ECF6",
            "gridcolor": "white",
            "gridwidth": 2,
            "linecolor": "white",
            "showbackground": true,
            "ticks": "",
            "zerolinecolor": "white"
           },
           "zaxis": {
            "backgroundcolor": "#E5ECF6",
            "gridcolor": "white",
            "gridwidth": 2,
            "linecolor": "white",
            "showbackground": true,
            "ticks": "",
            "zerolinecolor": "white"
           }
          },
          "shapedefaults": {
           "line": {
            "color": "#2a3f5f"
           }
          },
          "ternary": {
           "aaxis": {
            "gridcolor": "white",
            "linecolor": "white",
            "ticks": ""
           },
           "baxis": {
            "gridcolor": "white",
            "linecolor": "white",
            "ticks": ""
           },
           "bgcolor": "#E5ECF6",
           "caxis": {
            "gridcolor": "white",
            "linecolor": "white",
            "ticks": ""
           }
          },
          "title": {
           "x": 0.05
          },
          "xaxis": {
           "automargin": true,
           "gridcolor": "white",
           "linecolor": "white",
           "ticks": "",
           "title": {
            "standoff": 15
           },
           "zerolinecolor": "white",
           "zerolinewidth": 2
          },
          "yaxis": {
           "automargin": true,
           "gridcolor": "white",
           "linecolor": "white",
           "ticks": "",
           "title": {
            "standoff": 15
           },
           "zerolinecolor": "white",
           "zerolinewidth": 2
          }
         }
        },
        "title": {
         "text": "Proporcion de electricidad de fuentes renovables vs fuente nuclear"
        },
        "xaxis": {
         "anchor": "y",
         "domain": [
          0,
          1
         ],
         "title": {
          "text": "Porcentaje de fuente nuclear"
         }
        },
        "yaxis": {
         "anchor": "x",
         "domain": [
          0,
          1
         ],
         "title": {
          "text": "Porcentaje de fuente renovable"
         }
        }
       }
      }
     },
     "metadata": {},
     "output_type": "display_data"
    }
   ],
   "source": [
    "fig = px.scatter(x=df[\"nuclear_share_elec\"], y=df[\"renewables_share_elec\"], color=df['cluster'])\n",
    "fig.update_layout(xaxis_title=\"Porcentaje de fuente nuclear\",yaxis_title=\"Porcentaje de fuente renovable\",)\n",
    "fig.update_layout(title=\"Proporcion de electricidad de fuentes renovables vs fuente nuclear\",)\n",
    "fig.show()"
   ]
  },
  {
   "cell_type": "markdown",
   "metadata": {},
   "source": [
    "### Países no agrupados: \"cluster -1\" "
   ]
  },
  {
   "cell_type": "markdown",
   "metadata": {},
   "source": [
    "Los países ubicados en el cluster -1 corresponden a aquellos que no han podido ser incluidos en ningún otro cluster. Estos puntos formarían entonces parte del \"ruido\" del modelo. Sin embargo, al observar la forma particular de los datos, vemos que los que no han podido ser agrupados corresponden a los puntos que se desvían de la recta, que son los países que obtienen cierto porcentaje de su consumo eléctrico de fuentes nucleares. <br>\n",
    "Esto podemos corroborarlo observando el grafico de Proporción de electricidad de fuentes renovables vs fuente nuclear. Asimismo, a continuación se muestra que de los 15 países con mayor porcentaje de electricidad de fuente nuclear, todos fueron asignados al cluster -1. "
   ]
  },
  {
   "cell_type": "code",
   "execution_count": 83,
   "metadata": {},
   "outputs": [
    {
     "data": {
      "text/html": [
       "<div>\n",
       "<style scoped>\n",
       "    .dataframe tbody tr th:only-of-type {\n",
       "        vertical-align: middle;\n",
       "    }\n",
       "\n",
       "    .dataframe tbody tr th {\n",
       "        vertical-align: top;\n",
       "    }\n",
       "\n",
       "    .dataframe thead th {\n",
       "        text-align: right;\n",
       "    }\n",
       "</style>\n",
       "<table border=\"1\" class=\"dataframe\">\n",
       "  <thead>\n",
       "    <tr style=\"text-align: right;\">\n",
       "      <th></th>\n",
       "      <th>country</th>\n",
       "      <th>population</th>\n",
       "      <th>low_carbon_share_elec</th>\n",
       "      <th>fossil_share_elec</th>\n",
       "      <th>renewables_share_elec</th>\n",
       "      <th>nuclear_share_elec</th>\n",
       "      <th>fossil_cons_per_capita</th>\n",
       "      <th>per_capita_electricity</th>\n",
       "      <th>continente</th>\n",
       "      <th>iso_code</th>\n",
       "      <th>cluster</th>\n",
       "    </tr>\n",
       "  </thead>\n",
       "  <tbody>\n",
       "    <tr>\n",
       "      <th>192</th>\n",
       "      <td>United Kingdom</td>\n",
       "      <td>65.834556</td>\n",
       "      <td>44.084700</td>\n",
       "      <td>55.915300</td>\n",
       "      <td>24.5374</td>\n",
       "      <td>19.547400</td>\n",
       "      <td>2894.729900</td>\n",
       "      <td>5114.452200</td>\n",
       "      <td>Europa</td>\n",
       "      <td>GBR</td>\n",
       "      <td>-1</td>\n",
       "    </tr>\n",
       "    <tr>\n",
       "      <th>171</th>\n",
       "      <td>Spain</td>\n",
       "      <td>46.804333</td>\n",
       "      <td>57.311600</td>\n",
       "      <td>42.688400</td>\n",
       "      <td>36.3737</td>\n",
       "      <td>20.938000</td>\n",
       "      <td>2533.461000</td>\n",
       "      <td>5918.852400</td>\n",
       "      <td>Europa</td>\n",
       "      <td>ESP</td>\n",
       "      <td>-1</td>\n",
       "    </tr>\n",
       "    <tr>\n",
       "      <th>169</th>\n",
       "      <td>South Korea</td>\n",
       "      <td>50.677778</td>\n",
       "      <td>30.937400</td>\n",
       "      <td>69.062600</td>\n",
       "      <td>3.2709</td>\n",
       "      <td>27.666300</td>\n",
       "      <td>7121.353000</td>\n",
       "      <td>10310.270200</td>\n",
       "      <td>Asia</td>\n",
       "      <td>KOR</td>\n",
       "      <td>-1</td>\n",
       "    </tr>\n",
       "    <tr>\n",
       "      <th>7</th>\n",
       "      <td>Armenia</td>\n",
       "      <td>2.920889</td>\n",
       "      <td>61.522333</td>\n",
       "      <td>38.477667</td>\n",
       "      <td>31.0180</td>\n",
       "      <td>30.504444</td>\n",
       "      <td>962.868444</td>\n",
       "      <td>2498.783333</td>\n",
       "      <td>Asia</td>\n",
       "      <td>ARM</td>\n",
       "      <td>-1</td>\n",
       "    </tr>\n",
       "    <tr>\n",
       "      <th>61</th>\n",
       "      <td>Finland</td>\n",
       "      <td>5.472222</td>\n",
       "      <td>76.270900</td>\n",
       "      <td>23.729100</td>\n",
       "      <td>42.6600</td>\n",
       "      <td>33.610900</td>\n",
       "      <td>3015.997500</td>\n",
       "      <td>12615.648700</td>\n",
       "      <td>Europa</td>\n",
       "      <td>FIN</td>\n",
       "      <td>-1</td>\n",
       "    </tr>\n",
       "    <tr>\n",
       "      <th>47</th>\n",
       "      <td>Czechia</td>\n",
       "      <td>10.615778</td>\n",
       "      <td>44.833600</td>\n",
       "      <td>55.166400</td>\n",
       "      <td>10.7191</td>\n",
       "      <td>34.114600</td>\n",
       "      <td>4402.079900</td>\n",
       "      <td>7977.105300</td>\n",
       "      <td>Europa</td>\n",
       "      <td>CZE</td>\n",
       "      <td>-1</td>\n",
       "    </tr>\n",
       "    <tr>\n",
       "      <th>28</th>\n",
       "      <td>Bulgaria</td>\n",
       "      <td>7.195000</td>\n",
       "      <td>50.194600</td>\n",
       "      <td>49.805400</td>\n",
       "      <td>15.3273</td>\n",
       "      <td>34.867400</td>\n",
       "      <td>3169.401300</td>\n",
       "      <td>6346.629700</td>\n",
       "      <td>Europa</td>\n",
       "      <td>BGR</td>\n",
       "      <td>-1</td>\n",
       "    </tr>\n",
       "    <tr>\n",
       "      <th>176</th>\n",
       "      <td>Switzerland</td>\n",
       "      <td>8.275556</td>\n",
       "      <td>98.881300</td>\n",
       "      <td>1.118700</td>\n",
       "      <td>62.5076</td>\n",
       "      <td>36.373700</td>\n",
       "      <td>87.178500</td>\n",
       "      <td>7826.662900</td>\n",
       "      <td>Europa</td>\n",
       "      <td>CHE</td>\n",
       "      <td>-1</td>\n",
       "    </tr>\n",
       "    <tr>\n",
       "      <th>165</th>\n",
       "      <td>Slovenia</td>\n",
       "      <td>2.068556</td>\n",
       "      <td>67.632200</td>\n",
       "      <td>32.367800</td>\n",
       "      <td>30.9135</td>\n",
       "      <td>36.718600</td>\n",
       "      <td>2505.846100</td>\n",
       "      <td>7762.003600</td>\n",
       "      <td>Europa</td>\n",
       "      <td>SVN</td>\n",
       "      <td>-1</td>\n",
       "    </tr>\n",
       "    <tr>\n",
       "      <th>175</th>\n",
       "      <td>Sweden</td>\n",
       "      <td>9.759333</td>\n",
       "      <td>97.630400</td>\n",
       "      <td>2.369600</td>\n",
       "      <td>58.5124</td>\n",
       "      <td>39.118200</td>\n",
       "      <td>387.715700</td>\n",
       "      <td>16394.511200</td>\n",
       "      <td>Europa</td>\n",
       "      <td>SWE</td>\n",
       "      <td>-1</td>\n",
       "    </tr>\n",
       "    <tr>\n",
       "      <th>17</th>\n",
       "      <td>Belgium</td>\n",
       "      <td>11.284111</td>\n",
       "      <td>64.904400</td>\n",
       "      <td>35.095600</td>\n",
       "      <td>18.0854</td>\n",
       "      <td>46.819000</td>\n",
       "      <td>2502.676700</td>\n",
       "      <td>7162.171700</td>\n",
       "      <td>Europa</td>\n",
       "      <td>BEL</td>\n",
       "      <td>-1</td>\n",
       "    </tr>\n",
       "    <tr>\n",
       "      <th>83</th>\n",
       "      <td>Hungary</td>\n",
       "      <td>9.783667</td>\n",
       "      <td>59.708100</td>\n",
       "      <td>40.291900</td>\n",
       "      <td>10.7023</td>\n",
       "      <td>49.005800</td>\n",
       "      <td>1344.384400</td>\n",
       "      <td>3323.067400</td>\n",
       "      <td>Europa</td>\n",
       "      <td>HUN</td>\n",
       "      <td>-1</td>\n",
       "    </tr>\n",
       "    <tr>\n",
       "      <th>190</th>\n",
       "      <td>Ukraine</td>\n",
       "      <td>44.870778</td>\n",
       "      <td>57.182900</td>\n",
       "      <td>42.817100</td>\n",
       "      <td>6.9941</td>\n",
       "      <td>50.188900</td>\n",
       "      <td>1547.859500</td>\n",
       "      <td>3578.165400</td>\n",
       "      <td>Europa</td>\n",
       "      <td>UKR</td>\n",
       "      <td>-1</td>\n",
       "    </tr>\n",
       "    <tr>\n",
       "      <th>164</th>\n",
       "      <td>Slovakia</td>\n",
       "      <td>5.434556</td>\n",
       "      <td>78.153300</td>\n",
       "      <td>21.846700</td>\n",
       "      <td>22.7430</td>\n",
       "      <td>55.410200</td>\n",
       "      <td>1110.207800</td>\n",
       "      <td>5073.188800</td>\n",
       "      <td>Europa</td>\n",
       "      <td>SVK</td>\n",
       "      <td>-1</td>\n",
       "    </tr>\n",
       "    <tr>\n",
       "      <th>62</th>\n",
       "      <td>France</td>\n",
       "      <td>64.328778</td>\n",
       "      <td>90.689300</td>\n",
       "      <td>9.310700</td>\n",
       "      <td>17.3772</td>\n",
       "      <td>73.312000</td>\n",
       "      <td>813.809700</td>\n",
       "      <td>8749.002300</td>\n",
       "      <td>Europa</td>\n",
       "      <td>FRA</td>\n",
       "      <td>-1</td>\n",
       "    </tr>\n",
       "  </tbody>\n",
       "</table>\n",
       "</div>"
      ],
      "text/plain": [
       "            country  population  low_carbon_share_elec  fossil_share_elec  renewables_share_elec  nuclear_share_elec  fossil_cons_per_capita  \\\n",
       "192  United Kingdom   65.834556              44.084700          55.915300                24.5374           19.547400             2894.729900   \n",
       "171           Spain   46.804333              57.311600          42.688400                36.3737           20.938000             2533.461000   \n",
       "169     South Korea   50.677778              30.937400          69.062600                 3.2709           27.666300             7121.353000   \n",
       "7           Armenia    2.920889              61.522333          38.477667                31.0180           30.504444              962.868444   \n",
       "61          Finland    5.472222              76.270900          23.729100                42.6600           33.610900             3015.997500   \n",
       "47          Czechia   10.615778              44.833600          55.166400                10.7191           34.114600             4402.079900   \n",
       "28         Bulgaria    7.195000              50.194600          49.805400                15.3273           34.867400             3169.401300   \n",
       "176     Switzerland    8.275556              98.881300           1.118700                62.5076           36.373700               87.178500   \n",
       "165        Slovenia    2.068556              67.632200          32.367800                30.9135           36.718600             2505.846100   \n",
       "175          Sweden    9.759333              97.630400           2.369600                58.5124           39.118200              387.715700   \n",
       "17          Belgium   11.284111              64.904400          35.095600                18.0854           46.819000             2502.676700   \n",
       "83          Hungary    9.783667              59.708100          40.291900                10.7023           49.005800             1344.384400   \n",
       "190         Ukraine   44.870778              57.182900          42.817100                 6.9941           50.188900             1547.859500   \n",
       "164        Slovakia    5.434556              78.153300          21.846700                22.7430           55.410200             1110.207800   \n",
       "62           France   64.328778              90.689300           9.310700                17.3772           73.312000              813.809700   \n",
       "\n",
       "     per_capita_electricity continente iso_code  cluster  \n",
       "192             5114.452200     Europa      GBR       -1  \n",
       "171             5918.852400     Europa      ESP       -1  \n",
       "169            10310.270200       Asia      KOR       -1  \n",
       "7               2498.783333       Asia      ARM       -1  \n",
       "61             12615.648700     Europa      FIN       -1  \n",
       "47              7977.105300     Europa      CZE       -1  \n",
       "28              6346.629700     Europa      BGR       -1  \n",
       "176             7826.662900     Europa      CHE       -1  \n",
       "165             7762.003600     Europa      SVN       -1  \n",
       "175            16394.511200     Europa      SWE       -1  \n",
       "17              7162.171700     Europa      BEL       -1  \n",
       "83              3323.067400     Europa      HUN       -1  \n",
       "190             3578.165400     Europa      UKR       -1  \n",
       "164             5073.188800     Europa      SVK       -1  \n",
       "62              8749.002300     Europa      FRA       -1  "
      ]
     },
     "execution_count": 83,
     "metadata": {},
     "output_type": "execute_result"
    }
   ],
   "source": [
    "df.sort_values(\"nuclear_share_elec\").tail(15)"
   ]
  },
  {
   "cell_type": "code",
   "execution_count": 84,
   "metadata": {},
   "outputs": [
    {
     "data": {
      "text/plain": [
       "1                           Albania\n",
       "18                           Belize\n",
       "21                           Bhutan\n",
       "35         Central African Republic\n",
       "43                       Costa Rica\n",
       "48     Democratic Republic of Congo\n",
       "59                         Ethiopia\n",
       "84                          Iceland\n",
       "99                       Kyrgyzstan\n",
       "103                         Lesotho\n",
       "109                          Malawi\n",
       "123                      Mozambique\n",
       "124                         Namibia\n",
       "126                           Nepal\n",
       "135                          Norway\n",
       "141                        Paraguay\n",
       "179                      Tajikistan\n",
       "189                          Uganda\n",
       "195                         Uruguay\n",
       "201                          Zambia\n",
       "Name: country, dtype: object"
      ]
     },
     "execution_count": 84,
     "metadata": {},
     "output_type": "execute_result"
    }
   ],
   "source": [
    "cluster0 = df.loc[df[\"cluster\"] == 0, \"country\"]\n",
    "cluster0"
   ]
  },
  {
   "cell_type": "code",
   "execution_count": 85,
   "metadata": {},
   "outputs": [
    {
     "data": {
      "text/plain": [
       "2                               Algeria\n",
       "3                        American Samoa\n",
       "5                   Antigua and Barbuda\n",
       "8                                 Aruba\n",
       "9                             Australia\n",
       "11                           Azerbaijan\n",
       "12                              Bahamas\n",
       "13                              Bahrain\n",
       "14                           Bangladesh\n",
       "15                             Barbados\n",
       "16                              Belarus\n",
       "19                                Benin\n",
       "20                              Bermuda\n",
       "24                             Botswana\n",
       "26               British Virgin Islands\n",
       "27                               Brunei\n",
       "29                         Burkina Faso\n",
       "34                       Cayman Islands\n",
       "36                                 Chad\n",
       "40                              Comoros\n",
       "42                         Cook Islands\n",
       "45                                 Cuba\n",
       "46                               Cyprus\n",
       "50                             Djibouti\n",
       "52                   Dominican Republic\n",
       "54                                Egypt\n",
       "57                              Eritrea\n",
       "58                              Estonia\n",
       "66                               Gambia\n",
       "70                            Gibraltar\n",
       "73                              Grenada\n",
       "74                           Guadeloupe\n",
       "75                                 Guam\n",
       "78                        Guinea-Bissau\n",
       "79                               Guyana\n",
       "80                                Haiti\n",
       "82                            Hong Kong\n",
       "86                            Indonesia\n",
       "87                                 Iran\n",
       "88                                 Iraq\n",
       "90                               Israel\n",
       "92                              Jamaica\n",
       "94                               Jordan\n",
       "95                           Kazakhstan\n",
       "97                             Kiribati\n",
       "98                               Kuwait\n",
       "102                             Lebanon\n",
       "104                             Liberia\n",
       "105                               Libya\n",
       "110                            Malaysia\n",
       "111                            Maldives\n",
       "113                               Malta\n",
       "114                          Martinique\n",
       "118                             Moldova\n",
       "119                            Mongolia\n",
       "121                          Montserrat\n",
       "122                             Morocco\n",
       "125                               Nauru\n",
       "128                       New Caledonia\n",
       "131                               Niger\n",
       "133                                Niue\n",
       "136                                Oman\n",
       "138                           Palestine\n",
       "144                              Poland\n",
       "146                         Puerto Rico\n",
       "147                               Qatar\n",
       "151                        Saint Helena\n",
       "152               Saint Kitts and Nevis\n",
       "153                         Saint Lucia\n",
       "154           Saint Pierre and Miquelon\n",
       "155    Saint Vincent and the Grenadines\n",
       "157               Sao Tome and Principe\n",
       "158                        Saudi Arabia\n",
       "159                             Senegal\n",
       "161                          Seychelles\n",
       "163                           Singapore\n",
       "166                     Solomon Islands\n",
       "167                             Somalia\n",
       "170                         South Sudan\n",
       "177                               Syria\n",
       "181                            Thailand\n",
       "183                               Tonga\n",
       "184                 Trinidad and Tobago\n",
       "185                             Tunisia\n",
       "187                        Turkmenistan\n",
       "188            Turks and Caicos Islands\n",
       "191                United Arab Emirates\n",
       "194        United States Virgin Islands\n",
       "196                          Uzbekistan\n",
       "197                             Vanuatu\n",
       "200                               Yemen\n",
       "Name: country, dtype: object"
      ]
     },
     "execution_count": 85,
     "metadata": {},
     "output_type": "execute_result"
    }
   ],
   "source": [
    "cluster1 = df.loc[df[\"cluster\"] == 1, \"country\"]\n",
    "cluster1"
   ]
  },
  {
   "cell_type": "code",
   "execution_count": 86,
   "metadata": {},
   "outputs": [
    {
     "data": {
      "text/plain": [
       "4             Angola\n",
       "32          Cameroon\n",
       "44           Croatia\n",
       "49           Denmark\n",
       "53           Ecuador\n",
       "55       El Salvador\n",
       "60              Fiji\n",
       "63     French Guiana\n",
       "69             Ghana\n",
       "76         Guatemala\n",
       "77            Guinea\n",
       "81          Honduras\n",
       "101           Latvia\n",
       "106        Lithuania\n",
       "112             Mali\n",
       "120       Montenegro\n",
       "130        Nicaragua\n",
       "139           Panama\n",
       "142             Peru\n",
       "145         Portugal\n",
       "150           Rwanda\n",
       "162     Sierra Leone\n",
       "173            Sudan\n",
       "198        Venezuela\n",
       "202         Zimbabwe\n",
       "Name: country, dtype: object"
      ]
     },
     "execution_count": 86,
     "metadata": {},
     "output_type": "execute_result"
    }
   ],
   "source": [
    "cluster2 = df.loc[df[\"cluster\"] == 2, \"country\"]\n",
    "cluster2"
   ]
  },
  {
   "cell_type": "code",
   "execution_count": 87,
   "metadata": {},
   "outputs": [
    {
     "data": {
      "text/plain": [
       "22                    Bolivia\n",
       "23     Bosnia and Herzegovina\n",
       "31                   Cambodia\n",
       "37                      Chile\n",
       "41                      Congo\n",
       "51                   Dominica\n",
       "56          Equatorial Guinea\n",
       "64           French Polynesia\n",
       "65                      Gabon\n",
       "71                     Greece\n",
       "89                    Ireland\n",
       "91                      Italy\n",
       "107                Luxembourg\n",
       "108                Madagascar\n",
       "115                Mauritania\n",
       "140          Papua New Guinea\n",
       "143               Philippines\n",
       "156                     Samoa\n",
       "160                    Serbia\n",
       "172                 Sri Lanka\n",
       "174                  Suriname\n",
       "180                  Tanzania\n",
       "182                      Togo\n",
       "186                    Turkey\n",
       "199                   Vietnam\n",
       "Name: country, dtype: object"
      ]
     },
     "execution_count": 87,
     "metadata": {},
     "output_type": "execute_result"
    }
   ],
   "source": [
    "cluster3 = df.loc[df[\"cluster\"] == 3, \"country\"]\n",
    "cluster3"
   ]
  },
  {
   "cell_type": "code",
   "execution_count": 88,
   "metadata": {},
   "outputs": [
    {
     "data": {
      "text/plain": [
       "0      Afghanistan\n",
       "10         Austria\n",
       "30         Burundi\n",
       "39        Colombia\n",
       "67         Georgia\n",
       "72       Greenland\n",
       "96           Kenya\n",
       "100           Laos\n",
       "129    New Zealand\n",
       "134    North Korea\n",
       "Name: country, dtype: object"
      ]
     },
     "execution_count": 88,
     "metadata": {},
     "output_type": "execute_result"
    }
   ],
   "source": [
    "cluster4 = df.loc[df[\"cluster\"] == 4, \"country\"]\n",
    "cluster4"
   ]
  },
  {
   "cell_type": "code",
   "execution_count": 89,
   "metadata": {},
   "outputs": [
    {
     "data": {
      "text/plain": [
       "6           Argentina\n",
       "7             Armenia\n",
       "17            Belgium\n",
       "25             Brazil\n",
       "28           Bulgaria\n",
       "33             Canada\n",
       "38              China\n",
       "47            Czechia\n",
       "61            Finland\n",
       "62             France\n",
       "68            Germany\n",
       "83            Hungary\n",
       "85              India\n",
       "93              Japan\n",
       "116         Mauritius\n",
       "117            Mexico\n",
       "127       Netherlands\n",
       "132           Nigeria\n",
       "137          Pakistan\n",
       "148           Romania\n",
       "149            Russia\n",
       "164          Slovakia\n",
       "165          Slovenia\n",
       "168      South Africa\n",
       "169       South Korea\n",
       "171             Spain\n",
       "175            Sweden\n",
       "176       Switzerland\n",
       "178            Taiwan\n",
       "190           Ukraine\n",
       "192    United Kingdom\n",
       "193     United States\n",
       "Name: country, dtype: object"
      ]
     },
     "execution_count": 89,
     "metadata": {},
     "output_type": "execute_result"
    }
   ],
   "source": [
    "no_agrup = df.loc[df[\"cluster\"] == -1, \"country\"]\n",
    "no_agrup"
   ]
  },
  {
   "cell_type": "code",
   "execution_count": 90,
   "metadata": {},
   "outputs": [],
   "source": [
    "df.to_csv(\"../datasets/df\", index= False)"
   ]
  },
  {
   "cell_type": "markdown",
   "metadata": {},
   "source": [
    "### En Sudamérica:"
   ]
  },
  {
   "cell_type": "code",
   "execution_count": 91,
   "metadata": {},
   "outputs": [],
   "source": [
    "suram = df[df[\"continente\"] == \"Sudamérica\"]"
   ]
  },
  {
   "cell_type": "code",
   "execution_count": 92,
   "metadata": {},
   "outputs": [
    {
     "data": {
      "text/html": [
       "<div>\n",
       "<style scoped>\n",
       "    .dataframe tbody tr th:only-of-type {\n",
       "        vertical-align: middle;\n",
       "    }\n",
       "\n",
       "    .dataframe tbody tr th {\n",
       "        vertical-align: top;\n",
       "    }\n",
       "\n",
       "    .dataframe thead th {\n",
       "        text-align: right;\n",
       "    }\n",
       "</style>\n",
       "<table border=\"1\" class=\"dataframe\">\n",
       "  <thead>\n",
       "    <tr style=\"text-align: right;\">\n",
       "      <th></th>\n",
       "      <th>country</th>\n",
       "      <th>population</th>\n",
       "      <th>fossil_share_elec</th>\n",
       "      <th>renewables_share_elec</th>\n",
       "      <th>nuclear_share_elec</th>\n",
       "      <th>cluster</th>\n",
       "    </tr>\n",
       "  </thead>\n",
       "  <tbody>\n",
       "    <tr>\n",
       "      <th>22</th>\n",
       "      <td>Bolivia</td>\n",
       "      <td>10.866778</td>\n",
       "      <td>68.279000</td>\n",
       "      <td>31.721000</td>\n",
       "      <td>0.0000</td>\n",
       "      <td>3</td>\n",
       "    </tr>\n",
       "    <tr>\n",
       "      <th>37</th>\n",
       "      <td>Chile</td>\n",
       "      <td>18.032667</td>\n",
       "      <td>56.297100</td>\n",
       "      <td>43.702900</td>\n",
       "      <td>0.0000</td>\n",
       "      <td>3</td>\n",
       "    </tr>\n",
       "    <tr>\n",
       "      <th>39</th>\n",
       "      <td>Colombia</td>\n",
       "      <td>47.756444</td>\n",
       "      <td>26.210300</td>\n",
       "      <td>73.789700</td>\n",
       "      <td>0.0000</td>\n",
       "      <td>4</td>\n",
       "    </tr>\n",
       "    <tr>\n",
       "      <th>53</th>\n",
       "      <td>Ecuador</td>\n",
       "      <td>16.258111</td>\n",
       "      <td>38.180889</td>\n",
       "      <td>61.819111</td>\n",
       "      <td>0.0000</td>\n",
       "      <td>2</td>\n",
       "    </tr>\n",
       "    <tr>\n",
       "      <th>63</th>\n",
       "      <td>French Guiana</td>\n",
       "      <td>0.262667</td>\n",
       "      <td>39.605667</td>\n",
       "      <td>60.394333</td>\n",
       "      <td>0.0000</td>\n",
       "      <td>2</td>\n",
       "    </tr>\n",
       "    <tr>\n",
       "      <th>79</th>\n",
       "      <td>Guyana</td>\n",
       "      <td>0.767111</td>\n",
       "      <td>97.984000</td>\n",
       "      <td>2.016000</td>\n",
       "      <td>0.0000</td>\n",
       "      <td>1</td>\n",
       "    </tr>\n",
       "    <tr>\n",
       "      <th>141</th>\n",
       "      <td>Paraguay</td>\n",
       "      <td>6.689000</td>\n",
       "      <td>0.003889</td>\n",
       "      <td>99.996111</td>\n",
       "      <td>0.0000</td>\n",
       "      <td>0</td>\n",
       "    </tr>\n",
       "    <tr>\n",
       "      <th>142</th>\n",
       "      <td>Peru</td>\n",
       "      <td>30.663889</td>\n",
       "      <td>42.250600</td>\n",
       "      <td>57.749400</td>\n",
       "      <td>0.0000</td>\n",
       "      <td>2</td>\n",
       "    </tr>\n",
       "    <tr>\n",
       "      <th>174</th>\n",
       "      <td>Suriname</td>\n",
       "      <td>0.558667</td>\n",
       "      <td>55.224222</td>\n",
       "      <td>44.775778</td>\n",
       "      <td>0.0000</td>\n",
       "      <td>3</td>\n",
       "    </tr>\n",
       "    <tr>\n",
       "      <th>184</th>\n",
       "      <td>Trinidad and Tobago</td>\n",
       "      <td>1.368222</td>\n",
       "      <td>99.948778</td>\n",
       "      <td>0.051222</td>\n",
       "      <td>0.0000</td>\n",
       "      <td>1</td>\n",
       "    </tr>\n",
       "    <tr>\n",
       "      <th>195</th>\n",
       "      <td>Uruguay</td>\n",
       "      <td>3.413444</td>\n",
       "      <td>10.334900</td>\n",
       "      <td>89.665100</td>\n",
       "      <td>0.0000</td>\n",
       "      <td>0</td>\n",
       "    </tr>\n",
       "    <tr>\n",
       "      <th>198</th>\n",
       "      <td>Venezuela</td>\n",
       "      <td>29.423444</td>\n",
       "      <td>36.371556</td>\n",
       "      <td>63.628444</td>\n",
       "      <td>0.0000</td>\n",
       "      <td>2</td>\n",
       "    </tr>\n",
       "    <tr>\n",
       "      <th>25</th>\n",
       "      <td>Brazil</td>\n",
       "      <td>204.398891</td>\n",
       "      <td>16.467200</td>\n",
       "      <td>80.964000</td>\n",
       "      <td>2.5686</td>\n",
       "      <td>-1</td>\n",
       "    </tr>\n",
       "    <tr>\n",
       "      <th>6</th>\n",
       "      <td>Argentina</td>\n",
       "      <td>43.063444</td>\n",
       "      <td>70.033700</td>\n",
       "      <td>24.956500</td>\n",
       "      <td>5.0098</td>\n",
       "      <td>-1</td>\n",
       "    </tr>\n",
       "  </tbody>\n",
       "</table>\n",
       "</div>"
      ],
      "text/plain": [
       "                 country  population  fossil_share_elec  renewables_share_elec  nuclear_share_elec  cluster\n",
       "22               Bolivia   10.866778          68.279000              31.721000              0.0000        3\n",
       "37                 Chile   18.032667          56.297100              43.702900              0.0000        3\n",
       "39              Colombia   47.756444          26.210300              73.789700              0.0000        4\n",
       "53               Ecuador   16.258111          38.180889              61.819111              0.0000        2\n",
       "63         French Guiana    0.262667          39.605667              60.394333              0.0000        2\n",
       "79                Guyana    0.767111          97.984000               2.016000              0.0000        1\n",
       "141             Paraguay    6.689000           0.003889              99.996111              0.0000        0\n",
       "142                 Peru   30.663889          42.250600              57.749400              0.0000        2\n",
       "174             Suriname    0.558667          55.224222              44.775778              0.0000        3\n",
       "184  Trinidad and Tobago    1.368222          99.948778               0.051222              0.0000        1\n",
       "195              Uruguay    3.413444          10.334900              89.665100              0.0000        0\n",
       "198            Venezuela   29.423444          36.371556              63.628444              0.0000        2\n",
       "25                Brazil  204.398891          16.467200              80.964000              2.5686       -1\n",
       "6              Argentina   43.063444          70.033700              24.956500              5.0098       -1"
      ]
     },
     "execution_count": 92,
     "metadata": {},
     "output_type": "execute_result"
    }
   ],
   "source": [
    "suram.sort_values(\"nuclear_share_elec\").drop([\"low_carbon_share_elec\", \"fossil_cons_per_capita\", \"continente\", \"iso_code\", \"per_capita_electricity\"],axis=1)"
   ]
  },
  {
   "cell_type": "markdown",
   "metadata": {},
   "source": [
    "A continuación graficamos todos los países del mundo y destacamos la posición de los países de sudamérica, para observarlos en el panorama mundial. "
   ]
  },
  {
   "cell_type": "code",
   "execution_count": 93,
   "metadata": {},
   "outputs": [
    {
     "data": {
      "image/png": "[encoded data removed]",
      "text/plain": [
       "<Figure size 1500x1500 with 1 Axes>"
      ]
     },
     "metadata": {},
     "output_type": "display_data"
    }
   ],
   "source": [
    "import matplotlib.pyplot as plt\n",
    "from mpl_toolkits.mplot3d import Axes3D\n",
    "\n",
    "fig = plt.figure(figsize=(15, 15))\n",
    "ax = fig.add_subplot(111, projection='3d')\n",
    "\n",
    "scatter = ax.scatter(df['renewables_share_elec'], df['fossil_share_elec'], df['nuclear_share_elec'],\n",
    "                     c=df['cluster'], cmap='viridis', s=25)\n",
    "\n",
    "# Iterar a través de cada punto y agregar el texto correspondiente\n",
    "for country, x, y, z in zip(suram['country'], suram['renewables_share_elec'], suram['fossil_share_elec'], suram['nuclear_share_elec']):\n",
    "    ax.text(x, y, z, country, fontsize=10)\n",
    "ax.set_xlabel('Pocentaje renovables', fontsize=15)\n",
    "ax.set_ylabel('Porcentaje fósil', fontsize=15)\n",
    "ax.set_zlabel('Porcetaje nuclear', fontsize=15)\n",
    "ax.set_title('Países de sudamerica en el panorama mundial', fontsize=25)\n",
    "ax.set_zlim(0, 60)\n",
    "legend = ax.legend(*scatter.legend_elements(), title=\"Clusters\")\n",
    "ax.add_artist(legend)\n",
    "plt.show()"
   ]
  },
  {
   "cell_type": "markdown",
   "metadata": {},
   "source": [
    "Observamos que los países de Sudamérica presentan diversidad de perfiles energéticos, con países agrupados en cada uno de los clusters arrojados por el modelo. En un extremo, países como Paraguay y Uruguay muestran gran independencia de los combustibles fósiles para electricidad. En el otro, países como Trinidad y Tobago y Granada muestran total dependencia de los combustibles fósiles. "
   ]
  },
  {
   "cell_type": "markdown",
   "metadata": {},
   "source": [
    "Argentina se ubica en el cluster -1. Desarrollo incipiente de energía nuclear para electricidad. "
   ]
  },
  {
   "cell_type": "markdown",
   "metadata": {},
   "source": [
    "## 6. Conclusiones"
   ]
  },
  {
   "cell_type": "markdown",
   "metadata": {},
   "source": [
    "Podemos concluir que el algoritmo de DBSCAN nos permitió agrupar a los países del mundo según las distintas fuentes de las que obtienen electricidad para abastecer de electricidad a la población y la industria. \n",
    "<br> - Este agrupamiento arroja información sobre el nivel de dependencia que tiene cada país de las fuentes fósiles, pudiendo ir desde fuertemente dependiente hasta virtualmente independiente de las mismas. \n",
    "<br> - Las mayoría de los países que está en camino a lograr independencia de las fuentes fósiles lo logra a través de las fuentes de electricidad renovables (hidroeléctrica, solar, eólica, etc.) mientras que algunos pocos países lo logran a través de la electricidad de fuente nuclear. "
   ]
  },
  {
   "cell_type": "markdown",
   "metadata": {},
   "source": [
    "Es importante destacar que la electricidad consumida por un país es solo una parte de su consumo energético total, que también comprende el consumo de energía para transporte (mayoritariamente combustibles como nafta, gas y gasoil) y calefacción (que incluye combustibles como gas y kerosene). Los consumos para transporte y calefacción son más difíciles de independizar de fuentes fósiles que el consumo para electricidad, por lo que debe considerarse el perfil energético completo para sacar conclusiones sobre el nivel integral de dependencia de fuentes fósiles de cada país. "
   ]
  },
  {
   "cell_type": "markdown",
   "metadata": {},
   "source": [
    "## Producción de energías renovables"
   ]
  },
  {
   "cell_type": "code",
   "execution_count": 94,
   "metadata": {},
   "outputs": [],
   "source": [
    "wec = pd.read_csv(r'../datasets/wec_s.csv')  \n",
    "wec = wec[(wec['year'] > 2010)]"
   ]
  },
  {
   "cell_type": "code",
   "execution_count": 95,
   "metadata": {},
   "outputs": [
    {
     "data": {
      "text/html": [
       "<div>\n",
       "<style scoped>\n",
       "    .dataframe tbody tr th:only-of-type {\n",
       "        vertical-align: middle;\n",
       "    }\n",
       "\n",
       "    .dataframe tbody tr th {\n",
       "        vertical-align: top;\n",
       "    }\n",
       "\n",
       "    .dataframe thead th {\n",
       "        text-align: right;\n",
       "    }\n",
       "</style>\n",
       "<table border=\"1\" class=\"dataframe\">\n",
       "  <thead>\n",
       "    <tr style=\"text-align: right;\">\n",
       "      <th></th>\n",
       "      <th>country</th>\n",
       "      <th>continente</th>\n",
       "      <th>year</th>\n",
       "      <th>population</th>\n",
       "      <th>renewables_electricity</th>\n",
       "      <th>nuclear_electricity</th>\n",
       "      <th>low_carbon_electricity</th>\n",
       "    </tr>\n",
       "  </thead>\n",
       "  <tbody>\n",
       "    <tr>\n",
       "      <th>111</th>\n",
       "      <td>Afghanistan</td>\n",
       "      <td>Asia</td>\n",
       "      <td>2011</td>\n",
       "      <td>30.117</td>\n",
       "      <td>0.595</td>\n",
       "      <td>0.0</td>\n",
       "      <td>0.595</td>\n",
       "    </tr>\n",
       "    <tr>\n",
       "      <th>112</th>\n",
       "      <td>Afghanistan</td>\n",
       "      <td>Asia</td>\n",
       "      <td>2012</td>\n",
       "      <td>31.161</td>\n",
       "      <td>0.738</td>\n",
       "      <td>0.0</td>\n",
       "      <td>0.738</td>\n",
       "    </tr>\n",
       "    <tr>\n",
       "      <th>113</th>\n",
       "      <td>Afghanistan</td>\n",
       "      <td>Asia</td>\n",
       "      <td>2013</td>\n",
       "      <td>32.270</td>\n",
       "      <td>0.885</td>\n",
       "      <td>0.0</td>\n",
       "      <td>0.885</td>\n",
       "    </tr>\n",
       "    <tr>\n",
       "      <th>114</th>\n",
       "      <td>Afghanistan</td>\n",
       "      <td>Asia</td>\n",
       "      <td>2014</td>\n",
       "      <td>33.371</td>\n",
       "      <td>1.000</td>\n",
       "      <td>0.0</td>\n",
       "      <td>1.000</td>\n",
       "    </tr>\n",
       "    <tr>\n",
       "      <th>115</th>\n",
       "      <td>Afghanistan</td>\n",
       "      <td>Asia</td>\n",
       "      <td>2015</td>\n",
       "      <td>34.414</td>\n",
       "      <td>1.034</td>\n",
       "      <td>0.0</td>\n",
       "      <td>1.034</td>\n",
       "    </tr>\n",
       "  </tbody>\n",
       "</table>\n",
       "</div>"
      ],
      "text/plain": [
       "         country continente  year  population  renewables_electricity  nuclear_electricity  low_carbon_electricity\n",
       "111  Afghanistan       Asia  2011      30.117                   0.595                  0.0                   0.595\n",
       "112  Afghanistan       Asia  2012      31.161                   0.738                  0.0                   0.738\n",
       "113  Afghanistan       Asia  2013      32.270                   0.885                  0.0                   0.885\n",
       "114  Afghanistan       Asia  2014      33.371                   1.000                  0.0                   1.000\n",
       "115  Afghanistan       Asia  2015      34.414                   1.034                  0.0                   1.034"
      ]
     },
     "execution_count": 95,
     "metadata": {},
     "output_type": "execute_result"
    }
   ],
   "source": [
    "features_reg = [\"country\", \"continente\", \"year\", \"population\", \"renewables_electricity\", \"nuclear_electricity\", \"low_carbon_electricity\"]\n",
    "wec = wec[features_reg]\n",
    "wec.head(5)"
   ]
  },
  {
   "cell_type": "code",
   "execution_count": 96,
   "metadata": {},
   "outputs": [
    {
     "data": {
      "text/html": [
       "<div>\n",
       "<style scoped>\n",
       "    .dataframe tbody tr th:only-of-type {\n",
       "        vertical-align: middle;\n",
       "    }\n",
       "\n",
       "    .dataframe tbody tr th {\n",
       "        vertical-align: top;\n",
       "    }\n",
       "\n",
       "    .dataframe thead th {\n",
       "        text-align: right;\n",
       "    }\n",
       "</style>\n",
       "<table border=\"1\" class=\"dataframe\">\n",
       "  <thead>\n",
       "    <tr style=\"text-align: right;\">\n",
       "      <th></th>\n",
       "      <th>country</th>\n",
       "      <th>cluster</th>\n",
       "    </tr>\n",
       "  </thead>\n",
       "  <tbody>\n",
       "    <tr>\n",
       "      <th>0</th>\n",
       "      <td>Afghanistan</td>\n",
       "      <td>4</td>\n",
       "    </tr>\n",
       "    <tr>\n",
       "      <th>1</th>\n",
       "      <td>Albania</td>\n",
       "      <td>0</td>\n",
       "    </tr>\n",
       "    <tr>\n",
       "      <th>2</th>\n",
       "      <td>Algeria</td>\n",
       "      <td>1</td>\n",
       "    </tr>\n",
       "    <tr>\n",
       "      <th>3</th>\n",
       "      <td>American Samoa</td>\n",
       "      <td>1</td>\n",
       "    </tr>\n",
       "    <tr>\n",
       "      <th>4</th>\n",
       "      <td>Angola</td>\n",
       "      <td>2</td>\n",
       "    </tr>\n",
       "    <tr>\n",
       "      <th>5</th>\n",
       "      <td>Antigua and Barbuda</td>\n",
       "      <td>1</td>\n",
       "    </tr>\n",
       "  </tbody>\n",
       "</table>\n",
       "</div>"
      ],
      "text/plain": [
       "               country  cluster\n",
       "0          Afghanistan        4\n",
       "1              Albania        0\n",
       "2              Algeria        1\n",
       "3       American Samoa        1\n",
       "4               Angola        2\n",
       "5  Antigua and Barbuda        1"
      ]
     },
     "execution_count": 96,
     "metadata": {},
     "output_type": "execute_result"
    }
   ],
   "source": [
    "col_pais_cluster = [\"country\", \"cluster\"]\n",
    "pais_cluster = df[col_pais_cluster]\n",
    "pais_cluster.head(6)"
   ]
  },
  {
   "cell_type": "markdown",
   "metadata": {},
   "source": [
    "Agregamos la columna cluster al dataset de metricas a lo largo de los años. "
   ]
  },
  {
   "cell_type": "code",
   "execution_count": 97,
   "metadata": {},
   "outputs": [],
   "source": [
    "wec2 = pd.merge(wec, pais_cluster, how = \"left\", on = \"country\")"
   ]
  },
  {
   "cell_type": "markdown",
   "metadata": {},
   "source": [
    "Eliminamos las filas con cluster nulo, ya que corresponden a paises que no pudieron ser incorporados en el clustering por no contar con sus datos en el dataset. "
   ]
  },
  {
   "cell_type": "code",
   "execution_count": 98,
   "metadata": {},
   "outputs": [
    {
     "data": {
      "text/plain": [
       "array(['Cape Verde', \"Cote d'Ivoire\", 'Eswatini', 'Faeroe Islands',\n",
       "       'Kosovo', 'Macau', 'Myanmar', 'Netherlands Antilles',\n",
       "       'North Macedonia', 'Northern Mariana Islands', 'Timor',\n",
       "       'Western Sahara'], dtype=object)"
      ]
     },
     "execution_count": 98,
     "metadata": {},
     "output_type": "execute_result"
    }
   ],
   "source": [
    "filas_nulos_cluster = wec2[wec2[\"cluster\"].isnull()]\n",
    "paises_nulos_cluster = filas_nulos_cluster[\"country\"].unique()\n",
    "paises_nulos_cluster # paises que no participaron del clustering"
   ]
  },
  {
   "cell_type": "code",
   "execution_count": 99,
   "metadata": {},
   "outputs": [],
   "source": [
    "wec2 = wec2[~wec2[\"country\"].isin(paises_nulos_cluster)]"
   ]
  },
  {
   "cell_type": "code",
   "execution_count": 100,
   "metadata": {},
   "outputs": [
    {
     "data": {
      "image/png": "[encoded data removed]",
      "text/plain": [
       "<Figure size 600x300 with 1 Axes>"
      ]
     },
     "metadata": {},
     "output_type": "display_data"
    }
   ],
   "source": [
    "plt.figure(figsize=(6,3))\n",
    "sns.heatmap(wec2.isnull(), cmap='viridis', cbar=False)\n",
    "plt.title('Valores Faltantes en el DataFrame')\n",
    "plt.show()"
   ]
  },
  {
   "cell_type": "code",
   "execution_count": 101,
   "metadata": {},
   "outputs": [],
   "source": [
    "wec2 = wec2.dropna()"
   ]
  },
  {
   "cell_type": "code",
   "execution_count": 102,
   "metadata": {},
   "outputs": [
    {
     "data": {
      "image/png": "[encoded data removed]",
      "text/plain": [
       "<Figure size 600x300 with 1 Axes>"
      ]
     },
     "metadata": {},
     "output_type": "display_data"
    }
   ],
   "source": [
    "plt.figure(figsize=(6,3))\n",
    "sns.heatmap(wec2.isnull(), cmap='viridis', cbar=False)\n",
    "plt.title('Valores Faltantes en el DataFrame')\n",
    "plt.show()"
   ]
  },
  {
   "cell_type": "markdown",
   "metadata": {},
   "source": [
    "Agregamos la columna nivel_ingresos con datos del Banco Mundial. \n",
    "<br> LOW-INCOME ECONOMIES ($1,135 OR LESS), \n",
    "<br>  LOWER-MIDDLE INCOME ECONOMIES ($1,136 TO $4,465), \n",
    "<br> UPPER-MIDDLE-INCOME ECONOMIES ($4,466 TO $13,845),\n",
    "<br> #HIGH-INCOME ECONOMIES ($13,846 OR MORE)\n"
   ]
  },
  {
   "cell_type": "code",
   "execution_count": 103,
   "metadata": {},
   "outputs": [],
   "source": [
    "income_mapping = {\n",
    "    'Afghanistan': 'bajo',    \"North Korea\": 'bajo',    'South Sudan': 'bajo',\n",
    "    'Burkina Faso': 'bajo',    'Liberia': 'bajo',    'Sudan': 'bajo',\n",
    "    'Burundi': 'bajo',    'Madagascar': 'bajo',    'Syria': 'bajo',    'Sao Tome and Principe':'bajo',\t'Central African Republic': 'bajo', 'Saint Helena': 'bajo',\n",
    "    'Malawi': 'bajo',    'Togo': 'bajo',    'Chad': 'bajo',    'Mali': 'bajo',    'Uganda': 'bajo',    'Congo, Dem. Rep': 'bajo',\n",
    "    'Mozambique': 'bajo',    'Yemen': 'bajo',    'Eritrea': 'bajo',    'Niger': 'bajo',    'Ethiopia': 'bajo', 'Palestine': 'bajo',\n",
    "    'Rwanda': 'bajo',    'Gambia': 'bajo',    'Sierra Leone': 'bajo',    'Guinea-Bissau': 'bajo',    'Somalia': 'bajo',\n",
    "    'Angola': 'bajo-medio', 'Jordan': 'bajo-medio', 'Philippines': 'bajo-medio',\n",
    "    'Algeria': 'bajo-medio', 'India': 'bajo-medio', 'Samoa': 'bajo-medio',\n",
    "    'Bangladesh': 'bajo-medio', 'Iran': 'bajo-medio', 'São Tomé and Principe': 'bajo-medio',\n",
    "    'Benin': 'bajo-medio', 'Kenya': 'bajo-medio', 'Senegal': 'bajo-medio',\n",
    "    'Bhutan': 'bajo-medio', 'Kiribati': 'bajo-medio', 'Solomon Islands': 'bajo-medio',\n",
    "    'Bolivia': 'bajo-medio', 'Kyrgyz Republic': 'bajo-medio', 'Sri Lanka': 'bajo-medio',\n",
    "    'Cabo Verde': 'bajo-medio', 'Lao PDR': 'bajo-medio', 'Tanzania': 'bajo-medio',\n",
    "    'Cambodia': 'bajo-medio', 'Lebanon': 'bajo-medio', 'Tajikistan': 'bajo-medio',\n",
    "    'Cameroon': 'bajo-medio', 'Lesotho': 'bajo-medio', 'Timor-Leste': 'bajo-medio',\n",
    "    'Comoros': 'bajo-medio', 'Mauritania': 'bajo-medio', 'Tunisia': 'bajo-medio',\n",
    "    'Democratic Republic of Congo': 'bajo-medio', 'Congo': 'bajo-medio', 'Micronesia, Fed. Sts.': 'bajo-medio', 'Ukraine': 'bajo-medio',\n",
    "    \"Côte d'Ivoire\": 'bajo-medio', 'Mongolia': 'bajo-medio', 'Uzbekistan': 'bajo-medio',\n",
    "    'Djibouti': 'bajo-medio', 'Morocco': 'bajo-medio', 'Vanuatu': 'bajo-medio',\n",
    "    'Egypt': 'bajo-medio', 'Myanmar': 'bajo-medio', 'Vietnam': 'bajo-medio',\n",
    "    'Eswatini': 'bajo-medio', 'Nepal': 'bajo-medio', 'Zambia': 'bajo-medio',\n",
    "    'Ghana': 'bajo-medio', 'Nicaragua': 'bajo-medio', 'Zimbabwe': 'bajo-medio',\n",
    "    'Guinea': 'bajo-medio', 'Nigeria': 'bajo-medio',\n",
    "    'Haiti': 'bajo-medio', 'Pakistan': 'bajo-medio',\n",
    "    'Honduras': 'bajo-medio', 'Kyrgyzstan': 'bajo-medio', 'Papua New Guinea': 'bajo-medio',\n",
    "    'Albania': 'medio-alto', 'Fiji': 'medio-alto', 'North Macedonia': 'medio-alto',\n",
    "    'Argentina': 'medio-alto', 'Gabon': 'medio-alto', 'Palau': 'medio-alto',\n",
    "    'Armenia': 'medio-alto', 'Georgia': 'medio-alto', 'Paraguay': 'medio-alto',\n",
    "    'Azerbaijan': 'medio-alto', 'Grenada': 'medio-alto', 'Peru': 'medio-alto',\n",
    "    'Belarus': 'medio-alto', 'Guatemala': 'medio-alto', 'Russia': 'medio-alto',\n",
    "    'Belize': 'medio-alto', 'Indonesia': 'medio-alto', 'Serbia': 'medio-alto',\n",
    "    'Bosnia and Herzegovina': 'medio-alto', 'Iraq': 'medio-alto', 'South Africa': 'medio-alto',\n",
    "    'Botswana': 'medio-alto', 'Jamaica': 'medio-alto', 'St. Lucia': 'medio-alto',\n",
    "    'Brazil': 'medio-alto', 'Kazakhstan': 'medio-alto', 'St. Vincent and the Grenadines': 'medio-alto',\n",
    "    'Bulgaria': 'medio-alto', 'Kosovo': 'medio-alto', 'Czechia': 'medio-alto','Suriname': 'medio-alto',\n",
    "    'China': 'medio-alto', 'Laos': 'medio-alto','Libya': 'medio-alto', 'Thailand': 'medio-alto',\n",
    "    'Colombia': 'medio-alto', 'Malaysia': 'medio-alto', 'Tonga': 'medio-alto',\n",
    "    'Costa Rica': 'medio-alto', 'Maldives': 'medio-alto', 'Türkiye': 'medio-alto',\n",
    "    'Cuba': 'medio-alto', 'Marshall Islands': 'medio-alto', 'Turkmenistan': 'medio-alto',\n",
    "    'Dominica': 'medio-alto', 'Mauritius': 'medio-alto', 'Tuvalu': 'medio-alto',\n",
    "    'Dominican Republic': 'medio-alto', 'Mexico': 'medio-alto', 'West Bank and Gaza': 'medio-alto',\n",
    "    'El Salvador': 'medio-alto', 'Moldova': 'medio-alto',\n",
    "    'Equatorial Guinea': 'medio-alto', 'Martinique': 'medio-alto', 'Montenegro': 'medio-alto', 'Venezuela': 'medio-alto',\n",
    "    'Ecuador': 'medio-alto', 'Namibia': 'medio-alto', 'Turkey': 'medio-alto',\n",
    "    'American Samoa': 'alto', 'Guadeloupe': 'alto', 'Germany': 'alto', 'Oman': 'alto',\n",
    "    'Andorra': 'alto', 'Gibraltar': 'alto', 'Panama': 'alto',\n",
    "    'Antigua and Barbuda': 'alto', 'Greece': 'alto', 'Poland': 'alto',\n",
    "    'Aruba': 'alto', 'Greenland': 'alto', 'Portugal': 'alto',\n",
    "    'Australia': 'alto', 'Guam': 'alto', 'Puerto Rico': 'alto',\n",
    "    'Austria': 'alto', 'Hong Kong': 'alto', 'Qatar': 'alto',\n",
    "    'Bahamas': 'alto', 'Hungary': 'alto', 'Romania': 'alto',\n",
    "    'Bahrain': 'alto', 'Iceland': 'alto', 'San Marino': 'alto',\n",
    "    'Barbados': 'alto', 'Ireland': 'alto', 'Saudi Arabia': 'alto',\n",
    "    'Belgium': 'alto', 'Isle of Man': 'alto', 'Seychelles': 'alto',\n",
    "    'Bermuda': 'alto', 'Israel': 'alto', 'Singapore': 'alto',\n",
    "    'British Virgin Islands': 'alto', 'Italy': 'alto', 'Sint Maarten (Dutch part)': 'alto',\n",
    "    'Brunei': 'alto', 'Japan': 'alto', 'Slovakia': 'alto',\n",
    "    'Canada': 'alto', 'South Korea': 'alto', 'Slovenia': 'alto',\n",
    "    'Cayman Islands': 'alto', 'Kuwait': 'alto', 'Spain': 'alto',\n",
    "    'Channel Islands': 'alto', 'Cook Islands': 'alto', 'Latvia': 'alto', 'St. Kitts and Nevis': 'alto',\n",
    "    'Chile': 'alto', 'Liechtenstein': 'alto', 'St. Martin (French part)': 'alto',\n",
    "    'Croatia': 'alto', 'Lithuania': 'alto', 'Sweden': 'alto',\n",
    "    'Curaçao': 'alto', 'Luxembourg': 'alto', 'Switzerland': 'alto',\n",
    "    'Cyprus': 'alto', 'Macao SAR, China': 'alto', 'Taiwan': 'alto',\n",
    "    'Czech Republic': 'alto', 'Malta': 'alto', 'Trinidad and Tobago': 'alto',\n",
    "    'Denmark': 'alto', 'Monaco': 'alto', 'Turks and Caicos Islands': 'alto',\n",
    "    'Estonia': 'alto', 'Nauru': 'alto', 'United Arab Emirates': 'alto',\n",
    "    'Faroe Islands': 'alto', 'Netherlands': 'alto', 'United Kingdom': 'alto',\n",
    "    'Finland': 'alto', 'New Caledonia': 'alto', 'Montserrat': 'alto', 'United States': 'alto',\n",
    "    'France': 'alto', 'New Zealand': 'alto', 'Niue': 'alto', 'Uruguay': 'alto',\n",
    "    'French Polynesia': 'alto', 'French Guiana': 'alto', 'Northern Mariana Islands': 'alto', 'United States Virgin Islands': 'alto',\n",
    "    'Guyana': 'alto', 'Norway': 'alto', 'Saint Kitts and Nevis': 'alto', 'Saint Lucia': 'alto', 'Saint Pierre and Miquelon':\t'alto', \n",
    "    'Saint Vincent and the Grenadines':\t'alto'\n",
    "}\n",
    "\n"
   ]
  },
  {
   "cell_type": "code",
   "execution_count": 104,
   "metadata": {},
   "outputs": [],
   "source": [
    "wec2['nivel_ingresos'] = wec2['country'].map(income_mapping)"
   ]
  },
  {
   "cell_type": "code",
   "execution_count": 105,
   "metadata": {},
   "outputs": [],
   "source": [
    "wec2.to_csv(\"../datasets/wec_reg_lineal\", index= False)"
   ]
  }
 ],
 "metadata": {
  "kernelspec": {
   "display_name": "ds-python",
   "language": "python",
   "name": "python3"
  },
  "language_info": {
   "codemirror_mode": {
    "name": "ipython",
    "version": 3
   },
   "file_extension": ".py",
   "mimetype": "text/x-python",
   "name": "python",
   "nbconvert_exporter": "python",
   "pygments_lexer": "ipython3",
   "version": "3.11.3"
  },
  "orig_nbformat": 4
 },
 "nbformat": 4,
 "nbformat_minor": 2
}
