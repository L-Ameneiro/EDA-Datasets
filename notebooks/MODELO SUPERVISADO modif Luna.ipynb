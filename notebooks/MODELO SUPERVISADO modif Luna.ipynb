{
 "cells": [
  {
   "cell_type": "markdown",
   "id": "165fa68d",
   "metadata": {},
   "source": [
    "# MODELO SUPERVISADO "
   ]
  },
  {
   "cell_type": "markdown",
   "metadata": {},
   "source": [
    "##### OBJETIVO: Predecir cuanta energía eólica producirán los países de America del sur en los proximos 5 años "
   ]
  },
  {
   "cell_type": "code",
   "execution_count": 22,
   "id": "5ff491dd",
   "metadata": {},
   "outputs": [],
   "source": [
    "# Se importan las librerías que se utilizarán: \n",
    "import numpy as np\n",
    "import pandas as pd\n",
    "import matplotlib.pyplot as plt\n",
    "import seaborn as sns \n",
    "import matplotlib.cm as cm\n",
    "from sklearn.model_selection import train_test_split\n",
    "from sklearn.linear_model import LinearRegression \n",
    "from sklearn.metrics import r2_score\n",
    "import matplotlib.pyplot as plt \n",
    "from sklearn.ensemble import RandomForestRegressor\n",
    "from sklearn.metrics import mean_absolute_error\n",
    "from sklearn.svm import SVR\n",
    "from sklearn.neighbors import KNeighborsClassifier   #ver porque si no se usa hay que sacarlo\n",
    "from sklearn.model_selection import GridSearchCV\n",
    "import plotly.express as px\n",
    "pd.set_option('display.max_rows', 500)\n",
    "pd.set_option('display.max_columns', 500)\n",
    "pd.set_option('display.width', 150)"
   ]
  },
  {
   "cell_type": "code",
   "execution_count": 3,
   "id": "2bfba850",
   "metadata": {},
   "outputs": [],
   "source": [
    "# Se importa el dataset \n",
    "# suram = pd.read_csv(r'..\\\\datasets\\\\suram1.csv')  "
   ]
  },
  {
   "cell_type": "code",
   "execution_count": 29,
   "id": "c0f3f7b5",
   "metadata": {},
   "outputs": [],
   "source": [
    "wec = pd.read_csv(r'../datasets/wec_s.csv')  "
   ]
  },
  {
   "cell_type": "code",
   "execution_count": 25,
   "id": "4c641eec",
   "metadata": {},
   "outputs": [],
   "source": [
    "# suram = wec[wec[\"continente\"] == \"Sudamérica\"]"
   ]
  },
  {
   "cell_type": "code",
   "execution_count": 31,
   "id": "1e0842b1",
   "metadata": {},
   "outputs": [],
   "source": [
    "wec = wec[(wec['year'] > 2010)]"
   ]
  },
  {
   "cell_type": "code",
   "execution_count": 33,
   "id": "58905802",
   "metadata": {},
   "outputs": [
    {
     "data": {
      "text/plain": [
       "array(['Afghanistan', 'Albania', 'Algeria', 'American Samoa', 'Angola',\n",
       "       'Antigua and Barbuda', 'Argentina', 'Armenia', 'Aruba',\n",
       "       'Australia', 'Austria', 'Azerbaijan', 'Bahamas', 'Bahrain',\n",
       "       'Bangladesh', 'Barbados', 'Belarus', 'Belgium', 'Belize', 'Benin',\n",
       "       'Bermuda', 'Bhutan', 'Bolivia', 'Bosnia and Herzegovina',\n",
       "       'Botswana', 'Brazil', 'British Virgin Islands', 'Brunei',\n",
       "       'Bulgaria', 'Burkina Faso', 'Burundi', 'Cambodia', 'Cameroon',\n",
       "       'Canada', 'Cape Verde', 'Cayman Islands',\n",
       "       'Central African Republic', 'Chad', 'Chile', 'China', 'Colombia',\n",
       "       'Comoros', 'Congo', 'Cook Islands', 'Costa Rica', \"Cote d'Ivoire\",\n",
       "       'Croatia', 'Cuba', 'Cyprus', 'Czechia',\n",
       "       'Democratic Republic of Congo', 'Denmark', 'Djibouti', 'Dominica',\n",
       "       'Dominican Republic', 'Ecuador', 'Egypt', 'El Salvador',\n",
       "       'Equatorial Guinea', 'Eritrea', 'Estonia', 'Eswatini', 'Ethiopia',\n",
       "       'Faeroe Islands', 'Fiji', 'Finland', 'France', 'French Guiana',\n",
       "       'French Polynesia', 'Gabon', 'Gambia', 'Georgia', 'Germany',\n",
       "       'Ghana', 'Gibraltar', 'Greece', 'Greenland', 'Grenada',\n",
       "       'Guadeloupe', 'Guam', 'Guatemala', 'Guinea', 'Guinea-Bissau',\n",
       "       'Guyana', 'Haiti', 'Honduras', 'Hong Kong', 'Hungary', 'Iceland',\n",
       "       'India', 'Indonesia', 'Iran', 'Iraq', 'Ireland', 'Israel', 'Italy',\n",
       "       'Jamaica', 'Japan', 'Jordan', 'Kazakhstan', 'Kenya', 'Kiribati',\n",
       "       'Kosovo', 'Kuwait', 'Kyrgyzstan', 'Laos', 'Latvia', 'Lebanon',\n",
       "       'Lesotho', 'Liberia', 'Libya', 'Lithuania', 'Luxembourg', 'Macau',\n",
       "       'Madagascar', 'Malawi', 'Malaysia', 'Maldives', 'Mali', 'Malta',\n",
       "       'Martinique', 'Mauritania', 'Mauritius', 'Mexico', 'Moldova',\n",
       "       'Mongolia', 'Montenegro', 'Montserrat', 'Morocco', 'Mozambique',\n",
       "       'Myanmar', 'Namibia', 'Nauru', 'Nepal', 'Netherlands',\n",
       "       'Netherlands Antilles', 'New Caledonia', 'New Zealand',\n",
       "       'Nicaragua', 'Niger', 'Nigeria', 'Niue', 'North Korea',\n",
       "       'North Macedonia', 'Northern Mariana Islands', 'Norway', 'Oman',\n",
       "       'Pakistan', 'Palestine', 'Panama', 'Papua New Guinea', 'Paraguay',\n",
       "       'Peru', 'Philippines', 'Poland', 'Portugal', 'Puerto Rico',\n",
       "       'Qatar', 'Romania', 'Russia', 'Rwanda', 'Saint Helena',\n",
       "       'Saint Kitts and Nevis', 'Saint Lucia',\n",
       "       'Saint Pierre and Miquelon', 'Saint Vincent and the Grenadines',\n",
       "       'Samoa', 'Sao Tome and Principe', 'Saudi Arabia', 'Senegal',\n",
       "       'Serbia', 'Seychelles', 'Sierra Leone', 'Singapore', 'Slovakia',\n",
       "       'Slovenia', 'Solomon Islands', 'Somalia', 'South Africa',\n",
       "       'South Korea', 'South Sudan', 'Spain', 'Sri Lanka', 'Sudan',\n",
       "       'Suriname', 'Sweden', 'Switzerland', 'Syria', 'Taiwan',\n",
       "       'Tajikistan', 'Tanzania', 'Thailand', 'Timor', 'Togo', 'Tonga',\n",
       "       'Trinidad and Tobago', 'Tunisia', 'Turkey', 'Turkmenistan',\n",
       "       'Turks and Caicos Islands', 'Uganda', 'Ukraine',\n",
       "       'United Arab Emirates', 'United Kingdom', 'United States',\n",
       "       'United States Virgin Islands', 'Uruguay', 'Uzbekistan', 'Vanuatu',\n",
       "       'Venezuela', 'Vietnam', 'Western Sahara', 'Yemen', 'Zambia',\n",
       "       'Zimbabwe'], dtype=object)"
      ]
     },
     "execution_count": 33,
     "metadata": {},
     "output_type": "execute_result"
    }
   ],
   "source": [
    "# Se consultan los datos únicos que integran la columna country \n",
    "wec['country'].unique() "
   ]
  },
  {
   "cell_type": "code",
   "execution_count": 34,
   "id": "547a5c89",
   "metadata": {},
   "outputs": [
    {
     "data": {
      "text/plain": [
       "biofuel_cons_change_pct                    1769\n",
       "nuclear_cons_change_pct                    1717\n",
       "carbon_intensity_elec                      1705\n",
       "other_renewables_cons_change_pct           1395\n",
       "wind_cons_change_pct                       1394\n",
       "gas_prod_change_pct                        1374\n",
       "coal_prod_change_pct                       1372\n",
       "oil_prod_per_capita                        1371\n",
       "gas_prod_per_capita                        1370\n",
       "oil_prod_change_twh                        1366\n",
       "oil_production                             1365\n",
       "gas_prod_change_twh                        1364\n",
       "gas_production                             1364\n",
       "hydro_cons_change_pct                      1355\n",
       "solar_cons_change_pct                      1329\n",
       "coal_cons_change_pct                       1320\n",
       "oil_prod_change_pct                        1304\n",
       "gas_cons_change_pct                        1301\n",
       "low_carbon_cons_change_pct                 1281\n",
       "renewables_cons_change_pct                 1281\n",
       "low_carbon_energy_per_capita               1274\n",
       "nuclear_cons_change_twh                    1274\n",
       "nuclear_share_energy                       1274\n",
       "nuclear_consumption                        1274\n",
       "hydro_consumption                          1274\n",
       "low_carbon_consumption                     1274\n",
       "low_carbon_cons_change_twh                 1274\n",
       "low_carbon_share_energy                    1274\n",
       "hydro_energy_per_capita                    1274\n",
       "oil_cons_change_pct                        1274\n",
       "hydro_cons_change_twh                      1274\n",
       "wind_consumption                           1274\n",
       "nuclear_energy_per_capita                  1274\n",
       "hydro_share_energy                         1274\n",
       "oil_share_energy                           1274\n",
       "renewables_cons_change_twh                 1274\n",
       "wind_share_energy                          1274\n",
       "solar_energy_per_capita                    1274\n",
       "solar_consumption                          1274\n",
       "solar_cons_change_twh                      1274\n",
       "solar_share_energy                         1274\n",
       "renewables_energy_per_capita               1274\n",
       "renewables_consumption                     1274\n",
       "renewables_share_energy                    1274\n",
       "oil_cons_change_twh                        1274\n",
       "other_renewables_energy_per_capita         1274\n",
       "other_renewable_consumption                1274\n",
       "other_renewables_cons_change_twh           1274\n",
       "other_renewables_share_energy              1274\n",
       "gas_consumption                            1274\n",
       "oil_energy_per_capita                      1274\n",
       "oil_consumption                            1274\n",
       "gas_energy_per_capita                      1274\n",
       "wind_cons_change_twh                       1274\n",
       "gas_cons_change_twh                        1274\n",
       "biofuel_share_energy                       1274\n",
       "gas_share_energy                           1274\n",
       "wind_energy_per_capita                     1274\n",
       "coal_cons_per_capita                       1274\n",
       "coal_consumption                           1274\n",
       "fossil_energy_per_capita                   1274\n",
       "coal_cons_change_twh                       1274\n",
       "fossil_fuel_consumption                    1274\n",
       "fossil_cons_change_twh                     1274\n",
       "coal_share_energy                          1274\n",
       "fossil_share_energy                        1274\n",
       "fossil_cons_change_pct                     1274\n",
       "coal_prod_per_capita                       1085\n",
       "coal_prod_change_twh                       1067\n",
       "coal_production                            1067\n",
       "energy_per_gdp                              992\n",
       "gdp                                         992\n",
       "biofuel_consumption                         966\n",
       "biofuel_cons_per_capita                     966\n",
       "biofuel_cons_change_twh                     966\n",
       "energy_per_capita                           477\n",
       "energy_cons_change_pct                      466\n",
       "energy_cons_change_twh                      460\n",
       "primary_energy_consumption                  459\n",
       "population                                   95\n",
       "gas_elec_per_capita                          81\n",
       "biofuel_elec_per_capita                      81\n",
       "coal_elec_per_capita                         81\n",
       "oil_elec_per_capita                          81\n",
       "fossil_cons_per_capita                       81\n",
       "solar_elec_per_capita                        72\n",
       "wind_elec_per_capita                         72\n",
       "renewables_elec_per_capita                   72\n",
       "per_capita_electricity                       72\n",
       "hydro_elec_per_capita                        72\n",
       "nuclear_elec_per_capita                      72\n",
       "low_carbon_elec_per_capita                   72\n",
       "other_renewables_elec_per_capita             72\n",
       "oil_share_elec                               64\n",
       "coal_share_elec                              64\n",
       "biofuel_share_elec                           64\n",
       "fossil_share_elec                            64\n",
       "gas_share_elec                               64\n",
       "wind_share_elec                              55\n",
       "low_carbon_share_elec                        55\n",
       "solar_share_elec                             55\n",
       "renewables_share_elec                        55\n",
       "hydro_share_elec                             55\n",
       "nuclear_share_elec                           55\n",
       "other_renewables_share_elec                  55\n",
       "coal_electricity                             54\n",
       "other_renewable_exc_biofuel_electricity      54\n",
       "oil_electricity                              54\n",
       "biofuel_electricity                          54\n",
       "gas_electricity                              54\n",
       "fossil_electricity                           54\n",
       "solar_electricity                            45\n",
       "wind_electricity                             45\n",
       "renewables_electricity                       45\n",
       "low_carbon_electricity                       45\n",
       "other_renewable_electricity                  45\n",
       "nuclear_electricity                          45\n",
       "hydro_electricity                            45\n",
       "electricity_generation                       45\n",
       "iso_code                                      0\n",
       "country                                       0\n",
       "year                                          0\n",
       "continente                                    0\n",
       "dtype: int64"
      ]
     },
     "execution_count": 34,
     "metadata": {},
     "output_type": "execute_result"
    }
   ],
   "source": [
    "# Se observan cuántos valores faltantes tiene cada columna del dataframe: (ordenados de mayor a menor), de acuerdo a la columna \n",
    "missing_values = wec.isnull().sum().sort_values(ascending = False) \n",
    "missing_values"
   ]
  },
  {
   "cell_type": "code",
   "execution_count": 13,
   "id": "58b7bc82",
   "metadata": {},
   "outputs": [],
   "source": [
    "suram = suram[suram[\"year\"] > 2011]"
   ]
  },
  {
   "cell_type": "code",
   "execution_count": 36,
   "id": "747d0c6a",
   "metadata": {},
   "outputs": [
    {
     "data": {
      "application/vnd.plotly.v1+json": {
       "config": {
        "plotlyServerURL": "https://plot.ly"
       },
       "data": [
        {
         "hovertemplate": "color=Afghanistan<br>x=%{x}<br>y=%{y}<extra></extra>",
         "legendgroup": "Afghanistan",
         "marker": {
          "color": "#636efa",
          "symbol": "circle"
         },
         "mode": "markers",
         "name": "Afghanistan",
         "showlegend": true,
         "type": "scattergl",
         "x": [
          2011,
          2012,
          2013,
          2014,
          2015,
          2016,
          2017,
          2018,
          2019
         ],
         "xaxis": "x",
         "y": [
          0.595,
          0.738,
          0.885,
          1,
          1.034,
          1.06,
          1.088,
          0.965,
          0.88
         ],
         "yaxis": "y"
        },
        {
         "hovertemplate": "color=Albania<br>x=%{x}<br>y=%{y}<extra></extra>",
         "legendgroup": "Albania",
         "marker": {
          "color": "#EF553B",
          "symbol": "circle"
         },
         "mode": "markers",
         "name": "Albania",
         "showlegend": true,
         "type": "scattergl",
         "x": [
          2011,
          2012,
          2013,
          2014,
          2015,
          2016,
          2017,
          2018,
          2019
         ],
         "xaxis": "x",
         "y": [
          4.091,
          4.679,
          6.89,
          4.678,
          5.837,
          7.706,
          4.481,
          8.467,
          5.176
         ],
         "yaxis": "y"
        },
        {
         "hovertemplate": "color=Algeria<br>x=%{x}<br>y=%{y}<extra></extra>",
         "legendgroup": "Algeria",
         "marker": {
          "color": "#00cc96",
          "symbol": "circle"
         },
         "mode": "markers",
         "name": "Algeria",
         "showlegend": true,
         "type": "scattergl",
         "x": [
          2011,
          2012,
          2013,
          2014,
          2015,
          2016,
          2017,
          2018,
          2019
         ],
         "xaxis": "x",
         "y": [
          0.497,
          0.616,
          0.327,
          0.252,
          0.221,
          0.332,
          0.635,
          0.73,
          0.732
         ],
         "yaxis": "y"
        },
        {
         "hovertemplate": "color=American Samoa<br>x=%{x}<br>y=%{y}<extra></extra>",
         "legendgroup": "American Samoa",
         "marker": {
          "color": "#ab63fa",
          "symbol": "circle"
         },
         "mode": "markers",
         "name": "American Samoa",
         "showlegend": true,
         "type": "scattergl",
         "x": [
          2011,
          2012,
          2013,
          2014,
          2015,
          2016,
          2017,
          2018,
          2019
         ],
         "xaxis": "x",
         "y": [
          0,
          0,
          0,
          0,
          0,
          0,
          0,
          0,
          0
         ],
         "yaxis": "y"
        },
        {
         "hovertemplate": "color=Angola<br>x=%{x}<br>y=%{y}<extra></extra>",
         "legendgroup": "Angola",
         "marker": {
          "color": "#FFA15A",
          "symbol": "circle"
         },
         "mode": "markers",
         "name": "Angola",
         "showlegend": true,
         "type": "scattergl",
         "x": [
          2011,
          2012,
          2013,
          2014,
          2015,
          2016,
          2017,
          2018,
          2019
         ],
         "xaxis": "x",
         "y": [
          3.978,
          3.748,
          4.734,
          5.044,
          5.097,
          5.93,
          7.794,
          8.865,
          10.121
         ],
         "yaxis": "y"
        },
        {
         "hovertemplate": "color=Antigua and Barbuda<br>x=%{x}<br>y=%{y}<extra></extra>",
         "legendgroup": "Antigua and Barbuda",
         "marker": {
          "color": "#19d3f3",
          "symbol": "circle"
         },
         "mode": "markers",
         "name": "Antigua and Barbuda",
         "showlegend": true,
         "type": "scattergl",
         "x": [
          2011,
          2012,
          2013,
          2014,
          2015,
          2016,
          2017,
          2018,
          2019
         ],
         "xaxis": "x",
         "y": [
          0,
          0,
          0.001,
          0.001,
          0.005,
          0.006,
          0.006,
          0.013,
          0.015
         ],
         "yaxis": "y"
        },
        {
         "hovertemplate": "color=Argentina<br>x=%{x}<br>y=%{y}<extra></extra>",
         "legendgroup": "Argentina",
         "marker": {
          "color": "#FF6692",
          "symbol": "circle"
         },
         "mode": "markers",
         "name": "Argentina",
         "showlegend": true,
         "type": "scattergl",
         "x": [
          2011,
          2012,
          2013,
          2014,
          2015,
          2016,
          2017,
          2018,
          2019,
          2020
         ],
         "xaxis": "x",
         "y": [
          32.257,
          30.914,
          34.849,
          33.955,
          33.741,
          31.181,
          33.476,
          34.843,
          34.856,
          33.511
         ],
         "yaxis": "y"
        },
        {
         "hovertemplate": "color=Armenia<br>x=%{x}<br>y=%{y}<extra></extra>",
         "legendgroup": "Armenia",
         "marker": {
          "color": "#B6E880",
          "symbol": "circle"
         },
         "mode": "markers",
         "name": "Armenia",
         "showlegend": true,
         "type": "scattergl",
         "x": [
          2011,
          2012,
          2013,
          2014,
          2015,
          2016,
          2017,
          2018,
          2019
         ],
         "xaxis": "x",
         "y": [
          2.467,
          2.303,
          2.155,
          1.976,
          2.188,
          2.33,
          2.251,
          2.316,
          2.363
         ],
         "yaxis": "y"
        },
        {
         "hovertemplate": "color=Aruba<br>x=%{x}<br>y=%{y}<extra></extra>",
         "legendgroup": "Aruba",
         "marker": {
          "color": "#FF97FF",
          "symbol": "circle"
         },
         "mode": "markers",
         "name": "Aruba",
         "showlegend": true,
         "type": "scattergl",
         "x": [
          2011,
          2012,
          2013,
          2014,
          2015,
          2016,
          2017,
          2018,
          2019
         ],
         "xaxis": "x",
         "y": [
          0.114,
          0.137,
          0.153,
          0.162,
          0.176,
          0.15,
          0.144,
          0.147,
          0.147
         ],
         "yaxis": "y"
        },
        {
         "hovertemplate": "color=Australia<br>x=%{x}<br>y=%{y}<extra></extra>",
         "legendgroup": "Australia",
         "marker": {
          "color": "#FECB52",
          "symbol": "circle"
         },
         "mode": "markers",
         "name": "Australia",
         "showlegend": true,
         "type": "scattergl",
         "x": [
          2011,
          2012,
          2013,
          2014,
          2015,
          2016,
          2017,
          2018,
          2019,
          2020
         ],
         "xaxis": "x",
         "y": [
          26.273,
          26.318,
          32.705,
          36.112,
          33.423,
          37.152,
          40.206,
          44.443,
          54.4,
          62.504
         ],
         "yaxis": "y"
        },
        {
         "hovertemplate": "color=Austria<br>x=%{x}<br>y=%{y}<extra></extra>",
         "legendgroup": "Austria",
         "marker": {
          "color": "#636efa",
          "symbol": "circle"
         },
         "mode": "markers",
         "name": "Austria",
         "showlegend": true,
         "type": "scattergl",
         "x": [
          2011,
          2012,
          2013,
          2014,
          2015,
          2016,
          2017,
          2018,
          2019,
          2020
         ],
         "xaxis": "x",
         "y": [
          40.908,
          51.328,
          50.491,
          50.186,
          47.582,
          51.083,
          51.055,
          50.036,
          55.128,
          55.085
         ],
         "yaxis": "y"
        },
        {
         "hovertemplate": "color=Azerbaijan<br>x=%{x}<br>y=%{y}<extra></extra>",
         "legendgroup": "Azerbaijan",
         "marker": {
          "color": "#EF553B",
          "symbol": "circle"
         },
         "mode": "markers",
         "name": "Azerbaijan",
         "showlegend": true,
         "type": "scattergl",
         "x": [
          2011,
          2012,
          2013,
          2014,
          2015,
          2016,
          2017,
          2018,
          2019,
          2020
         ],
         "xaxis": "x",
         "y": [
          2.649,
          1.803,
          1.61,
          1.466,
          1.813,
          2.171,
          1.958,
          2.033,
          1.884,
          1.884
         ],
         "yaxis": "y"
        },
        {
         "hovertemplate": "color=Bahamas<br>x=%{x}<br>y=%{y}<extra></extra>",
         "legendgroup": "Bahamas",
         "marker": {
          "color": "#00cc96",
          "symbol": "circle"
         },
         "mode": "markers",
         "name": "Bahamas",
         "showlegend": true,
         "type": "scattergl",
         "x": [
          2011,
          2012,
          2013,
          2014,
          2015,
          2016,
          2017,
          2018,
          2019
         ],
         "xaxis": "x",
         "y": [
          0.001,
          0.001,
          0.001,
          0.002,
          0.002,
          0.002,
          0.002,
          0.003,
          0.003
         ],
         "yaxis": "y"
        },
        {
         "hovertemplate": "color=Bahrain<br>x=%{x}<br>y=%{y}<extra></extra>",
         "legendgroup": "Bahrain",
         "marker": {
          "color": "#ab63fa",
          "symbol": "circle"
         },
         "mode": "markers",
         "name": "Bahrain",
         "showlegend": true,
         "type": "scattergl",
         "x": [
          2011,
          2012,
          2013,
          2014,
          2015,
          2016,
          2017,
          2018,
          2019
         ],
         "xaxis": "x",
         "y": [
          0.002,
          0.002,
          0.002,
          0.009,
          0.009,
          0.009,
          0.009,
          0.009,
          0.009
         ],
         "yaxis": "y"
        },
        {
         "hovertemplate": "color=Bangladesh<br>x=%{x}<br>y=%{y}<extra></extra>",
         "legendgroup": "Bangladesh",
         "marker": {
          "color": "#FFA15A",
          "symbol": "circle"
         },
         "mode": "markers",
         "name": "Bangladesh",
         "showlegend": true,
         "type": "scattergl",
         "x": [
          2011,
          2012,
          2013,
          2014,
          2015,
          2016,
          2017,
          2018,
          2019,
          2020
         ],
         "xaxis": "x",
         "y": [
          0.98,
          0.817,
          1.08,
          0.796,
          0.813,
          1.252,
          1.308,
          1.375,
          1.249,
          1.124
         ],
         "yaxis": "y"
        },
        {
         "hovertemplate": "color=Barbados<br>x=%{x}<br>y=%{y}<extra></extra>",
         "legendgroup": "Barbados",
         "marker": {
          "color": "#19d3f3",
          "symbol": "circle"
         },
         "mode": "markers",
         "name": "Barbados",
         "showlegend": true,
         "type": "scattergl",
         "x": [
          2011,
          2012,
          2013,
          2014,
          2015,
          2016,
          2017,
          2018,
          2019
         ],
         "xaxis": "x",
         "y": [
          0.003,
          0.003,
          0.004,
          0.01,
          0.014,
          0.03,
          0.03,
          0.037,
          0.04
         ],
         "yaxis": "y"
        },
        {
         "hovertemplate": "color=Belarus<br>x=%{x}<br>y=%{y}<extra></extra>",
         "legendgroup": "Belarus",
         "marker": {
          "color": "#FF6692",
          "symbol": "circle"
         },
         "mode": "markers",
         "name": "Belarus",
         "showlegend": true,
         "type": "scattergl",
         "x": [
          2011,
          2012,
          2013,
          2014,
          2015,
          2016,
          2017,
          2018,
          2019,
          2020
         ],
         "xaxis": "x",
         "y": [
          0.148,
          0.202,
          0.297,
          0.287,
          0.326,
          0.42,
          0.782,
          0.803,
          1.04,
          1.04
         ],
         "yaxis": "y"
        },
        {
         "hovertemplate": "color=Belgium<br>x=%{x}<br>y=%{y}<extra></extra>",
         "legendgroup": "Belgium",
         "marker": {
          "color": "#B6E880",
          "symbol": "circle"
         },
         "mode": "markers",
         "name": "Belgium",
         "showlegend": true,
         "type": "scattergl",
         "x": [
          2011,
          2012,
          2013,
          2014,
          2015,
          2016,
          2017,
          2018,
          2019,
          2020
         ],
         "xaxis": "x",
         "y": [
          8.353,
          10.438,
          11.657,
          12.254,
          14.499,
          14.339,
          15.857,
          17.139,
          18.765,
          22.442
         ],
         "yaxis": "y"
        },
        {
         "hovertemplate": "color=Belize<br>x=%{x}<br>y=%{y}<extra></extra>",
         "legendgroup": "Belize",
         "marker": {
          "color": "#FF97FF",
          "symbol": "circle"
         },
         "mode": "markers",
         "name": "Belize",
         "showlegend": true,
         "type": "scattergl",
         "x": [
          2011,
          2012,
          2013,
          2014,
          2015,
          2016,
          2017,
          2018,
          2019
         ],
         "xaxis": "x",
         "y": [
          0.339,
          0.302,
          0.336,
          0.354,
          0.358,
          0.377,
          0.389,
          0.386,
          0.438
         ],
         "yaxis": "y"
        },
        {
         "hovertemplate": "color=Benin<br>x=%{x}<br>y=%{y}<extra></extra>",
         "legendgroup": "Benin",
         "marker": {
          "color": "#FECB52",
          "symbol": "circle"
         },
         "mode": "markers",
         "name": "Benin",
         "showlegend": true,
         "type": "scattergl",
         "x": [
          2011,
          2012,
          2013,
          2014,
          2015,
          2016,
          2017,
          2018,
          2019
         ],
         "xaxis": "x",
         "y": [
          0.002,
          0.002,
          0.003,
          0.003,
          0.007,
          0.01,
          0.006,
          0.005,
          0.005
         ],
         "yaxis": "y"
        },
        {
         "hovertemplate": "color=Bermuda<br>x=%{x}<br>y=%{y}<extra></extra>",
         "legendgroup": "Bermuda",
         "marker": {
          "color": "#636efa",
          "symbol": "circle"
         },
         "mode": "markers",
         "name": "Bermuda",
         "showlegend": true,
         "type": "scattergl",
         "x": [
          2011,
          2012,
          2013,
          2014,
          2015,
          2016,
          2017,
          2018,
          2019
         ],
         "xaxis": "x",
         "y": [
          0,
          0,
          0,
          0,
          0,
          0,
          0,
          0,
          0
         ],
         "yaxis": "y"
        },
        {
         "hovertemplate": "color=Bhutan<br>x=%{x}<br>y=%{y}<extra></extra>",
         "legendgroup": "Bhutan",
         "marker": {
          "color": "#EF553B",
          "symbol": "circle"
         },
         "mode": "markers",
         "name": "Bhutan",
         "showlegend": true,
         "type": "scattergl",
         "x": [
          2011,
          2012,
          2013,
          2014,
          2015,
          2016,
          2017,
          2018,
          2019
         ],
         "xaxis": "x",
         "y": [
          6.976,
          6.746,
          7.532,
          7.151,
          7.733,
          7.881,
          7.652,
          6.891,
          6.61
         ],
         "yaxis": "y"
        },
        {
         "hovertemplate": "color=Bolivia<br>x=%{x}<br>y=%{y}<extra></extra>",
         "legendgroup": "Bolivia",
         "marker": {
          "color": "#00cc96",
          "symbol": "circle"
         },
         "mode": "markers",
         "name": "Bolivia",
         "showlegend": true,
         "type": "scattergl",
         "x": [
          2011,
          2012,
          2013,
          2014,
          2015,
          2016,
          2017,
          2018,
          2019,
          2020
         ],
         "xaxis": "x",
         "y": [
          2.412,
          2.413,
          2.604,
          2.33,
          2.659,
          1.926,
          2.421,
          2.968,
          3.748,
          3.5
         ],
         "yaxis": "y"
        },
        {
         "hovertemplate": "color=Bosnia and Herzegovina<br>x=%{x}<br>y=%{y}<extra></extra>",
         "legendgroup": "Bosnia and Herzegovina",
         "marker": {
          "color": "#ab63fa",
          "symbol": "circle"
         },
         "mode": "markers",
         "name": "Bosnia and Herzegovina",
         "showlegend": true,
         "type": "scattergl",
         "x": [
          2011,
          2012,
          2013,
          2014,
          2015,
          2016,
          2017,
          2018,
          2019,
          2020
         ],
         "xaxis": "x",
         "y": [
          4.344,
          4.174,
          7.165,
          5.877,
          5.496,
          5.611,
          3.78,
          6.486,
          6.315,
          5.129
         ],
         "yaxis": "y"
        },
        {
         "hovertemplate": "color=Botswana<br>x=%{x}<br>y=%{y}<extra></extra>",
         "legendgroup": "Botswana",
         "marker": {
          "color": "#FFA15A",
          "symbol": "circle"
         },
         "mode": "markers",
         "name": "Botswana",
         "showlegend": true,
         "type": "scattergl",
         "x": [
          2011,
          2012,
          2013,
          2014,
          2015,
          2016,
          2017,
          2018,
          2019
         ],
         "xaxis": "x",
         "y": [
          0,
          0.001,
          0.002,
          0.003,
          0.003,
          0.005,
          0.005,
          0.005,
          0.005
         ],
         "yaxis": "y"
        },
        {
         "hovertemplate": "color=Brazil<br>x=%{x}<br>y=%{y}<extra></extra>",
         "legendgroup": "Brazil",
         "marker": {
          "color": "#19d3f3",
          "symbol": "circle"
         },
         "mode": "markers",
         "name": "Brazil",
         "showlegend": true,
         "type": "scattergl",
         "x": [
          2011,
          2012,
          2013,
          2014,
          2015,
          2016,
          2017,
          2018,
          2019,
          2020
         ],
         "xaxis": "x",
         "y": [
          459.191,
          451.891,
          434.429,
          428.619,
          427.281,
          461.613,
          462.938,
          490.928,
          511.053,
          510.211
         ],
         "yaxis": "y"
        },
        {
         "hovertemplate": "color=British Virgin Islands<br>x=%{x}<br>y=%{y}<extra></extra>",
         "legendgroup": "British Virgin Islands",
         "marker": {
          "color": "#FF6692",
          "symbol": "circle"
         },
         "mode": "markers",
         "name": "British Virgin Islands",
         "showlegend": true,
         "type": "scattergl",
         "x": [
          2011,
          2012,
          2013,
          2014,
          2015,
          2016,
          2017,
          2018,
          2019
         ],
         "xaxis": "x",
         "y": [
          0.001,
          0.001,
          0.001,
          0.001,
          0.002,
          0.002,
          0.002,
          0.002,
          0.002
         ],
         "yaxis": "y"
        },
        {
         "hovertemplate": "color=Brunei<br>x=%{x}<br>y=%{y}<extra></extra>",
         "legendgroup": "Brunei",
         "marker": {
          "color": "#B6E880",
          "symbol": "circle"
         },
         "mode": "markers",
         "name": "Brunei",
         "showlegend": true,
         "type": "scattergl",
         "x": [
          2011,
          2012,
          2013,
          2014,
          2015,
          2016,
          2017,
          2018,
          2019
         ],
         "xaxis": "x",
         "y": [
          0,
          0.002,
          0.002,
          0.002,
          0.002,
          0.001,
          0.002,
          0.002,
          0.002
         ],
         "yaxis": "y"
        },
        {
         "hovertemplate": "color=Bulgaria<br>x=%{x}<br>y=%{y}<extra></extra>",
         "legendgroup": "Bulgaria",
         "marker": {
          "color": "#FF97FF",
          "symbol": "circle"
         },
         "mode": "markers",
         "name": "Bulgaria",
         "showlegend": true,
         "type": "scattergl",
         "x": [
          2011,
          2012,
          2013,
          2014,
          2015,
          2016,
          2017,
          2018,
          2019,
          2020
         ],
         "xaxis": "x",
         "y": [
          3.889,
          5.278,
          6.882,
          7.385,
          8.76,
          7.045,
          6.131,
          9.3,
          7.173,
          7.497
         ],
         "yaxis": "y"
        },
        {
         "hovertemplate": "color=Burkina Faso<br>x=%{x}<br>y=%{y}<extra></extra>",
         "legendgroup": "Burkina Faso",
         "marker": {
          "color": "#FECB52",
          "symbol": "circle"
         },
         "mode": "markers",
         "name": "Burkina Faso",
         "showlegend": true,
         "type": "scattergl",
         "x": [
          2011,
          2012,
          2013,
          2014,
          2015,
          2016,
          2017,
          2018,
          2019
         ],
         "xaxis": "x",
         "y": [
          0.09,
          0.106,
          0.116,
          0.101,
          0.106,
          0.155,
          0.158,
          0.182,
          0.194
         ],
         "yaxis": "y"
        },
        {
         "hovertemplate": "color=Burundi<br>x=%{x}<br>y=%{y}<extra></extra>",
         "legendgroup": "Burundi",
         "marker": {
          "color": "#636efa",
          "symbol": "circle"
         },
         "mode": "markers",
         "name": "Burundi",
         "showlegend": true,
         "type": "scattergl",
         "x": [
          2011,
          2012,
          2013,
          2014,
          2015,
          2016,
          2017,
          2018,
          2019
         ],
         "xaxis": "x",
         "y": [
          0.135,
          0.147,
          0.148,
          0.15,
          0.147,
          0.155,
          0.2,
          0.164,
          0.234
         ],
         "yaxis": "y"
        },
        {
         "hovertemplate": "color=Cambodia<br>x=%{x}<br>y=%{y}<extra></extra>",
         "legendgroup": "Cambodia",
         "marker": {
          "color": "#EF553B",
          "symbol": "circle"
         },
         "mode": "markers",
         "name": "Cambodia",
         "showlegend": true,
         "type": "scattergl",
         "x": [
          2011,
          2012,
          2013,
          2014,
          2015,
          2016,
          2017,
          2018,
          2019
         ],
         "xaxis": "x",
         "y": [
          0.074,
          0.535,
          1.02,
          1.853,
          2.021,
          2.638,
          2.763,
          4.77,
          4.119
         ],
         "yaxis": "y"
        },
        {
         "hovertemplate": "color=Cameroon<br>x=%{x}<br>y=%{y}<extra></extra>",
         "legendgroup": "Cameroon",
         "marker": {
          "color": "#00cc96",
          "symbol": "circle"
         },
         "mode": "markers",
         "name": "Cameroon",
         "showlegend": true,
         "type": "scattergl",
         "x": [
          2011,
          2012,
          2013,
          2014,
          2015,
          2016,
          2017,
          2018,
          2019
         ],
         "xaxis": "x",
         "y": [
          4.417,
          4.281,
          4.402,
          4.408,
          4.36,
          4.378,
          5.093,
          5.032,
          5.401
         ],
         "yaxis": "y"
        },
        {
         "hovertemplate": "color=Canada<br>x=%{x}<br>y=%{y}<extra></extra>",
         "legendgroup": "Canada",
         "marker": {
          "color": "#ab63fa",
          "symbol": "circle"
         },
         "mode": "markers",
         "name": "Canada",
         "showlegend": true,
         "type": "scattergl",
         "x": [
          2011,
          2012,
          2013,
          2014,
          2015,
          2016,
          2017,
          2018,
          2019,
          2020
         ],
         "xaxis": "x",
         "y": [
          394.433,
          401.106,
          419.705,
          414.21,
          417.339,
          426.154,
          437.096,
          429.615,
          423.82,
          430.52
         ],
         "yaxis": "y"
        },
        {
         "hovertemplate": "color=Cape Verde<br>x=%{x}<br>y=%{y}<extra></extra>",
         "legendgroup": "Cape Verde",
         "marker": {
          "color": "#FFA15A",
          "symbol": "circle"
         },
         "mode": "markers",
         "name": "Cape Verde",
         "showlegend": true,
         "type": "scattergl",
         "x": [
          2011,
          2012,
          2013,
          2014,
          2015,
          2016
         ],
         "xaxis": "x",
         "y": [
          null,
          null,
          null,
          null,
          null,
          null
         ],
         "yaxis": "y"
        },
        {
         "hovertemplate": "color=Cayman Islands<br>x=%{x}<br>y=%{y}<extra></extra>",
         "legendgroup": "Cayman Islands",
         "marker": {
          "color": "#19d3f3",
          "symbol": "circle"
         },
         "mode": "markers",
         "name": "Cayman Islands",
         "showlegend": true,
         "type": "scattergl",
         "x": [
          2011,
          2012,
          2013,
          2014,
          2015,
          2016,
          2017,
          2018,
          2019
         ],
         "xaxis": "x",
         "y": [
          0,
          0,
          0,
          0,
          0,
          0.004,
          0.014,
          0.016,
          0.016
         ],
         "yaxis": "y"
        },
        {
         "hovertemplate": "color=Central African Republic<br>x=%{x}<br>y=%{y}<extra></extra>",
         "legendgroup": "Central African Republic",
         "marker": {
          "color": "#FF6692",
          "symbol": "circle"
         },
         "mode": "markers",
         "name": "Central African Republic",
         "showlegend": true,
         "type": "scattergl",
         "x": [
          2011,
          2012,
          2013,
          2014,
          2015,
          2016,
          2017,
          2018,
          2019
         ],
         "xaxis": "x",
         "y": [
          0.146,
          0.149,
          0.137,
          0.168,
          0.168,
          0.169,
          0.15,
          0.15,
          0.15
         ],
         "yaxis": "y"
        },
        {
         "hovertemplate": "color=Chad<br>x=%{x}<br>y=%{y}<extra></extra>",
         "legendgroup": "Chad",
         "marker": {
          "color": "#B6E880",
          "symbol": "circle"
         },
         "mode": "markers",
         "name": "Chad",
         "showlegend": true,
         "type": "scattergl",
         "x": [
          2011,
          2012,
          2013,
          2014,
          2015,
          2016,
          2017,
          2018,
          2019
         ],
         "xaxis": "x",
         "y": [
          0,
          0,
          0,
          0,
          0,
          0.009,
          0.009,
          0.009,
          0.009
         ],
         "yaxis": "y"
        },
        {
         "hovertemplate": "color=Chile<br>x=%{x}<br>y=%{y}<extra></extra>",
         "legendgroup": "Chile",
         "marker": {
          "color": "#FF97FF",
          "symbol": "circle"
         },
         "mode": "markers",
         "name": "Chile",
         "showlegend": true,
         "type": "scattergl",
         "x": [
          2011,
          2012,
          2013,
          2014,
          2015,
          2016,
          2017,
          2018,
          2019,
          2020
         ],
         "xaxis": "x",
         "y": [
          25.948,
          25.24,
          26,
          30.062,
          32.368,
          33.801,
          34.374,
          37.507,
          36.44,
          38.352
         ],
         "yaxis": "y"
        },
        {
         "hovertemplate": "color=China<br>x=%{x}<br>y=%{y}<extra></extra>",
         "legendgroup": "China",
         "marker": {
          "color": "#FECB52",
          "symbol": "circle"
         },
         "mode": "markers",
         "name": "China",
         "showlegend": true,
         "type": "scattergl",
         "x": [
          2011,
          2012,
          2013,
          2014,
          2015,
          2016,
          2017,
          2018,
          2019,
          2020
         ],
         "xaxis": "x",
         "y": [
          766.2,
          994.28,
          1077.38,
          1290,
          1391.8,
          1547.7,
          1694.2,
          1870.5,
          2043.258,
          2212.54
         ],
         "yaxis": "y"
        },
        {
         "hovertemplate": "color=Colombia<br>x=%{x}<br>y=%{y}<extra></extra>",
         "legendgroup": "Colombia",
         "marker": {
          "color": "#636efa",
          "symbol": "circle"
         },
         "mode": "markers",
         "name": "Colombia",
         "showlegend": true,
         "type": "scattergl",
         "x": [
          2011,
          2012,
          2013,
          2014,
          2015,
          2016,
          2017,
          2018,
          2019,
          2020
         ],
         "xaxis": "x",
         "y": [
          50.436,
          49.122,
          50.873,
          48.817,
          49.53,
          50.126,
          62.264,
          60.855,
          55.496,
          50.926
         ],
         "yaxis": "y"
        },
        {
         "hovertemplate": "color=Comoros<br>x=%{x}<br>y=%{y}<extra></extra>",
         "legendgroup": "Comoros",
         "marker": {
          "color": "#EF553B",
          "symbol": "circle"
         },
         "mode": "markers",
         "name": "Comoros",
         "showlegend": true,
         "type": "scattergl",
         "x": [
          2011,
          2012,
          2013,
          2014,
          2015,
          2016,
          2017,
          2018,
          2019
         ],
         "xaxis": "x",
         "y": [
          0.005,
          0.003,
          0.002,
          0.002,
          0.002,
          0.002,
          0,
          0,
          0
         ],
         "yaxis": "y"
        },
        {
         "hovertemplate": "color=Congo<br>x=%{x}<br>y=%{y}<extra></extra>",
         "legendgroup": "Congo",
         "marker": {
          "color": "#00cc96",
          "symbol": "circle"
         },
         "mode": "markers",
         "name": "Congo",
         "showlegend": true,
         "type": "scattergl",
         "x": [
          2011,
          2012,
          2013,
          2014,
          2015,
          2016,
          2017,
          2018,
          2019
         ],
         "xaxis": "x",
         "y": [
          0.783,
          0.977,
          0.961,
          0.942,
          1.088,
          1.117,
          1.192,
          1.228,
          1.274
         ],
         "yaxis": "y"
        },
        {
         "hovertemplate": "color=Cook Islands<br>x=%{x}<br>y=%{y}<extra></extra>",
         "legendgroup": "Cook Islands",
         "marker": {
          "color": "#ab63fa",
          "symbol": "circle"
         },
         "mode": "markers",
         "name": "Cook Islands",
         "showlegend": true,
         "type": "scattergl",
         "x": [
          2011,
          2012,
          2013,
          2014,
          2015,
          2016,
          2017,
          2018,
          2019
         ],
         "xaxis": "x",
         "y": [
          0,
          0,
          0.001,
          0.001,
          0.003,
          0.005,
          0.006,
          0.011,
          0.011
         ],
         "yaxis": "y"
        },
        {
         "hovertemplate": "color=Costa Rica<br>x=%{x}<br>y=%{y}<extra></extra>",
         "legendgroup": "Costa Rica",
         "marker": {
          "color": "#FFA15A",
          "symbol": "circle"
         },
         "mode": "markers",
         "name": "Costa Rica",
         "showlegend": true,
         "type": "scattergl",
         "x": [
          2011,
          2012,
          2013,
          2014,
          2015,
          2016,
          2017,
          2018,
          2019,
          2020
         ],
         "xaxis": "x",
         "y": [
          8.894,
          9.273,
          8.97,
          9.107,
          10.623,
          10.611,
          11.184,
          11.258,
          11.296,
          11.542
         ],
         "yaxis": "y"
        },
        {
         "hovertemplate": "color=Cote d'Ivoire<br>x=%{x}<br>y=%{y}<extra></extra>",
         "legendgroup": "Cote d'Ivoire",
         "marker": {
          "color": "#19d3f3",
          "symbol": "circle"
         },
         "mode": "markers",
         "name": "Cote d'Ivoire",
         "showlegend": true,
         "type": "scattergl",
         "x": [
          2011,
          2012,
          2013,
          2014,
          2015,
          2016
         ],
         "xaxis": "x",
         "y": [
          null,
          null,
          null,
          null,
          null,
          null
         ],
         "yaxis": "y"
        },
        {
         "hovertemplate": "color=Croatia<br>x=%{x}<br>y=%{y}<extra></extra>",
         "legendgroup": "Croatia",
         "marker": {
          "color": "#FF6692",
          "symbol": "circle"
         },
         "mode": "markers",
         "name": "Croatia",
         "showlegend": true,
         "type": "scattergl",
         "x": [
          2011,
          2012,
          2013,
          2014,
          2015,
          2016,
          2017,
          2018,
          2019,
          2020
         ],
         "xaxis": "x",
         "y": [
          5.287,
          5.262,
          9.276,
          9.936,
          7.509,
          8.363,
          7.116,
          9.781,
          8.298,
          8.152
         ],
         "yaxis": "y"
        },
        {
         "hovertemplate": "color=Cuba<br>x=%{x}<br>y=%{y}<extra></extra>",
         "legendgroup": "Cuba",
         "marker": {
          "color": "#B6E880",
          "symbol": "circle"
         },
         "mode": "markers",
         "name": "Cuba",
         "showlegend": true,
         "type": "scattergl",
         "x": [
          2011,
          2012,
          2013,
          2014,
          2015,
          2016,
          2017,
          2018,
          2019
         ],
         "xaxis": "x",
         "y": [
          0.574,
          0.683,
          0.832,
          0.777,
          0.801,
          0.809,
          0.785,
          0.757,
          0.706
         ],
         "yaxis": "y"
        },
        {
         "hovertemplate": "color=Cyprus<br>x=%{x}<br>y=%{y}<extra></extra>",
         "legendgroup": "Cyprus",
         "marker": {
          "color": "#FF97FF",
          "symbol": "circle"
         },
         "mode": "markers",
         "name": "Cyprus",
         "showlegend": true,
         "type": "scattergl",
         "x": [
          2011,
          2012,
          2013,
          2014,
          2015,
          2016,
          2017,
          2018,
          2019,
          2020
         ],
         "xaxis": "x",
         "y": [
          0.178,
          0.257,
          0.327,
          0.317,
          0.4,
          0.425,
          0.435,
          0.477,
          0.496,
          0.514
         ],
         "yaxis": "y"
        },
        {
         "hovertemplate": "color=Czechia<br>x=%{x}<br>y=%{y}<extra></extra>",
         "legendgroup": "Czechia",
         "marker": {
          "color": "#FECB52",
          "symbol": "circle"
         },
         "mode": "markers",
         "name": "Czechia",
         "showlegend": true,
         "type": "scattergl",
         "x": [
          2011,
          2012,
          2013,
          2014,
          2015,
          2016,
          2017,
          2018,
          2019,
          2020
         ],
         "xaxis": "x",
         "y": [
          7.246,
          8.065,
          9.308,
          9.172,
          9.42,
          9.384,
          9.621,
          9.425,
          9.298,
          9.755
         ],
         "yaxis": "y"
        },
        {
         "hovertemplate": "color=Democratic Republic of Congo<br>x=%{x}<br>y=%{y}<extra></extra>",
         "legendgroup": "Democratic Republic of Congo",
         "marker": {
          "color": "#636efa",
          "symbol": "circle"
         },
         "mode": "markers",
         "name": "Democratic Republic of Congo",
         "showlegend": true,
         "type": "scattergl",
         "x": [
          2011,
          2012,
          2013,
          2014,
          2015,
          2016,
          2017,
          2018,
          2019
         ],
         "xaxis": "x",
         "y": [
          7.733,
          7.527,
          8.166,
          8.752,
          8.849,
          9.035,
          9.414,
          10.47,
          11.007
         ],
         "yaxis": "y"
        },
        {
         "hovertemplate": "color=Denmark<br>x=%{x}<br>y=%{y}<extra></extra>",
         "legendgroup": "Denmark",
         "marker": {
          "color": "#EF553B",
          "symbol": "circle"
         },
         "mode": "markers",
         "name": "Denmark",
         "showlegend": true,
         "type": "scattergl",
         "x": [
          2011,
          2012,
          2013,
          2014,
          2015,
          2016,
          2017,
          2018,
          2019,
          2020
         ],
         "xaxis": "x",
         "y": [
          14.181,
          14.837,
          15.968,
          17.984,
          18.937,
          18.39,
          21.813,
          20.766,
          22.613,
          22.719
         ],
         "yaxis": "y"
        },
        {
         "hovertemplate": "color=Djibouti<br>x=%{x}<br>y=%{y}<extra></extra>",
         "legendgroup": "Djibouti",
         "marker": {
          "color": "#00cc96",
          "symbol": "circle"
         },
         "mode": "markers",
         "name": "Djibouti",
         "showlegend": true,
         "type": "scattergl",
         "x": [
          2011,
          2012,
          2013,
          2014,
          2015,
          2016,
          2017,
          2018,
          2019
         ],
         "xaxis": "x",
         "y": [
          0,
          0,
          0,
          0,
          0,
          0,
          0,
          0.001,
          0.001
         ],
         "yaxis": "y"
        },
        {
         "hovertemplate": "color=Dominica<br>x=%{x}<br>y=%{y}<extra></extra>",
         "legendgroup": "Dominica",
         "marker": {
          "color": "#ab63fa",
          "symbol": "circle"
         },
         "mode": "markers",
         "name": "Dominica",
         "showlegend": true,
         "type": "scattergl",
         "x": [
          2011,
          2012,
          2013,
          2014,
          2015,
          2016,
          2017,
          2018,
          2019
         ],
         "xaxis": "x",
         "y": [
          0.036,
          0.027,
          0.037,
          0.031,
          0.025,
          0.037,
          0.028,
          0.025,
          0.021
         ],
         "yaxis": "y"
        },
        {
         "hovertemplate": "color=Dominican Republic<br>x=%{x}<br>y=%{y}<extra></extra>",
         "legendgroup": "Dominican Republic",
         "marker": {
          "color": "#FFA15A",
          "symbol": "circle"
         },
         "mode": "markers",
         "name": "Dominican Republic",
         "showlegend": true,
         "type": "scattergl",
         "x": [
          2011,
          2012,
          2013,
          2014,
          2015,
          2016,
          2017,
          2018,
          2019
         ],
         "xaxis": "x",
         "y": [
          1.62,
          1.959,
          2.21,
          1.654,
          1.33,
          1.973,
          2.856,
          2.698,
          2.487
         ],
         "yaxis": "y"
        },
        {
         "hovertemplate": "color=Ecuador<br>x=%{x}<br>y=%{y}<extra></extra>",
         "legendgroup": "Ecuador",
         "marker": {
          "color": "#19d3f3",
          "symbol": "circle"
         },
         "mode": "markers",
         "name": "Ecuador",
         "showlegend": true,
         "type": "scattergl",
         "x": [
          2011,
          2012,
          2013,
          2014,
          2015,
          2016,
          2017,
          2018,
          2019
         ],
         "xaxis": "x",
         "y": [
          11.303,
          12.414,
          11.289,
          11.838,
          13.509,
          16.288,
          20.456,
          21.017,
          24.997
         ],
         "yaxis": "y"
        },
        {
         "hovertemplate": "color=Egypt<br>x=%{x}<br>y=%{y}<extra></extra>",
         "legendgroup": "Egypt",
         "marker": {
          "color": "#FF6692",
          "symbol": "circle"
         },
         "mode": "markers",
         "name": "Egypt",
         "showlegend": true,
         "type": "scattergl",
         "x": [
          2011,
          2012,
          2013,
          2014,
          2015,
          2016,
          2017,
          2018,
          2019
         ],
         "xaxis": "x",
         "y": [
          14.863,
          14.661,
          15.08,
          15.693,
          15.954,
          15.813,
          15.84,
          16.945,
          19.329
         ],
         "yaxis": "y"
        },
        {
         "hovertemplate": "color=El Salvador<br>x=%{x}<br>y=%{y}<extra></extra>",
         "legendgroup": "El Salvador",
         "marker": {
          "color": "#B6E880",
          "symbol": "circle"
         },
         "mode": "markers",
         "name": "El Salvador",
         "showlegend": true,
         "type": "scattergl",
         "x": [
          2011,
          2012,
          2013,
          2014,
          2015,
          2016,
          2017,
          2018,
          2019
         ],
         "xaxis": "x",
         "y": [
          3.719,
          3.637,
          3.69,
          3.618,
          3.154,
          3.164,
          3.603,
          3.6,
          3.578
         ],
         "yaxis": "y"
        },
        {
         "hovertemplate": "color=Equatorial Guinea<br>x=%{x}<br>y=%{y}<extra></extra>",
         "legendgroup": "Equatorial Guinea",
         "marker": {
          "color": "#FF97FF",
          "symbol": "circle"
         },
         "mode": "markers",
         "name": "Equatorial Guinea",
         "showlegend": true,
         "type": "scattergl",
         "x": [
          2011,
          2012,
          2013,
          2014,
          2015,
          2016,
          2017,
          2018,
          2019
         ],
         "xaxis": "x",
         "y": [
          0.028,
          0.08,
          0.251,
          0.379,
          0.561,
          0.565,
          0.434,
          0.58,
          0.586
         ],
         "yaxis": "y"
        },
        {
         "hovertemplate": "color=Eritrea<br>x=%{x}<br>y=%{y}<extra></extra>",
         "legendgroup": "Eritrea",
         "marker": {
          "color": "#FECB52",
          "symbol": "circle"
         },
         "mode": "markers",
         "name": "Eritrea",
         "showlegend": true,
         "type": "scattergl",
         "x": [
          2011,
          2012,
          2013,
          2014,
          2015,
          2016,
          2017,
          2018,
          2019
         ],
         "xaxis": "x",
         "y": [
          0.004,
          0.004,
          0.004,
          0.004,
          0.004,
          0.004,
          0.013,
          0.045,
          0.062
         ],
         "yaxis": "y"
        },
        {
         "hovertemplate": "color=Estonia<br>x=%{x}<br>y=%{y}<extra></extra>",
         "legendgroup": "Estonia",
         "marker": {
          "color": "#636efa",
          "symbol": "circle"
         },
         "mode": "markers",
         "name": "Estonia",
         "showlegend": true,
         "type": "scattergl",
         "x": [
          2011,
          2012,
          2013,
          2014,
          2015,
          2016,
          2017,
          2018,
          2019,
          2020
         ],
         "xaxis": "x",
         "y": [
          1.18,
          1.476,
          1.22,
          1.389,
          1.502,
          1.524,
          1.801,
          1.989,
          2.077,
          2.249
         ],
         "yaxis": "y"
        },
        {
         "hovertemplate": "color=Eswatini<br>x=%{x}<br>y=%{y}<extra></extra>",
         "legendgroup": "Eswatini",
         "marker": {
          "color": "#EF553B",
          "symbol": "circle"
         },
         "mode": "markers",
         "name": "Eswatini",
         "showlegend": true,
         "type": "scattergl",
         "x": [
          2011,
          2012,
          2013,
          2014,
          2015,
          2016
         ],
         "xaxis": "x",
         "y": [
          null,
          null,
          null,
          null,
          null,
          null
         ],
         "yaxis": "y"
        },
        {
         "hovertemplate": "color=Ethiopia<br>x=%{x}<br>y=%{y}<extra></extra>",
         "legendgroup": "Ethiopia",
         "marker": {
          "color": "#00cc96",
          "symbol": "circle"
         },
         "mode": "markers",
         "name": "Ethiopia",
         "showlegend": true,
         "type": "scattergl",
         "x": [
          2011,
          2012,
          2013,
          2014,
          2015,
          2016,
          2017,
          2018,
          2019
         ],
         "xaxis": "x",
         "y": [
          6.283,
          7.546,
          8.653,
          9.47,
          10.385,
          12.464,
          13.137,
          13.47,
          14.574
         ],
         "yaxis": "y"
        },
        {
         "hovertemplate": "color=Faeroe Islands<br>x=%{x}<br>y=%{y}<extra></extra>",
         "legendgroup": "Faeroe Islands",
         "marker": {
          "color": "#ab63fa",
          "symbol": "circle"
         },
         "mode": "markers",
         "name": "Faeroe Islands",
         "showlegend": true,
         "type": "scattergl",
         "x": [
          2011,
          2012,
          2013,
          2014,
          2015,
          2016
         ],
         "xaxis": "x",
         "y": [
          null,
          null,
          null,
          null,
          null,
          null
         ],
         "yaxis": "y"
        },
        {
         "hovertemplate": "color=Fiji<br>x=%{x}<br>y=%{y}<extra></extra>",
         "legendgroup": "Fiji",
         "marker": {
          "color": "#FFA15A",
          "symbol": "circle"
         },
         "mode": "markers",
         "name": "Fiji",
         "showlegend": true,
         "type": "scattergl",
         "x": [
          2011,
          2012,
          2013,
          2014,
          2015,
          2016,
          2017,
          2018,
          2019
         ],
         "xaxis": "x",
         "y": [
          0.529,
          0.59,
          0.587,
          0.484,
          0.478,
          0.554,
          0.559,
          0.636,
          0.642
         ],
         "yaxis": "y"
        },
        {
         "hovertemplate": "color=Finland<br>x=%{x}<br>y=%{y}<extra></extra>",
         "legendgroup": "Finland",
         "marker": {
          "color": "#19d3f3",
          "symbol": "circle"
         },
         "mode": "markers",
         "name": "Finland",
         "showlegend": true,
         "type": "scattergl",
         "x": [
          2011,
          2012,
          2013,
          2014,
          2015,
          2016,
          2017,
          2018,
          2019,
          2020
         ],
         "xaxis": "x",
         "y": [
          24.177,
          28.559,
          25.63,
          26.271,
          30.527,
          30.412,
          31.477,
          32.14,
          31.18,
          33.686
         ],
         "yaxis": "y"
        },
        {
         "hovertemplate": "color=France<br>x=%{x}<br>y=%{y}<extra></extra>",
         "legendgroup": "France",
         "marker": {
          "color": "#FF6692",
          "symbol": "circle"
         },
         "mode": "markers",
         "name": "France",
         "showlegend": true,
         "type": "scattergl",
         "x": [
          2011,
          2012,
          2013,
          2014,
          2015,
          2016,
          2017,
          2018,
          2019,
          2020
         ],
         "xaxis": "x",
         "y": [
          66.026,
          85.208,
          99.283,
          93.961,
          91.832,
          99.013,
          92.617,
          113.397,
          112.397,
          123.274
         ],
         "yaxis": "y"
        },
        {
         "hovertemplate": "color=French Guiana<br>x=%{x}<br>y=%{y}<extra></extra>",
         "legendgroup": "French Guiana",
         "marker": {
          "color": "#B6E880",
          "symbol": "circle"
         },
         "mode": "markers",
         "name": "French Guiana",
         "showlegend": true,
         "type": "scattergl",
         "x": [
          2011,
          2012,
          2013,
          2014,
          2015,
          2016,
          2017,
          2018,
          2019
         ],
         "xaxis": "x",
         "y": [
          0.699,
          0.62,
          0.547,
          0.564,
          0.559,
          0.499,
          0.626,
          0.6,
          0.613
         ],
         "yaxis": "y"
        },
        {
         "hovertemplate": "color=French Polynesia<br>x=%{x}<br>y=%{y}<extra></extra>",
         "legendgroup": "French Polynesia",
         "marker": {
          "color": "#FF97FF",
          "symbol": "circle"
         },
         "mode": "markers",
         "name": "French Polynesia",
         "showlegend": true,
         "type": "scattergl",
         "x": [
          2011,
          2012,
          2013,
          2014,
          2015,
          2016,
          2017,
          2018,
          2019
         ],
         "xaxis": "x",
         "y": [
          0.23,
          0.216,
          0.175,
          0.195,
          0.199,
          0.217,
          0.212,
          0.203,
          0.22
         ],
         "yaxis": "y"
        },
        {
         "hovertemplate": "color=Gabon<br>x=%{x}<br>y=%{y}<extra></extra>",
         "legendgroup": "Gabon",
         "marker": {
          "color": "#FECB52",
          "symbol": "circle"
         },
         "mode": "markers",
         "name": "Gabon",
         "showlegend": true,
         "type": "scattergl",
         "x": [
          2011,
          2012,
          2013,
          2014,
          2015,
          2016,
          2017,
          2018,
          2019
         ],
         "xaxis": "x",
         "y": [
          0.842,
          0.912,
          0.939,
          0.798,
          0.921,
          0.956,
          0.933,
          0.905,
          0.9
         ],
         "yaxis": "y"
        },
        {
         "hovertemplate": "color=Gambia<br>x=%{x}<br>y=%{y}<extra></extra>",
         "legendgroup": "Gambia",
         "marker": {
          "color": "#636efa",
          "symbol": "circle"
         },
         "mode": "markers",
         "name": "Gambia",
         "showlegend": true,
         "type": "scattergl",
         "x": [
          2011,
          2012,
          2013,
          2014,
          2015,
          2016,
          2017,
          2018,
          2019
         ],
         "xaxis": "x",
         "y": [
          0.004,
          0.003,
          0.003,
          0.003,
          0.003,
          0.003,
          0.003,
          0.003,
          0.003
         ],
         "yaxis": "y"
        },
        {
         "hovertemplate": "color=Georgia<br>x=%{x}<br>y=%{y}<extra></extra>",
         "legendgroup": "Georgia",
         "marker": {
          "color": "#EF553B",
          "symbol": "circle"
         },
         "mode": "markers",
         "name": "Georgia",
         "showlegend": true,
         "type": "scattergl",
         "x": [
          2011,
          2012,
          2013,
          2014,
          2015,
          2016,
          2017,
          2018,
          2019
         ],
         "xaxis": "x",
         "y": [
          7.811,
          7.151,
          8.188,
          8.252,
          8.369,
          9.245,
          9.206,
          9.934,
          8.928
         ],
         "yaxis": "y"
        },
        {
         "hovertemplate": "color=Germany<br>x=%{x}<br>y=%{y}<extra></extra>",
         "legendgroup": "Germany",
         "marker": {
          "color": "#00cc96",
          "symbol": "circle"
         },
         "mode": "markers",
         "name": "Germany",
         "showlegend": true,
         "type": "scattergl",
         "x": [
          2011,
          2012,
          2013,
          2014,
          2015,
          2016,
          2017,
          2018,
          2019,
          2020
         ],
         "xaxis": "x",
         "y": [
          124.1,
          143.1,
          152.3,
          162.6,
          188.8,
          189.7,
          216.5,
          224.9,
          242.4,
          254.7
         ],
         "yaxis": "y"
        },
        {
         "hovertemplate": "color=Ghana<br>x=%{x}<br>y=%{y}<extra></extra>",
         "legendgroup": "Ghana",
         "marker": {
          "color": "#ab63fa",
          "symbol": "circle"
         },
         "mode": "markers",
         "name": "Ghana",
         "showlegend": true,
         "type": "scattergl",
         "x": [
          2011,
          2012,
          2013,
          2014,
          2015,
          2016,
          2017,
          2018,
          2019
         ],
         "xaxis": "x",
         "y": [
          7.501,
          8.006,
          8.17,
          8.326,
          5.809,
          5.551,
          5.605,
          6.007,
          6.063
         ],
         "yaxis": "y"
        },
        {
         "hovertemplate": "color=Gibraltar<br>x=%{x}<br>y=%{y}<extra></extra>",
         "legendgroup": "Gibraltar",
         "marker": {
          "color": "#FFA15A",
          "symbol": "circle"
         },
         "mode": "markers",
         "name": "Gibraltar",
         "showlegend": true,
         "type": "scattergl",
         "x": [
          2011,
          2012,
          2013,
          2014,
          2015,
          2016,
          2017,
          2018,
          2019
         ],
         "xaxis": "x",
         "y": [
          0,
          0,
          0,
          0,
          0,
          0,
          0,
          0,
          0
         ],
         "yaxis": "y"
        },
        {
         "hovertemplate": "color=Greece<br>x=%{x}<br>y=%{y}<extra></extra>",
         "legendgroup": "Greece",
         "marker": {
          "color": "#19d3f3",
          "symbol": "circle"
         },
         "mode": "markers",
         "name": "Greece",
         "showlegend": true,
         "type": "scattergl",
         "x": [
          2011,
          2012,
          2013,
          2014,
          2015,
          2016,
          2017,
          2018,
          2019,
          2020
         ],
         "xaxis": "x",
         "y": [
          8.144,
          10.151,
          14.35,
          12.176,
          14.85,
          14.893,
          13.801,
          16.148,
          15.807,
          17.356
         ],
         "yaxis": "y"
        },
        {
         "hovertemplate": "color=Greenland<br>x=%{x}<br>y=%{y}<extra></extra>",
         "legendgroup": "Greenland",
         "marker": {
          "color": "#FF6692",
          "symbol": "circle"
         },
         "mode": "markers",
         "name": "Greenland",
         "showlegend": true,
         "type": "scattergl",
         "x": [
          2011,
          2012,
          2013,
          2014,
          2015,
          2016,
          2017,
          2018,
          2019
         ],
         "xaxis": "x",
         "y": [
          0.335,
          0.342,
          0.374,
          0.392,
          0.419,
          0.397,
          0.384,
          0.414,
          0.412
         ],
         "yaxis": "y"
        },
        {
         "hovertemplate": "color=Grenada<br>x=%{x}<br>y=%{y}<extra></extra>",
         "legendgroup": "Grenada",
         "marker": {
          "color": "#B6E880",
          "symbol": "circle"
         },
         "mode": "markers",
         "name": "Grenada",
         "showlegend": true,
         "type": "scattergl",
         "x": [
          2011,
          2012,
          2013,
          2014,
          2015,
          2016,
          2017,
          2018,
          2019
         ],
         "xaxis": "x",
         "y": [
          0.003,
          0.003,
          0.003,
          0.007,
          0.002,
          0.003,
          0.003,
          0.003,
          0.003
         ],
         "yaxis": "y"
        },
        {
         "hovertemplate": "color=Guadeloupe<br>x=%{x}<br>y=%{y}<extra></extra>",
         "legendgroup": "Guadeloupe",
         "marker": {
          "color": "#FF97FF",
          "symbol": "circle"
         },
         "mode": "markers",
         "name": "Guadeloupe",
         "showlegend": true,
         "type": "scattergl",
         "x": [
          2011,
          2012,
          2013,
          2014,
          2015,
          2016,
          2017,
          2018,
          2019
         ],
         "xaxis": "x",
         "y": [
          0.233,
          0.204,
          0.202,
          0.218,
          0.209,
          0.197,
          0.209,
          0.215,
          0.224
         ],
         "yaxis": "y"
        },
        {
         "hovertemplate": "color=Guam<br>x=%{x}<br>y=%{y}<extra></extra>",
         "legendgroup": "Guam",
         "marker": {
          "color": "#FECB52",
          "symbol": "circle"
         },
         "mode": "markers",
         "name": "Guam",
         "showlegend": true,
         "type": "scattergl",
         "x": [
          2011,
          2012,
          2013,
          2014,
          2015,
          2016,
          2017,
          2018,
          2019
         ],
         "xaxis": "x",
         "y": [
          0,
          0.001,
          0.002,
          0.003,
          0.031,
          0.066,
          0.06,
          0.068,
          0.068
         ],
         "yaxis": "y"
        },
        {
         "hovertemplate": "color=Guatemala<br>x=%{x}<br>y=%{y}<extra></extra>",
         "legendgroup": "Guatemala",
         "marker": {
          "color": "#636efa",
          "symbol": "circle"
         },
         "mode": "markers",
         "name": "Guatemala",
         "showlegend": true,
         "type": "scattergl",
         "x": [
          2011,
          2012,
          2013,
          2014,
          2015,
          2016,
          2017,
          2018,
          2019
         ],
         "xaxis": "x",
         "y": [
          5.864,
          6.424,
          6.994,
          7.392,
          6.719,
          7.354,
          8.984,
          8.659,
          8.064
         ],
         "yaxis": "y"
        },
        {
         "hovertemplate": "color=Guinea<br>x=%{x}<br>y=%{y}<extra></extra>",
         "legendgroup": "Guinea",
         "marker": {
          "color": "#EF553B",
          "symbol": "circle"
         },
         "mode": "markers",
         "name": "Guinea",
         "showlegend": true,
         "type": "scattergl",
         "x": [
          2011,
          2012,
          2013,
          2014,
          2015,
          2016,
          2017,
          2018,
          2019
         ],
         "xaxis": "x",
         "y": [
          0.414,
          0.487,
          0.482,
          0.427,
          0.902,
          1.105,
          1.233,
          0.762,
          0.715
         ],
         "yaxis": "y"
        },
        {
         "hovertemplate": "color=Guinea-Bissau<br>x=%{x}<br>y=%{y}<extra></extra>",
         "legendgroup": "Guinea-Bissau",
         "marker": {
          "color": "#00cc96",
          "symbol": "circle"
         },
         "mode": "markers",
         "name": "Guinea-Bissau",
         "showlegend": true,
         "type": "scattergl",
         "x": [
          2011,
          2012,
          2013,
          2014,
          2015,
          2016,
          2017,
          2018,
          2019
         ],
         "xaxis": "x",
         "y": [
          0,
          0,
          0,
          0,
          0.001,
          0.001,
          0.001,
          0.002,
          0.002
         ],
         "yaxis": "y"
        },
        {
         "hovertemplate": "color=Guyana<br>x=%{x}<br>y=%{y}<extra></extra>",
         "legendgroup": "Guyana",
         "marker": {
          "color": "#ab63fa",
          "symbol": "circle"
         },
         "mode": "markers",
         "name": "Guyana",
         "showlegend": true,
         "type": "scattergl",
         "x": [
          2011,
          2012,
          2013,
          2014,
          2015,
          2016,
          2017,
          2018,
          2019
         ],
         "xaxis": "x",
         "y": [
          0.013,
          0.019,
          0.022,
          0.022,
          0.029,
          0.022,
          0.019,
          0.019,
          0.014
         ],
         "yaxis": "y"
        },
        {
         "hovertemplate": "color=Haiti<br>x=%{x}<br>y=%{y}<extra></extra>",
         "legendgroup": "Haiti",
         "marker": {
          "color": "#FFA15A",
          "symbol": "circle"
         },
         "mode": "markers",
         "name": "Haiti",
         "showlegend": true,
         "type": "scattergl",
         "x": [
          2011,
          2012,
          2013,
          2014,
          2015,
          2016,
          2017,
          2018,
          2019
         ],
         "xaxis": "x",
         "y": [
          0.121,
          0.221,
          0.142,
          0.091,
          0.085,
          0.071,
          0.127,
          0.196,
          0.234
         ],
         "yaxis": "y"
        },
        {
         "hovertemplate": "color=Honduras<br>x=%{x}<br>y=%{y}<extra></extra>",
         "legendgroup": "Honduras",
         "marker": {
          "color": "#19d3f3",
          "symbol": "circle"
         },
         "mode": "markers",
         "name": "Honduras",
         "showlegend": true,
         "type": "scattergl",
         "x": [
          2011,
          2012,
          2013,
          2014,
          2015,
          2016,
          2017,
          2018,
          2019
         ],
         "xaxis": "x",
         "y": [
          3.441,
          3.638,
          3.623,
          3.358,
          3.923,
          4.579,
          5.557,
          6.365,
          6.808
         ],
         "yaxis": "y"
        },
        {
         "hovertemplate": "color=Hong Kong<br>x=%{x}<br>y=%{y}<extra></extra>",
         "legendgroup": "Hong Kong",
         "marker": {
          "color": "#FF6692",
          "symbol": "circle"
         },
         "mode": "markers",
         "name": "Hong Kong",
         "showlegend": true,
         "type": "scattergl",
         "x": [
          2011,
          2012,
          2013,
          2014,
          2015,
          2016,
          2017,
          2018,
          2019
         ],
         "xaxis": "x",
         "y": [
          0.045,
          0.042,
          0.038,
          0.045,
          0.073,
          0.092,
          0.091,
          0.093,
          0.1
         ],
         "yaxis": "y"
        },
        {
         "hovertemplate": "color=Hungary<br>x=%{x}<br>y=%{y}<extra></extra>",
         "legendgroup": "Hungary",
         "marker": {
          "color": "#B6E880",
          "symbol": "circle"
         },
         "mode": "markers",
         "name": "Hungary",
         "showlegend": true,
         "type": "scattergl",
         "x": [
          2011,
          2012,
          2013,
          2014,
          2015,
          2016,
          2017,
          2018,
          2019,
          2020
         ],
         "xaxis": "x",
         "y": [
          2.708,
          2.646,
          2.787,
          3.151,
          3.229,
          3.258,
          3.482,
          3.753,
          4.73,
          4.953
         ],
         "yaxis": "y"
        },
        {
         "hovertemplate": "color=Iceland<br>x=%{x}<br>y=%{y}<extra></extra>",
         "legendgroup": "Iceland",
         "marker": {
          "color": "#FF97FF",
          "symbol": "circle"
         },
         "mode": "markers",
         "name": "Iceland",
         "showlegend": true,
         "type": "scattergl",
         "x": [
          2011,
          2012,
          2013,
          2014,
          2015,
          2016,
          2017,
          2018,
          2019
         ],
         "xaxis": "x",
         "y": [
          16.849,
          17.293,
          17.995,
          17.8,
          18.554,
          18.169,
          18.844,
          19.43,
          19.262
         ],
         "yaxis": "y"
        },
        {
         "hovertemplate": "color=India<br>x=%{x}<br>y=%{y}<extra></extra>",
         "legendgroup": "India",
         "marker": {
          "color": "#FECB52",
          "symbol": "circle"
         },
         "mode": "markers",
         "name": "India",
         "showlegend": true,
         "type": "scattergl",
         "x": [
          2011,
          2012,
          2013,
          2014,
          2015,
          2016,
          2017,
          2018,
          2019,
          2020
         ],
         "xaxis": "x",
         "y": [
          174.621,
          168.598,
          192.275,
          199.063,
          188.587,
          199.483,
          223.857,
          254.535,
          286.385,
          298.242
         ],
         "yaxis": "y"
        },
        {
         "hovertemplate": "color=Indonesia<br>x=%{x}<br>y=%{y}<extra></extra>",
         "legendgroup": "Indonesia",
         "marker": {
          "color": "#636efa",
          "symbol": "circle"
         },
         "mode": "markers",
         "name": "Indonesia",
         "showlegend": true,
         "type": "scattergl",
         "x": [
          2011,
          2012,
          2013,
          2014,
          2015,
          2016,
          2017,
          2018,
          2019
         ],
         "xaxis": "x",
         "y": [
          21.888,
          22.367,
          26.354,
          26.018,
          24.797,
          30.972,
          32.074,
          49.134,
          47.663
         ],
         "yaxis": "y"
        },
        {
         "hovertemplate": "color=Iran<br>x=%{x}<br>y=%{y}<extra></extra>",
         "legendgroup": "Iran",
         "marker": {
          "color": "#EF553B",
          "symbol": "circle"
         },
         "mode": "markers",
         "name": "Iran",
         "showlegend": true,
         "type": "scattergl",
         "x": [
          2011,
          2012,
          2013,
          2014,
          2015,
          2016,
          2017,
          2018,
          2019,
          2020
         ],
         "xaxis": "x",
         "y": [
          12.176,
          12.553,
          14.837,
          14.13,
          14.184,
          16.535,
          15.315,
          16.221,
          30.737,
          22.618
         ],
         "yaxis": "y"
        },
        {
         "hovertemplate": "color=Iraq<br>x=%{x}<br>y=%{y}<extra></extra>",
         "legendgroup": "Iraq",
         "marker": {
          "color": "#00cc96",
          "symbol": "circle"
         },
         "mode": "markers",
         "name": "Iraq",
         "showlegend": true,
         "type": "scattergl",
         "x": [
          2011,
          2012,
          2013,
          2014,
          2015,
          2016,
          2017,
          2018,
          2019
         ],
         "xaxis": "x",
         "y": [
          3.363,
          4.348,
          4.755,
          2.959,
          2.578,
          3.394,
          2.211,
          1.857,
          2.51
         ],
         "yaxis": "y"
        },
        {
         "hovertemplate": "color=Ireland<br>x=%{x}<br>y=%{y}<extra></extra>",
         "legendgroup": "Ireland",
         "marker": {
          "color": "#ab63fa",
          "symbol": "circle"
         },
         "mode": "markers",
         "name": "Ireland",
         "showlegend": true,
         "type": "scattergl",
         "x": [
          2011,
          2012,
          2013,
          2014,
          2015,
          2016,
          2017,
          2018,
          2019,
          2020
         ],
         "xaxis": "x",
         "y": [
          5.424,
          5.256,
          5.628,
          6.392,
          7.861,
          7.513,
          8.879,
          10.195,
          11.209,
          12.89
         ],
         "yaxis": "y"
        },
        {
         "hovertemplate": "color=Israel<br>x=%{x}<br>y=%{y}<extra></extra>",
         "legendgroup": "Israel",
         "marker": {
          "color": "#FFA15A",
          "symbol": "circle"
         },
         "mode": "markers",
         "name": "Israel",
         "showlegend": true,
         "type": "scattergl",
         "x": [
          2011,
          2012,
          2013,
          2014,
          2015,
          2016,
          2017,
          2018,
          2019
         ],
         "xaxis": "x",
         "y": [
          0.281,
          0.461,
          0.607,
          0.957,
          1.317,
          1.761,
          1.729,
          1.809,
          2.832
         ],
         "yaxis": "y"
        },
        {
         "hovertemplate": "color=Italy<br>x=%{x}<br>y=%{y}<extra></extra>",
         "legendgroup": "Italy",
         "marker": {
          "color": "#19d3f3",
          "symbol": "circle"
         },
         "mode": "markers",
         "name": "Italy",
         "showlegend": true,
         "type": "scattergl",
         "x": [
          2011,
          2012,
          2013,
          2014,
          2015,
          2016,
          2017,
          2018,
          2019,
          2020
         ],
         "xaxis": "x",
         "y": [
          82.96,
          92.221,
          112.001,
          120.67,
          108.894,
          108.011,
          103.886,
          114.402,
          117.079,
          118.854
         ],
         "yaxis": "y"
        },
        {
         "hovertemplate": "color=Jamaica<br>x=%{x}<br>y=%{y}<extra></extra>",
         "legendgroup": "Jamaica",
         "marker": {
          "color": "#FF6692",
          "symbol": "circle"
         },
         "mode": "markers",
         "name": "Jamaica",
         "showlegend": true,
         "type": "scattergl",
         "x": [
          2011,
          2012,
          2013,
          2014,
          2015,
          2016,
          2017,
          2018,
          2019
         ],
         "xaxis": "x",
         "y": [
          0.269,
          0.284,
          0.26,
          0.287,
          0.283,
          0.345,
          0.51,
          0.544,
          0.561
         ],
         "yaxis": "y"
        },
        {
         "hovertemplate": "color=Japan<br>x=%{x}<br>y=%{y}<extra></extra>",
         "legendgroup": "Japan",
         "marker": {
          "color": "#B6E880",
          "symbol": "circle"
         },
         "mode": "markers",
         "name": "Japan",
         "showlegend": true,
         "type": "scattergl",
         "x": [
          2011,
          2012,
          2013,
          2014,
          2015,
          2016,
          2017,
          2018,
          2019,
          2020
         ],
         "xaxis": "x",
         "y": [
          146.116,
          140.574,
          152.118,
          166.545,
          183.412,
          188.028,
          208.35,
          216.343,
          225.538,
          247.598
         ],
         "yaxis": "y"
        },
        {
         "hovertemplate": "color=Jordan<br>x=%{x}<br>y=%{y}<extra></extra>",
         "legendgroup": "Jordan",
         "marker": {
          "color": "#FF97FF",
          "symbol": "circle"
         },
         "mode": "markers",
         "name": "Jordan",
         "showlegend": true,
         "type": "scattergl",
         "x": [
          2011,
          2012,
          2013,
          2014,
          2015,
          2016,
          2017,
          2018,
          2019
         ],
         "xaxis": "x",
         "y": [
          0.065,
          0.069,
          0.061,
          0.063,
          0.179,
          0.858,
          1.398,
          2.188,
          2.717
         ],
         "yaxis": "y"
        },
        {
         "hovertemplate": "color=Kazakhstan<br>x=%{x}<br>y=%{y}<extra></extra>",
         "legendgroup": "Kazakhstan",
         "marker": {
          "color": "#FECB52",
          "symbol": "circle"
         },
         "mode": "markers",
         "name": "Kazakhstan",
         "showlegend": true,
         "type": "scattergl",
         "x": [
          2011,
          2012,
          2013,
          2014,
          2015,
          2016,
          2017,
          2018,
          2019,
          2020
         ],
         "xaxis": "x",
         "y": [
          7.805,
          7.564,
          7.661,
          8.291,
          9.429,
          11.92,
          11.6,
          11.137,
          10.629,
          11.425
         ],
         "yaxis": "y"
        },
        {
         "hovertemplate": "color=Kenya<br>x=%{x}<br>y=%{y}<extra></extra>",
         "legendgroup": "Kenya",
         "marker": {
          "color": "#636efa",
          "symbol": "circle"
         },
         "mode": "markers",
         "name": "Kenya",
         "showlegend": true,
         "type": "scattergl",
         "x": [
          2011,
          2012,
          2013,
          2014,
          2015,
          2016,
          2017,
          2018,
          2019
         ],
         "xaxis": "x",
         "y": [
          5.12,
          6.008,
          5.915,
          6.404,
          8.489,
          8.011,
          8.175,
          9.652,
          10.192
         ],
         "yaxis": "y"
        },
        {
         "hovertemplate": "color=Kiribati<br>x=%{x}<br>y=%{y}<extra></extra>",
         "legendgroup": "Kiribati",
         "marker": {
          "color": "#EF553B",
          "symbol": "circle"
         },
         "mode": "markers",
         "name": "Kiribati",
         "showlegend": true,
         "type": "scattergl",
         "x": [
          2011,
          2012,
          2013,
          2014,
          2015,
          2016,
          2017,
          2018,
          2019
         ],
         "xaxis": "x",
         "y": [
          0.001,
          0.001,
          0.001,
          0.001,
          0.004,
          0.005,
          0.005,
          0.005,
          0.005
         ],
         "yaxis": "y"
        },
        {
         "hovertemplate": "color=Kosovo<br>x=%{x}<br>y=%{y}<extra></extra>",
         "legendgroup": "Kosovo",
         "marker": {
          "color": "#00cc96",
          "symbol": "circle"
         },
         "mode": "markers",
         "name": "Kosovo",
         "showlegend": true,
         "type": "scattergl",
         "x": [
          2011,
          2012,
          2013,
          2014,
          2015,
          2016,
          2017,
          2018,
          2019
         ],
         "xaxis": "x",
         "y": [
          0.107,
          0.098,
          0.145,
          0.152,
          0.142,
          0.246,
          0.181,
          0.302,
          0.309
         ],
         "yaxis": "y"
        },
        {
         "hovertemplate": "color=Kuwait<br>x=%{x}<br>y=%{y}<extra></extra>",
         "legendgroup": "Kuwait",
         "marker": {
          "color": "#ab63fa",
          "symbol": "circle"
         },
         "mode": "markers",
         "name": "Kuwait",
         "showlegend": true,
         "type": "scattergl",
         "x": [
          2011,
          2012,
          2013,
          2014,
          2015,
          2016,
          2017,
          2018,
          2019
         ],
         "xaxis": "x",
         "y": [
          0,
          0,
          0.004,
          0.007,
          0.009,
          0.053,
          0.067,
          0.084,
          0.158
         ],
         "yaxis": "y"
        },
        {
         "hovertemplate": "color=Kyrgyzstan<br>x=%{x}<br>y=%{y}<extra></extra>",
         "legendgroup": "Kyrgyzstan",
         "marker": {
          "color": "#FFA15A",
          "symbol": "circle"
         },
         "mode": "markers",
         "name": "Kyrgyzstan",
         "showlegend": true,
         "type": "scattergl",
         "x": [
          2011,
          2012,
          2013,
          2014,
          2015,
          2016,
          2017,
          2018,
          2019
         ],
         "xaxis": "x",
         "y": [
          13.998,
          14.037,
          12.996,
          13.165,
          10.989,
          11.379,
          14.061,
          14.175,
          13.706
         ],
         "yaxis": "y"
        },
        {
         "hovertemplate": "color=Laos<br>x=%{x}<br>y=%{y}<extra></extra>",
         "legendgroup": "Laos",
         "marker": {
          "color": "#19d3f3",
          "symbol": "circle"
         },
         "mode": "markers",
         "name": "Laos",
         "showlegend": true,
         "type": "scattergl",
         "x": [
          2011,
          2012,
          2013,
          2014,
          2015,
          2016,
          2017,
          2018,
          2019
         ],
         "xaxis": "x",
         "y": [
          12.839,
          12.926,
          15.356,
          15.126,
          13.908,
          17.536,
          19.93,
          22.167,
          19.409
         ],
         "yaxis": "y"
        },
        {
         "hovertemplate": "color=Latvia<br>x=%{x}<br>y=%{y}<extra></extra>",
         "legendgroup": "Latvia",
         "marker": {
          "color": "#FF6692",
          "symbol": "circle"
         },
         "mode": "markers",
         "name": "Latvia",
         "showlegend": true,
         "type": "scattergl",
         "x": [
          2011,
          2012,
          2013,
          2014,
          2015,
          2016,
          2017,
          2018,
          2019,
          2020
         ],
         "xaxis": "x",
         "y": [
          3.076,
          4.109,
          3.533,
          2.802,
          2.777,
          3.482,
          5.462,
          3.499,
          3.135,
          3.563
         ],
         "yaxis": "y"
        },
        {
         "hovertemplate": "color=Lebanon<br>x=%{x}<br>y=%{y}<extra></extra>",
         "legendgroup": "Lebanon",
         "marker": {
          "color": "#B6E880",
          "symbol": "circle"
         },
         "mode": "markers",
         "name": "Lebanon",
         "showlegend": true,
         "type": "scattergl",
         "x": [
          2011,
          2012,
          2013,
          2014,
          2015,
          2016,
          2017,
          2018,
          2019
         ],
         "xaxis": "x",
         "y": [
          0.798,
          0.999,
          1.263,
          0.204,
          0.495,
          0.412,
          0.458,
          0.419,
          0.387
         ],
         "yaxis": "y"
        },
        {
         "hovertemplate": "color=Lesotho<br>x=%{x}<br>y=%{y}<extra></extra>",
         "legendgroup": "Lesotho",
         "marker": {
          "color": "#FF97FF",
          "symbol": "circle"
         },
         "mode": "markers",
         "name": "Lesotho",
         "showlegend": true,
         "type": "scattergl",
         "x": [
          2011,
          2012,
          2013,
          2014,
          2015,
          2016,
          2017,
          2018,
          2019
         ],
         "xaxis": "x",
         "y": [
          0.49,
          0.486,
          0.515,
          0.521,
          0.533,
          0.523,
          0.54,
          0.54,
          0.542
         ],
         "yaxis": "y"
        },
        {
         "hovertemplate": "color=Liberia<br>x=%{x}<br>y=%{y}<extra></extra>",
         "legendgroup": "Liberia",
         "marker": {
          "color": "#FECB52",
          "symbol": "circle"
         },
         "mode": "markers",
         "name": "Liberia",
         "showlegend": true,
         "type": "scattergl",
         "x": [
          2011,
          2012,
          2013,
          2014,
          2015,
          2016,
          2017,
          2018,
          2019
         ],
         "xaxis": "x",
         "y": [
          0,
          0,
          0,
          0,
          0,
          0,
          0.003,
          0.004,
          0.004
         ],
         "yaxis": "y"
        },
        {
         "hovertemplate": "color=Libya<br>x=%{x}<br>y=%{y}<extra></extra>",
         "legendgroup": "Libya",
         "marker": {
          "color": "#636efa",
          "symbol": "circle"
         },
         "mode": "markers",
         "name": "Libya",
         "showlegend": true,
         "type": "scattergl",
         "x": [
          2011,
          2012,
          2013,
          2014,
          2015,
          2016,
          2017,
          2018,
          2019
         ],
         "xaxis": "x",
         "y": [
          0.006,
          0.007,
          0.008,
          0.008,
          0.008,
          0.008,
          0.008,
          0.008,
          0.008
         ],
         "yaxis": "y"
        },
        {
         "hovertemplate": "color=Lithuania<br>x=%{x}<br>y=%{y}<extra></extra>",
         "legendgroup": "Lithuania",
         "marker": {
          "color": "#EF553B",
          "symbol": "circle"
         },
         "mode": "markers",
         "name": "Lithuania",
         "showlegend": true,
         "type": "scattergl",
         "x": [
          2011,
          2012,
          2013,
          2014,
          2015,
          2016,
          2017,
          2018,
          2019,
          2020
         ],
         "xaxis": "x",
         "y": [
          1.113,
          1.183,
          1.525,
          1.511,
          1.679,
          2.095,
          2.538,
          2.205,
          2.439,
          2.412
         ],
         "yaxis": "y"
        },
        {
         "hovertemplate": "color=Luxembourg<br>x=%{x}<br>y=%{y}<extra></extra>",
         "legendgroup": "Luxembourg",
         "marker": {
          "color": "#00cc96",
          "symbol": "circle"
         },
         "mode": "markers",
         "name": "Luxembourg",
         "showlegend": true,
         "type": "scattergl",
         "x": [
          2011,
          2012,
          2013,
          2014,
          2015,
          2016,
          2017,
          2018,
          2019,
          2020
         ],
         "xaxis": "x",
         "y": [
          0.246,
          0.308,
          0.37,
          0.398,
          0.431,
          0.457,
          0.6,
          0.684,
          0.684,
          0.684
         ],
         "yaxis": "y"
        },
        {
         "hovertemplate": "color=Macau<br>x=%{x}<br>y=%{y}<extra></extra>",
         "legendgroup": "Macau",
         "marker": {
          "color": "#ab63fa",
          "symbol": "circle"
         },
         "mode": "markers",
         "name": "Macau",
         "showlegend": true,
         "type": "scattergl",
         "x": [
          2011,
          2012,
          2013,
          2014,
          2015,
          2016,
          2017,
          2018,
          2019
         ],
         "xaxis": "x",
         "y": [
          0,
          0,
          0,
          0,
          0,
          0,
          0,
          0,
          0
         ],
         "yaxis": "y"
        },
        {
         "hovertemplate": "color=Madagascar<br>x=%{x}<br>y=%{y}<extra></extra>",
         "legendgroup": "Madagascar",
         "marker": {
          "color": "#FFA15A",
          "symbol": "circle"
         },
         "mode": "markers",
         "name": "Madagascar",
         "showlegend": true,
         "type": "scattergl",
         "x": [
          2011,
          2012,
          2013,
          2014,
          2015,
          2016,
          2017,
          2018,
          2019
         ],
         "xaxis": "x",
         "y": [
          0.702,
          0.768,
          0.827,
          0.908,
          0.958,
          0.921,
          0.831,
          1.008,
          1.022
         ],
         "yaxis": "y"
        },
        {
         "hovertemplate": "color=Malawi<br>x=%{x}<br>y=%{y}<extra></extra>",
         "legendgroup": "Malawi",
         "marker": {
          "color": "#19d3f3",
          "symbol": "circle"
         },
         "mode": "markers",
         "name": "Malawi",
         "showlegend": true,
         "type": "scattergl",
         "x": [
          2011,
          2012,
          2013,
          2014,
          2015,
          2016,
          2017,
          2018,
          2019
         ],
         "xaxis": "x",
         "y": [
          1.839,
          1.916,
          1.924,
          2.034,
          2.032,
          2.021,
          1.915,
          1.457,
          1.262
         ],
         "yaxis": "y"
        },
        {
         "hovertemplate": "color=Malaysia<br>x=%{x}<br>y=%{y}<extra></extra>",
         "legendgroup": "Malaysia",
         "marker": {
          "color": "#FF6692",
          "symbol": "circle"
         },
         "mode": "markers",
         "name": "Malaysia",
         "showlegend": true,
         "type": "scattergl",
         "x": [
          2011,
          2012,
          2013,
          2014,
          2015,
          2016,
          2017,
          2018,
          2019
         ],
         "xaxis": "x",
         "y": [
          8.631,
          9.839,
          12.97,
          14.336,
          16.39,
          21.223,
          27.618,
          27.957,
          29.082
         ],
         "yaxis": "y"
        },
        {
         "hovertemplate": "color=Maldives<br>x=%{x}<br>y=%{y}<extra></extra>",
         "legendgroup": "Maldives",
         "marker": {
          "color": "#B6E880",
          "symbol": "circle"
         },
         "mode": "markers",
         "name": "Maldives",
         "showlegend": true,
         "type": "scattergl",
         "x": [
          2011,
          2012,
          2013,
          2014,
          2015,
          2016,
          2017,
          2018,
          2019
         ],
         "xaxis": "x",
         "y": [
          0.002,
          0.002,
          0.002,
          0.002,
          0.002,
          0.002,
          0.002,
          0.002,
          0.002
         ],
         "yaxis": "y"
        },
        {
         "hovertemplate": "color=Mali<br>x=%{x}<br>y=%{y}<extra></extra>",
         "legendgroup": "Mali",
         "marker": {
          "color": "#FF97FF",
          "symbol": "circle"
         },
         "mode": "markers",
         "name": "Mali",
         "showlegend": true,
         "type": "scattergl",
         "x": [
          2011,
          2012,
          2013,
          2014,
          2015,
          2016,
          2017,
          2018,
          2019
         ],
         "xaxis": "x",
         "y": [
          1.213,
          1.317,
          1.192,
          1.46,
          1.204,
          1.563,
          1.569,
          1.447,
          1.527
         ],
         "yaxis": "y"
        },
        {
         "hovertemplate": "color=Malta<br>x=%{x}<br>y=%{y}<extra></extra>",
         "legendgroup": "Malta",
         "marker": {
          "color": "#FECB52",
          "symbol": "circle"
         },
         "mode": "markers",
         "name": "Malta",
         "showlegend": true,
         "type": "scattergl",
         "x": [
          2011,
          2012,
          2013,
          2014,
          2015,
          2016,
          2017,
          2018,
          2019,
          2020
         ],
         "xaxis": "x",
         "y": [
          0.01,
          0.026,
          0.035,
          0.075,
          0.102,
          0.136,
          0.172,
          0.199,
          0.199,
          0.199
         ],
         "yaxis": "y"
        },
        {
         "hovertemplate": "color=Martinique<br>x=%{x}<br>y=%{y}<extra></extra>",
         "legendgroup": "Martinique",
         "marker": {
          "color": "#636efa",
          "symbol": "circle"
         },
         "mode": "markers",
         "name": "Martinique",
         "showlegend": true,
         "type": "scattergl",
         "x": [
          2011,
          2012,
          2013,
          2014,
          2015,
          2016,
          2017,
          2018,
          2019
         ],
         "xaxis": "x",
         "y": [
          0.016,
          0.021,
          0.018,
          0.025,
          0.029,
          0.03,
          0.026,
          0.096,
          0.117
         ],
         "yaxis": "y"
        },
        {
         "hovertemplate": "color=Mauritania<br>x=%{x}<br>y=%{y}<extra></extra>",
         "legendgroup": "Mauritania",
         "marker": {
          "color": "#EF553B",
          "symbol": "circle"
         },
         "mode": "markers",
         "name": "Mauritania",
         "showlegend": true,
         "type": "scattergl",
         "x": [
          2011,
          2012,
          2013,
          2014,
          2015,
          2016,
          2017,
          2018,
          2019
         ],
         "xaxis": "x",
         "y": [
          0.13,
          0.136,
          0.209,
          0.223,
          0.32,
          0.291,
          0.335,
          0.438,
          0.448
         ],
         "yaxis": "y"
        },
        {
         "hovertemplate": "color=Mauritius<br>x=%{x}<br>y=%{y}<extra></extra>",
         "legendgroup": "Mauritius",
         "marker": {
          "color": "#00cc96",
          "symbol": "circle"
         },
         "mode": "markers",
         "name": "Mauritius",
         "showlegend": true,
         "type": "scattergl",
         "x": [
          2011,
          2012,
          2013,
          2014,
          2015,
          2016,
          2017,
          2018,
          2019
         ],
         "xaxis": "x",
         "y": [
          0.551,
          0.578,
          0.594,
          0.595,
          0.68,
          0.663,
          0.623,
          0.648,
          0.636
         ],
         "yaxis": "y"
        },
        {
         "hovertemplate": "color=Mexico<br>x=%{x}<br>y=%{y}<extra></extra>",
         "legendgroup": "Mexico",
         "marker": {
          "color": "#ab63fa",
          "symbol": "circle"
         },
         "mode": "markers",
         "name": "Mexico",
         "showlegend": true,
         "type": "scattergl",
         "x": [
          2011,
          2012,
          2013,
          2014,
          2015,
          2016,
          2017,
          2018,
          2019,
          2020
         ],
         "xaxis": "x",
         "y": [
          44.526,
          42.004,
          39.08,
          52.253,
          46.67,
          47.499,
          50.543,
          54.007,
          55.36,
          63.708
         ],
         "yaxis": "y"
        },
        {
         "hovertemplate": "color=Moldova<br>x=%{x}<br>y=%{y}<extra></extra>",
         "legendgroup": "Moldova",
         "marker": {
          "color": "#FFA15A",
          "symbol": "circle"
         },
         "mode": "markers",
         "name": "Moldova",
         "showlegend": true,
         "type": "scattergl",
         "x": [
          2011,
          2012,
          2013,
          2014,
          2015,
          2016,
          2017,
          2018,
          2019
         ],
         "xaxis": "x",
         "y": [
          0.348,
          0.266,
          0.314,
          0.332,
          0.284,
          0.247,
          0.314,
          0.329,
          0.375
         ],
         "yaxis": "y"
        },
        {
         "hovertemplate": "color=Mongolia<br>x=%{x}<br>y=%{y}<extra></extra>",
         "legendgroup": "Mongolia",
         "marker": {
          "color": "#19d3f3",
          "symbol": "circle"
         },
         "mode": "markers",
         "name": "Mongolia",
         "showlegend": true,
         "type": "scattergl",
         "x": [
          2011,
          2012,
          2013,
          2014,
          2015,
          2016,
          2017,
          2018,
          2019,
          2020
         ],
         "xaxis": "x",
         "y": [
          0.061,
          0.06,
          0.122,
          0.2,
          0.221,
          0.247,
          0.416,
          0.457,
          0.513,
          0.509
         ],
         "yaxis": "y"
        },
        {
         "hovertemplate": "color=Montenegro<br>x=%{x}<br>y=%{y}<extra></extra>",
         "legendgroup": "Montenegro",
         "marker": {
          "color": "#FF6692",
          "symbol": "circle"
         },
         "mode": "markers",
         "name": "Montenegro",
         "showlegend": true,
         "type": "scattergl",
         "x": [
          2011,
          2012,
          2013,
          2014,
          2015,
          2016,
          2017,
          2018,
          2019
         ],
         "xaxis": "x",
         "y": [
          1.192,
          1.462,
          2.479,
          1.734,
          1.476,
          1.825,
          1.111,
          2.235,
          2.507
         ],
         "yaxis": "y"
        },
        {
         "hovertemplate": "color=Montserrat<br>x=%{x}<br>y=%{y}<extra></extra>",
         "legendgroup": "Montserrat",
         "marker": {
          "color": "#B6E880",
          "symbol": "circle"
         },
         "mode": "markers",
         "name": "Montserrat",
         "showlegend": true,
         "type": "scattergl",
         "x": [
          2011,
          2012,
          2013,
          2014,
          2015,
          2016,
          2017,
          2018,
          2019
         ],
         "xaxis": "x",
         "y": [
          0,
          0,
          0,
          0,
          0,
          0,
          0,
          0,
          0
         ],
         "yaxis": "y"
        },
        {
         "hovertemplate": "color=Morocco<br>x=%{x}<br>y=%{y}<extra></extra>",
         "legendgroup": "Morocco",
         "marker": {
          "color": "#FF97FF",
          "symbol": "circle"
         },
         "mode": "markers",
         "name": "Morocco",
         "showlegend": true,
         "type": "scattergl",
         "x": [
          2011,
          2012,
          2013,
          2014,
          2015,
          2016,
          2017,
          2018,
          2019
         ],
         "xaxis": "x",
         "y": [
          2.676,
          2.348,
          4.118,
          3.546,
          4.396,
          4.655,
          4.636,
          6.481,
          7.933
         ],
         "yaxis": "y"
        },
        {
         "hovertemplate": "color=Mozambique<br>x=%{x}<br>y=%{y}<extra></extra>",
         "legendgroup": "Mozambique",
         "marker": {
          "color": "#FECB52",
          "symbol": "circle"
         },
         "mode": "markers",
         "name": "Mozambique",
         "showlegend": true,
         "type": "scattergl",
         "x": [
          2011,
          2012,
          2013,
          2014,
          2015,
          2016,
          2017,
          2018,
          2019
         ],
         "xaxis": "x",
         "y": [
          16.71,
          15.062,
          14.464,
          16.086,
          17.099,
          15.51,
          13.98,
          13.845,
          12.761
         ],
         "yaxis": "y"
        },
        {
         "hovertemplate": "color=Myanmar<br>x=%{x}<br>y=%{y}<extra></extra>",
         "legendgroup": "Myanmar",
         "marker": {
          "color": "#636efa",
          "symbol": "circle"
         },
         "mode": "markers",
         "name": "Myanmar",
         "showlegend": true,
         "type": "scattergl",
         "x": [
          2011,
          2012,
          2013,
          2014,
          2015,
          2016,
          2017,
          2018,
          2019
         ],
         "xaxis": "x",
         "y": [
          null,
          null,
          null,
          null,
          null,
          null,
          null,
          null,
          null
         ],
         "yaxis": "y"
        },
        {
         "hovertemplate": "color=Namibia<br>x=%{x}<br>y=%{y}<extra></extra>",
         "legendgroup": "Namibia",
         "marker": {
          "color": "#EF553B",
          "symbol": "circle"
         },
         "mode": "markers",
         "name": "Namibia",
         "showlegend": true,
         "type": "scattergl",
         "x": [
          2011,
          2012,
          2013,
          2014,
          2015,
          2016,
          2017,
          2018,
          2019
         ],
         "xaxis": "x",
         "y": [
          1.399,
          1.606,
          1.282,
          1.5,
          1.527,
          1.403,
          1.608,
          1.164,
          1.045
         ],
         "yaxis": "y"
        },
        {
         "hovertemplate": "color=Nauru<br>x=%{x}<br>y=%{y}<extra></extra>",
         "legendgroup": "Nauru",
         "marker": {
          "color": "#00cc96",
          "symbol": "circle"
         },
         "mode": "markers",
         "name": "Nauru",
         "showlegend": true,
         "type": "scattergl",
         "x": [
          2011,
          2012,
          2013,
          2014,
          2015,
          2016,
          2017,
          2018,
          2019
         ],
         "xaxis": "x",
         "y": [
          0,
          0,
          0,
          0,
          0,
          0,
          0,
          0,
          0
         ],
         "yaxis": "y"
        },
        {
         "hovertemplate": "color=Nepal<br>x=%{x}<br>y=%{y}<extra></extra>",
         "legendgroup": "Nepal",
         "marker": {
          "color": "#ab63fa",
          "symbol": "circle"
         },
         "mode": "markers",
         "name": "Nepal",
         "showlegend": true,
         "type": "scattergl",
         "x": [
          2011,
          2012,
          2013,
          2014,
          2015,
          2016,
          2017,
          2018,
          2019
         ],
         "xaxis": "x",
         "y": [
          3.466,
          3.511,
          3.487,
          3.774,
          3.443,
          4.22,
          4.67,
          4.941,
          5.42
         ],
         "yaxis": "y"
        },
        {
         "hovertemplate": "color=Netherlands<br>x=%{x}<br>y=%{y}<extra></extra>",
         "legendgroup": "Netherlands",
         "marker": {
          "color": "#FFA15A",
          "symbol": "circle"
         },
         "mode": "markers",
         "name": "Netherlands",
         "showlegend": true,
         "type": "scattergl",
         "x": [
          2011,
          2012,
          2013,
          2014,
          2015,
          2016,
          2017,
          2018,
          2019,
          2020
         ],
         "xaxis": "x",
         "y": [
          12.32,
          12.481,
          12.106,
          11.648,
          13.685,
          14.777,
          17.437,
          18.884,
          22.715,
          31.383
         ],
         "yaxis": "y"
        },
        {
         "hovertemplate": "color=Netherlands Antilles<br>x=%{x}<br>y=%{y}<extra></extra>",
         "legendgroup": "Netherlands Antilles",
         "marker": {
          "color": "#19d3f3",
          "symbol": "circle"
         },
         "mode": "markers",
         "name": "Netherlands Antilles",
         "showlegend": true,
         "type": "scattergl",
         "x": [
          2011,
          2012,
          2013,
          2014,
          2015,
          2016,
          2017,
          2018,
          2019
         ],
         "xaxis": "x",
         "y": [
          0.089,
          0.233,
          0.245,
          0.257,
          0.262,
          0.26,
          0.293,
          0.298,
          0.305
         ],
         "yaxis": "y"
        },
        {
         "hovertemplate": "color=New Caledonia<br>x=%{x}<br>y=%{y}<extra></extra>",
         "legendgroup": "New Caledonia",
         "marker": {
          "color": "#FF6692",
          "symbol": "circle"
         },
         "mode": "markers",
         "name": "New Caledonia",
         "showlegend": true,
         "type": "scattergl",
         "x": [
          2011,
          2012,
          2013,
          2014,
          2015,
          2016,
          2017,
          2018,
          2019
         ],
         "xaxis": "x",
         "y": [
          0.417,
          0.452,
          0.508,
          0.346,
          0.402,
          0.277,
          0.406,
          0.362,
          0.355
         ],
         "yaxis": "y"
        },
        {
         "hovertemplate": "color=New Zealand<br>x=%{x}<br>y=%{y}<extra></extra>",
         "legendgroup": "New Zealand",
         "marker": {
          "color": "#B6E880",
          "symbol": "circle"
         },
         "mode": "markers",
         "name": "New Zealand",
         "showlegend": true,
         "type": "scattergl",
         "x": [
          2011,
          2012,
          2013,
          2014,
          2015,
          2016,
          2017,
          2018,
          2019,
          2020
         ],
         "xaxis": "x",
         "y": [
          33.233,
          31.223,
          31.53,
          33.827,
          34.754,
          36.135,
          35.176,
          36.319,
          35.769,
          34.736
         ],
         "yaxis": "y"
        },
        {
         "hovertemplate": "color=Nicaragua<br>x=%{x}<br>y=%{y}<extra></extra>",
         "legendgroup": "Nicaragua",
         "marker": {
          "color": "#FF97FF",
          "symbol": "circle"
         },
         "mode": "markers",
         "name": "Nicaragua",
         "showlegend": true,
         "type": "scattergl",
         "x": [
          2011,
          2012,
          2013,
          2014,
          2015,
          2016,
          2017,
          2018,
          2019
         ],
         "xaxis": "x",
         "y": [
          1.301,
          1.731,
          2.176,
          2.394,
          2.293,
          2.392,
          2.529,
          2.731,
          2.832
         ],
         "yaxis": "y"
        },
        {
         "hovertemplate": "color=Niger<br>x=%{x}<br>y=%{y}<extra></extra>",
         "legendgroup": "Niger",
         "marker": {
          "color": "#FECB52",
          "symbol": "circle"
         },
         "mode": "markers",
         "name": "Niger",
         "showlegend": true,
         "type": "scattergl",
         "x": [
          2011,
          2012,
          2013,
          2014,
          2015,
          2016,
          2017,
          2018,
          2019
         ],
         "xaxis": "x",
         "y": [
          0,
          0,
          0.004,
          0.004,
          0.004,
          0.005,
          0.006,
          0.024,
          0.024
         ],
         "yaxis": "y"
        },
        {
         "hovertemplate": "color=Nigeria<br>x=%{x}<br>y=%{y}<extra></extra>",
         "legendgroup": "Nigeria",
         "marker": {
          "color": "#636efa",
          "symbol": "circle"
         },
         "mode": "markers",
         "name": "Nigeria",
         "showlegend": true,
         "type": "scattergl",
         "x": [
          2011,
          2012,
          2013,
          2014,
          2015,
          2016,
          2017,
          2018,
          2019,
          2020
         ],
         "xaxis": "x",
         "y": [
          5.841,
          5.64,
          5.316,
          5.34,
          5.713,
          8.124,
          7.726,
          6.45,
          6.696,
          7.211
         ],
         "yaxis": "y"
        },
        {
         "hovertemplate": "color=Niue<br>x=%{x}<br>y=%{y}<extra></extra>",
         "legendgroup": "Niue",
         "marker": {
          "color": "#EF553B",
          "symbol": "circle"
         },
         "mode": "markers",
         "name": "Niue",
         "showlegend": true,
         "type": "scattergl",
         "x": [
          2011,
          2012,
          2013,
          2014,
          2015,
          2016,
          2017,
          2018,
          2019
         ],
         "xaxis": "x",
         "y": [
          0,
          0,
          0,
          0,
          0,
          0,
          0,
          0,
          0
         ],
         "yaxis": "y"
        },
        {
         "hovertemplate": "color=North Korea<br>x=%{x}<br>y=%{y}<extra></extra>",
         "legendgroup": "North Korea",
         "marker": {
          "color": "#00cc96",
          "symbol": "circle"
         },
         "mode": "markers",
         "name": "North Korea",
         "showlegend": true,
         "type": "scattergl",
         "x": [
          2011,
          2012,
          2013,
          2014,
          2015,
          2016,
          2017,
          2018,
          2019
         ],
         "xaxis": "x",
         "y": [
          13.071,
          13.369,
          13.766,
          12.877,
          9.911,
          12.685,
          11.796,
          12.688,
          13.666
         ],
         "yaxis": "y"
        },
        {
         "hovertemplate": "color=North Macedonia<br>x=%{x}<br>y=%{y}<extra></extra>",
         "legendgroup": "North Macedonia",
         "marker": {
          "color": "#ab63fa",
          "symbol": "circle"
         },
         "mode": "markers",
         "name": "North Macedonia",
         "showlegend": true,
         "type": "scattergl",
         "x": [
          2011,
          2012,
          2013,
          2014,
          2015,
          2016,
          2017,
          2018,
          2019
         ],
         "xaxis": "x",
         "y": [
          1.434,
          1.044,
          1.593,
          1.292,
          2.029,
          2.067,
          1.296,
          1.966,
          1.344
         ],
         "yaxis": "y"
        },
        {
         "hovertemplate": "color=Northern Mariana Islands<br>x=%{x}<br>y=%{y}<extra></extra>",
         "legendgroup": "Northern Mariana Islands",
         "marker": {
          "color": "#FFA15A",
          "symbol": "circle"
         },
         "mode": "markers",
         "name": "Northern Mariana Islands",
         "showlegend": true,
         "type": "scattergl",
         "x": [
          2011,
          2012,
          2013,
          2014,
          2015,
          2016
         ],
         "xaxis": "x",
         "y": [
          null,
          null,
          null,
          null,
          null,
          null
         ],
         "yaxis": "y"
        },
        {
         "hovertemplate": "color=Norway<br>x=%{x}<br>y=%{y}<extra></extra>",
         "legendgroup": "Norway",
         "marker": {
          "color": "#19d3f3",
          "symbol": "circle"
         },
         "mode": "markers",
         "name": "Norway",
         "showlegend": true,
         "type": "scattergl",
         "x": [
          2011,
          2012,
          2013,
          2014,
          2015,
          2016,
          2017,
          2018,
          2019,
          2020
         ],
         "xaxis": "x",
         "y": [
          121.502,
          143.177,
          130.032,
          137.527,
          139.649,
          144.785,
          144.958,
          142.455,
          129.655,
          141.878
         ],
         "yaxis": "y"
        },
        {
         "hovertemplate": "color=Oman<br>x=%{x}<br>y=%{y}<extra></extra>",
         "legendgroup": "Oman",
         "marker": {
          "color": "#FF6692",
          "symbol": "circle"
         },
         "mode": "markers",
         "name": "Oman",
         "showlegend": true,
         "type": "scattergl",
         "x": [
          2011,
          2012,
          2013,
          2014,
          2015,
          2016,
          2017,
          2018,
          2019
         ],
         "xaxis": "x",
         "y": [
          0,
          0,
          0.001,
          0.001,
          0.004,
          0.004,
          0.004,
          0.004,
          0.004
         ],
         "yaxis": "y"
        },
        {
         "hovertemplate": "color=Pakistan<br>x=%{x}<br>y=%{y}<extra></extra>",
         "legendgroup": "Pakistan",
         "marker": {
          "color": "#B6E880",
          "symbol": "circle"
         },
         "mode": "markers",
         "name": "Pakistan",
         "showlegend": true,
         "type": "scattergl",
         "x": [
          2011,
          2012,
          2013,
          2014,
          2015,
          2016,
          2017,
          2018,
          2019,
          2020
         ],
         "xaxis": "x",
         "y": [
          29.678,
          31.103,
          33.825,
          34.84,
          37.468,
          36.865,
          33.953,
          44.208,
          50.446,
          54.193
         ],
         "yaxis": "y"
        },
        {
         "hovertemplate": "color=Palestine<br>x=%{x}<br>y=%{y}<extra></extra>",
         "legendgroup": "Palestine",
         "marker": {
          "color": "#FF97FF",
          "symbol": "circle"
         },
         "mode": "markers",
         "name": "Palestine",
         "showlegend": true,
         "type": "scattergl",
         "x": [
          2011,
          2012,
          2013,
          2014,
          2015,
          2016,
          2017,
          2018,
          2019
         ],
         "xaxis": "x",
         "y": [
          0,
          0,
          0,
          0,
          0,
          0,
          0.001,
          0,
          0
         ],
         "yaxis": "y"
        },
        {
         "hovertemplate": "color=Panama<br>x=%{x}<br>y=%{y}<extra></extra>",
         "legendgroup": "Panama",
         "marker": {
          "color": "#FECB52",
          "symbol": "circle"
         },
         "mode": "markers",
         "name": "Panama",
         "showlegend": true,
         "type": "scattergl",
         "x": [
          2011,
          2012,
          2013,
          2014,
          2015,
          2016,
          2017,
          2018,
          2019
         ],
         "xaxis": "x",
         "y": [
          4.08,
          5.36,
          5.137,
          5.132,
          6.664,
          7.187,
          7.859,
          8.63,
          9.311
         ],
         "yaxis": "y"
        },
        {
         "hovertemplate": "color=Papua New Guinea<br>x=%{x}<br>y=%{y}<extra></extra>",
         "legendgroup": "Papua New Guinea",
         "marker": {
          "color": "#636efa",
          "symbol": "circle"
         },
         "mode": "markers",
         "name": "Papua New Guinea",
         "showlegend": true,
         "type": "scattergl",
         "x": [
          2011,
          2012,
          2013,
          2014,
          2015,
          2016,
          2017,
          2018,
          2019
         ],
         "xaxis": "x",
         "y": [
          1.384,
          1.001,
          1.019,
          1.045,
          1.04,
          1.035,
          0.831,
          0.822,
          0.843
         ],
         "yaxis": "y"
        },
        {
         "hovertemplate": "color=Paraguay<br>x=%{x}<br>y=%{y}<extra></extra>",
         "legendgroup": "Paraguay",
         "marker": {
          "color": "#EF553B",
          "symbol": "circle"
         },
         "mode": "markers",
         "name": "Paraguay",
         "showlegend": true,
         "type": "scattergl",
         "x": [
          2011,
          2012,
          2013,
          2014,
          2015,
          2016,
          2017,
          2018,
          2019
         ],
         "xaxis": "x",
         "y": [
          57.049,
          59.63,
          59.9,
          54.862,
          55.332,
          64.027,
          59.769,
          59.32,
          49.821
         ],
         "yaxis": "y"
        },
        {
         "hovertemplate": "color=Peru<br>x=%{x}<br>y=%{y}<extra></extra>",
         "legendgroup": "Peru",
         "marker": {
          "color": "#00cc96",
          "symbol": "circle"
         },
         "mode": "markers",
         "name": "Peru",
         "showlegend": true,
         "type": "scattergl",
         "x": [
          2011,
          2012,
          2013,
          2014,
          2015,
          2016,
          2017,
          2018,
          2019,
          2020
         ],
         "xaxis": "x",
         "y": [
          22.047,
          21.869,
          23.247,
          23.728,
          25.206,
          25.776,
          30.6,
          33.086,
          34.207,
          33.582
         ],
         "yaxis": "y"
        },
        {
         "hovertemplate": "color=Philippines<br>x=%{x}<br>y=%{y}<extra></extra>",
         "legendgroup": "Philippines",
         "marker": {
          "color": "#ab63fa",
          "symbol": "circle"
         },
         "mode": "markers",
         "name": "Philippines",
         "showlegend": true,
         "type": "scattergl",
         "x": [
          2011,
          2012,
          2013,
          2014,
          2015,
          2016,
          2017,
          2018,
          2019,
          2020
         ],
         "xaxis": "x",
         "y": [
          19.75,
          20.657,
          19.803,
          19.719,
          20.874,
          21.898,
          23.092,
          22.66,
          21.425,
          21.484
         ],
         "yaxis": "y"
        },
        {
         "hovertemplate": "color=Poland<br>x=%{x}<br>y=%{y}<extra></extra>",
         "legendgroup": "Poland",
         "marker": {
          "color": "#FFA15A",
          "symbol": "circle"
         },
         "mode": "markers",
         "name": "Poland",
         "showlegend": true,
         "type": "scattergl",
         "x": [
          2011,
          2012,
          2013,
          2014,
          2015,
          2016,
          2017,
          2018,
          2019,
          2020
         ],
         "xaxis": "x",
         "y": [
          13.137,
          16.879,
          17.066,
          19.842,
          22.684,
          22.807,
          24.122,
          21.617,
          24.505,
          26.617
         ],
         "yaxis": "y"
        },
        {
         "hovertemplate": "color=Portugal<br>x=%{x}<br>y=%{y}<extra></extra>",
         "legendgroup": "Portugal",
         "marker": {
          "color": "#19d3f3",
          "symbol": "circle"
         },
         "mode": "markers",
         "name": "Portugal",
         "showlegend": true,
         "type": "scattergl",
         "x": [
          2011,
          2012,
          2013,
          2014,
          2015,
          2016,
          2017,
          2018,
          2019,
          2020
         ],
         "xaxis": "x",
         "y": [
          24.115,
          19.372,
          29.472,
          31.561,
          24.372,
          32.31,
          22.573,
          29.402,
          27.792,
          30.593
         ],
         "yaxis": "y"
        },
        {
         "hovertemplate": "color=Puerto Rico<br>x=%{x}<br>y=%{y}<extra></extra>",
         "legendgroup": "Puerto Rico",
         "marker": {
          "color": "#FF6692",
          "symbol": "circle"
         },
         "mode": "markers",
         "name": "Puerto Rico",
         "showlegend": true,
         "type": "scattergl",
         "x": [
          2011,
          2012,
          2013,
          2014,
          2015,
          2016,
          2017,
          2018,
          2019
         ],
         "xaxis": "x",
         "y": [
          0.152,
          0.123,
          0.16,
          0.177,
          0.243,
          0.314,
          0.345,
          1.215,
          4.887
         ],
         "yaxis": "y"
        },
        {
         "hovertemplate": "color=Qatar<br>x=%{x}<br>y=%{y}<extra></extra>",
         "legendgroup": "Qatar",
         "marker": {
          "color": "#B6E880",
          "symbol": "circle"
         },
         "mode": "markers",
         "name": "Qatar",
         "showlegend": true,
         "type": "scattergl",
         "x": [
          2011,
          2012,
          2013,
          2014,
          2015,
          2016,
          2017,
          2018,
          2019
         ],
         "xaxis": "x",
         "y": [
          0.116,
          0.116,
          0.119,
          0.122,
          0.122,
          0.123,
          0.123,
          0.123,
          0.123
         ],
         "yaxis": "y"
        },
        {
         "hovertemplate": "color=Romania<br>x=%{x}<br>y=%{y}<extra></extra>",
         "legendgroup": "Romania",
         "marker": {
          "color": "#FF97FF",
          "symbol": "circle"
         },
         "mode": "markers",
         "name": "Romania",
         "showlegend": true,
         "type": "scattergl",
         "x": [
          2011,
          2012,
          2013,
          2014,
          2015,
          2016,
          2017,
          2018,
          2019,
          2020
         ],
         "xaxis": "x",
         "y": [
          16.313,
          14.926,
          20.148,
          27.126,
          26.2,
          26.969,
          24.282,
          26.195,
          24.737,
          24.657
         ],
         "yaxis": "y"
        },
        {
         "hovertemplate": "color=Russia<br>x=%{x}<br>y=%{y}<extra></extra>",
         "legendgroup": "Russia",
         "marker": {
          "color": "#FECB52",
          "symbol": "circle"
         },
         "mode": "markers",
         "name": "Russia",
         "showlegend": true,
         "type": "scattergl",
         "x": [
          2011,
          2012,
          2013,
          2014,
          2015,
          2016,
          2017,
          2018,
          2019,
          2020
         ],
         "xaxis": "x",
         "y": [
          167.49,
          167.758,
          182.71,
          177.332,
          170.077,
          186.29,
          186.976,
          193.222,
          197.462,
          216.292
         ],
         "yaxis": "y"
        },
        {
         "hovertemplate": "color=Rwanda<br>x=%{x}<br>y=%{y}<extra></extra>",
         "legendgroup": "Rwanda",
         "marker": {
          "color": "#636efa",
          "symbol": "circle"
         },
         "mode": "markers",
         "name": "Rwanda",
         "showlegend": true,
         "type": "scattergl",
         "x": [
          2011,
          2012,
          2013,
          2014,
          2015,
          2016,
          2017,
          2018,
          2019
         ],
         "xaxis": "x",
         "y": [
          0.132,
          0.138,
          0.15,
          0.212,
          0.305,
          0.364,
          0.421,
          0.387,
          0.403
         ],
         "yaxis": "y"
        },
        {
         "hovertemplate": "color=Saint Helena<br>x=%{x}<br>y=%{y}<extra></extra>",
         "legendgroup": "Saint Helena",
         "marker": {
          "color": "#EF553B",
          "symbol": "circle"
         },
         "mode": "markers",
         "name": "Saint Helena",
         "showlegend": true,
         "type": "scattergl",
         "x": [
          2011,
          2012,
          2013,
          2014,
          2015,
          2016,
          2017,
          2018,
          2019
         ],
         "xaxis": "x",
         "y": [
          0,
          0,
          0,
          0,
          0,
          0,
          0,
          0,
          0
         ],
         "yaxis": "y"
        },
        {
         "hovertemplate": "color=Saint Kitts and Nevis<br>x=%{x}<br>y=%{y}<extra></extra>",
         "legendgroup": "Saint Kitts and Nevis",
         "marker": {
          "color": "#00cc96",
          "symbol": "circle"
         },
         "mode": "markers",
         "name": "Saint Kitts and Nevis",
         "showlegend": true,
         "type": "scattergl",
         "x": [
          2011,
          2012,
          2013,
          2014,
          2015,
          2016,
          2017,
          2018,
          2019
         ],
         "xaxis": "x",
         "y": [
          0.005,
          0.008,
          0.008,
          0.008,
          0.008,
          0.008,
          0.008,
          0.008,
          0.008
         ],
         "yaxis": "y"
        },
        {
         "hovertemplate": "color=Saint Lucia<br>x=%{x}<br>y=%{y}<extra></extra>",
         "legendgroup": "Saint Lucia",
         "marker": {
          "color": "#ab63fa",
          "symbol": "circle"
         },
         "mode": "markers",
         "name": "Saint Lucia",
         "showlegend": true,
         "type": "scattergl",
         "x": [
          2011,
          2012,
          2013,
          2014,
          2015,
          2016,
          2017,
          2018,
          2019
         ],
         "xaxis": "x",
         "y": [
          0,
          0,
          0,
          0,
          0.001,
          0.001,
          0.001,
          0.003,
          0.003
         ],
         "yaxis": "y"
        },
        {
         "hovertemplate": "color=Saint Pierre and Miquelon<br>x=%{x}<br>y=%{y}<extra></extra>",
         "legendgroup": "Saint Pierre and Miquelon",
         "marker": {
          "color": "#FFA15A",
          "symbol": "circle"
         },
         "mode": "markers",
         "name": "Saint Pierre and Miquelon",
         "showlegend": true,
         "type": "scattergl",
         "x": [
          2011,
          2012,
          2013,
          2014,
          2015,
          2016,
          2017,
          2018,
          2019
         ],
         "xaxis": "x",
         "y": [
          0.002,
          0.002,
          0.002,
          0,
          0,
          0,
          0,
          0,
          0
         ],
         "yaxis": "y"
        },
        {
         "hovertemplate": "color=Saint Vincent and the Grenadines<br>x=%{x}<br>y=%{y}<extra></extra>",
         "legendgroup": "Saint Vincent and the Grenadines",
         "marker": {
          "color": "#19d3f3",
          "symbol": "circle"
         },
         "mode": "markers",
         "name": "Saint Vincent and the Grenadines",
         "showlegend": true,
         "type": "scattergl",
         "x": [
          2011,
          2012,
          2013,
          2014,
          2015,
          2016,
          2017,
          2018,
          2019
         ],
         "xaxis": "x",
         "y": [
          0.025,
          0.025,
          0.023,
          0.012,
          0.018,
          0.017,
          0.021,
          0.025,
          0.025
         ],
         "yaxis": "y"
        },
        {
         "hovertemplate": "color=Samoa<br>x=%{x}<br>y=%{y}<extra></extra>",
         "legendgroup": "Samoa",
         "marker": {
          "color": "#FF6692",
          "symbol": "circle"
         },
         "mode": "markers",
         "name": "Samoa",
         "showlegend": true,
         "type": "scattergl",
         "x": [
          2011,
          2012,
          2013,
          2014,
          2015,
          2016,
          2017,
          2018,
          2019
         ],
         "xaxis": "x",
         "y": [
          0.055,
          0.037,
          0.032,
          0.03,
          0.031,
          0.031,
          0.035,
          0.043,
          0.047
         ],
         "yaxis": "y"
        },
        {
         "hovertemplate": "color=Sao Tome and Principe<br>x=%{x}<br>y=%{y}<extra></extra>",
         "legendgroup": "Sao Tome and Principe",
         "marker": {
          "color": "#B6E880",
          "symbol": "circle"
         },
         "mode": "markers",
         "name": "Sao Tome and Principe",
         "showlegend": true,
         "type": "scattergl",
         "x": [
          2011,
          2012,
          2013,
          2014,
          2015,
          2016,
          2017,
          2018,
          2019
         ],
         "xaxis": "x",
         "y": [
          0.006,
          0.006,
          0.006,
          0.006,
          0.008,
          0.007,
          0.007,
          0.007,
          0.007
         ],
         "yaxis": "y"
        },
        {
         "hovertemplate": "color=Saudi Arabia<br>x=%{x}<br>y=%{y}<extra></extra>",
         "legendgroup": "Saudi Arabia",
         "marker": {
          "color": "#FF97FF",
          "symbol": "circle"
         },
         "mode": "markers",
         "name": "Saudi Arabia",
         "showlegend": true,
         "type": "scattergl",
         "x": [
          2011,
          2012,
          2013,
          2014,
          2015,
          2016,
          2017,
          2018,
          2019
         ],
         "xaxis": "x",
         "y": [
          0,
          0.024,
          0.039,
          0.042,
          0.129,
          0.129,
          0.16,
          0.16,
          0.16
         ],
         "yaxis": "y"
        },
        {
         "hovertemplate": "color=Senegal<br>x=%{x}<br>y=%{y}<extra></extra>",
         "legendgroup": "Senegal",
         "marker": {
          "color": "#FECB52",
          "symbol": "circle"
         },
         "mode": "markers",
         "name": "Senegal",
         "showlegend": true,
         "type": "scattergl",
         "x": [
          2011,
          2012,
          2013,
          2014,
          2015,
          2016,
          2017,
          2018,
          2019
         ],
         "xaxis": "x",
         "y": [
          0.334,
          0.336,
          0.368,
          0.387,
          0.407,
          0.425,
          0.532,
          0.525,
          0.54
         ],
         "yaxis": "y"
        },
        {
         "hovertemplate": "color=Serbia<br>x=%{x}<br>y=%{y}<extra></extra>",
         "legendgroup": "Serbia",
         "marker": {
          "color": "#636efa",
          "symbol": "circle"
         },
         "mode": "markers",
         "name": "Serbia",
         "showlegend": true,
         "type": "scattergl",
         "x": [
          2011,
          2012,
          2013,
          2014,
          2015,
          2016,
          2017,
          2018,
          2019,
          2020
         ],
         "xaxis": "x",
         "y": [
          8.58,
          9.2,
          10.125,
          10.925,
          10.018,
          10.76,
          9.201,
          10.803,
          11.048,
          10.66
         ],
         "yaxis": "y"
        },
        {
         "hovertemplate": "color=Seychelles<br>x=%{x}<br>y=%{y}<extra></extra>",
         "legendgroup": "Seychelles",
         "marker": {
          "color": "#EF553B",
          "symbol": "circle"
         },
         "mode": "markers",
         "name": "Seychelles",
         "showlegend": true,
         "type": "scattergl",
         "x": [
          2011,
          2012,
          2013,
          2014,
          2015,
          2016,
          2017,
          2018,
          2019
         ],
         "xaxis": "x",
         "y": [
          0,
          0,
          0.007,
          0.008,
          0.009,
          0.002,
          0.003,
          0.005,
          0.005
         ],
         "yaxis": "y"
        },
        {
         "hovertemplate": "color=Sierra Leone<br>x=%{x}<br>y=%{y}<extra></extra>",
         "legendgroup": "Sierra Leone",
         "marker": {
          "color": "#00cc96",
          "symbol": "circle"
         },
         "mode": "markers",
         "name": "Sierra Leone",
         "showlegend": true,
         "type": "scattergl",
         "x": [
          2011,
          2012,
          2013,
          2014,
          2015,
          2016,
          2017,
          2018,
          2019
         ],
         "xaxis": "x",
         "y": [
          0.15,
          0.116,
          0.105,
          0.123,
          0.129,
          0.131,
          0.14,
          0.18,
          0.19
         ],
         "yaxis": "y"
        },
        {
         "hovertemplate": "color=Singapore<br>x=%{x}<br>y=%{y}<extra></extra>",
         "legendgroup": "Singapore",
         "marker": {
          "color": "#ab63fa",
          "symbol": "circle"
         },
         "mode": "markers",
         "name": "Singapore",
         "showlegend": true,
         "type": "scattergl",
         "x": [
          2011,
          2012,
          2013,
          2014,
          2015,
          2016,
          2017,
          2018,
          2019,
          2020
         ],
         "xaxis": "x",
         "y": [
          1.213,
          1.263,
          1.374,
          1.453,
          1.556,
          1.588,
          1.629,
          1.668,
          1.673,
          1.652
         ],
         "yaxis": "y"
        },
        {
         "hovertemplate": "color=Slovakia<br>x=%{x}<br>y=%{y}<extra></extra>",
         "legendgroup": "Slovakia",
         "marker": {
          "color": "#FFA15A",
          "symbol": "circle"
         },
         "mode": "markers",
         "name": "Slovakia",
         "showlegend": true,
         "type": "scattergl",
         "x": [
          2011,
          2012,
          2013,
          2014,
          2015,
          2016,
          2017,
          2018,
          2019,
          2020
         ],
         "xaxis": "x",
         "y": [
          4.999,
          5.474,
          6.353,
          6.229,
          6.04,
          6.629,
          6.532,
          5.806,
          7.211,
          7.435
         ],
         "yaxis": "y"
        },
        {
         "hovertemplate": "color=Slovenia<br>x=%{x}<br>y=%{y}<extra></extra>",
         "legendgroup": "Slovenia",
         "marker": {
          "color": "#19d3f3",
          "symbol": "circle"
         },
         "mode": "markers",
         "name": "Slovenia",
         "showlegend": true,
         "type": "scattergl",
         "x": [
          2011,
          2012,
          2013,
          2014,
          2015,
          2016,
          2017,
          2018,
          2019,
          2020
         ],
         "xaxis": "x",
         "y": [
          3.879,
          4.329,
          5.108,
          6.607,
          4.351,
          5.055,
          4.443,
          5.23,
          5.158,
          5.648
         ],
         "yaxis": "y"
        },
        {
         "hovertemplate": "color=Solomon Islands<br>x=%{x}<br>y=%{y}<extra></extra>",
         "legendgroup": "Solomon Islands",
         "marker": {
          "color": "#FF6692",
          "symbol": "circle"
         },
         "mode": "markers",
         "name": "Solomon Islands",
         "showlegend": true,
         "type": "scattergl",
         "x": [
          2011,
          2012,
          2013,
          2014,
          2015,
          2016,
          2017,
          2018,
          2019
         ],
         "xaxis": "x",
         "y": [
          0.004,
          0.004,
          0.004,
          0.005,
          0.006,
          0.006,
          0.007,
          0.006,
          0.005
         ],
         "yaxis": "y"
        },
        {
         "hovertemplate": "color=Somalia<br>x=%{x}<br>y=%{y}<extra></extra>",
         "legendgroup": "Somalia",
         "marker": {
          "color": "#B6E880",
          "symbol": "circle"
         },
         "mode": "markers",
         "name": "Somalia",
         "showlegend": true,
         "type": "scattergl",
         "x": [
          2011,
          2012,
          2013,
          2014,
          2015,
          2016,
          2017,
          2018,
          2019
         ],
         "xaxis": "x",
         "y": [
          0,
          0.004,
          0.004,
          0.004,
          0.005,
          0.012,
          0.017,
          0.017,
          0.017
         ],
         "yaxis": "y"
        },
        {
         "hovertemplate": "color=South Africa<br>x=%{x}<br>y=%{y}<extra></extra>",
         "legendgroup": "South Africa",
         "marker": {
          "color": "#FF97FF",
          "symbol": "circle"
         },
         "mode": "markers",
         "name": "South Africa",
         "showlegend": true,
         "type": "scattergl",
         "x": [
          2011,
          2012,
          2013,
          2014,
          2015,
          2016,
          2017,
          2018,
          2019,
          2020
         ],
         "xaxis": "x",
         "y": [
          2.44,
          1.614,
          1.527,
          3.379,
          5.81,
          7.755,
          10.079,
          12.244,
          12.952,
          13.929
         ],
         "yaxis": "y"
        },
        {
         "hovertemplate": "color=South Korea<br>x=%{x}<br>y=%{y}<extra></extra>",
         "legendgroup": "South Korea",
         "marker": {
          "color": "#FECB52",
          "symbol": "circle"
         },
         "mode": "markers",
         "name": "South Korea",
         "showlegend": true,
         "type": "scattergl",
         "x": [
          2011,
          2012,
          2013,
          2014,
          2015,
          2016,
          2017,
          2018,
          2019,
          2020
         ],
         "xaxis": "x",
         "y": [
          8.252,
          7.932,
          9.795,
          10.002,
          12.076,
          17.522,
          20.906,
          25.676,
          31.209,
          30.349
         ],
         "yaxis": "y"
        },
        {
         "hovertemplate": "color=South Sudan<br>x=%{x}<br>y=%{y}<extra></extra>",
         "legendgroup": "South Sudan",
         "marker": {
          "color": "#636efa",
          "symbol": "circle"
         },
         "mode": "markers",
         "name": "South Sudan",
         "showlegend": true,
         "type": "scattergl",
         "x": [
          2011,
          2012,
          2013,
          2014,
          2015,
          2016,
          2017,
          2018,
          2019
         ],
         "xaxis": "x",
         "y": [
          0,
          0.002,
          0.002,
          0.002,
          0.002,
          0.002,
          0.003,
          0.003,
          0.003
         ],
         "yaxis": "y"
        },
        {
         "hovertemplate": "color=Spain<br>x=%{x}<br>y=%{y}<extra></extra>",
         "legendgroup": "Spain",
         "marker": {
          "color": "#EF553B",
          "symbol": "circle"
         },
         "mode": "markers",
         "name": "Spain",
         "showlegend": true,
         "type": "scattergl",
         "x": [
          2011,
          2012,
          2013,
          2014,
          2015,
          2016,
          2017,
          2018,
          2019,
          2020
         ],
         "xaxis": "x",
         "y": [
          87.522,
          86.962,
          111.406,
          110.268,
          97.088,
          104.633,
          87.924,
          103.885,
          100.308,
          114.625
         ],
         "yaxis": "y"
        },
        {
         "hovertemplate": "color=Sri Lanka<br>x=%{x}<br>y=%{y}<extra></extra>",
         "legendgroup": "Sri Lanka",
         "marker": {
          "color": "#00cc96",
          "symbol": "circle"
         },
         "mode": "markers",
         "name": "Sri Lanka",
         "showlegend": true,
         "type": "scattergl",
         "x": [
          2011,
          2012,
          2013,
          2014,
          2015,
          2016,
          2017,
          2018,
          2019
         ],
         "xaxis": "x",
         "y": [
          4.714,
          3.444,
          7.13,
          4.837,
          6.33,
          4.619,
          4.554,
          6.866,
          7.314
         ],
         "yaxis": "y"
        },
        {
         "hovertemplate": "color=Sudan<br>x=%{x}<br>y=%{y}<extra></extra>",
         "legendgroup": "Sudan",
         "marker": {
          "color": "#ab63fa",
          "symbol": "circle"
         },
         "mode": "markers",
         "name": "Sudan",
         "showlegend": true,
         "type": "scattergl",
         "x": [
          2011,
          2012,
          2013,
          2014,
          2015,
          2016,
          2017,
          2018,
          2019
         ],
         "xaxis": "x",
         "y": [
          6.527,
          6.682,
          8.381,
          8.953,
          8.46,
          8.099,
          9.391,
          9.698,
          10.109
         ],
         "yaxis": "y"
        },
        {
         "hovertemplate": "color=Suriname<br>x=%{x}<br>y=%{y}<extra></extra>",
         "legendgroup": "Suriname",
         "marker": {
          "color": "#FFA15A",
          "symbol": "circle"
         },
         "mode": "markers",
         "name": "Suriname",
         "showlegend": true,
         "type": "scattergl",
         "x": [
          2011,
          2012,
          2013,
          2014,
          2015,
          2016,
          2017,
          2018,
          2019
         ],
         "xaxis": "x",
         "y": [
          1.031,
          0.825,
          0.83,
          0.562,
          0.483,
          0.791,
          0.932,
          1.006,
          1.181
         ],
         "yaxis": "y"
        },
        {
         "hovertemplate": "color=Sweden<br>x=%{x}<br>y=%{y}<extra></extra>",
         "legendgroup": "Sweden",
         "marker": {
          "color": "#19d3f3",
          "symbol": "circle"
         },
         "mode": "markers",
         "name": "Sweden",
         "showlegend": true,
         "type": "scattergl",
         "x": [
          2011,
          2012,
          2013,
          2014,
          2015,
          2016,
          2017,
          2018,
          2019,
          2020
         ],
         "xaxis": "x",
         "y": [
          84.088,
          98.309,
          82.688,
          85.741,
          102.496,
          89.127,
          95.058,
          91.153,
          99.768,
          112.533
         ],
         "yaxis": "y"
        },
        {
         "hovertemplate": "color=Switzerland<br>x=%{x}<br>y=%{y}<extra></extra>",
         "legendgroup": "Switzerland",
         "marker": {
          "color": "#FF6692",
          "symbol": "circle"
         },
         "mode": "markers",
         "name": "Switzerland",
         "showlegend": true,
         "type": "scattergl",
         "x": [
          2011,
          2012,
          2013,
          2014,
          2015,
          2016,
          2017,
          2018,
          2019,
          2020
         ],
         "xaxis": "x",
         "y": [
          34.837,
          41.347,
          41.536,
          41.607,
          41.926,
          38.716,
          38.676,
          39.785,
          43.22,
          44.728
         ],
         "yaxis": "y"
        },
        {
         "hovertemplate": "color=Syria<br>x=%{x}<br>y=%{y}<extra></extra>",
         "legendgroup": "Syria",
         "marker": {
          "color": "#B6E880",
          "symbol": "circle"
         },
         "mode": "markers",
         "name": "Syria",
         "showlegend": true,
         "type": "scattergl",
         "x": [
          2011,
          2012,
          2013,
          2014,
          2015,
          2016,
          2017,
          2018,
          2019
         ],
         "xaxis": "x",
         "y": [
          3.283,
          3.238,
          3.003,
          2.35,
          0.442,
          0.953,
          0.779,
          0.779,
          0.892
         ],
         "yaxis": "y"
        },
        {
         "hovertemplate": "color=Taiwan<br>x=%{x}<br>y=%{y}<extra></extra>",
         "legendgroup": "Taiwan",
         "marker": {
          "color": "#FF97FF",
          "symbol": "circle"
         },
         "mode": "markers",
         "name": "Taiwan",
         "showlegend": true,
         "type": "scattergl",
         "x": [
          2011,
          2012,
          2013,
          2014,
          2015,
          2016,
          2017,
          2018,
          2019,
          2020
         ],
         "xaxis": "x",
         "y": [
          9.153,
          10.715,
          10.87,
          10.053,
          10.661,
          12.753,
          12.389,
          12.656,
          15.355,
          15.2
         ],
         "yaxis": "y"
        },
        {
         "hovertemplate": "color=Tajikistan<br>x=%{x}<br>y=%{y}<extra></extra>",
         "legendgroup": "Tajikistan",
         "marker": {
          "color": "#FECB52",
          "symbol": "circle"
         },
         "mode": "markers",
         "name": "Tajikistan",
         "showlegend": true,
         "type": "scattergl",
         "x": [
          2011,
          2012,
          2013,
          2014,
          2015,
          2016,
          2017,
          2018,
          2019,
          2020
         ],
         "xaxis": "x",
         "y": [
          16.038,
          16.731,
          16.9,
          15.84,
          16.83,
          16.466,
          16.962,
          18.21,
          18.977,
          18.489
         ],
         "yaxis": "y"
        },
        {
         "hovertemplate": "color=Tanzania<br>x=%{x}<br>y=%{y}<extra></extra>",
         "legendgroup": "Tanzania",
         "marker": {
          "color": "#636efa",
          "symbol": "circle"
         },
         "mode": "markers",
         "name": "Tanzania",
         "showlegend": true,
         "type": "scattergl",
         "x": [
          2011,
          2012,
          2013,
          2014,
          2015,
          2016,
          2017,
          2018,
          2019
         ],
         "xaxis": "x",
         "y": [
          2.05,
          1.82,
          1.783,
          2.643,
          2.166,
          2.444,
          2.438,
          2.372,
          2.416
         ],
         "yaxis": "y"
        },
        {
         "hovertemplate": "color=Thailand<br>x=%{x}<br>y=%{y}<extra></extra>",
         "legendgroup": "Thailand",
         "marker": {
          "color": "#EF553B",
          "symbol": "circle"
         },
         "mode": "markers",
         "name": "Thailand",
         "showlegend": true,
         "type": "scattergl",
         "x": [
          2011,
          2012,
          2013,
          2014,
          2015,
          2016,
          2017,
          2018,
          2019,
          2020
         ],
         "xaxis": "x",
         "y": [
          12.473,
          13.706,
          13.781,
          14.344,
          13.871,
          25.272,
          25.743,
          29.996,
          33.893,
          31.22
         ],
         "yaxis": "y"
        },
        {
         "hovertemplate": "color=Timor<br>x=%{x}<br>y=%{y}<extra></extra>",
         "legendgroup": "Timor",
         "marker": {
          "color": "#00cc96",
          "symbol": "circle"
         },
         "mode": "markers",
         "name": "Timor",
         "showlegend": true,
         "type": "scattergl",
         "x": [
          2011,
          2012,
          2013,
          2014,
          2015,
          2016
         ],
         "xaxis": "x",
         "y": [
          null,
          null,
          null,
          null,
          null,
          null
         ],
         "yaxis": "y"
        },
        {
         "hovertemplate": "color=Togo<br>x=%{x}<br>y=%{y}<extra></extra>",
         "legendgroup": "Togo",
         "marker": {
          "color": "#ab63fa",
          "symbol": "circle"
         },
         "mode": "markers",
         "name": "Togo",
         "showlegend": true,
         "type": "scattergl",
         "x": [
          2011,
          2012,
          2013,
          2014,
          2015,
          2016,
          2017,
          2018,
          2019
         ],
         "xaxis": "x",
         "y": [
          0.111,
          0.094,
          0.04,
          0.12,
          0.059,
          0.207,
          0.105,
          0.007,
          0.003
         ],
         "yaxis": "y"
        },
        {
         "hovertemplate": "color=Tonga<br>x=%{x}<br>y=%{y}<extra></extra>",
         "legendgroup": "Tonga",
         "marker": {
          "color": "#FFA15A",
          "symbol": "circle"
         },
         "mode": "markers",
         "name": "Tonga",
         "showlegend": true,
         "type": "scattergl",
         "x": [
          2011,
          2012,
          2013,
          2014,
          2015,
          2016,
          2017,
          2018,
          2019
         ],
         "xaxis": "x",
         "y": [
          0,
          0,
          0,
          0,
          0,
          0,
          0,
          0,
          0
         ],
         "yaxis": "y"
        },
        {
         "hovertemplate": "color=Trinidad and Tobago<br>x=%{x}<br>y=%{y}<extra></extra>",
         "legendgroup": "Trinidad and Tobago",
         "marker": {
          "color": "#19d3f3",
          "symbol": "circle"
         },
         "mode": "markers",
         "name": "Trinidad and Tobago",
         "showlegend": true,
         "type": "scattergl",
         "x": [
          2011,
          2012,
          2013,
          2014,
          2015,
          2016,
          2017,
          2018,
          2019
         ],
         "xaxis": "x",
         "y": [
          0.004,
          0.004,
          0.004,
          0.004,
          0.005,
          0.005,
          0.005,
          0.005,
          0.005
         ],
         "yaxis": "y"
        },
        {
         "hovertemplate": "color=Tunisia<br>x=%{x}<br>y=%{y}<extra></extra>",
         "legendgroup": "Tunisia",
         "marker": {
          "color": "#FF6692",
          "symbol": "circle"
         },
         "mode": "markers",
         "name": "Tunisia",
         "showlegend": true,
         "type": "scattergl",
         "x": [
          2011,
          2012,
          2013,
          2014,
          2015,
          2016,
          2017,
          2018,
          2019,
          2020
         ],
         "xaxis": "x",
         "y": [
          0.166,
          0.31,
          0.433,
          0.599,
          0.583,
          0.628,
          0.599,
          0.644,
          0.739,
          0.739
         ],
         "yaxis": "y"
        },
        {
         "hovertemplate": "color=Turkey<br>x=%{x}<br>y=%{y}<extra></extra>",
         "legendgroup": "Turkey",
         "marker": {
          "color": "#B6E880",
          "symbol": "circle"
         },
         "mode": "markers",
         "name": "Turkey",
         "showlegend": true,
         "type": "scattergl",
         "x": [
          2011,
          2012,
          2013,
          2014,
          2015,
          2016,
          2017,
          2018,
          2019,
          2020
         ],
         "xaxis": "x",
         "y": [
          56.927,
          63.993,
          68.087,
          51.707,
          82.293,
          89.43,
          86.471,
          96.69,
          130.206,
          125.96
         ],
         "yaxis": "y"
        },
        {
         "hovertemplate": "color=Turkmenistan<br>x=%{x}<br>y=%{y}<extra></extra>",
         "legendgroup": "Turkmenistan",
         "marker": {
          "color": "#FF97FF",
          "symbol": "circle"
         },
         "mode": "markers",
         "name": "Turkmenistan",
         "showlegend": true,
         "type": "scattergl",
         "x": [
          2011,
          2012,
          2013,
          2014,
          2015,
          2016,
          2017,
          2018,
          2019
         ],
         "xaxis": "x",
         "y": [
          0.003,
          0.003,
          0.003,
          0.003,
          0.003,
          0.003,
          0.003,
          0.003,
          0
         ],
         "yaxis": "y"
        },
        {
         "hovertemplate": "color=Turks and Caicos Islands<br>x=%{x}<br>y=%{y}<extra></extra>",
         "legendgroup": "Turks and Caicos Islands",
         "marker": {
          "color": "#FECB52",
          "symbol": "circle"
         },
         "mode": "markers",
         "name": "Turks and Caicos Islands",
         "showlegend": true,
         "type": "scattergl",
         "x": [
          2011,
          2012,
          2013,
          2014,
          2015,
          2016,
          2017,
          2018,
          2019
         ],
         "xaxis": "x",
         "y": [
          0,
          0,
          0,
          0,
          0,
          0,
          0,
          0,
          0
         ],
         "yaxis": "y"
        },
        {
         "hovertemplate": "color=Uganda<br>x=%{x}<br>y=%{y}<extra></extra>",
         "legendgroup": "Uganda",
         "marker": {
          "color": "#636efa",
          "symbol": "circle"
         },
         "mode": "markers",
         "name": "Uganda",
         "showlegend": true,
         "type": "scattergl",
         "x": [
          2011,
          2012,
          2013,
          2014,
          2015,
          2016,
          2017,
          2018,
          2019
         ],
         "xaxis": "x",
         "y": [
          1.772,
          1.844,
          2.78,
          3.042,
          2.935,
          3.816,
          3.972,
          4.179,
          4.58
         ],
         "yaxis": "y"
        },
        {
         "hovertemplate": "color=Ukraine<br>x=%{x}<br>y=%{y}<extra></extra>",
         "legendgroup": "Ukraine",
         "marker": {
          "color": "#EF553B",
          "symbol": "circle"
         },
         "mode": "markers",
         "name": "Ukraine",
         "showlegend": true,
         "type": "scattergl",
         "x": [
          2011,
          2012,
          2013,
          2014,
          2015,
          2016,
          2017,
          2018,
          2019,
          2020
         ],
         "xaxis": "x",
         "y": [
          11.091,
          11.126,
          14.974,
          10.083,
          7.048,
          9.175,
          10.789,
          12.921,
          10.432,
          13.325
         ],
         "yaxis": "y"
        },
        {
         "hovertemplate": "color=United Arab Emirates<br>x=%{x}<br>y=%{y}<extra></extra>",
         "legendgroup": "United Arab Emirates",
         "marker": {
          "color": "#00cc96",
          "symbol": "circle"
         },
         "mode": "markers",
         "name": "United Arab Emirates",
         "showlegend": true,
         "type": "scattergl",
         "x": [
          2011,
          2012,
          2013,
          2014,
          2015,
          2016,
          2017,
          2018,
          2019
         ],
         "xaxis": "x",
         "y": [
          0.034,
          0.035,
          0.101,
          0.309,
          0.304,
          0.316,
          0.741,
          1.31,
          4.177
         ],
         "yaxis": "y"
        },
        {
         "hovertemplate": "color=United Kingdom<br>x=%{x}<br>y=%{y}<extra></extra>",
         "legendgroup": "United Kingdom",
         "marker": {
          "color": "#ab63fa",
          "symbol": "circle"
         },
         "mode": "markers",
         "name": "United Kingdom",
         "showlegend": true,
         "type": "scattergl",
         "x": [
          2011,
          2012,
          2013,
          2014,
          2015,
          2016,
          2017,
          2018,
          2019,
          2020
         ],
         "xaxis": "x",
         "y": [
          35.213,
          41.249,
          53.214,
          64.523,
          82.576,
          81.608,
          97.038,
          108.131,
          117.333,
          129.203
         ],
         "yaxis": "y"
        },
        {
         "hovertemplate": "color=United States<br>x=%{x}<br>y=%{y}<extra></extra>",
         "legendgroup": "United States",
         "marker": {
          "color": "#FFA15A",
          "symbol": "circle"
         },
         "mode": "markers",
         "name": "United States",
         "showlegend": true,
         "type": "scattergl",
         "x": [
          2011,
          2012,
          2013,
          2014,
          2015,
          2016,
          2017,
          2018,
          2019,
          2020
         ],
         "xaxis": "x",
         "y": [
          506.916,
          489.623,
          517.392,
          543.638,
          553.289,
          621.571,
          704.106,
          730.502,
          757.393,
          827.938
         ],
         "yaxis": "y"
        },
        {
         "hovertemplate": "color=United States Virgin Islands<br>x=%{x}<br>y=%{y}<extra></extra>",
         "legendgroup": "United States Virgin Islands",
         "marker": {
          "color": "#19d3f3",
          "symbol": "circle"
         },
         "mode": "markers",
         "name": "United States Virgin Islands",
         "showlegend": true,
         "type": "scattergl",
         "x": [
          2011,
          2012,
          2013,
          2014,
          2015,
          2016,
          2017,
          2018,
          2019
         ],
         "xaxis": "x",
         "y": [
          0.001,
          0.001,
          0.001,
          0.007,
          0.013,
          0.013,
          0.007,
          0.007,
          0.007
         ],
         "yaxis": "y"
        },
        {
         "hovertemplate": "color=Uruguay<br>x=%{x}<br>y=%{y}<extra></extra>",
         "legendgroup": "Uruguay",
         "marker": {
          "color": "#FF6692",
          "symbol": "circle"
         },
         "mode": "markers",
         "name": "Uruguay",
         "showlegend": true,
         "type": "scattergl",
         "x": [
          2011,
          2012,
          2013,
          2014,
          2015,
          2016,
          2017,
          2018,
          2019,
          2020
         ],
         "xaxis": "x",
         "y": [
          7.655,
          6.798,
          9.728,
          12.213,
          12.704,
          13.362,
          14.054,
          14.193,
          15.718,
          12.681
         ],
         "yaxis": "y"
        },
        {
         "hovertemplate": "color=Uzbekistan<br>x=%{x}<br>y=%{y}<extra></extra>",
         "legendgroup": "Uzbekistan",
         "marker": {
          "color": "#B6E880",
          "symbol": "circle"
         },
         "mode": "markers",
         "name": "Uzbekistan",
         "showlegend": true,
         "type": "scattergl",
         "x": [
          2011,
          2012,
          2013,
          2014,
          2015,
          2016,
          2017,
          2018,
          2019
         ],
         "xaxis": "x",
         "y": [
          5.646,
          6.586,
          5.649,
          6.016,
          7,
          7.259,
          8.349,
          5.845,
          5.458
         ],
         "yaxis": "y"
        },
        {
         "hovertemplate": "color=Vanuatu<br>x=%{x}<br>y=%{y}<extra></extra>",
         "legendgroup": "Vanuatu",
         "marker": {
          "color": "#FF97FF",
          "symbol": "circle"
         },
         "mode": "markers",
         "name": "Vanuatu",
         "showlegend": true,
         "type": "scattergl",
         "x": [
          2011,
          2012,
          2013,
          2014,
          2015,
          2016,
          2017,
          2018,
          2019
         ],
         "xaxis": "x",
         "y": [
          0.005,
          0.008,
          0.009,
          0.01,
          0.013,
          0.01,
          0.009,
          0.01,
          0.01
         ],
         "yaxis": "y"
        },
        {
         "hovertemplate": "color=Venezuela<br>x=%{x}<br>y=%{y}<extra></extra>",
         "legendgroup": "Venezuela",
         "marker": {
          "color": "#FECB52",
          "symbol": "circle"
         },
         "mode": "markers",
         "name": "Venezuela",
         "showlegend": true,
         "type": "scattergl",
         "x": [
          2011,
          2012,
          2013,
          2014,
          2015,
          2016,
          2017,
          2018,
          2019
         ],
         "xaxis": "x",
         "y": [
          82.835,
          81.222,
          82.785,
          63.721,
          74.228,
          62.407,
          59.98,
          57.646,
          52.118
         ],
         "yaxis": "y"
        },
        {
         "hovertemplate": "color=Vietnam<br>x=%{x}<br>y=%{y}<extra></extra>",
         "legendgroup": "Vietnam",
         "marker": {
          "color": "#636efa",
          "symbol": "circle"
         },
         "mode": "markers",
         "name": "Vietnam",
         "showlegend": true,
         "type": "scattergl",
         "x": [
          2011,
          2012,
          2013,
          2014,
          2015,
          2016,
          2017,
          2018,
          2019,
          2020
         ],
         "xaxis": "x",
         "y": [
          40.664,
          52.417,
          51.586,
          59.396,
          56.803,
          65.358,
          88.5,
          83.93,
          74.189,
          82.789
         ],
         "yaxis": "y"
        },
        {
         "hovertemplate": "color=Western Sahara<br>x=%{x}<br>y=%{y}<extra></extra>",
         "legendgroup": "Western Sahara",
         "marker": {
          "color": "#EF553B",
          "symbol": "circle"
         },
         "mode": "markers",
         "name": "Western Sahara",
         "showlegend": true,
         "type": "scattergl",
         "x": [
          2011,
          2012,
          2013,
          2014,
          2015,
          2016,
          2017,
          2018,
          2019
         ],
         "xaxis": "x",
         "y": [
          0,
          0,
          0,
          0,
          0,
          0,
          0,
          0,
          0
         ],
         "yaxis": "y"
        },
        {
         "hovertemplate": "color=Yemen<br>x=%{x}<br>y=%{y}<extra></extra>",
         "legendgroup": "Yemen",
         "marker": {
          "color": "#00cc96",
          "symbol": "circle"
         },
         "mode": "markers",
         "name": "Yemen",
         "showlegend": true,
         "type": "scattergl",
         "x": [
          2011,
          2012,
          2013,
          2014,
          2015,
          2016,
          2017,
          2018,
          2019
         ],
         "xaxis": "x",
         "y": [
          0.002,
          0.003,
          0.004,
          0.009,
          0.11,
          0.147,
          0.183,
          0.458,
          0.5
         ],
         "yaxis": "y"
        },
        {
         "hovertemplate": "color=Zambia<br>x=%{x}<br>y=%{y}<extra></extra>",
         "legendgroup": "Zambia",
         "marker": {
          "color": "#ab63fa",
          "symbol": "circle"
         },
         "mode": "markers",
         "name": "Zambia",
         "showlegend": true,
         "type": "scattergl",
         "x": [
          2011,
          2012,
          2013,
          2014,
          2015,
          2016,
          2017,
          2018,
          2019
         ],
         "xaxis": "x",
         "y": [
          11.433,
          12.294,
          13.214,
          13.973,
          12.98,
          10.991,
          12.444,
          13.635,
          13.853
         ],
         "yaxis": "y"
        },
        {
         "hovertemplate": "color=Zimbabwe<br>x=%{x}<br>y=%{y}<extra></extra>",
         "legendgroup": "Zimbabwe",
         "marker": {
          "color": "#FFA15A",
          "symbol": "circle"
         },
         "mode": "markers",
         "name": "Zimbabwe",
         "showlegend": true,
         "type": "scattergl",
         "x": [
          2011,
          2012,
          2013,
          2014,
          2015,
          2016,
          2017,
          2018,
          2019
         ],
         "xaxis": "x",
         "y": [
          5.28,
          5.506,
          5.115,
          5.526,
          5.076,
          3.111,
          4.091,
          5.201,
          5.241
         ],
         "yaxis": "y"
        }
       ],
       "layout": {
        "legend": {
         "title": {
          "text": "color"
         },
         "tracegroupgap": 0
        },
        "margin": {
         "t": 60
        },
        "template": {
         "data": {
          "bar": [
           {
            "error_x": {
             "color": "#2a3f5f"
            },
            "error_y": {
             "color": "#2a3f5f"
            },
            "marker": {
             "line": {
              "color": "#E5ECF6",
              "width": 0.5
             },
             "pattern": {
              "fillmode": "overlay",
              "size": 10,
              "solidity": 0.2
             }
            },
            "type": "bar"
           }
          ],
          "barpolar": [
           {
            "marker": {
             "line": {
              "color": "#E5ECF6",
              "width": 0.5
             },
             "pattern": {
              "fillmode": "overlay",
              "size": 10,
              "solidity": 0.2
             }
            },
            "type": "barpolar"
           }
          ],
          "carpet": [
           {
            "aaxis": {
             "endlinecolor": "#2a3f5f",
             "gridcolor": "white",
             "linecolor": "white",
             "minorgridcolor": "white",
             "startlinecolor": "#2a3f5f"
            },
            "baxis": {
             "endlinecolor": "#2a3f5f",
             "gridcolor": "white",
             "linecolor": "white",
             "minorgridcolor": "white",
             "startlinecolor": "#2a3f5f"
            },
            "type": "carpet"
           }
          ],
          "choropleth": [
           {
            "colorbar": {
             "outlinewidth": 0,
             "ticks": ""
            },
            "type": "choropleth"
           }
          ],
          "contour": [
           {
            "colorbar": {
             "outlinewidth": 0,
             "ticks": ""
            },
            "colorscale": [
             [
              0,
              "#0d0887"
             ],
             [
              0.1111111111111111,
              "#46039f"
             ],
             [
              0.2222222222222222,
              "#7201a8"
             ],
             [
              0.3333333333333333,
              "#9c179e"
             ],
             [
              0.4444444444444444,
              "#bd3786"
             ],
             [
              0.5555555555555556,
              "#d8576b"
             ],
             [
              0.6666666666666666,
              "#ed7953"
             ],
             [
              0.7777777777777778,
              "#fb9f3a"
             ],
             [
              0.8888888888888888,
              "#fdca26"
             ],
             [
              1,
              "#f0f921"
             ]
            ],
            "type": "contour"
           }
          ],
          "contourcarpet": [
           {
            "colorbar": {
             "outlinewidth": 0,
             "ticks": ""
            },
            "type": "contourcarpet"
           }
          ],
          "heatmap": [
           {
            "colorbar": {
             "outlinewidth": 0,
             "ticks": ""
            },
            "colorscale": [
             [
              0,
              "#0d0887"
             ],
             [
              0.1111111111111111,
              "#46039f"
             ],
             [
              0.2222222222222222,
              "#7201a8"
             ],
             [
              0.3333333333333333,
              "#9c179e"
             ],
             [
              0.4444444444444444,
              "#bd3786"
             ],
             [
              0.5555555555555556,
              "#d8576b"
             ],
             [
              0.6666666666666666,
              "#ed7953"
             ],
             [
              0.7777777777777778,
              "#fb9f3a"
             ],
             [
              0.8888888888888888,
              "#fdca26"
             ],
             [
              1,
              "#f0f921"
             ]
            ],
            "type": "heatmap"
           }
          ],
          "heatmapgl": [
           {
            "colorbar": {
             "outlinewidth": 0,
             "ticks": ""
            },
            "colorscale": [
             [
              0,
              "#0d0887"
             ],
             [
              0.1111111111111111,
              "#46039f"
             ],
             [
              0.2222222222222222,
              "#7201a8"
             ],
             [
              0.3333333333333333,
              "#9c179e"
             ],
             [
              0.4444444444444444,
              "#bd3786"
             ],
             [
              0.5555555555555556,
              "#d8576b"
             ],
             [
              0.6666666666666666,
              "#ed7953"
             ],
             [
              0.7777777777777778,
              "#fb9f3a"
             ],
             [
              0.8888888888888888,
              "#fdca26"
             ],
             [
              1,
              "#f0f921"
             ]
            ],
            "type": "heatmapgl"
           }
          ],
          "histogram": [
           {
            "marker": {
             "pattern": {
              "fillmode": "overlay",
              "size": 10,
              "solidity": 0.2
             }
            },
            "type": "histogram"
           }
          ],
          "histogram2d": [
           {
            "colorbar": {
             "outlinewidth": 0,
             "ticks": ""
            },
            "colorscale": [
             [
              0,
              "#0d0887"
             ],
             [
              0.1111111111111111,
              "#46039f"
             ],
             [
              0.2222222222222222,
              "#7201a8"
             ],
             [
              0.3333333333333333,
              "#9c179e"
             ],
             [
              0.4444444444444444,
              "#bd3786"
             ],
             [
              0.5555555555555556,
              "#d8576b"
             ],
             [
              0.6666666666666666,
              "#ed7953"
             ],
             [
              0.7777777777777778,
              "#fb9f3a"
             ],
             [
              0.8888888888888888,
              "#fdca26"
             ],
             [
              1,
              "#f0f921"
             ]
            ],
            "type": "histogram2d"
           }
          ],
          "histogram2dcontour": [
           {
            "colorbar": {
             "outlinewidth": 0,
             "ticks": ""
            },
            "colorscale": [
             [
              0,
              "#0d0887"
             ],
             [
              0.1111111111111111,
              "#46039f"
             ],
             [
              0.2222222222222222,
              "#7201a8"
             ],
             [
              0.3333333333333333,
              "#9c179e"
             ],
             [
              0.4444444444444444,
              "#bd3786"
             ],
             [
              0.5555555555555556,
              "#d8576b"
             ],
             [
              0.6666666666666666,
              "#ed7953"
             ],
             [
              0.7777777777777778,
              "#fb9f3a"
             ],
             [
              0.8888888888888888,
              "#fdca26"
             ],
             [
              1,
              "#f0f921"
             ]
            ],
            "type": "histogram2dcontour"
           }
          ],
          "mesh3d": [
           {
            "colorbar": {
             "outlinewidth": 0,
             "ticks": ""
            },
            "type": "mesh3d"
           }
          ],
          "parcoords": [
           {
            "line": {
             "colorbar": {
              "outlinewidth": 0,
              "ticks": ""
             }
            },
            "type": "parcoords"
           }
          ],
          "pie": [
           {
            "automargin": true,
            "type": "pie"
           }
          ],
          "scatter": [
           {
            "fillpattern": {
             "fillmode": "overlay",
             "size": 10,
             "solidity": 0.2
            },
            "type": "scatter"
           }
          ],
          "scatter3d": [
           {
            "line": {
             "colorbar": {
              "outlinewidth": 0,
              "ticks": ""
             }
            },
            "marker": {
             "colorbar": {
              "outlinewidth": 0,
              "ticks": ""
             }
            },
            "type": "scatter3d"
           }
          ],
          "scattercarpet": [
           {
            "marker": {
             "colorbar": {
              "outlinewidth": 0,
              "ticks": ""
             }
            },
            "type": "scattercarpet"
           }
          ],
          "scattergeo": [
           {
            "marker": {
             "colorbar": {
              "outlinewidth": 0,
              "ticks": ""
             }
            },
            "type": "scattergeo"
           }
          ],
          "scattergl": [
           {
            "marker": {
             "colorbar": {
              "outlinewidth": 0,
              "ticks": ""
             }
            },
            "type": "scattergl"
           }
          ],
          "scattermapbox": [
           {
            "marker": {
             "colorbar": {
              "outlinewidth": 0,
              "ticks": ""
             }
            },
            "type": "scattermapbox"
           }
          ],
          "scatterpolar": [
           {
            "marker": {
             "colorbar": {
              "outlinewidth": 0,
              "ticks": ""
             }
            },
            "type": "scatterpolar"
           }
          ],
          "scatterpolargl": [
           {
            "marker": {
             "colorbar": {
              "outlinewidth": 0,
              "ticks": ""
             }
            },
            "type": "scatterpolargl"
           }
          ],
          "scatterternary": [
           {
            "marker": {
             "colorbar": {
              "outlinewidth": 0,
              "ticks": ""
             }
            },
            "type": "scatterternary"
           }
          ],
          "surface": [
           {
            "colorbar": {
             "outlinewidth": 0,
             "ticks": ""
            },
            "colorscale": [
             [
              0,
              "#0d0887"
             ],
             [
              0.1111111111111111,
              "#46039f"
             ],
             [
              0.2222222222222222,
              "#7201a8"
             ],
             [
              0.3333333333333333,
              "#9c179e"
             ],
             [
              0.4444444444444444,
              "#bd3786"
             ],
             [
              0.5555555555555556,
              "#d8576b"
             ],
             [
              0.6666666666666666,
              "#ed7953"
             ],
             [
              0.7777777777777778,
              "#fb9f3a"
             ],
             [
              0.8888888888888888,
              "#fdca26"
             ],
             [
              1,
              "#f0f921"
             ]
            ],
            "type": "surface"
           }
          ],
          "table": [
           {
            "cells": {
             "fill": {
              "color": "#EBF0F8"
             },
             "line": {
              "color": "white"
             }
            },
            "header": {
             "fill": {
              "color": "#C8D4E3"
             },
             "line": {
              "color": "white"
             }
            },
            "type": "table"
           }
          ]
         },
         "layout": {
          "annotationdefaults": {
           "arrowcolor": "#2a3f5f",
           "arrowhead": 0,
           "arrowwidth": 1
          },
          "autotypenumbers": "strict",
          "coloraxis": {
           "colorbar": {
            "outlinewidth": 0,
            "ticks": ""
           }
          },
          "colorscale": {
           "diverging": [
            [
             0,
             "#8e0152"
            ],
            [
             0.1,
             "#c51b7d"
            ],
            [
             0.2,
             "#de77ae"
            ],
            [
             0.3,
             "#f1b6da"
            ],
            [
             0.4,
             "#fde0ef"
            ],
            [
             0.5,
             "#f7f7f7"
            ],
            [
             0.6,
             "#e6f5d0"
            ],
            [
             0.7,
             "#b8e186"
            ],
            [
             0.8,
             "#7fbc41"
            ],
            [
             0.9,
             "#4d9221"
            ],
            [
             1,
             "#276419"
            ]
           ],
           "sequential": [
            [
             0,
             "#0d0887"
            ],
            [
             0.1111111111111111,
             "#46039f"
            ],
            [
             0.2222222222222222,
             "#7201a8"
            ],
            [
             0.3333333333333333,
             "#9c179e"
            ],
            [
             0.4444444444444444,
             "#bd3786"
            ],
            [
             0.5555555555555556,
             "#d8576b"
            ],
            [
             0.6666666666666666,
             "#ed7953"
            ],
            [
             0.7777777777777778,
             "#fb9f3a"
            ],
            [
             0.8888888888888888,
             "#fdca26"
            ],
            [
             1,
             "#f0f921"
            ]
           ],
           "sequentialminus": [
            [
             0,
             "#0d0887"
            ],
            [
             0.1111111111111111,
             "#46039f"
            ],
            [
             0.2222222222222222,
             "#7201a8"
            ],
            [
             0.3333333333333333,
             "#9c179e"
            ],
            [
             0.4444444444444444,
             "#bd3786"
            ],
            [
             0.5555555555555556,
             "#d8576b"
            ],
            [
             0.6666666666666666,
             "#ed7953"
            ],
            [
             0.7777777777777778,
             "#fb9f3a"
            ],
            [
             0.8888888888888888,
             "#fdca26"
            ],
            [
             1,
             "#f0f921"
            ]
           ]
          },
          "colorway": [
           "#636efa",
           "#EF553B",
           "#00cc96",
           "#ab63fa",
           "#FFA15A",
           "#19d3f3",
           "#FF6692",
           "#B6E880",
           "#FF97FF",
           "#FECB52"
          ],
          "font": {
           "color": "#2a3f5f"
          },
          "geo": {
           "bgcolor": "white",
           "lakecolor": "white",
           "landcolor": "#E5ECF6",
           "showlakes": true,
           "showland": true,
           "subunitcolor": "white"
          },
          "hoverlabel": {
           "align": "left"
          },
          "hovermode": "closest",
          "mapbox": {
           "style": "light"
          },
          "paper_bgcolor": "white",
          "plot_bgcolor": "#E5ECF6",
          "polar": {
           "angularaxis": {
            "gridcolor": "white",
            "linecolor": "white",
            "ticks": ""
           },
           "bgcolor": "#E5ECF6",
           "radialaxis": {
            "gridcolor": "white",
            "linecolor": "white",
            "ticks": ""
           }
          },
          "scene": {
           "xaxis": {
            "backgroundcolor": "#E5ECF6",
            "gridcolor": "white",
            "gridwidth": 2,
            "linecolor": "white",
            "showbackground": true,
            "ticks": "",
            "zerolinecolor": "white"
           },
           "yaxis": {
            "backgroundcolor": "#E5ECF6",
            "gridcolor": "white",
            "gridwidth": 2,
            "linecolor": "white",
            "showbackground": true,
            "ticks": "",
            "zerolinecolor": "white"
           },
           "zaxis": {
            "backgroundcolor": "#E5ECF6",
            "gridcolor": "white",
            "gridwidth": 2,
            "linecolor": "white",
            "showbackground": true,
            "ticks": "",
            "zerolinecolor": "white"
           }
          },
          "shapedefaults": {
           "line": {
            "color": "#2a3f5f"
           }
          },
          "ternary": {
           "aaxis": {
            "gridcolor": "white",
            "linecolor": "white",
            "ticks": ""
           },
           "baxis": {
            "gridcolor": "white",
            "linecolor": "white",
            "ticks": ""
           },
           "bgcolor": "#E5ECF6",
           "caxis": {
            "gridcolor": "white",
            "linecolor": "white",
            "ticks": ""
           }
          },
          "title": {
           "x": 0.05
          },
          "xaxis": {
           "automargin": true,
           "gridcolor": "white",
           "linecolor": "white",
           "ticks": "",
           "title": {
            "standoff": 15
           },
           "zerolinecolor": "white",
           "zerolinewidth": 2
          },
          "yaxis": {
           "automargin": true,
           "gridcolor": "white",
           "linecolor": "white",
           "ticks": "",
           "title": {
            "standoff": 15
           },
           "zerolinecolor": "white",
           "zerolinewidth": 2
          }
         }
        },
        "xaxis": {
         "anchor": "y",
         "domain": [
          0,
          1
         ],
         "title": {
          "text": "x"
         }
        },
        "yaxis": {
         "anchor": "x",
         "domain": [
          0,
          1
         ],
         "title": {
          "text": "y"
         }
        }
       }
      }
     },
     "metadata": {},
     "output_type": "display_data"
    }
   ],
   "source": [
    "fig = px.scatter(x=wec[\"year\"], y=wec[\"renewables_electricity\"], color=wec['country'])\n",
    "fig.show()"
   ]
  },
  {
   "cell_type": "code",
   "execution_count": 37,
   "id": "83d8d549",
   "metadata": {},
   "outputs": [
    {
     "data": {
      "application/vnd.plotly.v1+json": {
       "config": {
        "plotlyServerURL": "https://plot.ly"
       },
       "data": [
        {
         "hovertemplate": "color=Afghanistan<br>x=%{x}<br>y=%{y}<extra></extra>",
         "legendgroup": "Afghanistan",
         "marker": {
          "color": "#636efa",
          "symbol": "circle"
         },
         "mode": "markers",
         "name": "Afghanistan",
         "showlegend": true,
         "type": "scattergl",
         "x": [
          2011,
          2012,
          2013,
          2014,
          2015,
          2016,
          2017,
          2018,
          2019
         ],
         "xaxis": "x",
         "y": [
          70.258,
          80.921,
          80.236,
          86.655,
          87.776,
          87.603,
          86.624,
          86.547,
          85.271
         ],
         "yaxis": "y"
        },
        {
         "hovertemplate": "color=Albania<br>x=%{x}<br>y=%{y}<extra></extra>",
         "legendgroup": "Albania",
         "marker": {
          "color": "#EF553B",
          "symbol": "circle"
         },
         "mode": "markers",
         "name": "Albania",
         "showlegend": true,
         "type": "scattergl",
         "x": [
          2011,
          2012,
          2013,
          2014,
          2015,
          2016,
          2017,
          2018,
          2019
         ],
         "xaxis": "x",
         "y": [
          98.663,
          100,
          100,
          100,
          100,
          100,
          100,
          100,
          100
         ],
         "yaxis": "y"
        },
        {
         "hovertemplate": "color=Algeria<br>x=%{x}<br>y=%{y}<extra></extra>",
         "legendgroup": "Algeria",
         "marker": {
          "color": "#00cc96",
          "symbol": "circle"
         },
         "mode": "markers",
         "name": "Algeria",
         "showlegend": true,
         "type": "scattergl",
         "x": [
          2011,
          2012,
          2013,
          2014,
          2015,
          2016,
          2017,
          2018,
          2019
         ],
         "xaxis": "x",
         "y": [
          1.032,
          1.141,
          0.581,
          0.417,
          0.342,
          0.497,
          0.889,
          1.013,
          0.985
         ],
         "yaxis": "y"
        },
        {
         "hovertemplate": "color=American Samoa<br>x=%{x}<br>y=%{y}<extra></extra>",
         "legendgroup": "American Samoa",
         "marker": {
          "color": "#ab63fa",
          "symbol": "circle"
         },
         "mode": "markers",
         "name": "American Samoa",
         "showlegend": true,
         "type": "scattergl",
         "x": [
          2011,
          2012,
          2013,
          2014,
          2015,
          2016,
          2017,
          2018,
          2019
         ],
         "xaxis": "x",
         "y": [
          0,
          0,
          0,
          0,
          0,
          0,
          0,
          0,
          0
         ],
         "yaxis": "y"
        },
        {
         "hovertemplate": "color=Angola<br>x=%{x}<br>y=%{y}<extra></extra>",
         "legendgroup": "Angola",
         "marker": {
          "color": "#FFA15A",
          "symbol": "circle"
         },
         "mode": "markers",
         "name": "Angola",
         "showlegend": true,
         "type": "scattergl",
         "x": [
          2011,
          2012,
          2013,
          2014,
          2015,
          2016,
          2017,
          2018,
          2019
         ],
         "xaxis": "x",
         "y": [
          72.021,
          62.114,
          59.353,
          54.727,
          54.753,
          58.12,
          73.005,
          75.86,
          81.109
         ],
         "yaxis": "y"
        },
        {
         "hovertemplate": "color=Antigua and Barbuda<br>x=%{x}<br>y=%{y}<extra></extra>",
         "legendgroup": "Antigua and Barbuda",
         "marker": {
          "color": "#19d3f3",
          "symbol": "circle"
         },
         "mode": "markers",
         "name": "Antigua and Barbuda",
         "showlegend": true,
         "type": "scattergl",
         "x": [
          2011,
          2012,
          2013,
          2014,
          2015,
          2016,
          2017,
          2018,
          2019
         ],
         "xaxis": "x",
         "y": [
          0.157,
          0.161,
          0.193,
          0.19,
          1.646,
          1.678,
          1.866,
          3.867,
          4.39
         ],
         "yaxis": "y"
        },
        {
         "hovertemplate": "color=Argentina<br>x=%{x}<br>y=%{y}<extra></extra>",
         "legendgroup": "Argentina",
         "marker": {
          "color": "#FF6692",
          "symbol": "circle"
         },
         "mode": "markers",
         "name": "Argentina",
         "showlegend": true,
         "type": "scattergl",
         "x": [
          2011,
          2012,
          2013,
          2014,
          2015,
          2016,
          2017,
          2018,
          2019,
          2020
         ],
         "xaxis": "x",
         "y": [
          26.277,
          24.022,
          26.338,
          25.799,
          24.486,
          22.374,
          24.222,
          24.981,
          26.27,
          24.796
         ],
         "yaxis": "y"
        },
        {
         "hovertemplate": "color=Armenia<br>x=%{x}<br>y=%{y}<extra></extra>",
         "legendgroup": "Armenia",
         "marker": {
          "color": "#B6E880",
          "symbol": "circle"
         },
         "mode": "markers",
         "name": "Armenia",
         "showlegend": true,
         "type": "scattergl",
         "x": [
          2011,
          2012,
          2013,
          2014,
          2015,
          2016,
          2017,
          2018,
          2019
         ],
         "xaxis": "x",
         "y": [
          34.891,
          30.215,
          29.498,
          26.944,
          29.6,
          33.52,
          30.577,
          31.349,
          32.568
         ],
         "yaxis": "y"
        },
        {
         "hovertemplate": "color=Aruba<br>x=%{x}<br>y=%{y}<extra></extra>",
         "legendgroup": "Aruba",
         "marker": {
          "color": "#FF97FF",
          "symbol": "circle"
         },
         "mode": "markers",
         "name": "Aruba",
         "showlegend": true,
         "type": "scattergl",
         "x": [
          2011,
          2012,
          2013,
          2014,
          2015,
          2016,
          2017,
          2018,
          2019
         ],
         "xaxis": "x",
         "y": [
          12.861,
          15.783,
          17.095,
          18.085,
          19.064,
          16.439,
          15.391,
          15.176,
          14.799
         ],
         "yaxis": "y"
        },
        {
         "hovertemplate": "color=Australia<br>x=%{x}<br>y=%{y}<extra></extra>",
         "legendgroup": "Australia",
         "marker": {
          "color": "#FECB52",
          "symbol": "circle"
         },
         "mode": "markers",
         "name": "Australia",
         "showlegend": true,
         "type": "scattergl",
         "x": [
          2011,
          2012,
          2013,
          2014,
          2015,
          2016,
          2017,
          2018,
          2019,
          2020
         ],
         "xaxis": "x",
         "y": [
          10.944,
          11.088,
          13.845,
          15.387,
          14.03,
          15.281,
          16.43,
          17.933,
          21.444,
          24.867
         ],
         "yaxis": "y"
        },
        {
         "hovertemplate": "color=Austria<br>x=%{x}<br>y=%{y}<extra></extra>",
         "legendgroup": "Austria",
         "marker": {
          "color": "#636efa",
          "symbol": "circle"
         },
         "mode": "markers",
         "name": "Austria",
         "showlegend": true,
         "type": "scattergl",
         "x": [
          2011,
          2012,
          2013,
          2014,
          2015,
          2016,
          2017,
          2018,
          2019,
          2020
         ],
         "xaxis": "x",
         "y": [
          65.707,
          74.715,
          78.183,
          81.472,
          76.932,
          78.28,
          75.715,
          76.971,
          76.966,
          79.268
         ],
         "yaxis": "y"
        },
        {
         "hovertemplate": "color=Azerbaijan<br>x=%{x}<br>y=%{y}<extra></extra>",
         "legendgroup": "Azerbaijan",
         "marker": {
          "color": "#EF553B",
          "symbol": "circle"
         },
         "mode": "markers",
         "name": "Azerbaijan",
         "showlegend": true,
         "type": "scattergl",
         "x": [
          2011,
          2012,
          2013,
          2014,
          2015,
          2016,
          2017,
          2018,
          2019,
          2020
         ],
         "xaxis": "x",
         "y": [
          13.79,
          8.309,
          7.306,
          6.286,
          7.781,
          9.212,
          8.527,
          8.535,
          7.659,
          7.307
         ],
         "yaxis": "y"
        },
        {
         "hovertemplate": "color=Bahamas<br>x=%{x}<br>y=%{y}<extra></extra>",
         "legendgroup": "Bahamas",
         "marker": {
          "color": "#00cc96",
          "symbol": "circle"
         },
         "mode": "markers",
         "name": "Bahamas",
         "showlegend": true,
         "type": "scattergl",
         "x": [
          2011,
          2012,
          2013,
          2014,
          2015,
          2016,
          2017,
          2018,
          2019
         ],
         "xaxis": "x",
         "y": [
          0.031,
          0.05,
          0.051,
          0.111,
          0.106,
          0.108,
          0.111,
          0.184,
          0.183
         ],
         "yaxis": "y"
        },
        {
         "hovertemplate": "color=Bahrain<br>x=%{x}<br>y=%{y}<extra></extra>",
         "legendgroup": "Bahrain",
         "marker": {
          "color": "#ab63fa",
          "symbol": "circle"
         },
         "mode": "markers",
         "name": "Bahrain",
         "showlegend": true,
         "type": "scattergl",
         "x": [
          2011,
          2012,
          2013,
          2014,
          2015,
          2016,
          2017,
          2018,
          2019
         ],
         "xaxis": "x",
         "y": [
          0.011,
          0.008,
          0.007,
          0.036,
          0.035,
          0.035,
          0.034,
          0.033,
          0.033
         ],
         "yaxis": "y"
        },
        {
         "hovertemplate": "color=Bangladesh<br>x=%{x}<br>y=%{y}<extra></extra>",
         "legendgroup": "Bangladesh",
         "marker": {
          "color": "#FFA15A",
          "symbol": "circle"
         },
         "mode": "markers",
         "name": "Bangladesh",
         "showlegend": true,
         "type": "scattergl",
         "x": [
          2011,
          2012,
          2013,
          2014,
          2015,
          2016,
          2017,
          2018,
          2019,
          2020
         ],
         "xaxis": "x",
         "y": [
          2.351,
          1.787,
          2.159,
          1.513,
          1.462,
          1.931,
          1.898,
          1.859,
          1.565,
          1.397
         ],
         "yaxis": "y"
        },
        {
         "hovertemplate": "color=Barbados<br>x=%{x}<br>y=%{y}<extra></extra>",
         "legendgroup": "Barbados",
         "marker": {
          "color": "#19d3f3",
          "symbol": "circle"
         },
         "mode": "markers",
         "name": "Barbados",
         "showlegend": true,
         "type": "scattergl",
         "x": [
          2011,
          2012,
          2013,
          2014,
          2015,
          2016,
          2017,
          2018,
          2019
         ],
         "xaxis": "x",
         "y": [
          0.303,
          0.282,
          0.417,
          1.032,
          1.426,
          2.916,
          2.931,
          3.692,
          3.942
         ],
         "yaxis": "y"
        },
        {
         "hovertemplate": "color=Belarus<br>x=%{x}<br>y=%{y}<extra></extra>",
         "legendgroup": "Belarus",
         "marker": {
          "color": "#FF6692",
          "symbol": "circle"
         },
         "mode": "markers",
         "name": "Belarus",
         "showlegend": true,
         "type": "scattergl",
         "x": [
          2011,
          2012,
          2013,
          2014,
          2015,
          2016,
          2017,
          2018,
          2019,
          2020
         ],
         "xaxis": "x",
         "y": [
          0.489,
          0.697,
          1.002,
          0.879,
          1.017,
          1.33,
          2.407,
          2.188,
          2.756,
          2.893
         ],
         "yaxis": "y"
        },
        {
         "hovertemplate": "color=Belgium<br>x=%{x}<br>y=%{y}<extra></extra>",
         "legendgroup": "Belgium",
         "marker": {
          "color": "#B6E880",
          "symbol": "circle"
         },
         "mode": "markers",
         "name": "Belgium",
         "showlegend": true,
         "type": "scattergl",
         "x": [
          2011,
          2012,
          2013,
          2014,
          2015,
          2016,
          2017,
          2018,
          2019,
          2020
         ],
         "xaxis": "x",
         "y": [
          9.401,
          12.827,
          14.264,
          17.251,
          21.246,
          17.038,
          18.636,
          23.293,
          20.779,
          26.119
         ],
         "yaxis": "y"
        },
        {
         "hovertemplate": "color=Belize<br>x=%{x}<br>y=%{y}<extra></extra>",
         "legendgroup": "Belize",
         "marker": {
          "color": "#FF97FF",
          "symbol": "circle"
         },
         "mode": "markers",
         "name": "Belize",
         "showlegend": true,
         "type": "scattergl",
         "x": [
          2011,
          2012,
          2013,
          2014,
          2015,
          2016,
          2017,
          2018,
          2019
         ],
         "xaxis": "x",
         "y": [
          97.977,
          95.873,
          97.391,
          97.788,
          94.955,
          96.416,
          96.046,
          95.777,
          96.403
         ],
         "yaxis": "y"
        },
        {
         "hovertemplate": "color=Benin<br>x=%{x}<br>y=%{y}<extra></extra>",
         "legendgroup": "Benin",
         "marker": {
          "color": "#FECB52",
          "symbol": "circle"
         },
         "mode": "markers",
         "name": "Benin",
         "showlegend": true,
         "type": "scattergl",
         "x": [
          2011,
          2012,
          2013,
          2014,
          2015,
          2016,
          2017,
          2018,
          2019
         ],
         "xaxis": "x",
         "y": [
          2.063,
          4.244,
          3.353,
          1.318,
          2.247,
          3.883,
          1.958,
          2.731,
          3.389
         ],
         "yaxis": "y"
        },
        {
         "hovertemplate": "color=Bermuda<br>x=%{x}<br>y=%{y}<extra></extra>",
         "legendgroup": "Bermuda",
         "marker": {
          "color": "#636efa",
          "symbol": "circle"
         },
         "mode": "markers",
         "name": "Bermuda",
         "showlegend": true,
         "type": "scattergl",
         "x": [
          2011,
          2012,
          2013,
          2014,
          2015,
          2016,
          2017,
          2018,
          2019
         ],
         "xaxis": "x",
         "y": [
          0,
          0,
          0,
          0,
          0,
          0,
          0,
          0,
          0
         ],
         "yaxis": "y"
        },
        {
         "hovertemplate": "color=Bhutan<br>x=%{x}<br>y=%{y}<extra></extra>",
         "legendgroup": "Bhutan",
         "marker": {
          "color": "#EF553B",
          "symbol": "circle"
         },
         "mode": "markers",
         "name": "Bhutan",
         "showlegend": true,
         "type": "scattergl",
         "x": [
          2011,
          2012,
          2013,
          2014,
          2015,
          2016,
          2017,
          2018,
          2019
         ],
         "xaxis": "x",
         "y": [
          99.986,
          99.985,
          99.987,
          100,
          100,
          100,
          99.996,
          99.999,
          99.999
         ],
         "yaxis": "y"
        },
        {
         "hovertemplate": "color=Bolivia<br>x=%{x}<br>y=%{y}<extra></extra>",
         "legendgroup": "Bolivia",
         "marker": {
          "color": "#00cc96",
          "symbol": "circle"
         },
         "mode": "markers",
         "name": "Bolivia",
         "showlegend": true,
         "type": "scattergl",
         "x": [
          2011,
          2012,
          2013,
          2014,
          2015,
          2016,
          2017,
          2018,
          2019,
          2020
         ],
         "xaxis": "x",
         "y": [
          35.069,
          33.067,
          34.178,
          28.864,
          30.818,
          21.753,
          26.39,
          31.432,
          38.489,
          37.15
         ],
         "yaxis": "y"
        },
        {
         "hovertemplate": "color=Bosnia and Herzegovina<br>x=%{x}<br>y=%{y}<extra></extra>",
         "legendgroup": "Bosnia and Herzegovina",
         "marker": {
          "color": "#ab63fa",
          "symbol": "circle"
         },
         "mode": "markers",
         "name": "Bosnia and Herzegovina",
         "showlegend": true,
         "type": "scattergl",
         "x": [
          2011,
          2012,
          2013,
          2014,
          2015,
          2016,
          2017,
          2018,
          2019,
          2020
         ],
         "xaxis": "x",
         "y": [
          29.787,
          31.036,
          42.732,
          37.944,
          36.715,
          33.03,
          24.453,
          35.55,
          38.763,
          32.29
         ],
         "yaxis": "y"
        },
        {
         "hovertemplate": "color=Botswana<br>x=%{x}<br>y=%{y}<extra></extra>",
         "legendgroup": "Botswana",
         "marker": {
          "color": "#FFA15A",
          "symbol": "circle"
         },
         "mode": "markers",
         "name": "Botswana",
         "showlegend": true,
         "type": "scattergl",
         "x": [
          2011,
          2012,
          2013,
          2014,
          2015,
          2016,
          2017,
          2018,
          2019
         ],
         "xaxis": "x",
         "y": [
          0,
          0.303,
          0.23,
          0.138,
          0.107,
          0.198,
          0.176,
          0.168,
          0.165
         ],
         "yaxis": "y"
        },
        {
         "hovertemplate": "color=Brazil<br>x=%{x}<br>y=%{y}<extra></extra>",
         "legendgroup": "Brazil",
         "marker": {
          "color": "#19d3f3",
          "symbol": "circle"
         },
         "mode": "markers",
         "name": "Brazil",
         "showlegend": true,
         "type": "scattergl",
         "x": [
          2011,
          2012,
          2013,
          2014,
          2015,
          2016,
          2017,
          2018,
          2019,
          2020
         ],
         "xaxis": "x",
         "y": [
          87.779,
          83.237,
          77.664,
          74.189,
          75.135,
          81.275,
          80.098,
          82.982,
          83.05,
          84.231
         ],
         "yaxis": "y"
        },
        {
         "hovertemplate": "color=British Virgin Islands<br>x=%{x}<br>y=%{y}<extra></extra>",
         "legendgroup": "British Virgin Islands",
         "marker": {
          "color": "#FF6692",
          "symbol": "circle"
         },
         "mode": "markers",
         "name": "British Virgin Islands",
         "showlegend": true,
         "type": "scattergl",
         "x": [
          2011,
          2012,
          2013,
          2014,
          2015,
          2016,
          2017,
          2018,
          2019
         ],
         "xaxis": "x",
         "y": [
          0.75,
          0.73,
          0.73,
          0.73,
          0.789,
          0.781,
          1.108,
          1.534,
          2.24
         ],
         "yaxis": "y"
        },
        {
         "hovertemplate": "color=Brunei<br>x=%{x}<br>y=%{y}<extra></extra>",
         "legendgroup": "Brunei",
         "marker": {
          "color": "#B6E880",
          "symbol": "circle"
         },
         "mode": "markers",
         "name": "Brunei",
         "showlegend": true,
         "type": "scattergl",
         "x": [
          2011,
          2012,
          2013,
          2014,
          2015,
          2016,
          2017,
          2018,
          2019
         ],
         "xaxis": "x",
         "y": [
          0,
          0.054,
          0.048,
          0.047,
          0.051,
          0.025,
          0.051,
          0.05,
          0.049
         ],
         "yaxis": "y"
        },
        {
         "hovertemplate": "color=Bulgaria<br>x=%{x}<br>y=%{y}<extra></extra>",
         "legendgroup": "Bulgaria",
         "marker": {
          "color": "#FF97FF",
          "symbol": "circle"
         },
         "mode": "markers",
         "name": "Bulgaria",
         "showlegend": true,
         "type": "scattergl",
         "x": [
          2011,
          2012,
          2013,
          2014,
          2015,
          2016,
          2017,
          2018,
          2019,
          2020
         ],
         "xaxis": "x",
         "y": [
          7.786,
          11.347,
          16.002,
          15.744,
          17.983,
          15.811,
          13.651,
          19.983,
          16.375,
          18.591
         ],
         "yaxis": "y"
        },
        {
         "hovertemplate": "color=Burkina Faso<br>x=%{x}<br>y=%{y}<extra></extra>",
         "legendgroup": "Burkina Faso",
         "marker": {
          "color": "#FECB52",
          "symbol": "circle"
         },
         "mode": "markers",
         "name": "Burkina Faso",
         "showlegend": true,
         "type": "scattergl",
         "x": [
          2011,
          2012,
          2013,
          2014,
          2015,
          2016,
          2017,
          2018,
          2019
         ],
         "xaxis": "x",
         "y": [
          16.729,
          17.579,
          17.217,
          12.126,
          11.104,
          16.534,
          14.958,
          15.419,
          15.619
         ],
         "yaxis": "y"
        },
        {
         "hovertemplate": "color=Burundi<br>x=%{x}<br>y=%{y}<extra></extra>",
         "legendgroup": "Burundi",
         "marker": {
          "color": "#636efa",
          "symbol": "circle"
         },
         "mode": "markers",
         "name": "Burundi",
         "showlegend": true,
         "type": "scattergl",
         "x": [
          2011,
          2012,
          2013,
          2014,
          2015,
          2016,
          2017,
          2018,
          2019
         ],
         "xaxis": "x",
         "y": [
          91.837,
          98,
          85.057,
          80.214,
          81.667,
          84.239,
          71.685,
          63.783,
          67.409
         ],
         "yaxis": "y"
        },
        {
         "hovertemplate": "color=Cambodia<br>x=%{x}<br>y=%{y}<extra></extra>",
         "legendgroup": "Cambodia",
         "marker": {
          "color": "#EF553B",
          "symbol": "circle"
         },
         "mode": "markers",
         "name": "Cambodia",
         "showlegend": true,
         "type": "scattergl",
         "x": [
          2011,
          2012,
          2013,
          2014,
          2015,
          2016,
          2017,
          2018,
          2019
         ],
         "xaxis": "x",
         "y": [
          7.429,
          38.912,
          59.202,
          62.361,
          47.718,
          48.925,
          41.128,
          60.192,
          54.29
         ],
         "yaxis": "y"
        },
        {
         "hovertemplate": "color=Cameroon<br>x=%{x}<br>y=%{y}<extra></extra>",
         "legendgroup": "Cameroon",
         "marker": {
          "color": "#00cc96",
          "symbol": "circle"
         },
         "mode": "markers",
         "name": "Cameroon",
         "showlegend": true,
         "type": "scattergl",
         "x": [
          2011,
          2012,
          2013,
          2014,
          2015,
          2016,
          2017,
          2018,
          2019
         ],
         "xaxis": "x",
         "y": [
          76.258,
          79.646,
          70.72,
          65.465,
          56.434,
          62.919,
          64.709,
          60.166,
          61.931
         ],
         "yaxis": "y"
        },
        {
         "hovertemplate": "color=Canada<br>x=%{x}<br>y=%{y}<extra></extra>",
         "legendgroup": "Canada",
         "marker": {
          "color": "#ab63fa",
          "symbol": "circle"
         },
         "mode": "markers",
         "name": "Canada",
         "showlegend": true,
         "type": "scattergl",
         "x": [
          2011,
          2012,
          2013,
          2014,
          2015,
          2016,
          2017,
          2018,
          2019,
          2020
         ],
         "xaxis": "x",
         "y": [
          64.118,
          65.135,
          65.544,
          65.095,
          65.26,
          65.985,
          67.743,
          67.42,
          67.018,
          68.52
         ],
         "yaxis": "y"
        },
        {
         "hovertemplate": "color=Cape Verde<br>x=%{x}<br>y=%{y}<extra></extra>",
         "legendgroup": "Cape Verde",
         "marker": {
          "color": "#FFA15A",
          "symbol": "circle"
         },
         "mode": "markers",
         "name": "Cape Verde",
         "showlegend": true,
         "type": "scattergl",
         "x": [
          2011,
          2012,
          2013,
          2014,
          2015,
          2016
         ],
         "xaxis": "x",
         "y": [
          null,
          null,
          null,
          null,
          null,
          null
         ],
         "yaxis": "y"
        },
        {
         "hovertemplate": "color=Cayman Islands<br>x=%{x}<br>y=%{y}<extra></extra>",
         "legendgroup": "Cayman Islands",
         "marker": {
          "color": "#19d3f3",
          "symbol": "circle"
         },
         "mode": "markers",
         "name": "Cayman Islands",
         "showlegend": true,
         "type": "scattergl",
         "x": [
          2011,
          2012,
          2013,
          2014,
          2015,
          2016,
          2017,
          2018,
          2019
         ],
         "xaxis": "x",
         "y": [
          0,
          0,
          0,
          0,
          0,
          0.612,
          2.138,
          2.456,
          2.325
         ],
         "yaxis": "y"
        },
        {
         "hovertemplate": "color=Central African Republic<br>x=%{x}<br>y=%{y}<extra></extra>",
         "legendgroup": "Central African Republic",
         "marker": {
          "color": "#FF6692",
          "symbol": "circle"
         },
         "mode": "markers",
         "name": "Central African Republic",
         "showlegend": true,
         "type": "scattergl",
         "x": [
          2011,
          2012,
          2013,
          2014,
          2015,
          2016,
          2017,
          2018,
          2019
         ],
         "xaxis": "x",
         "y": [
          85.406,
          85.665,
          99.277,
          99.41,
          99.41,
          99.413,
          99.339,
          99.338,
          99.338
         ],
         "yaxis": "y"
        },
        {
         "hovertemplate": "color=Chad<br>x=%{x}<br>y=%{y}<extra></extra>",
         "legendgroup": "Chad",
         "marker": {
          "color": "#B6E880",
          "symbol": "circle"
         },
         "mode": "markers",
         "name": "Chad",
         "showlegend": true,
         "type": "scattergl",
         "x": [
          2011,
          2012,
          2013,
          2014,
          2015,
          2016,
          2017,
          2018,
          2019
         ],
         "xaxis": "x",
         "y": [
          0,
          0,
          0.047,
          0.047,
          0.14,
          4.128,
          4.128,
          3.93,
          3.896
         ],
         "yaxis": "y"
        },
        {
         "hovertemplate": "color=Chile<br>x=%{x}<br>y=%{y}<extra></extra>",
         "legendgroup": "Chile",
         "marker": {
          "color": "#FF97FF",
          "symbol": "circle"
         },
         "mode": "markers",
         "name": "Chile",
         "showlegend": true,
         "type": "scattergl",
         "x": [
          2011,
          2012,
          2013,
          2014,
          2015,
          2016,
          2017,
          2018,
          2019,
          2020
         ],
         "xaxis": "x",
         "y": [
          41.018,
          37.722,
          37.127,
          44.36,
          44.749,
          44.422,
          45.086,
          47.423,
          46.47,
          48.652
         ],
         "yaxis": "y"
        },
        {
         "hovertemplate": "color=China<br>x=%{x}<br>y=%{y}<extra></extra>",
         "legendgroup": "China",
         "marker": {
          "color": "#FECB52",
          "symbol": "circle"
         },
         "mode": "markers",
         "name": "China",
         "showlegend": true,
         "type": "scattergl",
         "x": [
          2011,
          2012,
          2013,
          2014,
          2015,
          2016,
          2017,
          2018,
          2019,
          2020
         ],
         "xaxis": "x",
         "y": [
          16.235,
          19.94,
          20.055,
          23.017,
          24.247,
          25.697,
          26.272,
          26.736,
          27.888,
          29.022
         ],
         "yaxis": "y"
        },
        {
         "hovertemplate": "color=Colombia<br>x=%{x}<br>y=%{y}<extra></extra>",
         "legendgroup": "Colombia",
         "marker": {
          "color": "#636efa",
          "symbol": "circle"
         },
         "mode": "markers",
         "name": "Colombia",
         "showlegend": true,
         "type": "scattergl",
         "x": [
          2011,
          2012,
          2013,
          2014,
          2015,
          2016,
          2017,
          2018,
          2019,
          2020
         ],
         "xaxis": "x",
         "y": [
          84.175,
          80.389,
          70.517,
          70.457,
          64.834,
          67.07,
          80.153,
          77.767,
          73.955,
          68.58
         ],
         "yaxis": "y"
        },
        {
         "hovertemplate": "color=Comoros<br>x=%{x}<br>y=%{y}<extra></extra>",
         "legendgroup": "Comoros",
         "marker": {
          "color": "#EF553B",
          "symbol": "circle"
         },
         "mode": "markers",
         "name": "Comoros",
         "showlegend": true,
         "type": "scattergl",
         "x": [
          2011,
          2012,
          2013,
          2014,
          2015,
          2016,
          2017,
          2018,
          2019
         ],
         "xaxis": "x",
         "y": [
          8.475,
          5.172,
          3.636,
          3.922,
          3.846,
          3.509,
          0.463,
          0.398,
          0.342
         ],
         "yaxis": "y"
        },
        {
         "hovertemplate": "color=Congo<br>x=%{x}<br>y=%{y}<extra></extra>",
         "legendgroup": "Congo",
         "marker": {
          "color": "#00cc96",
          "symbol": "circle"
         },
         "mode": "markers",
         "name": "Congo",
         "showlegend": true,
         "type": "scattergl",
         "x": [
          2011,
          2012,
          2013,
          2014,
          2015,
          2016,
          2017,
          2018,
          2019
         ],
         "xaxis": "x",
         "y": [
          62.399,
          59.315,
          58.084,
          55.989,
          40.922,
          39.435,
          35.851,
          36.531,
          35.448
         ],
         "yaxis": "y"
        },
        {
         "hovertemplate": "color=Cook Islands<br>x=%{x}<br>y=%{y}<extra></extra>",
         "legendgroup": "Cook Islands",
         "marker": {
          "color": "#ab63fa",
          "symbol": "circle"
         },
         "mode": "markers",
         "name": "Cook Islands",
         "showlegend": true,
         "type": "scattergl",
         "x": [
          2011,
          2012,
          2013,
          2014,
          2015,
          2016,
          2017,
          2018,
          2019
         ],
         "xaxis": "x",
         "y": [
          0.405,
          0.332,
          2.685,
          5.087,
          12.194,
          14.318,
          16.062,
          25.711,
          24.535
         ],
         "yaxis": "y"
        },
        {
         "hovertemplate": "color=Costa Rica<br>x=%{x}<br>y=%{y}<extra></extra>",
         "legendgroup": "Costa Rica",
         "marker": {
          "color": "#FFA15A",
          "symbol": "circle"
         },
         "mode": "markers",
         "name": "Costa Rica",
         "showlegend": true,
         "type": "scattergl",
         "x": [
          2011,
          2012,
          2013,
          2014,
          2015,
          2016,
          2017,
          2018,
          2019,
          2020
         ],
         "xaxis": "x",
         "y": [
          91.641,
          92.239,
          88.863,
          90.281,
          99.053,
          98.319,
          99.69,
          98.69,
          99.207,
          99.841
         ],
         "yaxis": "y"
        },
        {
         "hovertemplate": "color=Cote d'Ivoire<br>x=%{x}<br>y=%{y}<extra></extra>",
         "legendgroup": "Cote d'Ivoire",
         "marker": {
          "color": "#19d3f3",
          "symbol": "circle"
         },
         "mode": "markers",
         "name": "Cote d'Ivoire",
         "showlegend": true,
         "type": "scattergl",
         "x": [
          2011,
          2012,
          2013,
          2014,
          2015,
          2016
         ],
         "xaxis": "x",
         "y": [
          null,
          null,
          null,
          null,
          null,
          null
         ],
         "yaxis": "y"
        },
        {
         "hovertemplate": "color=Croatia<br>x=%{x}<br>y=%{y}<extra></extra>",
         "legendgroup": "Croatia",
         "marker": {
          "color": "#FF6692",
          "symbol": "circle"
         },
         "mode": "markers",
         "name": "Croatia",
         "showlegend": true,
         "type": "scattergl",
         "x": [
          2011,
          2012,
          2013,
          2014,
          2015,
          2016,
          2017,
          2018,
          2019,
          2020
         ],
         "xaxis": "x",
         "y": [
          47.03,
          49.674,
          66.504,
          73.956,
          66.825,
          66.3,
          60.389,
          72.199,
          66.062,
          64.071
         ],
         "yaxis": "y"
        },
        {
         "hovertemplate": "color=Cuba<br>x=%{x}<br>y=%{y}<extra></extra>",
         "legendgroup": "Cuba",
         "marker": {
          "color": "#B6E880",
          "symbol": "circle"
         },
         "mode": "markers",
         "name": "Cuba",
         "showlegend": true,
         "type": "scattergl",
         "x": [
          2011,
          2012,
          2013,
          2014,
          2015,
          2016,
          2017,
          2018,
          2019
         ],
         "xaxis": "x",
         "y": [
          3.431,
          3.934,
          4.612,
          4.258,
          4.19,
          4.196,
          4.053,
          3.856,
          3.572
         ],
         "yaxis": "y"
        },
        {
         "hovertemplate": "color=Cyprus<br>x=%{x}<br>y=%{y}<extra></extra>",
         "legendgroup": "Cyprus",
         "marker": {
          "color": "#FF97FF",
          "symbol": "circle"
         },
         "mode": "markers",
         "name": "Cyprus",
         "showlegend": true,
         "type": "scattergl",
         "x": [
          2011,
          2012,
          2013,
          2014,
          2015,
          2016,
          2017,
          2018,
          2019,
          2020
         ],
         "xaxis": "x",
         "y": [
          3.615,
          5.445,
          7.623,
          7.286,
          8.815,
          8.688,
          8.697,
          9.434,
          10.112,
          11.186
         ],
         "yaxis": "y"
        },
        {
         "hovertemplate": "color=Czechia<br>x=%{x}<br>y=%{y}<extra></extra>",
         "legendgroup": "Czechia",
         "marker": {
          "color": "#FECB52",
          "symbol": "circle"
         },
         "mode": "markers",
         "name": "Czechia",
         "showlegend": true,
         "type": "scattergl",
         "x": [
          2011,
          2012,
          2013,
          2014,
          2015,
          2016,
          2017,
          2018,
          2019,
          2020
         ],
         "xaxis": "x",
         "y": [
          8.358,
          9.312,
          10.832,
          10.789,
          11.414,
          11.442,
          11.216,
          10.852,
          10.886,
          12.09
         ],
         "yaxis": "y"
        },
        {
         "hovertemplate": "color=Democratic Republic of Congo<br>x=%{x}<br>y=%{y}<extra></extra>",
         "legendgroup": "Democratic Republic of Congo",
         "marker": {
          "color": "#636efa",
          "symbol": "circle"
         },
         "mode": "markers",
         "name": "Democratic Republic of Congo",
         "showlegend": true,
         "type": "scattergl",
         "x": [
          2011,
          2012,
          2013,
          2014,
          2015,
          2016,
          2017,
          2018,
          2019
         ],
         "xaxis": "x",
         "y": [
          98.942,
          99.888,
          99.897,
          99.882,
          99.83,
          99.855,
          99.92,
          99.937,
          99.966
         ],
         "yaxis": "y"
        },
        {
         "hovertemplate": "color=Denmark<br>x=%{x}<br>y=%{y}<extra></extra>",
         "legendgroup": "Denmark",
         "marker": {
          "color": "#EF553B",
          "symbol": "circle"
         },
         "mode": "markers",
         "name": "Denmark",
         "showlegend": true,
         "type": "scattergl",
         "x": [
          2011,
          2012,
          2013,
          2014,
          2015,
          2016,
          2017,
          2018,
          2019,
          2020
         ],
         "xaxis": "x",
         "y": [
          40.253,
          48.328,
          45.96,
          55.878,
          65.434,
          60.219,
          70.27,
          68.361,
          75.953,
          78.209
         ],
         "yaxis": "y"
        },
        {
         "hovertemplate": "color=Djibouti<br>x=%{x}<br>y=%{y}<extra></extra>",
         "legendgroup": "Djibouti",
         "marker": {
          "color": "#00cc96",
          "symbol": "circle"
         },
         "mode": "markers",
         "name": "Djibouti",
         "showlegend": true,
         "type": "scattergl",
         "x": [
          2011,
          2012,
          2013,
          2014,
          2015,
          2016,
          2017,
          2018,
          2019
         ],
         "xaxis": "x",
         "y": [
          0,
          0.136,
          0.123,
          0.529,
          0.299,
          0.599,
          0.901,
          2.439,
          2.439
         ],
         "yaxis": "y"
        },
        {
         "hovertemplate": "color=Dominica<br>x=%{x}<br>y=%{y}<extra></extra>",
         "legendgroup": "Dominica",
         "marker": {
          "color": "#ab63fa",
          "symbol": "circle"
         },
         "mode": "markers",
         "name": "Dominica",
         "showlegend": true,
         "type": "scattergl",
         "x": [
          2011,
          2012,
          2013,
          2014,
          2015,
          2016,
          2017,
          2018,
          2019
         ],
         "xaxis": "x",
         "y": [
          36.67,
          28.131,
          38.398,
          31.881,
          24.533,
          34.476,
          34.019,
          39.232,
          23.485
         ],
         "yaxis": "y"
        },
        {
         "hovertemplate": "color=Dominican Republic<br>x=%{x}<br>y=%{y}<extra></extra>",
         "legendgroup": "Dominican Republic",
         "marker": {
          "color": "#FFA15A",
          "symbol": "circle"
         },
         "mode": "markers",
         "name": "Dominican Republic",
         "showlegend": true,
         "type": "scattergl",
         "x": [
          2011,
          2012,
          2013,
          2014,
          2015,
          2016,
          2017,
          2018,
          2019
         ],
         "xaxis": "x",
         "y": [
          10.85,
          12.4,
          13.212,
          10.158,
          7.862,
          11.165,
          15.827,
          14.493,
          13.432
         ],
         "yaxis": "y"
        },
        {
         "hovertemplate": "color=Ecuador<br>x=%{x}<br>y=%{y}<extra></extra>",
         "legendgroup": "Ecuador",
         "marker": {
          "color": "#19d3f3",
          "symbol": "circle"
         },
         "mode": "markers",
         "name": "Ecuador",
         "showlegend": true,
         "type": "scattergl",
         "x": [
          2011,
          2012,
          2013,
          2014,
          2015,
          2016,
          2017,
          2018,
          2019
         ],
         "xaxis": "x",
         "y": [
          56.841,
          56.156,
          50.303,
          50.48,
          53.885,
          61.488,
          74.681,
          73.629,
          78.909
         ],
         "yaxis": "y"
        },
        {
         "hovertemplate": "color=Egypt<br>x=%{x}<br>y=%{y}<extra></extra>",
         "legendgroup": "Egypt",
         "marker": {
          "color": "#FF6692",
          "symbol": "circle"
         },
         "mode": "markers",
         "name": "Egypt",
         "showlegend": true,
         "type": "scattergl",
         "x": [
          2011,
          2012,
          2013,
          2014,
          2015,
          2016,
          2017,
          2018,
          2019
         ],
         "xaxis": "x",
         "y": [
          10.892,
          10.324,
          10.361,
          10.325,
          9.753,
          9.427,
          9.049,
          9.183,
          9.987
         ],
         "yaxis": "y"
        },
        {
         "hovertemplate": "color=El Salvador<br>x=%{x}<br>y=%{y}<extra></extra>",
         "legendgroup": "El Salvador",
         "marker": {
          "color": "#B6E880",
          "symbol": "circle"
         },
         "mode": "markers",
         "name": "El Salvador",
         "showlegend": true,
         "type": "scattergl",
         "x": [
          2011,
          2012,
          2013,
          2014,
          2015,
          2016,
          2017,
          2018,
          2019
         ],
         "xaxis": "x",
         "y": [
          63.696,
          60.94,
          61.274,
          60.547,
          56.191,
          56.489,
          73.846,
          75.439,
          67.639
         ],
         "yaxis": "y"
        },
        {
         "hovertemplate": "color=Equatorial Guinea<br>x=%{x}<br>y=%{y}<extra></extra>",
         "legendgroup": "Equatorial Guinea",
         "marker": {
          "color": "#FF97FF",
          "symbol": "circle"
         },
         "mode": "markers",
         "name": "Equatorial Guinea",
         "showlegend": true,
         "type": "scattergl",
         "x": [
          2011,
          2012,
          2013,
          2014,
          2015,
          2016,
          2017,
          2018,
          2019
         ],
         "xaxis": "x",
         "y": [
          4.306,
          8.901,
          17.897,
          23.521,
          34.515,
          39.347,
          33.986,
          40.814,
          43.337
         ],
         "yaxis": "y"
        },
        {
         "hovertemplate": "color=Eritrea<br>x=%{x}<br>y=%{y}<extra></extra>",
         "legendgroup": "Eritrea",
         "marker": {
          "color": "#FECB52",
          "symbol": "circle"
         },
         "mode": "markers",
         "name": "Eritrea",
         "showlegend": true,
         "type": "scattergl",
         "x": [
          2011,
          2012,
          2013,
          2014,
          2015,
          2016,
          2017,
          2018,
          2019
         ],
         "xaxis": "x",
         "y": [
          1.312,
          1.269,
          1.243,
          1.218,
          1.194,
          1.171,
          3.539,
          9.596,
          11.993
         ],
         "yaxis": "y"
        },
        {
         "hovertemplate": "color=Estonia<br>x=%{x}<br>y=%{y}<extra></extra>",
         "legendgroup": "Estonia",
         "marker": {
          "color": "#636efa",
          "symbol": "circle"
         },
         "mode": "markers",
         "name": "Estonia",
         "showlegend": true,
         "type": "scattergl",
         "x": [
          2011,
          2012,
          2013,
          2014,
          2015,
          2016,
          2017,
          2018,
          2019,
          2020
         ],
         "xaxis": "x",
         "y": [
          9.15,
          12.338,
          9.187,
          11.158,
          14.415,
          12.504,
          13.944,
          16.091,
          25.805,
          35.211
         ],
         "yaxis": "y"
        },
        {
         "hovertemplate": "color=Eswatini<br>x=%{x}<br>y=%{y}<extra></extra>",
         "legendgroup": "Eswatini",
         "marker": {
          "color": "#EF553B",
          "symbol": "circle"
         },
         "mode": "markers",
         "name": "Eswatini",
         "showlegend": true,
         "type": "scattergl",
         "x": [
          2011,
          2012,
          2013,
          2014,
          2015,
          2016
         ],
         "xaxis": "x",
         "y": [
          null,
          null,
          null,
          null,
          null,
          null
         ],
         "yaxis": "y"
        },
        {
         "hovertemplate": "color=Ethiopia<br>x=%{x}<br>y=%{y}<extra></extra>",
         "legendgroup": "Ethiopia",
         "marker": {
          "color": "#00cc96",
          "symbol": "circle"
         },
         "mode": "markers",
         "name": "Ethiopia",
         "showlegend": true,
         "type": "scattergl",
         "x": [
          2011,
          2012,
          2013,
          2014,
          2015,
          2016,
          2017,
          2018,
          2019
         ],
         "xaxis": "x",
         "y": [
          99.449,
          99.851,
          99.913,
          99.97,
          99.964,
          99.97,
          99.971,
          99.963,
          99.963
         ],
         "yaxis": "y"
        },
        {
         "hovertemplate": "color=Faeroe Islands<br>x=%{x}<br>y=%{y}<extra></extra>",
         "legendgroup": "Faeroe Islands",
         "marker": {
          "color": "#ab63fa",
          "symbol": "circle"
         },
         "mode": "markers",
         "name": "Faeroe Islands",
         "showlegend": true,
         "type": "scattergl",
         "x": [
          2011,
          2012,
          2013,
          2014,
          2015,
          2016
         ],
         "xaxis": "x",
         "y": [
          null,
          null,
          null,
          null,
          null,
          null
         ],
         "yaxis": "y"
        },
        {
         "hovertemplate": "color=Fiji<br>x=%{x}<br>y=%{y}<extra></extra>",
         "legendgroup": "Fiji",
         "marker": {
          "color": "#FFA15A",
          "symbol": "circle"
         },
         "mode": "markers",
         "name": "Fiji",
         "showlegend": true,
         "type": "scattergl",
         "x": [
          2011,
          2012,
          2013,
          2014,
          2015,
          2016,
          2017,
          2018,
          2019
         ],
         "xaxis": "x",
         "y": [
          60.879,
          68.525,
          65.807,
          53.154,
          50.283,
          57.53,
          53.614,
          59.325,
          60.258
         ],
         "yaxis": "y"
        },
        {
         "hovertemplate": "color=Finland<br>x=%{x}<br>y=%{y}<extra></extra>",
         "legendgroup": "Finland",
         "marker": {
          "color": "#19d3f3",
          "symbol": "circle"
         },
         "mode": "markers",
         "name": "Finland",
         "showlegend": true,
         "type": "scattergl",
         "x": [
          2011,
          2012,
          2013,
          2014,
          2015,
          2016,
          2017,
          2018,
          2019,
          2020
         ],
         "xaxis": "x",
         "y": [
          33.029,
          40.748,
          36.115,
          38.746,
          44.663,
          44.403,
          46.894,
          45.926,
          46.14,
          49.936
         ],
         "yaxis": "y"
        },
        {
         "hovertemplate": "color=France<br>x=%{x}<br>y=%{y}<extra></extra>",
         "legendgroup": "France",
         "marker": {
          "color": "#FF6692",
          "symbol": "circle"
         },
         "mode": "markers",
         "name": "France",
         "showlegend": true,
         "type": "scattergl",
         "x": [
          2011,
          2012,
          2013,
          2014,
          2015,
          2016,
          2017,
          2018,
          2019,
          2020
         ],
         "xaxis": "x",
         "y": [
          11.628,
          15.029,
          17.23,
          16.601,
          16.002,
          17.72,
          16.655,
          19.688,
          19.894,
          23.325
         ],
         "yaxis": "y"
        },
        {
         "hovertemplate": "color=French Guiana<br>x=%{x}<br>y=%{y}<extra></extra>",
         "legendgroup": "French Guiana",
         "marker": {
          "color": "#B6E880",
          "symbol": "circle"
         },
         "mode": "markers",
         "name": "French Guiana",
         "showlegend": true,
         "type": "scattergl",
         "x": [
          2011,
          2012,
          2013,
          2014,
          2015,
          2016,
          2017,
          2018,
          2019
         ],
         "xaxis": "x",
         "y": [
          66.382,
          70.696,
          62.514,
          62.597,
          61.227,
          54.664,
          58.172,
          54.531,
          52.766
         ],
         "yaxis": "y"
        },
        {
         "hovertemplate": "color=French Polynesia<br>x=%{x}<br>y=%{y}<extra></extra>",
         "legendgroup": "French Polynesia",
         "marker": {
          "color": "#FF97FF",
          "symbol": "circle"
         },
         "mode": "markers",
         "name": "French Polynesia",
         "showlegend": true,
         "type": "scattergl",
         "x": [
          2011,
          2012,
          2013,
          2014,
          2015,
          2016,
          2017,
          2018,
          2019
         ],
         "xaxis": "x",
         "y": [
          35.579,
          33.416,
          29.3,
          33.628,
          34.312,
          36.905,
          36.125,
          34.65,
          36.535
         ],
         "yaxis": "y"
        },
        {
         "hovertemplate": "color=Gabon<br>x=%{x}<br>y=%{y}<extra></extra>",
         "legendgroup": "Gabon",
         "marker": {
          "color": "#FECB52",
          "symbol": "circle"
         },
         "mode": "markers",
         "name": "Gabon",
         "showlegend": true,
         "type": "scattergl",
         "x": [
          2011,
          2012,
          2013,
          2014,
          2015,
          2016,
          2017,
          2018,
          2019
         ],
         "xaxis": "x",
         "y": [
          42.905,
          43.818,
          46.42,
          41.595,
          45.011,
          42.571,
          42.636,
          41.718,
          40.702
         ],
         "yaxis": "y"
        },
        {
         "hovertemplate": "color=Gambia<br>x=%{x}<br>y=%{y}<extra></extra>",
         "legendgroup": "Gambia",
         "marker": {
          "color": "#636efa",
          "symbol": "circle"
         },
         "mode": "markers",
         "name": "Gambia",
         "showlegend": true,
         "type": "scattergl",
         "x": [
          2011,
          2012,
          2013,
          2014,
          2015,
          2016,
          2017,
          2018,
          2019
         ],
         "xaxis": "x",
         "y": [
          1.472,
          1.22,
          1.249,
          1.161,
          1.099,
          1.04,
          1.013,
          0.99,
          0.958
         ],
         "yaxis": "y"
        },
        {
         "hovertemplate": "color=Georgia<br>x=%{x}<br>y=%{y}<extra></extra>",
         "legendgroup": "Georgia",
         "marker": {
          "color": "#EF553B",
          "symbol": "circle"
         },
         "mode": "markers",
         "name": "Georgia",
         "showlegend": true,
         "type": "scattergl",
         "x": [
          2011,
          2012,
          2013,
          2014,
          2015,
          2016,
          2017,
          2018,
          2019
         ],
         "xaxis": "x",
         "y": [
          78.292,
          75.475,
          82.969,
          81.174,
          78.914,
          81.476,
          81.433,
          83.324,
          76.906
         ],
         "yaxis": "y"
        },
        {
         "hovertemplate": "color=Germany<br>x=%{x}<br>y=%{y}<extra></extra>",
         "legendgroup": "Germany",
         "marker": {
          "color": "#00cc96",
          "symbol": "circle"
         },
         "mode": "markers",
         "name": "Germany",
         "showlegend": true,
         "type": "scattergl",
         "x": [
          2011,
          2012,
          2013,
          2014,
          2015,
          2016,
          2017,
          2018,
          2019,
          2020
         ],
         "xaxis": "x",
         "y": [
          20.428,
          22.966,
          24.064,
          26.141,
          29.39,
          29.42,
          33.416,
          35.284,
          40.139,
          44.897
         ],
         "yaxis": "y"
        },
        {
         "hovertemplate": "color=Ghana<br>x=%{x}<br>y=%{y}<extra></extra>",
         "legendgroup": "Ghana",
         "marker": {
          "color": "#ab63fa",
          "symbol": "circle"
         },
         "mode": "markers",
         "name": "Ghana",
         "showlegend": true,
         "type": "scattergl",
         "x": [
          2011,
          2012,
          2013,
          2014,
          2015,
          2016,
          2017,
          2018,
          2019
         ],
         "xaxis": "x",
         "y": [
          68.68,
          68.3,
          65.22,
          65.955,
          52.27,
          57.69,
          51.493,
          50.708,
          50.189
         ],
         "yaxis": "y"
        },
        {
         "hovertemplate": "color=Gibraltar<br>x=%{x}<br>y=%{y}<extra></extra>",
         "legendgroup": "Gibraltar",
         "marker": {
          "color": "#FFA15A",
          "symbol": "circle"
         },
         "mode": "markers",
         "name": "Gibraltar",
         "showlegend": true,
         "type": "scattergl",
         "x": [
          2011,
          2012,
          2013,
          2014,
          2015,
          2016,
          2017,
          2018,
          2019
         ],
         "xaxis": "x",
         "y": [
          0,
          0,
          0,
          0,
          0,
          0,
          0,
          0,
          0
         ],
         "yaxis": "y"
        },
        {
         "hovertemplate": "color=Greece<br>x=%{x}<br>y=%{y}<extra></extra>",
         "legendgroup": "Greece",
         "marker": {
          "color": "#19d3f3",
          "symbol": "circle"
         },
         "mode": "markers",
         "name": "Greece",
         "showlegend": true,
         "type": "scattergl",
         "x": [
          2011,
          2012,
          2013,
          2014,
          2015,
          2016,
          2017,
          2018,
          2019,
          2020
         ],
         "xaxis": "x",
         "y": [
          13.762,
          16.704,
          25.124,
          24.187,
          28.656,
          27.369,
          25.007,
          30.328,
          31.609,
          35.908
         ],
         "yaxis": "y"
        },
        {
         "hovertemplate": "color=Greenland<br>x=%{x}<br>y=%{y}<extra></extra>",
         "legendgroup": "Greenland",
         "marker": {
          "color": "#FF6692",
          "symbol": "circle"
         },
         "mode": "markers",
         "name": "Greenland",
         "showlegend": true,
         "type": "scattergl",
         "x": [
          2011,
          2012,
          2013,
          2014,
          2015,
          2016,
          2017,
          2018,
          2019
         ],
         "xaxis": "x",
         "y": [
          74.342,
          77.936,
          83.085,
          82.412,
          82.128,
          82.595,
          82.111,
          80.742,
          80.283
         ],
         "yaxis": "y"
        },
        {
         "hovertemplate": "color=Grenada<br>x=%{x}<br>y=%{y}<extra></extra>",
         "legendgroup": "Grenada",
         "marker": {
          "color": "#B6E880",
          "symbol": "circle"
         },
         "mode": "markers",
         "name": "Grenada",
         "showlegend": true,
         "type": "scattergl",
         "x": [
          2011,
          2012,
          2013,
          2014,
          2015,
          2016,
          2017,
          2018,
          2019
         ],
         "xaxis": "x",
         "y": [
          1.549,
          1.581,
          1.597,
          3.454,
          0.791,
          1.223,
          1.562,
          1.607,
          1.557
         ],
         "yaxis": "y"
        },
        {
         "hovertemplate": "color=Guadeloupe<br>x=%{x}<br>y=%{y}<extra></extra>",
         "legendgroup": "Guadeloupe",
         "marker": {
          "color": "#FF97FF",
          "symbol": "circle"
         },
         "mode": "markers",
         "name": "Guadeloupe",
         "showlegend": true,
         "type": "scattergl",
         "x": [
          2011,
          2012,
          2013,
          2014,
          2015,
          2016,
          2017,
          2018,
          2019
         ],
         "xaxis": "x",
         "y": [
          13.746,
          12.485,
          12.728,
          13.576,
          12.761,
          12.06,
          12.699,
          12.938,
          13.373
         ],
         "yaxis": "y"
        },
        {
         "hovertemplate": "color=Guam<br>x=%{x}<br>y=%{y}<extra></extra>",
         "legendgroup": "Guam",
         "marker": {
          "color": "#FECB52",
          "symbol": "circle"
         },
         "mode": "markers",
         "name": "Guam",
         "showlegend": true,
         "type": "scattergl",
         "x": [
          2011,
          2012,
          2013,
          2014,
          2015,
          2016,
          2017,
          2018,
          2019
         ],
         "xaxis": "x",
         "y": [
          0.012,
          0.036,
          0.119,
          0.161,
          1.867,
          3.852,
          3.395,
          3.942,
          3.919
         ],
         "yaxis": "y"
        },
        {
         "hovertemplate": "color=Guatemala<br>x=%{x}<br>y=%{y}<extra></extra>",
         "legendgroup": "Guatemala",
         "marker": {
          "color": "#636efa",
          "symbol": "circle"
         },
         "mode": "markers",
         "name": "Guatemala",
         "showlegend": true,
         "type": "scattergl",
         "x": [
          2011,
          2012,
          2013,
          2014,
          2015,
          2016,
          2017,
          2018,
          2019
         ],
         "xaxis": "x",
         "y": [
          65.615,
          67.63,
          68.434,
          68.364,
          59.286,
          60.98,
          71.179,
          63.194,
          59.386
         ],
         "yaxis": "y"
        },
        {
         "hovertemplate": "color=Guinea<br>x=%{x}<br>y=%{y}<extra></extra>",
         "legendgroup": "Guinea",
         "marker": {
          "color": "#EF553B",
          "symbol": "circle"
         },
         "mode": "markers",
         "name": "Guinea",
         "showlegend": true,
         "type": "scattergl",
         "x": [
          2011,
          2012,
          2013,
          2014,
          2015,
          2016,
          2017,
          2018,
          2019
         ],
         "xaxis": "x",
         "y": [
          48.7,
          68.878,
          74.845,
          61.351,
          56.41,
          49.481,
          49.739,
          35.742,
          30.972
         ],
         "yaxis": "y"
        },
        {
         "hovertemplate": "color=Guinea-Bissau<br>x=%{x}<br>y=%{y}<extra></extra>",
         "legendgroup": "Guinea-Bissau",
         "marker": {
          "color": "#00cc96",
          "symbol": "circle"
         },
         "mode": "markers",
         "name": "Guinea-Bissau",
         "showlegend": true,
         "type": "scattergl",
         "x": [
          2011,
          2012,
          2013,
          2014,
          2015,
          2016,
          2017,
          2018,
          2019
         ],
         "xaxis": "x",
         "y": [
          0,
          0,
          0,
          0.901,
          2.857,
          2.778,
          2.632,
          4.762,
          4.545
         ],
         "yaxis": "y"
        },
        {
         "hovertemplate": "color=Guyana<br>x=%{x}<br>y=%{y}<extra></extra>",
         "legendgroup": "Guyana",
         "marker": {
          "color": "#ab63fa",
          "symbol": "circle"
         },
         "mode": "markers",
         "name": "Guyana",
         "showlegend": true,
         "type": "scattergl",
         "x": [
          2011,
          2012,
          2013,
          2014,
          2015,
          2016,
          2017,
          2018,
          2019
         ],
         "xaxis": "x",
         "y": [
          1.535,
          2.146,
          2.427,
          2.289,
          2.845,
          2.139,
          1.797,
          1.743,
          1.223
         ],
         "yaxis": "y"
        },
        {
         "hovertemplate": "color=Haiti<br>x=%{x}<br>y=%{y}<extra></extra>",
         "legendgroup": "Haiti",
         "marker": {
          "color": "#FFA15A",
          "symbol": "circle"
         },
         "mode": "markers",
         "name": "Haiti",
         "showlegend": true,
         "type": "scattergl",
         "x": [
          2011,
          2012,
          2013,
          2014,
          2015,
          2016,
          2017,
          2018,
          2019
         ],
         "xaxis": "x",
         "y": [
          18.516,
          21.103,
          14.184,
          9.31,
          8.665,
          6.965,
          12.685,
          19.738,
          23.43
         ],
         "yaxis": "y"
        },
        {
         "hovertemplate": "color=Honduras<br>x=%{x}<br>y=%{y}<extra></extra>",
         "legendgroup": "Honduras",
         "marker": {
          "color": "#19d3f3",
          "symbol": "circle"
         },
         "mode": "markers",
         "name": "Honduras",
         "showlegend": true,
         "type": "scattergl",
         "x": [
          2011,
          2012,
          2013,
          2014,
          2015,
          2016,
          2017,
          2018,
          2019
         ],
         "xaxis": "x",
         "y": [
          46.724,
          47.539,
          45.46,
          41.494,
          44.424,
          51.716,
          61.743,
          68.403,
          74.873
         ],
         "yaxis": "y"
        },
        {
         "hovertemplate": "color=Hong Kong<br>x=%{x}<br>y=%{y}<extra></extra>",
         "legendgroup": "Hong Kong",
         "marker": {
          "color": "#FF6692",
          "symbol": "circle"
         },
         "mode": "markers",
         "name": "Hong Kong",
         "showlegend": true,
         "type": "scattergl",
         "x": [
          2011,
          2012,
          2013,
          2014,
          2015,
          2016,
          2017,
          2018,
          2019
         ],
         "xaxis": "x",
         "y": [
          0.123,
          0.115,
          0.103,
          0.12,
          0.204,
          0.256,
          0.262,
          0.271,
          0.287
         ],
         "yaxis": "y"
        },
        {
         "hovertemplate": "color=Hungary<br>x=%{x}<br>y=%{y}<extra></extra>",
         "legendgroup": "Hungary",
         "marker": {
          "color": "#B6E880",
          "symbol": "circle"
         },
         "mode": "markers",
         "name": "Hungary",
         "showlegend": true,
         "type": "scattergl",
         "x": [
          2011,
          2012,
          2013,
          2014,
          2015,
          2016,
          2017,
          2018,
          2019,
          2020
         ],
         "xaxis": "x",
         "y": [
          7.519,
          7.639,
          9.211,
          10.738,
          10.658,
          10.238,
          10.615,
          11.778,
          13.975,
          14.652
         ],
         "yaxis": "y"
        },
        {
         "hovertemplate": "color=Iceland<br>x=%{x}<br>y=%{y}<extra></extra>",
         "legendgroup": "Iceland",
         "marker": {
          "color": "#FF97FF",
          "symbol": "circle"
         },
         "mode": "markers",
         "name": "Iceland",
         "showlegend": true,
         "type": "scattergl",
         "x": [
          2011,
          2012,
          2013,
          2014,
          2015,
          2016,
          2017,
          2018,
          2019
         ],
         "xaxis": "x",
         "y": [
          99.989,
          99.984,
          99.974,
          99.984,
          99.98,
          99.984,
          99.99,
          99.99,
          99.985
         ],
         "yaxis": "y"
        },
        {
         "hovertemplate": "color=India<br>x=%{x}<br>y=%{y}<extra></extra>",
         "legendgroup": "India",
         "marker": {
          "color": "#FECB52",
          "symbol": "circle"
         },
         "mode": "markers",
         "name": "India",
         "showlegend": true,
         "type": "scattergl",
         "x": [
          2011,
          2012,
          2013,
          2014,
          2015,
          2016,
          2017,
          2018,
          2019,
          2020
         ],
         "xaxis": "x",
         "y": [
          19.32,
          17.65,
          19.135,
          18.047,
          16.549,
          16.296,
          17.411,
          18.609,
          20.78,
          22.224
         ],
         "yaxis": "y"
        },
        {
         "hovertemplate": "color=Indonesia<br>x=%{x}<br>y=%{y}<extra></extra>",
         "legendgroup": "Indonesia",
         "marker": {
          "color": "#636efa",
          "symbol": "circle"
         },
         "mode": "markers",
         "name": "Indonesia",
         "showlegend": true,
         "type": "scattergl",
         "x": [
          2011,
          2012,
          2013,
          2014,
          2015,
          2016,
          2017,
          2018,
          2019
         ],
         "xaxis": "x",
         "y": [
          12.608,
          11.819,
          12.888,
          12.066,
          11.205,
          13.195,
          13.291,
          18.238,
          16.954
         ],
         "yaxis": "y"
        },
        {
         "hovertemplate": "color=Iran<br>x=%{x}<br>y=%{y}<extra></extra>",
         "legendgroup": "Iran",
         "marker": {
          "color": "#EF553B",
          "symbol": "circle"
         },
         "mode": "markers",
         "name": "Iran",
         "showlegend": true,
         "type": "scattergl",
         "x": [
          2011,
          2012,
          2013,
          2014,
          2015,
          2016,
          2017,
          2018,
          2019,
          2020
         ],
         "xaxis": "x",
         "y": [
          5.386,
          5.247,
          6.005,
          5.469,
          5.353,
          6.073,
          5.289,
          5.569,
          10.035,
          6.732
         ],
         "yaxis": "y"
        },
        {
         "hovertemplate": "color=Iraq<br>x=%{x}<br>y=%{y}<extra></extra>",
         "legendgroup": "Iraq",
         "marker": {
          "color": "#00cc96",
          "symbol": "circle"
         },
         "mode": "markers",
         "name": "Iraq",
         "showlegend": true,
         "type": "scattergl",
         "x": [
          2011,
          2012,
          2013,
          2014,
          2015,
          2016,
          2017,
          2018,
          2019
         ],
         "xaxis": "x",
         "y": [
          6.615,
          10.001,
          8.614,
          4.63,
          3.981,
          4.498,
          2.687,
          2.391,
          3.03
         ],
         "yaxis": "y"
        },
        {
         "hovertemplate": "color=Ireland<br>x=%{x}<br>y=%{y}<extra></extra>",
         "legendgroup": "Ireland",
         "marker": {
          "color": "#ab63fa",
          "symbol": "circle"
         },
         "mode": "markers",
         "name": "Ireland",
         "showlegend": true,
         "type": "scattergl",
         "x": [
          2011,
          2012,
          2013,
          2014,
          2015,
          2016,
          2017,
          2018,
          2019,
          2020
         ],
         "xaxis": "x",
         "y": [
          19.966,
          19.365,
          22.004,
          24.768,
          27.974,
          24.862,
          28.952,
          32.996,
          36.438,
          40.74
         ],
         "yaxis": "y"
        },
        {
         "hovertemplate": "color=Israel<br>x=%{x}<br>y=%{y}<extra></extra>",
         "legendgroup": "Israel",
         "marker": {
          "color": "#FFA15A",
          "symbol": "circle"
         },
         "mode": "markers",
         "name": "Israel",
         "showlegend": true,
         "type": "scattergl",
         "x": [
          2011,
          2012,
          2013,
          2014,
          2015,
          2016,
          2017,
          2018,
          2019
         ],
         "xaxis": "x",
         "y": [
          0.502,
          0.778,
          1.052,
          1.671,
          2.175,
          2.788,
          2.722,
          2.793,
          4.203
         ],
         "yaxis": "y"
        },
        {
         "hovertemplate": "color=Italy<br>x=%{x}<br>y=%{y}<extra></extra>",
         "legendgroup": "Italy",
         "marker": {
          "color": "#19d3f3",
          "symbol": "circle"
         },
         "mode": "markers",
         "name": "Italy",
         "showlegend": true,
         "type": "scattergl",
         "x": [
          2011,
          2012,
          2013,
          2014,
          2015,
          2016,
          2017,
          2018,
          2019,
          2020
         ],
         "xaxis": "x",
         "y": [
          27.677,
          31.105,
          39.014,
          43.496,
          38.759,
          37.609,
          35.416,
          39.809,
          40.351,
          43.167
         ],
         "yaxis": "y"
        },
        {
         "hovertemplate": "color=Jamaica<br>x=%{x}<br>y=%{y}<extra></extra>",
         "legendgroup": "Jamaica",
         "marker": {
          "color": "#FF6692",
          "symbol": "circle"
         },
         "mode": "markers",
         "name": "Jamaica",
         "showlegend": true,
         "type": "scattergl",
         "x": [
          2011,
          2012,
          2013,
          2014,
          2015,
          2016,
          2017,
          2018,
          2019
         ],
         "xaxis": "x",
         "y": [
          6.7,
          7.236,
          6.632,
          7.373,
          7.274,
          8.387,
          12.304,
          13.05,
          13.378
         ],
         "yaxis": "y"
        },
        {
         "hovertemplate": "color=Japan<br>x=%{x}<br>y=%{y}<extra></extra>",
         "legendgroup": "Japan",
         "marker": {
          "color": "#B6E880",
          "symbol": "circle"
         },
         "mode": "markers",
         "name": "Japan",
         "showlegend": true,
         "type": "scattergl",
         "x": [
          2011,
          2012,
          2013,
          2014,
          2015,
          2016,
          2017,
          2018,
          2019,
          2020
         ],
         "xaxis": "x",
         "y": [
          13.206,
          13.564,
          14.535,
          16.365,
          18.392,
          18.89,
          20.988,
          21.898,
          23.681,
          26.291
         ],
         "yaxis": "y"
        },
        {
         "hovertemplate": "color=Jordan<br>x=%{x}<br>y=%{y}<extra></extra>",
         "legendgroup": "Jordan",
         "marker": {
          "color": "#FF97FF",
          "symbol": "circle"
         },
         "mode": "markers",
         "name": "Jordan",
         "showlegend": true,
         "type": "scattergl",
         "x": [
          2011,
          2012,
          2013,
          2014,
          2015,
          2016,
          2017,
          2018,
          2019
         ],
         "xaxis": "x",
         "y": [
          0.472,
          0.442,
          0.376,
          0.367,
          1.001,
          4.63,
          7.143,
          11.286,
          13.76
         ],
         "yaxis": "y"
        },
        {
         "hovertemplate": "color=Kazakhstan<br>x=%{x}<br>y=%{y}<extra></extra>",
         "legendgroup": "Kazakhstan",
         "marker": {
          "color": "#FECB52",
          "symbol": "circle"
         },
         "mode": "markers",
         "name": "Kazakhstan",
         "showlegend": true,
         "type": "scattergl",
         "x": [
          2011,
          2012,
          2013,
          2014,
          2015,
          2016,
          2017,
          2018,
          2019,
          2020
         ],
         "xaxis": "x",
         "y": [
          9.543,
          8.632,
          7.874,
          9.211,
          10.876,
          13.301,
          11.886,
          10.949,
          10.466,
          11.028
         ],
         "yaxis": "y"
        },
        {
         "hovertemplate": "color=Kenya<br>x=%{x}<br>y=%{y}<extra></extra>",
         "legendgroup": "Kenya",
         "marker": {
          "color": "#636efa",
          "symbol": "circle"
         },
         "mode": "markers",
         "name": "Kenya",
         "showlegend": true,
         "type": "scattergl",
         "x": [
          2011,
          2012,
          2013,
          2014,
          2015,
          2016,
          2017,
          2018,
          2019
         ],
         "xaxis": "x",
         "y": [
          67.951,
          75.626,
          69.773,
          79.87,
          86.481,
          85.287,
          77.437,
          86.915,
          89.2
         ],
         "yaxis": "y"
        },
        {
         "hovertemplate": "color=Kiribati<br>x=%{x}<br>y=%{y}<extra></extra>",
         "legendgroup": "Kiribati",
         "marker": {
          "color": "#EF553B",
          "symbol": "circle"
         },
         "mode": "markers",
         "name": "Kiribati",
         "showlegend": true,
         "type": "scattergl",
         "x": [
          2011,
          2012,
          2013,
          2014,
          2015,
          2016,
          2017,
          2018,
          2019
         ],
         "xaxis": "x",
         "y": [
          2.834,
          3.226,
          3.226,
          5.037,
          13.985,
          16.211,
          16.211,
          16.211,
          16.032
         ],
         "yaxis": "y"
        },
        {
         "hovertemplate": "color=Kosovo<br>x=%{x}<br>y=%{y}<extra></extra>",
         "legendgroup": "Kosovo",
         "marker": {
          "color": "#00cc96",
          "symbol": "circle"
         },
         "mode": "markers",
         "name": "Kosovo",
         "showlegend": true,
         "type": "scattergl",
         "x": [
          2011,
          2012,
          2013,
          2014,
          2015,
          2016,
          2017,
          2018,
          2019
         ],
         "xaxis": "x",
         "y": [
          1.959,
          1.752,
          2.36,
          2.969,
          2.464,
          4.365,
          3.246,
          5.419,
          5.153
         ],
         "yaxis": "y"
        },
        {
         "hovertemplate": "color=Kuwait<br>x=%{x}<br>y=%{y}<extra></extra>",
         "legendgroup": "Kuwait",
         "marker": {
          "color": "#ab63fa",
          "symbol": "circle"
         },
         "mode": "markers",
         "name": "Kuwait",
         "showlegend": true,
         "type": "scattergl",
         "x": [
          2011,
          2012,
          2013,
          2014,
          2015,
          2016,
          2017,
          2018,
          2019
         ],
         "xaxis": "x",
         "y": [
          0,
          0,
          0.007,
          0.011,
          0.014,
          0.08,
          0.098,
          0.121,
          0.221
         ],
         "yaxis": "y"
        },
        {
         "hovertemplate": "color=Kyrgyzstan<br>x=%{x}<br>y=%{y}<extra></extra>",
         "legendgroup": "Kyrgyzstan",
         "marker": {
          "color": "#FFA15A",
          "symbol": "circle"
         },
         "mode": "markers",
         "name": "Kyrgyzstan",
         "showlegend": true,
         "type": "scattergl",
         "x": [
          2011,
          2012,
          2013,
          2014,
          2015,
          2016,
          2017,
          2018,
          2019
         ],
         "xaxis": "x",
         "y": [
          93.595,
          93.788,
          93.799,
          91.662,
          85.83,
          87.256,
          91.942,
          92.589,
          92.355
         ],
         "yaxis": "y"
        },
        {
         "hovertemplate": "color=Laos<br>x=%{x}<br>y=%{y}<extra></extra>",
         "legendgroup": "Laos",
         "marker": {
          "color": "#19d3f3",
          "symbol": "circle"
         },
         "mode": "markers",
         "name": "Laos",
         "showlegend": true,
         "type": "scattergl",
         "x": [
          2011,
          2012,
          2013,
          2014,
          2015,
          2016,
          2017,
          2018,
          2019
         ],
         "xaxis": "x",
         "y": [
          100,
          100,
          100,
          100,
          86.754,
          70.087,
          65.99,
          66.239,
          57.482
         ],
         "yaxis": "y"
        },
        {
         "hovertemplate": "color=Latvia<br>x=%{x}<br>y=%{y}<extra></extra>",
         "legendgroup": "Latvia",
         "marker": {
          "color": "#FF6692",
          "symbol": "circle"
         },
         "mode": "markers",
         "name": "Latvia",
         "showlegend": true,
         "type": "scattergl",
         "x": [
          2011,
          2012,
          2013,
          2014,
          2015,
          2016,
          2017,
          2018,
          2019,
          2020
         ],
         "xaxis": "x",
         "y": [
          50.485,
          66.629,
          56.913,
          54.528,
          50.183,
          54.183,
          72.521,
          52.024,
          48.497,
          61.113
         ],
         "yaxis": "y"
        },
        {
         "hovertemplate": "color=Lebanon<br>x=%{x}<br>y=%{y}<extra></extra>",
         "legendgroup": "Lebanon",
         "marker": {
          "color": "#B6E880",
          "symbol": "circle"
         },
         "mode": "markers",
         "name": "Lebanon",
         "showlegend": true,
         "type": "scattergl",
         "x": [
          2011,
          2012,
          2013,
          2014,
          2015,
          2016,
          2017,
          2018,
          2019
         ],
         "xaxis": "x",
         "y": [
          5.192,
          6.431,
          7.115,
          1.207,
          2.821,
          2.257,
          2.291,
          2.094,
          1.863
         ],
         "yaxis": "y"
        },
        {
         "hovertemplate": "color=Lesotho<br>x=%{x}<br>y=%{y}<extra></extra>",
         "legendgroup": "Lesotho",
         "marker": {
          "color": "#FF97FF",
          "symbol": "circle"
         },
         "mode": "markers",
         "name": "Lesotho",
         "showlegend": true,
         "type": "scattergl",
         "x": [
          2011,
          2012,
          2013,
          2014,
          2015,
          2016,
          2017,
          2018,
          2019
         ],
         "xaxis": "x",
         "y": [
          100,
          100,
          100,
          100,
          100,
          100,
          100,
          100,
          100
         ],
         "yaxis": "y"
        },
        {
         "hovertemplate": "color=Liberia<br>x=%{x}<br>y=%{y}<extra></extra>",
         "legendgroup": "Liberia",
         "marker": {
          "color": "#FECB52",
          "symbol": "circle"
         },
         "mode": "markers",
         "name": "Liberia",
         "showlegend": true,
         "type": "scattergl",
         "x": [
          2011,
          2012,
          2013,
          2014,
          2015,
          2016,
          2017,
          2018,
          2019
         ],
         "xaxis": "x",
         "y": [
          0,
          0,
          0,
          0,
          0,
          0,
          0.798,
          1.07,
          0.999
         ],
         "yaxis": "y"
        },
        {
         "hovertemplate": "color=Libya<br>x=%{x}<br>y=%{y}<extra></extra>",
         "legendgroup": "Libya",
         "marker": {
          "color": "#636efa",
          "symbol": "circle"
         },
         "mode": "markers",
         "name": "Libya",
         "showlegend": true,
         "type": "scattergl",
         "x": [
          2011,
          2012,
          2013,
          2014,
          2015,
          2016,
          2017,
          2018,
          2019
         ],
         "xaxis": "x",
         "y": [
          0.025,
          0.022,
          0.022,
          0.023,
          0.023,
          0.027,
          0.026,
          0.025,
          0.026
         ],
         "yaxis": "y"
        },
        {
         "hovertemplate": "color=Lithuania<br>x=%{x}<br>y=%{y}<extra></extra>",
         "legendgroup": "Lithuania",
         "marker": {
          "color": "#EF553B",
          "symbol": "circle"
         },
         "mode": "markers",
         "name": "Lithuania",
         "showlegend": true,
         "type": "scattergl",
         "x": [
          2011,
          2012,
          2013,
          2014,
          2015,
          2016,
          2017,
          2018,
          2019,
          2020
         ],
         "xaxis": "x",
         "y": [
          27.886,
          27.492,
          38.364,
          43.593,
          42.041,
          61.504,
          75.577,
          80.144,
          78.547,
          57.538
         ],
         "yaxis": "y"
        },
        {
         "hovertemplate": "color=Luxembourg<br>x=%{x}<br>y=%{y}<extra></extra>",
         "legendgroup": "Luxembourg",
         "marker": {
          "color": "#00cc96",
          "symbol": "circle"
         },
         "mode": "markers",
         "name": "Luxembourg",
         "showlegend": true,
         "type": "scattergl",
         "x": [
          2011,
          2012,
          2013,
          2014,
          2015,
          2016,
          2017,
          2018,
          2019,
          2020
         ],
         "xaxis": "x",
         "y": [
          9.279,
          11.178,
          20.007,
          20.88,
          32.276,
          58.254,
          66.797,
          71.529,
          71.529,
          71.529
         ],
         "yaxis": "y"
        },
        {
         "hovertemplate": "color=Macau<br>x=%{x}<br>y=%{y}<extra></extra>",
         "legendgroup": "Macau",
         "marker": {
          "color": "#ab63fa",
          "symbol": "circle"
         },
         "mode": "markers",
         "name": "Macau",
         "showlegend": true,
         "type": "scattergl",
         "x": [
          2011,
          2012,
          2013,
          2014,
          2015,
          2016,
          2017,
          2018,
          2019
         ],
         "xaxis": "x",
         "y": [
          0,
          0,
          0,
          0,
          0,
          0,
          0,
          0,
          0
         ],
         "yaxis": "y"
        },
        {
         "hovertemplate": "color=Madagascar<br>x=%{x}<br>y=%{y}<extra></extra>",
         "legendgroup": "Madagascar",
         "marker": {
          "color": "#FFA15A",
          "symbol": "circle"
         },
         "mode": "markers",
         "name": "Madagascar",
         "showlegend": true,
         "type": "scattergl",
         "x": [
          2011,
          2012,
          2013,
          2014,
          2015,
          2016,
          2017,
          2018,
          2019
         ],
         "xaxis": "x",
         "y": [
          52.034,
          45.136,
          44.585,
          46.077,
          46.685,
          42.481,
          37.463,
          44.283,
          43.527
         ],
         "yaxis": "y"
        },
        {
         "hovertemplate": "color=Malawi<br>x=%{x}<br>y=%{y}<extra></extra>",
         "legendgroup": "Malawi",
         "marker": {
          "color": "#19d3f3",
          "symbol": "circle"
         },
         "mode": "markers",
         "name": "Malawi",
         "showlegend": true,
         "type": "scattergl",
         "x": [
          2011,
          2012,
          2013,
          2014,
          2015,
          2016,
          2017,
          2018,
          2019
         ],
         "xaxis": "x",
         "y": [
          91.538,
          91.85,
          91.883,
          92.286,
          92.195,
          92.156,
          91.758,
          89.443,
          88.002
         ],
         "yaxis": "y"
        },
        {
         "hovertemplate": "color=Malaysia<br>x=%{x}<br>y=%{y}<extra></extra>",
         "legendgroup": "Malaysia",
         "marker": {
          "color": "#FF6692",
          "symbol": "circle"
         },
         "mode": "markers",
         "name": "Malaysia",
         "showlegend": true,
         "type": "scattergl",
         "x": [
          2011,
          2012,
          2013,
          2014,
          2015,
          2016,
          2017,
          2018,
          2019
         ],
         "xaxis": "x",
         "y": [
          7.075,
          7.758,
          9.837,
          10.277,
          11.425,
          14.276,
          17.684,
          17.479,
          17.86
         ],
         "yaxis": "y"
        },
        {
         "hovertemplate": "color=Maldives<br>x=%{x}<br>y=%{y}<extra></extra>",
         "legendgroup": "Maldives",
         "marker": {
          "color": "#B6E880",
          "symbol": "circle"
         },
         "mode": "markers",
         "name": "Maldives",
         "showlegend": true,
         "type": "scattergl",
         "x": [
          2011,
          2012,
          2013,
          2014,
          2015,
          2016,
          2017,
          2018,
          2019
         ],
         "xaxis": "x",
         "y": [
          0.602,
          0.512,
          0.504,
          0.396,
          0.445,
          0.414,
          0.414,
          0.412,
          0.401
         ],
         "yaxis": "y"
        },
        {
         "hovertemplate": "color=Mali<br>x=%{x}<br>y=%{y}<extra></extra>",
         "legendgroup": "Mali",
         "marker": {
          "color": "#FF97FF",
          "symbol": "circle"
         },
         "mode": "markers",
         "name": "Mali",
         "showlegend": true,
         "type": "scattergl",
         "x": [
          2011,
          2012,
          2013,
          2014,
          2015,
          2016,
          2017,
          2018,
          2019
         ],
         "xaxis": "x",
         "y": [
          64.163,
          58.531,
          52.328,
          62.124,
          51.936,
          56.427,
          47.634,
          40.995,
          38.826
         ],
         "yaxis": "y"
        },
        {
         "hovertemplate": "color=Malta<br>x=%{x}<br>y=%{y}<extra></extra>",
         "legendgroup": "Malta",
         "marker": {
          "color": "#FECB52",
          "symbol": "circle"
         },
         "mode": "markers",
         "name": "Malta",
         "showlegend": true,
         "type": "scattergl",
         "x": [
          2011,
          2012,
          2013,
          2014,
          2015,
          2016,
          2017,
          2018,
          2019,
          2020
         ],
         "xaxis": "x",
         "y": [
          0.454,
          1.119,
          1.574,
          3.336,
          7.794,
          15.897,
          10.415,
          10.121,
          10.121,
          10.121
         ],
         "yaxis": "y"
        },
        {
         "hovertemplate": "color=Martinique<br>x=%{x}<br>y=%{y}<extra></extra>",
         "legendgroup": "Martinique",
         "marker": {
          "color": "#636efa",
          "symbol": "circle"
         },
         "mode": "markers",
         "name": "Martinique",
         "showlegend": true,
         "type": "scattergl",
         "x": [
          2011,
          2012,
          2013,
          2014,
          2015,
          2016,
          2017,
          2018,
          2019
         ],
         "xaxis": "x",
         "y": [
          1.097,
          1.458,
          1.26,
          1.771,
          2.034,
          2.099,
          1.806,
          6.233,
          7.422
         ],
         "yaxis": "y"
        },
        {
         "hovertemplate": "color=Mauritania<br>x=%{x}<br>y=%{y}<extra></extra>",
         "legendgroup": "Mauritania",
         "marker": {
          "color": "#EF553B",
          "symbol": "circle"
         },
         "mode": "markers",
         "name": "Mauritania",
         "showlegend": true,
         "type": "scattergl",
         "x": [
          2011,
          2012,
          2013,
          2014,
          2015,
          2016,
          2017,
          2018,
          2019
         ],
         "xaxis": "x",
         "y": [
          15.663,
          14.929,
          22.258,
          22.686,
          28.188,
          26.165,
          34.274,
          46.22,
          52.353
         ],
         "yaxis": "y"
        },
        {
         "hovertemplate": "color=Mauritius<br>x=%{x}<br>y=%{y}<extra></extra>",
         "legendgroup": "Mauritius",
         "marker": {
          "color": "#00cc96",
          "symbol": "circle"
         },
         "mode": "markers",
         "name": "Mauritius",
         "showlegend": true,
         "type": "scattergl",
         "x": [
          2011,
          2012,
          2013,
          2014,
          2015,
          2016,
          2017,
          2018,
          2019
         ],
         "xaxis": "x",
         "y": [
          21.198,
          21.705,
          21.605,
          21.284,
          23.801,
          22.875,
          20.975,
          21.724,
          21.052
         ],
         "yaxis": "y"
        },
        {
         "hovertemplate": "color=Mexico<br>x=%{x}<br>y=%{y}<extra></extra>",
         "legendgroup": "Mexico",
         "marker": {
          "color": "#ab63fa",
          "symbol": "circle"
         },
         "mode": "markers",
         "name": "Mexico",
         "showlegend": true,
         "type": "scattergl",
         "x": [
          2011,
          2012,
          2013,
          2014,
          2015,
          2016,
          2017,
          2018,
          2019,
          2020
         ],
         "xaxis": "x",
         "y": [
          15.543,
          14.439,
          13.88,
          18.265,
          15.853,
          15.681,
          16.566,
          16.987,
          17.65,
          21.035
         ],
         "yaxis": "y"
        },
        {
         "hovertemplate": "color=Moldova<br>x=%{x}<br>y=%{y}<extra></extra>",
         "legendgroup": "Moldova",
         "marker": {
          "color": "#FFA15A",
          "symbol": "circle"
         },
         "mode": "markers",
         "name": "Moldova",
         "showlegend": true,
         "type": "scattergl",
         "x": [
          2011,
          2012,
          2013,
          2014,
          2015,
          2016,
          2017,
          2018,
          2019
         ],
         "xaxis": "x",
         "y": [
          6.378,
          4.866,
          7.377,
          6.542,
          4.98,
          4.478,
          6.705,
          6.475,
          6.977
         ],
         "yaxis": "y"
        },
        {
         "hovertemplate": "color=Mongolia<br>x=%{x}<br>y=%{y}<extra></extra>",
         "legendgroup": "Mongolia",
         "marker": {
          "color": "#19d3f3",
          "symbol": "circle"
         },
         "mode": "markers",
         "name": "Mongolia",
         "showlegend": true,
         "type": "scattergl",
         "x": [
          2011,
          2012,
          2013,
          2014,
          2015,
          2016,
          2017,
          2018,
          2019,
          2020
         ],
         "xaxis": "x",
         "y": [
          1.429,
          1.324,
          2.592,
          3.958,
          4.262,
          4.627,
          7.314,
          7.411,
          7.925,
          7.696
         ],
         "yaxis": "y"
        },
        {
         "hovertemplate": "color=Montenegro<br>x=%{x}<br>y=%{y}<extra></extra>",
         "legendgroup": "Montenegro",
         "marker": {
          "color": "#FF6692",
          "symbol": "circle"
         },
         "mode": "markers",
         "name": "Montenegro",
         "showlegend": true,
         "type": "scattergl",
         "x": [
          2011,
          2012,
          2013,
          2014,
          2015,
          2016,
          2017,
          2018,
          2019
         ],
         "xaxis": "x",
         "y": [
          46.619,
          53.222,
          64.666,
          56.487,
          50.944,
          59.932,
          46.46,
          60.458,
          62.957
         ],
         "yaxis": "y"
        },
        {
         "hovertemplate": "color=Montserrat<br>x=%{x}<br>y=%{y}<extra></extra>",
         "legendgroup": "Montserrat",
         "marker": {
          "color": "#B6E880",
          "symbol": "circle"
         },
         "mode": "markers",
         "name": "Montserrat",
         "showlegend": true,
         "type": "scattergl",
         "x": [
          2011,
          2012,
          2013,
          2014,
          2015,
          2016,
          2017,
          2018,
          2019
         ],
         "xaxis": "x",
         "y": [
          0,
          0,
          0,
          0,
          0,
          0,
          0,
          0,
          0
         ],
         "yaxis": "y"
        },
        {
         "hovertemplate": "color=Morocco<br>x=%{x}<br>y=%{y}<extra></extra>",
         "legendgroup": "Morocco",
         "marker": {
          "color": "#FF97FF",
          "symbol": "circle"
         },
         "mode": "markers",
         "name": "Morocco",
         "showlegend": true,
         "type": "scattergl",
         "x": [
          2011,
          2012,
          2013,
          2014,
          2015,
          2016,
          2017,
          2018,
          2019
         ],
         "xaxis": "x",
         "y": [
          11.318,
          9.092,
          16.241,
          13.524,
          15.703,
          16.116,
          15.507,
          19.903,
          20.658
         ],
         "yaxis": "y"
        },
        {
         "hovertemplate": "color=Mozambique<br>x=%{x}<br>y=%{y}<extra></extra>",
         "legendgroup": "Mozambique",
         "marker": {
          "color": "#FECB52",
          "symbol": "circle"
         },
         "mode": "markers",
         "name": "Mozambique",
         "showlegend": true,
         "type": "scattergl",
         "x": [
          2011,
          2012,
          2013,
          2014,
          2015,
          2016,
          2017,
          2018,
          2019
         ],
         "xaxis": "x",
         "y": [
          99.888,
          99.869,
          97.782,
          91.499,
          87.067,
          83.987,
          83.541,
          84.334,
          83.168
         ],
         "yaxis": "y"
        },
        {
         "hovertemplate": "color=Myanmar<br>x=%{x}<br>y=%{y}<extra></extra>",
         "legendgroup": "Myanmar",
         "marker": {
          "color": "#636efa",
          "symbol": "circle"
         },
         "mode": "markers",
         "name": "Myanmar",
         "showlegend": true,
         "type": "scattergl",
         "x": [
          2011,
          2012,
          2013,
          2014,
          2015,
          2016,
          2017,
          2018,
          2019
         ],
         "xaxis": "x",
         "y": [
          null,
          null,
          null,
          null,
          null,
          null,
          null,
          null,
          null
         ],
         "yaxis": "y"
        },
        {
         "hovertemplate": "color=Namibia<br>x=%{x}<br>y=%{y}<extra></extra>",
         "legendgroup": "Namibia",
         "marker": {
          "color": "#EF553B",
          "symbol": "circle"
         },
         "mode": "markers",
         "name": "Namibia",
         "showlegend": true,
         "type": "scattergl",
         "x": [
          2011,
          2012,
          2013,
          2014,
          2015,
          2016,
          2017,
          2018,
          2019
         ],
         "xaxis": "x",
         "y": [
          98.283,
          97.936,
          95.853,
          99.192,
          97.95,
          96.012,
          96.285,
          98.332,
          98.524
         ],
         "yaxis": "y"
        },
        {
         "hovertemplate": "color=Nauru<br>x=%{x}<br>y=%{y}<extra></extra>",
         "legendgroup": "Nauru",
         "marker": {
          "color": "#00cc96",
          "symbol": "circle"
         },
         "mode": "markers",
         "name": "Nauru",
         "showlegend": true,
         "type": "scattergl",
         "x": [
          2011,
          2012,
          2013,
          2014,
          2015,
          2016,
          2017,
          2018,
          2019
         ],
         "xaxis": "x",
         "y": [
          0,
          0,
          0,
          0,
          0,
          0,
          0,
          0,
          0
         ],
         "yaxis": "y"
        },
        {
         "hovertemplate": "color=Nepal<br>x=%{x}<br>y=%{y}<extra></extra>",
         "legendgroup": "Nepal",
         "marker": {
          "color": "#ab63fa",
          "symbol": "circle"
         },
         "mode": "markers",
         "name": "Nepal",
         "showlegend": true,
         "type": "scattergl",
         "x": [
          2011,
          2012,
          2013,
          2014,
          2015,
          2016,
          2017,
          2018,
          2019
         ],
         "xaxis": "x",
         "y": [
          99.946,
          99.494,
          99.731,
          99.975,
          100,
          100,
          100,
          100,
          100
         ],
         "yaxis": "y"
        },
        {
         "hovertemplate": "color=Netherlands<br>x=%{x}<br>y=%{y}<extra></extra>",
         "legendgroup": "Netherlands",
         "marker": {
          "color": "#FFA15A",
          "symbol": "circle"
         },
         "mode": "markers",
         "name": "Netherlands",
         "showlegend": true,
         "type": "scattergl",
         "x": [
          2011,
          2012,
          2013,
          2014,
          2015,
          2016,
          2017,
          2018,
          2019,
          2020
         ],
         "xaxis": "x",
         "y": [
          10.825,
          12.107,
          11.926,
          11.285,
          12.415,
          12.841,
          14.886,
          16.512,
          18.685,
          25.214
         ],
         "yaxis": "y"
        },
        {
         "hovertemplate": "color=Netherlands Antilles<br>x=%{x}<br>y=%{y}<extra></extra>",
         "legendgroup": "Netherlands Antilles",
         "marker": {
          "color": "#19d3f3",
          "symbol": "circle"
         },
         "mode": "markers",
         "name": "Netherlands Antilles",
         "showlegend": true,
         "type": "scattergl",
         "x": [
          2011,
          2012,
          2013,
          2014,
          2015,
          2016,
          2017,
          2018,
          2019
         ],
         "xaxis": "x",
         "y": [
          6.991,
          22.652,
          25.284,
          27.344,
          27.443,
          27.304,
          30.721,
          34.112,
          36.208
         ],
         "yaxis": "y"
        },
        {
         "hovertemplate": "color=New Caledonia<br>x=%{x}<br>y=%{y}<extra></extra>",
         "legendgroup": "New Caledonia",
         "marker": {
          "color": "#FF6692",
          "symbol": "circle"
         },
         "mode": "markers",
         "name": "New Caledonia",
         "showlegend": true,
         "type": "scattergl",
         "x": [
          2011,
          2012,
          2013,
          2014,
          2015,
          2016,
          2017,
          2018,
          2019
         ],
         "xaxis": "x",
         "y": [
          19.404,
          20.839,
          21.355,
          12.164,
          14.647,
          9.391,
          13.387,
          12.291,
          11.741
         ],
         "yaxis": "y"
        },
        {
         "hovertemplate": "color=New Zealand<br>x=%{x}<br>y=%{y}<extra></extra>",
         "legendgroup": "New Zealand",
         "marker": {
          "color": "#B6E880",
          "symbol": "circle"
         },
         "mode": "markers",
         "name": "New Zealand",
         "showlegend": true,
         "type": "scattergl",
         "x": [
          2011,
          2012,
          2013,
          2014,
          2015,
          2016,
          2017,
          2018,
          2019,
          2020
         ],
         "xaxis": "x",
         "y": [
          76.991,
          72.754,
          75.122,
          79.937,
          80.85,
          84.906,
          81.857,
          84.063,
          82.376,
          81.124
         ],
         "yaxis": "y"
        },
        {
         "hovertemplate": "color=Nicaragua<br>x=%{x}<br>y=%{y}<extra></extra>",
         "legendgroup": "Nicaragua",
         "marker": {
          "color": "#FF97FF",
          "symbol": "circle"
         },
         "mode": "markers",
         "name": "Nicaragua",
         "showlegend": true,
         "type": "scattergl",
         "x": [
          2011,
          2012,
          2013,
          2014,
          2015,
          2016,
          2017,
          2018,
          2019
         ],
         "xaxis": "x",
         "y": [
          35.415,
          44.411,
          53.832,
          55.312,
          51.625,
          53.691,
          57.457,
          60.486,
          63.01
         ],
         "yaxis": "y"
        },
        {
         "hovertemplate": "color=Niger<br>x=%{x}<br>y=%{y}<extra></extra>",
         "legendgroup": "Niger",
         "marker": {
          "color": "#FECB52",
          "symbol": "circle"
         },
         "mode": "markers",
         "name": "Niger",
         "showlegend": true,
         "type": "scattergl",
         "x": [
          2011,
          2012,
          2013,
          2014,
          2015,
          2016,
          2017,
          2018,
          2019
         ],
         "xaxis": "x",
         "y": [
          0,
          0,
          0.96,
          0.96,
          0.801,
          1.011,
          1.153,
          4.203,
          4.079
         ],
         "yaxis": "y"
        },
        {
         "hovertemplate": "color=Nigeria<br>x=%{x}<br>y=%{y}<extra></extra>",
         "legendgroup": "Nigeria",
         "marker": {
          "color": "#636efa",
          "symbol": "circle"
         },
         "mode": "markers",
         "name": "Nigeria",
         "showlegend": true,
         "type": "scattergl",
         "x": [
          2011,
          2012,
          2013,
          2014,
          2015,
          2016,
          2017,
          2018,
          2019,
          2020
         ],
         "xaxis": "x",
         "y": [
          22.707,
          20.656,
          19.359,
          17.444,
          18.543,
          25.383,
          23.557,
          18.721,
          18.773,
          18.968
         ],
         "yaxis": "y"
        },
        {
         "hovertemplate": "color=Niue<br>x=%{x}<br>y=%{y}<extra></extra>",
         "legendgroup": "Niue",
         "marker": {
          "color": "#EF553B",
          "symbol": "circle"
         },
         "mode": "markers",
         "name": "Niue",
         "showlegend": true,
         "type": "scattergl",
         "x": [
          2011,
          2012,
          2013,
          2014,
          2015,
          2016,
          2017,
          2018,
          2019
         ],
         "xaxis": "x",
         "y": [
          0,
          0,
          0,
          0,
          0,
          0,
          0,
          0,
          0
         ],
         "yaxis": "y"
        },
        {
         "hovertemplate": "color=North Korea<br>x=%{x}<br>y=%{y}<extra></extra>",
         "legendgroup": "North Korea",
         "marker": {
          "color": "#00cc96",
          "symbol": "circle"
         },
         "mode": "markers",
         "name": "North Korea",
         "showlegend": true,
         "type": "scattergl",
         "x": [
          2011,
          2012,
          2013,
          2014,
          2015,
          2016,
          2017,
          2018,
          2019
         ],
         "xaxis": "x",
         "y": [
          69.767,
          71.261,
          76.768,
          73.619,
          73.832,
          76.585,
          80.701,
          83.766,
          86.637
         ],
         "yaxis": "y"
        },
        {
         "hovertemplate": "color=North Macedonia<br>x=%{x}<br>y=%{y}<extra></extra>",
         "legendgroup": "North Macedonia",
         "marker": {
          "color": "#ab63fa",
          "symbol": "circle"
         },
         "mode": "markers",
         "name": "North Macedonia",
         "showlegend": true,
         "type": "scattergl",
         "x": [
          2011,
          2012,
          2013,
          2014,
          2015,
          2016,
          2017,
          2018,
          2019
         ],
         "xaxis": "x",
         "y": [
          21.219,
          16.669,
          26.14,
          24.037,
          35.932,
          36.709,
          23.143,
          35.054,
          22.894
         ],
         "yaxis": "y"
        },
        {
         "hovertemplate": "color=Northern Mariana Islands<br>x=%{x}<br>y=%{y}<extra></extra>",
         "legendgroup": "Northern Mariana Islands",
         "marker": {
          "color": "#FFA15A",
          "symbol": "circle"
         },
         "mode": "markers",
         "name": "Northern Mariana Islands",
         "showlegend": true,
         "type": "scattergl",
         "x": [
          2011,
          2012,
          2013,
          2014,
          2015,
          2016
         ],
         "xaxis": "x",
         "y": [
          null,
          null,
          null,
          null,
          null,
          null
         ],
         "yaxis": "y"
        },
        {
         "hovertemplate": "color=Norway<br>x=%{x}<br>y=%{y}<extra></extra>",
         "legendgroup": "Norway",
         "marker": {
          "color": "#19d3f3",
          "symbol": "circle"
         },
         "mode": "markers",
         "name": "Norway",
         "showlegend": true,
         "type": "scattergl",
         "x": [
          2011,
          2012,
          2013,
          2014,
          2015,
          2016,
          2017,
          2018,
          2019,
          2020
         ],
         "xaxis": "x",
         "y": [
          96.834,
          98.173,
          98.129,
          98.131,
          98.168,
          98.23,
          98.257,
          98.19,
          98.211,
          98.787
         ],
         "yaxis": "y"
        },
        {
         "hovertemplate": "color=Oman<br>x=%{x}<br>y=%{y}<extra></extra>",
         "legendgroup": "Oman",
         "marker": {
          "color": "#FF6692",
          "symbol": "circle"
         },
         "mode": "markers",
         "name": "Oman",
         "showlegend": true,
         "type": "scattergl",
         "x": [
          2011,
          2012,
          2013,
          2014,
          2015,
          2016,
          2017,
          2018,
          2019
         ],
         "xaxis": "x",
         "y": [
          0,
          0,
          0.004,
          0.004,
          0.013,
          0.012,
          0.012,
          0.011,
          0.011
         ],
         "yaxis": "y"
        },
        {
         "hovertemplate": "color=Pakistan<br>x=%{x}<br>y=%{y}<extra></extra>",
         "legendgroup": "Pakistan",
         "marker": {
          "color": "#B6E880",
          "symbol": "circle"
         },
         "mode": "markers",
         "name": "Pakistan",
         "showlegend": true,
         "type": "scattergl",
         "x": [
          2011,
          2012,
          2013,
          2014,
          2015,
          2016,
          2017,
          2018,
          2019,
          2020
         ],
         "xaxis": "x",
         "y": [
          32.559,
          32.953,
          33.512,
          33.743,
          34.667,
          30.974,
          26.883,
          30.703,
          34.698,
          37.258
         ],
         "yaxis": "y"
        },
        {
         "hovertemplate": "color=Palestine<br>x=%{x}<br>y=%{y}<extra></extra>",
         "legendgroup": "Palestine",
         "marker": {
          "color": "#FF97FF",
          "symbol": "circle"
         },
         "mode": "markers",
         "name": "Palestine",
         "showlegend": true,
         "type": "scattergl",
         "x": [
          2011,
          2012,
          2013,
          2014,
          2015,
          2016,
          2017,
          2018,
          2019
         ],
         "xaxis": "x",
         "y": [
          0,
          0,
          0,
          0,
          0,
          0,
          0.134,
          0.081,
          0.125
         ],
         "yaxis": "y"
        },
        {
         "hovertemplate": "color=Panama<br>x=%{x}<br>y=%{y}<extra></extra>",
         "legendgroup": "Panama",
         "marker": {
          "color": "#FECB52",
          "symbol": "circle"
         },
         "mode": "markers",
         "name": "Panama",
         "showlegend": true,
         "type": "scattergl",
         "x": [
          2011,
          2012,
          2013,
          2014,
          2015,
          2016,
          2017,
          2018,
          2019
         ],
         "xaxis": "x",
         "y": [
          53.976,
          64.133,
          59.183,
          57.081,
          66.49,
          67.771,
          72.824,
          78.497,
          82.082
         ],
         "yaxis": "y"
        },
        {
         "hovertemplate": "color=Papua New Guinea<br>x=%{x}<br>y=%{y}<extra></extra>",
         "legendgroup": "Papua New Guinea",
         "marker": {
          "color": "#636efa",
          "symbol": "circle"
         },
         "mode": "markers",
         "name": "Papua New Guinea",
         "showlegend": true,
         "type": "scattergl",
         "x": [
          2011,
          2012,
          2013,
          2014,
          2015,
          2016,
          2017,
          2018,
          2019
         ],
         "xaxis": "x",
         "y": [
          39.293,
          31.088,
          29.902,
          28.917,
          27.687,
          26.712,
          21.501,
          20.23,
          19.797
         ],
         "yaxis": "y"
        },
        {
         "hovertemplate": "color=Paraguay<br>x=%{x}<br>y=%{y}<extra></extra>",
         "legendgroup": "Paraguay",
         "marker": {
          "color": "#EF553B",
          "symbol": "circle"
         },
         "mode": "markers",
         "name": "Paraguay",
         "showlegend": true,
         "type": "scattergl",
         "x": [
          2011,
          2012,
          2013,
          2014,
          2015,
          2016,
          2017,
          2018,
          2019
         ],
         "xaxis": "x",
         "y": [
          99.998,
          99.995,
          99.995,
          99.99,
          99.998,
          99.999,
          99.997,
          99.997,
          99.996
         ],
         "yaxis": "y"
        },
        {
         "hovertemplate": "color=Peru<br>x=%{x}<br>y=%{y}<extra></extra>",
         "legendgroup": "Peru",
         "marker": {
          "color": "#00cc96",
          "symbol": "circle"
         },
         "mode": "markers",
         "name": "Peru",
         "showlegend": true,
         "type": "scattergl",
         "x": [
          2011,
          2012,
          2013,
          2014,
          2015,
          2016,
          2017,
          2018,
          2019,
          2020
         ],
         "xaxis": "x",
         "y": [
          58.035,
          56.536,
          55.24,
          53.682,
          54.037,
          51.707,
          59.864,
          62.012,
          61.655,
          64.726
         ],
         "yaxis": "y"
        },
        {
         "hovertemplate": "color=Philippines<br>x=%{x}<br>y=%{y}<extra></extra>",
         "legendgroup": "Philippines",
         "marker": {
          "color": "#ab63fa",
          "symbol": "circle"
         },
         "mode": "markers",
         "name": "Philippines",
         "showlegend": true,
         "type": "scattergl",
         "x": [
          2011,
          2012,
          2013,
          2014,
          2015,
          2016,
          2017,
          2018,
          2019,
          2020
         ],
         "xaxis": "x",
         "y": [
          29.869,
          29.642,
          27.564,
          26.747,
          26.545,
          25.29,
          25.657,
          23.975,
          21.343,
          21.858
         ],
         "yaxis": "y"
        },
        {
         "hovertemplate": "color=Poland<br>x=%{x}<br>y=%{y}<extra></extra>",
         "legendgroup": "Poland",
         "marker": {
          "color": "#FFA15A",
          "symbol": "circle"
         },
         "mode": "markers",
         "name": "Poland",
         "showlegend": true,
         "type": "scattergl",
         "x": [
          2011,
          2012,
          2013,
          2014,
          2015,
          2016,
          2017,
          2018,
          2019,
          2020
         ],
         "xaxis": "x",
         "y": [
          8.059,
          10.443,
          10.412,
          12.529,
          13.813,
          13.732,
          14.195,
          12.754,
          15.068,
          16.912
         ],
         "yaxis": "y"
        },
        {
         "hovertemplate": "color=Portugal<br>x=%{x}<br>y=%{y}<extra></extra>",
         "legendgroup": "Portugal",
         "marker": {
          "color": "#19d3f3",
          "symbol": "circle"
         },
         "mode": "markers",
         "name": "Portugal",
         "showlegend": true,
         "type": "scattergl",
         "x": [
          2011,
          2012,
          2013,
          2014,
          2015,
          2016,
          2017,
          2018,
          2019,
          2020
         ],
         "xaxis": "x",
         "y": [
          46.479,
          42.508,
          58.325,
          60.748,
          47.534,
          54.631,
          39.124,
          50.345,
          53.623,
          58.826
         ],
         "yaxis": "y"
        },
        {
         "hovertemplate": "color=Puerto Rico<br>x=%{x}<br>y=%{y}<extra></extra>",
         "legendgroup": "Puerto Rico",
         "marker": {
          "color": "#FF6692",
          "symbol": "circle"
         },
         "mode": "markers",
         "name": "Puerto Rico",
         "showlegend": true,
         "type": "scattergl",
         "x": [
          2011,
          2012,
          2013,
          2014,
          2015,
          2016,
          2017,
          2018,
          2019
         ],
         "xaxis": "x",
         "y": [
          0.758,
          0.58,
          0.786,
          0.874,
          1.199,
          1.503,
          2.07,
          6.761,
          23.784
         ],
         "yaxis": "y"
        },
        {
         "hovertemplate": "color=Qatar<br>x=%{x}<br>y=%{y}<extra></extra>",
         "legendgroup": "Qatar",
         "marker": {
          "color": "#B6E880",
          "symbol": "circle"
         },
         "mode": "markers",
         "name": "Qatar",
         "showlegend": true,
         "type": "scattergl",
         "x": [
          2011,
          2012,
          2013,
          2014,
          2015,
          2016,
          2017,
          2018,
          2019
         ],
         "xaxis": "x",
         "y": [
          0.4,
          0.353,
          0.363,
          0.333,
          0.311,
          0.309,
          0.287,
          0.273,
          0.261
         ],
         "yaxis": "y"
        },
        {
         "hovertemplate": "color=Romania<br>x=%{x}<br>y=%{y}<extra></extra>",
         "legendgroup": "Romania",
         "marker": {
          "color": "#FF97FF",
          "symbol": "circle"
         },
         "mode": "markers",
         "name": "Romania",
         "showlegend": true,
         "type": "scattergl",
         "x": [
          2011,
          2012,
          2013,
          2014,
          2015,
          2016,
          2017,
          2018,
          2019,
          2020
         ],
         "xaxis": "x",
         "y": [
          26.313,
          25.395,
          34.42,
          41.604,
          39.745,
          41.75,
          37.978,
          40.647,
          41.605,
          43.875
         ],
         "yaxis": "y"
        },
        {
         "hovertemplate": "color=Russia<br>x=%{x}<br>y=%{y}<extra></extra>",
         "legendgroup": "Russia",
         "marker": {
          "color": "#FECB52",
          "symbol": "circle"
         },
         "mode": "markers",
         "name": "Russia",
         "showlegend": true,
         "type": "scattergl",
         "x": [
          2011,
          2012,
          2013,
          2014,
          2015,
          2016,
          2017,
          2018,
          2019,
          2020
         ],
         "xaxis": "x",
         "y": [
          16.787,
          16.559,
          18.223,
          17.614,
          16.85,
          18.046,
          18.06,
          18.478,
          18.656,
          21.095
         ],
         "yaxis": "y"
        },
        {
         "hovertemplate": "color=Rwanda<br>x=%{x}<br>y=%{y}<extra></extra>",
         "legendgroup": "Rwanda",
         "marker": {
          "color": "#636efa",
          "symbol": "circle"
         },
         "mode": "markers",
         "name": "Rwanda",
         "showlegend": true,
         "type": "scattergl",
         "x": [
          2011,
          2012,
          2013,
          2014,
          2015,
          2016,
          2017,
          2018,
          2019
         ],
         "xaxis": "x",
         "y": [
          41.809,
          40.828,
          37.406,
          45.69,
          58.767,
          52.984,
          55.91,
          53.38,
          51.534
         ],
         "yaxis": "y"
        },
        {
         "hovertemplate": "color=Saint Helena<br>x=%{x}<br>y=%{y}<extra></extra>",
         "legendgroup": "Saint Helena",
         "marker": {
          "color": "#EF553B",
          "symbol": "circle"
         },
         "mode": "markers",
         "name": "Saint Helena",
         "showlegend": true,
         "type": "scattergl",
         "x": [
          2011,
          2012,
          2013,
          2014,
          2015,
          2016,
          2017,
          2018,
          2019
         ],
         "xaxis": "x",
         "y": [
          0,
          0,
          0,
          0,
          0,
          0,
          0,
          0,
          0
         ],
         "yaxis": "y"
        },
        {
         "hovertemplate": "color=Saint Kitts and Nevis<br>x=%{x}<br>y=%{y}<extra></extra>",
         "legendgroup": "Saint Kitts and Nevis",
         "marker": {
          "color": "#00cc96",
          "symbol": "circle"
         },
         "mode": "markers",
         "name": "Saint Kitts and Nevis",
         "showlegend": true,
         "type": "scattergl",
         "x": [
          2011,
          2012,
          2013,
          2014,
          2015,
          2016,
          2017,
          2018,
          2019
         ],
         "xaxis": "x",
         "y": [
          2.646,
          4,
          3.883,
          3.883,
          3.941,
          3.774,
          3.96,
          3.846,
          3.879
         ],
         "yaxis": "y"
        },
        {
         "hovertemplate": "color=Saint Lucia<br>x=%{x}<br>y=%{y}<extra></extra>",
         "legendgroup": "Saint Lucia",
         "marker": {
          "color": "#ab63fa",
          "symbol": "circle"
         },
         "mode": "markers",
         "name": "Saint Lucia",
         "showlegend": true,
         "type": "scattergl",
         "x": [
          2011,
          2012,
          2013,
          2014,
          2015,
          2016,
          2017,
          2018,
          2019
         ],
         "xaxis": "x",
         "y": [
          0,
          0.028,
          0.028,
          0.056,
          0.329,
          0.351,
          0.344,
          0.836,
          0.824
         ],
         "yaxis": "y"
        },
        {
         "hovertemplate": "color=Saint Pierre and Miquelon<br>x=%{x}<br>y=%{y}<extra></extra>",
         "legendgroup": "Saint Pierre and Miquelon",
         "marker": {
          "color": "#FFA15A",
          "symbol": "circle"
         },
         "mode": "markers",
         "name": "Saint Pierre and Miquelon",
         "showlegend": true,
         "type": "scattergl",
         "x": [
          2011,
          2012,
          2013,
          2014,
          2015,
          2016,
          2017,
          2018,
          2019
         ],
         "xaxis": "x",
         "y": [
          4.545,
          4.444,
          4.444,
          0,
          0,
          0,
          0,
          0,
          0
         ],
         "yaxis": "y"
        },
        {
         "hovertemplate": "color=Saint Vincent and the Grenadines<br>x=%{x}<br>y=%{y}<extra></extra>",
         "legendgroup": "Saint Vincent and the Grenadines",
         "marker": {
          "color": "#19d3f3",
          "symbol": "circle"
         },
         "mode": "markers",
         "name": "Saint Vincent and the Grenadines",
         "showlegend": true,
         "type": "scattergl",
         "x": [
          2011,
          2012,
          2013,
          2014,
          2015,
          2016,
          2017,
          2018,
          2019
         ],
         "xaxis": "x",
         "y": [
          18.939,
          18.939,
          17.078,
          9.159,
          12.887,
          11.602,
          14.669,
          17.483,
          17.606
         ],
         "yaxis": "y"
        },
        {
         "hovertemplate": "color=Samoa<br>x=%{x}<br>y=%{y}<extra></extra>",
         "legendgroup": "Samoa",
         "marker": {
          "color": "#FF6692",
          "symbol": "circle"
         },
         "mode": "markers",
         "name": "Samoa",
         "showlegend": true,
         "type": "scattergl",
         "x": [
          2011,
          2012,
          2013,
          2014,
          2015,
          2016,
          2017,
          2018,
          2019
         ],
         "xaxis": "x",
         "y": [
          44.089,
          34.259,
          29.907,
          25.336,
          25.55,
          24.414,
          27.428,
          32.302,
          34.334
         ],
         "yaxis": "y"
        },
        {
         "hovertemplate": "color=Sao Tome and Principe<br>x=%{x}<br>y=%{y}<extra></extra>",
         "legendgroup": "Sao Tome and Principe",
         "marker": {
          "color": "#B6E880",
          "symbol": "circle"
         },
         "mode": "markers",
         "name": "Sao Tome and Principe",
         "showlegend": true,
         "type": "scattergl",
         "x": [
          2011,
          2012,
          2013,
          2014,
          2015,
          2016,
          2017,
          2018,
          2019
         ],
         "xaxis": "x",
         "y": [
          10.714,
          9.836,
          8.955,
          8.333,
          10.256,
          8.537,
          8.235,
          8.046,
          7.407
         ],
         "yaxis": "y"
        },
        {
         "hovertemplate": "color=Saudi Arabia<br>x=%{x}<br>y=%{y}<extra></extra>",
         "legendgroup": "Saudi Arabia",
         "marker": {
          "color": "#FF97FF",
          "symbol": "circle"
         },
         "mode": "markers",
         "name": "Saudi Arabia",
         "showlegend": true,
         "type": "scattergl",
         "x": [
          2011,
          2012,
          2013,
          2014,
          2015,
          2016,
          2017,
          2018,
          2019
         ],
         "xaxis": "x",
         "y": [
          0,
          0.009,
          0.014,
          0.013,
          0.038,
          0.037,
          0.045,
          0.045,
          0.044
         ],
         "yaxis": "y"
        },
        {
         "hovertemplate": "color=Senegal<br>x=%{x}<br>y=%{y}<extra></extra>",
         "legendgroup": "Senegal",
         "marker": {
          "color": "#FECB52",
          "symbol": "circle"
         },
         "mode": "markers",
         "name": "Senegal",
         "showlegend": true,
         "type": "scattergl",
         "x": [
          2011,
          2012,
          2013,
          2014,
          2015,
          2016,
          2017,
          2018,
          2019
         ],
         "xaxis": "x",
         "y": [
          11.588,
          10.672,
          11.13,
          10.595,
          10.461,
          10.199,
          11.903,
          11.64,
          11.489
         ],
         "yaxis": "y"
        },
        {
         "hovertemplate": "color=Serbia<br>x=%{x}<br>y=%{y}<extra></extra>",
         "legendgroup": "Serbia",
         "marker": {
          "color": "#636efa",
          "symbol": "circle"
         },
         "mode": "markers",
         "name": "Serbia",
         "showlegend": true,
         "type": "scattergl",
         "x": [
          2011,
          2012,
          2013,
          2014,
          2015,
          2016,
          2017,
          2018,
          2019,
          2020
         ],
         "xaxis": "x",
         "y": [
          23.718,
          26.693,
          27.081,
          34.149,
          27.947,
          29.206,
          26.497,
          30.847,
          31.813,
          30.008
         ],
         "yaxis": "y"
        },
        {
         "hovertemplate": "color=Seychelles<br>x=%{x}<br>y=%{y}<extra></extra>",
         "legendgroup": "Seychelles",
         "marker": {
          "color": "#EF553B",
          "symbol": "circle"
         },
         "mode": "markers",
         "name": "Seychelles",
         "showlegend": true,
         "type": "scattergl",
         "x": [
          2011,
          2012,
          2013,
          2014,
          2015,
          2016,
          2017,
          2018,
          2019
         ],
         "xaxis": "x",
         "y": [
          0,
          0,
          1.711,
          1.909,
          2.064,
          0.487,
          0.703,
          1.155,
          1.154
         ],
         "yaxis": "y"
        },
        {
         "hovertemplate": "color=Sierra Leone<br>x=%{x}<br>y=%{y}<extra></extra>",
         "legendgroup": "Sierra Leone",
         "marker": {
          "color": "#00cc96",
          "symbol": "circle"
         },
         "mode": "markers",
         "name": "Sierra Leone",
         "showlegend": true,
         "type": "scattergl",
         "x": [
          2011,
          2012,
          2013,
          2014,
          2015,
          2016,
          2017,
          2018,
          2019
         ],
         "xaxis": "x",
         "y": [
          87.209,
          67.052,
          65.625,
          67.582,
          65.816,
          62.381,
          63.927,
          69.224,
          69.25
         ],
         "yaxis": "y"
        },
        {
         "hovertemplate": "color=Singapore<br>x=%{x}<br>y=%{y}<extra></extra>",
         "legendgroup": "Singapore",
         "marker": {
          "color": "#ab63fa",
          "symbol": "circle"
         },
         "mode": "markers",
         "name": "Singapore",
         "showlegend": true,
         "type": "scattergl",
         "x": [
          2011,
          2012,
          2013,
          2014,
          2015,
          2016,
          2017,
          2018,
          2019,
          2020
         ],
         "xaxis": "x",
         "y": [
          2.8,
          2.858,
          3.041,
          3.124,
          3.277,
          3.263,
          3.301,
          3.332,
          3.27,
          3.306
         ],
         "yaxis": "y"
        },
        {
         "hovertemplate": "color=Slovakia<br>x=%{x}<br>y=%{y}<extra></extra>",
         "legendgroup": "Slovakia",
         "marker": {
          "color": "#FFA15A",
          "symbol": "circle"
         },
         "mode": "markers",
         "name": "Slovakia",
         "showlegend": true,
         "type": "scattergl",
         "x": [
          2011,
          2012,
          2013,
          2014,
          2015,
          2016,
          2017,
          2018,
          2019,
          2020
         ],
         "xaxis": "x",
         "y": [
          17.721,
          19.371,
          22.334,
          23.045,
          22.765,
          24.84,
          23.941,
          21.855,
          25.574,
          25.984
         ],
         "yaxis": "y"
        },
        {
         "hovertemplate": "color=Slovenia<br>x=%{x}<br>y=%{y}<extra></extra>",
         "legendgroup": "Slovenia",
         "marker": {
          "color": "#19d3f3",
          "symbol": "circle"
         },
         "mode": "markers",
         "name": "Slovenia",
         "showlegend": true,
         "type": "scattergl",
         "x": [
          2011,
          2012,
          2013,
          2014,
          2015,
          2016,
          2017,
          2018,
          2019,
          2020
         ],
         "xaxis": "x",
         "y": [
          24.377,
          27.843,
          32.316,
          38.504,
          29.374,
          31.167,
          27.684,
          32.414,
          32.164,
          33.292
         ],
         "yaxis": "y"
        },
        {
         "hovertemplate": "color=Solomon Islands<br>x=%{x}<br>y=%{y}<extra></extra>",
         "legendgroup": "Solomon Islands",
         "marker": {
          "color": "#FF6692",
          "symbol": "circle"
         },
         "mode": "markers",
         "name": "Solomon Islands",
         "showlegend": true,
         "type": "scattergl",
         "x": [
          2011,
          2012,
          2013,
          2014,
          2015,
          2016,
          2017,
          2018,
          2019
         ],
         "xaxis": "x",
         "y": [
          4.651,
          4.878,
          4.628,
          5.986,
          5.839,
          5.995,
          6.864,
          5.349,
          4.808
         ],
         "yaxis": "y"
        },
        {
         "hovertemplate": "color=Somalia<br>x=%{x}<br>y=%{y}<extra></extra>",
         "legendgroup": "Somalia",
         "marker": {
          "color": "#B6E880",
          "symbol": "circle"
         },
         "mode": "markers",
         "name": "Somalia",
         "showlegend": true,
         "type": "scattergl",
         "x": [
          2011,
          2012,
          2013,
          2014,
          2015,
          2016,
          2017,
          2018,
          2019
         ],
         "xaxis": "x",
         "y": [
          0,
          1.235,
          1.198,
          1.227,
          1.551,
          3.509,
          4.954,
          4.954,
          4.954
         ],
         "yaxis": "y"
        },
        {
         "hovertemplate": "color=South Africa<br>x=%{x}<br>y=%{y}<extra></extra>",
         "legendgroup": "South Africa",
         "marker": {
          "color": "#FF97FF",
          "symbol": "circle"
         },
         "mode": "markers",
         "name": "South Africa",
         "showlegend": true,
         "type": "scattergl",
         "x": [
          2011,
          2012,
          2013,
          2014,
          2015,
          2016,
          2017,
          2018,
          2019,
          2020
         ],
         "xaxis": "x",
         "y": [
          0.998,
          0.67,
          0.64,
          1.428,
          2.507,
          3.286,
          4.236,
          5.171,
          5.517,
          6.248
         ],
         "yaxis": "y"
        },
        {
         "hovertemplate": "color=South Korea<br>x=%{x}<br>y=%{y}<extra></extra>",
         "legendgroup": "South Korea",
         "marker": {
          "color": "#FECB52",
          "symbol": "circle"
         },
         "mode": "markers",
         "name": "South Korea",
         "showlegend": true,
         "type": "scattergl",
         "x": [
          2011,
          2012,
          2013,
          2014,
          2015,
          2016,
          2017,
          2018,
          2019,
          2020
         ],
         "xaxis": "x",
         "y": [
          1.679,
          1.581,
          1.928,
          1.939,
          2.327,
          3.318,
          3.931,
          4.635,
          5.711,
          5.66
         ],
         "yaxis": "y"
        },
        {
         "hovertemplate": "color=South Sudan<br>x=%{x}<br>y=%{y}<extra></extra>",
         "legendgroup": "South Sudan",
         "marker": {
          "color": "#636efa",
          "symbol": "circle"
         },
         "mode": "markers",
         "name": "South Sudan",
         "showlegend": true,
         "type": "scattergl",
         "x": [
          2011,
          2012,
          2013,
          2014,
          2015,
          2016,
          2017,
          2018,
          2019
         ],
         "xaxis": "x",
         "y": [
          null,
          0.478,
          0.451,
          0.436,
          0.368,
          0.476,
          0.589,
          0.547,
          0.546
         ],
         "yaxis": "y"
        },
        {
         "hovertemplate": "color=Spain<br>x=%{x}<br>y=%{y}<extra></extra>",
         "legendgroup": "Spain",
         "marker": {
          "color": "#EF553B",
          "symbol": "circle"
         },
         "mode": "markers",
         "name": "Spain",
         "showlegend": true,
         "type": "scattergl",
         "x": [
          2011,
          2012,
          2013,
          2014,
          2015,
          2016,
          2017,
          2018,
          2019,
          2020
         ],
         "xaxis": "x",
         "y": [
          30.039,
          29.602,
          39.584,
          40.105,
          34.991,
          38.582,
          32.22,
          38.209,
          36.943,
          43.462
         ],
         "yaxis": "y"
        },
        {
         "hovertemplate": "color=Sri Lanka<br>x=%{x}<br>y=%{y}<extra></extra>",
         "legendgroup": "Sri Lanka",
         "marker": {
          "color": "#00cc96",
          "symbol": "circle"
         },
         "mode": "markers",
         "name": "Sri Lanka",
         "showlegend": true,
         "type": "scattergl",
         "x": [
          2011,
          2012,
          2013,
          2014,
          2015,
          2016,
          2017,
          2018,
          2019
         ],
         "xaxis": "x",
         "y": [
          42.103,
          30.318,
          61.125,
          40.448,
          49.786,
          33.803,
          30.945,
          46.252,
          46.219
         ],
         "yaxis": "y"
        },
        {
         "hovertemplate": "color=Sudan<br>x=%{x}<br>y=%{y}<extra></extra>",
         "legendgroup": "Sudan",
         "marker": {
          "color": "#ab63fa",
          "symbol": "circle"
         },
         "mode": "markers",
         "name": "Sudan",
         "showlegend": true,
         "type": "scattergl",
         "x": [
          2011,
          2012,
          2013,
          2014,
          2015,
          2016,
          2017,
          2018,
          2019
         ],
         "xaxis": "x",
         "y": [
          77.742,
          71.619,
          81.911,
          79.454,
          66.045,
          57.463,
          61.725,
          60.994,
          59.715
         ],
         "yaxis": "y"
        },
        {
         "hovertemplate": "color=Suriname<br>x=%{x}<br>y=%{y}<extra></extra>",
         "legendgroup": "Suriname",
         "marker": {
          "color": "#FFA15A",
          "symbol": "circle"
         },
         "mode": "markers",
         "name": "Suriname",
         "showlegend": true,
         "type": "scattergl",
         "x": [
          2011,
          2012,
          2013,
          2014,
          2015,
          2016,
          2017,
          2018,
          2019
         ],
         "xaxis": "x",
         "y": [
          54.654,
          43.508,
          43.273,
          29.167,
          24.85,
          41.431,
          49.717,
          53.276,
          63.106
         ],
         "yaxis": "y"
        },
        {
         "hovertemplate": "color=Sweden<br>x=%{x}<br>y=%{y}<extra></extra>",
         "legendgroup": "Sweden",
         "marker": {
          "color": "#19d3f3",
          "symbol": "circle"
         },
         "mode": "markers",
         "name": "Sweden",
         "showlegend": true,
         "type": "scattergl",
         "x": [
          2011,
          2012,
          2013,
          2014,
          2015,
          2016,
          2017,
          2018,
          2019,
          2020
         ],
         "xaxis": "x",
         "y": [
          55.953,
          59.068,
          54.033,
          55.838,
          63.275,
          57.173,
          57.883,
          55.799,
          58.48,
          67.622
         ],
         "yaxis": "y"
        },
        {
         "hovertemplate": "color=Switzerland<br>x=%{x}<br>y=%{y}<extra></extra>",
         "legendgroup": "Switzerland",
         "marker": {
          "color": "#FF6692",
          "symbol": "circle"
         },
         "mode": "markers",
         "name": "Switzerland",
         "showlegend": true,
         "type": "scattergl",
         "x": [
          2011,
          2012,
          2013,
          2014,
          2015,
          2016,
          2017,
          2018,
          2019,
          2020
         ],
         "xaxis": "x",
         "y": [
          56.662,
          61.993,
          61.849,
          60.669,
          64.794,
          64.68,
          65.573,
          61.314,
          62.41,
          65.132
         ],
         "yaxis": "y"
        },
        {
         "hovertemplate": "color=Syria<br>x=%{x}<br>y=%{y}<extra></extra>",
         "legendgroup": "Syria",
         "marker": {
          "color": "#B6E880",
          "symbol": "circle"
         },
         "mode": "markers",
         "name": "Syria",
         "showlegend": true,
         "type": "scattergl",
         "x": [
          2011,
          2012,
          2013,
          2014,
          2015,
          2016,
          2017,
          2018,
          2019
         ],
         "xaxis": "x",
         "y": [
          8.302,
          9.762,
          12.61,
          11.692,
          2.607,
          5.544,
          4.483,
          4.535,
          5.166
         ],
         "yaxis": "y"
        },
        {
         "hovertemplate": "color=Taiwan<br>x=%{x}<br>y=%{y}<extra></extra>",
         "legendgroup": "Taiwan",
         "marker": {
          "color": "#FF97FF",
          "symbol": "circle"
         },
         "mode": "markers",
         "name": "Taiwan",
         "showlegend": true,
         "type": "scattergl",
         "x": [
          2011,
          2012,
          2013,
          2014,
          2015,
          2016,
          2017,
          2018,
          2019,
          2020
         ],
         "xaxis": "x",
         "y": [
          3.884,
          4.58,
          4.593,
          4.123,
          4.405,
          5.17,
          4.914,
          4.92,
          5.989,
          5.754
         ],
         "yaxis": "y"
        },
        {
         "hovertemplate": "color=Tajikistan<br>x=%{x}<br>y=%{y}<extra></extra>",
         "legendgroup": "Tajikistan",
         "marker": {
          "color": "#FECB52",
          "symbol": "circle"
         },
         "mode": "markers",
         "name": "Tajikistan",
         "showlegend": true,
         "type": "scattergl",
         "x": [
          2011,
          2012,
          2013,
          2014,
          2015,
          2016,
          2017,
          2018,
          2019,
          2020
         ],
         "xaxis": "x",
         "y": [
          99.778,
          99.586,
          99.756,
          99.059,
          99.103,
          96.688,
          94.844,
          93.494,
          93.054,
          92.884
         ],
         "yaxis": "y"
        },
        {
         "hovertemplate": "color=Tanzania<br>x=%{x}<br>y=%{y}<extra></extra>",
         "legendgroup": "Tanzania",
         "marker": {
          "color": "#636efa",
          "symbol": "circle"
         },
         "mode": "markers",
         "name": "Tanzania",
         "showlegend": true,
         "type": "scattergl",
         "x": [
          2011,
          2012,
          2013,
          2014,
          2015,
          2016,
          2017,
          2018,
          2019
         ],
         "xaxis": "x",
         "y": [
          41.329,
          33.578,
          31.173,
          43.928,
          33.447,
          35.384,
          35.136,
          34.285,
          34.315
         ],
         "yaxis": "y"
        },
        {
         "hovertemplate": "color=Thailand<br>x=%{x}<br>y=%{y}<extra></extra>",
         "legendgroup": "Thailand",
         "marker": {
          "color": "#EF553B",
          "symbol": "circle"
         },
         "mode": "markers",
         "name": "Thailand",
         "showlegend": true,
         "type": "scattergl",
         "x": [
          2011,
          2012,
          2013,
          2014,
          2015,
          2016,
          2017,
          2018,
          2019,
          2020
         ],
         "xaxis": "x",
         "y": [
          8.468,
          8.709,
          8.575,
          8.814,
          8.321,
          14.215,
          14.94,
          17.33,
          18.466,
          17.997
         ],
         "yaxis": "y"
        },
        {
         "hovertemplate": "color=Timor<br>x=%{x}<br>y=%{y}<extra></extra>",
         "legendgroup": "Timor",
         "marker": {
          "color": "#00cc96",
          "symbol": "circle"
         },
         "mode": "markers",
         "name": "Timor",
         "showlegend": true,
         "type": "scattergl",
         "x": [
          2011,
          2012,
          2013,
          2014,
          2015,
          2016
         ],
         "xaxis": "x",
         "y": [
          null,
          null,
          null,
          null,
          null,
          null
         ],
         "yaxis": "y"
        },
        {
         "hovertemplate": "color=Togo<br>x=%{x}<br>y=%{y}<extra></extra>",
         "legendgroup": "Togo",
         "marker": {
          "color": "#ab63fa",
          "symbol": "circle"
         },
         "mode": "markers",
         "name": "Togo",
         "showlegend": true,
         "type": "scattergl",
         "x": [
          2011,
          2012,
          2013,
          2014,
          2015,
          2016,
          2017,
          2018,
          2019
         ],
         "xaxis": "x",
         "y": [
          87.376,
          85.43,
          41.615,
          59.155,
          15.879,
          47.638,
          15.802,
          1.873,
          0.781
         ],
         "yaxis": "y"
        },
        {
         "hovertemplate": "color=Tonga<br>x=%{x}<br>y=%{y}<extra></extra>",
         "legendgroup": "Tonga",
         "marker": {
          "color": "#FFA15A",
          "symbol": "circle"
         },
         "mode": "markers",
         "name": "Tonga",
         "showlegend": true,
         "type": "scattergl",
         "x": [
          2011,
          2012,
          2013,
          2014,
          2015,
          2016,
          2017,
          2018,
          2019
         ],
         "xaxis": "x",
         "y": [
          0,
          0,
          0,
          0,
          0,
          0,
          0,
          0,
          0
         ],
         "yaxis": "y"
        },
        {
         "hovertemplate": "color=Trinidad and Tobago<br>x=%{x}<br>y=%{y}<extra></extra>",
         "legendgroup": "Trinidad and Tobago",
         "marker": {
          "color": "#19d3f3",
          "symbol": "circle"
         },
         "mode": "markers",
         "name": "Trinidad and Tobago",
         "showlegend": true,
         "type": "scattergl",
         "x": [
          2011,
          2012,
          2013,
          2014,
          2015,
          2016,
          2017,
          2018,
          2019
         ],
         "xaxis": "x",
         "y": [
          0.049,
          0.047,
          0.045,
          0.043,
          0.052,
          0.053,
          0.054,
          0.058,
          0.06
         ],
         "yaxis": "y"
        },
        {
         "hovertemplate": "color=Tunisia<br>x=%{x}<br>y=%{y}<extra></extra>",
         "legendgroup": "Tunisia",
         "marker": {
          "color": "#FF6692",
          "symbol": "circle"
         },
         "mode": "markers",
         "name": "Tunisia",
         "showlegend": true,
         "type": "scattergl",
         "x": [
          2011,
          2012,
          2013,
          2014,
          2015,
          2016,
          2017,
          2018,
          2019,
          2020
         ],
         "xaxis": "x",
         "y": [
          1.082,
          1.846,
          2.536,
          3.352,
          3.177,
          3.396,
          3.124,
          3.298,
          3.699,
          3.802
         ],
         "yaxis": "y"
        },
        {
         "hovertemplate": "color=Turkey<br>x=%{x}<br>y=%{y}<extra></extra>",
         "legendgroup": "Turkey",
         "marker": {
          "color": "#B6E880",
          "symbol": "circle"
         },
         "mode": "markers",
         "name": "Turkey",
         "showlegend": true,
         "type": "scattergl",
         "x": [
          2011,
          2012,
          2013,
          2014,
          2015,
          2016,
          2017,
          2018,
          2019,
          2020
         ],
         "xaxis": "x",
         "y": [
          26.134,
          28.105,
          29.799,
          21.657,
          33.017,
          34.153,
          30.546,
          33.297,
          44.83,
          43.112
         ],
         "yaxis": "y"
        },
        {
         "hovertemplate": "color=Turkmenistan<br>x=%{x}<br>y=%{y}<extra></extra>",
         "legendgroup": "Turkmenistan",
         "marker": {
          "color": "#FF97FF",
          "symbol": "circle"
         },
         "mode": "markers",
         "name": "Turkmenistan",
         "showlegend": true,
         "type": "scattergl",
         "x": [
          2011,
          2012,
          2013,
          2014,
          2015,
          2016,
          2017,
          2018,
          2019
         ],
         "xaxis": "x",
         "y": [
          0.019,
          0.018,
          0.017,
          0.016,
          0.014,
          0.014,
          0.014,
          0.014,
          0.001
         ],
         "yaxis": "y"
        },
        {
         "hovertemplate": "color=Turks and Caicos Islands<br>x=%{x}<br>y=%{y}<extra></extra>",
         "legendgroup": "Turks and Caicos Islands",
         "marker": {
          "color": "#FECB52",
          "symbol": "circle"
         },
         "mode": "markers",
         "name": "Turks and Caicos Islands",
         "showlegend": true,
         "type": "scattergl",
         "x": [
          2011,
          2012,
          2013,
          2014,
          2015,
          2016,
          2017,
          2018,
          2019
         ],
         "xaxis": "x",
         "y": [
          0,
          0,
          0,
          0,
          0,
          0,
          0,
          0,
          0
         ],
         "yaxis": "y"
        },
        {
         "hovertemplate": "color=Uganda<br>x=%{x}<br>y=%{y}<extra></extra>",
         "legendgroup": "Uganda",
         "marker": {
          "color": "#636efa",
          "symbol": "circle"
         },
         "mode": "markers",
         "name": "Uganda",
         "showlegend": true,
         "type": "scattergl",
         "x": [
          2011,
          2012,
          2013,
          2014,
          2015,
          2016,
          2017,
          2018,
          2019
         ],
         "xaxis": "x",
         "y": [
          64.693,
          83.855,
          95.852,
          91.336,
          92.723,
          94.33,
          93.889,
          93.836,
          94.06
         ],
         "yaxis": "y"
        },
        {
         "hovertemplate": "color=Ukraine<br>x=%{x}<br>y=%{y}<extra></extra>",
         "legendgroup": "Ukraine",
         "marker": {
          "color": "#EF553B",
          "symbol": "circle"
         },
         "mode": "markers",
         "name": "Ukraine",
         "showlegend": true,
         "type": "scattergl",
         "x": [
          2011,
          2012,
          2013,
          2014,
          2015,
          2016,
          2017,
          2018,
          2019,
          2020
         ],
         "xaxis": "x",
         "y": [
          6.032,
          5.944,
          8.199,
          5.875,
          4.626,
          5.975,
          7.406,
          8.599,
          7.303,
          9.982
         ],
         "yaxis": "y"
        },
        {
         "hovertemplate": "color=United Arab Emirates<br>x=%{x}<br>y=%{y}<extra></extra>",
         "legendgroup": "United Arab Emirates",
         "marker": {
          "color": "#00cc96",
          "symbol": "circle"
         },
         "mode": "markers",
         "name": "United Arab Emirates",
         "showlegend": true,
         "type": "scattergl",
         "x": [
          2011,
          2012,
          2013,
          2014,
          2015,
          2016,
          2017,
          2018,
          2019
         ],
         "xaxis": "x",
         "y": [
          0.036,
          0.035,
          0.098,
          0.282,
          0.254,
          0.259,
          0.586,
          1.024,
          3.212
         ],
         "yaxis": "y"
        },
        {
         "hovertemplate": "color=United Kingdom<br>x=%{x}<br>y=%{y}<extra></extra>",
         "legendgroup": "United Kingdom",
         "marker": {
          "color": "#ab63fa",
          "symbol": "circle"
         },
         "mode": "markers",
         "name": "United Kingdom",
         "showlegend": true,
         "type": "scattergl",
         "x": [
          2011,
          2012,
          2013,
          2014,
          2015,
          2016,
          2017,
          2018,
          2019,
          2020
         ],
         "xaxis": "x",
         "y": [
          9.645,
          11.429,
          14.974,
          19.248,
          24.624,
          24.374,
          29.12,
          32.942,
          36.722,
          42.296
         ],
         "yaxis": "y"
        },
        {
         "hovertemplate": "color=United States<br>x=%{x}<br>y=%{y}<extra></extra>",
         "legendgroup": "United States",
         "marker": {
          "color": "#FFA15A",
          "symbol": "circle"
         },
         "mode": "markers",
         "name": "United States",
         "showlegend": true,
         "type": "scattergl",
         "x": [
          2011,
          2012,
          2013,
          2014,
          2015,
          2016,
          2017,
          2018,
          2019,
          2020
         ],
         "xaxis": "x",
         "y": [
          12.363,
          12.096,
          12.725,
          13.244,
          13.522,
          15.177,
          17.35,
          17.377,
          18.199,
          20.444
         ],
         "yaxis": "y"
        },
        {
         "hovertemplate": "color=United States Virgin Islands<br>x=%{x}<br>y=%{y}<extra></extra>",
         "legendgroup": "United States Virgin Islands",
         "marker": {
          "color": "#19d3f3",
          "symbol": "circle"
         },
         "mode": "markers",
         "name": "United States Virgin Islands",
         "showlegend": true,
         "type": "scattergl",
         "x": [
          2011,
          2012,
          2013,
          2014,
          2015,
          2016,
          2017,
          2018,
          2019
         ],
         "xaxis": "x",
         "y": [
          0.087,
          0.114,
          0.172,
          1.025,
          1.917,
          1.939,
          1.384,
          1.2,
          1.258
         ],
         "yaxis": "y"
        },
        {
         "hovertemplate": "color=Uruguay<br>x=%{x}<br>y=%{y}<extra></extra>",
         "legendgroup": "Uruguay",
         "marker": {
          "color": "#FF6692",
          "symbol": "circle"
         },
         "mode": "markers",
         "name": "Uruguay",
         "showlegend": true,
         "type": "scattergl",
         "x": [
          2011,
          2012,
          2013,
          2014,
          2015,
          2016,
          2017,
          2018,
          2019,
          2020
         ],
         "xaxis": "x",
         "y": [
          73.794,
          64.079,
          84.807,
          94.985,
          93.497,
          96.978,
          98.504,
          97.646,
          98.301,
          94.06
         ],
         "yaxis": "y"
        },
        {
         "hovertemplate": "color=Uzbekistan<br>x=%{x}<br>y=%{y}<extra></extra>",
         "legendgroup": "Uzbekistan",
         "marker": {
          "color": "#B6E880",
          "symbol": "circle"
         },
         "mode": "markers",
         "name": "Uzbekistan",
         "showlegend": true,
         "type": "scattergl",
         "x": [
          2011,
          2012,
          2013,
          2014,
          2015,
          2016,
          2017,
          2018,
          2019
         ],
         "xaxis": "x",
         "y": [
          11.31,
          13.133,
          10.942,
          11.411,
          12.832,
          12.961,
          14.379,
          9.836,
          8.941
         ],
         "yaxis": "y"
        },
        {
         "hovertemplate": "color=Vanuatu<br>x=%{x}<br>y=%{y}<extra></extra>",
         "legendgroup": "Vanuatu",
         "marker": {
          "color": "#FF97FF",
          "symbol": "circle"
         },
         "mode": "markers",
         "name": "Vanuatu",
         "showlegend": true,
         "type": "scattergl",
         "x": [
          2011,
          2012,
          2013,
          2014,
          2015,
          2016,
          2017,
          2018,
          2019
         ],
         "xaxis": "x",
         "y": [
          8.629,
          13.183,
          14.696,
          16.445,
          21.355,
          16.083,
          14.533,
          14.403,
          13.565
         ],
         "yaxis": "y"
        },
        {
         "hovertemplate": "color=Venezuela<br>x=%{x}<br>y=%{y}<extra></extra>",
         "legendgroup": "Venezuela",
         "marker": {
          "color": "#FECB52",
          "symbol": "circle"
         },
         "mode": "markers",
         "name": "Venezuela",
         "showlegend": true,
         "type": "scattergl",
         "x": [
          2011,
          2012,
          2013,
          2014,
          2015,
          2016,
          2017,
          2018,
          2019
         ],
         "xaxis": "x",
         "y": [
          71.988,
          68.549,
          68.974,
          63.509,
          62.282,
          59.632,
          59.633,
          59.634,
          58.455
         ],
         "yaxis": "y"
        },
        {
         "hovertemplate": "color=Vietnam<br>x=%{x}<br>y=%{y}<extra></extra>",
         "legendgroup": "Vietnam",
         "marker": {
          "color": "#636efa",
          "symbol": "circle"
         },
         "mode": "markers",
         "name": "Vietnam",
         "showlegend": true,
         "type": "scattergl",
         "x": [
          2011,
          2012,
          2013,
          2014,
          2015,
          2016,
          2017,
          2018,
          2019,
          2020
         ],
         "xaxis": "x",
         "y": [
          40.709,
          46.309,
          44.488,
          44.634,
          36.329,
          37.441,
          46.282,
          36.376,
          28.595,
          30.986
         ],
         "yaxis": "y"
        },
        {
         "hovertemplate": "color=Western Sahara<br>x=%{x}<br>y=%{y}<extra></extra>",
         "legendgroup": "Western Sahara",
         "marker": {
          "color": "#EF553B",
          "symbol": "circle"
         },
         "mode": "markers",
         "name": "Western Sahara",
         "showlegend": true,
         "type": "scattergl",
         "x": [
          2011,
          2012,
          2013,
          2014,
          2015,
          2016,
          2017,
          2018,
          2019
         ],
         "xaxis": "x",
         "y": [
          null,
          null,
          null,
          null,
          null,
          null,
          null,
          null,
          null
         ],
         "yaxis": "y"
        },
        {
         "hovertemplate": "color=Yemen<br>x=%{x}<br>y=%{y}<extra></extra>",
         "legendgroup": "Yemen",
         "marker": {
          "color": "#00cc96",
          "symbol": "circle"
         },
         "mode": "markers",
         "name": "Yemen",
         "showlegend": true,
         "type": "scattergl",
         "x": [
          2011,
          2012,
          2013,
          2014,
          2015,
          2016,
          2017,
          2018,
          2019
         ],
         "xaxis": "x",
         "y": [
          0.034,
          0.045,
          0.05,
          0.125,
          1.859,
          3.058,
          4.506,
          13.392,
          19.893
         ],
         "yaxis": "y"
        },
        {
         "hovertemplate": "color=Zambia<br>x=%{x}<br>y=%{y}<extra></extra>",
         "legendgroup": "Zambia",
         "marker": {
          "color": "#ab63fa",
          "symbol": "circle"
         },
         "mode": "markers",
         "name": "Zambia",
         "showlegend": true,
         "type": "scattergl",
         "x": [
          2011,
          2012,
          2013,
          2014,
          2015,
          2016,
          2017,
          2018,
          2019
         ],
         "xaxis": "x",
         "y": [
          99.877,
          99.863,
          99.865,
          97.316,
          97.157,
          94.58,
          86.95,
          85.319,
          82.19
         ],
         "yaxis": "y"
        },
        {
         "hovertemplate": "color=Zimbabwe<br>x=%{x}<br>y=%{y}<extra></extra>",
         "legendgroup": "Zimbabwe",
         "marker": {
          "color": "#FFA15A",
          "symbol": "circle"
         },
         "mode": "markers",
         "name": "Zimbabwe",
         "showlegend": true,
         "type": "scattergl",
         "x": [
          2011,
          2012,
          2013,
          2014,
          2015,
          2016,
          2017,
          2018,
          2019
         ],
         "xaxis": "x",
         "y": [
          59.141,
          61.661,
          55.263,
          56.927,
          54.07,
          45.577,
          55.968,
          56.947,
          57.933
         ],
         "yaxis": "y"
        }
       ],
       "layout": {
        "legend": {
         "title": {
          "text": "color"
         },
         "tracegroupgap": 0
        },
        "margin": {
         "t": 60
        },
        "template": {
         "data": {
          "bar": [
           {
            "error_x": {
             "color": "#2a3f5f"
            },
            "error_y": {
             "color": "#2a3f5f"
            },
            "marker": {
             "line": {
              "color": "#E5ECF6",
              "width": 0.5
             },
             "pattern": {
              "fillmode": "overlay",
              "size": 10,
              "solidity": 0.2
             }
            },
            "type": "bar"
           }
          ],
          "barpolar": [
           {
            "marker": {
             "line": {
              "color": "#E5ECF6",
              "width": 0.5
             },
             "pattern": {
              "fillmode": "overlay",
              "size": 10,
              "solidity": 0.2
             }
            },
            "type": "barpolar"
           }
          ],
          "carpet": [
           {
            "aaxis": {
             "endlinecolor": "#2a3f5f",
             "gridcolor": "white",
             "linecolor": "white",
             "minorgridcolor": "white",
             "startlinecolor": "#2a3f5f"
            },
            "baxis": {
             "endlinecolor": "#2a3f5f",
             "gridcolor": "white",
             "linecolor": "white",
             "minorgridcolor": "white",
             "startlinecolor": "#2a3f5f"
            },
            "type": "carpet"
           }
          ],
          "choropleth": [
           {
            "colorbar": {
             "outlinewidth": 0,
             "ticks": ""
            },
            "type": "choropleth"
           }
          ],
          "contour": [
           {
            "colorbar": {
             "outlinewidth": 0,
             "ticks": ""
            },
            "colorscale": [
             [
              0,
              "#0d0887"
             ],
             [
              0.1111111111111111,
              "#46039f"
             ],
             [
              0.2222222222222222,
              "#7201a8"
             ],
             [
              0.3333333333333333,
              "#9c179e"
             ],
             [
              0.4444444444444444,
              "#bd3786"
             ],
             [
              0.5555555555555556,
              "#d8576b"
             ],
             [
              0.6666666666666666,
              "#ed7953"
             ],
             [
              0.7777777777777778,
              "#fb9f3a"
             ],
             [
              0.8888888888888888,
              "#fdca26"
             ],
             [
              1,
              "#f0f921"
             ]
            ],
            "type": "contour"
           }
          ],
          "contourcarpet": [
           {
            "colorbar": {
             "outlinewidth": 0,
             "ticks": ""
            },
            "type": "contourcarpet"
           }
          ],
          "heatmap": [
           {
            "colorbar": {
             "outlinewidth": 0,
             "ticks": ""
            },
            "colorscale": [
             [
              0,
              "#0d0887"
             ],
             [
              0.1111111111111111,
              "#46039f"
             ],
             [
              0.2222222222222222,
              "#7201a8"
             ],
             [
              0.3333333333333333,
              "#9c179e"
             ],
             [
              0.4444444444444444,
              "#bd3786"
             ],
             [
              0.5555555555555556,
              "#d8576b"
             ],
             [
              0.6666666666666666,
              "#ed7953"
             ],
             [
              0.7777777777777778,
              "#fb9f3a"
             ],
             [
              0.8888888888888888,
              "#fdca26"
             ],
             [
              1,
              "#f0f921"
             ]
            ],
            "type": "heatmap"
           }
          ],
          "heatmapgl": [
           {
            "colorbar": {
             "outlinewidth": 0,
             "ticks": ""
            },
            "colorscale": [
             [
              0,
              "#0d0887"
             ],
             [
              0.1111111111111111,
              "#46039f"
             ],
             [
              0.2222222222222222,
              "#7201a8"
             ],
             [
              0.3333333333333333,
              "#9c179e"
             ],
             [
              0.4444444444444444,
              "#bd3786"
             ],
             [
              0.5555555555555556,
              "#d8576b"
             ],
             [
              0.6666666666666666,
              "#ed7953"
             ],
             [
              0.7777777777777778,
              "#fb9f3a"
             ],
             [
              0.8888888888888888,
              "#fdca26"
             ],
             [
              1,
              "#f0f921"
             ]
            ],
            "type": "heatmapgl"
           }
          ],
          "histogram": [
           {
            "marker": {
             "pattern": {
              "fillmode": "overlay",
              "size": 10,
              "solidity": 0.2
             }
            },
            "type": "histogram"
           }
          ],
          "histogram2d": [
           {
            "colorbar": {
             "outlinewidth": 0,
             "ticks": ""
            },
            "colorscale": [
             [
              0,
              "#0d0887"
             ],
             [
              0.1111111111111111,
              "#46039f"
             ],
             [
              0.2222222222222222,
              "#7201a8"
             ],
             [
              0.3333333333333333,
              "#9c179e"
             ],
             [
              0.4444444444444444,
              "#bd3786"
             ],
             [
              0.5555555555555556,
              "#d8576b"
             ],
             [
              0.6666666666666666,
              "#ed7953"
             ],
             [
              0.7777777777777778,
              "#fb9f3a"
             ],
             [
              0.8888888888888888,
              "#fdca26"
             ],
             [
              1,
              "#f0f921"
             ]
            ],
            "type": "histogram2d"
           }
          ],
          "histogram2dcontour": [
           {
            "colorbar": {
             "outlinewidth": 0,
             "ticks": ""
            },
            "colorscale": [
             [
              0,
              "#0d0887"
             ],
             [
              0.1111111111111111,
              "#46039f"
             ],
             [
              0.2222222222222222,
              "#7201a8"
             ],
             [
              0.3333333333333333,
              "#9c179e"
             ],
             [
              0.4444444444444444,
              "#bd3786"
             ],
             [
              0.5555555555555556,
              "#d8576b"
             ],
             [
              0.6666666666666666,
              "#ed7953"
             ],
             [
              0.7777777777777778,
              "#fb9f3a"
             ],
             [
              0.8888888888888888,
              "#fdca26"
             ],
             [
              1,
              "#f0f921"
             ]
            ],
            "type": "histogram2dcontour"
           }
          ],
          "mesh3d": [
           {
            "colorbar": {
             "outlinewidth": 0,
             "ticks": ""
            },
            "type": "mesh3d"
           }
          ],
          "parcoords": [
           {
            "line": {
             "colorbar": {
              "outlinewidth": 0,
              "ticks": ""
             }
            },
            "type": "parcoords"
           }
          ],
          "pie": [
           {
            "automargin": true,
            "type": "pie"
           }
          ],
          "scatter": [
           {
            "fillpattern": {
             "fillmode": "overlay",
             "size": 10,
             "solidity": 0.2
            },
            "type": "scatter"
           }
          ],
          "scatter3d": [
           {
            "line": {
             "colorbar": {
              "outlinewidth": 0,
              "ticks": ""
             }
            },
            "marker": {
             "colorbar": {
              "outlinewidth": 0,
              "ticks": ""
             }
            },
            "type": "scatter3d"
           }
          ],
          "scattercarpet": [
           {
            "marker": {
             "colorbar": {
              "outlinewidth": 0,
              "ticks": ""
             }
            },
            "type": "scattercarpet"
           }
          ],
          "scattergeo": [
           {
            "marker": {
             "colorbar": {
              "outlinewidth": 0,
              "ticks": ""
             }
            },
            "type": "scattergeo"
           }
          ],
          "scattergl": [
           {
            "marker": {
             "colorbar": {
              "outlinewidth": 0,
              "ticks": ""
             }
            },
            "type": "scattergl"
           }
          ],
          "scattermapbox": [
           {
            "marker": {
             "colorbar": {
              "outlinewidth": 0,
              "ticks": ""
             }
            },
            "type": "scattermapbox"
           }
          ],
          "scatterpolar": [
           {
            "marker": {
             "colorbar": {
              "outlinewidth": 0,
              "ticks": ""
             }
            },
            "type": "scatterpolar"
           }
          ],
          "scatterpolargl": [
           {
            "marker": {
             "colorbar": {
              "outlinewidth": 0,
              "ticks": ""
             }
            },
            "type": "scatterpolargl"
           }
          ],
          "scatterternary": [
           {
            "marker": {
             "colorbar": {
              "outlinewidth": 0,
              "ticks": ""
             }
            },
            "type": "scatterternary"
           }
          ],
          "surface": [
           {
            "colorbar": {
             "outlinewidth": 0,
             "ticks": ""
            },
            "colorscale": [
             [
              0,
              "#0d0887"
             ],
             [
              0.1111111111111111,
              "#46039f"
             ],
             [
              0.2222222222222222,
              "#7201a8"
             ],
             [
              0.3333333333333333,
              "#9c179e"
             ],
             [
              0.4444444444444444,
              "#bd3786"
             ],
             [
              0.5555555555555556,
              "#d8576b"
             ],
             [
              0.6666666666666666,
              "#ed7953"
             ],
             [
              0.7777777777777778,
              "#fb9f3a"
             ],
             [
              0.8888888888888888,
              "#fdca26"
             ],
             [
              1,
              "#f0f921"
             ]
            ],
            "type": "surface"
           }
          ],
          "table": [
           {
            "cells": {
             "fill": {
              "color": "#EBF0F8"
             },
             "line": {
              "color": "white"
             }
            },
            "header": {
             "fill": {
              "color": "#C8D4E3"
             },
             "line": {
              "color": "white"
             }
            },
            "type": "table"
           }
          ]
         },
         "layout": {
          "annotationdefaults": {
           "arrowcolor": "#2a3f5f",
           "arrowhead": 0,
           "arrowwidth": 1
          },
          "autotypenumbers": "strict",
          "coloraxis": {
           "colorbar": {
            "outlinewidth": 0,
            "ticks": ""
           }
          },
          "colorscale": {
           "diverging": [
            [
             0,
             "#8e0152"
            ],
            [
             0.1,
             "#c51b7d"
            ],
            [
             0.2,
             "#de77ae"
            ],
            [
             0.3,
             "#f1b6da"
            ],
            [
             0.4,
             "#fde0ef"
            ],
            [
             0.5,
             "#f7f7f7"
            ],
            [
             0.6,
             "#e6f5d0"
            ],
            [
             0.7,
             "#b8e186"
            ],
            [
             0.8,
             "#7fbc41"
            ],
            [
             0.9,
             "#4d9221"
            ],
            [
             1,
             "#276419"
            ]
           ],
           "sequential": [
            [
             0,
             "#0d0887"
            ],
            [
             0.1111111111111111,
             "#46039f"
            ],
            [
             0.2222222222222222,
             "#7201a8"
            ],
            [
             0.3333333333333333,
             "#9c179e"
            ],
            [
             0.4444444444444444,
             "#bd3786"
            ],
            [
             0.5555555555555556,
             "#d8576b"
            ],
            [
             0.6666666666666666,
             "#ed7953"
            ],
            [
             0.7777777777777778,
             "#fb9f3a"
            ],
            [
             0.8888888888888888,
             "#fdca26"
            ],
            [
             1,
             "#f0f921"
            ]
           ],
           "sequentialminus": [
            [
             0,
             "#0d0887"
            ],
            [
             0.1111111111111111,
             "#46039f"
            ],
            [
             0.2222222222222222,
             "#7201a8"
            ],
            [
             0.3333333333333333,
             "#9c179e"
            ],
            [
             0.4444444444444444,
             "#bd3786"
            ],
            [
             0.5555555555555556,
             "#d8576b"
            ],
            [
             0.6666666666666666,
             "#ed7953"
            ],
            [
             0.7777777777777778,
             "#fb9f3a"
            ],
            [
             0.8888888888888888,
             "#fdca26"
            ],
            [
             1,
             "#f0f921"
            ]
           ]
          },
          "colorway": [
           "#636efa",
           "#EF553B",
           "#00cc96",
           "#ab63fa",
           "#FFA15A",
           "#19d3f3",
           "#FF6692",
           "#B6E880",
           "#FF97FF",
           "#FECB52"
          ],
          "font": {
           "color": "#2a3f5f"
          },
          "geo": {
           "bgcolor": "white",
           "lakecolor": "white",
           "landcolor": "#E5ECF6",
           "showlakes": true,
           "showland": true,
           "subunitcolor": "white"
          },
          "hoverlabel": {
           "align": "left"
          },
          "hovermode": "closest",
          "mapbox": {
           "style": "light"
          },
          "paper_bgcolor": "white",
          "plot_bgcolor": "#E5ECF6",
          "polar": {
           "angularaxis": {
            "gridcolor": "white",
            "linecolor": "white",
            "ticks": ""
           },
           "bgcolor": "#E5ECF6",
           "radialaxis": {
            "gridcolor": "white",
            "linecolor": "white",
            "ticks": ""
           }
          },
          "scene": {
           "xaxis": {
            "backgroundcolor": "#E5ECF6",
            "gridcolor": "white",
            "gridwidth": 2,
            "linecolor": "white",
            "showbackground": true,
            "ticks": "",
            "zerolinecolor": "white"
           },
           "yaxis": {
            "backgroundcolor": "#E5ECF6",
            "gridcolor": "white",
            "gridwidth": 2,
            "linecolor": "white",
            "showbackground": true,
            "ticks": "",
            "zerolinecolor": "white"
           },
           "zaxis": {
            "backgroundcolor": "#E5ECF6",
            "gridcolor": "white",
            "gridwidth": 2,
            "linecolor": "white",
            "showbackground": true,
            "ticks": "",
            "zerolinecolor": "white"
           }
          },
          "shapedefaults": {
           "line": {
            "color": "#2a3f5f"
           }
          },
          "ternary": {
           "aaxis": {
            "gridcolor": "white",
            "linecolor": "white",
            "ticks": ""
           },
           "baxis": {
            "gridcolor": "white",
            "linecolor": "white",
            "ticks": ""
           },
           "bgcolor": "#E5ECF6",
           "caxis": {
            "gridcolor": "white",
            "linecolor": "white",
            "ticks": ""
           }
          },
          "title": {
           "x": 0.05
          },
          "xaxis": {
           "automargin": true,
           "gridcolor": "white",
           "linecolor": "white",
           "ticks": "",
           "title": {
            "standoff": 15
           },
           "zerolinecolor": "white",
           "zerolinewidth": 2
          },
          "yaxis": {
           "automargin": true,
           "gridcolor": "white",
           "linecolor": "white",
           "ticks": "",
           "title": {
            "standoff": 15
           },
           "zerolinecolor": "white",
           "zerolinewidth": 2
          }
         }
        },
        "xaxis": {
         "anchor": "y",
         "domain": [
          0,
          1
         ],
         "title": {
          "text": "x"
         }
        },
        "yaxis": {
         "anchor": "x",
         "domain": [
          0,
          1
         ],
         "title": {
          "text": "y"
         }
        }
       }
      }
     },
     "metadata": {},
     "output_type": "display_data"
    }
   ],
   "source": [
    "fig = px.scatter(x=wec[\"year\"], y=wec[\"renewables_share_elec\"], color=wec['country'])\n",
    "fig.show()"
   ]
  },
  {
   "cell_type": "code",
   "execution_count": 17,
   "id": "d2f65917",
   "metadata": {},
   "outputs": [],
   "source": [
    "features = [\"country\", \"wind_electricity\", \"year\"]\n",
    "X = suram[features]"
   ]
  },
  {
   "cell_type": "code",
   "execution_count": 20,
   "id": "2a1ddb2f",
   "metadata": {},
   "outputs": [
    {
     "data": {
      "text/html": [
       "<div>\n",
       "<style scoped>\n",
       "    .dataframe tbody tr th:only-of-type {\n",
       "        vertical-align: middle;\n",
       "    }\n",
       "\n",
       "    .dataframe tbody tr th {\n",
       "        vertical-align: top;\n",
       "    }\n",
       "\n",
       "    .dataframe thead th {\n",
       "        text-align: right;\n",
       "    }\n",
       "</style>\n",
       "<table border=\"1\" class=\"dataframe\">\n",
       "  <thead>\n",
       "    <tr style=\"text-align: right;\">\n",
       "      <th></th>\n",
       "      <th>country</th>\n",
       "      <th>wind_electricity</th>\n",
       "      <th>year</th>\n",
       "    </tr>\n",
       "  </thead>\n",
       "  <tbody>\n",
       "    <tr>\n",
       "      <th>672</th>\n",
       "      <td>Argentina</td>\n",
       "      <td>0.822</td>\n",
       "      <td>2012</td>\n",
       "    </tr>\n",
       "    <tr>\n",
       "      <th>673</th>\n",
       "      <td>Argentina</td>\n",
       "      <td>1.007</td>\n",
       "      <td>2013</td>\n",
       "    </tr>\n",
       "    <tr>\n",
       "      <th>674</th>\n",
       "      <td>Argentina</td>\n",
       "      <td>0.619</td>\n",
       "      <td>2014</td>\n",
       "    </tr>\n",
       "    <tr>\n",
       "      <th>675</th>\n",
       "      <td>Argentina</td>\n",
       "      <td>0.593</td>\n",
       "      <td>2015</td>\n",
       "    </tr>\n",
       "    <tr>\n",
       "      <th>676</th>\n",
       "      <td>Argentina</td>\n",
       "      <td>0.548</td>\n",
       "      <td>2016</td>\n",
       "    </tr>\n",
       "    <tr>\n",
       "      <th>677</th>\n",
       "      <td>Argentina</td>\n",
       "      <td>0.612</td>\n",
       "      <td>2017</td>\n",
       "    </tr>\n",
       "    <tr>\n",
       "      <th>678</th>\n",
       "      <td>Argentina</td>\n",
       "      <td>1.413</td>\n",
       "      <td>2018</td>\n",
       "    </tr>\n",
       "    <tr>\n",
       "      <th>679</th>\n",
       "      <td>Argentina</td>\n",
       "      <td>4.997</td>\n",
       "      <td>2019</td>\n",
       "    </tr>\n",
       "    <tr>\n",
       "      <th>680</th>\n",
       "      <td>Argentina</td>\n",
       "      <td>9.420</td>\n",
       "      <td>2020</td>\n",
       "    </tr>\n",
       "    <tr>\n",
       "      <th>1781</th>\n",
       "      <td>Bolivia</td>\n",
       "      <td>0.000</td>\n",
       "      <td>2012</td>\n",
       "    </tr>\n",
       "    <tr>\n",
       "      <th>1782</th>\n",
       "      <td>Bolivia</td>\n",
       "      <td>0.001</td>\n",
       "      <td>2013</td>\n",
       "    </tr>\n",
       "    <tr>\n",
       "      <th>1783</th>\n",
       "      <td>Bolivia</td>\n",
       "      <td>0.008</td>\n",
       "      <td>2014</td>\n",
       "    </tr>\n",
       "    <tr>\n",
       "      <th>1784</th>\n",
       "      <td>Bolivia</td>\n",
       "      <td>0.012</td>\n",
       "      <td>2015</td>\n",
       "    </tr>\n",
       "    <tr>\n",
       "      <th>1785</th>\n",
       "      <td>Bolivia</td>\n",
       "      <td>0.035</td>\n",
       "      <td>2016</td>\n",
       "    </tr>\n",
       "    <tr>\n",
       "      <th>1786</th>\n",
       "      <td>Bolivia</td>\n",
       "      <td>0.060</td>\n",
       "      <td>2017</td>\n",
       "    </tr>\n",
       "    <tr>\n",
       "      <th>1787</th>\n",
       "      <td>Bolivia</td>\n",
       "      <td>0.059</td>\n",
       "      <td>2018</td>\n",
       "    </tr>\n",
       "    <tr>\n",
       "      <th>1788</th>\n",
       "      <td>Bolivia</td>\n",
       "      <td>0.070</td>\n",
       "      <td>2019</td>\n",
       "    </tr>\n",
       "    <tr>\n",
       "      <th>1789</th>\n",
       "      <td>Bolivia</td>\n",
       "      <td>0.064</td>\n",
       "      <td>2020</td>\n",
       "    </tr>\n",
       "    <tr>\n",
       "      <th>2051</th>\n",
       "      <td>Brazil</td>\n",
       "      <td>5.050</td>\n",
       "      <td>2012</td>\n",
       "    </tr>\n",
       "    <tr>\n",
       "      <th>2052</th>\n",
       "      <td>Brazil</td>\n",
       "      <td>6.580</td>\n",
       "      <td>2013</td>\n",
       "    </tr>\n",
       "    <tr>\n",
       "      <th>2053</th>\n",
       "      <td>Brazil</td>\n",
       "      <td>12.210</td>\n",
       "      <td>2014</td>\n",
       "    </tr>\n",
       "    <tr>\n",
       "      <th>2054</th>\n",
       "      <td>Brazil</td>\n",
       "      <td>21.630</td>\n",
       "      <td>2015</td>\n",
       "    </tr>\n",
       "    <tr>\n",
       "      <th>2055</th>\n",
       "      <td>Brazil</td>\n",
       "      <td>33.490</td>\n",
       "      <td>2016</td>\n",
       "    </tr>\n",
       "    <tr>\n",
       "      <th>2056</th>\n",
       "      <td>Brazil</td>\n",
       "      <td>42.370</td>\n",
       "      <td>2017</td>\n",
       "    </tr>\n",
       "    <tr>\n",
       "      <th>2057</th>\n",
       "      <td>Brazil</td>\n",
       "      <td>48.475</td>\n",
       "      <td>2018</td>\n",
       "    </tr>\n",
       "    <tr>\n",
       "      <th>2058</th>\n",
       "      <td>Brazil</td>\n",
       "      <td>55.986</td>\n",
       "      <td>2019</td>\n",
       "    </tr>\n",
       "    <tr>\n",
       "      <th>2059</th>\n",
       "      <td>Brazil</td>\n",
       "      <td>56.678</td>\n",
       "      <td>2020</td>\n",
       "    </tr>\n",
       "    <tr>\n",
       "      <th>3051</th>\n",
       "      <td>Chile</td>\n",
       "      <td>0.409</td>\n",
       "      <td>2012</td>\n",
       "    </tr>\n",
       "    <tr>\n",
       "      <th>3052</th>\n",
       "      <td>Chile</td>\n",
       "      <td>0.553</td>\n",
       "      <td>2013</td>\n",
       "    </tr>\n",
       "    <tr>\n",
       "      <th>3053</th>\n",
       "      <td>Chile</td>\n",
       "      <td>1.441</td>\n",
       "      <td>2014</td>\n",
       "    </tr>\n",
       "    <tr>\n",
       "      <th>3054</th>\n",
       "      <td>Chile</td>\n",
       "      <td>2.112</td>\n",
       "      <td>2015</td>\n",
       "    </tr>\n",
       "    <tr>\n",
       "      <th>3055</th>\n",
       "      <td>Chile</td>\n",
       "      <td>2.446</td>\n",
       "      <td>2016</td>\n",
       "    </tr>\n",
       "    <tr>\n",
       "      <th>3056</th>\n",
       "      <td>Chile</td>\n",
       "      <td>3.516</td>\n",
       "      <td>2017</td>\n",
       "    </tr>\n",
       "    <tr>\n",
       "      <th>3057</th>\n",
       "      <td>Chile</td>\n",
       "      <td>3.583</td>\n",
       "      <td>2018</td>\n",
       "    </tr>\n",
       "    <tr>\n",
       "      <th>3058</th>\n",
       "      <td>Chile</td>\n",
       "      <td>5.086</td>\n",
       "      <td>2019</td>\n",
       "    </tr>\n",
       "    <tr>\n",
       "      <th>3059</th>\n",
       "      <td>Chile</td>\n",
       "      <td>5.803</td>\n",
       "      <td>2020</td>\n",
       "    </tr>\n",
       "    <tr>\n",
       "      <th>3293</th>\n",
       "      <td>Colombia</td>\n",
       "      <td>0.055</td>\n",
       "      <td>2012</td>\n",
       "    </tr>\n",
       "    <tr>\n",
       "      <th>3294</th>\n",
       "      <td>Colombia</td>\n",
       "      <td>0.060</td>\n",
       "      <td>2013</td>\n",
       "    </tr>\n",
       "    <tr>\n",
       "      <th>3295</th>\n",
       "      <td>Colombia</td>\n",
       "      <td>0.070</td>\n",
       "      <td>2014</td>\n",
       "    </tr>\n",
       "    <tr>\n",
       "      <th>3296</th>\n",
       "      <td>Colombia</td>\n",
       "      <td>0.068</td>\n",
       "      <td>2015</td>\n",
       "    </tr>\n",
       "    <tr>\n",
       "      <th>3297</th>\n",
       "      <td>Colombia</td>\n",
       "      <td>0.050</td>\n",
       "      <td>2016</td>\n",
       "    </tr>\n",
       "    <tr>\n",
       "      <th>3298</th>\n",
       "      <td>Colombia</td>\n",
       "      <td>0.003</td>\n",
       "      <td>2017</td>\n",
       "    </tr>\n",
       "    <tr>\n",
       "      <th>3299</th>\n",
       "      <td>Colombia</td>\n",
       "      <td>0.043</td>\n",
       "      <td>2018</td>\n",
       "    </tr>\n",
       "    <tr>\n",
       "      <th>3300</th>\n",
       "      <td>Colombia</td>\n",
       "      <td>0.060</td>\n",
       "      <td>2019</td>\n",
       "    </tr>\n",
       "    <tr>\n",
       "      <th>3301</th>\n",
       "      <td>Colombia</td>\n",
       "      <td>0.007</td>\n",
       "      <td>2020</td>\n",
       "    </tr>\n",
       "    <tr>\n",
       "      <th>4396</th>\n",
       "      <td>Ecuador</td>\n",
       "      <td>0.002</td>\n",
       "      <td>2012</td>\n",
       "    </tr>\n",
       "    <tr>\n",
       "      <th>4397</th>\n",
       "      <td>Ecuador</td>\n",
       "      <td>0.060</td>\n",
       "      <td>2013</td>\n",
       "    </tr>\n",
       "    <tr>\n",
       "      <th>4398</th>\n",
       "      <td>Ecuador</td>\n",
       "      <td>0.080</td>\n",
       "      <td>2014</td>\n",
       "    </tr>\n",
       "    <tr>\n",
       "      <th>4399</th>\n",
       "      <td>Ecuador</td>\n",
       "      <td>0.100</td>\n",
       "      <td>2015</td>\n",
       "    </tr>\n",
       "    <tr>\n",
       "      <th>4400</th>\n",
       "      <td>Ecuador</td>\n",
       "      <td>0.084</td>\n",
       "      <td>2016</td>\n",
       "    </tr>\n",
       "    <tr>\n",
       "      <th>4401</th>\n",
       "      <td>Ecuador</td>\n",
       "      <td>0.073</td>\n",
       "      <td>2017</td>\n",
       "    </tr>\n",
       "    <tr>\n",
       "      <th>4402</th>\n",
       "      <td>Ecuador</td>\n",
       "      <td>0.080</td>\n",
       "      <td>2018</td>\n",
       "    </tr>\n",
       "    <tr>\n",
       "      <th>4403</th>\n",
       "      <td>Ecuador</td>\n",
       "      <td>0.086</td>\n",
       "      <td>2019</td>\n",
       "    </tr>\n",
       "    <tr>\n",
       "      <th>5109</th>\n",
       "      <td>French Guiana</td>\n",
       "      <td>0.000</td>\n",
       "      <td>2012</td>\n",
       "    </tr>\n",
       "    <tr>\n",
       "      <th>5110</th>\n",
       "      <td>French Guiana</td>\n",
       "      <td>0.000</td>\n",
       "      <td>2013</td>\n",
       "    </tr>\n",
       "    <tr>\n",
       "      <th>5111</th>\n",
       "      <td>French Guiana</td>\n",
       "      <td>0.000</td>\n",
       "      <td>2014</td>\n",
       "    </tr>\n",
       "    <tr>\n",
       "      <th>5112</th>\n",
       "      <td>French Guiana</td>\n",
       "      <td>0.000</td>\n",
       "      <td>2015</td>\n",
       "    </tr>\n",
       "    <tr>\n",
       "      <th>5113</th>\n",
       "      <td>French Guiana</td>\n",
       "      <td>0.000</td>\n",
       "      <td>2016</td>\n",
       "    </tr>\n",
       "    <tr>\n",
       "      <th>5114</th>\n",
       "      <td>French Guiana</td>\n",
       "      <td>0.000</td>\n",
       "      <td>2017</td>\n",
       "    </tr>\n",
       "    <tr>\n",
       "      <th>5115</th>\n",
       "      <td>French Guiana</td>\n",
       "      <td>0.000</td>\n",
       "      <td>2018</td>\n",
       "    </tr>\n",
       "    <tr>\n",
       "      <th>5116</th>\n",
       "      <td>French Guiana</td>\n",
       "      <td>0.000</td>\n",
       "      <td>2019</td>\n",
       "    </tr>\n",
       "    <tr>\n",
       "      <th>6219</th>\n",
       "      <td>Guyana</td>\n",
       "      <td>0.000</td>\n",
       "      <td>2012</td>\n",
       "    </tr>\n",
       "    <tr>\n",
       "      <th>6220</th>\n",
       "      <td>Guyana</td>\n",
       "      <td>0.000</td>\n",
       "      <td>2013</td>\n",
       "    </tr>\n",
       "    <tr>\n",
       "      <th>6221</th>\n",
       "      <td>Guyana</td>\n",
       "      <td>0.000</td>\n",
       "      <td>2014</td>\n",
       "    </tr>\n",
       "    <tr>\n",
       "      <th>6222</th>\n",
       "      <td>Guyana</td>\n",
       "      <td>0.000</td>\n",
       "      <td>2015</td>\n",
       "    </tr>\n",
       "    <tr>\n",
       "      <th>6223</th>\n",
       "      <td>Guyana</td>\n",
       "      <td>0.000</td>\n",
       "      <td>2016</td>\n",
       "    </tr>\n",
       "    <tr>\n",
       "      <th>6224</th>\n",
       "      <td>Guyana</td>\n",
       "      <td>0.000</td>\n",
       "      <td>2017</td>\n",
       "    </tr>\n",
       "    <tr>\n",
       "      <th>6225</th>\n",
       "      <td>Guyana</td>\n",
       "      <td>0.000</td>\n",
       "      <td>2018</td>\n",
       "    </tr>\n",
       "    <tr>\n",
       "      <th>6226</th>\n",
       "      <td>Guyana</td>\n",
       "      <td>0.000</td>\n",
       "      <td>2019</td>\n",
       "    </tr>\n",
       "    <tr>\n",
       "      <th>10988</th>\n",
       "      <td>Paraguay</td>\n",
       "      <td>0.000</td>\n",
       "      <td>2012</td>\n",
       "    </tr>\n",
       "    <tr>\n",
       "      <th>10989</th>\n",
       "      <td>Paraguay</td>\n",
       "      <td>0.000</td>\n",
       "      <td>2013</td>\n",
       "    </tr>\n",
       "    <tr>\n",
       "      <th>10990</th>\n",
       "      <td>Paraguay</td>\n",
       "      <td>0.000</td>\n",
       "      <td>2014</td>\n",
       "    </tr>\n",
       "    <tr>\n",
       "      <th>10991</th>\n",
       "      <td>Paraguay</td>\n",
       "      <td>0.000</td>\n",
       "      <td>2015</td>\n",
       "    </tr>\n",
       "    <tr>\n",
       "      <th>10992</th>\n",
       "      <td>Paraguay</td>\n",
       "      <td>0.000</td>\n",
       "      <td>2016</td>\n",
       "    </tr>\n",
       "    <tr>\n",
       "      <th>10993</th>\n",
       "      <td>Paraguay</td>\n",
       "      <td>0.000</td>\n",
       "      <td>2017</td>\n",
       "    </tr>\n",
       "    <tr>\n",
       "      <th>10994</th>\n",
       "      <td>Paraguay</td>\n",
       "      <td>0.000</td>\n",
       "      <td>2018</td>\n",
       "    </tr>\n",
       "    <tr>\n",
       "      <th>10995</th>\n",
       "      <td>Paraguay</td>\n",
       "      <td>0.000</td>\n",
       "      <td>2019</td>\n",
       "    </tr>\n",
       "    <tr>\n",
       "      <th>11108</th>\n",
       "      <td>Peru</td>\n",
       "      <td>0.001</td>\n",
       "      <td>2012</td>\n",
       "    </tr>\n",
       "    <tr>\n",
       "      <th>11109</th>\n",
       "      <td>Peru</td>\n",
       "      <td>0.001</td>\n",
       "      <td>2013</td>\n",
       "    </tr>\n",
       "    <tr>\n",
       "      <th>11110</th>\n",
       "      <td>Peru</td>\n",
       "      <td>0.260</td>\n",
       "      <td>2014</td>\n",
       "    </tr>\n",
       "    <tr>\n",
       "      <th>11111</th>\n",
       "      <td>Peru</td>\n",
       "      <td>0.595</td>\n",
       "      <td>2015</td>\n",
       "    </tr>\n",
       "    <tr>\n",
       "      <th>11112</th>\n",
       "      <td>Peru</td>\n",
       "      <td>1.063</td>\n",
       "      <td>2016</td>\n",
       "    </tr>\n",
       "    <tr>\n",
       "      <th>11113</th>\n",
       "      <td>Peru</td>\n",
       "      <td>1.073</td>\n",
       "      <td>2017</td>\n",
       "    </tr>\n",
       "    <tr>\n",
       "      <th>11114</th>\n",
       "      <td>Peru</td>\n",
       "      <td>1.502</td>\n",
       "      <td>2018</td>\n",
       "    </tr>\n",
       "    <tr>\n",
       "      <th>11115</th>\n",
       "      <td>Peru</td>\n",
       "      <td>1.655</td>\n",
       "      <td>2019</td>\n",
       "    </tr>\n",
       "    <tr>\n",
       "      <th>11116</th>\n",
       "      <td>Peru</td>\n",
       "      <td>1.812</td>\n",
       "      <td>2020</td>\n",
       "    </tr>\n",
       "    <tr>\n",
       "      <th>13220</th>\n",
       "      <td>Suriname</td>\n",
       "      <td>0.000</td>\n",
       "      <td>2012</td>\n",
       "    </tr>\n",
       "    <tr>\n",
       "      <th>13221</th>\n",
       "      <td>Suriname</td>\n",
       "      <td>0.000</td>\n",
       "      <td>2013</td>\n",
       "    </tr>\n",
       "    <tr>\n",
       "      <th>13222</th>\n",
       "      <td>Suriname</td>\n",
       "      <td>0.000</td>\n",
       "      <td>2014</td>\n",
       "    </tr>\n",
       "    <tr>\n",
       "      <th>13223</th>\n",
       "      <td>Suriname</td>\n",
       "      <td>0.000</td>\n",
       "      <td>2015</td>\n",
       "    </tr>\n",
       "    <tr>\n",
       "      <th>13224</th>\n",
       "      <td>Suriname</td>\n",
       "      <td>0.000</td>\n",
       "      <td>2016</td>\n",
       "    </tr>\n",
       "    <tr>\n",
       "      <th>13225</th>\n",
       "      <td>Suriname</td>\n",
       "      <td>0.000</td>\n",
       "      <td>2017</td>\n",
       "    </tr>\n",
       "    <tr>\n",
       "      <th>13226</th>\n",
       "      <td>Suriname</td>\n",
       "      <td>0.000</td>\n",
       "      <td>2018</td>\n",
       "    </tr>\n",
       "    <tr>\n",
       "      <th>13227</th>\n",
       "      <td>Suriname</td>\n",
       "      <td>0.000</td>\n",
       "      <td>2019</td>\n",
       "    </tr>\n",
       "    <tr>\n",
       "      <th>13989</th>\n",
       "      <td>Trinidad and Tobago</td>\n",
       "      <td>0.000</td>\n",
       "      <td>2012</td>\n",
       "    </tr>\n",
       "    <tr>\n",
       "      <th>13990</th>\n",
       "      <td>Trinidad and Tobago</td>\n",
       "      <td>0.000</td>\n",
       "      <td>2013</td>\n",
       "    </tr>\n",
       "    <tr>\n",
       "      <th>13991</th>\n",
       "      <td>Trinidad and Tobago</td>\n",
       "      <td>0.000</td>\n",
       "      <td>2014</td>\n",
       "    </tr>\n",
       "    <tr>\n",
       "      <th>13992</th>\n",
       "      <td>Trinidad and Tobago</td>\n",
       "      <td>0.000</td>\n",
       "      <td>2015</td>\n",
       "    </tr>\n",
       "    <tr>\n",
       "      <th>13993</th>\n",
       "      <td>Trinidad and Tobago</td>\n",
       "      <td>0.000</td>\n",
       "      <td>2016</td>\n",
       "    </tr>\n",
       "    <tr>\n",
       "      <th>13994</th>\n",
       "      <td>Trinidad and Tobago</td>\n",
       "      <td>0.000</td>\n",
       "      <td>2017</td>\n",
       "    </tr>\n",
       "    <tr>\n",
       "      <th>13995</th>\n",
       "      <td>Trinidad and Tobago</td>\n",
       "      <td>0.000</td>\n",
       "      <td>2018</td>\n",
       "    </tr>\n",
       "    <tr>\n",
       "      <th>13996</th>\n",
       "      <td>Trinidad and Tobago</td>\n",
       "      <td>0.000</td>\n",
       "      <td>2019</td>\n",
       "    </tr>\n",
       "    <tr>\n",
       "      <th>14849</th>\n",
       "      <td>Uruguay</td>\n",
       "      <td>0.111</td>\n",
       "      <td>2012</td>\n",
       "    </tr>\n",
       "    <tr>\n",
       "      <th>14850</th>\n",
       "      <td>Uruguay</td>\n",
       "      <td>0.144</td>\n",
       "      <td>2013</td>\n",
       "    </tr>\n",
       "    <tr>\n",
       "      <th>14851</th>\n",
       "      <td>Uruguay</td>\n",
       "      <td>0.733</td>\n",
       "      <td>2014</td>\n",
       "    </tr>\n",
       "    <tr>\n",
       "      <th>14852</th>\n",
       "      <td>Uruguay</td>\n",
       "      <td>2.065</td>\n",
       "      <td>2015</td>\n",
       "    </tr>\n",
       "    <tr>\n",
       "      <th>14853</th>\n",
       "      <td>Uruguay</td>\n",
       "      <td>2.994</td>\n",
       "      <td>2016</td>\n",
       "    </tr>\n",
       "    <tr>\n",
       "      <th>14854</th>\n",
       "      <td>Uruguay</td>\n",
       "      <td>3.774</td>\n",
       "      <td>2017</td>\n",
       "    </tr>\n",
       "    <tr>\n",
       "      <th>14855</th>\n",
       "      <td>Uruguay</td>\n",
       "      <td>4.732</td>\n",
       "      <td>2018</td>\n",
       "    </tr>\n",
       "    <tr>\n",
       "      <th>14856</th>\n",
       "      <td>Uruguay</td>\n",
       "      <td>4.753</td>\n",
       "      <td>2019</td>\n",
       "    </tr>\n",
       "    <tr>\n",
       "      <th>14857</th>\n",
       "      <td>Uruguay</td>\n",
       "      <td>5.435</td>\n",
       "      <td>2020</td>\n",
       "    </tr>\n",
       "    <tr>\n",
       "      <th>15050</th>\n",
       "      <td>Venezuela</td>\n",
       "      <td>0.030</td>\n",
       "      <td>2012</td>\n",
       "    </tr>\n",
       "    <tr>\n",
       "      <th>15051</th>\n",
       "      <td>Venezuela</td>\n",
       "      <td>0.071</td>\n",
       "      <td>2013</td>\n",
       "    </tr>\n",
       "    <tr>\n",
       "      <th>15052</th>\n",
       "      <td>Venezuela</td>\n",
       "      <td>0.071</td>\n",
       "      <td>2014</td>\n",
       "    </tr>\n",
       "    <tr>\n",
       "      <th>15053</th>\n",
       "      <td>Venezuela</td>\n",
       "      <td>0.071</td>\n",
       "      <td>2015</td>\n",
       "    </tr>\n",
       "    <tr>\n",
       "      <th>15054</th>\n",
       "      <td>Venezuela</td>\n",
       "      <td>0.071</td>\n",
       "      <td>2016</td>\n",
       "    </tr>\n",
       "    <tr>\n",
       "      <th>15055</th>\n",
       "      <td>Venezuela</td>\n",
       "      <td>0.071</td>\n",
       "      <td>2017</td>\n",
       "    </tr>\n",
       "    <tr>\n",
       "      <th>15056</th>\n",
       "      <td>Venezuela</td>\n",
       "      <td>0.071</td>\n",
       "      <td>2018</td>\n",
       "    </tr>\n",
       "    <tr>\n",
       "      <th>15057</th>\n",
       "      <td>Venezuela</td>\n",
       "      <td>0.071</td>\n",
       "      <td>2019</td>\n",
       "    </tr>\n",
       "  </tbody>\n",
       "</table>\n",
       "</div>"
      ],
      "text/plain": [
       "                   country  wind_electricity  year\n",
       "672              Argentina             0.822  2012\n",
       "673              Argentina             1.007  2013\n",
       "674              Argentina             0.619  2014\n",
       "675              Argentina             0.593  2015\n",
       "676              Argentina             0.548  2016\n",
       "677              Argentina             0.612  2017\n",
       "678              Argentina             1.413  2018\n",
       "679              Argentina             4.997  2019\n",
       "680              Argentina             9.420  2020\n",
       "1781               Bolivia             0.000  2012\n",
       "1782               Bolivia             0.001  2013\n",
       "1783               Bolivia             0.008  2014\n",
       "1784               Bolivia             0.012  2015\n",
       "1785               Bolivia             0.035  2016\n",
       "1786               Bolivia             0.060  2017\n",
       "1787               Bolivia             0.059  2018\n",
       "1788               Bolivia             0.070  2019\n",
       "1789               Bolivia             0.064  2020\n",
       "2051                Brazil             5.050  2012\n",
       "2052                Brazil             6.580  2013\n",
       "2053                Brazil            12.210  2014\n",
       "2054                Brazil            21.630  2015\n",
       "2055                Brazil            33.490  2016\n",
       "2056                Brazil            42.370  2017\n",
       "2057                Brazil            48.475  2018\n",
       "2058                Brazil            55.986  2019\n",
       "2059                Brazil            56.678  2020\n",
       "3051                 Chile             0.409  2012\n",
       "3052                 Chile             0.553  2013\n",
       "3053                 Chile             1.441  2014\n",
       "3054                 Chile             2.112  2015\n",
       "3055                 Chile             2.446  2016\n",
       "3056                 Chile             3.516  2017\n",
       "3057                 Chile             3.583  2018\n",
       "3058                 Chile             5.086  2019\n",
       "3059                 Chile             5.803  2020\n",
       "3293              Colombia             0.055  2012\n",
       "3294              Colombia             0.060  2013\n",
       "3295              Colombia             0.070  2014\n",
       "3296              Colombia             0.068  2015\n",
       "3297              Colombia             0.050  2016\n",
       "3298              Colombia             0.003  2017\n",
       "3299              Colombia             0.043  2018\n",
       "3300              Colombia             0.060  2019\n",
       "3301              Colombia             0.007  2020\n",
       "4396               Ecuador             0.002  2012\n",
       "4397               Ecuador             0.060  2013\n",
       "4398               Ecuador             0.080  2014\n",
       "4399               Ecuador             0.100  2015\n",
       "4400               Ecuador             0.084  2016\n",
       "4401               Ecuador             0.073  2017\n",
       "4402               Ecuador             0.080  2018\n",
       "4403               Ecuador             0.086  2019\n",
       "5109         French Guiana             0.000  2012\n",
       "5110         French Guiana             0.000  2013\n",
       "5111         French Guiana             0.000  2014\n",
       "5112         French Guiana             0.000  2015\n",
       "5113         French Guiana             0.000  2016\n",
       "5114         French Guiana             0.000  2017\n",
       "5115         French Guiana             0.000  2018\n",
       "5116         French Guiana             0.000  2019\n",
       "6219                Guyana             0.000  2012\n",
       "6220                Guyana             0.000  2013\n",
       "6221                Guyana             0.000  2014\n",
       "6222                Guyana             0.000  2015\n",
       "6223                Guyana             0.000  2016\n",
       "6224                Guyana             0.000  2017\n",
       "6225                Guyana             0.000  2018\n",
       "6226                Guyana             0.000  2019\n",
       "10988             Paraguay             0.000  2012\n",
       "10989             Paraguay             0.000  2013\n",
       "10990             Paraguay             0.000  2014\n",
       "10991             Paraguay             0.000  2015\n",
       "10992             Paraguay             0.000  2016\n",
       "10993             Paraguay             0.000  2017\n",
       "10994             Paraguay             0.000  2018\n",
       "10995             Paraguay             0.000  2019\n",
       "11108                 Peru             0.001  2012\n",
       "11109                 Peru             0.001  2013\n",
       "11110                 Peru             0.260  2014\n",
       "11111                 Peru             0.595  2015\n",
       "11112                 Peru             1.063  2016\n",
       "11113                 Peru             1.073  2017\n",
       "11114                 Peru             1.502  2018\n",
       "11115                 Peru             1.655  2019\n",
       "11116                 Peru             1.812  2020\n",
       "13220             Suriname             0.000  2012\n",
       "13221             Suriname             0.000  2013\n",
       "13222             Suriname             0.000  2014\n",
       "13223             Suriname             0.000  2015\n",
       "13224             Suriname             0.000  2016\n",
       "13225             Suriname             0.000  2017\n",
       "13226             Suriname             0.000  2018\n",
       "13227             Suriname             0.000  2019\n",
       "13989  Trinidad and Tobago             0.000  2012\n",
       "13990  Trinidad and Tobago             0.000  2013\n",
       "13991  Trinidad and Tobago             0.000  2014\n",
       "13992  Trinidad and Tobago             0.000  2015\n",
       "13993  Trinidad and Tobago             0.000  2016\n",
       "13994  Trinidad and Tobago             0.000  2017\n",
       "13995  Trinidad and Tobago             0.000  2018\n",
       "13996  Trinidad and Tobago             0.000  2019\n",
       "14849              Uruguay             0.111  2012\n",
       "14850              Uruguay             0.144  2013\n",
       "14851              Uruguay             0.733  2014\n",
       "14852              Uruguay             2.065  2015\n",
       "14853              Uruguay             2.994  2016\n",
       "14854              Uruguay             3.774  2017\n",
       "14855              Uruguay             4.732  2018\n",
       "14856              Uruguay             4.753  2019\n",
       "14857              Uruguay             5.435  2020\n",
       "15050            Venezuela             0.030  2012\n",
       "15051            Venezuela             0.071  2013\n",
       "15052            Venezuela             0.071  2014\n",
       "15053            Venezuela             0.071  2015\n",
       "15054            Venezuela             0.071  2016\n",
       "15055            Venezuela             0.071  2017\n",
       "15056            Venezuela             0.071  2018\n",
       "15057            Venezuela             0.071  2019"
      ]
     },
     "execution_count": 20,
     "metadata": {},
     "output_type": "execute_result"
    }
   ],
   "source": [
    "X"
   ]
  },
  {
   "cell_type": "code",
   "execution_count": 12,
   "id": "8c41f148",
   "metadata": {},
   "outputs": [
    {
     "data": {
      "application/vnd.plotly.v1+json": {
       "config": {
        "plotlyServerURL": "https://plot.ly"
       },
       "data": [
        {
         "hovertemplate": "color=Argentina<br>x=%{x}<br>y=%{y}<extra></extra>",
         "legendgroup": "Argentina",
         "marker": {
          "color": "#636efa",
          "symbol": "circle"
         },
         "mode": "markers",
         "name": "Argentina",
         "orientation": "v",
         "showlegend": true,
         "type": "scatter",
         "x": [
          1998,
          1999,
          2000,
          2001,
          2002,
          2003,
          2004,
          2005,
          2006,
          2007,
          2008,
          2009,
          2010,
          2011,
          2012,
          2013,
          2014,
          2015,
          2016,
          2017,
          2018,
          2019,
          2020
         ],
         "xaxis": "x",
         "y": [
          7.453,
          7.106,
          5.985,
          6.541,
          5.39,
          7.03,
          7.313,
          6.37,
          7.153,
          6.722,
          6.85,
          7.59,
          6.691,
          5.894,
          5.903,
          5.732,
          5.258,
          6.519,
          7.677,
          5.716,
          6.453,
          7.927,
          10.01
         ],
         "yaxis": "y"
        },
        {
         "hovertemplate": "color=Bolivia<br>x=%{x}<br>y=%{y}<extra></extra>",
         "legendgroup": "Bolivia",
         "marker": {
          "color": "#EF553B",
          "symbol": "circle"
         },
         "mode": "markers",
         "name": "Bolivia",
         "orientation": "v",
         "showlegend": true,
         "type": "scatter",
         "x": [
          1998,
          1999,
          2000,
          2001,
          2002,
          2003,
          2004,
          2005,
          2006,
          2007,
          2008,
          2009,
          2010,
          2011,
          2012,
          2013,
          2014,
          2015,
          2016,
          2017,
          2018,
          2019,
          2020
         ],
         "xaxis": "x",
         "y": [
          0,
          0,
          0,
          0,
          0,
          0,
          0,
          0,
          0,
          0,
          0,
          0,
          0,
          0,
          0,
          0,
          0,
          0,
          0,
          0,
          0,
          0,
          0
         ],
         "yaxis": "y"
        },
        {
         "hovertemplate": "color=Brazil<br>x=%{x}<br>y=%{y}<extra></extra>",
         "legendgroup": "Brazil",
         "marker": {
          "color": "#00cc96",
          "symbol": "circle"
         },
         "mode": "markers",
         "name": "Brazil",
         "orientation": "v",
         "showlegend": true,
         "type": "scatter",
         "x": [
          1998,
          1999,
          2000,
          2001,
          2002,
          2003,
          2004,
          2005,
          2006,
          2007,
          2008,
          2009,
          2010,
          2011,
          2012,
          2013,
          2014,
          2015,
          2016,
          2017,
          2018,
          2019,
          2020
         ],
         "xaxis": "x",
         "y": [
          3.265,
          3.977,
          4.94,
          14.268,
          13.84,
          13.4,
          11.6,
          9.197,
          12.984,
          11.65,
          13.209,
          12.224,
          13.774,
          14.795,
          15.17,
          14.645,
          14.463,
          13.892,
          14.97,
          14.854,
          15.674,
          15.224,
          13.15
         ],
         "yaxis": "y"
        },
        {
         "hovertemplate": "color=Chile<br>x=%{x}<br>y=%{y}<extra></extra>",
         "legendgroup": "Chile",
         "marker": {
          "color": "#ab63fa",
          "symbol": "circle"
         },
         "mode": "markers",
         "name": "Chile",
         "orientation": "v",
         "showlegend": true,
         "type": "scatter",
         "x": [
          1998,
          1999,
          2000,
          2001,
          2002,
          2003,
          2004,
          2005,
          2006,
          2007,
          2008,
          2009,
          2010,
          2011,
          2012,
          2013,
          2014,
          2015,
          2016,
          2017,
          2018,
          2019,
          2020
         ],
         "xaxis": "x",
         "y": [
          0,
          0,
          0,
          0,
          0,
          0,
          0,
          0,
          0,
          0,
          0,
          0,
          0,
          0,
          0,
          0,
          0,
          0,
          0,
          0,
          0,
          0,
          0
         ],
         "yaxis": "y"
        },
        {
         "hovertemplate": "color=Colombia<br>x=%{x}<br>y=%{y}<extra></extra>",
         "legendgroup": "Colombia",
         "marker": {
          "color": "#FFA15A",
          "symbol": "circle"
         },
         "mode": "markers",
         "name": "Colombia",
         "orientation": "v",
         "showlegend": true,
         "type": "scatter",
         "x": [
          1998,
          1999,
          2000,
          2001,
          2002,
          2003,
          2004,
          2005,
          2006,
          2007,
          2008,
          2009,
          2010,
          2011,
          2012,
          2013,
          2014,
          2015,
          2016,
          2017,
          2018,
          2019,
          2020
         ],
         "xaxis": "x",
         "y": [
          0,
          0,
          0,
          0,
          0,
          0,
          0,
          0,
          0,
          0,
          0,
          0,
          0,
          0,
          0,
          0,
          0,
          0,
          0,
          0,
          0,
          0,
          0
         ],
         "yaxis": "y"
        },
        {
         "hovertemplate": "color=Ecuador<br>x=%{x}<br>y=%{y}<extra></extra>",
         "legendgroup": "Ecuador",
         "marker": {
          "color": "#19d3f3",
          "symbol": "circle"
         },
         "mode": "markers",
         "name": "Ecuador",
         "orientation": "v",
         "showlegend": true,
         "type": "scatter",
         "x": [
          1998,
          1999,
          2000,
          2001,
          2002,
          2003,
          2004,
          2005,
          2006,
          2007,
          2008,
          2009,
          2010,
          2011,
          2012,
          2013,
          2014,
          2015,
          2016,
          2017,
          2018,
          2019
         ],
         "xaxis": "x",
         "y": [
          0,
          0,
          0,
          0,
          0,
          0,
          0,
          0,
          0,
          0,
          0,
          0,
          0,
          0,
          0,
          0,
          0,
          0,
          0,
          0,
          0,
          0
         ],
         "yaxis": "y"
        },
        {
         "hovertemplate": "color=French Guiana<br>x=%{x}<br>y=%{y}<extra></extra>",
         "legendgroup": "French Guiana",
         "marker": {
          "color": "#FF6692",
          "symbol": "circle"
         },
         "mode": "markers",
         "name": "French Guiana",
         "orientation": "v",
         "showlegend": true,
         "type": "scatter",
         "x": [
          1998,
          1999,
          2000,
          2001,
          2002,
          2003,
          2004,
          2005,
          2006,
          2007,
          2008,
          2009,
          2010,
          2011,
          2012,
          2013,
          2014,
          2015,
          2016,
          2017,
          2018,
          2019
         ],
         "xaxis": "x",
         "y": [
          0,
          0,
          0,
          0,
          0,
          0,
          0,
          0,
          0,
          0,
          0,
          0,
          0,
          0,
          0,
          0,
          0,
          0,
          0,
          0,
          0,
          0
         ],
         "yaxis": "y"
        },
        {
         "hovertemplate": "color=Guyana<br>x=%{x}<br>y=%{y}<extra></extra>",
         "legendgroup": "Guyana",
         "marker": {
          "color": "#B6E880",
          "symbol": "circle"
         },
         "mode": "markers",
         "name": "Guyana",
         "orientation": "v",
         "showlegend": true,
         "type": "scatter",
         "x": [
          1998,
          1999,
          2000,
          2001,
          2002,
          2003,
          2004,
          2005,
          2006,
          2007,
          2008,
          2009,
          2010,
          2011,
          2012,
          2013,
          2014,
          2015,
          2016,
          2017,
          2018,
          2019
         ],
         "xaxis": "x",
         "y": [
          0,
          0,
          0,
          0,
          0,
          0,
          0,
          0,
          0,
          0,
          0,
          0,
          0,
          0,
          0,
          0,
          0,
          0,
          0,
          0,
          0,
          0
         ],
         "yaxis": "y"
        },
        {
         "hovertemplate": "color=Paraguay<br>x=%{x}<br>y=%{y}<extra></extra>",
         "legendgroup": "Paraguay",
         "marker": {
          "color": "#FF97FF",
          "symbol": "circle"
         },
         "mode": "markers",
         "name": "Paraguay",
         "orientation": "v",
         "showlegend": true,
         "type": "scatter",
         "x": [
          1998,
          1999,
          2000,
          2001,
          2002,
          2003,
          2004,
          2005,
          2006,
          2007,
          2008,
          2009,
          2010,
          2011,
          2012,
          2013,
          2014,
          2015,
          2016,
          2017,
          2018,
          2019
         ],
         "xaxis": "x",
         "y": [
          0,
          0,
          0,
          0,
          0,
          0,
          0,
          0,
          0,
          0,
          0,
          0,
          0,
          0,
          0,
          0,
          0,
          0,
          0,
          0,
          0,
          0
         ],
         "yaxis": "y"
        },
        {
         "hovertemplate": "color=Peru<br>x=%{x}<br>y=%{y}<extra></extra>",
         "legendgroup": "Peru",
         "marker": {
          "color": "#FECB52",
          "symbol": "circle"
         },
         "mode": "markers",
         "name": "Peru",
         "orientation": "v",
         "showlegend": true,
         "type": "scatter",
         "x": [
          1998,
          1999,
          2000,
          2001,
          2002,
          2003,
          2004,
          2005,
          2006,
          2007,
          2008,
          2009,
          2010,
          2011,
          2012,
          2013,
          2014,
          2015,
          2016,
          2017,
          2018,
          2019,
          2020
         ],
         "xaxis": "x",
         "y": [
          0,
          0,
          0,
          0,
          0,
          0,
          0,
          0,
          0,
          0,
          0,
          0,
          0,
          0,
          0,
          0,
          0,
          0,
          0,
          0,
          0,
          0,
          0
         ],
         "yaxis": "y"
        },
        {
         "hovertemplate": "color=Suriname<br>x=%{x}<br>y=%{y}<extra></extra>",
         "legendgroup": "Suriname",
         "marker": {
          "color": "#636efa",
          "symbol": "circle"
         },
         "mode": "markers",
         "name": "Suriname",
         "orientation": "v",
         "showlegend": true,
         "type": "scatter",
         "x": [
          1998,
          1999,
          2000,
          2001,
          2002,
          2003,
          2004,
          2005,
          2006,
          2007,
          2008,
          2009,
          2010,
          2011,
          2012,
          2013,
          2014,
          2015,
          2016,
          2017,
          2018,
          2019
         ],
         "xaxis": "x",
         "y": [
          0,
          0,
          0,
          0,
          0,
          0,
          0,
          0,
          0,
          0,
          0,
          0,
          0,
          0,
          0,
          0,
          0,
          0,
          0,
          0,
          0,
          0
         ],
         "yaxis": "y"
        },
        {
         "hovertemplate": "color=Trinidad and Tobago<br>x=%{x}<br>y=%{y}<extra></extra>",
         "legendgroup": "Trinidad and Tobago",
         "marker": {
          "color": "#EF553B",
          "symbol": "circle"
         },
         "mode": "markers",
         "name": "Trinidad and Tobago",
         "orientation": "v",
         "showlegend": true,
         "type": "scatter",
         "x": [
          1998,
          1999,
          2000,
          2001,
          2002,
          2003,
          2004,
          2005,
          2006,
          2007,
          2008,
          2009,
          2010,
          2011,
          2012,
          2013,
          2014,
          2015,
          2016,
          2017,
          2018,
          2019
         ],
         "xaxis": "x",
         "y": [
          0,
          0,
          0,
          0,
          0,
          0,
          0,
          0,
          0,
          0,
          0,
          0,
          0,
          0,
          0,
          0,
          0,
          0,
          0,
          0,
          0,
          0
         ],
         "yaxis": "y"
        },
        {
         "hovertemplate": "color=Uruguay<br>x=%{x}<br>y=%{y}<extra></extra>",
         "legendgroup": "Uruguay",
         "marker": {
          "color": "#00cc96",
          "symbol": "circle"
         },
         "mode": "markers",
         "name": "Uruguay",
         "orientation": "v",
         "showlegend": true,
         "type": "scatter",
         "x": [
          1998,
          1999,
          2000,
          2001,
          2002,
          2003,
          2004,
          2005,
          2006,
          2007,
          2008,
          2009,
          2010,
          2011,
          2012,
          2013,
          2014,
          2015,
          2016,
          2017,
          2018,
          2019,
          2020
         ],
         "xaxis": "x",
         "y": [
          0,
          0,
          0,
          0,
          0,
          0,
          0,
          0,
          0,
          0,
          0,
          0,
          0,
          0,
          0,
          0,
          0,
          0,
          0,
          0,
          0,
          0,
          0
         ],
         "yaxis": "y"
        },
        {
         "hovertemplate": "color=Venezuela<br>x=%{x}<br>y=%{y}<extra></extra>",
         "legendgroup": "Venezuela",
         "marker": {
          "color": "#ab63fa",
          "symbol": "circle"
         },
         "mode": "markers",
         "name": "Venezuela",
         "orientation": "v",
         "showlegend": true,
         "type": "scatter",
         "x": [
          1998,
          1999,
          2000,
          2001,
          2002,
          2003,
          2004,
          2005,
          2006,
          2007,
          2008,
          2009,
          2010,
          2011,
          2012,
          2013,
          2014,
          2015,
          2016,
          2017,
          2018,
          2019
         ],
         "xaxis": "x",
         "y": [
          0,
          0,
          0,
          0,
          0,
          0,
          0,
          0,
          0,
          0,
          0,
          0,
          0,
          0,
          0,
          0,
          0,
          0,
          0,
          0,
          0,
          0
         ],
         "yaxis": "y"
        }
       ],
       "layout": {
        "legend": {
         "title": {
          "text": "color"
         },
         "tracegroupgap": 0
        },
        "margin": {
         "t": 60
        },
        "template": {
         "data": {
          "bar": [
           {
            "error_x": {
             "color": "#2a3f5f"
            },
            "error_y": {
             "color": "#2a3f5f"
            },
            "marker": {
             "line": {
              "color": "#E5ECF6",
              "width": 0.5
             },
             "pattern": {
              "fillmode": "overlay",
              "size": 10,
              "solidity": 0.2
             }
            },
            "type": "bar"
           }
          ],
          "barpolar": [
           {
            "marker": {
             "line": {
              "color": "#E5ECF6",
              "width": 0.5
             },
             "pattern": {
              "fillmode": "overlay",
              "size": 10,
              "solidity": 0.2
             }
            },
            "type": "barpolar"
           }
          ],
          "carpet": [
           {
            "aaxis": {
             "endlinecolor": "#2a3f5f",
             "gridcolor": "white",
             "linecolor": "white",
             "minorgridcolor": "white",
             "startlinecolor": "#2a3f5f"
            },
            "baxis": {
             "endlinecolor": "#2a3f5f",
             "gridcolor": "white",
             "linecolor": "white",
             "minorgridcolor": "white",
             "startlinecolor": "#2a3f5f"
            },
            "type": "carpet"
           }
          ],
          "choropleth": [
           {
            "colorbar": {
             "outlinewidth": 0,
             "ticks": ""
            },
            "type": "choropleth"
           }
          ],
          "contour": [
           {
            "colorbar": {
             "outlinewidth": 0,
             "ticks": ""
            },
            "colorscale": [
             [
              0,
              "#0d0887"
             ],
             [
              0.1111111111111111,
              "#46039f"
             ],
             [
              0.2222222222222222,
              "#7201a8"
             ],
             [
              0.3333333333333333,
              "#9c179e"
             ],
             [
              0.4444444444444444,
              "#bd3786"
             ],
             [
              0.5555555555555556,
              "#d8576b"
             ],
             [
              0.6666666666666666,
              "#ed7953"
             ],
             [
              0.7777777777777778,
              "#fb9f3a"
             ],
             [
              0.8888888888888888,
              "#fdca26"
             ],
             [
              1,
              "#f0f921"
             ]
            ],
            "type": "contour"
           }
          ],
          "contourcarpet": [
           {
            "colorbar": {
             "outlinewidth": 0,
             "ticks": ""
            },
            "type": "contourcarpet"
           }
          ],
          "heatmap": [
           {
            "colorbar": {
             "outlinewidth": 0,
             "ticks": ""
            },
            "colorscale": [
             [
              0,
              "#0d0887"
             ],
             [
              0.1111111111111111,
              "#46039f"
             ],
             [
              0.2222222222222222,
              "#7201a8"
             ],
             [
              0.3333333333333333,
              "#9c179e"
             ],
             [
              0.4444444444444444,
              "#bd3786"
             ],
             [
              0.5555555555555556,
              "#d8576b"
             ],
             [
              0.6666666666666666,
              "#ed7953"
             ],
             [
              0.7777777777777778,
              "#fb9f3a"
             ],
             [
              0.8888888888888888,
              "#fdca26"
             ],
             [
              1,
              "#f0f921"
             ]
            ],
            "type": "heatmap"
           }
          ],
          "heatmapgl": [
           {
            "colorbar": {
             "outlinewidth": 0,
             "ticks": ""
            },
            "colorscale": [
             [
              0,
              "#0d0887"
             ],
             [
              0.1111111111111111,
              "#46039f"
             ],
             [
              0.2222222222222222,
              "#7201a8"
             ],
             [
              0.3333333333333333,
              "#9c179e"
             ],
             [
              0.4444444444444444,
              "#bd3786"
             ],
             [
              0.5555555555555556,
              "#d8576b"
             ],
             [
              0.6666666666666666,
              "#ed7953"
             ],
             [
              0.7777777777777778,
              "#fb9f3a"
             ],
             [
              0.8888888888888888,
              "#fdca26"
             ],
             [
              1,
              "#f0f921"
             ]
            ],
            "type": "heatmapgl"
           }
          ],
          "histogram": [
           {
            "marker": {
             "pattern": {
              "fillmode": "overlay",
              "size": 10,
              "solidity": 0.2
             }
            },
            "type": "histogram"
           }
          ],
          "histogram2d": [
           {
            "colorbar": {
             "outlinewidth": 0,
             "ticks": ""
            },
            "colorscale": [
             [
              0,
              "#0d0887"
             ],
             [
              0.1111111111111111,
              "#46039f"
             ],
             [
              0.2222222222222222,
              "#7201a8"
             ],
             [
              0.3333333333333333,
              "#9c179e"
             ],
             [
              0.4444444444444444,
              "#bd3786"
             ],
             [
              0.5555555555555556,
              "#d8576b"
             ],
             [
              0.6666666666666666,
              "#ed7953"
             ],
             [
              0.7777777777777778,
              "#fb9f3a"
             ],
             [
              0.8888888888888888,
              "#fdca26"
             ],
             [
              1,
              "#f0f921"
             ]
            ],
            "type": "histogram2d"
           }
          ],
          "histogram2dcontour": [
           {
            "colorbar": {
             "outlinewidth": 0,
             "ticks": ""
            },
            "colorscale": [
             [
              0,
              "#0d0887"
             ],
             [
              0.1111111111111111,
              "#46039f"
             ],
             [
              0.2222222222222222,
              "#7201a8"
             ],
             [
              0.3333333333333333,
              "#9c179e"
             ],
             [
              0.4444444444444444,
              "#bd3786"
             ],
             [
              0.5555555555555556,
              "#d8576b"
             ],
             [
              0.6666666666666666,
              "#ed7953"
             ],
             [
              0.7777777777777778,
              "#fb9f3a"
             ],
             [
              0.8888888888888888,
              "#fdca26"
             ],
             [
              1,
              "#f0f921"
             ]
            ],
            "type": "histogram2dcontour"
           }
          ],
          "mesh3d": [
           {
            "colorbar": {
             "outlinewidth": 0,
             "ticks": ""
            },
            "type": "mesh3d"
           }
          ],
          "parcoords": [
           {
            "line": {
             "colorbar": {
              "outlinewidth": 0,
              "ticks": ""
             }
            },
            "type": "parcoords"
           }
          ],
          "pie": [
           {
            "automargin": true,
            "type": "pie"
           }
          ],
          "scatter": [
           {
            "fillpattern": {
             "fillmode": "overlay",
             "size": 10,
             "solidity": 0.2
            },
            "type": "scatter"
           }
          ],
          "scatter3d": [
           {
            "line": {
             "colorbar": {
              "outlinewidth": 0,
              "ticks": ""
             }
            },
            "marker": {
             "colorbar": {
              "outlinewidth": 0,
              "ticks": ""
             }
            },
            "type": "scatter3d"
           }
          ],
          "scattercarpet": [
           {
            "marker": {
             "colorbar": {
              "outlinewidth": 0,
              "ticks": ""
             }
            },
            "type": "scattercarpet"
           }
          ],
          "scattergeo": [
           {
            "marker": {
             "colorbar": {
              "outlinewidth": 0,
              "ticks": ""
             }
            },
            "type": "scattergeo"
           }
          ],
          "scattergl": [
           {
            "marker": {
             "colorbar": {
              "outlinewidth": 0,
              "ticks": ""
             }
            },
            "type": "scattergl"
           }
          ],
          "scattermapbox": [
           {
            "marker": {
             "colorbar": {
              "outlinewidth": 0,
              "ticks": ""
             }
            },
            "type": "scattermapbox"
           }
          ],
          "scatterpolar": [
           {
            "marker": {
             "colorbar": {
              "outlinewidth": 0,
              "ticks": ""
             }
            },
            "type": "scatterpolar"
           }
          ],
          "scatterpolargl": [
           {
            "marker": {
             "colorbar": {
              "outlinewidth": 0,
              "ticks": ""
             }
            },
            "type": "scatterpolargl"
           }
          ],
          "scatterternary": [
           {
            "marker": {
             "colorbar": {
              "outlinewidth": 0,
              "ticks": ""
             }
            },
            "type": "scatterternary"
           }
          ],
          "surface": [
           {
            "colorbar": {
             "outlinewidth": 0,
             "ticks": ""
            },
            "colorscale": [
             [
              0,
              "#0d0887"
             ],
             [
              0.1111111111111111,
              "#46039f"
             ],
             [
              0.2222222222222222,
              "#7201a8"
             ],
             [
              0.3333333333333333,
              "#9c179e"
             ],
             [
              0.4444444444444444,
              "#bd3786"
             ],
             [
              0.5555555555555556,
              "#d8576b"
             ],
             [
              0.6666666666666666,
              "#ed7953"
             ],
             [
              0.7777777777777778,
              "#fb9f3a"
             ],
             [
              0.8888888888888888,
              "#fdca26"
             ],
             [
              1,
              "#f0f921"
             ]
            ],
            "type": "surface"
           }
          ],
          "table": [
           {
            "cells": {
             "fill": {
              "color": "#EBF0F8"
             },
             "line": {
              "color": "white"
             }
            },
            "header": {
             "fill": {
              "color": "#C8D4E3"
             },
             "line": {
              "color": "white"
             }
            },
            "type": "table"
           }
          ]
         },
         "layout": {
          "annotationdefaults": {
           "arrowcolor": "#2a3f5f",
           "arrowhead": 0,
           "arrowwidth": 1
          },
          "autotypenumbers": "strict",
          "coloraxis": {
           "colorbar": {
            "outlinewidth": 0,
            "ticks": ""
           }
          },
          "colorscale": {
           "diverging": [
            [
             0,
             "#8e0152"
            ],
            [
             0.1,
             "#c51b7d"
            ],
            [
             0.2,
             "#de77ae"
            ],
            [
             0.3,
             "#f1b6da"
            ],
            [
             0.4,
             "#fde0ef"
            ],
            [
             0.5,
             "#f7f7f7"
            ],
            [
             0.6,
             "#e6f5d0"
            ],
            [
             0.7,
             "#b8e186"
            ],
            [
             0.8,
             "#7fbc41"
            ],
            [
             0.9,
             "#4d9221"
            ],
            [
             1,
             "#276419"
            ]
           ],
           "sequential": [
            [
             0,
             "#0d0887"
            ],
            [
             0.1111111111111111,
             "#46039f"
            ],
            [
             0.2222222222222222,
             "#7201a8"
            ],
            [
             0.3333333333333333,
             "#9c179e"
            ],
            [
             0.4444444444444444,
             "#bd3786"
            ],
            [
             0.5555555555555556,
             "#d8576b"
            ],
            [
             0.6666666666666666,
             "#ed7953"
            ],
            [
             0.7777777777777778,
             "#fb9f3a"
            ],
            [
             0.8888888888888888,
             "#fdca26"
            ],
            [
             1,
             "#f0f921"
            ]
           ],
           "sequentialminus": [
            [
             0,
             "#0d0887"
            ],
            [
             0.1111111111111111,
             "#46039f"
            ],
            [
             0.2222222222222222,
             "#7201a8"
            ],
            [
             0.3333333333333333,
             "#9c179e"
            ],
            [
             0.4444444444444444,
             "#bd3786"
            ],
            [
             0.5555555555555556,
             "#d8576b"
            ],
            [
             0.6666666666666666,
             "#ed7953"
            ],
            [
             0.7777777777777778,
             "#fb9f3a"
            ],
            [
             0.8888888888888888,
             "#fdca26"
            ],
            [
             1,
             "#f0f921"
            ]
           ]
          },
          "colorway": [
           "#636efa",
           "#EF553B",
           "#00cc96",
           "#ab63fa",
           "#FFA15A",
           "#19d3f3",
           "#FF6692",
           "#B6E880",
           "#FF97FF",
           "#FECB52"
          ],
          "font": {
           "color": "#2a3f5f"
          },
          "geo": {
           "bgcolor": "white",
           "lakecolor": "white",
           "landcolor": "#E5ECF6",
           "showlakes": true,
           "showland": true,
           "subunitcolor": "white"
          },
          "hoverlabel": {
           "align": "left"
          },
          "hovermode": "closest",
          "mapbox": {
           "style": "light"
          },
          "paper_bgcolor": "white",
          "plot_bgcolor": "#E5ECF6",
          "polar": {
           "angularaxis": {
            "gridcolor": "white",
            "linecolor": "white",
            "ticks": ""
           },
           "bgcolor": "#E5ECF6",
           "radialaxis": {
            "gridcolor": "white",
            "linecolor": "white",
            "ticks": ""
           }
          },
          "scene": {
           "xaxis": {
            "backgroundcolor": "#E5ECF6",
            "gridcolor": "white",
            "gridwidth": 2,
            "linecolor": "white",
            "showbackground": true,
            "ticks": "",
            "zerolinecolor": "white"
           },
           "yaxis": {
            "backgroundcolor": "#E5ECF6",
            "gridcolor": "white",
            "gridwidth": 2,
            "linecolor": "white",
            "showbackground": true,
            "ticks": "",
            "zerolinecolor": "white"
           },
           "zaxis": {
            "backgroundcolor": "#E5ECF6",
            "gridcolor": "white",
            "gridwidth": 2,
            "linecolor": "white",
            "showbackground": true,
            "ticks": "",
            "zerolinecolor": "white"
           }
          },
          "shapedefaults": {
           "line": {
            "color": "#2a3f5f"
           }
          },
          "ternary": {
           "aaxis": {
            "gridcolor": "white",
            "linecolor": "white",
            "ticks": ""
           },
           "baxis": {
            "gridcolor": "white",
            "linecolor": "white",
            "ticks": ""
           },
           "bgcolor": "#E5ECF6",
           "caxis": {
            "gridcolor": "white",
            "linecolor": "white",
            "ticks": ""
           }
          },
          "title": {
           "x": 0.05
          },
          "xaxis": {
           "automargin": true,
           "gridcolor": "white",
           "linecolor": "white",
           "ticks": "",
           "title": {
            "standoff": 15
           },
           "zerolinecolor": "white",
           "zerolinewidth": 2
          },
          "yaxis": {
           "automargin": true,
           "gridcolor": "white",
           "linecolor": "white",
           "ticks": "",
           "title": {
            "standoff": 15
           },
           "zerolinecolor": "white",
           "zerolinewidth": 2
          }
         }
        },
        "xaxis": {
         "anchor": "y",
         "domain": [
          0,
          1
         ],
         "title": {
          "text": "x"
         }
        },
        "yaxis": {
         "anchor": "x",
         "domain": [
          0,
          1
         ],
         "title": {
          "text": "y"
         }
        }
       }
      }
     },
     "metadata": {},
     "output_type": "display_data"
    }
   ],
   "source": [
    "fig = px.scatter(x=suram[\"year\"], y=suram[\"nuclear_electricity\"], color=suram['country'])\n",
    "fig.show()"
   ]
  },
  {
   "cell_type": "code",
   "execution_count": 8,
   "id": "7c0f1f71",
   "metadata": {},
   "outputs": [
    {
     "name": "stdout",
     "output_type": "stream",
     "text": [
      "Index(['iso_code', 'country', 'year', 'coal_share_elec',\n",
      "       'coal_elec_per_capita', 'electricity_generation', 'biofuel_electricity',\n",
      "       'coal_electricity', 'fossil_electricity', 'gas_electricity',\n",
      "       'hydro_electricity', 'nuclear_electricity', 'oil_electricity',\n",
      "       'other_renewable_electricity',\n",
      "       'other_renewable_exc_biofuel_electricity', 'renewables_electricity',\n",
      "       'solar_electricity', 'wind_electricity', 'energy_per_capita',\n",
      "       'fossil_cons_per_capita', 'fossil_share_elec', 'gas_share_elec',\n",
      "       'gas_elec_per_capita', 'hydro_share_elec', 'hydro_elec_per_capita',\n",
      "       'low_carbon_share_elec', 'low_carbon_electricity',\n",
      "       'low_carbon_elec_per_capita', 'oil_share_elec', 'oil_elec_per_capita',\n",
      "       'other_renewables_elec_per_capita', 'other_renewables_share_elec',\n",
      "       'per_capita_electricity', 'population', 'primary_energy_consumption',\n",
      "       'renewables_elec_per_capita', 'renewables_share_elec',\n",
      "       'solar_share_elec', 'solar_elec_per_capita', 'wind_share_elec',\n",
      "       'wind_elec_per_capita'],\n",
      "      dtype='object')\n"
     ]
    }
   ],
   "source": [
    "# Se consultan los nombres de las columnas\n",
    "print(suram.columns)"
   ]
  },
  {
   "cell_type": "code",
   "execution_count": null,
   "id": "c2ada213",
   "metadata": {},
   "outputs": [],
   "source": [
    "suram = suram[\"iso_code\", country, year]"
   ]
  },
  {
   "cell_type": "code",
   "execution_count": 5,
   "id": "3bf5b815",
   "metadata": {},
   "outputs": [
    {
     "data": {
      "text/plain": [
       "iso_code                                   0\n",
       "gas_share_elec                             0\n",
       "hydro_share_elec                           0\n",
       "hydro_elec_per_capita                      0\n",
       "low_carbon_share_elec                      0\n",
       "low_carbon_electricity                     0\n",
       "low_carbon_elec_per_capita                 0\n",
       "oil_share_elec                             0\n",
       "oil_elec_per_capita                        0\n",
       "other_renewables_elec_per_capita           0\n",
       "other_renewables_share_elec                0\n",
       "per_capita_electricity                     0\n",
       "population                                 0\n",
       "primary_energy_consumption                 0\n",
       "renewables_elec_per_capita                 0\n",
       "renewables_share_elec                      0\n",
       "solar_share_elec                           0\n",
       "solar_elec_per_capita                      0\n",
       "wind_share_elec                            0\n",
       "gas_elec_per_capita                        0\n",
       "fossil_share_elec                          0\n",
       "country                                    0\n",
       "fossil_cons_per_capita                     0\n",
       "year                                       0\n",
       "coal_share_elec                            0\n",
       "coal_elec_per_capita                       0\n",
       "electricity_generation                     0\n",
       "biofuel_electricity                        0\n",
       "coal_electricity                           0\n",
       "fossil_electricity                         0\n",
       "gas_electricity                            0\n",
       "hydro_electricity                          0\n",
       "nuclear_electricity                        0\n",
       "oil_electricity                            0\n",
       "other_renewable_electricity                0\n",
       "other_renewable_exc_biofuel_electricity    0\n",
       "renewables_electricity                     0\n",
       "solar_electricity                          0\n",
       "wind_electricity                           0\n",
       "energy_per_capita                          0\n",
       "wind_elec_per_capita                       0\n",
       "dtype: int64"
      ]
     },
     "execution_count": 5,
     "metadata": {},
     "output_type": "execute_result"
    }
   ],
   "source": [
    "# Se observan cuántos valores faltantes tiene cada columna \n",
    "missing_values =suram.isnull().sum().sort_values(ascending = False) \n",
    "missing_values"
   ]
  },
  {
   "cell_type": "code",
   "execution_count": 6,
   "id": "6057d6fe",
   "metadata": {},
   "outputs": [],
   "source": [
    "# Se crean las variables dummies patra la columna country\n",
    "suram2 = pd.get_dummies(suram1['country'])"
   ]
  },
  {
   "cell_type": "code",
   "execution_count": 33,
   "id": "e6f84e45",
   "metadata": {},
   "outputs": [
    {
     "data": {
      "text/html": [
       "<div>\n",
       "<style scoped>\n",
       "    .dataframe tbody tr th:only-of-type {\n",
       "        vertical-align: middle;\n",
       "    }\n",
       "\n",
       "    .dataframe tbody tr th {\n",
       "        vertical-align: top;\n",
       "    }\n",
       "\n",
       "    .dataframe thead th {\n",
       "        text-align: right;\n",
       "    }\n",
       "</style>\n",
       "<table border=\"1\" class=\"dataframe\">\n",
       "  <thead>\n",
       "    <tr style=\"text-align: right;\">\n",
       "      <th></th>\n",
       "      <th>year</th>\n",
       "      <th>coal_share_elec</th>\n",
       "      <th>coal_elec_per_capita</th>\n",
       "      <th>electricity_generation</th>\n",
       "      <th>biofuel_electricity</th>\n",
       "      <th>coal_electricity</th>\n",
       "      <th>fossil_electricity</th>\n",
       "      <th>gas_electricity</th>\n",
       "      <th>hydro_electricity</th>\n",
       "      <th>nuclear_electricity</th>\n",
       "      <th>...</th>\n",
       "      <th>Colombia</th>\n",
       "      <th>Ecuador</th>\n",
       "      <th>French Guiana</th>\n",
       "      <th>Guyana</th>\n",
       "      <th>Paraguay</th>\n",
       "      <th>Peru</th>\n",
       "      <th>Suriname</th>\n",
       "      <th>Trinidad and Tobago</th>\n",
       "      <th>Uruguay</th>\n",
       "      <th>Venezuela</th>\n",
       "    </tr>\n",
       "  </thead>\n",
       "  <tbody>\n",
       "    <tr>\n",
       "      <th>0</th>\n",
       "      <td>1998</td>\n",
       "      <td>2.438</td>\n",
       "      <td>50.134</td>\n",
       "      <td>74.170</td>\n",
       "      <td>0.68</td>\n",
       "      <td>1.808</td>\n",
       "      <td>33.639</td>\n",
       "      <td>28.021</td>\n",
       "      <td>32.422</td>\n",
       "      <td>7.453</td>\n",
       "      <td>...</td>\n",
       "      <td>False</td>\n",
       "      <td>False</td>\n",
       "      <td>False</td>\n",
       "      <td>False</td>\n",
       "      <td>False</td>\n",
       "      <td>False</td>\n",
       "      <td>False</td>\n",
       "      <td>False</td>\n",
       "      <td>False</td>\n",
       "      <td>False</td>\n",
       "    </tr>\n",
       "    <tr>\n",
       "      <th>1</th>\n",
       "      <td>1999</td>\n",
       "      <td>2.608</td>\n",
       "      <td>57.751</td>\n",
       "      <td>80.745</td>\n",
       "      <td>0.68</td>\n",
       "      <td>2.106</td>\n",
       "      <td>46.146</td>\n",
       "      <td>40.209</td>\n",
       "      <td>26.530</td>\n",
       "      <td>7.106</td>\n",
       "      <td>...</td>\n",
       "      <td>False</td>\n",
       "      <td>False</td>\n",
       "      <td>False</td>\n",
       "      <td>False</td>\n",
       "      <td>False</td>\n",
       "      <td>False</td>\n",
       "      <td>False</td>\n",
       "      <td>False</td>\n",
       "      <td>False</td>\n",
       "      <td>False</td>\n",
       "    </tr>\n",
       "    <tr>\n",
       "      <th>2</th>\n",
       "      <td>2000</td>\n",
       "      <td>2.176</td>\n",
       "      <td>50.311</td>\n",
       "      <td>85.240</td>\n",
       "      <td>0.68</td>\n",
       "      <td>1.855</td>\n",
       "      <td>50.054</td>\n",
       "      <td>45.125</td>\n",
       "      <td>28.486</td>\n",
       "      <td>5.985</td>\n",
       "      <td>...</td>\n",
       "      <td>False</td>\n",
       "      <td>False</td>\n",
       "      <td>False</td>\n",
       "      <td>False</td>\n",
       "      <td>False</td>\n",
       "      <td>False</td>\n",
       "      <td>False</td>\n",
       "      <td>False</td>\n",
       "      <td>False</td>\n",
       "      <td>False</td>\n",
       "    </tr>\n",
       "    <tr>\n",
       "      <th>3</th>\n",
       "      <td>2001</td>\n",
       "      <td>1.657</td>\n",
       "      <td>38.452</td>\n",
       "      <td>86.501</td>\n",
       "      <td>0.62</td>\n",
       "      <td>1.433</td>\n",
       "      <td>42.638</td>\n",
       "      <td>40.126</td>\n",
       "      <td>36.653</td>\n",
       "      <td>6.541</td>\n",
       "      <td>...</td>\n",
       "      <td>False</td>\n",
       "      <td>False</td>\n",
       "      <td>False</td>\n",
       "      <td>False</td>\n",
       "      <td>False</td>\n",
       "      <td>False</td>\n",
       "      <td>False</td>\n",
       "      <td>False</td>\n",
       "      <td>False</td>\n",
       "      <td>False</td>\n",
       "    </tr>\n",
       "    <tr>\n",
       "      <th>4</th>\n",
       "      <td>2002</td>\n",
       "      <td>1.080</td>\n",
       "      <td>23.269</td>\n",
       "      <td>81.156</td>\n",
       "      <td>0.87</td>\n",
       "      <td>0.877</td>\n",
       "      <td>39.331</td>\n",
       "      <td>37.593</td>\n",
       "      <td>35.492</td>\n",
       "      <td>5.390</td>\n",
       "      <td>...</td>\n",
       "      <td>False</td>\n",
       "      <td>False</td>\n",
       "      <td>False</td>\n",
       "      <td>False</td>\n",
       "      <td>False</td>\n",
       "      <td>False</td>\n",
       "      <td>False</td>\n",
       "      <td>False</td>\n",
       "      <td>False</td>\n",
       "      <td>False</td>\n",
       "    </tr>\n",
       "    <tr>\n",
       "      <th>...</th>\n",
       "      <td>...</td>\n",
       "      <td>...</td>\n",
       "      <td>...</td>\n",
       "      <td>...</td>\n",
       "      <td>...</td>\n",
       "      <td>...</td>\n",
       "      <td>...</td>\n",
       "      <td>...</td>\n",
       "      <td>...</td>\n",
       "      <td>...</td>\n",
       "      <td>...</td>\n",
       "      <td>...</td>\n",
       "      <td>...</td>\n",
       "      <td>...</td>\n",
       "      <td>...</td>\n",
       "      <td>...</td>\n",
       "      <td>...</td>\n",
       "      <td>...</td>\n",
       "      <td>...</td>\n",
       "      <td>...</td>\n",
       "      <td>...</td>\n",
       "    </tr>\n",
       "    <tr>\n",
       "      <th>310</th>\n",
       "      <td>2015</td>\n",
       "      <td>0.000</td>\n",
       "      <td>0.000</td>\n",
       "      <td>119.181</td>\n",
       "      <td>0.00</td>\n",
       "      <td>0.000</td>\n",
       "      <td>44.953</td>\n",
       "      <td>44.953</td>\n",
       "      <td>74.150</td>\n",
       "      <td>0.000</td>\n",
       "      <td>...</td>\n",
       "      <td>False</td>\n",
       "      <td>False</td>\n",
       "      <td>False</td>\n",
       "      <td>False</td>\n",
       "      <td>False</td>\n",
       "      <td>False</td>\n",
       "      <td>False</td>\n",
       "      <td>False</td>\n",
       "      <td>False</td>\n",
       "      <td>True</td>\n",
       "    </tr>\n",
       "    <tr>\n",
       "      <th>311</th>\n",
       "      <td>2016</td>\n",
       "      <td>0.000</td>\n",
       "      <td>0.000</td>\n",
       "      <td>104.654</td>\n",
       "      <td>0.00</td>\n",
       "      <td>0.000</td>\n",
       "      <td>42.247</td>\n",
       "      <td>42.247</td>\n",
       "      <td>62.329</td>\n",
       "      <td>0.000</td>\n",
       "      <td>...</td>\n",
       "      <td>False</td>\n",
       "      <td>False</td>\n",
       "      <td>False</td>\n",
       "      <td>False</td>\n",
       "      <td>False</td>\n",
       "      <td>False</td>\n",
       "      <td>False</td>\n",
       "      <td>False</td>\n",
       "      <td>False</td>\n",
       "      <td>True</td>\n",
       "    </tr>\n",
       "    <tr>\n",
       "      <th>312</th>\n",
       "      <td>2017</td>\n",
       "      <td>0.000</td>\n",
       "      <td>0.000</td>\n",
       "      <td>100.581</td>\n",
       "      <td>0.00</td>\n",
       "      <td>0.000</td>\n",
       "      <td>40.601</td>\n",
       "      <td>40.601</td>\n",
       "      <td>59.902</td>\n",
       "      <td>0.000</td>\n",
       "      <td>...</td>\n",
       "      <td>False</td>\n",
       "      <td>False</td>\n",
       "      <td>False</td>\n",
       "      <td>False</td>\n",
       "      <td>False</td>\n",
       "      <td>False</td>\n",
       "      <td>False</td>\n",
       "      <td>False</td>\n",
       "      <td>False</td>\n",
       "      <td>True</td>\n",
       "    </tr>\n",
       "    <tr>\n",
       "      <th>313</th>\n",
       "      <td>2018</td>\n",
       "      <td>0.000</td>\n",
       "      <td>0.000</td>\n",
       "      <td>96.665</td>\n",
       "      <td>0.00</td>\n",
       "      <td>0.000</td>\n",
       "      <td>39.019</td>\n",
       "      <td>39.019</td>\n",
       "      <td>57.568</td>\n",
       "      <td>0.000</td>\n",
       "      <td>...</td>\n",
       "      <td>False</td>\n",
       "      <td>False</td>\n",
       "      <td>False</td>\n",
       "      <td>False</td>\n",
       "      <td>False</td>\n",
       "      <td>False</td>\n",
       "      <td>False</td>\n",
       "      <td>False</td>\n",
       "      <td>False</td>\n",
       "      <td>True</td>\n",
       "    </tr>\n",
       "    <tr>\n",
       "      <th>314</th>\n",
       "      <td>2019</td>\n",
       "      <td>0.000</td>\n",
       "      <td>0.000</td>\n",
       "      <td>89.160</td>\n",
       "      <td>0.00</td>\n",
       "      <td>0.000</td>\n",
       "      <td>37.042</td>\n",
       "      <td>37.042</td>\n",
       "      <td>52.041</td>\n",
       "      <td>0.000</td>\n",
       "      <td>...</td>\n",
       "      <td>False</td>\n",
       "      <td>False</td>\n",
       "      <td>False</td>\n",
       "      <td>False</td>\n",
       "      <td>False</td>\n",
       "      <td>False</td>\n",
       "      <td>False</td>\n",
       "      <td>False</td>\n",
       "      <td>False</td>\n",
       "      <td>True</td>\n",
       "    </tr>\n",
       "  </tbody>\n",
       "</table>\n",
       "<p>315 rows × 67 columns</p>\n",
       "</div>"
      ],
      "text/plain": [
       "     year  coal_share_elec  coal_elec_per_capita  electricity_generation  \\\n",
       "0    1998            2.438                50.134                  74.170   \n",
       "1    1999            2.608                57.751                  80.745   \n",
       "2    2000            2.176                50.311                  85.240   \n",
       "3    2001            1.657                38.452                  86.501   \n",
       "4    2002            1.080                23.269                  81.156   \n",
       "..    ...              ...                   ...                     ...   \n",
       "310  2015            0.000                 0.000                 119.181   \n",
       "311  2016            0.000                 0.000                 104.654   \n",
       "312  2017            0.000                 0.000                 100.581   \n",
       "313  2018            0.000                 0.000                  96.665   \n",
       "314  2019            0.000                 0.000                  89.160   \n",
       "\n",
       "     biofuel_electricity  coal_electricity  fossil_electricity  \\\n",
       "0                   0.68             1.808              33.639   \n",
       "1                   0.68             2.106              46.146   \n",
       "2                   0.68             1.855              50.054   \n",
       "3                   0.62             1.433              42.638   \n",
       "4                   0.87             0.877              39.331   \n",
       "..                   ...               ...                 ...   \n",
       "310                 0.00             0.000              44.953   \n",
       "311                 0.00             0.000              42.247   \n",
       "312                 0.00             0.000              40.601   \n",
       "313                 0.00             0.000              39.019   \n",
       "314                 0.00             0.000              37.042   \n",
       "\n",
       "     gas_electricity  hydro_electricity  nuclear_electricity  ...  Colombia  \\\n",
       "0             28.021             32.422                7.453  ...     False   \n",
       "1             40.209             26.530                7.106  ...     False   \n",
       "2             45.125             28.486                5.985  ...     False   \n",
       "3             40.126             36.653                6.541  ...     False   \n",
       "4             37.593             35.492                5.390  ...     False   \n",
       "..               ...                ...                  ...  ...       ...   \n",
       "310           44.953             74.150                0.000  ...     False   \n",
       "311           42.247             62.329                0.000  ...     False   \n",
       "312           40.601             59.902                0.000  ...     False   \n",
       "313           39.019             57.568                0.000  ...     False   \n",
       "314           37.042             52.041                0.000  ...     False   \n",
       "\n",
       "     Ecuador  French Guiana  Guyana  Paraguay   Peru  Suriname  \\\n",
       "0      False          False   False     False  False     False   \n",
       "1      False          False   False     False  False     False   \n",
       "2      False          False   False     False  False     False   \n",
       "3      False          False   False     False  False     False   \n",
       "4      False          False   False     False  False     False   \n",
       "..       ...            ...     ...       ...    ...       ...   \n",
       "310    False          False   False     False  False     False   \n",
       "311    False          False   False     False  False     False   \n",
       "312    False          False   False     False  False     False   \n",
       "313    False          False   False     False  False     False   \n",
       "314    False          False   False     False  False     False   \n",
       "\n",
       "     Trinidad and Tobago  Uruguay  Venezuela  \n",
       "0                  False    False      False  \n",
       "1                  False    False      False  \n",
       "2                  False    False      False  \n",
       "3                  False    False      False  \n",
       "4                  False    False      False  \n",
       "..                   ...      ...        ...  \n",
       "310                False    False       True  \n",
       "311                False    False       True  \n",
       "312                False    False       True  \n",
       "313                False    False       True  \n",
       "314                False    False       True  \n",
       "\n",
       "[315 rows x 67 columns]"
      ]
     },
     "execution_count": 33,
     "metadata": {},
     "output_type": "execute_result"
    }
   ],
   "source": [
    "suram1= pd.concat([suram1, suram2], axis=1)\n",
    "suram1"
   ]
  },
  {
   "cell_type": "code",
   "execution_count": 8,
   "id": "69b077a2",
   "metadata": {},
   "outputs": [],
   "source": [
    "# Se elimina la variable que no se van a incluir en el modelo.\n",
    "suram1= suram1.drop(['iso_code', 'country'], axis=1)"
   ]
  },
  {
   "cell_type": "markdown",
   "metadata": {},
   "source": [
    "## MODELO DE REGRESIÓN:"
   ]
  },
  {
   "cell_type": "markdown",
   "metadata": {},
   "source": [
    "#### Se elimina la variable independiente, que no se incluirá en el modelo y se guarda en x. "
   ]
  },
  {
   "cell_type": "code",
   "execution_count": 25,
   "id": "d50ad7fd",
   "metadata": {},
   "outputs": [],
   "source": [
    "# Se elimina la variable independiente, que no se incluirá en el modelo y se guarda en x. \n",
    "x= suram1.drop(['year', 'wind_electricity'], axis=1)"
   ]
  },
  {
   "cell_type": "code",
   "execution_count": 26,
   "id": "1968331b",
   "metadata": {},
   "outputs": [],
   "source": [
    "lista_atributos = x.columns"
   ]
  },
  {
   "cell_type": "code",
   "execution_count": 27,
   "id": "e1ea5ee5",
   "metadata": {},
   "outputs": [],
   "source": [
    "# Se seleccionan las etiquetas y se guardan en y\n",
    "y = suram1['wind_electricity']"
   ]
  },
  {
   "cell_type": "code",
   "execution_count": 28,
   "id": "a211bafc",
   "metadata": {},
   "outputs": [],
   "source": [
    "x, y = np.array(x), np.array(y)"
   ]
  },
  {
   "cell_type": "code",
   "execution_count": 29,
   "id": "0a59cee3",
   "metadata": {},
   "outputs": [
    {
     "data": {
      "text/plain": [
       "array([[2.438, 50.134, 74.17, ..., False, False, False],\n",
       "       [2.608, 57.751, 80.745, ..., False, False, False],\n",
       "       [2.176, 50.311, 85.24, ..., False, False, False],\n",
       "       ...,\n",
       "       [0.0, 0.0, 100.581, ..., False, False, True],\n",
       "       [0.0, 0.0, 96.665, ..., False, False, True],\n",
       "       [0.0, 0.0, 89.16, ..., False, False, True]], dtype=object)"
      ]
     },
     "execution_count": 29,
     "metadata": {},
     "output_type": "execute_result"
    }
   ],
   "source": [
    "x     "
   ]
  },
  {
   "cell_type": "code",
   "execution_count": 14,
   "id": "043d313b",
   "metadata": {},
   "outputs": [
    {
     "data": {
      "text/plain": [
       "array([0.033, 0.035, 0.035, 0.049, 0.073, 0.078, 0.072, 0.075, 0.07 ,\n",
       "       0.061])"
      ]
     },
     "execution_count": 14,
     "metadata": {},
     "output_type": "execute_result"
    }
   ],
   "source": [
    "y[:10]    "
   ]
  },
  {
   "cell_type": "markdown",
   "metadata": {},
   "source": [
    "#### Separando Train / Test"
   ]
  },
  {
   "cell_type": "markdown",
   "metadata": {},
   "source": [
    "Se entrenará con 80% de los datos y se testeará con el 20% de los datos."
   ]
  },
  {
   "cell_type": "code",
   "execution_count": 253,
   "id": "9b947837",
   "metadata": {},
   "outputs": [],
   "source": [
    "X_train, X_test, y_train, y_test = train_test_split(x, y, test_size=0.2,random_state=42)"
   ]
  },
  {
   "cell_type": "code",
   "execution_count": 254,
   "id": "748878dd",
   "metadata": {},
   "outputs": [
    {
     "data": {
      "text/plain": [
       "(315, 51)"
      ]
     },
     "execution_count": 254,
     "metadata": {},
     "output_type": "execute_result"
    }
   ],
   "source": [
    "# Se consultan las filas y columnas\n",
    "x.shape"
   ]
  },
  {
   "cell_type": "code",
   "execution_count": 255,
   "id": "e91cc96d",
   "metadata": {},
   "outputs": [
    {
     "data": {
      "text/plain": [
       "(252, 51)"
      ]
     },
     "execution_count": 255,
     "metadata": {},
     "output_type": "execute_result"
    }
   ],
   "source": [
    "# 252 datos serán destinados al entrenamiento del modelo\n",
    "X_train.shape"
   ]
  },
  {
   "cell_type": "code",
   "execution_count": 256,
   "id": "ef068728",
   "metadata": {},
   "outputs": [
    {
     "data": {
      "text/plain": [
       "(63, 51)"
      ]
     },
     "execution_count": 256,
     "metadata": {},
     "output_type": "execute_result"
    }
   ],
   "source": [
    "# 63 datos serán destinados al testeo\n",
    "X_test.shape  "
   ]
  },
  {
   "cell_type": "code",
   "execution_count": 257,
   "id": "1c8c1eba",
   "metadata": {},
   "outputs": [
    {
     "data": {
      "text/plain": [
       "array([[ 0.486,  3.705, 20.422, ...,  0.   ,  0.   ,  0.   ],\n",
       "       [ 0.   ,  0.   ,  5.599, ...,  0.   ,  0.   ,  0.   ],\n",
       "       [ 0.   ,  0.   ,  0.914, ...,  0.   ,  0.   ,  0.   ],\n",
       "       ...,\n",
       "       [ 0.   ,  0.   ,  8.335, ...,  1.   ,  0.   ,  0.   ],\n",
       "       [ 0.   ,  0.   ,  0.904, ...,  0.   ,  0.   ,  0.   ],\n",
       "       [ 0.   ,  0.   , 87.733, ...,  0.   ,  0.   ,  1.   ]])"
      ]
     },
     "execution_count": 257,
     "metadata": {},
     "output_type": "execute_result"
    }
   ],
   "source": [
    "X_test"
   ]
  },
  {
   "cell_type": "markdown",
   "metadata": {},
   "source": [
    "### RANDOM FOREST"
   ]
  },
  {
   "cell_type": "code",
   "execution_count": 258,
   "id": "c3ec995e",
   "metadata": {},
   "outputs": [],
   "source": [
    "# Inicializo el modelo\n",
    "regresor = RandomForestRegressor(criterion='mae', random_state=42)"
   ]
  },
  {
   "cell_type": "code",
   "execution_count": 259,
   "id": "b4d35da1",
   "metadata": {},
   "outputs": [],
   "source": [
    "# Se inicia el modelo\n",
    "regresor = RandomForestRegressor(criterion='absolute_error', random_state=42)"
   ]
  },
  {
   "cell_type": "code",
   "execution_count": 260,
   "id": "feca95f2",
   "metadata": {},
   "outputs": [],
   "source": [
    "# Se entrena el modelo\n",
    "regresor.fit(X_train, y_train);"
   ]
  },
  {
   "cell_type": "code",
   "execution_count": 261,
   "id": "d9579458",
   "metadata": {},
   "outputs": [
    {
     "data": {
      "text/plain": [
       "{'bootstrap': True,\n",
       " 'ccp_alpha': 0.0,\n",
       " 'criterion': 'absolute_error',\n",
       " 'max_depth': None,\n",
       " 'max_features': 1.0,\n",
       " 'max_leaf_nodes': None,\n",
       " 'max_samples': None,\n",
       " 'min_impurity_decrease': 0.0,\n",
       " 'min_samples_leaf': 1,\n",
       " 'min_samples_split': 2,\n",
       " 'min_weight_fraction_leaf': 0.0,\n",
       " 'n_estimators': 100,\n",
       " 'n_jobs': None,\n",
       " 'oob_score': False,\n",
       " 'random_state': 42,\n",
       " 'verbose': 0,\n",
       " 'warm_start': False}"
      ]
     },
     "execution_count": 261,
     "metadata": {},
     "output_type": "execute_result"
    }
   ],
   "source": [
    "regresor.get_params()"
   ]
  },
  {
   "cell_type": "code",
   "execution_count": 262,
   "id": "beaf1041",
   "metadata": {},
   "outputs": [],
   "source": [
    "# Se predicen los valores para el set de testeo\n",
    "y_pred = regresor.predict(X_test)"
   ]
  },
  {
   "cell_type": "code",
   "execution_count": 263,
   "id": "98434f81",
   "metadata": {},
   "outputs": [
    {
     "data": {
      "text/plain": [
       "0.10753253968253998"
      ]
     },
     "execution_count": 263,
     "metadata": {},
     "output_type": "execute_result"
    }
   ],
   "source": [
    "# Se calcula el error medio absoluto\n",
    "mean_absolute_error(y_test, y_pred)"
   ]
  },
  {
   "cell_type": "markdown",
   "metadata": {},
   "source": [
    "### SUPPORT VECTOR MACHINE"
   ]
  },
  {
   "cell_type": "code",
   "execution_count": 264,
   "id": "cb18b05e",
   "metadata": {},
   "outputs": [],
   "source": [
    "# Se inicia el modelo\n",
    "regresor_svr = SVR(C=1.0, epsilon=0.2)"
   ]
  },
  {
   "cell_type": "code",
   "execution_count": 265,
   "id": "5a5ff44f",
   "metadata": {},
   "outputs": [],
   "source": [
    "# Se entrena el modelo\n",
    "regresor_svr.fit(X_train, y_train);"
   ]
  },
  {
   "cell_type": "code",
   "execution_count": 266,
   "id": "8e7b624b",
   "metadata": {},
   "outputs": [
    {
     "data": {
      "text/plain": [
       "{'C': 1.0,\n",
       " 'cache_size': 200,\n",
       " 'coef0': 0.0,\n",
       " 'degree': 3,\n",
       " 'epsilon': 0.2,\n",
       " 'gamma': 'scale',\n",
       " 'kernel': 'rbf',\n",
       " 'max_iter': -1,\n",
       " 'shrinking': True,\n",
       " 'tol': 0.001,\n",
       " 'verbose': False}"
      ]
     },
     "execution_count": 266,
     "metadata": {},
     "output_type": "execute_result"
    }
   ],
   "source": [
    "regresor_svr.get_params()"
   ]
  },
  {
   "cell_type": "code",
   "execution_count": 267,
   "id": "5ae7dbb1",
   "metadata": {},
   "outputs": [],
   "source": [
    "#Se predicen los valores para el set de testeo\n",
    "y_pred_svr = regresor_svr.predict(X_test)"
   ]
  },
  {
   "cell_type": "code",
   "execution_count": 268,
   "id": "7618d189",
   "metadata": {},
   "outputs": [
    {
     "data": {
      "text/plain": [
       "0.6926027392374664"
      ]
     },
     "execution_count": 268,
     "metadata": {},
     "output_type": "execute_result"
    }
   ],
   "source": [
    "# Se calcula el error medio absoluto\n",
    "mean_absolute_error(y_test, y_pred_svr)"
   ]
  },
  {
   "cell_type": "markdown",
   "metadata": {},
   "source": [
    "## ANÁLISIS Y EVALUACIÓN DEL MODELO MÁS ACORDE PARA LA REGRESIÓN"
   ]
  },
  {
   "cell_type": "code",
   "execution_count": 269,
   "id": "af82358d",
   "metadata": {},
   "outputs": [],
   "source": [
    "# Se calculan los errores \n",
    "def evaluation(y_test, predictions):\n",
    "    \"\"\"\n",
    "    Funcion que devuelve el error absoluto medio y el error porcentual absoluto medio.\n",
    "\n",
    "    :param y_test: valores reales\n",
    "    :param predictions: valores predichos\n",
    "\n",
    "    :return: Devuelve el error absoluto medio y el error porcentual absoluto medio.\n",
    "    \"\"\"\n",
    "    # Calcula mae\n",
    "    mae = mean_absolute_error(y_test, predictions)\n",
    "    #calculate mape\n",
    "    mape = np.mean((np.abs(y_test - predictions)/y_test)*100)\n",
    "    #print calculated values\n",
    "    print(f\"El error absoluto medio para el modelo es {round(mae, 2)}\")\n",
    "    print(f\"El error porcentual absoluto medio para el modelo es {round(mape, 2)}\")"
   ]
  },
  {
   "cell_type": "code",
   "execution_count": 270,
   "id": "cf43c616",
   "metadata": {},
   "outputs": [],
   "source": [
    "def graph_real_pred(y_test, predictions, color):\n",
    "    \"\"\"\n",
    "    Funcion que grafica los valores reales vs. predichos\n",
    "    :param y_test: valores reales\n",
    "    :param predictions: valores predichos\n",
    "    :param color: color para el plot.\n",
    "\n",
    "    :return: Scatterplot mostrando la relacion entre el valor real y el predicho\n",
    "    \"\"\"\n",
    "    plt.scatter(y_test, predictions, c=color, s=10)\n",
    "    plt.gca().spines['top'].set_visible(False)\n",
    "    plt.gca().spines['bottom'].set_visible(False)\n",
    "    plt.gca().spines['left'].set_visible(False)\n",
    "    plt.gca().spines['right'].set_visible(False)\n",
    "    plt.xlabel('Real', size=15, labelpad=1)\n",
    "    plt.ylabel('Predicted', size=15, labelpad=1)\n",
    "    plt.show()"
   ]
  },
  {
   "cell_type": "code",
   "execution_count": 271,
   "id": "5ef95460",
   "metadata": {},
   "outputs": [],
   "source": [
    "# Se consultan los hiperparámetros más importantes\n",
    "def feature_importance(model, feature_list):\n",
    "    \"\"\"\n",
    "    Function that gets and plots the feature importance\n",
    "    for the given model\n",
    "    :param model: the model to evaluaate\n",
    "    :param feature_list: a list of features contained in the model\n",
    "\n",
    "    :returns a plot with feature importance\n",
    "    \"\"\"\n",
    "    # Obtiene la lista de importancias\n",
    "    importances = list(model.feature_importances_)\n",
    "    # Junta los nombres de los atributos y las importancias\n",
    "    feature_importances = [(feature, round(importance, 2)) for feature, importance in zip(feature_list, importances)]\n",
    "    # Ordena por orden de importancia\n",
    "    feature_importances = sorted(feature_importances, key = lambda x: x[1], reverse = True)\n",
    "    # Print la lista de importancias\n",
    "    [print('Variable: {} Importance: {}'.format(*pair)) for pair in feature_importances];\n",
    "    # Colores\n",
    "    colors = cm.rainbow(np.linspace(0, 1, len(feature_list)))\n",
    "\n",
    "    # Caracteristicas en orden de importancia\n",
    "    characteristics = [x[0] for x in feature_importances]\n",
    "    # Obtiene las importancias\n",
    "    importances_plot = [x[1] for x in feature_importances]\n",
    "    # Grafica un bar plot\n",
    "    plt.bar(characteristics, importances_plot, color=colors)\n",
    "    # Personalizamos el grafico\n",
    "    plt.xticks(list(range(len(characteristics))), characteristics, rotation = 90)\n",
    "    plt.gca().spines['top'].set_visible(False)\n",
    "    plt.gca().spines['bottom'].set_visible(False)\n",
    "    plt.gca().spines['left'].set_visible(False)\n",
    "    plt.gca().spines['right'].set_visible(False)\n",
    "    plt.gcf().subplots_adjust(bottom=0.3);"
   ]
  },
  {
   "cell_type": "code",
   "execution_count": 272,
   "id": "c6b6e78e",
   "metadata": {},
   "outputs": [],
   "source": [
    "# Valores para los parametros a optimizar\n",
    "param_grid_rf = {\n",
    "    'criterion': ['absolute_error'],\n",
    "    'n_estimators': [70, 80, 90, 100, 120],\n",
    "    'max_features': ['log2','sqrt'],\n",
    "    'max_depth': [1, 3, 5, 10, 20, 50],\n",
    "    'min_samples_leaf': [1, 3, 5, 10, 20, 50]\n",
    "}"
   ]
  },
  {
   "cell_type": "code",
   "execution_count": 273,
   "id": "1b3ddc39",
   "metadata": {},
   "outputs": [],
   "source": [
    "# Inicializamos un modelo\n",
    "grid_regresor = RandomForestRegressor(random_state=42)"
   ]
  },
  {
   "cell_type": "code",
   "execution_count": 274,
   "id": "46c2d228",
   "metadata": {},
   "outputs": [],
   "source": [
    "# Creamos la busqueda\n",
    "rf_search = GridSearchCV(estimator=grid_regresor, param_grid=param_grid_rf,\n",
    "                         cv=5, scoring='neg_mean_absolute_error', verbose=2, n_jobs=-1)"
   ]
  },
  {
   "cell_type": "code",
   "execution_count": 275,
   "id": "11eed71d",
   "metadata": {},
   "outputs": [
    {
     "name": "stdout",
     "output_type": "stream",
     "text": [
      "Fitting 5 folds for each of 360 candidates, totalling 1800 fits\n"
     ]
    },
    {
     "data": {
      "text/html": [
       "<style>#sk-container-id-5 {color: black;background-color: white;}#sk-container-id-5 pre{padding: 0;}#sk-container-id-5 div.sk-toggleable {background-color: white;}#sk-container-id-5 label.sk-toggleable__label {cursor: pointer;display: block;width: 100%;margin-bottom: 0;padding: 0.3em;box-sizing: border-box;text-align: center;}#sk-container-id-5 label.sk-toggleable__label-arrow:before {content: \"▸\";float: left;margin-right: 0.25em;color: #696969;}#sk-container-id-5 label.sk-toggleable__label-arrow:hover:before {color: black;}#sk-container-id-5 div.sk-estimator:hover label.sk-toggleable__label-arrow:before {color: black;}#sk-container-id-5 div.sk-toggleable__content {max-height: 0;max-width: 0;overflow: hidden;text-align: left;background-color: #f0f8ff;}#sk-container-id-5 div.sk-toggleable__content pre {margin: 0.2em;color: black;border-radius: 0.25em;background-color: #f0f8ff;}#sk-container-id-5 input.sk-toggleable__control:checked~div.sk-toggleable__content {max-height: 200px;max-width: 100%;overflow: auto;}#sk-container-id-5 input.sk-toggleable__control:checked~label.sk-toggleable__label-arrow:before {content: \"▾\";}#sk-container-id-5 div.sk-estimator input.sk-toggleable__control:checked~label.sk-toggleable__label {background-color: #d4ebff;}#sk-container-id-5 div.sk-label input.sk-toggleable__control:checked~label.sk-toggleable__label {background-color: #d4ebff;}#sk-container-id-5 input.sk-hidden--visually {border: 0;clip: rect(1px 1px 1px 1px);clip: rect(1px, 1px, 1px, 1px);height: 1px;margin: -1px;overflow: hidden;padding: 0;position: absolute;width: 1px;}#sk-container-id-5 div.sk-estimator {font-family: monospace;background-color: #f0f8ff;border: 1px dotted black;border-radius: 0.25em;box-sizing: border-box;margin-bottom: 0.5em;}#sk-container-id-5 div.sk-estimator:hover {background-color: #d4ebff;}#sk-container-id-5 div.sk-parallel-item::after {content: \"\";width: 100%;border-bottom: 1px solid gray;flex-grow: 1;}#sk-container-id-5 div.sk-label:hover label.sk-toggleable__label {background-color: #d4ebff;}#sk-container-id-5 div.sk-serial::before {content: \"\";position: absolute;border-left: 1px solid gray;box-sizing: border-box;top: 0;bottom: 0;left: 50%;z-index: 0;}#sk-container-id-5 div.sk-serial {display: flex;flex-direction: column;align-items: center;background-color: white;padding-right: 0.2em;padding-left: 0.2em;position: relative;}#sk-container-id-5 div.sk-item {position: relative;z-index: 1;}#sk-container-id-5 div.sk-parallel {display: flex;align-items: stretch;justify-content: center;background-color: white;position: relative;}#sk-container-id-5 div.sk-item::before, #sk-container-id-5 div.sk-parallel-item::before {content: \"\";position: absolute;border-left: 1px solid gray;box-sizing: border-box;top: 0;bottom: 0;left: 50%;z-index: -1;}#sk-container-id-5 div.sk-parallel-item {display: flex;flex-direction: column;z-index: 1;position: relative;background-color: white;}#sk-container-id-5 div.sk-parallel-item:first-child::after {align-self: flex-end;width: 50%;}#sk-container-id-5 div.sk-parallel-item:last-child::after {align-self: flex-start;width: 50%;}#sk-container-id-5 div.sk-parallel-item:only-child::after {width: 0;}#sk-container-id-5 div.sk-dashed-wrapped {border: 1px dashed gray;margin: 0 0.4em 0.5em 0.4em;box-sizing: border-box;padding-bottom: 0.4em;background-color: white;}#sk-container-id-5 div.sk-label label {font-family: monospace;font-weight: bold;display: inline-block;line-height: 1.2em;}#sk-container-id-5 div.sk-label-container {text-align: center;}#sk-container-id-5 div.sk-container {/* jupyter's `normalize.less` sets `[hidden] { display: none; }` but bootstrap.min.css set `[hidden] { display: none !important; }` so we also need the `!important` here to be able to override the default hidden behavior on the sphinx rendered scikit-learn.org. See: https://github.com/scikit-learn/scikit-learn/issues/21755 */display: inline-block !important;position: relative;}#sk-container-id-5 div.sk-text-repr-fallback {display: none;}</style><div id=\"sk-container-id-5\" class=\"sk-top-container\"><div class=\"sk-text-repr-fallback\"><pre>GridSearchCV(cv=5, estimator=RandomForestRegressor(random_state=42), n_jobs=-1,\n",
       "             param_grid={&#x27;criterion&#x27;: [&#x27;absolute_error&#x27;],\n",
       "                         &#x27;max_depth&#x27;: [1, 3, 5, 10, 20, 50],\n",
       "                         &#x27;max_features&#x27;: [&#x27;log2&#x27;, &#x27;sqrt&#x27;],\n",
       "                         &#x27;min_samples_leaf&#x27;: [1, 3, 5, 10, 20, 50],\n",
       "                         &#x27;n_estimators&#x27;: [70, 80, 90, 100, 120]},\n",
       "             scoring=&#x27;neg_mean_absolute_error&#x27;, verbose=2)</pre><b>In a Jupyter environment, please rerun this cell to show the HTML representation or trust the notebook. <br />On GitHub, the HTML representation is unable to render, please try loading this page with nbviewer.org.</b></div><div class=\"sk-container\" hidden><div class=\"sk-item sk-dashed-wrapped\"><div class=\"sk-label-container\"><div class=\"sk-label sk-toggleable\"><input class=\"sk-toggleable__control sk-hidden--visually\" id=\"sk-estimator-id-7\" type=\"checkbox\" ><label for=\"sk-estimator-id-7\" class=\"sk-toggleable__label sk-toggleable__label-arrow\">GridSearchCV</label><div class=\"sk-toggleable__content\"><pre>GridSearchCV(cv=5, estimator=RandomForestRegressor(random_state=42), n_jobs=-1,\n",
       "             param_grid={&#x27;criterion&#x27;: [&#x27;absolute_error&#x27;],\n",
       "                         &#x27;max_depth&#x27;: [1, 3, 5, 10, 20, 50],\n",
       "                         &#x27;max_features&#x27;: [&#x27;log2&#x27;, &#x27;sqrt&#x27;],\n",
       "                         &#x27;min_samples_leaf&#x27;: [1, 3, 5, 10, 20, 50],\n",
       "                         &#x27;n_estimators&#x27;: [70, 80, 90, 100, 120]},\n",
       "             scoring=&#x27;neg_mean_absolute_error&#x27;, verbose=2)</pre></div></div></div><div class=\"sk-parallel\"><div class=\"sk-parallel-item\"><div class=\"sk-item\"><div class=\"sk-label-container\"><div class=\"sk-label sk-toggleable\"><input class=\"sk-toggleable__control sk-hidden--visually\" id=\"sk-estimator-id-8\" type=\"checkbox\" ><label for=\"sk-estimator-id-8\" class=\"sk-toggleable__label sk-toggleable__label-arrow\">estimator: RandomForestRegressor</label><div class=\"sk-toggleable__content\"><pre>RandomForestRegressor(random_state=42)</pre></div></div></div><div class=\"sk-serial\"><div class=\"sk-item\"><div class=\"sk-estimator sk-toggleable\"><input class=\"sk-toggleable__control sk-hidden--visually\" id=\"sk-estimator-id-9\" type=\"checkbox\" ><label for=\"sk-estimator-id-9\" class=\"sk-toggleable__label sk-toggleable__label-arrow\">RandomForestRegressor</label><div class=\"sk-toggleable__content\"><pre>RandomForestRegressor(random_state=42)</pre></div></div></div></div></div></div></div></div></div></div>"
      ],
      "text/plain": [
       "GridSearchCV(cv=5, estimator=RandomForestRegressor(random_state=42), n_jobs=-1,\n",
       "             param_grid={'criterion': ['absolute_error'],\n",
       "                         'max_depth': [1, 3, 5, 10, 20, 50],\n",
       "                         'max_features': ['log2', 'sqrt'],\n",
       "                         'min_samples_leaf': [1, 3, 5, 10, 20, 50],\n",
       "                         'n_estimators': [70, 80, 90, 100, 120]},\n",
       "             scoring='neg_mean_absolute_error', verbose=2)"
      ]
     },
     "execution_count": 275,
     "metadata": {},
     "output_type": "execute_result"
    }
   ],
   "source": [
    "# Corremos el gridsearch con una validación usando 3 folds.\n",
    "rf_search.fit(X_train, y_train)"
   ]
  },
  {
   "cell_type": "markdown",
   "metadata": {},
   "source": [
    "## ¿cuál es el mejor estimador?"
   ]
  },
  {
   "cell_type": "code",
   "execution_count": 285,
   "id": "257801d8",
   "metadata": {},
   "outputs": [
    {
     "data": {
      "text/html": [
       "<style>#sk-container-id-8 {color: black;background-color: white;}#sk-container-id-8 pre{padding: 0;}#sk-container-id-8 div.sk-toggleable {background-color: white;}#sk-container-id-8 label.sk-toggleable__label {cursor: pointer;display: block;width: 100%;margin-bottom: 0;padding: 0.3em;box-sizing: border-box;text-align: center;}#sk-container-id-8 label.sk-toggleable__label-arrow:before {content: \"▸\";float: left;margin-right: 0.25em;color: #696969;}#sk-container-id-8 label.sk-toggleable__label-arrow:hover:before {color: black;}#sk-container-id-8 div.sk-estimator:hover label.sk-toggleable__label-arrow:before {color: black;}#sk-container-id-8 div.sk-toggleable__content {max-height: 0;max-width: 0;overflow: hidden;text-align: left;background-color: #f0f8ff;}#sk-container-id-8 div.sk-toggleable__content pre {margin: 0.2em;color: black;border-radius: 0.25em;background-color: #f0f8ff;}#sk-container-id-8 input.sk-toggleable__control:checked~div.sk-toggleable__content {max-height: 200px;max-width: 100%;overflow: auto;}#sk-container-id-8 input.sk-toggleable__control:checked~label.sk-toggleable__label-arrow:before {content: \"▾\";}#sk-container-id-8 div.sk-estimator input.sk-toggleable__control:checked~label.sk-toggleable__label {background-color: #d4ebff;}#sk-container-id-8 div.sk-label input.sk-toggleable__control:checked~label.sk-toggleable__label {background-color: #d4ebff;}#sk-container-id-8 input.sk-hidden--visually {border: 0;clip: rect(1px 1px 1px 1px);clip: rect(1px, 1px, 1px, 1px);height: 1px;margin: -1px;overflow: hidden;padding: 0;position: absolute;width: 1px;}#sk-container-id-8 div.sk-estimator {font-family: monospace;background-color: #f0f8ff;border: 1px dotted black;border-radius: 0.25em;box-sizing: border-box;margin-bottom: 0.5em;}#sk-container-id-8 div.sk-estimator:hover {background-color: #d4ebff;}#sk-container-id-8 div.sk-parallel-item::after {content: \"\";width: 100%;border-bottom: 1px solid gray;flex-grow: 1;}#sk-container-id-8 div.sk-label:hover label.sk-toggleable__label {background-color: #d4ebff;}#sk-container-id-8 div.sk-serial::before {content: \"\";position: absolute;border-left: 1px solid gray;box-sizing: border-box;top: 0;bottom: 0;left: 50%;z-index: 0;}#sk-container-id-8 div.sk-serial {display: flex;flex-direction: column;align-items: center;background-color: white;padding-right: 0.2em;padding-left: 0.2em;position: relative;}#sk-container-id-8 div.sk-item {position: relative;z-index: 1;}#sk-container-id-8 div.sk-parallel {display: flex;align-items: stretch;justify-content: center;background-color: white;position: relative;}#sk-container-id-8 div.sk-item::before, #sk-container-id-8 div.sk-parallel-item::before {content: \"\";position: absolute;border-left: 1px solid gray;box-sizing: border-box;top: 0;bottom: 0;left: 50%;z-index: -1;}#sk-container-id-8 div.sk-parallel-item {display: flex;flex-direction: column;z-index: 1;position: relative;background-color: white;}#sk-container-id-8 div.sk-parallel-item:first-child::after {align-self: flex-end;width: 50%;}#sk-container-id-8 div.sk-parallel-item:last-child::after {align-self: flex-start;width: 50%;}#sk-container-id-8 div.sk-parallel-item:only-child::after {width: 0;}#sk-container-id-8 div.sk-dashed-wrapped {border: 1px dashed gray;margin: 0 0.4em 0.5em 0.4em;box-sizing: border-box;padding-bottom: 0.4em;background-color: white;}#sk-container-id-8 div.sk-label label {font-family: monospace;font-weight: bold;display: inline-block;line-height: 1.2em;}#sk-container-id-8 div.sk-label-container {text-align: center;}#sk-container-id-8 div.sk-container {/* jupyter's `normalize.less` sets `[hidden] { display: none; }` but bootstrap.min.css set `[hidden] { display: none !important; }` so we also need the `!important` here to be able to override the default hidden behavior on the sphinx rendered scikit-learn.org. See: https://github.com/scikit-learn/scikit-learn/issues/21755 */display: inline-block !important;position: relative;}#sk-container-id-8 div.sk-text-repr-fallback {display: none;}</style><div id=\"sk-container-id-8\" class=\"sk-top-container\"><div class=\"sk-text-repr-fallback\"><pre>RandomForestRegressor(criterion=&#x27;absolute_error&#x27;, max_depth=5,\n",
       "                      max_features=&#x27;sqrt&#x27;, random_state=42)</pre><b>In a Jupyter environment, please rerun this cell to show the HTML representation or trust the notebook. <br />On GitHub, the HTML representation is unable to render, please try loading this page with nbviewer.org.</b></div><div class=\"sk-container\" hidden><div class=\"sk-item\"><div class=\"sk-estimator sk-toggleable\"><input class=\"sk-toggleable__control sk-hidden--visually\" id=\"sk-estimator-id-12\" type=\"checkbox\" checked><label for=\"sk-estimator-id-12\" class=\"sk-toggleable__label sk-toggleable__label-arrow\">RandomForestRegressor</label><div class=\"sk-toggleable__content\"><pre>RandomForestRegressor(criterion=&#x27;absolute_error&#x27;, max_depth=5,\n",
       "                      max_features=&#x27;sqrt&#x27;, random_state=42)</pre></div></div></div></div></div>"
      ],
      "text/plain": [
       "RandomForestRegressor(criterion='absolute_error', max_depth=5,\n",
       "                      max_features='sqrt', random_state=42)"
      ]
     },
     "execution_count": 285,
     "metadata": {},
     "output_type": "execute_result"
    }
   ],
   "source": [
    "rf_search.best_estimator_"
   ]
  },
  {
   "cell_type": "code",
   "execution_count": 286,
   "id": "60cd5f2b",
   "metadata": {},
   "outputs": [
    {
     "data": {
      "text/plain": [
       "{'criterion': 'absolute_error',\n",
       " 'max_depth': 5,\n",
       " 'max_features': 'sqrt',\n",
       " 'min_samples_leaf': 1,\n",
       " 'n_estimators': 100}"
      ]
     },
     "execution_count": 286,
     "metadata": {},
     "output_type": "execute_result"
    }
   ],
   "source": [
    "rf_search.best_params_"
   ]
  },
  {
   "cell_type": "code",
   "execution_count": 287,
   "id": "019cd835",
   "metadata": {},
   "outputs": [
    {
     "data": {
      "text/plain": [
       "-0.40161094078431414"
      ]
     },
     "execution_count": 287,
     "metadata": {},
     "output_type": "execute_result"
    }
   ],
   "source": [
    "rf_search.best_score_"
   ]
  },
  {
   "cell_type": "code",
   "execution_count": 288,
   "id": "7cde70f7",
   "metadata": {},
   "outputs": [],
   "source": [
    "# Asignamos el mejor estimador a mejor_regresor\n",
    "mejor_regresor = RandomForestRegressor(criterion='absolute_error', n_estimators=70, max_depth=5, max_features='sqrt', min_samples_leaf=10)"
   ]
  },
  {
   "cell_type": "code",
   "execution_count": 289,
   "id": "62736f68",
   "metadata": {},
   "outputs": [
    {
     "data": {
      "text/html": [
       "<style>#sk-container-id-9 {color: black;background-color: white;}#sk-container-id-9 pre{padding: 0;}#sk-container-id-9 div.sk-toggleable {background-color: white;}#sk-container-id-9 label.sk-toggleable__label {cursor: pointer;display: block;width: 100%;margin-bottom: 0;padding: 0.3em;box-sizing: border-box;text-align: center;}#sk-container-id-9 label.sk-toggleable__label-arrow:before {content: \"▸\";float: left;margin-right: 0.25em;color: #696969;}#sk-container-id-9 label.sk-toggleable__label-arrow:hover:before {color: black;}#sk-container-id-9 div.sk-estimator:hover label.sk-toggleable__label-arrow:before {color: black;}#sk-container-id-9 div.sk-toggleable__content {max-height: 0;max-width: 0;overflow: hidden;text-align: left;background-color: #f0f8ff;}#sk-container-id-9 div.sk-toggleable__content pre {margin: 0.2em;color: black;border-radius: 0.25em;background-color: #f0f8ff;}#sk-container-id-9 input.sk-toggleable__control:checked~div.sk-toggleable__content {max-height: 200px;max-width: 100%;overflow: auto;}#sk-container-id-9 input.sk-toggleable__control:checked~label.sk-toggleable__label-arrow:before {content: \"▾\";}#sk-container-id-9 div.sk-estimator input.sk-toggleable__control:checked~label.sk-toggleable__label {background-color: #d4ebff;}#sk-container-id-9 div.sk-label input.sk-toggleable__control:checked~label.sk-toggleable__label {background-color: #d4ebff;}#sk-container-id-9 input.sk-hidden--visually {border: 0;clip: rect(1px 1px 1px 1px);clip: rect(1px, 1px, 1px, 1px);height: 1px;margin: -1px;overflow: hidden;padding: 0;position: absolute;width: 1px;}#sk-container-id-9 div.sk-estimator {font-family: monospace;background-color: #f0f8ff;border: 1px dotted black;border-radius: 0.25em;box-sizing: border-box;margin-bottom: 0.5em;}#sk-container-id-9 div.sk-estimator:hover {background-color: #d4ebff;}#sk-container-id-9 div.sk-parallel-item::after {content: \"\";width: 100%;border-bottom: 1px solid gray;flex-grow: 1;}#sk-container-id-9 div.sk-label:hover label.sk-toggleable__label {background-color: #d4ebff;}#sk-container-id-9 div.sk-serial::before {content: \"\";position: absolute;border-left: 1px solid gray;box-sizing: border-box;top: 0;bottom: 0;left: 50%;z-index: 0;}#sk-container-id-9 div.sk-serial {display: flex;flex-direction: column;align-items: center;background-color: white;padding-right: 0.2em;padding-left: 0.2em;position: relative;}#sk-container-id-9 div.sk-item {position: relative;z-index: 1;}#sk-container-id-9 div.sk-parallel {display: flex;align-items: stretch;justify-content: center;background-color: white;position: relative;}#sk-container-id-9 div.sk-item::before, #sk-container-id-9 div.sk-parallel-item::before {content: \"\";position: absolute;border-left: 1px solid gray;box-sizing: border-box;top: 0;bottom: 0;left: 50%;z-index: -1;}#sk-container-id-9 div.sk-parallel-item {display: flex;flex-direction: column;z-index: 1;position: relative;background-color: white;}#sk-container-id-9 div.sk-parallel-item:first-child::after {align-self: flex-end;width: 50%;}#sk-container-id-9 div.sk-parallel-item:last-child::after {align-self: flex-start;width: 50%;}#sk-container-id-9 div.sk-parallel-item:only-child::after {width: 0;}#sk-container-id-9 div.sk-dashed-wrapped {border: 1px dashed gray;margin: 0 0.4em 0.5em 0.4em;box-sizing: border-box;padding-bottom: 0.4em;background-color: white;}#sk-container-id-9 div.sk-label label {font-family: monospace;font-weight: bold;display: inline-block;line-height: 1.2em;}#sk-container-id-9 div.sk-label-container {text-align: center;}#sk-container-id-9 div.sk-container {/* jupyter's `normalize.less` sets `[hidden] { display: none; }` but bootstrap.min.css set `[hidden] { display: none !important; }` so we also need the `!important` here to be able to override the default hidden behavior on the sphinx rendered scikit-learn.org. See: https://github.com/scikit-learn/scikit-learn/issues/21755 */display: inline-block !important;position: relative;}#sk-container-id-9 div.sk-text-repr-fallback {display: none;}</style><div id=\"sk-container-id-9\" class=\"sk-top-container\"><div class=\"sk-text-repr-fallback\"><pre>RandomForestRegressor(criterion=&#x27;absolute_error&#x27;, max_depth=5,\n",
       "                      max_features=&#x27;sqrt&#x27;, min_samples_leaf=10,\n",
       "                      n_estimators=70)</pre><b>In a Jupyter environment, please rerun this cell to show the HTML representation or trust the notebook. <br />On GitHub, the HTML representation is unable to render, please try loading this page with nbviewer.org.</b></div><div class=\"sk-container\" hidden><div class=\"sk-item\"><div class=\"sk-estimator sk-toggleable\"><input class=\"sk-toggleable__control sk-hidden--visually\" id=\"sk-estimator-id-13\" type=\"checkbox\" checked><label for=\"sk-estimator-id-13\" class=\"sk-toggleable__label sk-toggleable__label-arrow\">RandomForestRegressor</label><div class=\"sk-toggleable__content\"><pre>RandomForestRegressor(criterion=&#x27;absolute_error&#x27;, max_depth=5,\n",
       "                      max_features=&#x27;sqrt&#x27;, min_samples_leaf=10,\n",
       "                      n_estimators=70)</pre></div></div></div></div></div>"
      ],
      "text/plain": [
       "RandomForestRegressor(criterion='absolute_error', max_depth=5,\n",
       "                      max_features='sqrt', min_samples_leaf=10,\n",
       "                      n_estimators=70)"
      ]
     },
     "execution_count": 289,
     "metadata": {},
     "output_type": "execute_result"
    }
   ],
   "source": [
    "# Entrenamos el modelo\n",
    "mejor_regresor.fit(X_train, y_train)"
   ]
  },
  {
   "cell_type": "code",
   "execution_count": 290,
   "id": "42990c1a",
   "metadata": {},
   "outputs": [],
   "source": [
    "# Hacemos la prediccion para el test de evaluación\n",
    "predicciones = mejor_regresor.predict(X_test)"
   ]
  },
  {
   "cell_type": "code",
   "execution_count": 291,
   "id": "e01310cf",
   "metadata": {},
   "outputs": [
    {
     "name": "stdout",
     "output_type": "stream",
     "text": [
      "El error absoluto medio para el modelo es 0.47\n",
      "El error porcentual absoluto medio para el modelo es nan\n"
     ]
    },
    {
     "name": "stderr",
     "output_type": "stream",
     "text": [
      "C:\\Users\\Usuario\\AppData\\Local\\Temp\\ipykernel_16216\\476445176.py:14: RuntimeWarning: divide by zero encountered in divide\n",
      "  mape = np.mean((np.abs(y_test - predictions)/y_test)*100)\n",
      "C:\\Users\\Usuario\\AppData\\Local\\Temp\\ipykernel_16216\\476445176.py:14: RuntimeWarning: invalid value encountered in divide\n",
      "  mape = np.mean((np.abs(y_test - predictions)/y_test)*100)\n"
     ]
    }
   ],
   "source": [
    "# Error\n",
    "evaluation(y_test, predicciones)"
   ]
  },
  {
   "cell_type": "code",
   "execution_count": 292,
   "id": "6d1b78d0",
   "metadata": {},
   "outputs": [
    {
     "data": {
      "image/png": "[encoded data removed]",
      "text/plain": [
       "<Figure size 640x480 with 1 Axes>"
      ]
     },
     "metadata": {},
     "output_type": "display_data"
    }
   ],
   "source": [
    "# Correlacion\n",
    "graph_real_pred(y_test, predicciones, color='#E67E22')"
   ]
  },
  {
   "cell_type": "code",
   "execution_count": 294,
   "id": "b38e1563",
   "metadata": {},
   "outputs": [
    {
     "name": "stdout",
     "output_type": "stream",
     "text": [
      "Variable: wind_share_elec Importance: 0.26\n",
      "Variable: wind_elec_per_capita Importance: 0.19\n",
      "Variable: solar_electricity Importance: 0.11\n",
      "Variable: other_renewables_share_elec Importance: 0.07\n",
      "Variable: coal_electricity Importance: 0.04\n",
      "Variable: nuclear_electricity Importance: 0.04\n",
      "Variable: other_renewables_elec_per_capita Importance: 0.04\n",
      "Variable: solar_share_elec Importance: 0.04\n",
      "Variable: gas_electricity Importance: 0.03\n",
      "Variable: primary_energy_consumption Importance: 0.03\n",
      "Variable: electricity_generation Importance: 0.02\n",
      "Variable: fossil_electricity Importance: 0.02\n",
      "Variable: Brazil Importance: 0.02\n",
      "Variable: coal_share_elec Importance: 0.01\n",
      "Variable: coal_elec_per_capita Importance: 0.01\n",
      "Variable: other_renewable_electricity Importance: 0.01\n",
      "Variable: renewables_electricity Importance: 0.01\n",
      "Variable: hydro_elec_per_capita Importance: 0.01\n",
      "Variable: low_carbon_elec_per_capita Importance: 0.01\n",
      "Variable: solar_elec_per_capita Importance: 0.01\n",
      "Variable: biofuel_electricity Importance: 0.0\n",
      "Variable: hydro_electricity Importance: 0.0\n",
      "Variable: oil_electricity Importance: 0.0\n",
      "Variable: other_renewable_exc_biofuel_electricity Importance: 0.0\n",
      "Variable: energy_per_capita Importance: 0.0\n",
      "Variable: fossil_cons_per_capita Importance: 0.0\n",
      "Variable: fossil_share_elec Importance: 0.0\n",
      "Variable: gas_share_elec Importance: 0.0\n",
      "Variable: gas_elec_per_capita Importance: 0.0\n",
      "Variable: hydro_share_elec Importance: 0.0\n",
      "Variable: low_carbon_share_elec Importance: 0.0\n",
      "Variable: low_carbon_electricity Importance: 0.0\n",
      "Variable: oil_share_elec Importance: 0.0\n",
      "Variable: oil_elec_per_capita Importance: 0.0\n",
      "Variable: per_capita_electricity Importance: 0.0\n",
      "Variable: population Importance: 0.0\n",
      "Variable: renewables_elec_per_capita Importance: 0.0\n",
      "Variable: renewables_share_elec Importance: 0.0\n",
      "Variable: Argentina Importance: 0.0\n",
      "Variable: Bolivia Importance: 0.0\n",
      "Variable: Chile Importance: 0.0\n",
      "Variable: Colombia Importance: 0.0\n",
      "Variable: Ecuador Importance: 0.0\n",
      "Variable: French Guiana Importance: 0.0\n",
      "Variable: Guyana Importance: 0.0\n",
      "Variable: Paraguay Importance: 0.0\n",
      "Variable: Peru Importance: 0.0\n",
      "Variable: Suriname Importance: 0.0\n",
      "Variable: Trinidad and Tobago Importance: 0.0\n",
      "Variable: Uruguay Importance: 0.0\n",
      "Variable: Venezuela Importance: 0.0\n"
     ]
    },
    {
     "data": {
      "image/png": "[encoded data removed]",
      "text/plain": [
       "<Figure size 640x480 with 1 Axes>"
      ]
     },
     "metadata": {},
     "output_type": "display_data"
    }
   ],
   "source": [
    "# Importancia de cada feature\n",
    "feature_importance(mejor_regresor, lista_atributos)"
   ]
  },
  {
   "cell_type": "code",
   "execution_count": null,
   "id": "5ff626b3",
   "metadata": {},
   "outputs": [],
   "source": []
  },
  {
   "cell_type": "code",
   "execution_count": null,
   "id": "4f437d5a",
   "metadata": {},
   "outputs": [],
   "source": []
  },
  {
   "cell_type": "code",
   "execution_count": null,
   "id": "5bd4f8f9",
   "metadata": {},
   "outputs": [],
   "source": []
  },
  {
   "cell_type": "code",
   "execution_count": null,
   "id": "09f30d94",
   "metadata": {},
   "outputs": [],
   "source": []
  },
  {
   "cell_type": "code",
   "execution_count": null,
   "id": "376560ad",
   "metadata": {},
   "outputs": [],
   "source": []
  },
  {
   "cell_type": "code",
   "execution_count": null,
   "id": "80721759",
   "metadata": {},
   "outputs": [],
   "source": []
  },
  {
   "cell_type": "code",
   "execution_count": null,
   "id": "ff29d8a5",
   "metadata": {},
   "outputs": [],
   "source": []
  },
  {
   "cell_type": "code",
   "execution_count": null,
   "id": "d1e635c7",
   "metadata": {},
   "outputs": [],
   "source": []
  },
  {
   "cell_type": "code",
   "execution_count": null,
   "id": "0771957d",
   "metadata": {},
   "outputs": [],
   "source": []
  },
  {
   "cell_type": "code",
   "execution_count": null,
   "id": "8400d74c",
   "metadata": {},
   "outputs": [],
   "source": []
  },
  {
   "cell_type": "code",
   "execution_count": null,
   "id": "1f14a743",
   "metadata": {},
   "outputs": [],
   "source": []
  },
  {
   "cell_type": "code",
   "execution_count": null,
   "id": "efe83a78",
   "metadata": {},
   "outputs": [],
   "source": []
  },
  {
   "cell_type": "code",
   "execution_count": null,
   "id": "e6923561",
   "metadata": {},
   "outputs": [],
   "source": []
  },
  {
   "cell_type": "code",
   "execution_count": null,
   "id": "21ecd798",
   "metadata": {},
   "outputs": [],
   "source": []
  },
  {
   "cell_type": "code",
   "execution_count": null,
   "id": "8a4e6993",
   "metadata": {},
   "outputs": [],
   "source": []
  },
  {
   "cell_type": "code",
   "execution_count": null,
   "id": "0695d0ae",
   "metadata": {},
   "outputs": [],
   "source": []
  },
  {
   "cell_type": "code",
   "execution_count": null,
   "id": "78b0b7b6",
   "metadata": {},
   "outputs": [],
   "source": []
  },
  {
   "cell_type": "code",
   "execution_count": null,
   "id": "8cb25386",
   "metadata": {},
   "outputs": [],
   "source": []
  },
  {
   "cell_type": "code",
   "execution_count": null,
   "id": "9cd44035",
   "metadata": {},
   "outputs": [],
   "source": []
  },
  {
   "cell_type": "code",
   "execution_count": null,
   "id": "90832422",
   "metadata": {},
   "outputs": [],
   "source": []
  }
 ],
 "metadata": {
  "kernelspec": {
   "display_name": "Python 3 (ipykernel)",
   "language": "python",
   "name": "python3"
  },
  "language_info": {
   "codemirror_mode": {
    "name": "ipython",
    "version": 3
   },
   "file_extension": ".py",
   "mimetype": "text/x-python",
   "name": "python",
   "nbconvert_exporter": "python",
   "pygments_lexer": "ipython3",
   "version": "3.11.5"
  }
 },
 "nbformat": 4,
 "nbformat_minor": 5
}
