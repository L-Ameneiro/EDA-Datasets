{
 "cells": [
  {
   "cell_type": "code",
   "execution_count": 1,
   "metadata": {},
   "outputs": [],
   "source": [
    "import pandas as pd\n",
    "import numpy as np\n",
    "pd.set_option('display.max_rows', 500)\n",
    "pd.set_option('display.max_columns', 500)\n",
    "pd.set_option('display.width', 150)\n",
    "pd.set_option('display.max_seq_items', None)\n",
    "import matplotlib.pyplot as plt\n",
    "import seaborn as sns"
   ]
  },
  {
   "cell_type": "code",
   "execution_count": 2,
   "metadata": {},
   "outputs": [],
   "source": [
    "p = pd.read_csv(r'..\\\\datasets\\\\produccin-de-pozos-de-gas-y-petrleo-no-convencional.csv')  "
   ]
  },
  {
   "cell_type": "code",
   "execution_count": 8,
   "metadata": {},
   "outputs": [
    {
     "data": {
      "text/plain": [
       "array(['YSUR ENERGÍA ARGENTINA S.R.L.', 'YPF S.A.',\n",
       "       'WINTERSHALL ENERGIA S.A.', 'WINTERSHALL DEA ARGENTINA S.A',\n",
       "       'VISTA ENERGY ARGENTINA SAU', 'Vista Oil & Gas Argentina SA',\n",
       "       'VENOIL S.A.', 'VISTA OIL & GAS ARGENTINA SAU', 'TECPETROL S.A.',\n",
       "       'TOTAL AUSTRAL S.A.', 'SHELL ARGENTINA S.A.', 'ROCH S.A.',\n",
       "       'PETROLERA EL TREBOL S.A.', 'PRESIDENT PETROLEUM S.A.',\n",
       "       'PLUSPETROL S.A.', 'PATAGONIA ENERGY S.A.',\n",
       "       'PETROLERA ENTRE LOMAS S.A.', 'PETROBRAS ARGENTINA S.A.',\n",
       "       'PAMPA ENERGIA S.A.', 'PAN AMERICAN ENERGY SL',\n",
       "       'PAN AMERICAN ENERGY (SUCURSAL ARGENTINA) LLC',\n",
       "       'OILSTONE ENERGIA S.A.', 'O&G DEVELOPMENTS LTD S.A.',\n",
       "       'MEDANITO S.A.', 'MADALENA AUSTRAL S.A.', 'KILWER S.A.',\n",
       "       'MADALENA ENERGY ARGENTINA SRL ', 'GRECOIL y CIA. S.R.L.',\n",
       "       'GAS Y PETROLEO DEL NEUQUEN S.A.', 'ENERGICON S.A.',\n",
       "       'EXXONMOBIL EXPLORATION ARGENTINA S.R.L.',\n",
       "       'CAPETROL ARGENTINA S.A.', 'CHEVRON ARGENTINA S.R.L.',\n",
       "       'COMPAÑÍA GENERAL DE COMBUSTIBLES S.A.', 'CGC ENERGIA SAU',\n",
       "       'CAPEX S.A.',\n",
       "       'APCO OIL AND GAS INTERNATIONAL INC (SUCURSAL ARGENTINA)',\n",
       "       'APACHE ENERGIA ARGENTINA S.R.L.',\n",
       "       'AMERICAS PETROGAS ARGENTINA S.A.', 'ARGENTA ENERGIA S.A.',\n",
       "       'Petrolera Aconcagua Energia S.A.'], dtype=object)"
      ]
     },
     "execution_count": 8,
     "metadata": {},
     "output_type": "execute_result"
    }
   ],
   "source": [
    "lista_empresas=p['empresa'].unique()\n",
    "lista_empresas"
   ]
  },
  {
   "cell_type": "code",
   "execution_count": 10,
   "metadata": {},
   "outputs": [
    {
     "data": {
      "text/plain": [
       "array(['NEUQUINA', 'GOLFO SAN JORGE', 'NOROESTE', 'AUSTRAL'], dtype=object)"
      ]
     },
     "execution_count": 10,
     "metadata": {},
     "output_type": "execute_result"
    }
   ],
   "source": [
    "lista_cuencas =p['cuenca'].unique()\n",
    "lista_cuencas"
   ]
  },
  {
   "cell_type": "code",
   "execution_count": 9,
   "metadata": {},
   "outputs": [
    {
     "data": {
      "text/plain": [
       "array(['Rio Negro', 'Neuquén', 'Mendoza', 'Chubut', 'Santa Cruz', 'Salta'],\n",
       "      dtype=object)"
      ]
     },
     "execution_count": 9,
     "metadata": {},
     "output_type": "execute_result"
    }
   ],
   "source": [
    "lista_provincias =p['provincia'].unique()\n",
    "lista_provincias"
   ]
  },
  {
   "cell_type": "code",
   "execution_count": 7,
   "metadata": {},
   "outputs": [
    {
     "name": "stdout",
     "output_type": "stream",
     "text": [
      "0         Rio Negro\n",
      "1         Rio Negro\n",
      "2         Rio Negro\n",
      "3         Rio Negro\n",
      "4         Rio Negro\n",
      "            ...    \n",
      "271665    Rio Negro\n",
      "271666    Rio Negro\n",
      "271667    Rio Negro\n",
      "271668    Rio Negro\n",
      "271669      Neuquén\n",
      "Name: provincia, Length: 271670, dtype: object\n"
     ]
    }
   ],
   "source": [
    "print(p[\"provincia\"])"
   ]
  },
  {
   "cell_type": "code",
   "execution_count": 18,
   "metadata": {},
   "outputs": [],
   "source": [
    "por_empr = p.groupby(\"idempresa\")[\"prod_pet\"].mean().reset_index().sort_values(\"prod_pet\", ascending=False)\n"
   ]
  },
  {
   "cell_type": "code",
   "execution_count": 2,
   "metadata": {},
   "outputs": [
    {
     "ename": "NameError",
     "evalue": "name 'sns' is not defined",
     "output_type": "error",
     "traceback": [
      "\u001b[1;31m---------------------------------------------------------------------------\u001b[0m",
      "\u001b[1;31mNameError\u001b[0m                                 Traceback (most recent call last)",
      "\u001b[1;32mc:\\Users\\Usuario\\Desktop\\data science\\EDA-datasets\\notebooks\\prod-pozos-gas-petr.ipynb Celda 8\u001b[0m line \u001b[0;36m1\n\u001b[1;32m----> <a href='vscode-notebook-cell:/c%3A/Users/Usuario/Desktop/data%20science/EDA-datasets/notebooks/prod-pozos-gas-petr.ipynb#X10sZmlsZQ%3D%3D?line=0'>1</a>\u001b[0m sns\u001b[39m.\u001b[39mbarplot(x\u001b[39m=\u001b[39m\u001b[39m'\u001b[39m\u001b[39midempresa\u001b[39m\u001b[39m'\u001b[39m, y\u001b[39m=\u001b[39m\u001b[39m\"\u001b[39m\u001b[39mprod_pet\u001b[39m\u001b[39m\"\u001b[39m, data\u001b[39m=\u001b[39mpor_empr, palette\u001b[39m=\u001b[39m\u001b[39m\"\u001b[39m\u001b[39mviridis\u001b[39m\u001b[39m\"\u001b[39m)\n\u001b[0;32m      <a href='vscode-notebook-cell:/c%3A/Users/Usuario/Desktop/data%20science/EDA-datasets/notebooks/prod-pozos-gas-petr.ipynb#X10sZmlsZQ%3D%3D?line=1'>2</a>\u001b[0m plt\u001b[39m.\u001b[39msuptitle(\u001b[39m'\u001b[39m\u001b[39mProducción de petróleo por empresa\u001b[39m\u001b[39m'\u001b[39m)\n\u001b[0;32m      <a href='vscode-notebook-cell:/c%3A/Users/Usuario/Desktop/data%20science/EDA-datasets/notebooks/prod-pozos-gas-petr.ipynb#X10sZmlsZQ%3D%3D?line=2'>3</a>\u001b[0m plt\u001b[39m.\u001b[39mxticks(rotation\u001b[39m=\u001b[39m\u001b[39m45\u001b[39m, fontsize\u001b[39m=\u001b[39m\u001b[39m10\u001b[39m)\n",
      "\u001b[1;31mNameError\u001b[0m: name 'sns' is not defined"
     ]
    }
   ],
   "source": [
    "sns.barplot(x='idempresa', y=\"prod_pet\", data=por_empr, palette=\"viridis\")\n",
    "plt.suptitle('Producción de petróleo por empresa')\n",
    "plt.xticks(rotation=45, fontsize=10)\n",
    "plt.show()"
   ]
  },
  {
   "cell_type": "code",
   "execution_count": null,
   "metadata": {},
   "outputs": [],
   "source": []
  }
 ],
 "metadata": {
  "kernelspec": {
   "display_name": "base",
   "language": "python",
   "name": "python3"
  },
  "language_info": {
   "codemirror_mode": {
    "name": "ipython",
    "version": 3
   },
   "file_extension": ".py",
   "mimetype": "text/x-python",
   "name": "python",
   "nbconvert_exporter": "python",
   "pygments_lexer": "ipython3",
   "version": "3.11.3"
  },
  "orig_nbformat": 4
 },
 "nbformat": 4,
 "nbformat_minor": 2
}
