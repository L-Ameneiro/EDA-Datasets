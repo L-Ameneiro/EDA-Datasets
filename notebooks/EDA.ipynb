{
 "cells": [
  {
   "cell_type": "markdown",
   "id": "165fa68d",
   "metadata": {},
   "source": [
    "# EDA"
   ]
  },
  {
   "cell_type": "markdown",
   "metadata": {},
   "source": [
    "##### Se explora, analiza y procesan los datos para comprender la problemática y posteriormente realizar el modelado. "
   ]
  },
  {
   "cell_type": "code",
   "execution_count": 275,
   "metadata": {},
   "outputs": [],
   "source": [
    "# Se importan las librerías a utilizar:\n",
    "import pandas as pd\n",
    "import numpy as np\n",
    "import matplotlib.pyplot as plt\n",
    "import seaborn as sns\n",
    "import plotly.express as px\n",
    "import plotly.graph_objects as go\n"
   ]
  },
  {
   "cell_type": "code",
   "execution_count": 276,
   "metadata": {},
   "outputs": [],
   "source": [
    "#  Se ajustan algunas opciones de visualización de pandas para cambiar la forma en que se muestran los datos.\n",
    "pd.set_option('display.max_rows', 500)\n",
    "pd.set_option('display.max_columns', 500)\n",
    "pd.set_option('display.width', 150)"
   ]
  },
  {
   "cell_type": "code",
   "execution_count": 277,
   "metadata": {},
   "outputs": [],
   "source": [
    "# Se importa el dataset\n",
    "wec = pd.read_csv(r'..\\\\datasets\\\\World_Energy_Consumption.csv')  "
   ]
  },
  {
   "cell_type": "markdown",
   "metadata": {},
   "source": [
    "## Limpieza y procesamiento general"
   ]
  },
  {
   "cell_type": "code",
   "execution_count": 278,
   "metadata": {},
   "outputs": [
    {
     "name": "stdout",
     "output_type": "stream",
     "text": [
      "<class 'pandas.core.frame.DataFrame'>\n",
      "RangeIndex: 17432 entries, 0 to 17431\n",
      "Columns: 122 entries, iso_code to wind_energy_per_capita\n",
      "dtypes: float64(119), int64(1), object(2)\n",
      "memory usage: 16.2+ MB\n"
     ]
    }
   ],
   "source": [
    "# Se observan los tipos de datos\n",
    "wec.info()"
   ]
  },
  {
   "cell_type": "code",
   "execution_count": 279,
   "metadata": {},
   "outputs": [
    {
     "data": {
      "text/html": [
       "<div>\n",
       "<style scoped>\n",
       "    .dataframe tbody tr th:only-of-type {\n",
       "        vertical-align: middle;\n",
       "    }\n",
       "\n",
       "    .dataframe tbody tr th {\n",
       "        vertical-align: top;\n",
       "    }\n",
       "\n",
       "    .dataframe thead th {\n",
       "        text-align: right;\n",
       "    }\n",
       "</style>\n",
       "<table border=\"1\" class=\"dataframe\">\n",
       "  <thead>\n",
       "    <tr style=\"text-align: right;\">\n",
       "      <th></th>\n",
       "      <th>iso_code</th>\n",
       "      <th>country</th>\n",
       "      <th>year</th>\n",
       "      <th>coal_prod_change_pct</th>\n",
       "      <th>coal_prod_change_twh</th>\n",
       "      <th>gas_prod_change_pct</th>\n",
       "      <th>gas_prod_change_twh</th>\n",
       "      <th>oil_prod_change_pct</th>\n",
       "      <th>oil_prod_change_twh</th>\n",
       "      <th>energy_cons_change_pct</th>\n",
       "      <th>energy_cons_change_twh</th>\n",
       "      <th>biofuel_share_elec</th>\n",
       "      <th>biofuel_elec_per_capita</th>\n",
       "      <th>biofuel_cons_change_pct</th>\n",
       "      <th>biofuel_share_energy</th>\n",
       "      <th>biofuel_cons_change_twh</th>\n",
       "      <th>biofuel_consumption</th>\n",
       "      <th>biofuel_cons_per_capita</th>\n",
       "      <th>carbon_intensity_elec</th>\n",
       "      <th>coal_share_elec</th>\n",
       "      <th>coal_cons_change_pct</th>\n",
       "      <th>coal_share_energy</th>\n",
       "      <th>coal_cons_change_twh</th>\n",
       "      <th>coal_consumption</th>\n",
       "      <th>coal_elec_per_capita</th>\n",
       "      <th>coal_cons_per_capita</th>\n",
       "      <th>coal_production</th>\n",
       "      <th>coal_prod_per_capita</th>\n",
       "      <th>electricity_generation</th>\n",
       "      <th>biofuel_electricity</th>\n",
       "      <th>coal_electricity</th>\n",
       "      <th>fossil_electricity</th>\n",
       "      <th>gas_electricity</th>\n",
       "      <th>hydro_electricity</th>\n",
       "      <th>nuclear_electricity</th>\n",
       "      <th>oil_electricity</th>\n",
       "      <th>other_renewable_electricity</th>\n",
       "      <th>other_renewable_exc_biofuel_electricity</th>\n",
       "      <th>renewables_electricity</th>\n",
       "      <th>solar_electricity</th>\n",
       "      <th>wind_electricity</th>\n",
       "      <th>energy_per_gdp</th>\n",
       "      <th>energy_per_capita</th>\n",
       "      <th>fossil_cons_change_pct</th>\n",
       "      <th>fossil_share_energy</th>\n",
       "      <th>fossil_cons_change_twh</th>\n",
       "      <th>fossil_fuel_consumption</th>\n",
       "      <th>fossil_energy_per_capita</th>\n",
       "      <th>fossil_cons_per_capita</th>\n",
       "      <th>fossil_share_elec</th>\n",
       "      <th>gas_share_elec</th>\n",
       "      <th>gas_cons_change_pct</th>\n",
       "      <th>gas_share_energy</th>\n",
       "      <th>gas_cons_change_twh</th>\n",
       "      <th>gas_consumption</th>\n",
       "      <th>gas_elec_per_capita</th>\n",
       "      <th>gas_energy_per_capita</th>\n",
       "      <th>gas_production</th>\n",
       "      <th>gas_prod_per_capita</th>\n",
       "      <th>hydro_share_elec</th>\n",
       "      <th>hydro_cons_change_pct</th>\n",
       "      <th>hydro_share_energy</th>\n",
       "      <th>hydro_cons_change_twh</th>\n",
       "      <th>hydro_consumption</th>\n",
       "      <th>hydro_elec_per_capita</th>\n",
       "      <th>hydro_energy_per_capita</th>\n",
       "      <th>low_carbon_share_elec</th>\n",
       "      <th>low_carbon_electricity</th>\n",
       "      <th>low_carbon_elec_per_capita</th>\n",
       "      <th>low_carbon_cons_change_pct</th>\n",
       "      <th>low_carbon_share_energy</th>\n",
       "      <th>low_carbon_cons_change_twh</th>\n",
       "      <th>low_carbon_consumption</th>\n",
       "      <th>low_carbon_energy_per_capita</th>\n",
       "      <th>nuclear_share_elec</th>\n",
       "      <th>nuclear_cons_change_pct</th>\n",
       "      <th>nuclear_share_energy</th>\n",
       "      <th>nuclear_cons_change_twh</th>\n",
       "      <th>nuclear_consumption</th>\n",
       "      <th>nuclear_elec_per_capita</th>\n",
       "      <th>nuclear_energy_per_capita</th>\n",
       "      <th>oil_share_elec</th>\n",
       "      <th>oil_cons_change_pct</th>\n",
       "      <th>oil_share_energy</th>\n",
       "      <th>oil_cons_change_twh</th>\n",
       "      <th>oil_consumption</th>\n",
       "      <th>oil_elec_per_capita</th>\n",
       "      <th>oil_energy_per_capita</th>\n",
       "      <th>oil_production</th>\n",
       "      <th>oil_prod_per_capita</th>\n",
       "      <th>other_renewables_elec_per_capita</th>\n",
       "      <th>other_renewables_share_elec</th>\n",
       "      <th>other_renewables_cons_change_pct</th>\n",
       "      <th>other_renewables_share_energy</th>\n",
       "      <th>other_renewables_cons_change_twh</th>\n",
       "      <th>other_renewable_consumption</th>\n",
       "      <th>other_renewables_energy_per_capita</th>\n",
       "      <th>per_capita_electricity</th>\n",
       "      <th>population</th>\n",
       "      <th>primary_energy_consumption</th>\n",
       "      <th>renewables_elec_per_capita</th>\n",
       "      <th>renewables_share_elec</th>\n",
       "      <th>renewables_cons_change_pct</th>\n",
       "      <th>renewables_share_energy</th>\n",
       "      <th>renewables_cons_change_twh</th>\n",
       "      <th>renewables_consumption</th>\n",
       "      <th>renewables_energy_per_capita</th>\n",
       "      <th>solar_share_elec</th>\n",
       "      <th>solar_cons_change_pct</th>\n",
       "      <th>solar_share_energy</th>\n",
       "      <th>solar_cons_change_twh</th>\n",
       "      <th>solar_consumption</th>\n",
       "      <th>solar_elec_per_capita</th>\n",
       "      <th>solar_energy_per_capita</th>\n",
       "      <th>gdp</th>\n",
       "      <th>wind_share_elec</th>\n",
       "      <th>wind_cons_change_pct</th>\n",
       "      <th>wind_share_energy</th>\n",
       "      <th>wind_cons_change_twh</th>\n",
       "      <th>wind_consumption</th>\n",
       "      <th>wind_elec_per_capita</th>\n",
       "      <th>wind_energy_per_capita</th>\n",
       "    </tr>\n",
       "  </thead>\n",
       "  <tbody>\n",
       "    <tr>\n",
       "      <th>0</th>\n",
       "      <td>AFG</td>\n",
       "      <td>Afghanistan</td>\n",
       "      <td>1900</td>\n",
       "      <td>NaN</td>\n",
       "      <td>NaN</td>\n",
       "      <td>NaN</td>\n",
       "      <td>NaN</td>\n",
       "      <td>NaN</td>\n",
       "      <td>NaN</td>\n",
       "      <td>NaN</td>\n",
       "      <td>NaN</td>\n",
       "      <td>NaN</td>\n",
       "      <td>NaN</td>\n",
       "      <td>NaN</td>\n",
       "      <td>NaN</td>\n",
       "      <td>NaN</td>\n",
       "      <td>NaN</td>\n",
       "      <td>NaN</td>\n",
       "      <td>NaN</td>\n",
       "      <td>NaN</td>\n",
       "      <td>NaN</td>\n",
       "      <td>NaN</td>\n",
       "      <td>NaN</td>\n",
       "      <td>NaN</td>\n",
       "      <td>NaN</td>\n",
       "      <td>NaN</td>\n",
       "      <td>0.0</td>\n",
       "      <td>0.0</td>\n",
       "      <td>NaN</td>\n",
       "      <td>NaN</td>\n",
       "      <td>NaN</td>\n",
       "      <td>NaN</td>\n",
       "      <td>NaN</td>\n",
       "      <td>NaN</td>\n",
       "      <td>NaN</td>\n",
       "      <td>NaN</td>\n",
       "      <td>NaN</td>\n",
       "      <td>NaN</td>\n",
       "      <td>NaN</td>\n",
       "      <td>NaN</td>\n",
       "      <td>NaN</td>\n",
       "      <td>NaN</td>\n",
       "      <td>NaN</td>\n",
       "      <td>NaN</td>\n",
       "      <td>NaN</td>\n",
       "      <td>NaN</td>\n",
       "      <td>NaN</td>\n",
       "      <td>NaN</td>\n",
       "      <td>NaN</td>\n",
       "      <td>NaN</td>\n",
       "      <td>NaN</td>\n",
       "      <td>NaN</td>\n",
       "      <td>NaN</td>\n",
       "      <td>NaN</td>\n",
       "      <td>NaN</td>\n",
       "      <td>NaN</td>\n",
       "      <td>NaN</td>\n",
       "      <td>NaN</td>\n",
       "      <td>NaN</td>\n",
       "      <td>NaN</td>\n",
       "      <td>NaN</td>\n",
       "      <td>NaN</td>\n",
       "      <td>NaN</td>\n",
       "      <td>NaN</td>\n",
       "      <td>NaN</td>\n",
       "      <td>NaN</td>\n",
       "      <td>NaN</td>\n",
       "      <td>NaN</td>\n",
       "      <td>NaN</td>\n",
       "      <td>NaN</td>\n",
       "      <td>NaN</td>\n",
       "      <td>NaN</td>\n",
       "      <td>NaN</td>\n",
       "      <td>NaN</td>\n",
       "      <td>NaN</td>\n",
       "      <td>NaN</td>\n",
       "      <td>NaN</td>\n",
       "      <td>NaN</td>\n",
       "      <td>NaN</td>\n",
       "      <td>NaN</td>\n",
       "      <td>NaN</td>\n",
       "      <td>NaN</td>\n",
       "      <td>NaN</td>\n",
       "      <td>NaN</td>\n",
       "      <td>NaN</td>\n",
       "      <td>NaN</td>\n",
       "      <td>NaN</td>\n",
       "      <td>NaN</td>\n",
       "      <td>NaN</td>\n",
       "      <td>NaN</td>\n",
       "      <td>NaN</td>\n",
       "      <td>NaN</td>\n",
       "      <td>NaN</td>\n",
       "      <td>NaN</td>\n",
       "      <td>NaN</td>\n",
       "      <td>NaN</td>\n",
       "      <td>NaN</td>\n",
       "      <td>NaN</td>\n",
       "      <td>5021241.0</td>\n",
       "      <td>NaN</td>\n",
       "      <td>NaN</td>\n",
       "      <td>NaN</td>\n",
       "      <td>NaN</td>\n",
       "      <td>NaN</td>\n",
       "      <td>NaN</td>\n",
       "      <td>NaN</td>\n",
       "      <td>NaN</td>\n",
       "      <td>NaN</td>\n",
       "      <td>NaN</td>\n",
       "      <td>NaN</td>\n",
       "      <td>NaN</td>\n",
       "      <td>NaN</td>\n",
       "      <td>NaN</td>\n",
       "      <td>NaN</td>\n",
       "      <td>NaN</td>\n",
       "      <td>NaN</td>\n",
       "      <td>NaN</td>\n",
       "      <td>NaN</td>\n",
       "      <td>NaN</td>\n",
       "      <td>NaN</td>\n",
       "      <td>NaN</td>\n",
       "      <td>NaN</td>\n",
       "    </tr>\n",
       "    <tr>\n",
       "      <th>1</th>\n",
       "      <td>AFG</td>\n",
       "      <td>Afghanistan</td>\n",
       "      <td>1901</td>\n",
       "      <td>NaN</td>\n",
       "      <td>0.0</td>\n",
       "      <td>NaN</td>\n",
       "      <td>NaN</td>\n",
       "      <td>NaN</td>\n",
       "      <td>NaN</td>\n",
       "      <td>NaN</td>\n",
       "      <td>NaN</td>\n",
       "      <td>NaN</td>\n",
       "      <td>NaN</td>\n",
       "      <td>NaN</td>\n",
       "      <td>NaN</td>\n",
       "      <td>NaN</td>\n",
       "      <td>NaN</td>\n",
       "      <td>NaN</td>\n",
       "      <td>NaN</td>\n",
       "      <td>NaN</td>\n",
       "      <td>NaN</td>\n",
       "      <td>NaN</td>\n",
       "      <td>NaN</td>\n",
       "      <td>NaN</td>\n",
       "      <td>NaN</td>\n",
       "      <td>NaN</td>\n",
       "      <td>0.0</td>\n",
       "      <td>0.0</td>\n",
       "      <td>NaN</td>\n",
       "      <td>NaN</td>\n",
       "      <td>NaN</td>\n",
       "      <td>NaN</td>\n",
       "      <td>NaN</td>\n",
       "      <td>NaN</td>\n",
       "      <td>NaN</td>\n",
       "      <td>NaN</td>\n",
       "      <td>NaN</td>\n",
       "      <td>NaN</td>\n",
       "      <td>NaN</td>\n",
       "      <td>NaN</td>\n",
       "      <td>NaN</td>\n",
       "      <td>NaN</td>\n",
       "      <td>NaN</td>\n",
       "      <td>NaN</td>\n",
       "      <td>NaN</td>\n",
       "      <td>NaN</td>\n",
       "      <td>NaN</td>\n",
       "      <td>NaN</td>\n",
       "      <td>NaN</td>\n",
       "      <td>NaN</td>\n",
       "      <td>NaN</td>\n",
       "      <td>NaN</td>\n",
       "      <td>NaN</td>\n",
       "      <td>NaN</td>\n",
       "      <td>NaN</td>\n",
       "      <td>NaN</td>\n",
       "      <td>NaN</td>\n",
       "      <td>NaN</td>\n",
       "      <td>NaN</td>\n",
       "      <td>NaN</td>\n",
       "      <td>NaN</td>\n",
       "      <td>NaN</td>\n",
       "      <td>NaN</td>\n",
       "      <td>NaN</td>\n",
       "      <td>NaN</td>\n",
       "      <td>NaN</td>\n",
       "      <td>NaN</td>\n",
       "      <td>NaN</td>\n",
       "      <td>NaN</td>\n",
       "      <td>NaN</td>\n",
       "      <td>NaN</td>\n",
       "      <td>NaN</td>\n",
       "      <td>NaN</td>\n",
       "      <td>NaN</td>\n",
       "      <td>NaN</td>\n",
       "      <td>NaN</td>\n",
       "      <td>NaN</td>\n",
       "      <td>NaN</td>\n",
       "      <td>NaN</td>\n",
       "      <td>NaN</td>\n",
       "      <td>NaN</td>\n",
       "      <td>NaN</td>\n",
       "      <td>NaN</td>\n",
       "      <td>NaN</td>\n",
       "      <td>NaN</td>\n",
       "      <td>NaN</td>\n",
       "      <td>NaN</td>\n",
       "      <td>NaN</td>\n",
       "      <td>NaN</td>\n",
       "      <td>NaN</td>\n",
       "      <td>NaN</td>\n",
       "      <td>NaN</td>\n",
       "      <td>NaN</td>\n",
       "      <td>NaN</td>\n",
       "      <td>NaN</td>\n",
       "      <td>NaN</td>\n",
       "      <td>NaN</td>\n",
       "      <td>NaN</td>\n",
       "      <td>5053439.0</td>\n",
       "      <td>NaN</td>\n",
       "      <td>NaN</td>\n",
       "      <td>NaN</td>\n",
       "      <td>NaN</td>\n",
       "      <td>NaN</td>\n",
       "      <td>NaN</td>\n",
       "      <td>NaN</td>\n",
       "      <td>NaN</td>\n",
       "      <td>NaN</td>\n",
       "      <td>NaN</td>\n",
       "      <td>NaN</td>\n",
       "      <td>NaN</td>\n",
       "      <td>NaN</td>\n",
       "      <td>NaN</td>\n",
       "      <td>NaN</td>\n",
       "      <td>NaN</td>\n",
       "      <td>NaN</td>\n",
       "      <td>NaN</td>\n",
       "      <td>NaN</td>\n",
       "      <td>NaN</td>\n",
       "      <td>NaN</td>\n",
       "      <td>NaN</td>\n",
       "      <td>NaN</td>\n",
       "    </tr>\n",
       "    <tr>\n",
       "      <th>2</th>\n",
       "      <td>AFG</td>\n",
       "      <td>Afghanistan</td>\n",
       "      <td>1902</td>\n",
       "      <td>NaN</td>\n",
       "      <td>0.0</td>\n",
       "      <td>NaN</td>\n",
       "      <td>NaN</td>\n",
       "      <td>NaN</td>\n",
       "      <td>NaN</td>\n",
       "      <td>NaN</td>\n",
       "      <td>NaN</td>\n",
       "      <td>NaN</td>\n",
       "      <td>NaN</td>\n",
       "      <td>NaN</td>\n",
       "      <td>NaN</td>\n",
       "      <td>NaN</td>\n",
       "      <td>NaN</td>\n",
       "      <td>NaN</td>\n",
       "      <td>NaN</td>\n",
       "      <td>NaN</td>\n",
       "      <td>NaN</td>\n",
       "      <td>NaN</td>\n",
       "      <td>NaN</td>\n",
       "      <td>NaN</td>\n",
       "      <td>NaN</td>\n",
       "      <td>NaN</td>\n",
       "      <td>0.0</td>\n",
       "      <td>0.0</td>\n",
       "      <td>NaN</td>\n",
       "      <td>NaN</td>\n",
       "      <td>NaN</td>\n",
       "      <td>NaN</td>\n",
       "      <td>NaN</td>\n",
       "      <td>NaN</td>\n",
       "      <td>NaN</td>\n",
       "      <td>NaN</td>\n",
       "      <td>NaN</td>\n",
       "      <td>NaN</td>\n",
       "      <td>NaN</td>\n",
       "      <td>NaN</td>\n",
       "      <td>NaN</td>\n",
       "      <td>NaN</td>\n",
       "      <td>NaN</td>\n",
       "      <td>NaN</td>\n",
       "      <td>NaN</td>\n",
       "      <td>NaN</td>\n",
       "      <td>NaN</td>\n",
       "      <td>NaN</td>\n",
       "      <td>NaN</td>\n",
       "      <td>NaN</td>\n",
       "      <td>NaN</td>\n",
       "      <td>NaN</td>\n",
       "      <td>NaN</td>\n",
       "      <td>NaN</td>\n",
       "      <td>NaN</td>\n",
       "      <td>NaN</td>\n",
       "      <td>NaN</td>\n",
       "      <td>NaN</td>\n",
       "      <td>NaN</td>\n",
       "      <td>NaN</td>\n",
       "      <td>NaN</td>\n",
       "      <td>NaN</td>\n",
       "      <td>NaN</td>\n",
       "      <td>NaN</td>\n",
       "      <td>NaN</td>\n",
       "      <td>NaN</td>\n",
       "      <td>NaN</td>\n",
       "      <td>NaN</td>\n",
       "      <td>NaN</td>\n",
       "      <td>NaN</td>\n",
       "      <td>NaN</td>\n",
       "      <td>NaN</td>\n",
       "      <td>NaN</td>\n",
       "      <td>NaN</td>\n",
       "      <td>NaN</td>\n",
       "      <td>NaN</td>\n",
       "      <td>NaN</td>\n",
       "      <td>NaN</td>\n",
       "      <td>NaN</td>\n",
       "      <td>NaN</td>\n",
       "      <td>NaN</td>\n",
       "      <td>NaN</td>\n",
       "      <td>NaN</td>\n",
       "      <td>NaN</td>\n",
       "      <td>NaN</td>\n",
       "      <td>NaN</td>\n",
       "      <td>NaN</td>\n",
       "      <td>NaN</td>\n",
       "      <td>NaN</td>\n",
       "      <td>NaN</td>\n",
       "      <td>NaN</td>\n",
       "      <td>NaN</td>\n",
       "      <td>NaN</td>\n",
       "      <td>NaN</td>\n",
       "      <td>NaN</td>\n",
       "      <td>NaN</td>\n",
       "      <td>NaN</td>\n",
       "      <td>NaN</td>\n",
       "      <td>5085403.0</td>\n",
       "      <td>NaN</td>\n",
       "      <td>NaN</td>\n",
       "      <td>NaN</td>\n",
       "      <td>NaN</td>\n",
       "      <td>NaN</td>\n",
       "      <td>NaN</td>\n",
       "      <td>NaN</td>\n",
       "      <td>NaN</td>\n",
       "      <td>NaN</td>\n",
       "      <td>NaN</td>\n",
       "      <td>NaN</td>\n",
       "      <td>NaN</td>\n",
       "      <td>NaN</td>\n",
       "      <td>NaN</td>\n",
       "      <td>NaN</td>\n",
       "      <td>NaN</td>\n",
       "      <td>NaN</td>\n",
       "      <td>NaN</td>\n",
       "      <td>NaN</td>\n",
       "      <td>NaN</td>\n",
       "      <td>NaN</td>\n",
       "      <td>NaN</td>\n",
       "      <td>NaN</td>\n",
       "    </tr>\n",
       "    <tr>\n",
       "      <th>3</th>\n",
       "      <td>AFG</td>\n",
       "      <td>Afghanistan</td>\n",
       "      <td>1903</td>\n",
       "      <td>NaN</td>\n",
       "      <td>0.0</td>\n",
       "      <td>NaN</td>\n",
       "      <td>NaN</td>\n",
       "      <td>NaN</td>\n",
       "      <td>NaN</td>\n",
       "      <td>NaN</td>\n",
       "      <td>NaN</td>\n",
       "      <td>NaN</td>\n",
       "      <td>NaN</td>\n",
       "      <td>NaN</td>\n",
       "      <td>NaN</td>\n",
       "      <td>NaN</td>\n",
       "      <td>NaN</td>\n",
       "      <td>NaN</td>\n",
       "      <td>NaN</td>\n",
       "      <td>NaN</td>\n",
       "      <td>NaN</td>\n",
       "      <td>NaN</td>\n",
       "      <td>NaN</td>\n",
       "      <td>NaN</td>\n",
       "      <td>NaN</td>\n",
       "      <td>NaN</td>\n",
       "      <td>0.0</td>\n",
       "      <td>0.0</td>\n",
       "      <td>NaN</td>\n",
       "      <td>NaN</td>\n",
       "      <td>NaN</td>\n",
       "      <td>NaN</td>\n",
       "      <td>NaN</td>\n",
       "      <td>NaN</td>\n",
       "      <td>NaN</td>\n",
       "      <td>NaN</td>\n",
       "      <td>NaN</td>\n",
       "      <td>NaN</td>\n",
       "      <td>NaN</td>\n",
       "      <td>NaN</td>\n",
       "      <td>NaN</td>\n",
       "      <td>NaN</td>\n",
       "      <td>NaN</td>\n",
       "      <td>NaN</td>\n",
       "      <td>NaN</td>\n",
       "      <td>NaN</td>\n",
       "      <td>NaN</td>\n",
       "      <td>NaN</td>\n",
       "      <td>NaN</td>\n",
       "      <td>NaN</td>\n",
       "      <td>NaN</td>\n",
       "      <td>NaN</td>\n",
       "      <td>NaN</td>\n",
       "      <td>NaN</td>\n",
       "      <td>NaN</td>\n",
       "      <td>NaN</td>\n",
       "      <td>NaN</td>\n",
       "      <td>NaN</td>\n",
       "      <td>NaN</td>\n",
       "      <td>NaN</td>\n",
       "      <td>NaN</td>\n",
       "      <td>NaN</td>\n",
       "      <td>NaN</td>\n",
       "      <td>NaN</td>\n",
       "      <td>NaN</td>\n",
       "      <td>NaN</td>\n",
       "      <td>NaN</td>\n",
       "      <td>NaN</td>\n",
       "      <td>NaN</td>\n",
       "      <td>NaN</td>\n",
       "      <td>NaN</td>\n",
       "      <td>NaN</td>\n",
       "      <td>NaN</td>\n",
       "      <td>NaN</td>\n",
       "      <td>NaN</td>\n",
       "      <td>NaN</td>\n",
       "      <td>NaN</td>\n",
       "      <td>NaN</td>\n",
       "      <td>NaN</td>\n",
       "      <td>NaN</td>\n",
       "      <td>NaN</td>\n",
       "      <td>NaN</td>\n",
       "      <td>NaN</td>\n",
       "      <td>NaN</td>\n",
       "      <td>NaN</td>\n",
       "      <td>NaN</td>\n",
       "      <td>NaN</td>\n",
       "      <td>NaN</td>\n",
       "      <td>NaN</td>\n",
       "      <td>NaN</td>\n",
       "      <td>NaN</td>\n",
       "      <td>NaN</td>\n",
       "      <td>NaN</td>\n",
       "      <td>NaN</td>\n",
       "      <td>NaN</td>\n",
       "      <td>NaN</td>\n",
       "      <td>NaN</td>\n",
       "      <td>NaN</td>\n",
       "      <td>5118005.0</td>\n",
       "      <td>NaN</td>\n",
       "      <td>NaN</td>\n",
       "      <td>NaN</td>\n",
       "      <td>NaN</td>\n",
       "      <td>NaN</td>\n",
       "      <td>NaN</td>\n",
       "      <td>NaN</td>\n",
       "      <td>NaN</td>\n",
       "      <td>NaN</td>\n",
       "      <td>NaN</td>\n",
       "      <td>NaN</td>\n",
       "      <td>NaN</td>\n",
       "      <td>NaN</td>\n",
       "      <td>NaN</td>\n",
       "      <td>NaN</td>\n",
       "      <td>NaN</td>\n",
       "      <td>NaN</td>\n",
       "      <td>NaN</td>\n",
       "      <td>NaN</td>\n",
       "      <td>NaN</td>\n",
       "      <td>NaN</td>\n",
       "      <td>NaN</td>\n",
       "      <td>NaN</td>\n",
       "    </tr>\n",
       "    <tr>\n",
       "      <th>4</th>\n",
       "      <td>AFG</td>\n",
       "      <td>Afghanistan</td>\n",
       "      <td>1904</td>\n",
       "      <td>NaN</td>\n",
       "      <td>0.0</td>\n",
       "      <td>NaN</td>\n",
       "      <td>NaN</td>\n",
       "      <td>NaN</td>\n",
       "      <td>NaN</td>\n",
       "      <td>NaN</td>\n",
       "      <td>NaN</td>\n",
       "      <td>NaN</td>\n",
       "      <td>NaN</td>\n",
       "      <td>NaN</td>\n",
       "      <td>NaN</td>\n",
       "      <td>NaN</td>\n",
       "      <td>NaN</td>\n",
       "      <td>NaN</td>\n",
       "      <td>NaN</td>\n",
       "      <td>NaN</td>\n",
       "      <td>NaN</td>\n",
       "      <td>NaN</td>\n",
       "      <td>NaN</td>\n",
       "      <td>NaN</td>\n",
       "      <td>NaN</td>\n",
       "      <td>NaN</td>\n",
       "      <td>0.0</td>\n",
       "      <td>0.0</td>\n",
       "      <td>NaN</td>\n",
       "      <td>NaN</td>\n",
       "      <td>NaN</td>\n",
       "      <td>NaN</td>\n",
       "      <td>NaN</td>\n",
       "      <td>NaN</td>\n",
       "      <td>NaN</td>\n",
       "      <td>NaN</td>\n",
       "      <td>NaN</td>\n",
       "      <td>NaN</td>\n",
       "      <td>NaN</td>\n",
       "      <td>NaN</td>\n",
       "      <td>NaN</td>\n",
       "      <td>NaN</td>\n",
       "      <td>NaN</td>\n",
       "      <td>NaN</td>\n",
       "      <td>NaN</td>\n",
       "      <td>NaN</td>\n",
       "      <td>NaN</td>\n",
       "      <td>NaN</td>\n",
       "      <td>NaN</td>\n",
       "      <td>NaN</td>\n",
       "      <td>NaN</td>\n",
       "      <td>NaN</td>\n",
       "      <td>NaN</td>\n",
       "      <td>NaN</td>\n",
       "      <td>NaN</td>\n",
       "      <td>NaN</td>\n",
       "      <td>NaN</td>\n",
       "      <td>NaN</td>\n",
       "      <td>NaN</td>\n",
       "      <td>NaN</td>\n",
       "      <td>NaN</td>\n",
       "      <td>NaN</td>\n",
       "      <td>NaN</td>\n",
       "      <td>NaN</td>\n",
       "      <td>NaN</td>\n",
       "      <td>NaN</td>\n",
       "      <td>NaN</td>\n",
       "      <td>NaN</td>\n",
       "      <td>NaN</td>\n",
       "      <td>NaN</td>\n",
       "      <td>NaN</td>\n",
       "      <td>NaN</td>\n",
       "      <td>NaN</td>\n",
       "      <td>NaN</td>\n",
       "      <td>NaN</td>\n",
       "      <td>NaN</td>\n",
       "      <td>NaN</td>\n",
       "      <td>NaN</td>\n",
       "      <td>NaN</td>\n",
       "      <td>NaN</td>\n",
       "      <td>NaN</td>\n",
       "      <td>NaN</td>\n",
       "      <td>NaN</td>\n",
       "      <td>NaN</td>\n",
       "      <td>NaN</td>\n",
       "      <td>NaN</td>\n",
       "      <td>NaN</td>\n",
       "      <td>NaN</td>\n",
       "      <td>NaN</td>\n",
       "      <td>NaN</td>\n",
       "      <td>NaN</td>\n",
       "      <td>NaN</td>\n",
       "      <td>NaN</td>\n",
       "      <td>NaN</td>\n",
       "      <td>NaN</td>\n",
       "      <td>NaN</td>\n",
       "      <td>NaN</td>\n",
       "      <td>NaN</td>\n",
       "      <td>5150814.0</td>\n",
       "      <td>NaN</td>\n",
       "      <td>NaN</td>\n",
       "      <td>NaN</td>\n",
       "      <td>NaN</td>\n",
       "      <td>NaN</td>\n",
       "      <td>NaN</td>\n",
       "      <td>NaN</td>\n",
       "      <td>NaN</td>\n",
       "      <td>NaN</td>\n",
       "      <td>NaN</td>\n",
       "      <td>NaN</td>\n",
       "      <td>NaN</td>\n",
       "      <td>NaN</td>\n",
       "      <td>NaN</td>\n",
       "      <td>NaN</td>\n",
       "      <td>NaN</td>\n",
       "      <td>NaN</td>\n",
       "      <td>NaN</td>\n",
       "      <td>NaN</td>\n",
       "      <td>NaN</td>\n",
       "      <td>NaN</td>\n",
       "      <td>NaN</td>\n",
       "      <td>NaN</td>\n",
       "    </tr>\n",
       "  </tbody>\n",
       "</table>\n",
       "</div>"
      ],
      "text/plain": [
       "  iso_code      country  year  coal_prod_change_pct  coal_prod_change_twh  gas_prod_change_pct  gas_prod_change_twh  oil_prod_change_pct  \\\n",
       "0      AFG  Afghanistan  1900                   NaN                   NaN                  NaN                  NaN                  NaN   \n",
       "1      AFG  Afghanistan  1901                   NaN                   0.0                  NaN                  NaN                  NaN   \n",
       "2      AFG  Afghanistan  1902                   NaN                   0.0                  NaN                  NaN                  NaN   \n",
       "3      AFG  Afghanistan  1903                   NaN                   0.0                  NaN                  NaN                  NaN   \n",
       "4      AFG  Afghanistan  1904                   NaN                   0.0                  NaN                  NaN                  NaN   \n",
       "\n",
       "   oil_prod_change_twh  energy_cons_change_pct  energy_cons_change_twh  biofuel_share_elec  biofuel_elec_per_capita  biofuel_cons_change_pct  \\\n",
       "0                  NaN                     NaN                     NaN                 NaN                      NaN                      NaN   \n",
       "1                  NaN                     NaN                     NaN                 NaN                      NaN                      NaN   \n",
       "2                  NaN                     NaN                     NaN                 NaN                      NaN                      NaN   \n",
       "3                  NaN                     NaN                     NaN                 NaN                      NaN                      NaN   \n",
       "4                  NaN                     NaN                     NaN                 NaN                      NaN                      NaN   \n",
       "\n",
       "   biofuel_share_energy  biofuel_cons_change_twh  biofuel_consumption  biofuel_cons_per_capita  carbon_intensity_elec  coal_share_elec  \\\n",
       "0                   NaN                      NaN                  NaN                      NaN                    NaN              NaN   \n",
       "1                   NaN                      NaN                  NaN                      NaN                    NaN              NaN   \n",
       "2                   NaN                      NaN                  NaN                      NaN                    NaN              NaN   \n",
       "3                   NaN                      NaN                  NaN                      NaN                    NaN              NaN   \n",
       "4                   NaN                      NaN                  NaN                      NaN                    NaN              NaN   \n",
       "\n",
       "   coal_cons_change_pct  coal_share_energy  coal_cons_change_twh  coal_consumption  coal_elec_per_capita  coal_cons_per_capita  coal_production  \\\n",
       "0                   NaN                NaN                   NaN               NaN                   NaN                   NaN              0.0   \n",
       "1                   NaN                NaN                   NaN               NaN                   NaN                   NaN              0.0   \n",
       "2                   NaN                NaN                   NaN               NaN                   NaN                   NaN              0.0   \n",
       "3                   NaN                NaN                   NaN               NaN                   NaN                   NaN              0.0   \n",
       "4                   NaN                NaN                   NaN               NaN                   NaN                   NaN              0.0   \n",
       "\n",
       "   coal_prod_per_capita  electricity_generation  biofuel_electricity  coal_electricity  fossil_electricity  gas_electricity  hydro_electricity  \\\n",
       "0                   0.0                     NaN                  NaN               NaN                 NaN              NaN                NaN   \n",
       "1                   0.0                     NaN                  NaN               NaN                 NaN              NaN                NaN   \n",
       "2                   0.0                     NaN                  NaN               NaN                 NaN              NaN                NaN   \n",
       "3                   0.0                     NaN                  NaN               NaN                 NaN              NaN                NaN   \n",
       "4                   0.0                     NaN                  NaN               NaN                 NaN              NaN                NaN   \n",
       "\n",
       "   nuclear_electricity  oil_electricity  other_renewable_electricity  other_renewable_exc_biofuel_electricity  renewables_electricity  \\\n",
       "0                  NaN              NaN                          NaN                                      NaN                     NaN   \n",
       "1                  NaN              NaN                          NaN                                      NaN                     NaN   \n",
       "2                  NaN              NaN                          NaN                                      NaN                     NaN   \n",
       "3                  NaN              NaN                          NaN                                      NaN                     NaN   \n",
       "4                  NaN              NaN                          NaN                                      NaN                     NaN   \n",
       "\n",
       "   solar_electricity  wind_electricity  energy_per_gdp  energy_per_capita  fossil_cons_change_pct  fossil_share_energy  fossil_cons_change_twh  \\\n",
       "0                NaN               NaN             NaN                NaN                     NaN                  NaN                     NaN   \n",
       "1                NaN               NaN             NaN                NaN                     NaN                  NaN                     NaN   \n",
       "2                NaN               NaN             NaN                NaN                     NaN                  NaN                     NaN   \n",
       "3                NaN               NaN             NaN                NaN                     NaN                  NaN                     NaN   \n",
       "4                NaN               NaN             NaN                NaN                     NaN                  NaN                     NaN   \n",
       "\n",
       "   fossil_fuel_consumption  fossil_energy_per_capita  fossil_cons_per_capita  fossil_share_elec  gas_share_elec  gas_cons_change_pct  \\\n",
       "0                      NaN                       NaN                     NaN                NaN             NaN                  NaN   \n",
       "1                      NaN                       NaN                     NaN                NaN             NaN                  NaN   \n",
       "2                      NaN                       NaN                     NaN                NaN             NaN                  NaN   \n",
       "3                      NaN                       NaN                     NaN                NaN             NaN                  NaN   \n",
       "4                      NaN                       NaN                     NaN                NaN             NaN                  NaN   \n",
       "\n",
       "   gas_share_energy  gas_cons_change_twh  gas_consumption  gas_elec_per_capita  gas_energy_per_capita  gas_production  gas_prod_per_capita  \\\n",
       "0               NaN                  NaN              NaN                  NaN                    NaN             NaN                  NaN   \n",
       "1               NaN                  NaN              NaN                  NaN                    NaN             NaN                  NaN   \n",
       "2               NaN                  NaN              NaN                  NaN                    NaN             NaN                  NaN   \n",
       "3               NaN                  NaN              NaN                  NaN                    NaN             NaN                  NaN   \n",
       "4               NaN                  NaN              NaN                  NaN                    NaN             NaN                  NaN   \n",
       "\n",
       "   hydro_share_elec  hydro_cons_change_pct  hydro_share_energy  hydro_cons_change_twh  hydro_consumption  hydro_elec_per_capita  \\\n",
       "0               NaN                    NaN                 NaN                    NaN                NaN                    NaN   \n",
       "1               NaN                    NaN                 NaN                    NaN                NaN                    NaN   \n",
       "2               NaN                    NaN                 NaN                    NaN                NaN                    NaN   \n",
       "3               NaN                    NaN                 NaN                    NaN                NaN                    NaN   \n",
       "4               NaN                    NaN                 NaN                    NaN                NaN                    NaN   \n",
       "\n",
       "   hydro_energy_per_capita  low_carbon_share_elec  low_carbon_electricity  low_carbon_elec_per_capita  low_carbon_cons_change_pct  \\\n",
       "0                      NaN                    NaN                     NaN                         NaN                         NaN   \n",
       "1                      NaN                    NaN                     NaN                         NaN                         NaN   \n",
       "2                      NaN                    NaN                     NaN                         NaN                         NaN   \n",
       "3                      NaN                    NaN                     NaN                         NaN                         NaN   \n",
       "4                      NaN                    NaN                     NaN                         NaN                         NaN   \n",
       "\n",
       "   low_carbon_share_energy  low_carbon_cons_change_twh  low_carbon_consumption  low_carbon_energy_per_capita  nuclear_share_elec  \\\n",
       "0                      NaN                         NaN                     NaN                           NaN                 NaN   \n",
       "1                      NaN                         NaN                     NaN                           NaN                 NaN   \n",
       "2                      NaN                         NaN                     NaN                           NaN                 NaN   \n",
       "3                      NaN                         NaN                     NaN                           NaN                 NaN   \n",
       "4                      NaN                         NaN                     NaN                           NaN                 NaN   \n",
       "\n",
       "   nuclear_cons_change_pct  nuclear_share_energy  nuclear_cons_change_twh  nuclear_consumption  nuclear_elec_per_capita  nuclear_energy_per_capita  \\\n",
       "0                      NaN                   NaN                      NaN                  NaN                      NaN                        NaN   \n",
       "1                      NaN                   NaN                      NaN                  NaN                      NaN                        NaN   \n",
       "2                      NaN                   NaN                      NaN                  NaN                      NaN                        NaN   \n",
       "3                      NaN                   NaN                      NaN                  NaN                      NaN                        NaN   \n",
       "4                      NaN                   NaN                      NaN                  NaN                      NaN                        NaN   \n",
       "\n",
       "   oil_share_elec  oil_cons_change_pct  oil_share_energy  oil_cons_change_twh  oil_consumption  oil_elec_per_capita  oil_energy_per_capita  \\\n",
       "0             NaN                  NaN               NaN                  NaN              NaN                  NaN                    NaN   \n",
       "1             NaN                  NaN               NaN                  NaN              NaN                  NaN                    NaN   \n",
       "2             NaN                  NaN               NaN                  NaN              NaN                  NaN                    NaN   \n",
       "3             NaN                  NaN               NaN                  NaN              NaN                  NaN                    NaN   \n",
       "4             NaN                  NaN               NaN                  NaN              NaN                  NaN                    NaN   \n",
       "\n",
       "   oil_production  oil_prod_per_capita  other_renewables_elec_per_capita  other_renewables_share_elec  other_renewables_cons_change_pct  \\\n",
       "0             NaN                  NaN                               NaN                          NaN                               NaN   \n",
       "1             NaN                  NaN                               NaN                          NaN                               NaN   \n",
       "2             NaN                  NaN                               NaN                          NaN                               NaN   \n",
       "3             NaN                  NaN                               NaN                          NaN                               NaN   \n",
       "4             NaN                  NaN                               NaN                          NaN                               NaN   \n",
       "\n",
       "   other_renewables_share_energy  other_renewables_cons_change_twh  other_renewable_consumption  other_renewables_energy_per_capita  \\\n",
       "0                            NaN                               NaN                          NaN                                 NaN   \n",
       "1                            NaN                               NaN                          NaN                                 NaN   \n",
       "2                            NaN                               NaN                          NaN                                 NaN   \n",
       "3                            NaN                               NaN                          NaN                                 NaN   \n",
       "4                            NaN                               NaN                          NaN                                 NaN   \n",
       "\n",
       "   per_capita_electricity  population  primary_energy_consumption  renewables_elec_per_capita  renewables_share_elec  renewables_cons_change_pct  \\\n",
       "0                     NaN   5021241.0                         NaN                         NaN                    NaN                         NaN   \n",
       "1                     NaN   5053439.0                         NaN                         NaN                    NaN                         NaN   \n",
       "2                     NaN   5085403.0                         NaN                         NaN                    NaN                         NaN   \n",
       "3                     NaN   5118005.0                         NaN                         NaN                    NaN                         NaN   \n",
       "4                     NaN   5150814.0                         NaN                         NaN                    NaN                         NaN   \n",
       "\n",
       "   renewables_share_energy  renewables_cons_change_twh  renewables_consumption  renewables_energy_per_capita  solar_share_elec  \\\n",
       "0                      NaN                         NaN                     NaN                           NaN               NaN   \n",
       "1                      NaN                         NaN                     NaN                           NaN               NaN   \n",
       "2                      NaN                         NaN                     NaN                           NaN               NaN   \n",
       "3                      NaN                         NaN                     NaN                           NaN               NaN   \n",
       "4                      NaN                         NaN                     NaN                           NaN               NaN   \n",
       "\n",
       "   solar_cons_change_pct  solar_share_energy  solar_cons_change_twh  solar_consumption  solar_elec_per_capita  solar_energy_per_capita  gdp  \\\n",
       "0                    NaN                 NaN                    NaN                NaN                    NaN                      NaN  NaN   \n",
       "1                    NaN                 NaN                    NaN                NaN                    NaN                      NaN  NaN   \n",
       "2                    NaN                 NaN                    NaN                NaN                    NaN                      NaN  NaN   \n",
       "3                    NaN                 NaN                    NaN                NaN                    NaN                      NaN  NaN   \n",
       "4                    NaN                 NaN                    NaN                NaN                    NaN                      NaN  NaN   \n",
       "\n",
       "   wind_share_elec  wind_cons_change_pct  wind_share_energy  wind_cons_change_twh  wind_consumption  wind_elec_per_capita  wind_energy_per_capita  \n",
       "0              NaN                   NaN                NaN                   NaN               NaN                   NaN                     NaN  \n",
       "1              NaN                   NaN                NaN                   NaN               NaN                   NaN                     NaN  \n",
       "2              NaN                   NaN                NaN                   NaN               NaN                   NaN                     NaN  \n",
       "3              NaN                   NaN                NaN                   NaN               NaN                   NaN                     NaN  \n",
       "4              NaN                   NaN                NaN                   NaN               NaN                   NaN                     NaN  "
      ]
     },
     "execution_count": 279,
     "metadata": {},
     "output_type": "execute_result"
    }
   ],
   "source": [
    "# Se observan las 5 primeras filas del dataset\n",
    "wec.head(5)"
   ]
  },
  {
   "cell_type": "code",
   "execution_count": 280,
   "metadata": {},
   "outputs": [
    {
     "name": "stdout",
     "output_type": "stream",
     "text": [
      "<class 'pandas.core.frame.DataFrame'>\n",
      "RangeIndex: 17432 entries, 0 to 17431\n",
      "Columns: 122 entries, iso_code to wind_energy_per_capita\n",
      "dtypes: float64(119), int64(1), object(2)\n",
      "memory usage: 16.2+ MB\n"
     ]
    }
   ],
   "source": [
    "wec.info()"
   ]
  },
  {
   "cell_type": "code",
   "execution_count": 281,
   "metadata": {},
   "outputs": [
    {
     "data": {
      "text/plain": [
       "0        False\n",
       "1        False\n",
       "2        False\n",
       "3        False\n",
       "4        False\n",
       "         ...  \n",
       "17427    False\n",
       "17428    False\n",
       "17429    False\n",
       "17430    False\n",
       "17431    False\n",
       "Length: 17432, dtype: bool"
      ]
     },
     "execution_count": 281,
     "metadata": {},
     "output_type": "execute_result"
    }
   ],
   "source": [
    "# Se verifica que no hayan filas duplicadas.\n",
    "wec.duplicated()"
   ]
  },
  {
   "cell_type": "code",
   "execution_count": 282,
   "metadata": {},
   "outputs": [
    {
     "name": "stdout",
     "output_type": "stream",
     "text": [
      "Hay filas sin valor en la columna 'iso_code'.\n"
     ]
    }
   ],
   "source": [
    "# Se consultan valores faltantes en la columna iso_code\n",
    "valores_nulos1 = wec['iso_code'].isnull().any()\n",
    "if valores_nulos1:\n",
    "    print(\"Hay filas sin valor en la columna 'iso_code'.\")\n",
    "else:\n",
    "    print(\"Todas las filas tienen un valor en la columna 'iso_code'.\")"
   ]
  },
  {
   "cell_type": "markdown",
   "metadata": {},
   "source": [
    "##### Se descartan las filas correspondientes a regiones y continentes, así como a países actualmente inexistentes (Yugoslavia, Checoslovaquia etc.) <br>\n",
    "##### Por exploración previa del dataset se sabe que las regiones, continentes y países inexistentes poseen iso_code nulo, ya que no cuentan con código ISO. Por lo tanto, este criterio será el primer filtro para el tratamiento de los valores nulos. "
   ]
  },
  {
   "cell_type": "code",
   "execution_count": 283,
   "metadata": {},
   "outputs": [],
   "source": [
    "# Se filtan las filas del DataFrame, donde el valor en la columna \"iso_code\" no es nulo.\n",
    "wec = wec[~wec[\"iso_code\"].isnull()]\n",
    "wec = wec[~(wec[\"country\"] == \"World\")]"
   ]
  },
  {
   "cell_type": "markdown",
   "metadata": {},
   "source": [
    "##### Se modifican las unidades de la columna \"gdp\" (PBI) para que esté en miles de millones de dólares y \"population\" (población) para que quede en millones de personas, para facilitar la dimensión de la unidad:"
   ]
  },
  {
   "cell_type": "code",
   "execution_count": 284,
   "metadata": {},
   "outputs": [],
   "source": [
    "# Se escalan las columnas\n",
    "wec[\"gdp\"] = wec[\"gdp\"]/10**9\n",
    "wec[\"population\"] = wec[\"population\"]/10**6"
   ]
  },
  {
   "cell_type": "code",
   "execution_count": 285,
   "metadata": {},
   "outputs": [
    {
     "data": {
      "image/png": "[encoded data removed]",
      "text/plain": [
       "<Figure size 1500x600 with 1 Axes>"
      ]
     },
     "metadata": {},
     "output_type": "display_data"
    }
   ],
   "source": [
    "# Se visualizan de valores faltantes\n",
    "plt.figure(figsize=(15, 6))\n",
    "sns.heatmap(wec.isnull(), cmap='viridis', cbar=False)\n",
    "plt.title('Valores Faltantes en el DataFrame')\n",
    "plt.xlabel('columnas')\n",
    "plt.show()"
   ]
  },
  {
   "cell_type": "markdown",
   "metadata": {},
   "source": [
    "##### Se observa que el dataset posee gran cantidad de valores nulos. Y se planterá la metodología para la imputación de datos. "
   ]
  },
  {
   "cell_type": "markdown",
   "metadata": {},
   "source": [
    "## Se asigna continente a cada país"
   ]
  },
  {
   "cell_type": "code",
   "execution_count": 286,
   "metadata": {},
   "outputs": [],
   "source": [
    "# Se realiza un mapeo entre códigos ISO y continentes.\n",
    "iso_to_continent = {\n",
    "    'DZA': 'África', 'AGO': 'África', 'BEN': 'África', 'BWA': 'África', 'BFA': 'África', 'BDI': 'África', 'CMR': 'África', 'CPV': 'África', 'CAF': 'África', 'TCD': 'África', 'COM': 'África', 'COD': 'África', 'DJI': 'África', 'EGY': 'África', 'GNQ': 'África', 'ERI': 'África', 'ETH': 'África', 'GAB': 'África', 'GMB': 'África', 'GHA': 'África', 'GIN': 'África', 'GNB': 'África', 'CIV': 'África', 'KEN': 'África', 'LSO': 'África', 'LBR': 'África', 'LBY': 'África', 'MDG': 'África', 'MWI': 'África', 'MLI': 'África', 'MRT': 'África', 'MUS': 'África', 'MYT': 'África', 'MAR': 'África', 'MOZ': 'África', 'NAM': 'África', 'NER': 'África', 'NGA': 'África', 'COG': 'África', 'REU': 'África', 'RWA': 'África', 'SHN': 'África', 'STP': 'África', 'SEN': 'África', 'SYC': 'África', 'SLE': 'África', 'SOM': 'África', 'ZAF': 'África', 'SSD': 'África', 'SDN': 'África', 'SWZ': 'África', 'TZA': 'África', 'TGO': 'África', 'TUN': 'África', 'UGA': 'África', 'ESH': 'África', 'ZMB': 'África', 'ZWE': 'África',\n",
    "    'AFG': 'Asia', 'ARM': 'Asia', 'AZE': 'Asia', 'BHR': 'Asia', 'BGD': 'Asia', 'BTN': 'Asia', 'IOT': 'Asia', 'BRN': 'Asia', 'KHM': 'Asia', 'CHN': 'Asia', 'CCK': 'Asia', 'GEO': 'Asia', 'HKG': 'Asia', 'IND': 'Asia', 'IDN': 'Asia', 'IRN': 'Asia', 'IRQ': 'Asia', 'ISR': 'Asia', 'JPN': 'Asia', 'JOR': 'Asia', 'KAZ': 'Asia', 'KWT': 'Asia', 'KGZ': 'Asia', 'LAO': 'Asia', 'LBN': 'Asia', 'MAC': 'Asia', 'MYS': 'Asia', 'MDV': 'Asia', 'MNG': 'Asia', 'MMR': 'Asia', 'NPL': 'Asia', 'PRK': 'Asia', 'OMN': 'Asia', 'PAK': 'Asia', 'PSE': 'Asia', 'PHL': 'Asia', 'QAT': 'Asia', 'SAU': 'Asia', 'SGP': 'Asia', 'KOR': 'Asia', 'LKA': 'Asia', 'SYR': 'Asia', 'TWN': 'Asia', 'TJK': 'Asia', 'THA': 'Asia', 'TUR': 'Asia', 'TKM': 'Asia', 'ARE': 'Asia', 'UZB': 'Asia', 'VNM': 'Asia', 'YEM': 'Asia',\n",
    "    'ALA': 'Europa', 'ALB': 'Europa', 'AND': 'Europa', 'AUT': 'Europa', 'BLR': 'Europa', 'BEL': 'Europa', 'BIH': 'Europa', 'BGR': 'Europa', 'HRV': 'Europa', 'CYP': 'Europa', 'CZE': 'Europa', 'DNK': 'Europa', 'EST': 'Europa', 'FRO': 'Europa', 'FIN': 'Europa', 'FRA': 'Europa', 'DEU': 'Europa', 'GIB': 'Europa', 'GRC': 'Europa', 'GGY': 'Europa', 'HUN': 'Europa', 'ISL': 'Europa', 'IRL': 'Europa', 'IMN': 'Europa', 'ITA': 'Europa', 'JEY': 'Europa', 'XKX': 'Europa', 'LVA': 'Europa', 'LIE': 'Europa', 'LTU': 'Europa', 'LUX': 'Europa', 'MKD': 'Europa', 'MLT': 'Europa', 'MDA': 'Europa', 'MCO': 'Europa', 'MNE': 'Europa', 'NLD': 'Europa', 'NOR': 'Europa', 'OWID_KOS': 'Europa', 'POL': 'Europa', 'PRT': 'Europa', 'ROU': 'Europa', 'RUS': 'Europa', 'SMR': 'Europa', 'SRB': 'Europa', 'SCG': 'Europa', 'SVK': 'Europa', 'SVN': 'Europa', 'ESP': 'Europa', 'SJM': 'Europa', 'SWE': 'Europa', 'CHE': 'Europa', 'UKR': 'Europa', 'GBR': 'Europa', 'VAT': 'Europa',\n",
    "    'AIA': 'Norteamérica', 'ATG': 'Norteamérica', 'ABW': 'Norteamérica', 'BRB': 'Norteamérica', 'BLZ': 'Norteamérica', 'BMU': 'Norteamérica', 'BES': 'Norteamérica', 'VGB': 'Norteamérica', 'CAN': 'Norteamérica', 'CYM': 'Norteamérica', 'CRI': 'Norteamérica', 'CUB': 'Norteamérica', 'CUW': 'Norteamérica', 'DMA': 'Norteamérica', 'DOM': 'Norteamérica', 'SLV': 'Norteamérica', 'GRL': 'Norteamérica', 'GRD': 'Norteamérica', 'GLP': 'Norteamérica', 'GTM': 'Norteamérica', 'HTI': 'Norteamérica', 'HND': 'Norteamérica', 'JAM': 'Norteamérica', 'MTQ': 'Norteamérica', 'MEX': 'Norteamérica', 'MSR': 'Norteamérica', 'ANT': 'Norteamérica', 'NIC': 'Norteamérica', 'PAN': 'Norteamérica', 'PRI': 'Norteamérica', 'BLM': 'Norteamérica', 'KNA': 'Norteamérica', 'LCA': 'Norteamérica', 'MAF': 'Norteamérica', 'SPM': 'Norteamérica', 'VCT': 'Norteamérica', 'SXM': 'Norteamérica', 'BHS': 'Norteamérica', 'TTO': 'Sudamérica', 'TCA': 'Norteamérica', 'USA': 'Norteamérica', 'VIR': 'Norteamérica',\n",
    "    'ARG': 'Sudamérica', 'BOL': 'Sudamérica', 'BRA': 'Sudamérica', 'CHL': 'Sudamérica', 'COL': 'Sudamérica', 'ECU': 'Sudamérica', 'FLK': 'Sudamérica', 'GUF': 'Sudamérica', 'GUY': 'Sudamérica', 'PRY': 'Sudamérica', 'PER': 'Sudamérica', 'SUR': 'Sudamérica', 'URY': 'Sudamérica', 'VEN': 'Sudamérica',\n",
    "    'ASM': 'Oceanía', 'AUS': 'Oceanía', 'CXR': 'Oceanía', 'COK': 'Oceanía', 'FJI': 'Oceanía', 'PYF': 'Oceanía', 'GUM': 'Oceanía', 'KIR': 'Oceanía', 'MHL': 'Oceanía', 'FSM': 'Oceanía', 'NRU': 'Oceanía', 'NCL': 'Oceanía', 'NZL': 'Oceanía', 'NIU': 'Oceanía', 'NFK': 'Oceanía', 'MNP': 'Oceanía', 'PLW': 'Oceanía', 'PNG': 'Oceanía', 'PCN': 'Oceanía', 'WSM': 'Oceanía', 'SLB': 'Oceanía', 'TLS': 'Oceanía', 'TKL': 'Oceanía', 'TON': 'Oceanía', 'TUV': 'Oceanía', 'VUT': 'Oceanía', 'WLF': 'Oceanía'\n",
    "}"
   ]
  },
  {
   "cell_type": "code",
   "execution_count": 287,
   "metadata": {},
   "outputs": [],
   "source": [
    "wec['continente'] = wec['iso_code'].map(iso_to_continent)"
   ]
  },
  {
   "cell_type": "code",
   "execution_count": 288,
   "metadata": {},
   "outputs": [
    {
     "data": {
      "text/plain": [
       "0"
      ]
     },
     "execution_count": 288,
     "metadata": {},
     "output_type": "execute_result"
    }
   ],
   "source": [
    "# Se verifica que no quedaron filas sin continente asignado.\n",
    "wec['continente'].isnull().sum()"
   ]
  },
  {
   "cell_type": "code",
   "execution_count": 289,
   "metadata": {},
   "outputs": [
    {
     "data": {
      "text/plain": [
       "biofuel_cons_change_pct                    15088\n",
       "carbon_intensity_elec                      14921\n",
       "solar_cons_change_pct                      14309\n",
       "nuclear_cons_change_pct                    14184\n",
       "wind_cons_change_pct                       14110\n",
       "other_renewables_cons_change_pct           13393\n",
       "hydro_cons_change_pct                      12061\n",
       "gas_cons_change_pct                        12021\n",
       "coal_cons_change_pct                       11963\n",
       "renewables_cons_change_pct                 11897\n",
       "low_carbon_cons_change_pct                 11890\n",
       "fossil_cons_change_pct                     11524\n",
       "oil_cons_change_twh                        11524\n",
       "oil_cons_change_pct                        11524\n",
       "fossil_cons_change_twh                     11524\n",
       "nuclear_cons_change_twh                    11518\n",
       "low_carbon_cons_change_twh                 11518\n",
       "coal_cons_change_twh                       11518\n",
       "wind_cons_change_twh                       11518\n",
       "gas_cons_change_twh                        11518\n",
       "other_renewables_cons_change_twh           11518\n",
       "renewables_cons_change_twh                 11518\n",
       "solar_cons_change_twh                      11518\n",
       "hydro_cons_change_twh                      11518\n",
       "gas_prod_change_pct                        11482\n",
       "gas_share_energy                           11445\n",
       "fossil_energy_per_capita                   11445\n",
       "fossil_fuel_consumption                    11445\n",
       "oil_share_energy                           11445\n",
       "low_carbon_share_energy                    11445\n",
       "nuclear_share_energy                       11445\n",
       "oil_consumption                            11445\n",
       "oil_energy_per_capita                      11445\n",
       "other_renewables_share_energy              11445\n",
       "renewables_share_energy                    11445\n",
       "solar_share_energy                         11445\n",
       "wind_share_energy                          11445\n",
       "fossil_share_energy                        11445\n",
       "hydro_share_energy                         11445\n",
       "coal_share_energy                          11445\n",
       "biofuel_share_energy                       11445\n",
       "renewables_consumption                     11439\n",
       "hydro_consumption                          11439\n",
       "hydro_energy_per_capita                    11439\n",
       "wind_consumption                           11439\n",
       "coal_consumption                           11439\n",
       "renewables_energy_per_capita               11439\n",
       "gas_energy_per_capita                      11439\n",
       "nuclear_energy_per_capita                  11439\n",
       "gas_consumption                            11439\n",
       "nuclear_consumption                        11439\n",
       "other_renewables_energy_per_capita         11439\n",
       "other_renewable_consumption                11439\n",
       "low_carbon_consumption                     11439\n",
       "low_carbon_energy_per_capita               11439\n",
       "solar_consumption                          11439\n",
       "coal_cons_per_capita                       11439\n",
       "solar_energy_per_capita                    11439\n",
       "wind_energy_per_capita                     11439\n",
       "biofuel_elec_per_capita                    11361\n",
       "biofuel_share_elec                         11344\n",
       "other_renewable_exc_biofuel_electricity    11301\n",
       "biofuel_electricity                        11301\n",
       "coal_elec_per_capita                       10911\n",
       "gas_elec_per_capita                        10911\n",
       "oil_elec_per_capita                        10911\n",
       "fossil_cons_per_capita                     10911\n",
       "coal_share_elec                            10894\n",
       "oil_share_elec                             10894\n",
       "gas_share_elec                             10894\n",
       "fossil_share_elec                          10894\n",
       "coal_electricity                           10851\n",
       "fossil_electricity                         10851\n",
       "gas_electricity                            10851\n",
       "oil_electricity                            10851\n",
       "biofuel_cons_change_twh                    10282\n",
       "nuclear_elec_per_capita                    10171\n",
       "hydro_elec_per_capita                      10171\n",
       "per_capita_electricity                     10171\n",
       "low_carbon_elec_per_capita                 10171\n",
       "renewables_elec_per_capita                 10171\n",
       "other_renewables_elec_per_capita           10171\n",
       "wind_elec_per_capita                       10171\n",
       "solar_elec_per_capita                      10171\n",
       "biofuel_cons_per_capita                    10168\n",
       "biofuel_consumption                        10168\n",
       "renewables_share_elec                      10154\n",
       "solar_share_elec                           10154\n",
       "wind_share_elec                            10154\n",
       "other_renewables_share_elec                10154\n",
       "hydro_share_elec                           10154\n",
       "nuclear_share_elec                         10154\n",
       "low_carbon_share_elec                      10154\n",
       "solar_electricity                          10111\n",
       "hydro_electricity                          10111\n",
       "wind_electricity                           10111\n",
       "electricity_generation                     10111\n",
       "renewables_electricity                     10111\n",
       "other_renewable_electricity                10111\n",
       "low_carbon_electricity                     10111\n",
       "nuclear_electricity                        10111\n",
       "oil_prod_change_pct                         9992\n",
       "coal_prod_change_pct                        9106\n",
       "energy_per_gdp                              8674\n",
       "gas_prod_change_twh                         8575\n",
       "gas_prod_per_capita                         8429\n",
       "gas_production                              8420\n",
       "oil_prod_change_twh                         7987\n",
       "oil_prod_per_capita                         7865\n",
       "oil_production                              7856\n",
       "energy_cons_change_pct                      6913\n",
       "energy_cons_change_twh                      6863\n",
       "energy_per_capita                           6731\n",
       "primary_energy_consumption                  6648\n",
       "coal_prod_change_twh                        6195\n",
       "coal_prod_per_capita                        6109\n",
       "coal_production                             5982\n",
       "gdp                                         5212\n",
       "population                                   218\n",
       "iso_code                                       0\n",
       "country                                        0\n",
       "year                                           0\n",
       "continente                                     0\n",
       "dtype: int64"
      ]
     },
     "execution_count": 289,
     "metadata": {},
     "output_type": "execute_result"
    }
   ],
   "source": [
    "# Se observan cuántos valores faltantes tiene cada columna del dataframe: (ordenados de mayor a menor), de acuerdo a la columna \n",
    "missing_values = wec.isnull().sum().sort_values(ascending = False) \n",
    "missing_values"
   ]
  },
  {
   "cell_type": "markdown",
   "metadata": {},
   "source": [
    "## Características del dataset"
   ]
  },
  {
   "cell_type": "code",
   "execution_count": 290,
   "metadata": {},
   "outputs": [
    {
     "data": {
      "text/html": [
       "<div>\n",
       "<style scoped>\n",
       "    .dataframe tbody tr th:only-of-type {\n",
       "        vertical-align: middle;\n",
       "    }\n",
       "\n",
       "    .dataframe tbody tr th {\n",
       "        vertical-align: top;\n",
       "    }\n",
       "\n",
       "    .dataframe thead th {\n",
       "        text-align: right;\n",
       "    }\n",
       "</style>\n",
       "<table border=\"1\" class=\"dataframe\">\n",
       "  <thead>\n",
       "    <tr style=\"text-align: right;\">\n",
       "      <th></th>\n",
       "      <th>year</th>\n",
       "      <th>coal_prod_change_pct</th>\n",
       "      <th>coal_prod_change_twh</th>\n",
       "      <th>gas_prod_change_pct</th>\n",
       "      <th>gas_prod_change_twh</th>\n",
       "      <th>oil_prod_change_pct</th>\n",
       "      <th>oil_prod_change_twh</th>\n",
       "      <th>energy_cons_change_pct</th>\n",
       "      <th>energy_cons_change_twh</th>\n",
       "      <th>biofuel_share_elec</th>\n",
       "      <th>biofuel_elec_per_capita</th>\n",
       "      <th>biofuel_cons_change_pct</th>\n",
       "      <th>biofuel_share_energy</th>\n",
       "      <th>biofuel_cons_change_twh</th>\n",
       "      <th>biofuel_consumption</th>\n",
       "      <th>biofuel_cons_per_capita</th>\n",
       "      <th>carbon_intensity_elec</th>\n",
       "      <th>coal_share_elec</th>\n",
       "      <th>coal_cons_change_pct</th>\n",
       "      <th>coal_share_energy</th>\n",
       "      <th>coal_cons_change_twh</th>\n",
       "      <th>coal_consumption</th>\n",
       "      <th>coal_elec_per_capita</th>\n",
       "      <th>coal_cons_per_capita</th>\n",
       "      <th>coal_production</th>\n",
       "      <th>coal_prod_per_capita</th>\n",
       "      <th>electricity_generation</th>\n",
       "      <th>biofuel_electricity</th>\n",
       "      <th>coal_electricity</th>\n",
       "      <th>fossil_electricity</th>\n",
       "      <th>gas_electricity</th>\n",
       "      <th>hydro_electricity</th>\n",
       "      <th>nuclear_electricity</th>\n",
       "      <th>oil_electricity</th>\n",
       "      <th>other_renewable_electricity</th>\n",
       "      <th>other_renewable_exc_biofuel_electricity</th>\n",
       "      <th>renewables_electricity</th>\n",
       "      <th>solar_electricity</th>\n",
       "      <th>wind_electricity</th>\n",
       "      <th>energy_per_gdp</th>\n",
       "      <th>energy_per_capita</th>\n",
       "      <th>fossil_cons_change_pct</th>\n",
       "      <th>fossil_share_energy</th>\n",
       "      <th>fossil_cons_change_twh</th>\n",
       "      <th>fossil_fuel_consumption</th>\n",
       "      <th>fossil_energy_per_capita</th>\n",
       "      <th>fossil_cons_per_capita</th>\n",
       "      <th>fossil_share_elec</th>\n",
       "      <th>gas_share_elec</th>\n",
       "      <th>gas_cons_change_pct</th>\n",
       "      <th>gas_share_energy</th>\n",
       "      <th>gas_cons_change_twh</th>\n",
       "      <th>gas_consumption</th>\n",
       "      <th>gas_elec_per_capita</th>\n",
       "      <th>gas_energy_per_capita</th>\n",
       "      <th>gas_production</th>\n",
       "      <th>gas_prod_per_capita</th>\n",
       "      <th>hydro_share_elec</th>\n",
       "      <th>hydro_cons_change_pct</th>\n",
       "      <th>hydro_share_energy</th>\n",
       "      <th>hydro_cons_change_twh</th>\n",
       "      <th>hydro_consumption</th>\n",
       "      <th>hydro_elec_per_capita</th>\n",
       "      <th>hydro_energy_per_capita</th>\n",
       "      <th>low_carbon_share_elec</th>\n",
       "      <th>low_carbon_electricity</th>\n",
       "      <th>low_carbon_elec_per_capita</th>\n",
       "      <th>low_carbon_cons_change_pct</th>\n",
       "      <th>low_carbon_share_energy</th>\n",
       "      <th>low_carbon_cons_change_twh</th>\n",
       "      <th>low_carbon_consumption</th>\n",
       "      <th>low_carbon_energy_per_capita</th>\n",
       "      <th>nuclear_share_elec</th>\n",
       "      <th>nuclear_cons_change_pct</th>\n",
       "      <th>nuclear_share_energy</th>\n",
       "      <th>nuclear_cons_change_twh</th>\n",
       "      <th>nuclear_consumption</th>\n",
       "      <th>nuclear_elec_per_capita</th>\n",
       "      <th>nuclear_energy_per_capita</th>\n",
       "      <th>oil_share_elec</th>\n",
       "      <th>oil_cons_change_pct</th>\n",
       "      <th>oil_share_energy</th>\n",
       "      <th>oil_cons_change_twh</th>\n",
       "      <th>oil_consumption</th>\n",
       "      <th>oil_elec_per_capita</th>\n",
       "      <th>oil_energy_per_capita</th>\n",
       "      <th>oil_production</th>\n",
       "      <th>oil_prod_per_capita</th>\n",
       "      <th>other_renewables_elec_per_capita</th>\n",
       "      <th>other_renewables_share_elec</th>\n",
       "      <th>other_renewables_cons_change_pct</th>\n",
       "      <th>other_renewables_share_energy</th>\n",
       "      <th>other_renewables_cons_change_twh</th>\n",
       "      <th>other_renewable_consumption</th>\n",
       "      <th>other_renewables_energy_per_capita</th>\n",
       "      <th>per_capita_electricity</th>\n",
       "      <th>population</th>\n",
       "      <th>primary_energy_consumption</th>\n",
       "      <th>renewables_elec_per_capita</th>\n",
       "      <th>renewables_share_elec</th>\n",
       "      <th>renewables_cons_change_pct</th>\n",
       "      <th>renewables_share_energy</th>\n",
       "      <th>renewables_cons_change_twh</th>\n",
       "      <th>renewables_consumption</th>\n",
       "      <th>renewables_energy_per_capita</th>\n",
       "      <th>solar_share_elec</th>\n",
       "      <th>solar_cons_change_pct</th>\n",
       "      <th>solar_share_energy</th>\n",
       "      <th>solar_cons_change_twh</th>\n",
       "      <th>solar_consumption</th>\n",
       "      <th>solar_elec_per_capita</th>\n",
       "      <th>solar_energy_per_capita</th>\n",
       "      <th>gdp</th>\n",
       "      <th>wind_share_elec</th>\n",
       "      <th>wind_cons_change_pct</th>\n",
       "      <th>wind_share_energy</th>\n",
       "      <th>wind_cons_change_twh</th>\n",
       "      <th>wind_consumption</th>\n",
       "      <th>wind_elec_per_capita</th>\n",
       "      <th>wind_energy_per_capita</th>\n",
       "    </tr>\n",
       "  </thead>\n",
       "  <tbody>\n",
       "    <tr>\n",
       "      <th>count</th>\n",
       "      <td>15509.000000</td>\n",
       "      <td>6403.000000</td>\n",
       "      <td>9314.00000</td>\n",
       "      <td>4.027000e+03</td>\n",
       "      <td>6934.000000</td>\n",
       "      <td>5517.000000</td>\n",
       "      <td>7522.000000</td>\n",
       "      <td>8596.00000</td>\n",
       "      <td>8646.000000</td>\n",
       "      <td>4165.000000</td>\n",
       "      <td>4148.000000</td>\n",
       "      <td>421.000000</td>\n",
       "      <td>4064.000000</td>\n",
       "      <td>5227.000000</td>\n",
       "      <td>5341.000000</td>\n",
       "      <td>5341.000000</td>\n",
       "      <td>588.000000</td>\n",
       "      <td>4615.000000</td>\n",
       "      <td>3546.000000</td>\n",
       "      <td>4064.000000</td>\n",
       "      <td>3991.000000</td>\n",
       "      <td>4070.000000</td>\n",
       "      <td>4598.000000</td>\n",
       "      <td>4070.000000</td>\n",
       "      <td>9527.000000</td>\n",
       "      <td>9400.000000</td>\n",
       "      <td>5398.000000</td>\n",
       "      <td>4208.000000</td>\n",
       "      <td>4658.000000</td>\n",
       "      <td>4658.000000</td>\n",
       "      <td>4658.000000</td>\n",
       "      <td>5398.000000</td>\n",
       "      <td>5398.000000</td>\n",
       "      <td>4658.000000</td>\n",
       "      <td>5398.000000</td>\n",
       "      <td>4208.000000</td>\n",
       "      <td>5398.000000</td>\n",
       "      <td>5398.000000</td>\n",
       "      <td>5398.000000</td>\n",
       "      <td>6835.000000</td>\n",
       "      <td>8.778000e+03</td>\n",
       "      <td>3985.000000</td>\n",
       "      <td>4064.000000</td>\n",
       "      <td>3985.000000</td>\n",
       "      <td>4064.000000</td>\n",
       "      <td>4064.000000</td>\n",
       "      <td>4598.000000</td>\n",
       "      <td>4615.000000</td>\n",
       "      <td>4615.000000</td>\n",
       "      <td>3488.000000</td>\n",
       "      <td>4064.000000</td>\n",
       "      <td>3991.000000</td>\n",
       "      <td>4070.000000</td>\n",
       "      <td>4598.000000</td>\n",
       "      <td>4070.000000</td>\n",
       "      <td>7089.000000</td>\n",
       "      <td>7080.000000</td>\n",
       "      <td>5355.000000</td>\n",
       "      <td>3448.000000</td>\n",
       "      <td>4064.000000</td>\n",
       "      <td>3991.000000</td>\n",
       "      <td>4070.000000</td>\n",
       "      <td>5338.000000</td>\n",
       "      <td>4070.000000</td>\n",
       "      <td>5355.000000</td>\n",
       "      <td>5398.000000</td>\n",
       "      <td>5338.000000</td>\n",
       "      <td>3619.000000</td>\n",
       "      <td>4064.000000</td>\n",
       "      <td>3991.000000</td>\n",
       "      <td>4070.000000</td>\n",
       "      <td>4070.000000</td>\n",
       "      <td>5355.000000</td>\n",
       "      <td>1325.000000</td>\n",
       "      <td>4064.000000</td>\n",
       "      <td>3991.000000</td>\n",
       "      <td>4070.000000</td>\n",
       "      <td>5338.000000</td>\n",
       "      <td>4070.000000</td>\n",
       "      <td>4615.000000</td>\n",
       "      <td>3985.000000</td>\n",
       "      <td>4064.000000</td>\n",
       "      <td>3985.000000</td>\n",
       "      <td>4064.000000</td>\n",
       "      <td>4598.000000</td>\n",
       "      <td>4064.000000</td>\n",
       "      <td>7653.000000</td>\n",
       "      <td>7.644000e+03</td>\n",
       "      <td>5338.000000</td>\n",
       "      <td>5355.000000</td>\n",
       "      <td>2116.000000</td>\n",
       "      <td>4064.000000</td>\n",
       "      <td>3991.000000</td>\n",
       "      <td>4070.000000</td>\n",
       "      <td>4070.000000</td>\n",
       "      <td>5338.000000</td>\n",
       "      <td>15291.000000</td>\n",
       "      <td>8861.000000</td>\n",
       "      <td>5338.000000</td>\n",
       "      <td>5355.000000</td>\n",
       "      <td>3612.000000</td>\n",
       "      <td>4064.000000</td>\n",
       "      <td>3991.000000</td>\n",
       "      <td>4070.000000</td>\n",
       "      <td>4070.000000</td>\n",
       "      <td>5355.000000</td>\n",
       "      <td>1200.000000</td>\n",
       "      <td>4064.000000</td>\n",
       "      <td>3991.000000</td>\n",
       "      <td>4070.000000</td>\n",
       "      <td>5338.000000</td>\n",
       "      <td>4070.000000</td>\n",
       "      <td>10297.000000</td>\n",
       "      <td>5355.000000</td>\n",
       "      <td>1399.00000</td>\n",
       "      <td>4064.000000</td>\n",
       "      <td>3991.000000</td>\n",
       "      <td>4070.000000</td>\n",
       "      <td>5338.000000</td>\n",
       "      <td>4070.000000</td>\n",
       "    </tr>\n",
       "    <tr>\n",
       "      <th>mean</th>\n",
       "      <td>1972.750983</td>\n",
       "      <td>23.552753</td>\n",
       "      <td>3.89213</td>\n",
       "      <td>2.320072e+14</td>\n",
       "      <td>5.132270</td>\n",
       "      <td>20.231902</td>\n",
       "      <td>6.221717</td>\n",
       "      <td>inf</td>\n",
       "      <td>12.155901</td>\n",
       "      <td>1.509343</td>\n",
       "      <td>60.477762</td>\n",
       "      <td>60.466867</td>\n",
       "      <td>0.088955</td>\n",
       "      <td>0.198574</td>\n",
       "      <td>2.283333</td>\n",
       "      <td>23.365836</td>\n",
       "      <td>394.071429</td>\n",
       "      <td>13.391260</td>\n",
       "      <td>31.483043</td>\n",
       "      <td>17.305219</td>\n",
       "      <td>6.710111</td>\n",
       "      <td>353.551400</td>\n",
       "      <td>583.142982</td>\n",
       "      <td>5816.787525</td>\n",
       "      <td>199.799622</td>\n",
       "      <td>3336.965994</td>\n",
       "      <td>112.692142</td>\n",
       "      <td>1.666121</td>\n",
       "      <td>49.105515</td>\n",
       "      <td>82.059972</td>\n",
       "      <td>24.744412</td>\n",
       "      <td>18.924373</td>\n",
       "      <td>15.849641</td>\n",
       "      <td>8.210054</td>\n",
       "      <td>1.984358</td>\n",
       "      <td>0.440311</td>\n",
       "      <td>23.654954</td>\n",
       "      <td>0.684789</td>\n",
       "      <td>2.061422</td>\n",
       "      <td>1.833419</td>\n",
       "      <td>2.950727e+04</td>\n",
       "      <td>3.445383</td>\n",
       "      <td>86.998344</td>\n",
       "      <td>21.411719</td>\n",
       "      <td>1102.289068</td>\n",
       "      <td>32995.933664</td>\n",
       "      <td>2387.379425</td>\n",
       "      <td>66.483037</td>\n",
       "      <td>19.197308</td>\n",
       "      <td>23.448085</td>\n",
       "      <td>20.883322</td>\n",
       "      <td>7.024429</td>\n",
       "      <td>262.707107</td>\n",
       "      <td>907.195414</td>\n",
       "      <td>10357.399290</td>\n",
       "      <td>165.523947</td>\n",
       "      <td>11324.721622</td>\n",
       "      <td>25.248338</td>\n",
       "      <td>6.280276</td>\n",
       "      <td>8.747847</td>\n",
       "      <td>1.712757</td>\n",
       "      <td>77.621050</td>\n",
       "      <td>995.124721</td>\n",
       "      <td>3681.832401</td>\n",
       "      <td>33.967101</td>\n",
       "      <td>39.504595</td>\n",
       "      <td>1557.852773</td>\n",
       "      <td>12.816460</td>\n",
       "      <td>12.949938</td>\n",
       "      <td>5.267276</td>\n",
       "      <td>155.606995</td>\n",
       "      <td>5679.831231</td>\n",
       "      <td>5.251530</td>\n",
       "      <td>45.478537</td>\n",
       "      <td>3.053229</td>\n",
       "      <td>1.600866</td>\n",
       "      <td>60.832154</td>\n",
       "      <td>381.737421</td>\n",
       "      <td>1446.104650</td>\n",
       "      <td>33.894466</td>\n",
       "      <td>3.046134</td>\n",
       "      <td>48.809814</td>\n",
       "      <td>7.656523</td>\n",
       "      <td>485.120746</td>\n",
       "      <td>897.041027</td>\n",
       "      <td>16797.867638</td>\n",
       "      <td>292.094489</td>\n",
       "      <td>4.751021e+04</td>\n",
       "      <td>114.252558</td>\n",
       "      <td>1.980020</td>\n",
       "      <td>38.432738</td>\n",
       "      <td>0.637480</td>\n",
       "      <td>0.377750</td>\n",
       "      <td>6.441992</td>\n",
       "      <td>359.535283</td>\n",
       "      <td>3975.506727</td>\n",
       "      <td>27.926524</td>\n",
       "      <td>599.637889</td>\n",
       "      <td>1176.115352</td>\n",
       "      <td>28.715568</td>\n",
       "      <td>12.442907</td>\n",
       "      <td>9.896718</td>\n",
       "      <td>3.666406</td>\n",
       "      <td>94.774836</td>\n",
       "      <td>4233.726576</td>\n",
       "      <td>0.416643</td>\n",
       "      <td>140.915686</td>\n",
       "      <td>0.078351</td>\n",
       "      <td>0.439330</td>\n",
       "      <td>1.789886</td>\n",
       "      <td>14.143407</td>\n",
       "      <td>29.013795</td>\n",
       "      <td>278.495118</td>\n",
       "      <td>1.070558</td>\n",
       "      <td>260.47835</td>\n",
       "      <td>0.344072</td>\n",
       "      <td>0.876496</td>\n",
       "      <td>5.925530</td>\n",
       "      <td>52.594679</td>\n",
       "      <td>132.682458</td>\n",
       "    </tr>\n",
       "    <tr>\n",
       "      <th>std</th>\n",
       "      <td>34.667480</td>\n",
       "      <td>751.592672</td>\n",
       "      <td>76.39368</td>\n",
       "      <td>1.472286e+16</td>\n",
       "      <td>41.125201</td>\n",
       "      <td>364.324362</td>\n",
       "      <td>78.703677</td>\n",
       "      <td>NaN</td>\n",
       "      <td>119.192971</td>\n",
       "      <td>3.513038</td>\n",
       "      <td>191.619595</td>\n",
       "      <td>316.957000</td>\n",
       "      <td>0.470459</td>\n",
       "      <td>2.382131</td>\n",
       "      <td>20.358560</td>\n",
       "      <td>120.376305</td>\n",
       "      <td>261.569451</td>\n",
       "      <td>23.683307</td>\n",
       "      <td>969.785975</td>\n",
       "      <td>20.079014</td>\n",
       "      <td>87.766305</td>\n",
       "      <td>1521.809943</td>\n",
       "      <td>1283.701833</td>\n",
       "      <td>9044.608285</td>\n",
       "      <td>1040.682082</td>\n",
       "      <td>9914.921825</td>\n",
       "      <td>445.841480</td>\n",
       "      <td>7.163877</td>\n",
       "      <td>271.576095</td>\n",
       "      <td>338.380159</td>\n",
       "      <td>92.008064</td>\n",
       "      <td>70.311898</td>\n",
       "      <td>72.647447</td>\n",
       "      <td>23.967769</td>\n",
       "      <td>8.106433</td>\n",
       "      <td>2.304265</td>\n",
       "      <td>91.864111</td>\n",
       "      <td>7.137361</td>\n",
       "      <td>16.659978</td>\n",
       "      <td>1.576697</td>\n",
       "      <td>7.611108e+04</td>\n",
       "      <td>12.250719</td>\n",
       "      <td>15.219160</td>\n",
       "      <td>133.044761</td>\n",
       "      <td>3088.160646</td>\n",
       "      <td>35238.130979</td>\n",
       "      <td>3099.142184</td>\n",
       "      <td>33.236526</td>\n",
       "      <td>27.766827</td>\n",
       "      <td>381.976882</td>\n",
       "      <td>20.932902</td>\n",
       "      <td>37.762843</td>\n",
       "      <td>790.256853</td>\n",
       "      <td>2404.984699</td>\n",
       "      <td>23344.736457</td>\n",
       "      <td>675.659848</td>\n",
       "      <td>49465.780403</td>\n",
       "      <td>31.241164</td>\n",
       "      <td>43.833441</td>\n",
       "      <td>12.594420</td>\n",
       "      <td>19.575877</td>\n",
       "      <td>209.857507</td>\n",
       "      <td>3419.509532</td>\n",
       "      <td>11009.777397</td>\n",
       "      <td>33.437065</td>\n",
       "      <td>142.910148</td>\n",
       "      <td>4290.641295</td>\n",
       "      <td>150.963298</td>\n",
       "      <td>15.184818</td>\n",
       "      <td>31.327047</td>\n",
       "      <td>434.481475</td>\n",
       "      <td>13421.793031</td>\n",
       "      <td>13.804848</td>\n",
       "      <td>440.195293</td>\n",
       "      <td>6.750992</td>\n",
       "      <td>16.526761</td>\n",
       "      <td>227.224921</td>\n",
       "      <td>1120.857776</td>\n",
       "      <td>3437.120991</td>\n",
       "      <td>38.988467</td>\n",
       "      <td>10.171724</td>\n",
       "      <td>21.260447</td>\n",
       "      <td>54.761674</td>\n",
       "      <td>1227.919062</td>\n",
       "      <td>1876.786068</td>\n",
       "      <td>17441.934791</td>\n",
       "      <td>850.367774</td>\n",
       "      <td>2.336803e+05</td>\n",
       "      <td>792.928711</td>\n",
       "      <td>4.891664</td>\n",
       "      <td>537.084429</td>\n",
       "      <td>1.914335</td>\n",
       "      <td>2.042587</td>\n",
       "      <td>22.204243</td>\n",
       "      <td>2359.321143</td>\n",
       "      <td>5071.671853</td>\n",
       "      <td>101.614427</td>\n",
       "      <td>2449.126475</td>\n",
       "      <td>3988.643172</td>\n",
       "      <td>32.182587</td>\n",
       "      <td>152.315236</td>\n",
       "      <td>13.499249</td>\n",
       "      <td>25.366810</td>\n",
       "      <td>270.634896</td>\n",
       "      <td>12574.532291</td>\n",
       "      <td>1.505640</td>\n",
       "      <td>645.014142</td>\n",
       "      <td>0.339342</td>\n",
       "      <td>4.447469</td>\n",
       "      <td>16.341806</td>\n",
       "      <td>57.960138</td>\n",
       "      <td>128.454939</td>\n",
       "      <td>1017.567473</td>\n",
       "      <td>3.881934</td>\n",
       "      <td>6510.86803</td>\n",
       "      <td>1.360302</td>\n",
       "      <td>6.462871</td>\n",
       "      <td>41.987352</td>\n",
       "      <td>210.220048</td>\n",
       "      <td>518.554375</td>\n",
       "    </tr>\n",
       "    <tr>\n",
       "      <th>min</th>\n",
       "      <td>1900.000000</td>\n",
       "      <td>-100.000000</td>\n",
       "      <td>-1560.06400</td>\n",
       "      <td>-1.000000e+02</td>\n",
       "      <td>-752.633000</td>\n",
       "      <td>-100.000000</td>\n",
       "      <td>-1929.339000</td>\n",
       "      <td>-92.63200</td>\n",
       "      <td>-6083.407000</td>\n",
       "      <td>0.000000</td>\n",
       "      <td>0.000000</td>\n",
       "      <td>-100.000000</td>\n",
       "      <td>0.000000</td>\n",
       "      <td>-20.295000</td>\n",
       "      <td>0.000000</td>\n",
       "      <td>0.000000</td>\n",
       "      <td>11.000000</td>\n",
       "      <td>0.000000</td>\n",
       "      <td>-100.000000</td>\n",
       "      <td>0.000000</td>\n",
       "      <td>-750.679000</td>\n",
       "      <td>0.000000</td>\n",
       "      <td>0.000000</td>\n",
       "      <td>0.000000</td>\n",
       "      <td>0.000000</td>\n",
       "      <td>0.000000</td>\n",
       "      <td>0.000000</td>\n",
       "      <td>0.000000</td>\n",
       "      <td>0.000000</td>\n",
       "      <td>0.000000</td>\n",
       "      <td>0.000000</td>\n",
       "      <td>0.000000</td>\n",
       "      <td>0.000000</td>\n",
       "      <td>0.000000</td>\n",
       "      <td>0.000000</td>\n",
       "      <td>0.000000</td>\n",
       "      <td>0.000000</td>\n",
       "      <td>0.000000</td>\n",
       "      <td>0.000000</td>\n",
       "      <td>0.050000</td>\n",
       "      <td>0.000000e+00</td>\n",
       "      <td>-52.574000</td>\n",
       "      <td>17.162000</td>\n",
       "      <td>-1394.278000</td>\n",
       "      <td>0.855000</td>\n",
       "      <td>124.142000</td>\n",
       "      <td>0.000000</td>\n",
       "      <td>0.000000</td>\n",
       "      <td>0.000000</td>\n",
       "      <td>-95.245000</td>\n",
       "      <td>0.000000</td>\n",
       "      <td>-470.715000</td>\n",
       "      <td>0.000000</td>\n",
       "      <td>0.000000</td>\n",
       "      <td>0.000000</td>\n",
       "      <td>0.000000</td>\n",
       "      <td>0.000000</td>\n",
       "      <td>0.000000</td>\n",
       "      <td>-80.585000</td>\n",
       "      <td>0.000000</td>\n",
       "      <td>-177.681000</td>\n",
       "      <td>0.000000</td>\n",
       "      <td>0.000000</td>\n",
       "      <td>0.000000</td>\n",
       "      <td>0.000000</td>\n",
       "      <td>0.000000</td>\n",
       "      <td>0.000000</td>\n",
       "      <td>-92.152000</td>\n",
       "      <td>0.000000</td>\n",
       "      <td>-383.227000</td>\n",
       "      <td>0.000000</td>\n",
       "      <td>0.000000</td>\n",
       "      <td>0.000000</td>\n",
       "      <td>-100.000000</td>\n",
       "      <td>0.000000</td>\n",
       "      <td>-375.879000</td>\n",
       "      <td>0.000000</td>\n",
       "      <td>0.000000</td>\n",
       "      <td>0.000000</td>\n",
       "      <td>0.000000</td>\n",
       "      <td>-73.921000</td>\n",
       "      <td>5.053000</td>\n",
       "      <td>-753.015000</td>\n",
       "      <td>0.572000</td>\n",
       "      <td>0.000000</td>\n",
       "      <td>124.142000</td>\n",
       "      <td>0.000000</td>\n",
       "      <td>0.000000e+00</td>\n",
       "      <td>0.000000</td>\n",
       "      <td>0.000000</td>\n",
       "      <td>-100.000000</td>\n",
       "      <td>0.000000</td>\n",
       "      <td>-25.208000</td>\n",
       "      <td>0.000000</td>\n",
       "      <td>0.000000</td>\n",
       "      <td>0.000000</td>\n",
       "      <td>0.002000</td>\n",
       "      <td>0.000000</td>\n",
       "      <td>0.000000</td>\n",
       "      <td>0.000000</td>\n",
       "      <td>-92.641000</td>\n",
       "      <td>0.000000</td>\n",
       "      <td>-174.983000</td>\n",
       "      <td>0.000000</td>\n",
       "      <td>0.000000</td>\n",
       "      <td>0.000000</td>\n",
       "      <td>-100.000000</td>\n",
       "      <td>0.000000</td>\n",
       "      <td>-4.641000</td>\n",
       "      <td>0.000000</td>\n",
       "      <td>0.000000</td>\n",
       "      <td>0.000000</td>\n",
       "      <td>0.196308</td>\n",
       "      <td>0.000000</td>\n",
       "      <td>-100.00000</td>\n",
       "      <td>0.000000</td>\n",
       "      <td>-10.409000</td>\n",
       "      <td>0.000000</td>\n",
       "      <td>0.000000</td>\n",
       "      <td>0.000000</td>\n",
       "    </tr>\n",
       "    <tr>\n",
       "      <th>25%</th>\n",
       "      <td>1945.000000</td>\n",
       "      <td>-1.474500</td>\n",
       "      <td>0.00000</td>\n",
       "      <td>0.000000e+00</td>\n",
       "      <td>0.000000</td>\n",
       "      <td>-1.509000</td>\n",
       "      <td>0.000000</td>\n",
       "      <td>-0.69325</td>\n",
       "      <td>-0.072000</td>\n",
       "      <td>0.000000</td>\n",
       "      <td>0.000000</td>\n",
       "      <td>-0.054000</td>\n",
       "      <td>0.000000</td>\n",
       "      <td>0.000000</td>\n",
       "      <td>0.000000</td>\n",
       "      <td>0.000000</td>\n",
       "      <td>190.000000</td>\n",
       "      <td>0.000000</td>\n",
       "      <td>-5.655000</td>\n",
       "      <td>1.771500</td>\n",
       "      <td>-0.926000</td>\n",
       "      <td>2.649750</td>\n",
       "      <td>0.000000</td>\n",
       "      <td>199.939250</td>\n",
       "      <td>0.000000</td>\n",
       "      <td>0.000000</td>\n",
       "      <td>1.399000</td>\n",
       "      <td>0.000000</td>\n",
       "      <td>0.000000</td>\n",
       "      <td>0.310000</td>\n",
       "      <td>0.000000</td>\n",
       "      <td>0.000250</td>\n",
       "      <td>0.000000</td>\n",
       "      <td>0.036000</td>\n",
       "      <td>0.000000</td>\n",
       "      <td>0.000000</td>\n",
       "      <td>0.030000</td>\n",
       "      <td>0.000000</td>\n",
       "      <td>0.000000</td>\n",
       "      <td>0.835500</td>\n",
       "      <td>2.939082e+03</td>\n",
       "      <td>-0.943000</td>\n",
       "      <td>81.471250</td>\n",
       "      <td>-1.526000</td>\n",
       "      <td>112.964000</td>\n",
       "      <td>11247.634750</td>\n",
       "      <td>187.625750</td>\n",
       "      <td>41.447000</td>\n",
       "      <td>0.000000</td>\n",
       "      <td>-0.692250</td>\n",
       "      <td>3.349000</td>\n",
       "      <td>0.000000</td>\n",
       "      <td>8.126250</td>\n",
       "      <td>0.000000</td>\n",
       "      <td>387.988500</td>\n",
       "      <td>0.000000</td>\n",
       "      <td>0.000000</td>\n",
       "      <td>0.030000</td>\n",
       "      <td>-6.842000</td>\n",
       "      <td>0.442750</td>\n",
       "      <td>-0.458000</td>\n",
       "      <td>1.062750</td>\n",
       "      <td>0.582500</td>\n",
       "      <td>71.322500</td>\n",
       "      <td>2.067000</td>\n",
       "      <td>0.030000</td>\n",
       "      <td>14.304500</td>\n",
       "      <td>-2.415500</td>\n",
       "      <td>1.755750</td>\n",
       "      <td>-0.179500</td>\n",
       "      <td>2.744000</td>\n",
       "      <td>176.222750</td>\n",
       "      <td>0.000000</td>\n",
       "      <td>-2.797000</td>\n",
       "      <td>0.000000</td>\n",
       "      <td>0.000000</td>\n",
       "      <td>0.000000</td>\n",
       "      <td>0.000000</td>\n",
       "      <td>0.000000</td>\n",
       "      <td>1.247000</td>\n",
       "      <td>-1.745000</td>\n",
       "      <td>33.425000</td>\n",
       "      <td>-1.996000</td>\n",
       "      <td>62.303250</td>\n",
       "      <td>14.727500</td>\n",
       "      <td>5316.353000</td>\n",
       "      <td>0.000000</td>\n",
       "      <td>0.000000e+00</td>\n",
       "      <td>0.000000</td>\n",
       "      <td>0.000000</td>\n",
       "      <td>-1.073500</td>\n",
       "      <td>0.000000</td>\n",
       "      <td>0.000000</td>\n",
       "      <td>0.000000</td>\n",
       "      <td>0.000000</td>\n",
       "      <td>630.670000</td>\n",
       "      <td>1.706988</td>\n",
       "      <td>5.730000</td>\n",
       "      <td>14.268750</td>\n",
       "      <td>1.389500</td>\n",
       "      <td>-3.634000</td>\n",
       "      <td>0.828500</td>\n",
       "      <td>-0.216000</td>\n",
       "      <td>2.083000</td>\n",
       "      <td>145.737000</td>\n",
       "      <td>0.000000</td>\n",
       "      <td>6.196250</td>\n",
       "      <td>0.000000</td>\n",
       "      <td>0.000000</td>\n",
       "      <td>0.000000</td>\n",
       "      <td>0.000000</td>\n",
       "      <td>0.000000</td>\n",
       "      <td>12.336326</td>\n",
       "      <td>0.000000</td>\n",
       "      <td>0.95650</td>\n",
       "      <td>0.000000</td>\n",
       "      <td>0.000000</td>\n",
       "      <td>0.000000</td>\n",
       "      <td>0.000000</td>\n",
       "      <td>0.000000</td>\n",
       "    </tr>\n",
       "    <tr>\n",
       "      <th>50%</th>\n",
       "      <td>1983.000000</td>\n",
       "      <td>0.000000</td>\n",
       "      <td>0.00000</td>\n",
       "      <td>2.033000e+00</td>\n",
       "      <td>0.000000</td>\n",
       "      <td>0.000000</td>\n",
       "      <td>0.000000</td>\n",
       "      <td>2.42200</td>\n",
       "      <td>0.456000</td>\n",
       "      <td>0.011000</td>\n",
       "      <td>0.107000</td>\n",
       "      <td>9.526000</td>\n",
       "      <td>0.000000</td>\n",
       "      <td>0.000000</td>\n",
       "      <td>0.000000</td>\n",
       "      <td>0.000000</td>\n",
       "      <td>353.000000</td>\n",
       "      <td>0.000000</td>\n",
       "      <td>1.195000</td>\n",
       "      <td>9.620000</td>\n",
       "      <td>0.000000</td>\n",
       "      <td>29.811000</td>\n",
       "      <td>0.000000</td>\n",
       "      <td>2190.120500</td>\n",
       "      <td>0.034000</td>\n",
       "      <td>7.361500</td>\n",
       "      <td>12.972000</td>\n",
       "      <td>0.001000</td>\n",
       "      <td>0.000000</td>\n",
       "      <td>3.703500</td>\n",
       "      <td>0.439000</td>\n",
       "      <td>1.154500</td>\n",
       "      <td>0.000000</td>\n",
       "      <td>0.693500</td>\n",
       "      <td>0.001000</td>\n",
       "      <td>0.000000</td>\n",
       "      <td>1.751000</td>\n",
       "      <td>0.000000</td>\n",
       "      <td>0.000000</td>\n",
       "      <td>1.380000</td>\n",
       "      <td>1.330719e+04</td>\n",
       "      <td>2.731000</td>\n",
       "      <td>92.488000</td>\n",
       "      <td>4.943000</td>\n",
       "      <td>270.639500</td>\n",
       "      <td>25769.248000</td>\n",
       "      <td>1272.167500</td>\n",
       "      <td>77.314000</td>\n",
       "      <td>4.391000</td>\n",
       "      <td>4.284000</td>\n",
       "      <td>15.132500</td>\n",
       "      <td>1.105000</td>\n",
       "      <td>48.589000</td>\n",
       "      <td>49.593500</td>\n",
       "      <td>4094.698500</td>\n",
       "      <td>0.000000</td>\n",
       "      <td>0.000000</td>\n",
       "      <td>9.820000</td>\n",
       "      <td>2.494500</td>\n",
       "      <td>3.706500</td>\n",
       "      <td>0.000000</td>\n",
       "      <td>11.752000</td>\n",
       "      <td>104.980000</td>\n",
       "      <td>539.138000</td>\n",
       "      <td>23.215000</td>\n",
       "      <td>2.249500</td>\n",
       "      <td>225.690500</td>\n",
       "      <td>3.914000</td>\n",
       "      <td>7.498000</td>\n",
       "      <td>0.226000</td>\n",
       "      <td>26.193000</td>\n",
       "      <td>1072.066500</td>\n",
       "      <td>0.000000</td>\n",
       "      <td>2.377000</td>\n",
       "      <td>0.000000</td>\n",
       "      <td>0.000000</td>\n",
       "      <td>0.000000</td>\n",
       "      <td>0.000000</td>\n",
       "      <td>0.000000</td>\n",
       "      <td>12.353000</td>\n",
       "      <td>2.516000</td>\n",
       "      <td>45.702000</td>\n",
       "      <td>2.385000</td>\n",
       "      <td>139.927500</td>\n",
       "      <td>139.136000</td>\n",
       "      <td>12296.019500</td>\n",
       "      <td>1.826000</td>\n",
       "      <td>1.103130e+02</td>\n",
       "      <td>0.130500</td>\n",
       "      <td>0.014000</td>\n",
       "      <td>5.009000</td>\n",
       "      <td>0.018000</td>\n",
       "      <td>0.000000</td>\n",
       "      <td>0.058000</td>\n",
       "      <td>3.842000</td>\n",
       "      <td>2462.170500</td>\n",
       "      <td>6.277517</td>\n",
       "      <td>50.370000</td>\n",
       "      <td>186.809500</td>\n",
       "      <td>14.276000</td>\n",
       "      <td>4.185000</td>\n",
       "      <td>4.579500</td>\n",
       "      <td>0.144000</td>\n",
       "      <td>15.154500</td>\n",
       "      <td>690.998000</td>\n",
       "      <td>0.000000</td>\n",
       "      <td>25.474500</td>\n",
       "      <td>0.000000</td>\n",
       "      <td>0.000000</td>\n",
       "      <td>0.000000</td>\n",
       "      <td>0.000000</td>\n",
       "      <td>0.000000</td>\n",
       "      <td>41.451618</td>\n",
       "      <td>0.000000</td>\n",
       "      <td>19.16400</td>\n",
       "      <td>0.000000</td>\n",
       "      <td>0.000000</td>\n",
       "      <td>0.000000</td>\n",
       "      <td>0.000000</td>\n",
       "      <td>0.000000</td>\n",
       "    </tr>\n",
       "    <tr>\n",
       "      <th>75%</th>\n",
       "      <td>2002.000000</td>\n",
       "      <td>8.087000</td>\n",
       "      <td>0.17575</td>\n",
       "      <td>1.002350e+01</td>\n",
       "      <td>0.944750</td>\n",
       "      <td>9.440000</td>\n",
       "      <td>1.390000</td>\n",
       "      <td>7.09675</td>\n",
       "      <td>7.187750</td>\n",
       "      <td>1.331000</td>\n",
       "      <td>23.468750</td>\n",
       "      <td>31.872000</td>\n",
       "      <td>0.000000</td>\n",
       "      <td>0.000000</td>\n",
       "      <td>0.000000</td>\n",
       "      <td>0.000000</td>\n",
       "      <td>515.000000</td>\n",
       "      <td>18.722500</td>\n",
       "      <td>8.377750</td>\n",
       "      <td>25.675000</td>\n",
       "      <td>3.191500</td>\n",
       "      <td>143.346500</td>\n",
       "      <td>405.788750</td>\n",
       "      <td>8093.490000</td>\n",
       "      <td>20.295500</td>\n",
       "      <td>1568.571750</td>\n",
       "      <td>59.449500</td>\n",
       "      <td>0.259000</td>\n",
       "      <td>7.095000</td>\n",
       "      <td>38.124250</td>\n",
       "      <td>14.519000</td>\n",
       "      <td>8.629500</td>\n",
       "      <td>0.000000</td>\n",
       "      <td>4.748000</td>\n",
       "      <td>0.450000</td>\n",
       "      <td>0.000000</td>\n",
       "      <td>11.422000</td>\n",
       "      <td>0.006000</td>\n",
       "      <td>0.023000</td>\n",
       "      <td>2.335000</td>\n",
       "      <td>3.677274e+04</td>\n",
       "      <td>6.632000</td>\n",
       "      <td>98.214250</td>\n",
       "      <td>23.555000</td>\n",
       "      <td>856.481750</td>\n",
       "      <td>40568.669000</td>\n",
       "      <td>3600.738750</td>\n",
       "      <td>97.819500</td>\n",
       "      <td>29.124500</td>\n",
       "      <td>11.515750</td>\n",
       "      <td>31.577750</td>\n",
       "      <td>8.148500</td>\n",
       "      <td>203.010250</td>\n",
       "      <td>749.297250</td>\n",
       "      <td>10359.876250</td>\n",
       "      <td>55.841000</td>\n",
       "      <td>1850.727250</td>\n",
       "      <td>45.543500</td>\n",
       "      <td>13.064000</td>\n",
       "      <td>11.636250</td>\n",
       "      <td>1.904000</td>\n",
       "      <td>54.729500</td>\n",
       "      <td>635.709000</td>\n",
       "      <td>2083.548000</td>\n",
       "      <td>60.197000</td>\n",
       "      <td>16.876500</td>\n",
       "      <td>1385.209750</td>\n",
       "      <td>12.915500</td>\n",
       "      <td>18.470750</td>\n",
       "      <td>4.014500</td>\n",
       "      <td>110.072500</td>\n",
       "      <td>4929.699000</td>\n",
       "      <td>0.000000</td>\n",
       "      <td>13.545000</td>\n",
       "      <td>1.380500</td>\n",
       "      <td>0.000000</td>\n",
       "      <td>17.164750</td>\n",
       "      <td>0.000000</td>\n",
       "      <td>427.182500</td>\n",
       "      <td>71.156500</td>\n",
       "      <td>7.014000</td>\n",
       "      <td>63.416250</td>\n",
       "      <td>11.127000</td>\n",
       "      <td>382.473000</td>\n",
       "      <td>664.733750</td>\n",
       "      <td>22638.968750</td>\n",
       "      <td>117.156000</td>\n",
       "      <td>7.643265e+03</td>\n",
       "      <td>37.522500</td>\n",
       "      <td>1.430000</td>\n",
       "      <td>17.702500</td>\n",
       "      <td>0.422250</td>\n",
       "      <td>0.100000</td>\n",
       "      <td>2.807750</td>\n",
       "      <td>140.032250</td>\n",
       "      <td>5611.601500</td>\n",
       "      <td>18.368000</td>\n",
       "      <td>299.549000</td>\n",
       "      <td>802.220000</td>\n",
       "      <td>52.286500</td>\n",
       "      <td>14.502250</td>\n",
       "      <td>13.975250</td>\n",
       "      <td>2.780500</td>\n",
       "      <td>69.087000</td>\n",
       "      <td>2637.554250</td>\n",
       "      <td>0.060000</td>\n",
       "      <td>75.537750</td>\n",
       "      <td>0.001000</td>\n",
       "      <td>0.000500</td>\n",
       "      <td>0.006000</td>\n",
       "      <td>0.711750</td>\n",
       "      <td>0.248000</td>\n",
       "      <td>167.000000</td>\n",
       "      <td>0.095000</td>\n",
       "      <td>51.33350</td>\n",
       "      <td>0.014250</td>\n",
       "      <td>0.005000</td>\n",
       "      <td>0.093000</td>\n",
       "      <td>2.088750</td>\n",
       "      <td>3.240750</td>\n",
       "    </tr>\n",
       "    <tr>\n",
       "      <th>max</th>\n",
       "      <td>2020.000000</td>\n",
       "      <td>44965.754000</td>\n",
       "      <td>2167.82000</td>\n",
       "      <td>9.342930e+17</td>\n",
       "      <td>1189.511000</td>\n",
       "      <td>25500.000000</td>\n",
       "      <td>1134.436000</td>\n",
       "      <td>inf</td>\n",
       "      <td>2686.251000</td>\n",
       "      <td>33.912000</td>\n",
       "      <td>2337.538000</td>\n",
       "      <td>5620.336000</td>\n",
       "      <td>7.863000</td>\n",
       "      <td>68.095000</td>\n",
       "      <td>411.458000</td>\n",
       "      <td>1765.808000</td>\n",
       "      <td>1116.000000</td>\n",
       "      <td>100.000000</td>\n",
       "      <td>55400.000000</td>\n",
       "      <td>89.158000</td>\n",
       "      <td>2249.828000</td>\n",
       "      <td>22900.337000</td>\n",
       "      <td>9110.145000</td>\n",
       "      <td>96109.692000</td>\n",
       "      <td>22171.380000</td>\n",
       "      <td>150849.824000</td>\n",
       "      <td>7623.696000</td>\n",
       "      <td>129.640000</td>\n",
       "      <td>4631.215000</td>\n",
       "      <td>5044.957000</td>\n",
       "      <td>1629.237000</td>\n",
       "      <td>1355.200000</td>\n",
       "      <td>809.409000</td>\n",
       "      <td>287.538000</td>\n",
       "      <td>129.740000</td>\n",
       "      <td>24.568000</td>\n",
       "      <td>2212.540000</td>\n",
       "      <td>261.100000</td>\n",
       "      <td>466.500000</td>\n",
       "      <td>13.493000</td>\n",
       "      <td>1.676610e+06</td>\n",
       "      <td>492.819000</td>\n",
       "      <td>100.000000</td>\n",
       "      <td>2478.863000</td>\n",
       "      <td>33512.486000</td>\n",
       "      <td>317582.498000</td>\n",
       "      <td>20640.919000</td>\n",
       "      <td>100.000000</td>\n",
       "      <td>100.000000</td>\n",
       "      <td>15300.000000</td>\n",
       "      <td>90.744000</td>\n",
       "      <td>799.501000</td>\n",
       "      <td>8466.457000</td>\n",
       "      <td>20611.253000</td>\n",
       "      <td>278892.439000</td>\n",
       "      <td>9208.816000</td>\n",
       "      <td>740193.351000</td>\n",
       "      <td>100.000000</td>\n",
       "      <td>1750.000000</td>\n",
       "      <td>71.055000</td>\n",
       "      <td>439.305000</td>\n",
       "      <td>3143.991000</td>\n",
       "      <td>41592.814000</td>\n",
       "      <td>105642.710000</td>\n",
       "      <td>100.000000</td>\n",
       "      <td>2578.740000</td>\n",
       "      <td>57655.786000</td>\n",
       "      <td>8345.716000</td>\n",
       "      <td>82.835000</td>\n",
       "      <td>551.795000</td>\n",
       "      <td>5848.439000</td>\n",
       "      <td>146224.492000</td>\n",
       "      <td>86.920000</td>\n",
       "      <td>11200.000000</td>\n",
       "      <td>41.707000</td>\n",
       "      <td>209.657000</td>\n",
       "      <td>2254.808000</td>\n",
       "      <td>8899.826000</td>\n",
       "      <td>24721.759000</td>\n",
       "      <td>100.000000</td>\n",
       "      <td>142.590000</td>\n",
       "      <td>100.000000</td>\n",
       "      <td>700.394000</td>\n",
       "      <td>11213.711000</td>\n",
       "      <td>11933.939000</td>\n",
       "      <td>151237.334000</td>\n",
       "      <td>8670.215000</td>\n",
       "      <td>3.758746e+06</td>\n",
       "      <td>17495.575000</td>\n",
       "      <td>49.047000</td>\n",
       "      <td>21131.333000</td>\n",
       "      <td>24.594000</td>\n",
       "      <td>42.738000</td>\n",
       "      <td>254.629000</td>\n",
       "      <td>44322.653000</td>\n",
       "      <td>57661.365000</td>\n",
       "      <td>1433.784064</td>\n",
       "      <td>39360.925000</td>\n",
       "      <td>57655.786000</td>\n",
       "      <td>100.000000</td>\n",
       "      <td>8345.716000</td>\n",
       "      <td>82.835000</td>\n",
       "      <td>524.526000</td>\n",
       "      <td>4984.982000</td>\n",
       "      <td>146224.492000</td>\n",
       "      <td>25.711000</td>\n",
       "      <td>11974.129000</td>\n",
       "      <td>3.593000</td>\n",
       "      <td>145.164000</td>\n",
       "      <td>554.178000</td>\n",
       "      <td>825.094000</td>\n",
       "      <td>1763.675000</td>\n",
       "      <td>17200.000000</td>\n",
       "      <td>56.338000</td>\n",
       "      <td>242384.84300</td>\n",
       "      <td>20.660000</td>\n",
       "      <td>155.786000</td>\n",
       "      <td>1004.602000</td>\n",
       "      <td>2825.425000</td>\n",
       "      <td>6928.363000</td>\n",
       "    </tr>\n",
       "  </tbody>\n",
       "</table>\n",
       "</div>"
      ],
      "text/plain": [
       "               year  coal_prod_change_pct  coal_prod_change_twh  gas_prod_change_pct  gas_prod_change_twh  oil_prod_change_pct  oil_prod_change_twh  \\\n",
       "count  15509.000000           6403.000000            9314.00000         4.027000e+03          6934.000000          5517.000000          7522.000000   \n",
       "mean    1972.750983             23.552753               3.89213         2.320072e+14             5.132270            20.231902             6.221717   \n",
       "std       34.667480            751.592672              76.39368         1.472286e+16            41.125201           364.324362            78.703677   \n",
       "min     1900.000000           -100.000000           -1560.06400        -1.000000e+02          -752.633000          -100.000000         -1929.339000   \n",
       "25%     1945.000000             -1.474500               0.00000         0.000000e+00             0.000000            -1.509000             0.000000   \n",
       "50%     1983.000000              0.000000               0.00000         2.033000e+00             0.000000             0.000000             0.000000   \n",
       "75%     2002.000000              8.087000               0.17575         1.002350e+01             0.944750             9.440000             1.390000   \n",
       "max     2020.000000          44965.754000            2167.82000         9.342930e+17          1189.511000         25500.000000          1134.436000   \n",
       "\n",
       "       energy_cons_change_pct  energy_cons_change_twh  biofuel_share_elec  biofuel_elec_per_capita  biofuel_cons_change_pct  biofuel_share_energy  \\\n",
       "count              8596.00000             8646.000000         4165.000000              4148.000000               421.000000           4064.000000   \n",
       "mean                      inf               12.155901            1.509343                60.477762                60.466867              0.088955   \n",
       "std                       NaN              119.192971            3.513038               191.619595               316.957000              0.470459   \n",
       "min                 -92.63200            -6083.407000            0.000000                 0.000000              -100.000000              0.000000   \n",
       "25%                  -0.69325               -0.072000            0.000000                 0.000000                -0.054000              0.000000   \n",
       "50%                   2.42200                0.456000            0.011000                 0.107000                 9.526000              0.000000   \n",
       "75%                   7.09675                7.187750            1.331000                23.468750                31.872000              0.000000   \n",
       "max                       inf             2686.251000           33.912000              2337.538000              5620.336000              7.863000   \n",
       "\n",
       "       biofuel_cons_change_twh  biofuel_consumption  biofuel_cons_per_capita  carbon_intensity_elec  coal_share_elec  coal_cons_change_pct  \\\n",
       "count              5227.000000          5341.000000              5341.000000             588.000000      4615.000000           3546.000000   \n",
       "mean                  0.198574             2.283333                23.365836             394.071429        13.391260             31.483043   \n",
       "std                   2.382131            20.358560               120.376305             261.569451        23.683307            969.785975   \n",
       "min                 -20.295000             0.000000                 0.000000              11.000000         0.000000           -100.000000   \n",
       "25%                   0.000000             0.000000                 0.000000             190.000000         0.000000             -5.655000   \n",
       "50%                   0.000000             0.000000                 0.000000             353.000000         0.000000              1.195000   \n",
       "75%                   0.000000             0.000000                 0.000000             515.000000        18.722500              8.377750   \n",
       "max                  68.095000           411.458000              1765.808000            1116.000000       100.000000          55400.000000   \n",
       "\n",
       "       coal_share_energy  coal_cons_change_twh  coal_consumption  coal_elec_per_capita  coal_cons_per_capita  coal_production  coal_prod_per_capita  \\\n",
       "count        4064.000000           3991.000000       4070.000000           4598.000000           4070.000000      9527.000000           9400.000000   \n",
       "mean           17.305219              6.710111        353.551400            583.142982           5816.787525       199.799622           3336.965994   \n",
       "std            20.079014             87.766305       1521.809943           1283.701833           9044.608285      1040.682082           9914.921825   \n",
       "min             0.000000           -750.679000          0.000000              0.000000              0.000000         0.000000              0.000000   \n",
       "25%             1.771500             -0.926000          2.649750              0.000000            199.939250         0.000000              0.000000   \n",
       "50%             9.620000              0.000000         29.811000              0.000000           2190.120500         0.034000              7.361500   \n",
       "75%            25.675000              3.191500        143.346500            405.788750           8093.490000        20.295500           1568.571750   \n",
       "max            89.158000           2249.828000      22900.337000           9110.145000          96109.692000     22171.380000         150849.824000   \n",
       "\n",
       "       electricity_generation  biofuel_electricity  coal_electricity  fossil_electricity  gas_electricity  hydro_electricity  nuclear_electricity  \\\n",
       "count             5398.000000          4208.000000       4658.000000         4658.000000      4658.000000        5398.000000          5398.000000   \n",
       "mean               112.692142             1.666121         49.105515           82.059972        24.744412          18.924373            15.849641   \n",
       "std                445.841480             7.163877        271.576095          338.380159        92.008064          70.311898            72.647447   \n",
       "min                  0.000000             0.000000          0.000000            0.000000         0.000000           0.000000             0.000000   \n",
       "25%                  1.399000             0.000000          0.000000            0.310000         0.000000           0.000250             0.000000   \n",
       "50%                 12.972000             0.001000          0.000000            3.703500         0.439000           1.154500             0.000000   \n",
       "75%                 59.449500             0.259000          7.095000           38.124250        14.519000           8.629500             0.000000   \n",
       "max               7623.696000           129.640000       4631.215000         5044.957000      1629.237000        1355.200000           809.409000   \n",
       "\n",
       "       oil_electricity  other_renewable_electricity  other_renewable_exc_biofuel_electricity  renewables_electricity  solar_electricity  \\\n",
       "count      4658.000000                  5398.000000                              4208.000000             5398.000000        5398.000000   \n",
       "mean          8.210054                     1.984358                                 0.440311               23.654954           0.684789   \n",
       "std          23.967769                     8.106433                                 2.304265               91.864111           7.137361   \n",
       "min           0.000000                     0.000000                                 0.000000                0.000000           0.000000   \n",
       "25%           0.036000                     0.000000                                 0.000000                0.030000           0.000000   \n",
       "50%           0.693500                     0.001000                                 0.000000                1.751000           0.000000   \n",
       "75%           4.748000                     0.450000                                 0.000000               11.422000           0.006000   \n",
       "max         287.538000                   129.740000                                24.568000             2212.540000         261.100000   \n",
       "\n",
       "       wind_electricity  energy_per_gdp  energy_per_capita  fossil_cons_change_pct  fossil_share_energy  fossil_cons_change_twh  \\\n",
       "count       5398.000000     6835.000000       8.778000e+03             3985.000000          4064.000000             3985.000000   \n",
       "mean           2.061422        1.833419       2.950727e+04                3.445383            86.998344               21.411719   \n",
       "std           16.659978        1.576697       7.611108e+04               12.250719            15.219160              133.044761   \n",
       "min            0.000000        0.050000       0.000000e+00              -52.574000            17.162000            -1394.278000   \n",
       "25%            0.000000        0.835500       2.939082e+03               -0.943000            81.471250               -1.526000   \n",
       "50%            0.000000        1.380000       1.330719e+04                2.731000            92.488000                4.943000   \n",
       "75%            0.023000        2.335000       3.677274e+04                6.632000            98.214250               23.555000   \n",
       "max          466.500000       13.493000       1.676610e+06              492.819000           100.000000             2478.863000   \n",
       "\n",
       "       fossil_fuel_consumption  fossil_energy_per_capita  fossil_cons_per_capita  fossil_share_elec  gas_share_elec  gas_cons_change_pct  \\\n",
       "count              4064.000000               4064.000000             4598.000000        4615.000000     4615.000000          3488.000000   \n",
       "mean               1102.289068              32995.933664             2387.379425          66.483037       19.197308            23.448085   \n",
       "std                3088.160646              35238.130979             3099.142184          33.236526       27.766827           381.976882   \n",
       "min                   0.855000                124.142000                0.000000           0.000000        0.000000           -95.245000   \n",
       "25%                 112.964000              11247.634750              187.625750          41.447000        0.000000            -0.692250   \n",
       "50%                 270.639500              25769.248000             1272.167500          77.314000        4.391000             4.284000   \n",
       "75%                 856.481750              40568.669000             3600.738750          97.819500       29.124500            11.515750   \n",
       "max               33512.486000             317582.498000            20640.919000         100.000000      100.000000         15300.000000   \n",
       "\n",
       "       gas_share_energy  gas_cons_change_twh  gas_consumption  gas_elec_per_capita  gas_energy_per_capita  gas_production  gas_prod_per_capita  \\\n",
       "count       4064.000000          3991.000000      4070.000000          4598.000000            4070.000000     7089.000000          7080.000000   \n",
       "mean          20.883322             7.024429       262.707107           907.195414           10357.399290      165.523947         11324.721622   \n",
       "std           20.932902            37.762843       790.256853          2404.984699           23344.736457      675.659848         49465.780403   \n",
       "min            0.000000          -470.715000         0.000000             0.000000               0.000000        0.000000             0.000000   \n",
       "25%            3.349000             0.000000         8.126250             0.000000             387.988500        0.000000             0.000000   \n",
       "50%           15.132500             1.105000        48.589000            49.593500            4094.698500        0.000000             0.000000   \n",
       "75%           31.577750             8.148500       203.010250           749.297250           10359.876250       55.841000          1850.727250   \n",
       "max           90.744000           799.501000      8466.457000         20611.253000          278892.439000     9208.816000        740193.351000   \n",
       "\n",
       "       hydro_share_elec  hydro_cons_change_pct  hydro_share_energy  hydro_cons_change_twh  hydro_consumption  hydro_elec_per_capita  \\\n",
       "count       5355.000000            3448.000000         4064.000000            3991.000000        4070.000000            5338.000000   \n",
       "mean          25.248338               6.280276            8.747847               1.712757          77.621050             995.124721   \n",
       "std           31.241164              43.833441           12.594420              19.575877         209.857507            3419.509532   \n",
       "min            0.000000             -80.585000            0.000000            -177.681000           0.000000               0.000000   \n",
       "25%            0.030000              -6.842000            0.442750              -0.458000           1.062750               0.582500   \n",
       "50%            9.820000               2.494500            3.706500               0.000000          11.752000             104.980000   \n",
       "75%           45.543500              13.064000           11.636250               1.904000          54.729500             635.709000   \n",
       "max          100.000000            1750.000000           71.055000             439.305000        3143.991000           41592.814000   \n",
       "\n",
       "       hydro_energy_per_capita  low_carbon_share_elec  low_carbon_electricity  low_carbon_elec_per_capita  low_carbon_cons_change_pct  \\\n",
       "count              4070.000000            5355.000000             5398.000000                 5338.000000                 3619.000000   \n",
       "mean               3681.832401              33.967101               39.504595                 1557.852773                   12.816460   \n",
       "std               11009.777397              33.437065              142.910148                 4290.641295                  150.963298   \n",
       "min                   0.000000               0.000000                0.000000                    0.000000                  -92.152000   \n",
       "25%                  71.322500               2.067000                0.030000                   14.304500                   -2.415500   \n",
       "50%                 539.138000              23.215000                2.249500                  225.690500                    3.914000   \n",
       "75%                2083.548000              60.197000               16.876500                 1385.209750                   12.915500   \n",
       "max              105642.710000             100.000000             2578.740000                57655.786000                 8345.716000   \n",
       "\n",
       "       low_carbon_share_energy  low_carbon_cons_change_twh  low_carbon_consumption  low_carbon_energy_per_capita  nuclear_share_elec  \\\n",
       "count              4064.000000                 3991.000000             4070.000000                   4070.000000         5355.000000   \n",
       "mean                 12.949938                    5.267276              155.606995                   5679.831231            5.251530   \n",
       "std                  15.184818                   31.327047              434.481475                  13421.793031           13.804848   \n",
       "min                   0.000000                 -383.227000                0.000000                      0.000000            0.000000   \n",
       "25%                   1.755750                   -0.179500                2.744000                    176.222750            0.000000   \n",
       "50%                   7.498000                    0.226000               26.193000                   1072.066500            0.000000   \n",
       "75%                  18.470750                    4.014500              110.072500                   4929.699000            0.000000   \n",
       "max                  82.835000                  551.795000             5848.439000                 146224.492000           86.920000   \n",
       "\n",
       "       nuclear_cons_change_pct  nuclear_share_energy  nuclear_cons_change_twh  nuclear_consumption  nuclear_elec_per_capita  \\\n",
       "count              1325.000000           4064.000000              3991.000000          4070.000000              5338.000000   \n",
       "mean                 45.478537              3.053229                 1.600866            60.832154               381.737421   \n",
       "std                 440.195293              6.750992                16.526761           227.224921              1120.857776   \n",
       "min                -100.000000              0.000000              -375.879000             0.000000                 0.000000   \n",
       "25%                  -2.797000              0.000000                 0.000000             0.000000                 0.000000   \n",
       "50%                   2.377000              0.000000                 0.000000             0.000000                 0.000000   \n",
       "75%                  13.545000              1.380500                 0.000000            17.164750                 0.000000   \n",
       "max               11200.000000             41.707000               209.657000          2254.808000              8899.826000   \n",
       "\n",
       "       nuclear_energy_per_capita  oil_share_elec  oil_cons_change_pct  oil_share_energy  oil_cons_change_twh  oil_consumption  oil_elec_per_capita  \\\n",
       "count                4070.000000     4615.000000          3985.000000       4064.000000          3985.000000      4064.000000          4598.000000   \n",
       "mean                 1446.104650       33.894466             3.046134         48.809814             7.656523       485.120746           897.041027   \n",
       "std                  3437.120991       38.988467            10.171724         21.260447            54.761674      1227.919062          1876.786068   \n",
       "min                     0.000000        0.000000           -73.921000          5.053000          -753.015000         0.572000             0.000000   \n",
       "25%                     0.000000        1.247000            -1.745000         33.425000            -1.996000        62.303250            14.727500   \n",
       "50%                     0.000000       12.353000             2.516000         45.702000             2.385000       139.927500           139.136000   \n",
       "75%                   427.182500       71.156500             7.014000         63.416250            11.127000       382.473000           664.733750   \n",
       "max                 24721.759000      100.000000           142.590000        100.000000           700.394000     11213.711000         11933.939000   \n",
       "\n",
       "       oil_energy_per_capita  oil_production  oil_prod_per_capita  other_renewables_elec_per_capita  other_renewables_share_elec  \\\n",
       "count            4064.000000     7653.000000         7.644000e+03                       5338.000000                  5355.000000   \n",
       "mean            16797.867638      292.094489         4.751021e+04                        114.252558                     1.980020   \n",
       "std             17441.934791      850.367774         2.336803e+05                        792.928711                     4.891664   \n",
       "min               124.142000        0.000000         0.000000e+00                          0.000000                     0.000000   \n",
       "25%              5316.353000        0.000000         0.000000e+00                          0.000000                     0.000000   \n",
       "50%             12296.019500        1.826000         1.103130e+02                          0.130500                     0.014000   \n",
       "75%             22638.968750      117.156000         7.643265e+03                         37.522500                     1.430000   \n",
       "max            151237.334000     8670.215000         3.758746e+06                      17495.575000                    49.047000   \n",
       "\n",
       "       other_renewables_cons_change_pct  other_renewables_share_energy  other_renewables_cons_change_twh  other_renewable_consumption  \\\n",
       "count                       2116.000000                    4064.000000                       3991.000000                  4070.000000   \n",
       "mean                          38.432738                       0.637480                          0.377750                     6.441992   \n",
       "std                          537.084429                       1.914335                          2.042587                    22.204243   \n",
       "min                         -100.000000                       0.000000                        -25.208000                     0.000000   \n",
       "25%                           -1.073500                       0.000000                          0.000000                     0.000000   \n",
       "50%                            5.009000                       0.018000                          0.000000                     0.058000   \n",
       "75%                           17.702500                       0.422250                          0.100000                     2.807750   \n",
       "max                        21131.333000                      24.594000                         42.738000                   254.629000   \n",
       "\n",
       "       other_renewables_energy_per_capita  per_capita_electricity    population  primary_energy_consumption  renewables_elec_per_capita  \\\n",
       "count                         4070.000000             5338.000000  15291.000000                 8861.000000                 5338.000000   \n",
       "mean                           359.535283             3975.506727     27.926524                  599.637889                 1176.115352   \n",
       "std                           2359.321143             5071.671853    101.614427                 2449.126475                 3988.643172   \n",
       "min                              0.000000                0.000000      0.002000                    0.000000                    0.000000   \n",
       "25%                              0.000000              630.670000      1.706988                    5.730000                   14.268750   \n",
       "50%                              3.842000             2462.170500      6.277517                   50.370000                  186.809500   \n",
       "75%                            140.032250             5611.601500     18.368000                  299.549000                  802.220000   \n",
       "max                          44322.653000            57661.365000   1433.784064                39360.925000                57655.786000   \n",
       "\n",
       "       renewables_share_elec  renewables_cons_change_pct  renewables_share_energy  renewables_cons_change_twh  renewables_consumption  \\\n",
       "count            5355.000000                 3612.000000              4064.000000                 3991.000000             4070.000000   \n",
       "mean               28.715568                   12.442907                 9.896718                    3.666406               94.774836   \n",
       "std                32.182587                  152.315236                13.499249                   25.366810              270.634896   \n",
       "min                 0.000000                  -92.641000                 0.000000                 -174.983000                0.000000   \n",
       "25%                 1.389500                   -3.634000                 0.828500                   -0.216000                2.083000   \n",
       "50%                14.276000                    4.185000                 4.579500                    0.144000               15.154500   \n",
       "75%                52.286500                   14.502250                13.975250                    2.780500               69.087000   \n",
       "max               100.000000                 8345.716000                82.835000                  524.526000             4984.982000   \n",
       "\n",
       "       renewables_energy_per_capita  solar_share_elec  solar_cons_change_pct  solar_share_energy  solar_cons_change_twh  solar_consumption  \\\n",
       "count                   4070.000000       5355.000000            1200.000000         4064.000000            3991.000000        4070.000000   \n",
       "mean                    4233.726576          0.416643             140.915686            0.078351               0.439330           1.789886   \n",
       "std                    12574.532291          1.505640             645.014142            0.339342               4.447469          16.341806   \n",
       "min                        0.000000          0.000000            -100.000000            0.000000              -4.641000           0.000000   \n",
       "25%                      145.737000          0.000000               6.196250            0.000000               0.000000           0.000000   \n",
       "50%                      690.998000          0.000000              25.474500            0.000000               0.000000           0.000000   \n",
       "75%                     2637.554250          0.060000              75.537750            0.001000               0.000500           0.006000   \n",
       "max                   146224.492000         25.711000           11974.129000            3.593000             145.164000         554.178000   \n",
       "\n",
       "       solar_elec_per_capita  solar_energy_per_capita           gdp  wind_share_elec  wind_cons_change_pct  wind_share_energy  wind_cons_change_twh  \\\n",
       "count            5338.000000              4070.000000  10297.000000      5355.000000            1399.00000        4064.000000           3991.000000   \n",
       "mean               14.143407                29.013795    278.495118         1.070558             260.47835           0.344072              0.876496   \n",
       "std                57.960138               128.454939   1017.567473         3.881934            6510.86803           1.360302              6.462871   \n",
       "min                 0.000000                 0.000000      0.196308         0.000000            -100.00000           0.000000            -10.409000   \n",
       "25%                 0.000000                 0.000000     12.336326         0.000000               0.95650           0.000000              0.000000   \n",
       "50%                 0.000000                 0.000000     41.451618         0.000000              19.16400           0.000000              0.000000   \n",
       "75%                 0.711750                 0.248000    167.000000         0.095000              51.33350           0.014250              0.005000   \n",
       "max               825.094000              1763.675000  17200.000000        56.338000          242384.84300          20.660000            155.786000   \n",
       "\n",
       "       wind_consumption  wind_elec_per_capita  wind_energy_per_capita  \n",
       "count       4070.000000           5338.000000             4070.000000  \n",
       "mean           5.925530             52.594679              132.682458  \n",
       "std           41.987352            210.220048              518.554375  \n",
       "min            0.000000              0.000000                0.000000  \n",
       "25%            0.000000              0.000000                0.000000  \n",
       "50%            0.000000              0.000000                0.000000  \n",
       "75%            0.093000              2.088750                3.240750  \n",
       "max         1004.602000           2825.425000             6928.363000  "
      ]
     },
     "execution_count": 290,
     "metadata": {},
     "output_type": "execute_result"
    }
   ],
   "source": [
    "# Se consultan las estadísticas de los valores numéricos.\n",
    "wec.describe()"
   ]
  },
  {
   "cell_type": "code",
   "execution_count": 291,
   "metadata": {},
   "outputs": [
    {
     "data": {
      "text/plain": [
       "'El dataset tiene 15509 filas y 123 columnas correspondientes a 215 paises.'"
      ]
     },
     "execution_count": 291,
     "metadata": {},
     "output_type": "execute_result"
    }
   ],
   "source": [
    "# Se verifica la cantidad de columnas y filas correspondientes a los países.\n",
    "forma = wec.shape\n",
    "paises = len(wec[\"country\"].unique())\n",
    "f\"El dataset tiene {forma[0]} filas y {forma[1]} columnas correspondientes a {paises} paises.\""
   ]
  },
  {
   "cell_type": "code",
   "execution_count": 292,
   "metadata": {},
   "outputs": [
    {
     "name": "stdout",
     "output_type": "stream",
     "text": [
      "Index(['iso_code', 'country', 'year', 'coal_prod_change_pct', 'coal_prod_change_twh', 'gas_prod_change_pct', 'gas_prod_change_twh',\n",
      "       'oil_prod_change_pct', 'oil_prod_change_twh', 'energy_cons_change_pct',\n",
      "       ...\n",
      "       'solar_energy_per_capita', 'gdp', 'wind_share_elec', 'wind_cons_change_pct', 'wind_share_energy', 'wind_cons_change_twh', 'wind_consumption',\n",
      "       'wind_elec_per_capita', 'wind_energy_per_capita', 'continente'],\n",
      "      dtype='object', length=123)\n"
     ]
    }
   ],
   "source": [
    "# Se consultan los nombres de las columnas\n",
    "print(wec.columns)"
   ]
  },
  {
   "cell_type": "markdown",
   "metadata": {},
   "source": [
    "### Se detectan outliers"
   ]
  },
  {
   "cell_type": "code",
   "execution_count": 293,
   "metadata": {},
   "outputs": [
    {
     "data": {
      "image/png": "[encoded data removed]",
      "text/plain": [
       "<Figure size 800x500 with 1 Axes>"
      ]
     },
     "metadata": {},
     "output_type": "display_data"
    }
   ],
   "source": [
    "# Se grafica la distribución de datos\n",
    "columnas_numericas = ['population', 'low_carbon_share_elec', 'fossil_share_elec', 'renewables_share_elec', 'nuclear_share_elec', 'fossil_cons_per_capita', 'per_capita_electricity']\n",
    "sns.set(style=\"whitegrid\")\n",
    "plt.figure(figsize=(8, 5))\n",
    "colors = px.colors.qualitative.Set2\n",
    "ax = sns.boxplot(data=wec[columnas_numericas])\n",
    "ax.set_title('Diagrama de Cajas de Variables en wec_medias', fontsize=16)\n",
    "ax.set_ylabel('Valor', fontsize=14)\n",
    "ax.set_xlabel('Variable', fontsize=14)\n",
    "plt.xticks(rotation=45, ha='right')\n",
    "plt.show()"
   ]
  },
  {
   "cell_type": "markdown",
   "metadata": {},
   "source": [
    "Se observan outliers en las columnas: electricidad per cápita"
   ]
  },
  {
   "cell_type": "markdown",
   "metadata": {},
   "source": [
    "## Dependencia de combustibles fósiles y transición energética\n",
    "###  ¿De qué fuentes proviene la electricidad que consume cada país?"
   ]
  },
  {
   "cell_type": "code",
   "execution_count": 294,
   "metadata": {},
   "outputs": [],
   "source": [
    "# Se seleccionan las columnas de interés.\n",
    "wec_ns = wec[[\"country\", 'year', \"population\", \"fossil_cons_per_capita\", \"per_capita_electricity\", \"low_carbon_share_elec\", \"fossil_share_elec\", \n",
    "\"renewables_share_elec\", \"nuclear_share_elec\", \"continente\", \"iso_code\"]]"
   ]
  },
  {
   "cell_type": "code",
   "execution_count": 295,
   "metadata": {},
   "outputs": [],
   "source": [
    "# Se consultan los valores nulos por año\n",
    "valores_nulos_por_anio= wec_ns.groupby('year').apply(lambda x: x.isnull().sum().sum()).reset_index()\n",
    "valores_nulos_por_anio.columns = ['year', 'cantidad_total_de_nulos']"
   ]
  },
  {
   "cell_type": "code",
   "execution_count": 296,
   "metadata": {},
   "outputs": [
    {
     "data": {
      "application/vnd.plotly.v1+json": {
       "config": {
        "plotlyServerURL": "https://plot.ly"
       },
       "data": [
        {
         "type": "bar",
         "x": [
          1900,
          1901,
          1902,
          1903,
          1904,
          1905,
          1906,
          1907,
          1908,
          1909,
          1910,
          1911,
          1912,
          1913,
          1914,
          1915,
          1916,
          1917,
          1918,
          1919,
          1920,
          1921,
          1922,
          1923,
          1924,
          1925,
          1926,
          1927,
          1928,
          1929,
          1930,
          1931,
          1932,
          1933,
          1934,
          1935,
          1936,
          1937,
          1938,
          1939,
          1940,
          1941,
          1942,
          1943,
          1944,
          1945,
          1946,
          1947,
          1948,
          1949,
          1950,
          1951,
          1952,
          1953,
          1954,
          1955,
          1956,
          1957,
          1958,
          1959,
          1960,
          1961,
          1962,
          1963,
          1964,
          1965,
          1966,
          1967,
          1968,
          1969,
          1970,
          1971,
          1972,
          1973,
          1974,
          1975,
          1976,
          1977,
          1978,
          1979,
          1980,
          1981,
          1982,
          1983,
          1984,
          1985,
          1986,
          1987,
          1988,
          1989,
          1990,
          1991,
          1992,
          1993,
          1994,
          1995,
          1996,
          1997,
          1998,
          1999,
          2000,
          2001,
          2002,
          2003,
          2004,
          2005,
          2006,
          2007,
          2008,
          2009,
          2010,
          2011,
          2012,
          2013,
          2014,
          2015,
          2016,
          2017,
          2018,
          2019,
          2020
         ],
         "y": [
          517,
          517,
          517,
          517,
          517,
          517,
          517,
          517,
          517,
          517,
          517,
          517,
          517,
          517,
          517,
          517,
          517,
          517,
          517,
          517,
          517,
          517,
          517,
          517,
          517,
          517,
          517,
          517,
          517,
          517,
          517,
          517,
          517,
          517,
          517,
          517,
          517,
          517,
          517,
          517,
          517,
          517,
          517,
          517,
          517,
          517,
          517,
          517,
          517,
          517,
          516,
          516,
          516,
          516,
          516,
          516,
          516,
          516,
          516,
          516,
          516,
          516,
          516,
          516,
          516,
          600,
          600,
          600,
          606,
          606,
          612,
          612,
          612,
          612,
          612,
          612,
          612,
          612,
          612,
          612,
          1172,
          1172,
          1172,
          1172,
          1172,
          820,
          826,
          826,
          826,
          826,
          838,
          838,
          880,
          880,
          886,
          886,
          886,
          892,
          892,
          898,
          67,
          63,
          63,
          69,
          69,
          69,
          61,
          61,
          57,
          57,
          61,
          61,
          57,
          57,
          57,
          57,
          57,
          21,
          21,
          21,
          68
         ]
        }
       ],
       "layout": {
        "height": 500,
        "template": {
         "data": {
          "bar": [
           {
            "error_x": {
             "color": "#2a3f5f"
            },
            "error_y": {
             "color": "#2a3f5f"
            },
            "marker": {
             "line": {
              "color": "#E5ECF6",
              "width": 0.5
             },
             "pattern": {
              "fillmode": "overlay",
              "size": 10,
              "solidity": 0.2
             }
            },
            "type": "bar"
           }
          ],
          "barpolar": [
           {
            "marker": {
             "line": {
              "color": "#E5ECF6",
              "width": 0.5
             },
             "pattern": {
              "fillmode": "overlay",
              "size": 10,
              "solidity": 0.2
             }
            },
            "type": "barpolar"
           }
          ],
          "carpet": [
           {
            "aaxis": {
             "endlinecolor": "#2a3f5f",
             "gridcolor": "white",
             "linecolor": "white",
             "minorgridcolor": "white",
             "startlinecolor": "#2a3f5f"
            },
            "baxis": {
             "endlinecolor": "#2a3f5f",
             "gridcolor": "white",
             "linecolor": "white",
             "minorgridcolor": "white",
             "startlinecolor": "#2a3f5f"
            },
            "type": "carpet"
           }
          ],
          "choropleth": [
           {
            "colorbar": {
             "outlinewidth": 0,
             "ticks": ""
            },
            "type": "choropleth"
           }
          ],
          "contour": [
           {
            "colorbar": {
             "outlinewidth": 0,
             "ticks": ""
            },
            "colorscale": [
             [
              0,
              "#0d0887"
             ],
             [
              0.1111111111111111,
              "#46039f"
             ],
             [
              0.2222222222222222,
              "#7201a8"
             ],
             [
              0.3333333333333333,
              "#9c179e"
             ],
             [
              0.4444444444444444,
              "#bd3786"
             ],
             [
              0.5555555555555556,
              "#d8576b"
             ],
             [
              0.6666666666666666,
              "#ed7953"
             ],
             [
              0.7777777777777778,
              "#fb9f3a"
             ],
             [
              0.8888888888888888,
              "#fdca26"
             ],
             [
              1,
              "#f0f921"
             ]
            ],
            "type": "contour"
           }
          ],
          "contourcarpet": [
           {
            "colorbar": {
             "outlinewidth": 0,
             "ticks": ""
            },
            "type": "contourcarpet"
           }
          ],
          "heatmap": [
           {
            "colorbar": {
             "outlinewidth": 0,
             "ticks": ""
            },
            "colorscale": [
             [
              0,
              "#0d0887"
             ],
             [
              0.1111111111111111,
              "#46039f"
             ],
             [
              0.2222222222222222,
              "#7201a8"
             ],
             [
              0.3333333333333333,
              "#9c179e"
             ],
             [
              0.4444444444444444,
              "#bd3786"
             ],
             [
              0.5555555555555556,
              "#d8576b"
             ],
             [
              0.6666666666666666,
              "#ed7953"
             ],
             [
              0.7777777777777778,
              "#fb9f3a"
             ],
             [
              0.8888888888888888,
              "#fdca26"
             ],
             [
              1,
              "#f0f921"
             ]
            ],
            "type": "heatmap"
           }
          ],
          "heatmapgl": [
           {
            "colorbar": {
             "outlinewidth": 0,
             "ticks": ""
            },
            "colorscale": [
             [
              0,
              "#0d0887"
             ],
             [
              0.1111111111111111,
              "#46039f"
             ],
             [
              0.2222222222222222,
              "#7201a8"
             ],
             [
              0.3333333333333333,
              "#9c179e"
             ],
             [
              0.4444444444444444,
              "#bd3786"
             ],
             [
              0.5555555555555556,
              "#d8576b"
             ],
             [
              0.6666666666666666,
              "#ed7953"
             ],
             [
              0.7777777777777778,
              "#fb9f3a"
             ],
             [
              0.8888888888888888,
              "#fdca26"
             ],
             [
              1,
              "#f0f921"
             ]
            ],
            "type": "heatmapgl"
           }
          ],
          "histogram": [
           {
            "marker": {
             "pattern": {
              "fillmode": "overlay",
              "size": 10,
              "solidity": 0.2
             }
            },
            "type": "histogram"
           }
          ],
          "histogram2d": [
           {
            "colorbar": {
             "outlinewidth": 0,
             "ticks": ""
            },
            "colorscale": [
             [
              0,
              "#0d0887"
             ],
             [
              0.1111111111111111,
              "#46039f"
             ],
             [
              0.2222222222222222,
              "#7201a8"
             ],
             [
              0.3333333333333333,
              "#9c179e"
             ],
             [
              0.4444444444444444,
              "#bd3786"
             ],
             [
              0.5555555555555556,
              "#d8576b"
             ],
             [
              0.6666666666666666,
              "#ed7953"
             ],
             [
              0.7777777777777778,
              "#fb9f3a"
             ],
             [
              0.8888888888888888,
              "#fdca26"
             ],
             [
              1,
              "#f0f921"
             ]
            ],
            "type": "histogram2d"
           }
          ],
          "histogram2dcontour": [
           {
            "colorbar": {
             "outlinewidth": 0,
             "ticks": ""
            },
            "colorscale": [
             [
              0,
              "#0d0887"
             ],
             [
              0.1111111111111111,
              "#46039f"
             ],
             [
              0.2222222222222222,
              "#7201a8"
             ],
             [
              0.3333333333333333,
              "#9c179e"
             ],
             [
              0.4444444444444444,
              "#bd3786"
             ],
             [
              0.5555555555555556,
              "#d8576b"
             ],
             [
              0.6666666666666666,
              "#ed7953"
             ],
             [
              0.7777777777777778,
              "#fb9f3a"
             ],
             [
              0.8888888888888888,
              "#fdca26"
             ],
             [
              1,
              "#f0f921"
             ]
            ],
            "type": "histogram2dcontour"
           }
          ],
          "mesh3d": [
           {
            "colorbar": {
             "outlinewidth": 0,
             "ticks": ""
            },
            "type": "mesh3d"
           }
          ],
          "parcoords": [
           {
            "line": {
             "colorbar": {
              "outlinewidth": 0,
              "ticks": ""
             }
            },
            "type": "parcoords"
           }
          ],
          "pie": [
           {
            "automargin": true,
            "type": "pie"
           }
          ],
          "scatter": [
           {
            "fillpattern": {
             "fillmode": "overlay",
             "size": 10,
             "solidity": 0.2
            },
            "type": "scatter"
           }
          ],
          "scatter3d": [
           {
            "line": {
             "colorbar": {
              "outlinewidth": 0,
              "ticks": ""
             }
            },
            "marker": {
             "colorbar": {
              "outlinewidth": 0,
              "ticks": ""
             }
            },
            "type": "scatter3d"
           }
          ],
          "scattercarpet": [
           {
            "marker": {
             "colorbar": {
              "outlinewidth": 0,
              "ticks": ""
             }
            },
            "type": "scattercarpet"
           }
          ],
          "scattergeo": [
           {
            "marker": {
             "colorbar": {
              "outlinewidth": 0,
              "ticks": ""
             }
            },
            "type": "scattergeo"
           }
          ],
          "scattergl": [
           {
            "marker": {
             "colorbar": {
              "outlinewidth": 0,
              "ticks": ""
             }
            },
            "type": "scattergl"
           }
          ],
          "scattermapbox": [
           {
            "marker": {
             "colorbar": {
              "outlinewidth": 0,
              "ticks": ""
             }
            },
            "type": "scattermapbox"
           }
          ],
          "scatterpolar": [
           {
            "marker": {
             "colorbar": {
              "outlinewidth": 0,
              "ticks": ""
             }
            },
            "type": "scatterpolar"
           }
          ],
          "scatterpolargl": [
           {
            "marker": {
             "colorbar": {
              "outlinewidth": 0,
              "ticks": ""
             }
            },
            "type": "scatterpolargl"
           }
          ],
          "scatterternary": [
           {
            "marker": {
             "colorbar": {
              "outlinewidth": 0,
              "ticks": ""
             }
            },
            "type": "scatterternary"
           }
          ],
          "surface": [
           {
            "colorbar": {
             "outlinewidth": 0,
             "ticks": ""
            },
            "colorscale": [
             [
              0,
              "#0d0887"
             ],
             [
              0.1111111111111111,
              "#46039f"
             ],
             [
              0.2222222222222222,
              "#7201a8"
             ],
             [
              0.3333333333333333,
              "#9c179e"
             ],
             [
              0.4444444444444444,
              "#bd3786"
             ],
             [
              0.5555555555555556,
              "#d8576b"
             ],
             [
              0.6666666666666666,
              "#ed7953"
             ],
             [
              0.7777777777777778,
              "#fb9f3a"
             ],
             [
              0.8888888888888888,
              "#fdca26"
             ],
             [
              1,
              "#f0f921"
             ]
            ],
            "type": "surface"
           }
          ],
          "table": [
           {
            "cells": {
             "fill": {
              "color": "#EBF0F8"
             },
             "line": {
              "color": "white"
             }
            },
            "header": {
             "fill": {
              "color": "#C8D4E3"
             },
             "line": {
              "color": "white"
             }
            },
            "type": "table"
           }
          ]
         },
         "layout": {
          "annotationdefaults": {
           "arrowcolor": "#2a3f5f",
           "arrowhead": 0,
           "arrowwidth": 1
          },
          "autotypenumbers": "strict",
          "coloraxis": {
           "colorbar": {
            "outlinewidth": 0,
            "ticks": ""
           }
          },
          "colorscale": {
           "diverging": [
            [
             0,
             "#8e0152"
            ],
            [
             0.1,
             "#c51b7d"
            ],
            [
             0.2,
             "#de77ae"
            ],
            [
             0.3,
             "#f1b6da"
            ],
            [
             0.4,
             "#fde0ef"
            ],
            [
             0.5,
             "#f7f7f7"
            ],
            [
             0.6,
             "#e6f5d0"
            ],
            [
             0.7,
             "#b8e186"
            ],
            [
             0.8,
             "#7fbc41"
            ],
            [
             0.9,
             "#4d9221"
            ],
            [
             1,
             "#276419"
            ]
           ],
           "sequential": [
            [
             0,
             "#0d0887"
            ],
            [
             0.1111111111111111,
             "#46039f"
            ],
            [
             0.2222222222222222,
             "#7201a8"
            ],
            [
             0.3333333333333333,
             "#9c179e"
            ],
            [
             0.4444444444444444,
             "#bd3786"
            ],
            [
             0.5555555555555556,
             "#d8576b"
            ],
            [
             0.6666666666666666,
             "#ed7953"
            ],
            [
             0.7777777777777778,
             "#fb9f3a"
            ],
            [
             0.8888888888888888,
             "#fdca26"
            ],
            [
             1,
             "#f0f921"
            ]
           ],
           "sequentialminus": [
            [
             0,
             "#0d0887"
            ],
            [
             0.1111111111111111,
             "#46039f"
            ],
            [
             0.2222222222222222,
             "#7201a8"
            ],
            [
             0.3333333333333333,
             "#9c179e"
            ],
            [
             0.4444444444444444,
             "#bd3786"
            ],
            [
             0.5555555555555556,
             "#d8576b"
            ],
            [
             0.6666666666666666,
             "#ed7953"
            ],
            [
             0.7777777777777778,
             "#fb9f3a"
            ],
            [
             0.8888888888888888,
             "#fdca26"
            ],
            [
             1,
             "#f0f921"
            ]
           ]
          },
          "colorway": [
           "#636efa",
           "#EF553B",
           "#00cc96",
           "#ab63fa",
           "#FFA15A",
           "#19d3f3",
           "#FF6692",
           "#B6E880",
           "#FF97FF",
           "#FECB52"
          ],
          "font": {
           "color": "#2a3f5f"
          },
          "geo": {
           "bgcolor": "white",
           "lakecolor": "white",
           "landcolor": "#E5ECF6",
           "showlakes": true,
           "showland": true,
           "subunitcolor": "white"
          },
          "hoverlabel": {
           "align": "left"
          },
          "hovermode": "closest",
          "mapbox": {
           "style": "light"
          },
          "paper_bgcolor": "white",
          "plot_bgcolor": "#E5ECF6",
          "polar": {
           "angularaxis": {
            "gridcolor": "white",
            "linecolor": "white",
            "ticks": ""
           },
           "bgcolor": "#E5ECF6",
           "radialaxis": {
            "gridcolor": "white",
            "linecolor": "white",
            "ticks": ""
           }
          },
          "scene": {
           "xaxis": {
            "backgroundcolor": "#E5ECF6",
            "gridcolor": "white",
            "gridwidth": 2,
            "linecolor": "white",
            "showbackground": true,
            "ticks": "",
            "zerolinecolor": "white"
           },
           "yaxis": {
            "backgroundcolor": "#E5ECF6",
            "gridcolor": "white",
            "gridwidth": 2,
            "linecolor": "white",
            "showbackground": true,
            "ticks": "",
            "zerolinecolor": "white"
           },
           "zaxis": {
            "backgroundcolor": "#E5ECF6",
            "gridcolor": "white",
            "gridwidth": 2,
            "linecolor": "white",
            "showbackground": true,
            "ticks": "",
            "zerolinecolor": "white"
           }
          },
          "shapedefaults": {
           "line": {
            "color": "#2a3f5f"
           }
          },
          "ternary": {
           "aaxis": {
            "gridcolor": "white",
            "linecolor": "white",
            "ticks": ""
           },
           "baxis": {
            "gridcolor": "white",
            "linecolor": "white",
            "ticks": ""
           },
           "bgcolor": "#E5ECF6",
           "caxis": {
            "gridcolor": "white",
            "linecolor": "white",
            "ticks": ""
           }
          },
          "title": {
           "x": 0.05
          },
          "xaxis": {
           "automargin": true,
           "gridcolor": "white",
           "linecolor": "white",
           "ticks": "",
           "title": {
            "standoff": 15
           },
           "zerolinecolor": "white",
           "zerolinewidth": 2
          },
          "yaxis": {
           "automargin": true,
           "gridcolor": "white",
           "linecolor": "white",
           "ticks": "",
           "title": {
            "standoff": 15
           },
           "zerolinecolor": "white",
           "zerolinewidth": 2
          }
         }
        },
        "title": {
         "text": "Cantidad Total de Valores Nulos por Año"
        },
        "width": 1000,
        "xaxis": {
         "title": {
          "text": "Año"
         }
        },
        "yaxis": {
         "title": {
          "text": "Cantidad Total de Nulos"
         }
        }
       }
      }
     },
     "metadata": {},
     "output_type": "display_data"
    }
   ],
   "source": [
    "# Se grafican los valores nulos por año\n",
    "fig = go.Figure()\n",
    "fig.add_trace(go.Bar(x=valores_nulos_por_anio['year'], y=valores_nulos_por_anio['cantidad_total_de_nulos']))\n",
    "fig.update_layout(xaxis_title='Año', yaxis_title='Cantidad Total de Nulos', title='Cantidad Total de Valores Nulos por Año', height=500,width=1000)\n",
    "fig.show()"
   ]
  },
  {
   "cell_type": "markdown",
   "metadata": {},
   "source": [
    "Se observa gran cantidad de valores nulos en los primeros años. Recién después del año 2000 disminuyen."
   ]
  },
  {
   "cell_type": "markdown",
   "metadata": {},
   "source": [
    "##### Se filtra por \"year\" para contemplar la última década: "
   ]
  },
  {
   "cell_type": "code",
   "execution_count": 297,
   "metadata": {},
   "outputs": [],
   "source": [
    "# Se incluyen los años mayores a 2010 de la columna year.\n",
    "wec_ns = wec_ns[(wec_ns['year'] > 2010)]"
   ]
  },
  {
   "cell_type": "markdown",
   "metadata": {},
   "source": [
    "##### Dado, que se verifica que gran cantidad de valores nulos proviene de años anteriores al 2010, se utilizará como segundo criterio para la imputación de valores nulos, el análisis desde el 2010 al 2022, es decir 10 años, para preservar la mayor cantidad de filas, es decir preservar todos los países. "
   ]
  },
  {
   "cell_type": "code",
   "execution_count": 298,
   "metadata": {},
   "outputs": [
    {
     "name": "stdout",
     "output_type": "stream",
     "text": [
      "Años comprendidos en el análisis: [2011, 2012, 2013, 2014, 2015, 2016, 2017, 2018, 2019, 2020]\n"
     ]
    }
   ],
   "source": [
    "#Se muestran los años comprendidos en el análisis\n",
    "unique_years = wec_ns['year'].unique()\n",
    "print(\"Años comprendidos en el análisis:\", sorted(unique_years))"
   ]
  },
  {
   "cell_type": "markdown",
   "metadata": {},
   "source": [
    "##### Se calculan las medias y  se arma otro dataset."
   ]
  },
  {
   "cell_type": "code",
   "execution_count": 299,
   "metadata": {},
   "outputs": [
    {
     "name": "stdout",
     "output_type": "stream",
     "text": [
      "                                     columna  cantidad_de_nulos\n",
      "0                                   iso_code                  0\n",
      "1                                    country                  0\n",
      "2                                       year                  0\n",
      "3                       coal_prod_change_pct               9106\n",
      "4                       coal_prod_change_twh               6195\n",
      "5                        gas_prod_change_pct              11482\n",
      "6                        gas_prod_change_twh               8575\n",
      "7                        oil_prod_change_pct               9992\n",
      "8                        oil_prod_change_twh               7987\n",
      "9                     energy_cons_change_pct               6913\n",
      "10                    energy_cons_change_twh               6863\n",
      "11                        biofuel_share_elec              11344\n",
      "12                   biofuel_elec_per_capita              11361\n",
      "13                   biofuel_cons_change_pct              15088\n",
      "14                      biofuel_share_energy              11445\n",
      "15                   biofuel_cons_change_twh              10282\n",
      "16                       biofuel_consumption              10168\n",
      "17                   biofuel_cons_per_capita              10168\n",
      "18                     carbon_intensity_elec              14921\n",
      "19                           coal_share_elec              10894\n",
      "20                      coal_cons_change_pct              11963\n",
      "21                         coal_share_energy              11445\n",
      "22                      coal_cons_change_twh              11518\n",
      "23                          coal_consumption              11439\n",
      "24                      coal_elec_per_capita              10911\n",
      "25                      coal_cons_per_capita              11439\n",
      "26                           coal_production               5982\n",
      "27                      coal_prod_per_capita               6109\n",
      "28                    electricity_generation              10111\n",
      "29                       biofuel_electricity              11301\n",
      "30                          coal_electricity              10851\n",
      "31                        fossil_electricity              10851\n",
      "32                           gas_electricity              10851\n",
      "33                         hydro_electricity              10111\n",
      "34                       nuclear_electricity              10111\n",
      "35                           oil_electricity              10851\n",
      "36               other_renewable_electricity              10111\n",
      "37   other_renewable_exc_biofuel_electricity              11301\n",
      "38                    renewables_electricity              10111\n",
      "39                         solar_electricity              10111\n",
      "40                          wind_electricity              10111\n",
      "41                            energy_per_gdp               8674\n",
      "42                         energy_per_capita               6731\n",
      "43                    fossil_cons_change_pct              11524\n",
      "44                       fossil_share_energy              11445\n",
      "45                    fossil_cons_change_twh              11524\n",
      "46                   fossil_fuel_consumption              11445\n",
      "47                  fossil_energy_per_capita              11445\n",
      "48                    fossil_cons_per_capita              10911\n",
      "49                         fossil_share_elec              10894\n",
      "50                            gas_share_elec              10894\n",
      "51                       gas_cons_change_pct              12021\n",
      "52                          gas_share_energy              11445\n",
      "53                       gas_cons_change_twh              11518\n",
      "54                           gas_consumption              11439\n",
      "55                       gas_elec_per_capita              10911\n",
      "56                     gas_energy_per_capita              11439\n",
      "57                            gas_production               8420\n",
      "58                       gas_prod_per_capita               8429\n",
      "59                          hydro_share_elec              10154\n",
      "60                     hydro_cons_change_pct              12061\n",
      "61                        hydro_share_energy              11445\n",
      "62                     hydro_cons_change_twh              11518\n",
      "63                         hydro_consumption              11439\n",
      "64                     hydro_elec_per_capita              10171\n",
      "65                   hydro_energy_per_capita              11439\n",
      "66                     low_carbon_share_elec              10154\n",
      "67                    low_carbon_electricity              10111\n",
      "68                low_carbon_elec_per_capita              10171\n",
      "69                low_carbon_cons_change_pct              11890\n",
      "70                   low_carbon_share_energy              11445\n",
      "71                low_carbon_cons_change_twh              11518\n",
      "72                    low_carbon_consumption              11439\n",
      "73              low_carbon_energy_per_capita              11439\n",
      "74                        nuclear_share_elec              10154\n",
      "75                   nuclear_cons_change_pct              14184\n",
      "76                      nuclear_share_energy              11445\n",
      "77                   nuclear_cons_change_twh              11518\n",
      "78                       nuclear_consumption              11439\n",
      "79                   nuclear_elec_per_capita              10171\n",
      "80                 nuclear_energy_per_capita              11439\n",
      "81                            oil_share_elec              10894\n",
      "82                       oil_cons_change_pct              11524\n",
      "83                          oil_share_energy              11445\n",
      "84                       oil_cons_change_twh              11524\n",
      "85                           oil_consumption              11445\n",
      "86                       oil_elec_per_capita              10911\n",
      "87                     oil_energy_per_capita              11445\n",
      "88                            oil_production               7856\n",
      "89                       oil_prod_per_capita               7865\n",
      "90          other_renewables_elec_per_capita              10171\n",
      "91               other_renewables_share_elec              10154\n",
      "92          other_renewables_cons_change_pct              13393\n",
      "93             other_renewables_share_energy              11445\n",
      "94          other_renewables_cons_change_twh              11518\n",
      "95               other_renewable_consumption              11439\n",
      "96        other_renewables_energy_per_capita              11439\n",
      "97                    per_capita_electricity              10171\n",
      "98                                population                218\n",
      "99                primary_energy_consumption               6648\n",
      "100               renewables_elec_per_capita              10171\n",
      "101                    renewables_share_elec              10154\n",
      "102               renewables_cons_change_pct              11897\n",
      "103                  renewables_share_energy              11445\n",
      "104               renewables_cons_change_twh              11518\n",
      "105                   renewables_consumption              11439\n",
      "106             renewables_energy_per_capita              11439\n",
      "107                         solar_share_elec              10154\n",
      "108                    solar_cons_change_pct              14309\n",
      "109                       solar_share_energy              11445\n",
      "110                    solar_cons_change_twh              11518\n",
      "111                        solar_consumption              11439\n",
      "112                    solar_elec_per_capita              10171\n",
      "113                  solar_energy_per_capita              11439\n",
      "114                                      gdp               5212\n",
      "115                          wind_share_elec              10154\n",
      "116                     wind_cons_change_pct              14110\n",
      "117                        wind_share_energy              11445\n",
      "118                     wind_cons_change_twh              11518\n",
      "119                         wind_consumption              11439\n",
      "120                     wind_elec_per_capita              10171\n",
      "121                   wind_energy_per_capita              11439\n",
      "122                               continente                  0\n"
     ]
    }
   ],
   "source": [
    "# Contar la cantidad de valores nulos por columna\n",
    "valores_nulos_por_columna = wec.isnull().sum().reset_index()\n",
    "valores_nulos_por_columna.columns = ['columna', 'cantidad_de_nulos']\n",
    "# Mostrar el DataFrame resultante\n",
    "print(valores_nulos_por_columna)"
   ]
  },
  {
   "cell_type": "markdown",
   "metadata": {},
   "source": [
    "##### Se decide usar los valores medios de los últimos 10 años para evitar distorsión en los datos por aumentos o disminuciones en años puntuales. "
   ]
  },
  {
   "cell_type": "code",
   "execution_count": 300,
   "metadata": {},
   "outputs": [],
   "source": [
    "# Se calculan las medias según el país\n",
    "wec_medias = wec_ns.groupby('country').agg({\n",
    "    'population': 'mean',\n",
    "    'low_carbon_share_elec' : 'mean', \n",
    "    \"fossil_share_elec\": \"mean\",\n",
    "    \"renewables_share_elec\": \"mean\",\n",
    "    \"nuclear_share_elec\": \"mean\",\n",
    "    \"fossil_cons_per_capita\" : 'mean', \n",
    "    \"per_capita_electricity\" : 'mean',\n",
    "    'continente': 'first',\n",
    "    'iso_code': 'first'\n",
    "}).reset_index()"
   ]
  },
  {
   "cell_type": "code",
   "execution_count": 301,
   "metadata": {},
   "outputs": [
    {
     "data": {
      "image/png": "[encoded data removed]",
      "text/plain": [
       "<Figure size 600x300 with 1 Axes>"
      ]
     },
     "metadata": {},
     "output_type": "display_data"
    }
   ],
   "source": [
    "# visualización de valores faltantes\n",
    "plt.figure(figsize=(6,3))\n",
    "sns.heatmap(wec_medias.isnull(), cmap='viridis', cbar=False)\n",
    "plt.title('Valores Faltantes en el DataFrame')\n",
    "plt.show()"
   ]
  },
  {
   "cell_type": "markdown",
   "metadata": {},
   "source": [
    "##### Finalmente se realiza la imputación final de los nulos eliminándolo, ya que no hay datos de los últimos 10 años para esos países. "
   ]
  },
  {
   "cell_type": "code",
   "execution_count": 302,
   "metadata": {},
   "outputs": [],
   "source": [
    "# Se eliminan las filas de acuerdo al criterio establecido. \n",
    "wec_medias.dropna(axis = 0, how = 'any', inplace = True)"
   ]
  },
  {
   "cell_type": "code",
   "execution_count": 303,
   "metadata": {},
   "outputs": [
    {
     "data": {
      "image/png": "[encoded data removed]",
      "text/plain": [
       "<Figure size 600x300 with 1 Axes>"
      ]
     },
     "metadata": {},
     "output_type": "display_data"
    }
   ],
   "source": [
    "# Se verifica que no hayan valores faltantes a través de un gráfico\n",
    "plt.figure(figsize=(6, 3))\n",
    "sns.heatmap(wec_medias.isnull(), cmap='viridis', cbar=False)\n",
    "plt.title('Valores Faltantes en el DataFrame')\n",
    "plt.show()"
   ]
  },
  {
   "cell_type": "markdown",
   "metadata": {},
   "source": [
    "##### ¿De cuántos países se tienen datos?"
   ]
  },
  {
   "cell_type": "code",
   "execution_count": 304,
   "metadata": {},
   "outputs": [
    {
     "name": "stdout",
     "output_type": "stream",
     "text": [
      "Cantidad de países de los que se tienen datos:\n"
     ]
    },
    {
     "data": {
      "text/plain": [
       "203"
      ]
     },
     "execution_count": 304,
     "metadata": {},
     "output_type": "execute_result"
    }
   ],
   "source": [
    "print(f\"Cantidad de países de los que se tienen datos:\")\n",
    "len(wec_medias[\"country\"].unique())"
   ]
  },
  {
   "cell_type": "markdown",
   "metadata": {},
   "source": [
    "##### ¿cuáles son los países?"
   ]
  },
  {
   "cell_type": "code",
   "execution_count": 305,
   "metadata": {},
   "outputs": [
    {
     "data": {
      "text/plain": [
       "array(['Afghanistan', 'Albania', 'Algeria', 'American Samoa', 'Angola',\n",
       "       'Antigua and Barbuda', 'Argentina', 'Armenia', 'Aruba',\n",
       "       'Australia', 'Austria', 'Azerbaijan', 'Bahamas', 'Bahrain',\n",
       "       'Bangladesh', 'Barbados', 'Belarus', 'Belgium', 'Belize', 'Benin',\n",
       "       'Bermuda', 'Bhutan', 'Bolivia', 'Bosnia and Herzegovina',\n",
       "       'Botswana', 'Brazil', 'British Virgin Islands', 'Brunei',\n",
       "       'Bulgaria', 'Burkina Faso', 'Burundi', 'Cambodia', 'Cameroon',\n",
       "       'Canada', 'Cayman Islands', 'Central African Republic', 'Chad',\n",
       "       'Chile', 'China', 'Colombia', 'Comoros', 'Congo', 'Cook Islands',\n",
       "       'Costa Rica', 'Croatia', 'Cuba', 'Cyprus', 'Czechia',\n",
       "       'Democratic Republic of Congo', 'Denmark', 'Djibouti', 'Dominica',\n",
       "       'Dominican Republic', 'Ecuador', 'Egypt', 'El Salvador',\n",
       "       'Equatorial Guinea', 'Eritrea', 'Estonia', 'Ethiopia', 'Fiji',\n",
       "       'Finland', 'France', 'French Guiana', 'French Polynesia', 'Gabon',\n",
       "       'Gambia', 'Georgia', 'Germany', 'Ghana', 'Gibraltar', 'Greece',\n",
       "       'Greenland', 'Grenada', 'Guadeloupe', 'Guam', 'Guatemala',\n",
       "       'Guinea', 'Guinea-Bissau', 'Guyana', 'Haiti', 'Honduras',\n",
       "       'Hong Kong', 'Hungary', 'Iceland', 'India', 'Indonesia', 'Iran',\n",
       "       'Iraq', 'Ireland', 'Israel', 'Italy', 'Jamaica', 'Japan', 'Jordan',\n",
       "       'Kazakhstan', 'Kenya', 'Kiribati', 'Kuwait', 'Kyrgyzstan', 'Laos',\n",
       "       'Latvia', 'Lebanon', 'Lesotho', 'Liberia', 'Libya', 'Lithuania',\n",
       "       'Luxembourg', 'Madagascar', 'Malawi', 'Malaysia', 'Maldives',\n",
       "       'Mali', 'Malta', 'Martinique', 'Mauritania', 'Mauritius', 'Mexico',\n",
       "       'Moldova', 'Mongolia', 'Montenegro', 'Montserrat', 'Morocco',\n",
       "       'Mozambique', 'Namibia', 'Nauru', 'Nepal', 'Netherlands',\n",
       "       'New Caledonia', 'New Zealand', 'Nicaragua', 'Niger', 'Nigeria',\n",
       "       'Niue', 'North Korea', 'Norway', 'Oman', 'Pakistan', 'Palestine',\n",
       "       'Panama', 'Papua New Guinea', 'Paraguay', 'Peru', 'Philippines',\n",
       "       'Poland', 'Portugal', 'Puerto Rico', 'Qatar', 'Romania', 'Russia',\n",
       "       'Rwanda', 'Saint Helena', 'Saint Kitts and Nevis', 'Saint Lucia',\n",
       "       'Saint Pierre and Miquelon', 'Saint Vincent and the Grenadines',\n",
       "       'Samoa', 'Sao Tome and Principe', 'Saudi Arabia', 'Senegal',\n",
       "       'Serbia', 'Seychelles', 'Sierra Leone', 'Singapore', 'Slovakia',\n",
       "       'Slovenia', 'Solomon Islands', 'Somalia', 'South Africa',\n",
       "       'South Korea', 'South Sudan', 'Spain', 'Sri Lanka', 'Sudan',\n",
       "       'Suriname', 'Sweden', 'Switzerland', 'Syria', 'Taiwan',\n",
       "       'Tajikistan', 'Tanzania', 'Thailand', 'Togo', 'Tonga',\n",
       "       'Trinidad and Tobago', 'Tunisia', 'Turkey', 'Turkmenistan',\n",
       "       'Turks and Caicos Islands', 'Uganda', 'Ukraine',\n",
       "       'United Arab Emirates', 'United Kingdom', 'United States',\n",
       "       'United States Virgin Islands', 'Uruguay', 'Uzbekistan', 'Vanuatu',\n",
       "       'Venezuela', 'Vietnam', 'Yemen', 'Zambia', 'Zimbabwe'],\n",
       "      dtype=object)"
      ]
     },
     "execution_count": 305,
     "metadata": {},
     "output_type": "execute_result"
    }
   ],
   "source": [
    "# Se obtienen los valores únicos de la columna country para determinar los países con los que se trabajará\n",
    "wec_medias['country'].unique()   "
   ]
  },
  {
   "cell_type": "code",
   "execution_count": 306,
   "metadata": {},
   "outputs": [
    {
     "data": {
      "text/html": [
       "<div>\n",
       "<style scoped>\n",
       "    .dataframe tbody tr th:only-of-type {\n",
       "        vertical-align: middle;\n",
       "    }\n",
       "\n",
       "    .dataframe tbody tr th {\n",
       "        vertical-align: top;\n",
       "    }\n",
       "\n",
       "    .dataframe thead th {\n",
       "        text-align: right;\n",
       "    }\n",
       "</style>\n",
       "<table border=\"1\" class=\"dataframe\">\n",
       "  <thead>\n",
       "    <tr style=\"text-align: right;\">\n",
       "      <th></th>\n",
       "      <th>country</th>\n",
       "      <th>population</th>\n",
       "      <th>low_carbon_share_elec</th>\n",
       "      <th>fossil_share_elec</th>\n",
       "      <th>renewables_share_elec</th>\n",
       "      <th>nuclear_share_elec</th>\n",
       "      <th>fossil_cons_per_capita</th>\n",
       "      <th>per_capita_electricity</th>\n",
       "      <th>continente</th>\n",
       "      <th>iso_code</th>\n",
       "    </tr>\n",
       "  </thead>\n",
       "  <tbody>\n",
       "    <tr>\n",
       "      <th>0</th>\n",
       "      <td>Afghanistan</td>\n",
       "      <td>34.247333</td>\n",
       "      <td>83.543444</td>\n",
       "      <td>16.456556</td>\n",
       "      <td>83.543444</td>\n",
       "      <td>0.0</td>\n",
       "      <td>5.156111</td>\n",
       "      <td>31.813000</td>\n",
       "      <td>Asia</td>\n",
       "      <td>AFG</td>\n",
       "    </tr>\n",
       "    <tr>\n",
       "      <th>1</th>\n",
       "      <td>Albania</td>\n",
       "      <td>2.896444</td>\n",
       "      <td>99.851444</td>\n",
       "      <td>0.148556</td>\n",
       "      <td>99.851444</td>\n",
       "      <td>0.0</td>\n",
       "      <td>2.103889</td>\n",
       "      <td>1998.432000</td>\n",
       "      <td>Europa</td>\n",
       "      <td>ALB</td>\n",
       "    </tr>\n",
       "    <tr>\n",
       "      <th>2</th>\n",
       "      <td>Algeria</td>\n",
       "      <td>39.784222</td>\n",
       "      <td>0.766333</td>\n",
       "      <td>99.233667</td>\n",
       "      <td>0.766333</td>\n",
       "      <td>0.0</td>\n",
       "      <td>1568.103333</td>\n",
       "      <td>1580.157222</td>\n",
       "      <td>África</td>\n",
       "      <td>DZA</td>\n",
       "    </tr>\n",
       "    <tr>\n",
       "      <th>3</th>\n",
       "      <td>American Samoa</td>\n",
       "      <td>0.055778</td>\n",
       "      <td>0.000000</td>\n",
       "      <td>100.000000</td>\n",
       "      <td>0.000000</td>\n",
       "      <td>0.0</td>\n",
       "      <td>2888.744333</td>\n",
       "      <td>2888.744333</td>\n",
       "      <td>Oceanía</td>\n",
       "      <td>ASM</td>\n",
       "    </tr>\n",
       "    <tr>\n",
       "      <th>4</th>\n",
       "      <td>Angola</td>\n",
       "      <td>27.940556</td>\n",
       "      <td>65.673556</td>\n",
       "      <td>34.326444</td>\n",
       "      <td>65.673556</td>\n",
       "      <td>0.0</td>\n",
       "      <td>110.650000</td>\n",
       "      <td>326.007889</td>\n",
       "      <td>África</td>\n",
       "      <td>AGO</td>\n",
       "    </tr>\n",
       "  </tbody>\n",
       "</table>\n",
       "</div>"
      ],
      "text/plain": [
       "          country  population  low_carbon_share_elec  fossil_share_elec  renewables_share_elec  nuclear_share_elec  fossil_cons_per_capita  \\\n",
       "0     Afghanistan   34.247333              83.543444          16.456556              83.543444                 0.0                5.156111   \n",
       "1         Albania    2.896444              99.851444           0.148556              99.851444                 0.0                2.103889   \n",
       "2         Algeria   39.784222               0.766333          99.233667               0.766333                 0.0             1568.103333   \n",
       "3  American Samoa    0.055778               0.000000         100.000000               0.000000                 0.0             2888.744333   \n",
       "4          Angola   27.940556              65.673556          34.326444              65.673556                 0.0              110.650000   \n",
       "\n",
       "   per_capita_electricity continente iso_code  \n",
       "0               31.813000       Asia      AFG  \n",
       "1             1998.432000     Europa      ALB  \n",
       "2             1580.157222     África      DZA  \n",
       "3             2888.744333    Oceanía      ASM  \n",
       "4              326.007889     África      AGO  "
      ]
     },
     "execution_count": 306,
     "metadata": {},
     "output_type": "execute_result"
    }
   ],
   "source": [
    "# Se observan las primeras filas\n",
    "wec_medias.head(5)"
   ]
  },
  {
   "cell_type": "markdown",
   "metadata": {},
   "source": [
    "### ¿cuál es la fuente de generación de eléctricidad más utilizada a nivel mundial?"
   ]
  },
  {
   "cell_type": "code",
   "execution_count": 307,
   "metadata": {},
   "outputs": [
    {
     "data": {
      "application/vnd.plotly.v1+json": {
       "config": {
        "plotlyServerURL": "https://plot.ly"
       },
       "data": [
        {
         "domain": {
          "x": [
           0,
           1
          ],
          "y": [
           0,
           1
          ]
         },
         "hovertemplate": "Source=%{label}<br>Total Share=%{value}<extra></extra>",
         "labels": [
          "Fossil",
          "Renewables",
          "Nuclear"
         ],
         "legendgroup": "",
         "name": "",
         "showlegend": true,
         "type": "pie",
         "values": [
          13201.320391666666,
          6375.379975,
          723.3005444444445
         ]
        }
       ],
       "layout": {
        "legend": {
         "tracegroupgap": 0
        },
        "template": {
         "data": {
          "bar": [
           {
            "error_x": {
             "color": "#2a3f5f"
            },
            "error_y": {
             "color": "#2a3f5f"
            },
            "marker": {
             "line": {
              "color": "#E5ECF6",
              "width": 0.5
             },
             "pattern": {
              "fillmode": "overlay",
              "size": 10,
              "solidity": 0.2
             }
            },
            "type": "bar"
           }
          ],
          "barpolar": [
           {
            "marker": {
             "line": {
              "color": "#E5ECF6",
              "width": 0.5
             },
             "pattern": {
              "fillmode": "overlay",
              "size": 10,
              "solidity": 0.2
             }
            },
            "type": "barpolar"
           }
          ],
          "carpet": [
           {
            "aaxis": {
             "endlinecolor": "#2a3f5f",
             "gridcolor": "white",
             "linecolor": "white",
             "minorgridcolor": "white",
             "startlinecolor": "#2a3f5f"
            },
            "baxis": {
             "endlinecolor": "#2a3f5f",
             "gridcolor": "white",
             "linecolor": "white",
             "minorgridcolor": "white",
             "startlinecolor": "#2a3f5f"
            },
            "type": "carpet"
           }
          ],
          "choropleth": [
           {
            "colorbar": {
             "outlinewidth": 0,
             "ticks": ""
            },
            "type": "choropleth"
           }
          ],
          "contour": [
           {
            "colorbar": {
             "outlinewidth": 0,
             "ticks": ""
            },
            "colorscale": [
             [
              0,
              "#0d0887"
             ],
             [
              0.1111111111111111,
              "#46039f"
             ],
             [
              0.2222222222222222,
              "#7201a8"
             ],
             [
              0.3333333333333333,
              "#9c179e"
             ],
             [
              0.4444444444444444,
              "#bd3786"
             ],
             [
              0.5555555555555556,
              "#d8576b"
             ],
             [
              0.6666666666666666,
              "#ed7953"
             ],
             [
              0.7777777777777778,
              "#fb9f3a"
             ],
             [
              0.8888888888888888,
              "#fdca26"
             ],
             [
              1,
              "#f0f921"
             ]
            ],
            "type": "contour"
           }
          ],
          "contourcarpet": [
           {
            "colorbar": {
             "outlinewidth": 0,
             "ticks": ""
            },
            "type": "contourcarpet"
           }
          ],
          "heatmap": [
           {
            "colorbar": {
             "outlinewidth": 0,
             "ticks": ""
            },
            "colorscale": [
             [
              0,
              "#0d0887"
             ],
             [
              0.1111111111111111,
              "#46039f"
             ],
             [
              0.2222222222222222,
              "#7201a8"
             ],
             [
              0.3333333333333333,
              "#9c179e"
             ],
             [
              0.4444444444444444,
              "#bd3786"
             ],
             [
              0.5555555555555556,
              "#d8576b"
             ],
             [
              0.6666666666666666,
              "#ed7953"
             ],
             [
              0.7777777777777778,
              "#fb9f3a"
             ],
             [
              0.8888888888888888,
              "#fdca26"
             ],
             [
              1,
              "#f0f921"
             ]
            ],
            "type": "heatmap"
           }
          ],
          "heatmapgl": [
           {
            "colorbar": {
             "outlinewidth": 0,
             "ticks": ""
            },
            "colorscale": [
             [
              0,
              "#0d0887"
             ],
             [
              0.1111111111111111,
              "#46039f"
             ],
             [
              0.2222222222222222,
              "#7201a8"
             ],
             [
              0.3333333333333333,
              "#9c179e"
             ],
             [
              0.4444444444444444,
              "#bd3786"
             ],
             [
              0.5555555555555556,
              "#d8576b"
             ],
             [
              0.6666666666666666,
              "#ed7953"
             ],
             [
              0.7777777777777778,
              "#fb9f3a"
             ],
             [
              0.8888888888888888,
              "#fdca26"
             ],
             [
              1,
              "#f0f921"
             ]
            ],
            "type": "heatmapgl"
           }
          ],
          "histogram": [
           {
            "marker": {
             "pattern": {
              "fillmode": "overlay",
              "size": 10,
              "solidity": 0.2
             }
            },
            "type": "histogram"
           }
          ],
          "histogram2d": [
           {
            "colorbar": {
             "outlinewidth": 0,
             "ticks": ""
            },
            "colorscale": [
             [
              0,
              "#0d0887"
             ],
             [
              0.1111111111111111,
              "#46039f"
             ],
             [
              0.2222222222222222,
              "#7201a8"
             ],
             [
              0.3333333333333333,
              "#9c179e"
             ],
             [
              0.4444444444444444,
              "#bd3786"
             ],
             [
              0.5555555555555556,
              "#d8576b"
             ],
             [
              0.6666666666666666,
              "#ed7953"
             ],
             [
              0.7777777777777778,
              "#fb9f3a"
             ],
             [
              0.8888888888888888,
              "#fdca26"
             ],
             [
              1,
              "#f0f921"
             ]
            ],
            "type": "histogram2d"
           }
          ],
          "histogram2dcontour": [
           {
            "colorbar": {
             "outlinewidth": 0,
             "ticks": ""
            },
            "colorscale": [
             [
              0,
              "#0d0887"
             ],
             [
              0.1111111111111111,
              "#46039f"
             ],
             [
              0.2222222222222222,
              "#7201a8"
             ],
             [
              0.3333333333333333,
              "#9c179e"
             ],
             [
              0.4444444444444444,
              "#bd3786"
             ],
             [
              0.5555555555555556,
              "#d8576b"
             ],
             [
              0.6666666666666666,
              "#ed7953"
             ],
             [
              0.7777777777777778,
              "#fb9f3a"
             ],
             [
              0.8888888888888888,
              "#fdca26"
             ],
             [
              1,
              "#f0f921"
             ]
            ],
            "type": "histogram2dcontour"
           }
          ],
          "mesh3d": [
           {
            "colorbar": {
             "outlinewidth": 0,
             "ticks": ""
            },
            "type": "mesh3d"
           }
          ],
          "parcoords": [
           {
            "line": {
             "colorbar": {
              "outlinewidth": 0,
              "ticks": ""
             }
            },
            "type": "parcoords"
           }
          ],
          "pie": [
           {
            "automargin": true,
            "type": "pie"
           }
          ],
          "scatter": [
           {
            "fillpattern": {
             "fillmode": "overlay",
             "size": 10,
             "solidity": 0.2
            },
            "type": "scatter"
           }
          ],
          "scatter3d": [
           {
            "line": {
             "colorbar": {
              "outlinewidth": 0,
              "ticks": ""
             }
            },
            "marker": {
             "colorbar": {
              "outlinewidth": 0,
              "ticks": ""
             }
            },
            "type": "scatter3d"
           }
          ],
          "scattercarpet": [
           {
            "marker": {
             "colorbar": {
              "outlinewidth": 0,
              "ticks": ""
             }
            },
            "type": "scattercarpet"
           }
          ],
          "scattergeo": [
           {
            "marker": {
             "colorbar": {
              "outlinewidth": 0,
              "ticks": ""
             }
            },
            "type": "scattergeo"
           }
          ],
          "scattergl": [
           {
            "marker": {
             "colorbar": {
              "outlinewidth": 0,
              "ticks": ""
             }
            },
            "type": "scattergl"
           }
          ],
          "scattermapbox": [
           {
            "marker": {
             "colorbar": {
              "outlinewidth": 0,
              "ticks": ""
             }
            },
            "type": "scattermapbox"
           }
          ],
          "scatterpolar": [
           {
            "marker": {
             "colorbar": {
              "outlinewidth": 0,
              "ticks": ""
             }
            },
            "type": "scatterpolar"
           }
          ],
          "scatterpolargl": [
           {
            "marker": {
             "colorbar": {
              "outlinewidth": 0,
              "ticks": ""
             }
            },
            "type": "scatterpolargl"
           }
          ],
          "scatterternary": [
           {
            "marker": {
             "colorbar": {
              "outlinewidth": 0,
              "ticks": ""
             }
            },
            "type": "scatterternary"
           }
          ],
          "surface": [
           {
            "colorbar": {
             "outlinewidth": 0,
             "ticks": ""
            },
            "colorscale": [
             [
              0,
              "#0d0887"
             ],
             [
              0.1111111111111111,
              "#46039f"
             ],
             [
              0.2222222222222222,
              "#7201a8"
             ],
             [
              0.3333333333333333,
              "#9c179e"
             ],
             [
              0.4444444444444444,
              "#bd3786"
             ],
             [
              0.5555555555555556,
              "#d8576b"
             ],
             [
              0.6666666666666666,
              "#ed7953"
             ],
             [
              0.7777777777777778,
              "#fb9f3a"
             ],
             [
              0.8888888888888888,
              "#fdca26"
             ],
             [
              1,
              "#f0f921"
             ]
            ],
            "type": "surface"
           }
          ],
          "table": [
           {
            "cells": {
             "fill": {
              "color": "#EBF0F8"
             },
             "line": {
              "color": "white"
             }
            },
            "header": {
             "fill": {
              "color": "#C8D4E3"
             },
             "line": {
              "color": "white"
             }
            },
            "type": "table"
           }
          ]
         },
         "layout": {
          "annotationdefaults": {
           "arrowcolor": "#2a3f5f",
           "arrowhead": 0,
           "arrowwidth": 1
          },
          "autotypenumbers": "strict",
          "coloraxis": {
           "colorbar": {
            "outlinewidth": 0,
            "ticks": ""
           }
          },
          "colorscale": {
           "diverging": [
            [
             0,
             "#8e0152"
            ],
            [
             0.1,
             "#c51b7d"
            ],
            [
             0.2,
             "#de77ae"
            ],
            [
             0.3,
             "#f1b6da"
            ],
            [
             0.4,
             "#fde0ef"
            ],
            [
             0.5,
             "#f7f7f7"
            ],
            [
             0.6,
             "#e6f5d0"
            ],
            [
             0.7,
             "#b8e186"
            ],
            [
             0.8,
             "#7fbc41"
            ],
            [
             0.9,
             "#4d9221"
            ],
            [
             1,
             "#276419"
            ]
           ],
           "sequential": [
            [
             0,
             "#0d0887"
            ],
            [
             0.1111111111111111,
             "#46039f"
            ],
            [
             0.2222222222222222,
             "#7201a8"
            ],
            [
             0.3333333333333333,
             "#9c179e"
            ],
            [
             0.4444444444444444,
             "#bd3786"
            ],
            [
             0.5555555555555556,
             "#d8576b"
            ],
            [
             0.6666666666666666,
             "#ed7953"
            ],
            [
             0.7777777777777778,
             "#fb9f3a"
            ],
            [
             0.8888888888888888,
             "#fdca26"
            ],
            [
             1,
             "#f0f921"
            ]
           ],
           "sequentialminus": [
            [
             0,
             "#0d0887"
            ],
            [
             0.1111111111111111,
             "#46039f"
            ],
            [
             0.2222222222222222,
             "#7201a8"
            ],
            [
             0.3333333333333333,
             "#9c179e"
            ],
            [
             0.4444444444444444,
             "#bd3786"
            ],
            [
             0.5555555555555556,
             "#d8576b"
            ],
            [
             0.6666666666666666,
             "#ed7953"
            ],
            [
             0.7777777777777778,
             "#fb9f3a"
            ],
            [
             0.8888888888888888,
             "#fdca26"
            ],
            [
             1,
             "#f0f921"
            ]
           ]
          },
          "colorway": [
           "#636efa",
           "#EF553B",
           "#00cc96",
           "#ab63fa",
           "#FFA15A",
           "#19d3f3",
           "#FF6692",
           "#B6E880",
           "#FF97FF",
           "#FECB52"
          ],
          "font": {
           "color": "#2a3f5f"
          },
          "geo": {
           "bgcolor": "white",
           "lakecolor": "white",
           "landcolor": "#E5ECF6",
           "showlakes": true,
           "showland": true,
           "subunitcolor": "white"
          },
          "hoverlabel": {
           "align": "left"
          },
          "hovermode": "closest",
          "mapbox": {
           "style": "light"
          },
          "paper_bgcolor": "white",
          "plot_bgcolor": "#E5ECF6",
          "polar": {
           "angularaxis": {
            "gridcolor": "white",
            "linecolor": "white",
            "ticks": ""
           },
           "bgcolor": "#E5ECF6",
           "radialaxis": {
            "gridcolor": "white",
            "linecolor": "white",
            "ticks": ""
           }
          },
          "scene": {
           "xaxis": {
            "backgroundcolor": "#E5ECF6",
            "gridcolor": "white",
            "gridwidth": 2,
            "linecolor": "white",
            "showbackground": true,
            "ticks": "",
            "zerolinecolor": "white"
           },
           "yaxis": {
            "backgroundcolor": "#E5ECF6",
            "gridcolor": "white",
            "gridwidth": 2,
            "linecolor": "white",
            "showbackground": true,
            "ticks": "",
            "zerolinecolor": "white"
           },
           "zaxis": {
            "backgroundcolor": "#E5ECF6",
            "gridcolor": "white",
            "gridwidth": 2,
            "linecolor": "white",
            "showbackground": true,
            "ticks": "",
            "zerolinecolor": "white"
           }
          },
          "shapedefaults": {
           "line": {
            "color": "#2a3f5f"
           }
          },
          "ternary": {
           "aaxis": {
            "gridcolor": "white",
            "linecolor": "white",
            "ticks": ""
           },
           "baxis": {
            "gridcolor": "white",
            "linecolor": "white",
            "ticks": ""
           },
           "bgcolor": "#E5ECF6",
           "caxis": {
            "gridcolor": "white",
            "linecolor": "white",
            "ticks": ""
           }
          },
          "title": {
           "x": 0.05
          },
          "xaxis": {
           "automargin": true,
           "gridcolor": "white",
           "linecolor": "white",
           "ticks": "",
           "title": {
            "standoff": 15
           },
           "zerolinecolor": "white",
           "zerolinewidth": 2
          },
          "yaxis": {
           "automargin": true,
           "gridcolor": "white",
           "linecolor": "white",
           "ticks": "",
           "title": {
            "standoff": 15
           },
           "zerolinecolor": "white",
           "zerolinewidth": 2
          }
         }
        },
        "title": {
         "text": "Fuentes de electricidad en el mundo"
        }
       }
      }
     },
     "metadata": {},
     "output_type": "display_data"
    },
    {
     "data": {
      "text/plain": [
       "<Figure size 600x300 with 0 Axes>"
      ]
     },
     "metadata": {},
     "output_type": "display_data"
    }
   ],
   "source": [
    "# Se calcula la suma total de las tres columnas\n",
    "total_fossil_share = wec_medias['fossil_share_elec'].sum()\n",
    "total_renewables_share = wec_medias['renewables_share_elec'].sum()\n",
    "total_nuclear_share = wec_medias['nuclear_share_elec'].sum()\n",
    "\n",
    "# Se crea un DataFrame con los totales\n",
    "totals_df = pd.DataFrame({'Source': ['Fossil', 'Renewables','Nuclear'],'Total Share': [total_fossil_share, total_renewables_share, total_nuclear_share]})\n",
    "\n",
    "# Se grafica \n",
    "fig = px.pie(totals_df,names='Source',values='Total Share',title='Fuentes de electricidad en el mundo',)\n",
    "plt.figure(figsize=(6, 3))\n",
    "# Se muestra el gráfico\n",
    "fig.show()"
   ]
  },
  {
   "cell_type": "markdown",
   "metadata": {},
   "source": [
    "Como se suponía, se puede confirmar que la mayoría de los países del mundo utilizan a la fuente fósil para la generación de electricidad. Pero no conocemos en detalle lo que sucede con cada país, y si hay países que utilizan los tre tipos de fuentes."
   ]
  },
  {
   "cell_type": "markdown",
   "metadata": {},
   "source": [
    "# ¿Comó es el perfil energético para electricidad en cada país?"
   ]
  },
  {
   "cell_type": "code",
   "execution_count": 308,
   "metadata": {},
   "outputs": [
    {
     "data": {
      "application/vnd.plotly.v1+json": {
       "config": {
        "plotlyServerURL": "https://plot.ly"
       },
       "data": [
        {
         "name": "Fossil",
         "type": "bar",
         "x": [
          "Bermuda",
          "Niue",
          "American Samoa",
          "Gibraltar",
          "Montserrat",
          "Saint Helena",
          "Turks and Caicos Islands",
          "Tonga",
          "Nauru",
          "Oman",
          "Turkmenistan",
          "Libya",
          "Bahrain",
          "Saudi Arabia",
          "Palestine",
          "Brunei",
          "Trinidad and Tobago",
          "Kuwait",
          "Bahamas",
          "Botswana",
          "Hong Kong",
          "Saint Lucia",
          "Liberia",
          "Qatar",
          "Maldives",
          "South Sudan",
          "United Arab Emirates",
          "Algeria",
          "Djibouti",
          "Cayman Islands",
          "United States Virgin Islands",
          "Seychelles",
          "British Virgin Islands",
          "Gambia",
          "Niger",
          "Saint Pierre and Miquelon",
          "Belarus",
          "Antigua and Barbuda",
          "Grenada",
          "Bangladesh",
          "Chad",
          "Barbados",
          "Guam",
          "Guyana",
          "Guinea-Bissau",
          "Israel",
          "Somalia",
          "Martinique",
          "Benin",
          "Tunisia",
          "Singapore",
          "Comoros",
          "Lebanon",
          "Eritrea",
          "Saint Kitts and Nevis",
          "Cuba",
          "Puerto Rico",
          "Jordan",
          "Yemen",
          "Mongolia",
          "Iraq",
          "Solomon Islands",
          "Moldova",
          "Malta",
          "Syria",
          "Iran",
          "Cyprus",
          "Azerbaijan",
          "South Africa",
          "Sao Tome and Principe",
          "Jamaica",
          "Egypt",
          "Kiribati",
          "Kazakhstan",
          "Senegal",
          "Cook Islands",
          "Uzbekistan",
          "Dominican Republic",
          "Thailand",
          "Malaysia",
          "Poland",
          "Guadeloupe",
          "Indonesia",
          "Vanuatu",
          "Haiti",
          "New Caledonia",
          "Burkina Faso",
          "Morocco",
          "Saint Vincent and the Grenadines",
          "Estonia",
          "Aruba",
          "Australia",
          "Netherlands",
          "Taiwan",
          "Mexico",
          "Nigeria",
          "Mauritius",
          "India",
          "Japan",
          "Philippines",
          "Greece",
          "China",
          "Papua New Guinea",
          "Equatorial Guinea",
          "Ireland",
          "Serbia",
          "Mauritania",
          "Argentina",
          "Samoa",
          "South Korea",
          "Bolivia",
          "Dominica",
          "Turkey",
          "Bosnia and Herzegovina",
          "French Polynesia",
          "United States",
          "Russia",
          "Tanzania",
          "Italy",
          "Pakistan",
          "Vietnam",
          "Togo",
          "Sri Lanka",
          "Gabon",
          "Luxembourg",
          "Chile",
          "United Kingdom",
          "Germany",
          "Madagascar",
          "Suriname",
          "Czechia",
          "Cambodia",
          "Congo",
          "Rwanda",
          "Bulgaria",
          "Portugal",
          "Mali",
          "Nicaragua",
          "Guinea",
          "Lithuania",
          "Honduras",
          "Montenegro",
          "Zimbabwe",
          "Romania",
          "Latvia",
          "Ukraine",
          "Spain",
          "Peru",
          "Fiji",
          "Ghana",
          "Hungary",
          "French Guiana",
          "Denmark",
          "Armenia",
          "Ecuador",
          "Croatia",
          "Venezuela",
          "El Salvador",
          "Guatemala",
          "Belgium",
          "Angola",
          "Cameroon",
          "Panama",
          "Slovenia",
          "Sudan",
          "Sierra Leone",
          "Colombia",
          "Finland",
          "Austria",
          "North Korea",
          "Slovakia",
          "Kenya",
          "Georgia",
          "New Zealand",
          "Burundi",
          "Greenland",
          "Canada",
          "Laos",
          "Brazil",
          "Afghanistan",
          "Uganda",
          "Uruguay",
          "Mozambique",
          "France",
          "Malawi",
          "Kyrgyzstan",
          "Zambia",
          "Costa Rica",
          "Central African Republic",
          "Belize",
          "Tajikistan",
          "Namibia",
          "Sweden",
          "Norway",
          "Switzerland",
          "Democratic Republic of Congo",
          "Albania",
          "Ethiopia",
          "Nepal",
          "Iceland",
          "Bhutan",
          "Paraguay",
          "Lesotho"
         ],
         "y": [
          100,
          100,
          100,
          100,
          100,
          100,
          100,
          100,
          100,
          99.99255555555555,
          99.9858888888889,
          99.97566666666665,
          99.97422222222222,
          99.97277777777778,
          99.96222222222222,
          99.95833333333333,
          99.94877777777778,
          99.93866666666666,
          99.89611111111111,
          99.835,
          99.80655555555556,
          99.68933333333332,
          99.68144444444445,
          99.67888888888889,
          99.54444444444444,
          99.513625,
          99.35711111111111,
          99.23366666666666,
          99.17055555555555,
          99.16322222222223,
          98.98933333333333,
          98.97966666666667,
          98.95644444444444,
          98.86644444444444,
          98.53699999999999,
          98.50744444444445,
          98.4342,
          98.428,
          98.34211111111111,
          98.20779999999999,
          98.18711111111111,
          98.11766666666666,
          98.07744444444444,
          97.984,
          97.94722222222222,
          97.924,
          97.37977777777778,
          97.20222222222222,
          97.20155555555556,
          97.0688,
          96.8428,
          96.69300000000001,
          96.52544444444445,
          96.385,
          96.2431111111111,
          95.98866666666667,
          95.74277777777779,
          95.61366666666667,
          95.22644444444444,
          95.1462,
          94.83922222222222,
          94.55577777777778,
          93.91355555555555,
          92.9048,
          92.81099999999999,
          92.3822,
          91.90990000000001,
          91.5288,
          91.3964,
          91.07566666666668,
          90.85177777777777,
          90.07766666666666,
          89.66966666666667,
          89.6234,
          88.92477777777778,
          88.74122222222223,
          88.25055555555555,
          87.84455555555556,
          87.4165,
          87.36988888888888,
          87.2083,
          87.07044444444445,
          86.41511111111112,
          85.23422222222221,
          85.04488888888889,
          84.97566666666665,
          84.74611111111112,
          84.65977777777778,
          84.62644444444445,
          84.0197,
          83.923,
          83.8751,
          81.9447,
          81.49170000000001,
          79.8644,
          79.5889,
          78.19788888888888,
          78.1647,
          77.60979999999999,
          74.151,
          74.1346,
          72.8477,
          72.76366666666667,
          72.59733333333332,
          72.1935,
          71.2041,
          70.80711111111111,
          70.0337,
          69.15344444444445,
          69.0626,
          68.279,
          67.6861111111111,
          67.535,
          65.77000000000001,
          65.50555555555555,
          65.32570000000001,
          64.4186,
          64.15833333333333,
          62.3597,
          61.846900000000005,
          60.7851,
          60.49455555555556,
          57.666777777777774,
          56.958222222222226,
          56.6742,
          56.2971,
          55.9153,
          55.4245,
          55.30322222222222,
          55.224222222222224,
          55.166399999999996,
          53.31588888888889,
          52.891777777777776,
          51.29911111111111,
          49.8054,
          48.7857,
          47.44844444444445,
          47.19566666666666,
          47.098,
          46.7314,
          46.40266666666667,
          44.25055555555556,
          44.056999999999995,
          44.0267,
          43.2924,
          42.817099999999996,
          42.6884,
          42.2506,
          41.18055555555556,
          41.055,
          40.2919,
          39.60566666666667,
          39.1135,
          38.477666666666664,
          38.18088888888889,
          36.699,
          36.37155555555555,
          35.99322222222222,
          35.10355555555556,
          35.095600000000005,
          34.32644444444444,
          33.528,
          33.107,
          32.3678,
          31.481333333333332,
          31.325999999999997,
          26.2103,
          23.7291,
          23.5791,
          23.00711111111111,
          21.8467,
          20.162222222222223,
          20.00411111111111,
          20.002000000000002,
          19.567666666666668,
          19.374,
          18.944499999999998,
          17.049777777777777,
          16.4672,
          16.456555555555557,
          10.60288888888889,
          10.334900000000001,
          9.87388888888889,
          9.3107,
          8.765444444444446,
          8.576,
          6.320333333333333,
          4.2176,
          3.711555555555556,
          3.4859999999999998,
          3.1754,
          2.4036666666666666,
          2.3696,
          1.889,
          1.1187,
          0.20922222222222223,
          0.14855555555555555,
          0.10955555555555556,
          0.0948888888888889,
          0.015555555555555557,
          0.005333333333333333,
          0.003888888888888889,
          0
         ]
        },
        {
         "name": "Nuclear",
         "type": "bar",
         "x": [
          "Bermuda",
          "Niue",
          "American Samoa",
          "Gibraltar",
          "Montserrat",
          "Saint Helena",
          "Turks and Caicos Islands",
          "Tonga",
          "Nauru",
          "Oman",
          "Turkmenistan",
          "Libya",
          "Bahrain",
          "Saudi Arabia",
          "Palestine",
          "Brunei",
          "Trinidad and Tobago",
          "Kuwait",
          "Bahamas",
          "Botswana",
          "Hong Kong",
          "Saint Lucia",
          "Liberia",
          "Qatar",
          "Maldives",
          "South Sudan",
          "United Arab Emirates",
          "Algeria",
          "Djibouti",
          "Cayman Islands",
          "United States Virgin Islands",
          "Seychelles",
          "British Virgin Islands",
          "Gambia",
          "Niger",
          "Saint Pierre and Miquelon",
          "Belarus",
          "Antigua and Barbuda",
          "Grenada",
          "Bangladesh",
          "Chad",
          "Barbados",
          "Guam",
          "Guyana",
          "Guinea-Bissau",
          "Israel",
          "Somalia",
          "Martinique",
          "Benin",
          "Tunisia",
          "Singapore",
          "Comoros",
          "Lebanon",
          "Eritrea",
          "Saint Kitts and Nevis",
          "Cuba",
          "Puerto Rico",
          "Jordan",
          "Yemen",
          "Mongolia",
          "Iraq",
          "Solomon Islands",
          "Moldova",
          "Malta",
          "Syria",
          "Iran",
          "Cyprus",
          "Azerbaijan",
          "South Africa",
          "Sao Tome and Principe",
          "Jamaica",
          "Egypt",
          "Kiribati",
          "Kazakhstan",
          "Senegal",
          "Cook Islands",
          "Uzbekistan",
          "Dominican Republic",
          "Thailand",
          "Malaysia",
          "Poland",
          "Guadeloupe",
          "Indonesia",
          "Vanuatu",
          "Haiti",
          "New Caledonia",
          "Burkina Faso",
          "Morocco",
          "Saint Vincent and the Grenadines",
          "Estonia",
          "Aruba",
          "Australia",
          "Netherlands",
          "Taiwan",
          "Mexico",
          "Nigeria",
          "Mauritius",
          "India",
          "Japan",
          "Philippines",
          "Greece",
          "China",
          "Papua New Guinea",
          "Equatorial Guinea",
          "Ireland",
          "Serbia",
          "Mauritania",
          "Argentina",
          "Samoa",
          "South Korea",
          "Bolivia",
          "Dominica",
          "Turkey",
          "Bosnia and Herzegovina",
          "French Polynesia",
          "United States",
          "Russia",
          "Tanzania",
          "Italy",
          "Pakistan",
          "Vietnam",
          "Togo",
          "Sri Lanka",
          "Gabon",
          "Luxembourg",
          "Chile",
          "United Kingdom",
          "Germany",
          "Madagascar",
          "Suriname",
          "Czechia",
          "Cambodia",
          "Congo",
          "Rwanda",
          "Bulgaria",
          "Portugal",
          "Mali",
          "Nicaragua",
          "Guinea",
          "Lithuania",
          "Honduras",
          "Montenegro",
          "Zimbabwe",
          "Romania",
          "Latvia",
          "Ukraine",
          "Spain",
          "Peru",
          "Fiji",
          "Ghana",
          "Hungary",
          "French Guiana",
          "Denmark",
          "Armenia",
          "Ecuador",
          "Croatia",
          "Venezuela",
          "El Salvador",
          "Guatemala",
          "Belgium",
          "Angola",
          "Cameroon",
          "Panama",
          "Slovenia",
          "Sudan",
          "Sierra Leone",
          "Colombia",
          "Finland",
          "Austria",
          "North Korea",
          "Slovakia",
          "Kenya",
          "Georgia",
          "New Zealand",
          "Burundi",
          "Greenland",
          "Canada",
          "Laos",
          "Brazil",
          "Afghanistan",
          "Uganda",
          "Uruguay",
          "Mozambique",
          "France",
          "Malawi",
          "Kyrgyzstan",
          "Zambia",
          "Costa Rica",
          "Central African Republic",
          "Belize",
          "Tajikistan",
          "Namibia",
          "Sweden",
          "Norway",
          "Switzerland",
          "Democratic Republic of Congo",
          "Albania",
          "Ethiopia",
          "Nepal",
          "Iceland",
          "Bhutan",
          "Paraguay",
          "Lesotho"
         ],
         "y": [
          0,
          0,
          0,
          0,
          0,
          0,
          0,
          0,
          0,
          0,
          0,
          0,
          0,
          0,
          0,
          0,
          0,
          0,
          0,
          0,
          0,
          0,
          0,
          0,
          0,
          0,
          0,
          0,
          0,
          0,
          0,
          0,
          0,
          0,
          0,
          0,
          0,
          0,
          0,
          0,
          0,
          0,
          0,
          0,
          0,
          0,
          0,
          0,
          0,
          0,
          0,
          0,
          0,
          0,
          0,
          0,
          0,
          0,
          0,
          0,
          0,
          0,
          0,
          0,
          0,
          1.502,
          0,
          0,
          5.5334,
          0,
          0,
          0,
          0,
          0,
          0,
          0,
          0,
          0,
          0,
          0,
          0,
          0,
          0,
          0,
          0,
          0,
          0,
          0,
          0,
          0,
          0,
          0,
          3.3857,
          13.6751,
          3.5458,
          0,
          0,
          3.2331000000000003,
          3.6094,
          0,
          0,
          3.2415,
          0,
          0,
          0,
          0,
          0,
          5.0098,
          0,
          27.6663,
          0,
          0,
          0,
          0,
          0,
          19.4246,
          17.5446,
          0,
          0,
          5.3584000000000005,
          0,
          0,
          0,
          0,
          0,
          0,
          19.5474,
          13.9612,
          0,
          0,
          34.1146,
          0,
          0,
          0,
          34.867399999999996,
          0,
          0,
          0,
          0,
          0,
          0,
          0,
          0,
          18.6402,
          0,
          50.188900000000004,
          20.938,
          0,
          0,
          0,
          49.0058,
          0,
          0,
          30.504444444444445,
          0,
          0,
          0,
          0,
          0,
          46.819,
          0,
          0,
          0,
          36.718599999999995,
          0,
          0,
          0,
          33.6109,
          0,
          0,
          55.410199999999996,
          0,
          0,
          0,
          0,
          0,
          14.8717,
          0,
          2.5686,
          0,
          0,
          0,
          0,
          73.312,
          0,
          0,
          0,
          0,
          0,
          0,
          0,
          0,
          39.1182,
          0,
          36.3737,
          0,
          0,
          0,
          0,
          0,
          0,
          0,
          0
         ]
        },
        {
         "name": "Renewables",
         "type": "bar",
         "x": [
          "Bermuda",
          "Niue",
          "American Samoa",
          "Gibraltar",
          "Montserrat",
          "Saint Helena",
          "Turks and Caicos Islands",
          "Tonga",
          "Nauru",
          "Oman",
          "Turkmenistan",
          "Libya",
          "Bahrain",
          "Saudi Arabia",
          "Palestine",
          "Brunei",
          "Trinidad and Tobago",
          "Kuwait",
          "Bahamas",
          "Botswana",
          "Hong Kong",
          "Saint Lucia",
          "Liberia",
          "Qatar",
          "Maldives",
          "South Sudan",
          "United Arab Emirates",
          "Algeria",
          "Djibouti",
          "Cayman Islands",
          "United States Virgin Islands",
          "Seychelles",
          "British Virgin Islands",
          "Gambia",
          "Niger",
          "Saint Pierre and Miquelon",
          "Belarus",
          "Antigua and Barbuda",
          "Grenada",
          "Bangladesh",
          "Chad",
          "Barbados",
          "Guam",
          "Guyana",
          "Guinea-Bissau",
          "Israel",
          "Somalia",
          "Martinique",
          "Benin",
          "Tunisia",
          "Singapore",
          "Comoros",
          "Lebanon",
          "Eritrea",
          "Saint Kitts and Nevis",
          "Cuba",
          "Puerto Rico",
          "Jordan",
          "Yemen",
          "Mongolia",
          "Iraq",
          "Solomon Islands",
          "Moldova",
          "Malta",
          "Syria",
          "Iran",
          "Cyprus",
          "Azerbaijan",
          "South Africa",
          "Sao Tome and Principe",
          "Jamaica",
          "Egypt",
          "Kiribati",
          "Kazakhstan",
          "Senegal",
          "Cook Islands",
          "Uzbekistan",
          "Dominican Republic",
          "Thailand",
          "Malaysia",
          "Poland",
          "Guadeloupe",
          "Indonesia",
          "Vanuatu",
          "Haiti",
          "New Caledonia",
          "Burkina Faso",
          "Morocco",
          "Saint Vincent and the Grenadines",
          "Estonia",
          "Aruba",
          "Australia",
          "Netherlands",
          "Taiwan",
          "Mexico",
          "Nigeria",
          "Mauritius",
          "India",
          "Japan",
          "Philippines",
          "Greece",
          "China",
          "Papua New Guinea",
          "Equatorial Guinea",
          "Ireland",
          "Serbia",
          "Mauritania",
          "Argentina",
          "Samoa",
          "South Korea",
          "Bolivia",
          "Dominica",
          "Turkey",
          "Bosnia and Herzegovina",
          "French Polynesia",
          "United States",
          "Russia",
          "Tanzania",
          "Italy",
          "Pakistan",
          "Vietnam",
          "Togo",
          "Sri Lanka",
          "Gabon",
          "Luxembourg",
          "Chile",
          "United Kingdom",
          "Germany",
          "Madagascar",
          "Suriname",
          "Czechia",
          "Cambodia",
          "Congo",
          "Rwanda",
          "Bulgaria",
          "Portugal",
          "Mali",
          "Nicaragua",
          "Guinea",
          "Lithuania",
          "Honduras",
          "Montenegro",
          "Zimbabwe",
          "Romania",
          "Latvia",
          "Ukraine",
          "Spain",
          "Peru",
          "Fiji",
          "Ghana",
          "Hungary",
          "French Guiana",
          "Denmark",
          "Armenia",
          "Ecuador",
          "Croatia",
          "Venezuela",
          "El Salvador",
          "Guatemala",
          "Belgium",
          "Angola",
          "Cameroon",
          "Panama",
          "Slovenia",
          "Sudan",
          "Sierra Leone",
          "Colombia",
          "Finland",
          "Austria",
          "North Korea",
          "Slovakia",
          "Kenya",
          "Georgia",
          "New Zealand",
          "Burundi",
          "Greenland",
          "Canada",
          "Laos",
          "Brazil",
          "Afghanistan",
          "Uganda",
          "Uruguay",
          "Mozambique",
          "France",
          "Malawi",
          "Kyrgyzstan",
          "Zambia",
          "Costa Rica",
          "Central African Republic",
          "Belize",
          "Tajikistan",
          "Namibia",
          "Sweden",
          "Norway",
          "Switzerland",
          "Democratic Republic of Congo",
          "Albania",
          "Ethiopia",
          "Nepal",
          "Iceland",
          "Bhutan",
          "Paraguay",
          "Lesotho"
         ],
         "y": [
          0,
          0,
          0,
          0,
          0,
          0,
          0,
          0,
          0,
          0.0074444444444444445,
          0.01411111111111111,
          0.024333333333333332,
          0.025777777777777778,
          0.02722222222222222,
          0.03777777777777778,
          0.041666666666666664,
          0.05122222222222222,
          0.06133333333333334,
          0.10388888888888889,
          0.165,
          0.19344444444444445,
          0.31066666666666665,
          0.31855555555555554,
          0.3211111111111111,
          0.4555555555555555,
          0.486375,
          0.642888888888889,
          0.7663333333333333,
          0.8294444444444444,
          0.8367777777777778,
          1.0106666666666666,
          1.0203333333333333,
          1.0435555555555556,
          1.1335555555555556,
          1.463,
          1.4925555555555556,
          1.5657999999999999,
          1.572,
          1.6578888888888887,
          1.7922,
          1.8128888888888888,
          1.8823333333333332,
          1.9225555555555556,
          2.016,
          2.052777777777778,
          2.076,
          2.6202222222222225,
          2.7977777777777777,
          2.7984444444444443,
          2.9312,
          3.1572,
          3.307,
          3.474555555555556,
          3.6149999999999998,
          3.7568888888888887,
          4.011333333333334,
          4.257222222222222,
          4.386333333333333,
          4.773555555555556,
          4.8538,
          5.160777777777778,
          5.444222222222222,
          6.086444444444444,
          7.0952,
          7.188999999999999,
          6.1158,
          8.0901,
          8.4712,
          3.0701,
          8.924333333333333,
          9.148222222222223,
          9.922333333333334,
          10.330333333333334,
          10.3766,
          11.075222222222223,
          11.258777777777778,
          11.749444444444444,
          12.155444444444445,
          12.583499999999999,
          12.63011111111111,
          12.7917,
          12.929555555555556,
          13.58488888888889,
          14.765777777777778,
          14.955111111111112,
          15.024333333333333,
          15.253888888888888,
          15.340222222222224,
          15.373555555555555,
          15.9803,
          16.076999999999998,
          16.1249,
          14.669599999999999,
          4.8332,
          16.5899,
          20.411099999999998,
          21.80211111111111,
          18.6021,
          18.781,
          25.849,
          25.8654,
          23.9109,
          27.236333333333334,
          27.402666666666665,
          27.8065,
          28.7959,
          29.192888888888888,
          24.9565,
          30.846555555555558,
          3.2709,
          31.720999999999997,
          32.31388888888889,
          32.464999999999996,
          34.230000000000004,
          34.49444444444444,
          15.2497,
          18.0368,
          35.84166666666667,
          37.6403,
          32.795,
          39.2149,
          39.50544444444445,
          42.333222222222226,
          43.041777777777774,
          43.3258,
          43.7029,
          24.537399999999998,
          30.6145,
          44.69677777777778,
          44.77577777777778,
          10.719100000000001,
          46.68411111111111,
          47.108222222222224,
          48.70088888888889,
          15.3273,
          51.2143,
          52.55155555555555,
          52.80433333333333,
          52.902,
          53.268600000000006,
          53.59733333333334,
          55.74944444444444,
          55.943000000000005,
          37.3332,
          56.7076,
          6.9941,
          36.3737,
          57.7494,
          58.81944444444444,
          58.945,
          10.7023,
          60.39433333333333,
          60.8865,
          31.018000000000004,
          61.819111111111106,
          63.301,
          63.62844444444444,
          64.00677777777778,
          64.89644444444444,
          18.0854,
          65.67355555555555,
          66.47200000000001,
          66.893,
          30.9135,
          68.51866666666666,
          68.674,
          73.7897,
          42.660000000000004,
          76.4209,
          76.99288888888888,
          22.743000000000002,
          79.83777777777777,
          79.99588888888889,
          79.998,
          80.43233333333335,
          80.626,
          66.18379999999999,
          82.95022222222222,
          80.964,
          83.54344444444445,
          89.3971111111111,
          89.6651,
          90.12611111111111,
          17.3772,
          91.23455555555556,
          91.424,
          93.67966666666666,
          95.7824,
          96.28844444444445,
          96.514,
          96.8246,
          97.59633333333333,
          58.5124,
          98.111,
          62.507600000000004,
          99.79077777777778,
          99.85144444444444,
          99.89044444444444,
          99.90511111111111,
          99.98444444444445,
          99.99466666666666,
          99.99611111111112,
          100
         ]
        }
       ],
       "layout": {
        "barmode": "stack",
        "height": 700,
        "template": {
         "data": {
          "bar": [
           {
            "error_x": {
             "color": "#2a3f5f"
            },
            "error_y": {
             "color": "#2a3f5f"
            },
            "marker": {
             "line": {
              "color": "#E5ECF6",
              "width": 0.5
             },
             "pattern": {
              "fillmode": "overlay",
              "size": 10,
              "solidity": 0.2
             }
            },
            "type": "bar"
           }
          ],
          "barpolar": [
           {
            "marker": {
             "line": {
              "color": "#E5ECF6",
              "width": 0.5
             },
             "pattern": {
              "fillmode": "overlay",
              "size": 10,
              "solidity": 0.2
             }
            },
            "type": "barpolar"
           }
          ],
          "carpet": [
           {
            "aaxis": {
             "endlinecolor": "#2a3f5f",
             "gridcolor": "white",
             "linecolor": "white",
             "minorgridcolor": "white",
             "startlinecolor": "#2a3f5f"
            },
            "baxis": {
             "endlinecolor": "#2a3f5f",
             "gridcolor": "white",
             "linecolor": "white",
             "minorgridcolor": "white",
             "startlinecolor": "#2a3f5f"
            },
            "type": "carpet"
           }
          ],
          "choropleth": [
           {
            "colorbar": {
             "outlinewidth": 0,
             "ticks": ""
            },
            "type": "choropleth"
           }
          ],
          "contour": [
           {
            "colorbar": {
             "outlinewidth": 0,
             "ticks": ""
            },
            "colorscale": [
             [
              0,
              "#0d0887"
             ],
             [
              0.1111111111111111,
              "#46039f"
             ],
             [
              0.2222222222222222,
              "#7201a8"
             ],
             [
              0.3333333333333333,
              "#9c179e"
             ],
             [
              0.4444444444444444,
              "#bd3786"
             ],
             [
              0.5555555555555556,
              "#d8576b"
             ],
             [
              0.6666666666666666,
              "#ed7953"
             ],
             [
              0.7777777777777778,
              "#fb9f3a"
             ],
             [
              0.8888888888888888,
              "#fdca26"
             ],
             [
              1,
              "#f0f921"
             ]
            ],
            "type": "contour"
           }
          ],
          "contourcarpet": [
           {
            "colorbar": {
             "outlinewidth": 0,
             "ticks": ""
            },
            "type": "contourcarpet"
           }
          ],
          "heatmap": [
           {
            "colorbar": {
             "outlinewidth": 0,
             "ticks": ""
            },
            "colorscale": [
             [
              0,
              "#0d0887"
             ],
             [
              0.1111111111111111,
              "#46039f"
             ],
             [
              0.2222222222222222,
              "#7201a8"
             ],
             [
              0.3333333333333333,
              "#9c179e"
             ],
             [
              0.4444444444444444,
              "#bd3786"
             ],
             [
              0.5555555555555556,
              "#d8576b"
             ],
             [
              0.6666666666666666,
              "#ed7953"
             ],
             [
              0.7777777777777778,
              "#fb9f3a"
             ],
             [
              0.8888888888888888,
              "#fdca26"
             ],
             [
              1,
              "#f0f921"
             ]
            ],
            "type": "heatmap"
           }
          ],
          "heatmapgl": [
           {
            "colorbar": {
             "outlinewidth": 0,
             "ticks": ""
            },
            "colorscale": [
             [
              0,
              "#0d0887"
             ],
             [
              0.1111111111111111,
              "#46039f"
             ],
             [
              0.2222222222222222,
              "#7201a8"
             ],
             [
              0.3333333333333333,
              "#9c179e"
             ],
             [
              0.4444444444444444,
              "#bd3786"
             ],
             [
              0.5555555555555556,
              "#d8576b"
             ],
             [
              0.6666666666666666,
              "#ed7953"
             ],
             [
              0.7777777777777778,
              "#fb9f3a"
             ],
             [
              0.8888888888888888,
              "#fdca26"
             ],
             [
              1,
              "#f0f921"
             ]
            ],
            "type": "heatmapgl"
           }
          ],
          "histogram": [
           {
            "marker": {
             "pattern": {
              "fillmode": "overlay",
              "size": 10,
              "solidity": 0.2
             }
            },
            "type": "histogram"
           }
          ],
          "histogram2d": [
           {
            "colorbar": {
             "outlinewidth": 0,
             "ticks": ""
            },
            "colorscale": [
             [
              0,
              "#0d0887"
             ],
             [
              0.1111111111111111,
              "#46039f"
             ],
             [
              0.2222222222222222,
              "#7201a8"
             ],
             [
              0.3333333333333333,
              "#9c179e"
             ],
             [
              0.4444444444444444,
              "#bd3786"
             ],
             [
              0.5555555555555556,
              "#d8576b"
             ],
             [
              0.6666666666666666,
              "#ed7953"
             ],
             [
              0.7777777777777778,
              "#fb9f3a"
             ],
             [
              0.8888888888888888,
              "#fdca26"
             ],
             [
              1,
              "#f0f921"
             ]
            ],
            "type": "histogram2d"
           }
          ],
          "histogram2dcontour": [
           {
            "colorbar": {
             "outlinewidth": 0,
             "ticks": ""
            },
            "colorscale": [
             [
              0,
              "#0d0887"
             ],
             [
              0.1111111111111111,
              "#46039f"
             ],
             [
              0.2222222222222222,
              "#7201a8"
             ],
             [
              0.3333333333333333,
              "#9c179e"
             ],
             [
              0.4444444444444444,
              "#bd3786"
             ],
             [
              0.5555555555555556,
              "#d8576b"
             ],
             [
              0.6666666666666666,
              "#ed7953"
             ],
             [
              0.7777777777777778,
              "#fb9f3a"
             ],
             [
              0.8888888888888888,
              "#fdca26"
             ],
             [
              1,
              "#f0f921"
             ]
            ],
            "type": "histogram2dcontour"
           }
          ],
          "mesh3d": [
           {
            "colorbar": {
             "outlinewidth": 0,
             "ticks": ""
            },
            "type": "mesh3d"
           }
          ],
          "parcoords": [
           {
            "line": {
             "colorbar": {
              "outlinewidth": 0,
              "ticks": ""
             }
            },
            "type": "parcoords"
           }
          ],
          "pie": [
           {
            "automargin": true,
            "type": "pie"
           }
          ],
          "scatter": [
           {
            "fillpattern": {
             "fillmode": "overlay",
             "size": 10,
             "solidity": 0.2
            },
            "type": "scatter"
           }
          ],
          "scatter3d": [
           {
            "line": {
             "colorbar": {
              "outlinewidth": 0,
              "ticks": ""
             }
            },
            "marker": {
             "colorbar": {
              "outlinewidth": 0,
              "ticks": ""
             }
            },
            "type": "scatter3d"
           }
          ],
          "scattercarpet": [
           {
            "marker": {
             "colorbar": {
              "outlinewidth": 0,
              "ticks": ""
             }
            },
            "type": "scattercarpet"
           }
          ],
          "scattergeo": [
           {
            "marker": {
             "colorbar": {
              "outlinewidth": 0,
              "ticks": ""
             }
            },
            "type": "scattergeo"
           }
          ],
          "scattergl": [
           {
            "marker": {
             "colorbar": {
              "outlinewidth": 0,
              "ticks": ""
             }
            },
            "type": "scattergl"
           }
          ],
          "scattermapbox": [
           {
            "marker": {
             "colorbar": {
              "outlinewidth": 0,
              "ticks": ""
             }
            },
            "type": "scattermapbox"
           }
          ],
          "scatterpolar": [
           {
            "marker": {
             "colorbar": {
              "outlinewidth": 0,
              "ticks": ""
             }
            },
            "type": "scatterpolar"
           }
          ],
          "scatterpolargl": [
           {
            "marker": {
             "colorbar": {
              "outlinewidth": 0,
              "ticks": ""
             }
            },
            "type": "scatterpolargl"
           }
          ],
          "scatterternary": [
           {
            "marker": {
             "colorbar": {
              "outlinewidth": 0,
              "ticks": ""
             }
            },
            "type": "scatterternary"
           }
          ],
          "surface": [
           {
            "colorbar": {
             "outlinewidth": 0,
             "ticks": ""
            },
            "colorscale": [
             [
              0,
              "#0d0887"
             ],
             [
              0.1111111111111111,
              "#46039f"
             ],
             [
              0.2222222222222222,
              "#7201a8"
             ],
             [
              0.3333333333333333,
              "#9c179e"
             ],
             [
              0.4444444444444444,
              "#bd3786"
             ],
             [
              0.5555555555555556,
              "#d8576b"
             ],
             [
              0.6666666666666666,
              "#ed7953"
             ],
             [
              0.7777777777777778,
              "#fb9f3a"
             ],
             [
              0.8888888888888888,
              "#fdca26"
             ],
             [
              1,
              "#f0f921"
             ]
            ],
            "type": "surface"
           }
          ],
          "table": [
           {
            "cells": {
             "fill": {
              "color": "#EBF0F8"
             },
             "line": {
              "color": "white"
             }
            },
            "header": {
             "fill": {
              "color": "#C8D4E3"
             },
             "line": {
              "color": "white"
             }
            },
            "type": "table"
           }
          ]
         },
         "layout": {
          "annotationdefaults": {
           "arrowcolor": "#2a3f5f",
           "arrowhead": 0,
           "arrowwidth": 1
          },
          "autotypenumbers": "strict",
          "coloraxis": {
           "colorbar": {
            "outlinewidth": 0,
            "ticks": ""
           }
          },
          "colorscale": {
           "diverging": [
            [
             0,
             "#8e0152"
            ],
            [
             0.1,
             "#c51b7d"
            ],
            [
             0.2,
             "#de77ae"
            ],
            [
             0.3,
             "#f1b6da"
            ],
            [
             0.4,
             "#fde0ef"
            ],
            [
             0.5,
             "#f7f7f7"
            ],
            [
             0.6,
             "#e6f5d0"
            ],
            [
             0.7,
             "#b8e186"
            ],
            [
             0.8,
             "#7fbc41"
            ],
            [
             0.9,
             "#4d9221"
            ],
            [
             1,
             "#276419"
            ]
           ],
           "sequential": [
            [
             0,
             "#0d0887"
            ],
            [
             0.1111111111111111,
             "#46039f"
            ],
            [
             0.2222222222222222,
             "#7201a8"
            ],
            [
             0.3333333333333333,
             "#9c179e"
            ],
            [
             0.4444444444444444,
             "#bd3786"
            ],
            [
             0.5555555555555556,
             "#d8576b"
            ],
            [
             0.6666666666666666,
             "#ed7953"
            ],
            [
             0.7777777777777778,
             "#fb9f3a"
            ],
            [
             0.8888888888888888,
             "#fdca26"
            ],
            [
             1,
             "#f0f921"
            ]
           ],
           "sequentialminus": [
            [
             0,
             "#0d0887"
            ],
            [
             0.1111111111111111,
             "#46039f"
            ],
            [
             0.2222222222222222,
             "#7201a8"
            ],
            [
             0.3333333333333333,
             "#9c179e"
            ],
            [
             0.4444444444444444,
             "#bd3786"
            ],
            [
             0.5555555555555556,
             "#d8576b"
            ],
            [
             0.6666666666666666,
             "#ed7953"
            ],
            [
             0.7777777777777778,
             "#fb9f3a"
            ],
            [
             0.8888888888888888,
             "#fdca26"
            ],
            [
             1,
             "#f0f921"
            ]
           ]
          },
          "colorway": [
           "#636efa",
           "#EF553B",
           "#00cc96",
           "#ab63fa",
           "#FFA15A",
           "#19d3f3",
           "#FF6692",
           "#B6E880",
           "#FF97FF",
           "#FECB52"
          ],
          "font": {
           "color": "#2a3f5f"
          },
          "geo": {
           "bgcolor": "white",
           "lakecolor": "white",
           "landcolor": "#E5ECF6",
           "showlakes": true,
           "showland": true,
           "subunitcolor": "white"
          },
          "hoverlabel": {
           "align": "left"
          },
          "hovermode": "closest",
          "mapbox": {
           "style": "light"
          },
          "paper_bgcolor": "white",
          "plot_bgcolor": "#E5ECF6",
          "polar": {
           "angularaxis": {
            "gridcolor": "white",
            "linecolor": "white",
            "ticks": ""
           },
           "bgcolor": "#E5ECF6",
           "radialaxis": {
            "gridcolor": "white",
            "linecolor": "white",
            "ticks": ""
           }
          },
          "scene": {
           "xaxis": {
            "backgroundcolor": "#E5ECF6",
            "gridcolor": "white",
            "gridwidth": 2,
            "linecolor": "white",
            "showbackground": true,
            "ticks": "",
            "zerolinecolor": "white"
           },
           "yaxis": {
            "backgroundcolor": "#E5ECF6",
            "gridcolor": "white",
            "gridwidth": 2,
            "linecolor": "white",
            "showbackground": true,
            "ticks": "",
            "zerolinecolor": "white"
           },
           "zaxis": {
            "backgroundcolor": "#E5ECF6",
            "gridcolor": "white",
            "gridwidth": 2,
            "linecolor": "white",
            "showbackground": true,
            "ticks": "",
            "zerolinecolor": "white"
           }
          },
          "shapedefaults": {
           "line": {
            "color": "#2a3f5f"
           }
          },
          "ternary": {
           "aaxis": {
            "gridcolor": "white",
            "linecolor": "white",
            "ticks": ""
           },
           "baxis": {
            "gridcolor": "white",
            "linecolor": "white",
            "ticks": ""
           },
           "bgcolor": "#E5ECF6",
           "caxis": {
            "gridcolor": "white",
            "linecolor": "white",
            "ticks": ""
           }
          },
          "title": {
           "x": 0.05
          },
          "xaxis": {
           "automargin": true,
           "gridcolor": "white",
           "linecolor": "white",
           "ticks": "",
           "title": {
            "standoff": 15
           },
           "zerolinecolor": "white",
           "zerolinewidth": 2
          },
          "yaxis": {
           "automargin": true,
           "gridcolor": "white",
           "linecolor": "white",
           "ticks": "",
           "title": {
            "standoff": 15
           },
           "zerolinecolor": "white",
           "zerolinewidth": 2
          }
         }
        },
        "title": {
         "text": "Porcentaje de fuente en electricidad por país"
        },
        "width": 1200,
        "xaxis": {
         "title": {
          "text": "Países"
         }
        },
        "yaxis": {
         "title": {
          "text": "Porcentaje"
         }
        }
       }
      }
     },
     "metadata": {},
     "output_type": "display_data"
    }
   ],
   "source": [
    "# Se ordena segun el porcentaje fosil\n",
    "wec_mundo = wec_medias.sort_values('fossil_share_elec', ascending=False)\n",
    "fig = go.Figure()\n",
    "fig.add_trace(go.Bar(x=wec_mundo['country'], y=wec_mundo['fossil_share_elec'], name='Fossil'))\n",
    "fig.add_trace(go.Bar(x=wec_mundo['country'], y=wec_mundo['nuclear_share_elec'], name='Nuclear'))\n",
    "fig.add_trace(go.Bar(x=wec_mundo['country'], y=wec_mundo['renewables_share_elec'], name='Renewables'))\n",
    "fig.update_layout(barmode='stack',xaxis_title='Países',yaxis_title='Porcentaje',title='Porcentaje de fuente en electricidad por país',height=700, width=1200,)\n",
    "fig.show()"
   ]
  },
  {
   "cell_type": "markdown",
   "metadata": {},
   "source": [
    "El gráfico muestra el porcentaje de fuente (renovable, nuclear y fósil de cada país). \n",
    "Se puede apreciar que los países más cercanos a la ordenada al origen cuentan con mayor dependencia de fuentes fósiles y a medida que se alejan, crece el porcentaje de fuentes renovables. Es importante destacar que la mayoría de los países del mundo depende en mayor proporción de combustibles fósiles para el abastecimiento de electricidad, pero hay países que se encuentran en la transición, que posteriormente se determinará en que grupo se encuentran. "
   ]
  },
  {
   "cell_type": "markdown",
   "metadata": {},
   "source": [
    "### ¿Comó son los perfiles en Sudamérica?"
   ]
  },
  {
   "cell_type": "code",
   "execution_count": 309,
   "metadata": {},
   "outputs": [
    {
     "data": {
      "application/vnd.plotly.v1+json": {
       "config": {
        "plotlyServerURL": "https://plot.ly"
       },
       "data": [
        {
         "name": "Fossil",
         "type": "bar",
         "x": [
          "Trinidad and Tobago",
          "Guyana",
          "Argentina",
          "Bolivia",
          "Chile",
          "Suriname",
          "Peru",
          "French Guiana",
          "Ecuador",
          "Venezuela",
          "Colombia",
          "Brazil",
          "Uruguay",
          "Paraguay"
         ],
         "y": [
          99.94877777777778,
          97.984,
          70.0337,
          68.279,
          56.2971,
          55.224222222222224,
          42.2506,
          39.60566666666667,
          38.18088888888889,
          36.37155555555555,
          26.2103,
          16.4672,
          10.334900000000001,
          0.003888888888888889
         ]
        },
        {
         "name": "Nuclear",
         "type": "bar",
         "x": [
          "Trinidad and Tobago",
          "Guyana",
          "Argentina",
          "Bolivia",
          "Chile",
          "Suriname",
          "Peru",
          "French Guiana",
          "Ecuador",
          "Venezuela",
          "Colombia",
          "Brazil",
          "Uruguay",
          "Paraguay"
         ],
         "y": [
          0,
          0,
          5.0098,
          0,
          0,
          0,
          0,
          0,
          0,
          0,
          0,
          2.5686,
          0,
          0
         ]
        },
        {
         "name": "Renewables",
         "type": "bar",
         "x": [
          "Trinidad and Tobago",
          "Guyana",
          "Argentina",
          "Bolivia",
          "Chile",
          "Suriname",
          "Peru",
          "French Guiana",
          "Ecuador",
          "Venezuela",
          "Colombia",
          "Brazil",
          "Uruguay",
          "Paraguay"
         ],
         "y": [
          0.05122222222222222,
          2.016,
          24.9565,
          31.720999999999997,
          43.7029,
          44.77577777777778,
          57.7494,
          60.39433333333333,
          61.819111111111106,
          63.62844444444444,
          73.7897,
          80.964,
          89.6651,
          99.99611111111112
         ]
        }
       ],
       "layout": {
        "barmode": "stack",
        "template": {
         "data": {
          "bar": [
           {
            "error_x": {
             "color": "#2a3f5f"
            },
            "error_y": {
             "color": "#2a3f5f"
            },
            "marker": {
             "line": {
              "color": "#E5ECF6",
              "width": 0.5
             },
             "pattern": {
              "fillmode": "overlay",
              "size": 10,
              "solidity": 0.2
             }
            },
            "type": "bar"
           }
          ],
          "barpolar": [
           {
            "marker": {
             "line": {
              "color": "#E5ECF6",
              "width": 0.5
             },
             "pattern": {
              "fillmode": "overlay",
              "size": 10,
              "solidity": 0.2
             }
            },
            "type": "barpolar"
           }
          ],
          "carpet": [
           {
            "aaxis": {
             "endlinecolor": "#2a3f5f",
             "gridcolor": "white",
             "linecolor": "white",
             "minorgridcolor": "white",
             "startlinecolor": "#2a3f5f"
            },
            "baxis": {
             "endlinecolor": "#2a3f5f",
             "gridcolor": "white",
             "linecolor": "white",
             "minorgridcolor": "white",
             "startlinecolor": "#2a3f5f"
            },
            "type": "carpet"
           }
          ],
          "choropleth": [
           {
            "colorbar": {
             "outlinewidth": 0,
             "ticks": ""
            },
            "type": "choropleth"
           }
          ],
          "contour": [
           {
            "colorbar": {
             "outlinewidth": 0,
             "ticks": ""
            },
            "colorscale": [
             [
              0,
              "#0d0887"
             ],
             [
              0.1111111111111111,
              "#46039f"
             ],
             [
              0.2222222222222222,
              "#7201a8"
             ],
             [
              0.3333333333333333,
              "#9c179e"
             ],
             [
              0.4444444444444444,
              "#bd3786"
             ],
             [
              0.5555555555555556,
              "#d8576b"
             ],
             [
              0.6666666666666666,
              "#ed7953"
             ],
             [
              0.7777777777777778,
              "#fb9f3a"
             ],
             [
              0.8888888888888888,
              "#fdca26"
             ],
             [
              1,
              "#f0f921"
             ]
            ],
            "type": "contour"
           }
          ],
          "contourcarpet": [
           {
            "colorbar": {
             "outlinewidth": 0,
             "ticks": ""
            },
            "type": "contourcarpet"
           }
          ],
          "heatmap": [
           {
            "colorbar": {
             "outlinewidth": 0,
             "ticks": ""
            },
            "colorscale": [
             [
              0,
              "#0d0887"
             ],
             [
              0.1111111111111111,
              "#46039f"
             ],
             [
              0.2222222222222222,
              "#7201a8"
             ],
             [
              0.3333333333333333,
              "#9c179e"
             ],
             [
              0.4444444444444444,
              "#bd3786"
             ],
             [
              0.5555555555555556,
              "#d8576b"
             ],
             [
              0.6666666666666666,
              "#ed7953"
             ],
             [
              0.7777777777777778,
              "#fb9f3a"
             ],
             [
              0.8888888888888888,
              "#fdca26"
             ],
             [
              1,
              "#f0f921"
             ]
            ],
            "type": "heatmap"
           }
          ],
          "heatmapgl": [
           {
            "colorbar": {
             "outlinewidth": 0,
             "ticks": ""
            },
            "colorscale": [
             [
              0,
              "#0d0887"
             ],
             [
              0.1111111111111111,
              "#46039f"
             ],
             [
              0.2222222222222222,
              "#7201a8"
             ],
             [
              0.3333333333333333,
              "#9c179e"
             ],
             [
              0.4444444444444444,
              "#bd3786"
             ],
             [
              0.5555555555555556,
              "#d8576b"
             ],
             [
              0.6666666666666666,
              "#ed7953"
             ],
             [
              0.7777777777777778,
              "#fb9f3a"
             ],
             [
              0.8888888888888888,
              "#fdca26"
             ],
             [
              1,
              "#f0f921"
             ]
            ],
            "type": "heatmapgl"
           }
          ],
          "histogram": [
           {
            "marker": {
             "pattern": {
              "fillmode": "overlay",
              "size": 10,
              "solidity": 0.2
             }
            },
            "type": "histogram"
           }
          ],
          "histogram2d": [
           {
            "colorbar": {
             "outlinewidth": 0,
             "ticks": ""
            },
            "colorscale": [
             [
              0,
              "#0d0887"
             ],
             [
              0.1111111111111111,
              "#46039f"
             ],
             [
              0.2222222222222222,
              "#7201a8"
             ],
             [
              0.3333333333333333,
              "#9c179e"
             ],
             [
              0.4444444444444444,
              "#bd3786"
             ],
             [
              0.5555555555555556,
              "#d8576b"
             ],
             [
              0.6666666666666666,
              "#ed7953"
             ],
             [
              0.7777777777777778,
              "#fb9f3a"
             ],
             [
              0.8888888888888888,
              "#fdca26"
             ],
             [
              1,
              "#f0f921"
             ]
            ],
            "type": "histogram2d"
           }
          ],
          "histogram2dcontour": [
           {
            "colorbar": {
             "outlinewidth": 0,
             "ticks": ""
            },
            "colorscale": [
             [
              0,
              "#0d0887"
             ],
             [
              0.1111111111111111,
              "#46039f"
             ],
             [
              0.2222222222222222,
              "#7201a8"
             ],
             [
              0.3333333333333333,
              "#9c179e"
             ],
             [
              0.4444444444444444,
              "#bd3786"
             ],
             [
              0.5555555555555556,
              "#d8576b"
             ],
             [
              0.6666666666666666,
              "#ed7953"
             ],
             [
              0.7777777777777778,
              "#fb9f3a"
             ],
             [
              0.8888888888888888,
              "#fdca26"
             ],
             [
              1,
              "#f0f921"
             ]
            ],
            "type": "histogram2dcontour"
           }
          ],
          "mesh3d": [
           {
            "colorbar": {
             "outlinewidth": 0,
             "ticks": ""
            },
            "type": "mesh3d"
           }
          ],
          "parcoords": [
           {
            "line": {
             "colorbar": {
              "outlinewidth": 0,
              "ticks": ""
             }
            },
            "type": "parcoords"
           }
          ],
          "pie": [
           {
            "automargin": true,
            "type": "pie"
           }
          ],
          "scatter": [
           {
            "fillpattern": {
             "fillmode": "overlay",
             "size": 10,
             "solidity": 0.2
            },
            "type": "scatter"
           }
          ],
          "scatter3d": [
           {
            "line": {
             "colorbar": {
              "outlinewidth": 0,
              "ticks": ""
             }
            },
            "marker": {
             "colorbar": {
              "outlinewidth": 0,
              "ticks": ""
             }
            },
            "type": "scatter3d"
           }
          ],
          "scattercarpet": [
           {
            "marker": {
             "colorbar": {
              "outlinewidth": 0,
              "ticks": ""
             }
            },
            "type": "scattercarpet"
           }
          ],
          "scattergeo": [
           {
            "marker": {
             "colorbar": {
              "outlinewidth": 0,
              "ticks": ""
             }
            },
            "type": "scattergeo"
           }
          ],
          "scattergl": [
           {
            "marker": {
             "colorbar": {
              "outlinewidth": 0,
              "ticks": ""
             }
            },
            "type": "scattergl"
           }
          ],
          "scattermapbox": [
           {
            "marker": {
             "colorbar": {
              "outlinewidth": 0,
              "ticks": ""
             }
            },
            "type": "scattermapbox"
           }
          ],
          "scatterpolar": [
           {
            "marker": {
             "colorbar": {
              "outlinewidth": 0,
              "ticks": ""
             }
            },
            "type": "scatterpolar"
           }
          ],
          "scatterpolargl": [
           {
            "marker": {
             "colorbar": {
              "outlinewidth": 0,
              "ticks": ""
             }
            },
            "type": "scatterpolargl"
           }
          ],
          "scatterternary": [
           {
            "marker": {
             "colorbar": {
              "outlinewidth": 0,
              "ticks": ""
             }
            },
            "type": "scatterternary"
           }
          ],
          "surface": [
           {
            "colorbar": {
             "outlinewidth": 0,
             "ticks": ""
            },
            "colorscale": [
             [
              0,
              "#0d0887"
             ],
             [
              0.1111111111111111,
              "#46039f"
             ],
             [
              0.2222222222222222,
              "#7201a8"
             ],
             [
              0.3333333333333333,
              "#9c179e"
             ],
             [
              0.4444444444444444,
              "#bd3786"
             ],
             [
              0.5555555555555556,
              "#d8576b"
             ],
             [
              0.6666666666666666,
              "#ed7953"
             ],
             [
              0.7777777777777778,
              "#fb9f3a"
             ],
             [
              0.8888888888888888,
              "#fdca26"
             ],
             [
              1,
              "#f0f921"
             ]
            ],
            "type": "surface"
           }
          ],
          "table": [
           {
            "cells": {
             "fill": {
              "color": "#EBF0F8"
             },
             "line": {
              "color": "white"
             }
            },
            "header": {
             "fill": {
              "color": "#C8D4E3"
             },
             "line": {
              "color": "white"
             }
            },
            "type": "table"
           }
          ]
         },
         "layout": {
          "annotationdefaults": {
           "arrowcolor": "#2a3f5f",
           "arrowhead": 0,
           "arrowwidth": 1
          },
          "autotypenumbers": "strict",
          "coloraxis": {
           "colorbar": {
            "outlinewidth": 0,
            "ticks": ""
           }
          },
          "colorscale": {
           "diverging": [
            [
             0,
             "#8e0152"
            ],
            [
             0.1,
             "#c51b7d"
            ],
            [
             0.2,
             "#de77ae"
            ],
            [
             0.3,
             "#f1b6da"
            ],
            [
             0.4,
             "#fde0ef"
            ],
            [
             0.5,
             "#f7f7f7"
            ],
            [
             0.6,
             "#e6f5d0"
            ],
            [
             0.7,
             "#b8e186"
            ],
            [
             0.8,
             "#7fbc41"
            ],
            [
             0.9,
             "#4d9221"
            ],
            [
             1,
             "#276419"
            ]
           ],
           "sequential": [
            [
             0,
             "#0d0887"
            ],
            [
             0.1111111111111111,
             "#46039f"
            ],
            [
             0.2222222222222222,
             "#7201a8"
            ],
            [
             0.3333333333333333,
             "#9c179e"
            ],
            [
             0.4444444444444444,
             "#bd3786"
            ],
            [
             0.5555555555555556,
             "#d8576b"
            ],
            [
             0.6666666666666666,
             "#ed7953"
            ],
            [
             0.7777777777777778,
             "#fb9f3a"
            ],
            [
             0.8888888888888888,
             "#fdca26"
            ],
            [
             1,
             "#f0f921"
            ]
           ],
           "sequentialminus": [
            [
             0,
             "#0d0887"
            ],
            [
             0.1111111111111111,
             "#46039f"
            ],
            [
             0.2222222222222222,
             "#7201a8"
            ],
            [
             0.3333333333333333,
             "#9c179e"
            ],
            [
             0.4444444444444444,
             "#bd3786"
            ],
            [
             0.5555555555555556,
             "#d8576b"
            ],
            [
             0.6666666666666666,
             "#ed7953"
            ],
            [
             0.7777777777777778,
             "#fb9f3a"
            ],
            [
             0.8888888888888888,
             "#fdca26"
            ],
            [
             1,
             "#f0f921"
            ]
           ]
          },
          "colorway": [
           "#636efa",
           "#EF553B",
           "#00cc96",
           "#ab63fa",
           "#FFA15A",
           "#19d3f3",
           "#FF6692",
           "#B6E880",
           "#FF97FF",
           "#FECB52"
          ],
          "font": {
           "color": "#2a3f5f"
          },
          "geo": {
           "bgcolor": "white",
           "lakecolor": "white",
           "landcolor": "#E5ECF6",
           "showlakes": true,
           "showland": true,
           "subunitcolor": "white"
          },
          "hoverlabel": {
           "align": "left"
          },
          "hovermode": "closest",
          "mapbox": {
           "style": "light"
          },
          "paper_bgcolor": "white",
          "plot_bgcolor": "#E5ECF6",
          "polar": {
           "angularaxis": {
            "gridcolor": "white",
            "linecolor": "white",
            "ticks": ""
           },
           "bgcolor": "#E5ECF6",
           "radialaxis": {
            "gridcolor": "white",
            "linecolor": "white",
            "ticks": ""
           }
          },
          "scene": {
           "xaxis": {
            "backgroundcolor": "#E5ECF6",
            "gridcolor": "white",
            "gridwidth": 2,
            "linecolor": "white",
            "showbackground": true,
            "ticks": "",
            "zerolinecolor": "white"
           },
           "yaxis": {
            "backgroundcolor": "#E5ECF6",
            "gridcolor": "white",
            "gridwidth": 2,
            "linecolor": "white",
            "showbackground": true,
            "ticks": "",
            "zerolinecolor": "white"
           },
           "zaxis": {
            "backgroundcolor": "#E5ECF6",
            "gridcolor": "white",
            "gridwidth": 2,
            "linecolor": "white",
            "showbackground": true,
            "ticks": "",
            "zerolinecolor": "white"
           }
          },
          "shapedefaults": {
           "line": {
            "color": "#2a3f5f"
           }
          },
          "ternary": {
           "aaxis": {
            "gridcolor": "white",
            "linecolor": "white",
            "ticks": ""
           },
           "baxis": {
            "gridcolor": "white",
            "linecolor": "white",
            "ticks": ""
           },
           "bgcolor": "#E5ECF6",
           "caxis": {
            "gridcolor": "white",
            "linecolor": "white",
            "ticks": ""
           }
          },
          "title": {
           "x": 0.05
          },
          "xaxis": {
           "automargin": true,
           "gridcolor": "white",
           "linecolor": "white",
           "ticks": "",
           "title": {
            "standoff": 15
           },
           "zerolinecolor": "white",
           "zerolinewidth": 2
          },
          "yaxis": {
           "automargin": true,
           "gridcolor": "white",
           "linecolor": "white",
           "ticks": "",
           "title": {
            "standoff": 15
           },
           "zerolinecolor": "white",
           "zerolinewidth": 2
          }
         }
        },
        "title": {
         "text": "Porcentaje de fuente en electricidad por país en Sudamérica"
        },
        "xaxis": {
         "title": {
          "text": "Países"
         }
        },
        "yaxis": {
         "title": {
          "text": "Porcentaje"
         }
        }
       }
      }
     },
     "metadata": {},
     "output_type": "display_data"
    }
   ],
   "source": [
    "# Se filtran los datos para incluir solo países de Sudamérica y ordenamos segun porcentaje fósil\n",
    "wec_suram = wec_medias[wec_medias['continente'] == 'Sudamérica']\n",
    "wec_suram = wec_suram.sort_values('fossil_share_elec', ascending=False)\n",
    "fig = go.Figure()\n",
    "fig.add_trace(go.Bar(x=wec_suram['country'], y=wec_suram['fossil_share_elec'], name='Fossil'))\n",
    "fig.add_trace(go.Bar(x=wec_suram['country'], y=wec_suram['nuclear_share_elec'], name='Nuclear'))\n",
    "fig.add_trace(go.Bar(x=wec_suram['country'], y=wec_suram['renewables_share_elec'], name='Renewables'))\n",
    "fig.update_layout(barmode='stack', xaxis_title='Países',yaxis_title='Porcentaje',title='Porcentaje de fuente en electricidad por país en Sudamérica',)\n",
    "fig.show()"
   ]
  },
  {
   "cell_type": "markdown",
   "metadata": {},
   "source": [
    "En Sudamérica se mantiene la tendencia mundial de alta dependencia de combustibles fósiles. Se destaca la presencia de electricidad de fuente nuclear en Argentina y Brasil. "
   ]
  },
  {
   "cell_type": "code",
   "execution_count": 310,
   "metadata": {},
   "outputs": [
    {
     "data": {
      "application/vnd.plotly.v1+json": {
       "config": {
        "plotlyServerURL": "https://plot.ly"
       },
       "data": [
        {
         "name": "Fossil",
         "type": "bar",
         "width": 2,
         "x": [
          1.3682222222222222,
          0.7671111111111111,
          43.06344444444445,
          10.866777777777777,
          18.032666666666668,
          0.5586666666666668,
          30.66388888888889,
          0.26266666666666666,
          16.258111111111113,
          29.423444444444442,
          47.75644444444444,
          204.3988906666667,
          3.4134444444444445,
          6.689
         ],
         "y": [
          99.94877777777778,
          97.984,
          70.0337,
          68.279,
          56.2971,
          55.224222222222224,
          42.2506,
          39.60566666666667,
          38.18088888888889,
          36.37155555555555,
          26.2103,
          16.4672,
          10.334900000000001,
          0.003888888888888889
         ]
        },
        {
         "name": "Nuclear",
         "type": "bar",
         "width": 2,
         "x": [
          1.3682222222222222,
          0.7671111111111111,
          43.06344444444445,
          10.866777777777777,
          18.032666666666668,
          0.5586666666666668,
          30.66388888888889,
          0.26266666666666666,
          16.258111111111113,
          29.423444444444442,
          47.75644444444444,
          204.3988906666667,
          3.4134444444444445,
          6.689
         ],
         "y": [
          0,
          0,
          5.0098,
          0,
          0,
          0,
          0,
          0,
          0,
          0,
          0,
          2.5686,
          0,
          0
         ]
        },
        {
         "name": "Renewables",
         "text": [
          "Trinidad and Tobago",
          "Guyana",
          "Argentina",
          "Bolivia",
          "Chile",
          "Suriname",
          "Peru",
          "French Guiana",
          "Ecuador",
          "Venezuela",
          "Colombia",
          "Brazil",
          "Uruguay",
          "Paraguay"
         ],
         "type": "bar",
         "width": 2,
         "x": [
          1.3682222222222222,
          0.7671111111111111,
          43.06344444444445,
          10.866777777777777,
          18.032666666666668,
          0.5586666666666668,
          30.66388888888889,
          0.26266666666666666,
          16.258111111111113,
          29.423444444444442,
          47.75644444444444,
          204.3988906666667,
          3.4134444444444445,
          6.689
         ],
         "y": [
          0.05122222222222222,
          2.016,
          24.9565,
          31.720999999999997,
          43.7029,
          44.77577777777778,
          57.7494,
          60.39433333333333,
          61.819111111111106,
          63.62844444444444,
          73.7897,
          80.964,
          89.6651,
          99.99611111111112
         ]
        }
       ],
       "layout": {
        "barmode": "stack",
        "height": 600,
        "template": {
         "data": {
          "bar": [
           {
            "error_x": {
             "color": "#2a3f5f"
            },
            "error_y": {
             "color": "#2a3f5f"
            },
            "marker": {
             "line": {
              "color": "#E5ECF6",
              "width": 0.5
             },
             "pattern": {
              "fillmode": "overlay",
              "size": 10,
              "solidity": 0.2
             }
            },
            "type": "bar"
           }
          ],
          "barpolar": [
           {
            "marker": {
             "line": {
              "color": "#E5ECF6",
              "width": 0.5
             },
             "pattern": {
              "fillmode": "overlay",
              "size": 10,
              "solidity": 0.2
             }
            },
            "type": "barpolar"
           }
          ],
          "carpet": [
           {
            "aaxis": {
             "endlinecolor": "#2a3f5f",
             "gridcolor": "white",
             "linecolor": "white",
             "minorgridcolor": "white",
             "startlinecolor": "#2a3f5f"
            },
            "baxis": {
             "endlinecolor": "#2a3f5f",
             "gridcolor": "white",
             "linecolor": "white",
             "minorgridcolor": "white",
             "startlinecolor": "#2a3f5f"
            },
            "type": "carpet"
           }
          ],
          "choropleth": [
           {
            "colorbar": {
             "outlinewidth": 0,
             "ticks": ""
            },
            "type": "choropleth"
           }
          ],
          "contour": [
           {
            "colorbar": {
             "outlinewidth": 0,
             "ticks": ""
            },
            "colorscale": [
             [
              0,
              "#0d0887"
             ],
             [
              0.1111111111111111,
              "#46039f"
             ],
             [
              0.2222222222222222,
              "#7201a8"
             ],
             [
              0.3333333333333333,
              "#9c179e"
             ],
             [
              0.4444444444444444,
              "#bd3786"
             ],
             [
              0.5555555555555556,
              "#d8576b"
             ],
             [
              0.6666666666666666,
              "#ed7953"
             ],
             [
              0.7777777777777778,
              "#fb9f3a"
             ],
             [
              0.8888888888888888,
              "#fdca26"
             ],
             [
              1,
              "#f0f921"
             ]
            ],
            "type": "contour"
           }
          ],
          "contourcarpet": [
           {
            "colorbar": {
             "outlinewidth": 0,
             "ticks": ""
            },
            "type": "contourcarpet"
           }
          ],
          "heatmap": [
           {
            "colorbar": {
             "outlinewidth": 0,
             "ticks": ""
            },
            "colorscale": [
             [
              0,
              "#0d0887"
             ],
             [
              0.1111111111111111,
              "#46039f"
             ],
             [
              0.2222222222222222,
              "#7201a8"
             ],
             [
              0.3333333333333333,
              "#9c179e"
             ],
             [
              0.4444444444444444,
              "#bd3786"
             ],
             [
              0.5555555555555556,
              "#d8576b"
             ],
             [
              0.6666666666666666,
              "#ed7953"
             ],
             [
              0.7777777777777778,
              "#fb9f3a"
             ],
             [
              0.8888888888888888,
              "#fdca26"
             ],
             [
              1,
              "#f0f921"
             ]
            ],
            "type": "heatmap"
           }
          ],
          "heatmapgl": [
           {
            "colorbar": {
             "outlinewidth": 0,
             "ticks": ""
            },
            "colorscale": [
             [
              0,
              "#0d0887"
             ],
             [
              0.1111111111111111,
              "#46039f"
             ],
             [
              0.2222222222222222,
              "#7201a8"
             ],
             [
              0.3333333333333333,
              "#9c179e"
             ],
             [
              0.4444444444444444,
              "#bd3786"
             ],
             [
              0.5555555555555556,
              "#d8576b"
             ],
             [
              0.6666666666666666,
              "#ed7953"
             ],
             [
              0.7777777777777778,
              "#fb9f3a"
             ],
             [
              0.8888888888888888,
              "#fdca26"
             ],
             [
              1,
              "#f0f921"
             ]
            ],
            "type": "heatmapgl"
           }
          ],
          "histogram": [
           {
            "marker": {
             "pattern": {
              "fillmode": "overlay",
              "size": 10,
              "solidity": 0.2
             }
            },
            "type": "histogram"
           }
          ],
          "histogram2d": [
           {
            "colorbar": {
             "outlinewidth": 0,
             "ticks": ""
            },
            "colorscale": [
             [
              0,
              "#0d0887"
             ],
             [
              0.1111111111111111,
              "#46039f"
             ],
             [
              0.2222222222222222,
              "#7201a8"
             ],
             [
              0.3333333333333333,
              "#9c179e"
             ],
             [
              0.4444444444444444,
              "#bd3786"
             ],
             [
              0.5555555555555556,
              "#d8576b"
             ],
             [
              0.6666666666666666,
              "#ed7953"
             ],
             [
              0.7777777777777778,
              "#fb9f3a"
             ],
             [
              0.8888888888888888,
              "#fdca26"
             ],
             [
              1,
              "#f0f921"
             ]
            ],
            "type": "histogram2d"
           }
          ],
          "histogram2dcontour": [
           {
            "colorbar": {
             "outlinewidth": 0,
             "ticks": ""
            },
            "colorscale": [
             [
              0,
              "#0d0887"
             ],
             [
              0.1111111111111111,
              "#46039f"
             ],
             [
              0.2222222222222222,
              "#7201a8"
             ],
             [
              0.3333333333333333,
              "#9c179e"
             ],
             [
              0.4444444444444444,
              "#bd3786"
             ],
             [
              0.5555555555555556,
              "#d8576b"
             ],
             [
              0.6666666666666666,
              "#ed7953"
             ],
             [
              0.7777777777777778,
              "#fb9f3a"
             ],
             [
              0.8888888888888888,
              "#fdca26"
             ],
             [
              1,
              "#f0f921"
             ]
            ],
            "type": "histogram2dcontour"
           }
          ],
          "mesh3d": [
           {
            "colorbar": {
             "outlinewidth": 0,
             "ticks": ""
            },
            "type": "mesh3d"
           }
          ],
          "parcoords": [
           {
            "line": {
             "colorbar": {
              "outlinewidth": 0,
              "ticks": ""
             }
            },
            "type": "parcoords"
           }
          ],
          "pie": [
           {
            "automargin": true,
            "type": "pie"
           }
          ],
          "scatter": [
           {
            "fillpattern": {
             "fillmode": "overlay",
             "size": 10,
             "solidity": 0.2
            },
            "type": "scatter"
           }
          ],
          "scatter3d": [
           {
            "line": {
             "colorbar": {
              "outlinewidth": 0,
              "ticks": ""
             }
            },
            "marker": {
             "colorbar": {
              "outlinewidth": 0,
              "ticks": ""
             }
            },
            "type": "scatter3d"
           }
          ],
          "scattercarpet": [
           {
            "marker": {
             "colorbar": {
              "outlinewidth": 0,
              "ticks": ""
             }
            },
            "type": "scattercarpet"
           }
          ],
          "scattergeo": [
           {
            "marker": {
             "colorbar": {
              "outlinewidth": 0,
              "ticks": ""
             }
            },
            "type": "scattergeo"
           }
          ],
          "scattergl": [
           {
            "marker": {
             "colorbar": {
              "outlinewidth": 0,
              "ticks": ""
             }
            },
            "type": "scattergl"
           }
          ],
          "scattermapbox": [
           {
            "marker": {
             "colorbar": {
              "outlinewidth": 0,
              "ticks": ""
             }
            },
            "type": "scattermapbox"
           }
          ],
          "scatterpolar": [
           {
            "marker": {
             "colorbar": {
              "outlinewidth": 0,
              "ticks": ""
             }
            },
            "type": "scatterpolar"
           }
          ],
          "scatterpolargl": [
           {
            "marker": {
             "colorbar": {
              "outlinewidth": 0,
              "ticks": ""
             }
            },
            "type": "scatterpolargl"
           }
          ],
          "scatterternary": [
           {
            "marker": {
             "colorbar": {
              "outlinewidth": 0,
              "ticks": ""
             }
            },
            "type": "scatterternary"
           }
          ],
          "surface": [
           {
            "colorbar": {
             "outlinewidth": 0,
             "ticks": ""
            },
            "colorscale": [
             [
              0,
              "#0d0887"
             ],
             [
              0.1111111111111111,
              "#46039f"
             ],
             [
              0.2222222222222222,
              "#7201a8"
             ],
             [
              0.3333333333333333,
              "#9c179e"
             ],
             [
              0.4444444444444444,
              "#bd3786"
             ],
             [
              0.5555555555555556,
              "#d8576b"
             ],
             [
              0.6666666666666666,
              "#ed7953"
             ],
             [
              0.7777777777777778,
              "#fb9f3a"
             ],
             [
              0.8888888888888888,
              "#fdca26"
             ],
             [
              1,
              "#f0f921"
             ]
            ],
            "type": "surface"
           }
          ],
          "table": [
           {
            "cells": {
             "fill": {
              "color": "#EBF0F8"
             },
             "line": {
              "color": "white"
             }
            },
            "header": {
             "fill": {
              "color": "#C8D4E3"
             },
             "line": {
              "color": "white"
             }
            },
            "type": "table"
           }
          ]
         },
         "layout": {
          "annotationdefaults": {
           "arrowcolor": "#2a3f5f",
           "arrowhead": 0,
           "arrowwidth": 1
          },
          "autotypenumbers": "strict",
          "coloraxis": {
           "colorbar": {
            "outlinewidth": 0,
            "ticks": ""
           }
          },
          "colorscale": {
           "diverging": [
            [
             0,
             "#8e0152"
            ],
            [
             0.1,
             "#c51b7d"
            ],
            [
             0.2,
             "#de77ae"
            ],
            [
             0.3,
             "#f1b6da"
            ],
            [
             0.4,
             "#fde0ef"
            ],
            [
             0.5,
             "#f7f7f7"
            ],
            [
             0.6,
             "#e6f5d0"
            ],
            [
             0.7,
             "#b8e186"
            ],
            [
             0.8,
             "#7fbc41"
            ],
            [
             0.9,
             "#4d9221"
            ],
            [
             1,
             "#276419"
            ]
           ],
           "sequential": [
            [
             0,
             "#0d0887"
            ],
            [
             0.1111111111111111,
             "#46039f"
            ],
            [
             0.2222222222222222,
             "#7201a8"
            ],
            [
             0.3333333333333333,
             "#9c179e"
            ],
            [
             0.4444444444444444,
             "#bd3786"
            ],
            [
             0.5555555555555556,
             "#d8576b"
            ],
            [
             0.6666666666666666,
             "#ed7953"
            ],
            [
             0.7777777777777778,
             "#fb9f3a"
            ],
            [
             0.8888888888888888,
             "#fdca26"
            ],
            [
             1,
             "#f0f921"
            ]
           ],
           "sequentialminus": [
            [
             0,
             "#0d0887"
            ],
            [
             0.1111111111111111,
             "#46039f"
            ],
            [
             0.2222222222222222,
             "#7201a8"
            ],
            [
             0.3333333333333333,
             "#9c179e"
            ],
            [
             0.4444444444444444,
             "#bd3786"
            ],
            [
             0.5555555555555556,
             "#d8576b"
            ],
            [
             0.6666666666666666,
             "#ed7953"
            ],
            [
             0.7777777777777778,
             "#fb9f3a"
            ],
            [
             0.8888888888888888,
             "#fdca26"
            ],
            [
             1,
             "#f0f921"
            ]
           ]
          },
          "colorway": [
           "#636efa",
           "#EF553B",
           "#00cc96",
           "#ab63fa",
           "#FFA15A",
           "#19d3f3",
           "#FF6692",
           "#B6E880",
           "#FF97FF",
           "#FECB52"
          ],
          "font": {
           "color": "#2a3f5f"
          },
          "geo": {
           "bgcolor": "white",
           "lakecolor": "white",
           "landcolor": "#E5ECF6",
           "showlakes": true,
           "showland": true,
           "subunitcolor": "white"
          },
          "hoverlabel": {
           "align": "left"
          },
          "hovermode": "closest",
          "mapbox": {
           "style": "light"
          },
          "paper_bgcolor": "white",
          "plot_bgcolor": "#E5ECF6",
          "polar": {
           "angularaxis": {
            "gridcolor": "white",
            "linecolor": "white",
            "ticks": ""
           },
           "bgcolor": "#E5ECF6",
           "radialaxis": {
            "gridcolor": "white",
            "linecolor": "white",
            "ticks": ""
           }
          },
          "scene": {
           "xaxis": {
            "backgroundcolor": "#E5ECF6",
            "gridcolor": "white",
            "gridwidth": 2,
            "linecolor": "white",
            "showbackground": true,
            "ticks": "",
            "zerolinecolor": "white"
           },
           "yaxis": {
            "backgroundcolor": "#E5ECF6",
            "gridcolor": "white",
            "gridwidth": 2,
            "linecolor": "white",
            "showbackground": true,
            "ticks": "",
            "zerolinecolor": "white"
           },
           "zaxis": {
            "backgroundcolor": "#E5ECF6",
            "gridcolor": "white",
            "gridwidth": 2,
            "linecolor": "white",
            "showbackground": true,
            "ticks": "",
            "zerolinecolor": "white"
           }
          },
          "shapedefaults": {
           "line": {
            "color": "#2a3f5f"
           }
          },
          "ternary": {
           "aaxis": {
            "gridcolor": "white",
            "linecolor": "white",
            "ticks": ""
           },
           "baxis": {
            "gridcolor": "white",
            "linecolor": "white",
            "ticks": ""
           },
           "bgcolor": "#E5ECF6",
           "caxis": {
            "gridcolor": "white",
            "linecolor": "white",
            "ticks": ""
           }
          },
          "title": {
           "x": 0.05
          },
          "xaxis": {
           "automargin": true,
           "gridcolor": "white",
           "linecolor": "white",
           "ticks": "",
           "title": {
            "standoff": 15
           },
           "zerolinecolor": "white",
           "zerolinewidth": 2
          },
          "yaxis": {
           "automargin": true,
           "gridcolor": "white",
           "linecolor": "white",
           "ticks": "",
           "title": {
            "standoff": 15
           },
           "zerolinecolor": "white",
           "zerolinewidth": 2
          }
         }
        },
        "title": {
         "text": "Porcentaje de fuente en electricidad por población de cada país en Sudamérica"
        },
        "width": 4500,
        "xaxis": {
         "title": {
          "text": "Población (miles de millones)"
         }
        },
        "yaxis": {
         "title": {
          "text": "Porcentaje"
         }
        }
       }
      }
     },
     "metadata": {},
     "output_type": "display_data"
    }
   ],
   "source": [
    "# Se filtran los datos para incluir solo países de Sudamérica y ordenamos según porcentaje fósil\n",
    "wec_suram = wec_medias[wec_medias['continente'] == 'Sudamérica']\n",
    "wec_suram = wec_suram.sort_values('fossil_share_elec', ascending=False)\n",
    "valor_limite = 206 \n",
    "wec_suram_filtrado = wec_suram[wec_suram['population'] < valor_limite]\n",
    "wec_suram_filtrado = wec_suram_filtrado[(wec_suram_filtrado['population'] < 50) | (wec_suram_filtrado['population'] > 200)]\n",
    "fig = go.Figure()\n",
    "\n",
    "# Añade barras apiladas para cada fuente de energía con barras más anchas\n",
    "fig.add_trace(go.Bar(x=wec_suram_filtrado['population'], y=wec_suram_filtrado['fossil_share_elec'], name='Fossil', width=2,))  # Agrega el nombre del país al texto\n",
    "\n",
    "fig.add_trace(go.Bar(x=wec_suram_filtrado['population'], y=wec_suram_filtrado['nuclear_share_elec'], name='Nuclear', width=2,))  # Agrega el nombre del país al texto\n",
    "\n",
    "fig.add_trace(go.Bar(x=wec_suram_filtrado['population'], y=wec_suram_filtrado['renewables_share_elec'], name='Renewables', width=2,text=wec_suram_filtrado['country']))  # Agrega el nombre del país al texto\n",
    "\n",
    "# Especifica el diseño del gráfico\n",
    "fig.update_layout( barmode='stack',xaxis_title='Población (miles de millones)',  yaxis_title='Porcentaje', title='Porcentaje de fuente en electricidad por población de cada país en Sudamérica',height=600, width=4500,)\n",
    "\n",
    "# Muestra el gráfico\n",
    "fig.show()"
   ]
  },
  {
   "cell_type": "markdown",
   "metadata": {},
   "source": [
    "Se observa que la cantidad de población por país, en sudamérica no es una variables que influya en el poncentaje de emisión de electricidad producido por fuentes fósiles, renovables ni nuclear.  Posteriormente se realizará un análisis con otras variables. "
   ]
  },
  {
   "cell_type": "markdown",
   "metadata": {},
   "source": [
    "A partir de estos datos realizaremos un analisis de clustering por DBSCAN con el objetivo de agrupar a los países según las fuentes de las que obtienen su electricidad. \n",
    "Para continuar con la lectura edl modelo supervisado, ingresar a la notebook llamada clustering_perfil_energetico. "
   ]
  },
  {
   "cell_type": "code",
   "execution_count": 311,
   "metadata": {},
   "outputs": [],
   "source": [
    "# Se guarda el dataframe en un archivo csv\n",
    "wec_medias.to_csv(\"../datasets/wec_ns.csv\", index= False)"
   ]
  },
  {
   "cell_type": "markdown",
   "metadata": {},
   "source": [
    "# ¿Qué características de un país influyen en su producción de energías bajas en carbono?"
   ]
  },
  {
   "cell_type": "markdown",
   "metadata": {},
   "source": [
    "## Producción de energías renovables"
   ]
  },
  {
   "cell_type": "code",
   "execution_count": 312,
   "metadata": {},
   "outputs": [],
   "source": [
    "wec = pd.read_csv(r'../datasets/wec_s.csv')  \n",
    "wec = wec[(wec['year'] > 2010)]"
   ]
  },
  {
   "cell_type": "code",
   "execution_count": 313,
   "metadata": {},
   "outputs": [
    {
     "data": {
      "text/html": [
       "<div>\n",
       "<style scoped>\n",
       "    .dataframe tbody tr th:only-of-type {\n",
       "        vertical-align: middle;\n",
       "    }\n",
       "\n",
       "    .dataframe tbody tr th {\n",
       "        vertical-align: top;\n",
       "    }\n",
       "\n",
       "    .dataframe thead th {\n",
       "        text-align: right;\n",
       "    }\n",
       "</style>\n",
       "<table border=\"1\" class=\"dataframe\">\n",
       "  <thead>\n",
       "    <tr style=\"text-align: right;\">\n",
       "      <th></th>\n",
       "      <th>country</th>\n",
       "      <th>continente</th>\n",
       "      <th>year</th>\n",
       "      <th>population</th>\n",
       "      <th>renewables_electricity</th>\n",
       "      <th>nuclear_electricity</th>\n",
       "      <th>low_carbon_electricity</th>\n",
       "    </tr>\n",
       "  </thead>\n",
       "  <tbody>\n",
       "    <tr>\n",
       "      <th>111</th>\n",
       "      <td>Afghanistan</td>\n",
       "      <td>Asia</td>\n",
       "      <td>2011</td>\n",
       "      <td>30.117</td>\n",
       "      <td>0.595</td>\n",
       "      <td>0.0</td>\n",
       "      <td>0.595</td>\n",
       "    </tr>\n",
       "    <tr>\n",
       "      <th>112</th>\n",
       "      <td>Afghanistan</td>\n",
       "      <td>Asia</td>\n",
       "      <td>2012</td>\n",
       "      <td>31.161</td>\n",
       "      <td>0.738</td>\n",
       "      <td>0.0</td>\n",
       "      <td>0.738</td>\n",
       "    </tr>\n",
       "    <tr>\n",
       "      <th>113</th>\n",
       "      <td>Afghanistan</td>\n",
       "      <td>Asia</td>\n",
       "      <td>2013</td>\n",
       "      <td>32.270</td>\n",
       "      <td>0.885</td>\n",
       "      <td>0.0</td>\n",
       "      <td>0.885</td>\n",
       "    </tr>\n",
       "    <tr>\n",
       "      <th>114</th>\n",
       "      <td>Afghanistan</td>\n",
       "      <td>Asia</td>\n",
       "      <td>2014</td>\n",
       "      <td>33.371</td>\n",
       "      <td>1.000</td>\n",
       "      <td>0.0</td>\n",
       "      <td>1.000</td>\n",
       "    </tr>\n",
       "    <tr>\n",
       "      <th>115</th>\n",
       "      <td>Afghanistan</td>\n",
       "      <td>Asia</td>\n",
       "      <td>2015</td>\n",
       "      <td>34.414</td>\n",
       "      <td>1.034</td>\n",
       "      <td>0.0</td>\n",
       "      <td>1.034</td>\n",
       "    </tr>\n",
       "  </tbody>\n",
       "</table>\n",
       "</div>"
      ],
      "text/plain": [
       "         country continente  year  population  renewables_electricity  nuclear_electricity  low_carbon_electricity\n",
       "111  Afghanistan       Asia  2011      30.117                   0.595                  0.0                   0.595\n",
       "112  Afghanistan       Asia  2012      31.161                   0.738                  0.0                   0.738\n",
       "113  Afghanistan       Asia  2013      32.270                   0.885                  0.0                   0.885\n",
       "114  Afghanistan       Asia  2014      33.371                   1.000                  0.0                   1.000\n",
       "115  Afghanistan       Asia  2015      34.414                   1.034                  0.0                   1.034"
      ]
     },
     "execution_count": 313,
     "metadata": {},
     "output_type": "execute_result"
    }
   ],
   "source": [
    "features_reg = [\"country\", \"continente\", \"year\", \"population\", \"renewables_electricity\", \"nuclear_electricity\", \"low_carbon_electricity\"]\n",
    "wec = wec[features_reg]\n",
    "wec.head(5)"
   ]
  },
  {
   "cell_type": "code",
   "execution_count": 316,
   "metadata": {},
   "outputs": [
    {
     "ename": "FileNotFoundError",
     "evalue": "[Errno 2] No such file or directory: '../datasets/df.csv'",
     "output_type": "error",
     "traceback": [
      "\u001b[1;31m---------------------------------------------------------------------------\u001b[0m",
      "\u001b[1;31mFileNotFoundError\u001b[0m                         Traceback (most recent call last)",
      "\u001b[1;32mc:\\Users\\Usuario\\Desktop\\data science\\EDA-datasets\\notebooks\\EDA.ipynb Celda 69\u001b[0m line \u001b[0;36m2\n\u001b[0;32m      <a href='vscode-notebook-cell:/c%3A/Users/Usuario/Desktop/data%20science/EDA-datasets/notebooks/EDA.ipynb#Y244sZmlsZQ%3D%3D?line=0'>1</a>\u001b[0m \u001b[39m# Se importa el dataset\u001b[39;00m\n\u001b[1;32m----> <a href='vscode-notebook-cell:/c%3A/Users/Usuario/Desktop/data%20science/EDA-datasets/notebooks/EDA.ipynb#Y244sZmlsZQ%3D%3D?line=1'>2</a>\u001b[0m df \u001b[39m=\u001b[39m pd\u001b[39m.\u001b[39mread_csv(\u001b[39mr\u001b[39m\u001b[39m\"\u001b[39m\u001b[39m../datasets/df.csv\u001b[39m\u001b[39m\"\u001b[39m)\n",
      "File \u001b[1;32mc:\\ProgramData\\anaconda3\\Lib\\site-packages\\pandas\\util\\_decorators.py:211\u001b[0m, in \u001b[0;36mdeprecate_kwarg.<locals>._deprecate_kwarg.<locals>.wrapper\u001b[1;34m(*args, **kwargs)\u001b[0m\n\u001b[0;32m    209\u001b[0m     \u001b[39melse\u001b[39;00m:\n\u001b[0;32m    210\u001b[0m         kwargs[new_arg_name] \u001b[39m=\u001b[39m new_arg_value\n\u001b[1;32m--> 211\u001b[0m \u001b[39mreturn\u001b[39;00m func(\u001b[39m*\u001b[39margs, \u001b[39m*\u001b[39m\u001b[39m*\u001b[39mkwargs)\n",
      "File \u001b[1;32mc:\\ProgramData\\anaconda3\\Lib\\site-packages\\pandas\\util\\_decorators.py:331\u001b[0m, in \u001b[0;36mdeprecate_nonkeyword_arguments.<locals>.decorate.<locals>.wrapper\u001b[1;34m(*args, **kwargs)\u001b[0m\n\u001b[0;32m    325\u001b[0m \u001b[39mif\u001b[39;00m \u001b[39mlen\u001b[39m(args) \u001b[39m>\u001b[39m num_allow_args:\n\u001b[0;32m    326\u001b[0m     warnings\u001b[39m.\u001b[39mwarn(\n\u001b[0;32m    327\u001b[0m         msg\u001b[39m.\u001b[39mformat(arguments\u001b[39m=\u001b[39m_format_argument_list(allow_args)),\n\u001b[0;32m    328\u001b[0m         \u001b[39mFutureWarning\u001b[39;00m,\n\u001b[0;32m    329\u001b[0m         stacklevel\u001b[39m=\u001b[39mfind_stack_level(),\n\u001b[0;32m    330\u001b[0m     )\n\u001b[1;32m--> 331\u001b[0m \u001b[39mreturn\u001b[39;00m func(\u001b[39m*\u001b[39margs, \u001b[39m*\u001b[39m\u001b[39m*\u001b[39mkwargs)\n",
      "File \u001b[1;32mc:\\ProgramData\\anaconda3\\Lib\\site-packages\\pandas\\io\\parsers\\readers.py:950\u001b[0m, in \u001b[0;36mread_csv\u001b[1;34m(filepath_or_buffer, sep, delimiter, header, names, index_col, usecols, squeeze, prefix, mangle_dupe_cols, dtype, engine, converters, true_values, false_values, skipinitialspace, skiprows, skipfooter, nrows, na_values, keep_default_na, na_filter, verbose, skip_blank_lines, parse_dates, infer_datetime_format, keep_date_col, date_parser, dayfirst, cache_dates, iterator, chunksize, compression, thousands, decimal, lineterminator, quotechar, quoting, doublequote, escapechar, comment, encoding, encoding_errors, dialect, error_bad_lines, warn_bad_lines, on_bad_lines, delim_whitespace, low_memory, memory_map, float_precision, storage_options)\u001b[0m\n\u001b[0;32m    935\u001b[0m kwds_defaults \u001b[39m=\u001b[39m _refine_defaults_read(\n\u001b[0;32m    936\u001b[0m     dialect,\n\u001b[0;32m    937\u001b[0m     delimiter,\n\u001b[1;32m   (...)\u001b[0m\n\u001b[0;32m    946\u001b[0m     defaults\u001b[39m=\u001b[39m{\u001b[39m\"\u001b[39m\u001b[39mdelimiter\u001b[39m\u001b[39m\"\u001b[39m: \u001b[39m\"\u001b[39m\u001b[39m,\u001b[39m\u001b[39m\"\u001b[39m},\n\u001b[0;32m    947\u001b[0m )\n\u001b[0;32m    948\u001b[0m kwds\u001b[39m.\u001b[39mupdate(kwds_defaults)\n\u001b[1;32m--> 950\u001b[0m \u001b[39mreturn\u001b[39;00m _read(filepath_or_buffer, kwds)\n",
      "File \u001b[1;32mc:\\ProgramData\\anaconda3\\Lib\\site-packages\\pandas\\io\\parsers\\readers.py:605\u001b[0m, in \u001b[0;36m_read\u001b[1;34m(filepath_or_buffer, kwds)\u001b[0m\n\u001b[0;32m    602\u001b[0m _validate_names(kwds\u001b[39m.\u001b[39mget(\u001b[39m\"\u001b[39m\u001b[39mnames\u001b[39m\u001b[39m\"\u001b[39m, \u001b[39mNone\u001b[39;00m))\n\u001b[0;32m    604\u001b[0m \u001b[39m# Create the parser.\u001b[39;00m\n\u001b[1;32m--> 605\u001b[0m parser \u001b[39m=\u001b[39m TextFileReader(filepath_or_buffer, \u001b[39m*\u001b[39m\u001b[39m*\u001b[39mkwds)\n\u001b[0;32m    607\u001b[0m \u001b[39mif\u001b[39;00m chunksize \u001b[39mor\u001b[39;00m iterator:\n\u001b[0;32m    608\u001b[0m     \u001b[39mreturn\u001b[39;00m parser\n",
      "File \u001b[1;32mc:\\ProgramData\\anaconda3\\Lib\\site-packages\\pandas\\io\\parsers\\readers.py:1442\u001b[0m, in \u001b[0;36mTextFileReader.__init__\u001b[1;34m(self, f, engine, **kwds)\u001b[0m\n\u001b[0;32m   1439\u001b[0m     \u001b[39mself\u001b[39m\u001b[39m.\u001b[39moptions[\u001b[39m\"\u001b[39m\u001b[39mhas_index_names\u001b[39m\u001b[39m\"\u001b[39m] \u001b[39m=\u001b[39m kwds[\u001b[39m\"\u001b[39m\u001b[39mhas_index_names\u001b[39m\u001b[39m\"\u001b[39m]\n\u001b[0;32m   1441\u001b[0m \u001b[39mself\u001b[39m\u001b[39m.\u001b[39mhandles: IOHandles \u001b[39m|\u001b[39m \u001b[39mNone\u001b[39;00m \u001b[39m=\u001b[39m \u001b[39mNone\u001b[39;00m\n\u001b[1;32m-> 1442\u001b[0m \u001b[39mself\u001b[39m\u001b[39m.\u001b[39m_engine \u001b[39m=\u001b[39m \u001b[39mself\u001b[39m\u001b[39m.\u001b[39m_make_engine(f, \u001b[39mself\u001b[39m\u001b[39m.\u001b[39mengine)\n",
      "File \u001b[1;32mc:\\ProgramData\\anaconda3\\Lib\\site-packages\\pandas\\io\\parsers\\readers.py:1735\u001b[0m, in \u001b[0;36mTextFileReader._make_engine\u001b[1;34m(self, f, engine)\u001b[0m\n\u001b[0;32m   1733\u001b[0m     \u001b[39mif\u001b[39;00m \u001b[39m\"\u001b[39m\u001b[39mb\u001b[39m\u001b[39m\"\u001b[39m \u001b[39mnot\u001b[39;00m \u001b[39min\u001b[39;00m mode:\n\u001b[0;32m   1734\u001b[0m         mode \u001b[39m+\u001b[39m\u001b[39m=\u001b[39m \u001b[39m\"\u001b[39m\u001b[39mb\u001b[39m\u001b[39m\"\u001b[39m\n\u001b[1;32m-> 1735\u001b[0m \u001b[39mself\u001b[39m\u001b[39m.\u001b[39mhandles \u001b[39m=\u001b[39m get_handle(\n\u001b[0;32m   1736\u001b[0m     f,\n\u001b[0;32m   1737\u001b[0m     mode,\n\u001b[0;32m   1738\u001b[0m     encoding\u001b[39m=\u001b[39m\u001b[39mself\u001b[39m\u001b[39m.\u001b[39moptions\u001b[39m.\u001b[39mget(\u001b[39m\"\u001b[39m\u001b[39mencoding\u001b[39m\u001b[39m\"\u001b[39m, \u001b[39mNone\u001b[39;00m),\n\u001b[0;32m   1739\u001b[0m     compression\u001b[39m=\u001b[39m\u001b[39mself\u001b[39m\u001b[39m.\u001b[39moptions\u001b[39m.\u001b[39mget(\u001b[39m\"\u001b[39m\u001b[39mcompression\u001b[39m\u001b[39m\"\u001b[39m, \u001b[39mNone\u001b[39;00m),\n\u001b[0;32m   1740\u001b[0m     memory_map\u001b[39m=\u001b[39m\u001b[39mself\u001b[39m\u001b[39m.\u001b[39moptions\u001b[39m.\u001b[39mget(\u001b[39m\"\u001b[39m\u001b[39mmemory_map\u001b[39m\u001b[39m\"\u001b[39m, \u001b[39mFalse\u001b[39;00m),\n\u001b[0;32m   1741\u001b[0m     is_text\u001b[39m=\u001b[39mis_text,\n\u001b[0;32m   1742\u001b[0m     errors\u001b[39m=\u001b[39m\u001b[39mself\u001b[39m\u001b[39m.\u001b[39moptions\u001b[39m.\u001b[39mget(\u001b[39m\"\u001b[39m\u001b[39mencoding_errors\u001b[39m\u001b[39m\"\u001b[39m, \u001b[39m\"\u001b[39m\u001b[39mstrict\u001b[39m\u001b[39m\"\u001b[39m),\n\u001b[0;32m   1743\u001b[0m     storage_options\u001b[39m=\u001b[39m\u001b[39mself\u001b[39m\u001b[39m.\u001b[39moptions\u001b[39m.\u001b[39mget(\u001b[39m\"\u001b[39m\u001b[39mstorage_options\u001b[39m\u001b[39m\"\u001b[39m, \u001b[39mNone\u001b[39;00m),\n\u001b[0;32m   1744\u001b[0m )\n\u001b[0;32m   1745\u001b[0m \u001b[39massert\u001b[39;00m \u001b[39mself\u001b[39m\u001b[39m.\u001b[39mhandles \u001b[39mis\u001b[39;00m \u001b[39mnot\u001b[39;00m \u001b[39mNone\u001b[39;00m\n\u001b[0;32m   1746\u001b[0m f \u001b[39m=\u001b[39m \u001b[39mself\u001b[39m\u001b[39m.\u001b[39mhandles\u001b[39m.\u001b[39mhandle\n",
      "File \u001b[1;32mc:\\ProgramData\\anaconda3\\Lib\\site-packages\\pandas\\io\\common.py:856\u001b[0m, in \u001b[0;36mget_handle\u001b[1;34m(path_or_buf, mode, encoding, compression, memory_map, is_text, errors, storage_options)\u001b[0m\n\u001b[0;32m    851\u001b[0m \u001b[39melif\u001b[39;00m \u001b[39misinstance\u001b[39m(handle, \u001b[39mstr\u001b[39m):\n\u001b[0;32m    852\u001b[0m     \u001b[39m# Check whether the filename is to be opened in binary mode.\u001b[39;00m\n\u001b[0;32m    853\u001b[0m     \u001b[39m# Binary mode does not support 'encoding' and 'newline'.\u001b[39;00m\n\u001b[0;32m    854\u001b[0m     \u001b[39mif\u001b[39;00m ioargs\u001b[39m.\u001b[39mencoding \u001b[39mand\u001b[39;00m \u001b[39m\"\u001b[39m\u001b[39mb\u001b[39m\u001b[39m\"\u001b[39m \u001b[39mnot\u001b[39;00m \u001b[39min\u001b[39;00m ioargs\u001b[39m.\u001b[39mmode:\n\u001b[0;32m    855\u001b[0m         \u001b[39m# Encoding\u001b[39;00m\n\u001b[1;32m--> 856\u001b[0m         handle \u001b[39m=\u001b[39m \u001b[39mopen\u001b[39m(\n\u001b[0;32m    857\u001b[0m             handle,\n\u001b[0;32m    858\u001b[0m             ioargs\u001b[39m.\u001b[39mmode,\n\u001b[0;32m    859\u001b[0m             encoding\u001b[39m=\u001b[39mioargs\u001b[39m.\u001b[39mencoding,\n\u001b[0;32m    860\u001b[0m             errors\u001b[39m=\u001b[39merrors,\n\u001b[0;32m    861\u001b[0m             newline\u001b[39m=\u001b[39m\u001b[39m\"\u001b[39m\u001b[39m\"\u001b[39m,\n\u001b[0;32m    862\u001b[0m         )\n\u001b[0;32m    863\u001b[0m     \u001b[39melse\u001b[39;00m:\n\u001b[0;32m    864\u001b[0m         \u001b[39m# Binary mode\u001b[39;00m\n\u001b[0;32m    865\u001b[0m         handle \u001b[39m=\u001b[39m \u001b[39mopen\u001b[39m(handle, ioargs\u001b[39m.\u001b[39mmode)\n",
      "\u001b[1;31mFileNotFoundError\u001b[0m: [Errno 2] No such file or directory: '../datasets/df.csv'"
     ]
    }
   ],
   "source": [
    "# Se importa el dataset\n",
    "df = pd.read_csv(r\"../datasets/df.csv\")"
   ]
  },
  {
   "cell_type": "code",
   "execution_count": null,
   "metadata": {},
   "outputs": [],
   "source": [
    "col_pais_cluster = [\"country\", \"cluster\"]\n",
    "pais_cluster =df[col_pais_cluster]\n",
    "pais_cluster.head(6)"
   ]
  },
  {
   "cell_type": "markdown",
   "metadata": {},
   "source": [
    "Agregamos la columna cluster al dataset de métricas a lo largo de los años. "
   ]
  },
  {
   "cell_type": "code",
   "execution_count": null,
   "metadata": {},
   "outputs": [],
   "source": [
    "wec2 = pd.merge(wec, pais_cluster, how = \"left\", on = \"country\")"
   ]
  },
  {
   "cell_type": "markdown",
   "metadata": {},
   "source": [
    "Eliminamos las filas con cluster nulo, ya que corresponden a paises que no pudieron ser incorporados en el clustering por no contar con sus datos en el dataset. "
   ]
  },
  {
   "cell_type": "code",
   "execution_count": null,
   "metadata": {},
   "outputs": [],
   "source": [
    "filas_nulos_cluster = wec2[wec2[\"cluster\"].isnull()]\n",
    "paises_nulos_cluster = filas_nulos_cluster[\"country\"].unique()\n",
    "paises_nulos_cluster # paises que no participaron del clustering"
   ]
  },
  {
   "cell_type": "code",
   "execution_count": null,
   "metadata": {},
   "outputs": [],
   "source": [
    "wec2 = wec2[~wec2[\"country\"].isin(paises_nulos_cluster)]"
   ]
  },
  {
   "cell_type": "code",
   "execution_count": null,
   "metadata": {},
   "outputs": [],
   "source": [
    "plt.figure(figsize=(6,3))\n",
    "sns.heatmap(wec2.isnull(), cmap='viridis', cbar=False)\n",
    "plt.title('Valores Faltantes en el DataFrame')\n",
    "plt.show()"
   ]
  },
  {
   "cell_type": "code",
   "execution_count": null,
   "metadata": {},
   "outputs": [],
   "source": [
    "wec2 = wec2.dropna()"
   ]
  },
  {
   "cell_type": "code",
   "execution_count": null,
   "metadata": {},
   "outputs": [],
   "source": [
    "plt.figure(figsize=(6,3))\n",
    "sns.heatmap(wec2.isnull(), cmap='viridis', cbar=False)\n",
    "plt.title('Valores Faltantes en el DataFrame')\n",
    "plt.show()"
   ]
  },
  {
   "cell_type": "markdown",
   "metadata": {},
   "source": [
    "Agregamos la columna nivel_ingresos con datos del Banco Mundial. \n",
    "<br> LOW-INCOME ECONOMIES ($1,135 OR LESS), \n",
    "<br>  LOWER-MIDDLE INCOME ECONOMIES ($1,136 TO $4,465), \n",
    "<br> UPPER-MIDDLE-INCOME ECONOMIES ($4,466 TO $13,845),\n",
    "<br> #HIGH-INCOME ECONOMIES ($13,846 OR MORE)\n"
   ]
  },
  {
   "cell_type": "code",
   "execution_count": null,
   "metadata": {},
   "outputs": [],
   "source": [
    "income_mapping = {\n",
    "    'Afghanistan': 'bajo',    \"North Korea\": 'bajo',    'South Sudan': 'bajo',\n",
    "    'Burkina Faso': 'bajo',    'Liberia': 'bajo',    'Sudan': 'bajo',\n",
    "    'Burundi': 'bajo',    'Madagascar': 'bajo',    'Syria': 'bajo',    'Sao Tome and Principe':'bajo',\t'Central African Republic': 'bajo', 'Saint Helena': 'bajo',\n",
    "    'Malawi': 'bajo',    'Togo': 'bajo',    'Chad': 'bajo',    'Mali': 'bajo',    'Uganda': 'bajo',    'Congo, Dem. Rep': 'bajo',\n",
    "    'Mozambique': 'bajo',    'Yemen': 'bajo',    'Eritrea': 'bajo',    'Niger': 'bajo',    'Ethiopia': 'bajo', 'Palestine': 'bajo',\n",
    "    'Rwanda': 'bajo',    'Gambia': 'bajo',    'Sierra Leone': 'bajo',    'Guinea-Bissau': 'bajo',    'Somalia': 'bajo',\n",
    "    'Angola': 'bajo-medio', 'Jordan': 'bajo-medio', 'Philippines': 'bajo-medio',\n",
    "    'Algeria': 'bajo-medio', 'India': 'bajo-medio', 'Samoa': 'bajo-medio',\n",
    "    'Bangladesh': 'bajo-medio', 'Iran': 'bajo-medio', 'São Tomé and Principe': 'bajo-medio',\n",
    "    'Benin': 'bajo-medio', 'Kenya': 'bajo-medio', 'Senegal': 'bajo-medio',\n",
    "    'Bhutan': 'bajo-medio', 'Kiribati': 'bajo-medio', 'Solomon Islands': 'bajo-medio',\n",
    "    'Bolivia': 'bajo-medio', 'Kyrgyz Republic': 'bajo-medio', 'Sri Lanka': 'bajo-medio',\n",
    "    'Cabo Verde': 'bajo-medio', 'Lao PDR': 'bajo-medio', 'Tanzania': 'bajo-medio',\n",
    "    'Cambodia': 'bajo-medio', 'Lebanon': 'bajo-medio', 'Tajikistan': 'bajo-medio',\n",
    "    'Cameroon': 'bajo-medio', 'Lesotho': 'bajo-medio', 'Timor-Leste': 'bajo-medio',\n",
    "    'Comoros': 'bajo-medio', 'Mauritania': 'bajo-medio', 'Tunisia': 'bajo-medio',\n",
    "    'Democratic Republic of Congo': 'bajo-medio', 'Congo': 'bajo-medio', 'Micronesia, Fed. Sts.': 'bajo-medio', 'Ukraine': 'bajo-medio',\n",
    "    \"Côte d'Ivoire\": 'bajo-medio', 'Mongolia': 'bajo-medio', 'Uzbekistan': 'bajo-medio',\n",
    "    'Djibouti': 'bajo-medio', 'Morocco': 'bajo-medio', 'Vanuatu': 'bajo-medio',\n",
    "    'Egypt': 'bajo-medio', 'Myanmar': 'bajo-medio', 'Vietnam': 'bajo-medio',\n",
    "    'Eswatini': 'bajo-medio', 'Nepal': 'bajo-medio', 'Zambia': 'bajo-medio',\n",
    "    'Ghana': 'bajo-medio', 'Nicaragua': 'bajo-medio', 'Zimbabwe': 'bajo-medio',\n",
    "    'Guinea': 'bajo-medio', 'Nigeria': 'bajo-medio',\n",
    "    'Haiti': 'bajo-medio', 'Pakistan': 'bajo-medio',\n",
    "    'Honduras': 'bajo-medio', 'Kyrgyzstan': 'bajo-medio', 'Papua New Guinea': 'bajo-medio',\n",
    "    'Albania': 'medio-alto', 'Fiji': 'medio-alto', 'North Macedonia': 'medio-alto',\n",
    "    'Argentina': 'medio-alto', 'Gabon': 'medio-alto', 'Palau': 'medio-alto',\n",
    "    'Armenia': 'medio-alto', 'Georgia': 'medio-alto', 'Paraguay': 'medio-alto',\n",
    "    'Azerbaijan': 'medio-alto', 'Grenada': 'medio-alto', 'Peru': 'medio-alto',\n",
    "    'Belarus': 'medio-alto', 'Guatemala': 'medio-alto', 'Russia': 'medio-alto',\n",
    "    'Belize': 'medio-alto', 'Indonesia': 'medio-alto', 'Serbia': 'medio-alto',\n",
    "    'Bosnia and Herzegovina': 'medio-alto', 'Iraq': 'medio-alto', 'South Africa': 'medio-alto',\n",
    "    'Botswana': 'medio-alto', 'Jamaica': 'medio-alto', 'St. Lucia': 'medio-alto',\n",
    "    'Brazil': 'medio-alto', 'Kazakhstan': 'medio-alto', 'St. Vincent and the Grenadines': 'medio-alto',\n",
    "    'Bulgaria': 'medio-alto', 'Kosovo': 'medio-alto', 'Czechia': 'medio-alto','Suriname': 'medio-alto',\n",
    "    'China': 'medio-alto', 'Laos': 'medio-alto','Libya': 'medio-alto', 'Thailand': 'medio-alto',\n",
    "    'Colombia': 'medio-alto', 'Malaysia': 'medio-alto', 'Tonga': 'medio-alto',\n",
    "    'Costa Rica': 'medio-alto', 'Maldives': 'medio-alto', 'Türkiye': 'medio-alto',\n",
    "    'Cuba': 'medio-alto', 'Marshall Islands': 'medio-alto', 'Turkmenistan': 'medio-alto',\n",
    "    'Dominica': 'medio-alto', 'Mauritius': 'medio-alto', 'Tuvalu': 'medio-alto',\n",
    "    'Dominican Republic': 'medio-alto', 'Mexico': 'medio-alto', 'West Bank and Gaza': 'medio-alto',\n",
    "    'El Salvador': 'medio-alto', 'Moldova': 'medio-alto',\n",
    "    'Equatorial Guinea': 'medio-alto', 'Martinique': 'medio-alto', 'Montenegro': 'medio-alto', 'Venezuela': 'medio-alto',\n",
    "    'Ecuador': 'medio-alto', 'Namibia': 'medio-alto', 'Turkey': 'medio-alto',\n",
    "    'American Samoa': 'alto', 'Guadeloupe': 'alto', 'Germany': 'alto', 'Oman': 'alto',\n",
    "    'Andorra': 'alto', 'Gibraltar': 'alto', 'Panama': 'alto',\n",
    "    'Antigua and Barbuda': 'alto', 'Greece': 'alto', 'Poland': 'alto',\n",
    "    'Aruba': 'alto', 'Greenland': 'alto', 'Portugal': 'alto',\n",
    "    'Australia': 'alto', 'Guam': 'alto', 'Puerto Rico': 'alto',\n",
    "    'Austria': 'alto', 'Hong Kong': 'alto', 'Qatar': 'alto',\n",
    "    'Bahamas': 'alto', 'Hungary': 'alto', 'Romania': 'alto',\n",
    "    'Bahrain': 'alto', 'Iceland': 'alto', 'San Marino': 'alto',\n",
    "    'Barbados': 'alto', 'Ireland': 'alto', 'Saudi Arabia': 'alto',\n",
    "    'Belgium': 'alto', 'Isle of Man': 'alto', 'Seychelles': 'alto',\n",
    "    'Bermuda': 'alto', 'Israel': 'alto', 'Singapore': 'alto',\n",
    "    'British Virgin Islands': 'alto', 'Italy': 'alto', 'Sint Maarten (Dutch part)': 'alto',\n",
    "    'Brunei': 'alto', 'Japan': 'alto', 'Slovakia': 'alto',\n",
    "    'Canada': 'alto', 'South Korea': 'alto', 'Slovenia': 'alto',\n",
    "    'Cayman Islands': 'alto', 'Kuwait': 'alto', 'Spain': 'alto',\n",
    "    'Channel Islands': 'alto', 'Cook Islands': 'alto', 'Latvia': 'alto', 'St. Kitts and Nevis': 'alto',\n",
    "    'Chile': 'alto', 'Liechtenstein': 'alto', 'St. Martin (French part)': 'alto',\n",
    "    'Croatia': 'alto', 'Lithuania': 'alto', 'Sweden': 'alto',\n",
    "    'Curaçao': 'alto', 'Luxembourg': 'alto', 'Switzerland': 'alto',\n",
    "    'Cyprus': 'alto', 'Macao SAR, China': 'alto', 'Taiwan': 'alto',\n",
    "    'Czech Republic': 'alto', 'Malta': 'alto', 'Trinidad and Tobago': 'alto',\n",
    "    'Denmark': 'alto', 'Monaco': 'alto', 'Turks and Caicos Islands': 'alto',\n",
    "    'Estonia': 'alto', 'Nauru': 'alto', 'United Arab Emirates': 'alto',\n",
    "    'Faroe Islands': 'alto', 'Netherlands': 'alto', 'United Kingdom': 'alto',\n",
    "    'Finland': 'alto', 'New Caledonia': 'alto', 'Montserrat': 'alto', 'United States': 'alto',\n",
    "    'France': 'alto', 'New Zealand': 'alto', 'Niue': 'alto', 'Uruguay': 'alto',\n",
    "    'French Polynesia': 'alto', 'French Guiana': 'alto', 'Northern Mariana Islands': 'alto', 'United States Virgin Islands': 'alto',\n",
    "    'Guyana': 'alto', 'Norway': 'alto', 'Saint Kitts and Nevis': 'alto', 'Saint Lucia': 'alto', 'Saint Pierre and Miquelon':\t'alto', \n",
    "    'Saint Vincent and the Grenadines':\t'alto'\n",
    "}"
   ]
  },
  {
   "cell_type": "code",
   "execution_count": null,
   "metadata": {},
   "outputs": [],
   "source": [
    "wec2['nivel_ingresos'] = wec2['country'].map(income_mapping)"
   ]
  },
  {
   "cell_type": "code",
   "execution_count": null,
   "metadata": {},
   "outputs": [],
   "source": [
    "wec2.to_csv(\"../datasets/wec_reg_lineal\", index= False)"
   ]
  },
  {
   "cell_type": "code",
   "execution_count": null,
   "metadata": {},
   "outputs": [],
   "source": [
    "# Se importa el dataset\n",
    "wec = pd.read_csv(r'../datasets/wec_reg_lineal')  \n",
    "wec.head(10)"
   ]
  }
 ],
 "metadata": {
  "kernelspec": {
   "display_name": "Python 3 (ipykernel)",
   "language": "python",
   "name": "python3"
  },
  "language_info": {
   "codemirror_mode": {
    "name": "ipython",
    "version": 3
   },
   "file_extension": ".py",
   "mimetype": "text/x-python",
   "name": "python",
   "nbconvert_exporter": "python",
   "pygments_lexer": "ipython3",
   "version": "3.11.3"
  }
 },
 "nbformat": 4,
 "nbformat_minor": 5
}
