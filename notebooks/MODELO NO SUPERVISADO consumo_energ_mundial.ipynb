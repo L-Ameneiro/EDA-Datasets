{
 "cells": [
  {
   "cell_type": "markdown",
   "metadata": {},
   "source": [
    "# MODELO  NO SUPERVISADO "
   ]
  },
  {
   "cell_type": "code",
   "execution_count": 3,
   "metadata": {},
   "outputs": [],
   "source": [
    "# Se importan las librerías que se utilizarán: \n",
    "import pandas as pd\n",
    "import numpy as np\n",
    "import sklearn\n",
    "import matplotlib.pyplot as plt\n",
    "import seaborn as sns\n",
    "from sklearn.cluster import KMeans\n",
    "import re\n",
    "import array\n",
    "import warnings\n",
    "warnings.filterwarnings('ignore')\n",
    "from matplotlib.cm import viridis\n",
    "from sklearn.preprocessing import StandardScaler\n",
    "from sklearn.metrics import silhouette_score"
   ]
  },
  {
   "cell_type": "code",
   "execution_count": 4,
   "metadata": {},
   "outputs": [],
   "source": [
    "# Se carga el data set\n",
    "electrica=pd.read_csv(r'..\\\\datasets\\\\electrica.csv')  "
   ]
  },
  {
   "cell_type": "code",
   "execution_count": 5,
   "metadata": {},
   "outputs": [
    {
     "name": "stdout",
     "output_type": "stream",
     "text": [
      "<class 'pandas.core.frame.DataFrame'>\n",
      "RangeIndex: 511 entries, 0 to 510\n",
      "Data columns (total 17 columns):\n",
      " #   Column                                   Non-Null Count  Dtype  \n",
      "---  ------                                   --------------  -----  \n",
      " 0   year                                     511 non-null    int64  \n",
      " 1   country                                  511 non-null    object \n",
      " 2   electricity_generation                   511 non-null    float64\n",
      " 3   biofuel_electricity                      511 non-null    float64\n",
      " 4   coal_electricity                         511 non-null    float64\n",
      " 5   fossil_electricity                       511 non-null    float64\n",
      " 6   gas_electricity                          511 non-null    float64\n",
      " 7   hydro_electricity                        511 non-null    float64\n",
      " 8   nuclear_electricity                      511 non-null    float64\n",
      " 9   oil_electricity                          511 non-null    float64\n",
      " 10  other_renewable_electricity              511 non-null    float64\n",
      " 11  other_renewable_exc_biofuel_electricity  511 non-null    float64\n",
      " 12  renewables_electricity                   511 non-null    float64\n",
      " 13  solar_electricity                        511 non-null    float64\n",
      " 14  wind_electricity                         511 non-null    float64\n",
      " 15  energy_per_gdp                           511 non-null    float64\n",
      " 16  energy_per_capita                        511 non-null    float64\n",
      "dtypes: float64(15), int64(1), object(1)\n",
      "memory usage: 68.0+ KB\n"
     ]
    }
   ],
   "source": [
    "# Se verifica el tipo de dato de cada columna\n",
    "electrica. info()"
   ]
  },
  {
   "cell_type": "code",
   "execution_count": 6,
   "metadata": {},
   "outputs": [
    {
     "data": {
      "text/plain": [
       "year                                       0\n",
       "country                                    0\n",
       "electricity_generation                     0\n",
       "biofuel_electricity                        0\n",
       "coal_electricity                           0\n",
       "fossil_electricity                         0\n",
       "gas_electricity                            0\n",
       "hydro_electricity                          0\n",
       "nuclear_electricity                        0\n",
       "oil_electricity                            0\n",
       "other_renewable_electricity                0\n",
       "other_renewable_exc_biofuel_electricity    0\n",
       "renewables_electricity                     0\n",
       "solar_electricity                          0\n",
       "wind_electricity                           0\n",
       "energy_per_gdp                             0\n",
       "energy_per_capita                          0\n",
       "dtype: int64"
      ]
     },
     "execution_count": 6,
     "metadata": {},
     "output_type": "execute_result"
    }
   ],
   "source": [
    "# Se verifica que no hayan valores nulos\n",
    "electrica.isna().sum()"
   ]
  },
  {
   "cell_type": "code",
   "execution_count": 7,
   "metadata": {},
   "outputs": [
    {
     "ename": "NameError",
     "evalue": "name 'suram2' is not defined",
     "output_type": "error",
     "traceback": [
      "\u001b[1;31m---------------------------------------------------------------------------\u001b[0m",
      "\u001b[1;31mNameError\u001b[0m                                 Traceback (most recent call last)",
      "Cell \u001b[1;32mIn[7], line 3\u001b[0m\n\u001b[0;32m      1\u001b[0m \u001b[39m# Se visualiza los valores faltantes\u001b[39;00m\n\u001b[0;32m      2\u001b[0m plt\u001b[39m.\u001b[39mfigure(figsize\u001b[39m=\u001b[39m(\u001b[39m10\u001b[39m, \u001b[39m6\u001b[39m))\n\u001b[1;32m----> 3\u001b[0m sns\u001b[39m.\u001b[39mheatmap(suram2\u001b[39m.\u001b[39misnull(), cmap\u001b[39m=\u001b[39m\u001b[39m'\u001b[39m\u001b[39mviridis\u001b[39m\u001b[39m'\u001b[39m, cbar\u001b[39m=\u001b[39m\u001b[39mFalse\u001b[39;00m)\n\u001b[0;32m      4\u001b[0m plt\u001b[39m.\u001b[39mtitle(\u001b[39m'\u001b[39m\u001b[39mValores Faltantes en el DataFrame\u001b[39m\u001b[39m'\u001b[39m)\n\u001b[0;32m      5\u001b[0m plt\u001b[39m.\u001b[39mxlabel(\u001b[39m'\u001b[39m\u001b[39mColumnas\u001b[39m\u001b[39m'\u001b[39m)\n",
      "\u001b[1;31mNameError\u001b[0m: name 'suram2' is not defined"
     ]
    },
    {
     "data": {
      "text/plain": [
       "<Figure size 1000x600 with 0 Axes>"
      ]
     },
     "metadata": {},
     "output_type": "display_data"
    }
   ],
   "source": [
    "# Se visualiza los valores faltantes\n",
    "plt.figure(figsize=(10, 6))\n",
    "sns.heatmap(suram2.isnull(), cmap='viridis', cbar=False)\n",
    "plt.title('Valores Faltantes en el DataFrame')\n",
    "plt.xlabel('Columnas')\n",
    "plt.ylabel('Nulos')\n",
    "plt.show()"
   ]
  },
  {
   "cell_type": "markdown",
   "metadata": {},
   "source": [
    "Debido a que los países latinos selecionados no poseen información sobre la producción de electricidad proveniente del carbón se eliminará la columna."
   ]
  },
  {
   "cell_type": "code",
   "execution_count": 121,
   "metadata": {},
   "outputs": [],
   "source": [
    "# Se realizan códigos para la columna country que posee variables cualitativas\n",
    "map_gender = {'Argentina': 1, 'Bolivia':2, 'Brazil':3, 'Chile':4, 'Colombia':5, 'Ecuador':6,'French Guiana':7, 'Guyana':8, 'Paraguay':9, 'Peru':10, 'Suriname':11,'Trinidad and Tobago':12, 'Uruguay':13, 'Venezuela':14}\n",
    "electrica['country'] =electrica['country'].replace(map_gender)"
   ]
  },
  {
   "cell_type": "code",
   "execution_count": 8,
   "metadata": {},
   "outputs": [
    {
     "name": "stdout",
     "output_type": "stream",
     "text": [
      "Index(['year', 'country', 'electricity_generation', 'biofuel_electricity',\n",
      "       'coal_electricity', 'fossil_electricity', 'gas_electricity',\n",
      "       'hydro_electricity', 'nuclear_electricity', 'oil_electricity',\n",
      "       'other_renewable_electricity',\n",
      "       'other_renewable_exc_biofuel_electricity', 'renewables_electricity',\n",
      "       'solar_electricity', 'wind_electricity', 'energy_per_gdp',\n",
      "       'energy_per_capita'],\n",
      "      dtype='object')\n"
     ]
    }
   ],
   "source": [
    "print(electrica.columns)"
   ]
  },
  {
   "cell_type": "code",
   "execution_count": 115,
   "metadata": {},
   "outputs": [
    {
     "data": {
      "text/html": [
       "<div>\n",
       "<style scoped>\n",
       "    .dataframe tbody tr th:only-of-type {\n",
       "        vertical-align: middle;\n",
       "    }\n",
       "\n",
       "    .dataframe tbody tr th {\n",
       "        vertical-align: top;\n",
       "    }\n",
       "\n",
       "    .dataframe thead th {\n",
       "        text-align: right;\n",
       "    }\n",
       "</style>\n",
       "<table border=\"1\" class=\"dataframe\">\n",
       "  <thead>\n",
       "    <tr style=\"text-align: right;\">\n",
       "      <th></th>\n",
       "      <th>year</th>\n",
       "      <th>country</th>\n",
       "      <th>electricity_generation</th>\n",
       "      <th>biofuel_electricity</th>\n",
       "      <th>coal_electricity</th>\n",
       "      <th>fossil_electricity</th>\n",
       "      <th>gas_electricity</th>\n",
       "      <th>hydro_electricity</th>\n",
       "      <th>nuclear_electricity</th>\n",
       "      <th>oil_electricity</th>\n",
       "      <th>other_renewable_electricity</th>\n",
       "      <th>other_renewable_exc_biofuel_electricity</th>\n",
       "      <th>renewables_electricity</th>\n",
       "      <th>solar_electricity</th>\n",
       "      <th>wind_electricity</th>\n",
       "      <th>energy_per_gdp</th>\n",
       "      <th>energy_per_capita</th>\n",
       "    </tr>\n",
       "  </thead>\n",
       "  <tbody>\n",
       "    <tr>\n",
       "      <th>count</th>\n",
       "      <td>511.000000</td>\n",
       "      <td>511.000000</td>\n",
       "      <td>511.000000</td>\n",
       "      <td>511.000000</td>\n",
       "      <td>511.000000</td>\n",
       "      <td>511.000000</td>\n",
       "      <td>511.000000</td>\n",
       "      <td>511.000000</td>\n",
       "      <td>511.000000</td>\n",
       "      <td>511.000000</td>\n",
       "      <td>511.000000</td>\n",
       "      <td>511.000000</td>\n",
       "      <td>511.000000</td>\n",
       "      <td>511.000000</td>\n",
       "      <td>511.000000</td>\n",
       "      <td>511.000000</td>\n",
       "      <td>511.000000</td>\n",
       "    </tr>\n",
       "    <tr>\n",
       "      <th>mean</th>\n",
       "      <td>2001.753425</td>\n",
       "      <td>7.471624</td>\n",
       "      <td>85.445912</td>\n",
       "      <td>5.958861</td>\n",
       "      <td>146.996239</td>\n",
       "      <td>172.160532</td>\n",
       "      <td>17.081706</td>\n",
       "      <td>41.144986</td>\n",
       "      <td>12.915965</td>\n",
       "      <td>8.082613</td>\n",
       "      <td>2.342299</td>\n",
       "      <td>0.023650</td>\n",
       "      <td>47.392714</td>\n",
       "      <td>1.033726</td>\n",
       "      <td>2.871656</td>\n",
       "      <td>1.958937</td>\n",
       "      <td>22197.360654</td>\n",
       "    </tr>\n",
       "    <tr>\n",
       "      <th>std</th>\n",
       "      <td>10.548946</td>\n",
       "      <td>4.043232</td>\n",
       "      <td>359.409041</td>\n",
       "      <td>23.361200</td>\n",
       "      <td>807.005258</td>\n",
       "      <td>877.210321</td>\n",
       "      <td>45.640541</td>\n",
       "      <td>98.068798</td>\n",
       "      <td>63.755005</td>\n",
       "      <td>27.830814</td>\n",
       "      <td>9.097475</td>\n",
       "      <td>0.108272</td>\n",
       "      <td>130.671052</td>\n",
       "      <td>11.771834</td>\n",
       "      <td>22.170455</td>\n",
       "      <td>1.836780</td>\n",
       "      <td>28404.635354</td>\n",
       "    </tr>\n",
       "    <tr>\n",
       "      <th>min</th>\n",
       "      <td>1984.000000</td>\n",
       "      <td>1.000000</td>\n",
       "      <td>0.044000</td>\n",
       "      <td>0.000000</td>\n",
       "      <td>0.000000</td>\n",
       "      <td>0.000000</td>\n",
       "      <td>0.000000</td>\n",
       "      <td>0.000000</td>\n",
       "      <td>0.000000</td>\n",
       "      <td>0.000000</td>\n",
       "      <td>0.000000</td>\n",
       "      <td>0.000000</td>\n",
       "      <td>0.000000</td>\n",
       "      <td>0.000000</td>\n",
       "      <td>0.000000</td>\n",
       "      <td>0.524000</td>\n",
       "      <td>2484.454000</td>\n",
       "    </tr>\n",
       "    <tr>\n",
       "      <th>25%</th>\n",
       "      <td>1993.000000</td>\n",
       "      <td>4.000000</td>\n",
       "      <td>4.335000</td>\n",
       "      <td>0.000000</td>\n",
       "      <td>0.000000</td>\n",
       "      <td>0.247500</td>\n",
       "      <td>0.000000</td>\n",
       "      <td>0.800000</td>\n",
       "      <td>0.000000</td>\n",
       "      <td>0.042000</td>\n",
       "      <td>0.000000</td>\n",
       "      <td>0.000000</td>\n",
       "      <td>0.843000</td>\n",
       "      <td>0.000000</td>\n",
       "      <td>0.000000</td>\n",
       "      <td>1.043000</td>\n",
       "      <td>8817.709000</td>\n",
       "    </tr>\n",
       "    <tr>\n",
       "      <th>50%</th>\n",
       "      <td>2002.000000</td>\n",
       "      <td>7.000000</td>\n",
       "      <td>16.929000</td>\n",
       "      <td>0.041000</td>\n",
       "      <td>0.000000</td>\n",
       "      <td>5.281000</td>\n",
       "      <td>1.922000</td>\n",
       "      <td>10.543000</td>\n",
       "      <td>0.000000</td>\n",
       "      <td>0.701000</td>\n",
       "      <td>0.102000</td>\n",
       "      <td>0.000000</td>\n",
       "      <td>11.838000</td>\n",
       "      <td>0.000000</td>\n",
       "      <td>0.000000</td>\n",
       "      <td>1.240000</td>\n",
       "      <td>16044.719000</td>\n",
       "    </tr>\n",
       "    <tr>\n",
       "      <th>75%</th>\n",
       "      <td>2011.000000</td>\n",
       "      <td>11.000000</td>\n",
       "      <td>62.564000</td>\n",
       "      <td>0.886000</td>\n",
       "      <td>2.644500</td>\n",
       "      <td>22.465000</td>\n",
       "      <td>11.641500</td>\n",
       "      <td>33.952000</td>\n",
       "      <td>0.000000</td>\n",
       "      <td>4.977000</td>\n",
       "      <td>0.901000</td>\n",
       "      <td>0.000000</td>\n",
       "      <td>36.049000</td>\n",
       "      <td>0.007000</td>\n",
       "      <td>0.020000</td>\n",
       "      <td>1.759500</td>\n",
       "      <td>23163.111000</td>\n",
       "    </tr>\n",
       "    <tr>\n",
       "      <th>max</th>\n",
       "      <td>2020.000000</td>\n",
       "      <td>14.000000</td>\n",
       "      <td>7623.696000</td>\n",
       "      <td>129.640000</td>\n",
       "      <td>4631.215000</td>\n",
       "      <td>5044.957000</td>\n",
       "      <td>253.425000</td>\n",
       "      <td>1355.200000</td>\n",
       "      <td>366.200000</td>\n",
       "      <td>160.317000</td>\n",
       "      <td>129.740000</td>\n",
       "      <td>0.610000</td>\n",
       "      <td>2212.540000</td>\n",
       "      <td>261.100000</td>\n",
       "      <td>466.500000</td>\n",
       "      <td>10.055000</td>\n",
       "      <td>176106.743000</td>\n",
       "    </tr>\n",
       "  </tbody>\n",
       "</table>\n",
       "</div>"
      ],
      "text/plain": [
       "              year     country  electricity_generation  biofuel_electricity  \\\n",
       "count   511.000000  511.000000              511.000000           511.000000   \n",
       "mean   2001.753425    7.471624               85.445912             5.958861   \n",
       "std      10.548946    4.043232              359.409041            23.361200   \n",
       "min    1984.000000    1.000000                0.044000             0.000000   \n",
       "25%    1993.000000    4.000000                4.335000             0.000000   \n",
       "50%    2002.000000    7.000000               16.929000             0.041000   \n",
       "75%    2011.000000   11.000000               62.564000             0.886000   \n",
       "max    2020.000000   14.000000             7623.696000           129.640000   \n",
       "\n",
       "       coal_electricity  fossil_electricity  gas_electricity  \\\n",
       "count        511.000000          511.000000       511.000000   \n",
       "mean         146.996239          172.160532        17.081706   \n",
       "std          807.005258          877.210321        45.640541   \n",
       "min            0.000000            0.000000         0.000000   \n",
       "25%            0.000000            0.247500         0.000000   \n",
       "50%            0.000000            5.281000         1.922000   \n",
       "75%            2.644500           22.465000        11.641500   \n",
       "max         4631.215000         5044.957000       253.425000   \n",
       "\n",
       "       hydro_electricity  nuclear_electricity  oil_electricity  \\\n",
       "count         511.000000           511.000000       511.000000   \n",
       "mean           41.144986            12.915965         8.082613   \n",
       "std            98.068798            63.755005        27.830814   \n",
       "min             0.000000             0.000000         0.000000   \n",
       "25%             0.800000             0.000000         0.042000   \n",
       "50%            10.543000             0.000000         0.701000   \n",
       "75%            33.952000             0.000000         4.977000   \n",
       "max          1355.200000           366.200000       160.317000   \n",
       "\n",
       "       other_renewable_electricity  other_renewable_exc_biofuel_electricity  \\\n",
       "count                   511.000000                               511.000000   \n",
       "mean                      2.342299                                 0.023650   \n",
       "std                       9.097475                                 0.108272   \n",
       "min                       0.000000                                 0.000000   \n",
       "25%                       0.000000                                 0.000000   \n",
       "50%                       0.102000                                 0.000000   \n",
       "75%                       0.901000                                 0.000000   \n",
       "max                     129.740000                                 0.610000   \n",
       "\n",
       "       renewables_electricity  solar_electricity  wind_electricity  \\\n",
       "count              511.000000         511.000000        511.000000   \n",
       "mean                47.392714           1.033726          2.871656   \n",
       "std                130.671052          11.771834         22.170455   \n",
       "min                  0.000000           0.000000          0.000000   \n",
       "25%                  0.843000           0.000000          0.000000   \n",
       "50%                 11.838000           0.000000          0.000000   \n",
       "75%                 36.049000           0.007000          0.020000   \n",
       "max               2212.540000         261.100000        466.500000   \n",
       "\n",
       "       energy_per_gdp  energy_per_capita  \n",
       "count      511.000000         511.000000  \n",
       "mean         1.958937       22197.360654  \n",
       "std          1.836780       28404.635354  \n",
       "min          0.524000        2484.454000  \n",
       "25%          1.043000        8817.709000  \n",
       "50%          1.240000       16044.719000  \n",
       "75%          1.759500       23163.111000  \n",
       "max         10.055000      176106.743000  "
      ]
     },
     "execution_count": 115,
     "metadata": {},
     "output_type": "execute_result"
    }
   ],
   "source": [
    "# Se observan los datos numericos, para proceder a normalizarloss\n",
    "electrica.describe()"
   ]
  },
  {
   "cell_type": "code",
   "execution_count": null,
   "metadata": {},
   "outputs": [],
   "source": [
    "#Calcular el rango intercuartílico (IQR)\n",
    "Q1 = suram1['hydro_share_elec'].quantile(0.25)\n",
    "Q3 = suram1['hydro_share_elec'].quantile(0.75)\n",
    "IQR = Q3 - Q1\n",
    "\n",
    "# Definir los límites para identificar outliers\n",
    "lower_bound = Q1 - 1.5 * IQR\n",
    "upper_bound = Q3 + 1.5 * IQR\n",
    "\n",
    "# Filtrar los outliers\n",
    "outliers = (suram1['hydro_share_elec'] < lower_bound) | (suram1['hydro_share_elec'] > upper_bound)\n",
    "x = suram1[~outliers]"
   ]
  },
  {
   "cell_type": "code",
   "execution_count": 116,
   "metadata": {},
   "outputs": [
    {
     "name": "stdout",
     "output_type": "stream",
     "text": [
      "Valores máximos por columna:\n",
      "year                                         2020.000\n",
      "country                                        14.000\n",
      "electricity_generation                       7623.696\n",
      "biofuel_electricity                           129.640\n",
      "coal_electricity                             4631.215\n",
      "fossil_electricity                           5044.957\n",
      "gas_electricity                               253.425\n",
      "hydro_electricity                            1355.200\n",
      "nuclear_electricity                           366.200\n",
      "oil_electricity                               160.317\n",
      "other_renewable_electricity                   129.740\n",
      "other_renewable_exc_biofuel_electricity         0.610\n",
      "renewables_electricity                       2212.540\n",
      "solar_electricity                             261.100\n",
      "wind_electricity                              466.500\n",
      "energy_per_gdp                                 10.055\n",
      "energy_per_capita                          176106.743\n",
      "dtype: float64\n"
     ]
    }
   ],
   "source": [
    "maximos_por_columna = electrica.max()\n",
    "# Mostrar los resultados\n",
    "print(\"Valores máximos por columna:\")\n",
    "print(maximos_por_columna)"
   ]
  },
  {
   "cell_type": "code",
   "execution_count": 117,
   "metadata": {},
   "outputs": [
    {
     "data": {
      "text/html": [
       "<div>\n",
       "<style scoped>\n",
       "    .dataframe tbody tr th:only-of-type {\n",
       "        vertical-align: middle;\n",
       "    }\n",
       "\n",
       "    .dataframe tbody tr th {\n",
       "        vertical-align: top;\n",
       "    }\n",
       "\n",
       "    .dataframe thead th {\n",
       "        text-align: right;\n",
       "    }\n",
       "</style>\n",
       "<table border=\"1\" class=\"dataframe\">\n",
       "  <thead>\n",
       "    <tr style=\"text-align: right;\">\n",
       "      <th></th>\n",
       "      <th>year</th>\n",
       "      <th>coal_prod_change_pct</th>\n",
       "      <th>coal_prod_change_twh</th>\n",
       "      <th>gas_prod_change_pct</th>\n",
       "      <th>gas_prod_change_twh</th>\n",
       "      <th>oil_prod_change_pct</th>\n",
       "      <th>oil_prod_change_twh</th>\n",
       "      <th>energy_cons_change_pct</th>\n",
       "      <th>energy_cons_change_twh</th>\n",
       "      <th>biofuel_share_elec</th>\n",
       "      <th>...</th>\n",
       "      <th>solar_elec_per_capita</th>\n",
       "      <th>solar_energy_per_capita</th>\n",
       "      <th>gdp</th>\n",
       "      <th>wind_share_elec</th>\n",
       "      <th>wind_cons_change_pct</th>\n",
       "      <th>wind_share_energy</th>\n",
       "      <th>wind_cons_change_twh</th>\n",
       "      <th>wind_consumption</th>\n",
       "      <th>wind_elec_per_capita</th>\n",
       "      <th>wind_energy_per_capita</th>\n",
       "    </tr>\n",
       "  </thead>\n",
       "  <tbody>\n",
       "    <tr>\n",
       "      <th>0</th>\n",
       "      <td>0.000000</td>\n",
       "      <td>0.035714</td>\n",
       "      <td>0.052696</td>\n",
       "      <td>0.018472</td>\n",
       "      <td>0.075936</td>\n",
       "      <td>0.047676</td>\n",
       "      <td>0.262611</td>\n",
       "      <td>0.257279</td>\n",
       "      <td>0.063385</td>\n",
       "      <td>0.0</td>\n",
       "      <td>...</td>\n",
       "      <td>0.395941</td>\n",
       "      <td>0.037781</td>\n",
       "      <td>0.006873</td>\n",
       "      <td>0.000000</td>\n",
       "      <td>0.004671</td>\n",
       "      <td>0.000194</td>\n",
       "      <td>0.001538</td>\n",
       "      <td>0.000025</td>\n",
       "      <td>0.000000</td>\n",
       "      <td>0.000083</td>\n",
       "    </tr>\n",
       "    <tr>\n",
       "      <th>1</th>\n",
       "      <td>0.008333</td>\n",
       "      <td>0.035714</td>\n",
       "      <td>0.052696</td>\n",
       "      <td>0.018472</td>\n",
       "      <td>0.075936</td>\n",
       "      <td>0.047676</td>\n",
       "      <td>0.308829</td>\n",
       "      <td>0.257279</td>\n",
       "      <td>0.063385</td>\n",
       "      <td>0.0</td>\n",
       "      <td>...</td>\n",
       "      <td>0.395941</td>\n",
       "      <td>0.037781</td>\n",
       "      <td>0.007166</td>\n",
       "      <td>0.000000</td>\n",
       "      <td>0.004671</td>\n",
       "      <td>0.000194</td>\n",
       "      <td>0.001538</td>\n",
       "      <td>0.000025</td>\n",
       "      <td>0.000000</td>\n",
       "      <td>0.000083</td>\n",
       "    </tr>\n",
       "    <tr>\n",
       "      <th>2</th>\n",
       "      <td>0.016667</td>\n",
       "      <td>0.035714</td>\n",
       "      <td>0.052696</td>\n",
       "      <td>0.018472</td>\n",
       "      <td>0.075936</td>\n",
       "      <td>0.047676</td>\n",
       "      <td>0.308829</td>\n",
       "      <td>0.257279</td>\n",
       "      <td>0.063385</td>\n",
       "      <td>0.0</td>\n",
       "      <td>...</td>\n",
       "      <td>0.395941</td>\n",
       "      <td>0.037781</td>\n",
       "      <td>0.007009</td>\n",
       "      <td>0.000000</td>\n",
       "      <td>0.004671</td>\n",
       "      <td>0.000194</td>\n",
       "      <td>0.001538</td>\n",
       "      <td>0.000025</td>\n",
       "      <td>0.000000</td>\n",
       "      <td>0.000083</td>\n",
       "    </tr>\n",
       "    <tr>\n",
       "      <th>3</th>\n",
       "      <td>0.025000</td>\n",
       "      <td>0.035714</td>\n",
       "      <td>0.052696</td>\n",
       "      <td>0.018472</td>\n",
       "      <td>0.075936</td>\n",
       "      <td>0.047676</td>\n",
       "      <td>0.308829</td>\n",
       "      <td>0.257279</td>\n",
       "      <td>0.063385</td>\n",
       "      <td>0.0</td>\n",
       "      <td>...</td>\n",
       "      <td>0.395941</td>\n",
       "      <td>0.037781</td>\n",
       "      <td>0.008075</td>\n",
       "      <td>0.000000</td>\n",
       "      <td>0.004671</td>\n",
       "      <td>0.000194</td>\n",
       "      <td>0.001538</td>\n",
       "      <td>0.000025</td>\n",
       "      <td>0.000000</td>\n",
       "      <td>0.000083</td>\n",
       "    </tr>\n",
       "    <tr>\n",
       "      <th>4</th>\n",
       "      <td>0.033333</td>\n",
       "      <td>0.035714</td>\n",
       "      <td>0.052696</td>\n",
       "      <td>0.018472</td>\n",
       "      <td>0.075936</td>\n",
       "      <td>0.047676</td>\n",
       "      <td>0.308829</td>\n",
       "      <td>0.257279</td>\n",
       "      <td>0.063385</td>\n",
       "      <td>0.0</td>\n",
       "      <td>...</td>\n",
       "      <td>0.395941</td>\n",
       "      <td>0.037781</td>\n",
       "      <td>0.008982</td>\n",
       "      <td>0.000000</td>\n",
       "      <td>0.004671</td>\n",
       "      <td>0.000194</td>\n",
       "      <td>0.001538</td>\n",
       "      <td>0.000025</td>\n",
       "      <td>0.000000</td>\n",
       "      <td>0.000083</td>\n",
       "    </tr>\n",
       "    <tr>\n",
       "      <th>...</th>\n",
       "      <td>...</td>\n",
       "      <td>...</td>\n",
       "      <td>...</td>\n",
       "      <td>...</td>\n",
       "      <td>...</td>\n",
       "      <td>...</td>\n",
       "      <td>...</td>\n",
       "      <td>...</td>\n",
       "      <td>...</td>\n",
       "      <td>...</td>\n",
       "      <td>...</td>\n",
       "      <td>...</td>\n",
       "      <td>...</td>\n",
       "      <td>...</td>\n",
       "      <td>...</td>\n",
       "      <td>...</td>\n",
       "      <td>...</td>\n",
       "      <td>...</td>\n",
       "      <td>...</td>\n",
       "      <td>...</td>\n",
       "      <td>...</td>\n",
       "    </tr>\n",
       "    <tr>\n",
       "      <th>1297</th>\n",
       "      <td>0.958333</td>\n",
       "      <td>0.035761</td>\n",
       "      <td>0.052706</td>\n",
       "      <td>0.022805</td>\n",
       "      <td>0.122422</td>\n",
       "      <td>0.049981</td>\n",
       "      <td>0.279870</td>\n",
       "      <td>0.232584</td>\n",
       "      <td>0.044385</td>\n",
       "      <td>0.0</td>\n",
       "      <td>...</td>\n",
       "      <td>0.000597</td>\n",
       "      <td>0.000789</td>\n",
       "      <td>0.151549</td>\n",
       "      <td>0.001488</td>\n",
       "      <td>0.005141</td>\n",
       "      <td>0.000000</td>\n",
       "      <td>0.001569</td>\n",
       "      <td>0.000003</td>\n",
       "      <td>0.001508</td>\n",
       "      <td>0.000015</td>\n",
       "    </tr>\n",
       "    <tr>\n",
       "      <th>1298</th>\n",
       "      <td>0.966667</td>\n",
       "      <td>0.018128</td>\n",
       "      <td>0.049167</td>\n",
       "      <td>0.020755</td>\n",
       "      <td>0.088694</td>\n",
       "      <td>0.045728</td>\n",
       "      <td>0.176920</td>\n",
       "      <td>0.198851</td>\n",
       "      <td>0.015161</td>\n",
       "      <td>0.0</td>\n",
       "      <td>...</td>\n",
       "      <td>0.000599</td>\n",
       "      <td>0.000903</td>\n",
       "      <td>0.124180</td>\n",
       "      <td>0.001687</td>\n",
       "      <td>0.000000</td>\n",
       "      <td>0.000000</td>\n",
       "      <td>0.001506</td>\n",
       "      <td>0.000000</td>\n",
       "      <td>0.001520</td>\n",
       "      <td>0.000000</td>\n",
       "    </tr>\n",
       "    <tr>\n",
       "      <th>1299</th>\n",
       "      <td>0.975000</td>\n",
       "      <td>0.034831</td>\n",
       "      <td>0.052607</td>\n",
       "      <td>0.020838</td>\n",
       "      <td>0.090792</td>\n",
       "      <td>0.045459</td>\n",
       "      <td>0.185039</td>\n",
       "      <td>0.226882</td>\n",
       "      <td>0.042169</td>\n",
       "      <td>0.0</td>\n",
       "      <td>...</td>\n",
       "      <td>0.000609</td>\n",
       "      <td>0.000909</td>\n",
       "      <td>0.124180</td>\n",
       "      <td>0.001761</td>\n",
       "      <td>0.000000</td>\n",
       "      <td>0.000000</td>\n",
       "      <td>0.001538</td>\n",
       "      <td>0.000000</td>\n",
       "      <td>0.001544</td>\n",
       "      <td>0.000000</td>\n",
       "    </tr>\n",
       "    <tr>\n",
       "      <th>1300</th>\n",
       "      <td>0.983333</td>\n",
       "      <td>0.018222</td>\n",
       "      <td>0.050959</td>\n",
       "      <td>0.016463</td>\n",
       "      <td>0.000000</td>\n",
       "      <td>0.035951</td>\n",
       "      <td>0.014695</td>\n",
       "      <td>0.170744</td>\n",
       "      <td>0.000000</td>\n",
       "      <td>0.0</td>\n",
       "      <td>...</td>\n",
       "      <td>0.000533</td>\n",
       "      <td>0.000817</td>\n",
       "      <td>0.124180</td>\n",
       "      <td>0.001811</td>\n",
       "      <td>0.000000</td>\n",
       "      <td>0.000000</td>\n",
       "      <td>0.001538</td>\n",
       "      <td>0.000000</td>\n",
       "      <td>0.001571</td>\n",
       "      <td>0.000000</td>\n",
       "    </tr>\n",
       "    <tr>\n",
       "      <th>1301</th>\n",
       "      <td>0.991667</td>\n",
       "      <td>0.053251</td>\n",
       "      <td>0.053585</td>\n",
       "      <td>0.016818</td>\n",
       "      <td>0.019815</td>\n",
       "      <td>0.031530</td>\n",
       "      <td>0.041879</td>\n",
       "      <td>0.198875</td>\n",
       "      <td>0.027472</td>\n",
       "      <td>0.0</td>\n",
       "      <td>...</td>\n",
       "      <td>0.000538</td>\n",
       "      <td>0.001097</td>\n",
       "      <td>0.124180</td>\n",
       "      <td>0.001984</td>\n",
       "      <td>0.000000</td>\n",
       "      <td>0.002856</td>\n",
       "      <td>0.005366</td>\n",
       "      <td>0.000364</td>\n",
       "      <td>0.001591</td>\n",
       "      <td>0.001853</td>\n",
       "    </tr>\n",
       "  </tbody>\n",
       "</table>\n",
       "<p>1302 rows × 119 columns</p>\n",
       "</div>"
      ],
      "text/plain": [
       "          year  coal_prod_change_pct  coal_prod_change_twh  \\\n",
       "0     0.000000              0.035714              0.052696   \n",
       "1     0.008333              0.035714              0.052696   \n",
       "2     0.016667              0.035714              0.052696   \n",
       "3     0.025000              0.035714              0.052696   \n",
       "4     0.033333              0.035714              0.052696   \n",
       "...        ...                   ...                   ...   \n",
       "1297  0.958333              0.035761              0.052706   \n",
       "1298  0.966667              0.018128              0.049167   \n",
       "1299  0.975000              0.034831              0.052607   \n",
       "1300  0.983333              0.018222              0.050959   \n",
       "1301  0.991667              0.053251              0.053585   \n",
       "\n",
       "      gas_prod_change_pct  gas_prod_change_twh  oil_prod_change_pct  \\\n",
       "0                0.018472             0.075936             0.047676   \n",
       "1                0.018472             0.075936             0.047676   \n",
       "2                0.018472             0.075936             0.047676   \n",
       "3                0.018472             0.075936             0.047676   \n",
       "4                0.018472             0.075936             0.047676   \n",
       "...                   ...                  ...                  ...   \n",
       "1297             0.022805             0.122422             0.049981   \n",
       "1298             0.020755             0.088694             0.045728   \n",
       "1299             0.020838             0.090792             0.045459   \n",
       "1300             0.016463             0.000000             0.035951   \n",
       "1301             0.016818             0.019815             0.031530   \n",
       "\n",
       "      oil_prod_change_twh  energy_cons_change_pct  energy_cons_change_twh  \\\n",
       "0                0.262611                0.257279                0.063385   \n",
       "1                0.308829                0.257279                0.063385   \n",
       "2                0.308829                0.257279                0.063385   \n",
       "3                0.308829                0.257279                0.063385   \n",
       "4                0.308829                0.257279                0.063385   \n",
       "...                   ...                     ...                     ...   \n",
       "1297             0.279870                0.232584                0.044385   \n",
       "1298             0.176920                0.198851                0.015161   \n",
       "1299             0.185039                0.226882                0.042169   \n",
       "1300             0.014695                0.170744                0.000000   \n",
       "1301             0.041879                0.198875                0.027472   \n",
       "\n",
       "      biofuel_share_elec  ...  solar_elec_per_capita  solar_energy_per_capita  \\\n",
       "0                    0.0  ...               0.395941                 0.037781   \n",
       "1                    0.0  ...               0.395941                 0.037781   \n",
       "2                    0.0  ...               0.395941                 0.037781   \n",
       "3                    0.0  ...               0.395941                 0.037781   \n",
       "4                    0.0  ...               0.395941                 0.037781   \n",
       "...                  ...  ...                    ...                      ...   \n",
       "1297                 0.0  ...               0.000597                 0.000789   \n",
       "1298                 0.0  ...               0.000599                 0.000903   \n",
       "1299                 0.0  ...               0.000609                 0.000909   \n",
       "1300                 0.0  ...               0.000533                 0.000817   \n",
       "1301                 0.0  ...               0.000538                 0.001097   \n",
       "\n",
       "           gdp  wind_share_elec  wind_cons_change_pct  wind_share_energy  \\\n",
       "0     0.006873         0.000000              0.004671           0.000194   \n",
       "1     0.007166         0.000000              0.004671           0.000194   \n",
       "2     0.007009         0.000000              0.004671           0.000194   \n",
       "3     0.008075         0.000000              0.004671           0.000194   \n",
       "4     0.008982         0.000000              0.004671           0.000194   \n",
       "...        ...              ...                   ...                ...   \n",
       "1297  0.151549         0.001488              0.005141           0.000000   \n",
       "1298  0.124180         0.001687              0.000000           0.000000   \n",
       "1299  0.124180         0.001761              0.000000           0.000000   \n",
       "1300  0.124180         0.001811              0.000000           0.000000   \n",
       "1301  0.124180         0.001984              0.000000           0.002856   \n",
       "\n",
       "      wind_cons_change_twh  wind_consumption  wind_elec_per_capita  \\\n",
       "0                 0.001538          0.000025              0.000000   \n",
       "1                 0.001538          0.000025              0.000000   \n",
       "2                 0.001538          0.000025              0.000000   \n",
       "3                 0.001538          0.000025              0.000000   \n",
       "4                 0.001538          0.000025              0.000000   \n",
       "...                    ...               ...                   ...   \n",
       "1297              0.001569          0.000003              0.001508   \n",
       "1298              0.001506          0.000000              0.001520   \n",
       "1299              0.001538          0.000000              0.001544   \n",
       "1300              0.001538          0.000000              0.001571   \n",
       "1301              0.005366          0.000364              0.001591   \n",
       "\n",
       "      wind_energy_per_capita  \n",
       "0                   0.000083  \n",
       "1                   0.000083  \n",
       "2                   0.000083  \n",
       "3                   0.000083  \n",
       "4                   0.000083  \n",
       "...                      ...  \n",
       "1297                0.000015  \n",
       "1298                0.000000  \n",
       "1299                0.000000  \n",
       "1300                0.000000  \n",
       "1301                0.001853  \n",
       "\n",
       "[1302 rows x 119 columns]"
      ]
     },
     "execution_count": 117,
     "metadata": {},
     "output_type": "execute_result"
    }
   ],
   "source": [
    "#Se escalan los datos\n",
    "p1_scal = (suram2-suram2.min())/(suram2.max()-suram2.min())\n",
    "p1_scal"
   ]
  },
  {
   "cell_type": "code",
   "execution_count": 139,
   "metadata": {},
   "outputs": [
    {
     "data": {
      "text/html": [
       "<div>\n",
       "<style scoped>\n",
       "    .dataframe tbody tr th:only-of-type {\n",
       "        vertical-align: middle;\n",
       "    }\n",
       "\n",
       "    .dataframe tbody tr th {\n",
       "        vertical-align: top;\n",
       "    }\n",
       "\n",
       "    .dataframe thead th {\n",
       "        text-align: right;\n",
       "    }\n",
       "</style>\n",
       "<table border=\"1\" class=\"dataframe\">\n",
       "  <thead>\n",
       "    <tr style=\"text-align: right;\">\n",
       "      <th></th>\n",
       "      <th>0</th>\n",
       "      <th>1</th>\n",
       "    </tr>\n",
       "  </thead>\n",
       "  <tbody>\n",
       "    <tr>\n",
       "      <th>0</th>\n",
       "      <td>0.46352</td>\n",
       "      <td>0.182882</td>\n",
       "    </tr>\n",
       "    <tr>\n",
       "      <th>1</th>\n",
       "      <td>0.46352</td>\n",
       "      <td>0.182882</td>\n",
       "    </tr>\n",
       "    <tr>\n",
       "      <th>2</th>\n",
       "      <td>0.46352</td>\n",
       "      <td>0.182882</td>\n",
       "    </tr>\n",
       "    <tr>\n",
       "      <th>3</th>\n",
       "      <td>0.46352</td>\n",
       "      <td>0.182882</td>\n",
       "    </tr>\n",
       "    <tr>\n",
       "      <th>4</th>\n",
       "      <td>0.46352</td>\n",
       "      <td>0.182882</td>\n",
       "    </tr>\n",
       "  </tbody>\n",
       "</table>\n",
       "</div>"
      ],
      "text/plain": [
       "         0         1\n",
       "0  0.46352  0.182882\n",
       "1  0.46352  0.182882\n",
       "2  0.46352  0.182882\n",
       "3  0.46352  0.182882\n",
       "4  0.46352  0.182882"
      ]
     },
     "execution_count": 139,
     "metadata": {},
     "output_type": "execute_result"
    }
   ],
   "source": [
    "# Se seleccionan las variables a analizar\n",
    "x=p1_scal[['solar_share_elec', 'energy_per_capita']].values\n",
    "pd.DataFrame(x).head(5)"
   ]
  },
  {
   "cell_type": "code",
   "execution_count": 140,
   "metadata": {},
   "outputs": [
    {
     "data": {
      "image/png": "[encoded data removed]",
      "text/plain": [
       "<Figure size 640x480 with 1 Axes>"
      ]
     },
     "metadata": {},
     "output_type": "display_data"
    }
   ],
   "source": [
    "sns.scatterplot(x = x[:,0], y = x[:,1], color='#45B39D')\n",
    "sns.despine()\n",
    "plt.show()"
   ]
  },
  {
   "cell_type": "markdown",
   "metadata": {},
   "source": [
    "## Método del codo:\n",
    "Se realiza el método del codo para conocer los posibles clusters en que se clasificará el modelo. Dependiendo delos valores que arroje se realizarán las pruebas pertinentes.\n",
    "\n"
   ]
  },
  {
   "cell_type": "code",
   "execution_count": 141,
   "metadata": {},
   "outputs": [
    {
     "data": {
      "image/png": "[encoded data removed]",
      "text/plain": [
       "<Figure size 640x480 with 1 Axes>"
      ]
     },
     "metadata": {},
     "output_type": "display_data"
    }
   ],
   "source": [
    "#Se realiza el método del codo para determinar la cantidad de clusters\n",
    "wcss = []\n",
    "for i in range(1, 11):\n",
    "    km = KMeans(n_clusters=i, init='k-means++', max_iter=300, n_init=10, random_state=0)\n",
    "    km.fit(x)\n",
    "    wcss.append(km.inertia_)\n",
    "plt.plot(range(1, 11), wcss, marker='o',c=\"#7FFFD4\")\n",
    "plt.gca().spines[\"top\"].set_visible(False)\n",
    "plt.gca().spines[\"right\"].set_visible(False)\n",
    "plt.title('Metodo Elbow', size=14)\n",
    "plt.xlabel('Numero de Clusters', size=12)\n",
    "plt.ylabel('wcss', size=14)\n",
    "plt.show()"
   ]
  },
  {
   "cell_type": "markdown",
   "metadata": {},
   "source": [
    "Se observa que el grafico arroja un numero de clusters que esta entre 2, 3 y 4 que son los puntos en donde se aprecia que comienza a disminuir bruscamente (punto de quiebre) la variación. A contnuación se verificarán los tres tipos de números de clusters para determinar cual tiene mejor desempeño."
   ]
  },
  {
   "cell_type": "markdown",
   "metadata": {},
   "source": [
    "## Cantidad de clusters: 4"
   ]
  },
  {
   "cell_type": "code",
   "execution_count": 142,
   "metadata": {},
   "outputs": [
    {
     "data": {
      "text/html": [
       "<style>#sk-container-id-12 {color: black;background-color: white;}#sk-container-id-12 pre{padding: 0;}#sk-container-id-12 div.sk-toggleable {background-color: white;}#sk-container-id-12 label.sk-toggleable__label {cursor: pointer;display: block;width: 100%;margin-bottom: 0;padding: 0.3em;box-sizing: border-box;text-align: center;}#sk-container-id-12 label.sk-toggleable__label-arrow:before {content: \"▸\";float: left;margin-right: 0.25em;color: #696969;}#sk-container-id-12 label.sk-toggleable__label-arrow:hover:before {color: black;}#sk-container-id-12 div.sk-estimator:hover label.sk-toggleable__label-arrow:before {color: black;}#sk-container-id-12 div.sk-toggleable__content {max-height: 0;max-width: 0;overflow: hidden;text-align: left;background-color: #f0f8ff;}#sk-container-id-12 div.sk-toggleable__content pre {margin: 0.2em;color: black;border-radius: 0.25em;background-color: #f0f8ff;}#sk-container-id-12 input.sk-toggleable__control:checked~div.sk-toggleable__content {max-height: 200px;max-width: 100%;overflow: auto;}#sk-container-id-12 input.sk-toggleable__control:checked~label.sk-toggleable__label-arrow:before {content: \"▾\";}#sk-container-id-12 div.sk-estimator input.sk-toggleable__control:checked~label.sk-toggleable__label {background-color: #d4ebff;}#sk-container-id-12 div.sk-label input.sk-toggleable__control:checked~label.sk-toggleable__label {background-color: #d4ebff;}#sk-container-id-12 input.sk-hidden--visually {border: 0;clip: rect(1px 1px 1px 1px);clip: rect(1px, 1px, 1px, 1px);height: 1px;margin: -1px;overflow: hidden;padding: 0;position: absolute;width: 1px;}#sk-container-id-12 div.sk-estimator {font-family: monospace;background-color: #f0f8ff;border: 1px dotted black;border-radius: 0.25em;box-sizing: border-box;margin-bottom: 0.5em;}#sk-container-id-12 div.sk-estimator:hover {background-color: #d4ebff;}#sk-container-id-12 div.sk-parallel-item::after {content: \"\";width: 100%;border-bottom: 1px solid gray;flex-grow: 1;}#sk-container-id-12 div.sk-label:hover label.sk-toggleable__label {background-color: #d4ebff;}#sk-container-id-12 div.sk-serial::before {content: \"\";position: absolute;border-left: 1px solid gray;box-sizing: border-box;top: 0;bottom: 0;left: 50%;z-index: 0;}#sk-container-id-12 div.sk-serial {display: flex;flex-direction: column;align-items: center;background-color: white;padding-right: 0.2em;padding-left: 0.2em;position: relative;}#sk-container-id-12 div.sk-item {position: relative;z-index: 1;}#sk-container-id-12 div.sk-parallel {display: flex;align-items: stretch;justify-content: center;background-color: white;position: relative;}#sk-container-id-12 div.sk-item::before, #sk-container-id-12 div.sk-parallel-item::before {content: \"\";position: absolute;border-left: 1px solid gray;box-sizing: border-box;top: 0;bottom: 0;left: 50%;z-index: -1;}#sk-container-id-12 div.sk-parallel-item {display: flex;flex-direction: column;z-index: 1;position: relative;background-color: white;}#sk-container-id-12 div.sk-parallel-item:first-child::after {align-self: flex-end;width: 50%;}#sk-container-id-12 div.sk-parallel-item:last-child::after {align-self: flex-start;width: 50%;}#sk-container-id-12 div.sk-parallel-item:only-child::after {width: 0;}#sk-container-id-12 div.sk-dashed-wrapped {border: 1px dashed gray;margin: 0 0.4em 0.5em 0.4em;box-sizing: border-box;padding-bottom: 0.4em;background-color: white;}#sk-container-id-12 div.sk-label label {font-family: monospace;font-weight: bold;display: inline-block;line-height: 1.2em;}#sk-container-id-12 div.sk-label-container {text-align: center;}#sk-container-id-12 div.sk-container {/* jupyter's `normalize.less` sets `[hidden] { display: none; }` but bootstrap.min.css set `[hidden] { display: none !important; }` so we also need the `!important` here to be able to override the default hidden behavior on the sphinx rendered scikit-learn.org. See: https://github.com/scikit-learn/scikit-learn/issues/21755 */display: inline-block !important;position: relative;}#sk-container-id-12 div.sk-text-repr-fallback {display: none;}</style><div id=\"sk-container-id-12\" class=\"sk-top-container\"><div class=\"sk-text-repr-fallback\"><pre>KMeans(n_clusters=4, random_state=0)</pre><b>In a Jupyter environment, please rerun this cell to show the HTML representation or trust the notebook. <br />On GitHub, the HTML representation is unable to render, please try loading this page with nbviewer.org.</b></div><div class=\"sk-container\" hidden><div class=\"sk-item\"><div class=\"sk-estimator sk-toggleable\"><input class=\"sk-toggleable__control sk-hidden--visually\" id=\"sk-estimator-id-12\" type=\"checkbox\" checked><label for=\"sk-estimator-id-12\" class=\"sk-toggleable__label sk-toggleable__label-arrow\">KMeans</label><div class=\"sk-toggleable__content\"><pre>KMeans(n_clusters=4, random_state=0)</pre></div></div></div></div></div>"
      ],
      "text/plain": [
       "KMeans(n_clusters=4, random_state=0)"
      ]
     },
     "execution_count": 142,
     "metadata": {},
     "output_type": "execute_result"
    }
   ],
   "source": [
    "# Se instancia el modelo con el numero de clusters=4\n",
    "kmeansmodel4 = KMeans(n_clusters=4, random_state=0)\n",
    "kmeansmodel4.fit(x)\n",
    "KMeans(n_clusters=4, random_state=0)"
   ]
  },
  {
   "cell_type": "code",
   "execution_count": 95,
   "metadata": {},
   "outputs": [
    {
     "data": {
      "text/plain": [
       "array([0, 1, 2, 3])"
      ]
     },
     "execution_count": 95,
     "metadata": {},
     "output_type": "execute_result"
    }
   ],
   "source": [
    "# Se realizan las etiquetas de los clusters\n",
    "etiquetas_4 = kmeansmodel4.labels_\n",
    "np.unique(etiquetas_4)"
   ]
  },
  {
   "cell_type": "code",
   "execution_count": 143,
   "metadata": {},
   "outputs": [],
   "source": [
    "# Se realiza la predicción:\n",
    "y_means4=kmeansmodel4.fit_predict(x)"
   ]
  },
  {
   "cell_type": "code",
   "execution_count": 144,
   "metadata": {},
   "outputs": [
    {
     "data": {
      "image/png": "[encoded data removed]",
      "text/plain": [
       "<Figure size 640x480 with 1 Axes>"
      ]
     },
     "metadata": {},
     "output_type": "display_data"
    }
   ],
   "source": [
    "#Se verifica la cantidad de observaciones (4 clusters)\n",
    "cluster_counts = np.bincount(y_means4)\n",
    "cluster_labels = list(range(len(cluster_counts)))\n",
    "colors = ['lightcoral', 'mediumturquoise', 'plum', 'violet']\n",
    "plt.bar(cluster_labels, cluster_counts, color=colors)\n",
    "plt.title('Cantidad de muestras por cluster')\n",
    "plt.xlabel('Grupo')\n",
    "plt.ylabel('Cantidad de Observaciones')\n",
    "plt.show()"
   ]
  },
  {
   "cell_type": "markdown",
   "metadata": {},
   "source": [
    "Se observa que la distribución de las muestras en 4 clusters no es igual en cada grupo. Se analizará posteriormente la distribución en las otras posibilidades de cantidad de clusters."
   ]
  },
  {
   "cell_type": "code",
   "execution_count": 145,
   "metadata": {},
   "outputs": [
    {
     "name": "stdout",
     "output_type": "stream",
     "text": [
      "[[0.0093203  0.0914782 ]\n",
      " [0.74813733 0.04782157]\n",
      " [0.35419859 0.10747005]\n",
      " [0.00317636 0.77850469]]\n"
     ]
    }
   ],
   "source": [
    "# Se observan las coordenandas de los centroides\n",
    "centroids4 =kmeansmodel4.cluster_centers_\n",
    "print(centroids4)"
   ]
  },
  {
   "cell_type": "markdown",
   "metadata": {},
   "source": [
    "## Cantidad de clusters: 3"
   ]
  },
  {
   "cell_type": "code",
   "execution_count": 146,
   "metadata": {},
   "outputs": [
    {
     "data": {
      "text/html": [
       "<style>#sk-container-id-13 {color: black;background-color: white;}#sk-container-id-13 pre{padding: 0;}#sk-container-id-13 div.sk-toggleable {background-color: white;}#sk-container-id-13 label.sk-toggleable__label {cursor: pointer;display: block;width: 100%;margin-bottom: 0;padding: 0.3em;box-sizing: border-box;text-align: center;}#sk-container-id-13 label.sk-toggleable__label-arrow:before {content: \"▸\";float: left;margin-right: 0.25em;color: #696969;}#sk-container-id-13 label.sk-toggleable__label-arrow:hover:before {color: black;}#sk-container-id-13 div.sk-estimator:hover label.sk-toggleable__label-arrow:before {color: black;}#sk-container-id-13 div.sk-toggleable__content {max-height: 0;max-width: 0;overflow: hidden;text-align: left;background-color: #f0f8ff;}#sk-container-id-13 div.sk-toggleable__content pre {margin: 0.2em;color: black;border-radius: 0.25em;background-color: #f0f8ff;}#sk-container-id-13 input.sk-toggleable__control:checked~div.sk-toggleable__content {max-height: 200px;max-width: 100%;overflow: auto;}#sk-container-id-13 input.sk-toggleable__control:checked~label.sk-toggleable__label-arrow:before {content: \"▾\";}#sk-container-id-13 div.sk-estimator input.sk-toggleable__control:checked~label.sk-toggleable__label {background-color: #d4ebff;}#sk-container-id-13 div.sk-label input.sk-toggleable__control:checked~label.sk-toggleable__label {background-color: #d4ebff;}#sk-container-id-13 input.sk-hidden--visually {border: 0;clip: rect(1px 1px 1px 1px);clip: rect(1px, 1px, 1px, 1px);height: 1px;margin: -1px;overflow: hidden;padding: 0;position: absolute;width: 1px;}#sk-container-id-13 div.sk-estimator {font-family: monospace;background-color: #f0f8ff;border: 1px dotted black;border-radius: 0.25em;box-sizing: border-box;margin-bottom: 0.5em;}#sk-container-id-13 div.sk-estimator:hover {background-color: #d4ebff;}#sk-container-id-13 div.sk-parallel-item::after {content: \"\";width: 100%;border-bottom: 1px solid gray;flex-grow: 1;}#sk-container-id-13 div.sk-label:hover label.sk-toggleable__label {background-color: #d4ebff;}#sk-container-id-13 div.sk-serial::before {content: \"\";position: absolute;border-left: 1px solid gray;box-sizing: border-box;top: 0;bottom: 0;left: 50%;z-index: 0;}#sk-container-id-13 div.sk-serial {display: flex;flex-direction: column;align-items: center;background-color: white;padding-right: 0.2em;padding-left: 0.2em;position: relative;}#sk-container-id-13 div.sk-item {position: relative;z-index: 1;}#sk-container-id-13 div.sk-parallel {display: flex;align-items: stretch;justify-content: center;background-color: white;position: relative;}#sk-container-id-13 div.sk-item::before, #sk-container-id-13 div.sk-parallel-item::before {content: \"\";position: absolute;border-left: 1px solid gray;box-sizing: border-box;top: 0;bottom: 0;left: 50%;z-index: -1;}#sk-container-id-13 div.sk-parallel-item {display: flex;flex-direction: column;z-index: 1;position: relative;background-color: white;}#sk-container-id-13 div.sk-parallel-item:first-child::after {align-self: flex-end;width: 50%;}#sk-container-id-13 div.sk-parallel-item:last-child::after {align-self: flex-start;width: 50%;}#sk-container-id-13 div.sk-parallel-item:only-child::after {width: 0;}#sk-container-id-13 div.sk-dashed-wrapped {border: 1px dashed gray;margin: 0 0.4em 0.5em 0.4em;box-sizing: border-box;padding-bottom: 0.4em;background-color: white;}#sk-container-id-13 div.sk-label label {font-family: monospace;font-weight: bold;display: inline-block;line-height: 1.2em;}#sk-container-id-13 div.sk-label-container {text-align: center;}#sk-container-id-13 div.sk-container {/* jupyter's `normalize.less` sets `[hidden] { display: none; }` but bootstrap.min.css set `[hidden] { display: none !important; }` so we also need the `!important` here to be able to override the default hidden behavior on the sphinx rendered scikit-learn.org. See: https://github.com/scikit-learn/scikit-learn/issues/21755 */display: inline-block !important;position: relative;}#sk-container-id-13 div.sk-text-repr-fallback {display: none;}</style><div id=\"sk-container-id-13\" class=\"sk-top-container\"><div class=\"sk-text-repr-fallback\"><pre>KMeans(n_clusters=3, random_state=0)</pre><b>In a Jupyter environment, please rerun this cell to show the HTML representation or trust the notebook. <br />On GitHub, the HTML representation is unable to render, please try loading this page with nbviewer.org.</b></div><div class=\"sk-container\" hidden><div class=\"sk-item\"><div class=\"sk-estimator sk-toggleable\"><input class=\"sk-toggleable__control sk-hidden--visually\" id=\"sk-estimator-id-13\" type=\"checkbox\" checked><label for=\"sk-estimator-id-13\" class=\"sk-toggleable__label sk-toggleable__label-arrow\">KMeans</label><div class=\"sk-toggleable__content\"><pre>KMeans(n_clusters=3, random_state=0)</pre></div></div></div></div></div>"
      ],
      "text/plain": [
       "KMeans(n_clusters=3, random_state=0)"
      ]
     },
     "execution_count": 146,
     "metadata": {},
     "output_type": "execute_result"
    }
   ],
   "source": [
    "# Se instancia el modelo con el numero de clusters=3\n",
    "kmeansmodel3 = KMeans(n_clusters=3, random_state=0)\n",
    "kmeansmodel3.fit(x)\n",
    "KMeans(n_clusters=3, random_state=0)"
   ]
  },
  {
   "cell_type": "code",
   "execution_count": 147,
   "metadata": {},
   "outputs": [
    {
     "data": {
      "text/plain": [
       "array([0, 1, 2])"
      ]
     },
     "execution_count": 147,
     "metadata": {},
     "output_type": "execute_result"
    }
   ],
   "source": [
    "# Se realizan las etiquetas de los clusters\n",
    "etiquetas_3 = kmeansmodel3.labels_\n",
    "np.unique(etiquetas_3)"
   ]
  },
  {
   "cell_type": "code",
   "execution_count": 148,
   "metadata": {},
   "outputs": [],
   "source": [
    "# Se realiza la predicción:\n",
    "y_means3=kmeansmodel3.fit_predict(x)"
   ]
  },
  {
   "cell_type": "code",
   "execution_count": 149,
   "metadata": {},
   "outputs": [
    {
     "data": {
      "image/png": "[encoded data removed]",
      "text/plain": [
       "<Figure size 640x480 with 1 Axes>"
      ]
     },
     "metadata": {},
     "output_type": "display_data"
    }
   ],
   "source": [
    "#Se verifica la cantidad de observaciones (3 clusters)\n",
    "cluster_counts = np.bincount(y_means3)\n",
    "cluster_labels = list(range(len(cluster_counts)))\n",
    "colors = ['lightcoral', 'mediumturquoise', 'plum']\n",
    "plt.bar(cluster_labels, cluster_counts, color=colors)\n",
    "plt.title('Cantidad de muestras por cluster')\n",
    "plt.xlabel('Grupo')\n",
    "plt.ylabel('Cantidad de Observaciones')\n",
    "plt.show()"
   ]
  },
  {
   "cell_type": "markdown",
   "metadata": {},
   "source": [
    "Se observa que la distribución de las muestras en 3 clusters no es igual en cada grupo. Se analizará posteriormente la distribución en las otras posibilidades de cantidad de clusters."
   ]
  },
  {
   "cell_type": "code",
   "execution_count": 150,
   "metadata": {},
   "outputs": [
    {
     "name": "stdout",
     "output_type": "stream",
     "text": [
      "[[0.03392381 0.08848338]\n",
      " [0.52230358 0.10470334]\n",
      " [0.00317636 0.77850469]]\n"
     ]
    }
   ],
   "source": [
    "# Se observan las coordenandas de los centroides\n",
    "centroids3 =kmeansmodel3.cluster_centers_\n",
    "print(centroids3)"
   ]
  },
  {
   "cell_type": "markdown",
   "metadata": {},
   "source": [
    "## Cantidad de clusters: 2"
   ]
  },
  {
   "cell_type": "code",
   "execution_count": 151,
   "metadata": {},
   "outputs": [
    {
     "data": {
      "text/html": [
       "<style>#sk-container-id-14 {color: black;background-color: white;}#sk-container-id-14 pre{padding: 0;}#sk-container-id-14 div.sk-toggleable {background-color: white;}#sk-container-id-14 label.sk-toggleable__label {cursor: pointer;display: block;width: 100%;margin-bottom: 0;padding: 0.3em;box-sizing: border-box;text-align: center;}#sk-container-id-14 label.sk-toggleable__label-arrow:before {content: \"▸\";float: left;margin-right: 0.25em;color: #696969;}#sk-container-id-14 label.sk-toggleable__label-arrow:hover:before {color: black;}#sk-container-id-14 div.sk-estimator:hover label.sk-toggleable__label-arrow:before {color: black;}#sk-container-id-14 div.sk-toggleable__content {max-height: 0;max-width: 0;overflow: hidden;text-align: left;background-color: #f0f8ff;}#sk-container-id-14 div.sk-toggleable__content pre {margin: 0.2em;color: black;border-radius: 0.25em;background-color: #f0f8ff;}#sk-container-id-14 input.sk-toggleable__control:checked~div.sk-toggleable__content {max-height: 200px;max-width: 100%;overflow: auto;}#sk-container-id-14 input.sk-toggleable__control:checked~label.sk-toggleable__label-arrow:before {content: \"▾\";}#sk-container-id-14 div.sk-estimator input.sk-toggleable__control:checked~label.sk-toggleable__label {background-color: #d4ebff;}#sk-container-id-14 div.sk-label input.sk-toggleable__control:checked~label.sk-toggleable__label {background-color: #d4ebff;}#sk-container-id-14 input.sk-hidden--visually {border: 0;clip: rect(1px 1px 1px 1px);clip: rect(1px, 1px, 1px, 1px);height: 1px;margin: -1px;overflow: hidden;padding: 0;position: absolute;width: 1px;}#sk-container-id-14 div.sk-estimator {font-family: monospace;background-color: #f0f8ff;border: 1px dotted black;border-radius: 0.25em;box-sizing: border-box;margin-bottom: 0.5em;}#sk-container-id-14 div.sk-estimator:hover {background-color: #d4ebff;}#sk-container-id-14 div.sk-parallel-item::after {content: \"\";width: 100%;border-bottom: 1px solid gray;flex-grow: 1;}#sk-container-id-14 div.sk-label:hover label.sk-toggleable__label {background-color: #d4ebff;}#sk-container-id-14 div.sk-serial::before {content: \"\";position: absolute;border-left: 1px solid gray;box-sizing: border-box;top: 0;bottom: 0;left: 50%;z-index: 0;}#sk-container-id-14 div.sk-serial {display: flex;flex-direction: column;align-items: center;background-color: white;padding-right: 0.2em;padding-left: 0.2em;position: relative;}#sk-container-id-14 div.sk-item {position: relative;z-index: 1;}#sk-container-id-14 div.sk-parallel {display: flex;align-items: stretch;justify-content: center;background-color: white;position: relative;}#sk-container-id-14 div.sk-item::before, #sk-container-id-14 div.sk-parallel-item::before {content: \"\";position: absolute;border-left: 1px solid gray;box-sizing: border-box;top: 0;bottom: 0;left: 50%;z-index: -1;}#sk-container-id-14 div.sk-parallel-item {display: flex;flex-direction: column;z-index: 1;position: relative;background-color: white;}#sk-container-id-14 div.sk-parallel-item:first-child::after {align-self: flex-end;width: 50%;}#sk-container-id-14 div.sk-parallel-item:last-child::after {align-self: flex-start;width: 50%;}#sk-container-id-14 div.sk-parallel-item:only-child::after {width: 0;}#sk-container-id-14 div.sk-dashed-wrapped {border: 1px dashed gray;margin: 0 0.4em 0.5em 0.4em;box-sizing: border-box;padding-bottom: 0.4em;background-color: white;}#sk-container-id-14 div.sk-label label {font-family: monospace;font-weight: bold;display: inline-block;line-height: 1.2em;}#sk-container-id-14 div.sk-label-container {text-align: center;}#sk-container-id-14 div.sk-container {/* jupyter's `normalize.less` sets `[hidden] { display: none; }` but bootstrap.min.css set `[hidden] { display: none !important; }` so we also need the `!important` here to be able to override the default hidden behavior on the sphinx rendered scikit-learn.org. See: https://github.com/scikit-learn/scikit-learn/issues/21755 */display: inline-block !important;position: relative;}#sk-container-id-14 div.sk-text-repr-fallback {display: none;}</style><div id=\"sk-container-id-14\" class=\"sk-top-container\"><div class=\"sk-text-repr-fallback\"><pre>KMeans(n_clusters=2, random_state=0)</pre><b>In a Jupyter environment, please rerun this cell to show the HTML representation or trust the notebook. <br />On GitHub, the HTML representation is unable to render, please try loading this page with nbviewer.org.</b></div><div class=\"sk-container\" hidden><div class=\"sk-item\"><div class=\"sk-estimator sk-toggleable\"><input class=\"sk-toggleable__control sk-hidden--visually\" id=\"sk-estimator-id-14\" type=\"checkbox\" checked><label for=\"sk-estimator-id-14\" class=\"sk-toggleable__label sk-toggleable__label-arrow\">KMeans</label><div class=\"sk-toggleable__content\"><pre>KMeans(n_clusters=2, random_state=0)</pre></div></div></div></div></div>"
      ],
      "text/plain": [
       "KMeans(n_clusters=2, random_state=0)"
      ]
     },
     "execution_count": 151,
     "metadata": {},
     "output_type": "execute_result"
    }
   ],
   "source": [
    "# Se instancia el modelo con el numero de clusters=2\n",
    "kmeansmodel2 = KMeans(n_clusters=2, random_state=0)\n",
    "kmeansmodel2.fit(x)\n",
    "KMeans(n_clusters=2, random_state=0)"
   ]
  },
  {
   "cell_type": "code",
   "execution_count": 152,
   "metadata": {},
   "outputs": [
    {
     "data": {
      "text/plain": [
       "array([0, 1])"
      ]
     },
     "execution_count": 152,
     "metadata": {},
     "output_type": "execute_result"
    }
   ],
   "source": [
    "# Se realizan las etiquetas de los clusters\n",
    "etiquetas_2 = kmeansmodel2.labels_\n",
    "np.unique(etiquetas_2)"
   ]
  },
  {
   "cell_type": "code",
   "execution_count": 153,
   "metadata": {},
   "outputs": [],
   "source": [
    "# Se realiza la predicción:\n",
    "y_means2=kmeansmodel2.fit_predict(x)"
   ]
  },
  {
   "cell_type": "code",
   "execution_count": 154,
   "metadata": {},
   "outputs": [
    {
     "data": {
      "image/png": "[encoded data removed]",
      "text/plain": [
       "<Figure size 640x480 with 1 Axes>"
      ]
     },
     "metadata": {},
     "output_type": "display_data"
    }
   ],
   "source": [
    "#Se verifica la cantidad de observaciones (3 clusters)\n",
    "cluster_counts = np.bincount(y_means2)\n",
    "cluster_labels = list(range(len(cluster_counts)))\n",
    "colors = ['lightcoral', 'mediumturquoise', 'plum']\n",
    "plt.bar(cluster_labels, cluster_counts, color=colors)\n",
    "plt.title('Cantidad de muestras por cluster')\n",
    "plt.xlabel('Grupo')\n",
    "plt.ylabel('Cantidad de Observaciones')\n",
    "plt.show()"
   ]
  },
  {
   "cell_type": "markdown",
   "metadata": {},
   "source": [
    "Se observa que la distribución de las muestras en 2 clusters es similar en cada grupo. "
   ]
  },
  {
   "cell_type": "code",
   "execution_count": 155,
   "metadata": {},
   "outputs": [
    {
     "name": "stdout",
     "output_type": "stream",
     "text": [
      "[[0.0334361  0.10490542]\n",
      " [0.52313587 0.1046707 ]]\n"
     ]
    }
   ],
   "source": [
    "# Se observan las coordenandas de los centroides\n",
    "centroids2 =kmeansmodel2.cluster_centers_\n",
    "print(centroids2)"
   ]
  },
  {
   "cell_type": "code",
   "execution_count": 156,
   "metadata": {},
   "outputs": [
    {
     "data": {
      "image/png": "[encoded data removed]",
      "text/plain": [
       "<Figure size 640x480 with 1 Axes>"
      ]
     },
     "metadata": {},
     "output_type": "display_data"
    }
   ],
   "source": [
    "# \n",
    "plt.scatter(x[y_means3 == 0, 0], x[y_means3 == 0, 1], s = 100, c = 'lightcoral', label = 'Cluster 1')\n",
    "plt.scatter(x[y_means3 == 1, 0], x[y_means3 == 1, 1], s = 100, c = 'mediumturquoise', label = 'Cluster 2')\n",
    "plt.scatter(x[y_means3 == 2, 0], x[y_means3 == 2, 1], s = 100, c = 'violet', label = 'Cluster 3')\n",
    "plt.scatter(kmeansmodel3.cluster_centers_[:, 0], kmeansmodel3.cluster_centers_[:, 1], s = 300, c = 'black', label = 'Centroids')\n",
    "plt.title('Clusters')\n",
    "plt.xlabel('')\n",
    "plt.ylabel('')\n",
    "plt.legend()\n",
    "plt.show()"
   ]
  },
  {
   "cell_type": "code",
   "execution_count": 157,
   "metadata": {},
   "outputs": [
    {
     "data": {
      "image/png": "[encoded data removed]",
      "text/plain": [
       "<Figure size 640x480 with 1 Axes>"
      ]
     },
     "metadata": {},
     "output_type": "display_data"
    }
   ],
   "source": [
    "# Se realiza la evaluación con silhoutte\n",
    "sil = []\n",
    "kmax = 10\n",
    "\n",
    "for k in range(2, kmax+1):\n",
    "    kmeans = KMeans(n_clusters=k).fit(x)\n",
    "    labels = kmeans.labels_\n",
    "    sil.append(silhouette_score(x, labels, metric='euclidean'))\n",
    "plt.plot(range(2,11),sil, c=\"#c51b7d\")\n",
    "plt.gca().spines[\"top\"].set_visible(False)\n",
    "plt.gca().spines[\"right\"].set_visible(False)\n",
    "plt.title('Metodo Silhouette', size=14)\n",
    "plt.xlabel('Numero de clusters', size=12)\n",
    "plt.ylabel('Puntaje de Silhouette', size=14)\n",
    "plt.show()"
   ]
  },
  {
   "cell_type": "code",
   "execution_count": null,
   "metadata": {},
   "outputs": [],
   "source": [
    "\n"
   ]
  },
  {
   "cell_type": "markdown",
   "metadata": {},
   "source": [
    "# DBSCAN"
   ]
  },
  {
   "cell_type": "code",
   "execution_count": null,
   "metadata": {},
   "outputs": [],
   "source": [
    "from sklearn.cluster import DBSCAN\n",
    "dbscan_1 = DBSCAN(eps=0.3, min_samples=10)"
   ]
  },
  {
   "cell_type": "code",
   "execution_count": null,
   "metadata": {},
   "outputs": [],
   "source": [
    "dbscan_1.fit(x)"
   ]
  },
  {
   "cell_type": "code",
   "execution_count": null,
   "metadata": {},
   "outputs": [],
   "source": [
    "# Consultamos las etiquetas\n",
    "labels_1 = dbscan_1.labels_\n",
    "# Number of clusters in labels, ignoring noise if present.\n",
    "n_clusters_1 = len(set(labels_1)) - (1 if -1 in labels_1 else 0)\n",
    "n_noise_1 = list(labels_1).count(-1)"
   ]
  },
  {
   "cell_type": "code",
   "execution_count": null,
   "metadata": {},
   "outputs": [],
   "source": [
    "def plot_DBSCAN(x,labels_1,db_1,n_clusters_1):\n",
    "    core_samples_mask_1 = np.zeros_like(db_1.labels_, dtype=bool)\n",
    "    core_samples_mask_1[db_1.core_sample_indices_] = True\n",
    "    unique_labels = set(labels_1)\n",
    "    colors = [plt.cm.Spectral(each)\n",
    "        for each in np.linspace(0, 1, len(unique_labels))]\n",
    "    for k, col in zip(unique_labels, colors):\n",
    "        if k == -1:col = [0, 0, 0, 1]\n",
    "        class_member_mask = (labels_1 == k)\n",
    "        xy = x[class_member_mask & core_samples_mask_1]\n",
    "plt.plot(xy[:, 0], xy[:, 1], 'o', markerfacecolor=tuple(col),markeredgecolor='k', markersize=14)\n",
    "xy\n",
    "\n",
    " = x[class_member_mask & ~core_samples_mask_1]\n",
    "plt.plot(xy[:, 0], xy[:, 1], 'o', markerfacecolor=tuple(col),markeredgecolor='k', markersize=6)\n",
    "plt.title('Numero estimado de clusters: %d' % n_clusters_1)\n",
    "plt.show()"
   ]
  },
  {
   "cell_type": "code",
   "execution_count": null,
   "metadata": {},
   "outputs": [],
   "source": [
    "print('Numero estimado de clusters: %d' % n_clusters_1)\n",
    "print('Numero estimado de puntos outliers: %d' % n_noise_1)"
   ]
  },
  {
   "cell_type": "code",
   "execution_count": null,
   "metadata": {},
   "outputs": [],
   "source": []
  }
 ],
 "metadata": {
  "kernelspec": {
   "display_name": "Python 3 (ipykernel)",
   "language": "python",
   "name": "python3"
  },
  "language_info": {
   "codemirror_mode": {
    "name": "ipython",
    "version": 3
   },
   "file_extension": ".py",
   "mimetype": "text/x-python",
   "name": "python",
   "nbconvert_exporter": "python",
   "pygments_lexer": "ipython3",
   "version": "3.11.5"
  }
 },
 "nbformat": 4,
 "nbformat_minor": 5
}
